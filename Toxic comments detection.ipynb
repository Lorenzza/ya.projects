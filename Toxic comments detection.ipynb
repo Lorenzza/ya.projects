{
 "cells": [
  {
   "cell_type": "markdown",
   "metadata": {},
   "source": [
    "<div class=\"alert alert-block alert-warning\">\n",
    "<b>Комментарий студента:</b> Артур, спасибо за проверку!!! И за допматериалы - всё унесла к себе, буду изучать. Я не справилась с bert - локально сейчас считает третий час и результата нет. Воспользуюсь твоим щедрым предложением идти дальше с текущей версией проекта - это проект жесткого дедлайна и без него не открывается теория. Спасибо!\n",
    "</div>"
   ]
  },
  {
   "cell_type": "markdown",
   "metadata": {},
   "source": [
    "### <font color='orange'>Общее впечатление (ревью 2)</font>\n",
    "* После исправлений проект улучшился и теперь он может быть зачтен.\n",
    "* Спасибо, что Обратила внимание на советы!\n",
    "* Только Артем, а не Артур :)\n",
    "* Удачи в дальнейшем обучении и следующих работах!"
   ]
  },
  {
   "cell_type": "markdown",
   "metadata": {
    "toc": true
   },
   "source": [
    "<h1>Содержание<span class=\"tocSkip\"></span></h1>\n",
    "<div class=\"toc\"><ul class=\"toc-item\"><li><ul class=\"toc-item\"><li><span><a href=\"#Общее-впечатление\" data-toc-modified-id=\"Общее-впечатление-0.1\"><span class=\"toc-item-num\">0.1&nbsp;&nbsp;</span><font color=\"orange\">Общее впечатление</font></a></span></li><li><span><a href=\"#Общее-впечатление-(ревью-2)\" data-toc-modified-id=\"Общее-впечатление-(ревью-2)-0.2\"><span class=\"toc-item-num\">0.2&nbsp;&nbsp;</span><font color=\"orange\">Общее впечатление (ревью 2)</font></a></span></li></ul></li><li><span><a href=\"#Подготовка\" data-toc-modified-id=\"Подготовка-1\"><span class=\"toc-item-num\">1&nbsp;&nbsp;</span>Подготовка</a></span></li><li><span><a href=\"#Обучение\" data-toc-modified-id=\"Обучение-2\"><span class=\"toc-item-num\">2&nbsp;&nbsp;</span>Обучение</a></span><ul class=\"toc-item\"><li><span><a href=\"#Сентимент-анализ-с-TF-IDF\" data-toc-modified-id=\"Сентимент-анализ-с-TF-IDF-2.1\"><span class=\"toc-item-num\">2.1&nbsp;&nbsp;</span>Сентимент-анализ с TF-IDF</a></span></li><li><span><a href=\"#F1\" data-toc-modified-id=\"F1-2.2\"><span class=\"toc-item-num\">2.2&nbsp;&nbsp;</span>F1</a></span></li><li><span><a href=\"#Дерево-решений\" data-toc-modified-id=\"Дерево-решений-2.3\"><span class=\"toc-item-num\">2.3&nbsp;&nbsp;</span>Дерево решений</a></span></li><li><span><a href=\"#Случайный-лес\" data-toc-modified-id=\"Случайный-лес-2.4\"><span class=\"toc-item-num\">2.4&nbsp;&nbsp;</span>Случайный лес</a></span></li><li><span><a href=\"#Линейная-регрессия\" data-toc-modified-id=\"Линейная-регрессия-2.5\"><span class=\"toc-item-num\">2.5&nbsp;&nbsp;</span>Линейная регрессия</a></span></li><li><span><a href=\"#Градиентный-бустинг-с-CatBoost\" data-toc-modified-id=\"Градиентный-бустинг-с-CatBoost-2.6\"><span class=\"toc-item-num\">2.6&nbsp;&nbsp;</span>Градиентный бустинг с CatBoost</a></span></li></ul></li><li><span><a href=\"#Тестирование\" data-toc-modified-id=\"Тестирование-3\"><span class=\"toc-item-num\">3&nbsp;&nbsp;</span>Тестирование</a></span></li><li><span><a href=\"#Выводы\" data-toc-modified-id=\"Выводы-4\"><span class=\"toc-item-num\">4&nbsp;&nbsp;</span>Выводы</a></span></li><li><span><a href=\"#Чек-лист-проверки\" data-toc-modified-id=\"Чек-лист-проверки-5\"><span class=\"toc-item-num\">5&nbsp;&nbsp;</span>Чек-лист проверки</a></span></li></ul></div>"
   ]
  },
  {
   "cell_type": "markdown",
   "metadata": {},
   "source": [
    "<div class=\"alert alert-info\"> <b>Комментарий студента:</b> Здравствуй, дорогой ревьювер! Этот проект стал для меня настоящим \"сыном ошибок трудных\". Вроде бы он не очень сложен и ничто не предвещало беды - но я сделала несколько досадных ошибок и на их поиски потратила 4 дня. А если учесть, что считает очень подолгу, ядро регулярно умирает, и на подбор ушло еще четыре, и я выбилась из графика окончательно - это так я объясняю, почему тут нет bert. Но я постараюсь её доделать и включить.   </div></font>"
   ]
  },
  {
   "cell_type": "markdown",
   "metadata": {},
   "source": [
    "# Проект для «Викишоп»"
   ]
  },
  {
   "cell_type": "markdown",
   "metadata": {},
   "source": [
    "Интернет-магазин «Викишоп» запускает новый сервис. Теперь пользователи могут редактировать и дополнять описания товаров, как в вики-сообществах. То есть клиенты предлагают свои правки и комментируют изменения других. Магазину нужен инструмент, который будет искать токсичные комментарии и отправлять их на модерацию. \n",
    "\n",
    "Обучите модель классифицировать комментарии на позитивные и негативные. В вашем распоряжении набор данных с разметкой о токсичности правок.\n",
    "\n",
    "Постройте модель со значением метрики качества *F1* не меньше 0.75. \n",
    "\n",
    "**Инструкция по выполнению проекта**\n",
    "\n",
    "1. Загрузите и подготовьте данные.\n",
    "2. Обучите разные модели. \n",
    "3. Сделайте выводы.\n",
    "\n",
    "Для выполнения проекта применять *BERT* необязательно, но вы можете попробовать.\n",
    "\n",
    "**Описание данных**\n",
    "\n",
    "Данные находятся в файле `toxic_comments.csv`. Столбец *text* в нём содержит текст комментария, а *toxic* — целевой признак."
   ]
  },
  {
   "cell_type": "markdown",
   "metadata": {},
   "source": [
    "## Подготовка"
   ]
  },
  {
   "cell_type": "markdown",
   "metadata": {},
   "source": [
    "Импортируем библиотеки:"
   ]
  },
  {
   "cell_type": "code",
   "execution_count": 63,
   "metadata": {
    "scrolled": true
   },
   "outputs": [
    {
     "name": "stderr",
     "output_type": "stream",
     "text": [
      "[nltk_data] Downloading package wordnet to /home/jovyan/nltk_data...\n",
      "[nltk_data]   Package wordnet is already up-to-date!\n",
      "[nltk_data] Downloading package averaged_perceptron_tagger to\n",
      "[nltk_data]     /home/jovyan/nltk_data...\n",
      "[nltk_data]   Package averaged_perceptron_tagger is already up-to-\n",
      "[nltk_data]       date!\n"
     ]
    }
   ],
   "source": [
    "import numpy as np\n",
    "import pandas as pd\n",
    "import torch\n",
    "import transformers\n",
    "import re\n",
    "import warnings\n",
    "\n",
    "from tqdm import notebook\n",
    "from sklearn.linear_model import LogisticRegression\n",
    "from sklearn.model_selection import cross_val_score\n",
    "from sklearn.model_selection import train_test_split\n",
    "from sklearn.feature_extraction.text import TfidfVectorizer\n",
    "from sklearn.metrics import f1_score\n",
    "from sklearn.metrics import make_scorer \n",
    "from sklearn.tree import DecisionTreeClassifier\n",
    "from sklearn.ensemble import RandomForestClassifier\n",
    "from sklearn.linear_model import LinearRegression\n",
    "from catboost import Pool, CatBoostClassifier, cv\n",
    "\n",
    "import nltk\n",
    "from nltk.corpus import stopwords\n",
    "nltk.download('wordnet')\n",
    "nltk.download('averaged_perceptron_tagger')\n",
    "nltk.download('punkt')\n",
    "nltk.download('omw-1.4')\n",
    "from nltk.stem import WordNetLemmatizer \n",
    "from nltk.corpus import wordnet\n",
    "from tqdm import notebook\n"
   ]
  },
  {
   "cell_type": "markdown",
   "metadata": {},
   "source": [
    "Скрытие предупреждений"
   ]
  },
  {
   "cell_type": "code",
   "execution_count": 64,
   "metadata": {},
   "outputs": [],
   "source": [
    "pd.options.mode.chained_assignment = None\n",
    "warnings.filterwarnings('ignore')"
   ]
  },
  {
   "cell_type": "markdown",
   "metadata": {},
   "source": [
    "Загрузка данных"
   ]
  },
  {
   "cell_type": "code",
   "execution_count": 66,
   "metadata": {},
   "outputs": [],
   "source": [
    "data = pd.read_csv('/datasets/toxic_comments.csv', index_col = [0])"
   ]
  },
  {
   "cell_type": "code",
   "execution_count": 67,
   "metadata": {},
   "outputs": [],
   "source": [
    "data.to_csv('toxic_comments.csv')"
   ]
  },
  {
   "cell_type": "markdown",
   "metadata": {},
   "source": [
    "Константы"
   ]
  },
  {
   "cell_type": "code",
   "execution_count": 4,
   "metadata": {},
   "outputs": [],
   "source": [
    "RANDOM_STATE = 12345"
   ]
  },
  {
   "cell_type": "code",
   "execution_count": 5,
   "metadata": {
    "scrolled": true
   },
   "outputs": [
    {
     "name": "stdout",
     "output_type": "stream",
     "text": [
      "<class 'pandas.core.frame.DataFrame'>\n",
      "Int64Index: 159292 entries, 0 to 159450\n",
      "Data columns (total 2 columns):\n",
      " #   Column  Non-Null Count   Dtype \n",
      "---  ------  --------------   ----- \n",
      " 0   text    159292 non-null  object\n",
      " 1   toxic   159292 non-null  int64 \n",
      "dtypes: int64(1), object(1)\n",
      "memory usage: 3.6+ MB\n"
     ]
    }
   ],
   "source": [
    "data.info()"
   ]
  },
  {
   "cell_type": "markdown",
   "metadata": {},
   "source": [
    "Таблица комментариев представлена двумя полностью заполненными столбцами. Наименования столбцов латиницей в нижнем регистре, имеют смысловую связь с содержанием. Столбец text содержит текст комментария, а toxic — целевой признак.  Был столбец, дублирующий индексы, переоткрыли правильно. Пропусков нет. Посмотрим на значения столбца toxic:"
   ]
  },
  {
   "cell_type": "code",
   "execution_count": 6,
   "metadata": {},
   "outputs": [
    {
     "data": {
      "text/plain": [
       "0    143106\n",
       "1     16186\n",
       "Name: toxic, dtype: int64"
      ]
     },
     "execution_count": 6,
     "metadata": {},
     "output_type": "execute_result"
    }
   ],
   "source": [
    "data['toxic'].value_counts()"
   ]
  },
  {
   "cell_type": "markdown",
   "metadata": {},
   "source": [
    "Интересно, а о чём пишут?"
   ]
  },
  {
   "cell_type": "code",
   "execution_count": 7,
   "metadata": {
    "scrolled": true
   },
   "outputs": [
    {
     "data": {
      "text/html": [
       "<div>\n",
       "<style scoped>\n",
       "    .dataframe tbody tr th:only-of-type {\n",
       "        vertical-align: middle;\n",
       "    }\n",
       "\n",
       "    .dataframe tbody tr th {\n",
       "        vertical-align: top;\n",
       "    }\n",
       "\n",
       "    .dataframe thead th {\n",
       "        text-align: right;\n",
       "    }\n",
       "</style>\n",
       "<table border=\"1\" class=\"dataframe\">\n",
       "  <thead>\n",
       "    <tr style=\"text-align: right;\">\n",
       "      <th></th>\n",
       "      <th>text</th>\n",
       "      <th>toxic</th>\n",
       "    </tr>\n",
       "  </thead>\n",
       "  <tbody>\n",
       "    <tr>\n",
       "      <th>6</th>\n",
       "      <td>COCKSUCKER BEFORE YOU PISS AROUND ON MY WORK</td>\n",
       "      <td>1</td>\n",
       "    </tr>\n",
       "    <tr>\n",
       "      <th>12</th>\n",
       "      <td>Hey... what is it..\\n@ | talk .\\nWhat is it......</td>\n",
       "      <td>1</td>\n",
       "    </tr>\n",
       "    <tr>\n",
       "      <th>16</th>\n",
       "      <td>Bye! \\n\\nDon't look, come or think of comming ...</td>\n",
       "      <td>1</td>\n",
       "    </tr>\n",
       "    <tr>\n",
       "      <th>42</th>\n",
       "      <td>You are gay or antisemmitian? \\n\\nArchangel WH...</td>\n",
       "      <td>1</td>\n",
       "    </tr>\n",
       "    <tr>\n",
       "      <th>43</th>\n",
       "      <td>FUCK YOUR FILTHY MOTHER IN THE ASS, DRY!</td>\n",
       "      <td>1</td>\n",
       "    </tr>\n",
       "  </tbody>\n",
       "</table>\n",
       "</div>"
      ],
      "text/plain": [
       "                                                 text  toxic\n",
       "6        COCKSUCKER BEFORE YOU PISS AROUND ON MY WORK      1\n",
       "12  Hey... what is it..\\n@ | talk .\\nWhat is it......      1\n",
       "16  Bye! \\n\\nDon't look, come or think of comming ...      1\n",
       "42  You are gay or antisemmitian? \\n\\nArchangel WH...      1\n",
       "43           FUCK YOUR FILTHY MOTHER IN THE ASS, DRY!      1"
      ]
     },
     "execution_count": 7,
     "metadata": {},
     "output_type": "execute_result"
    }
   ],
   "source": [
    "data[data['toxic'] == 1].head()"
   ]
  },
  {
   "cell_type": "markdown",
   "metadata": {},
   "source": [
    "Ой вэй... точно не про продукцию. А светлая сторона о чём?"
   ]
  },
  {
   "cell_type": "code",
   "execution_count": 8,
   "metadata": {
    "scrolled": true
   },
   "outputs": [
    {
     "data": {
      "text/html": [
       "<div>\n",
       "<style scoped>\n",
       "    .dataframe tbody tr th:only-of-type {\n",
       "        vertical-align: middle;\n",
       "    }\n",
       "\n",
       "    .dataframe tbody tr th {\n",
       "        vertical-align: top;\n",
       "    }\n",
       "\n",
       "    .dataframe thead th {\n",
       "        text-align: right;\n",
       "    }\n",
       "</style>\n",
       "<table border=\"1\" class=\"dataframe\">\n",
       "  <thead>\n",
       "    <tr style=\"text-align: right;\">\n",
       "      <th></th>\n",
       "      <th>text</th>\n",
       "      <th>toxic</th>\n",
       "    </tr>\n",
       "  </thead>\n",
       "  <tbody>\n",
       "    <tr>\n",
       "      <th>0</th>\n",
       "      <td>Explanation\\nWhy the edits made under my usern...</td>\n",
       "      <td>0</td>\n",
       "    </tr>\n",
       "    <tr>\n",
       "      <th>1</th>\n",
       "      <td>D'aww! He matches this background colour I'm s...</td>\n",
       "      <td>0</td>\n",
       "    </tr>\n",
       "    <tr>\n",
       "      <th>2</th>\n",
       "      <td>Hey man, I'm really not trying to edit war. It...</td>\n",
       "      <td>0</td>\n",
       "    </tr>\n",
       "    <tr>\n",
       "      <th>3</th>\n",
       "      <td>\"\\nMore\\nI can't make any real suggestions on ...</td>\n",
       "      <td>0</td>\n",
       "    </tr>\n",
       "    <tr>\n",
       "      <th>4</th>\n",
       "      <td>You, sir, are my hero. Any chance you remember...</td>\n",
       "      <td>0</td>\n",
       "    </tr>\n",
       "  </tbody>\n",
       "</table>\n",
       "</div>"
      ],
      "text/plain": [
       "                                                text  toxic\n",
       "0  Explanation\\nWhy the edits made under my usern...      0\n",
       "1  D'aww! He matches this background colour I'm s...      0\n",
       "2  Hey man, I'm really not trying to edit war. It...      0\n",
       "3  \"\\nMore\\nI can't make any real suggestions on ...      0\n",
       "4  You, sir, are my hero. Any chance you remember...      0"
      ]
     },
     "execution_count": 8,
     "metadata": {},
     "output_type": "execute_result"
    }
   ],
   "source": [
    "data[data['toxic'] == 0].head()"
   ]
  },
  {
   "cell_type": "markdown",
   "metadata": {},
   "source": [
    "Как-то даже не верится, что там что-то  о продукции - людям явно интереснее люди. Так, а какова доля негатива?"
   ]
  },
  {
   "cell_type": "code",
   "execution_count": 9,
   "metadata": {},
   "outputs": [
    {
     "data": {
      "text/plain": [
       "text     10.161213\n",
       "toxic    10.161213\n",
       "dtype: float64"
      ]
     },
     "execution_count": 9,
     "metadata": {},
     "output_type": "execute_result"
    }
   ],
   "source": [
    "data[data['toxic'] == 1].count() / data.shape[0]*100"
   ]
  },
  {
   "cell_type": "markdown",
   "metadata": {},
   "source": [
    "Десять процентов токсичных коментариев. Довольно умеренная жестокость. Сделаем её контролируемой."
   ]
  },
  {
   "cell_type": "markdown",
   "metadata": {},
   "source": [
    "**Вывод** Таблица комментариев представлена двумя полностью заполненными столбцами. Наименования столбцов латиницей в нижнем регистре, имеют смысловую связь с содержанием. Столбец text содержит текст комментария, а toxic — целевой признак. Пропусков нет. Данные готовы к обработке."
   ]
  },
  {
   "cell_type": "markdown",
   "metadata": {},
   "source": [
    "<div class=\"alert alert-block alert-success\">\n",
    "<b>Успех:</b> Данные загружены корреткно. Радует, что баланс классов был изучен.\n",
    "</div>"
   ]
  },
  {
   "cell_type": "markdown",
   "metadata": {},
   "source": [
    "## Обучение"
   ]
  },
  {
   "cell_type": "markdown",
   "metadata": {},
   "source": [
    "### Сентимент-анализ с TF-IDF"
   ]
  },
  {
   "cell_type": "markdown",
   "metadata": {},
   "source": [
    "Нам нужно определить тональность текста, и в нашем случае негативные комментарии уже помечены.\n"
   ]
  },
  {
   "cell_type": "code",
   "execution_count": 10,
   "metadata": {},
   "outputs": [],
   "source": [
    "#corpus = data['text'].values.astype('U')\n",
    "#corpus"
   ]
  },
  {
   "cell_type": "markdown",
   "metadata": {},
   "source": [
    "Произведем лемматизацию — приведение слова к начальной форме — лемме, учитывая, что у нас английский язык."
   ]
  },
  {
   "cell_type": "markdown",
   "metadata": {},
   "source": [
    "Чистим от лишних символов модулем re (сокр. от regular expressions):\n",
    "\n"
   ]
  },
  {
   "cell_type": "markdown",
   "metadata": {},
   "source": [
    "Создадим корпус: преобразуем столбец text в список текстов."
   ]
  },
  {
   "cell_type": "code",
   "execution_count": 11,
   "metadata": {},
   "outputs": [],
   "source": [
    "def clear_text(row):\n",
    "    cleared_text = re.sub(r'[^a-zA-Z]', ' ', row['text'])\n",
    "    cleared_text = \" \".join(cleared_text.split())\n",
    "    return cleared_text"
   ]
  },
  {
   "cell_type": "markdown",
   "metadata": {},
   "source": [
    "Удалаем лишние пробелы, применяя комбинацию функций join() и split(). Методом split() преобразуем этот текст в список. "
   ]
  },
  {
   "cell_type": "code",
   "execution_count": 12,
   "metadata": {},
   "outputs": [
    {
     "data": {
      "text/html": [
       "<div>\n",
       "<style scoped>\n",
       "    .dataframe tbody tr th:only-of-type {\n",
       "        vertical-align: middle;\n",
       "    }\n",
       "\n",
       "    .dataframe tbody tr th {\n",
       "        vertical-align: top;\n",
       "    }\n",
       "\n",
       "    .dataframe thead th {\n",
       "        text-align: right;\n",
       "    }\n",
       "</style>\n",
       "<table border=\"1\" class=\"dataframe\">\n",
       "  <thead>\n",
       "    <tr style=\"text-align: right;\">\n",
       "      <th></th>\n",
       "      <th>text</th>\n",
       "      <th>toxic</th>\n",
       "    </tr>\n",
       "  </thead>\n",
       "  <tbody>\n",
       "    <tr>\n",
       "      <th>0</th>\n",
       "      <td>Explanation Why the edits made under my userna...</td>\n",
       "      <td>0</td>\n",
       "    </tr>\n",
       "    <tr>\n",
       "      <th>1</th>\n",
       "      <td>D aww He matches this background colour I m se...</td>\n",
       "      <td>0</td>\n",
       "    </tr>\n",
       "    <tr>\n",
       "      <th>2</th>\n",
       "      <td>Hey man I m really not trying to edit war It s...</td>\n",
       "      <td>0</td>\n",
       "    </tr>\n",
       "    <tr>\n",
       "      <th>3</th>\n",
       "      <td>More I can t make any real suggestions on impr...</td>\n",
       "      <td>0</td>\n",
       "    </tr>\n",
       "    <tr>\n",
       "      <th>4</th>\n",
       "      <td>You sir are my hero Any chance you remember wh...</td>\n",
       "      <td>0</td>\n",
       "    </tr>\n",
       "  </tbody>\n",
       "</table>\n",
       "</div>"
      ],
      "text/plain": [
       "                                                text  toxic\n",
       "0  Explanation Why the edits made under my userna...      0\n",
       "1  D aww He matches this background colour I m se...      0\n",
       "2  Hey man I m really not trying to edit war It s...      0\n",
       "3  More I can t make any real suggestions on impr...      0\n",
       "4  You sir are my hero Any chance you remember wh...      0"
      ]
     },
     "execution_count": 12,
     "metadata": {},
     "output_type": "execute_result"
    }
   ],
   "source": [
    "#data = data.sample(400)\n",
    "data['text']= data.apply(clear_text, axis = 1)\n",
    "data.head()"
   ]
  },
  {
   "cell_type": "markdown",
   "metadata": {},
   "source": [
    "Чистейший текст. Может быть верхний апостроф нужно было оставить? Он смысловой...\n",
    "Переходим к лемматизации:"
   ]
  },
  {
   "cell_type": "code",
   "execution_count": 13,
   "metadata": {},
   "outputs": [],
   "source": [
    "lemmatizer = WordNetLemmatizer()\n",
    "def get_wordnet_pos(word):\n",
    "    tag = nltk.pos_tag([word])[0][1][0].upper()\n",
    "    tag_dict = {\"J\": wordnet.ADJ,\n",
    "                \"N\": wordnet.NOUN,\n",
    "                \"V\": wordnet.VERB,\n",
    "                \"R\": wordnet.ADV}\n",
    "    return tag_dict.get(tag, wordnet.NOUN)\n",
    "    \n",
    "    lemm_list = [lemmatizer.lemmatize(w, get_wordnet_pos(w)) for w in nltk.word_tokenize(sentence)]\n",
    "    lemm_text = \"\".join(lemm_list)\n",
    "        \n",
    "    return lemm_text\n",
    "\n",
    "def lemmatize(row):\n",
    "    sentence = row['text']\n",
    "    lemmas = \" \".join([lemmatizer.lemmatize(w, get_wordnet_pos(w)) for w in nltk.word_tokenize(sentence)])\n",
    "    return lemmas"
   ]
  },
  {
   "cell_type": "markdown",
   "metadata": {},
   "source": [
    "Применим функцию лемматизации к нашему столбцу текстов:"
   ]
  },
  {
   "cell_type": "code",
   "execution_count": 14,
   "metadata": {},
   "outputs": [
    {
     "data": {
      "text/html": [
       "<div>\n",
       "<style scoped>\n",
       "    .dataframe tbody tr th:only-of-type {\n",
       "        vertical-align: middle;\n",
       "    }\n",
       "\n",
       "    .dataframe tbody tr th {\n",
       "        vertical-align: top;\n",
       "    }\n",
       "\n",
       "    .dataframe thead th {\n",
       "        text-align: right;\n",
       "    }\n",
       "</style>\n",
       "<table border=\"1\" class=\"dataframe\">\n",
       "  <thead>\n",
       "    <tr style=\"text-align: right;\">\n",
       "      <th></th>\n",
       "      <th>text</th>\n",
       "      <th>toxic</th>\n",
       "    </tr>\n",
       "  </thead>\n",
       "  <tbody>\n",
       "    <tr>\n",
       "      <th>0</th>\n",
       "      <td>Explanation Why the edits make under my userna...</td>\n",
       "      <td>0</td>\n",
       "    </tr>\n",
       "    <tr>\n",
       "      <th>1</th>\n",
       "      <td>D aww He match this background colour I m seem...</td>\n",
       "      <td>0</td>\n",
       "    </tr>\n",
       "    <tr>\n",
       "      <th>2</th>\n",
       "      <td>Hey man I m really not try to edit war It s ju...</td>\n",
       "      <td>0</td>\n",
       "    </tr>\n",
       "    <tr>\n",
       "      <th>3</th>\n",
       "      <td>More I can t make any real suggestion on impro...</td>\n",
       "      <td>0</td>\n",
       "    </tr>\n",
       "    <tr>\n",
       "      <th>4</th>\n",
       "      <td>You sir be my hero Any chance you remember wha...</td>\n",
       "      <td>0</td>\n",
       "    </tr>\n",
       "  </tbody>\n",
       "</table>\n",
       "</div>"
      ],
      "text/plain": [
       "                                                text  toxic\n",
       "0  Explanation Why the edits make under my userna...      0\n",
       "1  D aww He match this background colour I m seem...      0\n",
       "2  Hey man I m really not try to edit war It s ju...      0\n",
       "3  More I can t make any real suggestion on impro...      0\n",
       "4  You sir be my hero Any chance you remember wha...      0"
      ]
     },
     "execution_count": 14,
     "metadata": {},
     "output_type": "execute_result"
    }
   ],
   "source": [
    "data['text']= data.apply(lemmatize, axis = 1)\n",
    "data.head()"
   ]
  },
  {
   "cell_type": "markdown",
   "metadata": {},
   "source": [
    "После этой операции в тексте можно обнаружить лишние пробелы, для анализа они — помеха. Пробелы устраняются комбинацией функций join(). Ещё раз очистим."
   ]
  },
  {
   "cell_type": "code",
   "execution_count": 15,
   "metadata": {
    "scrolled": true
   },
   "outputs": [
    {
     "data": {
      "text/html": [
       "<div>\n",
       "<style scoped>\n",
       "    .dataframe tbody tr th:only-of-type {\n",
       "        vertical-align: middle;\n",
       "    }\n",
       "\n",
       "    .dataframe tbody tr th {\n",
       "        vertical-align: top;\n",
       "    }\n",
       "\n",
       "    .dataframe thead th {\n",
       "        text-align: right;\n",
       "    }\n",
       "</style>\n",
       "<table border=\"1\" class=\"dataframe\">\n",
       "  <thead>\n",
       "    <tr style=\"text-align: right;\">\n",
       "      <th></th>\n",
       "      <th>text</th>\n",
       "      <th>toxic</th>\n",
       "    </tr>\n",
       "  </thead>\n",
       "  <tbody>\n",
       "    <tr>\n",
       "      <th>0</th>\n",
       "      <td>Explanation Why the edits make under my userna...</td>\n",
       "      <td>0</td>\n",
       "    </tr>\n",
       "    <tr>\n",
       "      <th>1</th>\n",
       "      <td>D aww He match this background colour I m seem...</td>\n",
       "      <td>0</td>\n",
       "    </tr>\n",
       "    <tr>\n",
       "      <th>2</th>\n",
       "      <td>Hey man I m really not try to edit war It s ju...</td>\n",
       "      <td>0</td>\n",
       "    </tr>\n",
       "    <tr>\n",
       "      <th>3</th>\n",
       "      <td>More I can t make any real suggestion on impro...</td>\n",
       "      <td>0</td>\n",
       "    </tr>\n",
       "    <tr>\n",
       "      <th>4</th>\n",
       "      <td>You sir be my hero Any chance you remember wha...</td>\n",
       "      <td>0</td>\n",
       "    </tr>\n",
       "  </tbody>\n",
       "</table>\n",
       "</div>"
      ],
      "text/plain": [
       "                                                text  toxic\n",
       "0  Explanation Why the edits make under my userna...      0\n",
       "1  D aww He match this background colour I m seem...      0\n",
       "2  Hey man I m really not try to edit war It s ju...      0\n",
       "3  More I can t make any real suggestion on impro...      0\n",
       "4  You sir be my hero Any chance you remember wha...      0"
      ]
     },
     "execution_count": 15,
     "metadata": {},
     "output_type": "execute_result"
    }
   ],
   "source": [
    "data['text']= data.apply(clear_text, axis = 1)\n",
    "data.head()"
   ]
  },
  {
   "cell_type": "markdown",
   "metadata": {},
   "source": [
    "TF IDF и линейная регрессия"
   ]
  },
  {
   "cell_type": "code",
   "execution_count": 16,
   "metadata": {},
   "outputs": [],
   "source": [
    "#corpus = data['lemm_text'].values.astype('U')\n"
   ]
  },
  {
   "cell_type": "markdown",
   "metadata": {},
   "source": [
    "Разбиваем датасет на признаки и целевой признак"
   ]
  },
  {
   "cell_type": "code",
   "execution_count": 17,
   "metadata": {},
   "outputs": [
    {
     "data": {
      "text/html": [
       "<div>\n",
       "<style scoped>\n",
       "    .dataframe tbody tr th:only-of-type {\n",
       "        vertical-align: middle;\n",
       "    }\n",
       "\n",
       "    .dataframe tbody tr th {\n",
       "        vertical-align: top;\n",
       "    }\n",
       "\n",
       "    .dataframe thead th {\n",
       "        text-align: right;\n",
       "    }\n",
       "</style>\n",
       "<table border=\"1\" class=\"dataframe\">\n",
       "  <thead>\n",
       "    <tr style=\"text-align: right;\">\n",
       "      <th></th>\n",
       "      <th>text</th>\n",
       "    </tr>\n",
       "  </thead>\n",
       "  <tbody>\n",
       "    <tr>\n",
       "      <th>0</th>\n",
       "      <td>Explanation Why the edits make under my userna...</td>\n",
       "    </tr>\n",
       "    <tr>\n",
       "      <th>1</th>\n",
       "      <td>D aww He match this background colour I m seem...</td>\n",
       "    </tr>\n",
       "    <tr>\n",
       "      <th>2</th>\n",
       "      <td>Hey man I m really not try to edit war It s ju...</td>\n",
       "    </tr>\n",
       "    <tr>\n",
       "      <th>3</th>\n",
       "      <td>More I can t make any real suggestion on impro...</td>\n",
       "    </tr>\n",
       "    <tr>\n",
       "      <th>4</th>\n",
       "      <td>You sir be my hero Any chance you remember wha...</td>\n",
       "    </tr>\n",
       "    <tr>\n",
       "      <th>...</th>\n",
       "      <td>...</td>\n",
       "    </tr>\n",
       "    <tr>\n",
       "      <th>159446</th>\n",
       "      <td>And for the second time of ask when your view ...</td>\n",
       "    </tr>\n",
       "    <tr>\n",
       "      <th>159447</th>\n",
       "      <td>You should be ashamed of yourself That be a ho...</td>\n",
       "    </tr>\n",
       "    <tr>\n",
       "      <th>159448</th>\n",
       "      <td>Spitzer Umm there no actual article for prosti...</td>\n",
       "    </tr>\n",
       "    <tr>\n",
       "      <th>159449</th>\n",
       "      <td>And it look like it be actually you who put on...</td>\n",
       "    </tr>\n",
       "    <tr>\n",
       "      <th>159450</th>\n",
       "      <td>And I really don t think you understand I come...</td>\n",
       "    </tr>\n",
       "  </tbody>\n",
       "</table>\n",
       "<p>159292 rows × 1 columns</p>\n",
       "</div>"
      ],
      "text/plain": [
       "                                                     text\n",
       "0       Explanation Why the edits make under my userna...\n",
       "1       D aww He match this background colour I m seem...\n",
       "2       Hey man I m really not try to edit war It s ju...\n",
       "3       More I can t make any real suggestion on impro...\n",
       "4       You sir be my hero Any chance you remember wha...\n",
       "...                                                   ...\n",
       "159446  And for the second time of ask when your view ...\n",
       "159447  You should be ashamed of yourself That be a ho...\n",
       "159448  Spitzer Umm there no actual article for prosti...\n",
       "159449  And it look like it be actually you who put on...\n",
       "159450  And I really don t think you understand I come...\n",
       "\n",
       "[159292 rows x 1 columns]"
      ]
     },
     "execution_count": 17,
     "metadata": {},
     "output_type": "execute_result"
    }
   ],
   "source": [
    "features = data.drop(['toxic'], axis=1)\n",
    "target = data['toxic']\n",
    "features"
   ]
  },
  {
   "cell_type": "code",
   "execution_count": 18,
   "metadata": {},
   "outputs": [
    {
     "data": {
      "text/html": [
       "<div>\n",
       "<style scoped>\n",
       "    .dataframe tbody tr th:only-of-type {\n",
       "        vertical-align: middle;\n",
       "    }\n",
       "\n",
       "    .dataframe tbody tr th {\n",
       "        vertical-align: top;\n",
       "    }\n",
       "\n",
       "    .dataframe thead th {\n",
       "        text-align: right;\n",
       "    }\n",
       "</style>\n",
       "<table border=\"1\" class=\"dataframe\">\n",
       "  <thead>\n",
       "    <tr style=\"text-align: right;\">\n",
       "      <th></th>\n",
       "      <th>text</th>\n",
       "    </tr>\n",
       "  </thead>\n",
       "  <tbody>\n",
       "    <tr>\n",
       "      <th>97494</th>\n",
       "      <td>Bushranger you re a GRASS with no sense of hum...</td>\n",
       "    </tr>\n",
       "    <tr>\n",
       "      <th>4383</th>\n",
       "      <td>Need administrative help I have be block iniqu...</td>\n",
       "    </tr>\n",
       "    <tr>\n",
       "      <th>103777</th>\n",
       "      <td>I d also like to point out that he have use a ...</td>\n",
       "    </tr>\n",
       "    <tr>\n",
       "      <th>38619</th>\n",
       "      <td>You cant block me you fuck retard BRB nigger</td>\n",
       "    </tr>\n",
       "    <tr>\n",
       "      <th>128443</th>\n",
       "      <td>I believe that the frequency of the wave need ...</td>\n",
       "    </tr>\n",
       "    <tr>\n",
       "      <th>...</th>\n",
       "      <td>...</td>\n",
       "    </tr>\n",
       "    <tr>\n",
       "      <th>110090</th>\n",
       "      <td>Hahaha I dont live in a lie like you and dont ...</td>\n",
       "    </tr>\n",
       "    <tr>\n",
       "      <th>85493</th>\n",
       "      <td>March March</td>\n",
       "    </tr>\n",
       "    <tr>\n",
       "      <th>133387</th>\n",
       "      <td>Agreed We really should try to stick to the su...</td>\n",
       "    </tr>\n",
       "    <tr>\n",
       "      <th>130469</th>\n",
       "      <td>Umm killer Do you not like that he copy your w...</td>\n",
       "    </tr>\n",
       "    <tr>\n",
       "      <th>77361</th>\n",
       "      <td>Bradford City I be remove unreferanced content</td>\n",
       "    </tr>\n",
       "  </tbody>\n",
       "</table>\n",
       "<p>127433 rows × 1 columns</p>\n",
       "</div>"
      ],
      "text/plain": [
       "                                                     text\n",
       "97494   Bushranger you re a GRASS with no sense of hum...\n",
       "4383    Need administrative help I have be block iniqu...\n",
       "103777  I d also like to point out that he have use a ...\n",
       "38619        You cant block me you fuck retard BRB nigger\n",
       "128443  I believe that the frequency of the wave need ...\n",
       "...                                                   ...\n",
       "110090  Hahaha I dont live in a lie like you and dont ...\n",
       "85493                                         March March\n",
       "133387  Agreed We really should try to stick to the su...\n",
       "130469  Umm killer Do you not like that he copy your w...\n",
       "77361      Bradford City I be remove unreferanced content\n",
       "\n",
       "[127433 rows x 1 columns]"
      ]
     },
     "execution_count": 18,
     "metadata": {},
     "output_type": "execute_result"
    }
   ],
   "source": [
    "corpus_train, corpus_test, target_train, target_test = train_test_split( features, target, test_size=0.2, random_state=RANDOM_STATE)\n",
    "corpus_train"
   ]
  },
  {
   "cell_type": "code",
   "execution_count": 19,
   "metadata": {
    "scrolled": true
   },
   "outputs": [
    {
     "name": "stdout",
     "output_type": "stream",
     "text": [
      "(127433, 139430)\n"
     ]
    },
    {
     "data": {
      "text/plain": [
       "<127433x139430 sparse matrix of type '<class 'numpy.float64'>'\n",
       "\twith 3360801 stored elements in Compressed Sparse Row format>"
      ]
     },
     "execution_count": 19,
     "metadata": {},
     "output_type": "execute_result"
    }
   ],
   "source": [
    "stopwords = set(stopwords.words('english'))\n",
    "\n",
    "count_tf_idf = TfidfVectorizer(stop_words=stopwords)\n",
    "\n",
    "tf_idf_train = count_tf_idf.fit_transform(corpus_train['text'])\n",
    "print(tf_idf_train.shape)\n",
    "tf_idf_train\n"
   ]
  },
  {
   "cell_type": "code",
   "execution_count": 20,
   "metadata": {},
   "outputs": [
    {
     "name": "stdout",
     "output_type": "stream",
     "text": [
      "(31859, 139430)\n"
     ]
    }
   ],
   "source": [
    "tf_idf_test = count_tf_idf.transform(corpus_test['text'])\n",
    "\n",
    "print(tf_idf_test.shape)"
   ]
  },
  {
   "cell_type": "code",
   "execution_count": 21,
   "metadata": {},
   "outputs": [],
   "source": [
    "model = LogisticRegression(random_state=12345, solver=\"lbfgs\")\n",
    "model.fit(tf_idf_train, target_train)\n",
    "pred_train = model.predict(tf_idf_train)\n"
   ]
  },
  {
   "cell_type": "code",
   "execution_count": 22,
   "metadata": {},
   "outputs": [
    {
     "data": {
      "text/plain": [
       "0.7593974507531865"
      ]
     },
     "execution_count": 22,
     "metadata": {},
     "output_type": "execute_result"
    }
   ],
   "source": [
    "f1_l_train = f1_score(target_train, pred_train)\n",
    "f1_l_train"
   ]
  },
  {
   "cell_type": "code",
   "execution_count": 23,
   "metadata": {},
   "outputs": [],
   "source": [
    "pred_test = model.predict(tf_idf_test)\n",
    "pred_test = pd.DataFrame(data=pred_test, columns=['toxic'])\n",
    "\n"
   ]
  },
  {
   "cell_type": "code",
   "execution_count": 24,
   "metadata": {},
   "outputs": [
    {
     "data": {
      "text/plain": [
       "0.7379039790771529"
      ]
     },
     "execution_count": 24,
     "metadata": {},
     "output_type": "execute_result"
    }
   ],
   "source": [
    "f1_l_test = f1_score(target_test, pred_test)\n",
    "f1_l_test"
   ]
  },
  {
   "cell_type": "markdown",
   "metadata": {},
   "source": [
    "### F1 "
   ]
  },
  {
   "cell_type": "code",
   "execution_count": 25,
   "metadata": {},
   "outputs": [],
   "source": [
    "from sklearn.metrics import make_scorer\n",
    "\n",
    "def f1_scor(target, predictions):\n",
    "    f1 = f1_score(target, predictions)\n",
    "    return f1\n",
    "\n",
    "f1_scorer = make_scorer(f1_scor, greater_is_better=True)\n"
   ]
  },
  {
   "cell_type": "markdown",
   "metadata": {},
   "source": [
    "### Дерево решений"
   ]
  },
  {
   "cell_type": "markdown",
   "metadata": {},
   "source": [
    "Первая модель  - дерево решений. Подберём глубину кросс-валидацией."
   ]
  },
  {
   "cell_type": "code",
   "execution_count": 32,
   "metadata": {
    "scrolled": true
   },
   "outputs": [
    {
     "name": "stdout",
     "output_type": "stream",
     "text": [
      "0.7185606973228214 151\n",
      "0.7200896722973104 181\n",
      "f1 наилучшей модели на обучающей выборке: 0.7200896722973104 Глубина дерева: 181\n"
     ]
    }
   ],
   "source": [
    "best_model = None\n",
    "best_cross_tr = 0\n",
    "best_depth = 0\n",
    "for depth in range(151, 262, 30): # Проверялся диапазон 1 351.\n",
    "    model_tr =  DecisionTreeClassifier(random_state=RANDOM_STATE, max_depth=depth) \n",
    "    model_tr.fit(tf_idf_train, target_train) \n",
    "    predictions_train = model_tr.predict(tf_idf_train) \n",
    "    cross = cross_val_score(model_tr, tf_idf_train, target_train, cv=5, scoring = f1_scorer)\n",
    "    if cross.mean()> best_cross_tr:\n",
    "        best_model = model_tr\n",
    "        best_cross_tr = cross.mean()\n",
    "        best_depth = depth\n",
    "        print(best_cross_tr,  depth)\n",
    "\n",
    "print(\"f1 наилучшей модели на обучающей выборке:\", best_cross_tr, \"Глубина дерева:\", best_depth)"
   ]
  },
  {
   "cell_type": "markdown",
   "metadata": {},
   "source": [
    "Перебор в диапазоне 1 - 61 показал:- 0.7027939952359202 61,\n",
    "0.7045398159782007 66,\n",
    "0.70484012064318 71,\n",
    "0.7072376798303114 76, \n",
    "0.7082912202428133 81, \n",
    "0.7094674015913008 86, \n",
    "0.7123389600870491 91,\n",
    "0.7166630772025926 111\n",
    "0.7184806097501119 116\n",
    "0.7189559351464924 121\n",
    "0.7118565811292771 351\n",
    "0.7185606973228214 151\n",
    "0.7200896722973104 181\n",
    "\n",
    "Лучший результат f1 на обучающей выборке: 0.7200896722973104 Глубина дерева: 181."
   ]
  },
  {
   "cell_type": "code",
   "execution_count": 33,
   "metadata": {
    "scrolled": true
   },
   "outputs": [
    {
     "name": "stdout",
     "output_type": "stream",
     "text": [
      "CPU times: user 1min 42s, sys: 293 ms, total: 1min 42s\n",
      "Wall time: 1min 42s\n"
     ]
    },
    {
     "data": {
      "text/plain": [
       "array([1, 0, 0, ..., 0, 0, 0])"
      ]
     },
     "execution_count": 33,
     "metadata": {},
     "output_type": "execute_result"
    }
   ],
   "source": [
    "%%time\n",
    "model_tr =  DecisionTreeClassifier(random_state=RANDOM_STATE, max_depth=181) # инициализируйте модель DecisionTreeClassifier с параметром random_state=12345 и max_depth=depth\n",
    "model_tr.fit(tf_idf_train, target_train) \n",
    "predictions_train = model_tr.predict(tf_idf_train) \n",
    "predictions_train"
   ]
  },
  {
   "cell_type": "markdown",
   "metadata": {},
   "source": [
    "Ограничения по времени у нас нет (упоминаю об этом, поскольку считает долго), получена приемлемая величина метрики f1 - 0,72 на кросс-валидации."
   ]
  },
  {
   "cell_type": "markdown",
   "metadata": {},
   "source": [
    "### Случайный лес"
   ]
  },
  {
   "cell_type": "markdown",
   "metadata": {},
   "source": [
    "Следующая модель  - случайный лес. Снова кросс-валидация."
   ]
  },
  {
   "cell_type": "code",
   "execution_count": 36,
   "metadata": {
    "scrolled": true
   },
   "outputs": [
    {
     "name": "stdout",
     "output_type": "stream",
     "text": [
      "0.630413936165651 36 351\n",
      "0.6347776503985033 36 361\n",
      "0.6347776503985033 Лучшие гиперпараметры: 36 361\n"
     ]
    }
   ],
   "source": [
    "best_model = None\n",
    "best_est = 0 \n",
    "best_depth = 0 \n",
    "best_cross_rfr = 0\n",
    "\n",
    "for est in range(36, 38, 3): #был диапазон (1, 45), сокращён до близкого к лучшим значениям\n",
    "    for depth in range(351,381, 10): #был диапазон (1, 451), сокращён до близкого к лучшим значениям\n",
    "\n",
    "        model_f = RandomForestClassifier(n_estimators=est, \n",
    "                                        max_depth=depth, \n",
    "                                        random_state=RANDOM_STATE,  \n",
    "                                        ) \n",
    "        model_f.fit(tf_idf_train, target_train)\n",
    "        prediction_f = model_f.predict(tf_idf_train)\n",
    "        cross_rfr = cross_val_score(model_f, tf_idf_train, target_train, cv=5, scoring = f1_scorer) \n",
    "        if  cross_rfr.mean()> best_cross_rfr:\n",
    "            best_est = est\n",
    "            best_depth = depth\n",
    "            best_cross_rfr = cross_rfr.mean()\n",
    "            best_model = model_f\n",
    "            print(cross_rfr.mean(), est, depth)\n",
    "print(best_cross_rfr, 'Лучшие гиперпараметры:', best_est,  best_depth)\n"
   ]
  },
  {
   "cell_type": "markdown",
   "metadata": {},
   "source": [
    "0.5274583282966828 30 210\n",
    "0.5365899775692459 30 220\n",
    "0.5499613482814882 30 230\n",
    "0.630413936165651 36 351\n",
    "0.6347776503985033 36 361"
   ]
  },
  {
   "cell_type": "markdown",
   "metadata": {},
   "source": [
    "Лучший средний результат f1 на кросс- валидации - 0.6347776503985033 Лучшие гиперпараметры модели случайный лес: n_estimators - 36,  max_depth - 361."
   ]
  },
  {
   "cell_type": "code",
   "execution_count": 37,
   "metadata": {},
   "outputs": [
    {
     "data": {
      "text/plain": [
       "RandomForestClassifier(max_depth=361, n_estimators=37, random_state=12345)"
      ]
     },
     "execution_count": 37,
     "metadata": {},
     "output_type": "execute_result"
    }
   ],
   "source": [
    "model_rfr = RandomForestClassifier(n_estimators=37,  max_depth=361,  random_state=RANDOM_STATE )\n",
    "model_rfr.fit(tf_idf_train, target_train)"
   ]
  },
  {
   "cell_type": "code",
   "execution_count": 38,
   "metadata": {},
   "outputs": [
    {
     "data": {
      "text/plain": [
       "array([1, 0, 0, ..., 0, 0, 0])"
      ]
     },
     "execution_count": 38,
     "metadata": {},
     "output_type": "execute_result"
    }
   ],
   "source": [
    "predictions_rfr = model_rfr.predict(tf_idf_train)\n",
    "\n",
    "predictions_rfr"
   ]
  },
  {
   "cell_type": "markdown",
   "metadata": {},
   "source": [
    "### Линейная регрессия"
   ]
  },
  {
   "cell_type": "markdown",
   "metadata": {},
   "source": [
    "Двигаемся дальше, следующая по плану - линейная регрессия."
   ]
  },
  {
   "cell_type": "code",
   "execution_count": 42,
   "metadata": {},
   "outputs": [],
   "source": [
    "model_l = LogisticRegression(max_iter=500, \n",
    "                           C=0.1, \n",
    "                           solver='lbfgs', \n",
    "                           n_jobs=-1, \n",
    "                           random_state=RANDOM_STATE, \n",
    "                           class_weight='balanced')"
   ]
  },
  {
   "cell_type": "code",
   "execution_count": 43,
   "metadata": {},
   "outputs": [
    {
     "data": {
      "text/plain": [
       "LogisticRegression(C=0.1, class_weight='balanced', max_iter=500, n_jobs=-1,\n",
       "                   random_state=12345)"
      ]
     },
     "execution_count": 43,
     "metadata": {},
     "output_type": "execute_result"
    }
   ],
   "source": [
    "model_l.fit(tf_idf_train, target_train)"
   ]
  },
  {
   "cell_type": "code",
   "execution_count": 44,
   "metadata": {},
   "outputs": [
    {
     "name": "stdout",
     "output_type": "stream",
     "text": [
      "F1, кросс-валидация: 0.7003074790682955\n"
     ]
    }
   ],
   "source": [
    "predictions_train_l = model_l.predict(tf_idf_train) # получим предсказания модели на тренировочной выборке\n",
    "cross_l = cross_val_score(model_l, tf_idf_train, target_train, cv=5, scoring = f1_scorer) \n",
    "\n",
    "print(\"F1, кросс-валидация:\", cross_l.mean())\n"
   ]
  },
  {
   "cell_type": "code",
   "execution_count": 45,
   "metadata": {},
   "outputs": [
    {
     "data": {
      "text/plain": [
       "0"
      ]
     },
     "execution_count": 45,
     "metadata": {},
     "output_type": "execute_result"
    }
   ],
   "source": [
    "predictions_train_l.min()"
   ]
  },
  {
   "cell_type": "code",
   "execution_count": 46,
   "metadata": {},
   "outputs": [
    {
     "data": {
      "text/plain": [
       "1"
      ]
     },
     "execution_count": 46,
     "metadata": {},
     "output_type": "execute_result"
    }
   ],
   "source": [
    "predictions_train_l.max()"
   ]
  },
  {
   "cell_type": "code",
   "execution_count": null,
   "metadata": {
    "scrolled": true
   },
   "outputs": [],
   "source": [
    "#predictions_train_l = pd.DataFrame(predictions_train_l, columns=['toxic']) \n",
    "#predictions_train_l"
   ]
  },
  {
   "cell_type": "markdown",
   "metadata": {},
   "source": [
    "### Градиентный бустинг с CatBoost"
   ]
  },
  {
   "cell_type": "code",
   "execution_count": 53,
   "metadata": {},
   "outputs": [
    {
     "name": "stderr",
     "output_type": "stream",
     "text": [
      "Custom logger is already specified. Specify more than one logger at same time is not thread safe."
     ]
    },
    {
     "data": {
      "application/vnd.jupyter.widget-view+json": {
       "model_id": "5b8adc40d9fe47638f24dc39dfe91043",
       "version_major": 2,
       "version_minor": 0
      },
      "text/plain": [
       "MetricVisualizer(layout=Layout(align_self='stretch', height='500px'))"
      ]
     },
     "metadata": {},
     "output_type": "display_data"
    },
    {
     "name": "stdout",
     "output_type": "stream",
     "text": [
      "Learning rate set to 0.246246\n",
      "0:\tlearn: 0.4783848\ttotal: 3.19s\tremaining: 15m 53s\n",
      "10:\tlearn: 0.2126400\ttotal: 25.5s\tremaining: 11m 8s\n",
      "20:\tlearn: 0.1887209\ttotal: 46.5s\tremaining: 10m 17s\n",
      "30:\tlearn: 0.1766898\ttotal: 1m 7s\tremaining: 9m 49s\n",
      "40:\tlearn: 0.1680734\ttotal: 1m 29s\tremaining: 9m 22s\n",
      "50:\tlearn: 0.1613705\ttotal: 1m 49s\tremaining: 8m 55s\n",
      "60:\tlearn: 0.1550557\ttotal: 2m 10s\tremaining: 8m 32s\n",
      "70:\tlearn: 0.1509122\ttotal: 2m 31s\tremaining: 8m 8s\n",
      "80:\tlearn: 0.1471269\ttotal: 2m 52s\tremaining: 7m 46s\n",
      "90:\tlearn: 0.1433277\ttotal: 3m 14s\tremaining: 7m 27s\n",
      "100:\tlearn: 0.1404027\ttotal: 3m 34s\tremaining: 7m 3s\n",
      "110:\tlearn: 0.1375419\ttotal: 3m 55s\tremaining: 6m 41s\n",
      "120:\tlearn: 0.1350952\ttotal: 4m 16s\tremaining: 6m 20s\n",
      "130:\tlearn: 0.1332454\ttotal: 4m 37s\tremaining: 5m 57s\n",
      "140:\tlearn: 0.1311162\ttotal: 4m 58s\tremaining: 5m 36s\n",
      "150:\tlearn: 0.1289473\ttotal: 5m 19s\tremaining: 5m 15s\n",
      "160:\tlearn: 0.1270528\ttotal: 5m 40s\tremaining: 4m 54s\n",
      "170:\tlearn: 0.1254366\ttotal: 6m\tremaining: 4m 32s\n",
      "180:\tlearn: 0.1239790\ttotal: 6m 20s\tremaining: 4m 10s\n",
      "190:\tlearn: 0.1221685\ttotal: 6m 41s\tremaining: 3m 48s\n",
      "200:\tlearn: 0.1208916\ttotal: 7m 1s\tremaining: 3m 27s\n",
      "210:\tlearn: 0.1196486\ttotal: 7m 21s\tremaining: 3m 6s\n",
      "220:\tlearn: 0.1184937\ttotal: 7m 40s\tremaining: 2m 44s\n",
      "230:\tlearn: 0.1177152\ttotal: 8m\tremaining: 2m 23s\n",
      "240:\tlearn: 0.1164881\ttotal: 8m 20s\tremaining: 2m 2s\n",
      "250:\tlearn: 0.1154790\ttotal: 8m 40s\tremaining: 1m 41s\n",
      "260:\tlearn: 0.1144176\ttotal: 9m\tremaining: 1m 20s\n",
      "270:\tlearn: 0.1133803\ttotal: 9m 20s\tremaining: 1m\n",
      "280:\tlearn: 0.1123413\ttotal: 9m 40s\tremaining: 39.3s\n",
      "290:\tlearn: 0.1115075\ttotal: 10m\tremaining: 18.6s\n",
      "299:\tlearn: 0.1105397\ttotal: 10m 18s\tremaining: 0us\n"
     ]
    },
    {
     "data": {
      "text/plain": [
       "<catboost.core.CatBoostClassifier at 0x7f01f6d0b7c0>"
      ]
     },
     "execution_count": 53,
     "metadata": {},
     "output_type": "execute_result"
    }
   ],
   "source": [
    "model_cat = CatBoostClassifier(random_state=RANDOM_STATE,  loss_function='Logloss', iterations=300)\n",
    "model_cat.fit(tf_idf_train, target_train,verbose=10, plot=True)"
   ]
  },
  {
   "cell_type": "code",
   "execution_count": 54,
   "metadata": {
    "scrolled": true
   },
   "outputs": [
    {
     "name": "stdout",
     "output_type": "stream",
     "text": [
      "Learning rate set to 0.223866\n",
      "0:\tlearn: 0.4869524\ttotal: 2.36s\tremaining: 11m 45s\n",
      "1:\tlearn: 0.3750135\ttotal: 4.2s\tremaining: 10m 26s\n",
      "2:\tlearn: 0.3135108\ttotal: 6.01s\tremaining: 9m 55s\n",
      "3:\tlearn: 0.2778402\ttotal: 7.81s\tremaining: 9m 37s\n",
      "4:\tlearn: 0.2552028\ttotal: 9.6s\tremaining: 9m 26s\n",
      "5:\tlearn: 0.2420909\ttotal: 11.4s\tremaining: 9m 19s\n",
      "6:\tlearn: 0.2333580\ttotal: 13.2s\tremaining: 9m 11s\n",
      "7:\tlearn: 0.2271543\ttotal: 15s\tremaining: 9m 6s\n",
      "8:\tlearn: 0.2211772\ttotal: 16.8s\tremaining: 9m 1s\n",
      "9:\tlearn: 0.2172942\ttotal: 18.7s\tremaining: 9m 1s\n",
      "10:\tlearn: 0.2136719\ttotal: 20.4s\tremaining: 8m 57s\n",
      "11:\tlearn: 0.2105311\ttotal: 22.2s\tremaining: 8m 52s\n",
      "12:\tlearn: 0.2072362\ttotal: 23.9s\tremaining: 8m 47s\n",
      "13:\tlearn: 0.2041333\ttotal: 25.8s\tremaining: 8m 46s\n",
      "14:\tlearn: 0.2017173\ttotal: 27.6s\tremaining: 8m 43s\n",
      "15:\tlearn: 0.1996930\ttotal: 29.3s\tremaining: 8m 40s\n",
      "16:\tlearn: 0.1981417\ttotal: 31.2s\tremaining: 8m 38s\n",
      "17:\tlearn: 0.1956622\ttotal: 33s\tremaining: 8m 36s\n",
      "18:\tlearn: 0.1939199\ttotal: 34.8s\tremaining: 8m 34s\n",
      "19:\tlearn: 0.1925158\ttotal: 36.6s\tremaining: 8m 32s\n",
      "20:\tlearn: 0.1910180\ttotal: 38.4s\tremaining: 8m 29s\n",
      "21:\tlearn: 0.1897362\ttotal: 40.1s\tremaining: 8m 26s\n",
      "22:\tlearn: 0.1883528\ttotal: 41.9s\tremaining: 8m 25s\n",
      "23:\tlearn: 0.1872658\ttotal: 43.7s\tremaining: 8m 22s\n",
      "24:\tlearn: 0.1855893\ttotal: 45.5s\tremaining: 8m 20s\n",
      "25:\tlearn: 0.1837629\ttotal: 47.3s\tremaining: 8m 18s\n",
      "26:\tlearn: 0.1826597\ttotal: 48.9s\tremaining: 8m 14s\n",
      "27:\tlearn: 0.1814984\ttotal: 50.7s\tremaining: 8m 12s\n",
      "28:\tlearn: 0.1806112\ttotal: 52.4s\tremaining: 8m 9s\n",
      "29:\tlearn: 0.1794220\ttotal: 54s\tremaining: 8m 6s\n",
      "30:\tlearn: 0.1786400\ttotal: 55.8s\tremaining: 8m 3s\n",
      "31:\tlearn: 0.1777546\ttotal: 57.5s\tremaining: 8m 1s\n",
      "32:\tlearn: 0.1767912\ttotal: 59.3s\tremaining: 7m 59s\n",
      "33:\tlearn: 0.1759806\ttotal: 1m 1s\tremaining: 7m 57s\n",
      "34:\tlearn: 0.1751616\ttotal: 1m 2s\tremaining: 7m 55s\n",
      "35:\tlearn: 0.1743772\ttotal: 1m 4s\tremaining: 7m 53s\n",
      "36:\tlearn: 0.1731041\ttotal: 1m 6s\tremaining: 7m 52s\n",
      "37:\tlearn: 0.1723826\ttotal: 1m 8s\tremaining: 7m 50s\n",
      "38:\tlearn: 0.1717515\ttotal: 1m 9s\tremaining: 7m 47s\n",
      "39:\tlearn: 0.1706375\ttotal: 1m 11s\tremaining: 7m 46s\n",
      "40:\tlearn: 0.1696715\ttotal: 1m 13s\tremaining: 7m 44s\n",
      "41:\tlearn: 0.1690441\ttotal: 1m 15s\tremaining: 7m 42s\n",
      "42:\tlearn: 0.1683120\ttotal: 1m 17s\tremaining: 7m 40s\n",
      "43:\tlearn: 0.1677486\ttotal: 1m 18s\tremaining: 7m 38s\n",
      "44:\tlearn: 0.1670353\ttotal: 1m 20s\tremaining: 7m 36s\n",
      "45:\tlearn: 0.1664240\ttotal: 1m 22s\tremaining: 7m 33s\n",
      "46:\tlearn: 0.1659529\ttotal: 1m 23s\tremaining: 7m 31s\n",
      "47:\tlearn: 0.1651912\ttotal: 1m 25s\tremaining: 7m 29s\n",
      "48:\tlearn: 0.1644575\ttotal: 1m 27s\tremaining: 7m 27s\n",
      "49:\tlearn: 0.1639056\ttotal: 1m 29s\tremaining: 7m 25s\n",
      "50:\tlearn: 0.1632807\ttotal: 1m 30s\tremaining: 7m 23s\n",
      "51:\tlearn: 0.1628502\ttotal: 1m 32s\tremaining: 7m 22s\n",
      "52:\tlearn: 0.1621963\ttotal: 1m 34s\tremaining: 7m 20s\n",
      "53:\tlearn: 0.1617147\ttotal: 1m 36s\tremaining: 7m 18s\n",
      "54:\tlearn: 0.1611703\ttotal: 1m 37s\tremaining: 7m 16s\n",
      "55:\tlearn: 0.1607096\ttotal: 1m 39s\tremaining: 7m 13s\n",
      "56:\tlearn: 0.1602540\ttotal: 1m 41s\tremaining: 7m 11s\n",
      "57:\tlearn: 0.1596367\ttotal: 1m 42s\tremaining: 7m 9s\n",
      "58:\tlearn: 0.1588152\ttotal: 1m 44s\tremaining: 7m 6s\n",
      "59:\tlearn: 0.1582771\ttotal: 1m 46s\tremaining: 7m 4s\n",
      "60:\tlearn: 0.1578505\ttotal: 1m 47s\tremaining: 7m 2s\n",
      "61:\tlearn: 0.1573988\ttotal: 1m 49s\tremaining: 6m 59s\n",
      "62:\tlearn: 0.1568790\ttotal: 1m 51s\tremaining: 6m 58s\n",
      "63:\tlearn: 0.1564675\ttotal: 1m 52s\tremaining: 6m 55s\n",
      "64:\tlearn: 0.1560220\ttotal: 1m 54s\tremaining: 6m 53s\n",
      "65:\tlearn: 0.1553498\ttotal: 1m 56s\tremaining: 6m 51s\n",
      "66:\tlearn: 0.1549249\ttotal: 1m 57s\tremaining: 6m 49s\n",
      "67:\tlearn: 0.1544569\ttotal: 1m 59s\tremaining: 6m 47s\n",
      "68:\tlearn: 0.1538957\ttotal: 2m 1s\tremaining: 6m 46s\n",
      "69:\tlearn: 0.1531843\ttotal: 2m 3s\tremaining: 6m 44s\n",
      "70:\tlearn: 0.1527952\ttotal: 2m 4s\tremaining: 6m 42s\n",
      "71:\tlearn: 0.1522816\ttotal: 2m 6s\tremaining: 6m 40s\n",
      "72:\tlearn: 0.1517273\ttotal: 2m 8s\tremaining: 6m 38s\n",
      "73:\tlearn: 0.1514363\ttotal: 2m 9s\tremaining: 6m 36s\n",
      "74:\tlearn: 0.1509713\ttotal: 2m 11s\tremaining: 6m 35s\n",
      "75:\tlearn: 0.1505454\ttotal: 2m 13s\tremaining: 6m 33s\n",
      "76:\tlearn: 0.1500513\ttotal: 2m 15s\tremaining: 6m 32s\n",
      "77:\tlearn: 0.1496239\ttotal: 2m 17s\tremaining: 6m 30s\n",
      "78:\tlearn: 0.1490210\ttotal: 2m 19s\tremaining: 6m 29s\n",
      "79:\tlearn: 0.1484025\ttotal: 2m 20s\tremaining: 6m 27s\n",
      "80:\tlearn: 0.1481053\ttotal: 2m 22s\tremaining: 6m 25s\n",
      "81:\tlearn: 0.1477036\ttotal: 2m 24s\tremaining: 6m 23s\n",
      "82:\tlearn: 0.1474074\ttotal: 2m 26s\tremaining: 6m 21s\n",
      "83:\tlearn: 0.1470036\ttotal: 2m 27s\tremaining: 6m 20s\n",
      "84:\tlearn: 0.1467834\ttotal: 2m 29s\tremaining: 6m 18s\n",
      "85:\tlearn: 0.1462485\ttotal: 2m 31s\tremaining: 6m 16s\n",
      "86:\tlearn: 0.1459417\ttotal: 2m 33s\tremaining: 6m 14s\n",
      "87:\tlearn: 0.1454697\ttotal: 2m 34s\tremaining: 6m 12s\n",
      "88:\tlearn: 0.1450027\ttotal: 2m 36s\tremaining: 6m 10s\n",
      "89:\tlearn: 0.1445537\ttotal: 2m 38s\tremaining: 6m 9s\n",
      "90:\tlearn: 0.1443391\ttotal: 2m 39s\tremaining: 6m 7s\n",
      "91:\tlearn: 0.1440016\ttotal: 2m 41s\tremaining: 6m 5s\n",
      "92:\tlearn: 0.1436214\ttotal: 2m 43s\tremaining: 6m 3s\n",
      "93:\tlearn: 0.1433783\ttotal: 2m 44s\tremaining: 6m 1s\n",
      "94:\tlearn: 0.1431721\ttotal: 2m 46s\tremaining: 5m 59s\n",
      "95:\tlearn: 0.1428798\ttotal: 2m 48s\tremaining: 5m 57s\n",
      "96:\tlearn: 0.1427021\ttotal: 2m 49s\tremaining: 5m 55s\n",
      "97:\tlearn: 0.1424190\ttotal: 2m 51s\tremaining: 5m 53s\n",
      "98:\tlearn: 0.1422410\ttotal: 2m 52s\tremaining: 5m 51s\n",
      "99:\tlearn: 0.1418797\ttotal: 2m 54s\tremaining: 5m 49s\n",
      "100:\tlearn: 0.1414416\ttotal: 2m 56s\tremaining: 5m 47s\n",
      "101:\tlearn: 0.1412377\ttotal: 2m 57s\tremaining: 5m 45s\n",
      "102:\tlearn: 0.1410412\ttotal: 2m 59s\tremaining: 5m 43s\n",
      "103:\tlearn: 0.1408497\ttotal: 3m 1s\tremaining: 5m 41s\n",
      "104:\tlearn: 0.1404199\ttotal: 3m 3s\tremaining: 5m 39s\n",
      "105:\tlearn: 0.1400103\ttotal: 3m 4s\tremaining: 5m 38s\n",
      "106:\tlearn: 0.1397695\ttotal: 3m 6s\tremaining: 5m 36s\n",
      "107:\tlearn: 0.1395701\ttotal: 3m 8s\tremaining: 5m 34s\n",
      "108:\tlearn: 0.1392424\ttotal: 3m 10s\tremaining: 5m 33s\n",
      "109:\tlearn: 0.1389290\ttotal: 3m 11s\tremaining: 5m 31s\n",
      "110:\tlearn: 0.1387711\ttotal: 3m 13s\tremaining: 5m 29s\n",
      "111:\tlearn: 0.1385994\ttotal: 3m 15s\tremaining: 5m 27s\n",
      "112:\tlearn: 0.1383644\ttotal: 3m 16s\tremaining: 5m 25s\n",
      "113:\tlearn: 0.1379573\ttotal: 3m 18s\tremaining: 5m 24s\n",
      "114:\tlearn: 0.1375226\ttotal: 3m 20s\tremaining: 5m 22s\n",
      "115:\tlearn: 0.1372388\ttotal: 3m 22s\tremaining: 5m 20s\n",
      "116:\tlearn: 0.1370805\ttotal: 3m 23s\tremaining: 5m 18s\n",
      "117:\tlearn: 0.1369134\ttotal: 3m 25s\tremaining: 5m 16s\n",
      "118:\tlearn: 0.1367620\ttotal: 3m 26s\tremaining: 5m 14s\n",
      "119:\tlearn: 0.1366222\ttotal: 3m 28s\tremaining: 5m 12s\n",
      "120:\tlearn: 0.1363261\ttotal: 3m 30s\tremaining: 5m 11s\n",
      "121:\tlearn: 0.1361788\ttotal: 3m 32s\tremaining: 5m 9s\n",
      "122:\tlearn: 0.1360562\ttotal: 3m 33s\tremaining: 5m 7s\n",
      "123:\tlearn: 0.1358376\ttotal: 3m 35s\tremaining: 5m 5s\n",
      "124:\tlearn: 0.1355654\ttotal: 3m 37s\tremaining: 5m 3s\n",
      "125:\tlearn: 0.1352687\ttotal: 3m 38s\tremaining: 5m 2s\n",
      "126:\tlearn: 0.1350448\ttotal: 3m 40s\tremaining: 5m\n",
      "127:\tlearn: 0.1346538\ttotal: 3m 42s\tremaining: 4m 58s\n",
      "128:\tlearn: 0.1345288\ttotal: 3m 44s\tremaining: 4m 57s\n",
      "129:\tlearn: 0.1341363\ttotal: 3m 46s\tremaining: 4m 55s\n",
      "130:\tlearn: 0.1339987\ttotal: 3m 47s\tremaining: 4m 53s\n",
      "131:\tlearn: 0.1337191\ttotal: 3m 49s\tremaining: 4m 51s\n",
      "132:\tlearn: 0.1335754\ttotal: 3m 50s\tremaining: 4m 49s\n",
      "133:\tlearn: 0.1334205\ttotal: 3m 52s\tremaining: 4m 47s\n",
      "134:\tlearn: 0.1331488\ttotal: 3m 54s\tremaining: 4m 46s\n",
      "135:\tlearn: 0.1329075\ttotal: 3m 55s\tremaining: 4m 44s\n",
      "136:\tlearn: 0.1325442\ttotal: 3m 57s\tremaining: 4m 42s\n",
      "137:\tlearn: 0.1324179\ttotal: 3m 59s\tremaining: 4m 40s\n",
      "138:\tlearn: 0.1322189\ttotal: 4m\tremaining: 4m 39s\n",
      "139:\tlearn: 0.1320879\ttotal: 4m 2s\tremaining: 4m 37s\n",
      "140:\tlearn: 0.1318512\ttotal: 4m 4s\tremaining: 4m 35s\n",
      "141:\tlearn: 0.1315783\ttotal: 4m 5s\tremaining: 4m 33s\n",
      "142:\tlearn: 0.1313523\ttotal: 4m 7s\tremaining: 4m 31s\n",
      "143:\tlearn: 0.1312421\ttotal: 4m 9s\tremaining: 4m 29s\n",
      "144:\tlearn: 0.1311062\ttotal: 4m 10s\tremaining: 4m 28s\n",
      "145:\tlearn: 0.1309327\ttotal: 4m 12s\tremaining: 4m 26s\n",
      "146:\tlearn: 0.1306806\ttotal: 4m 14s\tremaining: 4m 24s\n",
      "147:\tlearn: 0.1304446\ttotal: 4m 15s\tremaining: 4m 22s\n",
      "148:\tlearn: 0.1302391\ttotal: 4m 17s\tremaining: 4m 21s\n",
      "149:\tlearn: 0.1301383\ttotal: 4m 19s\tremaining: 4m 19s\n",
      "150:\tlearn: 0.1300262\ttotal: 4m 20s\tremaining: 4m 17s\n",
      "151:\tlearn: 0.1298692\ttotal: 4m 22s\tremaining: 4m 15s\n",
      "152:\tlearn: 0.1296884\ttotal: 4m 24s\tremaining: 4m 13s\n",
      "153:\tlearn: 0.1295833\ttotal: 4m 25s\tremaining: 4m 11s\n",
      "154:\tlearn: 0.1294797\ttotal: 4m 27s\tremaining: 4m 10s\n",
      "155:\tlearn: 0.1292654\ttotal: 4m 29s\tremaining: 4m 8s\n",
      "156:\tlearn: 0.1291626\ttotal: 4m 30s\tremaining: 4m 6s\n",
      "157:\tlearn: 0.1290546\ttotal: 4m 32s\tremaining: 4m 4s\n",
      "158:\tlearn: 0.1289372\ttotal: 4m 34s\tremaining: 4m 3s\n",
      "159:\tlearn: 0.1287015\ttotal: 4m 35s\tremaining: 4m 1s\n",
      "160:\tlearn: 0.1285883\ttotal: 4m 37s\tremaining: 3m 59s\n",
      "161:\tlearn: 0.1283479\ttotal: 4m 39s\tremaining: 3m 57s\n",
      "162:\tlearn: 0.1281487\ttotal: 4m 40s\tremaining: 3m 56s\n",
      "163:\tlearn: 0.1280557\ttotal: 4m 42s\tremaining: 3m 54s\n",
      "164:\tlearn: 0.1278250\ttotal: 4m 44s\tremaining: 3m 52s\n",
      "165:\tlearn: 0.1275595\ttotal: 4m 45s\tremaining: 3m 50s\n",
      "166:\tlearn: 0.1274494\ttotal: 4m 47s\tremaining: 3m 48s\n",
      "167:\tlearn: 0.1273216\ttotal: 4m 48s\tremaining: 3m 47s\n",
      "168:\tlearn: 0.1270357\ttotal: 4m 50s\tremaining: 3m 45s\n",
      "169:\tlearn: 0.1268013\ttotal: 4m 52s\tremaining: 3m 43s\n",
      "170:\tlearn: 0.1265575\ttotal: 4m 54s\tremaining: 3m 41s\n",
      "171:\tlearn: 0.1264340\ttotal: 4m 55s\tremaining: 3m 39s\n",
      "172:\tlearn: 0.1261401\ttotal: 4m 57s\tremaining: 3m 38s\n",
      "173:\tlearn: 0.1259046\ttotal: 4m 59s\tremaining: 3m 36s\n",
      "174:\tlearn: 0.1257261\ttotal: 5m\tremaining: 3m 34s\n",
      "175:\tlearn: 0.1255454\ttotal: 5m 2s\tremaining: 3m 33s\n",
      "176:\tlearn: 0.1252762\ttotal: 5m 4s\tremaining: 3m 31s\n",
      "177:\tlearn: 0.1251897\ttotal: 5m 6s\tremaining: 3m 29s\n",
      "178:\tlearn: 0.1250977\ttotal: 5m 7s\tremaining: 3m 27s\n",
      "179:\tlearn: 0.1250067\ttotal: 5m 9s\tremaining: 3m 26s\n",
      "180:\tlearn: 0.1248604\ttotal: 5m 11s\tremaining: 3m 24s\n",
      "181:\tlearn: 0.1246436\ttotal: 5m 12s\tremaining: 3m 22s\n",
      "182:\tlearn: 0.1244620\ttotal: 5m 14s\tremaining: 3m 21s\n",
      "183:\tlearn: 0.1242577\ttotal: 5m 16s\tremaining: 3m 19s\n",
      "184:\tlearn: 0.1241695\ttotal: 5m 18s\tremaining: 3m 17s\n",
      "185:\tlearn: 0.1240849\ttotal: 5m 20s\tremaining: 3m 16s\n",
      "186:\tlearn: 0.1240018\ttotal: 5m 21s\tremaining: 3m 14s\n",
      "187:\tlearn: 0.1239144\ttotal: 5m 23s\tremaining: 3m 12s\n",
      "188:\tlearn: 0.1237513\ttotal: 5m 25s\tremaining: 3m 11s\n",
      "189:\tlearn: 0.1236663\ttotal: 5m 27s\tremaining: 3m 9s\n",
      "190:\tlearn: 0.1235824\ttotal: 5m 28s\tremaining: 3m 7s\n",
      "191:\tlearn: 0.1234653\ttotal: 5m 30s\tremaining: 3m 6s\n",
      "192:\tlearn: 0.1232282\ttotal: 5m 32s\tremaining: 3m 4s\n",
      "193:\tlearn: 0.1231444\ttotal: 5m 34s\tremaining: 3m 2s\n",
      "194:\tlearn: 0.1230625\ttotal: 5m 35s\tremaining: 3m\n",
      "195:\tlearn: 0.1228227\ttotal: 5m 37s\tremaining: 2m 59s\n",
      "196:\tlearn: 0.1227477\ttotal: 5m 39s\tremaining: 2m 57s\n",
      "197:\tlearn: 0.1225411\ttotal: 5m 41s\tremaining: 2m 55s\n",
      "198:\tlearn: 0.1224550\ttotal: 5m 42s\tremaining: 2m 53s\n",
      "199:\tlearn: 0.1222618\ttotal: 5m 44s\tremaining: 2m 52s\n",
      "200:\tlearn: 0.1220898\ttotal: 5m 46s\tremaining: 2m 50s\n",
      "201:\tlearn: 0.1219554\ttotal: 5m 47s\tremaining: 2m 48s\n",
      "202:\tlearn: 0.1218767\ttotal: 5m 49s\tremaining: 2m 46s\n",
      "203:\tlearn: 0.1217236\ttotal: 5m 51s\tremaining: 2m 45s\n",
      "204:\tlearn: 0.1215547\ttotal: 5m 52s\tremaining: 2m 43s\n",
      "205:\tlearn: 0.1214791\ttotal: 5m 54s\tremaining: 2m 41s\n",
      "206:\tlearn: 0.1214071\ttotal: 5m 56s\tremaining: 2m 40s\n",
      "207:\tlearn: 0.1213290\ttotal: 5m 57s\tremaining: 2m 38s\n",
      "208:\tlearn: 0.1212358\ttotal: 5m 59s\tremaining: 2m 36s\n",
      "209:\tlearn: 0.1211421\ttotal: 6m 1s\tremaining: 2m 34s\n",
      "210:\tlearn: 0.1210752\ttotal: 6m 3s\tremaining: 2m 33s\n",
      "211:\tlearn: 0.1208939\ttotal: 6m 4s\tremaining: 2m 31s\n",
      "212:\tlearn: 0.1207929\ttotal: 6m 6s\tremaining: 2m 29s\n",
      "213:\tlearn: 0.1206995\ttotal: 6m 8s\tremaining: 2m 28s\n",
      "214:\tlearn: 0.1204893\ttotal: 6m 10s\tremaining: 2m 26s\n",
      "215:\tlearn: 0.1204172\ttotal: 6m 11s\tremaining: 2m 24s\n",
      "216:\tlearn: 0.1202728\ttotal: 6m 13s\tremaining: 2m 22s\n",
      "217:\tlearn: 0.1200749\ttotal: 6m 15s\tremaining: 2m 21s\n",
      "218:\tlearn: 0.1200037\ttotal: 6m 17s\tremaining: 2m 19s\n",
      "219:\tlearn: 0.1198237\ttotal: 6m 19s\tremaining: 2m 17s\n",
      "220:\tlearn: 0.1197361\ttotal: 6m 21s\tremaining: 2m 16s\n",
      "221:\tlearn: 0.1195279\ttotal: 6m 22s\tremaining: 2m 14s\n",
      "222:\tlearn: 0.1194551\ttotal: 6m 24s\tremaining: 2m 12s\n",
      "223:\tlearn: 0.1191443\ttotal: 6m 26s\tremaining: 2m 11s\n",
      "224:\tlearn: 0.1190471\ttotal: 6m 28s\tremaining: 2m 9s\n",
      "225:\tlearn: 0.1189075\ttotal: 6m 29s\tremaining: 2m 7s\n",
      "226:\tlearn: 0.1186829\ttotal: 6m 31s\tremaining: 2m 5s\n",
      "227:\tlearn: 0.1185889\ttotal: 6m 33s\tremaining: 2m 4s\n",
      "228:\tlearn: 0.1185220\ttotal: 6m 35s\tremaining: 2m 2s\n",
      "229:\tlearn: 0.1184543\ttotal: 6m 36s\tremaining: 2m\n",
      "230:\tlearn: 0.1183840\ttotal: 6m 38s\tremaining: 1m 59s\n",
      "231:\tlearn: 0.1183131\ttotal: 6m 40s\tremaining: 1m 57s\n",
      "232:\tlearn: 0.1181601\ttotal: 6m 42s\tremaining: 1m 55s\n",
      "233:\tlearn: 0.1180964\ttotal: 6m 43s\tremaining: 1m 53s\n",
      "234:\tlearn: 0.1179466\ttotal: 6m 45s\tremaining: 1m 52s\n",
      "235:\tlearn: 0.1178920\ttotal: 6m 47s\tremaining: 1m 50s\n",
      "236:\tlearn: 0.1177348\ttotal: 6m 49s\tremaining: 1m 48s\n",
      "237:\tlearn: 0.1175040\ttotal: 6m 50s\tremaining: 1m 47s\n",
      "238:\tlearn: 0.1173070\ttotal: 6m 52s\tremaining: 1m 45s\n",
      "239:\tlearn: 0.1171201\ttotal: 6m 54s\tremaining: 1m 43s\n",
      "240:\tlearn: 0.1170388\ttotal: 6m 55s\tremaining: 1m 41s\n",
      "241:\tlearn: 0.1169685\ttotal: 6m 57s\tremaining: 1m 40s\n",
      "242:\tlearn: 0.1169109\ttotal: 6m 59s\tremaining: 1m 38s\n",
      "243:\tlearn: 0.1167838\ttotal: 7m 1s\tremaining: 1m 36s\n",
      "244:\tlearn: 0.1167140\ttotal: 7m 2s\tremaining: 1m 34s\n",
      "245:\tlearn: 0.1166512\ttotal: 7m 4s\tremaining: 1m 33s\n",
      "246:\tlearn: 0.1164696\ttotal: 7m 6s\tremaining: 1m 31s\n",
      "247:\tlearn: 0.1163919\ttotal: 7m 8s\tremaining: 1m 29s\n",
      "248:\tlearn: 0.1162374\ttotal: 7m 10s\tremaining: 1m 28s\n",
      "249:\tlearn: 0.1161696\ttotal: 7m 11s\tremaining: 1m 26s\n",
      "250:\tlearn: 0.1160522\ttotal: 7m 13s\tremaining: 1m 24s\n",
      "251:\tlearn: 0.1159371\ttotal: 7m 15s\tremaining: 1m 22s\n",
      "252:\tlearn: 0.1156514\ttotal: 7m 17s\tremaining: 1m 21s\n",
      "253:\tlearn: 0.1155086\ttotal: 7m 18s\tremaining: 1m 19s\n",
      "254:\tlearn: 0.1153157\ttotal: 7m 20s\tremaining: 1m 17s\n",
      "255:\tlearn: 0.1152566\ttotal: 7m 22s\tremaining: 1m 16s\n",
      "256:\tlearn: 0.1151348\ttotal: 7m 24s\tremaining: 1m 14s\n",
      "257:\tlearn: 0.1149740\ttotal: 7m 25s\tremaining: 1m 12s\n",
      "258:\tlearn: 0.1148711\ttotal: 7m 27s\tremaining: 1m 10s\n",
      "259:\tlearn: 0.1148124\ttotal: 7m 29s\tremaining: 1m 9s\n",
      "260:\tlearn: 0.1147527\ttotal: 7m 31s\tremaining: 1m 7s\n",
      "261:\tlearn: 0.1146771\ttotal: 7m 32s\tremaining: 1m 5s\n",
      "262:\tlearn: 0.1145433\ttotal: 7m 34s\tremaining: 1m 3s\n",
      "263:\tlearn: 0.1144622\ttotal: 7m 36s\tremaining: 1m 2s\n",
      "264:\tlearn: 0.1144027\ttotal: 7m 37s\tremaining: 1m\n",
      "265:\tlearn: 0.1143473\ttotal: 7m 39s\tremaining: 58.8s\n",
      "266:\tlearn: 0.1142611\ttotal: 7m 41s\tremaining: 57s\n",
      "267:\tlearn: 0.1141218\ttotal: 7m 43s\tremaining: 55.3s\n",
      "268:\tlearn: 0.1140669\ttotal: 7m 45s\tremaining: 53.6s\n",
      "269:\tlearn: 0.1140078\ttotal: 7m 46s\tremaining: 51.9s\n",
      "270:\tlearn: 0.1138722\ttotal: 7m 48s\tremaining: 50.1s\n",
      "271:\tlearn: 0.1137210\ttotal: 7m 50s\tremaining: 48.4s\n",
      "272:\tlearn: 0.1136038\ttotal: 7m 51s\tremaining: 46.7s\n",
      "273:\tlearn: 0.1135452\ttotal: 7m 53s\tremaining: 44.9s\n",
      "274:\tlearn: 0.1134896\ttotal: 7m 55s\tremaining: 43.2s\n",
      "275:\tlearn: 0.1134190\ttotal: 7m 56s\tremaining: 41.5s\n",
      "276:\tlearn: 0.1133565\ttotal: 7m 58s\tremaining: 39.7s\n",
      "277:\tlearn: 0.1132935\ttotal: 8m\tremaining: 38s\n",
      "278:\tlearn: 0.1132428\ttotal: 8m 1s\tremaining: 36.3s\n",
      "279:\tlearn: 0.1130131\ttotal: 8m 3s\tremaining: 34.5s\n",
      "280:\tlearn: 0.1129548\ttotal: 8m 5s\tremaining: 32.8s\n",
      "281:\tlearn: 0.1127165\ttotal: 8m 7s\tremaining: 31.1s\n",
      "282:\tlearn: 0.1126649\ttotal: 8m 8s\tremaining: 29.4s\n",
      "283:\tlearn: 0.1125459\ttotal: 8m 10s\tremaining: 27.6s\n",
      "284:\tlearn: 0.1124949\ttotal: 8m 12s\tremaining: 25.9s\n",
      "285:\tlearn: 0.1123183\ttotal: 8m 14s\tremaining: 24.2s\n",
      "286:\tlearn: 0.1122643\ttotal: 8m 15s\tremaining: 22.5s\n",
      "287:\tlearn: 0.1122136\ttotal: 8m 17s\tremaining: 20.7s\n",
      "288:\tlearn: 0.1120881\ttotal: 8m 19s\tremaining: 19s\n",
      "289:\tlearn: 0.1120310\ttotal: 8m 21s\tremaining: 17.3s\n",
      "290:\tlearn: 0.1119397\ttotal: 8m 22s\tremaining: 15.6s\n",
      "291:\tlearn: 0.1118755\ttotal: 8m 24s\tremaining: 13.8s\n",
      "292:\tlearn: 0.1117076\ttotal: 8m 26s\tremaining: 12.1s\n",
      "293:\tlearn: 0.1116273\ttotal: 8m 28s\tremaining: 10.4s\n",
      "294:\tlearn: 0.1115085\ttotal: 8m 30s\tremaining: 8.64s\n",
      "295:\tlearn: 0.1114565\ttotal: 8m 31s\tremaining: 6.92s\n",
      "296:\tlearn: 0.1113552\ttotal: 8m 33s\tremaining: 5.19s\n",
      "297:\tlearn: 0.1113026\ttotal: 8m 35s\tremaining: 3.46s\n",
      "298:\tlearn: 0.1112541\ttotal: 8m 37s\tremaining: 1.73s\n",
      "299:\tlearn: 0.1111949\ttotal: 8m 38s\tremaining: 0us\n",
      "Learning rate set to 0.223866\n",
      "0:\tlearn: 0.4956723\ttotal: 2.24s\tremaining: 11m 11s\n",
      "1:\tlearn: 0.3817081\ttotal: 4.06s\tremaining: 10m 5s\n",
      "2:\tlearn: 0.3173185\ttotal: 5.98s\tremaining: 9m 51s\n",
      "3:\tlearn: 0.2798022\ttotal: 7.87s\tremaining: 9m 42s\n",
      "4:\tlearn: 0.2569616\ttotal: 9.79s\tremaining: 9m 37s\n",
      "5:\tlearn: 0.2443849\ttotal: 11.7s\tremaining: 9m 30s\n",
      "6:\tlearn: 0.2345850\ttotal: 13.4s\tremaining: 9m 21s\n",
      "7:\tlearn: 0.2277058\ttotal: 15.2s\tremaining: 9m 14s\n",
      "8:\tlearn: 0.2224916\ttotal: 17s\tremaining: 9m 8s\n",
      "9:\tlearn: 0.2186695\ttotal: 18.7s\tremaining: 9m 3s\n",
      "10:\tlearn: 0.2152043\ttotal: 20.5s\tremaining: 8m 59s\n",
      "11:\tlearn: 0.2120157\ttotal: 22.4s\tremaining: 8m 56s\n",
      "12:\tlearn: 0.2087216\ttotal: 24.3s\tremaining: 8m 56s\n",
      "13:\tlearn: 0.2060059\ttotal: 26.1s\tremaining: 8m 53s\n",
      "14:\tlearn: 0.2039163\ttotal: 27.9s\tremaining: 8m 49s\n",
      "15:\tlearn: 0.2019141\ttotal: 29.7s\tremaining: 8m 46s\n",
      "16:\tlearn: 0.1991855\ttotal: 31.5s\tremaining: 8m 44s\n",
      "17:\tlearn: 0.1976751\ttotal: 33.2s\tremaining: 8m 40s\n",
      "18:\tlearn: 0.1960801\ttotal: 35s\tremaining: 8m 38s\n",
      "19:\tlearn: 0.1944083\ttotal: 36.7s\tremaining: 8m 34s\n",
      "20:\tlearn: 0.1923880\ttotal: 38.5s\tremaining: 8m 31s\n",
      "21:\tlearn: 0.1912263\ttotal: 40.2s\tremaining: 8m 27s\n",
      "22:\tlearn: 0.1896376\ttotal: 41.9s\tremaining: 8m 24s\n",
      "23:\tlearn: 0.1879460\ttotal: 43.5s\tremaining: 8m 20s\n",
      "24:\tlearn: 0.1858668\ttotal: 45.3s\tremaining: 8m 18s\n",
      "25:\tlearn: 0.1847124\ttotal: 47s\tremaining: 8m 14s\n",
      "26:\tlearn: 0.1835033\ttotal: 48.6s\tremaining: 8m 11s\n",
      "27:\tlearn: 0.1825317\ttotal: 50.3s\tremaining: 8m 8s\n",
      "28:\tlearn: 0.1814810\ttotal: 52.1s\tremaining: 8m 6s\n",
      "29:\tlearn: 0.1805187\ttotal: 53.8s\tremaining: 8m 4s\n",
      "30:\tlearn: 0.1797491\ttotal: 55.5s\tremaining: 8m 1s\n",
      "31:\tlearn: 0.1789209\ttotal: 57.3s\tremaining: 7m 59s\n",
      "32:\tlearn: 0.1781086\ttotal: 59s\tremaining: 7m 57s\n",
      "33:\tlearn: 0.1770411\ttotal: 1m\tremaining: 7m 56s\n",
      "34:\tlearn: 0.1760843\ttotal: 1m 2s\tremaining: 7m 53s\n",
      "35:\tlearn: 0.1747606\ttotal: 1m 4s\tremaining: 7m 52s\n",
      "36:\tlearn: 0.1739036\ttotal: 1m 6s\tremaining: 7m 50s\n",
      "37:\tlearn: 0.1729320\ttotal: 1m 7s\tremaining: 7m 47s\n",
      "38:\tlearn: 0.1717900\ttotal: 1m 9s\tremaining: 7m 46s\n",
      "39:\tlearn: 0.1710281\ttotal: 1m 11s\tremaining: 7m 45s\n",
      "40:\tlearn: 0.1703639\ttotal: 1m 13s\tremaining: 7m 42s\n",
      "41:\tlearn: 0.1696451\ttotal: 1m 15s\tremaining: 7m 41s\n",
      "42:\tlearn: 0.1689519\ttotal: 1m 16s\tremaining: 7m 39s\n",
      "43:\tlearn: 0.1683087\ttotal: 1m 18s\tremaining: 7m 37s\n",
      "44:\tlearn: 0.1677698\ttotal: 1m 20s\tremaining: 7m 35s\n",
      "45:\tlearn: 0.1671680\ttotal: 1m 22s\tremaining: 7m 32s\n",
      "46:\tlearn: 0.1666887\ttotal: 1m 23s\tremaining: 7m 30s\n",
      "47:\tlearn: 0.1661497\ttotal: 1m 25s\tremaining: 7m 28s\n",
      "48:\tlearn: 0.1655358\ttotal: 1m 27s\tremaining: 7m 26s\n",
      "49:\tlearn: 0.1648408\ttotal: 1m 28s\tremaining: 7m 24s\n",
      "50:\tlearn: 0.1641793\ttotal: 1m 30s\tremaining: 7m 22s\n",
      "51:\tlearn: 0.1636940\ttotal: 1m 32s\tremaining: 7m 20s\n",
      "52:\tlearn: 0.1630271\ttotal: 1m 34s\tremaining: 7m 18s\n",
      "53:\tlearn: 0.1624827\ttotal: 1m 35s\tremaining: 7m 16s\n",
      "54:\tlearn: 0.1619628\ttotal: 1m 37s\tremaining: 7m 13s\n",
      "55:\tlearn: 0.1614916\ttotal: 1m 39s\tremaining: 7m 11s\n",
      "56:\tlearn: 0.1610287\ttotal: 1m 40s\tremaining: 7m 9s\n",
      "57:\tlearn: 0.1604418\ttotal: 1m 42s\tremaining: 7m 7s\n",
      "58:\tlearn: 0.1599074\ttotal: 1m 44s\tremaining: 7m 5s\n",
      "59:\tlearn: 0.1591777\ttotal: 1m 45s\tremaining: 7m 2s\n",
      "60:\tlearn: 0.1585334\ttotal: 1m 47s\tremaining: 7m\n",
      "61:\tlearn: 0.1580809\ttotal: 1m 49s\tremaining: 6m 58s\n",
      "62:\tlearn: 0.1573725\ttotal: 1m 50s\tremaining: 6m 56s\n",
      "63:\tlearn: 0.1567932\ttotal: 1m 52s\tremaining: 6m 54s\n",
      "64:\tlearn: 0.1562636\ttotal: 1m 54s\tremaining: 6m 52s\n",
      "65:\tlearn: 0.1558628\ttotal: 1m 55s\tremaining: 6m 50s\n",
      "66:\tlearn: 0.1550868\ttotal: 1m 57s\tremaining: 6m 48s\n",
      "67:\tlearn: 0.1546982\ttotal: 1m 59s\tremaining: 6m 46s\n",
      "68:\tlearn: 0.1543272\ttotal: 2m\tremaining: 6m 44s\n",
      "69:\tlearn: 0.1538980\ttotal: 2m 2s\tremaining: 6m 42s\n",
      "70:\tlearn: 0.1535926\ttotal: 2m 4s\tremaining: 6m 40s\n",
      "71:\tlearn: 0.1531910\ttotal: 2m 5s\tremaining: 6m 38s\n",
      "72:\tlearn: 0.1526057\ttotal: 2m 7s\tremaining: 6m 36s\n",
      "73:\tlearn: 0.1520761\ttotal: 2m 9s\tremaining: 6m 34s\n",
      "74:\tlearn: 0.1516968\ttotal: 2m 10s\tremaining: 6m 32s\n",
      "75:\tlearn: 0.1513645\ttotal: 2m 12s\tremaining: 6m 30s\n",
      "76:\tlearn: 0.1509258\ttotal: 2m 14s\tremaining: 6m 28s\n",
      "77:\tlearn: 0.1503757\ttotal: 2m 15s\tremaining: 6m 27s\n",
      "78:\tlearn: 0.1499943\ttotal: 2m 17s\tremaining: 6m 25s\n",
      "79:\tlearn: 0.1496701\ttotal: 2m 19s\tremaining: 6m 23s\n",
      "80:\tlearn: 0.1493275\ttotal: 2m 21s\tremaining: 6m 21s\n",
      "81:\tlearn: 0.1487634\ttotal: 2m 22s\tremaining: 6m 19s\n",
      "82:\tlearn: 0.1483697\ttotal: 2m 24s\tremaining: 6m 18s\n",
      "83:\tlearn: 0.1481287\ttotal: 2m 26s\tremaining: 6m 16s\n",
      "84:\tlearn: 0.1477884\ttotal: 2m 27s\tremaining: 6m 14s\n",
      "85:\tlearn: 0.1474416\ttotal: 2m 29s\tremaining: 6m 12s\n",
      "86:\tlearn: 0.1470646\ttotal: 2m 31s\tremaining: 6m 10s\n",
      "87:\tlearn: 0.1465867\ttotal: 2m 33s\tremaining: 6m 8s\n",
      "88:\tlearn: 0.1460660\ttotal: 2m 34s\tremaining: 6m 7s\n",
      "89:\tlearn: 0.1457091\ttotal: 2m 36s\tremaining: 6m 5s\n",
      "90:\tlearn: 0.1454922\ttotal: 2m 38s\tremaining: 6m 3s\n",
      "91:\tlearn: 0.1451518\ttotal: 2m 39s\tremaining: 6m 1s\n",
      "92:\tlearn: 0.1448162\ttotal: 2m 41s\tremaining: 5m 59s\n",
      "93:\tlearn: 0.1445613\ttotal: 2m 43s\tremaining: 5m 57s\n",
      "94:\tlearn: 0.1439516\ttotal: 2m 44s\tremaining: 5m 55s\n",
      "95:\tlearn: 0.1437236\ttotal: 2m 46s\tremaining: 5m 53s\n",
      "96:\tlearn: 0.1434775\ttotal: 2m 48s\tremaining: 5m 51s\n",
      "97:\tlearn: 0.1430393\ttotal: 2m 49s\tremaining: 5m 49s\n",
      "98:\tlearn: 0.1426563\ttotal: 2m 51s\tremaining: 5m 48s\n",
      "99:\tlearn: 0.1423805\ttotal: 2m 53s\tremaining: 5m 46s\n",
      "100:\tlearn: 0.1421786\ttotal: 2m 54s\tremaining: 5m 44s\n",
      "101:\tlearn: 0.1419500\ttotal: 2m 56s\tremaining: 5m 42s\n",
      "102:\tlearn: 0.1417433\ttotal: 2m 58s\tremaining: 5m 40s\n",
      "103:\tlearn: 0.1415001\ttotal: 2m 59s\tremaining: 5m 38s\n",
      "104:\tlearn: 0.1412176\ttotal: 3m 1s\tremaining: 5m 36s\n",
      "105:\tlearn: 0.1409280\ttotal: 3m 3s\tremaining: 5m 35s\n",
      "106:\tlearn: 0.1404946\ttotal: 3m 4s\tremaining: 5m 33s\n",
      "107:\tlearn: 0.1403244\ttotal: 3m 6s\tremaining: 5m 31s\n",
      "108:\tlearn: 0.1400108\ttotal: 3m 8s\tremaining: 5m 30s\n",
      "109:\tlearn: 0.1398389\ttotal: 3m 9s\tremaining: 5m 28s\n",
      "110:\tlearn: 0.1396221\ttotal: 3m 11s\tremaining: 5m 26s\n",
      "111:\tlearn: 0.1391868\ttotal: 3m 13s\tremaining: 5m 24s\n",
      "112:\tlearn: 0.1390325\ttotal: 3m 15s\tremaining: 5m 22s\n",
      "113:\tlearn: 0.1387676\ttotal: 3m 16s\tremaining: 5m 20s\n",
      "114:\tlearn: 0.1384709\ttotal: 3m 18s\tremaining: 5m 19s\n",
      "115:\tlearn: 0.1381310\ttotal: 3m 20s\tremaining: 5m 17s\n",
      "116:\tlearn: 0.1378373\ttotal: 3m 21s\tremaining: 5m 15s\n",
      "117:\tlearn: 0.1376622\ttotal: 3m 23s\tremaining: 5m 13s\n",
      "118:\tlearn: 0.1373153\ttotal: 3m 25s\tremaining: 5m 12s\n",
      "119:\tlearn: 0.1370272\ttotal: 3m 27s\tremaining: 5m 10s\n",
      "120:\tlearn: 0.1368730\ttotal: 3m 28s\tremaining: 5m 8s\n",
      "121:\tlearn: 0.1365977\ttotal: 3m 30s\tremaining: 5m 7s\n",
      "122:\tlearn: 0.1363508\ttotal: 3m 32s\tremaining: 5m 5s\n",
      "123:\tlearn: 0.1360634\ttotal: 3m 33s\tremaining: 5m 3s\n",
      "124:\tlearn: 0.1359269\ttotal: 3m 35s\tremaining: 5m 1s\n",
      "125:\tlearn: 0.1356908\ttotal: 3m 36s\tremaining: 4m 59s\n",
      "126:\tlearn: 0.1355488\ttotal: 3m 38s\tremaining: 4m 57s\n",
      "127:\tlearn: 0.1353026\ttotal: 3m 40s\tremaining: 4m 55s\n",
      "128:\tlearn: 0.1351765\ttotal: 3m 41s\tremaining: 4m 53s\n",
      "129:\tlearn: 0.1350198\ttotal: 3m 43s\tremaining: 4m 51s\n",
      "130:\tlearn: 0.1347603\ttotal: 3m 45s\tremaining: 4m 50s\n",
      "131:\tlearn: 0.1346195\ttotal: 3m 46s\tremaining: 4m 48s\n",
      "132:\tlearn: 0.1344987\ttotal: 3m 48s\tremaining: 4m 46s\n",
      "133:\tlearn: 0.1342273\ttotal: 3m 49s\tremaining: 4m 44s\n",
      "134:\tlearn: 0.1340859\ttotal: 3m 51s\tremaining: 4m 42s\n",
      "135:\tlearn: 0.1337783\ttotal: 3m 53s\tremaining: 4m 41s\n",
      "136:\tlearn: 0.1334741\ttotal: 3m 54s\tremaining: 4m 39s\n",
      "137:\tlearn: 0.1333593\ttotal: 3m 56s\tremaining: 4m 37s\n",
      "138:\tlearn: 0.1330986\ttotal: 3m 58s\tremaining: 4m 35s\n",
      "139:\tlearn: 0.1329470\ttotal: 3m 59s\tremaining: 4m 34s\n",
      "140:\tlearn: 0.1328226\ttotal: 4m 1s\tremaining: 4m 32s\n",
      "141:\tlearn: 0.1327039\ttotal: 4m 3s\tremaining: 4m 30s\n",
      "142:\tlearn: 0.1324615\ttotal: 4m 4s\tremaining: 4m 28s\n",
      "143:\tlearn: 0.1323334\ttotal: 4m 6s\tremaining: 4m 27s\n",
      "144:\tlearn: 0.1321662\ttotal: 4m 8s\tremaining: 4m 25s\n",
      "145:\tlearn: 0.1320477\ttotal: 4m 9s\tremaining: 4m 23s\n",
      "146:\tlearn: 0.1318537\ttotal: 4m 11s\tremaining: 4m 21s\n",
      "147:\tlearn: 0.1316453\ttotal: 4m 13s\tremaining: 4m 19s\n",
      "148:\tlearn: 0.1315335\ttotal: 4m 14s\tremaining: 4m 18s\n",
      "149:\tlearn: 0.1311389\ttotal: 4m 16s\tremaining: 4m 16s\n",
      "150:\tlearn: 0.1308487\ttotal: 4m 18s\tremaining: 4m 14s\n",
      "151:\tlearn: 0.1306148\ttotal: 4m 20s\tremaining: 4m 13s\n",
      "152:\tlearn: 0.1303544\ttotal: 4m 21s\tremaining: 4m 11s\n",
      "153:\tlearn: 0.1301019\ttotal: 4m 23s\tremaining: 4m 9s\n",
      "154:\tlearn: 0.1298738\ttotal: 4m 25s\tremaining: 4m 8s\n",
      "155:\tlearn: 0.1297552\ttotal: 4m 26s\tremaining: 4m 6s\n",
      "156:\tlearn: 0.1296598\ttotal: 4m 28s\tremaining: 4m 4s\n",
      "157:\tlearn: 0.1293544\ttotal: 4m 30s\tremaining: 4m 2s\n",
      "158:\tlearn: 0.1290453\ttotal: 4m 31s\tremaining: 4m 1s\n",
      "159:\tlearn: 0.1289385\ttotal: 4m 33s\tremaining: 3m 59s\n",
      "160:\tlearn: 0.1287691\ttotal: 4m 35s\tremaining: 3m 57s\n",
      "161:\tlearn: 0.1285433\ttotal: 4m 36s\tremaining: 3m 55s\n",
      "162:\tlearn: 0.1283392\ttotal: 4m 38s\tremaining: 3m 54s\n",
      "163:\tlearn: 0.1280718\ttotal: 4m 40s\tremaining: 3m 52s\n",
      "164:\tlearn: 0.1279781\ttotal: 4m 41s\tremaining: 3m 50s\n",
      "165:\tlearn: 0.1277277\ttotal: 4m 43s\tremaining: 3m 48s\n",
      "166:\tlearn: 0.1274238\ttotal: 4m 45s\tremaining: 3m 47s\n",
      "167:\tlearn: 0.1273106\ttotal: 4m 46s\tremaining: 3m 45s\n",
      "168:\tlearn: 0.1272077\ttotal: 4m 48s\tremaining: 3m 43s\n",
      "169:\tlearn: 0.1269322\ttotal: 4m 50s\tremaining: 3m 41s\n",
      "170:\tlearn: 0.1267868\ttotal: 4m 51s\tremaining: 3m 40s\n",
      "171:\tlearn: 0.1265551\ttotal: 4m 53s\tremaining: 3m 38s\n",
      "172:\tlearn: 0.1263158\ttotal: 4m 55s\tremaining: 3m 36s\n",
      "173:\tlearn: 0.1262041\ttotal: 4m 56s\tremaining: 3m 34s\n",
      "174:\tlearn: 0.1260199\ttotal: 4m 58s\tremaining: 3m 33s\n",
      "175:\tlearn: 0.1258029\ttotal: 5m\tremaining: 3m 31s\n",
      "176:\tlearn: 0.1256996\ttotal: 5m 1s\tremaining: 3m 29s\n",
      "177:\tlearn: 0.1254460\ttotal: 5m 3s\tremaining: 3m 28s\n",
      "178:\tlearn: 0.1251974\ttotal: 5m 5s\tremaining: 3m 26s\n",
      "179:\tlearn: 0.1250111\ttotal: 5m 6s\tremaining: 3m 24s\n",
      "180:\tlearn: 0.1248247\ttotal: 5m 8s\tremaining: 3m 23s\n",
      "181:\tlearn: 0.1245276\ttotal: 5m 10s\tremaining: 3m 21s\n",
      "182:\tlearn: 0.1244353\ttotal: 5m 12s\tremaining: 3m 19s\n",
      "183:\tlearn: 0.1241737\ttotal: 5m 14s\tremaining: 3m 17s\n",
      "184:\tlearn: 0.1238734\ttotal: 5m 15s\tremaining: 3m 16s\n",
      "185:\tlearn: 0.1237808\ttotal: 5m 17s\tremaining: 3m 14s\n",
      "186:\tlearn: 0.1236474\ttotal: 5m 19s\tremaining: 3m 12s\n",
      "187:\tlearn: 0.1235540\ttotal: 5m 20s\tremaining: 3m 11s\n",
      "188:\tlearn: 0.1234550\ttotal: 5m 22s\tremaining: 3m 9s\n",
      "189:\tlearn: 0.1233292\ttotal: 5m 24s\tremaining: 3m 7s\n",
      "190:\tlearn: 0.1230136\ttotal: 5m 25s\tremaining: 3m 5s\n",
      "191:\tlearn: 0.1229059\ttotal: 5m 27s\tremaining: 3m 4s\n",
      "192:\tlearn: 0.1228196\ttotal: 5m 29s\tremaining: 3m 2s\n",
      "193:\tlearn: 0.1227286\ttotal: 5m 30s\tremaining: 3m\n",
      "194:\tlearn: 0.1226395\ttotal: 5m 32s\tremaining: 2m 58s\n",
      "195:\tlearn: 0.1225487\ttotal: 5m 34s\tremaining: 2m 57s\n",
      "196:\tlearn: 0.1224583\ttotal: 5m 35s\tremaining: 2m 55s\n",
      "197:\tlearn: 0.1223733\ttotal: 5m 37s\tremaining: 2m 53s\n",
      "198:\tlearn: 0.1222895\ttotal: 5m 39s\tremaining: 2m 52s\n",
      "199:\tlearn: 0.1222119\ttotal: 5m 40s\tremaining: 2m 50s\n",
      "200:\tlearn: 0.1220643\ttotal: 5m 42s\tremaining: 2m 48s\n",
      "201:\tlearn: 0.1217760\ttotal: 5m 44s\tremaining: 2m 46s\n",
      "202:\tlearn: 0.1215382\ttotal: 5m 45s\tremaining: 2m 45s\n",
      "203:\tlearn: 0.1214022\ttotal: 5m 47s\tremaining: 2m 43s\n",
      "204:\tlearn: 0.1213192\ttotal: 5m 48s\tremaining: 2m 41s\n",
      "205:\tlearn: 0.1211317\ttotal: 5m 50s\tremaining: 2m 39s\n",
      "206:\tlearn: 0.1210531\ttotal: 5m 52s\tremaining: 2m 38s\n",
      "207:\tlearn: 0.1209692\ttotal: 5m 53s\tremaining: 2m 36s\n",
      "208:\tlearn: 0.1208974\ttotal: 5m 55s\tremaining: 2m 34s\n",
      "209:\tlearn: 0.1205842\ttotal: 5m 57s\tremaining: 2m 33s\n",
      "210:\tlearn: 0.1205098\ttotal: 5m 58s\tremaining: 2m 31s\n",
      "211:\tlearn: 0.1204308\ttotal: 6m\tremaining: 2m 29s\n",
      "212:\tlearn: 0.1202672\ttotal: 6m 2s\tremaining: 2m 27s\n",
      "213:\tlearn: 0.1201909\ttotal: 6m 3s\tremaining: 2m 26s\n",
      "214:\tlearn: 0.1201258\ttotal: 6m 5s\tremaining: 2m 24s\n",
      "215:\tlearn: 0.1200564\ttotal: 6m 7s\tremaining: 2m 22s\n",
      "216:\tlearn: 0.1199843\ttotal: 6m 8s\tremaining: 2m 21s\n",
      "217:\tlearn: 0.1198392\ttotal: 6m 10s\tremaining: 2m 19s\n",
      "218:\tlearn: 0.1197693\ttotal: 6m 12s\tremaining: 2m 17s\n",
      "219:\tlearn: 0.1196121\ttotal: 6m 13s\tremaining: 2m 16s\n",
      "220:\tlearn: 0.1195255\ttotal: 6m 15s\tremaining: 2m 14s\n",
      "221:\tlearn: 0.1194574\ttotal: 6m 17s\tremaining: 2m 12s\n",
      "222:\tlearn: 0.1191853\ttotal: 6m 18s\tremaining: 2m 10s\n",
      "223:\tlearn: 0.1189991\ttotal: 6m 20s\tremaining: 2m 9s\n",
      "224:\tlearn: 0.1189293\ttotal: 6m 22s\tremaining: 2m 7s\n",
      "225:\tlearn: 0.1187973\ttotal: 6m 24s\tremaining: 2m 5s\n",
      "226:\tlearn: 0.1186625\ttotal: 6m 25s\tremaining: 2m 4s\n",
      "227:\tlearn: 0.1185953\ttotal: 6m 27s\tremaining: 2m 2s\n",
      "228:\tlearn: 0.1185158\ttotal: 6m 28s\tremaining: 2m\n",
      "229:\tlearn: 0.1184328\ttotal: 6m 30s\tremaining: 1m 58s\n",
      "230:\tlearn: 0.1183573\ttotal: 6m 32s\tremaining: 1m 57s\n",
      "231:\tlearn: 0.1181643\ttotal: 6m 33s\tremaining: 1m 55s\n",
      "232:\tlearn: 0.1180315\ttotal: 6m 35s\tremaining: 1m 53s\n",
      "233:\tlearn: 0.1179690\ttotal: 6m 37s\tremaining: 1m 52s\n",
      "234:\tlearn: 0.1178950\ttotal: 6m 38s\tremaining: 1m 50s\n",
      "235:\tlearn: 0.1178298\ttotal: 6m 40s\tremaining: 1m 48s\n",
      "236:\tlearn: 0.1177609\ttotal: 6m 42s\tremaining: 1m 46s\n",
      "237:\tlearn: 0.1175942\ttotal: 6m 43s\tremaining: 1m 45s\n",
      "238:\tlearn: 0.1174412\ttotal: 6m 45s\tremaining: 1m 43s\n",
      "239:\tlearn: 0.1172812\ttotal: 6m 47s\tremaining: 1m 41s\n",
      "240:\tlearn: 0.1172185\ttotal: 6m 48s\tremaining: 1m 40s\n",
      "241:\tlearn: 0.1170147\ttotal: 6m 50s\tremaining: 1m 38s\n",
      "242:\tlearn: 0.1169497\ttotal: 6m 52s\tremaining: 1m 36s\n",
      "243:\tlearn: 0.1167660\ttotal: 6m 53s\tremaining: 1m 34s\n",
      "244:\tlearn: 0.1166854\ttotal: 6m 55s\tremaining: 1m 33s\n",
      "245:\tlearn: 0.1166231\ttotal: 6m 57s\tremaining: 1m 31s\n",
      "246:\tlearn: 0.1165454\ttotal: 6m 58s\tremaining: 1m 29s\n",
      "247:\tlearn: 0.1164839\ttotal: 7m\tremaining: 1m 28s\n",
      "248:\tlearn: 0.1162980\ttotal: 7m 2s\tremaining: 1m 26s\n",
      "249:\tlearn: 0.1162338\ttotal: 7m 3s\tremaining: 1m 24s\n",
      "250:\tlearn: 0.1161496\ttotal: 7m 5s\tremaining: 1m 23s\n",
      "251:\tlearn: 0.1158792\ttotal: 7m 7s\tremaining: 1m 21s\n",
      "252:\tlearn: 0.1158151\ttotal: 7m 9s\tremaining: 1m 19s\n",
      "253:\tlearn: 0.1157518\ttotal: 7m 10s\tremaining: 1m 18s\n",
      "254:\tlearn: 0.1156673\ttotal: 7m 12s\tremaining: 1m 16s\n",
      "255:\tlearn: 0.1155400\ttotal: 7m 14s\tremaining: 1m 14s\n",
      "256:\tlearn: 0.1154834\ttotal: 7m 15s\tremaining: 1m 12s\n",
      "257:\tlearn: 0.1154129\ttotal: 7m 17s\tremaining: 1m 11s\n",
      "258:\tlearn: 0.1153546\ttotal: 7m 19s\tremaining: 1m 9s\n",
      "259:\tlearn: 0.1151190\ttotal: 7m 21s\tremaining: 1m 7s\n",
      "260:\tlearn: 0.1150452\ttotal: 7m 22s\tremaining: 1m 6s\n",
      "261:\tlearn: 0.1148030\ttotal: 7m 24s\tremaining: 1m 4s\n",
      "262:\tlearn: 0.1147037\ttotal: 7m 26s\tremaining: 1m 2s\n",
      "263:\tlearn: 0.1144640\ttotal: 7m 27s\tremaining: 1m 1s\n",
      "264:\tlearn: 0.1140718\ttotal: 7m 29s\tremaining: 59.4s\n",
      "265:\tlearn: 0.1138995\ttotal: 7m 31s\tremaining: 57.7s\n",
      "266:\tlearn: 0.1136474\ttotal: 7m 33s\tremaining: 56s\n",
      "267:\tlearn: 0.1135685\ttotal: 7m 34s\tremaining: 54.3s\n",
      "268:\tlearn: 0.1134652\ttotal: 7m 36s\tremaining: 52.6s\n",
      "269:\tlearn: 0.1134078\ttotal: 7m 38s\tremaining: 50.9s\n",
      "270:\tlearn: 0.1132243\ttotal: 7m 39s\tremaining: 49.2s\n",
      "271:\tlearn: 0.1131662\ttotal: 7m 41s\tremaining: 47.5s\n",
      "272:\tlearn: 0.1130255\ttotal: 7m 43s\tremaining: 45.8s\n",
      "273:\tlearn: 0.1129132\ttotal: 7m 44s\tremaining: 44.1s\n",
      "274:\tlearn: 0.1128556\ttotal: 7m 46s\tremaining: 42.4s\n",
      "275:\tlearn: 0.1127568\ttotal: 7m 48s\tremaining: 40.7s\n",
      "276:\tlearn: 0.1126992\ttotal: 7m 49s\tremaining: 39s\n",
      "277:\tlearn: 0.1126260\ttotal: 7m 51s\tremaining: 37.3s\n",
      "278:\tlearn: 0.1125612\ttotal: 7m 53s\tremaining: 35.6s\n",
      "279:\tlearn: 0.1124307\ttotal: 7m 54s\tremaining: 33.9s\n",
      "280:\tlearn: 0.1122280\ttotal: 7m 56s\tremaining: 32.2s\n",
      "281:\tlearn: 0.1121646\ttotal: 7m 58s\tremaining: 30.5s\n",
      "282:\tlearn: 0.1121114\ttotal: 7m 59s\tremaining: 28.8s\n",
      "283:\tlearn: 0.1120572\ttotal: 8m 1s\tremaining: 27.1s\n",
      "284:\tlearn: 0.1120050\ttotal: 8m 3s\tremaining: 25.4s\n",
      "285:\tlearn: 0.1119113\ttotal: 8m 4s\tremaining: 23.7s\n",
      "286:\tlearn: 0.1118577\ttotal: 8m 6s\tremaining: 22s\n",
      "287:\tlearn: 0.1118047\ttotal: 8m 8s\tremaining: 20.3s\n",
      "288:\tlearn: 0.1116027\ttotal: 8m 9s\tremaining: 18.6s\n",
      "289:\tlearn: 0.1115381\ttotal: 8m 11s\tremaining: 17s\n",
      "290:\tlearn: 0.1113463\ttotal: 8m 13s\tremaining: 15.3s\n",
      "291:\tlearn: 0.1112684\ttotal: 8m 15s\tremaining: 13.6s\n",
      "292:\tlearn: 0.1112199\ttotal: 8m 16s\tremaining: 11.9s\n",
      "293:\tlearn: 0.1111562\ttotal: 8m 18s\tremaining: 10.2s\n",
      "294:\tlearn: 0.1110293\ttotal: 8m 20s\tremaining: 8.47s\n",
      "295:\tlearn: 0.1108380\ttotal: 8m 21s\tremaining: 6.78s\n",
      "296:\tlearn: 0.1106418\ttotal: 8m 23s\tremaining: 5.09s\n",
      "297:\tlearn: 0.1105958\ttotal: 8m 25s\tremaining: 3.39s\n",
      "298:\tlearn: 0.1105302\ttotal: 8m 26s\tremaining: 1.69s\n",
      "299:\tlearn: 0.1104795\ttotal: 8m 28s\tremaining: 0us\n",
      "Learning rate set to 0.223866\n",
      "0:\tlearn: 0.4898600\ttotal: 2.33s\tremaining: 11m 38s\n",
      "1:\tlearn: 0.3771293\ttotal: 4.17s\tremaining: 10m 21s\n",
      "2:\tlearn: 0.3175315\ttotal: 5.95s\tremaining: 9m 49s\n",
      "3:\tlearn: 0.2820122\ttotal: 7.84s\tremaining: 9m 40s\n",
      "4:\tlearn: 0.2596829\ttotal: 9.66s\tremaining: 9m 29s\n",
      "5:\tlearn: 0.2462641\ttotal: 11.5s\tremaining: 9m 21s\n",
      "6:\tlearn: 0.2340251\ttotal: 13.4s\tremaining: 9m 21s\n",
      "7:\tlearn: 0.2276993\ttotal: 15.3s\tremaining: 9m 19s\n",
      "8:\tlearn: 0.2228237\ttotal: 17.2s\tremaining: 9m 14s\n",
      "9:\tlearn: 0.2186922\ttotal: 19s\tremaining: 9m 9s\n",
      "10:\tlearn: 0.2146177\ttotal: 20.7s\tremaining: 9m 4s\n",
      "11:\tlearn: 0.2112209\ttotal: 22.6s\tremaining: 9m 1s\n",
      "12:\tlearn: 0.2085222\ttotal: 24.4s\tremaining: 8m 57s\n",
      "13:\tlearn: 0.2059793\ttotal: 26.2s\tremaining: 8m 54s\n",
      "14:\tlearn: 0.2038118\ttotal: 28s\tremaining: 8m 52s\n",
      "15:\tlearn: 0.2015034\ttotal: 29.7s\tremaining: 8m 47s\n",
      "16:\tlearn: 0.1994067\ttotal: 31.5s\tremaining: 8m 43s\n",
      "17:\tlearn: 0.1974551\ttotal: 33.3s\tremaining: 8m 40s\n",
      "18:\tlearn: 0.1959279\ttotal: 34.9s\tremaining: 8m 36s\n",
      "19:\tlearn: 0.1945316\ttotal: 36.7s\tremaining: 8m 33s\n",
      "20:\tlearn: 0.1919722\ttotal: 38.5s\tremaining: 8m 31s\n",
      "21:\tlearn: 0.1909275\ttotal: 40.3s\tremaining: 8m 28s\n",
      "22:\tlearn: 0.1896255\ttotal: 42.1s\tremaining: 8m 26s\n",
      "23:\tlearn: 0.1883935\ttotal: 43.9s\tremaining: 8m 24s\n",
      "24:\tlearn: 0.1872765\ttotal: 45.5s\tremaining: 8m 20s\n",
      "25:\tlearn: 0.1856852\ttotal: 47.3s\tremaining: 8m 18s\n",
      "26:\tlearn: 0.1847072\ttotal: 49s\tremaining: 8m 15s\n",
      "27:\tlearn: 0.1838888\ttotal: 50.7s\tremaining: 8m 12s\n",
      "28:\tlearn: 0.1825685\ttotal: 52.5s\tremaining: 8m 10s\n",
      "29:\tlearn: 0.1814684\ttotal: 54.3s\tremaining: 8m 8s\n",
      "30:\tlearn: 0.1805362\ttotal: 56s\tremaining: 8m 5s\n",
      "31:\tlearn: 0.1793180\ttotal: 57.9s\tremaining: 8m 4s\n",
      "32:\tlearn: 0.1780990\ttotal: 59.6s\tremaining: 8m 2s\n",
      "33:\tlearn: 0.1773300\ttotal: 1m 1s\tremaining: 7m 59s\n",
      "34:\tlearn: 0.1765357\ttotal: 1m 3s\tremaining: 7m 57s\n",
      "35:\tlearn: 0.1755126\ttotal: 1m 4s\tremaining: 7m 55s\n",
      "36:\tlearn: 0.1746544\ttotal: 1m 6s\tremaining: 7m 53s\n",
      "37:\tlearn: 0.1737525\ttotal: 1m 8s\tremaining: 7m 51s\n",
      "38:\tlearn: 0.1731584\ttotal: 1m 10s\tremaining: 7m 49s\n",
      "39:\tlearn: 0.1722978\ttotal: 1m 11s\tremaining: 7m 46s\n",
      "40:\tlearn: 0.1715616\ttotal: 1m 13s\tremaining: 7m 44s\n",
      "41:\tlearn: 0.1708328\ttotal: 1m 15s\tremaining: 7m 42s\n",
      "42:\tlearn: 0.1702411\ttotal: 1m 16s\tremaining: 7m 40s\n",
      "43:\tlearn: 0.1695095\ttotal: 1m 18s\tremaining: 7m 37s\n",
      "44:\tlearn: 0.1689227\ttotal: 1m 20s\tremaining: 7m 34s\n",
      "45:\tlearn: 0.1682170\ttotal: 1m 21s\tremaining: 7m 32s\n",
      "46:\tlearn: 0.1673727\ttotal: 1m 23s\tremaining: 7m 30s\n",
      "47:\tlearn: 0.1668099\ttotal: 1m 25s\tremaining: 7m 28s\n",
      "48:\tlearn: 0.1659767\ttotal: 1m 27s\tremaining: 7m 26s\n",
      "49:\tlearn: 0.1652394\ttotal: 1m 28s\tremaining: 7m 24s\n",
      "50:\tlearn: 0.1646677\ttotal: 1m 30s\tremaining: 7m 22s\n",
      "51:\tlearn: 0.1641894\ttotal: 1m 32s\tremaining: 7m 19s\n",
      "52:\tlearn: 0.1635797\ttotal: 1m 33s\tremaining: 7m 17s\n",
      "53:\tlearn: 0.1630982\ttotal: 1m 35s\tremaining: 7m 15s\n",
      "54:\tlearn: 0.1624991\ttotal: 1m 37s\tremaining: 7m 13s\n",
      "55:\tlearn: 0.1617656\ttotal: 1m 39s\tremaining: 7m 11s\n",
      "56:\tlearn: 0.1611321\ttotal: 1m 40s\tremaining: 7m 9s\n",
      "57:\tlearn: 0.1602535\ttotal: 1m 42s\tremaining: 7m 8s\n",
      "58:\tlearn: 0.1595563\ttotal: 1m 44s\tremaining: 7m 6s\n",
      "59:\tlearn: 0.1587270\ttotal: 1m 46s\tremaining: 7m 4s\n",
      "60:\tlearn: 0.1582968\ttotal: 1m 47s\tremaining: 7m 2s\n",
      "61:\tlearn: 0.1578828\ttotal: 1m 49s\tremaining: 6m 59s\n",
      "62:\tlearn: 0.1573565\ttotal: 1m 51s\tremaining: 6m 57s\n",
      "63:\tlearn: 0.1568869\ttotal: 1m 52s\tremaining: 6m 55s\n",
      "64:\tlearn: 0.1563131\ttotal: 1m 54s\tremaining: 6m 54s\n",
      "65:\tlearn: 0.1559017\ttotal: 1m 56s\tremaining: 6m 51s\n",
      "66:\tlearn: 0.1552092\ttotal: 1m 57s\tremaining: 6m 49s\n",
      "67:\tlearn: 0.1547846\ttotal: 1m 59s\tremaining: 6m 47s\n",
      "68:\tlearn: 0.1543220\ttotal: 2m 1s\tremaining: 6m 45s\n",
      "69:\tlearn: 0.1537030\ttotal: 2m 2s\tremaining: 6m 43s\n",
      "70:\tlearn: 0.1532560\ttotal: 2m 4s\tremaining: 6m 42s\n",
      "71:\tlearn: 0.1529107\ttotal: 2m 6s\tremaining: 6m 39s\n",
      "72:\tlearn: 0.1525499\ttotal: 2m 7s\tremaining: 6m 37s\n",
      "73:\tlearn: 0.1522249\ttotal: 2m 9s\tremaining: 6m 36s\n",
      "74:\tlearn: 0.1519054\ttotal: 2m 11s\tremaining: 6m 33s\n",
      "75:\tlearn: 0.1514291\ttotal: 2m 13s\tremaining: 6m 32s\n",
      "76:\tlearn: 0.1510655\ttotal: 2m 14s\tremaining: 6m 30s\n",
      "77:\tlearn: 0.1506637\ttotal: 2m 16s\tremaining: 6m 28s\n",
      "78:\tlearn: 0.1503375\ttotal: 2m 18s\tremaining: 6m 26s\n",
      "79:\tlearn: 0.1500020\ttotal: 2m 19s\tremaining: 6m 24s\n",
      "80:\tlearn: 0.1494621\ttotal: 2m 21s\tremaining: 6m 23s\n",
      "81:\tlearn: 0.1490654\ttotal: 2m 23s\tremaining: 6m 21s\n",
      "82:\tlearn: 0.1485606\ttotal: 2m 25s\tremaining: 6m 19s\n",
      "83:\tlearn: 0.1481524\ttotal: 2m 27s\tremaining: 6m 18s\n",
      "84:\tlearn: 0.1476684\ttotal: 2m 28s\tremaining: 6m 16s\n",
      "85:\tlearn: 0.1474322\ttotal: 2m 30s\tremaining: 6m 14s\n",
      "86:\tlearn: 0.1472080\ttotal: 2m 32s\tremaining: 6m 12s\n",
      "87:\tlearn: 0.1467315\ttotal: 2m 33s\tremaining: 6m 10s\n",
      "88:\tlearn: 0.1462218\ttotal: 2m 35s\tremaining: 6m 8s\n",
      "89:\tlearn: 0.1459210\ttotal: 2m 37s\tremaining: 6m 6s\n",
      "90:\tlearn: 0.1455912\ttotal: 2m 38s\tremaining: 6m 4s\n",
      "91:\tlearn: 0.1452607\ttotal: 2m 40s\tremaining: 6m 2s\n",
      "92:\tlearn: 0.1450505\ttotal: 2m 42s\tremaining: 6m\n",
      "93:\tlearn: 0.1447158\ttotal: 2m 43s\tremaining: 5m 58s\n",
      "94:\tlearn: 0.1444479\ttotal: 2m 45s\tremaining: 5m 57s\n",
      "95:\tlearn: 0.1440450\ttotal: 2m 47s\tremaining: 5m 55s\n",
      "96:\tlearn: 0.1438572\ttotal: 2m 48s\tremaining: 5m 53s\n",
      "97:\tlearn: 0.1434627\ttotal: 2m 50s\tremaining: 5m 51s\n",
      "98:\tlearn: 0.1432457\ttotal: 2m 52s\tremaining: 5m 49s\n",
      "99:\tlearn: 0.1426376\ttotal: 2m 54s\tremaining: 5m 48s\n",
      "100:\tlearn: 0.1424588\ttotal: 2m 55s\tremaining: 5m 46s\n",
      "101:\tlearn: 0.1421125\ttotal: 2m 57s\tremaining: 5m 44s\n",
      "102:\tlearn: 0.1417279\ttotal: 2m 59s\tremaining: 5m 43s\n",
      "103:\tlearn: 0.1414044\ttotal: 3m 1s\tremaining: 5m 41s\n",
      "104:\tlearn: 0.1410709\ttotal: 3m 2s\tremaining: 5m 39s\n",
      "105:\tlearn: 0.1408627\ttotal: 3m 4s\tremaining: 5m 37s\n",
      "106:\tlearn: 0.1406536\ttotal: 3m 5s\tremaining: 5m 35s\n",
      "107:\tlearn: 0.1404519\ttotal: 3m 7s\tremaining: 5m 33s\n",
      "108:\tlearn: 0.1402694\ttotal: 3m 9s\tremaining: 5m 31s\n",
      "109:\tlearn: 0.1399702\ttotal: 3m 10s\tremaining: 5m 29s\n",
      "110:\tlearn: 0.1396426\ttotal: 3m 12s\tremaining: 5m 28s\n",
      "111:\tlearn: 0.1394138\ttotal: 3m 14s\tremaining: 5m 26s\n",
      "112:\tlearn: 0.1391011\ttotal: 3m 16s\tremaining: 5m 24s\n",
      "113:\tlearn: 0.1386700\ttotal: 3m 17s\tremaining: 5m 22s\n",
      "114:\tlearn: 0.1383857\ttotal: 3m 19s\tremaining: 5m 20s\n",
      "115:\tlearn: 0.1382205\ttotal: 3m 20s\tremaining: 5m 18s\n",
      "116:\tlearn: 0.1379618\ttotal: 3m 22s\tremaining: 5m 17s\n",
      "117:\tlearn: 0.1375543\ttotal: 3m 24s\tremaining: 5m 15s\n",
      "118:\tlearn: 0.1372633\ttotal: 3m 26s\tremaining: 5m 13s\n",
      "119:\tlearn: 0.1371179\ttotal: 3m 27s\tremaining: 5m 11s\n",
      "120:\tlearn: 0.1367462\ttotal: 3m 29s\tremaining: 5m 9s\n",
      "121:\tlearn: 0.1365931\ttotal: 3m 31s\tremaining: 5m 8s\n",
      "122:\tlearn: 0.1364490\ttotal: 3m 32s\tremaining: 5m 6s\n",
      "123:\tlearn: 0.1361992\ttotal: 3m 34s\tremaining: 5m 4s\n",
      "124:\tlearn: 0.1359543\ttotal: 3m 36s\tremaining: 5m 2s\n",
      "125:\tlearn: 0.1355235\ttotal: 3m 38s\tremaining: 5m 1s\n",
      "126:\tlearn: 0.1352392\ttotal: 3m 39s\tremaining: 4m 59s\n",
      "127:\tlearn: 0.1350926\ttotal: 3m 41s\tremaining: 4m 57s\n",
      "128:\tlearn: 0.1349598\ttotal: 3m 43s\tremaining: 4m 55s\n",
      "129:\tlearn: 0.1345716\ttotal: 3m 44s\tremaining: 4m 53s\n",
      "130:\tlearn: 0.1344426\ttotal: 3m 46s\tremaining: 4m 52s\n",
      "131:\tlearn: 0.1343325\ttotal: 3m 48s\tremaining: 4m 50s\n",
      "132:\tlearn: 0.1341707\ttotal: 3m 49s\tremaining: 4m 48s\n",
      "133:\tlearn: 0.1339688\ttotal: 3m 51s\tremaining: 4m 46s\n",
      "134:\tlearn: 0.1336814\ttotal: 3m 53s\tremaining: 4m 44s\n",
      "135:\tlearn: 0.1335619\ttotal: 3m 54s\tremaining: 4m 43s\n",
      "136:\tlearn: 0.1333439\ttotal: 3m 56s\tremaining: 4m 41s\n",
      "137:\tlearn: 0.1331048\ttotal: 3m 58s\tremaining: 4m 39s\n",
      "138:\tlearn: 0.1328120\ttotal: 4m\tremaining: 4m 38s\n",
      "139:\tlearn: 0.1326167\ttotal: 4m 1s\tremaining: 4m 36s\n",
      "140:\tlearn: 0.1324641\ttotal: 4m 3s\tremaining: 4m 34s\n",
      "141:\tlearn: 0.1323425\ttotal: 4m 5s\tremaining: 4m 32s\n",
      "142:\tlearn: 0.1322404\ttotal: 4m 6s\tremaining: 4m 30s\n",
      "143:\tlearn: 0.1319964\ttotal: 4m 8s\tremaining: 4m 29s\n",
      "144:\tlearn: 0.1317569\ttotal: 4m 10s\tremaining: 4m 27s\n",
      "145:\tlearn: 0.1315912\ttotal: 4m 11s\tremaining: 4m 25s\n",
      "146:\tlearn: 0.1314292\ttotal: 4m 13s\tremaining: 4m 23s\n",
      "147:\tlearn: 0.1311775\ttotal: 4m 15s\tremaining: 4m 21s\n",
      "148:\tlearn: 0.1310602\ttotal: 4m 16s\tremaining: 4m 20s\n",
      "149:\tlearn: 0.1309449\ttotal: 4m 18s\tremaining: 4m 18s\n",
      "150:\tlearn: 0.1306780\ttotal: 4m 20s\tremaining: 4m 16s\n",
      "151:\tlearn: 0.1304689\ttotal: 4m 21s\tremaining: 4m 14s\n",
      "152:\tlearn: 0.1303574\ttotal: 4m 23s\tremaining: 4m 13s\n",
      "153:\tlearn: 0.1302221\ttotal: 4m 25s\tremaining: 4m 11s\n",
      "154:\tlearn: 0.1300797\ttotal: 4m 26s\tremaining: 4m 9s\n",
      "155:\tlearn: 0.1299319\ttotal: 4m 28s\tremaining: 4m 7s\n",
      "156:\tlearn: 0.1296576\ttotal: 4m 30s\tremaining: 4m 6s\n",
      "157:\tlearn: 0.1294232\ttotal: 4m 31s\tremaining: 4m 4s\n",
      "158:\tlearn: 0.1291220\ttotal: 4m 33s\tremaining: 4m 2s\n",
      "159:\tlearn: 0.1289066\ttotal: 4m 35s\tremaining: 4m\n",
      "160:\tlearn: 0.1286973\ttotal: 4m 37s\tremaining: 3m 59s\n",
      "161:\tlearn: 0.1284818\ttotal: 4m 38s\tremaining: 3m 57s\n",
      "162:\tlearn: 0.1283654\ttotal: 4m 40s\tremaining: 3m 55s\n",
      "163:\tlearn: 0.1282364\ttotal: 4m 42s\tremaining: 3m 53s\n",
      "164:\tlearn: 0.1281276\ttotal: 4m 43s\tremaining: 3m 52s\n",
      "165:\tlearn: 0.1279000\ttotal: 4m 45s\tremaining: 3m 50s\n",
      "166:\tlearn: 0.1277894\ttotal: 4m 47s\tremaining: 3m 48s\n",
      "167:\tlearn: 0.1276210\ttotal: 4m 48s\tremaining: 3m 47s\n",
      "168:\tlearn: 0.1272798\ttotal: 4m 50s\tremaining: 3m 45s\n",
      "169:\tlearn: 0.1271763\ttotal: 4m 52s\tremaining: 3m 43s\n",
      "170:\tlearn: 0.1270561\ttotal: 4m 54s\tremaining: 3m 41s\n",
      "171:\tlearn: 0.1268594\ttotal: 4m 55s\tremaining: 3m 40s\n",
      "172:\tlearn: 0.1267575\ttotal: 4m 57s\tremaining: 3m 38s\n",
      "173:\tlearn: 0.1264890\ttotal: 4m 59s\tremaining: 3m 36s\n",
      "174:\tlearn: 0.1264001\ttotal: 5m\tremaining: 3m 34s\n",
      "175:\tlearn: 0.1260851\ttotal: 5m 2s\tremaining: 3m 33s\n",
      "176:\tlearn: 0.1259957\ttotal: 5m 4s\tremaining: 3m 31s\n",
      "177:\tlearn: 0.1258109\ttotal: 5m 5s\tremaining: 3m 29s\n",
      "178:\tlearn: 0.1257150\ttotal: 5m 7s\tremaining: 3m 27s\n",
      "179:\tlearn: 0.1255686\ttotal: 5m 9s\tremaining: 3m 26s\n",
      "180:\tlearn: 0.1254773\ttotal: 5m 11s\tremaining: 3m 24s\n",
      "181:\tlearn: 0.1251683\ttotal: 5m 12s\tremaining: 3m 22s\n",
      "182:\tlearn: 0.1250614\ttotal: 5m 14s\tremaining: 3m 21s\n",
      "183:\tlearn: 0.1248746\ttotal: 5m 16s\tremaining: 3m 19s\n",
      "184:\tlearn: 0.1247435\ttotal: 5m 17s\tremaining: 3m 17s\n",
      "185:\tlearn: 0.1246495\ttotal: 5m 19s\tremaining: 3m 15s\n",
      "186:\tlearn: 0.1245601\ttotal: 5m 21s\tremaining: 3m 14s\n",
      "187:\tlearn: 0.1243598\ttotal: 5m 22s\tremaining: 3m 12s\n",
      "188:\tlearn: 0.1242682\ttotal: 5m 24s\tremaining: 3m 10s\n",
      "189:\tlearn: 0.1241904\ttotal: 5m 26s\tremaining: 3m 8s\n",
      "190:\tlearn: 0.1241055\ttotal: 5m 27s\tremaining: 3m 7s\n",
      "191:\tlearn: 0.1240270\ttotal: 5m 29s\tremaining: 3m 5s\n",
      "192:\tlearn: 0.1238256\ttotal: 5m 31s\tremaining: 3m 3s\n",
      "193:\tlearn: 0.1235773\ttotal: 5m 33s\tremaining: 3m 2s\n",
      "194:\tlearn: 0.1234964\ttotal: 5m 34s\tremaining: 3m\n",
      "195:\tlearn: 0.1233142\ttotal: 5m 36s\tremaining: 2m 58s\n",
      "196:\tlearn: 0.1231459\ttotal: 5m 38s\tremaining: 2m 56s\n",
      "197:\tlearn: 0.1230608\ttotal: 5m 39s\tremaining: 2m 55s\n",
      "198:\tlearn: 0.1229809\ttotal: 5m 41s\tremaining: 2m 53s\n",
      "199:\tlearn: 0.1226012\ttotal: 5m 43s\tremaining: 2m 51s\n",
      "200:\tlearn: 0.1223305\ttotal: 5m 44s\tremaining: 2m 49s\n",
      "201:\tlearn: 0.1222473\ttotal: 5m 46s\tremaining: 2m 48s\n",
      "202:\tlearn: 0.1221690\ttotal: 5m 48s\tremaining: 2m 46s\n",
      "203:\tlearn: 0.1220516\ttotal: 5m 49s\tremaining: 2m 44s\n",
      "204:\tlearn: 0.1218800\ttotal: 5m 51s\tremaining: 2m 42s\n",
      "205:\tlearn: 0.1216556\ttotal: 5m 53s\tremaining: 2m 41s\n",
      "206:\tlearn: 0.1214287\ttotal: 5m 55s\tremaining: 2m 39s\n",
      "207:\tlearn: 0.1213474\ttotal: 5m 56s\tremaining: 2m 37s\n",
      "208:\tlearn: 0.1212726\ttotal: 5m 58s\tremaining: 2m 36s\n",
      "209:\tlearn: 0.1211940\ttotal: 5m 59s\tremaining: 2m 34s\n",
      "210:\tlearn: 0.1209478\ttotal: 6m 1s\tremaining: 2m 32s\n",
      "211:\tlearn: 0.1207164\ttotal: 6m 3s\tremaining: 2m 30s\n",
      "212:\tlearn: 0.1205415\ttotal: 6m 5s\tremaining: 2m 29s\n",
      "213:\tlearn: 0.1204400\ttotal: 6m 6s\tremaining: 2m 27s\n",
      "214:\tlearn: 0.1203613\ttotal: 6m 8s\tremaining: 2m 25s\n",
      "215:\tlearn: 0.1202685\ttotal: 6m 10s\tremaining: 2m 23s\n",
      "216:\tlearn: 0.1201907\ttotal: 6m 11s\tremaining: 2m 22s\n",
      "217:\tlearn: 0.1201204\ttotal: 6m 13s\tremaining: 2m 20s\n",
      "218:\tlearn: 0.1200295\ttotal: 6m 15s\tremaining: 2m 18s\n",
      "219:\tlearn: 0.1198970\ttotal: 6m 17s\tremaining: 2m 17s\n",
      "220:\tlearn: 0.1198187\ttotal: 6m 18s\tremaining: 2m 15s\n",
      "221:\tlearn: 0.1196077\ttotal: 6m 20s\tremaining: 2m 13s\n",
      "222:\tlearn: 0.1195360\ttotal: 6m 22s\tremaining: 2m 11s\n",
      "223:\tlearn: 0.1194638\ttotal: 6m 23s\tremaining: 2m 10s\n",
      "224:\tlearn: 0.1193931\ttotal: 6m 25s\tremaining: 2m 8s\n",
      "225:\tlearn: 0.1193279\ttotal: 6m 27s\tremaining: 2m 6s\n",
      "226:\tlearn: 0.1192470\ttotal: 6m 28s\tremaining: 2m 5s\n",
      "227:\tlearn: 0.1191076\ttotal: 6m 30s\tremaining: 2m 3s\n",
      "228:\tlearn: 0.1189853\ttotal: 6m 32s\tremaining: 2m 1s\n",
      "229:\tlearn: 0.1188964\ttotal: 6m 34s\tremaining: 1m 59s\n",
      "230:\tlearn: 0.1188297\ttotal: 6m 35s\tremaining: 1m 58s\n",
      "231:\tlearn: 0.1187635\ttotal: 6m 37s\tremaining: 1m 56s\n",
      "232:\tlearn: 0.1186970\ttotal: 6m 39s\tremaining: 1m 54s\n",
      "233:\tlearn: 0.1185146\ttotal: 6m 41s\tremaining: 1m 53s\n",
      "234:\tlearn: 0.1184227\ttotal: 6m 42s\tremaining: 1m 51s\n",
      "235:\tlearn: 0.1183576\ttotal: 6m 44s\tremaining: 1m 49s\n",
      "236:\tlearn: 0.1181667\ttotal: 6m 46s\tremaining: 1m 47s\n",
      "237:\tlearn: 0.1180249\ttotal: 6m 48s\tremaining: 1m 46s\n",
      "238:\tlearn: 0.1179607\ttotal: 6m 49s\tremaining: 1m 44s\n",
      "239:\tlearn: 0.1178435\ttotal: 6m 51s\tremaining: 1m 42s\n",
      "240:\tlearn: 0.1177823\ttotal: 6m 52s\tremaining: 1m 41s\n",
      "241:\tlearn: 0.1177139\ttotal: 6m 54s\tremaining: 1m 39s\n",
      "242:\tlearn: 0.1176548\ttotal: 6m 56s\tremaining: 1m 37s\n",
      "243:\tlearn: 0.1174827\ttotal: 6m 57s\tremaining: 1m 35s\n",
      "244:\tlearn: 0.1172222\ttotal: 6m 59s\tremaining: 1m 34s\n",
      "245:\tlearn: 0.1171594\ttotal: 7m 1s\tremaining: 1m 32s\n",
      "246:\tlearn: 0.1170967\ttotal: 7m 2s\tremaining: 1m 30s\n",
      "247:\tlearn: 0.1169027\ttotal: 7m 4s\tremaining: 1m 29s\n",
      "248:\tlearn: 0.1166842\ttotal: 7m 6s\tremaining: 1m 27s\n",
      "249:\tlearn: 0.1164727\ttotal: 7m 8s\tremaining: 1m 25s\n",
      "250:\tlearn: 0.1163616\ttotal: 7m 9s\tremaining: 1m 23s\n",
      "251:\tlearn: 0.1162897\ttotal: 7m 11s\tremaining: 1m 22s\n",
      "252:\tlearn: 0.1162000\ttotal: 7m 13s\tremaining: 1m 20s\n",
      "253:\tlearn: 0.1161364\ttotal: 7m 14s\tremaining: 1m 18s\n",
      "254:\tlearn: 0.1160776\ttotal: 7m 16s\tremaining: 1m 17s\n",
      "255:\tlearn: 0.1160163\ttotal: 7m 18s\tremaining: 1m 15s\n",
      "256:\tlearn: 0.1158610\ttotal: 7m 19s\tremaining: 1m 13s\n",
      "257:\tlearn: 0.1157407\ttotal: 7m 21s\tremaining: 1m 11s\n",
      "258:\tlearn: 0.1156750\ttotal: 7m 22s\tremaining: 1m 10s\n",
      "259:\tlearn: 0.1155497\ttotal: 7m 24s\tremaining: 1m 8s\n",
      "260:\tlearn: 0.1153747\ttotal: 7m 26s\tremaining: 1m 6s\n",
      "261:\tlearn: 0.1152972\ttotal: 7m 28s\tremaining: 1m 5s\n",
      "262:\tlearn: 0.1152361\ttotal: 7m 29s\tremaining: 1m 3s\n",
      "263:\tlearn: 0.1151753\ttotal: 7m 31s\tremaining: 1m 1s\n",
      "264:\tlearn: 0.1151193\ttotal: 7m 33s\tremaining: 59.8s\n",
      "265:\tlearn: 0.1150475\ttotal: 7m 34s\tremaining: 58.1s\n",
      "266:\tlearn: 0.1148392\ttotal: 7m 36s\tremaining: 56.4s\n",
      "267:\tlearn: 0.1147798\ttotal: 7m 38s\tremaining: 54.7s\n",
      "268:\tlearn: 0.1147030\ttotal: 7m 39s\tremaining: 53s\n",
      "269:\tlearn: 0.1145844\ttotal: 7m 41s\tremaining: 51.3s\n",
      "270:\tlearn: 0.1145258\ttotal: 7m 43s\tremaining: 49.6s\n",
      "271:\tlearn: 0.1141436\ttotal: 7m 44s\tremaining: 47.8s\n",
      "272:\tlearn: 0.1140860\ttotal: 7m 46s\tremaining: 46.1s\n",
      "273:\tlearn: 0.1139372\ttotal: 7m 48s\tremaining: 44.4s\n",
      "274:\tlearn: 0.1138805\ttotal: 7m 49s\tremaining: 42.7s\n",
      "275:\tlearn: 0.1137349\ttotal: 7m 51s\tremaining: 41s\n",
      "276:\tlearn: 0.1134261\ttotal: 7m 53s\tremaining: 39.3s\n",
      "277:\tlearn: 0.1133669\ttotal: 7m 55s\tremaining: 37.6s\n",
      "278:\tlearn: 0.1133095\ttotal: 7m 56s\tremaining: 35.9s\n",
      "279:\tlearn: 0.1132490\ttotal: 7m 58s\tremaining: 34.2s\n",
      "280:\tlearn: 0.1130879\ttotal: 8m\tremaining: 32.5s\n",
      "281:\tlearn: 0.1130309\ttotal: 8m 1s\tremaining: 30.8s\n",
      "282:\tlearn: 0.1129587\ttotal: 8m 3s\tremaining: 29s\n",
      "283:\tlearn: 0.1128713\ttotal: 8m 4s\tremaining: 27.3s\n",
      "284:\tlearn: 0.1128195\ttotal: 8m 6s\tremaining: 25.6s\n",
      "285:\tlearn: 0.1126526\ttotal: 8m 8s\tremaining: 23.9s\n",
      "286:\tlearn: 0.1125732\ttotal: 8m 10s\tremaining: 22.2s\n",
      "287:\tlearn: 0.1124467\ttotal: 8m 11s\tremaining: 20.5s\n",
      "288:\tlearn: 0.1122919\ttotal: 8m 13s\tremaining: 18.8s\n",
      "289:\tlearn: 0.1121102\ttotal: 8m 15s\tremaining: 17.1s\n",
      "290:\tlearn: 0.1120572\ttotal: 8m 17s\tremaining: 15.4s\n",
      "291:\tlearn: 0.1119907\ttotal: 8m 18s\tremaining: 13.7s\n",
      "292:\tlearn: 0.1118987\ttotal: 8m 20s\tremaining: 12s\n",
      "293:\tlearn: 0.1116746\ttotal: 8m 22s\tremaining: 10.3s\n",
      "294:\tlearn: 0.1116077\ttotal: 8m 24s\tremaining: 8.54s\n",
      "295:\tlearn: 0.1115518\ttotal: 8m 25s\tremaining: 6.83s\n",
      "296:\tlearn: 0.1114067\ttotal: 8m 27s\tremaining: 5.13s\n",
      "297:\tlearn: 0.1113560\ttotal: 8m 29s\tremaining: 3.42s\n",
      "298:\tlearn: 0.1112991\ttotal: 8m 30s\tremaining: 1.71s\n",
      "299:\tlearn: 0.1111914\ttotal: 8m 32s\tremaining: 0us\n",
      "Learning rate set to 0.223867\n",
      "0:\tlearn: 0.4968856\ttotal: 2.3s\tremaining: 11m 29s\n",
      "1:\tlearn: 0.3790476\ttotal: 4.1s\tremaining: 10m 10s\n",
      "2:\tlearn: 0.3156215\ttotal: 5.89s\tremaining: 9m 43s\n",
      "3:\tlearn: 0.2812160\ttotal: 7.8s\tremaining: 9m 37s\n",
      "4:\tlearn: 0.2591470\ttotal: 9.66s\tremaining: 9m 29s\n",
      "5:\tlearn: 0.2450430\ttotal: 11.5s\tremaining: 9m 25s\n",
      "6:\tlearn: 0.2341924\ttotal: 13.4s\tremaining: 9m 19s\n",
      "7:\tlearn: 0.2280932\ttotal: 15.1s\tremaining: 9m 12s\n",
      "8:\tlearn: 0.2226575\ttotal: 17s\tremaining: 9m 8s\n",
      "9:\tlearn: 0.2191978\ttotal: 18.7s\tremaining: 9m 3s\n",
      "10:\tlearn: 0.2157748\ttotal: 20.5s\tremaining: 8m 59s\n",
      "11:\tlearn: 0.2124273\ttotal: 22.3s\tremaining: 8m 55s\n",
      "12:\tlearn: 0.2087073\ttotal: 24.1s\tremaining: 8m 53s\n",
      "13:\tlearn: 0.2063619\ttotal: 26s\tremaining: 8m 50s\n",
      "14:\tlearn: 0.2038516\ttotal: 27.8s\tremaining: 8m 47s\n",
      "15:\tlearn: 0.2011633\ttotal: 29.5s\tremaining: 8m 44s\n",
      "16:\tlearn: 0.1993988\ttotal: 31.3s\tremaining: 8m 41s\n",
      "17:\tlearn: 0.1976770\ttotal: 33.1s\tremaining: 8m 37s\n",
      "18:\tlearn: 0.1957921\ttotal: 34.8s\tremaining: 8m 33s\n",
      "19:\tlearn: 0.1934907\ttotal: 36.5s\tremaining: 8m 30s\n",
      "20:\tlearn: 0.1919061\ttotal: 38.2s\tremaining: 8m 28s\n",
      "21:\tlearn: 0.1904269\ttotal: 40s\tremaining: 8m 24s\n",
      "22:\tlearn: 0.1893989\ttotal: 41.8s\tremaining: 8m 23s\n",
      "23:\tlearn: 0.1871618\ttotal: 43.5s\tremaining: 8m 20s\n",
      "24:\tlearn: 0.1859976\ttotal: 45.3s\tremaining: 8m 18s\n",
      "25:\tlearn: 0.1845907\ttotal: 47.1s\tremaining: 8m 16s\n",
      "26:\tlearn: 0.1834729\ttotal: 48.8s\tremaining: 8m 13s\n",
      "27:\tlearn: 0.1824853\ttotal: 50.6s\tremaining: 8m 11s\n",
      "28:\tlearn: 0.1812628\ttotal: 52.4s\tremaining: 8m 9s\n",
      "29:\tlearn: 0.1802804\ttotal: 54.1s\tremaining: 8m 6s\n",
      "30:\tlearn: 0.1794540\ttotal: 55.8s\tremaining: 8m 4s\n",
      "31:\tlearn: 0.1785385\ttotal: 57.7s\tremaining: 8m 2s\n",
      "32:\tlearn: 0.1774951\ttotal: 59.4s\tremaining: 8m\n",
      "33:\tlearn: 0.1767352\ttotal: 1m 1s\tremaining: 7m 58s\n",
      "34:\tlearn: 0.1758572\ttotal: 1m 2s\tremaining: 7m 56s\n",
      "35:\tlearn: 0.1751329\ttotal: 1m 4s\tremaining: 7m 54s\n",
      "36:\tlearn: 0.1743943\ttotal: 1m 6s\tremaining: 7m 52s\n",
      "37:\tlearn: 0.1730746\ttotal: 1m 8s\tremaining: 7m 50s\n",
      "38:\tlearn: 0.1722489\ttotal: 1m 10s\tremaining: 7m 48s\n",
      "39:\tlearn: 0.1710449\ttotal: 1m 11s\tremaining: 7m 47s\n",
      "40:\tlearn: 0.1704226\ttotal: 1m 13s\tremaining: 7m 45s\n",
      "41:\tlearn: 0.1697411\ttotal: 1m 15s\tremaining: 7m 43s\n",
      "42:\tlearn: 0.1690646\ttotal: 1m 17s\tremaining: 7m 41s\n",
      "43:\tlearn: 0.1683744\ttotal: 1m 18s\tremaining: 7m 39s\n",
      "44:\tlearn: 0.1675101\ttotal: 1m 20s\tremaining: 7m 37s\n",
      "45:\tlearn: 0.1668196\ttotal: 1m 22s\tremaining: 7m 35s\n",
      "46:\tlearn: 0.1662179\ttotal: 1m 24s\tremaining: 7m 33s\n",
      "47:\tlearn: 0.1656264\ttotal: 1m 26s\tremaining: 7m 31s\n",
      "48:\tlearn: 0.1650233\ttotal: 1m 27s\tremaining: 7m 29s\n",
      "49:\tlearn: 0.1644024\ttotal: 1m 29s\tremaining: 7m 27s\n",
      "50:\tlearn: 0.1635315\ttotal: 1m 31s\tremaining: 7m 25s\n",
      "51:\tlearn: 0.1630431\ttotal: 1m 32s\tremaining: 7m 23s\n",
      "52:\tlearn: 0.1624796\ttotal: 1m 34s\tremaining: 7m 21s\n",
      "53:\tlearn: 0.1620518\ttotal: 1m 36s\tremaining: 7m 18s\n",
      "54:\tlearn: 0.1614514\ttotal: 1m 38s\tremaining: 7m 16s\n",
      "55:\tlearn: 0.1608823\ttotal: 1m 39s\tremaining: 7m 14s\n",
      "56:\tlearn: 0.1601244\ttotal: 1m 41s\tremaining: 7m 13s\n",
      "57:\tlearn: 0.1594382\ttotal: 1m 43s\tremaining: 7m 11s\n",
      "58:\tlearn: 0.1584856\ttotal: 1m 45s\tremaining: 7m 9s\n",
      "59:\tlearn: 0.1579937\ttotal: 1m 46s\tremaining: 7m 7s\n",
      "60:\tlearn: 0.1573534\ttotal: 1m 48s\tremaining: 7m 5s\n",
      "61:\tlearn: 0.1565022\ttotal: 1m 50s\tremaining: 7m 3s\n",
      "62:\tlearn: 0.1560874\ttotal: 1m 51s\tremaining: 7m\n",
      "63:\tlearn: 0.1555907\ttotal: 1m 53s\tremaining: 6m 58s\n",
      "64:\tlearn: 0.1551636\ttotal: 1m 55s\tremaining: 6m 56s\n",
      "65:\tlearn: 0.1547472\ttotal: 1m 57s\tremaining: 6m 54s\n",
      "66:\tlearn: 0.1542957\ttotal: 1m 58s\tremaining: 6m 52s\n",
      "67:\tlearn: 0.1537790\ttotal: 2m\tremaining: 6m 50s\n",
      "68:\tlearn: 0.1531488\ttotal: 2m 2s\tremaining: 6m 48s\n",
      "69:\tlearn: 0.1525144\ttotal: 2m 3s\tremaining: 6m 46s\n",
      "70:\tlearn: 0.1521426\ttotal: 2m 5s\tremaining: 6m 44s\n",
      "71:\tlearn: 0.1517741\ttotal: 2m 7s\tremaining: 6m 42s\n",
      "72:\tlearn: 0.1515042\ttotal: 2m 8s\tremaining: 6m 40s\n",
      "73:\tlearn: 0.1510406\ttotal: 2m 10s\tremaining: 6m 38s\n",
      "74:\tlearn: 0.1506649\ttotal: 2m 12s\tremaining: 6m 36s\n",
      "75:\tlearn: 0.1502274\ttotal: 2m 13s\tremaining: 6m 34s\n",
      "76:\tlearn: 0.1498603\ttotal: 2m 15s\tremaining: 6m 32s\n",
      "77:\tlearn: 0.1495936\ttotal: 2m 17s\tremaining: 6m 30s\n",
      "78:\tlearn: 0.1492736\ttotal: 2m 18s\tremaining: 6m 28s\n",
      "79:\tlearn: 0.1488593\ttotal: 2m 20s\tremaining: 6m 26s\n",
      "80:\tlearn: 0.1483063\ttotal: 2m 22s\tremaining: 6m 24s\n",
      "81:\tlearn: 0.1479735\ttotal: 2m 24s\tremaining: 6m 22s\n",
      "82:\tlearn: 0.1475981\ttotal: 2m 25s\tremaining: 6m 21s\n",
      "83:\tlearn: 0.1473511\ttotal: 2m 27s\tremaining: 6m 19s\n",
      "84:\tlearn: 0.1469247\ttotal: 2m 29s\tremaining: 6m 17s\n",
      "85:\tlearn: 0.1466651\ttotal: 2m 30s\tremaining: 6m 15s\n",
      "86:\tlearn: 0.1464531\ttotal: 2m 32s\tremaining: 6m 13s\n",
      "87:\tlearn: 0.1460487\ttotal: 2m 34s\tremaining: 6m 11s\n",
      "88:\tlearn: 0.1457517\ttotal: 2m 35s\tremaining: 6m 9s\n",
      "89:\tlearn: 0.1453341\ttotal: 2m 37s\tremaining: 6m 7s\n",
      "90:\tlearn: 0.1450110\ttotal: 2m 39s\tremaining: 6m 5s\n",
      "91:\tlearn: 0.1448216\ttotal: 2m 40s\tremaining: 6m 3s\n",
      "92:\tlearn: 0.1445297\ttotal: 2m 42s\tremaining: 6m 1s\n",
      "93:\tlearn: 0.1441011\ttotal: 2m 44s\tremaining: 6m\n",
      "94:\tlearn: 0.1437587\ttotal: 2m 46s\tremaining: 5m 58s\n",
      "95:\tlearn: 0.1434397\ttotal: 2m 47s\tremaining: 5m 56s\n",
      "96:\tlearn: 0.1431803\ttotal: 2m 49s\tremaining: 5m 54s\n",
      "97:\tlearn: 0.1428432\ttotal: 2m 51s\tremaining: 5m 52s\n",
      "98:\tlearn: 0.1424840\ttotal: 2m 52s\tremaining: 5m 50s\n",
      "99:\tlearn: 0.1423072\ttotal: 2m 54s\tremaining: 5m 48s\n",
      "100:\tlearn: 0.1419970\ttotal: 2m 56s\tremaining: 5m 47s\n",
      "101:\tlearn: 0.1416738\ttotal: 2m 58s\tremaining: 5m 45s\n",
      "102:\tlearn: 0.1413034\ttotal: 2m 59s\tremaining: 5m 43s\n",
      "103:\tlearn: 0.1411347\ttotal: 3m 1s\tremaining: 5m 41s\n",
      "104:\tlearn: 0.1409752\ttotal: 3m 3s\tremaining: 5m 39s\n",
      "105:\tlearn: 0.1405600\ttotal: 3m 4s\tremaining: 5m 38s\n",
      "106:\tlearn: 0.1403474\ttotal: 3m 6s\tremaining: 5m 36s\n",
      "107:\tlearn: 0.1401145\ttotal: 3m 8s\tremaining: 5m 34s\n",
      "108:\tlearn: 0.1398354\ttotal: 3m 9s\tremaining: 5m 32s\n",
      "109:\tlearn: 0.1396119\ttotal: 3m 11s\tremaining: 5m 30s\n",
      "110:\tlearn: 0.1394377\ttotal: 3m 13s\tremaining: 5m 28s\n",
      "111:\tlearn: 0.1392693\ttotal: 3m 14s\tremaining: 5m 27s\n",
      "112:\tlearn: 0.1387749\ttotal: 3m 16s\tremaining: 5m 25s\n",
      "113:\tlearn: 0.1386180\ttotal: 3m 18s\tremaining: 5m 23s\n",
      "114:\tlearn: 0.1383623\ttotal: 3m 19s\tremaining: 5m 21s\n",
      "115:\tlearn: 0.1379142\ttotal: 3m 21s\tremaining: 5m 19s\n",
      "116:\tlearn: 0.1374202\ttotal: 3m 23s\tremaining: 5m 18s\n",
      "117:\tlearn: 0.1372636\ttotal: 3m 24s\tremaining: 5m 16s\n",
      "118:\tlearn: 0.1371340\ttotal: 3m 26s\tremaining: 5m 14s\n",
      "119:\tlearn: 0.1370199\ttotal: 3m 28s\tremaining: 5m 12s\n",
      "120:\tlearn: 0.1367382\ttotal: 3m 30s\tremaining: 5m 10s\n",
      "121:\tlearn: 0.1365943\ttotal: 3m 31s\tremaining: 5m 8s\n",
      "122:\tlearn: 0.1362460\ttotal: 3m 33s\tremaining: 5m 6s\n",
      "123:\tlearn: 0.1359071\ttotal: 3m 35s\tremaining: 5m 5s\n",
      "124:\tlearn: 0.1357284\ttotal: 3m 36s\tremaining: 5m 3s\n",
      "125:\tlearn: 0.1354325\ttotal: 3m 38s\tremaining: 5m 1s\n",
      "126:\tlearn: 0.1352374\ttotal: 3m 40s\tremaining: 4m 59s\n",
      "127:\tlearn: 0.1347763\ttotal: 3m 41s\tremaining: 4m 57s\n",
      "128:\tlearn: 0.1345529\ttotal: 3m 43s\tremaining: 4m 56s\n",
      "129:\tlearn: 0.1342859\ttotal: 3m 45s\tremaining: 4m 54s\n",
      "130:\tlearn: 0.1341681\ttotal: 3m 46s\tremaining: 4m 52s\n",
      "131:\tlearn: 0.1339934\ttotal: 3m 48s\tremaining: 4m 50s\n",
      "132:\tlearn: 0.1338717\ttotal: 3m 50s\tremaining: 4m 48s\n",
      "133:\tlearn: 0.1337413\ttotal: 3m 51s\tremaining: 4m 47s\n",
      "134:\tlearn: 0.1334866\ttotal: 3m 53s\tremaining: 4m 45s\n",
      "135:\tlearn: 0.1332782\ttotal: 3m 55s\tremaining: 4m 43s\n",
      "136:\tlearn: 0.1331333\ttotal: 3m 56s\tremaining: 4m 41s\n",
      "137:\tlearn: 0.1328342\ttotal: 3m 58s\tremaining: 4m 40s\n",
      "138:\tlearn: 0.1325527\ttotal: 4m\tremaining: 4m 38s\n",
      "139:\tlearn: 0.1323435\ttotal: 4m 2s\tremaining: 4m 36s\n",
      "140:\tlearn: 0.1319444\ttotal: 4m 3s\tremaining: 4m 35s\n",
      "141:\tlearn: 0.1317784\ttotal: 4m 5s\tremaining: 4m 33s\n",
      "142:\tlearn: 0.1315265\ttotal: 4m 7s\tremaining: 4m 31s\n",
      "143:\tlearn: 0.1312864\ttotal: 4m 9s\tremaining: 4m 29s\n",
      "144:\tlearn: 0.1311680\ttotal: 4m 10s\tremaining: 4m 27s\n",
      "145:\tlearn: 0.1310579\ttotal: 4m 12s\tremaining: 4m 26s\n",
      "146:\tlearn: 0.1309405\ttotal: 4m 13s\tremaining: 4m 24s\n",
      "147:\tlearn: 0.1307219\ttotal: 4m 15s\tremaining: 4m 22s\n",
      "148:\tlearn: 0.1304338\ttotal: 4m 17s\tremaining: 4m 20s\n",
      "149:\tlearn: 0.1301817\ttotal: 4m 19s\tremaining: 4m 19s\n",
      "150:\tlearn: 0.1299825\ttotal: 4m 20s\tremaining: 4m 17s\n",
      "151:\tlearn: 0.1297417\ttotal: 4m 22s\tremaining: 4m 15s\n",
      "152:\tlearn: 0.1294798\ttotal: 4m 24s\tremaining: 4m 13s\n",
      "153:\tlearn: 0.1293738\ttotal: 4m 25s\tremaining: 4m 11s\n",
      "154:\tlearn: 0.1291759\ttotal: 4m 27s\tremaining: 4m 10s\n",
      "155:\tlearn: 0.1290408\ttotal: 4m 29s\tremaining: 4m 8s\n",
      "156:\tlearn: 0.1289180\ttotal: 4m 30s\tremaining: 4m 6s\n",
      "157:\tlearn: 0.1287302\ttotal: 4m 32s\tremaining: 4m 4s\n",
      "158:\tlearn: 0.1286027\ttotal: 4m 34s\tremaining: 4m 3s\n",
      "159:\tlearn: 0.1284907\ttotal: 4m 35s\tremaining: 4m 1s\n",
      "160:\tlearn: 0.1282648\ttotal: 4m 37s\tremaining: 3m 59s\n",
      "161:\tlearn: 0.1280172\ttotal: 4m 39s\tremaining: 3m 57s\n",
      "162:\tlearn: 0.1278136\ttotal: 4m 40s\tremaining: 3m 56s\n",
      "163:\tlearn: 0.1275990\ttotal: 4m 42s\tremaining: 3m 54s\n",
      "164:\tlearn: 0.1274839\ttotal: 4m 44s\tremaining: 3m 52s\n",
      "165:\tlearn: 0.1273727\ttotal: 4m 45s\tremaining: 3m 50s\n",
      "166:\tlearn: 0.1271878\ttotal: 4m 47s\tremaining: 3m 48s\n",
      "167:\tlearn: 0.1269376\ttotal: 4m 49s\tremaining: 3m 47s\n",
      "168:\tlearn: 0.1267935\ttotal: 4m 50s\tremaining: 3m 45s\n",
      "169:\tlearn: 0.1266858\ttotal: 4m 52s\tremaining: 3m 43s\n",
      "170:\tlearn: 0.1264072\ttotal: 4m 54s\tremaining: 3m 41s\n",
      "171:\tlearn: 0.1262881\ttotal: 4m 55s\tremaining: 3m 40s\n",
      "172:\tlearn: 0.1261839\ttotal: 4m 57s\tremaining: 3m 38s\n",
      "173:\tlearn: 0.1260149\ttotal: 4m 59s\tremaining: 3m 36s\n",
      "174:\tlearn: 0.1258983\ttotal: 5m\tremaining: 3m 34s\n",
      "175:\tlearn: 0.1256456\ttotal: 5m 2s\tremaining: 3m 33s\n",
      "176:\tlearn: 0.1255507\ttotal: 5m 4s\tremaining: 3m 31s\n",
      "177:\tlearn: 0.1253284\ttotal: 5m 6s\tremaining: 3m 29s\n",
      "178:\tlearn: 0.1252333\ttotal: 5m 7s\tremaining: 3m 28s\n",
      "179:\tlearn: 0.1251491\ttotal: 5m 9s\tremaining: 3m 26s\n",
      "180:\tlearn: 0.1250548\ttotal: 5m 11s\tremaining: 3m 24s\n",
      "181:\tlearn: 0.1249604\ttotal: 5m 12s\tremaining: 3m 22s\n",
      "182:\tlearn: 0.1248548\ttotal: 5m 14s\tremaining: 3m 21s\n",
      "183:\tlearn: 0.1246889\ttotal: 5m 16s\tremaining: 3m 19s\n",
      "184:\tlearn: 0.1245348\ttotal: 5m 17s\tremaining: 3m 17s\n",
      "185:\tlearn: 0.1244429\ttotal: 5m 19s\tremaining: 3m 15s\n",
      "186:\tlearn: 0.1242445\ttotal: 5m 21s\tremaining: 3m 14s\n",
      "187:\tlearn: 0.1241531\ttotal: 5m 22s\tremaining: 3m 12s\n",
      "188:\tlearn: 0.1240629\ttotal: 5m 24s\tremaining: 3m 10s\n",
      "189:\tlearn: 0.1238282\ttotal: 5m 26s\tremaining: 3m 8s\n",
      "190:\tlearn: 0.1235731\ttotal: 5m 28s\tremaining: 3m 7s\n",
      "191:\tlearn: 0.1234763\ttotal: 5m 29s\tremaining: 3m 5s\n",
      "192:\tlearn: 0.1233954\ttotal: 5m 31s\tremaining: 3m 3s\n",
      "193:\tlearn: 0.1231909\ttotal: 5m 33s\tremaining: 3m 1s\n",
      "194:\tlearn: 0.1230003\ttotal: 5m 34s\tremaining: 3m\n",
      "195:\tlearn: 0.1228572\ttotal: 5m 36s\tremaining: 2m 58s\n",
      "196:\tlearn: 0.1227728\ttotal: 5m 38s\tremaining: 2m 56s\n",
      "197:\tlearn: 0.1225984\ttotal: 5m 39s\tremaining: 2m 55s\n",
      "198:\tlearn: 0.1224156\ttotal: 5m 41s\tremaining: 2m 53s\n",
      "199:\tlearn: 0.1223274\ttotal: 5m 43s\tremaining: 2m 51s\n",
      "200:\tlearn: 0.1221089\ttotal: 5m 44s\tremaining: 2m 49s\n",
      "201:\tlearn: 0.1220319\ttotal: 5m 46s\tremaining: 2m 48s\n",
      "202:\tlearn: 0.1218538\ttotal: 5m 48s\tremaining: 2m 46s\n",
      "203:\tlearn: 0.1217595\ttotal: 5m 49s\tremaining: 2m 44s\n",
      "204:\tlearn: 0.1216808\ttotal: 5m 51s\tremaining: 2m 42s\n",
      "205:\tlearn: 0.1216066\ttotal: 5m 53s\tremaining: 2m 41s\n",
      "206:\tlearn: 0.1215160\ttotal: 5m 54s\tremaining: 2m 39s\n",
      "207:\tlearn: 0.1213235\ttotal: 5m 56s\tremaining: 2m 37s\n",
      "208:\tlearn: 0.1210617\ttotal: 5m 58s\tremaining: 2m 35s\n",
      "209:\tlearn: 0.1209815\ttotal: 5m 59s\tremaining: 2m 34s\n",
      "210:\tlearn: 0.1209084\ttotal: 6m 1s\tremaining: 2m 32s\n",
      "211:\tlearn: 0.1208199\ttotal: 6m 3s\tremaining: 2m 30s\n",
      "212:\tlearn: 0.1206412\ttotal: 6m 4s\tremaining: 2m 29s\n",
      "213:\tlearn: 0.1205680\ttotal: 6m 6s\tremaining: 2m 27s\n",
      "214:\tlearn: 0.1203938\ttotal: 6m 8s\tremaining: 2m 25s\n",
      "215:\tlearn: 0.1203213\ttotal: 6m 9s\tremaining: 2m 23s\n",
      "216:\tlearn: 0.1202450\ttotal: 6m 11s\tremaining: 2m 22s\n",
      "217:\tlearn: 0.1201728\ttotal: 6m 13s\tremaining: 2m 20s\n",
      "218:\tlearn: 0.1201020\ttotal: 6m 14s\tremaining: 2m 18s\n",
      "219:\tlearn: 0.1200351\ttotal: 6m 16s\tremaining: 2m 16s\n",
      "220:\tlearn: 0.1198334\ttotal: 6m 18s\tremaining: 2m 15s\n",
      "221:\tlearn: 0.1197653\ttotal: 6m 19s\tremaining: 2m 13s\n",
      "222:\tlearn: 0.1195114\ttotal: 6m 21s\tremaining: 2m 11s\n",
      "223:\tlearn: 0.1194283\ttotal: 6m 23s\tremaining: 2m 10s\n",
      "224:\tlearn: 0.1192374\ttotal: 6m 24s\tremaining: 2m 8s\n",
      "225:\tlearn: 0.1191649\ttotal: 6m 26s\tremaining: 2m 6s\n",
      "226:\tlearn: 0.1190922\ttotal: 6m 28s\tremaining: 2m 4s\n",
      "227:\tlearn: 0.1190291\ttotal: 6m 29s\tremaining: 2m 3s\n",
      "228:\tlearn: 0.1187379\ttotal: 6m 31s\tremaining: 2m 1s\n",
      "229:\tlearn: 0.1186547\ttotal: 6m 33s\tremaining: 1m 59s\n",
      "230:\tlearn: 0.1184635\ttotal: 6m 34s\tremaining: 1m 57s\n",
      "231:\tlearn: 0.1183948\ttotal: 6m 36s\tremaining: 1m 56s\n",
      "232:\tlearn: 0.1183090\ttotal: 6m 38s\tremaining: 1m 54s\n",
      "233:\tlearn: 0.1182487\ttotal: 6m 39s\tremaining: 1m 52s\n",
      "234:\tlearn: 0.1181262\ttotal: 6m 41s\tremaining: 1m 51s\n",
      "235:\tlearn: 0.1180633\ttotal: 6m 43s\tremaining: 1m 49s\n",
      "236:\tlearn: 0.1178160\ttotal: 6m 44s\tremaining: 1m 47s\n",
      "237:\tlearn: 0.1177121\ttotal: 6m 46s\tremaining: 1m 45s\n",
      "238:\tlearn: 0.1175482\ttotal: 6m 48s\tremaining: 1m 44s\n",
      "239:\tlearn: 0.1173377\ttotal: 6m 50s\tremaining: 1m 42s\n",
      "240:\tlearn: 0.1172481\ttotal: 6m 51s\tremaining: 1m 40s\n",
      "241:\tlearn: 0.1171824\ttotal: 6m 53s\tremaining: 1m 39s\n",
      "242:\tlearn: 0.1171212\ttotal: 6m 55s\tremaining: 1m 37s\n",
      "243:\tlearn: 0.1170468\ttotal: 6m 56s\tremaining: 1m 35s\n",
      "244:\tlearn: 0.1169755\ttotal: 6m 58s\tremaining: 1m 33s\n",
      "245:\tlearn: 0.1169116\ttotal: 7m\tremaining: 1m 32s\n",
      "246:\tlearn: 0.1167222\ttotal: 7m 1s\tremaining: 1m 30s\n",
      "247:\tlearn: 0.1165366\ttotal: 7m 3s\tremaining: 1m 28s\n",
      "248:\tlearn: 0.1163183\ttotal: 7m 5s\tremaining: 1m 27s\n",
      "249:\tlearn: 0.1161877\ttotal: 7m 7s\tremaining: 1m 25s\n",
      "250:\tlearn: 0.1161339\ttotal: 7m 8s\tremaining: 1m 23s\n",
      "251:\tlearn: 0.1159568\ttotal: 7m 10s\tremaining: 1m 21s\n",
      "252:\tlearn: 0.1158992\ttotal: 7m 12s\tremaining: 1m 20s\n",
      "253:\tlearn: 0.1158314\ttotal: 7m 13s\tremaining: 1m 18s\n",
      "254:\tlearn: 0.1157699\ttotal: 7m 15s\tremaining: 1m 16s\n",
      "255:\tlearn: 0.1157122\ttotal: 7m 17s\tremaining: 1m 15s\n",
      "256:\tlearn: 0.1156228\ttotal: 7m 18s\tremaining: 1m 13s\n",
      "257:\tlearn: 0.1155528\ttotal: 7m 20s\tremaining: 1m 11s\n",
      "258:\tlearn: 0.1154935\ttotal: 7m 21s\tremaining: 1m 9s\n",
      "259:\tlearn: 0.1154390\ttotal: 7m 23s\tremaining: 1m 8s\n",
      "260:\tlearn: 0.1153796\ttotal: 7m 25s\tremaining: 1m 6s\n",
      "261:\tlearn: 0.1152014\ttotal: 7m 26s\tremaining: 1m 4s\n",
      "262:\tlearn: 0.1151485\ttotal: 7m 28s\tremaining: 1m 3s\n",
      "263:\tlearn: 0.1149552\ttotal: 7m 30s\tremaining: 1m 1s\n",
      "264:\tlearn: 0.1147726\ttotal: 7m 31s\tremaining: 59.7s\n",
      "265:\tlearn: 0.1146181\ttotal: 7m 33s\tremaining: 58s\n",
      "266:\tlearn: 0.1145065\ttotal: 7m 35s\tremaining: 56.3s\n",
      "267:\tlearn: 0.1144265\ttotal: 7m 36s\tremaining: 54.6s\n",
      "268:\tlearn: 0.1142037\ttotal: 7m 38s\tremaining: 52.9s\n",
      "269:\tlearn: 0.1141016\ttotal: 7m 40s\tremaining: 51.2s\n",
      "270:\tlearn: 0.1140443\ttotal: 7m 42s\tremaining: 49.5s\n",
      "271:\tlearn: 0.1138832\ttotal: 7m 43s\tremaining: 47.8s\n",
      "272:\tlearn: 0.1136122\ttotal: 7m 45s\tremaining: 46.1s\n",
      "273:\tlearn: 0.1135250\ttotal: 7m 47s\tremaining: 44.4s\n",
      "274:\tlearn: 0.1133167\ttotal: 7m 49s\tremaining: 42.7s\n",
      "275:\tlearn: 0.1132510\ttotal: 7m 50s\tremaining: 41s\n",
      "276:\tlearn: 0.1130769\ttotal: 7m 52s\tremaining: 39.3s\n",
      "277:\tlearn: 0.1130309\ttotal: 7m 54s\tremaining: 37.5s\n",
      "278:\tlearn: 0.1129531\ttotal: 7m 56s\tremaining: 35.8s\n",
      "279:\tlearn: 0.1128173\ttotal: 7m 57s\tremaining: 34.1s\n",
      "280:\tlearn: 0.1126475\ttotal: 7m 59s\tremaining: 32.4s\n",
      "281:\tlearn: 0.1125826\ttotal: 8m 1s\tremaining: 30.7s\n",
      "282:\tlearn: 0.1124321\ttotal: 8m 3s\tremaining: 29s\n",
      "283:\tlearn: 0.1122836\ttotal: 8m 4s\tremaining: 27.3s\n",
      "284:\tlearn: 0.1122223\ttotal: 8m 6s\tremaining: 25.6s\n",
      "285:\tlearn: 0.1121632\ttotal: 8m 8s\tremaining: 23.9s\n",
      "286:\tlearn: 0.1121075\ttotal: 8m 9s\tremaining: 22.2s\n",
      "287:\tlearn: 0.1119808\ttotal: 8m 11s\tremaining: 20.5s\n",
      "288:\tlearn: 0.1119218\ttotal: 8m 13s\tremaining: 18.8s\n",
      "289:\tlearn: 0.1118605\ttotal: 8m 15s\tremaining: 17.1s\n",
      "290:\tlearn: 0.1117678\ttotal: 8m 16s\tremaining: 15.4s\n",
      "291:\tlearn: 0.1117136\ttotal: 8m 18s\tremaining: 13.7s\n",
      "292:\tlearn: 0.1116630\ttotal: 8m 20s\tremaining: 11.9s\n",
      "293:\tlearn: 0.1115699\ttotal: 8m 21s\tremaining: 10.2s\n",
      "294:\tlearn: 0.1114386\ttotal: 8m 23s\tremaining: 8.53s\n",
      "295:\tlearn: 0.1113875\ttotal: 8m 25s\tremaining: 6.83s\n",
      "296:\tlearn: 0.1113298\ttotal: 8m 27s\tremaining: 5.12s\n",
      "297:\tlearn: 0.1112298\ttotal: 8m 28s\tremaining: 3.41s\n",
      "298:\tlearn: 0.1110369\ttotal: 8m 30s\tremaining: 1.71s\n",
      "299:\tlearn: 0.1109036\ttotal: 8m 32s\tremaining: 0us\n",
      "Learning rate set to 0.223867\n",
      "0:\tlearn: 0.4929503\ttotal: 2.41s\tremaining: 11m 59s\n",
      "1:\tlearn: 0.3782750\ttotal: 4.23s\tremaining: 10m 30s\n",
      "2:\tlearn: 0.3153126\ttotal: 6.08s\tremaining: 10m 1s\n",
      "3:\tlearn: 0.2788656\ttotal: 8.02s\tremaining: 9m 53s\n",
      "4:\tlearn: 0.2576977\ttotal: 9.9s\tremaining: 9m 44s\n",
      "5:\tlearn: 0.2440527\ttotal: 11.8s\tremaining: 9m 38s\n",
      "6:\tlearn: 0.2343070\ttotal: 13.8s\tremaining: 9m 38s\n",
      "7:\tlearn: 0.2273866\ttotal: 15.6s\tremaining: 9m 29s\n",
      "8:\tlearn: 0.2226279\ttotal: 17.6s\tremaining: 9m 27s\n",
      "9:\tlearn: 0.2181253\ttotal: 19.4s\tremaining: 9m 21s\n",
      "10:\tlearn: 0.2147062\ttotal: 21.2s\tremaining: 9m 17s\n",
      "11:\tlearn: 0.2116389\ttotal: 23.1s\tremaining: 9m 13s\n",
      "12:\tlearn: 0.2090484\ttotal: 24.9s\tremaining: 9m 9s\n",
      "13:\tlearn: 0.2067786\ttotal: 26.8s\tremaining: 9m 8s\n",
      "14:\tlearn: 0.2037781\ttotal: 28.6s\tremaining: 9m 3s\n",
      "15:\tlearn: 0.2018789\ttotal: 30.4s\tremaining: 9m\n",
      "16:\tlearn: 0.1993385\ttotal: 32.3s\tremaining: 8m 56s\n",
      "17:\tlearn: 0.1974550\ttotal: 34s\tremaining: 8m 53s\n",
      "18:\tlearn: 0.1957790\ttotal: 35.7s\tremaining: 8m 48s\n",
      "19:\tlearn: 0.1933613\ttotal: 37.6s\tremaining: 8m 46s\n",
      "20:\tlearn: 0.1913466\ttotal: 39.4s\tremaining: 8m 43s\n",
      "21:\tlearn: 0.1901082\ttotal: 41.2s\tremaining: 8m 40s\n",
      "22:\tlearn: 0.1885834\ttotal: 43s\tremaining: 8m 37s\n",
      "23:\tlearn: 0.1874902\ttotal: 44.7s\tremaining: 8m 33s\n",
      "24:\tlearn: 0.1859208\ttotal: 46.5s\tremaining: 8m 31s\n",
      "25:\tlearn: 0.1844416\ttotal: 48.3s\tremaining: 8m 29s\n",
      "26:\tlearn: 0.1833343\ttotal: 50s\tremaining: 8m 25s\n",
      "27:\tlearn: 0.1823892\ttotal: 51.8s\tremaining: 8m 22s\n",
      "28:\tlearn: 0.1814505\ttotal: 53.5s\tremaining: 8m 20s\n",
      "29:\tlearn: 0.1806349\ttotal: 55.3s\tremaining: 8m 17s\n",
      "30:\tlearn: 0.1798066\ttotal: 57s\tremaining: 8m 15s\n",
      "31:\tlearn: 0.1786612\ttotal: 58.8s\tremaining: 8m 12s\n",
      "32:\tlearn: 0.1777108\ttotal: 1m\tremaining: 8m 9s\n",
      "33:\tlearn: 0.1766249\ttotal: 1m 2s\tremaining: 8m 7s\n",
      "34:\tlearn: 0.1757869\ttotal: 1m 4s\tremaining: 8m 5s\n",
      "35:\tlearn: 0.1747831\ttotal: 1m 5s\tremaining: 8m 2s\n",
      "36:\tlearn: 0.1738942\ttotal: 1m 7s\tremaining: 8m\n",
      "37:\tlearn: 0.1731087\ttotal: 1m 9s\tremaining: 7m 58s\n",
      "38:\tlearn: 0.1724337\ttotal: 1m 11s\tremaining: 7m 56s\n",
      "39:\tlearn: 0.1718135\ttotal: 1m 12s\tremaining: 7m 53s\n",
      "40:\tlearn: 0.1712163\ttotal: 1m 14s\tremaining: 7m 51s\n",
      "41:\tlearn: 0.1705259\ttotal: 1m 16s\tremaining: 7m 48s\n",
      "42:\tlearn: 0.1700269\ttotal: 1m 17s\tremaining: 7m 46s\n",
      "43:\tlearn: 0.1694326\ttotal: 1m 19s\tremaining: 7m 44s\n",
      "44:\tlearn: 0.1685886\ttotal: 1m 21s\tremaining: 7m 41s\n",
      "45:\tlearn: 0.1677361\ttotal: 1m 23s\tremaining: 7m 40s\n",
      "46:\tlearn: 0.1671754\ttotal: 1m 25s\tremaining: 7m 38s\n",
      "47:\tlearn: 0.1663356\ttotal: 1m 26s\tremaining: 7m 35s\n",
      "48:\tlearn: 0.1654950\ttotal: 1m 28s\tremaining: 7m 33s\n",
      "49:\tlearn: 0.1646718\ttotal: 1m 30s\tremaining: 7m 31s\n",
      "50:\tlearn: 0.1641849\ttotal: 1m 32s\tremaining: 7m 29s\n",
      "51:\tlearn: 0.1635597\ttotal: 1m 33s\tremaining: 7m 27s\n",
      "52:\tlearn: 0.1629415\ttotal: 1m 35s\tremaining: 7m 24s\n",
      "53:\tlearn: 0.1624196\ttotal: 1m 37s\tremaining: 7m 23s\n",
      "54:\tlearn: 0.1617352\ttotal: 1m 38s\tremaining: 7m 20s\n",
      "55:\tlearn: 0.1612356\ttotal: 1m 40s\tremaining: 7m 18s\n",
      "56:\tlearn: 0.1607272\ttotal: 1m 42s\tremaining: 7m 16s\n",
      "57:\tlearn: 0.1599392\ttotal: 1m 44s\tremaining: 7m 14s\n",
      "58:\tlearn: 0.1594115\ttotal: 1m 45s\tremaining: 7m 12s\n",
      "59:\tlearn: 0.1587471\ttotal: 1m 47s\tremaining: 7m 10s\n",
      "60:\tlearn: 0.1582051\ttotal: 1m 49s\tremaining: 7m 7s\n",
      "61:\tlearn: 0.1575650\ttotal: 1m 51s\tremaining: 7m 6s\n",
      "62:\tlearn: 0.1571527\ttotal: 1m 52s\tremaining: 7m 4s\n",
      "63:\tlearn: 0.1566833\ttotal: 1m 54s\tremaining: 7m 2s\n",
      "64:\tlearn: 0.1563175\ttotal: 1m 56s\tremaining: 7m\n",
      "65:\tlearn: 0.1558841\ttotal: 1m 57s\tremaining: 6m 57s\n",
      "66:\tlearn: 0.1551063\ttotal: 1m 59s\tremaining: 6m 55s\n",
      "67:\tlearn: 0.1547819\ttotal: 2m 1s\tremaining: 6m 53s\n",
      "68:\tlearn: 0.1543630\ttotal: 2m 2s\tremaining: 6m 51s\n",
      "69:\tlearn: 0.1538697\ttotal: 2m 4s\tremaining: 6m 49s\n",
      "70:\tlearn: 0.1535300\ttotal: 2m 6s\tremaining: 6m 47s\n",
      "71:\tlearn: 0.1531427\ttotal: 2m 7s\tremaining: 6m 45s\n",
      "72:\tlearn: 0.1527507\ttotal: 2m 9s\tremaining: 6m 43s\n",
      "73:\tlearn: 0.1522441\ttotal: 2m 11s\tremaining: 6m 41s\n",
      "74:\tlearn: 0.1518699\ttotal: 2m 13s\tremaining: 6m 39s\n",
      "75:\tlearn: 0.1512259\ttotal: 2m 14s\tremaining: 6m 37s\n",
      "76:\tlearn: 0.1509111\ttotal: 2m 16s\tremaining: 6m 35s\n",
      "77:\tlearn: 0.1506722\ttotal: 2m 18s\tremaining: 6m 33s\n",
      "78:\tlearn: 0.1502846\ttotal: 2m 19s\tremaining: 6m 31s\n",
      "79:\tlearn: 0.1499587\ttotal: 2m 21s\tremaining: 6m 29s\n",
      "80:\tlearn: 0.1495586\ttotal: 2m 23s\tremaining: 6m 27s\n",
      "81:\tlearn: 0.1492447\ttotal: 2m 24s\tremaining: 6m 25s\n",
      "82:\tlearn: 0.1488592\ttotal: 2m 26s\tremaining: 6m 23s\n",
      "83:\tlearn: 0.1486006\ttotal: 2m 28s\tremaining: 6m 21s\n",
      "84:\tlearn: 0.1483576\ttotal: 2m 29s\tremaining: 6m 18s\n",
      "85:\tlearn: 0.1480493\ttotal: 2m 31s\tremaining: 6m 16s\n",
      "86:\tlearn: 0.1475646\ttotal: 2m 33s\tremaining: 6m 15s\n",
      "87:\tlearn: 0.1471374\ttotal: 2m 34s\tremaining: 6m 13s\n",
      "88:\tlearn: 0.1466475\ttotal: 2m 36s\tremaining: 6m 11s\n",
      "89:\tlearn: 0.1463605\ttotal: 2m 38s\tremaining: 6m 9s\n",
      "90:\tlearn: 0.1459798\ttotal: 2m 40s\tremaining: 6m 7s\n",
      "91:\tlearn: 0.1456266\ttotal: 2m 41s\tremaining: 6m 5s\n",
      "92:\tlearn: 0.1451927\ttotal: 2m 43s\tremaining: 6m 3s\n",
      "93:\tlearn: 0.1448116\ttotal: 2m 45s\tremaining: 6m 1s\n",
      "94:\tlearn: 0.1444816\ttotal: 2m 46s\tremaining: 6m\n",
      "95:\tlearn: 0.1441508\ttotal: 2m 48s\tremaining: 5m 58s\n",
      "96:\tlearn: 0.1438438\ttotal: 2m 50s\tremaining: 5m 56s\n",
      "97:\tlearn: 0.1434408\ttotal: 2m 52s\tremaining: 5m 54s\n",
      "98:\tlearn: 0.1429927\ttotal: 2m 53s\tremaining: 5m 52s\n",
      "99:\tlearn: 0.1427692\ttotal: 2m 55s\tremaining: 5m 50s\n",
      "100:\tlearn: 0.1424149\ttotal: 2m 57s\tremaining: 5m 49s\n",
      "101:\tlearn: 0.1421759\ttotal: 2m 58s\tremaining: 5m 47s\n",
      "102:\tlearn: 0.1417997\ttotal: 3m\tremaining: 5m 45s\n",
      "103:\tlearn: 0.1414391\ttotal: 3m 2s\tremaining: 5m 44s\n",
      "104:\tlearn: 0.1411488\ttotal: 3m 4s\tremaining: 5m 42s\n",
      "105:\tlearn: 0.1408846\ttotal: 3m 5s\tremaining: 5m 40s\n",
      "106:\tlearn: 0.1407132\ttotal: 3m 7s\tremaining: 5m 38s\n",
      "107:\tlearn: 0.1405027\ttotal: 3m 9s\tremaining: 5m 36s\n",
      "108:\tlearn: 0.1403263\ttotal: 3m 11s\tremaining: 5m 34s\n",
      "109:\tlearn: 0.1400058\ttotal: 3m 12s\tremaining: 5m 32s\n",
      "110:\tlearn: 0.1397027\ttotal: 3m 14s\tremaining: 5m 31s\n",
      "111:\tlearn: 0.1394013\ttotal: 3m 16s\tremaining: 5m 29s\n",
      "112:\tlearn: 0.1391816\ttotal: 3m 17s\tremaining: 5m 27s\n",
      "113:\tlearn: 0.1388985\ttotal: 3m 19s\tremaining: 5m 25s\n",
      "114:\tlearn: 0.1387348\ttotal: 3m 21s\tremaining: 5m 23s\n",
      "115:\tlearn: 0.1384312\ttotal: 3m 22s\tremaining: 5m 21s\n",
      "116:\tlearn: 0.1381946\ttotal: 3m 24s\tremaining: 5m 19s\n",
      "117:\tlearn: 0.1378429\ttotal: 3m 26s\tremaining: 5m 18s\n",
      "118:\tlearn: 0.1376811\ttotal: 3m 27s\tremaining: 5m 16s\n",
      "119:\tlearn: 0.1375387\ttotal: 3m 29s\tremaining: 5m 14s\n",
      "120:\tlearn: 0.1373960\ttotal: 3m 31s\tremaining: 5m 12s\n",
      "121:\tlearn: 0.1371374\ttotal: 3m 32s\tremaining: 5m 10s\n",
      "122:\tlearn: 0.1368602\ttotal: 3m 34s\tremaining: 5m 8s\n",
      "123:\tlearn: 0.1365168\ttotal: 3m 36s\tremaining: 5m 7s\n",
      "124:\tlearn: 0.1363792\ttotal: 3m 37s\tremaining: 5m 5s\n",
      "125:\tlearn: 0.1362245\ttotal: 3m 39s\tremaining: 5m 3s\n",
      "126:\tlearn: 0.1359530\ttotal: 3m 41s\tremaining: 5m 1s\n",
      "127:\tlearn: 0.1358243\ttotal: 3m 42s\tremaining: 4m 59s\n",
      "128:\tlearn: 0.1356896\ttotal: 3m 44s\tremaining: 4m 57s\n",
      "129:\tlearn: 0.1354652\ttotal: 3m 46s\tremaining: 4m 55s\n",
      "130:\tlearn: 0.1353134\ttotal: 3m 47s\tremaining: 4m 53s\n",
      "131:\tlearn: 0.1352111\ttotal: 3m 49s\tremaining: 4m 51s\n",
      "132:\tlearn: 0.1349705\ttotal: 3m 51s\tremaining: 4m 50s\n",
      "133:\tlearn: 0.1347785\ttotal: 3m 52s\tremaining: 4m 48s\n",
      "134:\tlearn: 0.1345868\ttotal: 3m 54s\tremaining: 4m 46s\n",
      "135:\tlearn: 0.1343434\ttotal: 3m 56s\tremaining: 4m 44s\n",
      "136:\tlearn: 0.1341128\ttotal: 3m 57s\tremaining: 4m 43s\n",
      "137:\tlearn: 0.1339782\ttotal: 3m 59s\tremaining: 4m 41s\n",
      "138:\tlearn: 0.1336902\ttotal: 4m 1s\tremaining: 4m 39s\n",
      "139:\tlearn: 0.1335793\ttotal: 4m 3s\tremaining: 4m 37s\n",
      "140:\tlearn: 0.1333380\ttotal: 4m 4s\tremaining: 4m 35s\n",
      "141:\tlearn: 0.1330952\ttotal: 4m 6s\tremaining: 4m 34s\n",
      "142:\tlearn: 0.1329716\ttotal: 4m 8s\tremaining: 4m 32s\n",
      "143:\tlearn: 0.1328604\ttotal: 4m 9s\tremaining: 4m 30s\n",
      "144:\tlearn: 0.1327545\ttotal: 4m 11s\tremaining: 4m 28s\n",
      "145:\tlearn: 0.1324308\ttotal: 4m 13s\tremaining: 4m 27s\n",
      "146:\tlearn: 0.1321543\ttotal: 4m 15s\tremaining: 4m 25s\n",
      "147:\tlearn: 0.1318122\ttotal: 4m 16s\tremaining: 4m 23s\n",
      "148:\tlearn: 0.1316339\ttotal: 4m 18s\tremaining: 4m 21s\n",
      "149:\tlearn: 0.1313080\ttotal: 4m 20s\tremaining: 4m 20s\n",
      "150:\tlearn: 0.1310654\ttotal: 4m 21s\tremaining: 4m 18s\n",
      "151:\tlearn: 0.1307916\ttotal: 4m 23s\tremaining: 4m 16s\n",
      "152:\tlearn: 0.1306789\ttotal: 4m 25s\tremaining: 4m 14s\n",
      "153:\tlearn: 0.1304234\ttotal: 4m 27s\tremaining: 4m 13s\n",
      "154:\tlearn: 0.1302239\ttotal: 4m 28s\tremaining: 4m 11s\n",
      "155:\tlearn: 0.1299320\ttotal: 4m 30s\tremaining: 4m 9s\n",
      "156:\tlearn: 0.1296727\ttotal: 4m 32s\tremaining: 4m 7s\n",
      "157:\tlearn: 0.1295474\ttotal: 4m 33s\tremaining: 4m 6s\n",
      "158:\tlearn: 0.1294437\ttotal: 4m 35s\tremaining: 4m 4s\n",
      "159:\tlearn: 0.1292025\ttotal: 4m 37s\tremaining: 4m 2s\n",
      "160:\tlearn: 0.1290879\ttotal: 4m 38s\tremaining: 4m\n",
      "161:\tlearn: 0.1288610\ttotal: 4m 40s\tremaining: 3m 59s\n",
      "162:\tlearn: 0.1285382\ttotal: 4m 42s\tremaining: 3m 57s\n",
      "163:\tlearn: 0.1283439\ttotal: 4m 44s\tremaining: 3m 55s\n",
      "164:\tlearn: 0.1281552\ttotal: 4m 45s\tremaining: 3m 53s\n",
      "165:\tlearn: 0.1279923\ttotal: 4m 47s\tremaining: 3m 52s\n",
      "166:\tlearn: 0.1277646\ttotal: 4m 49s\tremaining: 3m 50s\n",
      "167:\tlearn: 0.1276593\ttotal: 4m 50s\tremaining: 3m 48s\n",
      "168:\tlearn: 0.1275431\ttotal: 4m 52s\tremaining: 3m 46s\n",
      "169:\tlearn: 0.1273847\ttotal: 4m 54s\tremaining: 3m 44s\n",
      "170:\tlearn: 0.1272962\ttotal: 4m 55s\tremaining: 3m 43s\n",
      "171:\tlearn: 0.1270127\ttotal: 4m 57s\tremaining: 3m 41s\n",
      "172:\tlearn: 0.1267966\ttotal: 4m 59s\tremaining: 3m 39s\n",
      "173:\tlearn: 0.1265658\ttotal: 5m 1s\tremaining: 3m 37s\n",
      "174:\tlearn: 0.1263479\ttotal: 5m 2s\tremaining: 3m 36s\n",
      "175:\tlearn: 0.1262521\ttotal: 5m 4s\tremaining: 3m 34s\n",
      "176:\tlearn: 0.1260978\ttotal: 5m 6s\tremaining: 3m 32s\n",
      "177:\tlearn: 0.1258700\ttotal: 5m 7s\tremaining: 3m 31s\n",
      "178:\tlearn: 0.1256854\ttotal: 5m 9s\tremaining: 3m 29s\n",
      "179:\tlearn: 0.1255012\ttotal: 5m 11s\tremaining: 3m 27s\n",
      "180:\tlearn: 0.1252330\ttotal: 5m 13s\tremaining: 3m 25s\n",
      "181:\tlearn: 0.1251389\ttotal: 5m 14s\tremaining: 3m 24s\n",
      "182:\tlearn: 0.1250265\ttotal: 5m 16s\tremaining: 3m 22s\n",
      "183:\tlearn: 0.1248068\ttotal: 5m 18s\tremaining: 3m 20s\n",
      "184:\tlearn: 0.1244913\ttotal: 5m 20s\tremaining: 3m 18s\n",
      "185:\tlearn: 0.1243934\ttotal: 5m 21s\tremaining: 3m 17s\n",
      "186:\tlearn: 0.1243019\ttotal: 5m 23s\tremaining: 3m 15s\n",
      "187:\tlearn: 0.1241204\ttotal: 5m 25s\tremaining: 3m 13s\n",
      "188:\tlearn: 0.1240267\ttotal: 5m 26s\tremaining: 3m 12s\n",
      "189:\tlearn: 0.1239310\ttotal: 5m 28s\tremaining: 3m 10s\n",
      "190:\tlearn: 0.1238465\ttotal: 5m 30s\tremaining: 3m 8s\n",
      "191:\tlearn: 0.1236785\ttotal: 5m 32s\tremaining: 3m 6s\n",
      "192:\tlearn: 0.1235897\ttotal: 5m 33s\tremaining: 3m 5s\n",
      "193:\tlearn: 0.1235069\ttotal: 5m 35s\tremaining: 3m 3s\n",
      "194:\tlearn: 0.1234239\ttotal: 5m 37s\tremaining: 3m 1s\n",
      "195:\tlearn: 0.1233128\ttotal: 5m 38s\tremaining: 2m 59s\n",
      "196:\tlearn: 0.1232131\ttotal: 5m 40s\tremaining: 2m 57s\n",
      "197:\tlearn: 0.1231216\ttotal: 5m 41s\tremaining: 2m 56s\n",
      "198:\tlearn: 0.1230338\ttotal: 5m 43s\tremaining: 2m 54s\n",
      "199:\tlearn: 0.1229524\ttotal: 5m 45s\tremaining: 2m 52s\n",
      "200:\tlearn: 0.1228758\ttotal: 5m 46s\tremaining: 2m 50s\n",
      "201:\tlearn: 0.1227911\ttotal: 5m 48s\tremaining: 2m 49s\n",
      "202:\tlearn: 0.1225600\ttotal: 5m 50s\tremaining: 2m 47s\n",
      "203:\tlearn: 0.1224882\ttotal: 5m 51s\tremaining: 2m 45s\n",
      "204:\tlearn: 0.1223223\ttotal: 5m 53s\tremaining: 2m 43s\n",
      "205:\tlearn: 0.1221132\ttotal: 5m 55s\tremaining: 2m 42s\n",
      "206:\tlearn: 0.1220310\ttotal: 5m 56s\tremaining: 2m 40s\n",
      "207:\tlearn: 0.1218767\ttotal: 5m 58s\tremaining: 2m 38s\n",
      "208:\tlearn: 0.1217272\ttotal: 6m\tremaining: 2m 36s\n",
      "209:\tlearn: 0.1216182\ttotal: 6m 1s\tremaining: 2m 35s\n",
      "210:\tlearn: 0.1215249\ttotal: 6m 3s\tremaining: 2m 33s\n",
      "211:\tlearn: 0.1214484\ttotal: 6m 5s\tremaining: 2m 31s\n",
      "212:\tlearn: 0.1213682\ttotal: 6m 6s\tremaining: 2m 29s\n",
      "213:\tlearn: 0.1212868\ttotal: 6m 8s\tremaining: 2m 28s\n",
      "214:\tlearn: 0.1212201\ttotal: 6m 10s\tremaining: 2m 26s\n",
      "215:\tlearn: 0.1211511\ttotal: 6m 11s\tremaining: 2m 24s\n",
      "216:\tlearn: 0.1209334\ttotal: 6m 13s\tremaining: 2m 22s\n",
      "217:\tlearn: 0.1208614\ttotal: 6m 15s\tremaining: 2m 21s\n",
      "218:\tlearn: 0.1207948\ttotal: 6m 16s\tremaining: 2m 19s\n",
      "219:\tlearn: 0.1207333\ttotal: 6m 18s\tremaining: 2m 17s\n",
      "220:\tlearn: 0.1206574\ttotal: 6m 20s\tremaining: 2m 15s\n",
      "221:\tlearn: 0.1205897\ttotal: 6m 21s\tremaining: 2m 14s\n",
      "222:\tlearn: 0.1204164\ttotal: 6m 23s\tremaining: 2m 12s\n",
      "223:\tlearn: 0.1202246\ttotal: 6m 25s\tremaining: 2m 10s\n",
      "224:\tlearn: 0.1200110\ttotal: 6m 26s\tremaining: 2m 8s\n",
      "225:\tlearn: 0.1199250\ttotal: 6m 28s\tremaining: 2m 7s\n",
      "226:\tlearn: 0.1198531\ttotal: 6m 29s\tremaining: 2m 5s\n",
      "227:\tlearn: 0.1196397\ttotal: 6m 31s\tremaining: 2m 3s\n",
      "228:\tlearn: 0.1195692\ttotal: 6m 33s\tremaining: 2m 1s\n",
      "229:\tlearn: 0.1194989\ttotal: 6m 34s\tremaining: 2m\n",
      "230:\tlearn: 0.1193602\ttotal: 6m 36s\tremaining: 1m 58s\n",
      "231:\tlearn: 0.1192293\ttotal: 6m 38s\tremaining: 1m 56s\n",
      "232:\tlearn: 0.1190704\ttotal: 6m 40s\tremaining: 1m 55s\n",
      "233:\tlearn: 0.1189363\ttotal: 6m 41s\tremaining: 1m 53s\n",
      "234:\tlearn: 0.1188706\ttotal: 6m 43s\tremaining: 1m 51s\n",
      "235:\tlearn: 0.1187970\ttotal: 6m 45s\tremaining: 1m 49s\n",
      "236:\tlearn: 0.1185444\ttotal: 6m 46s\tremaining: 1m 48s\n",
      "237:\tlearn: 0.1184794\ttotal: 6m 48s\tremaining: 1m 46s\n",
      "238:\tlearn: 0.1183231\ttotal: 6m 50s\tremaining: 1m 44s\n",
      "239:\tlearn: 0.1182188\ttotal: 6m 51s\tremaining: 1m 42s\n",
      "240:\tlearn: 0.1180161\ttotal: 6m 53s\tremaining: 1m 41s\n",
      "241:\tlearn: 0.1179115\ttotal: 6m 55s\tremaining: 1m 39s\n",
      "242:\tlearn: 0.1178447\ttotal: 6m 56s\tremaining: 1m 37s\n",
      "243:\tlearn: 0.1177806\ttotal: 6m 58s\tremaining: 1m 36s\n",
      "244:\tlearn: 0.1177178\ttotal: 7m\tremaining: 1m 34s\n",
      "245:\tlearn: 0.1176584\ttotal: 7m 1s\tremaining: 1m 32s\n",
      "246:\tlearn: 0.1174893\ttotal: 7m 3s\tremaining: 1m 30s\n",
      "247:\tlearn: 0.1173133\ttotal: 7m 5s\tremaining: 1m 29s\n",
      "248:\tlearn: 0.1170726\ttotal: 7m 6s\tremaining: 1m 27s\n",
      "249:\tlearn: 0.1170147\ttotal: 7m 8s\tremaining: 1m 25s\n",
      "250:\tlearn: 0.1169439\ttotal: 7m 9s\tremaining: 1m 23s\n",
      "251:\tlearn: 0.1167434\ttotal: 7m 11s\tremaining: 1m 22s\n",
      "252:\tlearn: 0.1166734\ttotal: 7m 13s\tremaining: 1m 20s\n",
      "253:\tlearn: 0.1164894\ttotal: 7m 15s\tremaining: 1m 18s\n",
      "254:\tlearn: 0.1164195\ttotal: 7m 16s\tremaining: 1m 17s\n",
      "255:\tlearn: 0.1163539\ttotal: 7m 18s\tremaining: 1m 15s\n",
      "256:\tlearn: 0.1162992\ttotal: 7m 20s\tremaining: 1m 13s\n",
      "257:\tlearn: 0.1162373\ttotal: 7m 21s\tremaining: 1m 11s\n",
      "258:\tlearn: 0.1160852\ttotal: 7m 23s\tremaining: 1m 10s\n",
      "259:\tlearn: 0.1159169\ttotal: 7m 25s\tremaining: 1m 8s\n",
      "260:\tlearn: 0.1158432\ttotal: 7m 26s\tremaining: 1m 6s\n",
      "261:\tlearn: 0.1157851\ttotal: 7m 28s\tremaining: 1m 5s\n",
      "262:\tlearn: 0.1156199\ttotal: 7m 30s\tremaining: 1m 3s\n",
      "263:\tlearn: 0.1155705\ttotal: 7m 31s\tremaining: 1m 1s\n",
      "264:\tlearn: 0.1153892\ttotal: 7m 33s\tremaining: 59.9s\n",
      "265:\tlearn: 0.1152937\ttotal: 7m 35s\tremaining: 58.2s\n",
      "266:\tlearn: 0.1151558\ttotal: 7m 37s\tremaining: 56.5s\n",
      "267:\tlearn: 0.1150435\ttotal: 7m 38s\tremaining: 54.8s\n",
      "268:\tlearn: 0.1149891\ttotal: 7m 40s\tremaining: 53.1s\n",
      "269:\tlearn: 0.1149170\ttotal: 7m 42s\tremaining: 51.3s\n",
      "270:\tlearn: 0.1147266\ttotal: 7m 43s\tremaining: 49.6s\n",
      "271:\tlearn: 0.1145502\ttotal: 7m 45s\tremaining: 47.9s\n",
      "272:\tlearn: 0.1143913\ttotal: 7m 47s\tremaining: 46.2s\n",
      "273:\tlearn: 0.1143236\ttotal: 7m 49s\tremaining: 44.5s\n",
      "274:\tlearn: 0.1142368\ttotal: 7m 50s\tremaining: 42.8s\n",
      "275:\tlearn: 0.1141816\ttotal: 7m 52s\tremaining: 41.1s\n",
      "276:\tlearn: 0.1140435\ttotal: 7m 54s\tremaining: 39.4s\n",
      "277:\tlearn: 0.1139866\ttotal: 7m 55s\tremaining: 37.6s\n",
      "278:\tlearn: 0.1138707\ttotal: 7m 57s\tremaining: 35.9s\n",
      "279:\tlearn: 0.1138128\ttotal: 7m 59s\tremaining: 34.2s\n",
      "280:\tlearn: 0.1137521\ttotal: 8m\tremaining: 32.5s\n",
      "281:\tlearn: 0.1135914\ttotal: 8m 2s\tremaining: 30.8s\n",
      "282:\tlearn: 0.1135218\ttotal: 8m 4s\tremaining: 29.1s\n",
      "283:\tlearn: 0.1134622\ttotal: 8m 5s\tremaining: 27.4s\n",
      "284:\tlearn: 0.1133215\ttotal: 8m 7s\tremaining: 25.7s\n",
      "285:\tlearn: 0.1131830\ttotal: 8m 9s\tremaining: 23.9s\n",
      "286:\tlearn: 0.1129798\ttotal: 8m 11s\tremaining: 22.2s\n",
      "287:\tlearn: 0.1128547\ttotal: 8m 12s\tremaining: 20.5s\n",
      "288:\tlearn: 0.1127964\ttotal: 8m 14s\tremaining: 18.8s\n",
      "289:\tlearn: 0.1127430\ttotal: 8m 16s\tremaining: 17.1s\n",
      "290:\tlearn: 0.1125644\ttotal: 8m 18s\tremaining: 15.4s\n",
      "291:\tlearn: 0.1123951\ttotal: 8m 19s\tremaining: 13.7s\n",
      "292:\tlearn: 0.1121097\ttotal: 8m 21s\tremaining: 12s\n",
      "293:\tlearn: 0.1120268\ttotal: 8m 23s\tremaining: 10.3s\n",
      "294:\tlearn: 0.1119629\ttotal: 8m 25s\tremaining: 8.56s\n",
      "295:\tlearn: 0.1117880\ttotal: 8m 26s\tremaining: 6.85s\n",
      "296:\tlearn: 0.1117284\ttotal: 8m 28s\tremaining: 5.13s\n",
      "297:\tlearn: 0.1116393\ttotal: 8m 29s\tremaining: 3.42s\n",
      "298:\tlearn: 0.1115878\ttotal: 8m 31s\tremaining: 1.71s\n",
      "299:\tlearn: 0.1115364\ttotal: 8m 33s\tremaining: 0us\n",
      "RMSE, кросс-валидация c CatBoost на обучении: 0.7342181781066941\n"
     ]
    }
   ],
   "source": [
    "predictions_cat_train = model_cat.predict(tf_idf_train)\n",
    "cross_cat = cross_val_score(model_cat, tf_idf_train, target_train, cv=5, scoring = f1_scorer) \n",
    "\n",
    "print(\"F1, кросс-валидация c CatBoost на обучении:\", cross_cat.mean())\n"
   ]
  },
  {
   "cell_type": "markdown",
   "metadata": {},
   "source": [
    "F1, среднее значение кросс-валидация c CatBoost на обучении: 0.7342181781066941"
   ]
  },
  {
   "cell_type": "code",
   "execution_count": 40,
   "metadata": {},
   "outputs": [
    {
     "data": {
      "text/plain": [
       "0.6281678437889489"
      ]
     },
     "execution_count": 40,
     "metadata": {},
     "output_type": "execute_result"
    }
   ],
   "source": [
    "predictions_rfr_test = model_rfr.predict(tf_idf_test)\n",
    "f1_rfr_test = f1_score(target_test, predictions_rfr_test)\n",
    "f1_rfr_test"
   ]
  },
  {
   "cell_type": "code",
   "execution_count": 55,
   "metadata": {
    "scrolled": true
   },
   "outputs": [
    {
     "data": {
      "text/plain": [
       "array([1, 0, 0, ..., 0, 0, 0])"
      ]
     },
     "execution_count": 55,
     "metadata": {},
     "output_type": "execute_result"
    }
   ],
   "source": [
    "predictions_cat_train"
   ]
  },
  {
   "cell_type": "code",
   "execution_count": 56,
   "metadata": {},
   "outputs": [
    {
     "data": {
      "text/plain": [
       "0"
      ]
     },
     "execution_count": 56,
     "metadata": {},
     "output_type": "execute_result"
    }
   ],
   "source": [
    "predictions_cat_train.min()"
   ]
  },
  {
   "cell_type": "code",
   "execution_count": 57,
   "metadata": {
    "scrolled": true
   },
   "outputs": [
    {
     "data": {
      "text/plain": [
       "1"
      ]
     },
     "execution_count": 57,
     "metadata": {},
     "output_type": "execute_result"
    }
   ],
   "source": [
    "predictions_cat_train.max()"
   ]
  },
  {
   "cell_type": "markdown",
   "metadata": {},
   "source": [
    "Переходим к выбору лучшей модели и тестированию."
   ]
  },
  {
   "cell_type": "markdown",
   "metadata": {},
   "source": [
    "## Тестирование"
   ]
  },
  {
   "cell_type": "markdown",
   "metadata": {},
   "source": [
    "Сравним полученные результаты:"
   ]
  },
  {
   "cell_type": "code",
   "execution_count": 61,
   "metadata": {},
   "outputs": [
    {
     "data": {
      "text/html": [
       "<div>\n",
       "<style scoped>\n",
       "    .dataframe tbody tr th:only-of-type {\n",
       "        vertical-align: middle;\n",
       "    }\n",
       "\n",
       "    .dataframe tbody tr th {\n",
       "        vertical-align: top;\n",
       "    }\n",
       "\n",
       "    .dataframe thead th {\n",
       "        text-align: right;\n",
       "    }\n",
       "</style>\n",
       "<table border=\"1\" class=\"dataframe\">\n",
       "  <thead>\n",
       "    <tr style=\"text-align: right;\">\n",
       "      <th></th>\n",
       "      <th>F1 на обучении</th>\n",
       "    </tr>\n",
       "  </thead>\n",
       "  <tbody>\n",
       "    <tr>\n",
       "      <th>Дерево решений</th>\n",
       "      <td>0.720090</td>\n",
       "    </tr>\n",
       "    <tr>\n",
       "      <th>Случайный лес</th>\n",
       "      <td>0.634778</td>\n",
       "    </tr>\n",
       "    <tr>\n",
       "      <th>Линейная регрессия</th>\n",
       "      <td>0.700307</td>\n",
       "    </tr>\n",
       "    <tr>\n",
       "      <th>Градиентный бустинг с CatBoost</th>\n",
       "      <td>0.734218</td>\n",
       "    </tr>\n",
       "  </tbody>\n",
       "</table>\n",
       "</div>"
      ],
      "text/plain": [
       "                                F1 на обучении \n",
       "Дерево решений                         0.720090\n",
       "Случайный лес                          0.634778\n",
       "Линейная регрессия                     0.700307\n",
       "Градиентный бустинг с CatBoost         0.734218"
      ]
     },
     "metadata": {},
     "output_type": "display_data"
    }
   ],
   "source": [
    "data = {'F1 на обучении ':[ best_cross_tr, best_cross_rfr, cross_l.mean(), cross_cat.mean()]} \n",
    "# Creates pandas DataFrame. \n",
    "plt = pd.DataFrame(data, index =[ 'Дерево решений', 'Случайный лес', 'Линейная регрессия',\n",
    "                                  'Градиентный бустинг с CatBoost']) \n",
    "\n",
    "display(plt)"
   ]
  },
  {
   "cell_type": "markdown",
   "metadata": {},
   "source": [
    "При сравнении получается, что все модели показали относительно высокие результаты, но есть бесспорный лидер - Это Градиентный бустинг с CatBoost и есго средним значением метрики F1 на кросс-валидации 0.7342. Его мы и оставим для теста. "
   ]
  },
  {
   "cell_type": "markdown",
   "metadata": {},
   "source": [
    "Прекдсказываем с помощью CatBoost на тестовых данных:"
   ]
  },
  {
   "cell_type": "code",
   "execution_count": 62,
   "metadata": {},
   "outputs": [
    {
     "data": {
      "text/plain": [
       "0.7522139887945057"
      ]
     },
     "execution_count": 62,
     "metadata": {},
     "output_type": "execute_result"
    }
   ],
   "source": [
    "predictions_cat_test = model_cat.predict(tf_idf_test)\n",
    "\n",
    "f1_l_test = f1_score(target_test, predictions_cat_test)\n",
    "f1_l_test"
   ]
  },
  {
   "cell_type": "markdown",
   "metadata": {},
   "source": [
    "## Выводы"
   ]
  },
  {
   "cell_type": "markdown",
   "metadata": {},
   "source": [
    "**Вывод** Лучшей моделью по итогам подбора параметров при помощи кросс-валидации стала модель Градиентный бустинг с CatBoost. Наша модель удовлетворяет условию задания -  модель со значением метрики качества F1 не меньше 0.75: значение метрики F1 на тестовой выборке - 0.7522. "
   ]
  },
  {
   "cell_type": "markdown",
   "metadata": {},
   "source": [
    "## Чек-лист проверки"
   ]
  },
  {
   "cell_type": "markdown",
   "metadata": {},
   "source": [
    "- [x]  Jupyter Notebook открыт\n",
    "- [x]  Весь код выполняется без ошибок\n",
    "- [x]  Ячейки с кодом расположены в порядке исполнения\n",
    "- [x]  Данные загружены и подготовлены\n",
    "- [x]  Модели обучены\n",
    "- [x]  Значение метрики *F1* не меньше 0.75\n",
    "- [x]  Выводы написаны"
   ]
  }
 ],
 "metadata": {
  "ExecuteTimeLog": [
   {
    "duration": 44,
    "start_time": "2022-11-10T17:47:37.359Z"
   },
   {
    "duration": 2734,
    "start_time": "2022-11-10T17:47:43.272Z"
   },
   {
    "duration": 2290,
    "start_time": "2022-11-10T17:47:46.007Z"
   },
   {
    "duration": 2,
    "start_time": "2022-11-10T17:47:48.299Z"
   },
   {
    "duration": 121,
    "start_time": "2022-11-10T17:47:48.302Z"
   },
   {
    "duration": 29,
    "start_time": "2022-11-10T17:48:00.608Z"
   },
   {
    "duration": 10,
    "start_time": "2022-11-10T19:14:07.062Z"
   },
   {
    "duration": 13,
    "start_time": "2022-11-10T19:15:18.498Z"
   },
   {
    "duration": 13,
    "start_time": "2022-11-10T19:15:45.925Z"
   },
   {
    "duration": 11,
    "start_time": "2022-11-10T19:17:48.429Z"
   },
   {
    "duration": 21,
    "start_time": "2022-11-10T19:18:25.155Z"
   },
   {
    "duration": 2364,
    "start_time": "2022-11-11T08:11:37.260Z"
   },
   {
    "duration": 2420,
    "start_time": "2022-11-11T08:11:39.626Z"
   },
   {
    "duration": 3,
    "start_time": "2022-11-11T08:11:42.047Z"
   },
   {
    "duration": 39,
    "start_time": "2022-11-11T08:11:42.052Z"
   },
   {
    "duration": 11,
    "start_time": "2022-11-11T08:11:42.093Z"
   },
   {
    "duration": 17,
    "start_time": "2022-11-11T08:11:42.106Z"
   },
   {
    "duration": 23,
    "start_time": "2022-11-11T08:11:42.125Z"
   },
   {
    "duration": 14,
    "start_time": "2022-11-11T08:11:42.149Z"
   },
   {
    "duration": 76,
    "start_time": "2022-11-11T08:11:42.166Z"
   },
   {
    "duration": 0,
    "start_time": "2022-11-11T08:11:42.244Z"
   },
   {
    "duration": 0,
    "start_time": "2022-11-11T08:11:42.246Z"
   },
   {
    "duration": 50,
    "start_time": "2022-11-11T08:12:02.938Z"
   },
   {
    "duration": 2381,
    "start_time": "2022-11-11T08:12:17.406Z"
   },
   {
    "duration": 2355,
    "start_time": "2022-11-11T08:12:32.340Z"
   },
   {
    "duration": 2350,
    "start_time": "2022-11-11T08:12:34.698Z"
   },
   {
    "duration": 3,
    "start_time": "2022-11-11T08:12:37.051Z"
   },
   {
    "duration": 46,
    "start_time": "2022-11-11T08:12:37.056Z"
   },
   {
    "duration": 11,
    "start_time": "2022-11-11T08:12:37.104Z"
   },
   {
    "duration": 14,
    "start_time": "2022-11-11T08:12:37.117Z"
   },
   {
    "duration": 18,
    "start_time": "2022-11-11T08:12:37.133Z"
   },
   {
    "duration": 14,
    "start_time": "2022-11-11T08:12:37.153Z"
   },
   {
    "duration": 2448,
    "start_time": "2022-11-11T08:12:57.367Z"
   },
   {
    "duration": 2195,
    "start_time": "2022-11-11T08:12:59.818Z"
   },
   {
    "duration": 3,
    "start_time": "2022-11-11T08:13:02.015Z"
   },
   {
    "duration": 48,
    "start_time": "2022-11-11T08:13:02.020Z"
   },
   {
    "duration": 21,
    "start_time": "2022-11-11T08:13:02.071Z"
   },
   {
    "duration": 28,
    "start_time": "2022-11-11T08:13:02.094Z"
   },
   {
    "duration": 31,
    "start_time": "2022-11-11T08:13:02.124Z"
   },
   {
    "duration": 38,
    "start_time": "2022-11-11T08:13:02.157Z"
   },
   {
    "duration": 61,
    "start_time": "2022-11-11T08:13:17.816Z"
   },
   {
    "duration": 7,
    "start_time": "2022-11-11T08:13:50.228Z"
   },
   {
    "duration": 2335,
    "start_time": "2022-11-11T08:14:57.443Z"
   },
   {
    "duration": 136,
    "start_time": "2022-11-11T08:15:24.762Z"
   },
   {
    "duration": 12,
    "start_time": "2022-11-11T08:15:29.530Z"
   },
   {
    "duration": 4,
    "start_time": "2022-11-11T08:15:34.907Z"
   },
   {
    "duration": 2338,
    "start_time": "2022-11-11T08:15:34.913Z"
   },
   {
    "duration": 3,
    "start_time": "2022-11-11T08:15:37.253Z"
   },
   {
    "duration": 55,
    "start_time": "2022-11-11T08:15:37.259Z"
   },
   {
    "duration": 24,
    "start_time": "2022-11-11T08:15:37.316Z"
   },
   {
    "duration": 28,
    "start_time": "2022-11-11T08:15:37.342Z"
   },
   {
    "duration": 38,
    "start_time": "2022-11-11T08:15:37.372Z"
   },
   {
    "duration": 27,
    "start_time": "2022-11-11T08:15:37.412Z"
   },
   {
    "duration": 46,
    "start_time": "2022-11-11T08:15:57.040Z"
   },
   {
    "duration": 2429,
    "start_time": "2022-11-11T08:16:04.281Z"
   },
   {
    "duration": 2188,
    "start_time": "2022-11-11T08:16:06.712Z"
   },
   {
    "duration": 3,
    "start_time": "2022-11-11T08:16:08.902Z"
   },
   {
    "duration": 38,
    "start_time": "2022-11-11T08:16:08.907Z"
   },
   {
    "duration": 10,
    "start_time": "2022-11-11T08:16:08.947Z"
   },
   {
    "duration": 12,
    "start_time": "2022-11-11T08:16:08.959Z"
   },
   {
    "duration": 17,
    "start_time": "2022-11-11T08:16:08.972Z"
   },
   {
    "duration": 35,
    "start_time": "2022-11-11T08:16:08.990Z"
   },
   {
    "duration": 51,
    "start_time": "2022-11-11T08:18:01.224Z"
   },
   {
    "duration": 46,
    "start_time": "2022-11-11T08:18:40.648Z"
   },
   {
    "duration": 2424,
    "start_time": "2022-11-11T08:18:47.195Z"
   },
   {
    "duration": 2214,
    "start_time": "2022-11-11T08:18:49.621Z"
   },
   {
    "duration": 3,
    "start_time": "2022-11-11T08:18:51.836Z"
   },
   {
    "duration": 55,
    "start_time": "2022-11-11T08:18:51.840Z"
   },
   {
    "duration": 10,
    "start_time": "2022-11-11T08:18:51.897Z"
   },
   {
    "duration": 11,
    "start_time": "2022-11-11T08:18:51.909Z"
   },
   {
    "duration": 19,
    "start_time": "2022-11-11T08:18:51.921Z"
   },
   {
    "duration": 12,
    "start_time": "2022-11-11T08:18:51.942Z"
   },
   {
    "duration": 1837,
    "start_time": "2022-11-11T08:18:54.202Z"
   },
   {
    "duration": 206,
    "start_time": "2022-11-11T08:19:39.576Z"
   },
   {
    "duration": 28,
    "start_time": "2022-11-11T08:21:07.460Z"
   },
   {
    "duration": 80,
    "start_time": "2022-11-11T08:21:16.295Z"
   },
   {
    "duration": 122,
    "start_time": "2022-11-11T08:24:35.822Z"
   },
   {
    "duration": 4,
    "start_time": "2022-11-11T08:24:40.758Z"
   },
   {
    "duration": 16,
    "start_time": "2022-11-11T08:24:42.146Z"
   },
   {
    "duration": 15,
    "start_time": "2022-11-11T08:24:52.896Z"
   },
   {
    "duration": 49,
    "start_time": "2022-11-11T08:29:31.015Z"
   },
   {
    "duration": 236,
    "start_time": "2022-11-11T08:29:47.295Z"
   },
   {
    "duration": 2080,
    "start_time": "2022-11-11T08:30:01.522Z"
   },
   {
    "duration": 5,
    "start_time": "2022-11-11T08:51:57.460Z"
   },
   {
    "duration": 765,
    "start_time": "2022-11-11T08:51:57.467Z"
   },
   {
    "duration": 3,
    "start_time": "2022-11-11T08:51:58.234Z"
   },
   {
    "duration": 35,
    "start_time": "2022-11-11T08:51:58.239Z"
   },
   {
    "duration": 6,
    "start_time": "2022-11-11T08:51:58.277Z"
   },
   {
    "duration": 10,
    "start_time": "2022-11-11T08:51:58.285Z"
   },
   {
    "duration": 39,
    "start_time": "2022-11-11T08:51:58.297Z"
   },
   {
    "duration": 12,
    "start_time": "2022-11-11T08:51:58.338Z"
   },
   {
    "duration": 2557,
    "start_time": "2022-11-11T08:52:07.498Z"
   },
   {
    "duration": 2196,
    "start_time": "2022-11-11T08:52:10.057Z"
   },
   {
    "duration": 3,
    "start_time": "2022-11-11T08:52:12.255Z"
   },
   {
    "duration": 39,
    "start_time": "2022-11-11T08:52:12.260Z"
   },
   {
    "duration": 10,
    "start_time": "2022-11-11T08:52:12.301Z"
   },
   {
    "duration": 15,
    "start_time": "2022-11-11T08:52:12.313Z"
   },
   {
    "duration": 17,
    "start_time": "2022-11-11T08:52:12.329Z"
   },
   {
    "duration": 16,
    "start_time": "2022-11-11T08:52:12.348Z"
   },
   {
    "duration": 1893,
    "start_time": "2022-11-11T08:52:12.366Z"
   },
   {
    "duration": 52,
    "start_time": "2022-11-11T08:52:14.262Z"
   },
   {
    "duration": 0,
    "start_time": "2022-11-11T08:52:14.316Z"
   },
   {
    "duration": 0,
    "start_time": "2022-11-11T08:52:14.317Z"
   },
   {
    "duration": 0,
    "start_time": "2022-11-11T08:52:14.318Z"
   },
   {
    "duration": 0,
    "start_time": "2022-11-11T08:52:14.320Z"
   },
   {
    "duration": 0,
    "start_time": "2022-11-11T08:52:14.321Z"
   },
   {
    "duration": 0,
    "start_time": "2022-11-11T08:52:14.322Z"
   },
   {
    "duration": 0,
    "start_time": "2022-11-11T08:52:14.323Z"
   },
   {
    "duration": 0,
    "start_time": "2022-11-11T08:52:14.324Z"
   },
   {
    "duration": 0,
    "start_time": "2022-11-11T08:52:14.325Z"
   },
   {
    "duration": 0,
    "start_time": "2022-11-11T08:52:14.326Z"
   },
   {
    "duration": 0,
    "start_time": "2022-11-11T08:52:14.327Z"
   },
   {
    "duration": 0,
    "start_time": "2022-11-11T08:52:14.328Z"
   },
   {
    "duration": 0,
    "start_time": "2022-11-11T08:52:14.329Z"
   },
   {
    "duration": 0,
    "start_time": "2022-11-11T08:52:14.330Z"
   },
   {
    "duration": 0,
    "start_time": "2022-11-11T08:52:14.331Z"
   },
   {
    "duration": 0,
    "start_time": "2022-11-11T08:52:14.333Z"
   },
   {
    "duration": 166,
    "start_time": "2022-11-11T08:52:43.121Z"
   },
   {
    "duration": 3,
    "start_time": "2022-11-11T08:53:08.745Z"
   },
   {
    "duration": 47,
    "start_time": "2022-11-11T08:53:10.514Z"
   },
   {
    "duration": 224,
    "start_time": "2022-11-11T08:53:16.028Z"
   },
   {
    "duration": 47,
    "start_time": "2022-11-11T08:54:06.321Z"
   },
   {
    "duration": 11,
    "start_time": "2022-11-11T08:55:19.927Z"
   },
   {
    "duration": 90,
    "start_time": "2022-11-11T08:55:23.785Z"
   },
   {
    "duration": 4,
    "start_time": "2022-11-11T08:55:28.386Z"
   },
   {
    "duration": 18,
    "start_time": "2022-11-11T08:55:34.961Z"
   },
   {
    "duration": 19,
    "start_time": "2022-11-11T08:55:51.853Z"
   },
   {
    "duration": 19,
    "start_time": "2022-11-11T09:01:26.676Z"
   },
   {
    "duration": 4,
    "start_time": "2022-11-11T09:05:47.260Z"
   },
   {
    "duration": 5066,
    "start_time": "2022-11-11T09:05:49.067Z"
   },
   {
    "duration": 5,
    "start_time": "2022-11-11T09:06:27.396Z"
   },
   {
    "duration": 806,
    "start_time": "2022-11-11T09:06:27.403Z"
   },
   {
    "duration": 2,
    "start_time": "2022-11-11T09:06:28.211Z"
   },
   {
    "duration": 37,
    "start_time": "2022-11-11T09:06:28.221Z"
   },
   {
    "duration": 10,
    "start_time": "2022-11-11T09:06:28.260Z"
   },
   {
    "duration": 13,
    "start_time": "2022-11-11T09:06:28.272Z"
   },
   {
    "duration": 34,
    "start_time": "2022-11-11T09:06:28.287Z"
   },
   {
    "duration": 15,
    "start_time": "2022-11-11T09:06:28.323Z"
   },
   {
    "duration": 2683,
    "start_time": "2022-11-11T09:06:45.766Z"
   },
   {
    "duration": 2169,
    "start_time": "2022-11-11T09:06:48.452Z"
   },
   {
    "duration": 2,
    "start_time": "2022-11-11T09:06:50.625Z"
   },
   {
    "duration": 42,
    "start_time": "2022-11-11T09:06:50.629Z"
   },
   {
    "duration": 10,
    "start_time": "2022-11-11T09:06:50.673Z"
   },
   {
    "duration": 13,
    "start_time": "2022-11-11T09:06:50.685Z"
   },
   {
    "duration": 30,
    "start_time": "2022-11-11T09:06:50.699Z"
   },
   {
    "duration": 13,
    "start_time": "2022-11-11T09:06:50.730Z"
   },
   {
    "duration": 1860,
    "start_time": "2022-11-11T09:06:50.745Z"
   },
   {
    "duration": 168,
    "start_time": "2022-11-11T09:06:52.607Z"
   },
   {
    "duration": 0,
    "start_time": "2022-11-11T09:06:52.777Z"
   },
   {
    "duration": 0,
    "start_time": "2022-11-11T09:06:52.778Z"
   },
   {
    "duration": 0,
    "start_time": "2022-11-11T09:06:52.780Z"
   },
   {
    "duration": 0,
    "start_time": "2022-11-11T09:06:52.781Z"
   },
   {
    "duration": 60,
    "start_time": "2022-11-11T09:07:24.789Z"
   },
   {
    "duration": 72,
    "start_time": "2022-11-11T09:07:32.387Z"
   },
   {
    "duration": 3,
    "start_time": "2022-11-11T09:07:36.083Z"
   },
   {
    "duration": 5122,
    "start_time": "2022-11-11T09:09:08.986Z"
   },
   {
    "duration": 5,
    "start_time": "2022-11-11T09:16:39.742Z"
   },
   {
    "duration": 11,
    "start_time": "2022-11-11T09:38:16.621Z"
   },
   {
    "duration": 68,
    "start_time": "2022-11-11T09:38:19.143Z"
   },
   {
    "duration": 4,
    "start_time": "2022-11-11T09:48:58.723Z"
   },
   {
    "duration": 4,
    "start_time": "2022-11-11T09:49:16.377Z"
   },
   {
    "duration": 50,
    "start_time": "2022-11-11T09:49:17.981Z"
   },
   {
    "duration": 480,
    "start_time": "2022-11-11T09:49:50.635Z"
   },
   {
    "duration": 2627,
    "start_time": "2022-11-11T09:52:15.315Z"
   },
   {
    "duration": 773,
    "start_time": "2022-11-11T09:52:17.945Z"
   },
   {
    "duration": 2,
    "start_time": "2022-11-11T09:52:18.720Z"
   },
   {
    "duration": 62,
    "start_time": "2022-11-11T09:52:18.724Z"
   },
   {
    "duration": 28,
    "start_time": "2022-11-11T09:52:18.788Z"
   },
   {
    "duration": 22,
    "start_time": "2022-11-11T09:52:18.818Z"
   },
   {
    "duration": 17,
    "start_time": "2022-11-11T09:52:18.841Z"
   },
   {
    "duration": 12,
    "start_time": "2022-11-11T09:52:18.860Z"
   },
   {
    "duration": 1922,
    "start_time": "2022-11-11T09:52:18.874Z"
   },
   {
    "duration": 118,
    "start_time": "2022-11-11T09:52:20.800Z"
   },
   {
    "duration": 11,
    "start_time": "2022-11-11T09:52:20.920Z"
   },
   {
    "duration": 5213,
    "start_time": "2022-11-11T09:52:20.932Z"
   },
   {
    "duration": 4,
    "start_time": "2022-11-11T09:52:26.147Z"
   },
   {
    "duration": 204,
    "start_time": "2022-11-11T09:52:26.153Z"
   },
   {
    "duration": 0,
    "start_time": "2022-11-11T09:52:26.358Z"
   },
   {
    "duration": 5,
    "start_time": "2022-11-11T09:52:55.065Z"
   },
   {
    "duration": 43,
    "start_time": "2022-11-11T09:52:57.848Z"
   },
   {
    "duration": 6,
    "start_time": "2022-11-11T09:53:25.837Z"
   },
   {
    "duration": 2495,
    "start_time": "2022-11-11T09:53:50.540Z"
   },
   {
    "duration": 783,
    "start_time": "2022-11-11T09:53:53.037Z"
   },
   {
    "duration": 3,
    "start_time": "2022-11-11T09:53:53.821Z"
   },
   {
    "duration": 36,
    "start_time": "2022-11-11T09:53:53.826Z"
   },
   {
    "duration": 13,
    "start_time": "2022-11-11T09:53:53.863Z"
   },
   {
    "duration": 14,
    "start_time": "2022-11-11T09:53:53.878Z"
   },
   {
    "duration": 43,
    "start_time": "2022-11-11T09:53:53.893Z"
   },
   {
    "duration": 14,
    "start_time": "2022-11-11T09:53:53.938Z"
   },
   {
    "duration": 1937,
    "start_time": "2022-11-11T09:53:53.954Z"
   },
   {
    "duration": 97,
    "start_time": "2022-11-11T09:53:55.893Z"
   },
   {
    "duration": 3,
    "start_time": "2022-11-11T09:53:55.992Z"
   },
   {
    "duration": 5310,
    "start_time": "2022-11-11T09:53:55.996Z"
   },
   {
    "duration": 4,
    "start_time": "2022-11-11T09:54:01.308Z"
   },
   {
    "duration": 2749,
    "start_time": "2022-11-11T10:07:33.888Z"
   },
   {
    "duration": 2272,
    "start_time": "2022-11-11T10:07:36.640Z"
   },
   {
    "duration": 3,
    "start_time": "2022-11-11T10:07:38.913Z"
   },
   {
    "duration": 35,
    "start_time": "2022-11-11T10:07:38.918Z"
   },
   {
    "duration": 10,
    "start_time": "2022-11-11T10:07:38.954Z"
   },
   {
    "duration": 13,
    "start_time": "2022-11-11T10:07:38.965Z"
   },
   {
    "duration": 18,
    "start_time": "2022-11-11T10:07:38.979Z"
   },
   {
    "duration": 31,
    "start_time": "2022-11-11T10:07:38.999Z"
   },
   {
    "duration": 1916,
    "start_time": "2022-11-11T10:07:39.032Z"
   },
   {
    "duration": 80,
    "start_time": "2022-11-11T10:07:40.950Z"
   },
   {
    "duration": 10,
    "start_time": "2022-11-11T10:07:41.032Z"
   },
   {
    "duration": 5117,
    "start_time": "2022-11-11T10:07:41.044Z"
   },
   {
    "duration": 5,
    "start_time": "2022-11-11T10:07:46.163Z"
   },
   {
    "duration": 2677,
    "start_time": "2022-11-11T10:13:42.972Z"
   },
   {
    "duration": 776,
    "start_time": "2022-11-11T10:13:45.651Z"
   },
   {
    "duration": 3,
    "start_time": "2022-11-11T10:13:46.428Z"
   },
   {
    "duration": 53,
    "start_time": "2022-11-11T10:13:46.433Z"
   },
   {
    "duration": 51,
    "start_time": "2022-11-11T10:13:46.488Z"
   },
   {
    "duration": 18,
    "start_time": "2022-11-11T10:13:46.541Z"
   },
   {
    "duration": 28,
    "start_time": "2022-11-11T10:13:46.561Z"
   },
   {
    "duration": 30,
    "start_time": "2022-11-11T10:13:46.591Z"
   },
   {
    "duration": 1933,
    "start_time": "2022-11-11T10:13:46.623Z"
   },
   {
    "duration": 87,
    "start_time": "2022-11-11T10:13:48.559Z"
   },
   {
    "duration": 4,
    "start_time": "2022-11-11T10:13:48.648Z"
   },
   {
    "duration": 55,
    "start_time": "2022-11-11T10:13:48.654Z"
   },
   {
    "duration": 11,
    "start_time": "2022-11-11T10:13:48.711Z"
   },
   {
    "duration": 4012,
    "start_time": "2022-11-11T10:13:48.723Z"
   },
   {
    "duration": 164,
    "start_time": "2022-11-11T10:37:51.901Z"
   },
   {
    "duration": 6,
    "start_time": "2022-11-11T10:38:34.860Z"
   },
   {
    "duration": 34,
    "start_time": "2022-11-11T10:38:38.396Z"
   },
   {
    "duration": 8,
    "start_time": "2022-11-11T10:38:50.238Z"
   },
   {
    "duration": 790,
    "start_time": "2022-11-11T10:38:50.248Z"
   },
   {
    "duration": 3,
    "start_time": "2022-11-11T10:38:51.040Z"
   },
   {
    "duration": 67,
    "start_time": "2022-11-11T10:38:51.044Z"
   },
   {
    "duration": 9,
    "start_time": "2022-11-11T10:38:51.113Z"
   },
   {
    "duration": 25,
    "start_time": "2022-11-11T10:38:51.123Z"
   },
   {
    "duration": 30,
    "start_time": "2022-11-11T10:38:51.150Z"
   },
   {
    "duration": 68,
    "start_time": "2022-11-11T10:38:51.182Z"
   },
   {
    "duration": 3294,
    "start_time": "2022-11-11T10:39:21.061Z"
   },
   {
    "duration": 2222,
    "start_time": "2022-11-11T10:39:24.357Z"
   },
   {
    "duration": 3,
    "start_time": "2022-11-11T10:39:26.582Z"
   },
   {
    "duration": 67,
    "start_time": "2022-11-11T10:39:26.587Z"
   },
   {
    "duration": 10,
    "start_time": "2022-11-11T10:39:26.656Z"
   },
   {
    "duration": 14,
    "start_time": "2022-11-11T10:39:26.668Z"
   },
   {
    "duration": 16,
    "start_time": "2022-11-11T10:39:26.683Z"
   },
   {
    "duration": 28,
    "start_time": "2022-11-11T10:39:26.701Z"
   },
   {
    "duration": 1909,
    "start_time": "2022-11-11T10:39:26.730Z"
   },
   {
    "duration": 94,
    "start_time": "2022-11-11T10:39:28.641Z"
   },
   {
    "duration": 3,
    "start_time": "2022-11-11T10:39:28.736Z"
   },
   {
    "duration": 45,
    "start_time": "2022-11-11T10:39:28.741Z"
   },
   {
    "duration": 7,
    "start_time": "2022-11-11T10:39:28.788Z"
   },
   {
    "duration": 4636,
    "start_time": "2022-11-11T10:39:36.341Z"
   },
   {
    "duration": 2617,
    "start_time": "2022-11-11T10:43:17.239Z"
   },
   {
    "duration": 828,
    "start_time": "2022-11-11T10:43:19.859Z"
   },
   {
    "duration": 2,
    "start_time": "2022-11-11T10:43:20.690Z"
   },
   {
    "duration": 53,
    "start_time": "2022-11-11T10:43:20.694Z"
   },
   {
    "duration": 13,
    "start_time": "2022-11-11T10:43:20.751Z"
   },
   {
    "duration": 23,
    "start_time": "2022-11-11T10:43:20.766Z"
   },
   {
    "duration": 42,
    "start_time": "2022-11-11T10:43:20.791Z"
   },
   {
    "duration": 21,
    "start_time": "2022-11-11T10:43:20.836Z"
   },
   {
    "duration": 1953,
    "start_time": "2022-11-11T10:43:20.859Z"
   },
   {
    "duration": 92,
    "start_time": "2022-11-11T10:43:22.818Z"
   },
   {
    "duration": 4,
    "start_time": "2022-11-11T10:43:22.912Z"
   },
   {
    "duration": 50,
    "start_time": "2022-11-11T10:43:22.918Z"
   },
   {
    "duration": 3,
    "start_time": "2022-11-11T10:43:28.157Z"
   },
   {
    "duration": 23,
    "start_time": "2022-11-11T10:43:32.338Z"
   },
   {
    "duration": 5,
    "start_time": "2022-11-11T10:43:36.203Z"
   },
   {
    "duration": 4556,
    "start_time": "2022-11-11T10:43:40.004Z"
   },
   {
    "duration": 32,
    "start_time": "2022-11-11T10:43:48.472Z"
   },
   {
    "duration": 14,
    "start_time": "2022-11-11T10:55:28.716Z"
   },
   {
    "duration": 13,
    "start_time": "2022-11-11T10:55:31.706Z"
   },
   {
    "duration": 171,
    "start_time": "2022-11-11T10:55:34.729Z"
   },
   {
    "duration": 6,
    "start_time": "2022-11-11T10:59:42.216Z"
   },
   {
    "duration": 19,
    "start_time": "2022-11-11T11:03:59.534Z"
   },
   {
    "duration": 7,
    "start_time": "2022-11-11T11:04:56.432Z"
   },
   {
    "duration": 848,
    "start_time": "2022-11-11T11:04:56.511Z"
   },
   {
    "duration": 3,
    "start_time": "2022-11-11T11:04:57.361Z"
   },
   {
    "duration": 38,
    "start_time": "2022-11-11T11:04:57.365Z"
   },
   {
    "duration": 41,
    "start_time": "2022-11-11T11:04:57.405Z"
   },
   {
    "duration": 27,
    "start_time": "2022-11-11T11:04:57.448Z"
   },
   {
    "duration": 19,
    "start_time": "2022-11-11T11:04:57.477Z"
   },
   {
    "duration": 45,
    "start_time": "2022-11-11T11:04:57.498Z"
   },
   {
    "duration": 2864,
    "start_time": "2022-11-11T11:05:15.536Z"
   },
   {
    "duration": 2345,
    "start_time": "2022-11-11T11:05:18.402Z"
   },
   {
    "duration": 2,
    "start_time": "2022-11-11T11:05:20.749Z"
   },
   {
    "duration": 41,
    "start_time": "2022-11-11T11:05:20.753Z"
   },
   {
    "duration": 14,
    "start_time": "2022-11-11T11:05:20.798Z"
   },
   {
    "duration": 21,
    "start_time": "2022-11-11T11:05:20.814Z"
   },
   {
    "duration": 28,
    "start_time": "2022-11-11T11:05:20.838Z"
   },
   {
    "duration": 13,
    "start_time": "2022-11-11T11:05:20.867Z"
   },
   {
    "duration": 1974,
    "start_time": "2022-11-11T11:05:20.882Z"
   },
   {
    "duration": 104,
    "start_time": "2022-11-11T11:05:22.859Z"
   },
   {
    "duration": 3,
    "start_time": "2022-11-11T11:05:22.965Z"
   },
   {
    "duration": 63,
    "start_time": "2022-11-11T11:05:22.970Z"
   },
   {
    "duration": 48,
    "start_time": "2022-11-11T11:05:23.035Z"
   },
   {
    "duration": 4406,
    "start_time": "2022-11-11T11:05:23.087Z"
   },
   {
    "duration": 25,
    "start_time": "2022-11-11T11:05:27.495Z"
   },
   {
    "duration": 3,
    "start_time": "2022-11-11T11:05:27.522Z"
   },
   {
    "duration": 49,
    "start_time": "2022-11-11T11:05:27.526Z"
   },
   {
    "duration": 0,
    "start_time": "2022-11-11T11:05:27.577Z"
   },
   {
    "duration": 13,
    "start_time": "2022-11-11T11:05:35.725Z"
   },
   {
    "duration": 12,
    "start_time": "2022-11-11T11:05:37.061Z"
   },
   {
    "duration": 167,
    "start_time": "2022-11-11T11:05:39.277Z"
   },
   {
    "duration": 27,
    "start_time": "2022-11-11T11:06:12.607Z"
   },
   {
    "duration": 30,
    "start_time": "2022-11-11T11:06:28.705Z"
   },
   {
    "duration": 6,
    "start_time": "2022-11-11T11:06:54.038Z"
   },
   {
    "duration": 764,
    "start_time": "2022-11-11T11:06:54.046Z"
   },
   {
    "duration": 6,
    "start_time": "2022-11-11T11:06:54.813Z"
   },
   {
    "duration": 47,
    "start_time": "2022-11-11T11:06:54.822Z"
   },
   {
    "duration": 17,
    "start_time": "2022-11-11T11:06:54.870Z"
   },
   {
    "duration": 12,
    "start_time": "2022-11-11T11:06:54.889Z"
   },
   {
    "duration": 17,
    "start_time": "2022-11-11T11:06:54.903Z"
   },
   {
    "duration": 12,
    "start_time": "2022-11-11T11:06:54.922Z"
   },
   {
    "duration": 56,
    "start_time": "2022-11-11T11:07:40.522Z"
   },
   {
    "duration": 2817,
    "start_time": "2022-11-11T11:07:44.915Z"
   },
   {
    "duration": 2219,
    "start_time": "2022-11-11T11:07:47.735Z"
   },
   {
    "duration": 3,
    "start_time": "2022-11-11T11:07:49.955Z"
   },
   {
    "duration": 39,
    "start_time": "2022-11-11T11:07:49.960Z"
   },
   {
    "duration": 11,
    "start_time": "2022-11-11T11:07:50.001Z"
   },
   {
    "duration": 22,
    "start_time": "2022-11-11T11:07:50.014Z"
   },
   {
    "duration": 18,
    "start_time": "2022-11-11T11:07:50.037Z"
   },
   {
    "duration": 13,
    "start_time": "2022-11-11T11:07:50.057Z"
   },
   {
    "duration": 1915,
    "start_time": "2022-11-11T11:07:50.072Z"
   },
   {
    "duration": 102,
    "start_time": "2022-11-11T11:07:51.989Z"
   },
   {
    "duration": 9,
    "start_time": "2022-11-11T11:07:52.093Z"
   },
   {
    "duration": 75,
    "start_time": "2022-11-11T11:07:52.104Z"
   },
   {
    "duration": 6,
    "start_time": "2022-11-11T11:07:52.181Z"
   },
   {
    "duration": 4579,
    "start_time": "2022-11-11T11:07:52.188Z"
   },
   {
    "duration": 56,
    "start_time": "2022-11-11T11:07:56.769Z"
   },
   {
    "duration": 6,
    "start_time": "2022-11-11T11:07:56.827Z"
   },
   {
    "duration": 12,
    "start_time": "2022-11-11T11:07:59.196Z"
   },
   {
    "duration": 11,
    "start_time": "2022-11-11T11:08:02.111Z"
   },
   {
    "duration": 9,
    "start_time": "2022-11-11T11:08:06.593Z"
   },
   {
    "duration": 4,
    "start_time": "2022-11-11T11:08:08.947Z"
   },
   {
    "duration": 134,
    "start_time": "2022-11-11T11:08:12.007Z"
   },
   {
    "duration": 9,
    "start_time": "2022-11-11T11:23:35.634Z"
   },
   {
    "duration": 10,
    "start_time": "2022-11-11T11:23:39.194Z"
   },
   {
    "duration": 12,
    "start_time": "2022-11-11T11:23:41.303Z"
   },
   {
    "duration": 2631,
    "start_time": "2022-11-11T11:24:14.552Z"
   },
   {
    "duration": 791,
    "start_time": "2022-11-11T11:24:17.185Z"
   },
   {
    "duration": 3,
    "start_time": "2022-11-11T11:24:17.977Z"
   },
   {
    "duration": 37,
    "start_time": "2022-11-11T11:24:17.982Z"
   },
   {
    "duration": 10,
    "start_time": "2022-11-11T11:24:18.021Z"
   },
   {
    "duration": 13,
    "start_time": "2022-11-11T11:24:18.033Z"
   },
   {
    "duration": 18,
    "start_time": "2022-11-11T11:24:18.047Z"
   },
   {
    "duration": 14,
    "start_time": "2022-11-11T11:24:18.066Z"
   },
   {
    "duration": 1938,
    "start_time": "2022-11-11T11:24:18.081Z"
   },
   {
    "duration": 126,
    "start_time": "2022-11-11T11:24:20.021Z"
   },
   {
    "duration": 3,
    "start_time": "2022-11-11T11:24:20.148Z"
   },
   {
    "duration": 50,
    "start_time": "2022-11-11T11:24:20.153Z"
   },
   {
    "duration": 5,
    "start_time": "2022-11-11T11:24:20.205Z"
   },
   {
    "duration": 4350,
    "start_time": "2022-11-11T11:24:20.212Z"
   },
   {
    "duration": 19,
    "start_time": "2022-11-11T11:24:24.564Z"
   },
   {
    "duration": 12,
    "start_time": "2022-11-11T11:24:24.584Z"
   },
   {
    "duration": 11,
    "start_time": "2022-11-11T11:24:24.598Z"
   },
   {
    "duration": 16,
    "start_time": "2022-11-11T11:24:24.610Z"
   },
   {
    "duration": 8,
    "start_time": "2022-11-11T11:24:32.858Z"
   },
   {
    "duration": 10,
    "start_time": "2022-11-11T11:24:35.355Z"
   },
   {
    "duration": 7,
    "start_time": "2022-11-11T11:24:38.322Z"
   },
   {
    "duration": 5,
    "start_time": "2022-11-11T11:24:41.531Z"
   },
   {
    "duration": 166,
    "start_time": "2022-11-11T11:25:55.912Z"
   },
   {
    "duration": 7,
    "start_time": "2022-11-11T11:26:09.367Z"
   },
   {
    "duration": 763,
    "start_time": "2022-11-11T11:26:09.377Z"
   },
   {
    "duration": 2,
    "start_time": "2022-11-11T11:26:10.142Z"
   },
   {
    "duration": 48,
    "start_time": "2022-11-11T11:26:10.146Z"
   },
   {
    "duration": 5,
    "start_time": "2022-11-11T11:26:10.196Z"
   },
   {
    "duration": 13,
    "start_time": "2022-11-11T11:26:10.203Z"
   },
   {
    "duration": 17,
    "start_time": "2022-11-11T11:26:10.218Z"
   },
   {
    "duration": 12,
    "start_time": "2022-11-11T11:26:10.237Z"
   },
   {
    "duration": 2787,
    "start_time": "2022-11-11T11:26:26.779Z"
   },
   {
    "duration": 2258,
    "start_time": "2022-11-11T11:26:29.569Z"
   },
   {
    "duration": 3,
    "start_time": "2022-11-11T11:26:31.828Z"
   },
   {
    "duration": 43,
    "start_time": "2022-11-11T11:26:31.833Z"
   },
   {
    "duration": 34,
    "start_time": "2022-11-11T11:26:31.878Z"
   },
   {
    "duration": 30,
    "start_time": "2022-11-11T11:26:31.914Z"
   },
   {
    "duration": 19,
    "start_time": "2022-11-11T11:26:31.945Z"
   },
   {
    "duration": 39,
    "start_time": "2022-11-11T11:26:31.966Z"
   },
   {
    "duration": 1962,
    "start_time": "2022-11-11T11:26:32.008Z"
   },
   {
    "duration": 95,
    "start_time": "2022-11-11T11:26:33.971Z"
   },
   {
    "duration": 4,
    "start_time": "2022-11-11T11:26:34.068Z"
   },
   {
    "duration": 41,
    "start_time": "2022-11-11T11:26:34.073Z"
   },
   {
    "duration": 5,
    "start_time": "2022-11-11T11:26:34.116Z"
   },
   {
    "duration": 4433,
    "start_time": "2022-11-11T11:26:34.123Z"
   },
   {
    "duration": 20,
    "start_time": "2022-11-11T11:26:38.558Z"
   },
   {
    "duration": 32,
    "start_time": "2022-11-11T11:26:38.580Z"
   },
   {
    "duration": 37,
    "start_time": "2022-11-11T11:26:38.614Z"
   },
   {
    "duration": 9,
    "start_time": "2022-11-11T11:26:53.167Z"
   },
   {
    "duration": 10,
    "start_time": "2022-11-11T11:26:56.828Z"
   },
   {
    "duration": 7,
    "start_time": "2022-11-11T11:27:03.816Z"
   },
   {
    "duration": 5,
    "start_time": "2022-11-11T11:27:25.924Z"
   },
   {
    "duration": 167,
    "start_time": "2022-11-11T11:27:27.086Z"
   },
   {
    "duration": 7,
    "start_time": "2022-11-11T11:28:11.494Z"
   },
   {
    "duration": 826,
    "start_time": "2022-11-11T11:28:11.503Z"
   },
   {
    "duration": 2,
    "start_time": "2022-11-11T11:28:12.331Z"
   },
   {
    "duration": 34,
    "start_time": "2022-11-11T11:28:12.336Z"
   },
   {
    "duration": 8,
    "start_time": "2022-11-11T11:28:12.372Z"
   },
   {
    "duration": 39,
    "start_time": "2022-11-11T11:28:12.382Z"
   },
   {
    "duration": 21,
    "start_time": "2022-11-11T11:28:12.423Z"
   },
   {
    "duration": 15,
    "start_time": "2022-11-11T11:28:12.446Z"
   },
   {
    "duration": 2836,
    "start_time": "2022-11-11T11:28:45.055Z"
   },
   {
    "duration": 2194,
    "start_time": "2022-11-11T11:28:47.893Z"
   },
   {
    "duration": 3,
    "start_time": "2022-11-11T11:28:50.088Z"
   },
   {
    "duration": 41,
    "start_time": "2022-11-11T11:28:50.093Z"
   },
   {
    "duration": 13,
    "start_time": "2022-11-11T11:28:50.136Z"
   },
   {
    "duration": 17,
    "start_time": "2022-11-11T11:28:50.151Z"
   },
   {
    "duration": 19,
    "start_time": "2022-11-11T11:28:50.169Z"
   },
   {
    "duration": 36,
    "start_time": "2022-11-11T11:28:50.189Z"
   },
   {
    "duration": 1919,
    "start_time": "2022-11-11T11:28:50.227Z"
   },
   {
    "duration": 78,
    "start_time": "2022-11-11T11:28:52.149Z"
   },
   {
    "duration": 9,
    "start_time": "2022-11-11T11:28:52.229Z"
   },
   {
    "duration": 35,
    "start_time": "2022-11-11T11:28:52.240Z"
   },
   {
    "duration": 5,
    "start_time": "2022-11-11T11:28:52.276Z"
   },
   {
    "duration": 3980,
    "start_time": "2022-11-11T11:28:52.282Z"
   },
   {
    "duration": 19,
    "start_time": "2022-11-11T11:28:56.264Z"
   },
   {
    "duration": 10,
    "start_time": "2022-11-11T11:28:56.285Z"
   },
   {
    "duration": 23,
    "start_time": "2022-11-11T11:28:56.297Z"
   },
   {
    "duration": 10,
    "start_time": "2022-11-11T11:29:04.745Z"
   },
   {
    "duration": 163,
    "start_time": "2022-11-11T11:29:09.069Z"
   },
   {
    "duration": 6,
    "start_time": "2022-11-11T11:30:06.630Z"
   },
   {
    "duration": 762,
    "start_time": "2022-11-11T11:30:06.638Z"
   },
   {
    "duration": 2,
    "start_time": "2022-11-11T11:30:07.402Z"
   },
   {
    "duration": 40,
    "start_time": "2022-11-11T11:30:07.406Z"
   },
   {
    "duration": 6,
    "start_time": "2022-11-11T11:30:07.447Z"
   },
   {
    "duration": 12,
    "start_time": "2022-11-11T11:30:07.455Z"
   },
   {
    "duration": 19,
    "start_time": "2022-11-11T11:30:07.469Z"
   },
   {
    "duration": 39,
    "start_time": "2022-11-11T11:30:07.490Z"
   },
   {
    "duration": 2982,
    "start_time": "2022-11-11T11:52:33.921Z"
   },
   {
    "duration": 2418,
    "start_time": "2022-11-11T11:52:36.904Z"
   },
   {
    "duration": 3,
    "start_time": "2022-11-11T11:52:39.324Z"
   },
   {
    "duration": 40,
    "start_time": "2022-11-11T11:52:39.328Z"
   },
   {
    "duration": 11,
    "start_time": "2022-11-11T11:52:39.370Z"
   },
   {
    "duration": 15,
    "start_time": "2022-11-11T11:52:39.382Z"
   },
   {
    "duration": 35,
    "start_time": "2022-11-11T11:52:39.399Z"
   },
   {
    "duration": 20,
    "start_time": "2022-11-11T11:52:39.435Z"
   },
   {
    "duration": 1942,
    "start_time": "2022-11-11T11:52:39.457Z"
   },
   {
    "duration": 95,
    "start_time": "2022-11-11T11:52:41.400Z"
   },
   {
    "duration": 4,
    "start_time": "2022-11-11T11:52:41.496Z"
   },
   {
    "duration": 41,
    "start_time": "2022-11-11T11:52:41.501Z"
   },
   {
    "duration": 5,
    "start_time": "2022-11-11T11:52:41.543Z"
   },
   {
    "duration": 4264,
    "start_time": "2022-11-11T11:52:41.550Z"
   },
   {
    "duration": 27,
    "start_time": "2022-11-11T11:52:45.816Z"
   },
   {
    "duration": 14,
    "start_time": "2022-11-11T11:52:45.844Z"
   },
   {
    "duration": 15,
    "start_time": "2022-11-11T11:52:45.859Z"
   },
   {
    "duration": 169,
    "start_time": "2022-11-11T11:55:02.409Z"
   },
   {
    "duration": 22,
    "start_time": "2022-11-11T11:56:06.812Z"
   },
   {
    "duration": 789,
    "start_time": "2022-11-11T11:56:23.588Z"
   },
   {
    "duration": 2698,
    "start_time": "2022-11-11T11:58:35.742Z"
   },
   {
    "duration": 842,
    "start_time": "2022-11-11T11:58:38.443Z"
   },
   {
    "duration": 3,
    "start_time": "2022-11-11T11:58:39.286Z"
   },
   {
    "duration": 51,
    "start_time": "2022-11-11T11:58:39.291Z"
   },
   {
    "duration": 15,
    "start_time": "2022-11-11T11:58:45.518Z"
   },
   {
    "duration": 14,
    "start_time": "2022-11-11T11:58:47.247Z"
   },
   {
    "duration": 17,
    "start_time": "2022-11-11T11:58:49.281Z"
   },
   {
    "duration": 19,
    "start_time": "2022-11-11T11:58:53.917Z"
   },
   {
    "duration": 6,
    "start_time": "2022-11-11T11:59:11.746Z"
   },
   {
    "duration": 826,
    "start_time": "2022-11-11T11:59:11.755Z"
   },
   {
    "duration": 3,
    "start_time": "2022-11-11T11:59:12.583Z"
   },
   {
    "duration": 50,
    "start_time": "2022-11-11T11:59:12.588Z"
   },
   {
    "duration": 8,
    "start_time": "2022-11-11T11:59:12.640Z"
   },
   {
    "duration": 11,
    "start_time": "2022-11-11T11:59:12.651Z"
   },
   {
    "duration": 16,
    "start_time": "2022-11-11T11:59:12.663Z"
   },
   {
    "duration": 42,
    "start_time": "2022-11-11T11:59:12.681Z"
   },
   {
    "duration": 2006,
    "start_time": "2022-11-11T11:59:12.727Z"
   },
   {
    "duration": 101,
    "start_time": "2022-11-11T11:59:14.742Z"
   },
   {
    "duration": 3,
    "start_time": "2022-11-11T11:59:14.845Z"
   },
   {
    "duration": 55,
    "start_time": "2022-11-11T11:59:14.850Z"
   },
   {
    "duration": 5,
    "start_time": "2022-11-11T11:59:14.907Z"
   },
   {
    "duration": 4868,
    "start_time": "2022-11-11T11:59:14.914Z"
   },
   {
    "duration": 23,
    "start_time": "2022-11-11T11:59:19.784Z"
   },
   {
    "duration": 25,
    "start_time": "2022-11-11T11:59:19.820Z"
   },
   {
    "duration": 9,
    "start_time": "2022-11-11T11:59:45.357Z"
   },
   {
    "duration": 11,
    "start_time": "2022-11-11T11:59:49.369Z"
   },
   {
    "duration": 8,
    "start_time": "2022-11-11T11:59:57.031Z"
   },
   {
    "duration": 181,
    "start_time": "2022-11-11T12:00:43.674Z"
   },
   {
    "duration": 8,
    "start_time": "2022-11-11T12:00:49.217Z"
   },
   {
    "duration": 838,
    "start_time": "2022-11-11T12:00:49.227Z"
   },
   {
    "duration": 3,
    "start_time": "2022-11-11T12:00:50.067Z"
   },
   {
    "duration": 48,
    "start_time": "2022-11-11T12:00:50.072Z"
   },
   {
    "duration": 30,
    "start_time": "2022-11-11T12:00:50.123Z"
   },
   {
    "duration": 30,
    "start_time": "2022-11-11T12:00:50.155Z"
   },
   {
    "duration": 54,
    "start_time": "2022-11-11T12:00:50.187Z"
   },
   {
    "duration": 27,
    "start_time": "2022-11-11T12:00:50.246Z"
   },
   {
    "duration": 2877,
    "start_time": "2022-11-11T12:01:19.434Z"
   },
   {
    "duration": 2488,
    "start_time": "2022-11-11T12:01:22.313Z"
   },
   {
    "duration": 3,
    "start_time": "2022-11-11T12:01:24.803Z"
   },
   {
    "duration": 65,
    "start_time": "2022-11-11T12:01:24.808Z"
   },
   {
    "duration": 10,
    "start_time": "2022-11-11T12:01:24.875Z"
   },
   {
    "duration": 12,
    "start_time": "2022-11-11T12:01:24.887Z"
   },
   {
    "duration": 16,
    "start_time": "2022-11-11T12:01:24.901Z"
   },
   {
    "duration": 14,
    "start_time": "2022-11-11T12:01:24.919Z"
   },
   {
    "duration": 1998,
    "start_time": "2022-11-11T12:01:24.935Z"
   },
   {
    "duration": 5,
    "start_time": "2022-11-11T12:01:26.935Z"
   },
   {
    "duration": 12,
    "start_time": "2022-11-11T12:01:26.942Z"
   },
   {
    "duration": 33,
    "start_time": "2022-11-11T12:01:26.955Z"
   },
   {
    "duration": 5,
    "start_time": "2022-11-11T12:01:26.990Z"
   },
   {
    "duration": 4852,
    "start_time": "2022-11-11T12:01:26.996Z"
   },
   {
    "duration": 25,
    "start_time": "2022-11-11T12:01:31.849Z"
   },
   {
    "duration": 22,
    "start_time": "2022-11-11T12:01:31.875Z"
   },
   {
    "duration": 81,
    "start_time": "2022-11-11T12:01:31.899Z"
   },
   {
    "duration": 61,
    "start_time": "2022-11-11T12:01:31.981Z"
   },
   {
    "duration": 36,
    "start_time": "2022-11-11T12:01:32.043Z"
   },
   {
    "duration": 191,
    "start_time": "2022-11-11T12:01:40.518Z"
   },
   {
    "duration": 7,
    "start_time": "2022-11-11T12:06:02.838Z"
   },
   {
    "duration": 886,
    "start_time": "2022-11-11T12:06:02.848Z"
   },
   {
    "duration": 3,
    "start_time": "2022-11-11T12:06:03.736Z"
   },
   {
    "duration": 35,
    "start_time": "2022-11-11T12:06:03.740Z"
   },
   {
    "duration": 21,
    "start_time": "2022-11-11T12:06:03.778Z"
   },
   {
    "duration": 10,
    "start_time": "2022-11-11T12:06:03.801Z"
   },
   {
    "duration": 25,
    "start_time": "2022-11-11T12:06:03.813Z"
   },
   {
    "duration": 13,
    "start_time": "2022-11-11T12:06:03.840Z"
   },
   {
    "duration": 3206,
    "start_time": "2022-11-11T12:06:56.255Z"
   },
   {
    "duration": 2523,
    "start_time": "2022-11-11T12:06:59.463Z"
   },
   {
    "duration": 3,
    "start_time": "2022-11-11T12:07:01.988Z"
   },
   {
    "duration": 58,
    "start_time": "2022-11-11T12:07:01.993Z"
   },
   {
    "duration": 36,
    "start_time": "2022-11-11T12:07:02.054Z"
   },
   {
    "duration": 18,
    "start_time": "2022-11-11T12:07:02.091Z"
   },
   {
    "duration": 49,
    "start_time": "2022-11-11T12:07:02.111Z"
   },
   {
    "duration": 48,
    "start_time": "2022-11-11T12:07:02.163Z"
   },
   {
    "duration": 2071,
    "start_time": "2022-11-11T12:07:02.214Z"
   },
   {
    "duration": 60,
    "start_time": "2022-11-11T12:07:04.287Z"
   },
   {
    "duration": 10,
    "start_time": "2022-11-11T12:07:04.349Z"
   },
   {
    "duration": 33,
    "start_time": "2022-11-11T12:07:04.360Z"
   },
   {
    "duration": 5,
    "start_time": "2022-11-11T12:07:04.395Z"
   },
   {
    "duration": 5249,
    "start_time": "2022-11-11T12:07:04.401Z"
   },
   {
    "duration": 24,
    "start_time": "2022-11-11T12:07:09.652Z"
   },
   {
    "duration": 34,
    "start_time": "2022-11-11T12:07:09.678Z"
   },
   {
    "duration": 56,
    "start_time": "2022-11-11T12:07:09.714Z"
   },
   {
    "duration": 11,
    "start_time": "2022-11-11T12:07:18.161Z"
   },
   {
    "duration": 8,
    "start_time": "2022-11-11T12:07:22.195Z"
   },
   {
    "duration": 6,
    "start_time": "2022-11-11T12:07:50.294Z"
   },
   {
    "duration": 832,
    "start_time": "2022-11-11T12:07:50.302Z"
   },
   {
    "duration": 2,
    "start_time": "2022-11-11T12:07:51.136Z"
   },
   {
    "duration": 39,
    "start_time": "2022-11-11T12:07:51.140Z"
   },
   {
    "duration": 12,
    "start_time": "2022-11-11T12:07:51.180Z"
   },
   {
    "duration": 42,
    "start_time": "2022-11-11T12:07:51.193Z"
   },
   {
    "duration": 19,
    "start_time": "2022-11-11T12:07:51.236Z"
   },
   {
    "duration": 12,
    "start_time": "2022-11-11T12:07:51.257Z"
   },
   {
    "duration": 2726,
    "start_time": "2022-11-11T12:08:11.076Z"
   },
   {
    "duration": 2454,
    "start_time": "2022-11-11T12:08:13.805Z"
   },
   {
    "duration": 3,
    "start_time": "2022-11-11T12:08:16.260Z"
   },
   {
    "duration": 38,
    "start_time": "2022-11-11T12:08:16.266Z"
   },
   {
    "duration": 17,
    "start_time": "2022-11-11T12:08:16.307Z"
   },
   {
    "duration": 31,
    "start_time": "2022-11-11T12:08:16.328Z"
   },
   {
    "duration": 21,
    "start_time": "2022-11-11T12:08:16.361Z"
   },
   {
    "duration": 16,
    "start_time": "2022-11-11T12:08:16.384Z"
   },
   {
    "duration": 2007,
    "start_time": "2022-11-11T12:08:16.402Z"
   },
   {
    "duration": 9,
    "start_time": "2022-11-11T12:08:18.420Z"
   },
   {
    "duration": 11,
    "start_time": "2022-11-11T12:08:18.431Z"
   },
   {
    "duration": 37,
    "start_time": "2022-11-11T12:08:18.443Z"
   },
   {
    "duration": 5,
    "start_time": "2022-11-11T12:08:18.481Z"
   },
   {
    "duration": 4623,
    "start_time": "2022-11-11T12:08:18.488Z"
   },
   {
    "duration": 32,
    "start_time": "2022-11-11T12:08:23.113Z"
   },
   {
    "duration": 2,
    "start_time": "2022-11-11T12:08:23.147Z"
   },
   {
    "duration": 12,
    "start_time": "2022-11-11T12:08:23.151Z"
   },
   {
    "duration": 13,
    "start_time": "2022-11-11T12:08:23.164Z"
   },
   {
    "duration": 8,
    "start_time": "2022-11-11T12:10:46.632Z"
   },
   {
    "duration": 8,
    "start_time": "2022-11-11T12:11:08.737Z"
   },
   {
    "duration": 15,
    "start_time": "2022-11-11T12:11:17.214Z"
   },
   {
    "duration": 863,
    "start_time": "2022-11-11T12:11:17.231Z"
   },
   {
    "duration": 3,
    "start_time": "2022-11-11T12:11:18.096Z"
   },
   {
    "duration": 39,
    "start_time": "2022-11-11T12:11:18.101Z"
   },
   {
    "duration": 13,
    "start_time": "2022-11-11T12:11:18.142Z"
   },
   {
    "duration": 16,
    "start_time": "2022-11-11T12:11:18.157Z"
   },
   {
    "duration": 23,
    "start_time": "2022-11-11T12:11:18.175Z"
   },
   {
    "duration": 25,
    "start_time": "2022-11-11T12:11:18.200Z"
   },
   {
    "duration": 2911,
    "start_time": "2022-11-11T12:11:29.138Z"
   },
   {
    "duration": 2440,
    "start_time": "2022-11-11T12:11:32.052Z"
   },
   {
    "duration": 3,
    "start_time": "2022-11-11T12:11:34.494Z"
   },
   {
    "duration": 35,
    "start_time": "2022-11-11T12:11:34.499Z"
   },
   {
    "duration": 13,
    "start_time": "2022-11-11T12:11:34.536Z"
   },
   {
    "duration": 12,
    "start_time": "2022-11-11T12:11:34.551Z"
   },
   {
    "duration": 16,
    "start_time": "2022-11-11T12:11:34.565Z"
   },
   {
    "duration": 51,
    "start_time": "2022-11-11T12:11:34.583Z"
   },
   {
    "duration": 1934,
    "start_time": "2022-11-11T12:11:34.636Z"
   },
   {
    "duration": 13,
    "start_time": "2022-11-11T12:11:36.573Z"
   },
   {
    "duration": 18,
    "start_time": "2022-11-11T12:11:36.588Z"
   },
   {
    "duration": 50,
    "start_time": "2022-11-11T12:11:36.608Z"
   },
   {
    "duration": 7,
    "start_time": "2022-11-11T12:11:36.660Z"
   },
   {
    "duration": 4704,
    "start_time": "2022-11-11T12:11:36.670Z"
   },
   {
    "duration": 22,
    "start_time": "2022-11-11T12:11:41.376Z"
   },
   {
    "duration": 18,
    "start_time": "2022-11-11T12:11:41.399Z"
   },
   {
    "duration": 41,
    "start_time": "2022-11-11T12:11:41.418Z"
   },
   {
    "duration": 29,
    "start_time": "2022-11-11T12:11:41.460Z"
   },
   {
    "duration": 34,
    "start_time": "2022-11-11T12:11:41.490Z"
   },
   {
    "duration": 26,
    "start_time": "2022-11-11T12:11:41.534Z"
   },
   {
    "duration": 198,
    "start_time": "2022-11-11T12:11:41.563Z"
   },
   {
    "duration": 0,
    "start_time": "2022-11-11T12:11:41.763Z"
   },
   {
    "duration": 0,
    "start_time": "2022-11-11T12:11:41.764Z"
   },
   {
    "duration": 12,
    "start_time": "2022-11-11T12:12:19.280Z"
   },
   {
    "duration": 4,
    "start_time": "2022-11-11T12:12:29.296Z"
   },
   {
    "duration": 2667,
    "start_time": "2022-11-11T12:18:35.924Z"
   },
   {
    "duration": 791,
    "start_time": "2022-11-11T12:18:38.594Z"
   },
   {
    "duration": 3,
    "start_time": "2022-11-11T12:18:39.386Z"
   },
   {
    "duration": 38,
    "start_time": "2022-11-11T12:18:39.391Z"
   },
   {
    "duration": 10,
    "start_time": "2022-11-11T12:18:39.430Z"
   },
   {
    "duration": 12,
    "start_time": "2022-11-11T12:18:39.442Z"
   },
   {
    "duration": 16,
    "start_time": "2022-11-11T12:18:39.456Z"
   },
   {
    "duration": 12,
    "start_time": "2022-11-11T12:18:39.474Z"
   },
   {
    "duration": 1931,
    "start_time": "2022-11-11T12:18:39.488Z"
   },
   {
    "duration": 2,
    "start_time": "2022-11-11T12:18:41.422Z"
   },
   {
    "duration": 5,
    "start_time": "2022-11-11T12:18:41.426Z"
   },
   {
    "duration": 32,
    "start_time": "2022-11-11T12:18:41.433Z"
   },
   {
    "duration": 5,
    "start_time": "2022-11-11T12:18:41.467Z"
   },
   {
    "duration": 4287,
    "start_time": "2022-11-11T12:18:41.473Z"
   },
   {
    "duration": 21,
    "start_time": "2022-11-11T12:18:45.762Z"
   },
   {
    "duration": 9,
    "start_time": "2022-11-11T12:18:45.785Z"
   },
   {
    "duration": 12,
    "start_time": "2022-11-11T12:18:45.796Z"
   },
   {
    "duration": 9,
    "start_time": "2022-11-11T12:18:45.819Z"
   },
   {
    "duration": 19,
    "start_time": "2022-11-11T12:18:45.830Z"
   },
   {
    "duration": 4,
    "start_time": "2022-11-11T12:18:45.850Z"
   },
   {
    "duration": 15,
    "start_time": "2022-11-11T12:18:45.855Z"
   },
   {
    "duration": 179,
    "start_time": "2022-11-11T12:18:45.871Z"
   },
   {
    "duration": 0,
    "start_time": "2022-11-11T12:18:46.052Z"
   },
   {
    "duration": 0,
    "start_time": "2022-11-11T12:18:46.053Z"
   },
   {
    "duration": 12,
    "start_time": "2022-11-11T12:22:53.172Z"
   },
   {
    "duration": 2744,
    "start_time": "2022-11-11T12:23:01.515Z"
   },
   {
    "duration": 850,
    "start_time": "2022-11-11T12:23:04.261Z"
   },
   {
    "duration": 3,
    "start_time": "2022-11-11T12:23:05.113Z"
   },
   {
    "duration": 44,
    "start_time": "2022-11-11T12:23:05.119Z"
   },
   {
    "duration": 12,
    "start_time": "2022-11-11T12:23:05.167Z"
   },
   {
    "duration": 16,
    "start_time": "2022-11-11T12:23:05.181Z"
   },
   {
    "duration": 19,
    "start_time": "2022-11-11T12:23:05.220Z"
   },
   {
    "duration": 15,
    "start_time": "2022-11-11T12:23:05.241Z"
   },
   {
    "duration": 1990,
    "start_time": "2022-11-11T12:23:05.258Z"
   },
   {
    "duration": 10,
    "start_time": "2022-11-11T12:23:07.250Z"
   },
   {
    "duration": 20,
    "start_time": "2022-11-11T12:23:07.262Z"
   },
   {
    "duration": 33,
    "start_time": "2022-11-11T12:23:07.286Z"
   },
   {
    "duration": 6,
    "start_time": "2022-11-11T12:23:07.321Z"
   },
   {
    "duration": 4184,
    "start_time": "2022-11-11T12:23:07.328Z"
   },
   {
    "duration": 21,
    "start_time": "2022-11-11T12:23:11.514Z"
   },
   {
    "duration": 13,
    "start_time": "2022-11-11T12:23:11.536Z"
   },
   {
    "duration": 21,
    "start_time": "2022-11-11T12:23:11.551Z"
   },
   {
    "duration": 21,
    "start_time": "2022-11-11T12:23:11.574Z"
   },
   {
    "duration": 166,
    "start_time": "2022-11-11T12:23:17.430Z"
   },
   {
    "duration": 12,
    "start_time": "2022-11-11T12:23:31.342Z"
   },
   {
    "duration": 6,
    "start_time": "2022-11-11T12:23:44.839Z"
   },
   {
    "duration": 751,
    "start_time": "2022-11-11T12:23:44.847Z"
   },
   {
    "duration": 2,
    "start_time": "2022-11-11T12:23:45.600Z"
   },
   {
    "duration": 36,
    "start_time": "2022-11-11T12:23:45.604Z"
   },
   {
    "duration": 5,
    "start_time": "2022-11-11T12:23:45.641Z"
   },
   {
    "duration": 10,
    "start_time": "2022-11-11T12:23:45.648Z"
   },
   {
    "duration": 17,
    "start_time": "2022-11-11T12:23:45.660Z"
   },
   {
    "duration": 11,
    "start_time": "2022-11-11T12:23:45.679Z"
   },
   {
    "duration": 2800,
    "start_time": "2022-11-11T12:30:44.795Z"
   },
   {
    "duration": 2243,
    "start_time": "2022-11-11T12:30:47.597Z"
   },
   {
    "duration": 7,
    "start_time": "2022-11-11T12:30:49.842Z"
   },
   {
    "duration": 35,
    "start_time": "2022-11-11T12:30:49.852Z"
   },
   {
    "duration": 13,
    "start_time": "2022-11-11T12:30:49.889Z"
   },
   {
    "duration": 23,
    "start_time": "2022-11-11T12:30:49.904Z"
   },
   {
    "duration": 17,
    "start_time": "2022-11-11T12:30:49.929Z"
   },
   {
    "duration": 13,
    "start_time": "2022-11-11T12:30:49.948Z"
   },
   {
    "duration": 1898,
    "start_time": "2022-11-11T12:30:49.963Z"
   },
   {
    "duration": 15,
    "start_time": "2022-11-11T12:30:51.863Z"
   },
   {
    "duration": 7,
    "start_time": "2022-11-11T12:30:51.880Z"
   },
   {
    "duration": 33,
    "start_time": "2022-11-11T12:30:51.889Z"
   },
   {
    "duration": 5,
    "start_time": "2022-11-11T12:30:51.924Z"
   },
   {
    "duration": 4460,
    "start_time": "2022-11-11T12:30:51.931Z"
   },
   {
    "duration": 28,
    "start_time": "2022-11-11T12:30:56.393Z"
   },
   {
    "duration": 16,
    "start_time": "2022-11-11T12:30:56.423Z"
   },
   {
    "duration": 27,
    "start_time": "2022-11-11T12:30:56.441Z"
   },
   {
    "duration": 18,
    "start_time": "2022-11-11T12:30:56.470Z"
   },
   {
    "duration": 15,
    "start_time": "2022-11-11T12:30:56.490Z"
   },
   {
    "duration": 43,
    "start_time": "2022-11-11T12:30:56.506Z"
   },
   {
    "duration": 31,
    "start_time": "2022-11-11T12:30:56.551Z"
   },
   {
    "duration": 247,
    "start_time": "2022-11-11T12:30:56.584Z"
   },
   {
    "duration": 0,
    "start_time": "2022-11-11T12:30:56.835Z"
   },
   {
    "duration": 0,
    "start_time": "2022-11-11T12:30:56.836Z"
   },
   {
    "duration": 6,
    "start_time": "2022-11-11T13:08:58.252Z"
   },
   {
    "duration": 775,
    "start_time": "2022-11-11T13:08:58.259Z"
   },
   {
    "duration": 3,
    "start_time": "2022-11-11T13:08:59.036Z"
   },
   {
    "duration": 47,
    "start_time": "2022-11-11T13:08:59.041Z"
   },
   {
    "duration": 9,
    "start_time": "2022-11-11T13:08:59.090Z"
   },
   {
    "duration": 20,
    "start_time": "2022-11-11T13:08:59.101Z"
   },
   {
    "duration": 18,
    "start_time": "2022-11-11T13:08:59.122Z"
   },
   {
    "duration": 13,
    "start_time": "2022-11-11T13:08:59.142Z"
   },
   {
    "duration": 2723,
    "start_time": "2022-11-11T13:09:06.465Z"
   },
   {
    "duration": 2225,
    "start_time": "2022-11-11T13:09:09.190Z"
   },
   {
    "duration": 3,
    "start_time": "2022-11-11T13:09:11.417Z"
   },
   {
    "duration": 36,
    "start_time": "2022-11-11T13:09:11.422Z"
   },
   {
    "duration": 11,
    "start_time": "2022-11-11T13:09:11.460Z"
   },
   {
    "duration": 17,
    "start_time": "2022-11-11T13:09:11.473Z"
   },
   {
    "duration": 39,
    "start_time": "2022-11-11T13:09:11.491Z"
   },
   {
    "duration": 14,
    "start_time": "2022-11-11T13:09:11.532Z"
   },
   {
    "duration": 1917,
    "start_time": "2022-11-11T13:09:11.547Z"
   },
   {
    "duration": 11,
    "start_time": "2022-11-11T13:09:13.466Z"
   },
   {
    "duration": 10,
    "start_time": "2022-11-11T13:09:13.479Z"
   },
   {
    "duration": 36,
    "start_time": "2022-11-11T13:09:13.492Z"
   },
   {
    "duration": 6,
    "start_time": "2022-11-11T13:09:13.531Z"
   },
   {
    "duration": 4372,
    "start_time": "2022-11-11T13:09:13.540Z"
   },
   {
    "duration": 22,
    "start_time": "2022-11-11T13:09:17.913Z"
   },
   {
    "duration": 3,
    "start_time": "2022-11-11T13:09:17.939Z"
   },
   {
    "duration": 27,
    "start_time": "2022-11-11T13:09:17.944Z"
   },
   {
    "duration": 10,
    "start_time": "2022-11-11T13:09:19.901Z"
   },
   {
    "duration": 11,
    "start_time": "2022-11-11T13:09:20.813Z"
   },
   {
    "duration": 27,
    "start_time": "2022-11-11T13:09:22.317Z"
   },
   {
    "duration": 6,
    "start_time": "2022-11-11T13:10:30.941Z"
   },
   {
    "duration": 25,
    "start_time": "2022-11-11T13:10:37.471Z"
   },
   {
    "duration": 4,
    "start_time": "2022-11-11T13:10:47.233Z"
   },
   {
    "duration": 8,
    "start_time": "2022-11-11T13:11:43.741Z"
   },
   {
    "duration": 23,
    "start_time": "2022-11-11T13:11:46.629Z"
   },
   {
    "duration": 4,
    "start_time": "2022-11-11T13:11:48.043Z"
   },
   {
    "duration": 4,
    "start_time": "2022-11-11T13:12:11.573Z"
   },
   {
    "duration": 29,
    "start_time": "2022-11-11T13:12:19.262Z"
   },
   {
    "duration": 4,
    "start_time": "2022-11-11T13:12:47.232Z"
   },
   {
    "duration": 3321,
    "start_time": "2022-11-11T16:26:38.546Z"
   },
   {
    "duration": 3606,
    "start_time": "2022-11-11T16:26:41.870Z"
   },
   {
    "duration": 3,
    "start_time": "2022-11-11T16:26:45.478Z"
   },
   {
    "duration": 38,
    "start_time": "2022-11-11T16:26:45.484Z"
   },
   {
    "duration": 12,
    "start_time": "2022-11-11T16:26:45.523Z"
   },
   {
    "duration": 13,
    "start_time": "2022-11-11T16:26:45.537Z"
   },
   {
    "duration": 38,
    "start_time": "2022-11-11T16:26:45.552Z"
   },
   {
    "duration": 14,
    "start_time": "2022-11-11T16:26:45.592Z"
   },
   {
    "duration": 2070,
    "start_time": "2022-11-11T16:26:45.608Z"
   },
   {
    "duration": 3,
    "start_time": "2022-11-11T16:26:47.682Z"
   },
   {
    "duration": 7,
    "start_time": "2022-11-11T16:26:47.688Z"
   },
   {
    "duration": 46,
    "start_time": "2022-11-11T16:26:47.697Z"
   },
   {
    "duration": 7,
    "start_time": "2022-11-11T16:26:47.745Z"
   },
   {
    "duration": 4574,
    "start_time": "2022-11-11T16:26:47.754Z"
   },
   {
    "duration": 22,
    "start_time": "2022-11-11T16:26:52.330Z"
   },
   {
    "duration": 9,
    "start_time": "2022-11-11T16:26:52.354Z"
   },
   {
    "duration": 34,
    "start_time": "2022-11-11T16:26:52.365Z"
   },
   {
    "duration": 20,
    "start_time": "2022-11-11T16:26:52.402Z"
   },
   {
    "duration": 48,
    "start_time": "2022-11-11T16:26:52.424Z"
   },
   {
    "duration": 10,
    "start_time": "2022-11-11T16:26:52.473Z"
   },
   {
    "duration": 164,
    "start_time": "2022-11-11T16:28:23.172Z"
   },
   {
    "duration": 32,
    "start_time": "2022-11-11T16:28:51.470Z"
   },
   {
    "duration": 11,
    "start_time": "2022-11-11T16:28:57.167Z"
   },
   {
    "duration": 867,
    "start_time": "2022-11-11T16:28:57.180Z"
   },
   {
    "duration": 3,
    "start_time": "2022-11-11T16:28:58.049Z"
   },
   {
    "duration": 44,
    "start_time": "2022-11-11T16:28:58.055Z"
   },
   {
    "duration": 6,
    "start_time": "2022-11-11T16:28:58.100Z"
   },
   {
    "duration": 10,
    "start_time": "2022-11-11T16:28:58.108Z"
   },
   {
    "duration": 18,
    "start_time": "2022-11-11T16:28:58.120Z"
   },
   {
    "duration": 47,
    "start_time": "2022-11-11T16:28:58.140Z"
   },
   {
    "duration": 3282,
    "start_time": "2022-11-11T16:29:14.265Z"
   },
   {
    "duration": 3426,
    "start_time": "2022-11-11T16:29:17.549Z"
   },
   {
    "duration": 3,
    "start_time": "2022-11-11T16:29:20.977Z"
   },
   {
    "duration": 36,
    "start_time": "2022-11-11T16:29:20.982Z"
   },
   {
    "duration": 12,
    "start_time": "2022-11-11T16:29:21.020Z"
   },
   {
    "duration": 28,
    "start_time": "2022-11-11T16:29:21.034Z"
   },
   {
    "duration": 28,
    "start_time": "2022-11-11T16:29:21.064Z"
   },
   {
    "duration": 13,
    "start_time": "2022-11-11T16:29:21.094Z"
   },
   {
    "duration": 2119,
    "start_time": "2022-11-11T16:29:21.109Z"
   },
   {
    "duration": 4,
    "start_time": "2022-11-11T16:29:23.230Z"
   },
   {
    "duration": 6,
    "start_time": "2022-11-11T16:29:23.236Z"
   },
   {
    "duration": 50,
    "start_time": "2022-11-11T16:29:23.244Z"
   },
   {
    "duration": 5,
    "start_time": "2022-11-11T16:29:23.296Z"
   },
   {
    "duration": 4673,
    "start_time": "2022-11-11T16:29:23.304Z"
   },
   {
    "duration": 21,
    "start_time": "2022-11-11T16:29:27.978Z"
   },
   {
    "duration": 6,
    "start_time": "2022-11-11T16:29:28.000Z"
   },
   {
    "duration": 16,
    "start_time": "2022-11-11T16:29:28.007Z"
   },
   {
    "duration": 13,
    "start_time": "2022-11-11T16:29:28.024Z"
   },
   {
    "duration": 55,
    "start_time": "2022-11-11T16:29:28.039Z"
   },
   {
    "duration": 9,
    "start_time": "2022-11-11T16:29:28.096Z"
   },
   {
    "duration": 185,
    "start_time": "2022-11-11T16:29:28.106Z"
   },
   {
    "duration": 0,
    "start_time": "2022-11-11T16:29:28.293Z"
   },
   {
    "duration": 0,
    "start_time": "2022-11-11T16:29:28.294Z"
   },
   {
    "duration": 0,
    "start_time": "2022-11-11T16:29:28.296Z"
   },
   {
    "duration": 6,
    "start_time": "2022-11-11T16:30:35.230Z"
   },
   {
    "duration": 34,
    "start_time": "2022-11-11T16:30:41.935Z"
   },
   {
    "duration": 31,
    "start_time": "2022-11-11T16:30:51.375Z"
   },
   {
    "duration": 19,
    "start_time": "2022-11-11T16:31:43.158Z"
   },
   {
    "duration": 4,
    "start_time": "2022-11-11T16:31:44.450Z"
   },
   {
    "duration": 12,
    "start_time": "2022-11-11T16:31:45.798Z"
   },
   {
    "duration": 7,
    "start_time": "2022-11-11T16:31:53.782Z"
   },
   {
    "duration": 15,
    "start_time": "2022-11-11T17:35:57.227Z"
   },
   {
    "duration": 309,
    "start_time": "2022-11-11T17:36:56.558Z"
   },
   {
    "duration": 22,
    "start_time": "2022-11-11T17:37:02.606Z"
   },
   {
    "duration": 4,
    "start_time": "2022-11-11T17:37:07.549Z"
   },
   {
    "duration": 3,
    "start_time": "2022-11-11T17:37:13.152Z"
   },
   {
    "duration": 3,
    "start_time": "2022-11-11T17:37:14.920Z"
   },
   {
    "duration": 124,
    "start_time": "2022-11-11T17:37:15.769Z"
   },
   {
    "duration": 127,
    "start_time": "2022-11-11T17:38:01.022Z"
   },
   {
    "duration": 17,
    "start_time": "2022-11-11T17:38:29.057Z"
   },
   {
    "duration": 6,
    "start_time": "2022-11-11T17:39:33.422Z"
   },
   {
    "duration": 4,
    "start_time": "2022-11-11T17:39:35.547Z"
   },
   {
    "duration": 113,
    "start_time": "2022-11-11T17:39:41.263Z"
   },
   {
    "duration": 7,
    "start_time": "2022-11-11T17:41:19.208Z"
   },
   {
    "duration": 15,
    "start_time": "2022-11-11T17:41:19.218Z"
   },
   {
    "duration": 915,
    "start_time": "2022-11-11T17:41:19.235Z"
   },
   {
    "duration": 3,
    "start_time": "2022-11-11T17:41:20.152Z"
   },
   {
    "duration": 42,
    "start_time": "2022-11-11T17:41:20.157Z"
   },
   {
    "duration": 7,
    "start_time": "2022-11-11T17:41:20.201Z"
   },
   {
    "duration": 11,
    "start_time": "2022-11-11T17:41:20.210Z"
   },
   {
    "duration": 17,
    "start_time": "2022-11-11T17:41:20.223Z"
   },
   {
    "duration": 43,
    "start_time": "2022-11-11T17:41:20.242Z"
   },
   {
    "duration": 3,
    "start_time": "2022-11-11T17:41:20.288Z"
   },
   {
    "duration": 21,
    "start_time": "2022-11-11T17:41:20.292Z"
   },
   {
    "duration": 32,
    "start_time": "2022-11-11T17:41:20.315Z"
   },
   {
    "duration": 4,
    "start_time": "2022-11-11T17:41:20.349Z"
   },
   {
    "duration": 3534,
    "start_time": "2022-11-11T17:41:20.355Z"
   },
   {
    "duration": 27,
    "start_time": "2022-11-11T17:41:23.890Z"
   },
   {
    "duration": 7,
    "start_time": "2022-11-11T17:41:23.919Z"
   },
   {
    "duration": 20,
    "start_time": "2022-11-11T17:41:23.927Z"
   },
   {
    "duration": 32,
    "start_time": "2022-11-11T17:41:23.950Z"
   },
   {
    "duration": 64,
    "start_time": "2022-11-11T17:41:23.985Z"
   },
   {
    "duration": 10,
    "start_time": "2022-11-11T17:41:24.052Z"
   },
   {
    "duration": 32,
    "start_time": "2022-11-11T17:41:24.065Z"
   },
   {
    "duration": 18,
    "start_time": "2022-11-11T17:41:24.099Z"
   },
   {
    "duration": 23,
    "start_time": "2022-11-11T17:41:24.119Z"
   },
   {
    "duration": 22,
    "start_time": "2022-11-11T17:41:24.144Z"
   },
   {
    "duration": 0,
    "start_time": "2022-11-11T17:41:24.168Z"
   },
   {
    "duration": 0,
    "start_time": "2022-11-11T17:41:24.170Z"
   },
   {
    "duration": 0,
    "start_time": "2022-11-11T17:41:24.171Z"
   },
   {
    "duration": 4,
    "start_time": "2022-11-11T17:42:06.775Z"
   },
   {
    "duration": 5,
    "start_time": "2022-11-11T17:49:23.336Z"
   },
   {
    "duration": 7,
    "start_time": "2022-11-11T17:49:24.455Z"
   },
   {
    "duration": 6,
    "start_time": "2022-11-11T17:51:59.519Z"
   },
   {
    "duration": 10,
    "start_time": "2022-11-11T17:51:59.527Z"
   },
   {
    "duration": 861,
    "start_time": "2022-11-11T17:51:59.539Z"
   },
   {
    "duration": 3,
    "start_time": "2022-11-11T17:52:00.402Z"
   },
   {
    "duration": 42,
    "start_time": "2022-11-11T17:52:00.406Z"
   },
   {
    "duration": 25,
    "start_time": "2022-11-11T17:52:00.450Z"
   },
   {
    "duration": 28,
    "start_time": "2022-11-11T17:52:00.477Z"
   },
   {
    "duration": 35,
    "start_time": "2022-11-11T17:52:00.507Z"
   },
   {
    "duration": 24,
    "start_time": "2022-11-11T17:52:00.544Z"
   },
   {
    "duration": 24,
    "start_time": "2022-11-11T17:52:00.571Z"
   },
   {
    "duration": 28,
    "start_time": "2022-11-11T17:52:00.598Z"
   },
   {
    "duration": 5682,
    "start_time": "2022-11-11T17:52:00.628Z"
   },
   {
    "duration": 5,
    "start_time": "2022-11-11T17:52:06.312Z"
   },
   {
    "duration": 1234205,
    "start_time": "2022-11-11T17:52:06.318Z"
   },
   {
    "duration": 4693,
    "start_time": "2022-11-11T18:12:40.525Z"
   },
   {
    "duration": 2,
    "start_time": "2022-11-11T18:12:45.220Z"
   },
   {
    "duration": 18,
    "start_time": "2022-11-11T18:12:45.224Z"
   },
   {
    "duration": 42,
    "start_time": "2022-11-11T18:12:45.244Z"
   },
   {
    "duration": 5783,
    "start_time": "2022-11-11T18:12:45.287Z"
   },
   {
    "duration": 1413,
    "start_time": "2022-11-11T18:12:51.071Z"
   },
   {
    "duration": 50804,
    "start_time": "2022-11-11T18:12:52.485Z"
   },
   {
    "duration": 5,
    "start_time": "2022-11-11T18:13:43.291Z"
   },
   {
    "duration": 58,
    "start_time": "2022-11-11T18:13:43.298Z"
   },
   {
    "duration": 7,
    "start_time": "2022-11-11T18:13:43.358Z"
   },
   {
    "duration": 46,
    "start_time": "2022-11-11T18:13:43.367Z"
   },
   {
    "duration": 3,
    "start_time": "2022-11-11T18:13:43.415Z"
   },
   {
    "duration": 25,
    "start_time": "2022-11-11T18:13:43.420Z"
   },
   {
    "duration": 181321,
    "start_time": "2022-11-11T18:13:43.448Z"
   },
   {
    "duration": 17,
    "start_time": "2022-11-11T19:31:46.923Z"
   },
   {
    "duration": 14,
    "start_time": "2022-11-11T19:31:54.901Z"
   },
   {
    "duration": 3230,
    "start_time": "2022-11-11T19:34:28.826Z"
   },
   {
    "duration": 0,
    "start_time": "2022-11-11T19:37:48.971Z"
   },
   {
    "duration": 69887,
    "start_time": "2022-11-11T19:37:55.783Z"
   },
   {
    "duration": 114708,
    "start_time": "2022-11-11T19:39:47.494Z"
   },
   {
    "duration": 511,
    "start_time": "2022-11-11T19:41:46.902Z"
   },
   {
    "duration": 544,
    "start_time": "2022-11-11T19:42:33.835Z"
   },
   {
    "duration": 502,
    "start_time": "2022-11-11T19:42:44.542Z"
   },
   {
    "duration": 13,
    "start_time": "2022-11-11T19:50:51.324Z"
   },
   {
    "duration": 467,
    "start_time": "2022-11-11T19:55:05.664Z"
   },
   {
    "duration": 3485,
    "start_time": "2022-11-11T19:55:53.212Z"
   },
   {
    "duration": 392,
    "start_time": "2022-11-11T19:58:23.760Z"
   },
   {
    "duration": 67,
    "start_time": "2022-11-11T19:59:10.147Z"
   },
   {
    "duration": 6,
    "start_time": "2022-11-11T19:59:26.159Z"
   },
   {
    "duration": 3505,
    "start_time": "2022-11-11T19:59:37.360Z"
   },
   {
    "duration": 3,
    "start_time": "2022-11-11T19:59:40.867Z"
   },
   {
    "duration": 3588,
    "start_time": "2022-11-11T19:59:40.871Z"
   },
   {
    "duration": 3,
    "start_time": "2022-11-11T19:59:44.462Z"
   },
   {
    "duration": 44,
    "start_time": "2022-11-11T19:59:44.467Z"
   },
   {
    "duration": 11,
    "start_time": "2022-11-11T19:59:44.512Z"
   },
   {
    "duration": 14,
    "start_time": "2022-11-11T19:59:44.525Z"
   },
   {
    "duration": 41,
    "start_time": "2022-11-11T19:59:44.541Z"
   },
   {
    "duration": 16,
    "start_time": "2022-11-11T19:59:44.585Z"
   },
   {
    "duration": 3,
    "start_time": "2022-11-11T19:59:44.605Z"
   },
   {
    "duration": 6,
    "start_time": "2022-11-11T19:59:44.609Z"
   },
   {
    "duration": 5901,
    "start_time": "2022-11-11T19:59:44.616Z"
   },
   {
    "duration": 5,
    "start_time": "2022-11-11T19:59:50.519Z"
   },
   {
    "duration": 1329276,
    "start_time": "2022-11-11T19:59:50.526Z"
   },
   {
    "duration": 5009,
    "start_time": "2022-11-11T20:21:59.804Z"
   },
   {
    "duration": 2,
    "start_time": "2022-11-11T20:22:04.815Z"
   },
   {
    "duration": 27,
    "start_time": "2022-11-11T20:22:04.819Z"
   },
   {
    "duration": 48,
    "start_time": "2022-11-11T20:22:04.848Z"
   },
   {
    "duration": 5945,
    "start_time": "2022-11-11T20:22:04.898Z"
   },
   {
    "duration": 1523,
    "start_time": "2022-11-11T20:22:10.844Z"
   },
   {
    "duration": 47216,
    "start_time": "2022-11-11T20:22:12.370Z"
   },
   {
    "duration": 184,
    "start_time": "2022-11-11T20:22:59.593Z"
   },
   {
    "duration": 1,
    "start_time": "2022-11-11T20:22:59.780Z"
   },
   {
    "duration": 1,
    "start_time": "2022-11-11T20:22:59.782Z"
   },
   {
    "duration": 0,
    "start_time": "2022-11-11T20:22:59.784Z"
   },
   {
    "duration": 0,
    "start_time": "2022-11-11T20:22:59.786Z"
   },
   {
    "duration": 0,
    "start_time": "2022-11-11T20:22:59.787Z"
   },
   {
    "duration": 0,
    "start_time": "2022-11-11T20:22:59.789Z"
   },
   {
    "duration": 0,
    "start_time": "2022-11-11T20:22:59.791Z"
   },
   {
    "duration": 0,
    "start_time": "2022-11-11T20:22:59.793Z"
   },
   {
    "duration": 0,
    "start_time": "2022-11-11T20:22:59.794Z"
   },
   {
    "duration": 0,
    "start_time": "2022-11-11T20:22:59.796Z"
   },
   {
    "duration": 0,
    "start_time": "2022-11-11T20:22:59.797Z"
   },
   {
    "duration": 0,
    "start_time": "2022-11-11T20:22:59.799Z"
   },
   {
    "duration": 0,
    "start_time": "2022-11-11T20:22:59.801Z"
   },
   {
    "duration": 0,
    "start_time": "2022-11-11T20:22:59.802Z"
   },
   {
    "duration": 0,
    "start_time": "2022-11-11T20:22:59.804Z"
   },
   {
    "duration": 0,
    "start_time": "2022-11-11T20:22:59.805Z"
   },
   {
    "duration": 0,
    "start_time": "2022-11-11T20:22:59.807Z"
   },
   {
    "duration": 0,
    "start_time": "2022-11-11T20:22:59.808Z"
   },
   {
    "duration": 0,
    "start_time": "2022-11-11T20:22:59.810Z"
   },
   {
    "duration": 54,
    "start_time": "2022-11-11T20:27:01.899Z"
   },
   {
    "duration": 7,
    "start_time": "2022-11-11T20:27:01.955Z"
   },
   {
    "duration": 26,
    "start_time": "2022-11-11T20:27:01.964Z"
   },
   {
    "duration": 13,
    "start_time": "2022-11-11T20:27:01.993Z"
   },
   {
    "duration": 24,
    "start_time": "2022-11-11T20:27:02.009Z"
   },
   {
    "duration": 3,
    "start_time": "2022-11-11T20:27:02.035Z"
   },
   {
    "duration": 46423,
    "start_time": "2022-11-11T20:27:02.039Z"
   },
   {
    "duration": 0,
    "start_time": "2022-11-11T20:27:48.464Z"
   },
   {
    "duration": 0,
    "start_time": "2022-11-11T20:27:48.466Z"
   },
   {
    "duration": 0,
    "start_time": "2022-11-11T20:27:48.480Z"
   },
   {
    "duration": 0,
    "start_time": "2022-11-11T20:27:48.482Z"
   },
   {
    "duration": 0,
    "start_time": "2022-11-11T20:27:48.484Z"
   },
   {
    "duration": 0,
    "start_time": "2022-11-11T20:27:48.485Z"
   },
   {
    "duration": 0,
    "start_time": "2022-11-11T20:27:48.486Z"
   },
   {
    "duration": 0,
    "start_time": "2022-11-11T20:27:48.488Z"
   },
   {
    "duration": 0,
    "start_time": "2022-11-11T20:27:48.490Z"
   },
   {
    "duration": 0,
    "start_time": "2022-11-11T20:27:48.491Z"
   },
   {
    "duration": 0,
    "start_time": "2022-11-11T20:27:48.493Z"
   },
   {
    "duration": 0,
    "start_time": "2022-11-11T20:27:48.494Z"
   },
   {
    "duration": 13,
    "start_time": "2022-11-11T20:27:52.556Z"
   },
   {
    "duration": 4304,
    "start_time": "2022-11-11T20:28:20.863Z"
   },
   {
    "duration": 53,
    "start_time": "2022-11-11T20:28:28.475Z"
   },
   {
    "duration": 1252,
    "start_time": "2022-11-11T20:29:04.903Z"
   },
   {
    "duration": 660,
    "start_time": "2022-11-11T20:29:09.045Z"
   },
   {
    "duration": 49,
    "start_time": "2022-11-11T20:29:13.175Z"
   },
   {
    "duration": 1233424,
    "start_time": "2022-11-11T20:29:22.993Z"
   },
   {
    "duration": 3418,
    "start_time": "2022-11-11T20:49:56.419Z"
   },
   {
    "duration": 51,
    "start_time": "2022-11-11T20:49:59.839Z"
   },
   {
    "duration": 58754,
    "start_time": "2022-11-11T20:49:59.892Z"
   },
   {
    "duration": 0,
    "start_time": "2022-11-11T20:50:58.647Z"
   },
   {
    "duration": 0,
    "start_time": "2022-11-11T20:50:58.649Z"
   },
   {
    "duration": 0,
    "start_time": "2022-11-11T20:50:58.650Z"
   },
   {
    "duration": 0,
    "start_time": "2022-11-11T20:50:58.651Z"
   },
   {
    "duration": 0,
    "start_time": "2022-11-11T20:50:58.652Z"
   },
   {
    "duration": 0,
    "start_time": "2022-11-11T20:50:58.653Z"
   },
   {
    "duration": 0,
    "start_time": "2022-11-11T20:50:58.654Z"
   },
   {
    "duration": 0,
    "start_time": "2022-11-11T20:50:58.656Z"
   },
   {
    "duration": 0,
    "start_time": "2022-11-11T20:50:58.656Z"
   },
   {
    "duration": 0,
    "start_time": "2022-11-11T21:14:33.814Z"
   },
   {
    "duration": 19647,
    "start_time": "2022-11-11T21:14:49.738Z"
   },
   {
    "duration": 2918,
    "start_time": "2022-11-11T21:16:44.280Z"
   },
   {
    "duration": 3,
    "start_time": "2022-11-11T21:16:47.200Z"
   },
   {
    "duration": 910,
    "start_time": "2022-11-11T21:16:47.205Z"
   },
   {
    "duration": 3,
    "start_time": "2022-11-11T21:16:48.117Z"
   },
   {
    "duration": 36,
    "start_time": "2022-11-11T21:16:48.122Z"
   },
   {
    "duration": 20,
    "start_time": "2022-11-11T21:16:48.159Z"
   },
   {
    "duration": 14,
    "start_time": "2022-11-11T21:16:48.181Z"
   },
   {
    "duration": 17,
    "start_time": "2022-11-11T21:16:48.197Z"
   },
   {
    "duration": 13,
    "start_time": "2022-11-11T21:16:48.216Z"
   },
   {
    "duration": 2,
    "start_time": "2022-11-11T21:16:48.232Z"
   },
   {
    "duration": 5,
    "start_time": "2022-11-11T21:16:48.236Z"
   },
   {
    "duration": 5375,
    "start_time": "2022-11-11T21:16:48.243Z"
   },
   {
    "duration": 5,
    "start_time": "2022-11-11T21:16:53.620Z"
   },
   {
    "duration": 3078,
    "start_time": "2022-11-13T20:18:45.650Z"
   },
   {
    "duration": 3,
    "start_time": "2022-11-13T20:18:48.730Z"
   },
   {
    "duration": 2332,
    "start_time": "2022-11-13T20:18:48.734Z"
   },
   {
    "duration": 2,
    "start_time": "2022-11-13T20:18:51.069Z"
   },
   {
    "duration": 35,
    "start_time": "2022-11-13T20:18:51.073Z"
   },
   {
    "duration": 11,
    "start_time": "2022-11-13T20:18:51.109Z"
   },
   {
    "duration": 13,
    "start_time": "2022-11-13T20:18:51.121Z"
   },
   {
    "duration": 16,
    "start_time": "2022-11-13T20:18:51.136Z"
   },
   {
    "duration": 11,
    "start_time": "2022-11-13T20:18:51.154Z"
   },
   {
    "duration": 2,
    "start_time": "2022-11-13T20:18:51.168Z"
   },
   {
    "duration": 6,
    "start_time": "2022-11-13T20:18:51.172Z"
   },
   {
    "duration": 5005,
    "start_time": "2022-11-13T20:18:51.180Z"
   },
   {
    "duration": 5,
    "start_time": "2022-11-13T20:18:56.186Z"
   },
   {
    "duration": 2735,
    "start_time": "2022-11-14T06:19:08.759Z"
   },
   {
    "duration": 3,
    "start_time": "2022-11-14T06:19:11.495Z"
   },
   {
    "duration": 2291,
    "start_time": "2022-11-14T06:19:11.499Z"
   },
   {
    "duration": 2,
    "start_time": "2022-11-14T06:19:13.792Z"
   },
   {
    "duration": 32,
    "start_time": "2022-11-14T06:19:13.795Z"
   },
   {
    "duration": 9,
    "start_time": "2022-11-14T06:19:13.829Z"
   },
   {
    "duration": 16,
    "start_time": "2022-11-14T06:19:13.839Z"
   },
   {
    "duration": 14,
    "start_time": "2022-11-14T06:19:13.857Z"
   },
   {
    "duration": 11,
    "start_time": "2022-11-14T06:19:13.873Z"
   },
   {
    "duration": 2,
    "start_time": "2022-11-14T06:19:13.886Z"
   },
   {
    "duration": 8,
    "start_time": "2022-11-14T06:19:13.890Z"
   },
   {
    "duration": 4886,
    "start_time": "2022-11-14T06:19:13.899Z"
   },
   {
    "duration": 5,
    "start_time": "2022-11-14T06:19:18.787Z"
   },
   {
    "duration": 1086303,
    "start_time": "2022-11-14T06:19:18.794Z"
   },
   {
    "duration": 4110,
    "start_time": "2022-11-14T06:37:25.098Z"
   },
   {
    "duration": 3,
    "start_time": "2022-11-14T06:37:29.209Z"
   },
   {
    "duration": 35,
    "start_time": "2022-11-14T06:37:29.214Z"
   },
   {
    "duration": 52,
    "start_time": "2022-11-14T06:37:29.252Z"
   },
   {
    "duration": 5032,
    "start_time": "2022-11-14T06:37:29.306Z"
   },
   {
    "duration": 1269,
    "start_time": "2022-11-14T06:37:34.339Z"
   },
   {
    "duration": 49442,
    "start_time": "2022-11-14T06:37:35.609Z"
   },
   {
    "duration": 35,
    "start_time": "2022-11-14T06:38:25.053Z"
   },
   {
    "duration": 7,
    "start_time": "2022-11-14T06:38:25.089Z"
   },
   {
    "duration": 13,
    "start_time": "2022-11-14T06:38:25.097Z"
   },
   {
    "duration": 2,
    "start_time": "2022-11-14T06:38:25.112Z"
   },
   {
    "duration": 427159,
    "start_time": "2022-11-14T06:38:25.145Z"
   },
   {
    "duration": 0,
    "start_time": "2022-11-14T06:45:32.305Z"
   },
   {
    "duration": 0,
    "start_time": "2022-11-14T06:45:32.307Z"
   },
   {
    "duration": 0,
    "start_time": "2022-11-14T06:45:32.308Z"
   },
   {
    "duration": 0,
    "start_time": "2022-11-14T06:45:32.309Z"
   },
   {
    "duration": 0,
    "start_time": "2022-11-14T06:45:32.310Z"
   },
   {
    "duration": 0,
    "start_time": "2022-11-14T06:45:32.312Z"
   },
   {
    "duration": 0,
    "start_time": "2022-11-14T06:45:32.313Z"
   },
   {
    "duration": 0,
    "start_time": "2022-11-14T06:45:32.314Z"
   },
   {
    "duration": 0,
    "start_time": "2022-11-14T06:45:32.316Z"
   },
   {
    "duration": 0,
    "start_time": "2022-11-14T06:45:32.317Z"
   },
   {
    "duration": 0,
    "start_time": "2022-11-14T06:45:32.318Z"
   },
   {
    "duration": 0,
    "start_time": "2022-11-14T06:45:32.319Z"
   },
   {
    "duration": 47053,
    "start_time": "2022-11-14T06:45:39.552Z"
   },
   {
    "duration": 0,
    "start_time": "2022-11-14T06:46:26.607Z"
   },
   {
    "duration": 0,
    "start_time": "2022-11-14T06:46:26.608Z"
   },
   {
    "duration": 0,
    "start_time": "2022-11-14T06:46:26.609Z"
   },
   {
    "duration": 0,
    "start_time": "2022-11-14T06:46:26.610Z"
   },
   {
    "duration": 0,
    "start_time": "2022-11-14T06:46:26.611Z"
   },
   {
    "duration": 0,
    "start_time": "2022-11-14T06:46:26.612Z"
   },
   {
    "duration": 0,
    "start_time": "2022-11-14T06:46:26.613Z"
   },
   {
    "duration": 0,
    "start_time": "2022-11-14T06:46:26.614Z"
   },
   {
    "duration": 0,
    "start_time": "2022-11-14T06:46:26.615Z"
   },
   {
    "duration": 0,
    "start_time": "2022-11-14T06:46:26.616Z"
   },
   {
    "duration": 0,
    "start_time": "2022-11-14T06:46:26.617Z"
   },
   {
    "duration": 0,
    "start_time": "2022-11-14T06:46:26.618Z"
   },
   {
    "duration": 3085,
    "start_time": "2022-11-14T06:46:39.918Z"
   },
   {
    "duration": 32,
    "start_time": "2022-11-14T06:46:48.699Z"
   },
   {
    "duration": 829,
    "start_time": "2022-11-14T06:46:56.343Z"
   },
   {
    "duration": 0,
    "start_time": "2022-11-14T06:46:57.173Z"
   },
   {
    "duration": 0,
    "start_time": "2022-11-14T06:46:57.174Z"
   },
   {
    "duration": 0,
    "start_time": "2022-11-14T06:46:57.175Z"
   },
   {
    "duration": 0,
    "start_time": "2022-11-14T06:46:57.176Z"
   },
   {
    "duration": 0,
    "start_time": "2022-11-14T06:46:57.177Z"
   },
   {
    "duration": 0,
    "start_time": "2022-11-14T06:46:57.178Z"
   },
   {
    "duration": 0,
    "start_time": "2022-11-14T06:46:57.179Z"
   },
   {
    "duration": 0,
    "start_time": "2022-11-14T06:46:57.181Z"
   },
   {
    "duration": 0,
    "start_time": "2022-11-14T06:46:57.182Z"
   },
   {
    "duration": 131432,
    "start_time": "2022-11-14T06:47:36.885Z"
   },
   {
    "duration": 0,
    "start_time": "2022-11-14T06:49:48.320Z"
   },
   {
    "duration": 0,
    "start_time": "2022-11-14T06:49:48.321Z"
   },
   {
    "duration": 1,
    "start_time": "2022-11-14T06:49:48.322Z"
   },
   {
    "duration": 0,
    "start_time": "2022-11-14T06:49:48.324Z"
   },
   {
    "duration": 0,
    "start_time": "2022-11-14T06:49:48.325Z"
   },
   {
    "duration": 0,
    "start_time": "2022-11-14T06:49:48.327Z"
   },
   {
    "duration": 0,
    "start_time": "2022-11-14T06:49:48.328Z"
   },
   {
    "duration": 0,
    "start_time": "2022-11-14T06:49:48.346Z"
   },
   {
    "duration": 0,
    "start_time": "2022-11-14T06:49:48.347Z"
   },
   {
    "duration": 155442,
    "start_time": "2022-11-14T06:49:53.851Z"
   },
   {
    "duration": 0,
    "start_time": "2022-11-14T06:52:29.295Z"
   },
   {
    "duration": 0,
    "start_time": "2022-11-14T06:52:29.296Z"
   },
   {
    "duration": 0,
    "start_time": "2022-11-14T06:52:29.297Z"
   },
   {
    "duration": 0,
    "start_time": "2022-11-14T06:52:29.298Z"
   },
   {
    "duration": 0,
    "start_time": "2022-11-14T06:52:29.299Z"
   },
   {
    "duration": 0,
    "start_time": "2022-11-14T06:52:29.300Z"
   },
   {
    "duration": 0,
    "start_time": "2022-11-14T06:52:29.301Z"
   },
   {
    "duration": 0,
    "start_time": "2022-11-14T06:52:29.302Z"
   },
   {
    "duration": 0,
    "start_time": "2022-11-14T06:52:29.303Z"
   },
   {
    "duration": 1010,
    "start_time": "2022-11-14T06:52:49.980Z"
   },
   {
    "duration": 529,
    "start_time": "2022-11-14T06:52:50.992Z"
   },
   {
    "duration": 35,
    "start_time": "2022-11-14T06:52:51.522Z"
   },
   {
    "duration": 51,
    "start_time": "2022-11-14T06:52:51.559Z"
   },
   {
    "duration": 0,
    "start_time": "2022-11-14T06:52:51.612Z"
   },
   {
    "duration": 0,
    "start_time": "2022-11-14T06:52:51.613Z"
   },
   {
    "duration": 0,
    "start_time": "2022-11-14T06:52:51.615Z"
   },
   {
    "duration": 0,
    "start_time": "2022-11-14T06:52:51.617Z"
   },
   {
    "duration": 0,
    "start_time": "2022-11-14T06:52:51.618Z"
   },
   {
    "duration": 569,
    "start_time": "2022-11-14T06:53:29.627Z"
   },
   {
    "duration": 339,
    "start_time": "2022-11-14T06:53:31.243Z"
   },
   {
    "duration": 43,
    "start_time": "2022-11-14T06:53:31.999Z"
   },
   {
    "duration": 976,
    "start_time": "2022-11-14T06:53:42.000Z"
   },
   {
    "duration": 161,
    "start_time": "2022-11-14T06:53:44.932Z"
   },
   {
    "duration": 33,
    "start_time": "2022-11-14T06:53:45.751Z"
   },
   {
    "duration": 2217,
    "start_time": "2022-11-14T06:53:58.526Z"
   },
   {
    "duration": 421,
    "start_time": "2022-11-14T06:54:01.845Z"
   },
   {
    "duration": 37,
    "start_time": "2022-11-14T06:54:03.999Z"
   },
   {
    "duration": 1373,
    "start_time": "2022-11-14T06:54:12.847Z"
   },
   {
    "duration": 252,
    "start_time": "2022-11-14T06:54:14.221Z"
   },
   {
    "duration": 32,
    "start_time": "2022-11-14T06:54:15.811Z"
   },
   {
    "duration": 3339,
    "start_time": "2022-11-14T06:54:22.602Z"
   },
   {
    "duration": 334,
    "start_time": "2022-11-14T06:54:26.774Z"
   },
   {
    "duration": 34,
    "start_time": "2022-11-14T06:54:27.390Z"
   },
   {
    "duration": 6587,
    "start_time": "2022-11-14T06:54:41.336Z"
   },
   {
    "duration": 665,
    "start_time": "2022-11-14T06:54:48.908Z"
   },
   {
    "duration": 31,
    "start_time": "2022-11-14T06:54:49.749Z"
   },
   {
    "duration": 1076,
    "start_time": "2022-11-14T06:54:58.802Z"
   },
   {
    "duration": 117,
    "start_time": "2022-11-14T06:55:00.790Z"
   },
   {
    "duration": 33,
    "start_time": "2022-11-14T06:55:01.592Z"
   },
   {
    "duration": 3,
    "start_time": "2022-11-14T06:56:37.457Z"
   },
   {
    "duration": 0,
    "start_time": "2022-11-14T06:57:42.729Z"
   },
   {
    "duration": 0,
    "start_time": "2022-11-14T06:57:42.730Z"
   },
   {
    "duration": 1512,
    "start_time": "2022-11-14T06:58:03.065Z"
   },
   {
    "duration": 116,
    "start_time": "2022-11-14T06:58:04.579Z"
   },
   {
    "duration": 35,
    "start_time": "2022-11-14T06:58:04.745Z"
   },
   {
    "duration": 2606,
    "start_time": "2022-11-14T06:58:18.881Z"
   },
   {
    "duration": 149,
    "start_time": "2022-11-14T06:58:21.489Z"
   },
   {
    "duration": 44,
    "start_time": "2022-11-14T06:58:21.645Z"
   },
   {
    "duration": 6810,
    "start_time": "2022-11-14T06:58:31.462Z"
   },
   {
    "duration": 346,
    "start_time": "2022-11-14T06:58:38.274Z"
   },
   {
    "duration": 39,
    "start_time": "2022-11-14T06:58:38.622Z"
   },
   {
    "duration": 1402,
    "start_time": "2022-11-14T06:58:45.755Z"
   },
   {
    "duration": 99,
    "start_time": "2022-11-14T06:58:47.159Z"
   },
   {
    "duration": 37,
    "start_time": "2022-11-14T06:58:47.260Z"
   },
   {
    "duration": 2802,
    "start_time": "2022-11-14T06:58:56.824Z"
   },
   {
    "duration": 158,
    "start_time": "2022-11-14T06:58:59.628Z"
   },
   {
    "duration": 37,
    "start_time": "2022-11-14T06:58:59.788Z"
   },
   {
    "duration": 3518,
    "start_time": "2022-11-14T06:59:06.685Z"
   },
   {
    "duration": 169,
    "start_time": "2022-11-14T06:59:10.206Z"
   },
   {
    "duration": 35,
    "start_time": "2022-11-14T06:59:10.377Z"
   },
   {
    "duration": 38038,
    "start_time": "2022-11-14T06:59:23.933Z"
   },
   {
    "duration": 1609,
    "start_time": "2022-11-14T07:00:01.973Z"
   },
   {
    "duration": 38,
    "start_time": "2022-11-14T07:00:03.584Z"
   },
   {
    "duration": 4670,
    "start_time": "2022-11-14T07:00:19.452Z"
   },
   {
    "duration": 192,
    "start_time": "2022-11-14T07:00:24.124Z"
   },
   {
    "duration": 42,
    "start_time": "2022-11-14T07:00:24.318Z"
   },
   {
    "duration": 4652,
    "start_time": "2022-11-14T07:00:35.900Z"
   },
   {
    "duration": 198,
    "start_time": "2022-11-14T07:00:40.554Z"
   },
   {
    "duration": 35,
    "start_time": "2022-11-14T07:00:40.753Z"
   },
   {
    "duration": 6627,
    "start_time": "2022-11-14T07:00:56.434Z"
   },
   {
    "duration": 251,
    "start_time": "2022-11-14T07:01:03.063Z"
   },
   {
    "duration": 42,
    "start_time": "2022-11-14T07:01:03.316Z"
   },
   {
    "duration": 86,
    "start_time": "2022-11-14T07:02:27.937Z"
   },
   {
    "duration": 70,
    "start_time": "2022-11-14T07:02:44.669Z"
   },
   {
    "duration": 7336,
    "start_time": "2022-11-14T07:03:00.032Z"
   },
   {
    "duration": 246,
    "start_time": "2022-11-14T07:03:07.370Z"
   },
   {
    "duration": 37,
    "start_time": "2022-11-14T07:03:07.618Z"
   },
   {
    "duration": 69,
    "start_time": "2022-11-14T07:03:07.657Z"
   },
   {
    "duration": 100294,
    "start_time": "2022-11-14T07:03:17.050Z"
   },
   {
    "duration": 3227,
    "start_time": "2022-11-14T07:04:57.345Z"
   },
   {
    "duration": 34,
    "start_time": "2022-11-14T07:05:00.573Z"
   },
   {
    "duration": 827,
    "start_time": "2022-11-14T07:05:00.609Z"
   },
   {
    "duration": 212356,
    "start_time": "2022-11-14T07:05:17.514Z"
   },
   {
    "duration": 6282,
    "start_time": "2022-11-14T07:08:49.872Z"
   },
   {
    "duration": 33,
    "start_time": "2022-11-14T07:08:56.155Z"
   },
   {
    "duration": 1635,
    "start_time": "2022-11-14T07:08:56.190Z"
   },
   {
    "duration": 148513,
    "start_time": "2022-11-14T07:27:58.174Z"
   },
   {
    "duration": 4624,
    "start_time": "2022-11-14T07:30:26.689Z"
   },
   {
    "duration": 42,
    "start_time": "2022-11-14T07:30:31.314Z"
   },
   {
    "duration": 1231,
    "start_time": "2022-11-14T07:30:31.358Z"
   },
   {
    "duration": 144291,
    "start_time": "2022-11-14T07:43:56.966Z"
   },
   {
    "duration": 4415,
    "start_time": "2022-11-14T07:46:21.260Z"
   },
   {
    "duration": 32,
    "start_time": "2022-11-14T07:46:25.678Z"
   },
   {
    "duration": 1194,
    "start_time": "2022-11-14T07:46:25.712Z"
   },
   {
    "duration": 3,
    "start_time": "2022-11-14T07:46:26.908Z"
   },
   {
    "duration": 166244,
    "start_time": "2022-11-14T07:46:26.913Z"
   },
   {
    "duration": 0,
    "start_time": "2022-11-14T07:49:13.159Z"
   },
   {
    "duration": 2495,
    "start_time": "2022-11-14T07:55:05.579Z"
   },
   {
    "duration": 3,
    "start_time": "2022-11-14T07:55:08.075Z"
   },
   {
    "duration": 774,
    "start_time": "2022-11-14T07:55:08.080Z"
   },
   {
    "duration": 2,
    "start_time": "2022-11-14T07:55:08.857Z"
   },
   {
    "duration": 41,
    "start_time": "2022-11-14T07:55:08.861Z"
   },
   {
    "duration": 10,
    "start_time": "2022-11-14T07:55:08.904Z"
   },
   {
    "duration": 32,
    "start_time": "2022-11-14T07:55:08.916Z"
   },
   {
    "duration": 18,
    "start_time": "2022-11-14T07:55:08.949Z"
   },
   {
    "duration": 13,
    "start_time": "2022-11-14T07:55:08.968Z"
   },
   {
    "duration": 3,
    "start_time": "2022-11-14T07:55:08.984Z"
   },
   {
    "duration": 10,
    "start_time": "2022-11-14T07:55:08.989Z"
   },
   {
    "duration": 5053,
    "start_time": "2022-11-14T07:55:09.001Z"
   },
   {
    "duration": 4,
    "start_time": "2022-11-14T07:55:14.056Z"
   },
   {
    "duration": 1096776,
    "start_time": "2022-11-14T07:55:14.061Z"
   },
   {
    "duration": 4387,
    "start_time": "2022-11-14T08:13:30.839Z"
   },
   {
    "duration": 3,
    "start_time": "2022-11-14T08:13:35.228Z"
   },
   {
    "duration": 28,
    "start_time": "2022-11-14T08:13:35.233Z"
   },
   {
    "duration": 38,
    "start_time": "2022-11-14T08:13:35.263Z"
   },
   {
    "duration": 5132,
    "start_time": "2022-11-14T08:13:35.303Z"
   },
   {
    "duration": 1154,
    "start_time": "2022-11-14T08:13:40.437Z"
   },
   {
    "duration": 47253,
    "start_time": "2022-11-14T08:13:41.593Z"
   },
   {
    "duration": 32,
    "start_time": "2022-11-14T08:14:28.848Z"
   },
   {
    "duration": 7,
    "start_time": "2022-11-14T08:14:28.881Z"
   },
   {
    "duration": 13,
    "start_time": "2022-11-14T08:14:28.890Z"
   },
   {
    "duration": 4,
    "start_time": "2022-11-14T08:14:28.905Z"
   },
   {
    "duration": 106036,
    "start_time": "2022-11-14T08:14:28.910Z"
   },
   {
    "duration": 3173,
    "start_time": "2022-11-14T08:16:14.948Z"
   },
   {
    "duration": 38,
    "start_time": "2022-11-14T08:16:18.124Z"
   },
   {
    "duration": 841434,
    "start_time": "2022-11-14T08:16:18.163Z"
   },
   {
    "duration": 0,
    "start_time": "2022-11-14T08:30:19.598Z"
   },
   {
    "duration": 0,
    "start_time": "2022-11-14T08:30:19.599Z"
   },
   {
    "duration": 0,
    "start_time": "2022-11-14T08:30:19.601Z"
   },
   {
    "duration": 0,
    "start_time": "2022-11-14T08:30:19.602Z"
   },
   {
    "duration": 0,
    "start_time": "2022-11-14T08:30:19.603Z"
   },
   {
    "duration": 0,
    "start_time": "2022-11-14T08:30:19.604Z"
   },
   {
    "duration": 0,
    "start_time": "2022-11-14T08:30:19.605Z"
   },
   {
    "duration": 0,
    "start_time": "2022-11-14T08:30:19.606Z"
   },
   {
    "duration": 0,
    "start_time": "2022-11-14T08:30:19.607Z"
   },
   {
    "duration": 0,
    "start_time": "2022-11-14T08:30:19.608Z"
   },
   {
    "duration": 838589,
    "start_time": "2022-11-14T08:31:57.202Z"
   },
   {
    "duration": 138593,
    "start_time": "2022-11-14T08:45:55.793Z"
   },
   {
    "duration": 4136,
    "start_time": "2022-11-14T08:48:14.387Z"
   },
   {
    "duration": 40,
    "start_time": "2022-11-14T08:48:18.526Z"
   },
   {
    "duration": 1103,
    "start_time": "2022-11-14T08:48:18.567Z"
   },
   {
    "duration": 2,
    "start_time": "2022-11-14T08:48:19.672Z"
   },
   {
    "duration": 1948978,
    "start_time": "2022-11-14T08:48:19.676Z"
   },
   {
    "duration": 8236002,
    "start_time": "2022-11-14T09:20:48.752Z"
   },
   {
    "duration": 106,
    "start_time": "2022-11-14T11:38:04.850Z"
   },
   {
    "duration": 0,
    "start_time": "2022-11-14T11:38:04.958Z"
   },
   {
    "duration": 0,
    "start_time": "2022-11-14T11:38:04.959Z"
   },
   {
    "duration": 252950,
    "start_time": "2022-11-14T12:33:28.888Z"
   },
   {
    "duration": 1035874,
    "start_time": "2022-11-14T12:46:39.089Z"
   },
   {
    "duration": 19,
    "start_time": "2022-11-14T13:03:54.965Z"
   },
   {
    "duration": 23,
    "start_time": "2022-11-14T14:18:27.225Z"
   },
   {
    "duration": 5,
    "start_time": "2022-11-14T14:19:09.125Z"
   },
   {
    "duration": 5,
    "start_time": "2022-11-14T14:20:05.972Z"
   },
   {
    "duration": 11,
    "start_time": "2022-11-14T14:20:45.876Z"
   },
   {
    "duration": 6,
    "start_time": "2022-11-14T14:21:00.484Z"
   },
   {
    "duration": 5,
    "start_time": "2022-11-14T14:21:21.889Z"
   },
   {
    "duration": 20,
    "start_time": "2022-11-14T14:26:37.196Z"
   },
   {
    "duration": 10,
    "start_time": "2022-11-14T14:27:05.980Z"
   },
   {
    "duration": 19,
    "start_time": "2022-11-14T14:28:30.327Z"
   },
   {
    "duration": 11,
    "start_time": "2022-11-14T14:29:08.169Z"
   },
   {
    "duration": 3,
    "start_time": "2022-11-14T14:29:22.913Z"
   },
   {
    "duration": 12,
    "start_time": "2022-11-14T14:29:25.035Z"
   },
   {
    "duration": 4,
    "start_time": "2022-11-14T14:30:36.645Z"
   },
   {
    "duration": 4,
    "start_time": "2022-11-14T14:32:33.100Z"
   },
   {
    "duration": 10,
    "start_time": "2022-11-14T14:32:47.829Z"
   },
   {
    "duration": 4,
    "start_time": "2022-11-14T14:33:37.104Z"
   },
   {
    "duration": 7,
    "start_time": "2022-11-14T14:33:53.436Z"
   },
   {
    "duration": 7,
    "start_time": "2022-11-14T14:33:57.032Z"
   },
   {
    "duration": 4,
    "start_time": "2022-11-14T14:34:50.377Z"
   },
   {
    "duration": 4,
    "start_time": "2022-11-14T14:35:01.159Z"
   },
   {
    "duration": 12,
    "start_time": "2022-11-14T14:35:51.151Z"
   },
   {
    "duration": 24,
    "start_time": "2022-11-14T14:37:20.581Z"
   },
   {
    "duration": 4,
    "start_time": "2022-11-14T14:37:36.306Z"
   },
   {
    "duration": 47,
    "start_time": "2022-11-14T14:38:18.361Z"
   },
   {
    "duration": 325,
    "start_time": "2022-11-14T19:57:36.787Z"
   },
   {
    "duration": 3,
    "start_time": "2022-11-14T19:57:37.115Z"
   },
   {
    "duration": 905,
    "start_time": "2022-11-14T19:57:37.119Z"
   },
   {
    "duration": 2,
    "start_time": "2022-11-14T19:57:38.026Z"
   },
   {
    "duration": 45,
    "start_time": "2022-11-14T19:57:38.030Z"
   },
   {
    "duration": 6,
    "start_time": "2022-11-14T19:57:38.076Z"
   },
   {
    "duration": 15,
    "start_time": "2022-11-14T19:57:38.084Z"
   },
   {
    "duration": 14,
    "start_time": "2022-11-14T19:57:38.100Z"
   },
   {
    "duration": 12,
    "start_time": "2022-11-14T19:57:38.116Z"
   },
   {
    "duration": 2,
    "start_time": "2022-11-14T19:57:38.129Z"
   },
   {
    "duration": 3,
    "start_time": "2022-11-14T19:57:38.155Z"
   },
   {
    "duration": 4836,
    "start_time": "2022-11-14T19:57:38.160Z"
   },
   {
    "duration": 5,
    "start_time": "2022-11-14T19:57:42.998Z"
   },
   {
    "duration": 2916,
    "start_time": "2022-11-14T19:58:02.446Z"
   },
   {
    "duration": 3,
    "start_time": "2022-11-14T19:58:05.364Z"
   },
   {
    "duration": 844,
    "start_time": "2022-11-14T19:58:05.368Z"
   },
   {
    "duration": 3,
    "start_time": "2022-11-14T19:58:06.214Z"
   },
   {
    "duration": 37,
    "start_time": "2022-11-14T19:58:06.218Z"
   },
   {
    "duration": 9,
    "start_time": "2022-11-14T19:58:06.256Z"
   },
   {
    "duration": 12,
    "start_time": "2022-11-14T19:58:06.267Z"
   },
   {
    "duration": 18,
    "start_time": "2022-11-14T19:58:06.281Z"
   },
   {
    "duration": 12,
    "start_time": "2022-11-14T19:58:06.300Z"
   },
   {
    "duration": 2,
    "start_time": "2022-11-14T19:58:06.314Z"
   },
   {
    "duration": 4,
    "start_time": "2022-11-14T19:58:06.318Z"
   },
   {
    "duration": 4886,
    "start_time": "2022-11-14T19:58:06.356Z"
   },
   {
    "duration": 5,
    "start_time": "2022-11-14T19:58:11.243Z"
   },
   {
    "duration": 1075885,
    "start_time": "2022-11-14T19:58:11.249Z"
   },
   {
    "duration": 4138,
    "start_time": "2022-11-14T20:16:07.136Z"
   },
   {
    "duration": 2,
    "start_time": "2022-11-14T20:16:11.276Z"
   },
   {
    "duration": 19,
    "start_time": "2022-11-14T20:16:11.280Z"
   },
   {
    "duration": 31,
    "start_time": "2022-11-14T20:16:11.301Z"
   },
   {
    "duration": 5222,
    "start_time": "2022-11-14T20:16:11.334Z"
   },
   {
    "duration": 1257,
    "start_time": "2022-11-14T20:16:16.558Z"
   },
   {
    "duration": 48954,
    "start_time": "2022-11-14T20:16:17.818Z"
   },
   {
    "duration": 42,
    "start_time": "2022-11-14T20:17:06.854Z"
   },
   {
    "duration": 8,
    "start_time": "2022-11-14T20:17:06.898Z"
   },
   {
    "duration": 12,
    "start_time": "2022-11-14T20:17:06.908Z"
   },
   {
    "duration": 7,
    "start_time": "2022-11-14T20:17:06.922Z"
   },
   {
    "duration": 104601,
    "start_time": "2022-11-14T20:17:06.930Z"
   },
   {
    "duration": 3102,
    "start_time": "2022-11-14T20:18:51.532Z"
   },
   {
    "duration": 48559,
    "start_time": "2022-11-14T20:18:54.638Z"
   },
   {
    "duration": 33,
    "start_time": "2022-11-14T20:19:43.199Z"
   },
   {
    "duration": 838402,
    "start_time": "2022-11-14T20:19:43.234Z"
   },
   {
    "duration": 133398,
    "start_time": "2022-11-14T20:33:41.638Z"
   },
   {
    "duration": 4098,
    "start_time": "2022-11-14T20:35:55.038Z"
   },
   {
    "duration": 36,
    "start_time": "2022-11-14T20:35:59.138Z"
   },
   {
    "duration": 1072,
    "start_time": "2022-11-14T20:35:59.175Z"
   },
   {
    "duration": 6,
    "start_time": "2022-11-14T20:36:00.249Z"
   },
   {
    "duration": 647828,
    "start_time": "2022-11-14T20:36:00.257Z"
   },
   {
    "duration": 0,
    "start_time": "2022-11-14T20:46:48.087Z"
   },
   {
    "duration": 0,
    "start_time": "2022-11-14T20:46:48.088Z"
   },
   {
    "duration": 0,
    "start_time": "2022-11-14T20:46:48.089Z"
   },
   {
    "duration": 0,
    "start_time": "2022-11-14T20:46:48.090Z"
   },
   {
    "duration": 0,
    "start_time": "2022-11-14T20:46:48.091Z"
   },
   {
    "duration": 0,
    "start_time": "2022-11-14T20:46:48.092Z"
   },
   {
    "duration": 0,
    "start_time": "2022-11-14T20:46:48.093Z"
   },
   {
    "duration": 0,
    "start_time": "2022-11-14T20:46:48.093Z"
   },
   {
    "duration": 0,
    "start_time": "2022-11-14T20:46:48.094Z"
   },
   {
    "duration": 0,
    "start_time": "2022-11-14T20:46:48.095Z"
   },
   {
    "duration": 0,
    "start_time": "2022-11-14T20:46:48.096Z"
   },
   {
    "duration": 0,
    "start_time": "2022-11-14T20:46:48.096Z"
   },
   {
    "duration": 0,
    "start_time": "2022-11-14T20:46:48.097Z"
   },
   {
    "duration": 0,
    "start_time": "2022-11-14T20:46:48.098Z"
   },
   {
    "duration": 0,
    "start_time": "2022-11-14T20:46:48.099Z"
   },
   {
    "duration": 0,
    "start_time": "2022-11-14T20:46:48.100Z"
   },
   {
    "duration": 284891,
    "start_time": "2022-11-14T20:46:54.479Z"
   },
   {
    "duration": 0,
    "start_time": "2022-11-14T20:51:39.372Z"
   },
   {
    "duration": 0,
    "start_time": "2022-11-14T20:51:39.373Z"
   },
   {
    "duration": 0,
    "start_time": "2022-11-14T20:51:39.375Z"
   },
   {
    "duration": 0,
    "start_time": "2022-11-14T20:51:39.376Z"
   },
   {
    "duration": 0,
    "start_time": "2022-11-14T20:51:39.377Z"
   },
   {
    "duration": 0,
    "start_time": "2022-11-14T20:51:39.378Z"
   },
   {
    "duration": 0,
    "start_time": "2022-11-14T20:51:39.379Z"
   },
   {
    "duration": 0,
    "start_time": "2022-11-14T20:51:39.380Z"
   },
   {
    "duration": 0,
    "start_time": "2022-11-14T20:51:39.381Z"
   },
   {
    "duration": 0,
    "start_time": "2022-11-14T20:51:39.382Z"
   },
   {
    "duration": 0,
    "start_time": "2022-11-14T20:51:39.383Z"
   },
   {
    "duration": 0,
    "start_time": "2022-11-14T20:51:39.383Z"
   },
   {
    "duration": 0,
    "start_time": "2022-11-14T20:51:39.384Z"
   },
   {
    "duration": 0,
    "start_time": "2022-11-14T20:51:39.385Z"
   },
   {
    "duration": 0,
    "start_time": "2022-11-14T20:51:39.386Z"
   },
   {
    "duration": 0,
    "start_time": "2022-11-14T20:51:39.388Z"
   },
   {
    "duration": 0,
    "start_time": "2022-11-14T20:51:39.389Z"
   },
   {
    "duration": 0,
    "start_time": "2022-11-14T20:51:39.390Z"
   },
   {
    "duration": 4,
    "start_time": "2022-11-14T20:53:46.247Z"
   },
   {
    "duration": 12,
    "start_time": "2022-11-14T20:55:22.717Z"
   },
   {
    "duration": 10,
    "start_time": "2022-11-14T20:55:56.704Z"
   },
   {
    "duration": 6,
    "start_time": "2022-11-14T20:57:33.913Z"
   },
   {
    "duration": 3524,
    "start_time": "2022-11-15T10:36:20.414Z"
   },
   {
    "duration": 3,
    "start_time": "2022-11-15T10:36:23.940Z"
   },
   {
    "duration": 3375,
    "start_time": "2022-11-15T10:36:23.949Z"
   },
   {
    "duration": 3,
    "start_time": "2022-11-15T10:36:27.326Z"
   },
   {
    "duration": 33,
    "start_time": "2022-11-15T10:36:27.331Z"
   },
   {
    "duration": 18,
    "start_time": "2022-11-15T10:36:27.366Z"
   },
   {
    "duration": 14,
    "start_time": "2022-11-15T10:36:27.389Z"
   },
   {
    "duration": 16,
    "start_time": "2022-11-15T10:36:27.404Z"
   },
   {
    "duration": 12,
    "start_time": "2022-11-15T10:36:27.421Z"
   },
   {
    "duration": 2,
    "start_time": "2022-11-15T10:36:27.436Z"
   },
   {
    "duration": 5,
    "start_time": "2022-11-15T10:36:27.440Z"
   },
   {
    "duration": 5768,
    "start_time": "2022-11-15T10:36:27.447Z"
   },
   {
    "duration": 5,
    "start_time": "2022-11-15T10:36:33.217Z"
   },
   {
    "duration": 2823,
    "start_time": "2022-11-15T17:14:20.997Z"
   },
   {
    "duration": 3,
    "start_time": "2022-11-15T17:14:23.823Z"
   },
   {
    "duration": 2544,
    "start_time": "2022-11-15T17:14:23.827Z"
   },
   {
    "duration": 3,
    "start_time": "2022-11-15T17:14:26.373Z"
   },
   {
    "duration": 45,
    "start_time": "2022-11-15T17:14:26.378Z"
   },
   {
    "duration": 29,
    "start_time": "2022-11-15T17:14:26.425Z"
   },
   {
    "duration": 13,
    "start_time": "2022-11-15T17:14:26.456Z"
   },
   {
    "duration": 18,
    "start_time": "2022-11-15T17:14:26.471Z"
   },
   {
    "duration": 16,
    "start_time": "2022-11-15T17:14:26.491Z"
   },
   {
    "duration": 5,
    "start_time": "2022-11-15T17:14:26.510Z"
   },
   {
    "duration": 23,
    "start_time": "2022-11-15T17:14:26.516Z"
   },
   {
    "duration": 4730,
    "start_time": "2022-11-15T17:14:26.541Z"
   },
   {
    "duration": 5,
    "start_time": "2022-11-15T17:14:31.272Z"
   },
   {
    "duration": 1071310,
    "start_time": "2022-11-15T17:14:31.278Z"
   },
   {
    "duration": 4134,
    "start_time": "2022-11-15T17:32:22.589Z"
   },
   {
    "duration": 2,
    "start_time": "2022-11-15T17:32:26.725Z"
   },
   {
    "duration": 24,
    "start_time": "2022-11-15T17:32:26.728Z"
   },
   {
    "duration": 36,
    "start_time": "2022-11-15T17:32:26.754Z"
   },
   {
    "duration": 4757,
    "start_time": "2022-11-15T17:32:26.792Z"
   },
   {
    "duration": 1150,
    "start_time": "2022-11-15T17:32:31.551Z"
   },
   {
    "duration": 49176,
    "start_time": "2022-11-15T17:32:32.703Z"
   },
   {
    "duration": 47,
    "start_time": "2022-11-15T17:33:21.882Z"
   },
   {
    "duration": 8,
    "start_time": "2022-11-15T17:33:21.931Z"
   },
   {
    "duration": 38,
    "start_time": "2022-11-15T17:33:21.941Z"
   },
   {
    "duration": 4,
    "start_time": "2022-11-15T17:33:21.981Z"
   },
   {
    "duration": 106095,
    "start_time": "2022-11-15T17:33:21.987Z"
   },
   {
    "duration": 2895,
    "start_time": "2022-11-15T17:35:08.084Z"
   },
   {
    "duration": 45706,
    "start_time": "2022-11-15T17:35:10.981Z"
   },
   {
    "duration": 4,
    "start_time": "2022-11-15T17:35:56.688Z"
   },
   {
    "duration": 3,
    "start_time": "2022-11-15T19:28:14.230Z"
   },
   {
    "duration": 103684,
    "start_time": "2022-11-15T19:28:18.626Z"
   },
   {
    "duration": 1215169,
    "start_time": "2022-11-15T19:30:26.084Z"
   },
   {
    "duration": 0,
    "start_time": "2022-11-15T19:50:41.255Z"
   },
   {
    "duration": 0,
    "start_time": "2022-11-15T19:50:41.256Z"
   },
   {
    "duration": 1614907,
    "start_time": "2022-11-15T19:51:12.846Z"
   },
   {
    "duration": 0,
    "start_time": "2022-11-15T20:18:07.755Z"
   },
   {
    "duration": 0,
    "start_time": "2022-11-15T20:18:07.757Z"
   },
   {
    "duration": 0,
    "start_time": "2022-11-15T20:18:07.758Z"
   },
   {
    "duration": 0,
    "start_time": "2022-11-15T20:18:07.759Z"
   },
   {
    "duration": 0,
    "start_time": "2022-11-15T20:18:07.760Z"
   },
   {
    "duration": 0,
    "start_time": "2022-11-15T20:18:07.761Z"
   },
   {
    "duration": 0,
    "start_time": "2022-11-15T20:18:07.777Z"
   },
   {
    "duration": 0,
    "start_time": "2022-11-15T20:18:07.778Z"
   },
   {
    "duration": 0,
    "start_time": "2022-11-15T20:18:07.779Z"
   },
   {
    "duration": 0,
    "start_time": "2022-11-15T20:18:07.781Z"
   },
   {
    "duration": 0,
    "start_time": "2022-11-15T20:18:07.782Z"
   },
   {
    "duration": 0,
    "start_time": "2022-11-15T20:18:07.784Z"
   },
   {
    "duration": 0,
    "start_time": "2022-11-15T20:18:07.785Z"
   },
   {
    "duration": 0,
    "start_time": "2022-11-15T20:18:07.786Z"
   },
   {
    "duration": 0,
    "start_time": "2022-11-15T20:18:07.787Z"
   },
   {
    "duration": 0,
    "start_time": "2022-11-15T20:18:07.788Z"
   },
   {
    "duration": 0,
    "start_time": "2022-11-15T20:18:07.789Z"
   },
   {
    "duration": 0,
    "start_time": "2022-11-15T20:18:07.790Z"
   },
   {
    "duration": 0,
    "start_time": "2022-11-15T20:18:07.791Z"
   },
   {
    "duration": 0,
    "start_time": "2022-11-15T20:18:07.792Z"
   },
   {
    "duration": 0,
    "start_time": "2022-11-15T20:18:07.793Z"
   },
   {
    "duration": 0,
    "start_time": "2022-11-15T20:18:07.794Z"
   },
   {
    "duration": 0,
    "start_time": "2022-11-15T20:18:07.795Z"
   },
   {
    "duration": 0,
    "start_time": "2022-11-15T20:18:07.796Z"
   },
   {
    "duration": 0,
    "start_time": "2022-11-15T20:18:07.797Z"
   },
   {
    "duration": 0,
    "start_time": "2022-11-15T20:18:07.798Z"
   },
   {
    "duration": 0,
    "start_time": "2022-11-15T20:18:07.799Z"
   },
   {
    "duration": 0,
    "start_time": "2022-11-15T20:18:07.800Z"
   },
   {
    "duration": 819552,
    "start_time": "2022-11-15T20:18:46.756Z"
   },
   {
    "duration": 4078,
    "start_time": "2022-11-16T05:11:28.020Z"
   },
   {
    "duration": 3,
    "start_time": "2022-11-16T05:11:32.100Z"
   },
   {
    "duration": 2401,
    "start_time": "2022-11-16T05:11:32.104Z"
   },
   {
    "duration": 3,
    "start_time": "2022-11-16T05:11:34.507Z"
   },
   {
    "duration": 48,
    "start_time": "2022-11-16T05:11:34.511Z"
   },
   {
    "duration": 9,
    "start_time": "2022-11-16T05:11:34.561Z"
   },
   {
    "duration": 15,
    "start_time": "2022-11-16T05:11:34.571Z"
   },
   {
    "duration": 17,
    "start_time": "2022-11-16T05:11:34.588Z"
   },
   {
    "duration": 32,
    "start_time": "2022-11-16T05:11:34.606Z"
   },
   {
    "duration": 2,
    "start_time": "2022-11-16T05:11:34.640Z"
   },
   {
    "duration": 9,
    "start_time": "2022-11-16T05:11:34.644Z"
   },
   {
    "duration": 5068,
    "start_time": "2022-11-16T05:11:34.655Z"
   },
   {
    "duration": 10,
    "start_time": "2022-11-16T05:11:39.725Z"
   },
   {
    "duration": 1090126,
    "start_time": "2022-11-16T05:11:39.737Z"
   },
   {
    "duration": 4283,
    "start_time": "2022-11-16T05:29:49.865Z"
   },
   {
    "duration": 2,
    "start_time": "2022-11-16T05:29:54.150Z"
   },
   {
    "duration": 36,
    "start_time": "2022-11-16T05:29:54.154Z"
   },
   {
    "duration": 29,
    "start_time": "2022-11-16T05:29:54.192Z"
   },
   {
    "duration": 4971,
    "start_time": "2022-11-16T05:29:54.222Z"
   },
   {
    "duration": 1168,
    "start_time": "2022-11-16T05:29:59.194Z"
   },
   {
    "duration": 46083,
    "start_time": "2022-11-16T05:30:00.364Z"
   },
   {
    "duration": 109,
    "start_time": "2022-11-16T05:30:46.449Z"
   },
   {
    "duration": 8,
    "start_time": "2022-11-16T05:30:46.560Z"
   },
   {
    "duration": 13,
    "start_time": "2022-11-16T05:30:46.569Z"
   },
   {
    "duration": 3,
    "start_time": "2022-11-16T05:30:46.584Z"
   },
   {
    "duration": 1071037,
    "start_time": "2022-11-16T05:30:46.589Z"
   },
   {
    "duration": 6070,
    "start_time": "2022-11-16T05:48:37.629Z"
   },
   {
    "duration": 159,
    "start_time": "2022-11-16T05:48:43.702Z"
   },
   {
    "duration": 0,
    "start_time": "2022-11-16T05:48:43.863Z"
   },
   {
    "duration": 0,
    "start_time": "2022-11-16T05:48:43.865Z"
   },
   {
    "duration": 0,
    "start_time": "2022-11-16T05:48:43.867Z"
   },
   {
    "duration": 0,
    "start_time": "2022-11-16T05:48:43.868Z"
   },
   {
    "duration": 0,
    "start_time": "2022-11-16T05:48:43.870Z"
   },
   {
    "duration": 0,
    "start_time": "2022-11-16T05:48:43.871Z"
   },
   {
    "duration": 0,
    "start_time": "2022-11-16T05:48:43.872Z"
   },
   {
    "duration": 0,
    "start_time": "2022-11-16T05:48:43.874Z"
   },
   {
    "duration": 0,
    "start_time": "2022-11-16T05:48:43.875Z"
   },
   {
    "duration": 0,
    "start_time": "2022-11-16T05:48:43.877Z"
   },
   {
    "duration": 40,
    "start_time": "2022-11-16T07:01:19.821Z"
   },
   {
    "duration": 1116619,
    "start_time": "2022-11-16T07:02:28.805Z"
   },
   {
    "duration": 0,
    "start_time": "2022-11-16T07:48:17.939Z"
   },
   {
    "duration": 2199181,
    "start_time": "2022-11-16T07:48:24.424Z"
   },
   {
    "duration": 102864,
    "start_time": "2022-11-16T08:35:41.555Z"
   },
   {
    "duration": 50,
    "start_time": "2022-11-16T08:37:24.421Z"
   },
   {
    "duration": 2860394,
    "start_time": "2022-11-16T08:37:24.473Z"
   },
   {
    "duration": 3902749,
    "start_time": "2022-11-16T09:25:08.612Z"
   },
   {
    "duration": 150086,
    "start_time": "2022-11-16T10:45:07.405Z"
   },
   {
    "duration": 4480,
    "start_time": "2022-11-16T10:47:37.494Z"
   },
   {
    "duration": 37,
    "start_time": "2022-11-16T10:47:41.976Z"
   },
   {
    "duration": 1185,
    "start_time": "2022-11-16T10:47:42.015Z"
   },
   {
    "duration": 13,
    "start_time": "2022-11-16T10:48:00.082Z"
   },
   {
    "duration": 3,
    "start_time": "2022-11-16T10:50:12.018Z"
   },
   {
    "duration": 12109,
    "start_time": "2022-11-16T10:50:16.946Z"
   },
   {
    "duration": 63992,
    "start_time": "2022-11-16T10:50:29.059Z"
   },
   {
    "duration": 4,
    "start_time": "2022-11-16T10:51:33.053Z"
   },
   {
    "duration": 12,
    "start_time": "2022-11-16T10:51:33.059Z"
   },
   {
    "duration": 35,
    "start_time": "2022-11-16T10:52:03.734Z"
   },
   {
    "duration": 80825,
    "start_time": "2022-11-16T10:53:01.050Z"
   },
   {
    "duration": 0,
    "start_time": "2022-11-16T10:54:21.877Z"
   },
   {
    "duration": 450,
    "start_time": "2022-11-16T10:54:25.411Z"
   },
   {
    "duration": 394,
    "start_time": "2022-11-16T10:55:27.506Z"
   },
   {
    "duration": 268,
    "start_time": "2022-11-16T11:00:17.711Z"
   },
   {
    "duration": 1274,
    "start_time": "2022-11-16T11:00:37.669Z"
   },
   {
    "duration": 658043,
    "start_time": "2022-11-16T11:01:56.356Z"
   },
   {
    "duration": 2706102,
    "start_time": "2022-11-16T11:12:54.400Z"
   },
   {
    "duration": 3,
    "start_time": "2022-11-16T11:58:00.504Z"
   },
   {
    "duration": 34,
    "start_time": "2022-11-16T11:58:00.509Z"
   },
   {
    "duration": 38,
    "start_time": "2022-11-16T11:58:00.545Z"
   },
   {
    "duration": 60,
    "start_time": "2022-11-16T11:58:00.585Z"
   },
   {
    "duration": 422,
    "start_time": "2022-11-16T11:58:00.647Z"
   },
   {
    "duration": 390,
    "start_time": "2022-11-16T11:59:55.203Z"
   },
   {
    "duration": 8,
    "start_time": "2022-11-16T12:00:07.624Z"
   },
   {
    "duration": 372,
    "start_time": "2022-11-16T12:05:27.348Z"
   },
   {
    "duration": 189,
    "start_time": "2022-11-16T20:19:15.233Z"
   },
   {
    "duration": 3,
    "start_time": "2022-11-16T20:19:15.423Z"
   },
   {
    "duration": 812,
    "start_time": "2022-11-16T20:19:15.428Z"
   },
   {
    "duration": 887,
    "start_time": "2022-11-16T20:19:19.748Z"
   },
   {
    "duration": 3363,
    "start_time": "2022-11-16T20:19:22.461Z"
   }
  ],
  "kernelspec": {
   "display_name": "Python 3 (ipykernel)",
   "language": "python",
   "name": "python3"
  },
  "language_info": {
   "codemirror_mode": {
    "name": "ipython",
    "version": 3
   },
   "file_extension": ".py",
   "mimetype": "text/x-python",
   "name": "python",
   "nbconvert_exporter": "python",
   "pygments_lexer": "ipython3",
   "version": "3.9.5"
  },
  "toc": {
   "base_numbering": 1,
   "nav_menu": {},
   "number_sections": true,
   "sideBar": true,
   "skip_h1_title": true,
   "title_cell": "Содержание",
   "title_sidebar": "Contents",
   "toc_cell": true,
   "toc_position": {
    "height": "calc(100% - 180px)",
    "left": "10px",
    "top": "150px",
    "width": "302.391px"
   },
   "toc_section_display": true,
   "toc_window_display": false
  }
 },
 "nbformat": 4,
 "nbformat_minor": 2
}
