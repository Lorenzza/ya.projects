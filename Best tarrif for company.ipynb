{
 "cells": [
  {
   "cell_type": "markdown",
   "metadata": {},
   "source": [
    "<h1>Содержание<span class=\"tocSkip\"></span></h1>\n",
    "<div class=\"toc\"><ul class=\"toc-item\"><li><span><a href=\"#Изучение-данных-из-файла\" data-toc-modified-id=\"Изучение-данных-из-файла-1\"><span class=\"toc-item-num\">1&nbsp;&nbsp;</span>Изучение данных из файла</a></span><ul class=\"toc-item\"><li><span><a href=\"#Вывод\" data-toc-modified-id=\"Вывод-1.1\"><span class=\"toc-item-num\">1.1&nbsp;&nbsp;</span>Вывод</a></span></li></ul></li><li><span><a href=\"#Предобработка-данных\" data-toc-modified-id=\"Предобработка-данных-2\"><span class=\"toc-item-num\">2&nbsp;&nbsp;</span>Предобработка данных</a></span><ul class=\"toc-item\"><li><span><a href=\"#Изменение-типа-данных\" data-toc-modified-id=\"Изменение-типа-данных-2.1\"><span class=\"toc-item-num\">2.1&nbsp;&nbsp;</span>Изменение типа данных</a></span></li><li><span><a href=\"#Обработка-пропусков\" data-toc-modified-id=\"Обработка-пропусков-2.2\"><span class=\"toc-item-num\">2.2&nbsp;&nbsp;</span>Обработка пропусков</a></span></li></ul></li><li><span><a href=\"#Расчёты-и-добавление-результатов-в-таблицу\" data-toc-modified-id=\"Расчёты-и-добавление-результатов-в-таблицу-3\"><span class=\"toc-item-num\">3&nbsp;&nbsp;</span>Расчёты и добавление результатов в таблицу</a></span></li><li><span><a href=\"#Исследовательский-анализ-данных\" data-toc-modified-id=\"Исследовательский-анализ-данных-4\"><span class=\"toc-item-num\">4&nbsp;&nbsp;</span>Исследовательский анализ данных</a></span></li><li><span><a href=\"#Общий-вывод\" data-toc-modified-id=\"Общий-вывод-5\"><span class=\"toc-item-num\">5&nbsp;&nbsp;</span>Общий вывод</a></span></li><li><span><a href=\"#Чек-лист-готовности-проекта\" data-toc-modified-id=\"Чек-лист-готовности-проекта-6\"><span class=\"toc-item-num\">6&nbsp;&nbsp;</span>Чек-лист готовности проекта</a></span></li></ul></div>"
   ]
  },
  {
   "cell_type": "markdown",
   "metadata": {},
   "source": [
    "# Исследование и анализ данных о тарифах пользователей\n",
    "\n",
    "В настоящем проекте нам предстоит сделать предварительный анализ тарифов на небольшой выборке клиентов. У нас собраны данные 500 пользователей «Мегалайна»: кто они, откуда, каким тарифом пользуются, сколько звонков и сообщений каждый отправил за 2018 год. Нужно проанализировать поведение клиентов и сделать вывод — какой тариф лучше."
   ]
  },
  {
   "cell_type": "markdown",
   "metadata": {},
   "source": [
    "## Изучение данных из файлов"
   ]
  },
  {
   "cell_type": "markdown",
   "metadata": {},
   "source": [
    "### Таблица users (информация о пользователях): "
   ]
  },
  {
   "cell_type": "code",
   "execution_count": 1,
   "metadata": {},
   "outputs": [
    {
     "data": {
      "text/html": [
       "<div>\n",
       "<style scoped>\n",
       "    .dataframe tbody tr th:only-of-type {\n",
       "        vertical-align: middle;\n",
       "    }\n",
       "\n",
       "    .dataframe tbody tr th {\n",
       "        vertical-align: top;\n",
       "    }\n",
       "\n",
       "    .dataframe thead th {\n",
       "        text-align: right;\n",
       "    }\n",
       "</style>\n",
       "<table border=\"1\" class=\"dataframe\">\n",
       "  <thead>\n",
       "    <tr style=\"text-align: right;\">\n",
       "      <th></th>\n",
       "      <th>user_id</th>\n",
       "      <th>age</th>\n",
       "      <th>churn_date</th>\n",
       "      <th>city</th>\n",
       "      <th>first_name</th>\n",
       "      <th>last_name</th>\n",
       "      <th>reg_date</th>\n",
       "      <th>tariff</th>\n",
       "    </tr>\n",
       "  </thead>\n",
       "  <tbody>\n",
       "    <tr>\n",
       "      <td>0</td>\n",
       "      <td>1000</td>\n",
       "      <td>52</td>\n",
       "      <td>NaN</td>\n",
       "      <td>Краснодар</td>\n",
       "      <td>Рафаил</td>\n",
       "      <td>Верещагин</td>\n",
       "      <td>2018-05-25</td>\n",
       "      <td>ultra</td>\n",
       "    </tr>\n",
       "    <tr>\n",
       "      <td>1</td>\n",
       "      <td>1001</td>\n",
       "      <td>41</td>\n",
       "      <td>NaN</td>\n",
       "      <td>Москва</td>\n",
       "      <td>Иван</td>\n",
       "      <td>Ежов</td>\n",
       "      <td>2018-11-01</td>\n",
       "      <td>smart</td>\n",
       "    </tr>\n",
       "    <tr>\n",
       "      <td>2</td>\n",
       "      <td>1002</td>\n",
       "      <td>59</td>\n",
       "      <td>NaN</td>\n",
       "      <td>Стерлитамак</td>\n",
       "      <td>Евгений</td>\n",
       "      <td>Абрамович</td>\n",
       "      <td>2018-06-17</td>\n",
       "      <td>smart</td>\n",
       "    </tr>\n",
       "    <tr>\n",
       "      <td>3</td>\n",
       "      <td>1003</td>\n",
       "      <td>23</td>\n",
       "      <td>NaN</td>\n",
       "      <td>Москва</td>\n",
       "      <td>Белла</td>\n",
       "      <td>Белякова</td>\n",
       "      <td>2018-08-17</td>\n",
       "      <td>ultra</td>\n",
       "    </tr>\n",
       "    <tr>\n",
       "      <td>4</td>\n",
       "      <td>1004</td>\n",
       "      <td>68</td>\n",
       "      <td>NaN</td>\n",
       "      <td>Новокузнецк</td>\n",
       "      <td>Татьяна</td>\n",
       "      <td>Авдеенко</td>\n",
       "      <td>2018-05-14</td>\n",
       "      <td>ultra</td>\n",
       "    </tr>\n",
       "  </tbody>\n",
       "</table>\n",
       "</div>"
      ],
      "text/plain": [
       "   user_id  age churn_date         city first_name  last_name    reg_date  \\\n",
       "0     1000   52        NaN    Краснодар     Рафаил  Верещагин  2018-05-25   \n",
       "1     1001   41        NaN       Москва       Иван       Ежов  2018-11-01   \n",
       "2     1002   59        NaN  Стерлитамак    Евгений  Абрамович  2018-06-17   \n",
       "3     1003   23        NaN       Москва      Белла   Белякова  2018-08-17   \n",
       "4     1004   68        NaN  Новокузнецк    Татьяна   Авдеенко  2018-05-14   \n",
       "\n",
       "  tariff  \n",
       "0  ultra  \n",
       "1  smart  \n",
       "2  smart  \n",
       "3  ultra  \n",
       "4  ultra  "
      ]
     },
     "metadata": {},
     "output_type": "display_data"
    }
   ],
   "source": [
    "import pandas as pd\n",
    "import numpy as np\n",
    "import matplotlib.pyplot as plt\n",
    "import seaborn as sns\n",
    "import warnings\n",
    "from IPython.display import display\n",
    "from scipy import stats as st\n",
    "\n",
    "users = pd.read_csv('/datasets/users.csv') #, sep = '\\t')\n",
    "\n",
    "display(users.head())"
   ]
  },
  {
   "cell_type": "markdown",
   "metadata": {},
   "source": [
    "Таблица users (информация о пользователях):\n",
    "user_id — уникальный идентификатор пользователя\n",
    "first_name — имя пользователя\n",
    "last_name — фамилия пользователя\n",
    "age — возраст пользователя (годы)\n",
    "reg_date — дата подключения тарифа (день, месяц, год)\n",
    "churn_date — дата прекращения пользования тарифом (если значение пропущено, то тариф ещё действовал на момент выгрузки данных)\n",
    "city — город проживания пользователя\n",
    "tarif — название тарифного плана"
   ]
  },
  {
   "cell_type": "code",
   "execution_count": 2,
   "metadata": {},
   "outputs": [
    {
     "name": "stdout",
     "output_type": "stream",
     "text": [
      "<class 'pandas.core.frame.DataFrame'>\n",
      "RangeIndex: 500 entries, 0 to 499\n",
      "Data columns (total 8 columns):\n",
      "user_id       500 non-null int64\n",
      "age           500 non-null int64\n",
      "churn_date    38 non-null object\n",
      "city          500 non-null object\n",
      "first_name    500 non-null object\n",
      "last_name     500 non-null object\n",
      "reg_date      500 non-null object\n",
      "tariff        500 non-null object\n",
      "dtypes: int64(2), object(6)\n",
      "memory usage: 31.4+ KB\n"
     ]
    }
   ],
   "source": [
    "users.info()"
   ]
  },
  {
   "cell_type": "code",
   "execution_count": 3,
   "metadata": {},
   "outputs": [
    {
     "data": {
      "text/html": [
       "<div>\n",
       "<style scoped>\n",
       "    .dataframe tbody tr th:only-of-type {\n",
       "        vertical-align: middle;\n",
       "    }\n",
       "\n",
       "    .dataframe tbody tr th {\n",
       "        vertical-align: top;\n",
       "    }\n",
       "\n",
       "    .dataframe thead th {\n",
       "        text-align: right;\n",
       "    }\n",
       "</style>\n",
       "<table border=\"1\" class=\"dataframe\">\n",
       "  <thead>\n",
       "    <tr style=\"text-align: right;\">\n",
       "      <th></th>\n",
       "      <th>user_id</th>\n",
       "      <th>age</th>\n",
       "    </tr>\n",
       "  </thead>\n",
       "  <tbody>\n",
       "    <tr>\n",
       "      <td>count</td>\n",
       "      <td>500.000000</td>\n",
       "      <td>500.00000</td>\n",
       "    </tr>\n",
       "    <tr>\n",
       "      <td>mean</td>\n",
       "      <td>1249.500000</td>\n",
       "      <td>46.58800</td>\n",
       "    </tr>\n",
       "    <tr>\n",
       "      <td>std</td>\n",
       "      <td>144.481833</td>\n",
       "      <td>16.66763</td>\n",
       "    </tr>\n",
       "    <tr>\n",
       "      <td>min</td>\n",
       "      <td>1000.000000</td>\n",
       "      <td>18.00000</td>\n",
       "    </tr>\n",
       "    <tr>\n",
       "      <td>25%</td>\n",
       "      <td>1124.750000</td>\n",
       "      <td>32.00000</td>\n",
       "    </tr>\n",
       "    <tr>\n",
       "      <td>50%</td>\n",
       "      <td>1249.500000</td>\n",
       "      <td>46.00000</td>\n",
       "    </tr>\n",
       "    <tr>\n",
       "      <td>75%</td>\n",
       "      <td>1374.250000</td>\n",
       "      <td>62.00000</td>\n",
       "    </tr>\n",
       "    <tr>\n",
       "      <td>max</td>\n",
       "      <td>1499.000000</td>\n",
       "      <td>75.00000</td>\n",
       "    </tr>\n",
       "  </tbody>\n",
       "</table>\n",
       "</div>"
      ],
      "text/plain": [
       "           user_id        age\n",
       "count   500.000000  500.00000\n",
       "mean   1249.500000   46.58800\n",
       "std     144.481833   16.66763\n",
       "min    1000.000000   18.00000\n",
       "25%    1124.750000   32.00000\n",
       "50%    1249.500000   46.00000\n",
       "75%    1374.250000   62.00000\n",
       "max    1499.000000   75.00000"
      ]
     },
     "execution_count": 3,
     "metadata": {},
     "output_type": "execute_result"
    }
   ],
   "source": [
    "users.describe()"
   ]
  },
  {
   "cell_type": "code",
   "execution_count": 4,
   "metadata": {},
   "outputs": [
    {
     "data": {
      "text/plain": [
       "False    500\n",
       "dtype: int64"
      ]
     },
     "execution_count": 4,
     "metadata": {},
     "output_type": "execute_result"
    }
   ],
   "source": [
    "users.duplicated().value_counts()"
   ]
  },
  {
   "cell_type": "markdown",
   "metadata": {},
   "source": [
    "Таблица users содержит пропуски в столбце churn_date. Эти пропуски объяснимы, поскольку незаполненное значение обозначает, что тариф действовал на момент создания файла.\n",
    "Явных дубликатов нет. Так как каждому пользователю присвоен свой id и они не повторяются, вероятность того, что поль\n",
    "\n",
    "Данные в столбце 'reg_date' - non-null object являются датами, необходимо изменить тип данных.\n",
    "\n",
    "В столбцах first_name и 'last_name' данные представлены строками в разных регистрах.\n",
    "\n",
    "Наименования столбцов имеют приемлемый вид: нет сочетания строчных и прописных букв, \"змеиный\" стиль, соотносятся с информацией в столбцах по смыслу."
   ]
  },
  {
   "cell_type": "markdown",
   "metadata": {},
   "source": [
    "### Таблица calls (информация о звонках):"
   ]
  },
  {
   "cell_type": "code",
   "execution_count": 5,
   "metadata": {
    "scrolled": true
   },
   "outputs": [
    {
     "data": {
      "text/html": [
       "<div>\n",
       "<style scoped>\n",
       "    .dataframe tbody tr th:only-of-type {\n",
       "        vertical-align: middle;\n",
       "    }\n",
       "\n",
       "    .dataframe tbody tr th {\n",
       "        vertical-align: top;\n",
       "    }\n",
       "\n",
       "    .dataframe thead th {\n",
       "        text-align: right;\n",
       "    }\n",
       "</style>\n",
       "<table border=\"1\" class=\"dataframe\">\n",
       "  <thead>\n",
       "    <tr style=\"text-align: right;\">\n",
       "      <th></th>\n",
       "      <th>id</th>\n",
       "      <th>call_date</th>\n",
       "      <th>duration</th>\n",
       "      <th>user_id</th>\n",
       "    </tr>\n",
       "  </thead>\n",
       "  <tbody>\n",
       "    <tr>\n",
       "      <td>0</td>\n",
       "      <td>1000_0</td>\n",
       "      <td>2018-07-25</td>\n",
       "      <td>0.00</td>\n",
       "      <td>1000</td>\n",
       "    </tr>\n",
       "    <tr>\n",
       "      <td>1</td>\n",
       "      <td>1000_1</td>\n",
       "      <td>2018-08-17</td>\n",
       "      <td>0.00</td>\n",
       "      <td>1000</td>\n",
       "    </tr>\n",
       "    <tr>\n",
       "      <td>2</td>\n",
       "      <td>1000_2</td>\n",
       "      <td>2018-06-11</td>\n",
       "      <td>2.85</td>\n",
       "      <td>1000</td>\n",
       "    </tr>\n",
       "    <tr>\n",
       "      <td>3</td>\n",
       "      <td>1000_3</td>\n",
       "      <td>2018-09-21</td>\n",
       "      <td>13.80</td>\n",
       "      <td>1000</td>\n",
       "    </tr>\n",
       "    <tr>\n",
       "      <td>4</td>\n",
       "      <td>1000_4</td>\n",
       "      <td>2018-12-15</td>\n",
       "      <td>5.18</td>\n",
       "      <td>1000</td>\n",
       "    </tr>\n",
       "  </tbody>\n",
       "</table>\n",
       "</div>"
      ],
      "text/plain": [
       "       id   call_date  duration  user_id\n",
       "0  1000_0  2018-07-25      0.00     1000\n",
       "1  1000_1  2018-08-17      0.00     1000\n",
       "2  1000_2  2018-06-11      2.85     1000\n",
       "3  1000_3  2018-09-21     13.80     1000\n",
       "4  1000_4  2018-12-15      5.18     1000"
      ]
     },
     "metadata": {},
     "output_type": "display_data"
    }
   ],
   "source": [
    "calls = pd.read_csv('/datasets/calls.csv')\n",
    "display(calls.head())"
   ]
  },
  {
   "cell_type": "markdown",
   "metadata": {},
   "source": [
    "Таблица calls (информация о звонках):\n",
    "id — уникальный номер звонка\n",
    "call_date — дата звонка\n",
    "duration — длительность звонка в минутах\n",
    "user_id — идентификатор пользователя, сделавшего звонок"
   ]
  },
  {
   "cell_type": "code",
   "execution_count": 6,
   "metadata": {},
   "outputs": [
    {
     "name": "stdout",
     "output_type": "stream",
     "text": [
      "<class 'pandas.core.frame.DataFrame'>\n",
      "RangeIndex: 202607 entries, 0 to 202606\n",
      "Data columns (total 4 columns):\n",
      "id           202607 non-null object\n",
      "call_date    202607 non-null object\n",
      "duration     202607 non-null float64\n",
      "user_id      202607 non-null int64\n",
      "dtypes: float64(1), int64(1), object(2)\n",
      "memory usage: 6.2+ MB\n"
     ]
    }
   ],
   "source": [
    "calls.info()"
   ]
  },
  {
   "cell_type": "code",
   "execution_count": 7,
   "metadata": {
    "scrolled": true
   },
   "outputs": [
    {
     "data": {
      "text/html": [
       "<div>\n",
       "<style scoped>\n",
       "    .dataframe tbody tr th:only-of-type {\n",
       "        vertical-align: middle;\n",
       "    }\n",
       "\n",
       "    .dataframe tbody tr th {\n",
       "        vertical-align: top;\n",
       "    }\n",
       "\n",
       "    .dataframe thead th {\n",
       "        text-align: right;\n",
       "    }\n",
       "</style>\n",
       "<table border=\"1\" class=\"dataframe\">\n",
       "  <thead>\n",
       "    <tr style=\"text-align: right;\">\n",
       "      <th></th>\n",
       "      <th>duration</th>\n",
       "      <th>user_id</th>\n",
       "    </tr>\n",
       "  </thead>\n",
       "  <tbody>\n",
       "    <tr>\n",
       "      <td>count</td>\n",
       "      <td>202607.000000</td>\n",
       "      <td>202607.000000</td>\n",
       "    </tr>\n",
       "    <tr>\n",
       "      <td>mean</td>\n",
       "      <td>6.755887</td>\n",
       "      <td>1253.940619</td>\n",
       "    </tr>\n",
       "    <tr>\n",
       "      <td>std</td>\n",
       "      <td>5.843365</td>\n",
       "      <td>144.722751</td>\n",
       "    </tr>\n",
       "    <tr>\n",
       "      <td>min</td>\n",
       "      <td>0.000000</td>\n",
       "      <td>1000.000000</td>\n",
       "    </tr>\n",
       "    <tr>\n",
       "      <td>25%</td>\n",
       "      <td>1.300000</td>\n",
       "      <td>1126.000000</td>\n",
       "    </tr>\n",
       "    <tr>\n",
       "      <td>50%</td>\n",
       "      <td>6.000000</td>\n",
       "      <td>1260.000000</td>\n",
       "    </tr>\n",
       "    <tr>\n",
       "      <td>75%</td>\n",
       "      <td>10.700000</td>\n",
       "      <td>1379.000000</td>\n",
       "    </tr>\n",
       "    <tr>\n",
       "      <td>max</td>\n",
       "      <td>38.000000</td>\n",
       "      <td>1499.000000</td>\n",
       "    </tr>\n",
       "  </tbody>\n",
       "</table>\n",
       "</div>"
      ],
      "text/plain": [
       "            duration        user_id\n",
       "count  202607.000000  202607.000000\n",
       "mean        6.755887    1253.940619\n",
       "std         5.843365     144.722751\n",
       "min         0.000000    1000.000000\n",
       "25%         1.300000    1126.000000\n",
       "50%         6.000000    1260.000000\n",
       "75%        10.700000    1379.000000\n",
       "max        38.000000    1499.000000"
      ]
     },
     "execution_count": 7,
     "metadata": {},
     "output_type": "execute_result"
    }
   ],
   "source": [
    "calls.describe()"
   ]
  },
  {
   "cell_type": "markdown",
   "metadata": {},
   "source": [
    "Таблица calls не содержит пропусков в столбцах.\n",
    "\n",
    "Данные в столбце call_date - non-null object являются датами, необходимо изменить тип данных.\n",
    "\n",
    "Наименования столбцов имеют приемлемый вид: нет сочетания строчных и прописных букв, \"змеиный\" стиль, соотносятся с информацией в столбцах по смыслу."
   ]
  },
  {
   "cell_type": "markdown",
   "metadata": {},
   "source": [
    "### Таблица internet (информация об интернет-сессиях)"
   ]
  },
  {
   "cell_type": "code",
   "execution_count": 8,
   "metadata": {},
   "outputs": [
    {
     "data": {
      "text/html": [
       "<div>\n",
       "<style scoped>\n",
       "    .dataframe tbody tr th:only-of-type {\n",
       "        vertical-align: middle;\n",
       "    }\n",
       "\n",
       "    .dataframe tbody tr th {\n",
       "        vertical-align: top;\n",
       "    }\n",
       "\n",
       "    .dataframe thead th {\n",
       "        text-align: right;\n",
       "    }\n",
       "</style>\n",
       "<table border=\"1\" class=\"dataframe\">\n",
       "  <thead>\n",
       "    <tr style=\"text-align: right;\">\n",
       "      <th></th>\n",
       "      <th>Unnamed: 0</th>\n",
       "      <th>id</th>\n",
       "      <th>mb_used</th>\n",
       "      <th>session_date</th>\n",
       "      <th>user_id</th>\n",
       "    </tr>\n",
       "  </thead>\n",
       "  <tbody>\n",
       "    <tr>\n",
       "      <td>0</td>\n",
       "      <td>0</td>\n",
       "      <td>1000_0</td>\n",
       "      <td>112.95</td>\n",
       "      <td>2018-11-25</td>\n",
       "      <td>1000</td>\n",
       "    </tr>\n",
       "    <tr>\n",
       "      <td>1</td>\n",
       "      <td>1</td>\n",
       "      <td>1000_1</td>\n",
       "      <td>1052.81</td>\n",
       "      <td>2018-09-07</td>\n",
       "      <td>1000</td>\n",
       "    </tr>\n",
       "    <tr>\n",
       "      <td>2</td>\n",
       "      <td>2</td>\n",
       "      <td>1000_2</td>\n",
       "      <td>1197.26</td>\n",
       "      <td>2018-06-25</td>\n",
       "      <td>1000</td>\n",
       "    </tr>\n",
       "    <tr>\n",
       "      <td>3</td>\n",
       "      <td>3</td>\n",
       "      <td>1000_3</td>\n",
       "      <td>550.27</td>\n",
       "      <td>2018-08-22</td>\n",
       "      <td>1000</td>\n",
       "    </tr>\n",
       "    <tr>\n",
       "      <td>4</td>\n",
       "      <td>4</td>\n",
       "      <td>1000_4</td>\n",
       "      <td>302.56</td>\n",
       "      <td>2018-09-24</td>\n",
       "      <td>1000</td>\n",
       "    </tr>\n",
       "  </tbody>\n",
       "</table>\n",
       "</div>"
      ],
      "text/plain": [
       "   Unnamed: 0      id  mb_used session_date  user_id\n",
       "0           0  1000_0   112.95   2018-11-25     1000\n",
       "1           1  1000_1  1052.81   2018-09-07     1000\n",
       "2           2  1000_2  1197.26   2018-06-25     1000\n",
       "3           3  1000_3   550.27   2018-08-22     1000\n",
       "4           4  1000_4   302.56   2018-09-24     1000"
      ]
     },
     "metadata": {},
     "output_type": "display_data"
    }
   ],
   "source": [
    "internet = pd.read_csv('/datasets/internet.csv')\n",
    "display(internet.head())"
   ]
  },
  {
   "cell_type": "markdown",
   "metadata": {},
   "source": [
    "Таблица internet (информация об интернет-сессиях):\n",
    "id — уникальный номер сессии\n",
    "mb_used — объём потраченного за сессию интернет-трафика (в мегабайтах)\n",
    "session_date — дата интернет-сессии\n",
    "user_id — идентификатор пользователя\n"
   ]
  },
  {
   "cell_type": "code",
   "execution_count": 9,
   "metadata": {},
   "outputs": [
    {
     "name": "stdout",
     "output_type": "stream",
     "text": [
      "<class 'pandas.core.frame.DataFrame'>\n",
      "RangeIndex: 149396 entries, 0 to 149395\n",
      "Data columns (total 5 columns):\n",
      "Unnamed: 0      149396 non-null int64\n",
      "id              149396 non-null object\n",
      "mb_used         149396 non-null float64\n",
      "session_date    149396 non-null object\n",
      "user_id         149396 non-null int64\n",
      "dtypes: float64(1), int64(2), object(2)\n",
      "memory usage: 5.7+ MB\n"
     ]
    }
   ],
   "source": [
    "internet.info()"
   ]
  },
  {
   "cell_type": "code",
   "execution_count": 10,
   "metadata": {},
   "outputs": [
    {
     "data": {
      "text/html": [
       "<div>\n",
       "<style scoped>\n",
       "    .dataframe tbody tr th:only-of-type {\n",
       "        vertical-align: middle;\n",
       "    }\n",
       "\n",
       "    .dataframe tbody tr th {\n",
       "        vertical-align: top;\n",
       "    }\n",
       "\n",
       "    .dataframe thead th {\n",
       "        text-align: right;\n",
       "    }\n",
       "</style>\n",
       "<table border=\"1\" class=\"dataframe\">\n",
       "  <thead>\n",
       "    <tr style=\"text-align: right;\">\n",
       "      <th></th>\n",
       "      <th>Unnamed: 0</th>\n",
       "      <th>mb_used</th>\n",
       "      <th>user_id</th>\n",
       "    </tr>\n",
       "  </thead>\n",
       "  <tbody>\n",
       "    <tr>\n",
       "      <td>count</td>\n",
       "      <td>149396.000000</td>\n",
       "      <td>149396.000000</td>\n",
       "      <td>149396.000000</td>\n",
       "    </tr>\n",
       "    <tr>\n",
       "      <td>mean</td>\n",
       "      <td>74697.500000</td>\n",
       "      <td>370.192426</td>\n",
       "      <td>1252.099842</td>\n",
       "    </tr>\n",
       "    <tr>\n",
       "      <td>std</td>\n",
       "      <td>43127.054745</td>\n",
       "      <td>278.300951</td>\n",
       "      <td>144.050823</td>\n",
       "    </tr>\n",
       "    <tr>\n",
       "      <td>min</td>\n",
       "      <td>0.000000</td>\n",
       "      <td>0.000000</td>\n",
       "      <td>1000.000000</td>\n",
       "    </tr>\n",
       "    <tr>\n",
       "      <td>25%</td>\n",
       "      <td>37348.750000</td>\n",
       "      <td>138.187500</td>\n",
       "      <td>1130.000000</td>\n",
       "    </tr>\n",
       "    <tr>\n",
       "      <td>50%</td>\n",
       "      <td>74697.500000</td>\n",
       "      <td>348.015000</td>\n",
       "      <td>1251.000000</td>\n",
       "    </tr>\n",
       "    <tr>\n",
       "      <td>75%</td>\n",
       "      <td>112046.250000</td>\n",
       "      <td>559.552500</td>\n",
       "      <td>1380.000000</td>\n",
       "    </tr>\n",
       "    <tr>\n",
       "      <td>max</td>\n",
       "      <td>149395.000000</td>\n",
       "      <td>1724.830000</td>\n",
       "      <td>1499.000000</td>\n",
       "    </tr>\n",
       "  </tbody>\n",
       "</table>\n",
       "</div>"
      ],
      "text/plain": [
       "          Unnamed: 0        mb_used        user_id\n",
       "count  149396.000000  149396.000000  149396.000000\n",
       "mean    74697.500000     370.192426    1252.099842\n",
       "std     43127.054745     278.300951     144.050823\n",
       "min         0.000000       0.000000    1000.000000\n",
       "25%     37348.750000     138.187500    1130.000000\n",
       "50%     74697.500000     348.015000    1251.000000\n",
       "75%    112046.250000     559.552500    1380.000000\n",
       "max    149395.000000    1724.830000    1499.000000"
      ]
     },
     "execution_count": 10,
     "metadata": {},
     "output_type": "execute_result"
    }
   ],
   "source": [
    "internet.describe()"
   ]
  },
  {
   "cell_type": "markdown",
   "metadata": {},
   "source": [
    "Таблица internet не содержит пропусков в столбцах.\n",
    "\n",
    "Данные в столбце session_date - non-null object являются датами, необходимо изменить тип данных.\n",
    "\n",
    "Наименования столбцов имеют приемлемый вид: нет сочетания строчных и прописных букв, \"змеиный\" стиль, соотносятся с информацией в столбцах по смыслу.\n",
    "Исключение - столбец 'Unnamed: 0'. Он отсутствует в описании и, по сути, повторяет столбец с нумерацией строк."
   ]
  },
  {
   "cell_type": "markdown",
   "metadata": {},
   "source": [
    "### Таблица messages (информация о сообщениях)"
   ]
  },
  {
   "cell_type": "code",
   "execution_count": 11,
   "metadata": {},
   "outputs": [
    {
     "data": {
      "text/html": [
       "<div>\n",
       "<style scoped>\n",
       "    .dataframe tbody tr th:only-of-type {\n",
       "        vertical-align: middle;\n",
       "    }\n",
       "\n",
       "    .dataframe tbody tr th {\n",
       "        vertical-align: top;\n",
       "    }\n",
       "\n",
       "    .dataframe thead th {\n",
       "        text-align: right;\n",
       "    }\n",
       "</style>\n",
       "<table border=\"1\" class=\"dataframe\">\n",
       "  <thead>\n",
       "    <tr style=\"text-align: right;\">\n",
       "      <th></th>\n",
       "      <th>id</th>\n",
       "      <th>message_date</th>\n",
       "      <th>user_id</th>\n",
       "    </tr>\n",
       "  </thead>\n",
       "  <tbody>\n",
       "    <tr>\n",
       "      <td>0</td>\n",
       "      <td>1000_0</td>\n",
       "      <td>2018-06-27</td>\n",
       "      <td>1000</td>\n",
       "    </tr>\n",
       "    <tr>\n",
       "      <td>1</td>\n",
       "      <td>1000_1</td>\n",
       "      <td>2018-10-08</td>\n",
       "      <td>1000</td>\n",
       "    </tr>\n",
       "    <tr>\n",
       "      <td>2</td>\n",
       "      <td>1000_2</td>\n",
       "      <td>2018-08-04</td>\n",
       "      <td>1000</td>\n",
       "    </tr>\n",
       "    <tr>\n",
       "      <td>3</td>\n",
       "      <td>1000_3</td>\n",
       "      <td>2018-06-16</td>\n",
       "      <td>1000</td>\n",
       "    </tr>\n",
       "    <tr>\n",
       "      <td>4</td>\n",
       "      <td>1000_4</td>\n",
       "      <td>2018-12-05</td>\n",
       "      <td>1000</td>\n",
       "    </tr>\n",
       "  </tbody>\n",
       "</table>\n",
       "</div>"
      ],
      "text/plain": [
       "       id message_date  user_id\n",
       "0  1000_0   2018-06-27     1000\n",
       "1  1000_1   2018-10-08     1000\n",
       "2  1000_2   2018-08-04     1000\n",
       "3  1000_3   2018-06-16     1000\n",
       "4  1000_4   2018-12-05     1000"
      ]
     },
     "metadata": {},
     "output_type": "display_data"
    }
   ],
   "source": [
    "messages = pd.read_csv('/datasets/messages.csv')\n",
    "display(messages.head())"
   ]
  },
  {
   "cell_type": "markdown",
   "metadata": {},
   "source": [
    "Таблица messages (информация о сообщениях):\n",
    "id — уникальный номер сообщения\n",
    "message_date — дата сообщения\n",
    "user_id — идентификатор пользователя, отправившего сообщение\n"
   ]
  },
  {
   "cell_type": "code",
   "execution_count": 12,
   "metadata": {},
   "outputs": [
    {
     "name": "stdout",
     "output_type": "stream",
     "text": [
      "<class 'pandas.core.frame.DataFrame'>\n",
      "RangeIndex: 123036 entries, 0 to 123035\n",
      "Data columns (total 3 columns):\n",
      "id              123036 non-null object\n",
      "message_date    123036 non-null object\n",
      "user_id         123036 non-null int64\n",
      "dtypes: int64(1), object(2)\n",
      "memory usage: 2.8+ MB\n"
     ]
    }
   ],
   "source": [
    "messages.info()"
   ]
  },
  {
   "cell_type": "code",
   "execution_count": 13,
   "metadata": {},
   "outputs": [
    {
     "data": {
      "text/html": [
       "<div>\n",
       "<style scoped>\n",
       "    .dataframe tbody tr th:only-of-type {\n",
       "        vertical-align: middle;\n",
       "    }\n",
       "\n",
       "    .dataframe tbody tr th {\n",
       "        vertical-align: top;\n",
       "    }\n",
       "\n",
       "    .dataframe thead th {\n",
       "        text-align: right;\n",
       "    }\n",
       "</style>\n",
       "<table border=\"1\" class=\"dataframe\">\n",
       "  <thead>\n",
       "    <tr style=\"text-align: right;\">\n",
       "      <th></th>\n",
       "      <th>user_id</th>\n",
       "    </tr>\n",
       "  </thead>\n",
       "  <tbody>\n",
       "    <tr>\n",
       "      <td>count</td>\n",
       "      <td>123036.000000</td>\n",
       "    </tr>\n",
       "    <tr>\n",
       "      <td>mean</td>\n",
       "      <td>1256.989410</td>\n",
       "    </tr>\n",
       "    <tr>\n",
       "      <td>std</td>\n",
       "      <td>143.523967</td>\n",
       "    </tr>\n",
       "    <tr>\n",
       "      <td>min</td>\n",
       "      <td>1000.000000</td>\n",
       "    </tr>\n",
       "    <tr>\n",
       "      <td>25%</td>\n",
       "      <td>1134.000000</td>\n",
       "    </tr>\n",
       "    <tr>\n",
       "      <td>50%</td>\n",
       "      <td>1271.000000</td>\n",
       "    </tr>\n",
       "    <tr>\n",
       "      <td>75%</td>\n",
       "      <td>1381.000000</td>\n",
       "    </tr>\n",
       "    <tr>\n",
       "      <td>max</td>\n",
       "      <td>1499.000000</td>\n",
       "    </tr>\n",
       "  </tbody>\n",
       "</table>\n",
       "</div>"
      ],
      "text/plain": [
       "             user_id\n",
       "count  123036.000000\n",
       "mean     1256.989410\n",
       "std       143.523967\n",
       "min      1000.000000\n",
       "25%      1134.000000\n",
       "50%      1271.000000\n",
       "75%      1381.000000\n",
       "max      1499.000000"
      ]
     },
     "execution_count": 13,
     "metadata": {},
     "output_type": "execute_result"
    }
   ],
   "source": [
    "messages.describe()"
   ]
  },
  {
   "cell_type": "markdown",
   "metadata": {},
   "source": [
    "Таблица messages не содержит пропусков в столбцах.\n",
    "\n",
    "Данные в столбце message_date - non-null object являются датами, необходимо изменить тип данных.\n",
    "\n",
    "Наименования столбцов имеют приемлемый вид: нет сочетания строчных и прописных букв, \"змеиный\" стиль, соотносятся с информацией в столбцах по смыслу. "
   ]
  },
  {
   "cell_type": "markdown",
   "metadata": {},
   "source": [
    "### Таблица tariffs (информация о тарифах)"
   ]
  },
  {
   "cell_type": "code",
   "execution_count": 14,
   "metadata": {},
   "outputs": [
    {
     "data": {
      "text/html": [
       "<div>\n",
       "<style scoped>\n",
       "    .dataframe tbody tr th:only-of-type {\n",
       "        vertical-align: middle;\n",
       "    }\n",
       "\n",
       "    .dataframe tbody tr th {\n",
       "        vertical-align: top;\n",
       "    }\n",
       "\n",
       "    .dataframe thead th {\n",
       "        text-align: right;\n",
       "    }\n",
       "</style>\n",
       "<table border=\"1\" class=\"dataframe\">\n",
       "  <thead>\n",
       "    <tr style=\"text-align: right;\">\n",
       "      <th></th>\n",
       "      <th>messages_included</th>\n",
       "      <th>mb_per_month_included</th>\n",
       "      <th>minutes_included</th>\n",
       "      <th>rub_monthly_fee</th>\n",
       "      <th>rub_per_gb</th>\n",
       "      <th>rub_per_message</th>\n",
       "      <th>rub_per_minute</th>\n",
       "      <th>tariff_name</th>\n",
       "    </tr>\n",
       "  </thead>\n",
       "  <tbody>\n",
       "    <tr>\n",
       "      <td>0</td>\n",
       "      <td>50</td>\n",
       "      <td>15360</td>\n",
       "      <td>500</td>\n",
       "      <td>550</td>\n",
       "      <td>200</td>\n",
       "      <td>3</td>\n",
       "      <td>3</td>\n",
       "      <td>smart</td>\n",
       "    </tr>\n",
       "    <tr>\n",
       "      <td>1</td>\n",
       "      <td>1000</td>\n",
       "      <td>30720</td>\n",
       "      <td>3000</td>\n",
       "      <td>1950</td>\n",
       "      <td>150</td>\n",
       "      <td>1</td>\n",
       "      <td>1</td>\n",
       "      <td>ultra</td>\n",
       "    </tr>\n",
       "  </tbody>\n",
       "</table>\n",
       "</div>"
      ],
      "text/plain": [
       "   messages_included  mb_per_month_included  minutes_included  \\\n",
       "0                 50                  15360               500   \n",
       "1               1000                  30720              3000   \n",
       "\n",
       "   rub_monthly_fee  rub_per_gb  rub_per_message  rub_per_minute tariff_name  \n",
       "0              550         200                3               3       smart  \n",
       "1             1950         150                1               1       ultra  "
      ]
     },
     "metadata": {},
     "output_type": "display_data"
    }
   ],
   "source": [
    "tariffs = pd.read_csv('/datasets/tariffs.csv')\n",
    "display(tariffs.head())"
   ]
  },
  {
   "cell_type": "markdown",
   "metadata": {},
   "source": [
    "Таблица tariffs (информация о тарифах):\n",
    "tariff_name — название тарифа\n",
    "rub_monthly_fee — ежемесячная абонентская плата в рублях\n",
    "minutes_included — количество минут разговора в месяц, включённых в абонентскую плату\n",
    "messages_included — количество сообщений в месяц, включённых в абонентскую плату\n",
    "mb_per_month_included — объём интернет-трафика, включённого в абонентскую плату (в мегабайтах)\n",
    "rub_per_minute — стоимость минуты разговора сверх тарифного пакета (например, если в тарифе 100 минут разговора в месяц, то со 101 минуты будет взиматься плата)\n",
    "rub_per_message — стоимость отправки сообщения сверх тарифного пакета\n",
    "rub_per_gb — стоимость дополнительного гигабайта интернет-трафика сверх тарифного пакета (1 гигабайт = 1024 мегабайта)"
   ]
  },
  {
   "cell_type": "markdown",
   "metadata": {},
   "source": [
    "### Вывод"
   ]
  },
  {
   "cell_type": "markdown",
   "metadata": {},
   "source": [
    "**Вывод** \n",
    "В таблицах нет дубликатов (явных) и пропусков. Пропуски в таблице users, столбец churn_date объяснимы, поскольку незаполненное значение обозначает, что тариф действовал на момент создания файла. Для всех таблиц необходимо перевести формат столбцов, содержащих дату в формат даты."
   ]
  },
  {
   "cell_type": "markdown",
   "metadata": {},
   "source": [
    "## Предобработка данных"
   ]
  },
  {
   "cell_type": "markdown",
   "metadata": {},
   "source": [
    "### Изменение типа данных"
   ]
  },
  {
   "cell_type": "markdown",
   "metadata": {},
   "source": [
    "В столбцaх дат - нераспознанные даты. Применим метод to_datetime. В дальнейшем нам понадобятся только день, месяц и год.\n"
   ]
  },
  {
   "cell_type": "code",
   "execution_count": 15,
   "metadata": {
    "scrolled": false
   },
   "outputs": [],
   "source": [
    "#bad_date = [ users['reg_date'], calls['call_date'],  internet['session_date'], messages['message_date']]\n",
    "#for column in bad_date:\n",
    "#    column = pd.to_datetime(column, format='%Y-%m-%d')\n",
    "#    print(column, column.dtype)\n",
    "users['reg_date'] = pd.to_datetime(users['reg_date'], format='%Y-%m-%d')\n",
    "calls['call_date'] = pd.to_datetime(calls['call_date'], format='%Y-%m-%d')\n",
    "internet['session_date'] = pd.to_datetime(internet['session_date'], format='%Y-%m-%d')\n",
    "messages['message_date'] = pd.to_datetime(messages['message_date'], format='%Y-%m-%d')\n",
    "\n"
   ]
  },
  {
   "cell_type": "code",
   "execution_count": 16,
   "metadata": {},
   "outputs": [
    {
     "name": "stdout",
     "output_type": "stream",
     "text": [
      "<class 'pandas.core.frame.DataFrame'>\n",
      "RangeIndex: 202607 entries, 0 to 202606\n",
      "Data columns (total 4 columns):\n",
      "id           202607 non-null object\n",
      "call_date    202607 non-null datetime64[ns]\n",
      "duration     202607 non-null float64\n",
      "user_id      202607 non-null int64\n",
      "dtypes: datetime64[ns](1), float64(1), int64(1), object(1)\n",
      "memory usage: 6.2+ MB\n",
      "---------------------\n",
      "<class 'pandas.core.frame.DataFrame'>\n",
      "RangeIndex: 500 entries, 0 to 499\n",
      "Data columns (total 8 columns):\n",
      "user_id       500 non-null int64\n",
      "age           500 non-null int64\n",
      "churn_date    38 non-null object\n",
      "city          500 non-null object\n",
      "first_name    500 non-null object\n",
      "last_name     500 non-null object\n",
      "reg_date      500 non-null datetime64[ns]\n",
      "tariff        500 non-null object\n",
      "dtypes: datetime64[ns](1), int64(2), object(5)\n",
      "memory usage: 31.4+ KB\n"
     ]
    }
   ],
   "source": [
    "#КОД РЕВЬЮЕРА\n",
    "calls.info()\n",
    "print('---------------------')\n",
    "users.info()"
   ]
  },
  {
   "cell_type": "markdown",
   "metadata": {},
   "source": [
    "Проверим, все ли пользователи подключились в текущем году:"
   ]
  },
  {
   "cell_type": "code",
   "execution_count": 17,
   "metadata": {},
   "outputs": [
    {
     "data": {
      "text/plain": [
       "2018    500\n",
       "Name: reg_date, dtype: int64"
      ]
     },
     "execution_count": 17,
     "metadata": {},
     "output_type": "execute_result"
    }
   ],
   "source": [
    "pd.DatetimeIndex(users['reg_date']).year.value_counts()"
   ]
  },
  {
   "cell_type": "markdown",
   "metadata": {},
   "source": [
    "Да, год только 2018, меняем на месяцы"
   ]
  },
  {
   "cell_type": "code",
   "execution_count": 18,
   "metadata": {
    "scrolled": true
   },
   "outputs": [
    {
     "data": {
      "text/plain": [
       "4     53\n",
       "8     50\n",
       "10    45\n",
       "7     44\n",
       "1     43\n",
       "11    42\n",
       "5     41\n",
       "6     40\n",
       "2     39\n",
       "12    36\n",
       "9     35\n",
       "3     32\n",
       "Name: reg_date, dtype: int64"
      ]
     },
     "execution_count": 18,
     "metadata": {},
     "output_type": "execute_result"
    }
   ],
   "source": [
    "users['reg_date'] = pd.DatetimeIndex(users['reg_date']).month\n",
    "users['reg_date'].value_counts()"
   ]
  },
  {
   "cell_type": "markdown",
   "metadata": {},
   "source": [
    "То же самое проделаем со столбцами дат в других файлах, проверяем год, если год только 2018 - меняем на месяцы:"
   ]
  },
  {
   "cell_type": "code",
   "execution_count": 19,
   "metadata": {},
   "outputs": [
    {
     "data": {
      "text/plain": [
       "2018    202607\n",
       "Name: call_date, dtype: int64"
      ]
     },
     "execution_count": 19,
     "metadata": {},
     "output_type": "execute_result"
    }
   ],
   "source": [
    "pd.DatetimeIndex(calls['call_date']).year.value_counts()"
   ]
  },
  {
   "cell_type": "code",
   "execution_count": 20,
   "metadata": {},
   "outputs": [
    {
     "data": {
      "text/plain": [
       "12    33987\n",
       "11    29501\n",
       "10    27146\n",
       "9     24061\n",
       "8     21488\n",
       "7     18298\n",
       "6     14716\n",
       "5     12647\n",
       "4      9272\n",
       "3      6687\n",
       "2      3328\n",
       "1      1476\n",
       "Name: call_date, dtype: int64"
      ]
     },
     "execution_count": 20,
     "metadata": {},
     "output_type": "execute_result"
    }
   ],
   "source": [
    "calls['call_date'] = pd.DatetimeIndex(calls['call_date']).month\n",
    "calls['call_date'].value_counts()"
   ]
  },
  {
   "cell_type": "code",
   "execution_count": 21,
   "metadata": {},
   "outputs": [
    {
     "data": {
      "text/plain": [
       "2018    149396\n",
       "Name: session_date, dtype: int64"
      ]
     },
     "execution_count": 21,
     "metadata": {},
     "output_type": "execute_result"
    }
   ],
   "source": [
    "pd.DatetimeIndex(internet['session_date']).year.value_counts()"
   ]
  },
  {
   "cell_type": "code",
   "execution_count": 22,
   "metadata": {
    "scrolled": true
   },
   "outputs": [
    {
     "data": {
      "text/plain": [
       "12    24799\n",
       "11    21817\n",
       "10    20009\n",
       "9     17512\n",
       "8     16092\n",
       "7     13548\n",
       "6     11057\n",
       "5      9408\n",
       "4      6511\n",
       "3      4885\n",
       "2      2641\n",
       "1      1117\n",
       "Name: session_date, dtype: int64"
      ]
     },
     "execution_count": 22,
     "metadata": {},
     "output_type": "execute_result"
    }
   ],
   "source": [
    "internet['session_date'] = pd.DatetimeIndex(internet['session_date']).month\n",
    "internet['session_date'].value_counts()"
   ]
  },
  {
   "cell_type": "code",
   "execution_count": 23,
   "metadata": {
    "scrolled": true
   },
   "outputs": [
    {
     "data": {
      "text/plain": [
       "2018    123036\n",
       "Name: message_date, dtype: int64"
      ]
     },
     "execution_count": 23,
     "metadata": {},
     "output_type": "execute_result"
    }
   ],
   "source": [
    "pd.DatetimeIndex(messages['message_date']).year.value_counts()"
   ]
  },
  {
   "cell_type": "code",
   "execution_count": 24,
   "metadata": {},
   "outputs": [
    {
     "data": {
      "text/plain": [
       "12    20555\n",
       "11    18244\n",
       "10    17114\n",
       "9     14759\n",
       "8     13088\n",
       "7     11320\n",
       "6      8983\n",
       "5      7298\n",
       "4      5179\n",
       "3      3648\n",
       "2      1924\n",
       "1       924\n",
       "Name: message_date, dtype: int64"
      ]
     },
     "execution_count": 24,
     "metadata": {},
     "output_type": "execute_result"
    }
   ],
   "source": [
    "messages['message_date'] = pd.DatetimeIndex(messages['message_date']).month\n",
    "messages['message_date'].value_counts()"
   ]
  },
  {
   "cell_type": "markdown",
   "metadata": {},
   "source": [
    "### Обработка пропусков"
   ]
  },
  {
   "cell_type": "markdown",
   "metadata": {},
   "source": [
    "У нас есть пропуски дат в таблице users, столбец churn_date. Была идея оставить булевы значения (закрыт тариф или нет). Но ведь для расчета суммы выручки нам понадобится знать, сколько месяцев действовал тариф. Добавим столбец month_end c последним месяцем года по незакрытым тарифам и месяцем из даты churn_date - по закрытым (для определения расчетного периода в 2018 году)"
   ]
  },
  {
   "cell_type": "code",
   "execution_count": 25,
   "metadata": {},
   "outputs": [
    {
     "data": {
      "text/plain": [
       "500"
      ]
     },
     "execution_count": 25,
     "metadata": {},
     "output_type": "execute_result"
    }
   ],
   "source": [
    "#users[users['churn_date'].isna() == True] = '2018-12-31'\n",
    "users['churn_date'] = pd.to_datetime(users['churn_date'], format='%Y-%m-%d')\n",
    "users['churn_date'] = pd.DatetimeIndex(users['churn_date']).month\n",
    "users.loc[(users['churn_date'].isna() == True), 'churn_date'] = 12\n",
    "users['churn_date'].value_counts().sum()"
   ]
  },
  {
   "cell_type": "code",
   "execution_count": 26,
   "metadata": {
    "scrolled": true
   },
   "outputs": [
    {
     "data": {
      "text/html": [
       "<div>\n",
       "<style scoped>\n",
       "    .dataframe tbody tr th:only-of-type {\n",
       "        vertical-align: middle;\n",
       "    }\n",
       "\n",
       "    .dataframe tbody tr th {\n",
       "        vertical-align: top;\n",
       "    }\n",
       "\n",
       "    .dataframe thead th {\n",
       "        text-align: right;\n",
       "    }\n",
       "</style>\n",
       "<table border=\"1\" class=\"dataframe\">\n",
       "  <thead>\n",
       "    <tr style=\"text-align: right;\">\n",
       "      <th></th>\n",
       "      <th>user_id</th>\n",
       "      <th>age</th>\n",
       "      <th>churn_date</th>\n",
       "      <th>city</th>\n",
       "      <th>first_name</th>\n",
       "      <th>last_name</th>\n",
       "      <th>reg_date</th>\n",
       "      <th>tariff</th>\n",
       "    </tr>\n",
       "  </thead>\n",
       "  <tbody>\n",
       "    <tr>\n",
       "      <td>0</td>\n",
       "      <td>1000</td>\n",
       "      <td>52</td>\n",
       "      <td>12.0</td>\n",
       "      <td>Краснодар</td>\n",
       "      <td>Рафаил</td>\n",
       "      <td>Верещагин</td>\n",
       "      <td>5</td>\n",
       "      <td>ultra</td>\n",
       "    </tr>\n",
       "    <tr>\n",
       "      <td>1</td>\n",
       "      <td>1001</td>\n",
       "      <td>41</td>\n",
       "      <td>12.0</td>\n",
       "      <td>Москва</td>\n",
       "      <td>Иван</td>\n",
       "      <td>Ежов</td>\n",
       "      <td>11</td>\n",
       "      <td>smart</td>\n",
       "    </tr>\n",
       "    <tr>\n",
       "      <td>2</td>\n",
       "      <td>1002</td>\n",
       "      <td>59</td>\n",
       "      <td>12.0</td>\n",
       "      <td>Стерлитамак</td>\n",
       "      <td>Евгений</td>\n",
       "      <td>Абрамович</td>\n",
       "      <td>6</td>\n",
       "      <td>smart</td>\n",
       "    </tr>\n",
       "    <tr>\n",
       "      <td>3</td>\n",
       "      <td>1003</td>\n",
       "      <td>23</td>\n",
       "      <td>12.0</td>\n",
       "      <td>Москва</td>\n",
       "      <td>Белла</td>\n",
       "      <td>Белякова</td>\n",
       "      <td>8</td>\n",
       "      <td>ultra</td>\n",
       "    </tr>\n",
       "    <tr>\n",
       "      <td>4</td>\n",
       "      <td>1004</td>\n",
       "      <td>68</td>\n",
       "      <td>12.0</td>\n",
       "      <td>Новокузнецк</td>\n",
       "      <td>Татьяна</td>\n",
       "      <td>Авдеенко</td>\n",
       "      <td>5</td>\n",
       "      <td>ultra</td>\n",
       "    </tr>\n",
       "  </tbody>\n",
       "</table>\n",
       "</div>"
      ],
      "text/plain": [
       "   user_id  age  churn_date         city first_name  last_name  reg_date  \\\n",
       "0     1000   52        12.0    Краснодар     Рафаил  Верещагин         5   \n",
       "1     1001   41        12.0       Москва       Иван       Ежов        11   \n",
       "2     1002   59        12.0  Стерлитамак    Евгений  Абрамович         6   \n",
       "3     1003   23        12.0       Москва      Белла   Белякова         8   \n",
       "4     1004   68        12.0  Новокузнецк    Татьяна   Авдеенко         5   \n",
       "\n",
       "  tariff  \n",
       "0  ultra  \n",
       "1  smart  \n",
       "2  smart  \n",
       "3  ultra  \n",
       "4  ultra  "
      ]
     },
     "execution_count": 26,
     "metadata": {},
     "output_type": "execute_result"
    }
   ],
   "source": [
    "users.head()"
   ]
  },
  {
   "cell_type": "markdown",
   "metadata": {},
   "source": [
    "Что-то у нас churn_date не того типа данных. Исправим методом astype, так как у нас уже числа в столбце:"
   ]
  },
  {
   "cell_type": "code",
   "execution_count": 27,
   "metadata": {},
   "outputs": [],
   "source": [
    "users['churn_date'] = users['churn_date'].astype('int')"
   ]
  },
  {
   "cell_type": "code",
   "execution_count": 28,
   "metadata": {},
   "outputs": [
    {
     "name": "stdout",
     "output_type": "stream",
     "text": [
      "<class 'pandas.core.frame.DataFrame'>\n",
      "RangeIndex: 500 entries, 0 to 499\n",
      "Data columns (total 8 columns):\n",
      "user_id       500 non-null int64\n",
      "age           500 non-null int64\n",
      "churn_date    500 non-null int64\n",
      "city          500 non-null object\n",
      "first_name    500 non-null object\n",
      "last_name     500 non-null object\n",
      "reg_date      500 non-null int64\n",
      "tariff        500 non-null object\n",
      "dtypes: int64(4), object(4)\n",
      "memory usage: 31.4+ KB\n"
     ]
    }
   ],
   "source": [
    "users.info()"
   ]
  },
  {
   "cell_type": "code",
   "execution_count": 29,
   "metadata": {},
   "outputs": [
    {
     "name": "stdout",
     "output_type": "stream",
     "text": [
      "<class 'pandas.core.frame.DataFrame'>\n",
      "RangeIndex: 202607 entries, 0 to 202606\n",
      "Data columns (total 4 columns):\n",
      "id           202607 non-null object\n",
      "call_date    202607 non-null int64\n",
      "duration     202607 non-null float64\n",
      "user_id      202607 non-null int64\n",
      "dtypes: float64(1), int64(2), object(1)\n",
      "memory usage: 6.2+ MB\n"
     ]
    }
   ],
   "source": [
    "calls.info()"
   ]
  },
  {
   "cell_type": "markdown",
   "metadata": {},
   "source": [
    "## Расчёты и добавление результатов в таблицу"
   ]
  },
  {
   "cell_type": "markdown",
   "metadata": {},
   "source": [
    "### Проверка значений"
   ]
  },
  {
   "cell_type": "markdown",
   "metadata": {},
   "source": [
    "Для дальнейшей работы необходимо создать сводную таблицу данных по тарифам. До сведения проверим столбцы со сводимыми данными, на предмет экстраординарных значений, поскольку они \"утонут\" после группировки."
   ]
  },
  {
   "cell_type": "code",
   "execution_count": 30,
   "metadata": {
    "scrolled": true
   },
   "outputs": [
    {
     "data": {
      "text/plain": [
       "count    202607.000000\n",
       "mean          6.755887\n",
       "std           5.843365\n",
       "min           0.000000\n",
       "25%           1.300000\n",
       "50%           6.000000\n",
       "75%          10.700000\n",
       "max          38.000000\n",
       "Name: duration, dtype: float64"
      ]
     },
     "execution_count": 30,
     "metadata": {},
     "output_type": "execute_result"
    }
   ],
   "source": [
    "calls['duration'].describe()\n"
   ]
  },
  {
   "cell_type": "code",
   "execution_count": 31,
   "metadata": {},
   "outputs": [
    {
     "data": {
      "text/plain": [
       "<matplotlib.axes._subplots.AxesSubplot at 0x7f664598ce90>"
      ]
     },
     "execution_count": 31,
     "metadata": {},
     "output_type": "execute_result"
    },
    {
     "data": {
      "image/png": "[encoded data removed]",
      "text/plain": [
       "<Figure size 432x288 with 1 Axes>"
      ]
     },
     "metadata": {
      "needs_background": "light"
     },
     "output_type": "display_data"
    }
   ],
   "source": [
    "calls['duration'].hist(bins = 150)"
   ]
  },
  {
   "cell_type": "markdown",
   "metadata": {},
   "source": [
    "Длительность звонка от 0 до 38 минут, большая часть звонко - до 6 минут ничего выдающегося. Нулевой пик пояснен разработчиком - это входящие звонки."
   ]
  },
  {
   "cell_type": "code",
   "execution_count": 32,
   "metadata": {},
   "outputs": [
    {
     "data": {
      "text/plain": [
       "count    149396.000000\n",
       "mean        370.192426\n",
       "std         278.300951\n",
       "min           0.000000\n",
       "25%         138.187500\n",
       "50%         348.015000\n",
       "75%         559.552500\n",
       "max        1724.830000\n",
       "Name: mb_used, dtype: float64"
      ]
     },
     "execution_count": 32,
     "metadata": {},
     "output_type": "execute_result"
    }
   ],
   "source": [
    "internet['mb_used'].describe()"
   ]
  },
  {
   "cell_type": "code",
   "execution_count": 33,
   "metadata": {},
   "outputs": [
    {
     "data": {
      "text/plain": [
       "<matplotlib.axes._subplots.AxesSubplot at 0x7f6647c1aa10>"
      ]
     },
     "execution_count": 33,
     "metadata": {},
     "output_type": "execute_result"
    },
    {
     "data": {
      "image/png": "[encoded data removed]",
      "text/plain": [
       "<Figure size 432x288 with 1 Axes>"
      ]
     },
     "metadata": {
      "needs_background": "light"
     },
     "output_type": "display_data"
    }
   ],
   "source": [
    "internet['mb_used'].hist(bins = 150)"
   ]
  },
  {
   "cell_type": "markdown",
   "metadata": {},
   "source": [
    "тоже ничего выдающегося по большим потребителям - они составляют \"хвост\" с низкой частотой. Мы построили гистограмму распределения значений, на которой видно, что есть пик околонулевых значений. "
   ]
  },
  {
   "cell_type": "code",
   "execution_count": 34,
   "metadata": {},
   "outputs": [
    {
     "data": {
      "text/html": [
       "<div>\n",
       "<style scoped>\n",
       "    .dataframe tbody tr th:only-of-type {\n",
       "        vertical-align: middle;\n",
       "    }\n",
       "\n",
       "    .dataframe tbody tr th {\n",
       "        vertical-align: top;\n",
       "    }\n",
       "\n",
       "    .dataframe thead th {\n",
       "        text-align: right;\n",
       "    }\n",
       "</style>\n",
       "<table border=\"1\" class=\"dataframe\">\n",
       "  <thead>\n",
       "    <tr style=\"text-align: right;\">\n",
       "      <th></th>\n",
       "      <th>Unnamed: 0</th>\n",
       "      <th>id</th>\n",
       "      <th>mb_used</th>\n",
       "      <th>session_date</th>\n",
       "      <th>user_id</th>\n",
       "    </tr>\n",
       "  </thead>\n",
       "  <tbody>\n",
       "    <tr>\n",
       "      <td>116616</td>\n",
       "      <td>116616</td>\n",
       "      <td>1393_102</td>\n",
       "      <td>0.00</td>\n",
       "      <td>6</td>\n",
       "      <td>1393</td>\n",
       "    </tr>\n",
       "    <tr>\n",
       "      <td>53410</td>\n",
       "      <td>53410</td>\n",
       "      <td>1179_272</td>\n",
       "      <td>0.00</td>\n",
       "      <td>8</td>\n",
       "      <td>1179</td>\n",
       "    </tr>\n",
       "    <tr>\n",
       "      <td>104303</td>\n",
       "      <td>104303</td>\n",
       "      <td>1353_239</td>\n",
       "      <td>0.00</td>\n",
       "      <td>10</td>\n",
       "      <td>1353</td>\n",
       "    </tr>\n",
       "    <tr>\n",
       "      <td>19438</td>\n",
       "      <td>19438</td>\n",
       "      <td>1065_583</td>\n",
       "      <td>0.00</td>\n",
       "      <td>3</td>\n",
       "      <td>1065</td>\n",
       "    </tr>\n",
       "    <tr>\n",
       "      <td>19437</td>\n",
       "      <td>19437</td>\n",
       "      <td>1065_582</td>\n",
       "      <td>0.00</td>\n",
       "      <td>7</td>\n",
       "      <td>1065</td>\n",
       "    </tr>\n",
       "    <tr>\n",
       "      <td>...</td>\n",
       "      <td>...</td>\n",
       "      <td>...</td>\n",
       "      <td>...</td>\n",
       "      <td>...</td>\n",
       "      <td>...</td>\n",
       "    </tr>\n",
       "    <tr>\n",
       "      <td>140299</td>\n",
       "      <td>140299</td>\n",
       "      <td>1471_182</td>\n",
       "      <td>1623.92</td>\n",
       "      <td>7</td>\n",
       "      <td>1471</td>\n",
       "    </tr>\n",
       "    <tr>\n",
       "      <td>103480</td>\n",
       "      <td>103480</td>\n",
       "      <td>1348_138</td>\n",
       "      <td>1651.25</td>\n",
       "      <td>10</td>\n",
       "      <td>1348</td>\n",
       "    </tr>\n",
       "    <tr>\n",
       "      <td>7063</td>\n",
       "      <td>7063</td>\n",
       "      <td>1024_118</td>\n",
       "      <td>1651.55</td>\n",
       "      <td>11</td>\n",
       "      <td>1024</td>\n",
       "    </tr>\n",
       "    <tr>\n",
       "      <td>119156</td>\n",
       "      <td>119156</td>\n",
       "      <td>1402_191</td>\n",
       "      <td>1702.75</td>\n",
       "      <td>10</td>\n",
       "      <td>1402</td>\n",
       "    </tr>\n",
       "    <tr>\n",
       "      <td>137493</td>\n",
       "      <td>137493</td>\n",
       "      <td>1461_9</td>\n",
       "      <td>1724.83</td>\n",
       "      <td>11</td>\n",
       "      <td>1461</td>\n",
       "    </tr>\n",
       "  </tbody>\n",
       "</table>\n",
       "<p>149396 rows × 5 columns</p>\n",
       "</div>"
      ],
      "text/plain": [
       "        Unnamed: 0        id  mb_used  session_date  user_id\n",
       "116616      116616  1393_102     0.00             6     1393\n",
       "53410        53410  1179_272     0.00             8     1179\n",
       "104303      104303  1353_239     0.00            10     1353\n",
       "19438        19438  1065_583     0.00             3     1065\n",
       "19437        19437  1065_582     0.00             7     1065\n",
       "...            ...       ...      ...           ...      ...\n",
       "140299      140299  1471_182  1623.92             7     1471\n",
       "103480      103480  1348_138  1651.25            10     1348\n",
       "7063          7063  1024_118  1651.55            11     1024\n",
       "119156      119156  1402_191  1702.75            10     1402\n",
       "137493      137493    1461_9  1724.83            11     1461\n",
       "\n",
       "[149396 rows x 5 columns]"
      ]
     },
     "execution_count": 34,
     "metadata": {},
     "output_type": "execute_result"
    }
   ],
   "source": [
    "internet.sort_values(by = 'mb_used')"
   ]
  },
  {
   "cell_type": "code",
   "execution_count": 35,
   "metadata": {},
   "outputs": [
    {
     "data": {
      "text/plain": [
       "19598"
      ]
     },
     "execution_count": 35,
     "metadata": {},
     "output_type": "execute_result"
    }
   ],
   "source": [
    "internet[internet['mb_used'] == 0]['mb_used'].count()"
   ]
  },
  {
   "cell_type": "code",
   "execution_count": 36,
   "metadata": {},
   "outputs": [
    {
     "data": {
      "text/plain": [
       "101"
      ]
     },
     "execution_count": 36,
     "metadata": {},
     "output_type": "execute_result"
    }
   ],
   "source": [
    "internet.query(' 0 < mb_used < 1')['mb_used'].count()"
   ]
  },
  {
   "cell_type": "markdown",
   "metadata": {},
   "source": [
    "Проверка значений около нуля показала, что есть очень высокое количество нулевых значений. Количество соединений до 1 мб имеет нормальный размер. Составитель данных ничего не сказал по поводу этих значений (в отличие от звонков, где нулевыми значениями являются пропущенные звонки). Возможно, здесь нулевые значения - это попытки установки соединения, не увенчавшиеся успехом. Сделать пометку в отчете, не нужна ли тарификация. Удалять эти значения нет необходимости, при объединении данных они исчезнут."
   ]
  },
  {
   "cell_type": "markdown",
   "metadata": {},
   "source": [
    "### Консолидация данных"
   ]
  },
  {
   "cell_type": "markdown",
   "metadata": {},
   "source": [
    "Округлим время звонка вверх перед консолидацией"
   ]
  },
  {
   "cell_type": "code",
   "execution_count": 37,
   "metadata": {},
   "outputs": [
    {
     "name": "stdout",
     "output_type": "stream",
     "text": [
      "<class 'pandas.core.frame.DataFrame'>\n",
      "RangeIndex: 202607 entries, 0 to 202606\n",
      "Data columns (total 4 columns):\n",
      "id           202607 non-null object\n",
      "call_date    202607 non-null int64\n",
      "duration     202607 non-null float64\n",
      "user_id      202607 non-null int64\n",
      "dtypes: float64(1), int64(2), object(1)\n",
      "memory usage: 6.2+ MB\n"
     ]
    }
   ],
   "source": [
    "calls.info()"
   ]
  },
  {
   "cell_type": "code",
   "execution_count": 38,
   "metadata": {},
   "outputs": [],
   "source": [
    "#calls['round'] = (calls['duration'] % calls['duration'].astype('int')) > 0\n",
    "calls['duration'] = np.ceil(calls['duration']).astype('int')"
   ]
  },
  {
   "cell_type": "code",
   "execution_count": 39,
   "metadata": {},
   "outputs": [
    {
     "data": {
      "text/plain": [
       "0     39613\n",
       "7     11510\n",
       "6     11457\n",
       "5     11411\n",
       "8     11272\n",
       "9     10973\n",
       "4     10918\n",
       "3     10362\n",
       "10    10186\n",
       "11     9385\n",
       "2      9194\n",
       "12     8448\n",
       "1      8402\n",
       "13     7486\n",
       "14     6554\n",
       "15     5505\n",
       "16     4551\n",
       "17     3671\n",
       "18     2984\n",
       "19     2411\n",
       "20     1806\n",
       "21     1304\n",
       "22      975\n",
       "23      720\n",
       "24      468\n",
       "25      363\n",
       "26      257\n",
       "27      151\n",
       "28      104\n",
       "29       56\n",
       "30       39\n",
       "31       30\n",
       "32       17\n",
       "33       10\n",
       "35        5\n",
       "34        3\n",
       "36        2\n",
       "37        2\n",
       "38        2\n",
       "Name: duration, dtype: int64"
      ]
     },
     "execution_count": 39,
     "metadata": {},
     "output_type": "execute_result"
    }
   ],
   "source": [
    "calls['duration'].value_counts()"
   ]
  },
  {
   "cell_type": "code",
   "execution_count": 40,
   "metadata": {},
   "outputs": [
    {
     "data": {
      "text/html": [
       "<div>\n",
       "<style scoped>\n",
       "    .dataframe tbody tr th:only-of-type {\n",
       "        vertical-align: middle;\n",
       "    }\n",
       "\n",
       "    .dataframe tbody tr th {\n",
       "        vertical-align: top;\n",
       "    }\n",
       "\n",
       "    .dataframe thead th {\n",
       "        text-align: right;\n",
       "    }\n",
       "</style>\n",
       "<table border=\"1\" class=\"dataframe\">\n",
       "  <thead>\n",
       "    <tr style=\"text-align: right;\">\n",
       "      <th></th>\n",
       "      <th>user_id</th>\n",
       "      <th>call_date</th>\n",
       "      <th>duration</th>\n",
       "    </tr>\n",
       "  </thead>\n",
       "  <tbody>\n",
       "    <tr>\n",
       "      <td>0</td>\n",
       "      <td>1000</td>\n",
       "      <td>5</td>\n",
       "      <td>159</td>\n",
       "    </tr>\n",
       "    <tr>\n",
       "      <td>1</td>\n",
       "      <td>1000</td>\n",
       "      <td>6</td>\n",
       "      <td>172</td>\n",
       "    </tr>\n",
       "    <tr>\n",
       "      <td>2</td>\n",
       "      <td>1000</td>\n",
       "      <td>7</td>\n",
       "      <td>340</td>\n",
       "    </tr>\n",
       "    <tr>\n",
       "      <td>3</td>\n",
       "      <td>1000</td>\n",
       "      <td>8</td>\n",
       "      <td>408</td>\n",
       "    </tr>\n",
       "    <tr>\n",
       "      <td>4</td>\n",
       "      <td>1000</td>\n",
       "      <td>9</td>\n",
       "      <td>466</td>\n",
       "    </tr>\n",
       "    <tr>\n",
       "      <td>5</td>\n",
       "      <td>1000</td>\n",
       "      <td>10</td>\n",
       "      <td>350</td>\n",
       "    </tr>\n",
       "    <tr>\n",
       "      <td>6</td>\n",
       "      <td>1000</td>\n",
       "      <td>11</td>\n",
       "      <td>338</td>\n",
       "    </tr>\n",
       "    <tr>\n",
       "      <td>7</td>\n",
       "      <td>1000</td>\n",
       "      <td>12</td>\n",
       "      <td>333</td>\n",
       "    </tr>\n",
       "    <tr>\n",
       "      <td>8</td>\n",
       "      <td>1001</td>\n",
       "      <td>11</td>\n",
       "      <td>430</td>\n",
       "    </tr>\n",
       "    <tr>\n",
       "      <td>9</td>\n",
       "      <td>1001</td>\n",
       "      <td>12</td>\n",
       "      <td>414</td>\n",
       "    </tr>\n",
       "    <tr>\n",
       "      <td>10</td>\n",
       "      <td>1002</td>\n",
       "      <td>6</td>\n",
       "      <td>117</td>\n",
       "    </tr>\n",
       "    <tr>\n",
       "      <td>11</td>\n",
       "      <td>1002</td>\n",
       "      <td>7</td>\n",
       "      <td>214</td>\n",
       "    </tr>\n",
       "    <tr>\n",
       "      <td>12</td>\n",
       "      <td>1002</td>\n",
       "      <td>8</td>\n",
       "      <td>289</td>\n",
       "    </tr>\n",
       "    <tr>\n",
       "      <td>13</td>\n",
       "      <td>1002</td>\n",
       "      <td>9</td>\n",
       "      <td>206</td>\n",
       "    </tr>\n",
       "    <tr>\n",
       "      <td>14</td>\n",
       "      <td>1002</td>\n",
       "      <td>10</td>\n",
       "      <td>212</td>\n",
       "    </tr>\n",
       "    <tr>\n",
       "      <td>15</td>\n",
       "      <td>1002</td>\n",
       "      <td>11</td>\n",
       "      <td>243</td>\n",
       "    </tr>\n",
       "    <tr>\n",
       "      <td>16</td>\n",
       "      <td>1002</td>\n",
       "      <td>12</td>\n",
       "      <td>236</td>\n",
       "    </tr>\n",
       "    <tr>\n",
       "      <td>17</td>\n",
       "      <td>1003</td>\n",
       "      <td>8</td>\n",
       "      <td>380</td>\n",
       "    </tr>\n",
       "    <tr>\n",
       "      <td>18</td>\n",
       "      <td>1003</td>\n",
       "      <td>9</td>\n",
       "      <td>961</td>\n",
       "    </tr>\n",
       "    <tr>\n",
       "      <td>19</td>\n",
       "      <td>1003</td>\n",
       "      <td>10</td>\n",
       "      <td>855</td>\n",
       "    </tr>\n",
       "  </tbody>\n",
       "</table>\n",
       "</div>"
      ],
      "text/plain": [
       "    user_id  call_date  duration\n",
       "0      1000          5       159\n",
       "1      1000          6       172\n",
       "2      1000          7       340\n",
       "3      1000          8       408\n",
       "4      1000          9       466\n",
       "5      1000         10       350\n",
       "6      1000         11       338\n",
       "7      1000         12       333\n",
       "8      1001         11       430\n",
       "9      1001         12       414\n",
       "10     1002          6       117\n",
       "11     1002          7       214\n",
       "12     1002          8       289\n",
       "13     1002          9       206\n",
       "14     1002         10       212\n",
       "15     1002         11       243\n",
       "16     1002         12       236\n",
       "17     1003          8       380\n",
       "18     1003          9       961\n",
       "19     1003         10       855"
      ]
     },
     "execution_count": 40,
     "metadata": {},
     "output_type": "execute_result"
    }
   ],
   "source": [
    "calls = calls.groupby(['user_id', 'call_date']).sum().reset_index()\n",
    "calls.head(20)"
   ]
  },
  {
   "cell_type": "code",
   "execution_count": 41,
   "metadata": {},
   "outputs": [],
   "source": [
    "calls.columns = ['user_id', 'month', 'duration'] #Переименовали столбцы для слияния\n",
    "calls = calls[['user_id', 'month', 'duration']] # убрали лишний столбец"
   ]
  },
  {
   "cell_type": "code",
   "execution_count": 42,
   "metadata": {},
   "outputs": [
    {
     "name": "stdout",
     "output_type": "stream",
     "text": [
      "<class 'pandas.core.frame.DataFrame'>\n",
      "RangeIndex: 3174 entries, 0 to 3173\n",
      "Data columns (total 3 columns):\n",
      "user_id     3174 non-null int64\n",
      "month       3174 non-null int64\n",
      "duration    3174 non-null int64\n",
      "dtypes: int64(3)\n",
      "memory usage: 74.5 KB\n"
     ]
    }
   ],
   "source": [
    "calls.info()"
   ]
  },
  {
   "cell_type": "markdown",
   "metadata": {},
   "source": [
    "Выполним группировку для сообщений. "
   ]
  },
  {
   "cell_type": "code",
   "execution_count": 43,
   "metadata": {
    "scrolled": true
   },
   "outputs": [
    {
     "data": {
      "text/html": [
       "<div>\n",
       "<style scoped>\n",
       "    .dataframe tbody tr th:only-of-type {\n",
       "        vertical-align: middle;\n",
       "    }\n",
       "\n",
       "    .dataframe tbody tr th {\n",
       "        vertical-align: top;\n",
       "    }\n",
       "\n",
       "    .dataframe thead th {\n",
       "        text-align: right;\n",
       "    }\n",
       "</style>\n",
       "<table border=\"1\" class=\"dataframe\">\n",
       "  <thead>\n",
       "    <tr style=\"text-align: right;\">\n",
       "      <th></th>\n",
       "      <th>user_id</th>\n",
       "      <th>message_date</th>\n",
       "      <th>id</th>\n",
       "    </tr>\n",
       "  </thead>\n",
       "  <tbody>\n",
       "    <tr>\n",
       "      <td>0</td>\n",
       "      <td>1000</td>\n",
       "      <td>5</td>\n",
       "      <td>22</td>\n",
       "    </tr>\n",
       "    <tr>\n",
       "      <td>1</td>\n",
       "      <td>1000</td>\n",
       "      <td>6</td>\n",
       "      <td>60</td>\n",
       "    </tr>\n",
       "    <tr>\n",
       "      <td>2</td>\n",
       "      <td>1000</td>\n",
       "      <td>7</td>\n",
       "      <td>75</td>\n",
       "    </tr>\n",
       "    <tr>\n",
       "      <td>3</td>\n",
       "      <td>1000</td>\n",
       "      <td>8</td>\n",
       "      <td>81</td>\n",
       "    </tr>\n",
       "    <tr>\n",
       "      <td>4</td>\n",
       "      <td>1000</td>\n",
       "      <td>9</td>\n",
       "      <td>57</td>\n",
       "    </tr>\n",
       "  </tbody>\n",
       "</table>\n",
       "</div>"
      ],
      "text/plain": [
       "   user_id  message_date  id\n",
       "0     1000             5  22\n",
       "1     1000             6  60\n",
       "2     1000             7  75\n",
       "3     1000             8  81\n",
       "4     1000             9  57"
      ]
     },
     "execution_count": 43,
     "metadata": {},
     "output_type": "execute_result"
    }
   ],
   "source": [
    "messages = messages.groupby(['user_id', 'message_date']).count().reset_index()\n",
    "messages.head()"
   ]
  },
  {
   "cell_type": "code",
   "execution_count": 44,
   "metadata": {},
   "outputs": [],
   "source": [
    "messages.columns = ['user_id', 'month', 'messages'] #Переименовали столбцы для слияния\n"
   ]
  },
  {
   "cell_type": "code",
   "execution_count": 45,
   "metadata": {},
   "outputs": [
    {
     "name": "stdout",
     "output_type": "stream",
     "text": [
      "<class 'pandas.core.frame.DataFrame'>\n",
      "RangeIndex: 2717 entries, 0 to 2716\n",
      "Data columns (total 3 columns):\n",
      "user_id     2717 non-null int64\n",
      "month       2717 non-null int64\n",
      "messages    2717 non-null int64\n",
      "dtypes: int64(3)\n",
      "memory usage: 63.8 KB\n"
     ]
    }
   ],
   "source": [
    "messages.info()"
   ]
  },
  {
   "cell_type": "markdown",
   "metadata": {},
   "source": [
    "Выполним группировку для интернета. Для веб-трафика отдельные сессии не считаются. Вместо этого общая сумма за месяц округляется в бо́льшую сторону. "
   ]
  },
  {
   "cell_type": "code",
   "execution_count": 46,
   "metadata": {},
   "outputs": [
    {
     "name": "stdout",
     "output_type": "stream",
     "text": [
      "<class 'pandas.core.frame.DataFrame'>\n",
      "RangeIndex: 149396 entries, 0 to 149395\n",
      "Data columns (total 5 columns):\n",
      "Unnamed: 0      149396 non-null int64\n",
      "id              149396 non-null object\n",
      "mb_used         149396 non-null float64\n",
      "session_date    149396 non-null int64\n",
      "user_id         149396 non-null int64\n",
      "dtypes: float64(1), int64(3), object(1)\n",
      "memory usage: 5.7+ MB\n"
     ]
    }
   ],
   "source": [
    "internet.info()"
   ]
  },
  {
   "cell_type": "code",
   "execution_count": 47,
   "metadata": {},
   "outputs": [
    {
     "data": {
      "text/plain": [
       "count    149396.000000\n",
       "mean        370.192426\n",
       "std         278.300951\n",
       "min           0.000000\n",
       "25%         138.187500\n",
       "50%         348.015000\n",
       "75%         559.552500\n",
       "max        1724.830000\n",
       "Name: mb_used, dtype: float64"
      ]
     },
     "execution_count": 47,
     "metadata": {},
     "output_type": "execute_result"
    }
   ],
   "source": [
    "internet['mb_used'].describe()"
   ]
  },
  {
   "cell_type": "code",
   "execution_count": 48,
   "metadata": {},
   "outputs": [
    {
     "data": {
      "text/html": [
       "<div>\n",
       "<style scoped>\n",
       "    .dataframe tbody tr th:only-of-type {\n",
       "        vertical-align: middle;\n",
       "    }\n",
       "\n",
       "    .dataframe tbody tr th {\n",
       "        vertical-align: top;\n",
       "    }\n",
       "\n",
       "    .dataframe thead th {\n",
       "        text-align: right;\n",
       "    }\n",
       "</style>\n",
       "<table border=\"1\" class=\"dataframe\">\n",
       "  <thead>\n",
       "    <tr style=\"text-align: right;\">\n",
       "      <th></th>\n",
       "      <th>user_id</th>\n",
       "      <th>session_date</th>\n",
       "      <th>Unnamed: 0</th>\n",
       "      <th>mb_used</th>\n",
       "    </tr>\n",
       "  </thead>\n",
       "  <tbody>\n",
       "    <tr>\n",
       "      <td>0</td>\n",
       "      <td>1000</td>\n",
       "      <td>5</td>\n",
       "      <td>443</td>\n",
       "      <td>2253.49</td>\n",
       "    </tr>\n",
       "    <tr>\n",
       "      <td>1</td>\n",
       "      <td>1000</td>\n",
       "      <td>6</td>\n",
       "      <td>5536</td>\n",
       "      <td>23233.77</td>\n",
       "    </tr>\n",
       "    <tr>\n",
       "      <td>2</td>\n",
       "      <td>1000</td>\n",
       "      <td>7</td>\n",
       "      <td>3504</td>\n",
       "      <td>14003.64</td>\n",
       "    </tr>\n",
       "    <tr>\n",
       "      <td>3</td>\n",
       "      <td>1000</td>\n",
       "      <td>8</td>\n",
       "      <td>2977</td>\n",
       "      <td>14055.93</td>\n",
       "    </tr>\n",
       "    <tr>\n",
       "      <td>4</td>\n",
       "      <td>1000</td>\n",
       "      <td>9</td>\n",
       "      <td>2746</td>\n",
       "      <td>14568.91</td>\n",
       "    </tr>\n",
       "  </tbody>\n",
       "</table>\n",
       "</div>"
      ],
      "text/plain": [
       "   user_id  session_date  Unnamed: 0   mb_used\n",
       "0     1000             5         443   2253.49\n",
       "1     1000             6        5536  23233.77\n",
       "2     1000             7        3504  14003.64\n",
       "3     1000             8        2977  14055.93\n",
       "4     1000             9        2746  14568.91"
      ]
     },
     "execution_count": 48,
     "metadata": {},
     "output_type": "execute_result"
    }
   ],
   "source": [
    "internet = internet.groupby(['user_id', 'session_date']).sum().reset_index()\n",
    "internet.head()"
   ]
  },
  {
   "cell_type": "code",
   "execution_count": 49,
   "metadata": {},
   "outputs": [
    {
     "data": {
      "text/html": [
       "<div>\n",
       "<style scoped>\n",
       "    .dataframe tbody tr th:only-of-type {\n",
       "        vertical-align: middle;\n",
       "    }\n",
       "\n",
       "    .dataframe tbody tr th {\n",
       "        vertical-align: top;\n",
       "    }\n",
       "\n",
       "    .dataframe thead th {\n",
       "        text-align: right;\n",
       "    }\n",
       "</style>\n",
       "<table border=\"1\" class=\"dataframe\">\n",
       "  <thead>\n",
       "    <tr style=\"text-align: right;\">\n",
       "      <th></th>\n",
       "      <th>user_id</th>\n",
       "      <th>month</th>\n",
       "      <th>mb_used</th>\n",
       "    </tr>\n",
       "  </thead>\n",
       "  <tbody>\n",
       "    <tr>\n",
       "      <td>0</td>\n",
       "      <td>1000</td>\n",
       "      <td>5</td>\n",
       "      <td>2253.49</td>\n",
       "    </tr>\n",
       "    <tr>\n",
       "      <td>1</td>\n",
       "      <td>1000</td>\n",
       "      <td>6</td>\n",
       "      <td>23233.77</td>\n",
       "    </tr>\n",
       "    <tr>\n",
       "      <td>2</td>\n",
       "      <td>1000</td>\n",
       "      <td>7</td>\n",
       "      <td>14003.64</td>\n",
       "    </tr>\n",
       "    <tr>\n",
       "      <td>3</td>\n",
       "      <td>1000</td>\n",
       "      <td>8</td>\n",
       "      <td>14055.93</td>\n",
       "    </tr>\n",
       "    <tr>\n",
       "      <td>4</td>\n",
       "      <td>1000</td>\n",
       "      <td>9</td>\n",
       "      <td>14568.91</td>\n",
       "    </tr>\n",
       "  </tbody>\n",
       "</table>\n",
       "</div>"
      ],
      "text/plain": [
       "   user_id  month   mb_used\n",
       "0     1000      5   2253.49\n",
       "1     1000      6  23233.77\n",
       "2     1000      7  14003.64\n",
       "3     1000      8  14055.93\n",
       "4     1000      9  14568.91"
      ]
     },
     "execution_count": 49,
     "metadata": {},
     "output_type": "execute_result"
    }
   ],
   "source": [
    "internet.columns = ['user_id', 'month', 'Unnamed: 0', 'mb_used'] #Переименовали столбцы для слияния\n",
    "internet = internet[['user_id', 'month', 'mb_used']] # убрали лишний столбец\n",
    "internet.head()"
   ]
  },
  {
   "cell_type": "code",
   "execution_count": 50,
   "metadata": {},
   "outputs": [
    {
     "name": "stdout",
     "output_type": "stream",
     "text": [
      "<class 'pandas.core.frame.DataFrame'>\n",
      "RangeIndex: 3203 entries, 0 to 3202\n",
      "Data columns (total 3 columns):\n",
      "user_id    3203 non-null int64\n",
      "month      3203 non-null int64\n",
      "mb_used    3203 non-null float64\n",
      "dtypes: float64(1), int64(2)\n",
      "memory usage: 75.2 KB\n"
     ]
    }
   ],
   "source": [
    "internet.info()"
   ]
  },
  {
   "cell_type": "code",
   "execution_count": 51,
   "metadata": {},
   "outputs": [
    {
     "data": {
      "text/plain": [
       "Index(['user_id', 'age', 'churn_date', 'city', 'first_name', 'last_name',\n",
       "       'reg_date', 'tariff'],\n",
       "      dtype='object')"
      ]
     },
     "execution_count": 51,
     "metadata": {},
     "output_type": "execute_result"
    }
   ],
   "source": [
    "users.columns"
   ]
  },
  {
   "cell_type": "code",
   "execution_count": 52,
   "metadata": {},
   "outputs": [
    {
     "data": {
      "text/html": [
       "<div>\n",
       "<style scoped>\n",
       "    .dataframe tbody tr th:only-of-type {\n",
       "        vertical-align: middle;\n",
       "    }\n",
       "\n",
       "    .dataframe tbody tr th {\n",
       "        vertical-align: top;\n",
       "    }\n",
       "\n",
       "    .dataframe thead th {\n",
       "        text-align: right;\n",
       "    }\n",
       "</style>\n",
       "<table border=\"1\" class=\"dataframe\">\n",
       "  <thead>\n",
       "    <tr style=\"text-align: right;\">\n",
       "      <th></th>\n",
       "      <th>user_id</th>\n",
       "      <th>month</th>\n",
       "      <th>duration</th>\n",
       "      <th>mb_used</th>\n",
       "    </tr>\n",
       "  </thead>\n",
       "  <tbody>\n",
       "    <tr>\n",
       "      <td>0</td>\n",
       "      <td>1000</td>\n",
       "      <td>5</td>\n",
       "      <td>159.0</td>\n",
       "      <td>2253.49</td>\n",
       "    </tr>\n",
       "    <tr>\n",
       "      <td>1</td>\n",
       "      <td>1000</td>\n",
       "      <td>6</td>\n",
       "      <td>172.0</td>\n",
       "      <td>23233.77</td>\n",
       "    </tr>\n",
       "    <tr>\n",
       "      <td>2</td>\n",
       "      <td>1000</td>\n",
       "      <td>7</td>\n",
       "      <td>340.0</td>\n",
       "      <td>14003.64</td>\n",
       "    </tr>\n",
       "    <tr>\n",
       "      <td>3</td>\n",
       "      <td>1000</td>\n",
       "      <td>8</td>\n",
       "      <td>408.0</td>\n",
       "      <td>14055.93</td>\n",
       "    </tr>\n",
       "    <tr>\n",
       "      <td>4</td>\n",
       "      <td>1000</td>\n",
       "      <td>9</td>\n",
       "      <td>466.0</td>\n",
       "      <td>14568.91</td>\n",
       "    </tr>\n",
       "  </tbody>\n",
       "</table>\n",
       "</div>"
      ],
      "text/plain": [
       "   user_id  month  duration   mb_used\n",
       "0     1000      5     159.0   2253.49\n",
       "1     1000      6     172.0  23233.77\n",
       "2     1000      7     340.0  14003.64\n",
       "3     1000      8     408.0  14055.93\n",
       "4     1000      9     466.0  14568.91"
      ]
     },
     "execution_count": 52,
     "metadata": {},
     "output_type": "execute_result"
    }
   ],
   "source": [
    "data = pd.merge(calls, internet, on = ['user_id', 'month'], how='outer')\n",
    "data.head()"
   ]
  },
  {
   "cell_type": "markdown",
   "metadata": {},
   "source": [
    "Объединений 1 произведено, присоединим таблицу сообщений"
   ]
  },
  {
   "cell_type": "code",
   "execution_count": 53,
   "metadata": {},
   "outputs": [],
   "source": [
    "data = pd.merge(data, messages, on = ['user_id', 'month'], how='outer')"
   ]
  },
  {
   "cell_type": "code",
   "execution_count": 54,
   "metadata": {},
   "outputs": [
    {
     "data": {
      "text/html": [
       "<div>\n",
       "<style scoped>\n",
       "    .dataframe tbody tr th:only-of-type {\n",
       "        vertical-align: middle;\n",
       "    }\n",
       "\n",
       "    .dataframe tbody tr th {\n",
       "        vertical-align: top;\n",
       "    }\n",
       "\n",
       "    .dataframe thead th {\n",
       "        text-align: right;\n",
       "    }\n",
       "</style>\n",
       "<table border=\"1\" class=\"dataframe\">\n",
       "  <thead>\n",
       "    <tr style=\"text-align: right;\">\n",
       "      <th></th>\n",
       "      <th>user_id</th>\n",
       "      <th>month</th>\n",
       "      <th>duration</th>\n",
       "      <th>mb_used</th>\n",
       "      <th>messages</th>\n",
       "    </tr>\n",
       "  </thead>\n",
       "  <tbody>\n",
       "    <tr>\n",
       "      <td>0</td>\n",
       "      <td>1000</td>\n",
       "      <td>5</td>\n",
       "      <td>159.0</td>\n",
       "      <td>2253.49</td>\n",
       "      <td>22.0</td>\n",
       "    </tr>\n",
       "    <tr>\n",
       "      <td>1</td>\n",
       "      <td>1000</td>\n",
       "      <td>6</td>\n",
       "      <td>172.0</td>\n",
       "      <td>23233.77</td>\n",
       "      <td>60.0</td>\n",
       "    </tr>\n",
       "    <tr>\n",
       "      <td>2</td>\n",
       "      <td>1000</td>\n",
       "      <td>7</td>\n",
       "      <td>340.0</td>\n",
       "      <td>14003.64</td>\n",
       "      <td>75.0</td>\n",
       "    </tr>\n",
       "    <tr>\n",
       "      <td>3</td>\n",
       "      <td>1000</td>\n",
       "      <td>8</td>\n",
       "      <td>408.0</td>\n",
       "      <td>14055.93</td>\n",
       "      <td>81.0</td>\n",
       "    </tr>\n",
       "    <tr>\n",
       "      <td>4</td>\n",
       "      <td>1000</td>\n",
       "      <td>9</td>\n",
       "      <td>466.0</td>\n",
       "      <td>14568.91</td>\n",
       "      <td>57.0</td>\n",
       "    </tr>\n",
       "  </tbody>\n",
       "</table>\n",
       "</div>"
      ],
      "text/plain": [
       "   user_id  month  duration   mb_used  messages\n",
       "0     1000      5     159.0   2253.49      22.0\n",
       "1     1000      6     172.0  23233.77      60.0\n",
       "2     1000      7     340.0  14003.64      75.0\n",
       "3     1000      8     408.0  14055.93      81.0\n",
       "4     1000      9     466.0  14568.91      57.0"
      ]
     },
     "execution_count": 54,
     "metadata": {},
     "output_type": "execute_result"
    }
   ],
   "source": [
    "data.head()"
   ]
  },
  {
   "cell_type": "code",
   "execution_count": 55,
   "metadata": {},
   "outputs": [
    {
     "name": "stdout",
     "output_type": "stream",
     "text": [
      "<class 'pandas.core.frame.DataFrame'>\n",
      "Int64Index: 3214 entries, 0 to 3213\n",
      "Data columns (total 5 columns):\n",
      "user_id     3214 non-null int64\n",
      "month       3214 non-null int64\n",
      "duration    3174 non-null float64\n",
      "mb_used     3203 non-null float64\n",
      "messages    2717 non-null float64\n",
      "dtypes: float64(3), int64(2)\n",
      "memory usage: 150.7 KB\n"
     ]
    }
   ],
   "source": [
    "data.info()"
   ]
  },
  {
   "cell_type": "markdown",
   "metadata": {},
   "source": [
    "Мы видим пропущенные значения в столбцах duration, mb_used и messages, они связаны с тем, что не во всех месяцев со звонками было использование интернета и смс. Заменим на 0"
   ]
  },
  {
   "cell_type": "code",
   "execution_count": 56,
   "metadata": {},
   "outputs": [],
   "source": [
    "data.loc[(data['mb_used'].isna() == True), 'mb_used'] = 0\n",
    "data.loc[(data['messages'].isna() == True), 'messages'] = 0\n",
    "data.loc[(data['duration'].isna() == True), 'duration'] = 0"
   ]
  },
  {
   "cell_type": "code",
   "execution_count": 57,
   "metadata": {},
   "outputs": [
    {
     "name": "stdout",
     "output_type": "stream",
     "text": [
      "<class 'pandas.core.frame.DataFrame'>\n",
      "Int64Index: 3214 entries, 0 to 3213\n",
      "Data columns (total 5 columns):\n",
      "user_id     3214 non-null int64\n",
      "month       3214 non-null int64\n",
      "duration    3214 non-null float64\n",
      "mb_used     3214 non-null float64\n",
      "messages    3214 non-null float64\n",
      "dtypes: float64(3), int64(2)\n",
      "memory usage: 150.7 KB\n"
     ]
    }
   ],
   "source": [
    "data.info()"
   ]
  },
  {
   "cell_type": "markdown",
   "metadata": {},
   "source": [
    "Посчитайте для каждого пользователя объем израсходованного интернет-трафика по месяцам в Гб"
   ]
  },
  {
   "cell_type": "code",
   "execution_count": 58,
   "metadata": {},
   "outputs": [
    {
     "name": "stdout",
     "output_type": "stream",
     "text": [
      "49745.69000000001\n"
     ]
    },
    {
     "data": {
      "text/plain": [
       "13"
      ]
     },
     "execution_count": 58,
     "metadata": {},
     "output_type": "execute_result"
    }
   ],
   "source": [
    "print(data['mb_used'].max())\n",
    "data[data['mb_used']==0]['mb_used'].count()"
   ]
  },
  {
   "cell_type": "code",
   "execution_count": 59,
   "metadata": {},
   "outputs": [],
   "source": [
    "#data['gb_used']= data['mb_used'] // 1024 + ((data['mb_used'] % 1024)>0)*1 \n",
    "data['gb_used']= np.ceil(data['mb_used'] / 1024).astype('int')\n"
   ]
  },
  {
   "cell_type": "markdown",
   "metadata": {},
   "source": [
    "Небольшая проверка преобразований, проверим, остались ли ноли - нолями и правильно ли перевелся максимум:"
   ]
  },
  {
   "cell_type": "code",
   "execution_count": 60,
   "metadata": {},
   "outputs": [
    {
     "name": "stdout",
     "output_type": "stream",
     "text": [
      "49\n"
     ]
    },
    {
     "data": {
      "text/plain": [
       "13"
      ]
     },
     "execution_count": 60,
     "metadata": {},
     "output_type": "execute_result"
    }
   ],
   "source": [
    "print(data['gb_used'].max())\n",
    "data[data['gb_used']==0]['gb_used'].count()"
   ]
  },
  {
   "cell_type": "markdown",
   "metadata": {},
   "source": [
    "Проверка показала, что максимум перевелся корректно( пересчитано вручную), нулевых значений осталось 13"
   ]
  },
  {
   "cell_type": "code",
   "execution_count": 61,
   "metadata": {},
   "outputs": [
    {
     "name": "stdout",
     "output_type": "stream",
     "text": [
      "<class 'pandas.core.frame.DataFrame'>\n",
      "Int64Index: 3214 entries, 0 to 3213\n",
      "Data columns (total 6 columns):\n",
      "user_id     3214 non-null int64\n",
      "month       3214 non-null int64\n",
      "duration    3214 non-null float64\n",
      "mb_used     3214 non-null float64\n",
      "messages    3214 non-null float64\n",
      "gb_used     3214 non-null int64\n",
      "dtypes: float64(3), int64(3)\n",
      "memory usage: 175.8 KB\n"
     ]
    }
   ],
   "source": [
    "data.info()"
   ]
  },
  {
   "cell_type": "code",
   "execution_count": 62,
   "metadata": {},
   "outputs": [
    {
     "name": "stdout",
     "output_type": "stream",
     "text": [
      "<class 'pandas.core.frame.DataFrame'>\n",
      "Int64Index: 3214 entries, 0 to 3213\n",
      "Data columns (total 5 columns):\n",
      "user_id     3214 non-null int64\n",
      "month       3214 non-null int64\n",
      "duration    3214 non-null float64\n",
      "messages    3214 non-null int64\n",
      "gb_used     3214 non-null int64\n",
      "dtypes: float64(1), int64(4)\n",
      "memory usage: 150.7 KB\n"
     ]
    }
   ],
   "source": [
    "data.columns = ['user_id', 'month', 'duration', 'mb_used', 'messages', 'gb_used'] \n",
    "data = data[['user_id', 'month', 'duration', 'messages', 'gb_used']]\n",
    "data['messages'] = data['messages'].astype('int')\n",
    "data['gb_used'] = data['gb_used'].astype('int')\n",
    "data.info()"
   ]
  },
  {
   "cell_type": "markdown",
   "metadata": {},
   "source": [
    "Присоединим данные о тарифах пользователей"
   ]
  },
  {
   "cell_type": "code",
   "execution_count": 63,
   "metadata": {},
   "outputs": [],
   "source": [
    "data = pd.merge(data, users, on = 'user_id', how='outer')"
   ]
  },
  {
   "cell_type": "code",
   "execution_count": 64,
   "metadata": {
    "scrolled": true
   },
   "outputs": [
    {
     "data": {
      "text/html": [
       "<div>\n",
       "<style scoped>\n",
       "    .dataframe tbody tr th:only-of-type {\n",
       "        vertical-align: middle;\n",
       "    }\n",
       "\n",
       "    .dataframe tbody tr th {\n",
       "        vertical-align: top;\n",
       "    }\n",
       "\n",
       "    .dataframe thead th {\n",
       "        text-align: right;\n",
       "    }\n",
       "</style>\n",
       "<table border=\"1\" class=\"dataframe\">\n",
       "  <thead>\n",
       "    <tr style=\"text-align: right;\">\n",
       "      <th></th>\n",
       "      <th>user_id</th>\n",
       "      <th>month</th>\n",
       "      <th>duration</th>\n",
       "      <th>messages</th>\n",
       "      <th>gb_used</th>\n",
       "      <th>age</th>\n",
       "      <th>churn_date</th>\n",
       "      <th>city</th>\n",
       "      <th>first_name</th>\n",
       "      <th>last_name</th>\n",
       "      <th>reg_date</th>\n",
       "      <th>tariff</th>\n",
       "    </tr>\n",
       "  </thead>\n",
       "  <tbody>\n",
       "    <tr>\n",
       "      <td>0</td>\n",
       "      <td>1000</td>\n",
       "      <td>5.0</td>\n",
       "      <td>159.0</td>\n",
       "      <td>22.0</td>\n",
       "      <td>3.0</td>\n",
       "      <td>52</td>\n",
       "      <td>12</td>\n",
       "      <td>Краснодар</td>\n",
       "      <td>Рафаил</td>\n",
       "      <td>Верещагин</td>\n",
       "      <td>5</td>\n",
       "      <td>ultra</td>\n",
       "    </tr>\n",
       "    <tr>\n",
       "      <td>1</td>\n",
       "      <td>1000</td>\n",
       "      <td>6.0</td>\n",
       "      <td>172.0</td>\n",
       "      <td>60.0</td>\n",
       "      <td>23.0</td>\n",
       "      <td>52</td>\n",
       "      <td>12</td>\n",
       "      <td>Краснодар</td>\n",
       "      <td>Рафаил</td>\n",
       "      <td>Верещагин</td>\n",
       "      <td>5</td>\n",
       "      <td>ultra</td>\n",
       "    </tr>\n",
       "    <tr>\n",
       "      <td>2</td>\n",
       "      <td>1000</td>\n",
       "      <td>7.0</td>\n",
       "      <td>340.0</td>\n",
       "      <td>75.0</td>\n",
       "      <td>14.0</td>\n",
       "      <td>52</td>\n",
       "      <td>12</td>\n",
       "      <td>Краснодар</td>\n",
       "      <td>Рафаил</td>\n",
       "      <td>Верещагин</td>\n",
       "      <td>5</td>\n",
       "      <td>ultra</td>\n",
       "    </tr>\n",
       "    <tr>\n",
       "      <td>3</td>\n",
       "      <td>1000</td>\n",
       "      <td>8.0</td>\n",
       "      <td>408.0</td>\n",
       "      <td>81.0</td>\n",
       "      <td>14.0</td>\n",
       "      <td>52</td>\n",
       "      <td>12</td>\n",
       "      <td>Краснодар</td>\n",
       "      <td>Рафаил</td>\n",
       "      <td>Верещагин</td>\n",
       "      <td>5</td>\n",
       "      <td>ultra</td>\n",
       "    </tr>\n",
       "    <tr>\n",
       "      <td>4</td>\n",
       "      <td>1000</td>\n",
       "      <td>9.0</td>\n",
       "      <td>466.0</td>\n",
       "      <td>57.0</td>\n",
       "      <td>15.0</td>\n",
       "      <td>52</td>\n",
       "      <td>12</td>\n",
       "      <td>Краснодар</td>\n",
       "      <td>Рафаил</td>\n",
       "      <td>Верещагин</td>\n",
       "      <td>5</td>\n",
       "      <td>ultra</td>\n",
       "    </tr>\n",
       "  </tbody>\n",
       "</table>\n",
       "</div>"
      ],
      "text/plain": [
       "   user_id  month  duration  messages  gb_used  age  churn_date       city  \\\n",
       "0     1000    5.0     159.0      22.0      3.0   52          12  Краснодар   \n",
       "1     1000    6.0     172.0      60.0     23.0   52          12  Краснодар   \n",
       "2     1000    7.0     340.0      75.0     14.0   52          12  Краснодар   \n",
       "3     1000    8.0     408.0      81.0     14.0   52          12  Краснодар   \n",
       "4     1000    9.0     466.0      57.0     15.0   52          12  Краснодар   \n",
       "\n",
       "  first_name  last_name  reg_date tariff  \n",
       "0     Рафаил  Верещагин         5  ultra  \n",
       "1     Рафаил  Верещагин         5  ultra  \n",
       "2     Рафаил  Верещагин         5  ultra  \n",
       "3     Рафаил  Верещагин         5  ultra  \n",
       "4     Рафаил  Верещагин         5  ultra  "
      ]
     },
     "execution_count": 64,
     "metadata": {},
     "output_type": "execute_result"
    }
   ],
   "source": [
    "data.head()"
   ]
  },
  {
   "cell_type": "code",
   "execution_count": 65,
   "metadata": {},
   "outputs": [
    {
     "data": {
      "text/plain": [
       "smart    2230\n",
       "ultra     986\n",
       "Name: tariff, dtype: int64"
      ]
     },
     "execution_count": 65,
     "metadata": {},
     "output_type": "execute_result"
    }
   ],
   "source": [
    "data['tariff'].value_counts()"
   ]
  },
  {
   "cell_type": "markdown",
   "metadata": {},
   "source": [
    "Мы видим, что тариф смарт представлен в выборке гораздо шире, 2223 "
   ]
  },
  {
   "cell_type": "code",
   "execution_count": 66,
   "metadata": {},
   "outputs": [
    {
     "name": "stdout",
     "output_type": "stream",
     "text": [
      "<class 'pandas.core.frame.DataFrame'>\n",
      "Int64Index: 3216 entries, 0 to 3215\n",
      "Data columns (total 12 columns):\n",
      "user_id       3216 non-null int64\n",
      "month         3214 non-null float64\n",
      "duration      3214 non-null float64\n",
      "messages      3214 non-null float64\n",
      "gb_used       3214 non-null float64\n",
      "age           3216 non-null int64\n",
      "churn_date    3216 non-null int64\n",
      "city          3216 non-null object\n",
      "first_name    3216 non-null object\n",
      "last_name     3216 non-null object\n",
      "reg_date      3216 non-null int64\n",
      "tariff        3216 non-null object\n",
      "dtypes: float64(4), int64(4), object(4)\n",
      "memory usage: 326.6+ KB\n"
     ]
    }
   ],
   "source": [
    "data.info()"
   ]
  },
  {
   "cell_type": "markdown",
   "metadata": {},
   "source": [
    "У нас появились два дополнительных пользователя, отсутствующие во всех трех основаниях начислений - смс, звонках и интернете. "
   ]
  },
  {
   "cell_type": "code",
   "execution_count": 67,
   "metadata": {
    "scrolled": true
   },
   "outputs": [
    {
     "data": {
      "text/html": [
       "<div>\n",
       "<style scoped>\n",
       "    .dataframe tbody tr th:only-of-type {\n",
       "        vertical-align: middle;\n",
       "    }\n",
       "\n",
       "    .dataframe tbody tr th {\n",
       "        vertical-align: top;\n",
       "    }\n",
       "\n",
       "    .dataframe thead th {\n",
       "        text-align: right;\n",
       "    }\n",
       "</style>\n",
       "<table border=\"1\" class=\"dataframe\">\n",
       "  <thead>\n",
       "    <tr style=\"text-align: right;\">\n",
       "      <th></th>\n",
       "      <th>user_id</th>\n",
       "      <th>month</th>\n",
       "      <th>duration</th>\n",
       "      <th>messages</th>\n",
       "      <th>gb_used</th>\n",
       "      <th>age</th>\n",
       "      <th>churn_date</th>\n",
       "      <th>city</th>\n",
       "      <th>first_name</th>\n",
       "      <th>last_name</th>\n",
       "      <th>reg_date</th>\n",
       "      <th>tariff</th>\n",
       "    </tr>\n",
       "  </thead>\n",
       "  <tbody>\n",
       "    <tr>\n",
       "      <td>3214</td>\n",
       "      <td>1128</td>\n",
       "      <td>NaN</td>\n",
       "      <td>NaN</td>\n",
       "      <td>NaN</td>\n",
       "      <td>NaN</td>\n",
       "      <td>51</td>\n",
       "      <td>12</td>\n",
       "      <td>Волжский</td>\n",
       "      <td>Ксения</td>\n",
       "      <td>Агаева</td>\n",
       "      <td>12</td>\n",
       "      <td>ultra</td>\n",
       "    </tr>\n",
       "    <tr>\n",
       "      <td>3215</td>\n",
       "      <td>1371</td>\n",
       "      <td>NaN</td>\n",
       "      <td>NaN</td>\n",
       "      <td>NaN</td>\n",
       "      <td>NaN</td>\n",
       "      <td>50</td>\n",
       "      <td>12</td>\n",
       "      <td>Омск</td>\n",
       "      <td>Ириней</td>\n",
       "      <td>Трофимов</td>\n",
       "      <td>12</td>\n",
       "      <td>smart</td>\n",
       "    </tr>\n",
       "  </tbody>\n",
       "</table>\n",
       "</div>"
      ],
      "text/plain": [
       "      user_id  month  duration  messages  gb_used  age  churn_date      city  \\\n",
       "3214     1128    NaN       NaN       NaN      NaN   51          12  Волжский   \n",
       "3215     1371    NaN       NaN       NaN      NaN   50          12      Омск   \n",
       "\n",
       "     first_name last_name  reg_date tariff  \n",
       "3214     Ксения    Агаева        12  ultra  \n",
       "3215     Ириней  Трофимов        12  smart  "
      ]
     },
     "execution_count": 67,
     "metadata": {},
     "output_type": "execute_result"
    }
   ],
   "source": [
    "data.loc[(data['duration'].isna() == True)]"
   ]
  },
  {
   "cell_type": "markdown",
   "metadata": {},
   "source": [
    "Это подключившиеся в декабре и не успевшие совершить тарифицируемые действия абоненты, для расчета они бесполезны, удалим."
   ]
  },
  {
   "cell_type": "code",
   "execution_count": 68,
   "metadata": {},
   "outputs": [],
   "source": [
    "data = data.dropna().reset_index(drop = True)"
   ]
  },
  {
   "cell_type": "code",
   "execution_count": 69,
   "metadata": {},
   "outputs": [
    {
     "name": "stdout",
     "output_type": "stream",
     "text": [
      "<class 'pandas.core.frame.DataFrame'>\n",
      "RangeIndex: 3214 entries, 0 to 3213\n",
      "Data columns (total 12 columns):\n",
      "user_id       3214 non-null int64\n",
      "month         3214 non-null float64\n",
      "duration      3214 non-null float64\n",
      "messages      3214 non-null float64\n",
      "gb_used       3214 non-null float64\n",
      "age           3214 non-null int64\n",
      "churn_date    3214 non-null int64\n",
      "city          3214 non-null object\n",
      "first_name    3214 non-null object\n",
      "last_name     3214 non-null object\n",
      "reg_date      3214 non-null int64\n",
      "tariff        3214 non-null object\n",
      "dtypes: float64(4), int64(4), object(4)\n",
      "memory usage: 301.4+ KB\n"
     ]
    }
   ],
   "source": [
    "data.info()"
   ]
  },
  {
   "cell_type": "code",
   "execution_count": 70,
   "metadata": {},
   "outputs": [
    {
     "data": {
      "text/plain": [
       "Index(['messages_included', 'mb_per_month_included', 'minutes_included',\n",
       "       'rub_monthly_fee', 'rub_per_gb', 'rub_per_message', 'rub_per_minute',\n",
       "       'tariff_name'],\n",
       "      dtype='object')"
      ]
     },
     "execution_count": 70,
     "metadata": {},
     "output_type": "execute_result"
    }
   ],
   "source": [
    "tariffs.columns"
   ]
  },
  {
   "cell_type": "code",
   "execution_count": 71,
   "metadata": {},
   "outputs": [],
   "source": [
    "tariffs.columns = [['messages_included', 'mb_per_month_included', 'minutes_included',\n",
    "       'rub_monthly_fee', 'rub_per_gb', 'rub_per_message', 'rub_per_minute',\n",
    "       'tariff']]"
   ]
  },
  {
   "cell_type": "code",
   "execution_count": 72,
   "metadata": {},
   "outputs": [
    {
     "data": {
      "text/html": [
       "<div>\n",
       "<style scoped>\n",
       "    .dataframe tbody tr th:only-of-type {\n",
       "        vertical-align: middle;\n",
       "    }\n",
       "\n",
       "    .dataframe tbody tr th {\n",
       "        vertical-align: top;\n",
       "    }\n",
       "\n",
       "    .dataframe thead th {\n",
       "        text-align: right;\n",
       "    }\n",
       "</style>\n",
       "<table border=\"1\" class=\"dataframe\">\n",
       "  <thead>\n",
       "    <tr style=\"text-align: right;\">\n",
       "      <th></th>\n",
       "      <th>user_id</th>\n",
       "      <th>month</th>\n",
       "      <th>duration</th>\n",
       "      <th>messages</th>\n",
       "      <th>gb_used</th>\n",
       "      <th>age</th>\n",
       "      <th>churn_date</th>\n",
       "      <th>city</th>\n",
       "      <th>first_name</th>\n",
       "      <th>last_name</th>\n",
       "      <th>reg_date</th>\n",
       "      <th>tariff</th>\n",
       "    </tr>\n",
       "  </thead>\n",
       "  <tbody>\n",
       "    <tr>\n",
       "      <td>0</td>\n",
       "      <td>1000</td>\n",
       "      <td>5.0</td>\n",
       "      <td>159.0</td>\n",
       "      <td>22.0</td>\n",
       "      <td>3.0</td>\n",
       "      <td>52</td>\n",
       "      <td>12</td>\n",
       "      <td>Краснодар</td>\n",
       "      <td>Рафаил</td>\n",
       "      <td>Верещагин</td>\n",
       "      <td>5</td>\n",
       "      <td>ultra</td>\n",
       "    </tr>\n",
       "    <tr>\n",
       "      <td>1</td>\n",
       "      <td>1000</td>\n",
       "      <td>6.0</td>\n",
       "      <td>172.0</td>\n",
       "      <td>60.0</td>\n",
       "      <td>23.0</td>\n",
       "      <td>52</td>\n",
       "      <td>12</td>\n",
       "      <td>Краснодар</td>\n",
       "      <td>Рафаил</td>\n",
       "      <td>Верещагин</td>\n",
       "      <td>5</td>\n",
       "      <td>ultra</td>\n",
       "    </tr>\n",
       "    <tr>\n",
       "      <td>2</td>\n",
       "      <td>1000</td>\n",
       "      <td>7.0</td>\n",
       "      <td>340.0</td>\n",
       "      <td>75.0</td>\n",
       "      <td>14.0</td>\n",
       "      <td>52</td>\n",
       "      <td>12</td>\n",
       "      <td>Краснодар</td>\n",
       "      <td>Рафаил</td>\n",
       "      <td>Верещагин</td>\n",
       "      <td>5</td>\n",
       "      <td>ultra</td>\n",
       "    </tr>\n",
       "    <tr>\n",
       "      <td>3</td>\n",
       "      <td>1000</td>\n",
       "      <td>8.0</td>\n",
       "      <td>408.0</td>\n",
       "      <td>81.0</td>\n",
       "      <td>14.0</td>\n",
       "      <td>52</td>\n",
       "      <td>12</td>\n",
       "      <td>Краснодар</td>\n",
       "      <td>Рафаил</td>\n",
       "      <td>Верещагин</td>\n",
       "      <td>5</td>\n",
       "      <td>ultra</td>\n",
       "    </tr>\n",
       "    <tr>\n",
       "      <td>4</td>\n",
       "      <td>1000</td>\n",
       "      <td>9.0</td>\n",
       "      <td>466.0</td>\n",
       "      <td>57.0</td>\n",
       "      <td>15.0</td>\n",
       "      <td>52</td>\n",
       "      <td>12</td>\n",
       "      <td>Краснодар</td>\n",
       "      <td>Рафаил</td>\n",
       "      <td>Верещагин</td>\n",
       "      <td>5</td>\n",
       "      <td>ultra</td>\n",
       "    </tr>\n",
       "  </tbody>\n",
       "</table>\n",
       "</div>"
      ],
      "text/plain": [
       "   user_id  month  duration  messages  gb_used  age  churn_date       city  \\\n",
       "0     1000    5.0     159.0      22.0      3.0   52          12  Краснодар   \n",
       "1     1000    6.0     172.0      60.0     23.0   52          12  Краснодар   \n",
       "2     1000    7.0     340.0      75.0     14.0   52          12  Краснодар   \n",
       "3     1000    8.0     408.0      81.0     14.0   52          12  Краснодар   \n",
       "4     1000    9.0     466.0      57.0     15.0   52          12  Краснодар   \n",
       "\n",
       "  first_name  last_name  reg_date tariff  \n",
       "0     Рафаил  Верещагин         5  ultra  \n",
       "1     Рафаил  Верещагин         5  ultra  \n",
       "2     Рафаил  Верещагин         5  ultra  \n",
       "3     Рафаил  Верещагин         5  ultra  \n",
       "4     Рафаил  Верещагин         5  ultra  "
      ]
     },
     "execution_count": 72,
     "metadata": {},
     "output_type": "execute_result"
    }
   ],
   "source": [
    "data.head()"
   ]
  },
  {
   "cell_type": "code",
   "execution_count": 73,
   "metadata": {},
   "outputs": [
    {
     "data": {
      "text/html": [
       "<div>\n",
       "<style scoped>\n",
       "    .dataframe tbody tr th:only-of-type {\n",
       "        vertical-align: middle;\n",
       "    }\n",
       "\n",
       "    .dataframe tbody tr th {\n",
       "        vertical-align: top;\n",
       "    }\n",
       "\n",
       "    .dataframe thead th {\n",
       "        text-align: right;\n",
       "    }\n",
       "</style>\n",
       "<table border=\"1\" class=\"dataframe\">\n",
       "  <thead>\n",
       "    <tr style=\"text-align: right;\">\n",
       "      <th></th>\n",
       "      <th>messages_included</th>\n",
       "      <th>mb_per_month_included</th>\n",
       "      <th>minutes_included</th>\n",
       "      <th>rub_monthly_fee</th>\n",
       "      <th>rub_per_gb</th>\n",
       "      <th>rub_per_message</th>\n",
       "      <th>rub_per_minute</th>\n",
       "      <th>tariff</th>\n",
       "    </tr>\n",
       "  </thead>\n",
       "  <tbody>\n",
       "    <tr>\n",
       "      <td>0</td>\n",
       "      <td>50</td>\n",
       "      <td>15360</td>\n",
       "      <td>500</td>\n",
       "      <td>550</td>\n",
       "      <td>200</td>\n",
       "      <td>3</td>\n",
       "      <td>3</td>\n",
       "      <td>smart</td>\n",
       "    </tr>\n",
       "    <tr>\n",
       "      <td>1</td>\n",
       "      <td>1000</td>\n",
       "      <td>30720</td>\n",
       "      <td>3000</td>\n",
       "      <td>1950</td>\n",
       "      <td>150</td>\n",
       "      <td>1</td>\n",
       "      <td>1</td>\n",
       "      <td>ultra</td>\n",
       "    </tr>\n",
       "  </tbody>\n",
       "</table>\n",
       "</div>"
      ],
      "text/plain": [
       "   messages_included  mb_per_month_included  minutes_included  \\\n",
       "0                 50                  15360               500   \n",
       "1               1000                  30720              3000   \n",
       "\n",
       "   rub_monthly_fee  rub_per_gb  rub_per_message  rub_per_minute tariff  \n",
       "0              550         200                3               3  smart  \n",
       "1             1950         150                1               1  ultra  "
      ]
     },
     "execution_count": 73,
     "metadata": {},
     "output_type": "execute_result"
    }
   ],
   "source": [
    "tariffs.reset_index()\n",
    "tariffs.head()\n",
    "tariffs.columns = ['messages_included', 'mb_per_month_included', 'minutes_included',\n",
    "       'rub_monthly_fee', 'rub_per_gb', 'rub_per_message', 'rub_per_minute',\n",
    "       'tariff']\n",
    "tariffs.head()"
   ]
  },
  {
   "cell_type": "code",
   "execution_count": 74,
   "metadata": {
    "scrolled": true
   },
   "outputs": [],
   "source": [
    "data = data.merge( tariffs, on = 'tariff', how='left')"
   ]
  },
  {
   "cell_type": "code",
   "execution_count": 75,
   "metadata": {},
   "outputs": [
    {
     "name": "stdout",
     "output_type": "stream",
     "text": [
      "<class 'pandas.core.frame.DataFrame'>\n",
      "Int64Index: 3214 entries, 0 to 3213\n",
      "Data columns (total 19 columns):\n",
      "user_id                  3214 non-null int64\n",
      "month                    3214 non-null float64\n",
      "duration                 3214 non-null float64\n",
      "messages                 3214 non-null float64\n",
      "gb_used                  3214 non-null float64\n",
      "age                      3214 non-null int64\n",
      "churn_date               3214 non-null int64\n",
      "city                     3214 non-null object\n",
      "first_name               3214 non-null object\n",
      "last_name                3214 non-null object\n",
      "reg_date                 3214 non-null int64\n",
      "tariff                   3214 non-null object\n",
      "messages_included        3214 non-null int64\n",
      "mb_per_month_included    3214 non-null int64\n",
      "minutes_included         3214 non-null int64\n",
      "rub_monthly_fee          3214 non-null int64\n",
      "rub_per_gb               3214 non-null int64\n",
      "rub_per_message          3214 non-null int64\n",
      "rub_per_minute           3214 non-null int64\n",
      "dtypes: float64(4), int64(11), object(4)\n",
      "memory usage: 502.2+ KB\n"
     ]
    }
   ],
   "source": [
    "data.info()"
   ]
  },
  {
   "cell_type": "markdown",
   "metadata": {},
   "source": [
    "И наша база готова для дальнейших расчетов и анализа"
   ]
  },
  {
   "cell_type": "markdown",
   "metadata": {},
   "source": [
    "### Расчет платы за месяц"
   ]
  },
  {
   "cell_type": "code",
   "execution_count": 76,
   "metadata": {},
   "outputs": [
    {
     "name": "stdout",
     "output_type": "stream",
     "text": [
      "count    3214.000000\n",
      "mean     1529.076229\n",
      "std       798.251091\n",
      "min       550.000000\n",
      "25%       750.000000\n",
      "50%      1653.500000\n",
      "75%      1950.000000\n",
      "max      6770.000000\n",
      "Name: month_fee, dtype: float64\n"
     ]
    }
   ],
   "source": [
    "def fee_calculation(row):\n",
    "    month_fee = (row['rub_monthly_fee'] + \n",
    "             max(0, (row['duration']-row['minutes_included'])*row['rub_per_minute']) + \n",
    "             max(0, (row['messages']-row['messages_included'])*row['rub_per_message']) + \n",
    "             max(0, (row['gb_used']- np.ceil(row['mb_per_month_included']/1024))*row['rub_per_gb'])\n",
    "             )\n",
    "    return month_fee\n",
    "\n",
    "data['month_fee'] = data.apply(fee_calculation, axis=1)\n",
    "data['month_fee'] = np.ceil(data['month_fee']).astype('int')\n",
    "print(data['month_fee'].describe())"
   ]
  },
  {
   "cell_type": "markdown",
   "metadata": {},
   "source": [
    "Посчитали - уберем лишние столбцы"
   ]
  },
  {
   "cell_type": "code",
   "execution_count": 78,
   "metadata": {},
   "outputs": [],
   "source": [
    "data = data[['user_id', 'month', 'duration', 'messages', 'gb_used', 'age',\n",
    "       'churn_date', 'city', 'first_name', 'last_name', 'reg_date', 'tariff',\n",
    "       'month_fee']]"
   ]
  },
  {
   "cell_type": "code",
   "execution_count": null,
   "metadata": {},
   "outputs": [],
   "source": [
    "data['month_fee'].hist(bins = 60)"
   ]
  },
  {
   "cell_type": "markdown",
   "metadata": {},
   "source": [
    "У нас есть 2 пика, на 550 и на 1950 руб, оба связаны с наличием абонентов, которым хватает заложенных в тарифе пакетов минут, звонков и интернета."
   ]
  },
  {
   "cell_type": "code",
   "execution_count": null,
   "metadata": {},
   "outputs": [],
   "source": [
    "data['month_fee'].sum()"
   ]
  },
  {
   "cell_type": "markdown",
   "metadata": {},
   "source": [
    "Любопытно, а какова бы была общая выручка, если бы у пользователей был другой, противоположный  тариф? Проверим"
   ]
  },
  {
   "cell_type": "code",
   "execution_count": null,
   "metadata": {},
   "outputs": [],
   "source": [
    "def fee_calculation_alt(row):\n",
    "    if row['tariff'] == 'smart':\n",
    "        month_fee = (1950 + \n",
    "                     max(0, (row['duration']-3000)*1) + \n",
    "                     max(0, (row['messages']-1000)*1) + \n",
    "                     max(0, (row['gb_used']-30)*150)\n",
    "                    )\n",
    "    else:\n",
    "        month_fee = (550 + \n",
    "                     max(0, (row['duration']-500)*3) + \n",
    "                     max(0, (row['messages']-50)*3) + \n",
    "                     max(0, (row['gb_used']-15)*200)\n",
    "                    )\n",
    "        \n",
    "    return month_fee\n",
    "\n",
    "data['month_fee_alt'] = data.apply(fee_calculation_alt, axis=1)\n",
    "data['month_fee_alt'] = data['month_fee_alt'].astype('int')\n",
    "\n",
    "data['month_fee_alt'].sum()"
   ]
  },
  {
   "cell_type": "markdown",
   "metadata": {},
   "source": [
    "Задачей нашего анализа является ответ на вопрос \"какой тариф приносит больше денег\" для коммерческого департамента. Очевидно, что по совокупности потребляемых пакетов услуг (звонки, интернет, смс), по сравнению с текущей ситуацией у тарифов есть возможность роста выручки Мегалайн. Проанализируем тарифы подробнее."
   ]
  },
  {
   "cell_type": "markdown",
   "metadata": {},
   "source": [
    "## Анализ данных"
   ]
  },
  {
   "cell_type": "markdown",
   "metadata": {},
   "source": [
    "Опишите поведение клиентов оператора, исходя из выборки. Сколько минут разговора, сколько сообщений и какой объём интернет-трафика требуется пользователям каждого тарифа в месяц? Посчитайте среднее количество, дисперсию и стандартное отклонение. Постройте гистограммы. Опишите распределения."
   ]
  },
  {
   "cell_type": "markdown",
   "metadata": {},
   "source": [
    "Тарифы смарт и ультра совместно принесли компании Мегалайн 4906753 руб. выручки за 2018 год. Посмотрим, сколько составила выручка по каждому из тарифов:"
   ]
  },
  {
   "cell_type": "code",
   "execution_count": null,
   "metadata": {},
   "outputs": [],
   "source": [
    "print(f'Выручка за 2018 год по тарифу smart составила {data[data[\"tariff\"]== \"smart\"][\"month_fee\"].sum()} рублей')"
   ]
  },
  {
   "cell_type": "code",
   "execution_count": null,
   "metadata": {},
   "outputs": [],
   "source": [
    "print(f'Выручка за 2018 год по тарифу ultra составила {data[data[\"tariff\"]== \"ultra\"][\"month_fee\"].sum()} рублей')"
   ]
  },
  {
   "cell_type": "markdown",
   "metadata": {},
   "source": [
    "Выручка по тарифу смарт больше, но и пользователей существенно больше"
   ]
  },
  {
   "cell_type": "code",
   "execution_count": null,
   "metadata": {},
   "outputs": [],
   "source": [
    "smart = data[data[\"tariff\"]== \"smart\"]\n",
    "smart.describe()"
   ]
  },
  {
   "cell_type": "code",
   "execution_count": null,
   "metadata": {
    "scrolled": true
   },
   "outputs": [],
   "source": [
    "ultra = data[data[\"tariff\"]== \"ultra\"]\n",
    "ultra.describe()"
   ]
  },
  {
   "cell_type": "markdown",
   "metadata": {},
   "source": [
    "Таблицы, построенные методом describe наглядно показывают, что пользователи тарифов потребляют разное количество пакетов услуг:\n",
    "среднее количество смс по тарифу смарт - 16, ультра - 49,\n",
    "среднее количество минут звонков тарифу смарт - 415, ультра - 524,\n",
    "среднее количество Гб по тарифу смарт - 16, ультра - 19.\n",
    "В тарифе ультра определенно есть запас по пакетам услуг, пользователи, даже на максимуме, не используют всех доступных смс(доступно 1000, испольовано макс 224) и минут (доступно 3000, испольовано макс 1658), но перерасходуют интернет, с этим и связано увеличение ежемесячной платы сверх тарифа. "
   ]
  },
  {
   "cell_type": "markdown",
   "metadata": {},
   "source": [
    "С одной стороны, тариф смарт выглядит более дешевым для клиента, медианное значение 1019 - против 1950 у пользвателя ультра.\n",
    "Медианное значение отличается от среднего в тарифе смарт сильнее, чем в тарифе ультра.\n"
   ]
  },
  {
   "cell_type": "code",
   "execution_count": null,
   "metadata": {},
   "outputs": [],
   "source": [
    "print(f'В тарифе смарт {smart[\"user_id\"].value_counts().count()} уникальных пользователей генерировали доход компании совокупно {smart[\"user_id\"].count()} месяцев, т.е.  {smart[\"user_id\"].count()/ smart[\"user_id\"].value_counts().count()} месяцев на человека в среднем ')\n",
    "print(f'В тарифе смарт {ultra[\"user_id\"].value_counts().count()} уникальных пользователей генерировали доход компании совокупно {ultra[\"user_id\"].count()} месяцев, т.е.  {ultra[\"user_id\"].count()/ ultra[\"user_id\"].value_counts().count()} месяцев на человека в среднем')"
   ]
  },
  {
   "cell_type": "markdown",
   "metadata": {},
   "source": [
    "В несмотря на различия в объемах выборок, в среднем каждый человек был подключен к тарифу более 6 месяцев."
   ]
  },
  {
   "cell_type": "code",
   "execution_count": null,
   "metadata": {},
   "outputs": [],
   "source": [
    "print(f'Выручка за 2018 год по тарифу ultra для текущих пользователей тарифа smart составила {data[data[\"tariff\"]== \"smart\"][\"month_fee_alt\"].sum()} рублей')\n",
    "print(f'Выручка за 2018 год по тарифу smart для текущих пользователей тарифа ultra составила {data[data[\"tariff\"]== \"ultra\"][\"month_fee_alt\"].sum()} рублей')"
   ]
  },
  {
   "cell_type": "markdown",
   "metadata": {},
   "source": [
    "Когда "
   ]
  },
  {
   "cell_type": "code",
   "execution_count": null,
   "metadata": {},
   "outputs": [],
   "source": [
    "ax = (smart\n",
    "    .plot(\n",
    "        kind='hist',\n",
    "        y='month_fee',\n",
    "        \n",
    "        histtype='step',\n",
    "        linewidth=3,\n",
    "        legend=True,\n",
    "        label='Тариф смарт',\n",
    "        figsize = (12,12)\n",
    "    )\n",
    ")\n",
    "\n",
    "(\n",
    "    ultra\n",
    "    .plot(\n",
    "        kind='hist',\n",
    "        y='month_fee',\n",
    "        ax=ax,\n",
    "        alpha=0.5,\n",
    "        legend=True,\n",
    "        label='Тариф ультра',\n",
    "        title='Сравнение тарифов смарт и ультра',\n",
    "    )\n",
    ");"
   ]
  },
  {
   "cell_type": "markdown",
   "metadata": {},
   "source": [
    "Мы видим на графике пользователей тарифа смарт, которые уже платят больше, чем по тарифу ультра. Очевидно, что мы не получим больше выручки, если переведем таких пользователей на тариф ультра. А вот все, кто находятся слева от величины 1950 - потенциальные источники большей выручки компании Мегалайн.\n"
   ]
  },
  {
   "cell_type": "code",
   "execution_count": null,
   "metadata": {},
   "outputs": [],
   "source": [
    "ax = smart.plot(x='month', y='month_fee', kind='scatter', alpha=0.3, figsize = (10, 7), label='Тариф смарт')\n",
    "ultra.plot(x='month', y='month_fee', kind='scatter', alpha=0.3, ax = ax, c=\"red\", figsize = (10, 7), label='Тариф ультра')\n",
    "\n",
    "plt.title('Диаграмма разброса ежемесячной платы по тарифам')\n",
    "plt.show()"
   ]
  },
  {
   "cell_type": "markdown",
   "metadata": {},
   "source": [
    "На этой диаграмме рассеяния мы так же видим, что хотя разброс по тарифу смарт больше, пороговое знаяение стартового платежа в тарифе ультра - выше, а значит, можно попробовать воздействовать (обзвон, реклама, смс с предложениями) на группу клиентов, чей платеж выже 1500 рублей, но ниже 1950 рублей с целью склонить их к переходу на тариф ультра. Мотивацией может стать то, что клиенты смогут свободнее пользоваться услугами связи (мы видим, что в среднем пользователи тарифа ультра тратят больше минут за месяц, отправляют больше смс и тратят больше Гб интернета. Те, кто приближаются к ним  по расходам могут счесть более выгодным расширение бесплатного пакета услуг. При наличии отклика и эффективности рекламной кампании - можно расширить ее на клиентов от 1200 до 1950 рублей). В качестве бонуса - предложить скидку в первые три месяца и возможность вернуться обратно на тариф смарт.\n"
   ]
  },
  {
   "cell_type": "code",
   "execution_count": null,
   "metadata": {},
   "outputs": [],
   "source": [
    "smart.query('1500 < month_fee < 1950')[\"month_fee\"].sum()"
   ]
  },
  {
   "cell_type": "code",
   "execution_count": null,
   "metadata": {
    "scrolled": true
   },
   "outputs": [],
   "source": [
    "smart.query('1500 < month_fee < 1950')[\"month_fee_alt\"].sum()"
   ]
  },
  {
   "cell_type": "code",
   "execution_count": null,
   "metadata": {},
   "outputs": [],
   "source": [
    "smart.query('1500 < month_fee < 1950')[\"month_fee_alt\"].sum() - smart.query('1500 < month_fee < 1950')[\"month_fee\"].sum()"
   ]
  },
  {
   "cell_type": "markdown",
   "metadata": {},
   "source": [
    "Как мы видим, альтернативный тариф (ультра вместо смарт) по таким клентам может принести компании Мегалайн дополнительную выручку 74750 рублей"
   ]
  },
  {
   "cell_type": "markdown",
   "metadata": {},
   "source": [
    "Так же можно оценить потенциал следующего сегмента пользователей тарифа смарт - с платой от 1200 до 1500 рублей в месяц"
   ]
  },
  {
   "cell_type": "code",
   "execution_count": null,
   "metadata": {},
   "outputs": [],
   "source": [
    "smart.query('1200 < month_fee <= 1500')[\"month_fee\"].sum()"
   ]
  },
  {
   "cell_type": "code",
   "execution_count": null,
   "metadata": {},
   "outputs": [],
   "source": [
    "smart.query('1200 < month_fee <= 1500')[\"month_fee_alt\"].sum()"
   ]
  },
  {
   "cell_type": "code",
   "execution_count": null,
   "metadata": {},
   "outputs": [],
   "source": [
    "smart.query('1200 < month_fee <= 1500')[\"month_fee_alt\"].sum() - smart.query('1200 < month_fee <= 1500')[\"month_fee\"].sum()"
   ]
  },
  {
   "cell_type": "markdown",
   "metadata": {},
   "source": [
    "Однако, чем меньше ежемесячный платеж, чем он дальше от 1950 рублей - тем меньше мотивация пользователя переходить на дорогостоящий тариф. И, наконец, важно  не затрагивать пользователей тарифа смарт, которые тратят в месяц более 1950 рублей, поскольку их переход на тариф ультра уменьшит выручку компании Мегалайн:"
   ]
  },
  {
   "cell_type": "code",
   "execution_count": null,
   "metadata": {},
   "outputs": [],
   "source": [
    "smart[smart[\"month_fee\"]> 1950]\n",
    "smart.describe()"
   ]
  },
  {
   "cell_type": "code",
   "execution_count": null,
   "metadata": {},
   "outputs": [],
   "source": [
    "smart[smart[\"month_fee\"]> 1950][\"month_fee\"].sum()"
   ]
  },
  {
   "cell_type": "code",
   "execution_count": null,
   "metadata": {},
   "outputs": [],
   "source": [
    "smart[smart[\"month_fee\"]> 1950][\"month_fee_alt\"].sum()"
   ]
  },
  {
   "cell_type": "code",
   "execution_count": null,
   "metadata": {},
   "outputs": [],
   "source": [
    "smart[smart[\"month_fee\"]> 1950][\"month_fee_alt\"].sum()-smart[smart[\"month_fee\"]> 1950][\"month_fee\"].sum()"
   ]
  },
  {
   "cell_type": "markdown",
   "metadata": {},
   "source": [
    "Переход пользователей тарифа смарт, которые тратят в месяц более 1950 рублей, на тариф ультра уменьшил бы выручку компании Мегалайн на 280753. Этих пользователей нужно беречь от сомнений в тарифе, пока они сами не догадались."
   ]
  },
  {
   "cell_type": "markdown",
   "metadata": {},
   "source": [
    "## Проверка гипотез"
   ]
  },
  {
   "cell_type": "markdown",
   "metadata": {},
   "source": [
    "### Cредняя выручка пользователей тарифов «Ультра» и «Смарт» различаются"
   ]
  },
  {
   "cell_type": "markdown",
   "metadata": {},
   "source": [
    "Сравним наши выборки для того, чтобы понять как отличается их среднее и является ли это случайностью. Наши выборки достаточно большие для проведения статистического теста на равенство среднего совокупности некоторому числу. "
   ]
  },
  {
   "cell_type": "markdown",
   "metadata": {},
   "source": [
    "В нулевой гипотезе мы предполагаем равенство сравниваемых средних двух совокупностей, то есть что средняя выручка пользователей тарифов «Ультра» и «Смарт» равна. Выбираем двустороннюю альтернативную гипотезу, так как мы не знаем, увеличится или уменьшится среднее. Если необходимо проверить равенство средних двух независимых совокупностей, то используется функция stats.ttest_ind. "
   ]
  },
  {
   "cell_type": "markdown",
   "metadata": {},
   "source": [
    "Так как выборки у нас разного размера и есть сомнения, что дисперсии у совокупностей одинаковые, при проверки гипотезы t-тестом установим  параметр equal_var как False, чтобы тест посчитал дисперсии выборок по отдельности."
   ]
  },
  {
   "cell_type": "code",
   "execution_count": null,
   "metadata": {},
   "outputs": [],
   "source": [
    "alpha = .05 # критический уровень статистической значимости\n",
    "# если p-value окажется меньше него - отвегнем гипотезу\n",
    "\n",
    "results = st.ttest_ind(\n",
    "    ultra[\"month_fee\"], \n",
    "    smart[\"month_fee\"],\n",
    "    equal_var = False)\n",
    "\n",
    "print('p-значение: ', results.pvalue)\n",
    "\n",
    "if results.pvalue < alpha:\n",
    "    print(\"Отвергаем нулевую гипотезу\")\n",
    "else:\n",
    "    print(\"Не получилось отвергнуть нулевую гипотезу\") "
   ]
  },
  {
   "cell_type": "markdown",
   "metadata": {},
   "source": [
    "p-значение:  1.359, отвергаем нулевую гипотезу. Средние наших совокупностей не равны. Собственно, так как массивы небольшие, мы подсчитали среднее раньше в таблице выше: по тарифу смарт среднее  значение 1286.5, по тарифу ультра - 2070.2."
   ]
  },
  {
   "cell_type": "markdown",
   "metadata": {},
   "source": [
    "### Cредняя выручка пользователи из Москвы отличается от выручки пользователей из других регионов.\n"
   ]
  },
  {
   "cell_type": "markdown",
   "metadata": {},
   "source": [
    "В нулевой гипотезе мы предполагаем равенство сравниваемых средних двух совокупностей, то есть что средняя выручка пользователей из Москвы и из других регионов равны. Выбираем двустороннюю альтернативную гипотезу, так как мы не знаем, увеличится или уменьшится среднее. Для проверки равенства средних двух независимых совокупностей используем функцию stats.ttest_ind. "
   ]
  },
  {
   "cell_type": "markdown",
   "metadata": {},
   "source": [
    "Так как выборки у нас разного размера или есть сомнения, что дисперсии у совокупностей одинаковые, при проверки гипотезы t-тестом установим  параметр equal_var как False, чтобы тест посчитал дисперсии выборок по отдельности."
   ]
  },
  {
   "cell_type": "code",
   "execution_count": null,
   "metadata": {},
   "outputs": [],
   "source": [
    "msk_var = np.var(data[data[\"city\"]== 'Москва'][\"month_fee\"])\n",
    "reg_var = np.var(data[data[\"city\"]!= 'Москва'][\"month_fee\"])\n",
    "\n",
    "print('Дисперсия дохода по Мск: ', msk_var)\n",
    "print('Дисперсия дохода по регионам: ', reg_var)\n",
    "\n",
    "if msk_var == reg_var:\n",
    "    print(\"Дисперсии равны, установим параметр equal_var по умолчанию (=True) \")\n",
    "else:\n",
    "    print(\"Дисперсии не равны, установим параметр equal_var как False\") "
   ]
  },
  {
   "cell_type": "code",
   "execution_count": null,
   "metadata": {},
   "outputs": [],
   "source": [
    "#avg = smart[\"month_fee\"].sum() / smart[\"month_fee\"].count()\n",
    "#var = sum((fee - avg)**2 for fee in smart[\"month_fee\"]) / smart[\"month_fee\"].count()\n",
    "#print(var)"
   ]
  },
  {
   "cell_type": "code",
   "execution_count": null,
   "metadata": {},
   "outputs": [],
   "source": [
    "#avg = ultra[\"month_fee\"].sum() / ultra[\"month_fee\"].count()\n",
    "#var = sum((fee - avg)**2 for fee in ultra[\"month_fee\"]) / ultra[\"month_fee\"].count()\n",
    "#print(var)"
   ]
  },
  {
   "cell_type": "code",
   "execution_count": null,
   "metadata": {
    "scrolled": true
   },
   "outputs": [],
   "source": [
    "data[\"city\"].value_counts()"
   ]
  },
  {
   "cell_type": "code",
   "execution_count": null,
   "metadata": {},
   "outputs": [],
   "source": [
    "alpha = 0.05 # критический уровень статистической значимости\n",
    "# если p-value окажется меньше него - отвегнем гипотезу\n",
    "\n",
    "results = st.ttest_ind(\n",
    "    data[data[\"city\"]== 'Москва'][\"month_fee\"], \n",
    "    data[data[\"city\"]!= 'Москва'][\"month_fee\"],\n",
    "    equal_var = False)\n",
    "\n",
    "print('p-значение: ', results.pvalue)\n",
    "\n",
    "if results.pvalue < alpha:\n",
    "    print(\"Отвергаем нулевую гипотезу\")\n",
    "else:\n",
    "    print(\"Не получилось отвергнуть нулевую гипотезу\") "
   ]
  },
  {
   "cell_type": "code",
   "execution_count": null,
   "metadata": {},
   "outputs": [],
   "source": [
    "results"
   ]
  },
  {
   "cell_type": "code",
   "execution_count": null,
   "metadata": {},
   "outputs": [],
   "source": [
    "data[data[\"city\"]== 'Москва'].describe()"
   ]
  },
  {
   "cell_type": "code",
   "execution_count": null,
   "metadata": {},
   "outputs": [],
   "source": [
    "data[data[\"city\"]!= 'Москва'].describe()"
   ]
  },
  {
   "cell_type": "markdown",
   "metadata": {},
   "source": [
    "Как мы видим в таблицах, выыведенных методом  describe, Среднее значение ежемесячного платежа действительно очень близко по Маскве и остальной России, но теперь мы можем подтвердить, что этот вывод статистически достоверен."
   ]
  },
  {
   "cell_type": "code",
   "execution_count": null,
   "metadata": {},
   "outputs": [],
   "source": [
    "ax = (data[data[\"city\"]== 'Москва'].pivot_table(index='month', \n",
    "                                       values='month_fee', \n",
    "                                       aggfunc='mean').plot(\n",
    "        kind='hist',\n",
    "        y='month_fee',\n",
    "        \n",
    "        histtype='step',\n",
    "        linewidth=3,\n",
    "        legend=True,\n",
    "        label='Москва',\n",
    "        figsize = (12,12)\n",
    "    )\n",
    ")\n",
    "data[data[\"city\"]!= 'Москва'].pivot_table(index='month', \n",
    "                                       values='month_fee', \n",
    "                                       aggfunc='mean').plot(\n",
    "        kind='hist',\n",
    "        y='month_fee',\n",
    "        ax=ax,\n",
    "        alpha=0.5,\n",
    "        legend=True,\n",
    "        label='Россия без Мск',\n",
    "        title='Сравнение платежей по Москве и регионам',\n",
    "    )\n"
   ]
  },
  {
   "cell_type": "markdown",
   "metadata": {},
   "source": [
    "И график сравнения средних платежей по Москве и регионам без Москвы также демонстрирует нам близость показателей."
   ]
  },
  {
   "cell_type": "markdown",
   "metadata": {},
   "source": [
    "### Cредняя потребление интернета пользователем до 30 лет отличается от потребления людей пенсионного возраста."
   ]
  },
  {
   "cell_type": "markdown",
   "metadata": {},
   "source": [
    "Не удержалась - просто любопытно"
   ]
  },
  {
   "cell_type": "code",
   "execution_count": null,
   "metadata": {},
   "outputs": [],
   "source": [
    "young = data.query('age <= 30 ')\n",
    "old = data.query('60< age')\n",
    "middle = data.query('30< age <= 60 ')"
   ]
  },
  {
   "cell_type": "code",
   "execution_count": null,
   "metadata": {},
   "outputs": [],
   "source": [
    "print(f'Потребление пользователями интернета всего: до 30 лет - {young[\"gb_used\"].sum()}, 30-55  - {middle[\"gb_used\"].sum()}, старше 55 - {old[\"gb_used\"].sum()}')"
   ]
  },
  {
   "cell_type": "markdown",
   "metadata": {},
   "source": [
    "И вышло неинформативно, нужно среднее считать:"
   ]
  },
  {
   "cell_type": "code",
   "execution_count": null,
   "metadata": {},
   "outputs": [],
   "source": [
    "print(f'Потребление пользователями интернета: до 30 лет - {young[\"gb_used\"].mean()}, 30-55 -  {middle[\"gb_used\"].mean()}, старше 55 - {old[\"gb_used\"].mean()}')"
   ]
  },
  {
   "cell_type": "markdown",
   "metadata": {},
   "source": [
    "Различия не слишком велики, на вид - даже одинаково. А кто чаще выходит за лимит? Посчитаем в группах"
   ]
  },
  {
   "cell_type": "code",
   "execution_count": null,
   "metadata": {},
   "outputs": [],
   "source": [
    "print(f'Потребление пользователями интернета сверх лимита 30Гб: до 30 лет - {young[young[\"gb_used\"] >=30][\"gb_used\"].count()}, 30-55 -  {middle[middle[\"gb_used\"] >=30][\"gb_used\"].count()}, старше 55 - { old[old[\"gb_used\"] >=30][\"gb_used\"].count()} всего')"
   ]
  },
  {
   "cell_type": "markdown",
   "metadata": {},
   "source": [
    "Юные пользователи чаще выходят из лимита по интернет-трафику. "
   ]
  },
  {
   "cell_type": "markdown",
   "metadata": {},
   "source": [
    "## Вывод"
   ]
  },
  {
   "cell_type": "markdown",
   "metadata": {},
   "source": [
    "В настоящем проекте мы провели анализ тарифов на небольшой выборке клиентов. У нас собраны данные 500 пользователей «Мегалайна»: кто они, откуда, каким тарифом пользуются, сколько звонков и сообщений каждый отправил за 2018 год. Мы анализировали поведение клиентов, чтобы определить, какой тариф лучше.  Коммерческий департамент определил параметр «лучше» как **«какой тариф приносит больше денег?»**.\n",
    "Мы получили ряд таблиц, в которых содержались данные о пользователях и потребляемых ими пакетах услуг (звонки, смс, интернет). Данные пользователя включали в себя параметры для последующей группировки — возраст пользователя (годы), город проживания пользователя, название тарифного плана.\n",
    "Таблица users содержит пропуски в столбце churn_date. Эти пропуски объяснимы, поскольку незаполненное значение обозначает, что тариф действовал на момент создания файла. Явных дубликатов не обнаружено. Так как каждому пользователю присвоен свой id и они не повторяются, вероятность того, что пользователи уникальны.\n",
    "Во всех таблицах данные в столбце с датами были отображены как строки. Мы изменили тип данных.\n",
    "Мы проверили, данные по всем ли пользователям содержат только данные текущего (2018) года. Для обработки произведена консолидация и  создана сводная таблица данных по тарифам. \n",
    "До сведения проверены столбцы со сводимыми данными, на предмет экстраординарных значений, чтобы не утратить их  после группировки.\n",
    "Проверка значений интернет трафика показала, что есть очень высокое количество нулевых значений. Количество следующих соединений - до 1 мб имеет нормальный размер. Составитель данных ничего не сказал по поводу этих значений (в отличие от звонков, где нулевыми значениями являются пропущенные звонки). Возможно, здесь нулевые значения - это попытки установки соединения, не увенчавшиеся успехом. Сделать пометку в отчете, не нужна ли тарификация. Удалять эти значения не было необходимости, при объединении данных они исчезли.\n",
    "Таблица доходов по месяцам и построенная на ее основе гистограмма распределения доходов выявила 2 пика, на 550 и на 1950 руб, оба связаны с наличием абонентов, которым хватает заложенных в тарифе пакетов минут, звонков и интернета.\n",
    "Для оценки эффективности выручки на альтернативном тарифе для пользователей добавлен столбец с другим, противоположным тарифом.\n",
    " Задачей нашего анализа является ответ на вопрос \"какой тариф приносит больше денег\" для коммерческого департамента. По совокупности потребляемых пакетов услуг (звонки, интернет, смс), по сравнению с текущей ситуацией у тарифов есть возможность роста выручки Мегалайн. Проанализируем тарифы подробнее.\n",
    "Тариф смарт выглядит более дешевым для клиента, медианное значение 1019 - против 1950 у пользвателя ультра. Медианное значение отличается от среднего в тарифе смарт сильнее, чем в тарифе ультра.\n",
    "Таблицы, построенные методом describe наглядно показывают, что пользователи тарифов потребляют разное количество пакетов услуг:\n",
    "среднее количество смс по тарифу смарт - 16, ультра - 49,\n",
    "среднее количество минут звонков тарифу смарт - 415, ультра - 524,\n",
    "среднее количество Гб по тарифу смарт - 16, ультра - 19.\n",
    "В тарифе ультра определенно есть запас по пакетам услуг, пользователи, даже на максимуме, не используют всех доступных смс (доступно 1000, использовано макс 224) и минут (доступно 3000, использовано макс 1658), но перерасходуют интернет, с этим и связано увеличение ежемесячной платы сверх тарифа.\n",
    "В тарифе смарт 350 уникальных пользователей генерировали доход компании совокупно 2229 месяцев, т.е.  6.37 месяцев на человека в среднем \n",
    "В тарифе смарт 148 уникальных пользователей генерировали доход компании совокупно 985 месяцев, т.е.  6.66 месяцев на человека в среднем\n",
    "В несмотря на различия в объемах выборок, в среднем каждый человек был подключен к тарифу более 6 месяцев.\n",
    "Мы видим на графике пользователей тарифа смарт, которые уже платят ежемесячно больше, чем по тарифу ультра. Очевидно, что мы не получим больше выручки, если переведем таких пользователей на тариф ультра. А вот все, кто находятся слева от величины 1950 - потенциальные источники большей выручки компании Мегалайн.\n",
    "Хотя разброс по тарифу смарт больше, пороговое знаяение стартового платежа в тарифе ультра - выше, а значит, можно попробовать воздействовать (обзвон, реклама, смс с предложениями) на группу клиентов, чей платеж выше 1500 рублей, но ниже 1950 рублей с целью склонить их к переходу на тариф ультра. Мотивацией для клиента может стать то, что клиенты смогут свободнее пользоваться услугами связи (мы видим, что в среднем пользователи тарифа ультра тратят больше минут за месяц, отправляют больше смс и тратят больше Гб интернета. Те, кто приближаются к ним  по расходам могут счесть более выгодным расширение бесплатного пакета услуг. При наличии отклика и эффективности рекламной кампании - можно расширить ее на клиентов от 1200 до 1950 рублей). В качестве бонуса - предложить скидку в первые три месяца и возможность вернуться обратно на тариф смарт.\n",
    "Как мы видим, альтернативный тариф (ультра вместо смарт) по таким клиентам (смарт с платежом от 1500 до 1950 р.)  может принести компании Мегалайн дополнительную выручку 74750 рублей\n",
    "Так же можно оценить потенциал следующего сегмента пользователей тарифа смарт - с платой от 1200 до 1500 рублей в месяц\n",
    "119315\n",
    "Однако, чем меньше ежемесячный платеж, чем он дальше от 1950 рублей - тем меньше мотивация пользователя переходить на дорогостоящий тариф. И, наконец, важно  не затрагивать пользователей тарифа смарт, которые тратят в месяц более 1950 рублей, поскольку их переход на тариф ультра уменьшит выручку компании Мегалайн:\n",
    "Однако, чем меньше ежемесячный платеж, чем он дальше от 1950 рублей - тем меньше мотивация пользователя переходить на дорогостоящий тариф. И, наконец, важно  не затрагивать пользователей тарифа смарт, которые тратят в месяц более 1950 рублей, поскольку их переход на тариф ультра уменьшит выручку компании Мегалайн. Переход пользователей тарифа смарт, которые тратят в месяц более 1950 рублей, на тариф ультра уменьшил бы выручку компании Мегалайн на 280753. Этих пользователей нужно беречь от сомнений в выгодности текущего тарифа, пока они сами не догадались.\n",
    "Рекомендации коммерческому отделу:\n",
    "Рекламная компания 1 по сегментам пользователей с предложением входной платы со скидкой, чтобы вышло чуть выше текущего платежа.\n",
    " \n",
    "Проверена гипотеза « Cредняя выручка пользователей тарифов «Ультра» и «Смарт» различаются».\n",
    "\n",
    "Мы сравнили выборки для того, чтобы понять как отличается их среднее. Наши выборки достаточно большие для проведения статистического теста на равенство среднего совокупности некоторому числу.\n",
    "В нулевой гипотезе мы предполагаем равенство сравниваемых средних двух совокупностей, то есть что средняя выручка пользователей тарифов «Ультра» и «Смарт» равна. Выбираем двустороннюю альтернативную гипотезу, так как мы не знаем, увеличится или уменьшится среднее. Если необходимо проверить равенство средних двух независимых совокупностей, то используется функция stats.ttest_ind.\n",
    "Так как выборки у нас разного размера и есть сомнения, что дисперсии у совокупностей одинаковые, при проверки гипотезы t-тестом установим параметр equal_var как False, чтобы тест посчитал дисперсии выборок по отдельности.\n",
    "p-значение:  1.3593717550493466e-252\n",
    "Отвергаем нулевую гипотезу о равенстве, средняя выручка пользователей тарифов «Ультра» и «Смарт» различается\n",
    "\n",
    "Проверена гипотеза «средняя выручка пользователи из Москвы отличается от выручки пользователей из других регионов».\n",
    "В нулевой гипотезе мы предполагаем равенство сравниваемых средних двух совокупностей, то есть что средняя выручка пользователей из Москвы и из других регионов равны. Выбираем двустороннюю альтернативную гипотезу, так как мы не знаем, увеличится или уменьшится среднее. Для проверки равенства средних двух независимых совокупностей используем функцию stats.ttest_ind. \n",
    "параметр equal_var как False\n",
    "Так как выборки у нас разного размера или есть сомнения, что дисперсии у совокупностей одинаковые, при проверки гипотезы t-тестом установим  параметр equal_var как False, чтобы тест посчитал дисперсии выборок по отдельности.\n",
    "p-значение:  1.359, отвергаем нулевую гипотезу. Средние наших совокупностей не равны. Собственно, так как массивы небольшие, мы подсчитали среднее раньше в таблице выше: по тарифу смарт среднее  значение 1286.5, по тарифу ультра - 2070.2.\n",
    "p-значение:  0.5196928172848265\n",
    "Не получилось отвергнуть нулевую гипотезу. То есть средняя выручка пользователей тарифов «Ультра» и «Смарт» не различается\n",
    "Графически также подтверждается, что среднее значение ежемесячного платежа действительно очень близко по Маскве - 1544. и остальной России - 1522, но теперь мы можем подтвердить, что этот вывод статистически достоверен.\n",
    "\n",
    "Предлагаю зачислить меня в аналитический отдел компании Мегалайн, и  мы придумаем много вариантов как принести пользу пользователям и увеличить доходы компании.\n",
    "\n"
   ]
  },
  {
   "cell_type": "markdown",
   "metadata": {},
   "source": [
    "- [x]  открыт файл\n",
    "- [x]  файлы изучены (выведены первые строки, метод info())\n",
    "- [x]  определены пропущенные значения\n",
    "- [x]  заполнены пропущенные значения\n",
    "- [x]  есть пояснение, какие пропущенные значения обнаружены\n",
    "- [x]  изменены типы данных\n",
    "- [x]  есть пояснение, в каких столбцах изменены типы и почему\n",
    "- [x]  Посчитано для каждого пользователя:количество сделанных звонков и израсходованных минут разговора по месяцам; количество отправленных сообщений по месяцам; объем израсходованного интернет-трафика по месяцам;\n",
    "- [x]  помесячную выручку с каждого пользователя (вычтите бесплатный лимит из суммарного количества звонков, сообщений и интернет-трафика; остаток умножьте на значение из тарифного плана; прибавьте абонентскую плату, соответствующую тарифному плану)\n",
    "- [x]  посчитано и добавлено в таблицу: ежемесячный платеж по тарифу ля каждого пользователя за каждый месяц\n",
    "- [x]  построены гистограммы для пояснений\n",
    "- [x]  выполнено задание: \"Опишите поведение клиентов оператора, исходя из выборки\"\n",
    "- [x]  выполнено задание: \"Посчитайте среднее количество, дисперсию и стандартное отклонение\"\n",
    "- [x]  Проверьте гипотезы •\tсредняя выручка пользователей тарифов «Ультра» и «Смарт» различаются; •\tсредняя выручка пользователи из Москвы отличается от выручки пользователей из других регионов\n",
    "- [x]  в каждом этапе есть выводы\n",
    "- [x]  есть общий вывод"
   ]
  }
 ],
 "metadata": {
  "ExecuteTimeLog": [
   {
    "duration": 96,
    "start_time": "2022-01-31T11:33:52.298Z"
   },
   {
    "duration": 1193,
    "start_time": "2022-01-31T11:34:30.992Z"
   },
   {
    "duration": 38,
    "start_time": "2022-01-31T11:34:51.333Z"
   },
   {
    "duration": 273,
    "start_time": "2022-01-31T14:53:40.000Z"
   },
   {
    "duration": 1668,
    "start_time": "2022-01-31T14:53:47.406Z"
   },
   {
    "duration": 8,
    "start_time": "2022-01-31T14:53:52.949Z"
   },
   {
    "duration": 17,
    "start_time": "2022-01-31T14:54:01.383Z"
   },
   {
    "duration": 203,
    "start_time": "2022-01-31T15:03:51.982Z"
   },
   {
    "duration": 182,
    "start_time": "2022-01-31T15:04:01.398Z"
   },
   {
    "duration": 24,
    "start_time": "2022-01-31T15:06:01.295Z"
   },
   {
    "duration": 29,
    "start_time": "2022-01-31T15:06:08.164Z"
   },
   {
    "duration": 146,
    "start_time": "2022-01-31T15:10:03.228Z"
   },
   {
    "duration": 154,
    "start_time": "2022-01-31T15:10:09.553Z"
   },
   {
    "duration": 20,
    "start_time": "2022-01-31T15:10:13.217Z"
   },
   {
    "duration": 30,
    "start_time": "2022-01-31T15:10:17.799Z"
   },
   {
    "duration": 9,
    "start_time": "2022-01-31T15:11:08.798Z"
   },
   {
    "duration": 9,
    "start_time": "2022-01-31T15:11:22.993Z"
   },
   {
    "duration": 9,
    "start_time": "2022-01-31T15:11:49.828Z"
   },
   {
    "duration": 38,
    "start_time": "2022-01-31T20:11:53.072Z"
   },
   {
    "duration": 7,
    "start_time": "2022-01-31T20:11:53.112Z"
   },
   {
    "duration": 20,
    "start_time": "2022-01-31T20:11:53.121Z"
   },
   {
    "duration": 8,
    "start_time": "2022-01-31T20:11:53.144Z"
   },
   {
    "duration": 194,
    "start_time": "2022-01-31T20:11:53.154Z"
   },
   {
    "duration": 23,
    "start_time": "2022-01-31T20:11:53.350Z"
   },
   {
    "duration": 45,
    "start_time": "2022-01-31T20:11:53.375Z"
   },
   {
    "duration": 139,
    "start_time": "2022-01-31T20:11:53.422Z"
   },
   {
    "duration": 18,
    "start_time": "2022-01-31T20:11:53.564Z"
   },
   {
    "duration": 41,
    "start_time": "2022-01-31T20:11:53.584Z"
   },
   {
    "duration": 88,
    "start_time": "2022-01-31T20:11:53.627Z"
   },
   {
    "duration": 68,
    "start_time": "2022-01-31T20:11:53.716Z"
   },
   {
    "duration": 27,
    "start_time": "2022-01-31T20:11:53.759Z"
   },
   {
    "duration": 10,
    "start_time": "2022-01-31T20:12:00.336Z"
   },
   {
    "duration": 106,
    "start_time": "2022-01-31T20:12:17.639Z"
   },
   {
    "duration": 16,
    "start_time": "2022-01-31T20:12:19.702Z"
   },
   {
    "duration": 39,
    "start_time": "2022-01-31T20:23:57.509Z"
   },
   {
    "duration": 10,
    "start_time": "2022-01-31T20:23:57.550Z"
   },
   {
    "duration": 40,
    "start_time": "2022-01-31T20:23:57.563Z"
   },
   {
    "duration": 12,
    "start_time": "2022-01-31T20:23:57.606Z"
   },
   {
    "duration": 198,
    "start_time": "2022-01-31T20:23:57.620Z"
   },
   {
    "duration": 27,
    "start_time": "2022-01-31T20:23:57.821Z"
   },
   {
    "duration": 46,
    "start_time": "2022-01-31T20:23:57.850Z"
   },
   {
    "duration": 196,
    "start_time": "2022-01-31T20:23:57.908Z"
   },
   {
    "duration": 24,
    "start_time": "2022-01-31T20:23:58.108Z"
   },
   {
    "duration": 34,
    "start_time": "2022-01-31T20:23:58.135Z"
   },
   {
    "duration": 121,
    "start_time": "2022-01-31T20:23:58.172Z"
   },
   {
    "duration": 28,
    "start_time": "2022-01-31T20:23:58.296Z"
   },
   {
    "duration": 18,
    "start_time": "2022-01-31T20:23:58.326Z"
   },
   {
    "duration": 75,
    "start_time": "2022-01-31T20:23:58.346Z"
   },
   {
    "duration": 75,
    "start_time": "2022-01-31T20:23:58.348Z"
   },
   {
    "duration": 71,
    "start_time": "2022-01-31T20:24:21.320Z"
   },
   {
    "duration": 25,
    "start_time": "2022-01-31T20:24:28.516Z"
   },
   {
    "duration": 598,
    "start_time": "2022-01-31T20:24:36.383Z"
   },
   {
    "duration": 794,
    "start_time": "2022-01-31T20:25:38.334Z"
   },
   {
    "duration": 6,
    "start_time": "2022-01-31T20:26:07.715Z"
   },
   {
    "duration": 14,
    "start_time": "2022-01-31T20:29:02.612Z"
   },
   {
    "duration": 12,
    "start_time": "2022-01-31T20:29:37.628Z"
   },
   {
    "duration": 38,
    "start_time": "2022-01-31T20:30:22.141Z"
   },
   {
    "duration": 7,
    "start_time": "2022-01-31T20:30:22.181Z"
   },
   {
    "duration": 19,
    "start_time": "2022-01-31T20:30:22.191Z"
   },
   {
    "duration": 12,
    "start_time": "2022-01-31T20:30:22.212Z"
   },
   {
    "duration": 164,
    "start_time": "2022-01-31T20:30:22.226Z"
   },
   {
    "duration": 21,
    "start_time": "2022-01-31T20:30:22.392Z"
   },
   {
    "duration": 30,
    "start_time": "2022-01-31T20:30:22.415Z"
   },
   {
    "duration": 151,
    "start_time": "2022-01-31T20:30:22.447Z"
   },
   {
    "duration": 22,
    "start_time": "2022-01-31T20:30:22.601Z"
   },
   {
    "duration": 35,
    "start_time": "2022-01-31T20:30:22.625Z"
   },
   {
    "duration": 109,
    "start_time": "2022-01-31T20:30:22.662Z"
   },
   {
    "duration": 16,
    "start_time": "2022-01-31T20:30:22.772Z"
   },
   {
    "duration": 30,
    "start_time": "2022-01-31T20:30:22.789Z"
   },
   {
    "duration": 26,
    "start_time": "2022-01-31T20:30:22.821Z"
   },
   {
    "duration": 11,
    "start_time": "2022-01-31T20:30:36.437Z"
   },
   {
    "duration": 11,
    "start_time": "2022-01-31T20:31:20.518Z"
   },
   {
    "duration": 378,
    "start_time": "2022-01-31T20:32:36.152Z"
   },
   {
    "duration": 17,
    "start_time": "2022-01-31T20:33:01.881Z"
   },
   {
    "duration": 12,
    "start_time": "2022-01-31T20:53:30.773Z"
   },
   {
    "duration": 23,
    "start_time": "2022-01-31T20:53:46.828Z"
   },
   {
    "duration": 38,
    "start_time": "2022-01-31T20:54:38.223Z"
   },
   {
    "duration": 13,
    "start_time": "2022-01-31T20:54:38.263Z"
   },
   {
    "duration": 35,
    "start_time": "2022-01-31T20:54:38.279Z"
   },
   {
    "duration": 16,
    "start_time": "2022-01-31T20:54:38.316Z"
   },
   {
    "duration": 177,
    "start_time": "2022-01-31T20:54:38.334Z"
   },
   {
    "duration": 21,
    "start_time": "2022-01-31T20:54:38.513Z"
   },
   {
    "duration": 37,
    "start_time": "2022-01-31T20:54:38.536Z"
   },
   {
    "duration": 158,
    "start_time": "2022-01-31T20:54:38.574Z"
   },
   {
    "duration": 18,
    "start_time": "2022-01-31T20:54:38.735Z"
   },
   {
    "duration": 53,
    "start_time": "2022-01-31T20:54:38.755Z"
   },
   {
    "duration": 101,
    "start_time": "2022-01-31T20:54:38.810Z"
   },
   {
    "duration": 16,
    "start_time": "2022-01-31T20:54:38.913Z"
   },
   {
    "duration": 23,
    "start_time": "2022-01-31T20:54:38.931Z"
   },
   {
    "duration": 25,
    "start_time": "2022-01-31T20:54:38.956Z"
   },
   {
    "duration": 67,
    "start_time": "2022-01-31T20:54:38.983Z"
   },
   {
    "duration": 58,
    "start_time": "2022-01-31T20:59:09.205Z"
   },
   {
    "duration": 228,
    "start_time": "2022-01-31T20:59:52.422Z"
   },
   {
    "duration": 66,
    "start_time": "2022-01-31T21:02:48.290Z"
   },
   {
    "duration": 13,
    "start_time": "2022-01-31T21:03:56.641Z"
   },
   {
    "duration": 39,
    "start_time": "2022-01-31T21:28:44.710Z"
   },
   {
    "duration": 7,
    "start_time": "2022-01-31T21:28:44.751Z"
   },
   {
    "duration": 35,
    "start_time": "2022-01-31T21:28:44.760Z"
   },
   {
    "duration": 22,
    "start_time": "2022-01-31T21:28:44.797Z"
   },
   {
    "duration": 185,
    "start_time": "2022-01-31T21:28:44.821Z"
   },
   {
    "duration": 23,
    "start_time": "2022-01-31T21:28:45.009Z"
   },
   {
    "duration": 48,
    "start_time": "2022-01-31T21:28:45.034Z"
   },
   {
    "duration": 142,
    "start_time": "2022-01-31T21:28:45.085Z"
   },
   {
    "duration": 18,
    "start_time": "2022-01-31T21:28:45.229Z"
   },
   {
    "duration": 30,
    "start_time": "2022-01-31T21:28:45.249Z"
   },
   {
    "duration": 104,
    "start_time": "2022-01-31T21:28:45.281Z"
   },
   {
    "duration": 25,
    "start_time": "2022-01-31T21:28:45.387Z"
   },
   {
    "duration": 14,
    "start_time": "2022-01-31T21:28:45.414Z"
   },
   {
    "duration": 30,
    "start_time": "2022-01-31T21:28:45.430Z"
   },
   {
    "duration": 81,
    "start_time": "2022-01-31T21:28:45.462Z"
   },
   {
    "duration": 10,
    "start_time": "2022-01-31T21:28:45.545Z"
   },
   {
    "duration": 10,
    "start_time": "2022-01-31T21:30:25.422Z"
   },
   {
    "duration": 11,
    "start_time": "2022-01-31T21:31:56.506Z"
   },
   {
    "duration": 11,
    "start_time": "2022-01-31T21:33:41.239Z"
   },
   {
    "duration": 10,
    "start_time": "2022-01-31T21:34:04.050Z"
   },
   {
    "duration": 1092,
    "start_time": "2022-02-01T09:31:33.257Z"
   },
   {
    "duration": 6,
    "start_time": "2022-02-01T09:31:34.351Z"
   },
   {
    "duration": 15,
    "start_time": "2022-02-01T09:31:34.359Z"
   },
   {
    "duration": 8,
    "start_time": "2022-02-01T09:31:34.376Z"
   },
   {
    "duration": 143,
    "start_time": "2022-02-01T09:31:34.385Z"
   },
   {
    "duration": 19,
    "start_time": "2022-02-01T09:31:34.529Z"
   },
   {
    "duration": 36,
    "start_time": "2022-02-01T09:31:34.549Z"
   },
   {
    "duration": 120,
    "start_time": "2022-02-01T09:31:34.587Z"
   },
   {
    "duration": 16,
    "start_time": "2022-02-01T09:31:34.709Z"
   },
   {
    "duration": 24,
    "start_time": "2022-02-01T09:31:34.727Z"
   },
   {
    "duration": 88,
    "start_time": "2022-02-01T09:31:34.753Z"
   },
   {
    "duration": 13,
    "start_time": "2022-02-01T09:31:34.843Z"
   },
   {
    "duration": 26,
    "start_time": "2022-02-01T09:31:34.858Z"
   },
   {
    "duration": 21,
    "start_time": "2022-02-01T09:31:34.885Z"
   },
   {
    "duration": 57,
    "start_time": "2022-02-01T09:31:34.908Z"
   },
   {
    "duration": 8,
    "start_time": "2022-02-01T09:31:34.972Z"
   },
   {
    "duration": 9,
    "start_time": "2022-02-01T09:31:34.981Z"
   },
   {
    "duration": 9,
    "start_time": "2022-02-01T09:31:39.727Z"
   },
   {
    "duration": 10,
    "start_time": "2022-02-01T09:31:40.445Z"
   },
   {
    "duration": 6,
    "start_time": "2022-02-01T09:33:10.012Z"
   },
   {
    "duration": 387,
    "start_time": "2022-02-01T09:33:46.686Z"
   },
   {
    "duration": 8,
    "start_time": "2022-02-01T09:34:52.522Z"
   },
   {
    "duration": 3,
    "start_time": "2022-02-01T09:37:08.599Z"
   },
   {
    "duration": 10,
    "start_time": "2022-02-01T09:37:20.659Z"
   },
   {
    "duration": 46,
    "start_time": "2022-02-01T09:37:36.600Z"
   },
   {
    "duration": 5,
    "start_time": "2022-02-01T09:37:36.648Z"
   },
   {
    "duration": 14,
    "start_time": "2022-02-01T09:37:36.655Z"
   },
   {
    "duration": 8,
    "start_time": "2022-02-01T09:37:36.672Z"
   },
   {
    "duration": 138,
    "start_time": "2022-02-01T09:37:36.682Z"
   },
   {
    "duration": 20,
    "start_time": "2022-02-01T09:37:36.822Z"
   },
   {
    "duration": 45,
    "start_time": "2022-02-01T09:37:36.844Z"
   },
   {
    "duration": 119,
    "start_time": "2022-02-01T09:37:36.892Z"
   },
   {
    "duration": 15,
    "start_time": "2022-02-01T09:37:37.013Z"
   },
   {
    "duration": 24,
    "start_time": "2022-02-01T09:37:37.029Z"
   },
   {
    "duration": 98,
    "start_time": "2022-02-01T09:37:37.054Z"
   },
   {
    "duration": 17,
    "start_time": "2022-02-01T09:37:37.154Z"
   },
   {
    "duration": 19,
    "start_time": "2022-02-01T09:37:37.173Z"
   },
   {
    "duration": 24,
    "start_time": "2022-02-01T09:37:37.194Z"
   },
   {
    "duration": 77,
    "start_time": "2022-02-01T09:37:37.220Z"
   },
   {
    "duration": 8,
    "start_time": "2022-02-01T09:37:37.299Z"
   },
   {
    "duration": 10,
    "start_time": "2022-02-01T09:37:37.308Z"
   },
   {
    "duration": 13,
    "start_time": "2022-02-01T09:37:37.319Z"
   },
   {
    "duration": 11,
    "start_time": "2022-02-01T09:37:37.334Z"
   },
   {
    "duration": 11,
    "start_time": "2022-02-01T09:37:37.347Z"
   },
   {
    "duration": 20,
    "start_time": "2022-02-01T09:37:37.359Z"
   },
   {
    "duration": 7,
    "start_time": "2022-02-01T09:38:57.720Z"
   },
   {
    "duration": 3,
    "start_time": "2022-02-01T09:40:47.860Z"
   },
   {
    "duration": 6,
    "start_time": "2022-02-01T09:40:59.894Z"
   },
   {
    "duration": 6,
    "start_time": "2022-02-01T09:41:52.811Z"
   },
   {
    "duration": 49,
    "start_time": "2022-02-01T09:42:33.693Z"
   },
   {
    "duration": 7,
    "start_time": "2022-02-01T09:42:36.980Z"
   },
   {
    "duration": 2884,
    "start_time": "2022-02-01T09:57:37.273Z"
   },
   {
    "duration": 9,
    "start_time": "2022-02-01T10:06:19.788Z"
   },
   {
    "duration": 45,
    "start_time": "2022-02-01T10:06:28.011Z"
   },
   {
    "duration": 6,
    "start_time": "2022-02-01T10:06:28.058Z"
   },
   {
    "duration": 18,
    "start_time": "2022-02-01T10:06:28.065Z"
   },
   {
    "duration": 9,
    "start_time": "2022-02-01T10:06:28.086Z"
   },
   {
    "duration": 147,
    "start_time": "2022-02-01T10:06:28.097Z"
   },
   {
    "duration": 27,
    "start_time": "2022-02-01T10:06:28.245Z"
   },
   {
    "duration": 29,
    "start_time": "2022-02-01T10:06:28.274Z"
   },
   {
    "duration": 135,
    "start_time": "2022-02-01T10:06:28.305Z"
   },
   {
    "duration": 16,
    "start_time": "2022-02-01T10:06:28.443Z"
   },
   {
    "duration": 41,
    "start_time": "2022-02-01T10:06:28.461Z"
   },
   {
    "duration": 91,
    "start_time": "2022-02-01T10:06:28.504Z"
   },
   {
    "duration": 13,
    "start_time": "2022-02-01T10:06:28.596Z"
   },
   {
    "duration": 13,
    "start_time": "2022-02-01T10:06:28.611Z"
   },
   {
    "duration": 21,
    "start_time": "2022-02-01T10:06:28.626Z"
   },
   {
    "duration": 83,
    "start_time": "2022-02-01T10:06:28.648Z"
   },
   {
    "duration": 2,
    "start_time": "2022-02-01T10:06:28.732Z"
   },
   {
    "duration": 7,
    "start_time": "2022-02-01T10:07:03.097Z"
   },
   {
    "duration": 66,
    "start_time": "2022-02-01T10:07:20.790Z"
   },
   {
    "duration": 52,
    "start_time": "2022-02-01T10:07:28.853Z"
   },
   {
    "duration": 40,
    "start_time": "2022-02-01T10:07:29.889Z"
   },
   {
    "duration": 11,
    "start_time": "2022-02-01T10:11:04.993Z"
   },
   {
    "duration": 13,
    "start_time": "2022-02-01T10:11:28.253Z"
   },
   {
    "duration": 8,
    "start_time": "2022-02-01T10:11:43.355Z"
   },
   {
    "duration": 13,
    "start_time": "2022-02-01T10:15:04.136Z"
   },
   {
    "duration": 5,
    "start_time": "2022-02-01T10:15:24.650Z"
   },
   {
    "duration": 135,
    "start_time": "2022-02-01T10:17:26.294Z"
   },
   {
    "duration": 6,
    "start_time": "2022-02-01T10:18:04.126Z"
   },
   {
    "duration": 6,
    "start_time": "2022-02-01T10:18:09.946Z"
   },
   {
    "duration": 35,
    "start_time": "2022-02-01T10:18:16.438Z"
   },
   {
    "duration": 5,
    "start_time": "2022-02-01T10:18:16.475Z"
   },
   {
    "duration": 13,
    "start_time": "2022-02-01T10:18:16.482Z"
   },
   {
    "duration": 7,
    "start_time": "2022-02-01T10:18:16.496Z"
   },
   {
    "duration": 136,
    "start_time": "2022-02-01T10:18:16.504Z"
   },
   {
    "duration": 18,
    "start_time": "2022-02-01T10:18:16.641Z"
   },
   {
    "duration": 31,
    "start_time": "2022-02-01T10:18:16.661Z"
   },
   {
    "duration": 115,
    "start_time": "2022-02-01T10:18:16.693Z"
   },
   {
    "duration": 17,
    "start_time": "2022-02-01T10:18:16.810Z"
   },
   {
    "duration": 26,
    "start_time": "2022-02-01T10:18:16.828Z"
   },
   {
    "duration": 88,
    "start_time": "2022-02-01T10:18:16.872Z"
   },
   {
    "duration": 13,
    "start_time": "2022-02-01T10:18:16.961Z"
   },
   {
    "duration": 13,
    "start_time": "2022-02-01T10:18:16.976Z"
   },
   {
    "duration": 21,
    "start_time": "2022-02-01T10:18:16.990Z"
   },
   {
    "duration": 69,
    "start_time": "2022-02-01T10:18:17.013Z"
   },
   {
    "duration": 105,
    "start_time": "2022-02-01T10:18:17.083Z"
   },
   {
    "duration": 357,
    "start_time": "2022-02-01T10:18:16.833Z"
   },
   {
    "duration": 6,
    "start_time": "2022-02-01T10:18:25.872Z"
   },
   {
    "duration": 49,
    "start_time": "2022-02-01T10:22:19.349Z"
   },
   {
    "duration": 58,
    "start_time": "2022-02-01T10:23:03.214Z"
   },
   {
    "duration": 21,
    "start_time": "2022-02-01T10:23:41.400Z"
   },
   {
    "duration": 7,
    "start_time": "2022-02-01T10:24:42.905Z"
   },
   {
    "duration": 51,
    "start_time": "2022-02-01T10:25:09.531Z"
   },
   {
    "duration": 8,
    "start_time": "2022-02-01T10:25:09.584Z"
   },
   {
    "duration": 13,
    "start_time": "2022-02-01T10:25:09.594Z"
   },
   {
    "duration": 7,
    "start_time": "2022-02-01T10:25:09.609Z"
   },
   {
    "duration": 156,
    "start_time": "2022-02-01T10:25:09.618Z"
   },
   {
    "duration": 25,
    "start_time": "2022-02-01T10:25:09.776Z"
   },
   {
    "duration": 24,
    "start_time": "2022-02-01T10:25:09.802Z"
   },
   {
    "duration": 137,
    "start_time": "2022-02-01T10:25:09.828Z"
   },
   {
    "duration": 25,
    "start_time": "2022-02-01T10:25:09.967Z"
   },
   {
    "duration": 25,
    "start_time": "2022-02-01T10:25:09.994Z"
   },
   {
    "duration": 100,
    "start_time": "2022-02-01T10:25:10.021Z"
   },
   {
    "duration": 12,
    "start_time": "2022-02-01T10:25:10.123Z"
   },
   {
    "duration": 12,
    "start_time": "2022-02-01T10:25:10.137Z"
   },
   {
    "duration": 29,
    "start_time": "2022-02-01T10:25:10.150Z"
   },
   {
    "duration": 68,
    "start_time": "2022-02-01T10:25:10.180Z"
   },
   {
    "duration": 22,
    "start_time": "2022-02-01T10:25:10.250Z"
   },
   {
    "duration": 84,
    "start_time": "2022-02-01T10:25:10.274Z"
   },
   {
    "duration": 358,
    "start_time": "2022-02-01T10:25:10.002Z"
   },
   {
    "duration": 358,
    "start_time": "2022-02-01T10:25:10.004Z"
   },
   {
    "duration": 7,
    "start_time": "2022-02-01T10:25:22.749Z"
   },
   {
    "duration": 52,
    "start_time": "2022-02-01T10:25:28.039Z"
   },
   {
    "duration": 50,
    "start_time": "2022-02-01T10:25:29.396Z"
   },
   {
    "duration": 39,
    "start_time": "2022-02-01T10:26:49.572Z"
   },
   {
    "duration": 43,
    "start_time": "2022-02-01T10:27:34.701Z"
   },
   {
    "duration": 32,
    "start_time": "2022-02-01T10:29:19.018Z"
   },
   {
    "duration": 38,
    "start_time": "2022-02-01T10:29:24.257Z"
   },
   {
    "duration": 36,
    "start_time": "2022-02-01T10:29:50.198Z"
   },
   {
    "duration": 12,
    "start_time": "2022-02-01T10:29:50.235Z"
   },
   {
    "duration": 26,
    "start_time": "2022-02-01T10:29:50.249Z"
   },
   {
    "duration": 15,
    "start_time": "2022-02-01T10:29:50.277Z"
   },
   {
    "duration": 150,
    "start_time": "2022-02-01T10:29:50.294Z"
   },
   {
    "duration": 30,
    "start_time": "2022-02-01T10:29:50.445Z"
   },
   {
    "duration": 26,
    "start_time": "2022-02-01T10:29:50.477Z"
   },
   {
    "duration": 131,
    "start_time": "2022-02-01T10:29:50.504Z"
   },
   {
    "duration": 16,
    "start_time": "2022-02-01T10:29:50.638Z"
   },
   {
    "duration": 35,
    "start_time": "2022-02-01T10:29:50.655Z"
   },
   {
    "duration": 90,
    "start_time": "2022-02-01T10:29:50.692Z"
   },
   {
    "duration": 22,
    "start_time": "2022-02-01T10:29:50.784Z"
   },
   {
    "duration": 23,
    "start_time": "2022-02-01T10:29:50.808Z"
   },
   {
    "duration": 20,
    "start_time": "2022-02-01T10:29:50.833Z"
   },
   {
    "duration": 79,
    "start_time": "2022-02-01T10:29:50.856Z"
   },
   {
    "duration": 6,
    "start_time": "2022-02-01T10:29:50.937Z"
   },
   {
    "duration": 14,
    "start_time": "2022-02-01T10:29:50.945Z"
   },
   {
    "duration": 66,
    "start_time": "2022-02-01T10:29:50.960Z"
   },
   {
    "duration": 64,
    "start_time": "2022-02-01T10:29:51.028Z"
   },
   {
    "duration": 42,
    "start_time": "2022-02-01T10:29:51.093Z"
   },
   {
    "duration": 54,
    "start_time": "2022-02-01T10:29:51.136Z"
   },
   {
    "duration": 33,
    "start_time": "2022-02-01T10:29:51.192Z"
   },
   {
    "duration": 33,
    "start_time": "2022-02-01T10:29:53.435Z"
   },
   {
    "duration": 34,
    "start_time": "2022-02-01T10:29:54.316Z"
   },
   {
    "duration": 8,
    "start_time": "2022-02-01T10:30:33.429Z"
   },
   {
    "duration": 12,
    "start_time": "2022-02-01T10:30:44.485Z"
   },
   {
    "duration": 9,
    "start_time": "2022-02-01T10:30:45.621Z"
   },
   {
    "duration": 3,
    "start_time": "2022-02-01T10:31:24.894Z"
   },
   {
    "duration": 6,
    "start_time": "2022-02-01T10:31:27.458Z"
   },
   {
    "duration": 15,
    "start_time": "2022-02-01T10:31:42.391Z"
   },
   {
    "duration": 14,
    "start_time": "2022-02-01T10:34:12.697Z"
   },
   {
    "duration": 12,
    "start_time": "2022-02-01T10:36:48.994Z"
   },
   {
    "duration": 357,
    "start_time": "2022-02-01T10:37:44.278Z"
   },
   {
    "duration": 14,
    "start_time": "2022-02-01T10:43:19.662Z"
   },
   {
    "duration": 40,
    "start_time": "2022-02-01T10:44:34.091Z"
   },
   {
    "duration": 8,
    "start_time": "2022-02-01T10:46:17.813Z"
   },
   {
    "duration": 81,
    "start_time": "2022-02-01T10:48:28.056Z"
   },
   {
    "duration": 275,
    "start_time": "2022-02-01T10:48:35.876Z"
   },
   {
    "duration": 8,
    "start_time": "2022-02-01T10:49:32.939Z"
   },
   {
    "duration": 368,
    "start_time": "2022-02-01T10:53:37.371Z"
   },
   {
    "duration": 29,
    "start_time": "2022-02-01T11:04:17.088Z"
   },
   {
    "duration": 279,
    "start_time": "2022-02-01T11:42:19.533Z"
   },
   {
    "duration": 103,
    "start_time": "2022-02-01T11:42:41.557Z"
   },
   {
    "duration": 5,
    "start_time": "2022-02-01T11:42:48.319Z"
   },
   {
    "duration": 4,
    "start_time": "2022-02-01T11:43:25.280Z"
   },
   {
    "duration": 6,
    "start_time": "2022-02-01T11:44:04.144Z"
   },
   {
    "duration": 48,
    "start_time": "2022-02-01T11:44:21.955Z"
   },
   {
    "duration": 9,
    "start_time": "2022-02-01T11:44:22.005Z"
   },
   {
    "duration": 15,
    "start_time": "2022-02-01T11:44:22.016Z"
   },
   {
    "duration": 7,
    "start_time": "2022-02-01T11:44:22.033Z"
   },
   {
    "duration": 153,
    "start_time": "2022-02-01T11:44:22.041Z"
   },
   {
    "duration": 18,
    "start_time": "2022-02-01T11:44:22.195Z"
   },
   {
    "duration": 25,
    "start_time": "2022-02-01T11:44:22.215Z"
   },
   {
    "duration": 118,
    "start_time": "2022-02-01T11:44:22.242Z"
   },
   {
    "duration": 21,
    "start_time": "2022-02-01T11:44:22.361Z"
   },
   {
    "duration": 23,
    "start_time": "2022-02-01T11:44:22.383Z"
   },
   {
    "duration": 85,
    "start_time": "2022-02-01T11:44:22.407Z"
   },
   {
    "duration": 12,
    "start_time": "2022-02-01T11:44:22.494Z"
   },
   {
    "duration": 11,
    "start_time": "2022-02-01T11:44:22.508Z"
   },
   {
    "duration": 20,
    "start_time": "2022-02-01T11:44:22.521Z"
   },
   {
    "duration": 65,
    "start_time": "2022-02-01T11:44:22.542Z"
   },
   {
    "duration": 5,
    "start_time": "2022-02-01T11:44:22.608Z"
   },
   {
    "duration": 11,
    "start_time": "2022-02-01T11:44:22.614Z"
   },
   {
    "duration": 67,
    "start_time": "2022-02-01T11:44:22.627Z"
   },
   {
    "duration": 49,
    "start_time": "2022-02-01T11:44:22.696Z"
   },
   {
    "duration": 44,
    "start_time": "2022-02-01T11:44:22.746Z"
   },
   {
    "duration": 39,
    "start_time": "2022-02-01T11:44:22.792Z"
   },
   {
    "duration": 49,
    "start_time": "2022-02-01T11:44:22.833Z"
   },
   {
    "duration": 35,
    "start_time": "2022-02-01T11:44:22.885Z"
   },
   {
    "duration": 11,
    "start_time": "2022-02-01T11:44:22.922Z"
   },
   {
    "duration": 15,
    "start_time": "2022-02-01T11:44:22.934Z"
   },
   {
    "duration": 5,
    "start_time": "2022-02-01T11:44:22.951Z"
   },
   {
    "duration": 5,
    "start_time": "2022-02-01T11:44:22.972Z"
   },
   {
    "duration": 19,
    "start_time": "2022-02-01T11:44:22.979Z"
   },
   {
    "duration": 13,
    "start_time": "2022-02-01T11:44:23.000Z"
   },
   {
    "duration": 475,
    "start_time": "2022-02-01T11:44:23.015Z"
   },
   {
    "duration": 12,
    "start_time": "2022-02-01T11:44:23.491Z"
   },
   {
    "duration": 379,
    "start_time": "2022-02-01T11:44:23.505Z"
   },
   {
    "duration": 39,
    "start_time": "2022-02-01T11:44:23.885Z"
   },
   {
    "duration": 7,
    "start_time": "2022-02-01T11:44:23.925Z"
   },
   {
    "duration": 7,
    "start_time": "2022-02-01T11:44:23.934Z"
   },
   {
    "duration": 30,
    "start_time": "2022-02-01T11:44:23.942Z"
   },
   {
    "duration": 5,
    "start_time": "2022-02-01T11:44:23.973Z"
   },
   {
    "duration": 6,
    "start_time": "2022-02-01T11:44:29.192Z"
   },
   {
    "duration": 9,
    "start_time": "2022-02-01T11:44:30.002Z"
   },
   {
    "duration": 46,
    "start_time": "2022-02-01T11:45:54.097Z"
   },
   {
    "duration": 6,
    "start_time": "2022-02-01T11:45:54.144Z"
   },
   {
    "duration": 14,
    "start_time": "2022-02-01T11:45:54.152Z"
   },
   {
    "duration": 6,
    "start_time": "2022-02-01T11:45:54.168Z"
   },
   {
    "duration": 130,
    "start_time": "2022-02-01T11:45:54.176Z"
   },
   {
    "duration": 18,
    "start_time": "2022-02-01T11:45:54.307Z"
   },
   {
    "duration": 22,
    "start_time": "2022-02-01T11:45:54.326Z"
   },
   {
    "duration": 114,
    "start_time": "2022-02-01T11:45:54.350Z"
   },
   {
    "duration": 19,
    "start_time": "2022-02-01T11:45:54.466Z"
   },
   {
    "duration": 25,
    "start_time": "2022-02-01T11:45:54.486Z"
   },
   {
    "duration": 93,
    "start_time": "2022-02-01T11:45:54.513Z"
   },
   {
    "duration": 18,
    "start_time": "2022-02-01T11:45:54.608Z"
   },
   {
    "duration": 12,
    "start_time": "2022-02-01T11:45:54.627Z"
   },
   {
    "duration": 20,
    "start_time": "2022-02-01T11:45:54.640Z"
   },
   {
    "duration": 69,
    "start_time": "2022-02-01T11:45:54.662Z"
   },
   {
    "duration": 5,
    "start_time": "2022-02-01T11:45:54.733Z"
   },
   {
    "duration": 8,
    "start_time": "2022-02-01T11:45:54.739Z"
   },
   {
    "duration": 67,
    "start_time": "2022-02-01T11:45:54.749Z"
   },
   {
    "duration": 61,
    "start_time": "2022-02-01T11:45:54.817Z"
   },
   {
    "duration": 39,
    "start_time": "2022-02-01T11:45:54.879Z"
   },
   {
    "duration": 58,
    "start_time": "2022-02-01T11:45:54.919Z"
   },
   {
    "duration": 32,
    "start_time": "2022-02-01T11:45:54.979Z"
   },
   {
    "duration": 32,
    "start_time": "2022-02-01T11:45:55.014Z"
   },
   {
    "duration": 29,
    "start_time": "2022-02-01T11:45:55.048Z"
   },
   {
    "duration": 12,
    "start_time": "2022-02-01T11:45:55.079Z"
   },
   {
    "duration": 5,
    "start_time": "2022-02-01T11:45:55.092Z"
   },
   {
    "duration": 10,
    "start_time": "2022-02-01T11:45:55.099Z"
   },
   {
    "duration": 19,
    "start_time": "2022-02-01T11:45:55.110Z"
   },
   {
    "duration": 14,
    "start_time": "2022-02-01T11:45:55.130Z"
   },
   {
    "duration": 388,
    "start_time": "2022-02-01T11:45:55.146Z"
   },
   {
    "duration": 12,
    "start_time": "2022-02-01T11:45:55.535Z"
   },
   {
    "duration": 376,
    "start_time": "2022-02-01T11:45:55.548Z"
   },
   {
    "duration": 47,
    "start_time": "2022-02-01T11:45:55.925Z"
   },
   {
    "duration": 6,
    "start_time": "2022-02-01T11:45:55.974Z"
   },
   {
    "duration": 10,
    "start_time": "2022-02-01T11:45:55.981Z"
   },
   {
    "duration": 8,
    "start_time": "2022-02-01T11:45:55.992Z"
   },
   {
    "duration": 9,
    "start_time": "2022-02-01T11:45:57.983Z"
   },
   {
    "duration": 5,
    "start_time": "2022-02-01T11:45:59.011Z"
   },
   {
    "duration": 6,
    "start_time": "2022-02-01T11:46:00.212Z"
   },
   {
    "duration": 29,
    "start_time": "2022-02-01T11:46:19.632Z"
   },
   {
    "duration": 6906,
    "start_time": "2022-02-01T11:49:19.031Z"
   },
   {
    "duration": 37,
    "start_time": "2022-02-01T11:49:28.989Z"
   },
   {
    "duration": 5,
    "start_time": "2022-02-01T11:49:29.028Z"
   },
   {
    "duration": 14,
    "start_time": "2022-02-01T11:49:29.035Z"
   },
   {
    "duration": 7,
    "start_time": "2022-02-01T11:49:29.051Z"
   },
   {
    "duration": 142,
    "start_time": "2022-02-01T11:49:29.060Z"
   },
   {
    "duration": 17,
    "start_time": "2022-02-01T11:49:29.204Z"
   },
   {
    "duration": 24,
    "start_time": "2022-02-01T11:49:29.222Z"
   },
   {
    "duration": 116,
    "start_time": "2022-02-01T11:49:29.249Z"
   },
   {
    "duration": 17,
    "start_time": "2022-02-01T11:49:29.371Z"
   },
   {
    "duration": 24,
    "start_time": "2022-02-01T11:49:29.390Z"
   },
   {
    "duration": 96,
    "start_time": "2022-02-01T11:49:29.416Z"
   },
   {
    "duration": 14,
    "start_time": "2022-02-01T11:49:29.514Z"
   },
   {
    "duration": 15,
    "start_time": "2022-02-01T11:49:29.530Z"
   },
   {
    "duration": 30,
    "start_time": "2022-02-01T11:49:29.547Z"
   },
   {
    "duration": 62,
    "start_time": "2022-02-01T11:49:29.579Z"
   },
   {
    "duration": 5,
    "start_time": "2022-02-01T11:49:29.643Z"
   },
   {
    "duration": 24,
    "start_time": "2022-02-01T11:49:29.649Z"
   },
   {
    "duration": 51,
    "start_time": "2022-02-01T11:49:29.674Z"
   },
   {
    "duration": 66,
    "start_time": "2022-02-01T11:49:29.727Z"
   },
   {
    "duration": 38,
    "start_time": "2022-02-01T11:49:29.794Z"
   },
   {
    "duration": 56,
    "start_time": "2022-02-01T11:49:29.833Z"
   },
   {
    "duration": 32,
    "start_time": "2022-02-01T11:49:29.891Z"
   },
   {
    "duration": 47,
    "start_time": "2022-02-01T11:49:29.925Z"
   },
   {
    "duration": 11,
    "start_time": "2022-02-01T11:49:29.974Z"
   },
   {
    "duration": 13,
    "start_time": "2022-02-01T11:49:29.986Z"
   },
   {
    "duration": 12,
    "start_time": "2022-02-01T11:49:30.000Z"
   },
   {
    "duration": 34,
    "start_time": "2022-02-01T11:49:30.013Z"
   },
   {
    "duration": 24,
    "start_time": "2022-02-01T11:49:30.049Z"
   },
   {
    "duration": 20,
    "start_time": "2022-02-01T11:49:30.075Z"
   },
   {
    "duration": 401,
    "start_time": "2022-02-01T11:49:30.096Z"
   },
   {
    "duration": 12,
    "start_time": "2022-02-01T11:49:30.499Z"
   },
   {
    "duration": 488,
    "start_time": "2022-02-01T11:49:30.513Z"
   },
   {
    "duration": 43,
    "start_time": "2022-02-01T11:49:31.002Z"
   },
   {
    "duration": 26,
    "start_time": "2022-02-01T11:49:31.046Z"
   },
   {
    "duration": 13,
    "start_time": "2022-02-01T11:49:31.074Z"
   },
   {
    "duration": 12,
    "start_time": "2022-02-01T11:49:31.088Z"
   },
   {
    "duration": 4,
    "start_time": "2022-02-01T11:49:31.102Z"
   },
   {
    "duration": 10,
    "start_time": "2022-02-01T11:49:31.108Z"
   },
   {
    "duration": 30,
    "start_time": "2022-02-01T11:49:31.120Z"
   },
   {
    "duration": 12,
    "start_time": "2022-02-01T11:49:52.599Z"
   },
   {
    "duration": 13,
    "start_time": "2022-02-01T11:50:44.185Z"
   },
   {
    "duration": 170,
    "start_time": "2022-02-01T17:06:53.367Z"
   },
   {
    "duration": 1174,
    "start_time": "2022-02-01T17:07:00.486Z"
   },
   {
    "duration": 7,
    "start_time": "2022-02-01T17:07:01.661Z"
   },
   {
    "duration": 32,
    "start_time": "2022-02-01T17:07:01.670Z"
   },
   {
    "duration": 31,
    "start_time": "2022-02-01T17:07:01.705Z"
   },
   {
    "duration": 228,
    "start_time": "2022-02-01T17:07:01.738Z"
   },
   {
    "duration": 21,
    "start_time": "2022-02-01T17:07:01.968Z"
   },
   {
    "duration": 28,
    "start_time": "2022-02-01T17:07:01.991Z"
   },
   {
    "duration": 603,
    "start_time": "2022-02-01T17:07:02.022Z"
   },
   {
    "duration": 18,
    "start_time": "2022-02-01T17:07:02.628Z"
   },
   {
    "duration": 38,
    "start_time": "2022-02-01T17:07:02.648Z"
   },
   {
    "duration": 543,
    "start_time": "2022-02-01T17:07:02.688Z"
   },
   {
    "duration": 14,
    "start_time": "2022-02-01T17:07:03.232Z"
   },
   {
    "duration": 15,
    "start_time": "2022-02-01T17:07:03.247Z"
   },
   {
    "duration": 53,
    "start_time": "2022-02-01T17:07:03.263Z"
   },
   {
    "duration": 56,
    "start_time": "2022-02-01T17:07:03.318Z"
   },
   {
    "duration": 6,
    "start_time": "2022-02-01T17:07:03.376Z"
   },
   {
    "duration": 10,
    "start_time": "2022-02-01T17:07:03.384Z"
   },
   {
    "duration": 68,
    "start_time": "2022-02-01T17:07:03.395Z"
   },
   {
    "duration": 56,
    "start_time": "2022-02-01T17:07:03.464Z"
   },
   {
    "duration": 51,
    "start_time": "2022-02-01T17:07:03.522Z"
   },
   {
    "duration": 43,
    "start_time": "2022-02-01T17:07:03.574Z"
   },
   {
    "duration": 55,
    "start_time": "2022-02-01T17:07:03.619Z"
   },
   {
    "duration": 36,
    "start_time": "2022-02-01T17:07:03.678Z"
   },
   {
    "duration": 11,
    "start_time": "2022-02-01T17:07:03.716Z"
   },
   {
    "duration": 35,
    "start_time": "2022-02-01T17:07:03.728Z"
   },
   {
    "duration": 4,
    "start_time": "2022-02-01T17:07:03.765Z"
   },
   {
    "duration": 9,
    "start_time": "2022-02-01T17:07:03.771Z"
   },
   {
    "duration": 20,
    "start_time": "2022-02-01T17:07:03.782Z"
   },
   {
    "duration": 16,
    "start_time": "2022-02-01T17:07:03.803Z"
   },
   {
    "duration": 470,
    "start_time": "2022-02-01T17:07:03.820Z"
   },
   {
    "duration": 13,
    "start_time": "2022-02-01T17:07:04.292Z"
   },
   {
    "duration": 454,
    "start_time": "2022-02-01T17:07:04.307Z"
   },
   {
    "duration": 48,
    "start_time": "2022-02-01T17:07:04.763Z"
   },
   {
    "duration": 6,
    "start_time": "2022-02-01T17:07:04.813Z"
   },
   {
    "duration": 9,
    "start_time": "2022-02-01T17:07:04.821Z"
   },
   {
    "duration": 35,
    "start_time": "2022-02-01T17:07:04.831Z"
   },
   {
    "duration": 6,
    "start_time": "2022-02-01T17:07:04.867Z"
   },
   {
    "duration": 9,
    "start_time": "2022-02-01T17:07:04.874Z"
   },
   {
    "duration": 39,
    "start_time": "2022-02-01T17:07:04.885Z"
   },
   {
    "duration": 11,
    "start_time": "2022-02-01T17:07:04.926Z"
   },
   {
    "duration": 13,
    "start_time": "2022-02-01T17:07:04.958Z"
   },
   {
    "duration": 14,
    "start_time": "2022-02-01T17:07:08.126Z"
   },
   {
    "duration": 31,
    "start_time": "2022-02-01T17:07:09.327Z"
   },
   {
    "duration": 188,
    "start_time": "2022-02-01T17:07:49.645Z"
   },
   {
    "duration": 4,
    "start_time": "2022-02-01T17:07:54.375Z"
   },
   {
    "duration": 5,
    "start_time": "2022-02-01T17:10:00.536Z"
   },
   {
    "duration": 4,
    "start_time": "2022-02-01T17:10:17.270Z"
   },
   {
    "duration": 5,
    "start_time": "2022-02-01T17:11:52.633Z"
   },
   {
    "duration": 159,
    "start_time": "2022-02-01T17:12:59.273Z"
   },
   {
    "duration": 5,
    "start_time": "2022-02-01T17:13:19.082Z"
   },
   {
    "duration": 273,
    "start_time": "2022-02-01T17:15:21.538Z"
   },
   {
    "duration": 36,
    "start_time": "2022-02-01T17:16:42.353Z"
   },
   {
    "duration": 6,
    "start_time": "2022-02-01T17:16:42.391Z"
   },
   {
    "duration": 16,
    "start_time": "2022-02-01T17:16:42.399Z"
   },
   {
    "duration": 9,
    "start_time": "2022-02-01T17:16:42.416Z"
   },
   {
    "duration": 150,
    "start_time": "2022-02-01T17:16:42.426Z"
   },
   {
    "duration": 20,
    "start_time": "2022-02-01T17:16:42.578Z"
   },
   {
    "duration": 27,
    "start_time": "2022-02-01T17:16:42.600Z"
   },
   {
    "duration": 141,
    "start_time": "2022-02-01T17:16:42.629Z"
   },
   {
    "duration": 21,
    "start_time": "2022-02-01T17:16:42.773Z"
   },
   {
    "duration": 27,
    "start_time": "2022-02-01T17:16:42.796Z"
   },
   {
    "duration": 102,
    "start_time": "2022-02-01T17:16:42.824Z"
   },
   {
    "duration": 13,
    "start_time": "2022-02-01T17:16:42.928Z"
   },
   {
    "duration": 25,
    "start_time": "2022-02-01T17:16:42.943Z"
   },
   {
    "duration": 22,
    "start_time": "2022-02-01T17:16:42.970Z"
   },
   {
    "duration": 79,
    "start_time": "2022-02-01T17:16:42.993Z"
   },
   {
    "duration": 6,
    "start_time": "2022-02-01T17:16:43.074Z"
   },
   {
    "duration": 18,
    "start_time": "2022-02-01T17:16:43.081Z"
   },
   {
    "duration": 59,
    "start_time": "2022-02-01T17:16:43.101Z"
   },
   {
    "duration": 53,
    "start_time": "2022-02-01T17:16:43.162Z"
   },
   {
    "duration": 54,
    "start_time": "2022-02-01T17:16:43.217Z"
   },
   {
    "duration": 40,
    "start_time": "2022-02-01T17:16:43.273Z"
   },
   {
    "duration": 48,
    "start_time": "2022-02-01T17:16:43.315Z"
   },
   {
    "duration": 35,
    "start_time": "2022-02-01T17:16:43.364Z"
   },
   {
    "duration": 10,
    "start_time": "2022-02-01T17:16:43.400Z"
   },
   {
    "duration": 15,
    "start_time": "2022-02-01T17:16:43.412Z"
   },
   {
    "duration": 5,
    "start_time": "2022-02-01T17:16:43.428Z"
   },
   {
    "duration": 27,
    "start_time": "2022-02-01T17:16:43.436Z"
   },
   {
    "duration": 20,
    "start_time": "2022-02-01T17:16:43.465Z"
   },
   {
    "duration": 13,
    "start_time": "2022-02-01T17:16:43.487Z"
   },
   {
    "duration": 547,
    "start_time": "2022-02-01T17:16:43.502Z"
   },
   {
    "duration": 18,
    "start_time": "2022-02-01T17:16:44.051Z"
   },
   {
    "duration": 448,
    "start_time": "2022-02-01T17:16:44.071Z"
   },
   {
    "duration": 53,
    "start_time": "2022-02-01T17:16:44.520Z"
   },
   {
    "duration": 8,
    "start_time": "2022-02-01T17:16:44.575Z"
   },
   {
    "duration": 9,
    "start_time": "2022-02-01T17:16:44.584Z"
   },
   {
    "duration": 10,
    "start_time": "2022-02-01T17:16:44.594Z"
   },
   {
    "duration": 5,
    "start_time": "2022-02-01T17:16:44.606Z"
   },
   {
    "duration": 7,
    "start_time": "2022-02-01T17:16:44.612Z"
   },
   {
    "duration": 67,
    "start_time": "2022-02-01T17:16:44.621Z"
   },
   {
    "duration": 4,
    "start_time": "2022-02-01T17:16:44.690Z"
   },
   {
    "duration": 24,
    "start_time": "2022-02-01T17:16:48.494Z"
   },
   {
    "duration": 4,
    "start_time": "2022-02-01T17:17:21.279Z"
   },
   {
    "duration": 4,
    "start_time": "2022-02-01T17:17:36.704Z"
   },
   {
    "duration": 2,
    "start_time": "2022-02-01T17:19:22.879Z"
   },
   {
    "duration": 5,
    "start_time": "2022-02-01T17:20:25.425Z"
   },
   {
    "duration": 362,
    "start_time": "2022-02-01T17:25:01.844Z"
   },
   {
    "duration": 4,
    "start_time": "2022-02-01T17:25:31.175Z"
   },
   {
    "duration": 1556,
    "start_time": "2022-02-01T17:25:36.191Z"
   },
   {
    "duration": 66,
    "start_time": "2022-02-01T17:25:43.104Z"
   },
   {
    "duration": 6,
    "start_time": "2022-02-01T17:25:43.172Z"
   },
   {
    "duration": 18,
    "start_time": "2022-02-01T17:25:43.181Z"
   },
   {
    "duration": 11,
    "start_time": "2022-02-01T17:25:43.201Z"
   },
   {
    "duration": 167,
    "start_time": "2022-02-01T17:25:43.214Z"
   },
   {
    "duration": 20,
    "start_time": "2022-02-01T17:25:43.382Z"
   },
   {
    "duration": 26,
    "start_time": "2022-02-01T17:25:43.404Z"
   },
   {
    "duration": 145,
    "start_time": "2022-02-01T17:25:43.432Z"
   },
   {
    "duration": 18,
    "start_time": "2022-02-01T17:25:43.581Z"
   },
   {
    "duration": 28,
    "start_time": "2022-02-01T17:25:43.602Z"
   },
   {
    "duration": 110,
    "start_time": "2022-02-01T17:25:43.632Z"
   },
   {
    "duration": 16,
    "start_time": "2022-02-01T17:25:43.760Z"
   },
   {
    "duration": 20,
    "start_time": "2022-02-01T17:25:43.778Z"
   },
   {
    "duration": 23,
    "start_time": "2022-02-01T17:25:43.800Z"
   },
   {
    "duration": 75,
    "start_time": "2022-02-01T17:25:43.825Z"
   },
   {
    "duration": 5,
    "start_time": "2022-02-01T17:25:43.902Z"
   },
   {
    "duration": 9,
    "start_time": "2022-02-01T17:25:43.909Z"
   },
   {
    "duration": 77,
    "start_time": "2022-02-01T17:25:43.920Z"
   },
   {
    "duration": 65,
    "start_time": "2022-02-01T17:25:43.999Z"
   },
   {
    "duration": 39,
    "start_time": "2022-02-01T17:25:44.066Z"
   },
   {
    "duration": 62,
    "start_time": "2022-02-01T17:25:44.107Z"
   },
   {
    "duration": 33,
    "start_time": "2022-02-01T17:25:44.171Z"
   },
   {
    "duration": 35,
    "start_time": "2022-02-01T17:25:44.206Z"
   },
   {
    "duration": 11,
    "start_time": "2022-02-01T17:25:44.259Z"
   },
   {
    "duration": 21,
    "start_time": "2022-02-01T17:25:44.272Z"
   },
   {
    "duration": 6,
    "start_time": "2022-02-01T17:25:44.294Z"
   },
   {
    "duration": 8,
    "start_time": "2022-02-01T17:25:44.304Z"
   },
   {
    "duration": 19,
    "start_time": "2022-02-01T17:25:44.314Z"
   },
   {
    "duration": 37,
    "start_time": "2022-02-01T17:25:44.335Z"
   },
   {
    "duration": 452,
    "start_time": "2022-02-01T17:25:44.374Z"
   },
   {
    "duration": 14,
    "start_time": "2022-02-01T17:25:44.828Z"
   },
   {
    "duration": 471,
    "start_time": "2022-02-01T17:25:44.844Z"
   },
   {
    "duration": 55,
    "start_time": "2022-02-01T17:25:45.316Z"
   },
   {
    "duration": 8,
    "start_time": "2022-02-01T17:25:45.372Z"
   },
   {
    "duration": 11,
    "start_time": "2022-02-01T17:25:45.381Z"
   },
   {
    "duration": 9,
    "start_time": "2022-02-01T17:25:45.394Z"
   },
   {
    "duration": 6,
    "start_time": "2022-02-01T17:25:45.405Z"
   },
   {
    "duration": 7,
    "start_time": "2022-02-01T17:25:45.413Z"
   },
   {
    "duration": 66,
    "start_time": "2022-02-01T17:25:45.422Z"
   },
   {
    "duration": 4,
    "start_time": "2022-02-01T17:25:45.490Z"
   },
   {
    "duration": 26,
    "start_time": "2022-02-01T17:25:45.496Z"
   },
   {
    "duration": 4,
    "start_time": "2022-02-01T17:25:58.352Z"
   },
   {
    "duration": 148,
    "start_time": "2022-02-01T17:25:59.095Z"
   },
   {
    "duration": 550,
    "start_time": "2022-02-01T17:29:36.468Z"
   },
   {
    "duration": 46,
    "start_time": "2022-02-01T17:29:52.527Z"
   },
   {
    "duration": 9,
    "start_time": "2022-02-01T17:29:52.574Z"
   },
   {
    "duration": 20,
    "start_time": "2022-02-01T17:29:52.585Z"
   },
   {
    "duration": 7,
    "start_time": "2022-02-01T17:29:52.607Z"
   },
   {
    "duration": 158,
    "start_time": "2022-02-01T17:29:52.615Z"
   },
   {
    "duration": 21,
    "start_time": "2022-02-01T17:29:52.774Z"
   },
   {
    "duration": 26,
    "start_time": "2022-02-01T17:29:52.797Z"
   },
   {
    "duration": 148,
    "start_time": "2022-02-01T17:29:52.825Z"
   },
   {
    "duration": 17,
    "start_time": "2022-02-01T17:29:52.976Z"
   },
   {
    "duration": 30,
    "start_time": "2022-02-01T17:29:52.995Z"
   },
   {
    "duration": 105,
    "start_time": "2022-02-01T17:29:53.026Z"
   },
   {
    "duration": 15,
    "start_time": "2022-02-01T17:29:53.133Z"
   },
   {
    "duration": 15,
    "start_time": "2022-02-01T17:29:53.160Z"
   },
   {
    "duration": 22,
    "start_time": "2022-02-01T17:29:53.177Z"
   },
   {
    "duration": 78,
    "start_time": "2022-02-01T17:29:53.201Z"
   },
   {
    "duration": 6,
    "start_time": "2022-02-01T17:29:53.281Z"
   },
   {
    "duration": 9,
    "start_time": "2022-02-01T17:29:53.288Z"
   },
   {
    "duration": 69,
    "start_time": "2022-02-01T17:29:53.299Z"
   },
   {
    "duration": 56,
    "start_time": "2022-02-01T17:29:53.369Z"
   },
   {
    "duration": 54,
    "start_time": "2022-02-01T17:29:53.426Z"
   },
   {
    "duration": 43,
    "start_time": "2022-02-01T17:29:53.482Z"
   },
   {
    "duration": 50,
    "start_time": "2022-02-01T17:29:53.526Z"
   },
   {
    "duration": 37,
    "start_time": "2022-02-01T17:29:53.578Z"
   },
   {
    "duration": 12,
    "start_time": "2022-02-01T17:29:53.616Z"
   },
   {
    "duration": 38,
    "start_time": "2022-02-01T17:29:53.629Z"
   },
   {
    "duration": 7,
    "start_time": "2022-02-01T17:29:53.669Z"
   },
   {
    "duration": 8,
    "start_time": "2022-02-01T17:29:53.680Z"
   },
   {
    "duration": 19,
    "start_time": "2022-02-01T17:29:53.690Z"
   },
   {
    "duration": 15,
    "start_time": "2022-02-01T17:29:53.710Z"
   },
   {
    "duration": 439,
    "start_time": "2022-02-01T17:29:53.727Z"
   },
   {
    "duration": 15,
    "start_time": "2022-02-01T17:29:54.168Z"
   },
   {
    "duration": 542,
    "start_time": "2022-02-01T17:29:54.185Z"
   },
   {
    "duration": 51,
    "start_time": "2022-02-01T17:29:54.729Z"
   },
   {
    "duration": 9,
    "start_time": "2022-02-01T17:29:54.782Z"
   },
   {
    "duration": 9,
    "start_time": "2022-02-01T17:29:54.793Z"
   },
   {
    "duration": 10,
    "start_time": "2022-02-01T17:29:54.804Z"
   },
   {
    "duration": 6,
    "start_time": "2022-02-01T17:29:54.815Z"
   },
   {
    "duration": 39,
    "start_time": "2022-02-01T17:29:54.823Z"
   },
   {
    "duration": 41,
    "start_time": "2022-02-01T17:29:54.864Z"
   },
   {
    "duration": 5,
    "start_time": "2022-02-01T17:29:54.907Z"
   },
   {
    "duration": 45,
    "start_time": "2022-02-01T17:29:54.914Z"
   },
   {
    "duration": 4,
    "start_time": "2022-02-01T17:29:54.960Z"
   },
   {
    "duration": 25,
    "start_time": "2022-02-01T17:29:54.965Z"
   },
   {
    "duration": 14,
    "start_time": "2022-02-01T17:29:54.992Z"
   },
   {
    "duration": 26,
    "start_time": "2022-02-01T17:29:55.008Z"
   },
   {
    "duration": 14,
    "start_time": "2022-02-01T17:30:00.149Z"
   },
   {
    "duration": 10,
    "start_time": "2022-02-01T17:30:01.334Z"
   },
   {
    "duration": 5,
    "start_time": "2022-02-01T17:30:14.701Z"
   },
   {
    "duration": 12,
    "start_time": "2022-02-01T17:30:16.546Z"
   },
   {
    "duration": 8,
    "start_time": "2022-02-01T17:32:22.198Z"
   },
   {
    "duration": 8,
    "start_time": "2022-02-01T17:32:47.058Z"
   },
   {
    "duration": 7,
    "start_time": "2022-02-01T17:32:48.810Z"
   },
   {
    "duration": 8,
    "start_time": "2022-02-01T17:39:07.381Z"
   },
   {
    "duration": 7,
    "start_time": "2022-02-01T17:39:15.235Z"
   },
   {
    "duration": 46,
    "start_time": "2022-02-01T17:39:44.663Z"
   },
   {
    "duration": 9,
    "start_time": "2022-02-01T17:39:44.711Z"
   },
   {
    "duration": 19,
    "start_time": "2022-02-01T17:39:44.722Z"
   },
   {
    "duration": 15,
    "start_time": "2022-02-01T17:39:44.743Z"
   },
   {
    "duration": 152,
    "start_time": "2022-02-01T17:39:44.760Z"
   },
   {
    "duration": 20,
    "start_time": "2022-02-01T17:39:44.913Z"
   },
   {
    "duration": 38,
    "start_time": "2022-02-01T17:39:44.935Z"
   },
   {
    "duration": 135,
    "start_time": "2022-02-01T17:39:44.975Z"
   },
   {
    "duration": 17,
    "start_time": "2022-02-01T17:39:45.112Z"
   },
   {
    "duration": 35,
    "start_time": "2022-02-01T17:39:45.131Z"
   },
   {
    "duration": 96,
    "start_time": "2022-02-01T17:39:45.168Z"
   },
   {
    "duration": 14,
    "start_time": "2022-02-01T17:39:45.265Z"
   },
   {
    "duration": 13,
    "start_time": "2022-02-01T17:39:45.281Z"
   },
   {
    "duration": 21,
    "start_time": "2022-02-01T17:39:45.296Z"
   },
   {
    "duration": 100,
    "start_time": "2022-02-01T17:39:45.318Z"
   },
   {
    "duration": 5,
    "start_time": "2022-02-01T17:39:45.420Z"
   },
   {
    "duration": 8,
    "start_time": "2022-02-01T17:39:45.427Z"
   },
   {
    "duration": 71,
    "start_time": "2022-02-01T17:39:45.437Z"
   },
   {
    "duration": 66,
    "start_time": "2022-02-01T17:39:45.510Z"
   },
   {
    "duration": 39,
    "start_time": "2022-02-01T17:39:45.578Z"
   },
   {
    "duration": 53,
    "start_time": "2022-02-01T17:39:45.619Z"
   },
   {
    "duration": 34,
    "start_time": "2022-02-01T17:39:45.673Z"
   },
   {
    "duration": 51,
    "start_time": "2022-02-01T17:39:45.711Z"
   },
   {
    "duration": 11,
    "start_time": "2022-02-01T17:39:45.764Z"
   },
   {
    "duration": 19,
    "start_time": "2022-02-01T17:39:45.776Z"
   },
   {
    "duration": 7,
    "start_time": "2022-02-01T17:39:45.797Z"
   },
   {
    "duration": 10,
    "start_time": "2022-02-01T17:39:45.805Z"
   },
   {
    "duration": 19,
    "start_time": "2022-02-01T17:39:45.817Z"
   },
   {
    "duration": 32,
    "start_time": "2022-02-01T17:39:45.838Z"
   },
   {
    "duration": 433,
    "start_time": "2022-02-01T17:39:45.872Z"
   },
   {
    "duration": 14,
    "start_time": "2022-02-01T17:39:46.306Z"
   },
   {
    "duration": 444,
    "start_time": "2022-02-01T17:39:46.321Z"
   },
   {
    "duration": 45,
    "start_time": "2022-02-01T17:39:46.767Z"
   },
   {
    "duration": 9,
    "start_time": "2022-02-01T17:39:46.814Z"
   },
   {
    "duration": 38,
    "start_time": "2022-02-01T17:39:46.825Z"
   },
   {
    "duration": 10,
    "start_time": "2022-02-01T17:39:46.865Z"
   },
   {
    "duration": 7,
    "start_time": "2022-02-01T17:39:46.877Z"
   },
   {
    "duration": 8,
    "start_time": "2022-02-01T17:39:46.885Z"
   },
   {
    "duration": 33,
    "start_time": "2022-02-01T17:39:46.895Z"
   },
   {
    "duration": 5,
    "start_time": "2022-02-01T17:39:46.959Z"
   },
   {
    "duration": 26,
    "start_time": "2022-02-01T17:39:46.965Z"
   },
   {
    "duration": 3,
    "start_time": "2022-02-01T17:39:46.993Z"
   },
   {
    "duration": 15,
    "start_time": "2022-02-01T17:39:46.997Z"
   },
   {
    "duration": 15,
    "start_time": "2022-02-01T17:39:47.013Z"
   },
   {
    "duration": 52,
    "start_time": "2022-02-01T17:39:47.029Z"
   },
   {
    "duration": 8,
    "start_time": "2022-02-01T17:39:47.083Z"
   },
   {
    "duration": 4,
    "start_time": "2022-02-01T17:39:47.093Z"
   },
   {
    "duration": 15,
    "start_time": "2022-02-01T17:39:47.098Z"
   },
   {
    "duration": 6,
    "start_time": "2022-02-01T17:39:47.115Z"
   },
   {
    "duration": 38,
    "start_time": "2022-02-01T17:39:47.122Z"
   },
   {
    "duration": 7,
    "start_time": "2022-02-01T17:39:47.161Z"
   },
   {
    "duration": 8,
    "start_time": "2022-02-01T17:39:51.211Z"
   },
   {
    "duration": 8,
    "start_time": "2022-02-01T17:39:52.279Z"
   },
   {
    "duration": 8,
    "start_time": "2022-02-01T17:48:09.030Z"
   },
   {
    "duration": 7,
    "start_time": "2022-02-01T17:48:46.071Z"
   },
   {
    "duration": 8,
    "start_time": "2022-02-01T17:49:58.440Z"
   },
   {
    "duration": 6,
    "start_time": "2022-02-01T17:50:43.620Z"
   },
   {
    "duration": 7,
    "start_time": "2022-02-01T17:51:24.174Z"
   },
   {
    "duration": 7,
    "start_time": "2022-02-01T17:53:05.740Z"
   },
   {
    "duration": 8,
    "start_time": "2022-02-01T17:53:06.752Z"
   },
   {
    "duration": 6,
    "start_time": "2022-02-01T17:53:07.657Z"
   },
   {
    "duration": 7,
    "start_time": "2022-02-01T17:57:56.807Z"
   },
   {
    "duration": 5,
    "start_time": "2022-02-01T18:00:41.985Z"
   },
   {
    "duration": 3231,
    "start_time": "2022-02-01T18:03:18.820Z"
   },
   {
    "duration": 52,
    "start_time": "2022-02-01T18:03:40.158Z"
   },
   {
    "duration": 8,
    "start_time": "2022-02-01T18:03:47.770Z"
   },
   {
    "duration": 576,
    "start_time": "2022-02-01T18:03:54.806Z"
   },
   {
    "duration": 38,
    "start_time": "2022-02-01T18:04:23.368Z"
   },
   {
    "duration": 11,
    "start_time": "2022-02-01T18:04:23.408Z"
   },
   {
    "duration": 23,
    "start_time": "2022-02-01T18:04:23.422Z"
   },
   {
    "duration": 19,
    "start_time": "2022-02-01T18:04:23.447Z"
   },
   {
    "duration": 160,
    "start_time": "2022-02-01T18:04:23.468Z"
   },
   {
    "duration": 29,
    "start_time": "2022-02-01T18:04:23.630Z"
   },
   {
    "duration": 28,
    "start_time": "2022-02-01T18:04:23.661Z"
   },
   {
    "duration": 146,
    "start_time": "2022-02-01T18:04:23.691Z"
   },
   {
    "duration": 24,
    "start_time": "2022-02-01T18:04:23.840Z"
   },
   {
    "duration": 30,
    "start_time": "2022-02-01T18:04:23.866Z"
   },
   {
    "duration": 104,
    "start_time": "2022-02-01T18:04:23.898Z"
   },
   {
    "duration": 16,
    "start_time": "2022-02-01T18:04:24.004Z"
   },
   {
    "duration": 15,
    "start_time": "2022-02-01T18:04:24.021Z"
   },
   {
    "duration": 30,
    "start_time": "2022-02-01T18:04:24.038Z"
   },
   {
    "duration": 67,
    "start_time": "2022-02-01T18:04:24.070Z"
   },
   {
    "duration": 7,
    "start_time": "2022-02-01T18:04:24.159Z"
   },
   {
    "duration": 10,
    "start_time": "2022-02-01T18:04:24.168Z"
   },
   {
    "duration": 53,
    "start_time": "2022-02-01T18:04:24.180Z"
   },
   {
    "duration": 72,
    "start_time": "2022-02-01T18:04:24.235Z"
   },
   {
    "duration": 55,
    "start_time": "2022-02-01T18:04:24.309Z"
   },
   {
    "duration": 41,
    "start_time": "2022-02-01T18:04:24.366Z"
   },
   {
    "duration": 53,
    "start_time": "2022-02-01T18:04:24.408Z"
   },
   {
    "duration": 34,
    "start_time": "2022-02-01T18:04:24.463Z"
   },
   {
    "duration": 11,
    "start_time": "2022-02-01T18:04:24.499Z"
   },
   {
    "duration": 13,
    "start_time": "2022-02-01T18:04:24.511Z"
   },
   {
    "duration": 35,
    "start_time": "2022-02-01T18:04:24.526Z"
   },
   {
    "duration": 9,
    "start_time": "2022-02-01T18:04:24.564Z"
   },
   {
    "duration": 20,
    "start_time": "2022-02-01T18:04:24.575Z"
   },
   {
    "duration": 15,
    "start_time": "2022-02-01T18:04:24.597Z"
   },
   {
    "duration": 476,
    "start_time": "2022-02-01T18:04:24.614Z"
   },
   {
    "duration": 15,
    "start_time": "2022-02-01T18:04:25.092Z"
   },
   {
    "duration": 617,
    "start_time": "2022-02-01T18:04:25.108Z"
   },
   {
    "duration": 53,
    "start_time": "2022-02-01T18:04:25.727Z"
   },
   {
    "duration": 8,
    "start_time": "2022-02-01T18:04:25.782Z"
   },
   {
    "duration": 8,
    "start_time": "2022-02-01T18:04:25.792Z"
   },
   {
    "duration": 9,
    "start_time": "2022-02-01T18:04:25.801Z"
   },
   {
    "duration": 5,
    "start_time": "2022-02-01T18:04:25.811Z"
   },
   {
    "duration": 7,
    "start_time": "2022-02-01T18:04:25.818Z"
   },
   {
    "duration": 70,
    "start_time": "2022-02-01T18:04:25.826Z"
   },
   {
    "duration": 4,
    "start_time": "2022-02-01T18:04:25.898Z"
   },
   {
    "duration": 30,
    "start_time": "2022-02-01T18:04:25.904Z"
   },
   {
    "duration": 3,
    "start_time": "2022-02-01T18:04:25.959Z"
   },
   {
    "duration": 15,
    "start_time": "2022-02-01T18:04:25.964Z"
   },
   {
    "duration": 14,
    "start_time": "2022-02-01T18:04:25.981Z"
   },
   {
    "duration": 25,
    "start_time": "2022-02-01T18:04:25.996Z"
   },
   {
    "duration": 44,
    "start_time": "2022-02-01T18:04:26.023Z"
   },
   {
    "duration": 4,
    "start_time": "2022-02-01T18:04:26.068Z"
   },
   {
    "duration": 13,
    "start_time": "2022-02-01T18:04:26.074Z"
   },
   {
    "duration": 7,
    "start_time": "2022-02-01T18:04:26.089Z"
   },
   {
    "duration": 9,
    "start_time": "2022-02-01T18:04:26.098Z"
   },
   {
    "duration": 55,
    "start_time": "2022-02-01T18:04:26.108Z"
   },
   {
    "duration": 8,
    "start_time": "2022-02-01T18:04:26.165Z"
   },
   {
    "duration": 9,
    "start_time": "2022-02-01T18:04:26.175Z"
   },
   {
    "duration": 8,
    "start_time": "2022-02-01T18:04:26.185Z"
   },
   {
    "duration": 11,
    "start_time": "2022-02-01T18:04:26.194Z"
   },
   {
    "duration": 44,
    "start_time": "2022-02-01T18:04:26.207Z"
   },
   {
    "duration": -326,
    "start_time": "2022-02-01T18:04:26.579Z"
   },
   {
    "duration": -327,
    "start_time": "2022-02-01T18:04:26.581Z"
   },
   {
    "duration": 50,
    "start_time": "2022-02-01T18:04:42.027Z"
   },
   {
    "duration": 8,
    "start_time": "2022-02-01T18:04:42.080Z"
   },
   {
    "duration": 19,
    "start_time": "2022-02-01T18:04:42.091Z"
   },
   {
    "duration": 48,
    "start_time": "2022-02-01T18:04:42.113Z"
   },
   {
    "duration": 176,
    "start_time": "2022-02-01T18:04:42.163Z"
   },
   {
    "duration": 30,
    "start_time": "2022-02-01T18:04:42.341Z"
   },
   {
    "duration": 31,
    "start_time": "2022-02-01T18:04:42.373Z"
   },
   {
    "duration": 145,
    "start_time": "2022-02-01T18:04:42.406Z"
   },
   {
    "duration": 22,
    "start_time": "2022-02-01T18:04:42.554Z"
   },
   {
    "duration": 31,
    "start_time": "2022-02-01T18:04:42.578Z"
   },
   {
    "duration": 118,
    "start_time": "2022-02-01T18:04:42.611Z"
   },
   {
    "duration": 15,
    "start_time": "2022-02-01T18:04:42.731Z"
   },
   {
    "duration": 25,
    "start_time": "2022-02-01T18:04:42.748Z"
   },
   {
    "duration": 32,
    "start_time": "2022-02-01T18:04:42.775Z"
   },
   {
    "duration": 83,
    "start_time": "2022-02-01T18:04:42.809Z"
   },
   {
    "duration": 6,
    "start_time": "2022-02-01T18:04:42.895Z"
   },
   {
    "duration": 9,
    "start_time": "2022-02-01T18:04:42.903Z"
   },
   {
    "duration": 70,
    "start_time": "2022-02-01T18:04:42.914Z"
   },
   {
    "duration": 54,
    "start_time": "2022-02-01T18:04:42.985Z"
   },
   {
    "duration": 51,
    "start_time": "2022-02-01T18:04:43.041Z"
   },
   {
    "duration": 66,
    "start_time": "2022-02-01T18:04:43.094Z"
   },
   {
    "duration": 54,
    "start_time": "2022-02-01T18:04:43.162Z"
   },
   {
    "duration": 66,
    "start_time": "2022-02-01T18:04:43.218Z"
   },
   {
    "duration": 17,
    "start_time": "2022-02-01T18:04:43.287Z"
   },
   {
    "duration": 15,
    "start_time": "2022-02-01T18:04:43.306Z"
   },
   {
    "duration": 5,
    "start_time": "2022-02-01T18:04:43.323Z"
   },
   {
    "duration": 35,
    "start_time": "2022-02-01T18:04:43.333Z"
   },
   {
    "duration": 24,
    "start_time": "2022-02-01T18:04:43.371Z"
   },
   {
    "duration": 20,
    "start_time": "2022-02-01T18:04:43.397Z"
   },
   {
    "duration": 507,
    "start_time": "2022-02-01T18:04:43.419Z"
   },
   {
    "duration": 14,
    "start_time": "2022-02-01T18:04:43.929Z"
   },
   {
    "duration": 485,
    "start_time": "2022-02-01T18:04:43.945Z"
   },
   {
    "duration": 64,
    "start_time": "2022-02-01T18:04:44.432Z"
   },
   {
    "duration": 10,
    "start_time": "2022-02-01T18:04:44.499Z"
   },
   {
    "duration": 16,
    "start_time": "2022-02-01T18:04:44.511Z"
   },
   {
    "duration": 31,
    "start_time": "2022-02-01T18:04:44.530Z"
   },
   {
    "duration": 7,
    "start_time": "2022-02-01T18:04:44.563Z"
   },
   {
    "duration": 18,
    "start_time": "2022-02-01T18:04:44.572Z"
   },
   {
    "duration": 73,
    "start_time": "2022-02-01T18:04:44.592Z"
   },
   {
    "duration": 5,
    "start_time": "2022-02-01T18:04:44.668Z"
   },
   {
    "duration": 37,
    "start_time": "2022-02-01T18:04:44.676Z"
   },
   {
    "duration": 3,
    "start_time": "2022-02-01T18:04:44.716Z"
   },
   {
    "duration": 42,
    "start_time": "2022-02-01T18:04:44.722Z"
   },
   {
    "duration": 18,
    "start_time": "2022-02-01T18:04:44.767Z"
   },
   {
    "duration": 34,
    "start_time": "2022-02-01T18:04:44.787Z"
   },
   {
    "duration": 38,
    "start_time": "2022-02-01T18:04:44.824Z"
   },
   {
    "duration": 6,
    "start_time": "2022-02-01T18:04:44.864Z"
   },
   {
    "duration": 22,
    "start_time": "2022-02-01T18:04:44.872Z"
   },
   {
    "duration": 9,
    "start_time": "2022-02-01T18:04:44.896Z"
   },
   {
    "duration": 14,
    "start_time": "2022-02-01T18:04:44.907Z"
   },
   {
    "duration": 40,
    "start_time": "2022-02-01T18:04:44.924Z"
   },
   {
    "duration": 10,
    "start_time": "2022-02-01T18:04:44.967Z"
   },
   {
    "duration": 10,
    "start_time": "2022-02-01T18:04:44.980Z"
   },
   {
    "duration": 11,
    "start_time": "2022-02-01T18:04:44.992Z"
   },
   {
    "duration": 9,
    "start_time": "2022-02-01T18:04:47.772Z"
   },
   {
    "duration": 9,
    "start_time": "2022-02-01T18:04:48.254Z"
   },
   {
    "duration": 8,
    "start_time": "2022-02-01T18:04:49.400Z"
   },
   {
    "duration": 8,
    "start_time": "2022-02-01T18:04:51.269Z"
   },
   {
    "duration": 13,
    "start_time": "2022-02-01T18:04:52.393Z"
   },
   {
    "duration": 662,
    "start_time": "2022-02-01T18:05:30.760Z"
   },
   {
    "duration": 36,
    "start_time": "2022-02-01T18:05:34.409Z"
   },
   {
    "duration": 6,
    "start_time": "2022-02-01T18:05:34.447Z"
   },
   {
    "duration": 17,
    "start_time": "2022-02-01T18:05:34.455Z"
   },
   {
    "duration": 7,
    "start_time": "2022-02-01T18:05:34.474Z"
   },
   {
    "duration": 160,
    "start_time": "2022-02-01T18:05:34.483Z"
   },
   {
    "duration": 30,
    "start_time": "2022-02-01T18:05:34.644Z"
   },
   {
    "duration": 28,
    "start_time": "2022-02-01T18:05:34.676Z"
   },
   {
    "duration": 142,
    "start_time": "2022-02-01T18:05:34.706Z"
   },
   {
    "duration": 22,
    "start_time": "2022-02-01T18:05:34.851Z"
   },
   {
    "duration": 27,
    "start_time": "2022-02-01T18:05:34.876Z"
   },
   {
    "duration": 99,
    "start_time": "2022-02-01T18:05:34.905Z"
   },
   {
    "duration": 15,
    "start_time": "2022-02-01T18:05:35.006Z"
   },
   {
    "duration": 15,
    "start_time": "2022-02-01T18:05:35.023Z"
   },
   {
    "duration": 27,
    "start_time": "2022-02-01T18:05:35.041Z"
   },
   {
    "duration": 68,
    "start_time": "2022-02-01T18:05:35.070Z"
   },
   {
    "duration": 7,
    "start_time": "2022-02-01T18:05:35.159Z"
   },
   {
    "duration": 10,
    "start_time": "2022-02-01T18:05:35.167Z"
   },
   {
    "duration": 54,
    "start_time": "2022-02-01T18:05:35.179Z"
   },
   {
    "duration": 75,
    "start_time": "2022-02-01T18:05:35.235Z"
   },
   {
    "duration": 56,
    "start_time": "2022-02-01T18:05:35.311Z"
   },
   {
    "duration": 65,
    "start_time": "2022-02-01T18:05:35.369Z"
   },
   {
    "duration": 56,
    "start_time": "2022-02-01T18:05:35.436Z"
   },
   {
    "duration": 36,
    "start_time": "2022-02-01T18:05:35.493Z"
   },
   {
    "duration": 28,
    "start_time": "2022-02-01T18:05:35.531Z"
   },
   {
    "duration": 15,
    "start_time": "2022-02-01T18:05:35.561Z"
   },
   {
    "duration": 6,
    "start_time": "2022-02-01T18:05:35.577Z"
   },
   {
    "duration": 8,
    "start_time": "2022-02-01T18:05:35.587Z"
   },
   {
    "duration": 20,
    "start_time": "2022-02-01T18:05:35.597Z"
   },
   {
    "duration": 46,
    "start_time": "2022-02-01T18:05:35.619Z"
   },
   {
    "duration": 462,
    "start_time": "2022-02-01T18:05:35.667Z"
   },
   {
    "duration": 29,
    "start_time": "2022-02-01T18:05:36.131Z"
   },
   {
    "duration": 466,
    "start_time": "2022-02-01T18:05:36.161Z"
   },
   {
    "duration": 56,
    "start_time": "2022-02-01T18:05:36.629Z"
   },
   {
    "duration": 9,
    "start_time": "2022-02-01T18:05:36.686Z"
   },
   {
    "duration": 9,
    "start_time": "2022-02-01T18:05:36.697Z"
   },
   {
    "duration": 9,
    "start_time": "2022-02-01T18:05:36.708Z"
   },
   {
    "duration": 5,
    "start_time": "2022-02-01T18:05:36.718Z"
   },
   {
    "duration": 36,
    "start_time": "2022-02-01T18:05:36.725Z"
   },
   {
    "duration": 37,
    "start_time": "2022-02-01T18:05:36.763Z"
   },
   {
    "duration": 5,
    "start_time": "2022-02-01T18:05:36.802Z"
   },
   {
    "duration": 51,
    "start_time": "2022-02-01T18:05:36.808Z"
   },
   {
    "duration": 2,
    "start_time": "2022-02-01T18:05:36.861Z"
   },
   {
    "duration": 16,
    "start_time": "2022-02-01T18:05:36.865Z"
   },
   {
    "duration": 202,
    "start_time": "2022-02-01T18:05:36.883Z"
   },
   {
    "duration": 23,
    "start_time": "2022-02-01T18:05:37.086Z"
   },
   {
    "duration": 9,
    "start_time": "2022-02-01T18:05:37.110Z"
   },
   {
    "duration": 10,
    "start_time": "2022-02-01T18:05:37.120Z"
   },
   {
    "duration": 35,
    "start_time": "2022-02-01T18:05:37.132Z"
   },
   {
    "duration": 7,
    "start_time": "2022-02-01T18:05:37.169Z"
   },
   {
    "duration": 14,
    "start_time": "2022-02-01T18:05:37.178Z"
   },
   {
    "duration": 17,
    "start_time": "2022-02-01T18:05:37.193Z"
   },
   {
    "duration": 18,
    "start_time": "2022-02-01T18:05:37.211Z"
   },
   {
    "duration": 28,
    "start_time": "2022-02-01T18:05:37.231Z"
   },
   {
    "duration": 6,
    "start_time": "2022-02-01T18:05:37.261Z"
   },
   {
    "duration": 9,
    "start_time": "2022-02-01T18:05:37.269Z"
   },
   {
    "duration": 8,
    "start_time": "2022-02-01T18:05:37.280Z"
   },
   {
    "duration": 9,
    "start_time": "2022-02-01T18:05:37.289Z"
   },
   {
    "duration": 14,
    "start_time": "2022-02-01T18:05:37.299Z"
   },
   {
    "duration": 1841,
    "start_time": "2022-02-01T20:04:46.597Z"
   },
   {
    "duration": 13,
    "start_time": "2022-02-01T20:04:48.442Z"
   },
   {
    "duration": 28,
    "start_time": "2022-02-01T20:04:48.459Z"
   },
   {
    "duration": 38,
    "start_time": "2022-02-01T20:04:48.490Z"
   },
   {
    "duration": 278,
    "start_time": "2022-02-01T20:04:48.532Z"
   },
   {
    "duration": 38,
    "start_time": "2022-02-01T20:04:48.813Z"
   },
   {
    "duration": 36,
    "start_time": "2022-02-01T20:04:48.854Z"
   },
   {
    "duration": 210,
    "start_time": "2022-02-01T20:04:48.892Z"
   },
   {
    "duration": 32,
    "start_time": "2022-02-01T20:04:49.106Z"
   },
   {
    "duration": 41,
    "start_time": "2022-02-01T20:04:49.141Z"
   },
   {
    "duration": 178,
    "start_time": "2022-02-01T20:04:49.185Z"
   },
   {
    "duration": 28,
    "start_time": "2022-02-01T20:04:49.366Z"
   },
   {
    "duration": 39,
    "start_time": "2022-02-01T20:04:49.397Z"
   },
   {
    "duration": 24,
    "start_time": "2022-02-01T20:04:49.438Z"
   },
   {
    "duration": 120,
    "start_time": "2022-02-01T20:04:49.465Z"
   },
   {
    "duration": 9,
    "start_time": "2022-02-01T20:04:49.587Z"
   },
   {
    "duration": 28,
    "start_time": "2022-02-01T20:04:49.599Z"
   },
   {
    "duration": 100,
    "start_time": "2022-02-01T20:04:49.629Z"
   },
   {
    "duration": 146,
    "start_time": "2022-02-01T20:04:49.733Z"
   },
   {
    "duration": 77,
    "start_time": "2022-02-01T20:04:49.882Z"
   },
   {
    "duration": 80,
    "start_time": "2022-02-01T20:04:49.962Z"
   },
   {
    "duration": 54,
    "start_time": "2022-02-01T20:04:50.044Z"
   },
   {
    "duration": 56,
    "start_time": "2022-02-01T20:04:50.123Z"
   },
   {
    "duration": 41,
    "start_time": "2022-02-01T20:04:50.182Z"
   },
   {
    "duration": 21,
    "start_time": "2022-02-01T20:04:50.226Z"
   },
   {
    "duration": 6,
    "start_time": "2022-02-01T20:04:50.250Z"
   },
   {
    "duration": 12,
    "start_time": "2022-02-01T20:04:50.263Z"
   },
   {
    "duration": 73,
    "start_time": "2022-02-01T20:04:50.280Z"
   },
   {
    "duration": 21,
    "start_time": "2022-02-01T20:04:50.356Z"
   },
   {
    "duration": 954,
    "start_time": "2022-02-01T20:04:50.379Z"
   },
   {
    "duration": 19,
    "start_time": "2022-02-01T20:04:51.335Z"
   },
   {
    "duration": 868,
    "start_time": "2022-02-01T20:04:51.356Z"
   },
   {
    "duration": 68,
    "start_time": "2022-02-01T20:04:52.227Z"
   },
   {
    "duration": 32,
    "start_time": "2022-02-01T20:04:52.298Z"
   },
   {
    "duration": 36,
    "start_time": "2022-02-01T20:04:52.333Z"
   },
   {
    "duration": 15,
    "start_time": "2022-02-01T20:04:52.372Z"
   },
   {
    "duration": 13,
    "start_time": "2022-02-01T20:04:52.390Z"
   },
   {
    "duration": 29,
    "start_time": "2022-02-01T20:04:52.406Z"
   },
   {
    "duration": 88,
    "start_time": "2022-02-01T20:04:52.437Z"
   },
   {
    "duration": 8,
    "start_time": "2022-02-01T20:04:52.528Z"
   },
   {
    "duration": 47,
    "start_time": "2022-02-01T20:04:52.538Z"
   },
   {
    "duration": 4,
    "start_time": "2022-02-01T20:04:52.587Z"
   },
   {
    "duration": 19,
    "start_time": "2022-02-01T20:04:52.622Z"
   },
   {
    "duration": 22,
    "start_time": "2022-02-01T20:04:52.644Z"
   },
   {
    "duration": 83,
    "start_time": "2022-02-01T20:04:52.669Z"
   },
   {
    "duration": 17,
    "start_time": "2022-02-01T20:04:52.755Z"
   },
   {
    "duration": 11,
    "start_time": "2022-02-01T20:04:52.776Z"
   },
   {
    "duration": 42,
    "start_time": "2022-02-01T20:04:52.792Z"
   },
   {
    "duration": 13,
    "start_time": "2022-02-01T20:04:52.837Z"
   },
   {
    "duration": 15,
    "start_time": "2022-02-01T20:04:52.853Z"
   },
   {
    "duration": 11,
    "start_time": "2022-02-01T20:04:52.871Z"
   },
   {
    "duration": 43,
    "start_time": "2022-02-01T20:04:52.886Z"
   },
   {
    "duration": 13,
    "start_time": "2022-02-01T20:04:52.948Z"
   },
   {
    "duration": 19,
    "start_time": "2022-02-01T20:04:52.964Z"
   },
   {
    "duration": 16,
    "start_time": "2022-02-01T20:04:52.987Z"
   },
   {
    "duration": 12,
    "start_time": "2022-02-01T20:04:53.027Z"
   },
   {
    "duration": 24,
    "start_time": "2022-02-01T20:04:53.042Z"
   },
   {
    "duration": 27,
    "start_time": "2022-02-01T20:04:53.070Z"
   },
   {
    "duration": 13,
    "start_time": "2022-02-01T20:04:59.677Z"
   },
   {
    "duration": 20,
    "start_time": "2022-02-01T20:05:14.170Z"
   },
   {
    "duration": 12,
    "start_time": "2022-02-01T20:06:16.651Z"
   },
   {
    "duration": 10,
    "start_time": "2022-02-01T20:12:38.145Z"
   },
   {
    "duration": 9975,
    "start_time": "2022-02-01T20:21:51.485Z"
   },
   {
    "duration": 175,
    "start_time": "2022-02-01T20:22:24.401Z"
   },
   {
    "duration": 187,
    "start_time": "2022-02-01T20:22:51.981Z"
   },
   {
    "duration": 8,
    "start_time": "2022-02-01T20:27:27.902Z"
   },
   {
    "duration": 8,
    "start_time": "2022-02-01T20:27:46.140Z"
   },
   {
    "duration": 8,
    "start_time": "2022-02-01T20:28:36.990Z"
   },
   {
    "duration": 47,
    "start_time": "2022-02-01T20:35:00.498Z"
   },
   {
    "duration": 9,
    "start_time": "2022-02-01T20:35:00.548Z"
   },
   {
    "duration": 81,
    "start_time": "2022-02-01T20:35:00.561Z"
   },
   {
    "duration": 14,
    "start_time": "2022-02-01T20:35:00.646Z"
   },
   {
    "duration": 221,
    "start_time": "2022-02-01T20:35:00.663Z"
   },
   {
    "duration": 40,
    "start_time": "2022-02-01T20:35:00.886Z"
   },
   {
    "duration": 37,
    "start_time": "2022-02-01T20:35:00.929Z"
   },
   {
    "duration": 212,
    "start_time": "2022-02-01T20:35:00.970Z"
   },
   {
    "duration": 49,
    "start_time": "2022-02-01T20:35:01.186Z"
   },
   {
    "duration": 39,
    "start_time": "2022-02-01T20:35:01.238Z"
   },
   {
    "duration": 161,
    "start_time": "2022-02-01T20:35:01.279Z"
   },
   {
    "duration": 19,
    "start_time": "2022-02-01T20:35:01.443Z"
   },
   {
    "duration": 24,
    "start_time": "2022-02-01T20:35:01.464Z"
   },
   {
    "duration": 43,
    "start_time": "2022-02-01T20:35:01.490Z"
   },
   {
    "duration": 113,
    "start_time": "2022-02-01T20:35:01.536Z"
   },
   {
    "duration": 8,
    "start_time": "2022-02-01T20:35:01.652Z"
   },
   {
    "duration": 11,
    "start_time": "2022-02-01T20:35:01.664Z"
   },
   {
    "duration": 111,
    "start_time": "2022-02-01T20:35:01.678Z"
   },
   {
    "duration": 91,
    "start_time": "2022-02-01T20:35:01.791Z"
   },
   {
    "duration": 70,
    "start_time": "2022-02-01T20:35:01.885Z"
   },
   {
    "duration": 78,
    "start_time": "2022-02-01T20:35:01.958Z"
   },
   {
    "duration": 51,
    "start_time": "2022-02-01T20:35:02.038Z"
   },
   {
    "duration": 69,
    "start_time": "2022-02-01T20:35:02.095Z"
   },
   {
    "duration": 17,
    "start_time": "2022-02-01T20:35:02.167Z"
   },
   {
    "duration": 43,
    "start_time": "2022-02-01T20:35:02.186Z"
   },
   {
    "duration": 9,
    "start_time": "2022-02-01T20:35:02.233Z"
   },
   {
    "duration": 13,
    "start_time": "2022-02-01T20:35:02.245Z"
   },
   {
    "duration": 25,
    "start_time": "2022-02-01T20:35:02.261Z"
   },
   {
    "duration": 49,
    "start_time": "2022-02-01T20:35:02.290Z"
   },
   {
    "duration": 849,
    "start_time": "2022-02-01T20:35:02.342Z"
   },
   {
    "duration": 31,
    "start_time": "2022-02-01T20:35:03.194Z"
   },
   {
    "duration": 795,
    "start_time": "2022-02-01T20:35:03.228Z"
   },
   {
    "duration": 61,
    "start_time": "2022-02-01T20:35:04.026Z"
   },
   {
    "duration": 36,
    "start_time": "2022-02-01T20:35:04.090Z"
   },
   {
    "duration": 12,
    "start_time": "2022-02-01T20:35:04.128Z"
   },
   {
    "duration": 12,
    "start_time": "2022-02-01T20:35:04.143Z"
   },
   {
    "duration": 7,
    "start_time": "2022-02-01T20:35:04.158Z"
   },
   {
    "duration": 57,
    "start_time": "2022-02-01T20:35:04.167Z"
   },
   {
    "duration": 51,
    "start_time": "2022-02-01T20:35:04.227Z"
   },
   {
    "duration": 7,
    "start_time": "2022-02-01T20:35:04.281Z"
   },
   {
    "duration": 42,
    "start_time": "2022-02-01T20:35:04.290Z"
   },
   {
    "duration": 32,
    "start_time": "2022-02-01T20:35:04.335Z"
   },
   {
    "duration": 4,
    "start_time": "2022-02-01T20:35:04.371Z"
   },
   {
    "duration": 17,
    "start_time": "2022-02-01T20:35:04.378Z"
   },
   {
    "duration": 17,
    "start_time": "2022-02-01T20:35:04.424Z"
   },
   {
    "duration": 19,
    "start_time": "2022-02-01T20:35:04.444Z"
   },
   {
    "duration": 74,
    "start_time": "2022-02-01T20:35:04.466Z"
   },
   {
    "duration": 14,
    "start_time": "2022-02-01T20:35:04.543Z"
   },
   {
    "duration": 15,
    "start_time": "2022-02-01T20:35:04.560Z"
   },
   {
    "duration": 8,
    "start_time": "2022-02-01T20:35:04.578Z"
   },
   {
    "duration": 66,
    "start_time": "2022-02-01T20:35:04.589Z"
   },
   {
    "duration": 9,
    "start_time": "2022-02-01T20:35:04.658Z"
   },
   {
    "duration": 22,
    "start_time": "2022-02-01T20:35:04.670Z"
   },
   {
    "duration": 12,
    "start_time": "2022-02-01T20:35:09.396Z"
   },
   {
    "duration": 11,
    "start_time": "2022-02-01T20:35:13.614Z"
   },
   {
    "duration": 14,
    "start_time": "2022-02-01T20:36:09.180Z"
   },
   {
    "duration": 9,
    "start_time": "2022-02-01T20:36:13.132Z"
   },
   {
    "duration": 10,
    "start_time": "2022-02-01T20:36:25.379Z"
   },
   {
    "duration": 12,
    "start_time": "2022-02-01T20:36:27.553Z"
   },
   {
    "duration": 14,
    "start_time": "2022-02-01T20:36:31.481Z"
   },
   {
    "duration": 10,
    "start_time": "2022-02-01T20:36:41.174Z"
   },
   {
    "duration": 15,
    "start_time": "2022-02-01T20:36:45.848Z"
   },
   {
    "duration": 12,
    "start_time": "2022-02-01T20:36:51.083Z"
   },
   {
    "duration": 20,
    "start_time": "2022-02-01T20:36:56.218Z"
   },
   {
    "duration": 8,
    "start_time": "2022-02-01T20:36:59.560Z"
   },
   {
    "duration": 13,
    "start_time": "2022-02-01T20:37:03.145Z"
   },
   {
    "duration": 19,
    "start_time": "2022-02-01T20:39:37.542Z"
   },
   {
    "duration": 9,
    "start_time": "2022-02-01T20:42:08.244Z"
   },
   {
    "duration": 10,
    "start_time": "2022-02-01T20:42:19.505Z"
   },
   {
    "duration": 182,
    "start_time": "2022-02-01T20:43:36.659Z"
   },
   {
    "duration": 49,
    "start_time": "2022-02-01T20:49:00.597Z"
   },
   {
    "duration": 10,
    "start_time": "2022-02-01T20:49:00.649Z"
   },
   {
    "duration": 30,
    "start_time": "2022-02-01T20:49:00.664Z"
   },
   {
    "duration": 14,
    "start_time": "2022-02-01T20:49:00.724Z"
   },
   {
    "duration": 215,
    "start_time": "2022-02-01T20:49:00.741Z"
   },
   {
    "duration": 27,
    "start_time": "2022-02-01T20:49:00.959Z"
   },
   {
    "duration": 57,
    "start_time": "2022-02-01T20:49:00.989Z"
   },
   {
    "duration": 194,
    "start_time": "2022-02-01T20:49:01.048Z"
   },
   {
    "duration": 29,
    "start_time": "2022-02-01T20:49:01.248Z"
   },
   {
    "duration": 80,
    "start_time": "2022-02-01T20:49:01.281Z"
   },
   {
    "duration": 129,
    "start_time": "2022-02-01T20:49:01.364Z"
   },
   {
    "duration": 31,
    "start_time": "2022-02-01T20:49:01.496Z"
   },
   {
    "duration": 22,
    "start_time": "2022-02-01T20:49:01.529Z"
   },
   {
    "duration": 26,
    "start_time": "2022-02-01T20:49:01.554Z"
   },
   {
    "duration": 126,
    "start_time": "2022-02-01T20:49:01.583Z"
   },
   {
    "duration": 17,
    "start_time": "2022-02-01T20:49:01.711Z"
   },
   {
    "duration": 13,
    "start_time": "2022-02-01T20:49:01.731Z"
   },
   {
    "duration": 106,
    "start_time": "2022-02-01T20:49:01.747Z"
   },
   {
    "duration": 90,
    "start_time": "2022-02-01T20:49:01.856Z"
   },
   {
    "duration": 58,
    "start_time": "2022-02-01T20:49:01.949Z"
   },
   {
    "duration": 60,
    "start_time": "2022-02-01T20:49:02.024Z"
   },
   {
    "duration": 70,
    "start_time": "2022-02-01T20:49:02.087Z"
   },
   {
    "duration": 80,
    "start_time": "2022-02-01T20:49:02.161Z"
   },
   {
    "duration": 38,
    "start_time": "2022-02-01T20:50:39.761Z"
   },
   {
    "duration": 9,
    "start_time": "2022-02-01T20:50:39.802Z"
   },
   {
    "duration": 25,
    "start_time": "2022-02-01T20:50:39.814Z"
   },
   {
    "duration": 12,
    "start_time": "2022-02-01T20:50:39.842Z"
   },
   {
    "duration": 225,
    "start_time": "2022-02-01T20:50:39.856Z"
   },
   {
    "duration": 42,
    "start_time": "2022-02-01T20:50:40.084Z"
   },
   {
    "duration": 37,
    "start_time": "2022-02-01T20:50:40.128Z"
   },
   {
    "duration": 191,
    "start_time": "2022-02-01T20:50:40.168Z"
   },
   {
    "duration": 25,
    "start_time": "2022-02-01T20:50:40.364Z"
   },
   {
    "duration": 63,
    "start_time": "2022-02-01T20:50:40.392Z"
   },
   {
    "duration": 123,
    "start_time": "2022-02-01T20:50:40.458Z"
   },
   {
    "duration": 43,
    "start_time": "2022-02-01T20:50:40.584Z"
   },
   {
    "duration": 19,
    "start_time": "2022-02-01T20:50:40.630Z"
   },
   {
    "duration": 25,
    "start_time": "2022-02-01T20:50:40.652Z"
   },
   {
    "duration": 26,
    "start_time": "2022-02-01T20:51:09.179Z"
   },
   {
    "duration": 189,
    "start_time": "2022-02-01T20:53:36.184Z"
   },
   {
    "duration": 482,
    "start_time": "2022-02-01T20:54:16.867Z"
   },
   {
    "duration": 1178,
    "start_time": "2022-02-02T12:11:14.208Z"
   },
   {
    "duration": 6,
    "start_time": "2022-02-02T12:11:15.388Z"
   },
   {
    "duration": 20,
    "start_time": "2022-02-02T12:11:15.396Z"
   },
   {
    "duration": 8,
    "start_time": "2022-02-02T12:11:15.418Z"
   },
   {
    "duration": 178,
    "start_time": "2022-02-02T12:11:15.428Z"
   },
   {
    "duration": 21,
    "start_time": "2022-02-02T12:11:15.607Z"
   },
   {
    "duration": 49,
    "start_time": "2022-02-02T12:11:15.630Z"
   },
   {
    "duration": 140,
    "start_time": "2022-02-02T12:11:15.681Z"
   },
   {
    "duration": 17,
    "start_time": "2022-02-02T12:11:15.824Z"
   },
   {
    "duration": 49,
    "start_time": "2022-02-02T12:11:15.843Z"
   },
   {
    "duration": 100,
    "start_time": "2022-02-02T12:11:15.893Z"
   },
   {
    "duration": 15,
    "start_time": "2022-02-02T12:11:15.995Z"
   },
   {
    "duration": 16,
    "start_time": "2022-02-02T12:11:16.011Z"
   },
   {
    "duration": 32,
    "start_time": "2022-02-02T12:11:16.028Z"
   },
   {
    "duration": 65,
    "start_time": "2022-02-02T12:11:16.063Z"
   },
   {
    "duration": 6,
    "start_time": "2022-02-02T12:11:16.130Z"
   },
   {
    "duration": 11,
    "start_time": "2022-02-02T12:11:16.159Z"
   },
   {
    "duration": 64,
    "start_time": "2022-02-02T12:11:16.172Z"
   },
   {
    "duration": 77,
    "start_time": "2022-02-02T12:11:16.238Z"
   },
   {
    "duration": 55,
    "start_time": "2022-02-02T12:11:16.317Z"
   },
   {
    "duration": 43,
    "start_time": "2022-02-02T12:11:16.377Z"
   },
   {
    "duration": 50,
    "start_time": "2022-02-02T12:11:16.421Z"
   },
   {
    "duration": 40,
    "start_time": "2022-02-02T12:11:16.474Z"
   },
   {
    "duration": 11,
    "start_time": "2022-02-02T12:11:16.516Z"
   },
   {
    "duration": 39,
    "start_time": "2022-02-02T12:11:16.529Z"
   },
   {
    "duration": 15,
    "start_time": "2022-02-02T12:11:16.570Z"
   },
   {
    "duration": 8,
    "start_time": "2022-02-02T12:11:16.590Z"
   },
   {
    "duration": 22,
    "start_time": "2022-02-02T12:11:16.600Z"
   },
   {
    "duration": 15,
    "start_time": "2022-02-02T12:11:16.624Z"
   },
   {
    "duration": 485,
    "start_time": "2022-02-02T12:11:16.640Z"
   },
   {
    "duration": 13,
    "start_time": "2022-02-02T12:11:17.127Z"
   },
   {
    "duration": 464,
    "start_time": "2022-02-02T12:11:17.142Z"
   },
   {
    "duration": 70,
    "start_time": "2022-02-02T12:11:17.608Z"
   },
   {
    "duration": 9,
    "start_time": "2022-02-02T12:11:17.680Z"
   },
   {
    "duration": 18,
    "start_time": "2022-02-02T12:11:17.691Z"
   },
   {
    "duration": 12,
    "start_time": "2022-02-02T12:11:17.711Z"
   },
   {
    "duration": 7,
    "start_time": "2022-02-02T12:11:17.725Z"
   },
   {
    "duration": 27,
    "start_time": "2022-02-02T12:11:17.733Z"
   },
   {
    "duration": 42,
    "start_time": "2022-02-02T12:11:17.762Z"
   },
   {
    "duration": 4,
    "start_time": "2022-02-02T12:11:17.806Z"
   },
   {
    "duration": 17,
    "start_time": "2022-02-02T12:11:17.812Z"
   },
   {
    "duration": 48,
    "start_time": "2022-02-02T12:11:17.831Z"
   },
   {
    "duration": 3,
    "start_time": "2022-02-02T12:11:17.881Z"
   },
   {
    "duration": 9,
    "start_time": "2022-02-02T12:11:17.885Z"
   },
   {
    "duration": 15,
    "start_time": "2022-02-02T12:11:17.896Z"
   },
   {
    "duration": 13,
    "start_time": "2022-02-02T12:11:17.912Z"
   },
   {
    "duration": 60,
    "start_time": "2022-02-02T12:11:17.926Z"
   },
   {
    "duration": 10,
    "start_time": "2022-02-02T12:11:17.988Z"
   },
   {
    "duration": 6,
    "start_time": "2022-02-02T12:11:18.000Z"
   },
   {
    "duration": 20,
    "start_time": "2022-02-02T12:11:18.007Z"
   },
   {
    "duration": 16,
    "start_time": "2022-02-02T12:11:18.028Z"
   },
   {
    "duration": 10,
    "start_time": "2022-02-02T12:11:18.059Z"
   },
   {
    "duration": 15,
    "start_time": "2022-02-02T12:11:18.071Z"
   },
   {
    "duration": 10,
    "start_time": "2022-02-02T12:11:18.087Z"
   },
   {
    "duration": 8,
    "start_time": "2022-02-02T12:11:18.099Z"
   },
   {
    "duration": 8,
    "start_time": "2022-02-02T12:11:18.108Z"
   },
   {
    "duration": 5,
    "start_time": "2022-02-02T12:11:18.118Z"
   },
   {
    "duration": 36,
    "start_time": "2022-02-02T12:11:18.124Z"
   },
   {
    "duration": 9,
    "start_time": "2022-02-02T12:11:18.162Z"
   },
   {
    "duration": 17,
    "start_time": "2022-02-02T12:11:18.173Z"
   },
   {
    "duration": 14,
    "start_time": "2022-02-02T12:11:18.192Z"
   },
   {
    "duration": 13,
    "start_time": "2022-02-02T12:11:18.208Z"
   },
   {
    "duration": 15,
    "start_time": "2022-02-02T12:11:18.223Z"
   },
   {
    "duration": 25,
    "start_time": "2022-02-02T12:11:18.240Z"
   },
   {
    "duration": 18,
    "start_time": "2022-02-02T12:11:18.267Z"
   },
   {
    "duration": 12,
    "start_time": "2022-02-02T12:11:18.287Z"
   },
   {
    "duration": 7,
    "start_time": "2022-02-02T12:11:18.301Z"
   },
   {
    "duration": 7,
    "start_time": "2022-02-02T12:11:18.309Z"
   },
   {
    "duration": 127,
    "start_time": "2022-02-02T12:11:18.318Z"
   },
   {
    "duration": 286,
    "start_time": "2022-02-02T12:11:18.447Z"
   },
   {
    "duration": 5,
    "start_time": "2022-02-02T12:11:25.111Z"
   },
   {
    "duration": 182,
    "start_time": "2022-02-02T12:29:20.892Z"
   },
   {
    "duration": 104,
    "start_time": "2022-02-02T12:29:49.674Z"
   },
   {
    "duration": 46,
    "start_time": "2022-02-02T12:43:27.476Z"
   },
   {
    "duration": 80,
    "start_time": "2022-02-02T12:43:59.965Z"
   },
   {
    "duration": 7,
    "start_time": "2022-02-02T12:45:07.843Z"
   },
   {
    "duration": 3532,
    "start_time": "2022-02-02T12:45:33.168Z"
   },
   {
    "duration": 7,
    "start_time": "2022-02-02T12:45:50.915Z"
   },
   {
    "duration": 38,
    "start_time": "2022-02-02T12:48:02.312Z"
   },
   {
    "duration": 42,
    "start_time": "2022-02-02T12:48:05.304Z"
   },
   {
    "duration": 45,
    "start_time": "2022-02-02T14:27:52.926Z"
   },
   {
    "duration": 6,
    "start_time": "2022-02-02T14:27:52.973Z"
   },
   {
    "duration": 23,
    "start_time": "2022-02-02T14:27:52.981Z"
   },
   {
    "duration": 14,
    "start_time": "2022-02-02T14:27:53.006Z"
   },
   {
    "duration": 175,
    "start_time": "2022-02-02T14:27:53.022Z"
   },
   {
    "duration": 19,
    "start_time": "2022-02-02T14:27:53.198Z"
   },
   {
    "duration": 41,
    "start_time": "2022-02-02T14:27:53.219Z"
   },
   {
    "duration": 134,
    "start_time": "2022-02-02T14:27:53.263Z"
   },
   {
    "duration": 16,
    "start_time": "2022-02-02T14:27:53.399Z"
   },
   {
    "duration": 43,
    "start_time": "2022-02-02T14:27:53.417Z"
   },
   {
    "duration": 97,
    "start_time": "2022-02-02T14:27:53.462Z"
   },
   {
    "duration": 14,
    "start_time": "2022-02-02T14:27:53.560Z"
   },
   {
    "duration": 13,
    "start_time": "2022-02-02T14:27:53.576Z"
   },
   {
    "duration": 20,
    "start_time": "2022-02-02T14:27:53.590Z"
   },
   {
    "duration": 81,
    "start_time": "2022-02-02T14:27:53.612Z"
   },
   {
    "duration": 6,
    "start_time": "2022-02-02T14:27:53.696Z"
   },
   {
    "duration": 9,
    "start_time": "2022-02-02T14:27:53.704Z"
   },
   {
    "duration": 80,
    "start_time": "2022-02-02T14:27:53.715Z"
   },
   {
    "duration": 70,
    "start_time": "2022-02-02T14:27:53.796Z"
   },
   {
    "duration": 41,
    "start_time": "2022-02-02T14:27:53.868Z"
   },
   {
    "duration": 56,
    "start_time": "2022-02-02T14:27:53.910Z"
   },
   {
    "duration": 34,
    "start_time": "2022-02-02T14:27:53.967Z"
   },
   {
    "duration": 55,
    "start_time": "2022-02-02T14:27:54.005Z"
   },
   {
    "duration": 10,
    "start_time": "2022-02-02T14:27:54.063Z"
   },
   {
    "duration": 19,
    "start_time": "2022-02-02T14:27:54.075Z"
   },
   {
    "duration": 4,
    "start_time": "2022-02-02T14:27:54.096Z"
   },
   {
    "duration": 11,
    "start_time": "2022-02-02T14:27:54.102Z"
   },
   {
    "duration": 18,
    "start_time": "2022-02-02T14:27:54.114Z"
   },
   {
    "duration": 37,
    "start_time": "2022-02-02T14:27:54.133Z"
   },
   {
    "duration": 452,
    "start_time": "2022-02-02T14:27:54.171Z"
   },
   {
    "duration": 14,
    "start_time": "2022-02-02T14:27:54.624Z"
   },
   {
    "duration": 454,
    "start_time": "2022-02-02T14:27:54.640Z"
   },
   {
    "duration": 47,
    "start_time": "2022-02-02T14:27:55.096Z"
   },
   {
    "duration": 22,
    "start_time": "2022-02-02T14:27:55.144Z"
   },
   {
    "duration": 9,
    "start_time": "2022-02-02T14:27:55.167Z"
   },
   {
    "duration": 11,
    "start_time": "2022-02-02T14:27:55.178Z"
   },
   {
    "duration": 6,
    "start_time": "2022-02-02T14:27:55.190Z"
   },
   {
    "duration": 7,
    "start_time": "2022-02-02T14:27:55.198Z"
   },
   {
    "duration": 79,
    "start_time": "2022-02-02T14:27:55.206Z"
   },
   {
    "duration": 5,
    "start_time": "2022-02-02T14:27:55.287Z"
   },
   {
    "duration": 11,
    "start_time": "2022-02-02T14:27:55.294Z"
   },
   {
    "duration": 26,
    "start_time": "2022-02-02T14:27:55.306Z"
   },
   {
    "duration": 3,
    "start_time": "2022-02-02T14:27:55.333Z"
   },
   {
    "duration": 26,
    "start_time": "2022-02-02T14:27:55.338Z"
   },
   {
    "duration": 14,
    "start_time": "2022-02-02T14:27:55.367Z"
   },
   {
    "duration": 15,
    "start_time": "2022-02-02T14:27:55.383Z"
   },
   {
    "duration": 25,
    "start_time": "2022-02-02T14:27:55.400Z"
   },
   {
    "duration": 12,
    "start_time": "2022-02-02T14:27:55.458Z"
   },
   {
    "duration": 7,
    "start_time": "2022-02-02T14:27:55.472Z"
   },
   {
    "duration": 7,
    "start_time": "2022-02-02T14:27:55.481Z"
   },
   {
    "duration": 21,
    "start_time": "2022-02-02T14:27:55.490Z"
   },
   {
    "duration": 7,
    "start_time": "2022-02-02T14:27:55.512Z"
   },
   {
    "duration": 39,
    "start_time": "2022-02-02T14:27:55.521Z"
   },
   {
    "duration": 8,
    "start_time": "2022-02-02T14:27:55.562Z"
   },
   {
    "duration": 10,
    "start_time": "2022-02-02T14:27:55.572Z"
   },
   {
    "duration": 13,
    "start_time": "2022-02-02T14:27:55.583Z"
   },
   {
    "duration": 8,
    "start_time": "2022-02-02T14:27:55.597Z"
   },
   {
    "duration": 12,
    "start_time": "2022-02-02T14:27:55.606Z"
   },
   {
    "duration": 6,
    "start_time": "2022-02-02T14:27:55.619Z"
   },
   {
    "duration": 34,
    "start_time": "2022-02-02T14:27:55.627Z"
   },
   {
    "duration": 13,
    "start_time": "2022-02-02T14:27:55.662Z"
   },
   {
    "duration": 7,
    "start_time": "2022-02-02T14:27:55.676Z"
   },
   {
    "duration": 13,
    "start_time": "2022-02-02T14:27:55.685Z"
   },
   {
    "duration": 5,
    "start_time": "2022-02-02T14:27:55.700Z"
   },
   {
    "duration": 12,
    "start_time": "2022-02-02T14:27:55.707Z"
   },
   {
    "duration": 40,
    "start_time": "2022-02-02T14:27:55.720Z"
   },
   {
    "duration": 6,
    "start_time": "2022-02-02T14:27:55.762Z"
   },
   {
    "duration": 7,
    "start_time": "2022-02-02T14:27:55.773Z"
   },
   {
    "duration": 115,
    "start_time": "2022-02-02T14:27:55.782Z"
   },
   {
    "duration": 287,
    "start_time": "2022-02-02T14:27:55.899Z"
   },
   {
    "duration": 4,
    "start_time": "2022-02-02T14:27:56.188Z"
   },
   {
    "duration": 112,
    "start_time": "2022-02-02T14:27:56.194Z"
   },
   {
    "duration": 6,
    "start_time": "2022-02-02T14:27:56.307Z"
   },
   {
    "duration": 8,
    "start_time": "2022-02-02T14:27:56.315Z"
   },
   {
    "duration": 54,
    "start_time": "2022-02-02T14:27:56.325Z"
   },
   {
    "duration": 36,
    "start_time": "2022-02-02T14:27:56.381Z"
   },
   {
    "duration": 36,
    "start_time": "2022-02-02T14:27:58.749Z"
   },
   {
    "duration": 232,
    "start_time": "2022-02-02T14:27:59.835Z"
   },
   {
    "duration": 348,
    "start_time": "2022-02-02T14:29:18.953Z"
   },
   {
    "duration": 43,
    "start_time": "2022-02-02T14:39:25.378Z"
   },
   {
    "duration": 175,
    "start_time": "2022-02-02T14:39:46.065Z"
   },
   {
    "duration": 6,
    "start_time": "2022-02-02T14:40:11.317Z"
   },
   {
    "duration": 6,
    "start_time": "2022-02-02T14:41:24.215Z"
   },
   {
    "duration": 41,
    "start_time": "2022-02-02T14:44:23.676Z"
   },
   {
    "duration": 10,
    "start_time": "2022-02-02T14:44:44.842Z"
   },
   {
    "duration": 9,
    "start_time": "2022-02-02T14:49:11.460Z"
   },
   {
    "duration": 1303,
    "start_time": "2022-02-03T09:18:36.904Z"
   },
   {
    "duration": 7,
    "start_time": "2022-02-03T09:18:38.209Z"
   },
   {
    "duration": 18,
    "start_time": "2022-02-03T09:18:38.219Z"
   },
   {
    "duration": 8,
    "start_time": "2022-02-03T09:18:38.239Z"
   },
   {
    "duration": 176,
    "start_time": "2022-02-03T09:18:38.249Z"
   },
   {
    "duration": 22,
    "start_time": "2022-02-03T09:18:38.427Z"
   },
   {
    "duration": 40,
    "start_time": "2022-02-03T09:18:38.451Z"
   },
   {
    "duration": 145,
    "start_time": "2022-02-03T09:18:38.508Z"
   },
   {
    "duration": 18,
    "start_time": "2022-02-03T09:18:38.656Z"
   },
   {
    "duration": 44,
    "start_time": "2022-02-03T09:18:38.676Z"
   },
   {
    "duration": 95,
    "start_time": "2022-02-03T09:18:38.722Z"
   },
   {
    "duration": 15,
    "start_time": "2022-02-03T09:18:38.819Z"
   },
   {
    "duration": 15,
    "start_time": "2022-02-03T09:18:38.836Z"
   },
   {
    "duration": 28,
    "start_time": "2022-02-03T09:18:38.853Z"
   },
   {
    "duration": 80,
    "start_time": "2022-02-03T09:18:38.883Z"
   },
   {
    "duration": 6,
    "start_time": "2022-02-03T09:18:38.965Z"
   },
   {
    "duration": 14,
    "start_time": "2022-02-03T09:18:38.973Z"
   },
   {
    "duration": 72,
    "start_time": "2022-02-03T09:18:38.989Z"
   },
   {
    "duration": 69,
    "start_time": "2022-02-03T09:18:39.063Z"
   },
   {
    "duration": 44,
    "start_time": "2022-02-03T09:18:39.134Z"
   },
   {
    "duration": 61,
    "start_time": "2022-02-03T09:18:39.180Z"
   },
   {
    "duration": 40,
    "start_time": "2022-02-03T09:18:39.242Z"
   },
   {
    "duration": 42,
    "start_time": "2022-02-03T09:18:39.308Z"
   },
   {
    "duration": 11,
    "start_time": "2022-02-03T09:18:39.353Z"
   },
   {
    "duration": 14,
    "start_time": "2022-02-03T09:18:39.366Z"
   },
   {
    "duration": 28,
    "start_time": "2022-02-03T09:18:39.381Z"
   },
   {
    "duration": 15,
    "start_time": "2022-02-03T09:18:39.411Z"
   },
   {
    "duration": 37,
    "start_time": "2022-02-03T09:18:39.428Z"
   },
   {
    "duration": 16,
    "start_time": "2022-02-03T09:18:39.467Z"
   },
   {
    "duration": 466,
    "start_time": "2022-02-03T09:18:39.485Z"
   },
   {
    "duration": 14,
    "start_time": "2022-02-03T09:18:39.953Z"
   },
   {
    "duration": 472,
    "start_time": "2022-02-03T09:18:39.969Z"
   },
   {
    "duration": 53,
    "start_time": "2022-02-03T09:18:40.443Z"
   },
   {
    "duration": 17,
    "start_time": "2022-02-03T09:18:40.497Z"
   },
   {
    "duration": 14,
    "start_time": "2022-02-03T09:18:40.516Z"
   },
   {
    "duration": 12,
    "start_time": "2022-02-03T09:18:40.532Z"
   },
   {
    "duration": 7,
    "start_time": "2022-02-03T09:18:40.546Z"
   },
   {
    "duration": 8,
    "start_time": "2022-02-03T09:18:40.555Z"
   },
   {
    "duration": 76,
    "start_time": "2022-02-03T09:18:40.565Z"
   },
   {
    "duration": 5,
    "start_time": "2022-02-03T09:18:40.642Z"
   },
   {
    "duration": 10,
    "start_time": "2022-02-03T09:18:40.649Z"
   },
   {
    "duration": 54,
    "start_time": "2022-02-03T09:18:40.661Z"
   },
   {
    "duration": 3,
    "start_time": "2022-02-03T09:18:40.717Z"
   },
   {
    "duration": 10,
    "start_time": "2022-02-03T09:18:40.721Z"
   },
   {
    "duration": 14,
    "start_time": "2022-02-03T09:18:40.732Z"
   },
   {
    "duration": 14,
    "start_time": "2022-02-03T09:18:40.748Z"
   },
   {
    "duration": 56,
    "start_time": "2022-02-03T09:18:40.764Z"
   },
   {
    "duration": 9,
    "start_time": "2022-02-03T09:18:40.822Z"
   },
   {
    "duration": 13,
    "start_time": "2022-02-03T09:18:40.833Z"
   },
   {
    "duration": 9,
    "start_time": "2022-02-03T09:18:40.847Z"
   },
   {
    "duration": 17,
    "start_time": "2022-02-03T09:18:40.858Z"
   },
   {
    "duration": 31,
    "start_time": "2022-02-03T09:18:40.877Z"
   },
   {
    "duration": 9,
    "start_time": "2022-02-03T09:18:40.910Z"
   },
   {
    "duration": 11,
    "start_time": "2022-02-03T09:18:40.921Z"
   },
   {
    "duration": 15,
    "start_time": "2022-02-03T09:18:40.934Z"
   },
   {
    "duration": 15,
    "start_time": "2022-02-03T09:18:40.951Z"
   },
   {
    "duration": 9,
    "start_time": "2022-02-03T09:18:40.969Z"
   },
   {
    "duration": 33,
    "start_time": "2022-02-03T09:18:40.980Z"
   },
   {
    "duration": 9,
    "start_time": "2022-02-03T09:18:41.016Z"
   },
   {
    "duration": 9,
    "start_time": "2022-02-03T09:18:41.027Z"
   },
   {
    "duration": 16,
    "start_time": "2022-02-03T09:18:41.038Z"
   },
   {
    "duration": 16,
    "start_time": "2022-02-03T09:18:41.056Z"
   },
   {
    "duration": 44,
    "start_time": "2022-02-03T09:18:41.074Z"
   },
   {
    "duration": 6,
    "start_time": "2022-02-03T09:18:41.119Z"
   },
   {
    "duration": 14,
    "start_time": "2022-02-03T09:18:41.127Z"
   },
   {
    "duration": 15,
    "start_time": "2022-02-03T09:18:41.143Z"
   },
   {
    "duration": 13,
    "start_time": "2022-02-03T09:18:41.160Z"
   },
   {
    "duration": 29,
    "start_time": "2022-02-03T09:18:41.179Z"
   },
   {
    "duration": 123,
    "start_time": "2022-02-03T09:18:41.210Z"
   },
   {
    "duration": 286,
    "start_time": "2022-02-03T09:18:41.336Z"
   },
   {
    "duration": 6,
    "start_time": "2022-02-03T09:18:41.624Z"
   },
   {
    "duration": 191,
    "start_time": "2022-02-03T09:18:41.632Z"
   },
   {
    "duration": 7,
    "start_time": "2022-02-03T09:18:41.826Z"
   },
   {
    "duration": 19,
    "start_time": "2022-02-03T09:18:41.834Z"
   },
   {
    "duration": 45,
    "start_time": "2022-02-03T09:18:41.854Z"
   },
   {
    "duration": 42,
    "start_time": "2022-02-03T09:18:41.901Z"
   },
   {
    "duration": 10,
    "start_time": "2022-02-03T09:18:41.945Z"
   },
   {
    "duration": 32,
    "start_time": "2022-02-03T09:18:41.956Z"
   },
   {
    "duration": 392,
    "start_time": "2022-02-03T09:18:41.989Z"
   },
   {
    "duration": 6,
    "start_time": "2022-02-03T09:18:46.445Z"
   },
   {
    "duration": 6,
    "start_time": "2022-02-03T09:27:52.047Z"
   },
   {
    "duration": 464,
    "start_time": "2022-02-03T14:00:25.717Z"
   },
   {
    "duration": 1576,
    "start_time": "2022-02-03T14:00:41.502Z"
   },
   {
    "duration": 10,
    "start_time": "2022-02-03T14:00:43.080Z"
   },
   {
    "duration": 28,
    "start_time": "2022-02-03T14:00:43.094Z"
   },
   {
    "duration": 46,
    "start_time": "2022-02-03T14:00:43.125Z"
   },
   {
    "duration": 211,
    "start_time": "2022-02-03T14:00:43.174Z"
   },
   {
    "duration": 29,
    "start_time": "2022-02-03T14:00:43.387Z"
   },
   {
    "duration": 58,
    "start_time": "2022-02-03T14:00:43.419Z"
   },
   {
    "duration": 188,
    "start_time": "2022-02-03T14:00:43.481Z"
   },
   {
    "duration": 26,
    "start_time": "2022-02-03T14:00:43.672Z"
   },
   {
    "duration": 37,
    "start_time": "2022-02-03T14:00:43.700Z"
   },
   {
    "duration": 144,
    "start_time": "2022-02-03T14:00:43.739Z"
   },
   {
    "duration": 20,
    "start_time": "2022-02-03T14:00:43.885Z"
   },
   {
    "duration": 36,
    "start_time": "2022-02-03T14:00:43.907Z"
   },
   {
    "duration": 28,
    "start_time": "2022-02-03T14:00:43.945Z"
   },
   {
    "duration": 108,
    "start_time": "2022-02-03T14:00:43.975Z"
   },
   {
    "duration": 9,
    "start_time": "2022-02-03T14:00:44.085Z"
   },
   {
    "duration": 24,
    "start_time": "2022-02-03T14:00:44.096Z"
   },
   {
    "duration": 101,
    "start_time": "2022-02-03T14:00:44.122Z"
   },
   {
    "duration": 82,
    "start_time": "2022-02-03T14:00:44.226Z"
   },
   {
    "duration": 71,
    "start_time": "2022-02-03T14:00:44.310Z"
   },
   {
    "duration": 98,
    "start_time": "2022-02-03T14:00:44.384Z"
   },
   {
    "duration": 50,
    "start_time": "2022-02-03T14:00:44.485Z"
   },
   {
    "duration": 64,
    "start_time": "2022-02-03T14:00:44.541Z"
   },
   {
    "duration": 18,
    "start_time": "2022-02-03T14:00:44.609Z"
   },
   {
    "duration": 45,
    "start_time": "2022-02-03T14:00:44.630Z"
   },
   {
    "duration": 26,
    "start_time": "2022-02-03T14:00:44.678Z"
   },
   {
    "duration": 25,
    "start_time": "2022-02-03T14:00:44.707Z"
   },
   {
    "duration": 32,
    "start_time": "2022-02-03T14:00:44.735Z"
   },
   {
    "duration": 19,
    "start_time": "2022-02-03T14:00:44.770Z"
   },
   {
    "duration": 709,
    "start_time": "2022-02-03T14:00:44.792Z"
   },
   {
    "duration": 18,
    "start_time": "2022-02-03T14:00:45.503Z"
   },
   {
    "duration": 801,
    "start_time": "2022-02-03T14:00:45.524Z"
   },
   {
    "duration": 79,
    "start_time": "2022-02-03T14:00:46.327Z"
   },
   {
    "duration": 9,
    "start_time": "2022-02-03T14:00:46.409Z"
   },
   {
    "duration": 14,
    "start_time": "2022-02-03T14:00:46.421Z"
   },
   {
    "duration": 38,
    "start_time": "2022-02-03T14:00:46.437Z"
   },
   {
    "duration": 8,
    "start_time": "2022-02-03T14:00:46.477Z"
   },
   {
    "duration": 11,
    "start_time": "2022-02-03T14:00:46.487Z"
   },
   {
    "duration": 83,
    "start_time": "2022-02-03T14:00:46.500Z"
   },
   {
    "duration": 6,
    "start_time": "2022-02-03T14:00:46.585Z"
   },
   {
    "duration": 11,
    "start_time": "2022-02-03T14:00:46.594Z"
   },
   {
    "duration": 62,
    "start_time": "2022-02-03T14:00:46.607Z"
   },
   {
    "duration": 3,
    "start_time": "2022-02-03T14:00:46.672Z"
   },
   {
    "duration": 18,
    "start_time": "2022-02-03T14:00:46.678Z"
   },
   {
    "duration": 25,
    "start_time": "2022-02-03T14:00:46.698Z"
   },
   {
    "duration": 17,
    "start_time": "2022-02-03T14:00:46.725Z"
   },
   {
    "duration": 57,
    "start_time": "2022-02-03T14:00:46.744Z"
   },
   {
    "duration": 13,
    "start_time": "2022-02-03T14:00:46.803Z"
   },
   {
    "duration": 26,
    "start_time": "2022-02-03T14:00:46.818Z"
   },
   {
    "duration": 24,
    "start_time": "2022-02-03T14:00:46.846Z"
   },
   {
    "duration": 23,
    "start_time": "2022-02-03T14:00:46.872Z"
   },
   {
    "duration": 10,
    "start_time": "2022-02-03T14:00:46.897Z"
   },
   {
    "duration": 17,
    "start_time": "2022-02-03T14:00:46.909Z"
   },
   {
    "duration": 9,
    "start_time": "2022-02-03T14:00:46.928Z"
   },
   {
    "duration": 43,
    "start_time": "2022-02-03T14:00:46.939Z"
   },
   {
    "duration": 10,
    "start_time": "2022-02-03T14:00:46.985Z"
   },
   {
    "duration": 15,
    "start_time": "2022-02-03T14:00:46.997Z"
   },
   {
    "duration": 11,
    "start_time": "2022-02-03T14:00:47.014Z"
   },
   {
    "duration": 47,
    "start_time": "2022-02-03T14:00:47.027Z"
   },
   {
    "duration": 12,
    "start_time": "2022-02-03T14:00:47.077Z"
   },
   {
    "duration": 14,
    "start_time": "2022-02-03T14:00:47.091Z"
   },
   {
    "duration": 13,
    "start_time": "2022-02-03T14:00:47.108Z"
   },
   {
    "duration": 58,
    "start_time": "2022-02-03T14:00:47.123Z"
   },
   {
    "duration": 9,
    "start_time": "2022-02-03T14:00:47.184Z"
   },
   {
    "duration": 14,
    "start_time": "2022-02-03T14:00:47.196Z"
   },
   {
    "duration": 60,
    "start_time": "2022-02-03T14:00:47.213Z"
   },
   {
    "duration": 11,
    "start_time": "2022-02-03T14:00:47.276Z"
   },
   {
    "duration": 12,
    "start_time": "2022-02-03T14:00:47.296Z"
   },
   {
    "duration": 219,
    "start_time": "2022-02-03T14:00:47.311Z"
   },
   {
    "duration": 438,
    "start_time": "2022-02-03T14:00:47.533Z"
   },
   {
    "duration": 5,
    "start_time": "2022-02-03T14:00:47.974Z"
   },
   {
    "duration": 265,
    "start_time": "2022-02-03T14:00:47.982Z"
   },
   {
    "duration": 19,
    "start_time": "2022-02-03T14:00:48.250Z"
   },
   {
    "duration": 8,
    "start_time": "2022-02-03T14:00:48.273Z"
   },
   {
    "duration": 63,
    "start_time": "2022-02-03T14:00:48.284Z"
   },
   {
    "duration": 74,
    "start_time": "2022-02-03T14:00:48.349Z"
   },
   {
    "duration": 43,
    "start_time": "2022-02-03T14:00:48.426Z"
   },
   {
    "duration": 13,
    "start_time": "2022-02-03T14:00:48.472Z"
   },
   {
    "duration": 689,
    "start_time": "2022-02-03T14:00:48.488Z"
   },
   {
    "duration": 8,
    "start_time": "2022-02-03T14:01:02.690Z"
   },
   {
    "duration": 374,
    "start_time": "2022-02-03T14:01:44.033Z"
   },
   {
    "duration": 6,
    "start_time": "2022-02-03T14:01:49.973Z"
   },
   {
    "duration": 8,
    "start_time": "2022-02-03T14:02:23.260Z"
   },
   {
    "duration": 10,
    "start_time": "2022-02-03T14:02:35.480Z"
   },
   {
    "duration": 12,
    "start_time": "2022-02-03T14:08:06.162Z"
   },
   {
    "duration": 13,
    "start_time": "2022-02-03T14:08:21.655Z"
   },
   {
    "duration": 7,
    "start_time": "2022-02-03T14:12:27.515Z"
   },
   {
    "duration": 12,
    "start_time": "2022-02-03T14:13:48.374Z"
   },
   {
    "duration": 12,
    "start_time": "2022-02-03T14:14:13.303Z"
   },
   {
    "duration": 13,
    "start_time": "2022-02-03T14:14:51.298Z"
   },
   {
    "duration": 9,
    "start_time": "2022-02-03T14:16:45.479Z"
   },
   {
    "duration": 12,
    "start_time": "2022-02-03T14:36:33.886Z"
   },
   {
    "duration": 8,
    "start_time": "2022-02-03T14:38:09.816Z"
   },
   {
    "duration": 5,
    "start_time": "2022-02-03T14:48:14.711Z"
   },
   {
    "duration": 58,
    "start_time": "2022-02-03T14:54:16.485Z"
   },
   {
    "duration": 56,
    "start_time": "2022-02-03T14:54:17.880Z"
   },
   {
    "duration": 8,
    "start_time": "2022-02-03T15:01:35.533Z"
   },
   {
    "duration": 7,
    "start_time": "2022-02-03T15:02:25.385Z"
   },
   {
    "duration": 8,
    "start_time": "2022-02-03T15:02:35.449Z"
   },
   {
    "duration": 9,
    "start_time": "2022-02-03T15:07:28.202Z"
   },
   {
    "duration": 7,
    "start_time": "2022-02-03T15:08:18.001Z"
   },
   {
    "duration": 1003,
    "start_time": "2022-02-03T15:15:16.405Z"
   },
   {
    "duration": 399,
    "start_time": "2022-02-03T15:15:39.028Z"
   },
   {
    "duration": 674,
    "start_time": "2022-02-03T15:17:48.695Z"
   },
   {
    "duration": 439,
    "start_time": "2022-02-03T15:20:57.044Z"
   },
   {
    "duration": 142,
    "start_time": "2022-02-03T15:23:29.782Z"
   },
   {
    "duration": 1154,
    "start_time": "2022-02-03T15:23:51.022Z"
   },
   {
    "duration": 1168,
    "start_time": "2022-02-03T15:24:31.597Z"
   },
   {
    "duration": 751,
    "start_time": "2022-02-03T15:24:48.503Z"
   },
   {
    "duration": 546,
    "start_time": "2022-02-03T15:27:18.252Z"
   },
   {
    "duration": 294,
    "start_time": "2022-02-03T15:28:18.510Z"
   },
   {
    "duration": 104,
    "start_time": "2022-02-03T15:32:46.295Z"
   },
   {
    "duration": 104,
    "start_time": "2022-02-03T15:33:32.411Z"
   },
   {
    "duration": 589,
    "start_time": "2022-02-03T15:33:51.273Z"
   },
   {
    "duration": 577,
    "start_time": "2022-02-03T15:34:25.151Z"
   },
   {
    "duration": 55,
    "start_time": "2022-02-03T15:45:04.181Z"
   },
   {
    "duration": 8,
    "start_time": "2022-02-03T15:46:05.721Z"
   },
   {
    "duration": 8,
    "start_time": "2022-02-03T15:46:07.082Z"
   },
   {
    "duration": 87,
    "start_time": "2022-02-03T15:47:54.620Z"
   },
   {
    "duration": 12,
    "start_time": "2022-02-03T15:48:10.234Z"
   },
   {
    "duration": 11,
    "start_time": "2022-02-03T15:48:11.776Z"
   },
   {
    "duration": 15,
    "start_time": "2022-02-03T15:50:43.506Z"
   },
   {
    "duration": 11,
    "start_time": "2022-02-03T15:52:01.779Z"
   },
   {
    "duration": 11,
    "start_time": "2022-02-03T15:52:22.107Z"
   },
   {
    "duration": 91,
    "start_time": "2022-02-03T15:52:23.095Z"
   },
   {
    "duration": 10,
    "start_time": "2022-02-03T15:52:33.971Z"
   },
   {
    "duration": 14,
    "start_time": "2022-02-03T15:52:50.637Z"
   },
   {
    "duration": 11,
    "start_time": "2022-02-03T15:55:44.100Z"
   },
   {
    "duration": 11,
    "start_time": "2022-02-03T16:13:35.139Z"
   },
   {
    "duration": 11,
    "start_time": "2022-02-03T16:13:55.391Z"
   },
   {
    "duration": 16,
    "start_time": "2022-02-03T16:43:52.594Z"
   },
   {
    "duration": 100,
    "start_time": "2022-02-03T16:47:36.652Z"
   },
   {
    "duration": 8156,
    "start_time": "2022-02-03T16:48:08.667Z"
   },
   {
    "duration": 6,
    "start_time": "2022-02-03T16:48:48.558Z"
   },
   {
    "duration": 22,
    "start_time": "2022-02-03T16:49:25.458Z"
   },
   {
    "duration": 6,
    "start_time": "2022-02-03T16:49:34.132Z"
   },
   {
    "duration": 6,
    "start_time": "2022-02-03T16:51:04.471Z"
   },
   {
    "duration": 15,
    "start_time": "2022-02-03T16:53:03.186Z"
   },
   {
    "duration": 6,
    "start_time": "2022-02-03T16:53:04.101Z"
   },
   {
    "duration": 6,
    "start_time": "2022-02-03T16:53:05.839Z"
   },
   {
    "duration": 6,
    "start_time": "2022-02-03T16:53:32.722Z"
   },
   {
    "duration": 6,
    "start_time": "2022-02-03T16:53:36.643Z"
   },
   {
    "duration": 824,
    "start_time": "2022-02-03T16:56:52.845Z"
   },
   {
    "duration": 780,
    "start_time": "2022-02-03T16:58:00.195Z"
   },
   {
    "duration": 1208,
    "start_time": "2022-02-03T16:59:09.458Z"
   },
   {
    "duration": 11,
    "start_time": "2022-02-03T16:59:32.663Z"
   },
   {
    "duration": 11,
    "start_time": "2022-02-03T17:23:41.976Z"
   },
   {
    "duration": 16,
    "start_time": "2022-02-03T17:23:59.683Z"
   },
   {
    "duration": 82,
    "start_time": "2022-02-03T17:25:57.385Z"
   },
   {
    "duration": 9,
    "start_time": "2022-02-03T17:25:57.469Z"
   },
   {
    "duration": 23,
    "start_time": "2022-02-03T17:25:57.481Z"
   },
   {
    "duration": 10,
    "start_time": "2022-02-03T17:25:57.507Z"
   },
   {
    "duration": 272,
    "start_time": "2022-02-03T17:25:57.521Z"
   },
   {
    "duration": 35,
    "start_time": "2022-02-03T17:25:57.796Z"
   },
   {
    "duration": 68,
    "start_time": "2022-02-03T17:25:57.834Z"
   },
   {
    "duration": 201,
    "start_time": "2022-02-03T17:25:57.906Z"
   },
   {
    "duration": 25,
    "start_time": "2022-02-03T17:25:58.110Z"
   },
   {
    "duration": 54,
    "start_time": "2022-02-03T17:25:58.138Z"
   },
   {
    "duration": 129,
    "start_time": "2022-02-03T17:25:58.194Z"
   },
   {
    "duration": 20,
    "start_time": "2022-02-03T17:25:58.326Z"
   },
   {
    "duration": 38,
    "start_time": "2022-02-03T17:25:58.349Z"
   },
   {
    "duration": 26,
    "start_time": "2022-02-03T17:25:58.389Z"
   },
   {
    "duration": 121,
    "start_time": "2022-02-03T17:25:58.418Z"
   },
   {
    "duration": 9,
    "start_time": "2022-02-03T17:25:58.542Z"
   },
   {
    "duration": 21,
    "start_time": "2022-02-03T17:25:58.569Z"
   },
   {
    "duration": 87,
    "start_time": "2022-02-03T17:25:58.592Z"
   },
   {
    "duration": 90,
    "start_time": "2022-02-03T17:25:58.681Z"
   },
   {
    "duration": 61,
    "start_time": "2022-02-03T17:25:58.773Z"
   },
   {
    "duration": 80,
    "start_time": "2022-02-03T17:25:58.836Z"
   },
   {
    "duration": 65,
    "start_time": "2022-02-03T17:25:58.919Z"
   },
   {
    "duration": 53,
    "start_time": "2022-02-03T17:25:58.992Z"
   },
   {
    "duration": 17,
    "start_time": "2022-02-03T17:25:59.069Z"
   },
   {
    "duration": 15,
    "start_time": "2022-02-03T17:25:59.088Z"
   },
   {
    "duration": 5,
    "start_time": "2022-02-03T17:25:59.105Z"
   },
   {
    "duration": 10,
    "start_time": "2022-02-03T17:25:59.112Z"
   },
   {
    "duration": 59,
    "start_time": "2022-02-03T17:25:59.125Z"
   },
   {
    "duration": 19,
    "start_time": "2022-02-03T17:25:59.186Z"
   },
   {
    "duration": 931,
    "start_time": "2022-02-03T17:25:59.207Z"
   },
   {
    "duration": 30,
    "start_time": "2022-02-03T17:26:00.141Z"
   },
   {
    "duration": 724,
    "start_time": "2022-02-03T17:26:00.173Z"
   },
   {
    "duration": 81,
    "start_time": "2022-02-03T17:26:00.900Z"
   },
   {
    "duration": 11,
    "start_time": "2022-02-03T17:26:00.984Z"
   },
   {
    "duration": 18,
    "start_time": "2022-02-03T17:26:00.997Z"
   },
   {
    "duration": 20,
    "start_time": "2022-02-03T17:26:01.018Z"
   },
   {
    "duration": 44,
    "start_time": "2022-02-03T17:26:01.040Z"
   },
   {
    "duration": 66,
    "start_time": "2022-02-03T17:26:01.102Z"
   },
   {
    "duration": 172,
    "start_time": "2022-02-03T17:26:01.171Z"
   },
   {
    "duration": 8,
    "start_time": "2022-02-03T17:26:01.346Z"
   },
   {
    "duration": 17,
    "start_time": "2022-02-03T17:26:01.357Z"
   },
   {
    "duration": 67,
    "start_time": "2022-02-03T17:26:01.376Z"
   },
   {
    "duration": 4,
    "start_time": "2022-02-03T17:26:01.445Z"
   },
   {
    "duration": 31,
    "start_time": "2022-02-03T17:26:01.452Z"
   },
   {
    "duration": 29,
    "start_time": "2022-02-03T17:26:01.486Z"
   },
   {
    "duration": 20,
    "start_time": "2022-02-03T17:26:01.519Z"
   },
   {
    "duration": 51,
    "start_time": "2022-02-03T17:26:01.542Z"
   },
   {
    "duration": 16,
    "start_time": "2022-02-03T17:26:01.596Z"
   },
   {
    "duration": 28,
    "start_time": "2022-02-03T17:26:01.615Z"
   },
   {
    "duration": 32,
    "start_time": "2022-02-03T17:26:01.646Z"
   },
   {
    "duration": 22,
    "start_time": "2022-02-03T17:26:01.680Z"
   },
   {
    "duration": 13,
    "start_time": "2022-02-03T17:26:01.705Z"
   },
   {
    "duration": 55,
    "start_time": "2022-02-03T17:26:01.720Z"
   },
   {
    "duration": 12,
    "start_time": "2022-02-03T17:26:01.778Z"
   },
   {
    "duration": 15,
    "start_time": "2022-02-03T17:26:01.793Z"
   },
   {
    "duration": 12,
    "start_time": "2022-02-03T17:26:01.811Z"
   },
   {
    "duration": 47,
    "start_time": "2022-02-03T17:26:01.826Z"
   },
   {
    "duration": 12,
    "start_time": "2022-02-03T17:26:01.875Z"
   },
   {
    "duration": 10,
    "start_time": "2022-02-03T17:26:01.889Z"
   },
   {
    "duration": 13,
    "start_time": "2022-02-03T17:26:01.901Z"
   },
   {
    "duration": 53,
    "start_time": "2022-02-03T17:26:01.916Z"
   },
   {
    "duration": 12,
    "start_time": "2022-02-03T17:26:01.972Z"
   },
   {
    "duration": 31,
    "start_time": "2022-02-03T17:26:01.986Z"
   },
   {
    "duration": 14,
    "start_time": "2022-02-03T17:26:02.019Z"
   },
   {
    "duration": 35,
    "start_time": "2022-02-03T17:26:02.035Z"
   },
   {
    "duration": 18,
    "start_time": "2022-02-03T17:26:02.072Z"
   },
   {
    "duration": 9,
    "start_time": "2022-02-03T17:26:02.093Z"
   },
   {
    "duration": 10,
    "start_time": "2022-02-03T17:26:02.111Z"
   },
   {
    "duration": 219,
    "start_time": "2022-02-03T17:26:02.124Z"
   },
   {
    "duration": 440,
    "start_time": "2022-02-03T17:26:02.346Z"
   },
   {
    "duration": 6,
    "start_time": "2022-02-03T17:26:02.788Z"
   },
   {
    "duration": 188,
    "start_time": "2022-02-03T17:26:02.796Z"
   },
   {
    "duration": 9,
    "start_time": "2022-02-03T17:26:02.987Z"
   },
   {
    "duration": 8,
    "start_time": "2022-02-03T17:26:02.999Z"
   },
   {
    "duration": 88,
    "start_time": "2022-02-03T17:26:03.010Z"
   },
   {
    "duration": 71,
    "start_time": "2022-02-03T17:26:03.101Z"
   },
   {
    "duration": 15,
    "start_time": "2022-02-03T17:26:03.175Z"
   },
   {
    "duration": 12,
    "start_time": "2022-02-03T17:26:03.193Z"
   },
   {
    "duration": 570,
    "start_time": "2022-02-03T17:26:03.208Z"
   },
   {
    "duration": 770,
    "start_time": "2022-02-03T17:26:03.781Z"
   },
   {
    "duration": 19,
    "start_time": "2022-02-03T17:26:04.554Z"
   },
   {
    "duration": 21,
    "start_time": "2022-02-03T17:26:04.575Z"
   },
   {
    "duration": 14,
    "start_time": "2022-02-03T17:26:04.598Z"
   },
   {
    "duration": 12,
    "start_time": "2022-02-03T17:26:04.614Z"
   },
   {
    "duration": 13,
    "start_time": "2022-02-03T17:26:04.628Z"
   },
   {
    "duration": 15,
    "start_time": "2022-02-03T17:26:04.669Z"
   },
   {
    "duration": 62,
    "start_time": "2022-02-03T17:26:04.686Z"
   },
   {
    "duration": 24,
    "start_time": "2022-02-03T17:26:04.750Z"
   },
   {
    "duration": 9,
    "start_time": "2022-02-03T17:26:04.777Z"
   },
   {
    "duration": 10,
    "start_time": "2022-02-03T17:26:04.789Z"
   },
   {
    "duration": 8,
    "start_time": "2022-02-03T17:26:04.801Z"
   },
   {
    "duration": 13,
    "start_time": "2022-02-03T17:26:04.812Z"
   },
   {
    "duration": 3,
    "start_time": "2022-02-03T17:26:04.870Z"
   },
   {
    "duration": 5,
    "start_time": "2022-02-03T17:26:04.876Z"
   },
   {
    "duration": 12,
    "start_time": "2022-02-03T17:26:04.883Z"
   },
   {
    "duration": 10,
    "start_time": "2022-02-03T17:26:04.897Z"
   },
   {
    "duration": 5,
    "start_time": "2022-02-03T17:26:04.910Z"
   },
   {
    "duration": 106,
    "start_time": "2022-02-03T17:26:04.917Z"
   },
   {
    "duration": 76,
    "start_time": "2022-02-03T17:26:05.025Z"
   },
   {
    "duration": 584,
    "start_time": "2022-02-03T17:26:05.104Z"
   },
   {
    "duration": 100,
    "start_time": "2022-02-03T17:26:05.691Z"
   },
   {
    "duration": -263,
    "start_time": "2022-02-03T17:26:06.057Z"
   },
   {
    "duration": -267,
    "start_time": "2022-02-03T17:26:06.063Z"
   },
   {
    "duration": -267,
    "start_time": "2022-02-03T17:26:06.065Z"
   },
   {
    "duration": -266,
    "start_time": "2022-02-03T17:26:06.067Z"
   },
   {
    "duration": -266,
    "start_time": "2022-02-03T17:26:06.069Z"
   },
   {
    "duration": 385,
    "start_time": "2022-02-12T12:01:42.043Z"
   },
   {
    "duration": 121,
    "start_time": "2022-02-12T12:01:54.140Z"
   },
   {
    "duration": 1009,
    "start_time": "2022-02-12T12:02:01.390Z"
   },
   {
    "duration": 822,
    "start_time": "2022-02-12T16:39:10.681Z"
   },
   {
    "duration": 11,
    "start_time": "2022-02-12T16:39:11.507Z"
   },
   {
    "duration": 25,
    "start_time": "2022-02-12T16:39:11.522Z"
   },
   {
    "duration": 30,
    "start_time": "2022-02-12T16:39:11.550Z"
   },
   {
    "duration": 231,
    "start_time": "2022-02-12T16:39:11.582Z"
   },
   {
    "duration": 58,
    "start_time": "2022-02-12T16:39:11.816Z"
   },
   {
    "duration": 43,
    "start_time": "2022-02-12T16:39:11.878Z"
   },
   {
    "duration": 216,
    "start_time": "2022-02-12T16:39:11.925Z"
   },
   {
    "duration": 33,
    "start_time": "2022-02-12T16:39:12.144Z"
   },
   {
    "duration": 41,
    "start_time": "2022-02-12T16:39:12.180Z"
   },
   {
    "duration": 149,
    "start_time": "2022-02-12T16:39:12.223Z"
   },
   {
    "duration": 22,
    "start_time": "2022-02-12T16:39:12.375Z"
   },
   {
    "duration": 24,
    "start_time": "2022-02-12T16:39:12.399Z"
   },
   {
    "duration": 46,
    "start_time": "2022-02-12T16:39:12.426Z"
   },
   {
    "duration": 95,
    "start_time": "2022-02-12T16:39:22.725Z"
   },
   {
    "duration": 11,
    "start_time": "2022-02-12T16:39:34.400Z"
   },
   {
    "duration": 43,
    "start_time": "2022-02-12T16:39:51.356Z"
   },
   {
    "duration": 9,
    "start_time": "2022-02-12T16:41:37.159Z"
   },
   {
    "duration": 31,
    "start_time": "2022-02-12T16:42:11.806Z"
   },
   {
    "duration": 38,
    "start_time": "2022-02-12T17:22:23.311Z"
   },
   {
    "duration": 10,
    "start_time": "2022-02-12T17:22:23.353Z"
   },
   {
    "duration": 32,
    "start_time": "2022-02-12T17:22:23.368Z"
   },
   {
    "duration": 11,
    "start_time": "2022-02-12T17:22:23.404Z"
   },
   {
    "duration": 239,
    "start_time": "2022-02-12T17:22:23.418Z"
   },
   {
    "duration": 42,
    "start_time": "2022-02-12T17:22:23.659Z"
   },
   {
    "duration": 49,
    "start_time": "2022-02-12T17:22:23.703Z"
   },
   {
    "duration": 188,
    "start_time": "2022-02-12T17:22:23.768Z"
   },
   {
    "duration": 37,
    "start_time": "2022-02-12T17:22:23.960Z"
   },
   {
    "duration": 57,
    "start_time": "2022-02-12T17:22:23.999Z"
   },
   {
    "duration": 147,
    "start_time": "2022-02-12T17:22:24.058Z"
   },
   {
    "duration": 19,
    "start_time": "2022-02-12T17:22:24.207Z"
   },
   {
    "duration": 20,
    "start_time": "2022-02-12T17:22:24.228Z"
   },
   {
    "duration": 27,
    "start_time": "2022-02-12T17:22:24.271Z"
   },
   {
    "duration": 122,
    "start_time": "2022-02-12T17:22:24.301Z"
   },
   {
    "duration": 31,
    "start_time": "2022-02-12T17:22:24.425Z"
   },
   {
    "duration": 12,
    "start_time": "2022-02-12T17:22:24.472Z"
   },
   {
    "duration": 10,
    "start_time": "2022-02-12T17:22:24.489Z"
   },
   {
    "duration": 114,
    "start_time": "2022-02-12T17:22:24.501Z"
   },
   {
    "duration": 90,
    "start_time": "2022-02-12T17:22:24.617Z"
   },
   {
    "duration": 70,
    "start_time": "2022-02-12T17:22:24.710Z"
   },
   {
    "duration": 66,
    "start_time": "2022-02-12T17:22:24.786Z"
   },
   {
    "duration": 55,
    "start_time": "2022-02-12T17:22:24.873Z"
   },
   {
    "duration": 73,
    "start_time": "2022-02-12T17:22:24.931Z"
   },
   {
    "duration": 20,
    "start_time": "2022-02-12T17:22:25.007Z"
   },
   {
    "duration": 44,
    "start_time": "2022-02-12T17:22:25.030Z"
   },
   {
    "duration": 22,
    "start_time": "2022-02-12T17:22:25.077Z"
   },
   {
    "duration": 12,
    "start_time": "2022-02-12T17:22:25.102Z"
   },
   {
    "duration": 30,
    "start_time": "2022-02-12T17:22:25.116Z"
   },
   {
    "duration": 46,
    "start_time": "2022-02-12T17:22:25.148Z"
   },
   {
    "duration": 745,
    "start_time": "2022-02-12T17:22:25.197Z"
   },
   {
    "duration": 26,
    "start_time": "2022-02-12T17:22:25.945Z"
   },
   {
    "duration": 786,
    "start_time": "2022-02-12T17:22:25.977Z"
   },
   {
    "duration": 68,
    "start_time": "2022-02-12T17:22:26.766Z"
   },
   {
    "duration": 9,
    "start_time": "2022-02-12T17:22:26.837Z"
   },
   {
    "duration": 17,
    "start_time": "2022-02-12T17:22:26.875Z"
   },
   {
    "duration": 16,
    "start_time": "2022-02-12T17:22:34.869Z"
   },
   {
    "duration": 21,
    "start_time": "2022-02-12T17:23:02.279Z"
   },
   {
    "duration": 17,
    "start_time": "2022-02-12T17:23:24.796Z"
   },
   {
    "duration": 9,
    "start_time": "2022-02-12T17:23:39.109Z"
   },
   {
    "duration": 9,
    "start_time": "2022-02-12T17:23:44.598Z"
   },
   {
    "duration": 16,
    "start_time": "2022-02-12T17:27:21.487Z"
   },
   {
    "duration": 10,
    "start_time": "2022-02-12T17:27:29.388Z"
   },
   {
    "duration": 448,
    "start_time": "2022-02-12T17:33:54.469Z"
   },
   {
    "duration": 38,
    "start_time": "2022-02-12T17:34:01.159Z"
   },
   {
    "duration": 9,
    "start_time": "2022-02-12T17:34:01.199Z"
   },
   {
    "duration": 30,
    "start_time": "2022-02-12T17:34:01.211Z"
   },
   {
    "duration": 32,
    "start_time": "2022-02-12T17:34:01.244Z"
   },
   {
    "duration": 253,
    "start_time": "2022-02-12T17:34:01.278Z"
   },
   {
    "duration": 41,
    "start_time": "2022-02-12T17:34:01.534Z"
   },
   {
    "duration": 39,
    "start_time": "2022-02-12T17:34:01.578Z"
   },
   {
    "duration": 226,
    "start_time": "2022-02-12T17:34:01.620Z"
   },
   {
    "duration": 36,
    "start_time": "2022-02-12T17:34:01.850Z"
   },
   {
    "duration": 45,
    "start_time": "2022-02-12T17:34:01.890Z"
   },
   {
    "duration": 146,
    "start_time": "2022-02-12T17:34:01.938Z"
   },
   {
    "duration": 20,
    "start_time": "2022-02-12T17:34:02.087Z"
   },
   {
    "duration": 22,
    "start_time": "2022-02-12T17:34:02.109Z"
   },
   {
    "duration": 47,
    "start_time": "2022-02-12T17:34:02.133Z"
   },
   {
    "duration": 124,
    "start_time": "2022-02-12T17:34:02.182Z"
   },
   {
    "duration": 32,
    "start_time": "2022-02-12T17:34:02.309Z"
   },
   {
    "duration": 29,
    "start_time": "2022-02-12T17:34:02.344Z"
   },
   {
    "duration": 14,
    "start_time": "2022-02-12T17:34:02.377Z"
   },
   {
    "duration": 109,
    "start_time": "2022-02-12T17:34:02.394Z"
   },
   {
    "duration": 96,
    "start_time": "2022-02-12T17:34:02.506Z"
   },
   {
    "duration": 78,
    "start_time": "2022-02-12T17:34:02.605Z"
   },
   {
    "duration": 64,
    "start_time": "2022-02-12T17:34:02.685Z"
   },
   {
    "duration": 65,
    "start_time": "2022-02-12T17:34:02.752Z"
   },
   {
    "duration": 68,
    "start_time": "2022-02-12T17:34:02.819Z"
   },
   {
    "duration": 16,
    "start_time": "2022-02-12T17:34:02.889Z"
   },
   {
    "duration": 19,
    "start_time": "2022-02-12T17:34:02.907Z"
   },
   {
    "duration": 5,
    "start_time": "2022-02-12T17:34:02.932Z"
   },
   {
    "duration": 9,
    "start_time": "2022-02-12T17:34:02.971Z"
   },
   {
    "duration": 29,
    "start_time": "2022-02-12T17:34:02.982Z"
   },
   {
    "duration": 19,
    "start_time": "2022-02-12T17:34:03.014Z"
   },
   {
    "duration": 815,
    "start_time": "2022-02-12T17:34:03.035Z"
   },
   {
    "duration": 29,
    "start_time": "2022-02-12T17:34:03.852Z"
   },
   {
    "duration": 749,
    "start_time": "2022-02-12T17:34:03.883Z"
   },
   {
    "duration": 80,
    "start_time": "2022-02-12T17:34:04.635Z"
   },
   {
    "duration": 13,
    "start_time": "2022-02-12T17:34:04.718Z"
   },
   {
    "duration": 37,
    "start_time": "2022-02-12T17:34:04.734Z"
   },
   {
    "duration": 15,
    "start_time": "2022-02-12T17:34:04.774Z"
   },
   {
    "duration": 21,
    "start_time": "2022-02-12T17:34:04.791Z"
   },
   {
    "duration": 23,
    "start_time": "2022-02-12T17:34:04.814Z"
   },
   {
    "duration": 68,
    "start_time": "2022-02-12T17:34:04.839Z"
   },
   {
    "duration": 6,
    "start_time": "2022-02-12T17:34:04.909Z"
   },
   {
    "duration": 19,
    "start_time": "2022-02-12T17:34:04.917Z"
   },
   {
    "duration": 55,
    "start_time": "2022-02-12T17:34:04.938Z"
   },
   {
    "duration": 4,
    "start_time": "2022-02-12T17:34:04.996Z"
   },
   {
    "duration": 16,
    "start_time": "2022-02-12T17:34:05.003Z"
   },
   {
    "duration": 38,
    "start_time": "2022-02-12T17:34:05.022Z"
   },
   {
    "duration": 19,
    "start_time": "2022-02-12T17:34:05.070Z"
   },
   {
    "duration": 43,
    "start_time": "2022-02-12T17:34:05.091Z"
   },
   {
    "duration": 38,
    "start_time": "2022-02-12T17:34:05.137Z"
   },
   {
    "duration": 9,
    "start_time": "2022-02-12T17:34:05.178Z"
   },
   {
    "duration": 8,
    "start_time": "2022-02-12T17:34:05.189Z"
   },
   {
    "duration": 23,
    "start_time": "2022-02-12T17:34:05.199Z"
   },
   {
    "duration": 47,
    "start_time": "2022-02-12T17:34:05.224Z"
   },
   {
    "duration": 13,
    "start_time": "2022-02-12T17:34:05.274Z"
   },
   {
    "duration": 25,
    "start_time": "2022-02-12T17:34:05.290Z"
   },
   {
    "duration": 15,
    "start_time": "2022-02-12T17:34:05.319Z"
   },
   {
    "duration": 390,
    "start_time": "2022-02-12T17:34:27.070Z"
   },
   {
    "duration": 6,
    "start_time": "2022-02-12T17:34:42.219Z"
   },
   {
    "duration": 6,
    "start_time": "2022-02-12T17:35:29.009Z"
   },
   {
    "duration": 34,
    "start_time": "2022-02-12T17:41:19.929Z"
   },
   {
    "duration": 11,
    "start_time": "2022-02-12T17:41:19.965Z"
   },
   {
    "duration": 36,
    "start_time": "2022-02-12T17:41:19.979Z"
   },
   {
    "duration": 37,
    "start_time": "2022-02-12T17:41:20.017Z"
   },
   {
    "duration": 224,
    "start_time": "2022-02-12T17:41:20.057Z"
   },
   {
    "duration": 27,
    "start_time": "2022-02-12T17:41:20.284Z"
   },
   {
    "duration": 57,
    "start_time": "2022-02-12T17:41:20.313Z"
   },
   {
    "duration": 178,
    "start_time": "2022-02-12T17:41:20.373Z"
   },
   {
    "duration": 26,
    "start_time": "2022-02-12T17:41:20.556Z"
   },
   {
    "duration": 47,
    "start_time": "2022-02-12T17:41:20.585Z"
   },
   {
    "duration": 127,
    "start_time": "2022-02-12T17:41:20.634Z"
   },
   {
    "duration": 18,
    "start_time": "2022-02-12T17:41:20.769Z"
   },
   {
    "duration": 32,
    "start_time": "2022-02-12T17:41:20.790Z"
   },
   {
    "duration": 34,
    "start_time": "2022-02-12T17:41:20.824Z"
   },
   {
    "duration": 120,
    "start_time": "2022-02-12T17:41:20.861Z"
   },
   {
    "duration": 31,
    "start_time": "2022-02-12T17:41:20.983Z"
   },
   {
    "duration": 32,
    "start_time": "2022-02-12T17:41:21.016Z"
   },
   {
    "duration": 22,
    "start_time": "2022-02-12T17:41:21.051Z"
   },
   {
    "duration": 98,
    "start_time": "2022-02-12T17:41:21.075Z"
   },
   {
    "duration": 96,
    "start_time": "2022-02-12T17:41:21.175Z"
   },
   {
    "duration": 60,
    "start_time": "2022-02-12T17:41:21.273Z"
   },
   {
    "duration": 78,
    "start_time": "2022-02-12T17:41:21.336Z"
   },
   {
    "duration": 65,
    "start_time": "2022-02-12T17:41:21.417Z"
   },
   {
    "duration": 53,
    "start_time": "2022-02-12T17:41:21.484Z"
   },
   {
    "duration": 38,
    "start_time": "2022-02-12T17:41:21.539Z"
   },
   {
    "duration": 24,
    "start_time": "2022-02-12T17:41:21.579Z"
   },
   {
    "duration": 12,
    "start_time": "2022-02-12T17:41:21.609Z"
   },
   {
    "duration": 14,
    "start_time": "2022-02-12T17:41:21.624Z"
   },
   {
    "duration": 44,
    "start_time": "2022-02-12T17:41:21.640Z"
   },
   {
    "duration": 19,
    "start_time": "2022-02-12T17:41:21.687Z"
   },
   {
    "duration": 751,
    "start_time": "2022-02-12T17:41:21.708Z"
   },
   {
    "duration": 22,
    "start_time": "2022-02-12T17:41:22.461Z"
   },
   {
    "duration": 731,
    "start_time": "2022-02-12T17:41:22.485Z"
   },
   {
    "duration": 67,
    "start_time": "2022-02-12T17:41:23.218Z"
   },
   {
    "duration": 9,
    "start_time": "2022-02-12T17:41:23.288Z"
   },
   {
    "duration": 19,
    "start_time": "2022-02-12T17:41:23.300Z"
   },
   {
    "duration": 15,
    "start_time": "2022-02-12T17:41:23.322Z"
   },
   {
    "duration": 33,
    "start_time": "2022-02-12T17:41:23.339Z"
   },
   {
    "duration": 9,
    "start_time": "2022-02-12T17:41:23.375Z"
   },
   {
    "duration": 56,
    "start_time": "2022-02-12T17:41:23.386Z"
   },
   {
    "duration": 24,
    "start_time": "2022-02-12T17:41:23.446Z"
   },
   {
    "duration": 17,
    "start_time": "2022-02-12T17:41:23.472Z"
   },
   {
    "duration": 47,
    "start_time": "2022-02-12T17:41:23.491Z"
   },
   {
    "duration": 4,
    "start_time": "2022-02-12T17:41:23.541Z"
   },
   {
    "duration": 26,
    "start_time": "2022-02-12T17:41:23.547Z"
   },
   {
    "duration": 38,
    "start_time": "2022-02-12T17:41:23.576Z"
   },
   {
    "duration": 18,
    "start_time": "2022-02-12T17:41:23.616Z"
   },
   {
    "duration": 46,
    "start_time": "2022-02-12T17:41:23.636Z"
   },
   {
    "duration": 14,
    "start_time": "2022-02-12T17:41:23.685Z"
   },
   {
    "duration": 15,
    "start_time": "2022-02-12T17:41:23.702Z"
   },
   {
    "duration": 9,
    "start_time": "2022-02-12T17:41:23.720Z"
   },
   {
    "duration": 55,
    "start_time": "2022-02-12T17:41:23.732Z"
   },
   {
    "duration": 12,
    "start_time": "2022-02-12T17:41:23.790Z"
   },
   {
    "duration": 17,
    "start_time": "2022-02-12T17:41:23.804Z"
   },
   {
    "duration": 48,
    "start_time": "2022-02-12T17:41:23.824Z"
   },
   {
    "duration": 18,
    "start_time": "2022-02-12T17:41:23.874Z"
   },
   {
    "duration": 24,
    "start_time": "2022-02-12T17:41:23.894Z"
   },
   {
    "duration": 10,
    "start_time": "2022-02-12T17:41:25.079Z"
   },
   {
    "duration": 9,
    "start_time": "2022-02-12T17:41:34.789Z"
   },
   {
    "duration": 8,
    "start_time": "2022-02-12T17:42:08.769Z"
   },
   {
    "duration": 8,
    "start_time": "2022-02-12T17:42:29.218Z"
   },
   {
    "duration": 7,
    "start_time": "2022-02-12T17:42:54.887Z"
   },
   {
    "duration": 13,
    "start_time": "2022-02-12T17:45:34.679Z"
   },
   {
    "duration": 37,
    "start_time": "2022-02-12T17:45:48.083Z"
   },
   {
    "duration": 10,
    "start_time": "2022-02-12T17:45:48.123Z"
   },
   {
    "duration": 40,
    "start_time": "2022-02-12T17:45:48.136Z"
   },
   {
    "duration": 13,
    "start_time": "2022-02-12T17:45:48.179Z"
   },
   {
    "duration": 250,
    "start_time": "2022-02-12T17:45:48.195Z"
   },
   {
    "duration": 46,
    "start_time": "2022-02-12T17:45:48.447Z"
   },
   {
    "duration": 37,
    "start_time": "2022-02-12T17:45:48.495Z"
   },
   {
    "duration": 204,
    "start_time": "2022-02-12T17:45:48.535Z"
   },
   {
    "duration": 33,
    "start_time": "2022-02-12T17:45:48.743Z"
   },
   {
    "duration": 39,
    "start_time": "2022-02-12T17:45:48.783Z"
   },
   {
    "duration": 144,
    "start_time": "2022-02-12T17:45:48.825Z"
   },
   {
    "duration": 25,
    "start_time": "2022-02-12T17:45:48.971Z"
   },
   {
    "duration": 19,
    "start_time": "2022-02-12T17:45:48.998Z"
   },
   {
    "duration": 21,
    "start_time": "2022-02-12T17:45:49.019Z"
   },
   {
    "duration": 120,
    "start_time": "2022-02-12T17:45:49.070Z"
   },
   {
    "duration": 33,
    "start_time": "2022-02-12T17:45:49.193Z"
   },
   {
    "duration": 9,
    "start_time": "2022-02-12T17:45:49.229Z"
   },
   {
    "duration": 43,
    "start_time": "2022-02-12T17:45:49.240Z"
   },
   {
    "duration": 112,
    "start_time": "2022-02-12T17:45:49.286Z"
   },
   {
    "duration": 88,
    "start_time": "2022-02-12T17:45:49.401Z"
   },
   {
    "duration": 59,
    "start_time": "2022-02-12T17:45:49.491Z"
   },
   {
    "duration": 73,
    "start_time": "2022-02-12T17:45:49.569Z"
   },
   {
    "duration": 70,
    "start_time": "2022-02-12T17:45:49.645Z"
   },
   {
    "duration": 78,
    "start_time": "2022-02-12T17:45:49.718Z"
   },
   {
    "duration": 17,
    "start_time": "2022-02-12T17:45:49.798Z"
   },
   {
    "duration": 22,
    "start_time": "2022-02-12T17:45:49.817Z"
   },
   {
    "duration": 27,
    "start_time": "2022-02-12T17:45:49.845Z"
   },
   {
    "duration": 18,
    "start_time": "2022-02-12T17:45:49.876Z"
   },
   {
    "duration": 23,
    "start_time": "2022-02-12T17:45:49.897Z"
   },
   {
    "duration": 47,
    "start_time": "2022-02-12T17:45:49.922Z"
   },
   {
    "duration": 850,
    "start_time": "2022-02-12T17:45:49.974Z"
   },
   {
    "duration": 17,
    "start_time": "2022-02-12T17:45:50.827Z"
   },
   {
    "duration": 872,
    "start_time": "2022-02-12T17:45:50.847Z"
   },
   {
    "duration": 73,
    "start_time": "2022-02-12T17:45:51.721Z"
   },
   {
    "duration": 13,
    "start_time": "2022-02-12T17:45:51.797Z"
   },
   {
    "duration": 13,
    "start_time": "2022-02-12T17:45:51.813Z"
   },
   {
    "duration": 61,
    "start_time": "2022-02-12T17:45:51.829Z"
   },
   {
    "duration": 8,
    "start_time": "2022-02-12T17:45:51.893Z"
   },
   {
    "duration": 12,
    "start_time": "2022-02-12T17:45:51.904Z"
   },
   {
    "duration": 93,
    "start_time": "2022-02-12T17:45:51.919Z"
   },
   {
    "duration": 6,
    "start_time": "2022-02-12T17:45:52.014Z"
   },
   {
    "duration": 14,
    "start_time": "2022-02-12T17:45:52.022Z"
   },
   {
    "duration": 58,
    "start_time": "2022-02-12T17:45:52.039Z"
   },
   {
    "duration": 4,
    "start_time": "2022-02-12T17:45:52.100Z"
   },
   {
    "duration": 12,
    "start_time": "2022-02-12T17:45:52.106Z"
   },
   {
    "duration": 17,
    "start_time": "2022-02-12T17:45:52.121Z"
   },
   {
    "duration": 19,
    "start_time": "2022-02-12T17:45:52.170Z"
   },
   {
    "duration": 37,
    "start_time": "2022-02-12T17:45:52.192Z"
   },
   {
    "duration": 56,
    "start_time": "2022-02-12T17:45:52.231Z"
   },
   {
    "duration": 11,
    "start_time": "2022-02-12T17:45:52.290Z"
   },
   {
    "duration": 9,
    "start_time": "2022-02-12T17:45:52.303Z"
   },
   {
    "duration": 22,
    "start_time": "2022-02-12T17:45:52.314Z"
   },
   {
    "duration": 36,
    "start_time": "2022-02-12T17:45:52.338Z"
   },
   {
    "duration": 14,
    "start_time": "2022-02-12T17:45:52.382Z"
   },
   {
    "duration": 10,
    "start_time": "2022-02-12T17:45:52.398Z"
   },
   {
    "duration": 13,
    "start_time": "2022-02-12T17:45:52.411Z"
   },
   {
    "duration": 10,
    "start_time": "2022-02-12T17:45:52.426Z"
   },
   {
    "duration": 14,
    "start_time": "2022-02-12T17:45:52.469Z"
   },
   {
    "duration": 11,
    "start_time": "2022-02-12T17:45:52.485Z"
   },
   {
    "duration": 11,
    "start_time": "2022-02-12T17:45:52.499Z"
   },
   {
    "duration": 16,
    "start_time": "2022-02-12T17:45:52.515Z"
   },
   {
    "duration": 9,
    "start_time": "2022-02-12T17:46:34.389Z"
   },
   {
    "duration": 15,
    "start_time": "2022-02-12T17:46:36.010Z"
   },
   {
    "duration": 32,
    "start_time": "2022-02-12T17:52:18.899Z"
   },
   {
    "duration": 9,
    "start_time": "2022-02-12T17:52:18.933Z"
   },
   {
    "duration": 28,
    "start_time": "2022-02-12T17:52:18.945Z"
   },
   {
    "duration": 12,
    "start_time": "2022-02-12T17:52:18.975Z"
   },
   {
    "duration": 235,
    "start_time": "2022-02-12T17:52:18.990Z"
   },
   {
    "duration": 73,
    "start_time": "2022-02-12T17:52:19.228Z"
   },
   {
    "duration": 36,
    "start_time": "2022-02-12T17:52:19.304Z"
   },
   {
    "duration": 190,
    "start_time": "2022-02-12T17:52:19.342Z"
   },
   {
    "duration": 36,
    "start_time": "2022-02-12T17:52:19.536Z"
   },
   {
    "duration": 39,
    "start_time": "2022-02-12T17:52:19.575Z"
   },
   {
    "duration": 139,
    "start_time": "2022-02-12T17:52:19.616Z"
   },
   {
    "duration": 24,
    "start_time": "2022-02-12T17:52:19.757Z"
   },
   {
    "duration": 21,
    "start_time": "2022-02-12T17:52:19.784Z"
   },
   {
    "duration": 21,
    "start_time": "2022-02-12T17:52:19.808Z"
   },
   {
    "duration": 144,
    "start_time": "2022-02-12T17:52:19.831Z"
   },
   {
    "duration": 31,
    "start_time": "2022-02-12T17:52:19.977Z"
   },
   {
    "duration": 8,
    "start_time": "2022-02-12T17:52:20.011Z"
   },
   {
    "duration": 11,
    "start_time": "2022-02-12T17:52:20.021Z"
   },
   {
    "duration": 107,
    "start_time": "2022-02-12T17:52:20.034Z"
   },
   {
    "duration": 96,
    "start_time": "2022-02-12T17:52:20.144Z"
   },
   {
    "duration": 70,
    "start_time": "2022-02-12T17:52:20.242Z"
   },
   {
    "duration": 81,
    "start_time": "2022-02-12T17:52:20.315Z"
   },
   {
    "duration": 49,
    "start_time": "2022-02-12T17:52:20.398Z"
   },
   {
    "duration": 70,
    "start_time": "2022-02-12T17:52:20.450Z"
   },
   {
    "duration": 16,
    "start_time": "2022-02-12T17:52:20.527Z"
   },
   {
    "duration": 15,
    "start_time": "2022-02-12T17:52:20.570Z"
   },
   {
    "duration": 6,
    "start_time": "2022-02-12T17:52:20.588Z"
   },
   {
    "duration": 11,
    "start_time": "2022-02-12T17:52:20.596Z"
   },
   {
    "duration": 25,
    "start_time": "2022-02-12T17:52:20.610Z"
   },
   {
    "duration": 20,
    "start_time": "2022-02-12T17:52:20.670Z"
   },
   {
    "duration": 738,
    "start_time": "2022-02-12T17:52:20.692Z"
   },
   {
    "duration": 18,
    "start_time": "2022-02-12T17:52:21.433Z"
   },
   {
    "duration": 729,
    "start_time": "2022-02-12T17:52:21.470Z"
   },
   {
    "duration": 73,
    "start_time": "2022-02-12T17:52:22.202Z"
   },
   {
    "duration": 9,
    "start_time": "2022-02-12T17:52:22.277Z"
   },
   {
    "duration": 12,
    "start_time": "2022-02-12T17:52:22.289Z"
   },
   {
    "duration": 15,
    "start_time": "2022-02-12T17:52:22.303Z"
   },
   {
    "duration": 7,
    "start_time": "2022-02-12T17:52:22.320Z"
   },
   {
    "duration": 49,
    "start_time": "2022-02-12T17:52:22.329Z"
   },
   {
    "duration": 50,
    "start_time": "2022-02-12T17:52:22.381Z"
   },
   {
    "duration": 35,
    "start_time": "2022-02-12T17:52:22.434Z"
   },
   {
    "duration": 10,
    "start_time": "2022-02-12T17:52:22.472Z"
   },
   {
    "duration": 37,
    "start_time": "2022-02-12T17:52:22.484Z"
   },
   {
    "duration": 4,
    "start_time": "2022-02-12T17:52:22.524Z"
   },
   {
    "duration": 44,
    "start_time": "2022-02-12T17:52:22.530Z"
   },
   {
    "duration": 19,
    "start_time": "2022-02-12T17:52:22.577Z"
   },
   {
    "duration": 23,
    "start_time": "2022-02-12T17:52:22.599Z"
   },
   {
    "duration": 74,
    "start_time": "2022-02-12T17:52:22.633Z"
   },
   {
    "duration": 65,
    "start_time": "2022-02-12T17:52:22.718Z"
   },
   {
    "duration": 21,
    "start_time": "2022-02-12T17:52:22.786Z"
   },
   {
    "duration": 35,
    "start_time": "2022-02-12T17:52:22.810Z"
   },
   {
    "duration": 25,
    "start_time": "2022-02-12T17:52:22.847Z"
   },
   {
    "duration": 9,
    "start_time": "2022-02-12T17:52:22.874Z"
   },
   {
    "duration": 16,
    "start_time": "2022-02-12T17:52:22.886Z"
   },
   {
    "duration": 15,
    "start_time": "2022-02-12T17:52:22.905Z"
   },
   {
    "duration": 47,
    "start_time": "2022-02-12T17:52:22.922Z"
   },
   {
    "duration": 13,
    "start_time": "2022-02-12T17:52:22.972Z"
   },
   {
    "duration": 10,
    "start_time": "2022-02-12T17:52:22.988Z"
   },
   {
    "duration": 11,
    "start_time": "2022-02-12T17:52:23.000Z"
   },
   {
    "duration": 10,
    "start_time": "2022-02-12T17:52:23.013Z"
   },
   {
    "duration": 51,
    "start_time": "2022-02-12T17:52:23.025Z"
   },
   {
    "duration": 14,
    "start_time": "2022-02-12T17:52:23.079Z"
   },
   {
    "duration": 11,
    "start_time": "2022-02-12T17:52:23.096Z"
   },
   {
    "duration": 19,
    "start_time": "2022-02-12T17:52:23.110Z"
   },
   {
    "duration": 8,
    "start_time": "2022-02-12T17:52:23.170Z"
   },
   {
    "duration": 11,
    "start_time": "2022-02-12T17:52:23.181Z"
   },
   {
    "duration": 17,
    "start_time": "2022-02-12T17:52:23.195Z"
   },
   {
    "duration": 12,
    "start_time": "2022-02-12T17:52:23.215Z"
   },
   {
    "duration": 6,
    "start_time": "2022-02-12T17:52:28.029Z"
   },
   {
    "duration": 18,
    "start_time": "2022-02-12T18:14:23.607Z"
   },
   {
    "duration": 6,
    "start_time": "2022-02-12T18:14:25.269Z"
   },
   {
    "duration": 5,
    "start_time": "2022-02-12T18:14:27.027Z"
   },
   {
    "duration": 19,
    "start_time": "2022-02-12T18:14:47.403Z"
   },
   {
    "duration": 11,
    "start_time": "2022-02-12T18:17:01.397Z"
   },
   {
    "duration": 465,
    "start_time": "2022-02-13T08:57:27.541Z"
   },
   {
    "duration": 1573,
    "start_time": "2022-02-13T08:57:36.717Z"
   },
   {
    "duration": 11,
    "start_time": "2022-02-13T08:57:38.292Z"
   },
   {
    "duration": 32,
    "start_time": "2022-02-13T08:57:38.307Z"
   },
   {
    "duration": 16,
    "start_time": "2022-02-13T08:57:38.342Z"
   },
   {
    "duration": 306,
    "start_time": "2022-02-13T08:57:38.361Z"
   },
   {
    "duration": 43,
    "start_time": "2022-02-13T08:57:38.671Z"
   },
   {
    "duration": 64,
    "start_time": "2022-02-13T08:57:38.717Z"
   },
   {
    "duration": 277,
    "start_time": "2022-02-13T08:57:38.786Z"
   },
   {
    "duration": 22,
    "start_time": "2022-02-13T08:57:39.066Z"
   },
   {
    "duration": 62,
    "start_time": "2022-02-13T08:57:39.091Z"
   },
   {
    "duration": 127,
    "start_time": "2022-02-13T08:57:39.155Z"
   },
   {
    "duration": 28,
    "start_time": "2022-02-13T08:57:39.286Z"
   },
   {
    "duration": 27,
    "start_time": "2022-02-13T08:57:39.331Z"
   },
   {
    "duration": 22,
    "start_time": "2022-02-13T08:57:39.361Z"
   },
   {
    "duration": 127,
    "start_time": "2022-02-13T08:57:39.385Z"
   },
   {
    "duration": 34,
    "start_time": "2022-02-13T08:57:39.516Z"
   },
   {
    "duration": 8,
    "start_time": "2022-02-13T08:57:39.552Z"
   },
   {
    "duration": 22,
    "start_time": "2022-02-13T08:57:39.564Z"
   },
   {
    "duration": 71,
    "start_time": "2022-02-13T08:57:39.588Z"
   },
   {
    "duration": 40,
    "start_time": "2022-02-13T08:57:39.661Z"
   },
   {
    "duration": 59,
    "start_time": "2022-02-13T08:57:39.703Z"
   },
   {
    "duration": 38,
    "start_time": "2022-02-13T08:57:39.765Z"
   },
   {
    "duration": 48,
    "start_time": "2022-02-13T08:57:39.809Z"
   },
   {
    "duration": 27,
    "start_time": "2022-02-13T08:57:39.861Z"
   },
   {
    "duration": 45,
    "start_time": "2022-02-13T08:57:39.891Z"
   },
   {
    "duration": 20,
    "start_time": "2022-02-13T08:57:39.939Z"
   },
   {
    "duration": 7,
    "start_time": "2022-02-13T08:57:39.962Z"
   },
   {
    "duration": 12,
    "start_time": "2022-02-13T08:57:39.972Z"
   },
   {
    "duration": 60,
    "start_time": "2022-02-13T08:57:39.987Z"
   },
   {
    "duration": 22,
    "start_time": "2022-02-13T08:57:40.050Z"
   },
   {
    "duration": 752,
    "start_time": "2022-02-13T08:57:40.075Z"
   },
   {
    "duration": 19,
    "start_time": "2022-02-13T08:57:40.833Z"
   },
   {
    "duration": 734,
    "start_time": "2022-02-13T08:57:40.855Z"
   },
   {
    "duration": 72,
    "start_time": "2022-02-13T08:57:41.592Z"
   },
   {
    "duration": 10,
    "start_time": "2022-02-13T08:57:41.666Z"
   },
   {
    "duration": 15,
    "start_time": "2022-02-13T08:57:41.678Z"
   },
   {
    "duration": 103,
    "start_time": "2022-02-13T08:57:41.695Z"
   },
   {
    "duration": -48,
    "start_time": "2022-02-13T08:57:41.848Z"
   },
   {
    "duration": -54,
    "start_time": "2022-02-13T08:57:41.855Z"
   },
   {
    "duration": -54,
    "start_time": "2022-02-13T08:57:41.857Z"
   },
   {
    "duration": -55,
    "start_time": "2022-02-13T08:57:41.859Z"
   },
   {
    "duration": -56,
    "start_time": "2022-02-13T08:57:41.861Z"
   },
   {
    "duration": -56,
    "start_time": "2022-02-13T08:57:41.863Z"
   },
   {
    "duration": -57,
    "start_time": "2022-02-13T08:57:41.865Z"
   },
   {
    "duration": -58,
    "start_time": "2022-02-13T08:57:41.867Z"
   },
   {
    "duration": -58,
    "start_time": "2022-02-13T08:57:41.869Z"
   },
   {
    "duration": -59,
    "start_time": "2022-02-13T08:57:41.871Z"
   },
   {
    "duration": -60,
    "start_time": "2022-02-13T08:57:41.873Z"
   },
   {
    "duration": -61,
    "start_time": "2022-02-13T08:57:41.875Z"
   },
   {
    "duration": -65,
    "start_time": "2022-02-13T08:57:41.881Z"
   },
   {
    "duration": -66,
    "start_time": "2022-02-13T08:57:41.883Z"
   },
   {
    "duration": -68,
    "start_time": "2022-02-13T08:57:41.886Z"
   },
   {
    "duration": -68,
    "start_time": "2022-02-13T08:57:41.887Z"
   },
   {
    "duration": -69,
    "start_time": "2022-02-13T08:57:41.889Z"
   },
   {
    "duration": -70,
    "start_time": "2022-02-13T08:57:41.891Z"
   },
   {
    "duration": -70,
    "start_time": "2022-02-13T08:57:41.893Z"
   },
   {
    "duration": -71,
    "start_time": "2022-02-13T08:57:41.895Z"
   },
   {
    "duration": -69,
    "start_time": "2022-02-13T08:57:41.897Z"
   },
   {
    "duration": -73,
    "start_time": "2022-02-13T08:57:41.903Z"
   },
   {
    "duration": 8559,
    "start_time": "2022-02-13T08:57:58.088Z"
   },
   {
    "duration": -48,
    "start_time": "2022-02-13T08:58:06.698Z"
   },
   {
    "duration": -49,
    "start_time": "2022-02-13T08:58:06.701Z"
   },
   {
    "duration": -53,
    "start_time": "2022-02-13T08:58:06.706Z"
   },
   {
    "duration": -59,
    "start_time": "2022-02-13T08:58:06.713Z"
   },
   {
    "duration": 18,
    "start_time": "2022-02-13T08:58:09.793Z"
   },
   {
    "duration": 36,
    "start_time": "2022-02-13T08:58:09.814Z"
   },
   {
    "duration": 3,
    "start_time": "2022-02-13T08:58:09.853Z"
   },
   {
    "duration": 13,
    "start_time": "2022-02-13T08:58:09.860Z"
   },
   {
    "duration": 68,
    "start_time": "2022-02-13T08:58:09.876Z"
   },
   {
    "duration": 16,
    "start_time": "2022-02-13T08:58:09.946Z"
   },
   {
    "duration": 67,
    "start_time": "2022-02-13T08:58:09.965Z"
   },
   {
    "duration": 14,
    "start_time": "2022-02-13T08:58:10.036Z"
   },
   {
    "duration": 8,
    "start_time": "2022-02-13T08:58:10.053Z"
   },
   {
    "duration": 9,
    "start_time": "2022-02-13T08:58:10.064Z"
   },
   {
    "duration": 295,
    "start_time": "2022-02-13T08:58:10.076Z"
   },
   {
    "duration": -46,
    "start_time": "2022-02-13T08:58:10.421Z"
   },
   {
    "duration": -46,
    "start_time": "2022-02-13T08:58:10.423Z"
   },
   {
    "duration": -47,
    "start_time": "2022-02-13T08:58:10.425Z"
   },
   {
    "duration": -48,
    "start_time": "2022-02-13T08:58:10.428Z"
   },
   {
    "duration": -48,
    "start_time": "2022-02-13T08:58:10.429Z"
   },
   {
    "duration": -49,
    "start_time": "2022-02-13T08:58:10.432Z"
   },
   {
    "duration": -50,
    "start_time": "2022-02-13T08:58:10.434Z"
   },
   {
    "duration": -50,
    "start_time": "2022-02-13T08:58:10.436Z"
   },
   {
    "duration": -51,
    "start_time": "2022-02-13T08:58:10.438Z"
   },
   {
    "duration": -52,
    "start_time": "2022-02-13T08:58:10.440Z"
   },
   {
    "duration": -52,
    "start_time": "2022-02-13T08:58:10.442Z"
   },
   {
    "duration": -53,
    "start_time": "2022-02-13T08:58:10.444Z"
   },
   {
    "duration": -58,
    "start_time": "2022-02-13T08:58:10.450Z"
   },
   {
    "duration": -59,
    "start_time": "2022-02-13T08:58:10.452Z"
   },
   {
    "duration": -59,
    "start_time": "2022-02-13T08:58:10.454Z"
   },
   {
    "duration": -61,
    "start_time": "2022-02-13T08:58:10.457Z"
   },
   {
    "duration": -65,
    "start_time": "2022-02-13T08:58:10.462Z"
   },
   {
    "duration": -69,
    "start_time": "2022-02-13T08:58:10.468Z"
   },
   {
    "duration": -70,
    "start_time": "2022-02-13T08:58:10.470Z"
   },
   {
    "duration": -71,
    "start_time": "2022-02-13T08:58:10.472Z"
   },
   {
    "duration": -72,
    "start_time": "2022-02-13T08:58:10.474Z"
   },
   {
    "duration": -73,
    "start_time": "2022-02-13T08:58:10.476Z"
   },
   {
    "duration": -76,
    "start_time": "2022-02-13T08:58:10.481Z"
   },
   {
    "duration": -78,
    "start_time": "2022-02-13T08:58:10.484Z"
   },
   {
    "duration": -79,
    "start_time": "2022-02-13T08:58:10.486Z"
   },
   {
    "duration": -79,
    "start_time": "2022-02-13T08:58:10.488Z"
   },
   {
    "duration": -84,
    "start_time": "2022-02-13T08:58:10.494Z"
   },
   {
    "duration": -85,
    "start_time": "2022-02-13T08:58:10.496Z"
   },
   {
    "duration": -86,
    "start_time": "2022-02-13T08:58:10.498Z"
   },
   {
    "duration": -88,
    "start_time": "2022-02-13T08:58:10.501Z"
   },
   {
    "duration": -89,
    "start_time": "2022-02-13T08:58:10.503Z"
   },
   {
    "duration": -73,
    "start_time": "2022-02-13T08:58:10.505Z"
   },
   {
    "duration": -78,
    "start_time": "2022-02-13T08:58:10.511Z"
   },
   {
    "duration": -78,
    "start_time": "2022-02-13T08:58:10.513Z"
   },
   {
    "duration": -79,
    "start_time": "2022-02-13T08:58:10.515Z"
   },
   {
    "duration": -80,
    "start_time": "2022-02-13T08:58:10.518Z"
   },
   {
    "duration": -260,
    "start_time": "2022-02-13T08:58:10.700Z"
   },
   {
    "duration": -327,
    "start_time": "2022-02-13T08:58:10.768Z"
   },
   {
    "duration": -334,
    "start_time": "2022-02-13T08:58:10.776Z"
   },
   {
    "duration": -334,
    "start_time": "2022-02-13T08:58:10.778Z"
   },
   {
    "duration": -335,
    "start_time": "2022-02-13T08:58:10.780Z"
   },
   {
    "duration": -335,
    "start_time": "2022-02-13T08:58:10.782Z"
   },
   {
    "duration": -336,
    "start_time": "2022-02-13T08:58:10.784Z"
   },
   {
    "duration": -336,
    "start_time": "2022-02-13T08:58:10.786Z"
   },
   {
    "duration": -337,
    "start_time": "2022-02-13T08:58:10.788Z"
   },
   {
    "duration": -337,
    "start_time": "2022-02-13T08:58:10.790Z"
   },
   {
    "duration": -338,
    "start_time": "2022-02-13T08:58:10.792Z"
   },
   {
    "duration": -339,
    "start_time": "2022-02-13T08:58:10.794Z"
   },
   {
    "duration": -339,
    "start_time": "2022-02-13T08:58:10.796Z"
   },
   {
    "duration": -340,
    "start_time": "2022-02-13T08:58:10.798Z"
   },
   {
    "duration": -340,
    "start_time": "2022-02-13T08:58:10.800Z"
   },
   {
    "duration": -341,
    "start_time": "2022-02-13T08:58:10.802Z"
   },
   {
    "duration": -341,
    "start_time": "2022-02-13T08:58:10.804Z"
   },
   {
    "duration": -343,
    "start_time": "2022-02-13T08:58:10.807Z"
   },
   {
    "duration": 37,
    "start_time": "2022-02-13T08:59:28.627Z"
   },
   {
    "duration": 10,
    "start_time": "2022-02-13T08:59:28.666Z"
   },
   {
    "duration": 63,
    "start_time": "2022-02-13T08:59:28.679Z"
   },
   {
    "duration": 16,
    "start_time": "2022-02-13T08:59:28.745Z"
   },
   {
    "duration": 223,
    "start_time": "2022-02-13T08:59:28.763Z"
   },
   {
    "duration": 27,
    "start_time": "2022-02-13T08:59:28.989Z"
   },
   {
    "duration": 34,
    "start_time": "2022-02-13T08:59:29.033Z"
   },
   {
    "duration": 188,
    "start_time": "2022-02-13T08:59:29.071Z"
   },
   {
    "duration": 25,
    "start_time": "2022-02-13T08:59:29.262Z"
   },
   {
    "duration": 64,
    "start_time": "2022-02-13T08:59:29.289Z"
   },
   {
    "duration": 124,
    "start_time": "2022-02-13T08:59:29.356Z"
   },
   {
    "duration": 21,
    "start_time": "2022-02-13T08:59:29.483Z"
   },
   {
    "duration": 43,
    "start_time": "2022-02-13T08:59:29.506Z"
   },
   {
    "duration": 22,
    "start_time": "2022-02-13T08:59:29.552Z"
   },
   {
    "duration": 116,
    "start_time": "2022-02-13T08:59:29.577Z"
   },
   {
    "duration": 39,
    "start_time": "2022-02-13T08:59:29.695Z"
   },
   {
    "duration": 8,
    "start_time": "2022-02-13T08:59:29.737Z"
   },
   {
    "duration": 18,
    "start_time": "2022-02-13T08:59:29.748Z"
   },
   {
    "duration": 52,
    "start_time": "2022-02-13T08:59:29.768Z"
   },
   {
    "duration": 46,
    "start_time": "2022-02-13T08:59:29.822Z"
   },
   {
    "duration": 28,
    "start_time": "2022-02-13T08:59:29.870Z"
   },
   {
    "duration": 55,
    "start_time": "2022-02-13T08:59:29.901Z"
   },
   {
    "duration": 25,
    "start_time": "2022-02-13T08:59:29.961Z"
   },
   {
    "duration": 51,
    "start_time": "2022-02-13T08:59:29.992Z"
   },
   {
    "duration": 18,
    "start_time": "2022-02-13T08:59:30.046Z"
   },
   {
    "duration": 17,
    "start_time": "2022-02-13T08:59:30.067Z"
   },
   {
    "duration": 15,
    "start_time": "2022-02-13T08:59:30.086Z"
   },
   {
    "duration": 37,
    "start_time": "2022-02-13T08:59:30.103Z"
   },
   {
    "duration": 42,
    "start_time": "2022-02-13T08:59:30.142Z"
   },
   {
    "duration": 30,
    "start_time": "2022-02-13T08:59:30.187Z"
   },
   {
    "duration": 815,
    "start_time": "2022-02-13T08:59:30.220Z"
   },
   {
    "duration": 20,
    "start_time": "2022-02-13T08:59:31.038Z"
   },
   {
    "duration": 748,
    "start_time": "2022-02-13T08:59:31.061Z"
   },
   {
    "duration": 66,
    "start_time": "2022-02-13T08:59:31.811Z"
   },
   {
    "duration": 9,
    "start_time": "2022-02-13T08:59:31.879Z"
   },
   {
    "duration": 42,
    "start_time": "2022-02-13T08:59:31.890Z"
   },
   {
    "duration": 8152,
    "start_time": "2022-02-13T08:59:31.935Z"
   },
   {
    "duration": -43,
    "start_time": "2022-02-13T08:59:40.132Z"
   },
   {
    "duration": -48,
    "start_time": "2022-02-13T08:59:40.139Z"
   },
   {
    "duration": -50,
    "start_time": "2022-02-13T08:59:40.142Z"
   },
   {
    "duration": -51,
    "start_time": "2022-02-13T08:59:40.144Z"
   },
   {
    "duration": -52,
    "start_time": "2022-02-13T08:59:40.147Z"
   },
   {
    "duration": -52,
    "start_time": "2022-02-13T08:59:40.148Z"
   },
   {
    "duration": -53,
    "start_time": "2022-02-13T08:59:40.151Z"
   },
   {
    "duration": -53,
    "start_time": "2022-02-13T08:59:40.152Z"
   },
   {
    "duration": -55,
    "start_time": "2022-02-13T08:59:40.155Z"
   },
   {
    "duration": -59,
    "start_time": "2022-02-13T08:59:40.161Z"
   },
   {
    "duration": -60,
    "start_time": "2022-02-13T08:59:40.163Z"
   },
   {
    "duration": -61,
    "start_time": "2022-02-13T08:59:40.165Z"
   },
   {
    "duration": -62,
    "start_time": "2022-02-13T08:59:40.167Z"
   },
   {
    "duration": -63,
    "start_time": "2022-02-13T08:59:40.169Z"
   },
   {
    "duration": -63,
    "start_time": "2022-02-13T08:59:40.171Z"
   },
   {
    "duration": -64,
    "start_time": "2022-02-13T08:59:40.173Z"
   },
   {
    "duration": -65,
    "start_time": "2022-02-13T08:59:40.175Z"
   },
   {
    "duration": -71,
    "start_time": "2022-02-13T08:59:40.182Z"
   },
   {
    "duration": -73,
    "start_time": "2022-02-13T08:59:40.185Z"
   },
   {
    "duration": -73,
    "start_time": "2022-02-13T08:59:40.187Z"
   },
   {
    "duration": -74,
    "start_time": "2022-02-13T08:59:40.189Z"
   },
   {
    "duration": -75,
    "start_time": "2022-02-13T08:59:40.191Z"
   },
   {
    "duration": -75,
    "start_time": "2022-02-13T08:59:40.193Z"
   },
   {
    "duration": -76,
    "start_time": "2022-02-13T08:59:40.195Z"
   },
   {
    "duration": -76,
    "start_time": "2022-02-13T08:59:40.197Z"
   },
   {
    "duration": -81,
    "start_time": "2022-02-13T08:59:40.203Z"
   },
   {
    "duration": -83,
    "start_time": "2022-02-13T08:59:40.206Z"
   },
   {
    "duration": -84,
    "start_time": "2022-02-13T08:59:40.208Z"
   },
   {
    "duration": -85,
    "start_time": "2022-02-13T08:59:40.210Z"
   },
   {
    "duration": -85,
    "start_time": "2022-02-13T08:59:40.212Z"
   },
   {
    "duration": -87,
    "start_time": "2022-02-13T08:59:40.215Z"
   },
   {
    "duration": 20,
    "start_time": "2022-02-13T09:01:39.369Z"
   },
   {
    "duration": 6,
    "start_time": "2022-02-13T09:02:37.362Z"
   },
   {
    "duration": 6,
    "start_time": "2022-02-13T09:02:41.344Z"
   },
   {
    "duration": 30,
    "start_time": "2022-02-13T09:03:39.582Z"
   },
   {
    "duration": 8,
    "start_time": "2022-02-13T09:03:39.615Z"
   },
   {
    "duration": 21,
    "start_time": "2022-02-13T09:03:39.626Z"
   },
   {
    "duration": 15,
    "start_time": "2022-02-13T09:03:39.651Z"
   },
   {
    "duration": 258,
    "start_time": "2022-02-13T09:03:39.669Z"
   },
   {
    "duration": 29,
    "start_time": "2022-02-13T09:03:39.932Z"
   },
   {
    "duration": 67,
    "start_time": "2022-02-13T09:03:39.964Z"
   },
   {
    "duration": 190,
    "start_time": "2022-02-13T09:03:40.035Z"
   },
   {
    "duration": 23,
    "start_time": "2022-02-13T09:03:40.228Z"
   },
   {
    "duration": 36,
    "start_time": "2022-02-13T09:03:40.253Z"
   },
   {
    "duration": 144,
    "start_time": "2022-02-13T09:03:40.291Z"
   },
   {
    "duration": 18,
    "start_time": "2022-02-13T09:03:40.437Z"
   },
   {
    "duration": 18,
    "start_time": "2022-02-13T09:03:40.457Z"
   },
   {
    "duration": 21,
    "start_time": "2022-02-13T09:03:40.477Z"
   },
   {
    "duration": 102,
    "start_time": "2022-02-13T09:03:40.535Z"
   },
   {
    "duration": 26,
    "start_time": "2022-02-13T09:03:40.640Z"
   },
   {
    "duration": 9,
    "start_time": "2022-02-13T09:03:40.669Z"
   },
   {
    "duration": 13,
    "start_time": "2022-02-13T09:03:40.681Z"
   },
   {
    "duration": 43,
    "start_time": "2022-02-13T09:03:40.733Z"
   },
   {
    "duration": 67,
    "start_time": "2022-02-13T09:03:40.779Z"
   },
   {
    "duration": 36,
    "start_time": "2022-02-13T09:03:40.849Z"
   },
   {
    "duration": 58,
    "start_time": "2022-02-13T09:03:40.888Z"
   },
   {
    "duration": 32,
    "start_time": "2022-02-13T09:03:40.954Z"
   },
   {
    "duration": 57,
    "start_time": "2022-02-13T09:03:40.991Z"
   },
   {
    "duration": 22,
    "start_time": "2022-02-13T09:03:41.051Z"
   },
   {
    "duration": 25,
    "start_time": "2022-02-13T09:03:41.076Z"
   },
   {
    "duration": 4,
    "start_time": "2022-02-13T09:03:41.104Z"
   },
   {
    "duration": 31,
    "start_time": "2022-02-13T09:03:41.132Z"
   },
   {
    "duration": 23,
    "start_time": "2022-02-13T09:03:41.165Z"
   },
   {
    "duration": 19,
    "start_time": "2022-02-13T09:03:41.191Z"
   },
   {
    "duration": 728,
    "start_time": "2022-02-13T09:03:41.213Z"
   },
   {
    "duration": 17,
    "start_time": "2022-02-13T09:03:41.944Z"
   },
   {
    "duration": 741,
    "start_time": "2022-02-13T09:03:41.963Z"
   },
   {
    "duration": 70,
    "start_time": "2022-02-13T09:03:42.708Z"
   },
   {
    "duration": 12,
    "start_time": "2022-02-13T09:03:42.781Z"
   },
   {
    "duration": 42,
    "start_time": "2022-02-13T09:03:42.795Z"
   },
   {
    "duration": 20,
    "start_time": "2022-02-13T09:03:42.839Z"
   },
   {
    "duration": 5,
    "start_time": "2022-02-13T09:03:42.862Z"
   },
   {
    "duration": 12,
    "start_time": "2022-02-13T09:03:42.869Z"
   },
   {
    "duration": 90,
    "start_time": "2022-02-13T09:03:42.884Z"
   },
   {
    "duration": 1130,
    "start_time": "2022-02-13T09:03:42.976Z"
   },
   {
    "duration": -43,
    "start_time": "2022-02-13T09:03:44.152Z"
   },
   {
    "duration": -44,
    "start_time": "2022-02-13T09:03:44.154Z"
   },
   {
    "duration": -44,
    "start_time": "2022-02-13T09:03:44.156Z"
   },
   {
    "duration": -45,
    "start_time": "2022-02-13T09:03:44.158Z"
   },
   {
    "duration": -45,
    "start_time": "2022-02-13T09:03:44.160Z"
   },
   {
    "duration": -49,
    "start_time": "2022-02-13T09:03:44.166Z"
   },
   {
    "duration": -50,
    "start_time": "2022-02-13T09:03:44.168Z"
   },
   {
    "duration": -50,
    "start_time": "2022-02-13T09:03:44.170Z"
   },
   {
    "duration": -51,
    "start_time": "2022-02-13T09:03:44.172Z"
   },
   {
    "duration": -51,
    "start_time": "2022-02-13T09:03:44.174Z"
   },
   {
    "duration": -52,
    "start_time": "2022-02-13T09:03:44.176Z"
   },
   {
    "duration": -56,
    "start_time": "2022-02-13T09:03:44.182Z"
   },
   {
    "duration": -56,
    "start_time": "2022-02-13T09:03:44.184Z"
   },
   {
    "duration": -57,
    "start_time": "2022-02-13T09:03:44.186Z"
   },
   {
    "duration": -57,
    "start_time": "2022-02-13T09:03:44.188Z"
   },
   {
    "duration": -57,
    "start_time": "2022-02-13T09:03:44.190Z"
   },
   {
    "duration": -58,
    "start_time": "2022-02-13T09:03:44.192Z"
   },
   {
    "duration": -62,
    "start_time": "2022-02-13T09:03:44.198Z"
   },
   {
    "duration": -63,
    "start_time": "2022-02-13T09:03:44.200Z"
   },
   {
    "duration": -63,
    "start_time": "2022-02-13T09:03:44.202Z"
   },
   {
    "duration": -63,
    "start_time": "2022-02-13T09:03:44.203Z"
   },
   {
    "duration": -67,
    "start_time": "2022-02-13T09:03:44.209Z"
   },
   {
    "duration": -67,
    "start_time": "2022-02-13T09:03:44.211Z"
   },
   {
    "duration": -68,
    "start_time": "2022-02-13T09:03:44.213Z"
   },
   {
    "duration": -72,
    "start_time": "2022-02-13T09:03:44.218Z"
   },
   {
    "duration": -72,
    "start_time": "2022-02-13T09:03:44.220Z"
   },
   {
    "duration": -73,
    "start_time": "2022-02-13T09:03:44.222Z"
   },
   {
    "duration": 7,
    "start_time": "2022-02-13T09:04:27.090Z"
   },
   {
    "duration": 8,
    "start_time": "2022-02-13T09:04:33.009Z"
   },
   {
    "duration": 33,
    "start_time": "2022-02-13T09:04:33.358Z"
   },
   {
    "duration": 4,
    "start_time": "2022-02-13T09:04:33.522Z"
   },
   {
    "duration": 8,
    "start_time": "2022-02-13T09:04:33.702Z"
   },
   {
    "duration": 18,
    "start_time": "2022-02-13T09:04:34.068Z"
   },
   {
    "duration": 18,
    "start_time": "2022-02-13T09:04:34.316Z"
   },
   {
    "duration": 34,
    "start_time": "2022-02-13T09:04:34.520Z"
   },
   {
    "duration": 14,
    "start_time": "2022-02-13T09:04:34.730Z"
   },
   {
    "duration": 9,
    "start_time": "2022-02-13T09:04:35.181Z"
   },
   {
    "duration": 6,
    "start_time": "2022-02-13T09:04:35.400Z"
   },
   {
    "duration": 20,
    "start_time": "2022-02-13T09:04:35.610Z"
   },
   {
    "duration": 10,
    "start_time": "2022-02-13T09:04:36.040Z"
   },
   {
    "duration": 14,
    "start_time": "2022-02-13T09:04:36.234Z"
   },
   {
    "duration": 9,
    "start_time": "2022-02-13T09:04:36.407Z"
   },
   {
    "duration": 14,
    "start_time": "2022-02-13T09:04:36.834Z"
   },
   {
    "duration": 8,
    "start_time": "2022-02-13T09:04:37.309Z"
   },
   {
    "duration": 9,
    "start_time": "2022-02-13T09:04:41.410Z"
   },
   {
    "duration": 6,
    "start_time": "2022-02-13T09:04:41.744Z"
   },
   {
    "duration": 10,
    "start_time": "2022-02-13T09:04:43.242Z"
   },
   {
    "duration": 10,
    "start_time": "2022-02-13T09:04:43.763Z"
   },
   {
    "duration": 14,
    "start_time": "2022-02-13T09:04:44.008Z"
   },
   {
    "duration": 12,
    "start_time": "2022-02-13T09:04:44.598Z"
   },
   {
    "duration": 20,
    "start_time": "2022-02-13T09:04:45.173Z"
   },
   {
    "duration": 8,
    "start_time": "2022-02-13T09:04:46.352Z"
   },
   {
    "duration": 30,
    "start_time": "2022-02-13T09:06:10.880Z"
   },
   {
    "duration": 8,
    "start_time": "2022-02-13T09:06:10.913Z"
   },
   {
    "duration": 30,
    "start_time": "2022-02-13T09:06:10.924Z"
   },
   {
    "duration": 11,
    "start_time": "2022-02-13T09:06:10.957Z"
   },
   {
    "duration": 311,
    "start_time": "2022-02-13T09:06:10.970Z"
   },
   {
    "duration": 54,
    "start_time": "2022-02-13T09:06:11.284Z"
   },
   {
    "duration": 46,
    "start_time": "2022-02-13T09:06:11.341Z"
   },
   {
    "duration": 255,
    "start_time": "2022-02-13T09:06:11.393Z"
   },
   {
    "duration": 32,
    "start_time": "2022-02-13T09:06:11.652Z"
   },
   {
    "duration": 63,
    "start_time": "2022-02-13T09:06:11.687Z"
   },
   {
    "duration": 123,
    "start_time": "2022-02-13T09:06:11.753Z"
   },
   {
    "duration": 21,
    "start_time": "2022-02-13T09:06:11.879Z"
   },
   {
    "duration": 45,
    "start_time": "2022-02-13T09:06:11.904Z"
   },
   {
    "duration": 26,
    "start_time": "2022-02-13T09:06:11.951Z"
   },
   {
    "duration": 129,
    "start_time": "2022-02-13T09:06:11.980Z"
   },
   {
    "duration": 37,
    "start_time": "2022-02-13T09:06:12.112Z"
   },
   {
    "duration": 13,
    "start_time": "2022-02-13T09:06:12.152Z"
   },
   {
    "duration": 18,
    "start_time": "2022-02-13T09:06:12.168Z"
   },
   {
    "duration": 53,
    "start_time": "2022-02-13T09:06:12.197Z"
   },
   {
    "duration": 46,
    "start_time": "2022-02-13T09:06:12.253Z"
   },
   {
    "duration": 50,
    "start_time": "2022-02-13T09:06:12.301Z"
   },
   {
    "duration": 30,
    "start_time": "2022-02-13T09:06:12.353Z"
   },
   {
    "duration": 54,
    "start_time": "2022-02-13T09:06:12.391Z"
   },
   {
    "duration": 27,
    "start_time": "2022-02-13T09:06:12.450Z"
   },
   {
    "duration": 17,
    "start_time": "2022-02-13T09:06:12.480Z"
   },
   {
    "duration": 46,
    "start_time": "2022-02-13T09:06:12.500Z"
   },
   {
    "duration": 6,
    "start_time": "2022-02-13T09:06:12.548Z"
   },
   {
    "duration": 12,
    "start_time": "2022-02-13T09:06:12.556Z"
   },
   {
    "duration": 24,
    "start_time": "2022-02-13T09:06:12.570Z"
   },
   {
    "duration": 52,
    "start_time": "2022-02-13T09:06:12.596Z"
   },
   {
    "duration": 768,
    "start_time": "2022-02-13T09:06:12.651Z"
   },
   {
    "duration": 24,
    "start_time": "2022-02-13T09:06:13.421Z"
   },
   {
    "duration": 810,
    "start_time": "2022-02-13T09:06:13.447Z"
   },
   {
    "duration": 55,
    "start_time": "2022-02-13T09:06:14.260Z"
   },
   {
    "duration": 12,
    "start_time": "2022-02-13T09:06:14.334Z"
   },
   {
    "duration": 18,
    "start_time": "2022-02-13T09:06:14.349Z"
   },
   {
    "duration": 20,
    "start_time": "2022-02-13T09:06:14.370Z"
   },
   {
    "duration": 40,
    "start_time": "2022-02-13T09:06:14.394Z"
   },
   {
    "duration": 12,
    "start_time": "2022-02-13T09:06:14.438Z"
   },
   {
    "duration": 81,
    "start_time": "2022-02-13T09:06:14.453Z"
   },
   {
    "duration": 8,
    "start_time": "2022-02-13T09:06:14.537Z"
   },
   {
    "duration": 13,
    "start_time": "2022-02-13T09:06:14.547Z"
   },
   {
    "duration": 33,
    "start_time": "2022-02-13T09:06:14.563Z"
   },
   {
    "duration": 35,
    "start_time": "2022-02-13T09:06:14.598Z"
   },
   {
    "duration": 10,
    "start_time": "2022-02-13T09:06:14.636Z"
   },
   {
    "duration": 17,
    "start_time": "2022-02-13T09:06:14.648Z"
   },
   {
    "duration": 16,
    "start_time": "2022-02-13T09:06:14.667Z"
   },
   {
    "duration": 71,
    "start_time": "2022-02-13T09:06:14.686Z"
   },
   {
    "duration": 13,
    "start_time": "2022-02-13T09:06:14.759Z"
   },
   {
    "duration": 7,
    "start_time": "2022-02-13T09:06:14.775Z"
   },
   {
    "duration": 5,
    "start_time": "2022-02-13T09:06:14.784Z"
   },
   {
    "duration": 54,
    "start_time": "2022-02-13T09:06:14.792Z"
   },
   {
    "duration": 10,
    "start_time": "2022-02-13T09:06:14.849Z"
   },
   {
    "duration": 12,
    "start_time": "2022-02-13T09:06:14.861Z"
   },
   {
    "duration": 9,
    "start_time": "2022-02-13T09:06:14.875Z"
   },
   {
    "duration": 54,
    "start_time": "2022-02-13T09:06:14.886Z"
   },
   {
    "duration": 15,
    "start_time": "2022-02-13T09:06:14.943Z"
   },
   {
    "duration": 15,
    "start_time": "2022-02-13T09:06:14.961Z"
   },
   {
    "duration": 5,
    "start_time": "2022-02-13T09:06:14.979Z"
   },
   {
    "duration": 50,
    "start_time": "2022-02-13T09:06:14.987Z"
   },
   {
    "duration": 10,
    "start_time": "2022-02-13T09:06:15.039Z"
   },
   {
    "duration": 15,
    "start_time": "2022-02-13T09:06:15.052Z"
   },
   {
    "duration": 11,
    "start_time": "2022-02-13T09:06:15.070Z"
   },
   {
    "duration": 59,
    "start_time": "2022-02-13T09:06:15.084Z"
   },
   {
    "duration": 10,
    "start_time": "2022-02-13T09:06:15.145Z"
   },
   {
    "duration": 12,
    "start_time": "2022-02-13T09:06:15.157Z"
   },
   {
    "duration": 16,
    "start_time": "2022-02-13T09:06:15.172Z"
   },
   {
    "duration": 41,
    "start_time": "2022-02-13T09:06:15.195Z"
   },
   {
    "duration": 11,
    "start_time": "2022-02-13T09:06:25.827Z"
   },
   {
    "duration": 316,
    "start_time": "2022-02-13T09:07:52.041Z"
   },
   {
    "duration": 325,
    "start_time": "2022-02-13T09:07:57.176Z"
   },
   {
    "duration": 359,
    "start_time": "2022-02-13T09:08:26.549Z"
   },
   {
    "duration": 10,
    "start_time": "2022-02-13T09:09:09.198Z"
   },
   {
    "duration": 6,
    "start_time": "2022-02-13T09:09:35.232Z"
   },
   {
    "duration": 12,
    "start_time": "2022-02-13T09:10:30.434Z"
   },
   {
    "duration": 5,
    "start_time": "2022-02-13T09:10:42.339Z"
   },
   {
    "duration": 304,
    "start_time": "2022-02-13T09:10:46.087Z"
   },
   {
    "duration": 18,
    "start_time": "2022-02-13T09:12:22.212Z"
   },
   {
    "duration": 16,
    "start_time": "2022-02-13T09:12:35.975Z"
   },
   {
    "duration": 319,
    "start_time": "2022-02-13T09:13:41.327Z"
   },
   {
    "duration": 1062,
    "start_time": "2022-02-13T09:14:40.510Z"
   },
   {
    "duration": 323,
    "start_time": "2022-02-13T09:45:13.680Z"
   },
   {
    "duration": 31,
    "start_time": "2022-02-13T09:54:45.801Z"
   },
   {
    "duration": 8,
    "start_time": "2022-02-13T09:54:45.835Z"
   },
   {
    "duration": 35,
    "start_time": "2022-02-13T09:54:45.848Z"
   },
   {
    "duration": 15,
    "start_time": "2022-02-13T09:54:45.931Z"
   },
   {
    "duration": 297,
    "start_time": "2022-02-13T09:54:45.949Z"
   },
   {
    "duration": 41,
    "start_time": "2022-02-13T09:54:46.250Z"
   },
   {
    "duration": 72,
    "start_time": "2022-02-13T09:54:46.294Z"
   },
   {
    "duration": 223,
    "start_time": "2022-02-13T09:54:46.369Z"
   },
   {
    "duration": 36,
    "start_time": "2022-02-13T09:54:46.596Z"
   },
   {
    "duration": 37,
    "start_time": "2022-02-13T09:54:46.636Z"
   },
   {
    "duration": 128,
    "start_time": "2022-02-13T09:54:46.675Z"
   },
   {
    "duration": 28,
    "start_time": "2022-02-13T09:54:46.805Z"
   },
   {
    "duration": 19,
    "start_time": "2022-02-13T09:54:46.836Z"
   },
   {
    "duration": 21,
    "start_time": "2022-02-13T09:54:46.857Z"
   },
   {
    "duration": 125,
    "start_time": "2022-02-13T09:54:46.881Z"
   },
   {
    "duration": 28,
    "start_time": "2022-02-13T09:54:47.008Z"
   },
   {
    "duration": 7,
    "start_time": "2022-02-13T09:54:47.039Z"
   },
   {
    "duration": 16,
    "start_time": "2022-02-13T09:54:47.049Z"
   },
   {
    "duration": 70,
    "start_time": "2022-02-13T09:54:47.068Z"
   },
   {
    "duration": 37,
    "start_time": "2022-02-13T09:54:47.140Z"
   },
   {
    "duration": 54,
    "start_time": "2022-02-13T09:54:47.179Z"
   },
   {
    "duration": 29,
    "start_time": "2022-02-13T09:54:47.236Z"
   },
   {
    "duration": 24,
    "start_time": "2022-02-13T09:54:47.267Z"
   },
   {
    "duration": 54,
    "start_time": "2022-02-13T09:54:47.293Z"
   },
   {
    "duration": 16,
    "start_time": "2022-02-13T09:54:47.349Z"
   },
   {
    "duration": 18,
    "start_time": "2022-02-13T09:54:47.368Z"
   },
   {
    "duration": 41,
    "start_time": "2022-02-13T09:54:47.393Z"
   },
   {
    "duration": 10,
    "start_time": "2022-02-13T09:54:47.440Z"
   },
   {
    "duration": 24,
    "start_time": "2022-02-13T09:54:47.454Z"
   },
   {
    "duration": 65,
    "start_time": "2022-02-13T09:54:47.481Z"
   },
   {
    "duration": 726,
    "start_time": "2022-02-13T09:54:47.549Z"
   },
   {
    "duration": 19,
    "start_time": "2022-02-13T09:54:48.278Z"
   },
   {
    "duration": 720,
    "start_time": "2022-02-13T09:54:48.300Z"
   },
   {
    "duration": 65,
    "start_time": "2022-02-13T09:54:49.023Z"
   },
   {
    "duration": 11,
    "start_time": "2022-02-13T09:54:49.091Z"
   },
   {
    "duration": 40,
    "start_time": "2022-02-13T09:54:49.105Z"
   },
   {
    "duration": 28,
    "start_time": "2022-02-13T09:54:49.148Z"
   },
   {
    "duration": 9,
    "start_time": "2022-02-13T09:54:49.180Z"
   },
   {
    "duration": 45,
    "start_time": "2022-02-13T09:54:49.191Z"
   },
   {
    "duration": 47,
    "start_time": "2022-02-13T09:54:49.239Z"
   },
   {
    "duration": 6,
    "start_time": "2022-02-13T09:54:49.289Z"
   },
   {
    "duration": 43,
    "start_time": "2022-02-13T09:54:49.297Z"
   },
   {
    "duration": 40,
    "start_time": "2022-02-13T09:54:49.342Z"
   },
   {
    "duration": 4,
    "start_time": "2022-02-13T09:54:49.384Z"
   },
   {
    "duration": 15,
    "start_time": "2022-02-13T09:54:49.390Z"
   },
   {
    "duration": 33,
    "start_time": "2022-02-13T09:54:49.407Z"
   },
   {
    "duration": 18,
    "start_time": "2022-02-13T09:54:49.443Z"
   },
   {
    "duration": 35,
    "start_time": "2022-02-13T09:54:49.463Z"
   },
   {
    "duration": 12,
    "start_time": "2022-02-13T09:54:49.532Z"
   },
   {
    "duration": 12,
    "start_time": "2022-02-13T09:54:49.547Z"
   },
   {
    "duration": 5,
    "start_time": "2022-02-13T09:54:49.562Z"
   },
   {
    "duration": 22,
    "start_time": "2022-02-13T09:54:49.569Z"
   },
   {
    "duration": 39,
    "start_time": "2022-02-13T09:54:49.593Z"
   },
   {
    "duration": 14,
    "start_time": "2022-02-13T09:54:49.635Z"
   },
   {
    "duration": 11,
    "start_time": "2022-02-13T09:54:49.652Z"
   },
   {
    "duration": 13,
    "start_time": "2022-02-13T09:54:49.666Z"
   },
   {
    "duration": 53,
    "start_time": "2022-02-13T09:54:49.681Z"
   },
   {
    "duration": 11,
    "start_time": "2022-02-13T09:54:49.736Z"
   },
   {
    "duration": 12,
    "start_time": "2022-02-13T09:54:49.750Z"
   },
   {
    "duration": 12,
    "start_time": "2022-02-13T09:54:49.765Z"
   },
   {
    "duration": 15,
    "start_time": "2022-02-13T09:54:49.780Z"
   },
   {
    "duration": 46,
    "start_time": "2022-02-13T09:54:49.798Z"
   },
   {
    "duration": 14,
    "start_time": "2022-02-13T09:54:49.846Z"
   },
   {
    "duration": 20,
    "start_time": "2022-02-13T09:54:49.863Z"
   },
   {
    "duration": 12,
    "start_time": "2022-02-13T09:54:49.886Z"
   },
   {
    "duration": 43,
    "start_time": "2022-02-13T09:54:49.900Z"
   },
   {
    "duration": 20,
    "start_time": "2022-02-13T09:54:49.946Z"
   },
   {
    "duration": 10,
    "start_time": "2022-02-13T09:54:49.968Z"
   },
   {
    "duration": 53,
    "start_time": "2022-02-13T09:54:49.980Z"
   },
   {
    "duration": 6,
    "start_time": "2022-02-13T09:54:50.035Z"
   },
   {
    "duration": 8,
    "start_time": "2022-02-13T09:54:50.044Z"
   },
   {
    "duration": 29,
    "start_time": "2022-02-13T09:54:50.055Z"
   },
   {
    "duration": 48,
    "start_time": "2022-02-13T09:54:50.087Z"
   },
   {
    "duration": 11,
    "start_time": "2022-02-13T09:54:50.137Z"
   },
   {
    "duration": 13,
    "start_time": "2022-02-13T09:54:50.150Z"
   },
   {
    "duration": 31,
    "start_time": "2022-02-13T10:00:27.897Z"
   },
   {
    "duration": 8,
    "start_time": "2022-02-13T10:00:27.930Z"
   },
   {
    "duration": 26,
    "start_time": "2022-02-13T10:00:27.941Z"
   },
   {
    "duration": 64,
    "start_time": "2022-02-13T10:00:27.970Z"
   },
   {
    "duration": 247,
    "start_time": "2022-02-13T10:00:28.036Z"
   },
   {
    "duration": 46,
    "start_time": "2022-02-13T10:00:28.286Z"
   },
   {
    "duration": 48,
    "start_time": "2022-02-13T10:00:28.335Z"
   },
   {
    "duration": 179,
    "start_time": "2022-02-13T10:00:28.387Z"
   },
   {
    "duration": 33,
    "start_time": "2022-02-13T10:00:28.570Z"
   },
   {
    "duration": 62,
    "start_time": "2022-02-13T10:00:28.606Z"
   },
   {
    "duration": 169,
    "start_time": "2022-02-13T10:00:28.670Z"
   },
   {
    "duration": 29,
    "start_time": "2022-02-13T10:00:28.842Z"
   },
   {
    "duration": 20,
    "start_time": "2022-02-13T10:00:28.874Z"
   },
   {
    "duration": 47,
    "start_time": "2022-02-13T10:00:28.897Z"
   },
   {
    "duration": 117,
    "start_time": "2022-02-13T10:00:28.946Z"
   },
   {
    "duration": 27,
    "start_time": "2022-02-13T10:00:29.066Z"
   },
   {
    "duration": 36,
    "start_time": "2022-02-13T10:00:29.095Z"
   },
   {
    "duration": 10,
    "start_time": "2022-02-13T10:00:29.133Z"
   },
   {
    "duration": 42,
    "start_time": "2022-02-13T10:00:29.145Z"
   },
   {
    "duration": 66,
    "start_time": "2022-02-13T10:00:29.189Z"
   },
   {
    "duration": 29,
    "start_time": "2022-02-13T10:00:29.257Z"
   },
   {
    "duration": 51,
    "start_time": "2022-02-13T10:00:29.289Z"
   },
   {
    "duration": 24,
    "start_time": "2022-02-13T10:00:29.349Z"
   },
   {
    "duration": 26,
    "start_time": "2022-02-13T10:00:29.377Z"
   },
   {
    "duration": 36,
    "start_time": "2022-02-13T10:00:29.405Z"
   },
   {
    "duration": 24,
    "start_time": "2022-02-13T10:00:29.443Z"
   },
   {
    "duration": 13,
    "start_time": "2022-02-13T10:00:29.469Z"
   },
   {
    "duration": 21,
    "start_time": "2022-02-13T10:00:29.484Z"
   },
   {
    "duration": 40,
    "start_time": "2022-02-13T10:00:29.507Z"
   },
   {
    "duration": 22,
    "start_time": "2022-02-13T10:00:29.550Z"
   },
   {
    "duration": 742,
    "start_time": "2022-02-13T10:00:29.575Z"
   },
   {
    "duration": 23,
    "start_time": "2022-02-13T10:00:30.320Z"
   },
   {
    "duration": 1058,
    "start_time": "2022-02-13T10:00:30.346Z"
   },
   {
    "duration": 68,
    "start_time": "2022-02-13T10:00:31.406Z"
   },
   {
    "duration": 9,
    "start_time": "2022-02-13T10:00:31.476Z"
   },
   {
    "duration": 13,
    "start_time": "2022-02-13T10:00:31.487Z"
   },
   {
    "duration": 47,
    "start_time": "2022-02-13T10:00:31.502Z"
   },
   {
    "duration": 5,
    "start_time": "2022-02-13T10:00:31.552Z"
   },
   {
    "duration": 17,
    "start_time": "2022-02-13T10:00:31.559Z"
   },
   {
    "duration": 82,
    "start_time": "2022-02-13T10:00:31.578Z"
   },
   {
    "duration": 6,
    "start_time": "2022-02-13T10:00:31.662Z"
   },
   {
    "duration": 15,
    "start_time": "2022-02-13T10:00:31.670Z"
   },
   {
    "duration": 61,
    "start_time": "2022-02-13T10:00:31.687Z"
   },
   {
    "duration": 4,
    "start_time": "2022-02-13T10:00:31.750Z"
   },
   {
    "duration": 19,
    "start_time": "2022-02-13T10:00:31.756Z"
   },
   {
    "duration": 19,
    "start_time": "2022-02-13T10:00:31.777Z"
   },
   {
    "duration": 48,
    "start_time": "2022-02-13T10:00:31.798Z"
   },
   {
    "duration": 32,
    "start_time": "2022-02-13T10:00:31.848Z"
   },
   {
    "duration": 14,
    "start_time": "2022-02-13T10:00:31.882Z"
   },
   {
    "duration": 13,
    "start_time": "2022-02-13T10:00:31.932Z"
   },
   {
    "duration": 5,
    "start_time": "2022-02-13T10:00:31.948Z"
   },
   {
    "duration": 19,
    "start_time": "2022-02-13T10:00:31.956Z"
   },
   {
    "duration": 12,
    "start_time": "2022-02-13T10:00:31.978Z"
   },
   {
    "duration": 48,
    "start_time": "2022-02-13T10:00:31.993Z"
   },
   {
    "duration": 19,
    "start_time": "2022-02-13T10:00:32.044Z"
   },
   {
    "duration": 18,
    "start_time": "2022-02-13T10:00:32.066Z"
   },
   {
    "duration": 48,
    "start_time": "2022-02-13T10:00:32.087Z"
   },
   {
    "duration": 30,
    "start_time": "2022-02-13T10:00:32.138Z"
   },
   {
    "duration": 9,
    "start_time": "2022-02-13T10:00:32.171Z"
   },
   {
    "duration": 37,
    "start_time": "2022-02-13T10:00:32.183Z"
   },
   {
    "duration": 11,
    "start_time": "2022-02-13T10:00:32.222Z"
   },
   {
    "duration": 29,
    "start_time": "2022-02-13T10:00:32.235Z"
   },
   {
    "duration": 24,
    "start_time": "2022-02-13T10:00:32.267Z"
   },
   {
    "duration": 25,
    "start_time": "2022-02-13T10:00:32.294Z"
   },
   {
    "duration": 10,
    "start_time": "2022-02-13T10:00:32.333Z"
   },
   {
    "duration": 36,
    "start_time": "2022-02-13T10:00:32.345Z"
   },
   {
    "duration": 19,
    "start_time": "2022-02-13T10:00:32.383Z"
   },
   {
    "duration": 27,
    "start_time": "2022-02-13T10:00:32.410Z"
   },
   {
    "duration": 11,
    "start_time": "2022-02-13T10:00:32.440Z"
   },
   {
    "duration": 21,
    "start_time": "2022-02-13T10:00:32.453Z"
   },
   {
    "duration": 18,
    "start_time": "2022-02-13T10:00:32.477Z"
   },
   {
    "duration": 38,
    "start_time": "2022-02-13T10:00:32.497Z"
   },
   {
    "duration": 20,
    "start_time": "2022-02-13T10:00:32.537Z"
   },
   {
    "duration": 5,
    "start_time": "2022-02-13T10:00:32.560Z"
   },
   {
    "duration": 21,
    "start_time": "2022-02-13T10:00:32.567Z"
   },
   {
    "duration": 186,
    "start_time": "2022-02-13T10:00:32.591Z"
   },
   {
    "duration": 678,
    "start_time": "2022-02-13T10:00:32.780Z"
   },
   {
    "duration": 8,
    "start_time": "2022-02-13T10:00:33.461Z"
   },
   {
    "duration": 307,
    "start_time": "2022-02-13T10:00:33.472Z"
   },
   {
    "duration": 9,
    "start_time": "2022-02-13T10:00:33.782Z"
   },
   {
    "duration": 8,
    "start_time": "2022-02-13T10:00:33.794Z"
   },
   {
    "duration": 103,
    "start_time": "2022-02-13T10:00:33.805Z"
   },
   {
    "duration": 75,
    "start_time": "2022-02-13T10:00:33.910Z"
   },
   {
    "duration": 17,
    "start_time": "2022-02-13T10:00:33.988Z"
   },
   {
    "duration": 35,
    "start_time": "2022-02-13T10:00:34.008Z"
   },
   {
    "duration": 719,
    "start_time": "2022-02-13T10:00:34.046Z"
   },
   {
    "duration": 772,
    "start_time": "2022-02-13T10:00:34.768Z"
   },
   {
    "duration": 10,
    "start_time": "2022-02-13T10:00:35.543Z"
   },
   {
    "duration": 18,
    "start_time": "2022-02-13T10:00:35.555Z"
   },
   {
    "duration": 17,
    "start_time": "2022-02-13T10:00:35.575Z"
   },
   {
    "duration": 43,
    "start_time": "2022-02-13T10:00:35.594Z"
   },
   {
    "duration": 12,
    "start_time": "2022-02-13T10:00:35.639Z"
   },
   {
    "duration": 16,
    "start_time": "2022-02-13T10:00:35.653Z"
   },
   {
    "duration": 77,
    "start_time": "2022-02-13T10:00:35.671Z"
   },
   {
    "duration": 8,
    "start_time": "2022-02-13T10:00:35.750Z"
   },
   {
    "duration": 8,
    "start_time": "2022-02-13T10:00:35.760Z"
   },
   {
    "duration": 11,
    "start_time": "2022-02-13T10:00:35.770Z"
   },
   {
    "duration": 53,
    "start_time": "2022-02-13T10:00:35.783Z"
   },
   {
    "duration": 312,
    "start_time": "2022-02-13T10:00:35.839Z"
   },
   {
    "duration": -3,
    "start_time": "2022-02-13T10:00:36.157Z"
   },
   {
    "duration": -5,
    "start_time": "2022-02-13T10:00:36.160Z"
   },
   {
    "duration": -6,
    "start_time": "2022-02-13T10:00:36.162Z"
   },
   {
    "duration": -6,
    "start_time": "2022-02-13T10:00:36.164Z"
   },
   {
    "duration": -7,
    "start_time": "2022-02-13T10:00:36.166Z"
   },
   {
    "duration": -7,
    "start_time": "2022-02-13T10:00:36.168Z"
   },
   {
    "duration": -8,
    "start_time": "2022-02-13T10:00:36.170Z"
   },
   {
    "duration": -14,
    "start_time": "2022-02-13T10:00:36.177Z"
   },
   {
    "duration": -14,
    "start_time": "2022-02-13T10:00:36.179Z"
   },
   {
    "duration": -15,
    "start_time": "2022-02-13T10:00:36.181Z"
   },
   {
    "duration": -15,
    "start_time": "2022-02-13T10:00:36.183Z"
   },
   {
    "duration": -16,
    "start_time": "2022-02-13T10:00:36.185Z"
   },
   {
    "duration": -17,
    "start_time": "2022-02-13T10:00:36.187Z"
   },
   {
    "duration": 31,
    "start_time": "2022-02-13T10:01:55.142Z"
   },
   {
    "duration": 9,
    "start_time": "2022-02-13T10:01:55.175Z"
   },
   {
    "duration": 49,
    "start_time": "2022-02-13T10:01:55.187Z"
   },
   {
    "duration": 12,
    "start_time": "2022-02-13T10:01:55.239Z"
   },
   {
    "duration": 245,
    "start_time": "2022-02-13T10:01:55.253Z"
   },
   {
    "duration": 41,
    "start_time": "2022-02-13T10:01:55.501Z"
   },
   {
    "duration": 34,
    "start_time": "2022-02-13T10:01:55.545Z"
   },
   {
    "duration": 181,
    "start_time": "2022-02-13T10:01:55.583Z"
   },
   {
    "duration": 25,
    "start_time": "2022-02-13T10:01:55.769Z"
   },
   {
    "duration": 77,
    "start_time": "2022-02-13T10:01:55.797Z"
   },
   {
    "duration": 170,
    "start_time": "2022-02-13T10:01:55.877Z"
   },
   {
    "duration": 28,
    "start_time": "2022-02-13T10:01:56.050Z"
   },
   {
    "duration": 24,
    "start_time": "2022-02-13T10:01:56.082Z"
   },
   {
    "duration": 27,
    "start_time": "2022-02-13T10:01:56.133Z"
   },
   {
    "duration": 156,
    "start_time": "2022-02-13T10:01:56.163Z"
   },
   {
    "duration": 42,
    "start_time": "2022-02-13T10:01:56.322Z"
   },
   {
    "duration": 10,
    "start_time": "2022-02-13T10:01:56.366Z"
   },
   {
    "duration": 9,
    "start_time": "2022-02-13T10:01:56.379Z"
   },
   {
    "duration": 70,
    "start_time": "2022-02-13T10:01:56.390Z"
   },
   {
    "duration": 37,
    "start_time": "2022-02-13T10:01:56.462Z"
   },
   {
    "duration": 49,
    "start_time": "2022-02-13T10:01:56.501Z"
   },
   {
    "duration": 30,
    "start_time": "2022-02-13T10:01:56.553Z"
   },
   {
    "duration": 49,
    "start_time": "2022-02-13T10:01:56.589Z"
   },
   {
    "duration": 25,
    "start_time": "2022-02-13T10:01:56.642Z"
   },
   {
    "duration": 16,
    "start_time": "2022-02-13T10:01:56.670Z"
   },
   {
    "duration": 47,
    "start_time": "2022-02-13T10:01:56.688Z"
   },
   {
    "duration": 7,
    "start_time": "2022-02-13T10:01:56.737Z"
   },
   {
    "duration": 11,
    "start_time": "2022-02-13T10:01:56.747Z"
   },
   {
    "duration": 25,
    "start_time": "2022-02-13T10:01:56.761Z"
   },
   {
    "duration": 51,
    "start_time": "2022-02-13T10:01:56.788Z"
   },
   {
    "duration": 1027,
    "start_time": "2022-02-13T10:01:56.841Z"
   },
   {
    "duration": 22,
    "start_time": "2022-02-13T10:01:57.870Z"
   },
   {
    "duration": 1222,
    "start_time": "2022-02-13T10:01:57.896Z"
   },
   {
    "duration": 66,
    "start_time": "2022-02-13T10:01:59.120Z"
   },
   {
    "duration": 10,
    "start_time": "2022-02-13T10:01:59.188Z"
   },
   {
    "duration": 34,
    "start_time": "2022-02-13T10:01:59.200Z"
   },
   {
    "duration": 19,
    "start_time": "2022-02-13T10:01:59.236Z"
   },
   {
    "duration": 12,
    "start_time": "2022-02-13T10:01:59.257Z"
   },
   {
    "duration": 31,
    "start_time": "2022-02-13T10:01:59.271Z"
   },
   {
    "duration": 62,
    "start_time": "2022-02-13T10:01:59.304Z"
   },
   {
    "duration": 6,
    "start_time": "2022-02-13T10:01:59.368Z"
   },
   {
    "duration": 26,
    "start_time": "2022-02-13T10:01:59.376Z"
   },
   {
    "duration": 41,
    "start_time": "2022-02-13T10:01:59.405Z"
   },
   {
    "duration": 11,
    "start_time": "2022-02-13T10:01:59.449Z"
   },
   {
    "duration": 26,
    "start_time": "2022-02-13T10:01:59.462Z"
   },
   {
    "duration": 30,
    "start_time": "2022-02-13T10:01:59.491Z"
   },
   {
    "duration": 17,
    "start_time": "2022-02-13T10:01:59.524Z"
   },
   {
    "duration": 41,
    "start_time": "2022-02-13T10:01:59.543Z"
   },
   {
    "duration": 13,
    "start_time": "2022-02-13T10:01:59.586Z"
   },
   {
    "duration": 17,
    "start_time": "2022-02-13T10:01:59.633Z"
   },
   {
    "duration": 15,
    "start_time": "2022-02-13T10:01:59.652Z"
   },
   {
    "duration": 49,
    "start_time": "2022-02-13T10:01:59.669Z"
   },
   {
    "duration": 10,
    "start_time": "2022-02-13T10:01:59.720Z"
   },
   {
    "duration": 35,
    "start_time": "2022-02-13T10:01:59.733Z"
   },
   {
    "duration": 10,
    "start_time": "2022-02-13T10:01:59.770Z"
   },
   {
    "duration": 14,
    "start_time": "2022-02-13T10:01:59.782Z"
   },
   {
    "duration": 16,
    "start_time": "2022-02-13T10:01:59.798Z"
   },
   {
    "duration": 22,
    "start_time": "2022-02-13T10:01:59.816Z"
   },
   {
    "duration": 16,
    "start_time": "2022-02-13T10:01:59.840Z"
   },
   {
    "duration": 16,
    "start_time": "2022-02-13T10:01:59.859Z"
   },
   {
    "duration": 19,
    "start_time": "2022-02-13T10:01:59.877Z"
   },
   {
    "duration": 36,
    "start_time": "2022-02-13T10:01:59.898Z"
   },
   {
    "duration": 14,
    "start_time": "2022-02-13T10:01:59.937Z"
   },
   {
    "duration": 19,
    "start_time": "2022-02-13T10:01:59.953Z"
   },
   {
    "duration": 10,
    "start_time": "2022-02-13T10:01:59.974Z"
   },
   {
    "duration": 14,
    "start_time": "2022-02-13T10:01:59.986Z"
   },
   {
    "duration": 48,
    "start_time": "2022-02-13T10:02:00.002Z"
   },
   {
    "duration": 9,
    "start_time": "2022-02-13T10:02:00.059Z"
   },
   {
    "duration": 24,
    "start_time": "2022-02-13T10:02:00.071Z"
   },
   {
    "duration": 36,
    "start_time": "2022-02-13T10:02:00.098Z"
   },
   {
    "duration": 33,
    "start_time": "2022-02-13T10:02:00.137Z"
   },
   {
    "duration": 45,
    "start_time": "2022-02-13T10:02:00.174Z"
   },
   {
    "duration": 24,
    "start_time": "2022-02-13T10:02:00.222Z"
   },
   {
    "duration": 15,
    "start_time": "2022-02-13T10:02:00.249Z"
   },
   {
    "duration": 31,
    "start_time": "2022-02-13T10:02:00.267Z"
   },
   {
    "duration": 310,
    "start_time": "2022-02-13T10:02:00.301Z"
   },
   {
    "duration": 703,
    "start_time": "2022-02-13T10:02:00.614Z"
   },
   {
    "duration": 14,
    "start_time": "2022-02-13T10:02:01.320Z"
   },
   {
    "duration": 224,
    "start_time": "2022-02-13T10:02:01.337Z"
   },
   {
    "duration": 7,
    "start_time": "2022-02-13T10:02:01.564Z"
   },
   {
    "duration": 12,
    "start_time": "2022-02-13T10:02:01.574Z"
   },
   {
    "duration": 94,
    "start_time": "2022-02-13T10:02:01.588Z"
   },
   {
    "duration": 76,
    "start_time": "2022-02-13T10:02:01.684Z"
   },
   {
    "duration": 15,
    "start_time": "2022-02-13T10:02:01.763Z"
   },
   {
    "duration": 16,
    "start_time": "2022-02-13T10:02:01.780Z"
   },
   {
    "duration": 554,
    "start_time": "2022-02-13T10:02:22.971Z"
   },
   {
    "duration": 7047,
    "start_time": "2022-02-13T10:07:22.788Z"
   },
   {
    "duration": 31,
    "start_time": "2022-02-13T10:07:43.788Z"
   },
   {
    "duration": 10,
    "start_time": "2022-02-13T10:07:43.822Z"
   },
   {
    "duration": 45,
    "start_time": "2022-02-13T10:07:43.836Z"
   },
   {
    "duration": 49,
    "start_time": "2022-02-13T10:07:43.885Z"
   },
   {
    "duration": 214,
    "start_time": "2022-02-13T10:07:43.937Z"
   },
   {
    "duration": 27,
    "start_time": "2022-02-13T10:07:44.153Z"
   },
   {
    "duration": 69,
    "start_time": "2022-02-13T10:07:44.183Z"
   },
   {
    "duration": 332,
    "start_time": "2022-02-13T10:07:44.256Z"
   },
   {
    "duration": 24,
    "start_time": "2022-02-13T10:07:44.591Z"
   },
   {
    "duration": 65,
    "start_time": "2022-02-13T10:07:44.618Z"
   },
   {
    "duration": 135,
    "start_time": "2022-02-13T10:07:44.686Z"
   },
   {
    "duration": 23,
    "start_time": "2022-02-13T10:07:44.823Z"
   },
   {
    "duration": 20,
    "start_time": "2022-02-13T10:07:44.849Z"
   },
   {
    "duration": 20,
    "start_time": "2022-02-13T10:07:44.871Z"
   },
   {
    "duration": 179,
    "start_time": "2022-02-13T10:07:44.894Z"
   },
   {
    "duration": 31,
    "start_time": "2022-02-13T10:07:45.076Z"
   },
   {
    "duration": 24,
    "start_time": "2022-02-13T10:07:45.110Z"
   },
   {
    "duration": 17,
    "start_time": "2022-02-13T10:07:45.136Z"
   },
   {
    "duration": 42,
    "start_time": "2022-02-13T10:07:45.156Z"
   },
   {
    "duration": 55,
    "start_time": "2022-02-13T10:07:45.201Z"
   },
   {
    "duration": 30,
    "start_time": "2022-02-13T10:07:45.258Z"
   },
   {
    "duration": 53,
    "start_time": "2022-02-13T10:07:45.291Z"
   },
   {
    "duration": 25,
    "start_time": "2022-02-13T10:07:45.351Z"
   },
   {
    "duration": 52,
    "start_time": "2022-02-13T10:07:45.380Z"
   },
   {
    "duration": 19,
    "start_time": "2022-02-13T10:07:45.435Z"
   },
   {
    "duration": 31,
    "start_time": "2022-02-13T10:07:45.457Z"
   },
   {
    "duration": 15,
    "start_time": "2022-02-13T10:07:45.491Z"
   },
   {
    "duration": 27,
    "start_time": "2022-02-13T10:07:45.508Z"
   },
   {
    "duration": 25,
    "start_time": "2022-02-13T10:07:45.538Z"
   },
   {
    "duration": 19,
    "start_time": "2022-02-13T10:07:45.566Z"
   },
   {
    "duration": 880,
    "start_time": "2022-02-13T10:07:45.587Z"
   },
   {
    "duration": 18,
    "start_time": "2022-02-13T10:07:46.469Z"
   },
   {
    "duration": 721,
    "start_time": "2022-02-13T10:07:46.490Z"
   },
   {
    "duration": 65,
    "start_time": "2022-02-13T10:07:47.214Z"
   },
   {
    "duration": 9,
    "start_time": "2022-02-13T10:07:47.282Z"
   },
   {
    "duration": 20,
    "start_time": "2022-02-13T10:07:47.293Z"
   },
   {
    "duration": 34,
    "start_time": "2022-02-13T10:07:47.316Z"
   },
   {
    "duration": 5,
    "start_time": "2022-02-13T10:07:47.353Z"
   },
   {
    "duration": 17,
    "start_time": "2022-02-13T10:07:47.360Z"
   },
   {
    "duration": 74,
    "start_time": "2022-02-13T10:07:47.379Z"
   },
   {
    "duration": 5,
    "start_time": "2022-02-13T10:07:47.456Z"
   },
   {
    "duration": 10,
    "start_time": "2022-02-13T10:07:47.464Z"
   },
   {
    "duration": 59,
    "start_time": "2022-02-13T10:07:47.476Z"
   },
   {
    "duration": 3,
    "start_time": "2022-02-13T10:07:47.537Z"
   },
   {
    "duration": 12,
    "start_time": "2022-02-13T10:07:47.543Z"
   },
   {
    "duration": 29,
    "start_time": "2022-02-13T10:07:47.557Z"
   },
   {
    "duration": 44,
    "start_time": "2022-02-13T10:07:47.589Z"
   },
   {
    "duration": 34,
    "start_time": "2022-02-13T10:07:47.636Z"
   },
   {
    "duration": 13,
    "start_time": "2022-02-13T10:07:47.672Z"
   },
   {
    "duration": 46,
    "start_time": "2022-02-13T10:07:47.688Z"
   },
   {
    "duration": 17,
    "start_time": "2022-02-13T10:07:47.736Z"
   },
   {
    "duration": 27,
    "start_time": "2022-02-13T10:07:47.756Z"
   },
   {
    "duration": 10,
    "start_time": "2022-02-13T10:07:47.785Z"
   },
   {
    "duration": 38,
    "start_time": "2022-02-13T10:07:47.798Z"
   },
   {
    "duration": 12,
    "start_time": "2022-02-13T10:07:47.839Z"
   },
   {
    "duration": 14,
    "start_time": "2022-02-13T10:07:47.854Z"
   },
   {
    "duration": 13,
    "start_time": "2022-02-13T10:07:47.870Z"
   },
   {
    "duration": 9,
    "start_time": "2022-02-13T10:07:47.886Z"
   },
   {
    "duration": 11,
    "start_time": "2022-02-13T10:07:53.987Z"
   },
   {
    "duration": 6,
    "start_time": "2022-02-13T10:08:59.800Z"
   },
   {
    "duration": 11,
    "start_time": "2022-02-13T10:09:16.529Z"
   },
   {
    "duration": 38,
    "start_time": "2022-02-13T10:09:22.068Z"
   },
   {
    "duration": 25,
    "start_time": "2022-02-13T10:09:22.109Z"
   },
   {
    "duration": 30,
    "start_time": "2022-02-13T10:09:22.138Z"
   },
   {
    "duration": 16,
    "start_time": "2022-02-13T10:09:22.171Z"
   },
   {
    "duration": 292,
    "start_time": "2022-02-13T10:09:22.234Z"
   },
   {
    "duration": 28,
    "start_time": "2022-02-13T10:09:22.532Z"
   },
   {
    "duration": 36,
    "start_time": "2022-02-13T10:09:22.563Z"
   },
   {
    "duration": 175,
    "start_time": "2022-02-13T10:09:22.633Z"
   },
   {
    "duration": 32,
    "start_time": "2022-02-13T10:09:22.811Z"
   },
   {
    "duration": 38,
    "start_time": "2022-02-13T10:09:22.845Z"
   },
   {
    "duration": 139,
    "start_time": "2022-02-13T10:09:22.885Z"
   },
   {
    "duration": 24,
    "start_time": "2022-02-13T10:09:23.027Z"
   },
   {
    "duration": 24,
    "start_time": "2022-02-13T10:09:23.055Z"
   },
   {
    "duration": 26,
    "start_time": "2022-02-13T10:09:23.082Z"
   },
   {
    "duration": 123,
    "start_time": "2022-02-13T10:09:23.133Z"
   },
   {
    "duration": 26,
    "start_time": "2022-02-13T10:09:23.259Z"
   },
   {
    "duration": 8,
    "start_time": "2022-02-13T10:09:23.288Z"
   },
   {
    "duration": 40,
    "start_time": "2022-02-13T10:09:23.298Z"
   },
   {
    "duration": 39,
    "start_time": "2022-02-13T10:09:23.341Z"
   },
   {
    "duration": 62,
    "start_time": "2022-02-13T10:09:23.382Z"
   },
   {
    "duration": 28,
    "start_time": "2022-02-13T10:09:23.446Z"
   },
   {
    "duration": 29,
    "start_time": "2022-02-13T10:09:23.476Z"
   },
   {
    "duration": 25,
    "start_time": "2022-02-13T10:09:23.537Z"
   },
   {
    "duration": 26,
    "start_time": "2022-02-13T10:09:23.567Z"
   },
   {
    "duration": 45,
    "start_time": "2022-02-13T10:09:23.596Z"
   },
   {
    "duration": 21,
    "start_time": "2022-02-13T10:09:23.644Z"
   },
   {
    "duration": 4,
    "start_time": "2022-02-13T10:09:23.668Z"
   },
   {
    "duration": 12,
    "start_time": "2022-02-13T10:09:23.674Z"
   },
   {
    "duration": 60,
    "start_time": "2022-02-13T10:09:23.688Z"
   },
   {
    "duration": 22,
    "start_time": "2022-02-13T10:09:23.751Z"
   },
   {
    "duration": 735,
    "start_time": "2022-02-13T10:09:23.777Z"
   },
   {
    "duration": 25,
    "start_time": "2022-02-13T10:09:24.514Z"
   },
   {
    "duration": 714,
    "start_time": "2022-02-13T10:09:24.541Z"
   },
   {
    "duration": 75,
    "start_time": "2022-02-13T10:09:25.258Z"
   },
   {
    "duration": 12,
    "start_time": "2022-02-13T10:09:25.337Z"
   },
   {
    "duration": 14,
    "start_time": "2022-02-13T10:09:25.352Z"
   },
   {
    "duration": 19,
    "start_time": "2022-02-13T10:09:25.369Z"
   },
   {
    "duration": 44,
    "start_time": "2022-02-13T10:09:25.391Z"
   },
   {
    "duration": 19,
    "start_time": "2022-02-13T10:09:25.438Z"
   },
   {
    "duration": 46,
    "start_time": "2022-02-13T10:09:25.460Z"
   },
   {
    "duration": 6,
    "start_time": "2022-02-13T10:09:25.532Z"
   },
   {
    "duration": 10,
    "start_time": "2022-02-13T10:09:25.541Z"
   },
   {
    "duration": 38,
    "start_time": "2022-02-13T10:09:25.553Z"
   },
   {
    "duration": 3,
    "start_time": "2022-02-13T10:09:25.594Z"
   },
   {
    "duration": 12,
    "start_time": "2022-02-13T10:09:25.633Z"
   },
   {
    "duration": 26,
    "start_time": "2022-02-13T10:09:25.648Z"
   },
   {
    "duration": 23,
    "start_time": "2022-02-13T10:09:25.677Z"
   },
   {
    "duration": 47,
    "start_time": "2022-02-13T10:09:25.733Z"
   },
   {
    "duration": 18,
    "start_time": "2022-02-13T10:09:25.783Z"
   },
   {
    "duration": 37,
    "start_time": "2022-02-13T10:09:25.805Z"
   },
   {
    "duration": 8,
    "start_time": "2022-02-13T10:09:25.845Z"
   },
   {
    "duration": 31,
    "start_time": "2022-02-13T10:09:25.856Z"
   },
   {
    "duration": 45,
    "start_time": "2022-02-13T10:09:25.890Z"
   },
   {
    "duration": 13,
    "start_time": "2022-02-13T10:09:25.938Z"
   },
   {
    "duration": 11,
    "start_time": "2022-02-13T10:09:25.954Z"
   },
   {
    "duration": 14,
    "start_time": "2022-02-13T10:09:25.967Z"
   },
   {
    "duration": 49,
    "start_time": "2022-02-13T10:09:25.983Z"
   },
   {
    "duration": 8,
    "start_time": "2022-02-13T10:09:26.035Z"
   },
   {
    "duration": 8,
    "start_time": "2022-02-13T10:09:26.045Z"
   },
   {
    "duration": 16,
    "start_time": "2022-02-13T10:09:26.055Z"
   },
   {
    "duration": 18,
    "start_time": "2022-02-13T10:09:26.073Z"
   },
   {
    "duration": 47,
    "start_time": "2022-02-13T10:09:26.093Z"
   },
   {
    "duration": 11,
    "start_time": "2022-02-13T10:09:26.142Z"
   },
   {
    "duration": 18,
    "start_time": "2022-02-13T10:09:26.155Z"
   },
   {
    "duration": 7,
    "start_time": "2022-02-13T10:09:26.176Z"
   },
   {
    "duration": 48,
    "start_time": "2022-02-13T10:09:26.185Z"
   },
   {
    "duration": 17,
    "start_time": "2022-02-13T10:09:26.236Z"
   },
   {
    "duration": 7,
    "start_time": "2022-02-13T10:09:26.262Z"
   },
   {
    "duration": 10,
    "start_time": "2022-02-13T10:09:26.272Z"
   },
   {
    "duration": 7,
    "start_time": "2022-02-13T10:09:26.284Z"
   },
   {
    "duration": 41,
    "start_time": "2022-02-13T10:09:26.293Z"
   },
   {
    "duration": 26,
    "start_time": "2022-02-13T10:09:26.337Z"
   },
   {
    "duration": 18,
    "start_time": "2022-02-13T10:09:26.366Z"
   },
   {
    "duration": 5,
    "start_time": "2022-02-13T10:09:26.386Z"
   },
   {
    "duration": 51,
    "start_time": "2022-02-13T10:09:26.394Z"
   },
   {
    "duration": 302,
    "start_time": "2022-02-13T10:09:26.448Z"
   },
   {
    "duration": 643,
    "start_time": "2022-02-13T10:09:26.752Z"
   },
   {
    "duration": 6,
    "start_time": "2022-02-13T10:09:27.398Z"
   },
   {
    "duration": 205,
    "start_time": "2022-02-13T10:09:27.407Z"
   },
   {
    "duration": 18,
    "start_time": "2022-02-13T10:09:27.615Z"
   },
   {
    "duration": 7,
    "start_time": "2022-02-13T10:09:27.636Z"
   },
   {
    "duration": 60,
    "start_time": "2022-02-13T10:09:27.646Z"
   },
   {
    "duration": 61,
    "start_time": "2022-02-13T10:09:27.733Z"
   },
   {
    "duration": 41,
    "start_time": "2022-02-13T10:09:27.797Z"
   },
   {
    "duration": 13,
    "start_time": "2022-02-13T10:09:27.841Z"
   },
   {
    "duration": 608,
    "start_time": "2022-02-13T10:09:27.857Z"
   },
   {
    "duration": 1028,
    "start_time": "2022-02-13T10:09:28.467Z"
   },
   {
    "duration": 11,
    "start_time": "2022-02-13T10:09:29.497Z"
   },
   {
    "duration": 29,
    "start_time": "2022-02-13T10:09:29.510Z"
   },
   {
    "duration": 18,
    "start_time": "2022-02-13T10:09:29.542Z"
   },
   {
    "duration": 12,
    "start_time": "2022-02-13T10:09:29.562Z"
   },
   {
    "duration": 11,
    "start_time": "2022-02-13T10:09:29.577Z"
   },
   {
    "duration": 16,
    "start_time": "2022-02-13T10:09:29.633Z"
   },
   {
    "duration": 86,
    "start_time": "2022-02-13T10:09:29.652Z"
   },
   {
    "duration": 7,
    "start_time": "2022-02-13T10:09:29.741Z"
   },
   {
    "duration": 7,
    "start_time": "2022-02-13T10:09:29.751Z"
   },
   {
    "duration": 11,
    "start_time": "2022-02-13T10:09:29.760Z"
   },
   {
    "duration": 8,
    "start_time": "2022-02-13T10:09:29.773Z"
   },
   {
    "duration": 357,
    "start_time": "2022-02-13T10:09:29.783Z"
   },
   {
    "duration": 12,
    "start_time": "2022-02-13T10:09:30.131Z"
   },
   {
    "duration": 12,
    "start_time": "2022-02-13T10:09:30.134Z"
   },
   {
    "duration": 7,
    "start_time": "2022-02-13T10:09:30.141Z"
   },
   {
    "duration": -3,
    "start_time": "2022-02-13T10:09:30.153Z"
   },
   {
    "duration": -13,
    "start_time": "2022-02-13T10:09:30.165Z"
   },
   {
    "duration": -25,
    "start_time": "2022-02-13T10:09:30.179Z"
   },
   {
    "duration": -34,
    "start_time": "2022-02-13T10:09:30.190Z"
   },
   {
    "duration": -45,
    "start_time": "2022-02-13T10:09:30.203Z"
   },
   {
    "duration": -54,
    "start_time": "2022-02-13T10:09:30.215Z"
   },
   {
    "duration": -64,
    "start_time": "2022-02-13T10:09:30.227Z"
   },
   {
    "duration": -74,
    "start_time": "2022-02-13T10:09:30.239Z"
   },
   {
    "duration": -80,
    "start_time": "2022-02-13T10:09:30.248Z"
   },
   {
    "duration": -81,
    "start_time": "2022-02-13T10:09:30.251Z"
   },
   {
    "duration": 13,
    "start_time": "2022-02-13T10:10:57.247Z"
   },
   {
    "duration": 3,
    "start_time": "2022-02-13T10:11:02.369Z"
   },
   {
    "duration": 3,
    "start_time": "2022-02-13T10:11:03.186Z"
   },
   {
    "duration": 9,
    "start_time": "2022-02-13T10:11:03.981Z"
   },
   {
    "duration": 11,
    "start_time": "2022-02-13T10:11:05.837Z"
   },
   {
    "duration": 5,
    "start_time": "2022-02-13T10:11:12.686Z"
   },
   {
    "duration": 54,
    "start_time": "2022-02-13T10:11:16.079Z"
   },
   {
    "duration": 56,
    "start_time": "2022-02-13T10:11:17.449Z"
   },
   {
    "duration": 601,
    "start_time": "2022-02-13T10:11:19.205Z"
   },
   {
    "duration": 15,
    "start_time": "2022-02-13T10:11:27.264Z"
   },
   {
    "duration": 7,
    "start_time": "2022-02-13T10:11:27.988Z"
   },
   {
    "duration": 6,
    "start_time": "2022-02-13T10:11:29.375Z"
   },
   {
    "duration": 10,
    "start_time": "2022-02-13T10:11:30.794Z"
   },
   {
    "duration": 118,
    "start_time": "2022-02-13T10:11:31.762Z"
   },
   {
    "duration": 1519,
    "start_time": "2022-02-13T17:43:39.037Z"
   },
   {
    "duration": 12,
    "start_time": "2022-02-13T17:43:40.559Z"
   },
   {
    "duration": 84,
    "start_time": "2022-02-13T17:43:40.575Z"
   },
   {
    "duration": 111,
    "start_time": "2022-02-13T17:43:40.663Z"
   },
   {
    "duration": 374,
    "start_time": "2022-02-13T17:43:40.776Z"
   },
   {
    "duration": 28,
    "start_time": "2022-02-13T17:43:41.152Z"
   },
   {
    "duration": 85,
    "start_time": "2022-02-13T17:43:41.182Z"
   },
   {
    "duration": 179,
    "start_time": "2022-02-13T17:43:41.270Z"
   },
   {
    "duration": 21,
    "start_time": "2022-02-13T17:43:41.453Z"
   },
   {
    "duration": 112,
    "start_time": "2022-02-13T17:43:41.477Z"
   },
   {
    "duration": 134,
    "start_time": "2022-02-13T17:43:41.592Z"
   },
   {
    "duration": 29,
    "start_time": "2022-02-13T17:43:41.728Z"
   },
   {
    "duration": 85,
    "start_time": "2022-02-13T17:43:41.760Z"
   },
   {
    "duration": 103,
    "start_time": "2022-02-13T17:43:41.848Z"
   },
   {
    "duration": 31,
    "start_time": "2022-02-13T17:44:00.364Z"
   },
   {
    "duration": 8,
    "start_time": "2022-02-13T17:44:32.376Z"
   },
   {
    "duration": 116,
    "start_time": "2022-02-13T17:44:45.505Z"
   },
   {
    "duration": 8,
    "start_time": "2022-02-13T17:46:11.404Z"
   },
   {
    "duration": 414,
    "start_time": "2022-02-13T17:47:53.256Z"
   },
   {
    "duration": 1007,
    "start_time": "2022-02-14T06:30:20.090Z"
   },
   {
    "duration": 7,
    "start_time": "2022-02-14T06:30:21.098Z"
   },
   {
    "duration": 19,
    "start_time": "2022-02-14T06:30:21.107Z"
   },
   {
    "duration": 8,
    "start_time": "2022-02-14T06:30:21.127Z"
   },
   {
    "duration": 140,
    "start_time": "2022-02-14T06:30:21.136Z"
   },
   {
    "duration": 20,
    "start_time": "2022-02-14T06:30:21.278Z"
   },
   {
    "duration": 37,
    "start_time": "2022-02-14T06:30:21.299Z"
   },
   {
    "duration": 114,
    "start_time": "2022-02-14T06:30:21.338Z"
   },
   {
    "duration": 16,
    "start_time": "2022-02-14T06:30:21.454Z"
   },
   {
    "duration": 26,
    "start_time": "2022-02-14T06:30:21.472Z"
   },
   {
    "duration": 99,
    "start_time": "2022-02-14T06:30:21.500Z"
   },
   {
    "duration": 13,
    "start_time": "2022-02-14T06:30:21.600Z"
   },
   {
    "duration": 24,
    "start_time": "2022-02-14T06:30:21.615Z"
   },
   {
    "duration": 15,
    "start_time": "2022-02-14T06:30:21.640Z"
   },
   {
    "duration": 73,
    "start_time": "2022-02-14T06:30:21.657Z"
   },
   {
    "duration": 17,
    "start_time": "2022-02-14T06:30:21.731Z"
   },
   {
    "duration": 6,
    "start_time": "2022-02-14T06:30:21.749Z"
   },
   {
    "duration": 7,
    "start_time": "2022-02-14T06:30:21.756Z"
   },
   {
    "duration": 26,
    "start_time": "2022-02-14T06:30:21.765Z"
   },
   {
    "duration": 52,
    "start_time": "2022-02-14T06:30:21.793Z"
   },
   {
    "duration": 19,
    "start_time": "2022-02-14T06:30:21.847Z"
   },
   {
    "duration": 19,
    "start_time": "2022-02-14T06:30:21.867Z"
   },
   {
    "duration": 40,
    "start_time": "2022-02-14T06:30:21.890Z"
   },
   {
    "duration": 18,
    "start_time": "2022-02-14T06:30:21.933Z"
   },
   {
    "duration": 10,
    "start_time": "2022-02-14T06:30:21.952Z"
   },
   {
    "duration": 14,
    "start_time": "2022-02-14T06:30:21.963Z"
   },
   {
    "duration": 7,
    "start_time": "2022-02-14T06:30:21.978Z"
   },
   {
    "duration": 8,
    "start_time": "2022-02-14T06:30:21.987Z"
   },
   {
    "duration": 38,
    "start_time": "2022-02-14T06:30:21.996Z"
   },
   {
    "duration": 14,
    "start_time": "2022-02-14T06:30:22.036Z"
   },
   {
    "duration": 400,
    "start_time": "2022-02-14T06:30:22.051Z"
   },
   {
    "duration": 11,
    "start_time": "2022-02-14T06:30:22.453Z"
   },
   {
    "duration": 397,
    "start_time": "2022-02-14T06:30:22.466Z"
   },
   {
    "duration": 42,
    "start_time": "2022-02-14T06:30:22.864Z"
   },
   {
    "duration": 23,
    "start_time": "2022-02-14T06:30:22.907Z"
   },
   {
    "duration": 8,
    "start_time": "2022-02-14T06:30:22.932Z"
   },
   {
    "duration": 13,
    "start_time": "2022-02-14T06:30:22.941Z"
   },
   {
    "duration": 5,
    "start_time": "2022-02-14T06:30:22.955Z"
   },
   {
    "duration": 6,
    "start_time": "2022-02-14T06:30:22.962Z"
   },
   {
    "duration": 36,
    "start_time": "2022-02-14T06:30:22.969Z"
   },
   {
    "duration": 4,
    "start_time": "2022-02-14T06:30:23.031Z"
   },
   {
    "duration": 11,
    "start_time": "2022-02-14T06:30:23.037Z"
   },
   {
    "duration": 24,
    "start_time": "2022-02-14T06:30:23.050Z"
   },
   {
    "duration": 2,
    "start_time": "2022-02-14T06:30:23.076Z"
   },
   {
    "duration": 9,
    "start_time": "2022-02-14T06:30:23.080Z"
   },
   {
    "duration": 39,
    "start_time": "2022-02-14T06:30:23.091Z"
   },
   {
    "duration": 14,
    "start_time": "2022-02-14T06:30:23.132Z"
   },
   {
    "duration": 24,
    "start_time": "2022-02-14T06:30:23.148Z"
   },
   {
    "duration": 8,
    "start_time": "2022-02-14T06:30:23.173Z"
   },
   {
    "duration": 4,
    "start_time": "2022-02-14T06:30:23.183Z"
   },
   {
    "duration": 5,
    "start_time": "2022-02-14T06:30:23.189Z"
   },
   {
    "duration": 12,
    "start_time": "2022-02-14T06:30:23.230Z"
   },
   {
    "duration": 6,
    "start_time": "2022-02-14T06:30:23.244Z"
   },
   {
    "duration": 8,
    "start_time": "2022-02-14T06:30:23.251Z"
   },
   {
    "duration": 8,
    "start_time": "2022-02-14T06:30:23.261Z"
   },
   {
    "duration": 8,
    "start_time": "2022-02-14T06:30:23.271Z"
   },
   {
    "duration": 11,
    "start_time": "2022-02-14T06:30:23.281Z"
   },
   {
    "duration": 38,
    "start_time": "2022-02-14T06:30:23.294Z"
   },
   {
    "duration": 7,
    "start_time": "2022-02-14T06:30:23.333Z"
   },
   {
    "duration": 8,
    "start_time": "2022-02-14T06:30:23.341Z"
   },
   {
    "duration": 5,
    "start_time": "2022-02-14T06:30:23.351Z"
   },
   {
    "duration": 9,
    "start_time": "2022-02-14T06:30:23.357Z"
   },
   {
    "duration": 6,
    "start_time": "2022-02-14T06:30:23.368Z"
   },
   {
    "duration": 12,
    "start_time": "2022-02-14T06:30:23.376Z"
   },
   {
    "duration": 8,
    "start_time": "2022-02-14T06:30:23.389Z"
   },
   {
    "duration": 7,
    "start_time": "2022-02-14T06:30:23.431Z"
   },
   {
    "duration": 11,
    "start_time": "2022-02-14T06:30:23.440Z"
   },
   {
    "duration": 5,
    "start_time": "2022-02-14T06:30:23.455Z"
   },
   {
    "duration": 6,
    "start_time": "2022-02-14T06:30:23.462Z"
   },
   {
    "duration": 4,
    "start_time": "2022-02-14T06:30:23.469Z"
   },
   {
    "duration": 6,
    "start_time": "2022-02-14T06:30:23.474Z"
   },
   {
    "duration": 49,
    "start_time": "2022-02-14T06:30:23.481Z"
   },
   {
    "duration": 8,
    "start_time": "2022-02-14T06:30:23.532Z"
   },
   {
    "duration": 8,
    "start_time": "2022-02-14T06:30:42.791Z"
   },
   {
    "duration": 218,
    "start_time": "2022-02-14T06:30:44.090Z"
   },
   {
    "duration": 154,
    "start_time": "2022-02-14T06:32:01.770Z"
   },
   {
    "duration": 142,
    "start_time": "2022-02-14T06:34:39.539Z"
   },
   {
    "duration": 151,
    "start_time": "2022-02-14T06:35:38.885Z"
   },
   {
    "duration": 9,
    "start_time": "2022-02-14T06:36:45.172Z"
   },
   {
    "duration": 6,
    "start_time": "2022-02-14T06:37:09.023Z"
   },
   {
    "duration": 5,
    "start_time": "2022-02-14T06:37:49.414Z"
   },
   {
    "duration": 10,
    "start_time": "2022-02-14T06:38:05.369Z"
   },
   {
    "duration": 148,
    "start_time": "2022-02-14T06:38:09.477Z"
   },
   {
    "duration": 10,
    "start_time": "2022-02-14T06:38:23.935Z"
   },
   {
    "duration": 8,
    "start_time": "2022-02-14T06:38:24.845Z"
   },
   {
    "duration": 9,
    "start_time": "2022-02-14T06:38:30.790Z"
   },
   {
    "duration": 1514,
    "start_time": "2022-02-14T10:30:34.198Z"
   },
   {
    "duration": 9,
    "start_time": "2022-02-14T10:30:35.714Z"
   },
   {
    "duration": 26,
    "start_time": "2022-02-14T10:30:35.726Z"
   },
   {
    "duration": 16,
    "start_time": "2022-02-14T10:30:35.754Z"
   },
   {
    "duration": 211,
    "start_time": "2022-02-14T10:30:35.772Z"
   },
   {
    "duration": 26,
    "start_time": "2022-02-14T10:30:35.985Z"
   },
   {
    "duration": 49,
    "start_time": "2022-02-14T10:30:36.013Z"
   },
   {
    "duration": 180,
    "start_time": "2022-02-14T10:30:36.066Z"
   },
   {
    "duration": 23,
    "start_time": "2022-02-14T10:30:36.249Z"
   },
   {
    "duration": 60,
    "start_time": "2022-02-14T10:30:36.274Z"
   },
   {
    "duration": 114,
    "start_time": "2022-02-14T10:30:36.336Z"
   },
   {
    "duration": 18,
    "start_time": "2022-02-14T10:30:36.452Z"
   },
   {
    "duration": 18,
    "start_time": "2022-02-14T10:30:36.473Z"
   },
   {
    "duration": 46,
    "start_time": "2022-02-14T10:30:36.494Z"
   },
   {
    "duration": 107,
    "start_time": "2022-02-14T10:30:36.542Z"
   },
   {
    "duration": 24,
    "start_time": "2022-02-14T10:30:36.652Z"
   },
   {
    "duration": 7,
    "start_time": "2022-02-14T10:30:36.678Z"
   },
   {
    "duration": 12,
    "start_time": "2022-02-14T10:30:36.688Z"
   },
   {
    "duration": 63,
    "start_time": "2022-02-14T10:30:36.702Z"
   },
   {
    "duration": 38,
    "start_time": "2022-02-14T10:30:36.768Z"
   },
   {
    "duration": 49,
    "start_time": "2022-02-14T10:30:36.808Z"
   },
   {
    "duration": 29,
    "start_time": "2022-02-14T10:30:36.859Z"
   },
   {
    "duration": 52,
    "start_time": "2022-02-14T10:30:36.894Z"
   },
   {
    "duration": 25,
    "start_time": "2022-02-14T10:30:36.950Z"
   },
   {
    "duration": 15,
    "start_time": "2022-02-14T10:30:36.977Z"
   },
   {
    "duration": 45,
    "start_time": "2022-02-14T10:30:36.995Z"
   },
   {
    "duration": 6,
    "start_time": "2022-02-14T10:30:37.042Z"
   },
   {
    "duration": 12,
    "start_time": "2022-02-14T10:30:37.050Z"
   },
   {
    "duration": 28,
    "start_time": "2022-02-14T10:30:37.064Z"
   },
   {
    "duration": 50,
    "start_time": "2022-02-14T10:30:37.094Z"
   },
   {
    "duration": 698,
    "start_time": "2022-02-14T10:30:37.147Z"
   },
   {
    "duration": 18,
    "start_time": "2022-02-14T10:30:37.848Z"
   },
   {
    "duration": 874,
    "start_time": "2022-02-14T10:30:37.869Z"
   },
   {
    "duration": 60,
    "start_time": "2022-02-14T10:30:38.746Z"
   },
   {
    "duration": 26,
    "start_time": "2022-02-14T10:30:38.808Z"
   },
   {
    "duration": 15,
    "start_time": "2022-02-14T10:30:38.836Z"
   },
   {
    "duration": 18,
    "start_time": "2022-02-14T10:30:38.853Z"
   },
   {
    "duration": 8,
    "start_time": "2022-02-14T10:30:38.874Z"
   },
   {
    "duration": 49,
    "start_time": "2022-02-14T10:30:38.884Z"
   },
   {
    "duration": 51,
    "start_time": "2022-02-14T10:30:38.936Z"
   },
   {
    "duration": 5,
    "start_time": "2022-02-14T10:30:38.989Z"
   },
   {
    "duration": 37,
    "start_time": "2022-02-14T10:30:38.997Z"
   },
   {
    "duration": 32,
    "start_time": "2022-02-14T10:30:39.036Z"
   },
   {
    "duration": 4,
    "start_time": "2022-02-14T10:30:39.070Z"
   },
   {
    "duration": 14,
    "start_time": "2022-02-14T10:30:39.076Z"
   },
   {
    "duration": 44,
    "start_time": "2022-02-14T10:30:39.092Z"
   },
   {
    "duration": 16,
    "start_time": "2022-02-14T10:30:39.138Z"
   },
   {
    "duration": 38,
    "start_time": "2022-02-14T10:30:39.156Z"
   },
   {
    "duration": 41,
    "start_time": "2022-02-14T10:30:39.196Z"
   },
   {
    "duration": 11,
    "start_time": "2022-02-14T10:30:39.239Z"
   },
   {
    "duration": 10,
    "start_time": "2022-02-14T10:30:39.252Z"
   },
   {
    "duration": 24,
    "start_time": "2022-02-14T10:30:39.264Z"
   },
   {
    "duration": 9,
    "start_time": "2022-02-14T10:30:39.290Z"
   },
   {
    "duration": 42,
    "start_time": "2022-02-14T10:30:39.301Z"
   },
   {
    "duration": 10,
    "start_time": "2022-02-14T10:30:39.345Z"
   },
   {
    "duration": 14,
    "start_time": "2022-02-14T10:30:39.357Z"
   },
   {
    "duration": 12,
    "start_time": "2022-02-14T10:30:39.373Z"
   },
   {
    "duration": 8,
    "start_time": "2022-02-14T10:30:39.387Z"
   },
   {
    "duration": 41,
    "start_time": "2022-02-14T10:30:39.396Z"
   },
   {
    "duration": 12,
    "start_time": "2022-02-14T10:30:39.439Z"
   },
   {
    "duration": 11,
    "start_time": "2022-02-14T10:30:39.454Z"
   },
   {
    "duration": 13,
    "start_time": "2022-02-14T10:30:39.468Z"
   },
   {
    "duration": 11,
    "start_time": "2022-02-14T10:30:39.483Z"
   },
   {
    "duration": 25,
    "start_time": "2022-02-14T10:30:39.532Z"
   },
   {
    "duration": 21,
    "start_time": "2022-02-14T10:30:39.560Z"
   },
   {
    "duration": 21,
    "start_time": "2022-02-14T10:30:39.583Z"
   },
   {
    "duration": 30,
    "start_time": "2022-02-14T10:30:39.607Z"
   },
   {
    "duration": 8,
    "start_time": "2022-02-14T10:30:39.645Z"
   },
   {
    "duration": 11,
    "start_time": "2022-02-14T10:30:39.656Z"
   },
   {
    "duration": 5,
    "start_time": "2022-02-14T10:30:39.670Z"
   },
   {
    "duration": 6,
    "start_time": "2022-02-14T10:30:39.678Z"
   },
   {
    "duration": 58,
    "start_time": "2022-02-14T10:30:39.686Z"
   },
   {
    "duration": 15,
    "start_time": "2022-02-14T10:30:39.746Z"
   },
   {
    "duration": 14,
    "start_time": "2022-02-14T10:30:39.763Z"
   },
   {
    "duration": 12,
    "start_time": "2022-02-14T10:30:39.779Z"
   },
   {
    "duration": 107,
    "start_time": "2022-02-14T10:30:47.590Z"
   },
   {
    "duration": 339,
    "start_time": "2022-02-14T10:30:59.344Z"
   },
   {
    "duration": 371,
    "start_time": "2022-02-14T10:33:06.464Z"
   },
   {
    "duration": 681,
    "start_time": "2022-02-14T10:33:36.936Z"
   },
   {
    "duration": 361,
    "start_time": "2022-02-14T10:33:56.491Z"
   },
   {
    "duration": 704,
    "start_time": "2022-02-14T10:34:20.709Z"
   },
   {
    "duration": 366,
    "start_time": "2022-02-14T10:35:01.867Z"
   },
   {
    "duration": 366,
    "start_time": "2022-02-14T10:39:02.504Z"
   },
   {
    "duration": 648,
    "start_time": "2022-02-14T10:39:19.148Z"
   },
   {
    "duration": 386,
    "start_time": "2022-02-14T10:39:26.225Z"
   },
   {
    "duration": 431,
    "start_time": "2022-02-14T10:39:53.216Z"
   },
   {
    "duration": 6,
    "start_time": "2022-02-14T10:39:59.654Z"
   },
   {
    "duration": 247,
    "start_time": "2022-02-14T10:40:00.754Z"
   },
   {
    "duration": 9,
    "start_time": "2022-02-14T10:40:05.104Z"
   },
   {
    "duration": 9,
    "start_time": "2022-02-14T10:40:05.713Z"
   },
   {
    "duration": 87,
    "start_time": "2022-02-14T10:40:15.263Z"
   },
   {
    "duration": 87,
    "start_time": "2022-02-14T10:40:16.011Z"
   },
   {
    "duration": 5,
    "start_time": "2022-02-14T10:41:44.880Z"
   },
   {
    "duration": 6,
    "start_time": "2022-02-14T10:42:32.119Z"
   },
   {
    "duration": 418,
    "start_time": "2022-02-14T10:42:32.735Z"
   },
   {
    "duration": 6,
    "start_time": "2022-02-14T10:42:43.118Z"
   },
   {
    "duration": 176,
    "start_time": "2022-02-14T10:42:44.255Z"
   },
   {
    "duration": 11,
    "start_time": "2022-02-14T10:42:46.352Z"
   },
   {
    "duration": 9,
    "start_time": "2022-02-14T10:42:47.288Z"
   },
   {
    "duration": 91,
    "start_time": "2022-02-14T10:42:49.120Z"
   },
   {
    "duration": 32,
    "start_time": "2022-02-14T10:59:36.761Z"
   },
   {
    "duration": 9,
    "start_time": "2022-02-14T10:59:36.796Z"
   },
   {
    "duration": 36,
    "start_time": "2022-02-14T10:59:36.808Z"
   },
   {
    "duration": 10,
    "start_time": "2022-02-14T10:59:36.847Z"
   },
   {
    "duration": 277,
    "start_time": "2022-02-14T10:59:36.859Z"
   },
   {
    "duration": 27,
    "start_time": "2022-02-14T10:59:37.139Z"
   },
   {
    "duration": 34,
    "start_time": "2022-02-14T10:59:37.169Z"
   },
   {
    "duration": 176,
    "start_time": "2022-02-14T10:59:37.233Z"
   },
   {
    "duration": 27,
    "start_time": "2022-02-14T10:59:37.412Z"
   },
   {
    "duration": 37,
    "start_time": "2022-02-14T10:59:37.442Z"
   },
   {
    "duration": 140,
    "start_time": "2022-02-14T10:59:37.481Z"
   },
   {
    "duration": 23,
    "start_time": "2022-02-14T10:59:37.623Z"
   },
   {
    "duration": 21,
    "start_time": "2022-02-14T10:59:37.648Z"
   },
   {
    "duration": 22,
    "start_time": "2022-02-14T10:59:37.671Z"
   },
   {
    "duration": 127,
    "start_time": "2022-02-14T10:59:37.696Z"
   },
   {
    "duration": 29,
    "start_time": "2022-02-14T10:59:37.825Z"
   },
   {
    "duration": 11,
    "start_time": "2022-02-14T10:59:37.857Z"
   },
   {
    "duration": 11,
    "start_time": "2022-02-14T10:59:37.871Z"
   },
   {
    "duration": 77,
    "start_time": "2022-02-14T10:59:37.885Z"
   },
   {
    "duration": 39,
    "start_time": "2022-02-14T10:59:37.965Z"
   },
   {
    "duration": 57,
    "start_time": "2022-02-14T10:59:38.006Z"
   },
   {
    "duration": 31,
    "start_time": "2022-02-14T10:59:38.065Z"
   },
   {
    "duration": 26,
    "start_time": "2022-02-14T10:59:38.134Z"
   },
   {
    "duration": 27,
    "start_time": "2022-02-14T10:59:38.164Z"
   },
   {
    "duration": 40,
    "start_time": "2022-02-14T10:59:38.193Z"
   },
   {
    "duration": 14,
    "start_time": "2022-02-14T10:59:38.236Z"
   },
   {
    "duration": 7,
    "start_time": "2022-02-14T10:59:38.252Z"
   },
   {
    "duration": 11,
    "start_time": "2022-02-14T10:59:38.261Z"
   },
   {
    "duration": 58,
    "start_time": "2022-02-14T10:59:38.274Z"
   },
   {
    "duration": 19,
    "start_time": "2022-02-14T10:59:38.334Z"
   },
   {
    "duration": 718,
    "start_time": "2022-02-14T10:59:38.355Z"
   },
   {
    "duration": 17,
    "start_time": "2022-02-14T10:59:39.075Z"
   },
   {
    "duration": 720,
    "start_time": "2022-02-14T10:59:39.095Z"
   },
   {
    "duration": 67,
    "start_time": "2022-02-14T10:59:39.819Z"
   },
   {
    "duration": 12,
    "start_time": "2022-02-14T10:59:39.889Z"
   },
   {
    "duration": 37,
    "start_time": "2022-02-14T10:59:39.904Z"
   },
   {
    "duration": 22,
    "start_time": "2022-02-14T10:59:39.944Z"
   },
   {
    "duration": 7,
    "start_time": "2022-02-14T10:59:39.969Z"
   },
   {
    "duration": 54,
    "start_time": "2022-02-14T10:59:39.979Z"
   },
   {
    "duration": 51,
    "start_time": "2022-02-14T10:59:40.036Z"
   },
   {
    "duration": 6,
    "start_time": "2022-02-14T10:59:40.091Z"
   },
   {
    "duration": 8,
    "start_time": "2022-02-14T10:59:40.132Z"
   },
   {
    "duration": 39,
    "start_time": "2022-02-14T10:59:40.142Z"
   },
   {
    "duration": 4,
    "start_time": "2022-02-14T10:59:40.183Z"
   },
   {
    "duration": 17,
    "start_time": "2022-02-14T10:59:40.189Z"
   },
   {
    "duration": 33,
    "start_time": "2022-02-14T10:59:40.209Z"
   },
   {
    "duration": 17,
    "start_time": "2022-02-14T10:59:40.244Z"
   },
   {
    "duration": 34,
    "start_time": "2022-02-14T10:59:40.264Z"
   },
   {
    "duration": 13,
    "start_time": "2022-02-14T10:59:40.333Z"
   },
   {
    "duration": 14,
    "start_time": "2022-02-14T10:59:40.349Z"
   },
   {
    "duration": 6,
    "start_time": "2022-02-14T10:59:40.365Z"
   },
   {
    "duration": 21,
    "start_time": "2022-02-14T10:59:40.374Z"
   },
   {
    "duration": 39,
    "start_time": "2022-02-14T10:59:40.398Z"
   },
   {
    "duration": 12,
    "start_time": "2022-02-14T10:59:40.440Z"
   },
   {
    "duration": 9,
    "start_time": "2022-02-14T10:59:40.454Z"
   },
   {
    "duration": 13,
    "start_time": "2022-02-14T10:59:40.465Z"
   },
   {
    "duration": 10,
    "start_time": "2022-02-14T10:59:40.480Z"
   },
   {
    "duration": 8,
    "start_time": "2022-02-14T10:59:40.533Z"
   },
   {
    "duration": 8,
    "start_time": "2022-02-14T10:59:40.543Z"
   },
   {
    "duration": 11,
    "start_time": "2022-02-14T10:59:40.553Z"
   },
   {
    "duration": 8,
    "start_time": "2022-02-14T10:59:40.566Z"
   },
   {
    "duration": 58,
    "start_time": "2022-02-14T10:59:40.577Z"
   },
   {
    "duration": 12,
    "start_time": "2022-02-14T10:59:40.637Z"
   },
   {
    "duration": 19,
    "start_time": "2022-02-14T10:59:40.651Z"
   },
   {
    "duration": 7,
    "start_time": "2022-02-14T10:59:40.673Z"
   },
   {
    "duration": 49,
    "start_time": "2022-02-14T10:59:40.683Z"
   },
   {
    "duration": 21,
    "start_time": "2022-02-14T10:59:40.734Z"
   },
   {
    "duration": 9,
    "start_time": "2022-02-14T10:59:40.764Z"
   },
   {
    "duration": 12,
    "start_time": "2022-02-14T10:59:40.776Z"
   },
   {
    "duration": 6,
    "start_time": "2022-02-14T10:59:40.790Z"
   },
   {
    "duration": 6,
    "start_time": "2022-02-14T10:59:40.833Z"
   },
   {
    "duration": 19,
    "start_time": "2022-02-14T10:59:40.841Z"
   },
   {
    "duration": 14,
    "start_time": "2022-02-14T10:59:40.863Z"
   },
   {
    "duration": 11,
    "start_time": "2022-02-14T10:59:40.879Z"
   },
   {
    "duration": 11,
    "start_time": "2022-02-14T10:59:40.933Z"
   },
   {
    "duration": 387,
    "start_time": "2022-02-14T10:59:40.946Z"
   },
   {
    "duration": 270,
    "start_time": "2022-02-14T10:59:41.336Z"
   },
   {
    "duration": -463,
    "start_time": "2022-02-14T10:59:42.071Z"
   },
   {
    "duration": -466,
    "start_time": "2022-02-14T10:59:42.076Z"
   },
   {
    "duration": -469,
    "start_time": "2022-02-14T10:59:42.080Z"
   },
   {
    "duration": -470,
    "start_time": "2022-02-14T10:59:42.082Z"
   },
   {
    "duration": -472,
    "start_time": "2022-02-14T10:59:42.086Z"
   },
   {
    "duration": -473,
    "start_time": "2022-02-14T10:59:42.089Z"
   },
   {
    "duration": -476,
    "start_time": "2022-02-14T10:59:42.093Z"
   },
   {
    "duration": -477,
    "start_time": "2022-02-14T10:59:42.096Z"
   },
   {
    "duration": -480,
    "start_time": "2022-02-14T10:59:42.100Z"
   },
   {
    "duration": -483,
    "start_time": "2022-02-14T10:59:42.104Z"
   },
   {
    "duration": -483,
    "start_time": "2022-02-14T10:59:42.106Z"
   },
   {
    "duration": -486,
    "start_time": "2022-02-14T10:59:42.110Z"
   },
   {
    "duration": -487,
    "start_time": "2022-02-14T10:59:42.113Z"
   },
   {
    "duration": -496,
    "start_time": "2022-02-14T10:59:42.123Z"
   },
   {
    "duration": -497,
    "start_time": "2022-02-14T10:59:42.126Z"
   },
   {
    "duration": -500,
    "start_time": "2022-02-14T10:59:42.130Z"
   },
   {
    "duration": -502,
    "start_time": "2022-02-14T10:59:42.134Z"
   },
   {
    "duration": -503,
    "start_time": "2022-02-14T10:59:42.136Z"
   },
   {
    "duration": -506,
    "start_time": "2022-02-14T10:59:42.140Z"
   },
   {
    "duration": -508,
    "start_time": "2022-02-14T10:59:42.143Z"
   },
   {
    "duration": -510,
    "start_time": "2022-02-14T10:59:42.147Z"
   },
   {
    "duration": -511,
    "start_time": "2022-02-14T10:59:42.149Z"
   },
   {
    "duration": -514,
    "start_time": "2022-02-14T10:59:42.153Z"
   },
   {
    "duration": -514,
    "start_time": "2022-02-14T10:59:42.155Z"
   },
   {
    "duration": -517,
    "start_time": "2022-02-14T10:59:42.159Z"
   },
   {
    "duration": -518,
    "start_time": "2022-02-14T10:59:42.161Z"
   },
   {
    "duration": -520,
    "start_time": "2022-02-14T10:59:42.165Z"
   },
   {
    "duration": -521,
    "start_time": "2022-02-14T10:59:42.167Z"
   },
   {
    "duration": -523,
    "start_time": "2022-02-14T10:59:42.171Z"
   },
   {
    "duration": -524,
    "start_time": "2022-02-14T10:59:42.173Z"
   },
   {
    "duration": -526,
    "start_time": "2022-02-14T10:59:42.177Z"
   },
   {
    "duration": -527,
    "start_time": "2022-02-14T10:59:42.179Z"
   },
   {
    "duration": -529,
    "start_time": "2022-02-14T10:59:42.183Z"
   },
   {
    "duration": -530,
    "start_time": "2022-02-14T10:59:42.185Z"
   },
   {
    "duration": -533,
    "start_time": "2022-02-14T10:59:42.189Z"
   },
   {
    "duration": 1563,
    "start_time": "2022-02-14T14:46:19.216Z"
   },
   {
    "duration": 11,
    "start_time": "2022-02-14T14:46:20.782Z"
   },
   {
    "duration": 22,
    "start_time": "2022-02-14T14:46:20.796Z"
   },
   {
    "duration": 29,
    "start_time": "2022-02-14T14:46:20.821Z"
   },
   {
    "duration": 206,
    "start_time": "2022-02-14T14:46:20.853Z"
   },
   {
    "duration": 29,
    "start_time": "2022-02-14T14:46:21.061Z"
   },
   {
    "duration": 58,
    "start_time": "2022-02-14T14:46:21.093Z"
   },
   {
    "duration": 180,
    "start_time": "2022-02-14T14:46:21.155Z"
   },
   {
    "duration": 28,
    "start_time": "2022-02-14T14:46:21.340Z"
   },
   {
    "duration": 38,
    "start_time": "2022-02-14T14:46:21.370Z"
   },
   {
    "duration": 138,
    "start_time": "2022-02-14T14:46:21.411Z"
   },
   {
    "duration": 19,
    "start_time": "2022-02-14T14:46:21.551Z"
   },
   {
    "duration": 17,
    "start_time": "2022-02-14T14:46:21.573Z"
   },
   {
    "duration": 21,
    "start_time": "2022-02-14T14:46:21.593Z"
   },
   {
    "duration": 106,
    "start_time": "2022-02-14T14:46:21.648Z"
   },
   {
    "duration": 24,
    "start_time": "2022-02-14T14:46:21.756Z"
   },
   {
    "duration": 8,
    "start_time": "2022-02-14T14:46:21.782Z"
   },
   {
    "duration": 12,
    "start_time": "2022-02-14T14:46:21.793Z"
   },
   {
    "duration": 70,
    "start_time": "2022-02-14T14:46:21.807Z"
   },
   {
    "duration": 36,
    "start_time": "2022-02-14T14:46:21.879Z"
   },
   {
    "duration": 48,
    "start_time": "2022-02-14T14:46:21.918Z"
   },
   {
    "duration": 28,
    "start_time": "2022-02-14T14:46:21.968Z"
   },
   {
    "duration": 49,
    "start_time": "2022-02-14T14:46:22.004Z"
   },
   {
    "duration": 26,
    "start_time": "2022-02-14T14:46:22.057Z"
   },
   {
    "duration": 16,
    "start_time": "2022-02-14T14:46:22.086Z"
   },
   {
    "duration": 53,
    "start_time": "2022-02-14T14:46:22.105Z"
   },
   {
    "duration": 5,
    "start_time": "2022-02-14T14:46:22.160Z"
   },
   {
    "duration": 17,
    "start_time": "2022-02-14T14:46:22.168Z"
   },
   {
    "duration": 29,
    "start_time": "2022-02-14T14:46:22.188Z"
   },
   {
    "duration": 22,
    "start_time": "2022-02-14T14:46:22.248Z"
   },
   {
    "duration": 760,
    "start_time": "2022-02-14T14:46:22.273Z"
   },
   {
    "duration": 28,
    "start_time": "2022-02-14T14:46:23.036Z"
   },
   {
    "duration": 733,
    "start_time": "2022-02-14T14:46:23.067Z"
   },
   {
    "duration": 74,
    "start_time": "2022-02-14T14:46:23.803Z"
   },
   {
    "duration": 10,
    "start_time": "2022-02-14T14:46:23.880Z"
   },
   {
    "duration": 17,
    "start_time": "2022-02-14T14:46:23.892Z"
   },
   {
    "duration": 42,
    "start_time": "2022-02-14T14:46:23.912Z"
   },
   {
    "duration": 6,
    "start_time": "2022-02-14T14:46:23.956Z"
   },
   {
    "duration": 11,
    "start_time": "2022-02-14T14:46:23.964Z"
   },
   {
    "duration": 81,
    "start_time": "2022-02-14T14:46:23.978Z"
   },
   {
    "duration": 7,
    "start_time": "2022-02-14T14:46:24.063Z"
   },
   {
    "duration": 23,
    "start_time": "2022-02-14T14:46:24.073Z"
   },
   {
    "duration": 52,
    "start_time": "2022-02-14T14:46:24.099Z"
   },
   {
    "duration": 4,
    "start_time": "2022-02-14T14:46:24.154Z"
   },
   {
    "duration": 13,
    "start_time": "2022-02-14T14:46:24.161Z"
   },
   {
    "duration": 19,
    "start_time": "2022-02-14T14:46:24.176Z"
   },
   {
    "duration": 17,
    "start_time": "2022-02-14T14:46:24.198Z"
   },
   {
    "duration": 62,
    "start_time": "2022-02-14T14:46:24.217Z"
   },
   {
    "duration": 12,
    "start_time": "2022-02-14T14:46:24.282Z"
   },
   {
    "duration": 13,
    "start_time": "2022-02-14T14:46:24.296Z"
   },
   {
    "duration": 38,
    "start_time": "2022-02-14T14:46:24.312Z"
   },
   {
    "duration": 19,
    "start_time": "2022-02-14T14:46:24.353Z"
   },
   {
    "duration": 9,
    "start_time": "2022-02-14T14:46:24.374Z"
   },
   {
    "duration": 14,
    "start_time": "2022-02-14T14:46:24.386Z"
   },
   {
    "duration": 52,
    "start_time": "2022-02-14T14:46:24.402Z"
   },
   {
    "duration": 14,
    "start_time": "2022-02-14T14:46:24.456Z"
   },
   {
    "duration": 14,
    "start_time": "2022-02-14T14:46:24.472Z"
   },
   {
    "duration": 13,
    "start_time": "2022-02-14T14:46:24.489Z"
   },
   {
    "duration": 6,
    "start_time": "2022-02-14T14:46:24.505Z"
   },
   {
    "duration": 39,
    "start_time": "2022-02-14T14:46:24.513Z"
   },
   {
    "duration": 10,
    "start_time": "2022-02-14T14:46:24.554Z"
   },
   {
    "duration": 14,
    "start_time": "2022-02-14T14:46:24.567Z"
   },
   {
    "duration": 16,
    "start_time": "2022-02-14T14:46:24.583Z"
   },
   {
    "duration": 51,
    "start_time": "2022-02-14T14:46:24.601Z"
   },
   {
    "duration": 10,
    "start_time": "2022-02-14T14:46:24.655Z"
   },
   {
    "duration": 12,
    "start_time": "2022-02-14T14:46:24.668Z"
   },
   {
    "duration": 18,
    "start_time": "2022-02-14T14:46:24.682Z"
   },
   {
    "duration": 47,
    "start_time": "2022-02-14T14:46:24.709Z"
   },
   {
    "duration": 10,
    "start_time": "2022-02-14T14:46:24.760Z"
   },
   {
    "duration": 11,
    "start_time": "2022-02-14T14:46:24.772Z"
   },
   {
    "duration": 10,
    "start_time": "2022-02-14T14:46:24.785Z"
   },
   {
    "duration": 20,
    "start_time": "2022-02-14T14:46:24.798Z"
   },
   {
    "duration": 16,
    "start_time": "2022-02-14T14:46:24.848Z"
   },
   {
    "duration": 12,
    "start_time": "2022-02-14T14:46:24.867Z"
   },
   {
    "duration": 13,
    "start_time": "2022-02-14T14:46:24.881Z"
   },
   {
    "duration": 403,
    "start_time": "2022-02-14T14:46:24.896Z"
   },
   {
    "duration": 438,
    "start_time": "2022-02-14T14:46:25.302Z"
   },
   {
    "duration": 678,
    "start_time": "2022-02-14T14:46:25.065Z"
   },
   {
    "duration": 674,
    "start_time": "2022-02-14T14:46:25.071Z"
   },
   {
    "duration": 667,
    "start_time": "2022-02-14T14:46:25.079Z"
   },
   {
    "duration": 665,
    "start_time": "2022-02-14T14:46:25.083Z"
   },
   {
    "duration": 660,
    "start_time": "2022-02-14T14:46:25.089Z"
   },
   {
    "duration": 656,
    "start_time": "2022-02-14T14:46:25.095Z"
   },
   {
    "duration": 651,
    "start_time": "2022-02-14T14:46:25.101Z"
   },
   {
    "duration": 647,
    "start_time": "2022-02-14T14:46:25.107Z"
   },
   {
    "duration": 644,
    "start_time": "2022-02-14T14:46:25.112Z"
   },
   {
    "duration": 640,
    "start_time": "2022-02-14T14:46:25.117Z"
   },
   {
    "duration": 635,
    "start_time": "2022-02-14T14:46:25.123Z"
   },
   {
    "duration": 633,
    "start_time": "2022-02-14T14:46:25.127Z"
   },
   {
    "duration": 629,
    "start_time": "2022-02-14T14:46:25.132Z"
   },
   {
    "duration": 626,
    "start_time": "2022-02-14T14:46:25.137Z"
   },
   {
    "duration": 621,
    "start_time": "2022-02-14T14:46:25.143Z"
   },
   {
    "duration": 619,
    "start_time": "2022-02-14T14:46:25.147Z"
   },
   {
    "duration": 616,
    "start_time": "2022-02-14T14:46:25.152Z"
   },
   {
    "duration": 602,
    "start_time": "2022-02-14T14:46:25.167Z"
   },
   {
    "duration": 599,
    "start_time": "2022-02-14T14:46:25.172Z"
   },
   {
    "duration": 594,
    "start_time": "2022-02-14T14:46:25.178Z"
   },
   {
    "duration": 591,
    "start_time": "2022-02-14T14:46:25.183Z"
   },
   {
    "duration": 588,
    "start_time": "2022-02-14T14:46:25.188Z"
   },
   {
    "duration": 583,
    "start_time": "2022-02-14T14:46:25.194Z"
   },
   {
    "duration": 581,
    "start_time": "2022-02-14T14:46:25.198Z"
   },
   {
    "duration": 576,
    "start_time": "2022-02-14T14:46:25.204Z"
   },
   {
    "duration": 573,
    "start_time": "2022-02-14T14:46:25.209Z"
   },
   {
    "duration": 570,
    "start_time": "2022-02-14T14:46:25.214Z"
   },
   {
    "duration": 568,
    "start_time": "2022-02-14T14:46:25.218Z"
   },
   {
    "duration": 565,
    "start_time": "2022-02-14T14:46:25.223Z"
   },
   {
    "duration": 621,
    "start_time": "2022-02-14T14:46:25.228Z"
   },
   {
    "duration": 619,
    "start_time": "2022-02-14T14:46:25.233Z"
   },
   {
    "duration": 616,
    "start_time": "2022-02-14T14:46:25.238Z"
   },
   {
    "duration": 614,
    "start_time": "2022-02-14T14:46:25.243Z"
   },
   {
    "duration": 611,
    "start_time": "2022-02-14T14:46:25.248Z"
   },
   {
    "duration": 609,
    "start_time": "2022-02-14T14:46:25.252Z"
   },
   {
    "duration": 37,
    "start_time": "2022-02-14T14:47:00.240Z"
   },
   {
    "duration": 1512,
    "start_time": "2022-02-14T14:47:41.528Z"
   },
   {
    "duration": 9,
    "start_time": "2022-02-14T14:47:43.043Z"
   },
   {
    "duration": 31,
    "start_time": "2022-02-14T14:47:43.055Z"
   },
   {
    "duration": 11,
    "start_time": "2022-02-14T14:47:43.089Z"
   },
   {
    "duration": 211,
    "start_time": "2022-02-14T14:47:43.103Z"
   },
   {
    "duration": 34,
    "start_time": "2022-02-14T14:47:43.317Z"
   },
   {
    "duration": 34,
    "start_time": "2022-02-14T14:47:43.354Z"
   },
   {
    "duration": 196,
    "start_time": "2022-02-14T14:47:43.390Z"
   },
   {
    "duration": 22,
    "start_time": "2022-02-14T14:47:43.590Z"
   },
   {
    "duration": 60,
    "start_time": "2022-02-14T14:47:43.616Z"
   },
   {
    "duration": 119,
    "start_time": "2022-02-14T14:47:43.678Z"
   },
   {
    "duration": 19,
    "start_time": "2022-02-14T14:47:43.800Z"
   },
   {
    "duration": 39,
    "start_time": "2022-02-14T14:47:43.822Z"
   },
   {
    "duration": 21,
    "start_time": "2022-02-14T14:47:43.863Z"
   },
   {
    "duration": 108,
    "start_time": "2022-02-14T14:47:43.887Z"
   },
   {
    "duration": 25,
    "start_time": "2022-02-14T14:47:43.997Z"
   },
   {
    "duration": 25,
    "start_time": "2022-02-14T14:47:44.025Z"
   },
   {
    "duration": 17,
    "start_time": "2022-02-14T14:47:44.053Z"
   },
   {
    "duration": 47,
    "start_time": "2022-02-14T14:47:44.073Z"
   },
   {
    "duration": 49,
    "start_time": "2022-02-14T14:47:44.122Z"
   },
   {
    "duration": 27,
    "start_time": "2022-02-14T14:47:44.173Z"
   },
   {
    "duration": 53,
    "start_time": "2022-02-14T14:47:44.203Z"
   },
   {
    "duration": 24,
    "start_time": "2022-02-14T14:47:44.258Z"
   },
   {
    "duration": 24,
    "start_time": "2022-02-14T14:47:44.284Z"
   },
   {
    "duration": 45,
    "start_time": "2022-02-14T14:47:44.310Z"
   },
   {
    "duration": 13,
    "start_time": "2022-02-14T14:47:44.358Z"
   },
   {
    "duration": 4,
    "start_time": "2022-02-14T14:47:44.378Z"
   },
   {
    "duration": 12,
    "start_time": "2022-02-14T14:47:44.386Z"
   },
   {
    "duration": 65,
    "start_time": "2022-02-14T14:47:44.400Z"
   },
   {
    "duration": 19,
    "start_time": "2022-02-14T14:47:44.468Z"
   },
   {
    "duration": 713,
    "start_time": "2022-02-14T14:47:44.489Z"
   },
   {
    "duration": 18,
    "start_time": "2022-02-14T14:47:45.204Z"
   },
   {
    "duration": 716,
    "start_time": "2022-02-14T14:47:45.224Z"
   },
   {
    "duration": 59,
    "start_time": "2022-02-14T14:47:45.948Z"
   },
   {
    "duration": 11,
    "start_time": "2022-02-14T14:47:46.010Z"
   },
   {
    "duration": 41,
    "start_time": "2022-02-14T14:47:46.024Z"
   },
   {
    "duration": 19,
    "start_time": "2022-02-14T14:47:46.067Z"
   },
   {
    "duration": 10,
    "start_time": "2022-02-14T14:47:46.089Z"
   },
   {
    "duration": 11,
    "start_time": "2022-02-14T14:47:46.101Z"
   },
   {
    "duration": 82,
    "start_time": "2022-02-14T14:47:46.115Z"
   },
   {
    "duration": 6,
    "start_time": "2022-02-14T14:47:46.200Z"
   },
   {
    "duration": 11,
    "start_time": "2022-02-14T14:47:46.209Z"
   },
   {
    "duration": 57,
    "start_time": "2022-02-14T14:47:46.222Z"
   },
   {
    "duration": 4,
    "start_time": "2022-02-14T14:47:46.281Z"
   },
   {
    "duration": 10,
    "start_time": "2022-02-14T14:47:46.288Z"
   },
   {
    "duration": 15,
    "start_time": "2022-02-14T14:47:46.301Z"
   },
   {
    "duration": 46,
    "start_time": "2022-02-14T14:47:46.318Z"
   },
   {
    "duration": 35,
    "start_time": "2022-02-14T14:47:46.367Z"
   },
   {
    "duration": 45,
    "start_time": "2022-02-14T14:47:46.405Z"
   },
   {
    "duration": 9,
    "start_time": "2022-02-14T14:47:46.453Z"
   },
   {
    "duration": 10,
    "start_time": "2022-02-14T14:47:46.465Z"
   },
   {
    "duration": 20,
    "start_time": "2022-02-14T14:47:46.478Z"
   },
   {
    "duration": 10,
    "start_time": "2022-02-14T14:47:46.500Z"
   },
   {
    "duration": 47,
    "start_time": "2022-02-14T14:47:46.512Z"
   },
   {
    "duration": 16,
    "start_time": "2022-02-14T14:47:46.561Z"
   },
   {
    "duration": 13,
    "start_time": "2022-02-14T14:47:46.580Z"
   },
   {
    "duration": 9,
    "start_time": "2022-02-14T14:47:46.595Z"
   },
   {
    "duration": 41,
    "start_time": "2022-02-14T14:47:46.607Z"
   },
   {
    "duration": 7,
    "start_time": "2022-02-14T14:47:46.650Z"
   },
   {
    "duration": 17,
    "start_time": "2022-02-14T14:47:46.659Z"
   },
   {
    "duration": 13,
    "start_time": "2022-02-14T14:47:46.679Z"
   },
   {
    "duration": 13,
    "start_time": "2022-02-14T14:47:46.695Z"
   },
   {
    "duration": 44,
    "start_time": "2022-02-14T14:47:46.711Z"
   },
   {
    "duration": 20,
    "start_time": "2022-02-14T14:47:46.758Z"
   },
   {
    "duration": 8,
    "start_time": "2022-02-14T14:47:46.781Z"
   },
   {
    "duration": 19,
    "start_time": "2022-02-14T14:47:46.792Z"
   },
   {
    "duration": 52,
    "start_time": "2022-02-14T14:47:46.813Z"
   },
   {
    "duration": 11,
    "start_time": "2022-02-14T14:47:46.868Z"
   },
   {
    "duration": 23,
    "start_time": "2022-02-14T14:47:46.882Z"
   },
   {
    "duration": 38,
    "start_time": "2022-02-14T14:47:46.909Z"
   },
   {
    "duration": 7,
    "start_time": "2022-02-14T14:47:46.950Z"
   },
   {
    "duration": 23,
    "start_time": "2022-02-14T14:47:46.960Z"
   },
   {
    "duration": 16,
    "start_time": "2022-02-14T14:47:46.985Z"
   },
   {
    "duration": 45,
    "start_time": "2022-02-14T14:47:47.004Z"
   },
   {
    "duration": 12,
    "start_time": "2022-02-14T14:47:47.051Z"
   },
   {
    "duration": 384,
    "start_time": "2022-02-14T14:47:47.066Z"
   },
   {
    "duration": 37,
    "start_time": "2022-02-14T14:47:47.453Z"
   },
   {
    "duration": 9,
    "start_time": "2022-02-14T14:47:47.494Z"
   },
   {
    "duration": 454,
    "start_time": "2022-02-14T14:47:47.505Z"
   },
   {
    "duration": 6,
    "start_time": "2022-02-14T14:47:47.962Z"
   },
   {
    "duration": 254,
    "start_time": "2022-02-14T14:47:47.977Z"
   },
   {
    "duration": 17,
    "start_time": "2022-02-14T14:47:48.235Z"
   },
   {
    "duration": 7,
    "start_time": "2022-02-14T14:47:48.255Z"
   },
   {
    "duration": 83,
    "start_time": "2022-02-14T14:47:48.265Z"
   },
   {
    "duration": 55,
    "start_time": "2022-02-14T14:47:48.352Z"
   },
   {
    "duration": 13,
    "start_time": "2022-02-14T14:47:48.410Z"
   },
   {
    "duration": 12,
    "start_time": "2022-02-14T14:47:48.449Z"
   },
   {
    "duration": 651,
    "start_time": "2022-02-14T14:47:48.464Z"
   },
   {
    "duration": 844,
    "start_time": "2022-02-14T14:47:49.117Z"
   },
   {
    "duration": 14,
    "start_time": "2022-02-14T14:47:49.965Z"
   },
   {
    "duration": 15,
    "start_time": "2022-02-14T14:47:49.982Z"
   },
   {
    "duration": 22,
    "start_time": "2022-02-14T14:47:49.999Z"
   },
   {
    "duration": 12,
    "start_time": "2022-02-14T14:47:50.049Z"
   },
   {
    "duration": 18,
    "start_time": "2022-02-14T14:47:50.063Z"
   },
   {
    "duration": 54,
    "start_time": "2022-02-14T14:47:50.084Z"
   },
   {
    "duration": 59,
    "start_time": "2022-02-14T14:47:50.140Z"
   },
   {
    "duration": 8,
    "start_time": "2022-02-14T14:47:50.202Z"
   },
   {
    "duration": 13,
    "start_time": "2022-02-14T14:47:50.212Z"
   },
   {
    "duration": 30,
    "start_time": "2022-02-14T14:47:50.227Z"
   },
   {
    "duration": 12,
    "start_time": "2022-02-14T14:47:50.260Z"
   },
   {
    "duration": 12,
    "start_time": "2022-02-14T14:47:50.274Z"
   },
   {
    "duration": 4,
    "start_time": "2022-02-14T14:47:50.289Z"
   },
   {
    "duration": 6,
    "start_time": "2022-02-14T14:47:50.296Z"
   },
   {
    "duration": 53,
    "start_time": "2022-02-14T14:47:50.305Z"
   },
   {
    "duration": 16,
    "start_time": "2022-02-14T14:47:50.361Z"
   },
   {
    "duration": 13,
    "start_time": "2022-02-14T14:47:50.380Z"
   },
   {
    "duration": 79,
    "start_time": "2022-02-14T14:47:50.396Z"
   },
   {
    "duration": 70,
    "start_time": "2022-02-14T14:47:50.478Z"
   },
   {
    "duration": 597,
    "start_time": "2022-02-14T14:47:50.551Z"
   },
   {
    "duration": 15,
    "start_time": "2022-02-14T14:47:51.151Z"
   },
   {
    "duration": 8,
    "start_time": "2022-02-14T14:47:51.169Z"
   },
   {
    "duration": 10,
    "start_time": "2022-02-14T14:47:51.179Z"
   },
   {
    "duration": 22,
    "start_time": "2022-02-14T14:47:51.191Z"
   },
   {
    "duration": 1578,
    "start_time": "2022-02-14T14:57:41.260Z"
   },
   {
    "duration": 10,
    "start_time": "2022-02-14T14:57:42.841Z"
   },
   {
    "duration": 22,
    "start_time": "2022-02-14T14:57:42.855Z"
   },
   {
    "duration": 11,
    "start_time": "2022-02-14T14:57:42.880Z"
   },
   {
    "duration": 222,
    "start_time": "2022-02-14T14:57:42.893Z"
   },
   {
    "duration": 38,
    "start_time": "2022-02-14T14:57:43.118Z"
   },
   {
    "duration": 34,
    "start_time": "2022-02-14T14:57:43.159Z"
   },
   {
    "duration": 197,
    "start_time": "2022-02-14T14:57:43.198Z"
   },
   {
    "duration": 22,
    "start_time": "2022-02-14T14:57:43.398Z"
   },
   {
    "duration": 55,
    "start_time": "2022-02-14T14:57:43.422Z"
   },
   {
    "duration": 122,
    "start_time": "2022-02-14T14:57:43.480Z"
   },
   {
    "duration": 20,
    "start_time": "2022-02-14T14:57:43.605Z"
   },
   {
    "duration": 39,
    "start_time": "2022-02-14T14:57:43.628Z"
   },
   {
    "duration": 22,
    "start_time": "2022-02-14T14:57:43.670Z"
   },
   {
    "duration": 133,
    "start_time": "2022-02-14T14:57:43.695Z"
   },
   {
    "duration": 35,
    "start_time": "2022-02-14T14:57:43.831Z"
   },
   {
    "duration": 9,
    "start_time": "2022-02-14T14:57:43.869Z"
   },
   {
    "duration": 14,
    "start_time": "2022-02-14T14:57:43.881Z"
   },
   {
    "duration": 69,
    "start_time": "2022-02-14T14:57:43.897Z"
   },
   {
    "duration": 38,
    "start_time": "2022-02-14T14:57:43.968Z"
   },
   {
    "duration": 48,
    "start_time": "2022-02-14T14:57:44.008Z"
   },
   {
    "duration": 30,
    "start_time": "2022-02-14T14:57:44.059Z"
   },
   {
    "duration": 53,
    "start_time": "2022-02-14T14:57:44.097Z"
   },
   {
    "duration": 26,
    "start_time": "2022-02-14T14:57:44.155Z"
   },
   {
    "duration": 19,
    "start_time": "2022-02-14T14:57:44.184Z"
   },
   {
    "duration": 49,
    "start_time": "2022-02-14T14:57:44.206Z"
   },
   {
    "duration": 5,
    "start_time": "2022-02-14T14:57:44.258Z"
   },
   {
    "duration": 12,
    "start_time": "2022-02-14T14:57:44.266Z"
   },
   {
    "duration": 68,
    "start_time": "2022-02-14T14:57:44.281Z"
   },
   {
    "duration": 21,
    "start_time": "2022-02-14T14:57:44.352Z"
   },
   {
    "duration": 728,
    "start_time": "2022-02-14T14:57:44.375Z"
   },
   {
    "duration": 17,
    "start_time": "2022-02-14T14:57:45.105Z"
   },
   {
    "duration": 728,
    "start_time": "2022-02-14T14:57:45.124Z"
   },
   {
    "duration": 57,
    "start_time": "2022-02-14T14:57:45.854Z"
   },
   {
    "duration": 10,
    "start_time": "2022-02-14T14:57:45.914Z"
   },
   {
    "duration": 19,
    "start_time": "2022-02-14T14:57:45.954Z"
   },
   {
    "duration": 19,
    "start_time": "2022-02-14T14:57:45.976Z"
   },
   {
    "duration": 7,
    "start_time": "2022-02-14T14:57:45.997Z"
   },
   {
    "duration": 43,
    "start_time": "2022-02-14T14:57:46.007Z"
   },
   {
    "duration": 49,
    "start_time": "2022-02-14T14:57:46.053Z"
   },
   {
    "duration": 6,
    "start_time": "2022-02-14T14:57:46.104Z"
   },
   {
    "duration": 36,
    "start_time": "2022-02-14T14:57:46.113Z"
   },
   {
    "duration": 31,
    "start_time": "2022-02-14T14:57:46.152Z"
   },
   {
    "duration": 3,
    "start_time": "2022-02-14T14:57:46.186Z"
   },
   {
    "duration": 14,
    "start_time": "2022-02-14T14:57:46.192Z"
   },
   {
    "duration": 48,
    "start_time": "2022-02-14T14:57:46.208Z"
   },
   {
    "duration": 18,
    "start_time": "2022-02-14T14:57:46.258Z"
   },
   {
    "duration": 37,
    "start_time": "2022-02-14T14:57:46.279Z"
   },
   {
    "duration": 16,
    "start_time": "2022-02-14T14:57:46.348Z"
   },
   {
    "duration": 11,
    "start_time": "2022-02-14T14:57:46.367Z"
   },
   {
    "duration": 6,
    "start_time": "2022-02-14T14:57:46.381Z"
   },
   {
    "duration": 71,
    "start_time": "2022-02-14T14:57:46.390Z"
   },
   {
    "duration": 12,
    "start_time": "2022-02-14T14:57:46.464Z"
   },
   {
    "duration": 12,
    "start_time": "2022-02-14T14:57:46.478Z"
   },
   {
    "duration": 10,
    "start_time": "2022-02-14T14:57:46.493Z"
   },
   {
    "duration": 45,
    "start_time": "2022-02-14T14:57:46.505Z"
   },
   {
    "duration": 10,
    "start_time": "2022-02-14T14:57:46.554Z"
   },
   {
    "duration": 10,
    "start_time": "2022-02-14T14:57:46.566Z"
   },
   {
    "duration": 6,
    "start_time": "2022-02-14T14:57:46.578Z"
   },
   {
    "duration": 11,
    "start_time": "2022-02-14T14:57:46.586Z"
   },
   {
    "duration": 53,
    "start_time": "2022-02-14T14:57:46.600Z"
   },
   {
    "duration": 14,
    "start_time": "2022-02-14T14:57:46.656Z"
   },
   {
    "duration": 16,
    "start_time": "2022-02-14T14:57:46.673Z"
   },
   {
    "duration": 20,
    "start_time": "2022-02-14T14:57:46.691Z"
   },
   {
    "duration": 9,
    "start_time": "2022-02-14T14:57:46.749Z"
   },
   {
    "duration": 13,
    "start_time": "2022-02-14T14:57:46.761Z"
   },
   {
    "duration": 17,
    "start_time": "2022-02-14T14:57:46.777Z"
   },
   {
    "duration": 44,
    "start_time": "2022-02-14T14:57:46.804Z"
   },
   {
    "duration": 10,
    "start_time": "2022-02-14T14:57:46.853Z"
   },
   {
    "duration": 6,
    "start_time": "2022-02-14T14:57:46.865Z"
   },
   {
    "duration": 10,
    "start_time": "2022-02-14T14:57:46.874Z"
   },
   {
    "duration": 21,
    "start_time": "2022-02-14T14:57:46.887Z"
   },
   {
    "duration": 52,
    "start_time": "2022-02-14T14:57:46.911Z"
   },
   {
    "duration": 19,
    "start_time": "2022-02-14T14:57:46.965Z"
   },
   {
    "duration": 14,
    "start_time": "2022-02-14T14:57:46.986Z"
   },
   {
    "duration": 406,
    "start_time": "2022-02-14T14:57:47.002Z"
   },
   {
    "duration": 407,
    "start_time": "2022-02-14T14:57:47.410Z"
   },
   {
    "duration": 586,
    "start_time": "2022-02-14T14:57:47.234Z"
   },
   {
    "duration": 583,
    "start_time": "2022-02-14T14:57:47.238Z"
   },
   {
    "duration": 577,
    "start_time": "2022-02-14T14:57:47.247Z"
   },
   {
    "duration": 573,
    "start_time": "2022-02-14T14:57:47.252Z"
   },
   {
    "duration": 569,
    "start_time": "2022-02-14T14:57:47.258Z"
   },
   {
    "duration": 566,
    "start_time": "2022-02-14T14:57:47.263Z"
   },
   {
    "duration": 562,
    "start_time": "2022-02-14T14:57:47.269Z"
   },
   {
    "duration": 560,
    "start_time": "2022-02-14T14:57:47.273Z"
   },
   {
    "duration": 555,
    "start_time": "2022-02-14T14:57:47.279Z"
   },
   {
    "duration": 553,
    "start_time": "2022-02-14T14:57:47.283Z"
   },
   {
    "duration": 550,
    "start_time": "2022-02-14T14:57:47.288Z"
   },
   {
    "duration": 547,
    "start_time": "2022-02-14T14:57:47.293Z"
   },
   {
    "duration": 543,
    "start_time": "2022-02-14T14:57:47.298Z"
   },
   {
    "duration": 541,
    "start_time": "2022-02-14T14:57:47.302Z"
   },
   {
    "duration": 537,
    "start_time": "2022-02-14T14:57:47.307Z"
   },
   {
    "duration": 533,
    "start_time": "2022-02-14T14:57:47.312Z"
   },
   {
    "duration": 530,
    "start_time": "2022-02-14T14:57:47.317Z"
   },
   {
    "duration": 520,
    "start_time": "2022-02-14T14:57:47.329Z"
   },
   {
    "duration": 516,
    "start_time": "2022-02-14T14:57:47.334Z"
   },
   {
    "duration": 514,
    "start_time": "2022-02-14T14:57:47.338Z"
   },
   {
    "duration": 507,
    "start_time": "2022-02-14T14:57:47.346Z"
   },
   {
    "duration": 505,
    "start_time": "2022-02-14T14:57:47.350Z"
   },
   {
    "duration": 501,
    "start_time": "2022-02-14T14:57:47.355Z"
   },
   {
    "duration": 497,
    "start_time": "2022-02-14T14:57:47.361Z"
   },
   {
    "duration": 493,
    "start_time": "2022-02-14T14:57:47.366Z"
   },
   {
    "duration": 490,
    "start_time": "2022-02-14T14:57:47.371Z"
   },
   {
    "duration": 485,
    "start_time": "2022-02-14T14:57:47.377Z"
   },
   {
    "duration": 483,
    "start_time": "2022-02-14T14:57:47.381Z"
   },
   {
    "duration": 480,
    "start_time": "2022-02-14T14:57:47.386Z"
   },
   {
    "duration": 477,
    "start_time": "2022-02-14T14:57:47.391Z"
   },
   {
    "duration": 473,
    "start_time": "2022-02-14T14:57:47.396Z"
   },
   {
    "duration": 471,
    "start_time": "2022-02-14T14:57:47.400Z"
   },
   {
    "duration": 467,
    "start_time": "2022-02-14T14:57:47.405Z"
   },
   {
    "duration": 463,
    "start_time": "2022-02-14T14:57:47.410Z"
   },
   {
    "duration": 460,
    "start_time": "2022-02-14T14:57:47.415Z"
   },
   {
    "duration": 1122,
    "start_time": "2022-02-14T18:39:03.326Z"
   },
   {
    "duration": 6,
    "start_time": "2022-02-14T18:39:04.450Z"
   },
   {
    "duration": 19,
    "start_time": "2022-02-14T18:39:04.458Z"
   },
   {
    "duration": 21,
    "start_time": "2022-02-14T18:39:04.479Z"
   },
   {
    "duration": 138,
    "start_time": "2022-02-14T18:39:04.502Z"
   },
   {
    "duration": 23,
    "start_time": "2022-02-14T18:39:04.642Z"
   },
   {
    "duration": 27,
    "start_time": "2022-02-14T18:39:04.667Z"
   },
   {
    "duration": 135,
    "start_time": "2022-02-14T18:39:04.696Z"
   },
   {
    "duration": 26,
    "start_time": "2022-02-14T18:39:04.833Z"
   },
   {
    "duration": 26,
    "start_time": "2022-02-14T18:39:04.860Z"
   },
   {
    "duration": 89,
    "start_time": "2022-02-14T18:39:04.888Z"
   },
   {
    "duration": 13,
    "start_time": "2022-02-14T18:39:04.979Z"
   },
   {
    "duration": 18,
    "start_time": "2022-02-14T18:39:04.993Z"
   },
   {
    "duration": 15,
    "start_time": "2022-02-14T18:39:05.012Z"
   },
   {
    "duration": 88,
    "start_time": "2022-02-14T18:39:05.029Z"
   },
   {
    "duration": 17,
    "start_time": "2022-02-14T18:39:05.119Z"
   },
   {
    "duration": 6,
    "start_time": "2022-02-14T18:39:05.138Z"
   },
   {
    "duration": 19,
    "start_time": "2022-02-14T18:39:05.145Z"
   },
   {
    "duration": 27,
    "start_time": "2022-02-14T18:39:05.166Z"
   },
   {
    "duration": 27,
    "start_time": "2022-02-14T18:39:05.195Z"
   },
   {
    "duration": 51,
    "start_time": "2022-02-14T18:39:05.223Z"
   },
   {
    "duration": 21,
    "start_time": "2022-02-14T18:39:05.276Z"
   },
   {
    "duration": 17,
    "start_time": "2022-02-14T18:39:05.300Z"
   },
   {
    "duration": 17,
    "start_time": "2022-02-14T18:39:05.320Z"
   },
   {
    "duration": 12,
    "start_time": "2022-02-14T18:39:05.359Z"
   },
   {
    "duration": 14,
    "start_time": "2022-02-14T18:39:05.373Z"
   },
   {
    "duration": 12,
    "start_time": "2022-02-14T18:39:05.389Z"
   },
   {
    "duration": 11,
    "start_time": "2022-02-14T18:39:05.403Z"
   },
   {
    "duration": 43,
    "start_time": "2022-02-14T18:39:05.416Z"
   },
   {
    "duration": 18,
    "start_time": "2022-02-14T18:39:05.461Z"
   },
   {
    "duration": 481,
    "start_time": "2022-02-14T18:39:05.481Z"
   },
   {
    "duration": 13,
    "start_time": "2022-02-14T18:39:05.964Z"
   },
   {
    "duration": 451,
    "start_time": "2022-02-14T18:39:05.979Z"
   },
   {
    "duration": 56,
    "start_time": "2022-02-14T18:39:06.432Z"
   },
   {
    "duration": 8,
    "start_time": "2022-02-14T18:39:06.489Z"
   },
   {
    "duration": 21,
    "start_time": "2022-02-14T18:39:06.498Z"
   },
   {
    "duration": 23,
    "start_time": "2022-02-14T18:39:06.521Z"
   },
   {
    "duration": 5,
    "start_time": "2022-02-14T18:39:06.546Z"
   },
   {
    "duration": 26,
    "start_time": "2022-02-14T18:39:06.552Z"
   },
   {
    "duration": 39,
    "start_time": "2022-02-14T18:39:06.580Z"
   },
   {
    "duration": 6,
    "start_time": "2022-02-14T18:39:06.621Z"
   },
   {
    "duration": 12,
    "start_time": "2022-02-14T18:39:06.628Z"
   },
   {
    "duration": 37,
    "start_time": "2022-02-14T18:39:06.642Z"
   },
   {
    "duration": 3,
    "start_time": "2022-02-14T18:39:06.681Z"
   },
   {
    "duration": 7,
    "start_time": "2022-02-14T18:39:06.686Z"
   },
   {
    "duration": 13,
    "start_time": "2022-02-14T18:39:06.695Z"
   },
   {
    "duration": 14,
    "start_time": "2022-02-14T18:39:06.709Z"
   },
   {
    "duration": 56,
    "start_time": "2022-02-14T18:39:06.725Z"
   },
   {
    "duration": 10,
    "start_time": "2022-02-14T18:39:06.783Z"
   },
   {
    "duration": 5,
    "start_time": "2022-02-14T18:39:06.794Z"
   },
   {
    "duration": 9,
    "start_time": "2022-02-14T18:39:06.801Z"
   },
   {
    "duration": 20,
    "start_time": "2022-02-14T18:39:06.811Z"
   },
   {
    "duration": 27,
    "start_time": "2022-02-14T18:39:06.832Z"
   },
   {
    "duration": 9,
    "start_time": "2022-02-14T18:39:06.860Z"
   },
   {
    "duration": 8,
    "start_time": "2022-02-14T18:39:06.870Z"
   },
   {
    "duration": 8,
    "start_time": "2022-02-14T18:39:06.880Z"
   },
   {
    "duration": 9,
    "start_time": "2022-02-14T18:39:06.890Z"
   },
   {
    "duration": 8,
    "start_time": "2022-02-14T18:39:06.901Z"
   },
   {
    "duration": 6,
    "start_time": "2022-02-14T18:39:06.911Z"
   },
   {
    "duration": 13,
    "start_time": "2022-02-14T18:39:06.918Z"
   },
   {
    "duration": 31,
    "start_time": "2022-02-14T18:39:06.933Z"
   },
   {
    "duration": 9,
    "start_time": "2022-02-14T18:39:06.966Z"
   },
   {
    "duration": 8,
    "start_time": "2022-02-14T18:39:06.976Z"
   },
   {
    "duration": 13,
    "start_time": "2022-02-14T18:39:06.985Z"
   },
   {
    "duration": 6,
    "start_time": "2022-02-14T18:39:06.999Z"
   },
   {
    "duration": 9,
    "start_time": "2022-02-14T18:39:07.006Z"
   },
   {
    "duration": 52,
    "start_time": "2022-02-14T18:39:07.017Z"
   },
   {
    "duration": 7,
    "start_time": "2022-02-14T18:39:07.073Z"
   },
   {
    "duration": 11,
    "start_time": "2022-02-14T18:39:07.081Z"
   },
   {
    "duration": 3,
    "start_time": "2022-02-14T18:39:07.094Z"
   },
   {
    "duration": 8,
    "start_time": "2022-02-14T18:39:07.098Z"
   },
   {
    "duration": 19,
    "start_time": "2022-02-14T18:39:07.108Z"
   },
   {
    "duration": 13,
    "start_time": "2022-02-14T18:39:07.128Z"
   },
   {
    "duration": 7,
    "start_time": "2022-02-14T18:39:07.159Z"
   },
   {
    "duration": 8,
    "start_time": "2022-02-14T18:39:07.168Z"
   },
   {
    "duration": 226,
    "start_time": "2022-02-14T18:39:07.178Z"
   },
   {
    "duration": 235,
    "start_time": "2022-02-14T18:39:11.813Z"
   },
   {
    "duration": 5,
    "start_time": "2022-02-14T18:39:24.343Z"
   }
  ],
  "kernelspec": {
   "display_name": "Python 3 (ipykernel)",
   "language": "python",
   "name": "python3"
  },
  "language_info": {
   "codemirror_mode": {
    "name": "ipython",
    "version": 3
   },
   "file_extension": ".py",
   "mimetype": "text/x-python",
   "name": "python",
   "nbconvert_exporter": "python",
   "pygments_lexer": "ipython3",
   "version": "3.9.5"
  },
  "toc": {
   "base_numbering": 1,
   "nav_menu": {},
   "number_sections": true,
   "sideBar": true,
   "skip_h1_title": true,
   "title_cell": "Table of Contents",
   "title_sidebar": "Contents",
   "toc_cell": false,
   "toc_position": {},
   "toc_section_display": true,
   "toc_window_display": true
  }
 },
 "nbformat": 4,
 "nbformat_minor": 2
}
