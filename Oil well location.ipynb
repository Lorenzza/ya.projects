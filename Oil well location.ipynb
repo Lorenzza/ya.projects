{
 "cells": [
  {
   "cell_type": "code",
   "execution_count": null,
   "metadata": {},
   "outputs": [],
   "source": []
  },
  {
   "cell_type": "markdown",
   "metadata": {},
   "source": [
    "# Выбор локации для скважины"
   ]
  },
  {
   "cell_type": "markdown",
   "metadata": {},
   "source": [
    "Для добывающей компании «ГлавРосГосНефть». Нужно решить, где бурить новую скважину.\n",
    "\n",
    "Вам предоставлены пробы нефти в трёх регионах: в каждом 10 000 месторождений, где измерили качество нефти и объём её запасов. Постройте модель машинного обучения, которая поможет определить регион, где добыча принесёт наибольшую прибыль. Проанализируйте возможную прибыль и риски техникой *Bootstrap.*\n",
    "\n",
    "Шаги для выбора локации:\n",
    "\n",
    "- В избранном регионе ищут месторождения, для каждого определяют значения признаков;\n",
    "- Строят модель и оценивают объём запасов;\n",
    "- Выбирают месторождения с самым высокими оценками значений. Количество месторождений зависит от бюджета компании и стоимости разработки одной скважины;\n",
    "- Прибыль равна суммарной прибыли отобранных месторождений."
   ]
  },
  {
   "cell_type": "markdown",
   "metadata": {},
   "source": [
    "## Загрузка и подготовка данных"
   ]
  },
  {
   "cell_type": "markdown",
   "metadata": {},
   "source": [
    "Импорт библиотек"
   ]
  },
  {
   "cell_type": "code",
   "execution_count": 1,
   "metadata": {},
   "outputs": [],
   "source": [
    "import pandas as pd\n",
    "import matplotlib.pyplot as plt\n",
    "import seaborn as sns\n",
    "import numpy as np\n",
    "import statistics \n",
    "from sklearn.model_selection import train_test_split\n",
    "from sklearn.linear_model import LinearRegression\n",
    "\n",
    "from sklearn.metrics import mean_squared_error \n",
    "from sklearn.metrics import mean_absolute_error\n",
    "\n",
    "from sklearn.model_selection import train_test_split\n",
    "from sklearn.dummy import DummyClassifier\n",
    "from sklearn.metrics import accuracy_score\n",
    "\n",
    "from sklearn.utils import shuffle\n",
    "from sklearn.preprocessing import StandardScaler\n",
    "from scipy import stats as st\n",
    "from sklearn.metrics import confusion_matrix\n"
   ]
  },
  {
   "cell_type": "markdown",
   "metadata": {},
   "source": [
    "Константы:"
   ]
  },
  {
   "cell_type": "code",
   "execution_count": 2,
   "metadata": {},
   "outputs": [],
   "source": [
    "RANDOM_ST = 12345\n",
    "PRICE = 450 #цена за 1000 баррелей\n",
    "COUNT = 200 #количество скважин\n",
    "COST = 10000000000 #Стоимость разработки 200 скважин"
   ]
  },
  {
   "cell_type": "markdown",
   "metadata": {},
   "source": [
    "Скытие предупреждений:"
   ]
  },
  {
   "cell_type": "code",
   "execution_count": 3,
   "metadata": {},
   "outputs": [],
   "source": [
    "pd.options.mode.chained_assignment = None"
   ]
  },
  {
   "cell_type": "markdown",
   "metadata": {},
   "source": [
    "Загрузка данных геологоразведки трёх регионов:"
   ]
  },
  {
   "cell_type": "code",
   "execution_count": 4,
   "metadata": {},
   "outputs": [
    {
     "name": "stdout",
     "output_type": "stream",
     "text": [
      "<class 'pandas.core.frame.DataFrame'>\n",
      "RangeIndex: 100000 entries, 0 to 99999\n",
      "Data columns (total 5 columns):\n",
      " #   Column   Non-Null Count   Dtype  \n",
      "---  ------   --------------   -----  \n",
      " 0   id       100000 non-null  object \n",
      " 1   f0       100000 non-null  float64\n",
      " 2   f1       100000 non-null  float64\n",
      " 3   f2       100000 non-null  float64\n",
      " 4   product  100000 non-null  float64\n",
      "dtypes: float64(4), object(1)\n",
      "memory usage: 3.8+ MB\n"
     ]
    }
   ],
   "source": [
    "geo_data_0 = pd.read_csv('/datasets/geo_data_0.csv')\n",
    "geo_data_0.info()"
   ]
  },
  {
   "cell_type": "code",
   "execution_count": 5,
   "metadata": {},
   "outputs": [
    {
     "name": "stdout",
     "output_type": "stream",
     "text": [
      "<class 'pandas.core.frame.DataFrame'>\n",
      "RangeIndex: 100000 entries, 0 to 99999\n",
      "Data columns (total 5 columns):\n",
      " #   Column   Non-Null Count   Dtype  \n",
      "---  ------   --------------   -----  \n",
      " 0   id       100000 non-null  object \n",
      " 1   f0       100000 non-null  float64\n",
      " 2   f1       100000 non-null  float64\n",
      " 3   f2       100000 non-null  float64\n",
      " 4   product  100000 non-null  float64\n",
      "dtypes: float64(4), object(1)\n",
      "memory usage: 3.8+ MB\n"
     ]
    }
   ],
   "source": [
    "geo_data_1 = pd.read_csv('/datasets/geo_data_1.csv')\n",
    "geo_data_1.info()"
   ]
  },
  {
   "cell_type": "code",
   "execution_count": 6,
   "metadata": {},
   "outputs": [
    {
     "name": "stdout",
     "output_type": "stream",
     "text": [
      "<class 'pandas.core.frame.DataFrame'>\n",
      "RangeIndex: 100000 entries, 0 to 99999\n",
      "Data columns (total 5 columns):\n",
      " #   Column   Non-Null Count   Dtype  \n",
      "---  ------   --------------   -----  \n",
      " 0   id       100000 non-null  object \n",
      " 1   f0       100000 non-null  float64\n",
      " 2   f1       100000 non-null  float64\n",
      " 3   f2       100000 non-null  float64\n",
      " 4   product  100000 non-null  float64\n",
      "dtypes: float64(4), object(1)\n",
      "memory usage: 3.8+ MB\n"
     ]
    }
   ],
   "source": [
    "geo_data_2 = pd.read_csv('/datasets/geo_data_2.csv')\n",
    "geo_data_2.info()"
   ]
  },
  {
   "cell_type": "markdown",
   "metadata": {},
   "source": [
    "f0, f1, f2 — три признака точек, описание не дано,но сами признаки значимы."
   ]
  },
  {
   "cell_type": "markdown",
   "metadata": {},
   "source": [
    "Пропусков нет, уже неплохо"
   ]
  },
  {
   "cell_type": "code",
   "execution_count": 7,
   "metadata": {},
   "outputs": [
    {
     "data": {
      "text/html": [
       "<div>\n",
       "<style scoped>\n",
       "    .dataframe tbody tr th:only-of-type {\n",
       "        vertical-align: middle;\n",
       "    }\n",
       "\n",
       "    .dataframe tbody tr th {\n",
       "        vertical-align: top;\n",
       "    }\n",
       "\n",
       "    .dataframe thead th {\n",
       "        text-align: right;\n",
       "    }\n",
       "</style>\n",
       "<table border=\"1\" class=\"dataframe\">\n",
       "  <thead>\n",
       "    <tr style=\"text-align: right;\">\n",
       "      <th></th>\n",
       "      <th>id</th>\n",
       "      <th>f0</th>\n",
       "      <th>f1</th>\n",
       "      <th>f2</th>\n",
       "      <th>product</th>\n",
       "    </tr>\n",
       "  </thead>\n",
       "  <tbody>\n",
       "    <tr>\n",
       "      <th>0</th>\n",
       "      <td>kBEdx</td>\n",
       "      <td>-15.001348</td>\n",
       "      <td>-8.276000</td>\n",
       "      <td>-0.005876</td>\n",
       "      <td>3.179103</td>\n",
       "    </tr>\n",
       "    <tr>\n",
       "      <th>1</th>\n",
       "      <td>62mP7</td>\n",
       "      <td>14.272088</td>\n",
       "      <td>-3.475083</td>\n",
       "      <td>0.999183</td>\n",
       "      <td>26.953261</td>\n",
       "    </tr>\n",
       "    <tr>\n",
       "      <th>2</th>\n",
       "      <td>vyE1P</td>\n",
       "      <td>6.263187</td>\n",
       "      <td>-5.948386</td>\n",
       "      <td>5.001160</td>\n",
       "      <td>134.766305</td>\n",
       "    </tr>\n",
       "    <tr>\n",
       "      <th>3</th>\n",
       "      <td>KcrkZ</td>\n",
       "      <td>-13.081196</td>\n",
       "      <td>-11.506057</td>\n",
       "      <td>4.999415</td>\n",
       "      <td>137.945408</td>\n",
       "    </tr>\n",
       "    <tr>\n",
       "      <th>4</th>\n",
       "      <td>AHL4O</td>\n",
       "      <td>12.702195</td>\n",
       "      <td>-8.147433</td>\n",
       "      <td>5.004363</td>\n",
       "      <td>134.766305</td>\n",
       "    </tr>\n",
       "  </tbody>\n",
       "</table>\n",
       "</div>"
      ],
      "text/plain": [
       "      id         f0         f1        f2     product\n",
       "0  kBEdx -15.001348  -8.276000 -0.005876    3.179103\n",
       "1  62mP7  14.272088  -3.475083  0.999183   26.953261\n",
       "2  vyE1P   6.263187  -5.948386  5.001160  134.766305\n",
       "3  KcrkZ -13.081196 -11.506057  4.999415  137.945408\n",
       "4  AHL4O  12.702195  -8.147433  5.004363  134.766305"
      ]
     },
     "execution_count": 7,
     "metadata": {},
     "output_type": "execute_result"
    }
   ],
   "source": [
    "geo_data_1.head()"
   ]
  },
  {
   "cell_type": "code",
   "execution_count": 8,
   "metadata": {},
   "outputs": [
    {
     "data": {
      "text/html": [
       "<div>\n",
       "<style scoped>\n",
       "    .dataframe tbody tr th:only-of-type {\n",
       "        vertical-align: middle;\n",
       "    }\n",
       "\n",
       "    .dataframe tbody tr th {\n",
       "        vertical-align: top;\n",
       "    }\n",
       "\n",
       "    .dataframe thead th {\n",
       "        text-align: right;\n",
       "    }\n",
       "</style>\n",
       "<table border=\"1\" class=\"dataframe\">\n",
       "  <thead>\n",
       "    <tr style=\"text-align: right;\">\n",
       "      <th></th>\n",
       "      <th>f0</th>\n",
       "      <th>f1</th>\n",
       "      <th>f2</th>\n",
       "      <th>product</th>\n",
       "    </tr>\n",
       "  </thead>\n",
       "  <tbody>\n",
       "    <tr>\n",
       "      <th>count</th>\n",
       "      <td>100000.000000</td>\n",
       "      <td>100000.000000</td>\n",
       "      <td>100000.000000</td>\n",
       "      <td>100000.000000</td>\n",
       "    </tr>\n",
       "    <tr>\n",
       "      <th>mean</th>\n",
       "      <td>1.141296</td>\n",
       "      <td>-4.796579</td>\n",
       "      <td>2.494541</td>\n",
       "      <td>68.825000</td>\n",
       "    </tr>\n",
       "    <tr>\n",
       "      <th>std</th>\n",
       "      <td>8.965932</td>\n",
       "      <td>5.119872</td>\n",
       "      <td>1.703572</td>\n",
       "      <td>45.944423</td>\n",
       "    </tr>\n",
       "    <tr>\n",
       "      <th>min</th>\n",
       "      <td>-31.609576</td>\n",
       "      <td>-26.358598</td>\n",
       "      <td>-0.018144</td>\n",
       "      <td>0.000000</td>\n",
       "    </tr>\n",
       "    <tr>\n",
       "      <th>25%</th>\n",
       "      <td>-6.298551</td>\n",
       "      <td>-8.267985</td>\n",
       "      <td>1.000021</td>\n",
       "      <td>26.953261</td>\n",
       "    </tr>\n",
       "    <tr>\n",
       "      <th>50%</th>\n",
       "      <td>1.153055</td>\n",
       "      <td>-4.813172</td>\n",
       "      <td>2.011479</td>\n",
       "      <td>57.085625</td>\n",
       "    </tr>\n",
       "    <tr>\n",
       "      <th>75%</th>\n",
       "      <td>8.621015</td>\n",
       "      <td>-1.332816</td>\n",
       "      <td>3.999904</td>\n",
       "      <td>107.813044</td>\n",
       "    </tr>\n",
       "    <tr>\n",
       "      <th>max</th>\n",
       "      <td>29.421755</td>\n",
       "      <td>18.734063</td>\n",
       "      <td>5.019721</td>\n",
       "      <td>137.945408</td>\n",
       "    </tr>\n",
       "  </tbody>\n",
       "</table>\n",
       "</div>"
      ],
      "text/plain": [
       "                  f0             f1             f2        product\n",
       "count  100000.000000  100000.000000  100000.000000  100000.000000\n",
       "mean        1.141296      -4.796579       2.494541      68.825000\n",
       "std         8.965932       5.119872       1.703572      45.944423\n",
       "min       -31.609576     -26.358598      -0.018144       0.000000\n",
       "25%        -6.298551      -8.267985       1.000021      26.953261\n",
       "50%         1.153055      -4.813172       2.011479      57.085625\n",
       "75%         8.621015      -1.332816       3.999904     107.813044\n",
       "max        29.421755      18.734063       5.019721     137.945408"
      ]
     },
     "execution_count": 8,
     "metadata": {},
     "output_type": "execute_result"
    }
   ],
   "source": [
    "geo_data_1.describe()"
   ]
  },
  {
   "cell_type": "code",
   "execution_count": 9,
   "metadata": {},
   "outputs": [
    {
     "data": {
      "text/plain": [
       "0"
      ]
     },
     "execution_count": 9,
     "metadata": {},
     "output_type": "execute_result"
    }
   ],
   "source": [
    "geo_data_1.duplicated().sum()"
   ]
  },
  {
   "cell_type": "markdown",
   "metadata": {},
   "source": [
    "Проверим столбец с идентификаторами для поиска скрытых дубликатов:"
   ]
  },
  {
   "cell_type": "code",
   "execution_count": 10,
   "metadata": {
    "scrolled": true
   },
   "outputs": [
    {
     "data": {
      "text/plain": [
       "LHZR0    2\n",
       "5ltQ6    2\n",
       "wt4Uk    2\n",
       "bfPNe    2\n",
       "7D5aO    1\n",
       "        ..\n",
       "VIKiF    1\n",
       "tQrbZ    1\n",
       "LL71A    1\n",
       "ZUnOQ    1\n",
       "fIWTv    1\n",
       "Name: id, Length: 99996, dtype: int64"
      ]
     },
     "execution_count": 10,
     "metadata": {},
     "output_type": "execute_result"
    }
   ],
   "source": [
    "geo_data_1['id'].value_counts()"
   ]
  },
  {
   "cell_type": "markdown",
   "metadata": {},
   "source": [
    "Скрытые дубликаты есть. В описании данных сказано, что идентификатор станции уникальный. Но вот мы видим, что он встречается дважды. Это данные за другой период? Это номер скважины а и скважины б, но без а и б? В реальности нужно запросить пояснения, но у нас такой возможности нет. Менять идентификаторы мы не будем, следовательно, так как идентификаторы уйдут из таблицы и анализ по ним проводится не будет(останутся только индексы), то это будут две отдельные строки."
   ]
  },
  {
   "cell_type": "code",
   "execution_count": 11,
   "metadata": {},
   "outputs": [
    {
     "data": {
      "text/html": [
       "<div>\n",
       "<style scoped>\n",
       "    .dataframe tbody tr th:only-of-type {\n",
       "        vertical-align: middle;\n",
       "    }\n",
       "\n",
       "    .dataframe tbody tr th {\n",
       "        vertical-align: top;\n",
       "    }\n",
       "\n",
       "    .dataframe thead th {\n",
       "        text-align: right;\n",
       "    }\n",
       "</style>\n",
       "<table border=\"1\" class=\"dataframe\">\n",
       "  <thead>\n",
       "    <tr style=\"text-align: right;\">\n",
       "      <th></th>\n",
       "      <th>id</th>\n",
       "      <th>f0</th>\n",
       "      <th>f1</th>\n",
       "      <th>f2</th>\n",
       "      <th>product</th>\n",
       "    </tr>\n",
       "  </thead>\n",
       "  <tbody>\n",
       "  </tbody>\n",
       "</table>\n",
       "</div>"
      ],
      "text/plain": [
       "Empty DataFrame\n",
       "Columns: [id, f0, f1, f2, product]\n",
       "Index: []"
      ]
     },
     "execution_count": 11,
     "metadata": {},
     "output_type": "execute_result"
    }
   ],
   "source": [
    "geo_data_1[geo_data_1['id']== 'bxg6G']"
   ]
  },
  {
   "cell_type": "code",
   "execution_count": 12,
   "metadata": {
    "scrolled": true
   },
   "outputs": [
    {
     "data": {
      "text/html": [
       "<div>\n",
       "<style scoped>\n",
       "    .dataframe tbody tr th:only-of-type {\n",
       "        vertical-align: middle;\n",
       "    }\n",
       "\n",
       "    .dataframe tbody tr th {\n",
       "        vertical-align: top;\n",
       "    }\n",
       "\n",
       "    .dataframe thead th {\n",
       "        text-align: right;\n",
       "    }\n",
       "</style>\n",
       "<table border=\"1\" class=\"dataframe\">\n",
       "  <thead>\n",
       "    <tr style=\"text-align: right;\">\n",
       "      <th></th>\n",
       "      <th>id</th>\n",
       "      <th>f0</th>\n",
       "      <th>f1</th>\n",
       "      <th>f2</th>\n",
       "      <th>product</th>\n",
       "    </tr>\n",
       "  </thead>\n",
       "  <tbody>\n",
       "  </tbody>\n",
       "</table>\n",
       "</div>"
      ],
      "text/plain": [
       "Empty DataFrame\n",
       "Columns: [id, f0, f1, f2, product]\n",
       "Index: []"
      ]
     },
     "execution_count": 12,
     "metadata": {},
     "output_type": "execute_result"
    }
   ],
   "source": [
    "geo_data_1[geo_data_1['id']== 'fiKDv']"
   ]
  },
  {
   "cell_type": "code",
   "execution_count": 13,
   "metadata": {},
   "outputs": [],
   "source": [
    "#sns.pairplot(geo_data_0,  hue = 'product')"
   ]
  },
  {
   "cell_type": "code",
   "execution_count": null,
   "metadata": {},
   "outputs": [],
   "source": []
  },
  {
   "cell_type": "code",
   "execution_count": 14,
   "metadata": {},
   "outputs": [
    {
     "data": {
      "text/html": [
       "<div>\n",
       "<style scoped>\n",
       "    .dataframe tbody tr th:only-of-type {\n",
       "        vertical-align: middle;\n",
       "    }\n",
       "\n",
       "    .dataframe tbody tr th {\n",
       "        vertical-align: top;\n",
       "    }\n",
       "\n",
       "    .dataframe thead th {\n",
       "        text-align: right;\n",
       "    }\n",
       "</style>\n",
       "<table border=\"1\" class=\"dataframe\">\n",
       "  <thead>\n",
       "    <tr style=\"text-align: right;\">\n",
       "      <th></th>\n",
       "      <th>f0</th>\n",
       "      <th>f1</th>\n",
       "      <th>f2</th>\n",
       "      <th>product</th>\n",
       "    </tr>\n",
       "  </thead>\n",
       "  <tbody>\n",
       "    <tr>\n",
       "      <th>f0</th>\n",
       "      <td>1.000000</td>\n",
       "      <td>-0.440723</td>\n",
       "      <td>-0.003153</td>\n",
       "      <td>0.143536</td>\n",
       "    </tr>\n",
       "    <tr>\n",
       "      <th>f1</th>\n",
       "      <td>-0.440723</td>\n",
       "      <td>1.000000</td>\n",
       "      <td>0.001724</td>\n",
       "      <td>-0.192356</td>\n",
       "    </tr>\n",
       "    <tr>\n",
       "      <th>f2</th>\n",
       "      <td>-0.003153</td>\n",
       "      <td>0.001724</td>\n",
       "      <td>1.000000</td>\n",
       "      <td>0.483663</td>\n",
       "    </tr>\n",
       "    <tr>\n",
       "      <th>product</th>\n",
       "      <td>0.143536</td>\n",
       "      <td>-0.192356</td>\n",
       "      <td>0.483663</td>\n",
       "      <td>1.000000</td>\n",
       "    </tr>\n",
       "  </tbody>\n",
       "</table>\n",
       "</div>"
      ],
      "text/plain": [
       "               f0        f1        f2   product\n",
       "f0       1.000000 -0.440723 -0.003153  0.143536\n",
       "f1      -0.440723  1.000000  0.001724 -0.192356\n",
       "f2      -0.003153  0.001724  1.000000  0.483663\n",
       "product  0.143536 -0.192356  0.483663  1.000000"
      ]
     },
     "execution_count": 14,
     "metadata": {},
     "output_type": "execute_result"
    }
   ],
   "source": [
    "geo_data_0.corr()"
   ]
  },
  {
   "cell_type": "code",
   "execution_count": 15,
   "metadata": {},
   "outputs": [
    {
     "data": {
      "text/html": [
       "<div>\n",
       "<style scoped>\n",
       "    .dataframe tbody tr th:only-of-type {\n",
       "        vertical-align: middle;\n",
       "    }\n",
       "\n",
       "    .dataframe tbody tr th {\n",
       "        vertical-align: top;\n",
       "    }\n",
       "\n",
       "    .dataframe thead th {\n",
       "        text-align: right;\n",
       "    }\n",
       "</style>\n",
       "<table border=\"1\" class=\"dataframe\">\n",
       "  <thead>\n",
       "    <tr style=\"text-align: right;\">\n",
       "      <th></th>\n",
       "      <th>f0</th>\n",
       "      <th>f1</th>\n",
       "      <th>f2</th>\n",
       "      <th>product</th>\n",
       "    </tr>\n",
       "  </thead>\n",
       "  <tbody>\n",
       "    <tr>\n",
       "      <th>f0</th>\n",
       "      <td>1.000000</td>\n",
       "      <td>0.182287</td>\n",
       "      <td>-0.001777</td>\n",
       "      <td>-0.030491</td>\n",
       "    </tr>\n",
       "    <tr>\n",
       "      <th>f1</th>\n",
       "      <td>0.182287</td>\n",
       "      <td>1.000000</td>\n",
       "      <td>-0.002595</td>\n",
       "      <td>-0.010155</td>\n",
       "    </tr>\n",
       "    <tr>\n",
       "      <th>f2</th>\n",
       "      <td>-0.001777</td>\n",
       "      <td>-0.002595</td>\n",
       "      <td>1.000000</td>\n",
       "      <td>0.999397</td>\n",
       "    </tr>\n",
       "    <tr>\n",
       "      <th>product</th>\n",
       "      <td>-0.030491</td>\n",
       "      <td>-0.010155</td>\n",
       "      <td>0.999397</td>\n",
       "      <td>1.000000</td>\n",
       "    </tr>\n",
       "  </tbody>\n",
       "</table>\n",
       "</div>"
      ],
      "text/plain": [
       "               f0        f1        f2   product\n",
       "f0       1.000000  0.182287 -0.001777 -0.030491\n",
       "f1       0.182287  1.000000 -0.002595 -0.010155\n",
       "f2      -0.001777 -0.002595  1.000000  0.999397\n",
       "product -0.030491 -0.010155  0.999397  1.000000"
      ]
     },
     "execution_count": 15,
     "metadata": {},
     "output_type": "execute_result"
    }
   ],
   "source": [
    "geo_data_1.corr()"
   ]
  },
  {
   "cell_type": "code",
   "execution_count": 16,
   "metadata": {
    "scrolled": false
   },
   "outputs": [
    {
     "data": {
      "text/html": [
       "<div>\n",
       "<style scoped>\n",
       "    .dataframe tbody tr th:only-of-type {\n",
       "        vertical-align: middle;\n",
       "    }\n",
       "\n",
       "    .dataframe tbody tr th {\n",
       "        vertical-align: top;\n",
       "    }\n",
       "\n",
       "    .dataframe thead th {\n",
       "        text-align: right;\n",
       "    }\n",
       "</style>\n",
       "<table border=\"1\" class=\"dataframe\">\n",
       "  <thead>\n",
       "    <tr style=\"text-align: right;\">\n",
       "      <th></th>\n",
       "      <th>f0</th>\n",
       "      <th>f1</th>\n",
       "      <th>f2</th>\n",
       "      <th>product</th>\n",
       "    </tr>\n",
       "  </thead>\n",
       "  <tbody>\n",
       "    <tr>\n",
       "      <th>f0</th>\n",
       "      <td>1.000000</td>\n",
       "      <td>0.000528</td>\n",
       "      <td>-0.000448</td>\n",
       "      <td>-0.001987</td>\n",
       "    </tr>\n",
       "    <tr>\n",
       "      <th>f1</th>\n",
       "      <td>0.000528</td>\n",
       "      <td>1.000000</td>\n",
       "      <td>0.000779</td>\n",
       "      <td>-0.001012</td>\n",
       "    </tr>\n",
       "    <tr>\n",
       "      <th>f2</th>\n",
       "      <td>-0.000448</td>\n",
       "      <td>0.000779</td>\n",
       "      <td>1.000000</td>\n",
       "      <td>0.445871</td>\n",
       "    </tr>\n",
       "    <tr>\n",
       "      <th>product</th>\n",
       "      <td>-0.001987</td>\n",
       "      <td>-0.001012</td>\n",
       "      <td>0.445871</td>\n",
       "      <td>1.000000</td>\n",
       "    </tr>\n",
       "  </tbody>\n",
       "</table>\n",
       "</div>"
      ],
      "text/plain": [
       "               f0        f1        f2   product\n",
       "f0       1.000000  0.000528 -0.000448 -0.001987\n",
       "f1       0.000528  1.000000  0.000779 -0.001012\n",
       "f2      -0.000448  0.000779  1.000000  0.445871\n",
       "product -0.001987 -0.001012  0.445871  1.000000"
      ]
     },
     "execution_count": 16,
     "metadata": {},
     "output_type": "execute_result"
    }
   ],
   "source": [
    "geo_data_2.corr()"
   ]
  },
  {
   "cell_type": "markdown",
   "metadata": {},
   "source": [
    "Мы видим среднюю обратную зависимость между показателяими f0 и f1, в таблице корреляции её значение -0.44. Для исключения влияния мультиколлинеарности следовало бы проверить, не нужно ли исключить один из показателей, однако у нас информация, что данные готовы к обработке, оставим как есть."
   ]
  },
  {
   "cell_type": "markdown",
   "metadata": {},
   "source": [
    "Выкидываем столбец идентификаторов:"
   ]
  },
  {
   "cell_type": "code",
   "execution_count": 17,
   "metadata": {},
   "outputs": [
    {
     "name": "stdout",
     "output_type": "stream",
     "text": [
      "Index(['f0', 'f1', 'f2', 'product'], dtype='object')\n",
      "Index(['f0', 'f1', 'f2', 'product'], dtype='object')\n",
      "Index(['f0', 'f1', 'f2', 'product'], dtype='object')\n",
      "Index(['f0', 'f1', 'f2', 'product'], dtype='object')\n"
     ]
    }
   ],
   "source": [
    "geo = [geo_data_0, geo_data_1, geo_data_2]\n",
    "for index, df in enumerate(geo):\n",
    "    geo[index]= df.drop(['id'], axis=1)\n",
    "    print(geo[index].columns)\n",
    "print(geo[0].columns)"
   ]
  },
  {
   "cell_type": "markdown",
   "metadata": {},
   "source": [
    "Наш датафрейм исправлен внутри списка. На всякий случай и файл сделаем вручную:"
   ]
  },
  {
   "cell_type": "code",
   "execution_count": 18,
   "metadata": {
    "scrolled": true
   },
   "outputs": [
    {
     "name": "stdout",
     "output_type": "stream",
     "text": [
      "Index(['f0', 'f1', 'f2', 'product'], dtype='object')\n",
      "Index(['f0', 'f1', 'f2', 'product'], dtype='object')\n",
      "Index(['f0', 'f1', 'f2', 'product'], dtype='object')\n"
     ]
    }
   ],
   "source": [
    "geo_data_0 = geo_data_0.drop(['id'], axis=1)\n",
    "print(geo_data_0.columns)\n",
    "geo_data_1 = geo_data_1.drop(['id'], axis=1)\n",
    "print(geo_data_1.columns)\n",
    "geo_data_2 = geo_data_2.drop(['id'], axis=1)\n",
    "print(geo_data_2.columns)"
   ]
  },
  {
   "cell_type": "markdown",
   "metadata": {},
   "source": [
    "**Вывод** наши данные содержали скрытые дубликаты, сейчас каждая строка будет анализироваться без учета этого, так как удален столбец 'id'. Имеются признаки мультиколлинеарности:  между показателяими f0 и f1 присутствует средняя обратная зависимость, в таблице корреляции её значение -0.44. Мы считаем данные готовыми к моделированию."
   ]
  },
  {
   "cell_type": "markdown",
   "metadata": {},
   "source": [
    "## Обучение и проверка модели"
   ]
  },
  {
   "cell_type": "markdown",
   "metadata": {},
   "source": [
    "## Подготовка выборок"
   ]
  },
  {
   "cell_type": "markdown",
   "metadata": {},
   "source": [
    "Обучим и проверим модель для каждого региона. "
   ]
  },
  {
   "cell_type": "code",
   "execution_count": 19,
   "metadata": {},
   "outputs": [],
   "source": [
    "features = []\n",
    "for index, df in enumerate(geo):\n",
    "    features.append(df.drop(['product'], axis=1))\n",
    "\n",
    "features_0 = geo_data_0.drop(['product'], axis=1)\n",
    "features_1 = geo_data_1.drop(['product'], axis=1)\n",
    "features_2 = geo_data_2.drop(['product'], axis=1)"
   ]
  },
  {
   "cell_type": "code",
   "execution_count": 20,
   "metadata": {},
   "outputs": [
    {
     "name": "stdout",
     "output_type": "stream",
     "text": [
      "(100000,)\n",
      "(100000,)\n",
      "(100000,)\n"
     ]
    }
   ],
   "source": [
    "target = []\n",
    "for index, df in enumerate(geo):\n",
    "    target.append(df['product'])\n",
    "    print(target[index].shape)\n",
    "\n",
    "# Хотела красиво, но на этапе разбивки с appendом никак не работало, пришлось вернуть обычное\n",
    "target_0 = geo_data_0['product']\n",
    "target_1 = geo_data_1['product']\n",
    "target_2 = geo_data_2['product']"
   ]
  },
  {
   "cell_type": "markdown",
   "metadata": {},
   "source": [
    "Разобьём данные на обучающую и валидационную выборки в соотношении 75:25"
   ]
  },
  {
   "cell_type": "code",
   "execution_count": 21,
   "metadata": {},
   "outputs": [],
   "source": [
    "features_train_0, features_valid_0, target_train_0, target_valid_0 = train_test_split(\n",
    "    features_0, target_0, test_size=0.25, random_state=RANDOM_ST)#, stratify=target_0)\n",
    "\n",
    "features_train_1, features_valid_1, target_train_1, target_valid_1 = train_test_split(\n",
    "    features_1, target_1, test_size=0.25, random_state=RANDOM_ST)#, stratify=target_1)\n",
    "\n",
    "features_train_2, features_valid_2, target_train_2, target_valid_2 = train_test_split(\n",
    "    features_2, target_2, test_size=0.25, random_state=RANDOM_ST)#, stratify=target_2)"
   ]
  },
  {
   "cell_type": "code",
   "execution_count": 22,
   "metadata": {},
   "outputs": [],
   "source": [
    "#target_train = []\n",
    "#target_valid = []\n",
    "#features_train = []\n",
    "#features_valid = []\n",
    "#targets_valid = []\n",
    "#for regions in range(len(geo)):\n",
    "#   data = geo[regions]\n",
    "#    features = data.drop('product', axis=1)\n",
    "#    target = data['product']\n",
    "#    features_train, features_valid, target_train, target_valid = (\n",
    "#        train_test_split( features, target, test_size=0.25, random_state=RANDOM_ST))\n",
    "#    targets_valid.append(target_valid.reset_index(drop=True))\n",
    "#   s_predictions.append(pd.Series(predictions))\n"
   ]
  },
  {
   "cell_type": "code",
   "execution_count": 23,
   "metadata": {},
   "outputs": [
    {
     "data": {
      "text/plain": [
       "0.75"
      ]
     },
     "execution_count": 23,
     "metadata": {},
     "output_type": "execute_result"
    }
   ],
   "source": [
    "features_train_0.shape[0]/(features_train_0.shape[0]+features_valid_0.shape[0])"
   ]
  },
  {
   "cell_type": "code",
   "execution_count": 24,
   "metadata": {},
   "outputs": [
    {
     "data": {
      "text/plain": [
       "0.75"
      ]
     },
     "execution_count": 24,
     "metadata": {},
     "output_type": "execute_result"
    }
   ],
   "source": [
    "features_train_1.shape[0]/(features_train_1.shape[0]+features_valid_1.shape[0])"
   ]
  },
  {
   "cell_type": "code",
   "execution_count": 25,
   "metadata": {},
   "outputs": [
    {
     "data": {
      "text/plain": [
       "0.75"
      ]
     },
     "execution_count": 25,
     "metadata": {},
     "output_type": "execute_result"
    }
   ],
   "source": [
    "features_train_2.shape[0]/(features_train_2.shape[0]+features_valid_2.shape[0])"
   ]
  },
  {
   "cell_type": "markdown",
   "metadata": {},
   "source": [
    "Идеальные проценты, метод справился."
   ]
  },
  {
   "cell_type": "code",
   "execution_count": 26,
   "metadata": {},
   "outputs": [],
   "source": [
    "target_valid = [target_valid_0, target_valid_1, target_valid_2]\n",
    "features_train = [features_train_0, features_train_1, features_train_2]\n",
    "features_valid = [ features_valid_0, features_valid_1, features_valid_2]\n",
    "target_train = [target_train_0, target_train_1, target_train_2]"
   ]
  },
  {
   "cell_type": "code",
   "execution_count": 28,
   "metadata": {},
   "outputs": [
    {
     "name": "stdout",
     "output_type": "stream",
     "text": [
      "0     10.038645\n",
      "1    114.551489\n",
      "2    132.603635\n",
      "3    169.072125\n",
      "4    122.325180\n",
      "Name: product, dtype: float64\n",
      "0    80.859783\n",
      "1    53.906522\n",
      "2    30.132364\n",
      "3    53.906522\n",
      "4     0.000000\n",
      "Name: product, dtype: float64\n",
      "0     61.212375\n",
      "1     41.850118\n",
      "2     57.776581\n",
      "3    100.053761\n",
      "4    109.897122\n",
      "Name: product, dtype: float64\n"
     ]
    }
   ],
   "source": [
    "for index, df in enumerate(target_valid):\n",
    "    df = df.reset_index(drop= True)\n",
    "    print(df.head())\n"
   ]
  },
  {
   "cell_type": "code",
   "execution_count": 29,
   "metadata": {},
   "outputs": [
    {
     "data": {
      "text/plain": [
       "0         10.038645\n",
       "1        114.551489\n",
       "2        132.603635\n",
       "3        169.072125\n",
       "4        122.325180\n",
       "            ...    \n",
       "24995    170.116726\n",
       "24996     93.632175\n",
       "24997    127.352259\n",
       "24998     99.782700\n",
       "24999    177.821022\n",
       "Name: product, Length: 25000, dtype: float64"
      ]
     },
     "execution_count": 29,
     "metadata": {},
     "output_type": "execute_result"
    }
   ],
   "source": [
    "target_valid_0 = target_valid_0.reset_index(drop= True)\n",
    "target_valid_1 = target_valid_1.reset_index(drop= True)\n",
    "target_valid_2 = target_valid_2.reset_index(drop= True)\n",
    "target_valid_0"
   ]
  },
  {
   "cell_type": "markdown",
   "metadata": {},
   "source": [
    "Данные подготовлены к обучению модели. В качестве модели у нас сегодня выступает только линейная регрессия. "
   ]
  },
  {
   "cell_type": "markdown",
   "metadata": {},
   "source": [
    "## Получение предсказаний на модели линейной регрессии"
   ]
  },
  {
   "cell_type": "code",
   "execution_count": 30,
   "metadata": {},
   "outputs": [],
   "source": [
    "model = LinearRegression() # инициализируем модель LinearRegression"
   ]
  },
  {
   "cell_type": "code",
   "execution_count": 31,
   "metadata": {},
   "outputs": [],
   "source": [
    "results = []\n",
    "predictions = []\n",
    "\n"
   ]
  },
  {
   "cell_type": "code",
   "execution_count": 33,
   "metadata": {
    "scrolled": true
   },
   "outputs": [
    {
     "name": "stdout",
     "output_type": "stream",
     "text": [
      "RMSE модели линейной регрессии на валидационной выборке 0: 37.5794217150813\n"
     ]
    }
   ],
   "source": [
    "\n",
    "model_0 = LinearRegression() # инициализируем модель LinearRegression\n",
    "model_0.fit(features_train_0, target_train_0) # обучим модель на тренировочной выборке\n",
    "predictions_valid_0 = model_0.predict(features_valid_0) # получим предсказания модели на валидационной выборке\n",
    "\n",
    "result_0 = mean_squared_error(target_valid_0, predictions_valid_0)**0.5 # посчитаем значение метрики RMSE на валидационной выборке\n",
    "print(\"RMSE модели линейной регрессии на валидационной выборке 0:\", result_0)"
   ]
  },
  {
   "cell_type": "code",
   "execution_count": 34,
   "metadata": {
    "scrolled": true
   },
   "outputs": [],
   "source": [
    "#confusion_matrix(target_valid_0, predictions_valid_0)\n",
    "#probabilities_valid_0 = model_0.predict_proba(features_valid_0)\n",
    "#probabilities_one_valid_0 = probabilities_valid_0[:, 1]"
   ]
  },
  {
   "cell_type": "markdown",
   "metadata": {},
   "source": [
    "В задании нужно сохранить правильные ответы. Но для линейной регрессии я не нашла оценку правильности ответов.Только RMSE как критерий. Наши правильные ответы - это target_valid. Так и оставляю"
   ]
  },
  {
   "cell_type": "code",
   "execution_count": 35,
   "metadata": {},
   "outputs": [
    {
     "name": "stdout",
     "output_type": "stream",
     "text": [
      "RMSE модели линейной регрессии на валидационной выборке 1: 0.893099286775617\n"
     ]
    }
   ],
   "source": [
    "model_1 = LinearRegression() # инициализируем модель LinearRegression\n",
    "model_1.fit(features_train_1, target_train_1) # обучим модель на тренировочной выборке\n",
    "predictions_valid_1 = model_1.predict(features_valid_1) # получим предсказания модели на валидационной выборке\n",
    "result_1 = mean_squared_error(target_valid_1, predictions_valid_1)**0.5 # посчитаем значение метрики RMSE на валидационной выборке\n",
    "print(\"RMSE модели линейной регрессии на валидационной выборке 1:\", result_1)"
   ]
  },
  {
   "cell_type": "code",
   "execution_count": 36,
   "metadata": {},
   "outputs": [
    {
     "name": "stdout",
     "output_type": "stream",
     "text": [
      "RMSE модели линейной регрессии на валидационной выборке 2: 40.02970873393434\n"
     ]
    }
   ],
   "source": [
    "model_2 = LinearRegression() # инициализируем модель LinearRegression\n",
    "model_2.fit(features_train_2, target_train_2) # обучим модель на тренировочной выборке\n",
    "predictions_valid_2 = model_2.predict(features_valid_2) # получим предсказания модели на валидационной выборке\n",
    "result_2 = mean_squared_error(target_valid_2, predictions_valid_2)**0.5 # посчитаем значение метрики RMSE на валидационной выборке\n",
    "print(\"RMSE модели линейной регрессии на валидационной выборке 2:\", result_2)"
   ]
  },
  {
   "cell_type": "code",
   "execution_count": 37,
   "metadata": {},
   "outputs": [],
   "source": [
    "predictions_valid_0 = pd.Series(predictions_valid_0)\n",
    "predictions_valid_1 = pd.Series(predictions_valid_1)\n",
    "predictions_valid_2 = pd.Series(predictions_valid_2)\n",
    "predictions = [predictions_valid_0, predictions_valid_1, predictions_valid_2]\n",
    "#predictions_valid_0.reset_index()\n",
    "#predictions_valid_1.reset_index()\n",
    "#predictions_valid_2.reset_index()"
   ]
  },
  {
   "cell_type": "code",
   "execution_count": 38,
   "metadata": {},
   "outputs": [],
   "source": [
    "results = [result_0, result_1, result_2]"
   ]
  },
  {
   "cell_type": "markdown",
   "metadata": {},
   "source": [
    "У наших признаков разный масштаб и нужно стандартизировать их. Cтолбцы: f0, f1, f2, в которых данные имеют несопоставимый разброс. Чтобы избежать этой ловушки, при которой одни признаки будут ставиться выше других, приведём их к одному масштабу. Применим стандартизацию данных."
   ]
  },
  {
   "cell_type": "code",
   "execution_count": 39,
   "metadata": {},
   "outputs": [
    {
     "name": "stdout",
     "output_type": "stream",
     "text": [
      "             f0        f1        f2\n",
      "27212 -0.544828  1.390264 -0.094959\n",
      "7866   1.455912 -0.480422  1.209567\n",
      "62041  0.260460  0.825069 -0.204865\n",
      "70185 -1.837105  0.010321 -0.147634\n",
      "82230 -1.299243  0.987558  1.273181\n"
     ]
    }
   ],
   "source": [
    "scaler = StandardScaler()\n",
    "numeric = ['f0','f1', 'f2']\n",
    "scaler.fit(features_train_0[numeric])\n",
    "features_train_0_sc = features_train_0\n",
    "features_valid_0_sc = features_valid_0\n",
    "features_train_0_sc[numeric] = scaler.transform(features_train_0[numeric])\n",
    "features_valid_0_sc[numeric] = scaler.transform(features_valid_0[numeric])\n",
    "\n",
    "print(features_train_0_sc.head())"
   ]
  },
  {
   "cell_type": "code",
   "execution_count": 40,
   "metadata": {},
   "outputs": [
    {
     "name": "stdout",
     "output_type": "stream",
     "text": [
      "             f0        f1        f2\n",
      "27212 -0.850855  0.624428  0.296943\n",
      "7866   1.971935  1.832275  0.294333\n",
      "62041  1.079305  0.170127 -0.296418\n",
      "70185 -1.512028 -0.887837 -0.880471\n",
      "82230 -1.804775 -0.718311 -0.293255\n"
     ]
    }
   ],
   "source": [
    "scaler.fit(features_train_1[numeric])\n",
    "features_train_1_sc = features_train_1\n",
    "features_valid_1_sc = features_valid_1\n",
    "features_train_1_sc[numeric] = scaler.transform(features_train_1[numeric])\n",
    "features_valid_1_sc[numeric] = scaler.transform(features_valid_1[numeric])\n",
    "\n",
    "print(features_train_1_sc.head())"
   ]
  },
  {
   "cell_type": "code",
   "execution_count": 41,
   "metadata": {},
   "outputs": [
    {
     "name": "stdout",
     "output_type": "stream",
     "text": [
      "             f0        f1        f2\n",
      "27212 -0.526160  0.776329 -0.400793\n",
      "7866  -0.889625 -0.404070 -1.222936\n",
      "62041 -1.133984  0.208576  0.296765\n",
      "70185  1.227045  1.570166 -0.764556\n",
      "82230 -0.194289  0.878312  0.840821\n"
     ]
    }
   ],
   "source": [
    "scaler.fit(features_train_2[numeric])\n",
    "features_train_2_sc = features_train_2\n",
    "features_valid_2_sc = features_valid_2\n",
    "features_train_2_sc[numeric] = scaler.transform(features_train_2[numeric])\n",
    "features_valid_2_sc[numeric] = scaler.transform(features_valid_2[numeric])\n",
    "\n",
    "print(features_train_2_sc.head())"
   ]
  },
  {
   "cell_type": "markdown",
   "metadata": {},
   "source": [
    "Посмотрим, улучшились ли результаты после масштабирования. Регрессия бывает к этому очень чувствительна:"
   ]
  },
  {
   "cell_type": "code",
   "execution_count": 42,
   "metadata": {},
   "outputs": [
    {
     "name": "stdout",
     "output_type": "stream",
     "text": [
      "RMSE модели линейной регрессии на валидационной выборке 0: 37.5794217150813\n",
      "Cредний запас предсказанного сырья на валидационной выборке 0: 92.59256778438035\n"
     ]
    }
   ],
   "source": [
    "model_0_sc = LinearRegression() # инициализируем модель LinearRegression\n",
    "model_0_sc.fit(features_train_0_sc, target_train_0) # обучим модель на тренировочной выборке\n",
    "predictions_valid_0_sc = model_0_sc.predict(features_valid_0_sc) # получим предсказания модели на валидационной выборке\n",
    "results_1_sc = []\n",
    "result_0_sc = mean_squared_error(target_valid_0, predictions_valid_0_sc)**0.5 # посчитаем значение метрики RMSE на валидационной выборке\n",
    "print(\"RMSE модели линейной регрессии на валидационной выборке 0:\", result_0_sc)\n",
    "print(\"Cредний запас предсказанного сырья на валидационной выборке 0:\",predictions_valid_0_sc.mean() )"
   ]
  },
  {
   "cell_type": "code",
   "execution_count": 43,
   "metadata": {},
   "outputs": [
    {
     "name": "stdout",
     "output_type": "stream",
     "text": [
      "RMSE модели линейной регрессии на валидационной выборке 1: 0.893099286775617\n",
      "Cредний запас предсказанного сырья на валидационной выборке 1: 68.728546895446\n"
     ]
    }
   ],
   "source": [
    "model_1_sc = LinearRegression() # инициализируем модель LinearRegression\n",
    "model_1_sc.fit(features_train_1_sc, target_train_1) # обучим модель на тренировочной выборке\n",
    "predictions_valid_1_sc = model_1_sc.predict(features_valid_1_sc) # получим предсказания модели на валидационной выборке\n",
    "\n",
    "result_1 = mean_squared_error(target_valid_1, predictions_valid_1_sc)**0.5 # посчитаем значение метрики RMSE на валидационной выборке\n",
    "print(\"RMSE модели линейной регрессии на валидационной выборке 1:\", result_1)\n",
    "print(\"Cредний запас предсказанного сырья на валидационной выборке 1:\",predictions_valid_1_sc.mean() )"
   ]
  },
  {
   "cell_type": "code",
   "execution_count": 44,
   "metadata": {},
   "outputs": [
    {
     "name": "stdout",
     "output_type": "stream",
     "text": [
      "RMSE модели линейной регрессии на валидационной выборке 2: 40.02970873393434\n",
      "Cредний запас предсказанного сырья на валидационной выборке 2: 94.96504596800489\n"
     ]
    }
   ],
   "source": [
    "model_2_sc = LinearRegression() # инициализируем модель LinearRegression\n",
    "model_2_sc.fit(features_train_2_sc, target_train_2) # обучим модель на тренировочной выборке\n",
    "predictions_valid_2_sc = model_2_sc.predict(features_valid_2) # получим предсказания модели на валидационной выборке\n",
    "\n",
    "result_2 = mean_squared_error(target_valid_2, predictions_valid_2_sc)**0.5 # посчитаем значение метрики RMSE на валидационной выборке\n",
    "print(\"RMSE модели линейной регрессии на валидационной выборке 2:\", result_2)\n",
    "print(\"Cредний запас предсказанного сырья на валидационной выборке 2:\",predictions_valid_2_sc.mean() )"
   ]
  },
  {
   "cell_type": "markdown",
   "metadata": {},
   "source": [
    "И мы получили бесценный опыт, что линейная регрессия нечувствительна к масштабированию, только логистическая. Для меня удивительно."
   ]
  },
  {
   "cell_type": "raw",
   "metadata": {},
   "source": [
    "df_all = [\n",
    "    df_0.drop('id', axis=1),\n",
    "    df_1.drop('id', axis=1),\n",
    "    df_2.drop('id', axis=1),\n",
    "]\n",
    "\n",
    "s_target = []\n",
    "s_predictions = []\n",
    "for regions in range(len(df_all)):\n",
    "    data = df_all[regions]\n",
    "    features = data.drop('product', axis=1)\n",
    "    target = data['product']\n",
    "    .........\n",
    "    .........\n",
    "    \n",
    "    s_target.append(target_valid.reset_index(drop=True))\n",
    "    s_predictions.append(pd.Series(predictions))\n",
    "    \n",
    "    ..........\n",
    "    ......."
   ]
  },
  {
   "cell_type": "code",
   "execution_count": null,
   "metadata": {},
   "outputs": [],
   "source": []
  },
  {
   "cell_type": "markdown",
   "metadata": {},
   "source": [
    "## Подготовка к расчёту прибыли"
   ]
  },
  {
   "cell_type": "markdown",
   "metadata": {},
   "source": [
    "Для расчёта прибыли нам нужно определить достаточный объём сырья для безубыточной разработки новой скважины. Сравните полученный объём сырья со средним запасом в каждом регионе."
   ]
  },
  {
   "cell_type": "markdown",
   "metadata": {},
   "source": [
    "Для определения стоимости разработки нужно 10 млрд руб. разделить на 200 скважин. Это и будут затраты на скважину, которые определяют порог безубыточности."
   ]
  },
  {
   "cell_type": "code",
   "execution_count": 45,
   "metadata": {},
   "outputs": [
    {
     "data": {
      "text/plain": [
       "50000000.0"
      ]
     },
     "execution_count": 45,
     "metadata": {},
     "output_type": "execute_result"
    }
   ],
   "source": [
    "\n",
    "number_of_wells = 200\n",
    "well_dev_cost = COST / number_of_wells\n",
    "well_dev_cost"
   ]
  },
  {
   "cell_type": "markdown",
   "metadata": {},
   "source": [
    "50 миллионов на скважину. А сколько это в баррелях по текущей цене? По условиям проекта один баррель сырья приносит 450 рублей дохода. Доход с каждой единицы продукта составляет 450 тыс. рублей, поскольку объём указан в тысячах баррелей."
   ]
  },
  {
   "cell_type": "markdown",
   "metadata": {},
   "source": [
    "Тут, конечно, недостаток данных в задании. Для ROI нам нужна прибыль, а не доход, а то, может, там НДПИ (налог на добычу) половину отъест. Но у нас нет даже нормы хоть какой-нибудь прибыли. Будем считать, что при стоимости нефти выше 100$ за барель, и соответствующем курсе доллара - это именно прибыль."
   ]
  },
  {
   "cell_type": "code",
   "execution_count": 46,
   "metadata": {},
   "outputs": [
    {
     "data": {
      "text/plain": [
       "111.11111111111111"
      ]
     },
     "execution_count": 46,
     "metadata": {},
     "output_type": "execute_result"
    }
   ],
   "source": [
    "revenue_per_1000_barrel = 450000\n",
    "break_even_dev = COST / revenue_per_1000_barrel\n",
    "break_even_barrel = well_dev_cost / revenue_per_1000_barrel\n",
    "break_even_barrel"
   ]
  },
  {
   "cell_type": "markdown",
   "metadata": {},
   "source": [
    "<div class=\"alert alert-info\">\n",
    "<p><u><b>Комментарий студента:</b></u></p> \n",
    "<p>Здесь я переделала код на цикл, для красоты и правильности.\n",
    "</div>"
   ]
  },
  {
   "cell_type": "markdown",
   "metadata": {},
   "source": [
    "Сравним полученный необходимый объём нефти для безубыточности со средним запасом в каждом регионе."
   ]
  },
  {
   "cell_type": "code",
   "execution_count": 47,
   "metadata": {},
   "outputs": [
    {
     "name": "stdout",
     "output_type": "stream",
     "text": [
      "Средний запас в регионе 0  -  92.59256778438035 меньше безубыточного объема\n",
      "\n",
      "Средний запас в регионе 1  -  68.728546895446 меньше безубыточного объема\n",
      "\n",
      "Средний запас в регионе 2  -  94.96504596800489 меньше безубыточного объема\n",
      "\n"
     ]
    }
   ],
   "source": [
    "for index, prediction in enumerate(predictions):\n",
    "    if prediction.mean() < break_even_barrel:\n",
    "        print('Средний запас в регионе', index, ' - ', prediction.mean(), 'меньше безубыточного объема')\n",
    "        print('')\n",
    "    else:\n",
    "        print('Средний запас в регионе', index, ' - ', prediction.mean(), 'больше безубыточного объема')\n",
    "        print('')\n",
    "\n"
   ]
  },
  {
   "cell_type": "markdown",
   "metadata": {},
   "source": [
    "Во всех регионах средний запас по региону меньше безубыточного объема. А медианный?"
   ]
  },
  {
   "cell_type": "code",
   "execution_count": 48,
   "metadata": {
    "scrolled": false
   },
   "outputs": [
    {
     "name": "stdout",
     "output_type": "stream",
     "text": [
      "Медианный запас в регионе  0  -  92.66188351790804 меньше безубыточного объема\n",
      "\n",
      "Медианный запас в регионе  1  -  57.851585882427 меньше безубыточного объема\n",
      "\n",
      "Медианный запас в регионе  2  -  95.03120442123549 меньше безубыточного объема\n",
      "\n"
     ]
    }
   ],
   "source": [
    "for index, prediction in enumerate(predictions):\n",
    "    if prediction.median() < break_even_barrel:\n",
    "        print('Медианный запас в регионе ', index, ' - ', prediction.median(), 'меньше безубыточного объема')\n",
    "        print('')\n",
    "    else:\n",
    "        print('Медианный запас в регионе', index, ' - ', prediction.median(), 'мбольше безубыточного объема')\n",
    "        print('')\n"
   ]
  },
  {
   "cell_type": "markdown",
   "metadata": {},
   "source": [
    "И медианный тоже. "
   ]
  },
  {
   "cell_type": "markdown",
   "metadata": {},
   "source": [
    "Чило скважин, удовлеворяющмх условию безубыточности:"
   ]
  },
  {
   "cell_type": "code",
   "execution_count": 49,
   "metadata": {},
   "outputs": [
    {
     "data": {
      "text/plain": [
       "5388"
      ]
     },
     "execution_count": 49,
     "metadata": {},
     "output_type": "execute_result"
    }
   ],
   "source": [
    "\n",
    "break_even_0 = predictions_valid_0[predictions_valid_0 > break_even_barrel].count()\n",
    "break_even_0"
   ]
  },
  {
   "cell_type": "code",
   "execution_count": 50,
   "metadata": {},
   "outputs": [
    {
     "data": {
      "text/plain": [
       "4594"
      ]
     },
     "execution_count": 50,
     "metadata": {},
     "output_type": "execute_result"
    }
   ],
   "source": [
    "break_even_1 = predictions_valid_1[predictions_valid_1 > break_even_barrel].count()\n",
    "break_even_1"
   ]
  },
  {
   "cell_type": "code",
   "execution_count": 51,
   "metadata": {
    "scrolled": true
   },
   "outputs": [
    {
     "data": {
      "text/plain": [
       "5234"
      ]
     },
     "execution_count": 51,
     "metadata": {},
     "output_type": "execute_result"
    }
   ],
   "source": [
    "break_even_2 = predictions_valid_2[predictions_valid_2 > break_even_barrel].count()\n",
    "break_even_2"
   ]
  },
  {
   "cell_type": "markdown",
   "metadata": {},
   "source": [
    "Их везде около 5%. Но, тем не менее, в каждой выборке есть предсказанные значения, которые выше средней стоимости разработки."
   ]
  },
  {
   "cell_type": "markdown",
   "metadata": {},
   "source": [
    "Создадим функцию для расчета прибыли"
   ]
  },
  {
   "cell_type": "code",
   "execution_count": 52,
   "metadata": {},
   "outputs": [],
   "source": [
    "def profit(oil_production):\n",
    "    wells_profit = oil_production.sum()*revenue_per_1000_barrel\n",
    "    return wells_profit"
   ]
  },
  {
   "cell_type": "code",
   "execution_count": 53,
   "metadata": {
    "scrolled": true
   },
   "outputs": [
    {
     "data": {
      "text/plain": [
       "1041666387574.2789"
      ]
     },
     "execution_count": 53,
     "metadata": {},
     "output_type": "execute_result"
    }
   ],
   "source": [
    "profit(predictions_valid_0)"
   ]
  },
  {
   "cell_type": "code",
   "execution_count": 54,
   "metadata": {},
   "outputs": [
    {
     "data": {
      "text/plain": [
       "1035884213334.3293"
      ]
     },
     "execution_count": 54,
     "metadata": {},
     "output_type": "execute_result"
    }
   ],
   "source": [
    "profit(target_valid_0)"
   ]
  },
  {
   "cell_type": "markdown",
   "metadata": {},
   "source": [
    "## Расчёт прибыли и рисков "
   ]
  },
  {
   "cell_type": "markdown",
   "metadata": {},
   "source": [
    "Наша цель - найти те регионы, где вероятность убытков меньше 2.5% и выбрать среди них выбирают регион с наибольшей средней прибылью"
   ]
  },
  {
   "cell_type": "markdown",
   "metadata": {},
   "source": [
    "Наша нулевая гипотеза H₀: «Прибыль от разработки 200 скважин в регионе ниже затрат на разработку». Альтернативная гипотеза H₁: «Прибыль от разработки 200 скважин в регионе превышает затраты на разработку»."
   ]
  },
  {
   "cell_type": "markdown",
   "metadata": {},
   "source": [
    "Чтобы принять или отвергнуть нулевую гипотезу, вычислим уровень значимости — p-value. Если значение p-value больше порогового значения, то нулевую гипотезу отвергать не стоит. Меньше — есть основание отказаться от нулевой гипотезы. Общепринятое пороговое значение — 5% (для немедицинских гипотез). Нас интересует отклонение только в одну сторону — знак «больше», значит гипотеза односторонняя. Если распределение данных близко к нормальному (в данных нет существенных выбросов), для сравнения средних значений используют стандартный t-тест. "
   ]
  },
  {
   "cell_type": "code",
   "execution_count": 187,
   "metadata": {},
   "outputs": [
    {
     "name": "stdout",
     "output_type": "stream",
     "text": [
      "Регион 0\n",
      "p-значение:  0.05199864177105973\n",
      "Не получилось отвергнуть нулевую гипотезу по региону: скорее всего скорее всего, прибыль ниже затрат\n",
      "Регион 1\n",
      "p-значение:  0.49475546644634255\n",
      "Не получилось отвергнуть нулевую гипотезу по региону: скорее всего скорее всего, прибыль ниже затрат\n",
      "Регион 2\n",
      "p-значение:  0.397333135212901\n",
      "Не получилось отвергнуть нулевую гипотезу по региону: скорее всего скорее всего, прибыль ниже затрат\n"
     ]
    }
   ],
   "source": [
    "alpha = 0.05  # тест односторонний: p-value будет в два раза меньше\n",
    "for index, prediction in enumerate(predictions):\n",
    "    results = st.ttest_ind(target_valid[index], prediction)\n",
    "    pvalue = results.pvalue / 2 # < напишите код здесь >)\n",
    "    print('Регион', index)\n",
    "    print('p-значение: ', pvalue)\n",
    "    if pvalue < alpha :\n",
    "        print(\"Отвергаем нулевую гипотезу по региону: скорее всего скорее всего, прибыль выше затрат\")\n",
    "    else:\n",
    "        print(\"Не получилось отвергнуть нулевую гипотезу по региону: скорее всего скорее всего, прибыль ниже затрат\")    \n"
   ]
  },
  {
   "cell_type": "markdown",
   "metadata": {},
   "source": [
    "Итак, без дополнительных методов выборки, средняя прибыль по всем трём регионам ниже затрат на разработку скважины."
   ]
  },
  {
   "cell_type": "markdown",
   "metadata": {},
   "source": [
    "Найдем доверительный интервал - отрезок числовой оси, в который с заданной вероятностью попадает нужный нам параметр генеральной совокупности. Нас интересует безубыточный объем выработки break_even_barrel, но считать мы будем среднее. Для вычисления доверительного интервала с каждой из его сторон обычно выбрасываем одинаковую долю экстремальных значений. В нашем случае, для построения 95%-го доверительного интервала нужно выкинуть 5% экстремальных значений, то есть 2.5% самых больших и 2.5% самых маленьких (0.025-квантиль и 0.975-квантиль)"
   ]
  },
  {
   "cell_type": "markdown",
   "metadata": {},
   "source": [
    "Наши значения среднего по региону 0 лежат в скромных границах 92.31 - 92.88 с 95% вероятностью."
   ]
  },
  {
   "cell_type": "code",
   "execution_count": 188,
   "metadata": {},
   "outputs": [
    {
     "name": "stdout",
     "output_type": "stream",
     "text": [
      "Cреднее по региону 0 : 92.59256778438035\n",
      "95%-ый доверительный интервал региона 0 : (92.3052541593254, 92.8798814094353)\n",
      "Cреднее по региону 1 : 68.728546895446\n",
      "95%-ый доверительный интервал региона 1 : (68.15818110461278, 69.29891268627922)\n",
      "Cреднее по региону 2 : 94.96504596800489\n",
      "95%-ый доверительный интервал региона 2 : (94.71892914790764, 95.21116278810213)\n"
     ]
    }
   ],
   "source": [
    "confidence_intervals = []\n",
    "for index, prediction in enumerate(predictions):\n",
    "    print(\"Cреднее по региону\", index, ':', prediction.mean())\n",
    "    confidence_interval  = st.t.interval(\n",
    "    0.95, len(prediction)-1, prediction.mean(), prediction.sem() )\n",
    "    confidence_intervals.append(confidence_interval)\n",
    "    print(\"95%-ый доверительный интервал региона\", index, ':', confidence_interval)"
   ]
  },
  {
   "cell_type": "markdown",
   "metadata": {},
   "source": [
    "Наши значения среднего по региону с 95% вероятностью лежат в скромных границах 92.59 - 92.88 по региону 0, значения среднего по региону 1 - в границах 68.16 - 69.30, по региону 2 - 94.97 - 95.21"
   ]
  },
  {
   "cell_type": "markdown",
   "metadata": {},
   "source": [
    "Посмотрим свод для наглядности:"
   ]
  },
  {
   "cell_type": "code",
   "execution_count": 189,
   "metadata": {},
   "outputs": [
    {
     "data": {
      "text/html": [
       "<div>\n",
       "<style scoped>\n",
       "    .dataframe tbody tr th:only-of-type {\n",
       "        vertical-align: middle;\n",
       "    }\n",
       "\n",
       "    .dataframe tbody tr th {\n",
       "        vertical-align: top;\n",
       "    }\n",
       "\n",
       "    .dataframe thead th {\n",
       "        text-align: right;\n",
       "    }\n",
       "</style>\n",
       "<table border=\"1\" class=\"dataframe\">\n",
       "  <thead>\n",
       "    <tr style=\"text-align: right;\">\n",
       "      <th></th>\n",
       "      <th>Среднее</th>\n",
       "      <th>RMSE</th>\n",
       "      <th>Дов.итервал .95</th>\n",
       "      <th>Прибыльных скважин</th>\n",
       "    </tr>\n",
       "  </thead>\n",
       "  <tbody>\n",
       "    <tr>\n",
       "      <th>Регион 0</th>\n",
       "      <td>92.592568</td>\n",
       "      <td>37.579422</td>\n",
       "      <td>(92.3052541593254, 92.8798814094353)</td>\n",
       "      <td>5388</td>\n",
       "    </tr>\n",
       "    <tr>\n",
       "      <th>Регион 1</th>\n",
       "      <td>68.728547</td>\n",
       "      <td>0.893099</td>\n",
       "      <td>(68.15818110461278, 69.29891268627922)</td>\n",
       "      <td>4594</td>\n",
       "    </tr>\n",
       "    <tr>\n",
       "      <th>Регион 2</th>\n",
       "      <td>94.965046</td>\n",
       "      <td>40.029709</td>\n",
       "      <td>(94.71892914790764, 95.21116278810213)</td>\n",
       "      <td>5234</td>\n",
       "    </tr>\n",
       "  </tbody>\n",
       "</table>\n",
       "</div>"
      ],
      "text/plain": [
       "            Среднее       RMSE                         Дов.итервал .95  \\\n",
       "Регион 0  92.592568  37.579422    (92.3052541593254, 92.8798814094353)   \n",
       "Регион 1  68.728547   0.893099  (68.15818110461278, 69.29891268627922)   \n",
       "Регион 2  94.965046  40.029709  (94.71892914790764, 95.21116278810213)   \n",
       "\n",
       "          Прибыльных скважин  \n",
       "Регион 0                5388  \n",
       "Регион 1                4594  \n",
       "Регион 2                5234  "
      ]
     },
     "metadata": {},
     "output_type": "display_data"
    }
   ],
   "source": [
    "summary = {'Среднее':[predictions_valid_0.mean(), predictions_valid_1.mean(), predictions_valid_2.mean()], \n",
    "      'RMSE':[result_0, result_1, result_2],\n",
    "      'Дов.итервал .95':confidence_intervals,\n",
    "          'Прибыльных скважин':[break_even_0, break_even_1, break_even_2]}\n",
    "# Таблица для удобства сравнения. \n",
    "display(pd.DataFrame(summary , index =['Регион 0', 'Регион 1', 'Регион 2' ]))"
   ]
  },
  {
   "cell_type": "markdown",
   "metadata": {},
   "source": [
    "У нас есть регионы 0 и 2, где выбросов больше, но и среднее выше. И регион 1, где разброс данных меньше, но и среднее ниже."
   ]
  },
  {
   "cell_type": "markdown",
   "metadata": {},
   "source": [
    "Применим технику Bootstrap "
   ]
  },
  {
   "cell_type": "code",
   "execution_count": 190,
   "metadata": {},
   "outputs": [],
   "source": [
    "#def revenue(target, predictions, count):\n",
    "#    predictions_sorted = predictions.sort_values(ascending=False)\n",
    "#    selected = target[predictions_sorted.index][:count]\n",
    "#    return revenue_per_1000_barrel * selected.sum()\n"
   ]
  },
  {
   "cell_type": "code",
   "execution_count": 55,
   "metadata": {},
   "outputs": [],
   "source": [
    "def profit(target, predict):\n",
    "    predict_sorted = predict.sort_values(ascending=False)\n",
    "    selected_points = target[predict_sorted.index][:COUNT]\n",
    "    product = selected_points.sum()\n",
    "    revenue = product * PRICE * 1000\n",
    "    return revenue - COST"
   ]
  },
  {
   "cell_type": "code",
   "execution_count": null,
   "metadata": {},
   "outputs": [],
   "source": [
    "display(predictions)"
   ]
  },
  {
   "cell_type": "code",
   "execution_count": 57,
   "metadata": {},
   "outputs": [],
   "source": [
    "state = np.random.RandomState(RANDOM_ST)"
   ]
  },
  {
   "cell_type": "code",
   "execution_count": 193,
   "metadata": {},
   "outputs": [
    {
     "name": "stdout",
     "output_type": "stream",
     "text": [
      "0    128.836113\n",
      "dtype: float64 регион 0\n",
      "0    128.836113\n",
      "dtype: float64 регион 0\n",
      "0    137.230211\n",
      "dtype: float64 регион 1\n",
      "0    137.230211\n",
      "dtype: float64 регион 1\n",
      "0    127.650763\n",
      "dtype: float64 регион 2\n",
      "0    127.650763\n",
      "dtype: float64 регион 2\n"
     ]
    }
   ],
   "source": [
    "state = np.random.RandomState(RANDOM_ST)\n",
    "\n",
    "# сохраним значения 95%-квантилей в переменных values\n",
    "values = []\n",
    "for index, prediction in enumerate(predictions):\n",
    "    quantiles = []\n",
    "    for i in range(1000):\n",
    "        subsample = predictions[index].sample(n=500, replace=True, random_state=state)\n",
    "        quantiles.append(pd.Series(subsample.quantile(0.95)) )\n",
    "        quantiles = pd.Series(quantiles)\n",
    "    values.append(quantiles)\n",
    "    lower = values[index].quantile(0.0125)\n",
    "    upper = values[index].quantile(0.9875)\n",
    "    print(lower, 'регион', index)\n",
    "    print(upper, 'регион', index)\n",
    "\n",
    "\n"
   ]
  },
  {
   "cell_type": "code",
   "execution_count": 194,
   "metadata": {},
   "outputs": [
    {
     "name": "stdout",
     "output_type": "stream",
     "text": [
      "125.90885801442823\n",
      "135.2197425842101\n"
     ]
    }
   ],
   "source": [
    "values_0 = []\n",
    "for i in range(1000):\n",
    "    subsample_0 = predictions_valid_0.sample(n=500, replace=True, random_state=state)\n",
    "    values_0.append(subsample_0.quantile(0.95)) \n",
    "\n",
    "values_0 = pd.Series(values_0) \n",
    "    \n",
    "lower = values_0.quantile(0.0125)\n",
    "upper = values_0.quantile(0.9875)\n",
    "\n",
    "print(lower)\n",
    "print(upper)"
   ]
  },
  {
   "cell_type": "code",
   "execution_count": 195,
   "metadata": {},
   "outputs": [
    {
     "name": "stdout",
     "output_type": "stream",
     "text": [
      "136.51654793633472\n",
      "137.69424183185353\n"
     ]
    }
   ],
   "source": [
    "values_1 = []\n",
    "for i in range(1000):\n",
    "    subsample_1 = predictions_valid_1.sample(n=500, replace=True, random_state=state)\n",
    "    values_1.append(subsample_1.quantile(0.95)) \n",
    "\n",
    "values_1 = pd.Series(values_1) \n",
    "    \n",
    "lower = values_1.quantile(0.0125)\n",
    "upper = values_1.quantile(0.9875)\n",
    "\n",
    "print(lower)\n",
    "print(upper)"
   ]
  },
  {
   "cell_type": "code",
   "execution_count": 196,
   "metadata": {},
   "outputs": [
    {
     "name": "stdout",
     "output_type": "stream",
     "text": [
      "123.78568864332078\n",
      "131.32302889515415\n"
     ]
    }
   ],
   "source": [
    "values_2 = []\n",
    "for i in range(1000):\n",
    "    subsample_2 = predictions_valid_2.sample(n=500, replace=True, random_state=state)\n",
    "    values_2.append(subsample_2.quantile(0.95)) # < напишите код здесь >\n",
    "\n",
    "values_2 = pd.Series(values_2)\n",
    "    \n",
    "lower = values_2.quantile(0.0125)\n",
    "upper = values_2.quantile(0.9875)\n",
    "\n",
    "print(lower)\n",
    "print(upper)"
   ]
  },
  {
   "cell_type": "markdown",
   "metadata": {},
   "source": [
    "У нас получилось, что нижняя граница у всех регионов выше уровня безубыточности в 111 килобаррелей. \n",
    "\n",
    "После оценки рисков нужно оставить лишь те регионы, в которых вероятность убытков меньше 2.5%. Среди них выберем регион с наибольшей средней прибылью"
   ]
  },
  {
   "cell_type": "code",
   "execution_count": 58,
   "metadata": {},
   "outputs": [],
   "source": [
    "    \n",
    "values_0 = []\n",
    "for i in range(1000):#00):\n",
    "    target_subsample_0 = target_valid_0.sample(n=500 , replace=True, random_state=state)\n",
    "    probs_subsample_0 = predictions_valid_0[target_subsample_0.index]\n",
    "    res_0 = profit(target_subsample_0, probs_subsample_0)# бурим только 200 скважин\n",
    "    values_0.append(res_0)\n"
   ]
  },
  {
   "cell_type": "code",
   "execution_count": 59,
   "metadata": {},
   "outputs": [
    {
     "name": "stdout",
     "output_type": "stream",
     "text": [
      "Средняя выручка: 425938526.91059244\n",
      "2.5%-квантиль: -102090094.83793654\n"
     ]
    }
   ],
   "source": [
    "values_0 = pd.Series(values_0)\n",
    "lower = values_0.quantile(0.025)\n",
    "\n",
    "mean = values_0.mean()\n",
    "print(\"Средняя выручка:\", mean)\n",
    "print(\"2.5%-квантиль:\", lower)"
   ]
  },
  {
   "cell_type": "markdown",
   "metadata": {},
   "source": [
    "Средняя выручка: 418 763 365 рублей, но 2.5%-квантиль: -185804378, а это значит, что условие о вероятности 97,5% дохода (положительной прибыли) от бурения не выполняется. Отрицательная прибыль - это доход от продукта ниже затрат на разработку."
   ]
  },
  {
   "cell_type": "code",
   "execution_count": 60,
   "metadata": {},
   "outputs": [
    {
     "name": "stdout",
     "output_type": "stream",
     "text": [
      "Средняя выручка: 518259493.6973249\n",
      "2.5%-квантиль: 128123231.43308444\n"
     ]
    }
   ],
   "source": [
    "    \n",
    "values_1 = []\n",
    "for i in range(1000):#00):\n",
    "    target_subsample_1 = target_valid_1.sample(n=500 , replace=True, random_state=state)\n",
    "    probs_subsample_1 = predictions_valid_1[target_subsample_1.index]\n",
    "    res_1 = profit(target_subsample_1, probs_subsample_1)# бурим  200 скважин\n",
    "    values_1.append(res_1)\n",
    "values_1 = pd.Series(values_1)\n",
    "lower_1 = values_1.quantile(0.025)\n",
    "\n",
    "mean_1 = values_1.mean()\n",
    "print(\"Средняя выручка:\", mean_1)\n",
    "print(\"2.5%-квантиль:\", lower_1)\n"
   ]
  },
  {
   "cell_type": "code",
   "execution_count": 61,
   "metadata": {},
   "outputs": [
    {
     "name": "stdout",
     "output_type": "stream",
     "text": [
      "Средняя выручка: 420194005.3440501\n",
      "2.5%-квантиль: -115852609.16001147\n"
     ]
    }
   ],
   "source": [
    "values_2 = []\n",
    "for i in range(1000):#00):\n",
    "    target_subsample_2 = target_valid_2.sample(n=500 , replace=True, random_state=state)\n",
    "    probs_subsample_2 = predictions_valid_2[target_subsample_2.index]\n",
    "    res_2 = profit(target_subsample_2, probs_subsample_2)# бурим  200 скважин\n",
    "    values_2.append(res_2)\n",
    "values_2 = pd.Series(values_2)\n",
    "lower_2 = values_2.quantile(0.025)\n",
    "\n",
    "mean_2 = values_2.mean()\n",
    "print(\"Средняя выручка:\", mean_2)\n",
    "print(\"2.5%-квантиль:\", lower_2)\n"
   ]
  },
  {
   "cell_type": "markdown",
   "metadata": {},
   "source": [
    "Регион 0 мы отбрасываем, поскольку не выполняется условие о 97.5% получения прибыли. Регионы 1 и 2 выполняют условие о прибыли. Между регионами 1 и 2 наибольшую среднюю прибыль показал регион 1, его и выбираем для разработки."
   ]
  },
  {
   "cell_type": "markdown",
   "metadata": {},
   "source": [
    "**Вывод:** по результатам проведенного анализа данных с применением модели линейная регрессия для предсказания объемов выработки скважины и техники бутстреп для оценки доверительных интервалов моделей мы предлагаем  регион 1 для разработки скважин. Число прибыльных скважин в нём 4594, что меньше, чем по другим регионам. Среднее значение продукта по исходному массиву также значительно ниже, чем по регионам 0 и 1. Однако, регион 0 мы исключаем, поскольку не выполняется условие о 97.5% получения прибыли - 2.5%-квантиль: -185804378. Регионы 1 и 2 выполняют условие о прибыли. Между регионами 1 и 2 наибольшую среднюю прибыль показал регион 1 - 531 059 970. Именно в регионе 1 мы наблюдали высокую корреляцию признака f2 и целевого признака.\n",
    "Итак, после оценки рисков регионы, в которых вероятность убытков меньше 2.5% - это регионы 1 и 2 . Среди них регион с наибольшей средней прибылью - это регион 1, его мы и рекомендуем к разработке. "
   ]
  },
  {
   "cell_type": "markdown",
   "metadata": {},
   "source": [
    "## Чек-лист готовности проекта"
   ]
  },
  {
   "cell_type": "markdown",
   "metadata": {},
   "source": [
    "Поставьте 'x' в выполненных пунктах. Далее нажмите Shift+Enter."
   ]
  },
  {
   "cell_type": "markdown",
   "metadata": {},
   "source": [
    "- [x]  Jupyter Notebook открыт\n",
    "- [x]  Весь код выполняется без ошибок\n",
    "- [x]  Ячейки с кодом расположены в порядке исполнения\n",
    "- [x]  Выполнен шаг 1: данные подготовлены\n",
    "- [x]  Выполнен шаг 2: модели обучены и проверены\n",
    "    - [x]  Данные корректно разбиты на обучающую и валидационную выборки\n",
    "    - [x]  Модели обучены, предсказания сделаны\n",
    "    - [x]  Предсказания и правильные ответы на валидационной выборке сохранены\n",
    "    - [x]  На экране напечатаны результаты\n",
    "    - [x]  Сделаны выводы\n",
    "- [x]  Выполнен шаг 3: проведена подготовка к расчёту прибыли\n",
    "    - [x]  Для всех ключевых значений созданы константы Python\n",
    "    - [x]  Посчитано минимальное среднее количество продукта в месторождениях региона, достаточное для разработки\n",
    "    - [x]  По предыдущему пункту сделаны выводы\n",
    "    - [x]  Написана функция расчёта прибыли\n",
    "- [x]  Выполнен шаг 4: посчитаны риски и прибыль\n",
    "    - [x]  Проведена процедура *Bootstrap*\n",
    "    - [x]  Все параметры бутстрепа соответствуют условию\n",
    "    - [x]  Найдены все нужные величины\n",
    "    - [x]  Предложен регион для разработки месторождения\n",
    "    - [x]  Выбор региона обоснован"
   ]
  }
 ],
 "metadata": {
  "ExecuteTimeLog": [
   {
    "duration": 5,
    "start_time": "2022-05-23T07:46:06.703Z"
   },
   {
    "duration": 8,
    "start_time": "2022-05-23T07:46:06.710Z"
   },
   {
    "duration": 133,
    "start_time": "2022-05-23T07:46:06.719Z"
   },
   {
    "duration": 121,
    "start_time": "2022-05-23T07:46:06.854Z"
   },
   {
    "duration": 10,
    "start_time": "2022-05-23T07:46:06.977Z"
   },
   {
    "duration": 60,
    "start_time": "2022-05-23T07:46:06.989Z"
   },
   {
    "duration": 49,
    "start_time": "2022-05-23T07:46:07.051Z"
   },
   {
    "duration": 101,
    "start_time": "2022-05-23T07:46:07.102Z"
   },
   {
    "duration": 27,
    "start_time": "2022-05-23T07:46:07.205Z"
   },
   {
    "duration": 19,
    "start_time": "2022-05-23T07:46:07.234Z"
   },
   {
    "duration": 9,
    "start_time": "2022-05-23T07:46:07.255Z"
   },
   {
    "duration": 3,
    "start_time": "2022-05-23T07:46:10.720Z"
   },
   {
    "duration": 15,
    "start_time": "2022-05-23T07:46:11.289Z"
   },
   {
    "duration": 19,
    "start_time": "2022-05-23T07:46:23.738Z"
   },
   {
    "duration": 15,
    "start_time": "2022-05-23T07:47:04.160Z"
   },
   {
    "duration": 5,
    "start_time": "2022-05-23T08:14:04.199Z"
   },
   {
    "duration": 4,
    "start_time": "2022-05-23T08:14:04.658Z"
   },
   {
    "duration": 167,
    "start_time": "2022-05-23T08:14:06.306Z"
   },
   {
    "duration": 138,
    "start_time": "2022-05-23T08:14:10.470Z"
   },
   {
    "duration": 10,
    "start_time": "2022-05-23T08:14:23.150Z"
   },
   {
    "duration": 45,
    "start_time": "2022-05-23T08:14:25.522Z"
   },
   {
    "duration": 84,
    "start_time": "2022-05-23T08:14:29.584Z"
   },
   {
    "duration": 60,
    "start_time": "2022-05-23T08:14:43.779Z"
   },
   {
    "duration": 12,
    "start_time": "2022-05-23T08:29:57.094Z"
   },
   {
    "duration": 9,
    "start_time": "2022-05-23T08:30:30.872Z"
   },
   {
    "duration": 8,
    "start_time": "2022-05-23T08:32:46.416Z"
   },
   {
    "duration": 5,
    "start_time": "2022-05-23T08:33:19.022Z"
   },
   {
    "duration": 8,
    "start_time": "2022-05-23T08:33:19.029Z"
   },
   {
    "duration": 126,
    "start_time": "2022-05-23T08:33:19.038Z"
   },
   {
    "duration": 139,
    "start_time": "2022-05-23T08:33:19.166Z"
   },
   {
    "duration": 16,
    "start_time": "2022-05-23T08:33:19.308Z"
   },
   {
    "duration": 36,
    "start_time": "2022-05-23T08:33:19.326Z"
   },
   {
    "duration": 76,
    "start_time": "2022-05-23T08:33:19.365Z"
   },
   {
    "duration": 62,
    "start_time": "2022-05-23T08:33:19.443Z"
   },
   {
    "duration": 14,
    "start_time": "2022-05-23T08:33:19.524Z"
   },
   {
    "duration": 17,
    "start_time": "2022-05-23T08:33:19.540Z"
   },
   {
    "duration": 4,
    "start_time": "2022-05-23T08:33:19.559Z"
   },
   {
    "duration": 22,
    "start_time": "2022-05-23T08:33:19.564Z"
   },
   {
    "duration": 42,
    "start_time": "2022-05-23T08:33:19.587Z"
   },
   {
    "duration": 14,
    "start_time": "2022-05-23T08:33:19.631Z"
   },
   {
    "duration": 10,
    "start_time": "2022-05-23T08:33:19.646Z"
   },
   {
    "duration": 10,
    "start_time": "2022-05-23T08:33:55.538Z"
   },
   {
    "duration": 6,
    "start_time": "2022-05-23T08:56:42.544Z"
   },
   {
    "duration": 23,
    "start_time": "2022-05-23T08:56:42.552Z"
   },
   {
    "duration": 5,
    "start_time": "2022-05-23T08:56:42.579Z"
   },
   {
    "duration": 162,
    "start_time": "2022-05-23T08:56:42.586Z"
   },
   {
    "duration": 140,
    "start_time": "2022-05-23T08:56:42.750Z"
   },
   {
    "duration": 137,
    "start_time": "2022-05-23T08:56:42.892Z"
   },
   {
    "duration": 10,
    "start_time": "2022-05-23T08:56:43.032Z"
   },
   {
    "duration": 38,
    "start_time": "2022-05-23T08:56:43.043Z"
   },
   {
    "duration": 77,
    "start_time": "2022-05-23T08:56:43.082Z"
   },
   {
    "duration": 80,
    "start_time": "2022-05-23T08:56:43.161Z"
   },
   {
    "duration": 16,
    "start_time": "2022-05-23T08:56:43.243Z"
   },
   {
    "duration": 15,
    "start_time": "2022-05-23T08:56:43.260Z"
   },
   {
    "duration": 3,
    "start_time": "2022-05-23T08:56:43.277Z"
   },
   {
    "duration": 50,
    "start_time": "2022-05-23T08:56:43.282Z"
   },
   {
    "duration": 14,
    "start_time": "2022-05-23T08:56:43.334Z"
   },
   {
    "duration": 13,
    "start_time": "2022-05-23T08:56:43.350Z"
   },
   {
    "duration": 9,
    "start_time": "2022-05-23T08:56:43.365Z"
   },
   {
    "duration": 10,
    "start_time": "2022-05-23T08:56:43.375Z"
   },
   {
    "duration": 7,
    "start_time": "2022-05-23T08:56:46.788Z"
   },
   {
    "duration": 10,
    "start_time": "2022-05-23T08:56:48.424Z"
   },
   {
    "duration": 7,
    "start_time": "2022-05-23T08:57:16.478Z"
   },
   {
    "duration": 3,
    "start_time": "2022-05-23T08:57:17.214Z"
   },
   {
    "duration": 24,
    "start_time": "2022-05-23T08:57:21.680Z"
   },
   {
    "duration": 27,
    "start_time": "2022-05-23T08:58:27.536Z"
   },
   {
    "duration": 5,
    "start_time": "2022-05-23T08:59:31.378Z"
   },
   {
    "duration": 6,
    "start_time": "2022-05-23T09:01:12.728Z"
   },
   {
    "duration": 4,
    "start_time": "2022-05-23T09:01:13.312Z"
   },
   {
    "duration": 5,
    "start_time": "2022-05-23T09:12:20.635Z"
   },
   {
    "duration": 11,
    "start_time": "2022-05-23T09:12:20.642Z"
   },
   {
    "duration": 5,
    "start_time": "2022-05-23T09:12:20.655Z"
   },
   {
    "duration": 149,
    "start_time": "2022-05-23T09:12:20.662Z"
   },
   {
    "duration": 134,
    "start_time": "2022-05-23T09:12:20.814Z"
   },
   {
    "duration": 144,
    "start_time": "2022-05-23T09:12:20.949Z"
   },
   {
    "duration": 10,
    "start_time": "2022-05-23T09:12:21.094Z"
   },
   {
    "duration": 48,
    "start_time": "2022-05-23T09:12:21.106Z"
   },
   {
    "duration": 42,
    "start_time": "2022-05-23T09:12:21.155Z"
   },
   {
    "duration": 87,
    "start_time": "2022-05-23T09:12:21.199Z"
   },
   {
    "duration": 15,
    "start_time": "2022-05-23T09:12:21.288Z"
   },
   {
    "duration": 15,
    "start_time": "2022-05-23T09:12:21.322Z"
   },
   {
    "duration": 6,
    "start_time": "2022-05-23T09:12:21.338Z"
   },
   {
    "duration": 23,
    "start_time": "2022-05-23T09:12:21.347Z"
   },
   {
    "duration": 15,
    "start_time": "2022-05-23T09:12:21.372Z"
   },
   {
    "duration": 47,
    "start_time": "2022-05-23T09:12:21.389Z"
   },
   {
    "duration": 12,
    "start_time": "2022-05-23T09:12:21.437Z"
   },
   {
    "duration": 11,
    "start_time": "2022-05-23T09:12:21.450Z"
   },
   {
    "duration": 12,
    "start_time": "2022-05-23T09:12:21.463Z"
   },
   {
    "duration": 15,
    "start_time": "2022-05-23T09:12:21.476Z"
   },
   {
    "duration": 42,
    "start_time": "2022-05-23T09:12:21.492Z"
   },
   {
    "duration": 4,
    "start_time": "2022-05-23T09:12:21.536Z"
   },
   {
    "duration": 8,
    "start_time": "2022-05-23T09:12:21.542Z"
   },
   {
    "duration": 7,
    "start_time": "2022-05-23T09:12:21.551Z"
   },
   {
    "duration": 69,
    "start_time": "2022-05-23T09:12:21.559Z"
   },
   {
    "duration": 192,
    "start_time": "2022-05-23T09:12:21.633Z"
   },
   {
    "duration": 0,
    "start_time": "2022-05-23T09:12:21.827Z"
   },
   {
    "duration": 18,
    "start_time": "2022-05-23T09:13:15.103Z"
   },
   {
    "duration": 75,
    "start_time": "2022-05-23T09:13:17.550Z"
   },
   {
    "duration": 20,
    "start_time": "2022-05-23T09:13:23.634Z"
   },
   {
    "duration": 6,
    "start_time": "2022-05-23T09:13:37.480Z"
   },
   {
    "duration": 3,
    "start_time": "2022-05-23T09:13:39.179Z"
   },
   {
    "duration": 34,
    "start_time": "2022-05-23T09:13:59.209Z"
   },
   {
    "duration": 5,
    "start_time": "2022-05-23T09:14:00.942Z"
   },
   {
    "duration": 5,
    "start_time": "2022-05-23T09:14:01.686Z"
   },
   {
    "duration": 4,
    "start_time": "2022-05-23T09:14:02.379Z"
   },
   {
    "duration": 17,
    "start_time": "2022-05-23T09:14:05.908Z"
   },
   {
    "duration": 16,
    "start_time": "2022-05-23T09:14:06.684Z"
   },
   {
    "duration": 14,
    "start_time": "2022-05-23T09:14:07.739Z"
   },
   {
    "duration": 18,
    "start_time": "2022-05-23T09:15:12.984Z"
   },
   {
    "duration": 15,
    "start_time": "2022-05-23T09:15:57.384Z"
   },
   {
    "duration": 15,
    "start_time": "2022-05-23T09:16:00.182Z"
   },
   {
    "duration": 23,
    "start_time": "2022-05-23T09:22:03.168Z"
   },
   {
    "duration": 17,
    "start_time": "2022-05-23T09:24:07.820Z"
   },
   {
    "duration": 2,
    "start_time": "2022-05-23T09:24:20.153Z"
   },
   {
    "duration": 18,
    "start_time": "2022-05-23T09:26:16.735Z"
   },
   {
    "duration": 21,
    "start_time": "2022-05-23T09:28:00.466Z"
   },
   {
    "duration": 20,
    "start_time": "2022-05-23T09:28:05.337Z"
   },
   {
    "duration": 6,
    "start_time": "2022-05-23T09:29:24.764Z"
   },
   {
    "duration": 11,
    "start_time": "2022-05-23T09:29:24.772Z"
   },
   {
    "duration": 7,
    "start_time": "2022-05-23T09:29:24.784Z"
   },
   {
    "duration": 147,
    "start_time": "2022-05-23T09:29:24.792Z"
   },
   {
    "duration": 213,
    "start_time": "2022-05-23T09:29:24.942Z"
   },
   {
    "duration": 221,
    "start_time": "2022-05-23T09:29:25.157Z"
   },
   {
    "duration": 11,
    "start_time": "2022-05-23T09:29:25.380Z"
   },
   {
    "duration": 49,
    "start_time": "2022-05-23T09:29:25.392Z"
   },
   {
    "duration": 45,
    "start_time": "2022-05-23T09:29:25.443Z"
   },
   {
    "duration": 103,
    "start_time": "2022-05-23T09:29:25.490Z"
   },
   {
    "duration": 34,
    "start_time": "2022-05-23T09:29:25.595Z"
   },
   {
    "duration": 21,
    "start_time": "2022-05-23T09:29:25.631Z"
   },
   {
    "duration": 5,
    "start_time": "2022-05-23T09:29:25.653Z"
   },
   {
    "duration": 15,
    "start_time": "2022-05-23T09:29:25.662Z"
   },
   {
    "duration": 18,
    "start_time": "2022-05-23T09:29:25.678Z"
   },
   {
    "duration": 43,
    "start_time": "2022-05-23T09:29:25.698Z"
   },
   {
    "duration": 12,
    "start_time": "2022-05-23T09:29:25.743Z"
   },
   {
    "duration": 10,
    "start_time": "2022-05-23T09:29:25.756Z"
   },
   {
    "duration": 9,
    "start_time": "2022-05-23T09:29:25.768Z"
   },
   {
    "duration": 8,
    "start_time": "2022-05-23T09:29:25.778Z"
   },
   {
    "duration": 71,
    "start_time": "2022-05-23T09:29:25.788Z"
   },
   {
    "duration": 4,
    "start_time": "2022-05-23T09:29:25.860Z"
   },
   {
    "duration": 5,
    "start_time": "2022-05-23T09:29:25.866Z"
   },
   {
    "duration": 6,
    "start_time": "2022-05-23T09:29:25.872Z"
   },
   {
    "duration": 59,
    "start_time": "2022-05-23T09:29:25.879Z"
   },
   {
    "duration": 108,
    "start_time": "2022-05-23T09:29:25.940Z"
   },
   {
    "duration": 115,
    "start_time": "2022-05-23T09:29:26.122Z"
   },
   {
    "duration": 93,
    "start_time": "2022-05-23T09:29:26.239Z"
   },
   {
    "duration": 112,
    "start_time": "2022-05-23T09:29:26.342Z"
   },
   {
    "duration": 20,
    "start_time": "2022-05-23T09:29:26.456Z"
   },
   {
    "duration": 20,
    "start_time": "2022-05-23T09:29:26.478Z"
   },
   {
    "duration": 49,
    "start_time": "2022-05-23T09:29:26.501Z"
   },
   {
    "duration": 15,
    "start_time": "2022-05-23T09:30:42.048Z"
   },
   {
    "duration": 70,
    "start_time": "2022-05-23T09:30:43.262Z"
   },
   {
    "duration": 16,
    "start_time": "2022-05-23T09:31:01.449Z"
   },
   {
    "duration": 25,
    "start_time": "2022-05-23T09:36:08.307Z"
   },
   {
    "duration": 15,
    "start_time": "2022-05-23T09:36:44.801Z"
   },
   {
    "duration": 45,
    "start_time": "2022-05-23T09:37:02.319Z"
   },
   {
    "duration": 1592,
    "start_time": "2022-05-23T16:10:08.401Z"
   },
   {
    "duration": 3,
    "start_time": "2022-05-23T16:10:09.995Z"
   },
   {
    "duration": 9,
    "start_time": "2022-05-23T16:10:10.000Z"
   },
   {
    "duration": 817,
    "start_time": "2022-05-23T16:10:10.011Z"
   },
   {
    "duration": 561,
    "start_time": "2022-05-23T16:10:10.831Z"
   },
   {
    "duration": 529,
    "start_time": "2022-05-23T16:10:11.394Z"
   },
   {
    "duration": 12,
    "start_time": "2022-05-23T16:10:11.925Z"
   },
   {
    "duration": 36,
    "start_time": "2022-05-23T16:10:11.939Z"
   },
   {
    "duration": 41,
    "start_time": "2022-05-23T16:10:11.977Z"
   },
   {
    "duration": 73,
    "start_time": "2022-05-23T16:10:12.020Z"
   },
   {
    "duration": 12,
    "start_time": "2022-05-23T16:10:12.095Z"
   },
   {
    "duration": 17,
    "start_time": "2022-05-23T16:10:12.108Z"
   },
   {
    "duration": 15,
    "start_time": "2022-05-23T16:10:12.126Z"
   },
   {
    "duration": 16,
    "start_time": "2022-05-23T16:10:12.144Z"
   },
   {
    "duration": 14,
    "start_time": "2022-05-23T16:10:12.161Z"
   },
   {
    "duration": 14,
    "start_time": "2022-05-23T16:10:12.176Z"
   },
   {
    "duration": 8,
    "start_time": "2022-05-23T16:10:12.192Z"
   },
   {
    "duration": 49,
    "start_time": "2022-05-23T16:10:12.201Z"
   },
   {
    "duration": 22,
    "start_time": "2022-05-23T16:10:12.251Z"
   },
   {
    "duration": 9,
    "start_time": "2022-05-23T16:10:12.274Z"
   },
   {
    "duration": 32,
    "start_time": "2022-05-23T16:10:12.284Z"
   },
   {
    "duration": 4,
    "start_time": "2022-05-23T16:10:12.317Z"
   },
   {
    "duration": 6,
    "start_time": "2022-05-23T16:10:12.323Z"
   },
   {
    "duration": 13,
    "start_time": "2022-05-23T16:10:12.330Z"
   },
   {
    "duration": 18,
    "start_time": "2022-05-23T16:10:12.344Z"
   },
   {
    "duration": 180,
    "start_time": "2022-05-23T16:10:12.364Z"
   },
   {
    "duration": 109,
    "start_time": "2022-05-23T16:10:12.547Z"
   },
   {
    "duration": 84,
    "start_time": "2022-05-23T16:10:12.659Z"
   },
   {
    "duration": 119,
    "start_time": "2022-05-23T16:10:12.745Z"
   },
   {
    "duration": 16,
    "start_time": "2022-05-23T16:10:12.866Z"
   },
   {
    "duration": 15,
    "start_time": "2022-05-23T16:10:12.884Z"
   },
   {
    "duration": 42,
    "start_time": "2022-05-23T16:10:12.901Z"
   },
   {
    "duration": 107,
    "start_time": "2022-05-23T16:10:12.945Z"
   },
   {
    "duration": 200,
    "start_time": "2022-05-23T16:10:13.055Z"
   },
   {
    "duration": 3,
    "start_time": "2022-05-23T16:10:22.657Z"
   },
   {
    "duration": 3,
    "start_time": "2022-05-23T16:10:32.659Z"
   },
   {
    "duration": 3,
    "start_time": "2022-05-23T16:10:42.862Z"
   },
   {
    "duration": 3,
    "start_time": "2022-05-23T16:14:14.504Z"
   },
   {
    "duration": 4,
    "start_time": "2022-05-23T16:14:21.710Z"
   },
   {
    "duration": 177,
    "start_time": "2022-05-23T16:20:16.351Z"
   },
   {
    "duration": 6,
    "start_time": "2022-05-23T16:20:31.459Z"
   },
   {
    "duration": 147,
    "start_time": "2022-05-23T18:37:33.000Z"
   },
   {
    "duration": 6,
    "start_time": "2022-05-23T18:37:46.901Z"
   },
   {
    "duration": 7,
    "start_time": "2022-05-23T18:37:46.909Z"
   },
   {
    "duration": 21,
    "start_time": "2022-05-23T18:37:46.919Z"
   },
   {
    "duration": 217,
    "start_time": "2022-05-23T18:37:46.943Z"
   },
   {
    "duration": 139,
    "start_time": "2022-05-23T18:37:47.163Z"
   },
   {
    "duration": 139,
    "start_time": "2022-05-23T18:37:47.303Z"
   },
   {
    "duration": 9,
    "start_time": "2022-05-23T18:37:47.444Z"
   },
   {
    "duration": 42,
    "start_time": "2022-05-23T18:37:47.454Z"
   },
   {
    "duration": 62,
    "start_time": "2022-05-23T18:37:47.498Z"
   },
   {
    "duration": 87,
    "start_time": "2022-05-23T18:37:47.561Z"
   },
   {
    "duration": 13,
    "start_time": "2022-05-23T18:37:47.649Z"
   },
   {
    "duration": 17,
    "start_time": "2022-05-23T18:37:47.663Z"
   },
   {
    "duration": 4,
    "start_time": "2022-05-23T18:37:47.682Z"
   },
   {
    "duration": 17,
    "start_time": "2022-05-23T18:37:47.688Z"
   },
   {
    "duration": 40,
    "start_time": "2022-05-23T18:37:47.707Z"
   },
   {
    "duration": 15,
    "start_time": "2022-05-23T18:37:47.749Z"
   },
   {
    "duration": 13,
    "start_time": "2022-05-23T18:37:47.766Z"
   },
   {
    "duration": 14,
    "start_time": "2022-05-23T18:37:47.780Z"
   },
   {
    "duration": 10,
    "start_time": "2022-05-23T18:37:47.795Z"
   },
   {
    "duration": 5,
    "start_time": "2022-05-23T18:37:47.807Z"
   },
   {
    "duration": 28,
    "start_time": "2022-05-23T18:37:47.844Z"
   },
   {
    "duration": 5,
    "start_time": "2022-05-23T18:37:47.874Z"
   },
   {
    "duration": 11,
    "start_time": "2022-05-23T18:37:47.881Z"
   },
   {
    "duration": 6,
    "start_time": "2022-05-23T18:37:47.894Z"
   },
   {
    "duration": 43,
    "start_time": "2022-05-23T18:37:47.902Z"
   },
   {
    "duration": 115,
    "start_time": "2022-05-23T18:37:47.946Z"
   },
   {
    "duration": 192,
    "start_time": "2022-05-23T18:37:48.063Z"
   },
   {
    "duration": 83,
    "start_time": "2022-05-23T18:37:48.257Z"
   },
   {
    "duration": 119,
    "start_time": "2022-05-23T18:37:48.343Z"
   },
   {
    "duration": 20,
    "start_time": "2022-05-23T18:37:48.464Z"
   },
   {
    "duration": 19,
    "start_time": "2022-05-23T18:37:48.486Z"
   },
   {
    "duration": 135,
    "start_time": "2022-05-23T18:37:48.507Z"
   },
   {
    "duration": 197,
    "start_time": "2022-05-23T18:37:48.644Z"
   },
   {
    "duration": 109,
    "start_time": "2022-05-23T18:37:48.844Z"
   },
   {
    "duration": 88,
    "start_time": "2022-05-23T18:37:48.956Z"
   },
   {
    "duration": 104,
    "start_time": "2022-05-23T18:37:49.046Z"
   },
   {
    "duration": 8,
    "start_time": "2022-05-23T18:37:49.152Z"
   },
   {
    "duration": 11,
    "start_time": "2022-05-23T18:37:54.511Z"
   },
   {
    "duration": 15,
    "start_time": "2022-05-23T18:40:29.397Z"
   },
   {
    "duration": 12,
    "start_time": "2022-05-23T18:41:13.902Z"
   },
   {
    "duration": 272,
    "start_time": "2022-05-23T18:41:54.411Z"
   },
   {
    "duration": 39,
    "start_time": "2022-05-23T18:42:00.911Z"
   },
   {
    "duration": 7,
    "start_time": "2022-05-23T18:52:59.157Z"
   },
   {
    "duration": 18,
    "start_time": "2022-05-23T18:52:59.166Z"
   },
   {
    "duration": 6,
    "start_time": "2022-05-23T18:52:59.187Z"
   },
   {
    "duration": 185,
    "start_time": "2022-05-23T18:52:59.196Z"
   },
   {
    "duration": 156,
    "start_time": "2022-05-23T18:52:59.383Z"
   },
   {
    "duration": 147,
    "start_time": "2022-05-23T18:52:59.541Z"
   },
   {
    "duration": 11,
    "start_time": "2022-05-23T18:52:59.690Z"
   },
   {
    "duration": 56,
    "start_time": "2022-05-23T18:52:59.703Z"
   },
   {
    "duration": 47,
    "start_time": "2022-05-23T18:52:59.761Z"
   },
   {
    "duration": 119,
    "start_time": "2022-05-23T18:52:59.812Z"
   },
   {
    "duration": 18,
    "start_time": "2022-05-23T18:52:59.942Z"
   },
   {
    "duration": 16,
    "start_time": "2022-05-23T18:52:59.962Z"
   },
   {
    "duration": 10,
    "start_time": "2022-05-23T18:52:59.980Z"
   },
   {
    "duration": 38,
    "start_time": "2022-05-23T18:52:59.993Z"
   },
   {
    "duration": 20,
    "start_time": "2022-05-23T18:53:00.042Z"
   },
   {
    "duration": 17,
    "start_time": "2022-05-23T18:53:00.064Z"
   },
   {
    "duration": 13,
    "start_time": "2022-05-23T18:53:04.679Z"
   },
   {
    "duration": 14,
    "start_time": "2022-05-23T18:54:09.444Z"
   },
   {
    "duration": 14,
    "start_time": "2022-05-23T18:54:33.501Z"
   },
   {
    "duration": 14,
    "start_time": "2022-05-23T18:55:00.756Z"
   },
   {
    "duration": 14,
    "start_time": "2022-05-23T18:56:32.689Z"
   },
   {
    "duration": 17,
    "start_time": "2022-05-23T19:23:34.774Z"
   },
   {
    "duration": 12,
    "start_time": "2022-05-23T19:23:55.468Z"
   },
   {
    "duration": 10,
    "start_time": "2022-05-23T19:25:47.988Z"
   },
   {
    "duration": 5,
    "start_time": "2022-05-23T19:26:36.345Z"
   },
   {
    "duration": 12,
    "start_time": "2022-05-23T19:27:09.761Z"
   },
   {
    "duration": 9,
    "start_time": "2022-05-23T19:27:11.216Z"
   },
   {
    "duration": 5,
    "start_time": "2022-05-23T19:41:58.360Z"
   },
   {
    "duration": 5,
    "start_time": "2022-05-23T19:59:07.617Z"
   },
   {
    "duration": 5,
    "start_time": "2022-05-23T20:00:02.033Z"
   },
   {
    "duration": 5,
    "start_time": "2022-05-23T20:00:28.783Z"
   },
   {
    "duration": 8,
    "start_time": "2022-05-23T20:14:32.240Z"
   },
   {
    "duration": 1562,
    "start_time": "2022-05-24T05:49:32.969Z"
   },
   {
    "duration": 3,
    "start_time": "2022-05-24T05:49:34.533Z"
   },
   {
    "duration": 6,
    "start_time": "2022-05-24T05:49:34.538Z"
   },
   {
    "duration": 403,
    "start_time": "2022-05-24T05:49:34.545Z"
   },
   {
    "duration": 211,
    "start_time": "2022-05-24T05:49:34.950Z"
   },
   {
    "duration": 209,
    "start_time": "2022-05-24T05:49:35.163Z"
   },
   {
    "duration": 18,
    "start_time": "2022-05-24T05:49:35.374Z"
   },
   {
    "duration": 40,
    "start_time": "2022-05-24T05:49:35.394Z"
   },
   {
    "duration": 46,
    "start_time": "2022-05-24T05:49:35.436Z"
   },
   {
    "duration": 99,
    "start_time": "2022-05-24T05:49:35.483Z"
   },
   {
    "duration": 13,
    "start_time": "2022-05-24T05:49:35.584Z"
   },
   {
    "duration": 31,
    "start_time": "2022-05-24T05:49:35.598Z"
   },
   {
    "duration": 6,
    "start_time": "2022-05-24T05:49:35.631Z"
   },
   {
    "duration": 21,
    "start_time": "2022-05-24T05:49:35.640Z"
   },
   {
    "duration": 17,
    "start_time": "2022-05-24T05:49:35.663Z"
   },
   {
    "duration": 47,
    "start_time": "2022-05-24T05:49:35.682Z"
   },
   {
    "duration": 16,
    "start_time": "2022-05-24T05:49:35.731Z"
   },
   {
    "duration": 18,
    "start_time": "2022-05-24T05:49:35.749Z"
   },
   {
    "duration": 23,
    "start_time": "2022-05-24T05:49:35.769Z"
   },
   {
    "duration": 35,
    "start_time": "2022-05-24T05:49:35.794Z"
   },
   {
    "duration": 32,
    "start_time": "2022-05-24T05:49:35.831Z"
   },
   {
    "duration": 5,
    "start_time": "2022-05-24T05:49:35.865Z"
   },
   {
    "duration": 6,
    "start_time": "2022-05-24T05:49:35.873Z"
   },
   {
    "duration": 9,
    "start_time": "2022-05-24T05:49:35.880Z"
   },
   {
    "duration": 98,
    "start_time": "2022-05-24T05:49:35.926Z"
   },
   {
    "duration": 103,
    "start_time": "2022-05-24T05:49:36.026Z"
   },
   {
    "duration": 102,
    "start_time": "2022-05-24T05:49:36.131Z"
   },
   {
    "duration": 188,
    "start_time": "2022-05-24T05:49:36.235Z"
   },
   {
    "duration": 21,
    "start_time": "2022-05-24T05:49:36.425Z"
   },
   {
    "duration": 19,
    "start_time": "2022-05-24T05:49:36.448Z"
   },
   {
    "duration": 21,
    "start_time": "2022-05-24T05:49:36.469Z"
   },
   {
    "duration": 50,
    "start_time": "2022-05-24T05:49:36.492Z"
   },
   {
    "duration": 178,
    "start_time": "2022-05-24T05:49:36.544Z"
   },
   {
    "duration": 102,
    "start_time": "2022-05-24T05:49:36.725Z"
   },
   {
    "duration": 94,
    "start_time": "2022-05-24T05:49:36.829Z"
   },
   {
    "duration": 5,
    "start_time": "2022-05-24T05:49:36.926Z"
   },
   {
    "duration": 94,
    "start_time": "2022-05-24T05:49:36.933Z"
   },
   {
    "duration": 60,
    "start_time": "2022-05-24T05:49:37.029Z"
   },
   {
    "duration": 148,
    "start_time": "2022-05-24T05:49:37.092Z"
   },
   {
    "duration": 12,
    "start_time": "2022-05-24T05:51:18.142Z"
   },
   {
    "duration": 7,
    "start_time": "2022-05-24T05:51:28.173Z"
   },
   {
    "duration": 6,
    "start_time": "2022-05-24T05:54:50.195Z"
   },
   {
    "duration": 6,
    "start_time": "2022-05-24T05:55:29.012Z"
   },
   {
    "duration": 12,
    "start_time": "2022-05-24T05:55:46.111Z"
   },
   {
    "duration": 24,
    "start_time": "2022-05-24T05:56:48.518Z"
   },
   {
    "duration": 5,
    "start_time": "2022-05-24T05:56:57.149Z"
   },
   {
    "duration": 14,
    "start_time": "2022-05-24T05:57:02.552Z"
   },
   {
    "duration": 16,
    "start_time": "2022-05-24T05:58:23.503Z"
   },
   {
    "duration": 7,
    "start_time": "2022-05-24T05:58:34.367Z"
   },
   {
    "duration": 719,
    "start_time": "2022-05-24T06:06:10.305Z"
   },
   {
    "duration": 706,
    "start_time": "2022-05-24T06:06:20.620Z"
   },
   {
    "duration": 5,
    "start_time": "2022-05-24T06:07:42.170Z"
   },
   {
    "duration": 293,
    "start_time": "2022-05-24T06:10:30.379Z"
   },
   {
    "duration": 294,
    "start_time": "2022-05-24T06:11:21.061Z"
   },
   {
    "duration": 7,
    "start_time": "2022-05-24T06:13:06.477Z"
   },
   {
    "duration": 7,
    "start_time": "2022-05-24T06:13:21.814Z"
   },
   {
    "duration": 291,
    "start_time": "2022-05-24T06:13:24.766Z"
   },
   {
    "duration": 302,
    "start_time": "2022-05-24T06:13:32.863Z"
   },
   {
    "duration": 45,
    "start_time": "2022-05-24T06:20:42.998Z"
   },
   {
    "duration": 346,
    "start_time": "2022-05-24T06:21:05.372Z"
   },
   {
    "duration": 6,
    "start_time": "2022-05-24T06:21:23.005Z"
   },
   {
    "duration": 11,
    "start_time": "2022-05-24T06:22:07.100Z"
   },
   {
    "duration": 11,
    "start_time": "2022-05-24T06:22:12.210Z"
   },
   {
    "duration": 3,
    "start_time": "2022-05-24T06:24:40.338Z"
   },
   {
    "duration": 19,
    "start_time": "2022-05-24T06:25:18.845Z"
   },
   {
    "duration": 8,
    "start_time": "2022-05-24T06:25:39.498Z"
   },
   {
    "duration": 6,
    "start_time": "2022-05-24T06:26:17.941Z"
   },
   {
    "duration": 7,
    "start_time": "2022-05-24T06:26:27.450Z"
   },
   {
    "duration": 9,
    "start_time": "2022-05-24T06:36:13.179Z"
   },
   {
    "duration": 4,
    "start_time": "2022-05-24T06:36:16.227Z"
   },
   {
    "duration": 6,
    "start_time": "2022-05-24T06:36:17.037Z"
   },
   {
    "duration": 634,
    "start_time": "2022-05-24T06:37:58.442Z"
   },
   {
    "duration": 594,
    "start_time": "2022-05-24T06:39:00.044Z"
   },
   {
    "duration": 18,
    "start_time": "2022-05-24T06:39:42.613Z"
   },
   {
    "duration": 576,
    "start_time": "2022-05-24T06:39:51.213Z"
   },
   {
    "duration": 589,
    "start_time": "2022-05-24T06:40:08.182Z"
   },
   {
    "duration": 595,
    "start_time": "2022-05-24T06:40:47.744Z"
   },
   {
    "duration": 625,
    "start_time": "2022-05-24T06:40:55.769Z"
   },
   {
    "duration": 5,
    "start_time": "2022-05-24T07:12:36.375Z"
   },
   {
    "duration": 10,
    "start_time": "2022-05-24T07:12:36.382Z"
   },
   {
    "duration": 6,
    "start_time": "2022-05-24T07:12:36.393Z"
   },
   {
    "duration": 151,
    "start_time": "2022-05-24T07:12:36.401Z"
   },
   {
    "duration": 135,
    "start_time": "2022-05-24T07:12:36.554Z"
   },
   {
    "duration": 147,
    "start_time": "2022-05-24T07:12:36.691Z"
   },
   {
    "duration": 9,
    "start_time": "2022-05-24T07:12:36.839Z"
   },
   {
    "duration": 40,
    "start_time": "2022-05-24T07:12:36.850Z"
   },
   {
    "duration": 71,
    "start_time": "2022-05-24T07:12:36.892Z"
   },
   {
    "duration": 99,
    "start_time": "2022-05-24T07:12:36.967Z"
   },
   {
    "duration": 15,
    "start_time": "2022-05-24T07:12:37.070Z"
   },
   {
    "duration": 38,
    "start_time": "2022-05-24T07:12:37.087Z"
   },
   {
    "duration": 5,
    "start_time": "2022-05-24T07:12:37.127Z"
   },
   {
    "duration": 26,
    "start_time": "2022-05-24T07:12:37.133Z"
   },
   {
    "duration": 15,
    "start_time": "2022-05-24T07:12:37.162Z"
   },
   {
    "duration": 52,
    "start_time": "2022-05-24T07:12:37.179Z"
   },
   {
    "duration": 12,
    "start_time": "2022-05-24T07:12:37.233Z"
   },
   {
    "duration": 18,
    "start_time": "2022-05-24T07:12:37.247Z"
   },
   {
    "duration": 19,
    "start_time": "2022-05-24T07:12:37.267Z"
   },
   {
    "duration": 49,
    "start_time": "2022-05-24T07:12:37.288Z"
   },
   {
    "duration": 27,
    "start_time": "2022-05-24T07:12:37.339Z"
   },
   {
    "duration": 5,
    "start_time": "2022-05-24T07:12:37.368Z"
   },
   {
    "duration": 10,
    "start_time": "2022-05-24T07:12:37.374Z"
   },
   {
    "duration": 8,
    "start_time": "2022-05-24T07:12:37.386Z"
   },
   {
    "duration": 16,
    "start_time": "2022-05-24T07:12:37.425Z"
   },
   {
    "duration": 190,
    "start_time": "2022-05-24T07:12:37.443Z"
   },
   {
    "duration": 201,
    "start_time": "2022-05-24T07:12:37.636Z"
   },
   {
    "duration": 5,
    "start_time": "2022-05-24T07:12:37.924Z"
   },
   {
    "duration": 117,
    "start_time": "2022-05-24T07:12:37.931Z"
   },
   {
    "duration": 18,
    "start_time": "2022-05-24T07:12:38.050Z"
   },
   {
    "duration": 27,
    "start_time": "2022-05-24T07:12:38.070Z"
   },
   {
    "duration": 26,
    "start_time": "2022-05-24T07:12:38.124Z"
   },
   {
    "duration": 106,
    "start_time": "2022-05-24T07:12:38.225Z"
   },
   {
    "duration": 195,
    "start_time": "2022-05-24T07:12:38.333Z"
   },
   {
    "duration": 99,
    "start_time": "2022-05-24T07:12:38.531Z"
   },
   {
    "duration": 8,
    "start_time": "2022-05-24T07:12:38.632Z"
   },
   {
    "duration": 6,
    "start_time": "2022-05-24T07:12:38.642Z"
   },
   {
    "duration": 10,
    "start_time": "2022-05-24T07:12:38.650Z"
   },
   {
    "duration": 63,
    "start_time": "2022-05-24T07:12:38.662Z"
   },
   {
    "duration": 7,
    "start_time": "2022-05-24T07:12:38.726Z"
   },
   {
    "duration": 8,
    "start_time": "2022-05-24T07:12:38.734Z"
   },
   {
    "duration": 12,
    "start_time": "2022-05-24T07:12:38.743Z"
   },
   {
    "duration": 4,
    "start_time": "2022-05-24T07:12:38.756Z"
   },
   {
    "duration": 7,
    "start_time": "2022-05-24T07:12:38.761Z"
   },
   {
    "duration": 5,
    "start_time": "2022-05-24T07:12:41.180Z"
   },
   {
    "duration": 13,
    "start_time": "2022-05-24T07:12:47.021Z"
   },
   {
    "duration": 15,
    "start_time": "2022-05-24T07:22:23.667Z"
   },
   {
    "duration": 12,
    "start_time": "2022-05-24T07:22:52.704Z"
   },
   {
    "duration": 6,
    "start_time": "2022-05-24T07:24:03.880Z"
   },
   {
    "duration": 15,
    "start_time": "2022-05-24T07:26:59.557Z"
   },
   {
    "duration": 21,
    "start_time": "2022-05-24T07:27:13.954Z"
   },
   {
    "duration": 4,
    "start_time": "2022-05-24T07:27:48.419Z"
   },
   {
    "duration": 4,
    "start_time": "2022-05-24T07:28:01.154Z"
   },
   {
    "duration": 21,
    "start_time": "2022-05-24T07:28:01.749Z"
   },
   {
    "duration": 3,
    "start_time": "2022-05-24T07:32:39.662Z"
   },
   {
    "duration": 3,
    "start_time": "2022-05-24T07:32:43.519Z"
   },
   {
    "duration": 26,
    "start_time": "2022-05-24T07:32:44.354Z"
   },
   {
    "duration": 7,
    "start_time": "2022-05-24T07:48:31.816Z"
   },
   {
    "duration": 17,
    "start_time": "2022-05-24T07:48:54.490Z"
   },
   {
    "duration": 8,
    "start_time": "2022-05-24T07:49:02.949Z"
   },
   {
    "duration": 9,
    "start_time": "2022-05-24T08:03:21.557Z"
   },
   {
    "duration": 6,
    "start_time": "2022-05-24T08:06:26.060Z"
   },
   {
    "duration": 6,
    "start_time": "2022-05-24T08:08:15.750Z"
   },
   {
    "duration": 33,
    "start_time": "2022-05-24T08:16:38.673Z"
   },
   {
    "duration": 10,
    "start_time": "2022-05-24T08:16:44.757Z"
   },
   {
    "duration": 22,
    "start_time": "2022-05-24T08:29:39.824Z"
   },
   {
    "duration": 12,
    "start_time": "2022-05-24T08:30:08.092Z"
   },
   {
    "duration": 4,
    "start_time": "2022-05-24T08:30:34.790Z"
   },
   {
    "duration": 4,
    "start_time": "2022-05-24T08:30:35.359Z"
   },
   {
    "duration": 4,
    "start_time": "2022-05-24T08:30:36.193Z"
   },
   {
    "duration": 6,
    "start_time": "2022-05-24T08:31:03.146Z"
   },
   {
    "duration": 8,
    "start_time": "2022-05-24T08:31:05.399Z"
   },
   {
    "duration": 8,
    "start_time": "2022-05-24T08:31:12.691Z"
   },
   {
    "duration": 6,
    "start_time": "2022-05-24T08:31:13.572Z"
   },
   {
    "duration": 5,
    "start_time": "2022-05-24T08:31:14.553Z"
   },
   {
    "duration": 31,
    "start_time": "2022-05-24T08:31:24.814Z"
   },
   {
    "duration": 15,
    "start_time": "2022-05-24T08:31:30.777Z"
   },
   {
    "duration": 579,
    "start_time": "2022-05-24T08:34:20.012Z"
   },
   {
    "duration": 560,
    "start_time": "2022-05-24T08:34:26.472Z"
   },
   {
    "duration": 642,
    "start_time": "2022-05-24T08:34:58.977Z"
   },
   {
    "duration": 628,
    "start_time": "2022-05-24T08:35:16.759Z"
   },
   {
    "duration": 579,
    "start_time": "2022-05-24T08:35:26.690Z"
   },
   {
    "duration": 666,
    "start_time": "2022-05-24T08:35:35.110Z"
   },
   {
    "duration": 585,
    "start_time": "2022-05-24T08:35:46.430Z"
   },
   {
    "duration": 698,
    "start_time": "2022-05-24T08:37:09.567Z"
   },
   {
    "duration": 709,
    "start_time": "2022-05-24T08:37:39.533Z"
   },
   {
    "duration": 638,
    "start_time": "2022-05-24T08:37:49.038Z"
   },
   {
    "duration": 630,
    "start_time": "2022-05-24T08:37:57.809Z"
   },
   {
    "duration": 9,
    "start_time": "2022-05-24T08:45:04.734Z"
   },
   {
    "duration": 8,
    "start_time": "2022-05-24T08:45:22.282Z"
   },
   {
    "duration": 14,
    "start_time": "2022-05-24T08:45:33.031Z"
   },
   {
    "duration": 18,
    "start_time": "2022-05-24T08:45:34.921Z"
   },
   {
    "duration": 10,
    "start_time": "2022-05-24T08:48:51.116Z"
   },
   {
    "duration": 10,
    "start_time": "2022-05-24T08:49:01.354Z"
   },
   {
    "duration": 6,
    "start_time": "2022-05-24T08:56:39.158Z"
   },
   {
    "duration": 5,
    "start_time": "2022-05-24T08:56:40.832Z"
   },
   {
    "duration": 6,
    "start_time": "2022-05-24T08:57:06.757Z"
   },
   {
    "duration": 57,
    "start_time": "2022-05-24T12:30:55.795Z"
   },
   {
    "duration": 1620,
    "start_time": "2022-05-24T12:31:00.264Z"
   },
   {
    "duration": 3,
    "start_time": "2022-05-24T12:31:01.887Z"
   },
   {
    "duration": 8,
    "start_time": "2022-05-24T12:31:01.891Z"
   },
   {
    "duration": 400,
    "start_time": "2022-05-24T12:31:01.902Z"
   },
   {
    "duration": 206,
    "start_time": "2022-05-24T12:31:02.304Z"
   },
   {
    "duration": 221,
    "start_time": "2022-05-24T12:31:02.512Z"
   },
   {
    "duration": 12,
    "start_time": "2022-05-24T12:31:02.735Z"
   },
   {
    "duration": 42,
    "start_time": "2022-05-24T12:31:02.748Z"
   },
   {
    "duration": 42,
    "start_time": "2022-05-24T12:31:02.791Z"
   },
   {
    "duration": 108,
    "start_time": "2022-05-24T12:31:02.836Z"
   },
   {
    "duration": 24,
    "start_time": "2022-05-24T12:31:02.946Z"
   },
   {
    "duration": 13,
    "start_time": "2022-05-24T12:31:02.972Z"
   },
   {
    "duration": 5,
    "start_time": "2022-05-24T12:31:02.986Z"
   },
   {
    "duration": 19,
    "start_time": "2022-05-24T12:31:02.992Z"
   },
   {
    "duration": 14,
    "start_time": "2022-05-24T12:31:03.013Z"
   },
   {
    "duration": 46,
    "start_time": "2022-05-24T12:31:03.029Z"
   },
   {
    "duration": 12,
    "start_time": "2022-05-24T12:31:03.077Z"
   },
   {
    "duration": 21,
    "start_time": "2022-05-24T12:31:03.091Z"
   },
   {
    "duration": 23,
    "start_time": "2022-05-24T12:31:03.113Z"
   },
   {
    "duration": 28,
    "start_time": "2022-05-24T12:31:03.138Z"
   },
   {
    "duration": 32,
    "start_time": "2022-05-24T12:31:03.167Z"
   },
   {
    "duration": 3,
    "start_time": "2022-05-24T12:31:03.201Z"
   },
   {
    "duration": 6,
    "start_time": "2022-05-24T12:31:03.206Z"
   },
   {
    "duration": 6,
    "start_time": "2022-05-24T12:31:03.214Z"
   },
   {
    "duration": 51,
    "start_time": "2022-05-24T12:31:03.221Z"
   },
   {
    "duration": 90,
    "start_time": "2022-05-24T12:31:03.274Z"
   },
   {
    "duration": 118,
    "start_time": "2022-05-24T12:31:03.366Z"
   },
   {
    "duration": 175,
    "start_time": "2022-05-24T12:31:03.490Z"
   },
   {
    "duration": 104,
    "start_time": "2022-05-24T12:31:03.667Z"
   },
   {
    "duration": 23,
    "start_time": "2022-05-24T12:31:03.773Z"
   },
   {
    "duration": 19,
    "start_time": "2022-05-24T12:31:03.798Z"
   },
   {
    "duration": 18,
    "start_time": "2022-05-24T12:31:03.819Z"
   },
   {
    "duration": 49,
    "start_time": "2022-05-24T12:31:03.839Z"
   },
   {
    "duration": 178,
    "start_time": "2022-05-24T12:31:03.890Z"
   },
   {
    "duration": 111,
    "start_time": "2022-05-24T12:31:04.071Z"
   },
   {
    "duration": 84,
    "start_time": "2022-05-24T12:31:04.185Z"
   },
   {
    "duration": 92,
    "start_time": "2022-05-24T12:31:04.274Z"
   },
   {
    "duration": 4,
    "start_time": "2022-05-24T12:31:04.367Z"
   },
   {
    "duration": 11,
    "start_time": "2022-05-24T12:31:04.372Z"
   },
   {
    "duration": 10,
    "start_time": "2022-05-24T12:31:04.385Z"
   },
   {
    "duration": 6,
    "start_time": "2022-05-24T12:31:04.397Z"
   },
   {
    "duration": 6,
    "start_time": "2022-05-24T12:31:04.405Z"
   },
   {
    "duration": 6,
    "start_time": "2022-05-24T12:31:04.412Z"
   },
   {
    "duration": 45,
    "start_time": "2022-05-24T12:31:04.420Z"
   },
   {
    "duration": 11,
    "start_time": "2022-05-24T12:31:04.467Z"
   },
   {
    "duration": 10,
    "start_time": "2022-05-24T12:31:04.479Z"
   },
   {
    "duration": 17,
    "start_time": "2022-05-24T12:31:04.491Z"
   },
   {
    "duration": 6,
    "start_time": "2022-05-24T12:31:04.510Z"
   },
   {
    "duration": 16,
    "start_time": "2022-05-24T12:31:04.517Z"
   },
   {
    "duration": 8,
    "start_time": "2022-05-24T12:31:04.534Z"
   },
   {
    "duration": 6,
    "start_time": "2022-05-24T12:31:04.543Z"
   },
   {
    "duration": 15,
    "start_time": "2022-05-24T12:31:04.551Z"
   },
   {
    "duration": 0,
    "start_time": "2022-05-24T12:31:04.568Z"
   },
   {
    "duration": 6,
    "start_time": "2022-05-24T12:31:08.658Z"
   },
   {
    "duration": 10,
    "start_time": "2022-05-24T12:35:21.184Z"
   },
   {
    "duration": 7,
    "start_time": "2022-05-24T12:38:14.115Z"
   },
   {
    "duration": 7,
    "start_time": "2022-05-24T12:38:15.295Z"
   },
   {
    "duration": 13,
    "start_time": "2022-05-24T12:38:17.044Z"
   },
   {
    "duration": 11,
    "start_time": "2022-05-24T12:38:29.022Z"
   },
   {
    "duration": 9,
    "start_time": "2022-05-24T12:39:07.974Z"
   },
   {
    "duration": 76,
    "start_time": "2022-05-24T12:41:07.759Z"
   },
   {
    "duration": 586,
    "start_time": "2022-05-24T12:41:54.872Z"
   },
   {
    "duration": 622,
    "start_time": "2022-05-24T12:42:12.707Z"
   },
   {
    "duration": 630,
    "start_time": "2022-05-24T12:42:14.066Z"
   },
   {
    "duration": 100,
    "start_time": "2022-05-24T12:43:01.921Z"
   },
   {
    "duration": 42,
    "start_time": "2022-05-24T12:43:48.966Z"
   },
   {
    "duration": 13,
    "start_time": "2022-05-24T12:43:55.843Z"
   },
   {
    "duration": 8,
    "start_time": "2022-05-24T12:44:25.273Z"
   },
   {
    "duration": 33,
    "start_time": "2022-05-24T12:45:13.483Z"
   },
   {
    "duration": 3,
    "start_time": "2022-05-24T12:47:50.338Z"
   },
   {
    "duration": 92,
    "start_time": "2022-05-24T12:48:10.764Z"
   },
   {
    "duration": 1628,
    "start_time": "2022-05-24T19:32:59.758Z"
   },
   {
    "duration": 2,
    "start_time": "2022-05-24T19:33:01.388Z"
   },
   {
    "duration": 31,
    "start_time": "2022-05-24T19:33:01.392Z"
   },
   {
    "duration": 418,
    "start_time": "2022-05-24T19:33:01.425Z"
   },
   {
    "duration": 212,
    "start_time": "2022-05-24T19:33:01.845Z"
   },
   {
    "duration": 221,
    "start_time": "2022-05-24T19:33:02.059Z"
   },
   {
    "duration": 15,
    "start_time": "2022-05-24T19:33:02.282Z"
   },
   {
    "duration": 49,
    "start_time": "2022-05-24T19:33:02.298Z"
   },
   {
    "duration": 46,
    "start_time": "2022-05-24T19:33:02.349Z"
   },
   {
    "duration": 73,
    "start_time": "2022-05-24T19:33:02.398Z"
   },
   {
    "duration": 12,
    "start_time": "2022-05-24T19:33:02.473Z"
   },
   {
    "duration": 32,
    "start_time": "2022-05-24T19:33:02.487Z"
   },
   {
    "duration": 20,
    "start_time": "2022-05-24T19:33:02.521Z"
   },
   {
    "duration": 50,
    "start_time": "2022-05-24T19:33:02.543Z"
   },
   {
    "duration": 65,
    "start_time": "2022-05-24T19:33:02.596Z"
   },
   {
    "duration": 20,
    "start_time": "2022-05-24T19:33:02.663Z"
   },
   {
    "duration": 55,
    "start_time": "2022-05-24T19:33:02.685Z"
   },
   {
    "duration": 26,
    "start_time": "2022-05-24T19:33:02.742Z"
   },
   {
    "duration": 29,
    "start_time": "2022-05-24T19:33:02.769Z"
   },
   {
    "duration": 25,
    "start_time": "2022-05-24T19:33:02.800Z"
   },
   {
    "duration": 37,
    "start_time": "2022-05-24T19:33:02.827Z"
   },
   {
    "duration": 5,
    "start_time": "2022-05-24T19:33:02.865Z"
   },
   {
    "duration": 6,
    "start_time": "2022-05-24T19:33:02.872Z"
   },
   {
    "duration": 9,
    "start_time": "2022-05-24T19:33:02.880Z"
   },
   {
    "duration": 63,
    "start_time": "2022-05-24T19:33:02.890Z"
   },
   {
    "duration": 3,
    "start_time": "2022-05-24T19:33:02.955Z"
   },
   {
    "duration": 114,
    "start_time": "2022-05-24T19:33:02.960Z"
   },
   {
    "duration": 174,
    "start_time": "2022-05-24T19:33:03.079Z"
   },
   {
    "duration": 105,
    "start_time": "2022-05-24T19:33:03.255Z"
   },
   {
    "duration": 23,
    "start_time": "2022-05-24T19:33:03.361Z"
   },
   {
    "duration": 18,
    "start_time": "2022-05-24T19:33:03.385Z"
   },
   {
    "duration": 19,
    "start_time": "2022-05-24T19:33:03.405Z"
   },
   {
    "duration": 127,
    "start_time": "2022-05-24T19:33:03.425Z"
   },
   {
    "duration": 102,
    "start_time": "2022-05-24T19:33:03.554Z"
   },
   {
    "duration": 196,
    "start_time": "2022-05-24T19:33:03.658Z"
   },
   {
    "duration": 109,
    "start_time": "2022-05-24T19:33:03.856Z"
   },
   {
    "duration": 7,
    "start_time": "2022-05-24T19:33:03.967Z"
   },
   {
    "duration": 11,
    "start_time": "2022-05-24T19:33:03.976Z"
   },
   {
    "duration": 19,
    "start_time": "2022-05-24T19:33:03.988Z"
   },
   {
    "duration": 7,
    "start_time": "2022-05-24T19:33:04.052Z"
   },
   {
    "duration": 15,
    "start_time": "2022-05-24T19:33:04.061Z"
   },
   {
    "duration": 6,
    "start_time": "2022-05-24T19:33:04.078Z"
   },
   {
    "duration": 17,
    "start_time": "2022-05-24T19:33:04.085Z"
   },
   {
    "duration": 7,
    "start_time": "2022-05-24T19:33:04.103Z"
   },
   {
    "duration": 9,
    "start_time": "2022-05-24T19:33:04.112Z"
   },
   {
    "duration": 9,
    "start_time": "2022-05-24T19:33:04.122Z"
   },
   {
    "duration": 20,
    "start_time": "2022-05-24T19:33:04.132Z"
   },
   {
    "duration": 6,
    "start_time": "2022-05-24T19:33:04.154Z"
   },
   {
    "duration": 12,
    "start_time": "2022-05-24T19:33:04.162Z"
   },
   {
    "duration": 22,
    "start_time": "2022-05-24T19:33:04.175Z"
   },
   {
    "duration": 17,
    "start_time": "2022-05-24T19:33:04.199Z"
   },
   {
    "duration": 12,
    "start_time": "2022-05-24T19:33:04.218Z"
   },
   {
    "duration": 8,
    "start_time": "2022-05-24T19:33:04.232Z"
   },
   {
    "duration": 16,
    "start_time": "2022-05-24T19:33:04.242Z"
   },
   {
    "duration": 610,
    "start_time": "2022-05-24T19:33:04.260Z"
   },
   {
    "duration": 690,
    "start_time": "2022-05-24T19:33:04.871Z"
   },
   {
    "duration": 595,
    "start_time": "2022-05-24T19:33:05.563Z"
   },
   {
    "duration": 3,
    "start_time": "2022-05-24T19:33:06.160Z"
   },
   {
    "duration": 3,
    "start_time": "2022-05-24T19:33:16.858Z"
   },
   {
    "duration": 3,
    "start_time": "2022-05-24T19:33:22.005Z"
   },
   {
    "duration": 116,
    "start_time": "2022-05-24T19:35:00.789Z"
   },
   {
    "duration": 8,
    "start_time": "2022-05-24T19:35:43.768Z"
   },
   {
    "duration": 5,
    "start_time": "2022-05-24T19:36:44.651Z"
   },
   {
    "duration": 6,
    "start_time": "2022-05-24T19:38:49.367Z"
   },
   {
    "duration": 12,
    "start_time": "2022-05-24T19:39:09.997Z"
   },
   {
    "duration": 13,
    "start_time": "2022-05-24T19:39:25.351Z"
   },
   {
    "duration": 8,
    "start_time": "2022-05-24T19:41:26.107Z"
   },
   {
    "duration": 4,
    "start_time": "2022-05-24T19:42:07.796Z"
   },
   {
    "duration": 5,
    "start_time": "2022-05-24T19:42:46.503Z"
   },
   {
    "duration": 4,
    "start_time": "2022-05-24T19:45:27.598Z"
   },
   {
    "duration": 2,
    "start_time": "2022-05-24T19:46:29.990Z"
   },
   {
    "duration": 9,
    "start_time": "2022-05-24T19:46:50.095Z"
   },
   {
    "duration": 9,
    "start_time": "2022-05-24T19:48:58.001Z"
   },
   {
    "duration": 544,
    "start_time": "2022-05-24T19:49:19.117Z"
   },
   {
    "duration": 547,
    "start_time": "2022-05-24T19:49:43.439Z"
   },
   {
    "duration": 631,
    "start_time": "2022-05-24T19:49:44.849Z"
   },
   {
    "duration": 9,
    "start_time": "2022-05-24T19:50:20.042Z"
   },
   {
    "duration": 8,
    "start_time": "2022-05-24T19:50:59.414Z"
   },
   {
    "duration": 9,
    "start_time": "2022-05-24T19:51:01.040Z"
   },
   {
    "duration": 10,
    "start_time": "2022-05-24T19:51:33.709Z"
   },
   {
    "duration": 5,
    "start_time": "2022-05-24T19:51:47.038Z"
   },
   {
    "duration": 8,
    "start_time": "2022-05-24T19:51:47.045Z"
   },
   {
    "duration": 7,
    "start_time": "2022-05-24T19:51:47.054Z"
   },
   {
    "duration": 140,
    "start_time": "2022-05-24T19:51:47.063Z"
   },
   {
    "duration": 128,
    "start_time": "2022-05-24T19:51:47.205Z"
   },
   {
    "duration": 120,
    "start_time": "2022-05-24T19:51:47.334Z"
   },
   {
    "duration": 9,
    "start_time": "2022-05-24T19:51:47.456Z"
   },
   {
    "duration": 38,
    "start_time": "2022-05-24T19:51:47.466Z"
   },
   {
    "duration": 54,
    "start_time": "2022-05-24T19:51:47.506Z"
   },
   {
    "duration": 59,
    "start_time": "2022-05-24T19:51:47.562Z"
   },
   {
    "duration": 34,
    "start_time": "2022-05-24T19:51:47.622Z"
   },
   {
    "duration": 14,
    "start_time": "2022-05-24T19:51:47.657Z"
   },
   {
    "duration": 6,
    "start_time": "2022-05-24T19:51:47.672Z"
   },
   {
    "duration": 17,
    "start_time": "2022-05-24T19:51:47.680Z"
   },
   {
    "duration": 13,
    "start_time": "2022-05-24T19:51:47.699Z"
   },
   {
    "duration": 12,
    "start_time": "2022-05-24T19:51:47.714Z"
   },
   {
    "duration": 32,
    "start_time": "2022-05-24T19:51:47.727Z"
   },
   {
    "duration": 15,
    "start_time": "2022-05-24T19:51:47.761Z"
   },
   {
    "duration": 14,
    "start_time": "2022-05-24T19:51:47.777Z"
   },
   {
    "duration": 13,
    "start_time": "2022-05-24T19:51:47.792Z"
   },
   {
    "duration": 24,
    "start_time": "2022-05-24T19:51:47.806Z"
   },
   {
    "duration": 21,
    "start_time": "2022-05-24T19:51:47.832Z"
   },
   {
    "duration": 6,
    "start_time": "2022-05-24T19:51:47.854Z"
   },
   {
    "duration": 5,
    "start_time": "2022-05-24T19:51:47.862Z"
   },
   {
    "duration": 14,
    "start_time": "2022-05-24T19:51:47.868Z"
   },
   {
    "duration": 70,
    "start_time": "2022-05-24T19:51:47.884Z"
   },
   {
    "duration": 98,
    "start_time": "2022-05-24T19:51:47.956Z"
   },
   {
    "duration": 0,
    "start_time": "2022-05-24T19:51:48.056Z"
   },
   {
    "duration": 0,
    "start_time": "2022-05-24T19:51:48.057Z"
   },
   {
    "duration": 0,
    "start_time": "2022-05-24T19:51:48.059Z"
   },
   {
    "duration": 0,
    "start_time": "2022-05-24T19:51:48.060Z"
   },
   {
    "duration": 0,
    "start_time": "2022-05-24T19:51:48.061Z"
   },
   {
    "duration": 0,
    "start_time": "2022-05-24T19:51:48.062Z"
   },
   {
    "duration": 0,
    "start_time": "2022-05-24T19:51:48.063Z"
   },
   {
    "duration": 0,
    "start_time": "2022-05-24T19:51:48.065Z"
   },
   {
    "duration": 0,
    "start_time": "2022-05-24T19:51:48.065Z"
   },
   {
    "duration": 0,
    "start_time": "2022-05-24T19:51:48.067Z"
   },
   {
    "duration": 0,
    "start_time": "2022-05-24T19:51:48.068Z"
   },
   {
    "duration": 0,
    "start_time": "2022-05-24T19:51:48.069Z"
   },
   {
    "duration": 0,
    "start_time": "2022-05-24T19:51:48.070Z"
   },
   {
    "duration": 0,
    "start_time": "2022-05-24T19:51:48.071Z"
   },
   {
    "duration": 0,
    "start_time": "2022-05-24T19:51:48.072Z"
   },
   {
    "duration": 0,
    "start_time": "2022-05-24T19:51:48.073Z"
   },
   {
    "duration": 0,
    "start_time": "2022-05-24T19:51:48.074Z"
   },
   {
    "duration": 0,
    "start_time": "2022-05-24T19:51:48.075Z"
   },
   {
    "duration": 0,
    "start_time": "2022-05-24T19:51:48.076Z"
   },
   {
    "duration": 0,
    "start_time": "2022-05-24T19:51:48.077Z"
   },
   {
    "duration": 0,
    "start_time": "2022-05-24T19:51:48.078Z"
   },
   {
    "duration": 0,
    "start_time": "2022-05-24T19:51:48.079Z"
   },
   {
    "duration": 0,
    "start_time": "2022-05-24T19:51:48.080Z"
   },
   {
    "duration": 0,
    "start_time": "2022-05-24T19:51:48.081Z"
   },
   {
    "duration": 0,
    "start_time": "2022-05-24T19:51:48.082Z"
   },
   {
    "duration": 0,
    "start_time": "2022-05-24T19:51:48.083Z"
   },
   {
    "duration": 0,
    "start_time": "2022-05-24T19:51:48.084Z"
   },
   {
    "duration": 0,
    "start_time": "2022-05-24T19:51:48.085Z"
   },
   {
    "duration": 9,
    "start_time": "2022-05-24T19:51:50.785Z"
   },
   {
    "duration": 3,
    "start_time": "2022-05-24T19:52:13.730Z"
   },
   {
    "duration": 4,
    "start_time": "2022-05-24T19:52:20.449Z"
   },
   {
    "duration": 46,
    "start_time": "2022-05-24T19:52:20.455Z"
   },
   {
    "duration": 17,
    "start_time": "2022-05-24T19:52:20.503Z"
   },
   {
    "duration": 138,
    "start_time": "2022-05-24T19:52:20.522Z"
   },
   {
    "duration": 118,
    "start_time": "2022-05-24T19:52:20.662Z"
   },
   {
    "duration": 118,
    "start_time": "2022-05-24T19:52:20.781Z"
   },
   {
    "duration": 8,
    "start_time": "2022-05-24T19:52:20.901Z"
   },
   {
    "duration": 43,
    "start_time": "2022-05-24T19:52:20.911Z"
   },
   {
    "duration": 37,
    "start_time": "2022-05-24T19:52:20.956Z"
   },
   {
    "duration": 73,
    "start_time": "2022-05-24T19:52:20.995Z"
   },
   {
    "duration": 11,
    "start_time": "2022-05-24T19:52:21.070Z"
   },
   {
    "duration": 19,
    "start_time": "2022-05-24T19:52:21.083Z"
   },
   {
    "duration": 6,
    "start_time": "2022-05-24T19:52:21.103Z"
   },
   {
    "duration": 20,
    "start_time": "2022-05-24T19:52:21.110Z"
   },
   {
    "duration": 30,
    "start_time": "2022-05-24T19:52:21.132Z"
   },
   {
    "duration": 14,
    "start_time": "2022-05-24T19:52:21.163Z"
   },
   {
    "duration": 11,
    "start_time": "2022-05-24T19:52:21.179Z"
   },
   {
    "duration": 17,
    "start_time": "2022-05-24T19:52:21.192Z"
   },
   {
    "duration": 23,
    "start_time": "2022-05-24T19:52:21.211Z"
   },
   {
    "duration": 67,
    "start_time": "2022-05-24T19:52:21.235Z"
   },
   {
    "duration": 33,
    "start_time": "2022-05-24T19:52:21.304Z"
   },
   {
    "duration": 5,
    "start_time": "2022-05-24T19:52:21.339Z"
   },
   {
    "duration": 11,
    "start_time": "2022-05-24T19:52:21.346Z"
   },
   {
    "duration": 11,
    "start_time": "2022-05-24T19:52:21.359Z"
   },
   {
    "duration": 22,
    "start_time": "2022-05-24T19:52:21.372Z"
   },
   {
    "duration": 58,
    "start_time": "2022-05-24T19:52:21.396Z"
   },
   {
    "duration": 118,
    "start_time": "2022-05-24T19:52:21.456Z"
   },
   {
    "duration": 0,
    "start_time": "2022-05-24T19:52:21.576Z"
   },
   {
    "duration": 0,
    "start_time": "2022-05-24T19:52:21.578Z"
   },
   {
    "duration": 0,
    "start_time": "2022-05-24T19:52:21.580Z"
   },
   {
    "duration": 0,
    "start_time": "2022-05-24T19:52:21.581Z"
   },
   {
    "duration": 0,
    "start_time": "2022-05-24T19:52:21.583Z"
   },
   {
    "duration": 0,
    "start_time": "2022-05-24T19:52:21.584Z"
   },
   {
    "duration": 0,
    "start_time": "2022-05-24T19:52:21.585Z"
   },
   {
    "duration": 0,
    "start_time": "2022-05-24T19:52:21.587Z"
   },
   {
    "duration": 0,
    "start_time": "2022-05-24T19:52:21.588Z"
   },
   {
    "duration": 0,
    "start_time": "2022-05-24T19:52:21.589Z"
   },
   {
    "duration": 0,
    "start_time": "2022-05-24T19:52:21.590Z"
   },
   {
    "duration": 0,
    "start_time": "2022-05-24T19:52:21.591Z"
   },
   {
    "duration": 3,
    "start_time": "2022-05-24T19:52:25.497Z"
   },
   {
    "duration": 8,
    "start_time": "2022-05-24T19:52:26.237Z"
   },
   {
    "duration": 4,
    "start_time": "2022-05-24T19:53:26.211Z"
   },
   {
    "duration": 8,
    "start_time": "2022-05-24T19:53:26.217Z"
   },
   {
    "duration": 6,
    "start_time": "2022-05-24T19:53:26.226Z"
   },
   {
    "duration": 130,
    "start_time": "2022-05-24T19:53:26.233Z"
   },
   {
    "duration": 110,
    "start_time": "2022-05-24T19:53:26.365Z"
   },
   {
    "duration": 117,
    "start_time": "2022-05-24T19:53:26.477Z"
   },
   {
    "duration": 8,
    "start_time": "2022-05-24T19:53:26.596Z"
   },
   {
    "duration": 52,
    "start_time": "2022-05-24T19:53:26.606Z"
   },
   {
    "duration": 43,
    "start_time": "2022-05-24T19:53:26.661Z"
   },
   {
    "duration": 68,
    "start_time": "2022-05-24T19:53:26.705Z"
   },
   {
    "duration": 11,
    "start_time": "2022-05-24T19:53:26.775Z"
   },
   {
    "duration": 14,
    "start_time": "2022-05-24T19:53:26.787Z"
   },
   {
    "duration": 4,
    "start_time": "2022-05-24T19:53:26.803Z"
   },
   {
    "duration": 18,
    "start_time": "2022-05-24T19:53:26.808Z"
   },
   {
    "duration": 31,
    "start_time": "2022-05-24T19:53:26.829Z"
   },
   {
    "duration": 15,
    "start_time": "2022-05-24T19:53:26.861Z"
   },
   {
    "duration": 9,
    "start_time": "2022-05-24T19:53:26.878Z"
   },
   {
    "duration": 17,
    "start_time": "2022-05-24T19:53:26.888Z"
   },
   {
    "duration": 30,
    "start_time": "2022-05-24T19:53:26.907Z"
   },
   {
    "duration": 19,
    "start_time": "2022-05-24T19:53:26.939Z"
   },
   {
    "duration": 25,
    "start_time": "2022-05-24T19:53:26.960Z"
   },
   {
    "duration": 3,
    "start_time": "2022-05-24T19:53:26.987Z"
   },
   {
    "duration": 6,
    "start_time": "2022-05-24T19:53:26.992Z"
   },
   {
    "duration": 5,
    "start_time": "2022-05-24T19:53:26.999Z"
   },
   {
    "duration": 55,
    "start_time": "2022-05-24T19:53:27.006Z"
   },
   {
    "duration": 90,
    "start_time": "2022-05-24T19:53:27.063Z"
   },
   {
    "duration": 3,
    "start_time": "2022-05-24T19:53:31.011Z"
   },
   {
    "duration": 9,
    "start_time": "2022-05-24T19:53:31.824Z"
   },
   {
    "duration": 3,
    "start_time": "2022-05-24T19:53:58.788Z"
   },
   {
    "duration": 14,
    "start_time": "2022-05-24T19:54:02.843Z"
   },
   {
    "duration": 14,
    "start_time": "2022-05-24T19:54:03.464Z"
   },
   {
    "duration": 3,
    "start_time": "2022-05-24T19:54:04.220Z"
   },
   {
    "duration": 19,
    "start_time": "2022-05-24T19:54:07.061Z"
   },
   {
    "duration": 19,
    "start_time": "2022-05-24T19:54:08.057Z"
   },
   {
    "duration": 19,
    "start_time": "2022-05-24T19:54:12.173Z"
   },
   {
    "duration": 22,
    "start_time": "2022-05-24T19:54:18.941Z"
   },
   {
    "duration": 14,
    "start_time": "2022-05-24T19:54:19.617Z"
   },
   {
    "duration": 13,
    "start_time": "2022-05-24T19:54:20.615Z"
   },
   {
    "duration": 4,
    "start_time": "2022-05-24T19:54:26.367Z"
   },
   {
    "duration": 4,
    "start_time": "2022-05-24T19:54:42.540Z"
   },
   {
    "duration": 12,
    "start_time": "2022-05-24T19:54:49.610Z"
   },
   {
    "duration": 3,
    "start_time": "2022-05-24T19:55:20.288Z"
   },
   {
    "duration": 5,
    "start_time": "2022-05-24T19:55:25.437Z"
   },
   {
    "duration": 10,
    "start_time": "2022-05-24T19:55:25.444Z"
   },
   {
    "duration": 4,
    "start_time": "2022-05-24T19:55:25.456Z"
   },
   {
    "duration": 133,
    "start_time": "2022-05-24T19:55:25.462Z"
   },
   {
    "duration": 121,
    "start_time": "2022-05-24T19:55:25.597Z"
   },
   {
    "duration": 122,
    "start_time": "2022-05-24T19:55:25.720Z"
   },
   {
    "duration": 9,
    "start_time": "2022-05-24T19:55:25.844Z"
   },
   {
    "duration": 35,
    "start_time": "2022-05-24T19:55:25.854Z"
   },
   {
    "duration": 41,
    "start_time": "2022-05-24T19:55:25.891Z"
   },
   {
    "duration": 59,
    "start_time": "2022-05-24T19:55:25.951Z"
   },
   {
    "duration": 12,
    "start_time": "2022-05-24T19:55:26.011Z"
   },
   {
    "duration": 30,
    "start_time": "2022-05-24T19:55:26.024Z"
   },
   {
    "duration": 4,
    "start_time": "2022-05-24T19:55:26.056Z"
   },
   {
    "duration": 17,
    "start_time": "2022-05-24T19:55:26.061Z"
   },
   {
    "duration": 15,
    "start_time": "2022-05-24T19:55:26.081Z"
   },
   {
    "duration": 13,
    "start_time": "2022-05-24T19:55:26.097Z"
   },
   {
    "duration": 9,
    "start_time": "2022-05-24T19:55:26.112Z"
   },
   {
    "duration": 45,
    "start_time": "2022-05-24T19:55:26.122Z"
   },
   {
    "duration": 16,
    "start_time": "2022-05-24T19:55:26.168Z"
   },
   {
    "duration": 11,
    "start_time": "2022-05-24T19:55:26.185Z"
   },
   {
    "duration": 24,
    "start_time": "2022-05-24T19:55:26.198Z"
   },
   {
    "duration": 4,
    "start_time": "2022-05-24T19:55:26.223Z"
   },
   {
    "duration": 24,
    "start_time": "2022-05-24T19:55:26.229Z"
   },
   {
    "duration": 4,
    "start_time": "2022-05-24T19:55:26.255Z"
   },
   {
    "duration": 93,
    "start_time": "2022-05-24T19:55:26.261Z"
   },
   {
    "duration": 4,
    "start_time": "2022-05-24T19:55:26.355Z"
   },
   {
    "duration": 101,
    "start_time": "2022-05-24T19:55:26.360Z"
   },
   {
    "duration": 14,
    "start_time": "2022-05-24T19:55:26.464Z"
   },
   {
    "duration": 172,
    "start_time": "2022-05-24T19:55:26.480Z"
   },
   {
    "duration": 99,
    "start_time": "2022-05-24T19:55:26.654Z"
   },
   {
    "duration": 23,
    "start_time": "2022-05-24T19:55:26.755Z"
   },
   {
    "duration": 16,
    "start_time": "2022-05-24T19:55:26.779Z"
   },
   {
    "duration": 17,
    "start_time": "2022-05-24T19:55:26.797Z"
   },
   {
    "duration": 38,
    "start_time": "2022-05-24T19:55:26.815Z"
   },
   {
    "duration": 102,
    "start_time": "2022-05-24T19:55:26.855Z"
   },
   {
    "duration": 197,
    "start_time": "2022-05-24T19:55:26.958Z"
   },
   {
    "duration": 106,
    "start_time": "2022-05-24T19:55:27.156Z"
   },
   {
    "duration": 5,
    "start_time": "2022-05-24T19:55:30.710Z"
   },
   {
    "duration": 5,
    "start_time": "2022-05-24T19:55:33.063Z"
   },
   {
    "duration": 9,
    "start_time": "2022-05-24T19:55:34.593Z"
   },
   {
    "duration": 6,
    "start_time": "2022-05-24T19:55:40.165Z"
   },
   {
    "duration": 8,
    "start_time": "2022-05-24T19:55:42.206Z"
   },
   {
    "duration": 5,
    "start_time": "2022-05-24T19:55:44.996Z"
   },
   {
    "duration": 5,
    "start_time": "2022-05-24T19:55:45.746Z"
   },
   {
    "duration": 5,
    "start_time": "2022-05-24T19:55:46.376Z"
   },
   {
    "duration": 3,
    "start_time": "2022-05-24T19:55:48.248Z"
   },
   {
    "duration": 4,
    "start_time": "2022-05-24T19:55:48.894Z"
   },
   {
    "duration": 5,
    "start_time": "2022-05-24T19:55:50.237Z"
   },
   {
    "duration": 5,
    "start_time": "2022-05-24T19:55:55.645Z"
   },
   {
    "duration": 5,
    "start_time": "2022-05-24T19:56:00.294Z"
   },
   {
    "duration": 5,
    "start_time": "2022-05-24T19:56:01.016Z"
   },
   {
    "duration": 8,
    "start_time": "2022-05-24T19:56:05.261Z"
   },
   {
    "duration": 6,
    "start_time": "2022-05-24T19:56:11.276Z"
   },
   {
    "duration": 7,
    "start_time": "2022-05-24T19:56:12.708Z"
   },
   {
    "duration": 12,
    "start_time": "2022-05-24T19:56:19.062Z"
   },
   {
    "duration": 8,
    "start_time": "2022-05-24T19:56:21.712Z"
   },
   {
    "duration": 9,
    "start_time": "2022-05-24T19:56:23.019Z"
   },
   {
    "duration": 593,
    "start_time": "2022-05-24T19:56:24.112Z"
   },
   {
    "duration": 575,
    "start_time": "2022-05-24T19:56:26.170Z"
   },
   {
    "duration": 700,
    "start_time": "2022-05-24T19:56:27.488Z"
   },
   {
    "duration": 2,
    "start_time": "2022-05-24T19:56:30.996Z"
   },
   {
    "duration": 4,
    "start_time": "2022-05-24T19:56:32.312Z"
   },
   {
    "duration": 9,
    "start_time": "2022-05-24T19:56:39.207Z"
   },
   {
    "duration": 8,
    "start_time": "2022-05-24T19:57:07.931Z"
   },
   {
    "duration": 11,
    "start_time": "2022-05-24T19:57:10.503Z"
   },
   {
    "duration": 577,
    "start_time": "2022-05-24T19:57:26.519Z"
   },
   {
    "duration": 9,
    "start_time": "2022-05-24T19:57:27.276Z"
   },
   {
    "duration": 10,
    "start_time": "2022-05-24T19:57:41.233Z"
   },
   {
    "duration": 16,
    "start_time": "2022-05-24T19:57:44.548Z"
   },
   {
    "duration": 42,
    "start_time": "2022-05-24T20:01:47.063Z"
   },
   {
    "duration": 19,
    "start_time": "2022-05-24T20:01:56.401Z"
   },
   {
    "duration": 4,
    "start_time": "2022-05-24T20:04:46.269Z"
   },
   {
    "duration": 19,
    "start_time": "2022-05-24T20:14:23.327Z"
   },
   {
    "duration": 8,
    "start_time": "2022-05-24T20:25:26.669Z"
   },
   {
    "duration": 1443,
    "start_time": "2022-05-25T06:29:15.616Z"
   },
   {
    "duration": 5,
    "start_time": "2022-05-25T06:37:51.993Z"
   },
   {
    "duration": 7,
    "start_time": "2022-05-25T06:37:52.000Z"
   },
   {
    "duration": 6,
    "start_time": "2022-05-25T06:37:52.008Z"
   },
   {
    "duration": 571,
    "start_time": "2022-05-25T06:37:52.015Z"
   },
   {
    "duration": 539,
    "start_time": "2022-05-25T06:37:52.589Z"
   },
   {
    "duration": 509,
    "start_time": "2022-05-25T06:37:53.130Z"
   },
   {
    "duration": 14,
    "start_time": "2022-05-25T06:37:53.641Z"
   },
   {
    "duration": 38,
    "start_time": "2022-05-25T06:37:53.656Z"
   },
   {
    "duration": 69,
    "start_time": "2022-05-25T06:37:53.695Z"
   },
   {
    "duration": 80,
    "start_time": "2022-05-25T06:37:53.766Z"
   },
   {
    "duration": 12,
    "start_time": "2022-05-25T06:37:53.848Z"
   },
   {
    "duration": 16,
    "start_time": "2022-05-25T06:37:53.861Z"
   },
   {
    "duration": 8,
    "start_time": "2022-05-25T06:37:53.879Z"
   },
   {
    "duration": 27,
    "start_time": "2022-05-25T06:37:53.892Z"
   },
   {
    "duration": 41,
    "start_time": "2022-05-25T06:37:53.920Z"
   },
   {
    "duration": 20,
    "start_time": "2022-05-25T06:37:53.963Z"
   },
   {
    "duration": 15,
    "start_time": "2022-05-25T06:37:53.985Z"
   },
   {
    "duration": 46,
    "start_time": "2022-05-25T06:37:54.002Z"
   },
   {
    "duration": 26,
    "start_time": "2022-05-25T06:37:54.049Z"
   },
   {
    "duration": 12,
    "start_time": "2022-05-25T06:37:54.077Z"
   },
   {
    "duration": 31,
    "start_time": "2022-05-25T06:37:54.091Z"
   },
   {
    "duration": 4,
    "start_time": "2022-05-25T06:37:54.141Z"
   },
   {
    "duration": 7,
    "start_time": "2022-05-25T06:37:54.147Z"
   },
   {
    "duration": 6,
    "start_time": "2022-05-25T06:37:54.155Z"
   },
   {
    "duration": 82,
    "start_time": "2022-05-25T06:37:54.162Z"
   },
   {
    "duration": 4,
    "start_time": "2022-05-25T06:37:54.246Z"
   },
   {
    "duration": 205,
    "start_time": "2022-05-25T06:37:54.252Z"
   },
   {
    "duration": 0,
    "start_time": "2022-05-25T06:37:54.460Z"
   },
   {
    "duration": 0,
    "start_time": "2022-05-25T06:37:54.462Z"
   },
   {
    "duration": 0,
    "start_time": "2022-05-25T06:37:54.462Z"
   },
   {
    "duration": 0,
    "start_time": "2022-05-25T06:37:54.464Z"
   },
   {
    "duration": 0,
    "start_time": "2022-05-25T06:37:54.465Z"
   },
   {
    "duration": 0,
    "start_time": "2022-05-25T06:37:54.465Z"
   },
   {
    "duration": 0,
    "start_time": "2022-05-25T06:37:54.466Z"
   },
   {
    "duration": 0,
    "start_time": "2022-05-25T06:37:54.468Z"
   },
   {
    "duration": 0,
    "start_time": "2022-05-25T06:37:54.469Z"
   },
   {
    "duration": 0,
    "start_time": "2022-05-25T06:37:54.470Z"
   },
   {
    "duration": 0,
    "start_time": "2022-05-25T06:37:54.471Z"
   },
   {
    "duration": 0,
    "start_time": "2022-05-25T06:37:54.471Z"
   },
   {
    "duration": 0,
    "start_time": "2022-05-25T06:37:54.472Z"
   },
   {
    "duration": 0,
    "start_time": "2022-05-25T06:37:54.473Z"
   },
   {
    "duration": 0,
    "start_time": "2022-05-25T06:37:54.474Z"
   },
   {
    "duration": 0,
    "start_time": "2022-05-25T06:37:54.475Z"
   },
   {
    "duration": 0,
    "start_time": "2022-05-25T06:37:54.476Z"
   },
   {
    "duration": 0,
    "start_time": "2022-05-25T06:37:54.477Z"
   },
   {
    "duration": 0,
    "start_time": "2022-05-25T06:37:54.478Z"
   },
   {
    "duration": 0,
    "start_time": "2022-05-25T06:37:54.479Z"
   },
   {
    "duration": 0,
    "start_time": "2022-05-25T06:37:54.480Z"
   },
   {
    "duration": 0,
    "start_time": "2022-05-25T06:37:54.481Z"
   },
   {
    "duration": 0,
    "start_time": "2022-05-25T06:37:54.483Z"
   },
   {
    "duration": 0,
    "start_time": "2022-05-25T06:37:54.483Z"
   },
   {
    "duration": 0,
    "start_time": "2022-05-25T06:37:54.484Z"
   },
   {
    "duration": 0,
    "start_time": "2022-05-25T06:37:54.485Z"
   },
   {
    "duration": 0,
    "start_time": "2022-05-25T06:37:54.486Z"
   },
   {
    "duration": 0,
    "start_time": "2022-05-25T06:37:54.487Z"
   },
   {
    "duration": 0,
    "start_time": "2022-05-25T06:37:54.488Z"
   },
   {
    "duration": 0,
    "start_time": "2022-05-25T06:37:54.542Z"
   },
   {
    "duration": 0,
    "start_time": "2022-05-25T06:37:54.543Z"
   },
   {
    "duration": 4,
    "start_time": "2022-05-25T06:38:56.765Z"
   },
   {
    "duration": 11,
    "start_time": "2022-05-25T06:38:56.772Z"
   },
   {
    "duration": 7,
    "start_time": "2022-05-25T06:38:56.786Z"
   },
   {
    "duration": 225,
    "start_time": "2022-05-25T06:38:56.795Z"
   },
   {
    "duration": 181,
    "start_time": "2022-05-25T06:38:57.024Z"
   },
   {
    "duration": 137,
    "start_time": "2022-05-25T06:38:57.206Z"
   },
   {
    "duration": 10,
    "start_time": "2022-05-25T06:38:57.344Z"
   },
   {
    "duration": 48,
    "start_time": "2022-05-25T06:38:57.357Z"
   },
   {
    "duration": 83,
    "start_time": "2022-05-25T06:38:57.407Z"
   },
   {
    "duration": 96,
    "start_time": "2022-05-25T06:38:57.492Z"
   },
   {
    "duration": 13,
    "start_time": "2022-05-25T06:38:57.590Z"
   },
   {
    "duration": 13,
    "start_time": "2022-05-25T06:38:57.604Z"
   },
   {
    "duration": 23,
    "start_time": "2022-05-25T06:38:57.619Z"
   },
   {
    "duration": 26,
    "start_time": "2022-05-25T06:38:57.647Z"
   },
   {
    "duration": 18,
    "start_time": "2022-05-25T06:38:57.675Z"
   },
   {
    "duration": 17,
    "start_time": "2022-05-25T06:38:57.695Z"
   },
   {
    "duration": 40,
    "start_time": "2022-05-25T06:38:57.714Z"
   },
   {
    "duration": 16,
    "start_time": "2022-05-25T06:38:57.756Z"
   },
   {
    "duration": 24,
    "start_time": "2022-05-25T06:38:57.774Z"
   },
   {
    "duration": 11,
    "start_time": "2022-05-25T06:38:57.799Z"
   },
   {
    "duration": 47,
    "start_time": "2022-05-25T06:38:57.812Z"
   },
   {
    "duration": 5,
    "start_time": "2022-05-25T06:38:57.861Z"
   },
   {
    "duration": 7,
    "start_time": "2022-05-25T06:38:57.869Z"
   },
   {
    "duration": 7,
    "start_time": "2022-05-25T06:38:57.879Z"
   },
   {
    "duration": 61,
    "start_time": "2022-05-25T06:38:57.888Z"
   },
   {
    "duration": 98,
    "start_time": "2022-05-25T06:38:57.951Z"
   },
   {
    "duration": 19,
    "start_time": "2022-05-25T06:38:58.051Z"
   },
   {
    "duration": 174,
    "start_time": "2022-05-25T06:38:58.071Z"
   },
   {
    "duration": 94,
    "start_time": "2022-05-25T06:38:58.249Z"
   },
   {
    "duration": 7,
    "start_time": "2022-05-25T06:38:58.345Z"
   },
   {
    "duration": 33,
    "start_time": "2022-05-25T06:38:58.354Z"
   },
   {
    "duration": 63,
    "start_time": "2022-05-25T06:38:58.389Z"
   },
   {
    "duration": 27,
    "start_time": "2022-05-25T06:38:58.455Z"
   },
   {
    "duration": 61,
    "start_time": "2022-05-25T06:38:58.484Z"
   },
   {
    "duration": 110,
    "start_time": "2022-05-25T06:38:58.548Z"
   },
   {
    "duration": 192,
    "start_time": "2022-05-25T06:38:58.660Z"
   },
   {
    "duration": 7,
    "start_time": "2022-05-25T06:38:58.855Z"
   },
   {
    "duration": 184,
    "start_time": "2022-05-25T06:38:58.864Z"
   },
   {
    "duration": 6,
    "start_time": "2022-05-25T06:38:59.049Z"
   },
   {
    "duration": 11,
    "start_time": "2022-05-25T06:38:59.056Z"
   },
   {
    "duration": 7,
    "start_time": "2022-05-25T06:38:59.071Z"
   },
   {
    "duration": 14,
    "start_time": "2022-05-25T06:38:59.080Z"
   },
   {
    "duration": 173,
    "start_time": "2022-05-25T06:38:59.096Z"
   },
   {
    "duration": 11,
    "start_time": "2022-05-25T06:38:59.271Z"
   },
   {
    "duration": 16,
    "start_time": "2022-05-25T06:38:59.285Z"
   },
   {
    "duration": 9,
    "start_time": "2022-05-25T06:38:59.303Z"
   },
   {
    "duration": 33,
    "start_time": "2022-05-25T06:38:59.314Z"
   },
   {
    "duration": 11,
    "start_time": "2022-05-25T06:38:59.349Z"
   },
   {
    "duration": 9,
    "start_time": "2022-05-25T06:38:59.362Z"
   },
   {
    "duration": 8,
    "start_time": "2022-05-25T06:38:59.374Z"
   },
   {
    "duration": 8,
    "start_time": "2022-05-25T06:38:59.384Z"
   },
   {
    "duration": 10,
    "start_time": "2022-05-25T06:38:59.394Z"
   },
   {
    "duration": 42,
    "start_time": "2022-05-25T06:38:59.406Z"
   },
   {
    "duration": 10,
    "start_time": "2022-05-25T06:38:59.451Z"
   },
   {
    "duration": 20,
    "start_time": "2022-05-25T06:38:59.464Z"
   },
   {
    "duration": 11,
    "start_time": "2022-05-25T06:38:59.487Z"
   },
   {
    "duration": 5,
    "start_time": "2022-05-25T06:38:59.500Z"
   },
   {
    "duration": 63,
    "start_time": "2022-05-25T06:38:59.507Z"
   },
   {
    "duration": 12,
    "start_time": "2022-05-25T06:39:12.572Z"
   },
   {
    "duration": 666,
    "start_time": "2022-05-25T06:39:14.664Z"
   },
   {
    "duration": 12,
    "start_time": "2022-05-25T06:41:06.812Z"
   },
   {
    "duration": 641,
    "start_time": "2022-05-25T06:41:07.404Z"
   },
   {
    "duration": 639,
    "start_time": "2022-05-25T06:41:08.047Z"
   },
   {
    "duration": 9,
    "start_time": "2022-05-25T06:41:10.509Z"
   },
   {
    "duration": 19,
    "start_time": "2022-05-25T06:41:19.688Z"
   },
   {
    "duration": 13,
    "start_time": "2022-05-25T06:41:21.161Z"
   },
   {
    "duration": 6,
    "start_time": "2022-05-25T06:41:38.964Z"
   },
   {
    "duration": 2585,
    "start_time": "2022-05-25T13:10:40.642Z"
   },
   {
    "duration": 3,
    "start_time": "2022-05-25T13:10:43.230Z"
   },
   {
    "duration": 22,
    "start_time": "2022-05-25T13:10:43.241Z"
   },
   {
    "duration": 509,
    "start_time": "2022-05-25T13:10:45.779Z"
   },
   {
    "duration": 282,
    "start_time": "2022-05-25T13:10:46.612Z"
   },
   {
    "duration": 250,
    "start_time": "2022-05-25T13:10:47.449Z"
   },
   {
    "duration": 12,
    "start_time": "2022-05-25T13:10:49.680Z"
   },
   {
    "duration": 44,
    "start_time": "2022-05-25T13:10:49.891Z"
   },
   {
    "duration": 42,
    "start_time": "2022-05-25T13:10:50.065Z"
   },
   {
    "duration": 100,
    "start_time": "2022-05-25T13:10:50.567Z"
   },
   {
    "duration": 13,
    "start_time": "2022-05-25T13:10:51.165Z"
   },
   {
    "duration": 12,
    "start_time": "2022-05-25T13:10:51.763Z"
   },
   {
    "duration": 2,
    "start_time": "2022-05-25T13:10:52.297Z"
   },
   {
    "duration": 16,
    "start_time": "2022-05-25T13:10:52.488Z"
   },
   {
    "duration": 17,
    "start_time": "2022-05-25T13:10:52.660Z"
   },
   {
    "duration": 21,
    "start_time": "2022-05-25T13:10:52.849Z"
   },
   {
    "duration": 15,
    "start_time": "2022-05-25T13:10:53.964Z"
   },
   {
    "duration": 18,
    "start_time": "2022-05-25T13:10:54.349Z"
   },
   {
    "duration": 20,
    "start_time": "2022-05-25T13:20:18.864Z"
   },
   {
    "duration": 10,
    "start_time": "2022-05-25T13:20:19.778Z"
   },
   {
    "duration": 45,
    "start_time": "2022-05-25T13:20:22.747Z"
   },
   {
    "duration": 5,
    "start_time": "2022-05-25T13:20:23.997Z"
   },
   {
    "duration": 5,
    "start_time": "2022-05-25T13:20:24.178Z"
   },
   {
    "duration": 4,
    "start_time": "2022-05-25T13:20:24.437Z"
   },
   {
    "duration": 26,
    "start_time": "2022-05-25T13:20:28.176Z"
   },
   {
    "duration": 23,
    "start_time": "2022-05-25T13:20:39.274Z"
   },
   {
    "duration": 15,
    "start_time": "2022-05-25T13:20:40.284Z"
   },
   {
    "duration": 3,
    "start_time": "2022-05-25T13:20:40.999Z"
   },
   {
    "duration": 3,
    "start_time": "2022-05-25T13:20:41.605Z"
   },
   {
    "duration": 25,
    "start_time": "2022-05-25T13:20:43.466Z"
   },
   {
    "duration": 27,
    "start_time": "2022-05-25T13:20:44.407Z"
   },
   {
    "duration": 27,
    "start_time": "2022-05-25T13:20:52.273Z"
   },
   {
    "duration": 20,
    "start_time": "2022-05-25T13:20:53.839Z"
   },
   {
    "duration": 15,
    "start_time": "2022-05-25T13:20:54.409Z"
   },
   {
    "duration": 25,
    "start_time": "2022-05-25T13:20:54.623Z"
   },
   {
    "duration": 4,
    "start_time": "2022-05-25T13:20:54.850Z"
   },
   {
    "duration": 6,
    "start_time": "2022-05-25T13:22:45.201Z"
   },
   {
    "duration": 6,
    "start_time": "2022-05-25T13:22:52.013Z"
   },
   {
    "duration": 10,
    "start_time": "2022-05-25T13:22:57.555Z"
   },
   {
    "duration": 8,
    "start_time": "2022-05-25T13:22:58.383Z"
   },
   {
    "duration": 731,
    "start_time": "2022-05-25T13:24:48.541Z"
   },
   {
    "duration": 7,
    "start_time": "2022-05-25T13:24:49.364Z"
   },
   {
    "duration": 7,
    "start_time": "2022-05-25T13:24:49.938Z"
   },
   {
    "duration": 3,
    "start_time": "2022-05-25T13:24:55.650Z"
   },
   {
    "duration": 5,
    "start_time": "2022-05-25T13:24:55.861Z"
   },
   {
    "duration": 4,
    "start_time": "2022-05-25T13:24:56.072Z"
   },
   {
    "duration": 65,
    "start_time": "2022-05-26T20:37:23.256Z"
   },
   {
    "duration": 1487,
    "start_time": "2022-05-26T20:37:28.897Z"
   },
   {
    "duration": 3,
    "start_time": "2022-05-26T20:37:30.386Z"
   },
   {
    "duration": 32,
    "start_time": "2022-05-26T20:37:30.391Z"
   },
   {
    "duration": 548,
    "start_time": "2022-05-26T20:37:30.424Z"
   },
   {
    "duration": 676,
    "start_time": "2022-05-26T20:37:30.975Z"
   },
   {
    "duration": 614,
    "start_time": "2022-05-26T20:37:31.653Z"
   },
   {
    "duration": 13,
    "start_time": "2022-05-26T20:37:32.269Z"
   },
   {
    "duration": 39,
    "start_time": "2022-05-26T20:37:32.284Z"
   },
   {
    "duration": 38,
    "start_time": "2022-05-26T20:37:32.325Z"
   },
   {
    "duration": 65,
    "start_time": "2022-05-26T20:37:32.365Z"
   },
   {
    "duration": 11,
    "start_time": "2022-05-26T20:37:32.431Z"
   },
   {
    "duration": 13,
    "start_time": "2022-05-26T20:37:32.444Z"
   },
   {
    "duration": 4,
    "start_time": "2022-05-26T20:37:32.458Z"
   },
   {
    "duration": 16,
    "start_time": "2022-05-26T20:37:32.464Z"
   },
   {
    "duration": 36,
    "start_time": "2022-05-26T20:37:32.481Z"
   },
   {
    "duration": 14,
    "start_time": "2022-05-26T20:37:32.519Z"
   },
   {
    "duration": 11,
    "start_time": "2022-05-26T20:37:32.534Z"
   },
   {
    "duration": 16,
    "start_time": "2022-05-26T20:37:32.547Z"
   },
   {
    "duration": 48,
    "start_time": "2022-05-26T20:37:32.564Z"
   },
   {
    "duration": 14,
    "start_time": "2022-05-26T20:37:32.614Z"
   },
   {
    "duration": 30,
    "start_time": "2022-05-26T20:37:32.630Z"
   },
   {
    "duration": 35,
    "start_time": "2022-05-26T20:37:38.657Z"
   },
   {
    "duration": 12,
    "start_time": "2022-05-26T20:37:39.922Z"
   },
   {
    "duration": 16,
    "start_time": "2022-05-26T20:38:35.647Z"
   },
   {
    "duration": 73,
    "start_time": "2022-05-26T20:39:33.018Z"
   },
   {
    "duration": 4,
    "start_time": "2022-05-26T20:39:37.614Z"
   },
   {
    "duration": 6,
    "start_time": "2022-05-26T20:39:37.622Z"
   },
   {
    "duration": 2,
    "start_time": "2022-05-26T20:39:37.646Z"
   },
   {
    "duration": 166,
    "start_time": "2022-05-26T20:39:37.650Z"
   },
   {
    "duration": 133,
    "start_time": "2022-05-26T20:39:37.819Z"
   },
   {
    "duration": 135,
    "start_time": "2022-05-26T20:39:37.954Z"
   },
   {
    "duration": 23,
    "start_time": "2022-05-26T20:39:38.091Z"
   },
   {
    "duration": 37,
    "start_time": "2022-05-26T20:39:38.115Z"
   },
   {
    "duration": 37,
    "start_time": "2022-05-26T20:39:38.153Z"
   },
   {
    "duration": 69,
    "start_time": "2022-05-26T20:39:38.192Z"
   },
   {
    "duration": 12,
    "start_time": "2022-05-26T20:39:38.263Z"
   },
   {
    "duration": 38,
    "start_time": "2022-05-26T20:39:38.276Z"
   },
   {
    "duration": 2,
    "start_time": "2022-05-26T20:39:38.316Z"
   },
   {
    "duration": 18,
    "start_time": "2022-05-26T20:39:38.320Z"
   },
   {
    "duration": 17,
    "start_time": "2022-05-26T20:39:38.342Z"
   },
   {
    "duration": 17,
    "start_time": "2022-05-26T20:39:38.361Z"
   },
   {
    "duration": 33,
    "start_time": "2022-05-26T20:39:38.379Z"
   },
   {
    "duration": 21,
    "start_time": "2022-05-26T20:39:38.414Z"
   },
   {
    "duration": 20,
    "start_time": "2022-05-26T20:39:38.437Z"
   },
   {
    "duration": 14,
    "start_time": "2022-05-26T20:39:38.459Z"
   },
   {
    "duration": 35,
    "start_time": "2022-05-26T20:39:38.475Z"
   },
   {
    "duration": 18,
    "start_time": "2022-05-26T20:39:38.516Z"
   },
   {
    "duration": 4,
    "start_time": "2022-05-26T20:39:38.535Z"
   },
   {
    "duration": 6,
    "start_time": "2022-05-26T20:39:38.540Z"
   },
   {
    "duration": 5,
    "start_time": "2022-05-26T20:39:38.547Z"
   },
   {
    "duration": 56,
    "start_time": "2022-05-26T20:39:38.553Z"
   },
   {
    "duration": 2,
    "start_time": "2022-05-26T20:39:38.611Z"
   },
   {
    "duration": 113,
    "start_time": "2022-05-26T20:39:38.615Z"
   },
   {
    "duration": 92,
    "start_time": "2022-05-26T20:39:38.730Z"
   },
   {
    "duration": 20,
    "start_time": "2022-05-26T20:39:41.090Z"
   },
   {
    "duration": 12,
    "start_time": "2022-05-26T20:39:45.364Z"
   },
   {
    "duration": 2,
    "start_time": "2022-05-26T20:39:50.183Z"
   },
   {
    "duration": 20,
    "start_time": "2022-05-26T20:39:51.723Z"
   },
   {
    "duration": 23,
    "start_time": "2022-05-26T20:39:52.314Z"
   },
   {
    "duration": 18,
    "start_time": "2022-05-26T20:39:52.878Z"
   },
   {
    "duration": 29,
    "start_time": "2022-05-26T20:39:54.126Z"
   },
   {
    "duration": 16,
    "start_time": "2022-05-26T20:39:54.890Z"
   },
   {
    "duration": 22,
    "start_time": "2022-05-26T20:39:55.596Z"
   },
   {
    "duration": 3,
    "start_time": "2022-05-26T20:39:56.828Z"
   },
   {
    "duration": 5,
    "start_time": "2022-05-26T20:40:12.848Z"
   },
   {
    "duration": 4,
    "start_time": "2022-05-26T20:40:15.049Z"
   },
   {
    "duration": 10,
    "start_time": "2022-05-26T20:40:18.764Z"
   },
   {
    "duration": 9,
    "start_time": "2022-05-26T20:40:20.800Z"
   },
   {
    "duration": 10,
    "start_time": "2022-05-26T20:40:23.480Z"
   },
   {
    "duration": 345,
    "start_time": "2022-05-26T20:40:26.917Z"
   },
   {
    "duration": 6,
    "start_time": "2022-05-26T20:40:27.617Z"
   },
   {
    "duration": 6,
    "start_time": "2022-05-26T20:40:28.479Z"
   },
   {
    "duration": 4,
    "start_time": "2022-05-26T20:40:32.188Z"
   },
   {
    "duration": 4,
    "start_time": "2022-05-26T20:40:33.389Z"
   },
   {
    "duration": 5,
    "start_time": "2022-05-26T20:40:34.059Z"
   },
   {
    "duration": 5,
    "start_time": "2022-05-26T20:40:49.019Z"
   },
   {
    "duration": 6,
    "start_time": "2022-05-26T20:40:49.797Z"
   },
   {
    "duration": 5,
    "start_time": "2022-05-26T20:40:50.880Z"
   },
   {
    "duration": 7,
    "start_time": "2022-05-26T20:40:55.759Z"
   },
   {
    "duration": 6,
    "start_time": "2022-05-26T20:40:57.257Z"
   },
   {
    "duration": 7,
    "start_time": "2022-05-26T20:40:59.418Z"
   },
   {
    "duration": 14,
    "start_time": "2022-05-26T20:41:03.246Z"
   },
   {
    "duration": 8,
    "start_time": "2022-05-26T20:41:15.553Z"
   },
   {
    "duration": 3,
    "start_time": "2022-05-26T20:41:18.322Z"
   },
   {
    "duration": 23,
    "start_time": "2022-05-26T20:41:22.397Z"
   },
   {
    "duration": 1859,
    "start_time": "2022-05-27T13:07:29.533Z"
   },
   {
    "duration": 3,
    "start_time": "2022-05-27T13:07:31.394Z"
   },
   {
    "duration": 22,
    "start_time": "2022-05-27T13:07:31.399Z"
   },
   {
    "duration": 527,
    "start_time": "2022-05-27T13:07:31.423Z"
   },
   {
    "duration": 233,
    "start_time": "2022-05-27T13:07:31.953Z"
   },
   {
    "duration": 283,
    "start_time": "2022-05-27T13:07:32.189Z"
   },
   {
    "duration": 18,
    "start_time": "2022-05-27T13:07:32.474Z"
   },
   {
    "duration": 42,
    "start_time": "2022-05-27T13:07:32.494Z"
   },
   {
    "duration": 47,
    "start_time": "2022-05-27T13:07:32.537Z"
   },
   {
    "duration": 113,
    "start_time": "2022-05-27T13:07:32.586Z"
   },
   {
    "duration": 31,
    "start_time": "2022-05-27T13:07:32.701Z"
   },
   {
    "duration": 30,
    "start_time": "2022-05-27T13:07:32.741Z"
   },
   {
    "duration": 4,
    "start_time": "2022-05-27T13:07:32.773Z"
   },
   {
    "duration": 18,
    "start_time": "2022-05-27T13:07:32.780Z"
   },
   {
    "duration": 16,
    "start_time": "2022-05-27T13:07:32.800Z"
   },
   {
    "duration": 25,
    "start_time": "2022-05-27T13:07:32.818Z"
   },
   {
    "duration": 19,
    "start_time": "2022-05-27T13:07:32.845Z"
   },
   {
    "duration": 22,
    "start_time": "2022-05-27T13:07:32.866Z"
   },
   {
    "duration": 31,
    "start_time": "2022-05-27T13:07:32.890Z"
   },
   {
    "duration": 35,
    "start_time": "2022-05-27T13:07:32.923Z"
   },
   {
    "duration": 50,
    "start_time": "2022-05-27T13:07:32.960Z"
   },
   {
    "duration": 26,
    "start_time": "2022-05-27T13:07:33.012Z"
   },
   {
    "duration": 12,
    "start_time": "2022-05-27T13:07:33.045Z"
   },
   {
    "duration": 20,
    "start_time": "2022-05-27T13:07:33.059Z"
   },
   {
    "duration": 29,
    "start_time": "2022-05-27T13:07:33.081Z"
   },
   {
    "duration": 26,
    "start_time": "2022-05-27T13:07:33.113Z"
   },
   {
    "duration": 47,
    "start_time": "2022-05-27T13:07:33.141Z"
   },
   {
    "duration": 44,
    "start_time": "2022-05-27T13:07:33.190Z"
   },
   {
    "duration": 112,
    "start_time": "2022-05-27T13:07:33.235Z"
   },
   {
    "duration": 206,
    "start_time": "2022-05-27T13:07:33.351Z"
   },
   {
    "duration": 19,
    "start_time": "2022-05-27T13:07:36.135Z"
   },
   {
    "duration": 4,
    "start_time": "2022-05-27T13:07:37.149Z"
   },
   {
    "duration": 3,
    "start_time": "2022-05-27T13:07:42.035Z"
   },
   {
    "duration": 25,
    "start_time": "2022-05-27T13:07:45.260Z"
   },
   {
    "duration": 27,
    "start_time": "2022-05-27T13:07:52.925Z"
   },
   {
    "duration": 25,
    "start_time": "2022-05-27T13:07:53.659Z"
   },
   {
    "duration": 27,
    "start_time": "2022-05-27T13:07:56.516Z"
   },
   {
    "duration": 20,
    "start_time": "2022-05-27T13:07:57.535Z"
   },
   {
    "duration": 15,
    "start_time": "2022-05-27T13:07:58.281Z"
   },
   {
    "duration": 4,
    "start_time": "2022-05-27T13:08:00.594Z"
   },
   {
    "duration": 5,
    "start_time": "2022-05-27T13:08:06.746Z"
   },
   {
    "duration": 5,
    "start_time": "2022-05-27T13:08:08.419Z"
   },
   {
    "duration": 9,
    "start_time": "2022-05-27T13:08:09.866Z"
   },
   {
    "duration": 8,
    "start_time": "2022-05-27T13:08:12.157Z"
   },
   {
    "duration": 10,
    "start_time": "2022-05-27T13:08:15.231Z"
   },
   {
    "duration": 8,
    "start_time": "2022-05-27T13:08:19.361Z"
   },
   {
    "duration": 8,
    "start_time": "2022-05-27T13:08:19.920Z"
   },
   {
    "duration": 6,
    "start_time": "2022-05-27T13:08:20.505Z"
   },
   {
    "duration": 4,
    "start_time": "2022-05-27T13:08:22.578Z"
   },
   {
    "duration": 6,
    "start_time": "2022-05-27T13:08:23.105Z"
   },
   {
    "duration": 5,
    "start_time": "2022-05-27T13:08:23.920Z"
   },
   {
    "duration": 5,
    "start_time": "2022-05-27T13:08:31.015Z"
   },
   {
    "duration": 7,
    "start_time": "2022-05-27T13:08:31.639Z"
   },
   {
    "duration": 5,
    "start_time": "2022-05-27T13:08:33.587Z"
   },
   {
    "duration": 8,
    "start_time": "2022-05-27T13:08:36.993Z"
   },
   {
    "duration": 8,
    "start_time": "2022-05-27T13:08:38.569Z"
   },
   {
    "duration": 7,
    "start_time": "2022-05-27T13:08:40.261Z"
   },
   {
    "duration": 15,
    "start_time": "2022-05-27T13:08:46.020Z"
   },
   {
    "duration": 11,
    "start_time": "2022-05-27T13:08:52.237Z"
   },
   {
    "duration": 5,
    "start_time": "2022-05-27T13:08:54.174Z"
   },
   {
    "duration": 147,
    "start_time": "2022-05-27T13:08:55.405Z"
   },
   {
    "duration": 12,
    "start_time": "2022-05-27T13:09:53.466Z"
   },
   {
    "duration": 12,
    "start_time": "2022-05-27T13:10:19.787Z"
   },
   {
    "duration": 3,
    "start_time": "2022-05-27T13:10:35.114Z"
   },
   {
    "duration": 22,
    "start_time": "2022-05-27T13:10:35.789Z"
   },
   {
    "duration": 17,
    "start_time": "2022-05-27T13:13:31.585Z"
   },
   {
    "duration": 6,
    "start_time": "2022-05-27T13:13:36.925Z"
   },
   {
    "duration": 13,
    "start_time": "2022-05-27T13:13:36.939Z"
   },
   {
    "duration": 6,
    "start_time": "2022-05-27T13:13:36.954Z"
   },
   {
    "duration": 149,
    "start_time": "2022-05-27T13:13:36.961Z"
   },
   {
    "duration": 160,
    "start_time": "2022-05-27T13:13:37.112Z"
   },
   {
    "duration": 138,
    "start_time": "2022-05-27T13:13:37.274Z"
   },
   {
    "duration": 24,
    "start_time": "2022-05-27T13:13:37.414Z"
   },
   {
    "duration": 34,
    "start_time": "2022-05-27T13:13:37.440Z"
   },
   {
    "duration": 38,
    "start_time": "2022-05-27T13:13:37.476Z"
   },
   {
    "duration": 74,
    "start_time": "2022-05-27T13:13:37.516Z"
   },
   {
    "duration": 13,
    "start_time": "2022-05-27T13:13:37.592Z"
   },
   {
    "duration": 37,
    "start_time": "2022-05-27T13:13:37.606Z"
   },
   {
    "duration": 20,
    "start_time": "2022-05-27T13:13:37.645Z"
   },
   {
    "duration": 15,
    "start_time": "2022-05-27T13:13:37.668Z"
   },
   {
    "duration": 13,
    "start_time": "2022-05-27T13:13:37.685Z"
   },
   {
    "duration": 14,
    "start_time": "2022-05-27T13:13:37.699Z"
   },
   {
    "duration": 32,
    "start_time": "2022-05-27T13:13:37.714Z"
   },
   {
    "duration": 19,
    "start_time": "2022-05-27T13:13:37.747Z"
   },
   {
    "duration": 17,
    "start_time": "2022-05-27T13:13:37.767Z"
   },
   {
    "duration": 14,
    "start_time": "2022-05-27T13:13:37.785Z"
   },
   {
    "duration": 22,
    "start_time": "2022-05-27T13:13:37.801Z"
   },
   {
    "duration": 32,
    "start_time": "2022-05-27T13:13:45.378Z"
   },
   {
    "duration": 16,
    "start_time": "2022-05-27T13:13:46.055Z"
   },
   {
    "duration": 15,
    "start_time": "2022-05-27T13:13:47.262Z"
   },
   {
    "duration": 6,
    "start_time": "2022-05-27T13:14:24.087Z"
   },
   {
    "duration": 5,
    "start_time": "2022-05-27T13:14:24.781Z"
   },
   {
    "duration": 6,
    "start_time": "2022-05-27T13:14:25.756Z"
   },
   {
    "duration": 45,
    "start_time": "2022-05-27T13:14:34.212Z"
   },
   {
    "duration": 3,
    "start_time": "2022-05-27T13:14:36.272Z"
   },
   {
    "duration": 19,
    "start_time": "2022-05-27T13:14:37.704Z"
   },
   {
    "duration": 14,
    "start_time": "2022-05-27T13:14:38.470Z"
   },
   {
    "duration": 17,
    "start_time": "2022-05-27T13:15:08.850Z"
   },
   {
    "duration": 2,
    "start_time": "2022-05-27T13:15:09.453Z"
   },
   {
    "duration": 14,
    "start_time": "2022-05-27T13:15:10.509Z"
   },
   {
    "duration": 15,
    "start_time": "2022-05-27T13:15:11.136Z"
   },
   {
    "duration": 4,
    "start_time": "2022-05-27T13:15:12.755Z"
   },
   {
    "duration": 3,
    "start_time": "2022-05-27T13:15:15.470Z"
   },
   {
    "duration": 20,
    "start_time": "2022-05-27T13:15:19.064Z"
   },
   {
    "duration": 17,
    "start_time": "2022-05-27T13:15:20.286Z"
   },
   {
    "duration": 18,
    "start_time": "2022-05-27T13:15:21.089Z"
   },
   {
    "duration": 16,
    "start_time": "2022-05-27T13:15:22.487Z"
   },
   {
    "duration": 19,
    "start_time": "2022-05-27T13:15:23.645Z"
   },
   {
    "duration": 39,
    "start_time": "2022-05-27T13:15:23.829Z"
   },
   {
    "duration": 5,
    "start_time": "2022-05-27T13:15:30.953Z"
   },
   {
    "duration": 9,
    "start_time": "2022-05-27T13:15:46.070Z"
   },
   {
    "duration": 9,
    "start_time": "2022-05-27T13:15:49.153Z"
   },
   {
    "duration": 6,
    "start_time": "2022-05-27T13:15:52.254Z"
   },
   {
    "duration": 5,
    "start_time": "2022-05-27T13:15:52.972Z"
   },
   {
    "duration": 7,
    "start_time": "2022-05-27T13:15:53.579Z"
   },
   {
    "duration": 7,
    "start_time": "2022-05-27T13:30:40.122Z"
   },
   {
    "duration": 4,
    "start_time": "2022-05-27T13:31:23.738Z"
   },
   {
    "duration": 18,
    "start_time": "2022-05-27T13:31:24.881Z"
   },
   {
    "duration": 6,
    "start_time": "2022-05-27T13:32:59.953Z"
   },
   {
    "duration": 6,
    "start_time": "2022-05-27T13:33:14.163Z"
   },
   {
    "duration": 12,
    "start_time": "2022-05-27T13:33:36.023Z"
   },
   {
    "duration": 8,
    "start_time": "2022-05-27T13:34:21.887Z"
   },
   {
    "duration": 6,
    "start_time": "2022-05-27T13:35:18.385Z"
   },
   {
    "duration": 8,
    "start_time": "2022-05-27T13:35:58.584Z"
   },
   {
    "duration": 9,
    "start_time": "2022-05-27T13:36:01.694Z"
   },
   {
    "duration": 6,
    "start_time": "2022-05-27T13:36:04.883Z"
   },
   {
    "duration": 5,
    "start_time": "2022-05-27T13:36:05.792Z"
   },
   {
    "duration": 80,
    "start_time": "2022-05-27T13:36:12.455Z"
   },
   {
    "duration": 3,
    "start_time": "2022-05-27T13:36:13.391Z"
   },
   {
    "duration": 17,
    "start_time": "2022-05-27T13:36:14.564Z"
   },
   {
    "duration": 22,
    "start_time": "2022-05-27T13:36:21.986Z"
   },
   {
    "duration": 10,
    "start_time": "2022-05-27T13:36:23.224Z"
   },
   {
    "duration": 2,
    "start_time": "2022-05-27T13:36:26.103Z"
   },
   {
    "duration": 18,
    "start_time": "2022-05-27T13:36:30.165Z"
   },
   {
    "duration": 24,
    "start_time": "2022-05-27T13:36:30.977Z"
   },
   {
    "duration": 25,
    "start_time": "2022-05-27T13:36:33.753Z"
   },
   {
    "duration": 63,
    "start_time": "2022-05-27T13:36:43.670Z"
   },
   {
    "duration": 17,
    "start_time": "2022-05-27T13:36:44.466Z"
   },
   {
    "duration": 18,
    "start_time": "2022-05-27T13:36:45.389Z"
   },
   {
    "duration": 4,
    "start_time": "2022-05-27T13:36:46.678Z"
   },
   {
    "duration": 6,
    "start_time": "2022-05-27T13:37:00.877Z"
   },
   {
    "duration": 6,
    "start_time": "2022-05-27T13:37:32.065Z"
   },
   {
    "duration": 19,
    "start_time": "2022-05-27T13:37:40.865Z"
   },
   {
    "duration": 5,
    "start_time": "2022-05-27T13:38:07.371Z"
   },
   {
    "duration": 6,
    "start_time": "2022-05-27T13:44:20.797Z"
   },
   {
    "duration": 1474,
    "start_time": "2022-05-29T08:39:57.040Z"
   },
   {
    "duration": 3,
    "start_time": "2022-05-29T08:39:58.516Z"
   },
   {
    "duration": 6,
    "start_time": "2022-05-29T08:39:58.520Z"
   },
   {
    "duration": 529,
    "start_time": "2022-05-29T08:39:58.527Z"
   },
   {
    "duration": 534,
    "start_time": "2022-05-29T08:39:59.058Z"
   },
   {
    "duration": 513,
    "start_time": "2022-05-29T08:39:59.594Z"
   },
   {
    "duration": 12,
    "start_time": "2022-05-29T08:40:00.108Z"
   },
   {
    "duration": 36,
    "start_time": "2022-05-29T08:40:00.122Z"
   },
   {
    "duration": 42,
    "start_time": "2022-05-29T08:40:00.159Z"
   },
   {
    "duration": 75,
    "start_time": "2022-05-29T08:40:00.203Z"
   },
   {
    "duration": 11,
    "start_time": "2022-05-29T08:40:00.280Z"
   },
   {
    "duration": 18,
    "start_time": "2022-05-29T08:40:00.293Z"
   },
   {
    "duration": 6,
    "start_time": "2022-05-29T08:40:00.313Z"
   },
   {
    "duration": 33,
    "start_time": "2022-05-29T08:40:00.320Z"
   },
   {
    "duration": 14,
    "start_time": "2022-05-29T08:40:00.355Z"
   },
   {
    "duration": 13,
    "start_time": "2022-05-29T08:40:00.371Z"
   },
   {
    "duration": 13,
    "start_time": "2022-05-29T08:40:00.386Z"
   },
   {
    "duration": 47,
    "start_time": "2022-05-29T08:40:00.401Z"
   },
   {
    "duration": 16,
    "start_time": "2022-05-29T08:40:00.449Z"
   },
   {
    "duration": 0,
    "start_time": "2022-05-29T08:40:00.466Z"
   },
   {
    "duration": 3,
    "start_time": "2022-05-29T08:40:04.409Z"
   },
   {
    "duration": 265,
    "start_time": "2022-05-29T08:40:15.551Z"
   },
   {
    "duration": 184,
    "start_time": "2022-05-29T08:41:13.619Z"
   },
   {
    "duration": 217,
    "start_time": "2022-05-29T08:43:30.129Z"
   },
   {
    "duration": 3,
    "start_time": "2022-05-29T08:43:34.680Z"
   },
   {
    "duration": 13,
    "start_time": "2022-05-29T08:43:36.582Z"
   },
   {
    "duration": 171,
    "start_time": "2022-05-29T08:44:17.601Z"
   },
   {
    "duration": 3,
    "start_time": "2022-05-29T08:44:19.030Z"
   },
   {
    "duration": 12,
    "start_time": "2022-05-29T08:44:20.208Z"
   },
   {
    "duration": 19,
    "start_time": "2022-05-29T08:44:27.938Z"
   },
   {
    "duration": 25,
    "start_time": "2022-05-29T08:44:50.090Z"
   },
   {
    "duration": 9,
    "start_time": "2022-05-29T08:45:50.559Z"
   },
   {
    "duration": 6,
    "start_time": "2022-05-29T08:45:58.079Z"
   },
   {
    "duration": 24,
    "start_time": "2022-05-29T08:47:16.950Z"
   },
   {
    "duration": 26,
    "start_time": "2022-05-29T08:48:29.330Z"
   },
   {
    "duration": 13,
    "start_time": "2022-05-29T08:48:40.601Z"
   },
   {
    "duration": 20,
    "start_time": "2022-05-29T08:48:55.743Z"
   },
   {
    "duration": 9,
    "start_time": "2022-05-29T08:50:21.571Z"
   },
   {
    "duration": 15,
    "start_time": "2022-05-29T08:50:51.140Z"
   },
   {
    "duration": 8,
    "start_time": "2022-05-29T08:51:14.012Z"
   },
   {
    "duration": 5,
    "start_time": "2022-05-29T08:51:29.621Z"
   },
   {
    "duration": 13,
    "start_time": "2022-05-29T08:53:01.038Z"
   },
   {
    "duration": 5,
    "start_time": "2022-05-29T08:53:06.329Z"
   },
   {
    "duration": 28,
    "start_time": "2022-05-29T08:53:16.831Z"
   },
   {
    "duration": 35,
    "start_time": "2022-05-29T08:55:14.391Z"
   },
   {
    "duration": 4,
    "start_time": "2022-05-29T08:55:19.930Z"
   },
   {
    "duration": 10,
    "start_time": "2022-05-29T08:55:22.179Z"
   },
   {
    "duration": 5,
    "start_time": "2022-05-29T08:55:24.390Z"
   },
   {
    "duration": 23,
    "start_time": "2022-05-29T08:55:25.824Z"
   },
   {
    "duration": 3,
    "start_time": "2022-05-29T08:57:59.970Z"
   },
   {
    "duration": 8,
    "start_time": "2022-05-29T08:58:00.950Z"
   },
   {
    "duration": 3,
    "start_time": "2022-05-29T09:02:21.781Z"
   },
   {
    "duration": 10,
    "start_time": "2022-05-29T09:02:22.520Z"
   },
   {
    "duration": 5,
    "start_time": "2022-05-29T09:02:24.698Z"
   },
   {
    "duration": 22,
    "start_time": "2022-05-29T09:02:27.471Z"
   },
   {
    "duration": 6,
    "start_time": "2022-05-29T09:03:50.101Z"
   },
   {
    "duration": 6,
    "start_time": "2022-05-29T09:04:12.048Z"
   },
   {
    "duration": 153,
    "start_time": "2022-05-29T09:04:37.259Z"
   },
   {
    "duration": 6,
    "start_time": "2022-05-29T09:04:37.908Z"
   },
   {
    "duration": 5,
    "start_time": "2022-05-29T09:04:43.227Z"
   },
   {
    "duration": 179,
    "start_time": "2022-05-29T09:04:52.063Z"
   },
   {
    "duration": 12,
    "start_time": "2022-05-29T09:04:56.971Z"
   },
   {
    "duration": 229,
    "start_time": "2022-05-29T09:05:09.922Z"
   },
   {
    "duration": 160,
    "start_time": "2022-05-29T09:05:16.381Z"
   },
   {
    "duration": 5,
    "start_time": "2022-05-29T09:05:17.648Z"
   },
   {
    "duration": 6,
    "start_time": "2022-05-29T09:05:24.303Z"
   },
   {
    "duration": 3,
    "start_time": "2022-05-29T09:05:26.232Z"
   },
   {
    "duration": 16,
    "start_time": "2022-05-29T09:05:27.452Z"
   },
   {
    "duration": 8,
    "start_time": "2022-05-29T09:05:52.125Z"
   },
   {
    "duration": 7,
    "start_time": "2022-05-29T09:05:55.581Z"
   },
   {
    "duration": 26,
    "start_time": "2022-05-29T09:05:57.751Z"
   },
   {
    "duration": 3,
    "start_time": "2022-05-29T09:07:27.490Z"
   },
   {
    "duration": 7,
    "start_time": "2022-05-29T09:07:29.212Z"
   },
   {
    "duration": 5,
    "start_time": "2022-05-29T09:07:32.601Z"
   },
   {
    "duration": 19,
    "start_time": "2022-05-29T09:07:34.577Z"
   },
   {
    "duration": 3,
    "start_time": "2022-05-29T09:07:44.805Z"
   },
   {
    "duration": 2051,
    "start_time": "2022-05-29T09:07:50.073Z"
   },
   {
    "duration": 2000,
    "start_time": "2022-05-29T09:08:05.871Z"
   },
   {
    "duration": 6,
    "start_time": "2022-05-29T09:11:42.432Z"
   },
   {
    "duration": 10,
    "start_time": "2022-05-29T09:12:25.432Z"
   },
   {
    "duration": 4,
    "start_time": "2022-05-29T09:12:32.642Z"
   },
   {
    "duration": 15,
    "start_time": "2022-05-29T09:12:32.648Z"
   },
   {
    "duration": 6,
    "start_time": "2022-05-29T09:12:32.665Z"
   },
   {
    "duration": 146,
    "start_time": "2022-05-29T09:12:32.672Z"
   },
   {
    "duration": 133,
    "start_time": "2022-05-29T09:12:32.820Z"
   },
   {
    "duration": 133,
    "start_time": "2022-05-29T09:12:32.955Z"
   },
   {
    "duration": 9,
    "start_time": "2022-05-29T09:12:33.090Z"
   },
   {
    "duration": 63,
    "start_time": "2022-05-29T09:12:33.100Z"
   },
   {
    "duration": 43,
    "start_time": "2022-05-29T09:12:33.166Z"
   },
   {
    "duration": 102,
    "start_time": "2022-05-29T09:12:33.211Z"
   },
   {
    "duration": 28,
    "start_time": "2022-05-29T09:12:33.315Z"
   },
   {
    "duration": 21,
    "start_time": "2022-05-29T09:12:33.345Z"
   },
   {
    "duration": 4,
    "start_time": "2022-05-29T09:12:33.367Z"
   },
   {
    "duration": 19,
    "start_time": "2022-05-29T09:12:33.374Z"
   },
   {
    "duration": 14,
    "start_time": "2022-05-29T09:12:33.395Z"
   },
   {
    "duration": 42,
    "start_time": "2022-05-29T09:12:33.411Z"
   },
   {
    "duration": 13,
    "start_time": "2022-05-29T09:12:33.454Z"
   },
   {
    "duration": 16,
    "start_time": "2022-05-29T09:12:33.470Z"
   },
   {
    "duration": 165,
    "start_time": "2022-05-29T09:12:33.487Z"
   },
   {
    "duration": 91,
    "start_time": "2022-05-29T09:12:33.655Z"
   },
   {
    "duration": 100,
    "start_time": "2022-05-29T09:12:33.749Z"
   },
   {
    "duration": 5,
    "start_time": "2022-05-29T09:12:33.851Z"
   },
   {
    "duration": 15,
    "start_time": "2022-05-29T09:12:33.858Z"
   },
   {
    "duration": 0,
    "start_time": "2022-05-29T09:12:33.875Z"
   },
   {
    "duration": 0,
    "start_time": "2022-05-29T09:12:33.876Z"
   },
   {
    "duration": 0,
    "start_time": "2022-05-29T09:12:33.877Z"
   },
   {
    "duration": 0,
    "start_time": "2022-05-29T09:12:33.878Z"
   },
   {
    "duration": 0,
    "start_time": "2022-05-29T09:12:33.880Z"
   },
   {
    "duration": 0,
    "start_time": "2022-05-29T09:12:33.881Z"
   },
   {
    "duration": 0,
    "start_time": "2022-05-29T09:12:33.883Z"
   },
   {
    "duration": 5,
    "start_time": "2022-05-29T09:14:20.857Z"
   },
   {
    "duration": 16,
    "start_time": "2022-05-29T09:14:20.864Z"
   },
   {
    "duration": 6,
    "start_time": "2022-05-29T09:14:20.884Z"
   },
   {
    "duration": 143,
    "start_time": "2022-05-29T09:14:20.892Z"
   },
   {
    "duration": 125,
    "start_time": "2022-05-29T09:14:21.036Z"
   },
   {
    "duration": 128,
    "start_time": "2022-05-29T09:14:21.162Z"
   },
   {
    "duration": 9,
    "start_time": "2022-05-29T09:14:21.292Z"
   },
   {
    "duration": 42,
    "start_time": "2022-05-29T09:14:21.303Z"
   },
   {
    "duration": 40,
    "start_time": "2022-05-29T09:14:21.346Z"
   },
   {
    "duration": 82,
    "start_time": "2022-05-29T09:14:21.389Z"
   },
   {
    "duration": 12,
    "start_time": "2022-05-29T09:14:21.473Z"
   },
   {
    "duration": 15,
    "start_time": "2022-05-29T09:14:21.487Z"
   },
   {
    "duration": 7,
    "start_time": "2022-05-29T09:14:21.504Z"
   },
   {
    "duration": 31,
    "start_time": "2022-05-29T09:14:21.514Z"
   },
   {
    "duration": 15,
    "start_time": "2022-05-29T09:14:21.547Z"
   },
   {
    "duration": 15,
    "start_time": "2022-05-29T09:14:21.563Z"
   },
   {
    "duration": 10,
    "start_time": "2022-05-29T09:14:21.580Z"
   },
   {
    "duration": 15,
    "start_time": "2022-05-29T09:14:21.591Z"
   },
   {
    "duration": 235,
    "start_time": "2022-05-29T09:14:21.607Z"
   },
   {
    "duration": 9,
    "start_time": "2022-05-29T09:14:21.844Z"
   },
   {
    "duration": 95,
    "start_time": "2022-05-29T09:14:21.855Z"
   },
   {
    "duration": 6,
    "start_time": "2022-05-29T09:14:26.009Z"
   },
   {
    "duration": 5,
    "start_time": "2022-05-29T09:14:26.931Z"
   },
   {
    "duration": 7,
    "start_time": "2022-05-29T09:15:37.379Z"
   },
   {
    "duration": 5,
    "start_time": "2022-05-29T09:15:45.311Z"
   },
   {
    "duration": 2004,
    "start_time": "2022-05-29T09:15:49.324Z"
   },
   {
    "duration": 12,
    "start_time": "2022-05-29T09:20:44.619Z"
   },
   {
    "duration": 3,
    "start_time": "2022-05-29T09:20:45.612Z"
   },
   {
    "duration": 23,
    "start_time": "2022-05-29T09:20:47.981Z"
   },
   {
    "duration": 2,
    "start_time": "2022-05-29T09:20:50.211Z"
   },
   {
    "duration": 6,
    "start_time": "2022-05-29T09:20:52.461Z"
   },
   {
    "duration": 7,
    "start_time": "2022-05-29T09:21:12.061Z"
   },
   {
    "duration": 7,
    "start_time": "2022-05-29T09:21:26.423Z"
   },
   {
    "duration": 23,
    "start_time": "2022-05-29T09:22:08.829Z"
   },
   {
    "duration": 6,
    "start_time": "2022-05-29T09:22:11.112Z"
   },
   {
    "duration": 10,
    "start_time": "2022-05-29T09:22:19.192Z"
   },
   {
    "duration": 8,
    "start_time": "2022-05-29T09:23:13.382Z"
   },
   {
    "duration": 8,
    "start_time": "2022-05-29T09:23:39.645Z"
   },
   {
    "duration": 8,
    "start_time": "2022-05-29T09:24:00.591Z"
   },
   {
    "duration": 8,
    "start_time": "2022-05-29T09:24:29.217Z"
   },
   {
    "duration": 4,
    "start_time": "2022-05-29T09:25:34.379Z"
   },
   {
    "duration": 5,
    "start_time": "2022-05-29T09:25:35.065Z"
   },
   {
    "duration": 19,
    "start_time": "2022-05-29T09:26:07.983Z"
   },
   {
    "duration": 2,
    "start_time": "2022-05-29T09:26:09.469Z"
   },
   {
    "duration": 19,
    "start_time": "2022-05-29T09:26:11.762Z"
   },
   {
    "duration": 28,
    "start_time": "2022-05-29T09:26:13.972Z"
   },
   {
    "duration": 3,
    "start_time": "2022-05-29T09:26:15.744Z"
   },
   {
    "duration": 4,
    "start_time": "2022-05-29T09:26:19.497Z"
   },
   {
    "duration": 26,
    "start_time": "2022-05-29T09:29:05.870Z"
   },
   {
    "duration": 26,
    "start_time": "2022-05-29T09:29:45.322Z"
   },
   {
    "duration": 32,
    "start_time": "2022-05-29T09:30:37.784Z"
   },
   {
    "duration": 27,
    "start_time": "2022-05-29T09:31:02.275Z"
   },
   {
    "duration": 26,
    "start_time": "2022-05-29T09:31:30.721Z"
   },
   {
    "duration": 21,
    "start_time": "2022-05-29T09:31:52.624Z"
   },
   {
    "duration": 10,
    "start_time": "2022-05-29T09:32:00.901Z"
   },
   {
    "duration": 10,
    "start_time": "2022-05-29T09:32:21.357Z"
   },
   {
    "duration": 14,
    "start_time": "2022-05-29T09:32:41.892Z"
   },
   {
    "duration": 64,
    "start_time": "2022-05-29T09:34:22.878Z"
   },
   {
    "duration": 20,
    "start_time": "2022-05-29T09:34:28.189Z"
   },
   {
    "duration": 5,
    "start_time": "2022-05-29T09:36:04.303Z"
   },
   {
    "duration": 5,
    "start_time": "2022-05-29T09:36:35.242Z"
   },
   {
    "duration": 5,
    "start_time": "2022-05-29T09:36:40.330Z"
   },
   {
    "duration": 6,
    "start_time": "2022-05-29T09:36:44.139Z"
   },
   {
    "duration": 6,
    "start_time": "2022-05-29T09:36:48.411Z"
   },
   {
    "duration": 7,
    "start_time": "2022-05-29T09:36:53.891Z"
   },
   {
    "duration": 9,
    "start_time": "2022-05-29T09:36:56.966Z"
   },
   {
    "duration": 7,
    "start_time": "2022-05-29T09:37:00.163Z"
   },
   {
    "duration": 16,
    "start_time": "2022-05-29T09:37:06.472Z"
   },
   {
    "duration": 13,
    "start_time": "2022-05-29T09:37:16.581Z"
   },
   {
    "duration": 9,
    "start_time": "2022-05-29T09:37:17.144Z"
   },
   {
    "duration": 6,
    "start_time": "2022-05-29T09:37:25.932Z"
   },
   {
    "duration": 19,
    "start_time": "2022-05-29T09:37:25.940Z"
   },
   {
    "duration": 11,
    "start_time": "2022-05-29T09:37:25.960Z"
   },
   {
    "duration": 170,
    "start_time": "2022-05-29T09:37:25.972Z"
   },
   {
    "duration": 135,
    "start_time": "2022-05-29T09:37:26.145Z"
   },
   {
    "duration": 138,
    "start_time": "2022-05-29T09:37:26.281Z"
   },
   {
    "duration": 12,
    "start_time": "2022-05-29T09:37:26.422Z"
   },
   {
    "duration": 47,
    "start_time": "2022-05-29T09:37:26.436Z"
   },
   {
    "duration": 60,
    "start_time": "2022-05-29T09:37:26.485Z"
   },
   {
    "duration": 72,
    "start_time": "2022-05-29T09:37:26.547Z"
   },
   {
    "duration": 26,
    "start_time": "2022-05-29T09:37:26.621Z"
   },
   {
    "duration": 15,
    "start_time": "2022-05-29T09:37:26.648Z"
   },
   {
    "duration": 7,
    "start_time": "2022-05-29T09:37:26.665Z"
   },
   {
    "duration": 18,
    "start_time": "2022-05-29T09:37:26.673Z"
   },
   {
    "duration": 14,
    "start_time": "2022-05-29T09:37:26.692Z"
   },
   {
    "duration": 43,
    "start_time": "2022-05-29T09:37:26.708Z"
   },
   {
    "duration": 13,
    "start_time": "2022-05-29T09:37:26.752Z"
   },
   {
    "duration": 22,
    "start_time": "2022-05-29T09:37:26.767Z"
   },
   {
    "duration": 250,
    "start_time": "2022-05-29T09:37:26.791Z"
   },
   {
    "duration": 5,
    "start_time": "2022-05-29T09:37:27.043Z"
   },
   {
    "duration": 106,
    "start_time": "2022-05-29T09:37:27.050Z"
   },
   {
    "duration": 6,
    "start_time": "2022-05-29T09:37:27.158Z"
   },
   {
    "duration": 1910,
    "start_time": "2022-05-29T09:37:27.166Z"
   },
   {
    "duration": 13,
    "start_time": "2022-05-29T09:37:29.077Z"
   },
   {
    "duration": 7,
    "start_time": "2022-05-29T09:37:29.092Z"
   },
   {
    "duration": 42,
    "start_time": "2022-05-29T09:37:29.101Z"
   },
   {
    "duration": 6,
    "start_time": "2022-05-29T09:37:29.145Z"
   },
   {
    "duration": 13,
    "start_time": "2022-05-29T09:37:29.153Z"
   },
   {
    "duration": 5,
    "start_time": "2022-05-29T09:37:29.170Z"
   },
   {
    "duration": 6,
    "start_time": "2022-05-29T09:37:29.176Z"
   },
   {
    "duration": 5,
    "start_time": "2022-05-29T09:37:29.183Z"
   },
   {
    "duration": 57,
    "start_time": "2022-05-29T09:37:29.190Z"
   },
   {
    "duration": 3,
    "start_time": "2022-05-29T09:37:29.249Z"
   },
   {
    "duration": 101,
    "start_time": "2022-05-29T09:37:29.254Z"
   },
   {
    "duration": 188,
    "start_time": "2022-05-29T09:37:29.357Z"
   },
   {
    "duration": 99,
    "start_time": "2022-05-29T09:37:29.547Z"
   },
   {
    "duration": 5,
    "start_time": "2022-05-29T09:37:29.648Z"
   },
   {
    "duration": 21,
    "start_time": "2022-05-29T09:37:29.655Z"
   },
   {
    "duration": 20,
    "start_time": "2022-05-29T09:37:29.678Z"
   },
   {
    "duration": 17,
    "start_time": "2022-05-29T09:37:29.699Z"
   },
   {
    "duration": 19,
    "start_time": "2022-05-29T09:37:29.740Z"
   },
   {
    "duration": 187,
    "start_time": "2022-05-29T09:37:29.761Z"
   },
   {
    "duration": 196,
    "start_time": "2022-05-29T09:37:29.951Z"
   },
   {
    "duration": 101,
    "start_time": "2022-05-29T09:37:30.153Z"
   },
   {
    "duration": 101,
    "start_time": "2022-05-29T09:37:30.256Z"
   },
   {
    "duration": 0,
    "start_time": "2022-05-29T09:37:30.359Z"
   },
   {
    "duration": 0,
    "start_time": "2022-05-29T09:37:30.361Z"
   },
   {
    "duration": 0,
    "start_time": "2022-05-29T09:37:30.362Z"
   },
   {
    "duration": 0,
    "start_time": "2022-05-29T09:37:30.363Z"
   },
   {
    "duration": 0,
    "start_time": "2022-05-29T09:37:30.364Z"
   },
   {
    "duration": 9,
    "start_time": "2022-05-29T09:37:35.086Z"
   },
   {
    "duration": 9,
    "start_time": "2022-05-29T09:37:38.319Z"
   },
   {
    "duration": 4,
    "start_time": "2022-05-29T09:38:28.524Z"
   },
   {
    "duration": 9,
    "start_time": "2022-05-29T09:38:31.598Z"
   },
   {
    "duration": 4,
    "start_time": "2022-05-29T09:38:35.531Z"
   },
   {
    "duration": 4,
    "start_time": "2022-05-29T09:38:46.581Z"
   },
   {
    "duration": 10,
    "start_time": "2022-05-29T09:38:47.042Z"
   },
   {
    "duration": 6,
    "start_time": "2022-05-29T09:38:47.503Z"
   },
   {
    "duration": 7,
    "start_time": "2022-05-29T09:38:48.476Z"
   },
   {
    "duration": 158,
    "start_time": "2022-05-29T09:38:51.085Z"
   },
   {
    "duration": 5,
    "start_time": "2022-05-29T09:38:51.967Z"
   },
   {
    "duration": 5,
    "start_time": "2022-05-29T09:38:52.962Z"
   },
   {
    "duration": 3,
    "start_time": "2022-05-29T09:38:58.911Z"
   },
   {
    "duration": 5,
    "start_time": "2022-05-29T09:38:59.562Z"
   },
   {
    "duration": 5,
    "start_time": "2022-05-29T09:39:00.470Z"
   },
   {
    "duration": 5,
    "start_time": "2022-05-29T09:39:06.521Z"
   },
   {
    "duration": 5,
    "start_time": "2022-05-29T09:39:11.370Z"
   },
   {
    "duration": 5,
    "start_time": "2022-05-29T09:39:11.706Z"
   },
   {
    "duration": 5,
    "start_time": "2022-05-29T09:39:11.862Z"
   },
   {
    "duration": 6,
    "start_time": "2022-05-29T09:39:12.453Z"
   },
   {
    "duration": 6,
    "start_time": "2022-05-29T09:39:12.928Z"
   },
   {
    "duration": 7,
    "start_time": "2022-05-29T09:39:13.446Z"
   },
   {
    "duration": 13,
    "start_time": "2022-05-29T09:39:14.118Z"
   },
   {
    "duration": 9,
    "start_time": "2022-05-29T09:39:22.131Z"
   },
   {
    "duration": 4,
    "start_time": "2022-05-29T09:39:54.971Z"
   },
   {
    "duration": 56,
    "start_time": "2022-05-29T09:40:27.970Z"
   },
   {
    "duration": 5,
    "start_time": "2022-05-29T09:40:33.699Z"
   },
   {
    "duration": 14,
    "start_time": "2022-05-29T09:41:29.031Z"
   },
   {
    "duration": 14,
    "start_time": "2022-05-29T09:41:42.595Z"
   },
   {
    "duration": 18,
    "start_time": "2022-05-29T09:41:51.730Z"
   },
   {
    "duration": 4947,
    "start_time": "2022-05-29T09:43:08.774Z"
   },
   {
    "duration": 2059,
    "start_time": "2022-05-29T09:43:28.644Z"
   },
   {
    "duration": 619,
    "start_time": "2022-05-29T09:45:38.995Z"
   },
   {
    "duration": 605,
    "start_time": "2022-05-29T09:47:04.983Z"
   },
   {
    "duration": 655,
    "start_time": "2022-05-29T09:47:06.399Z"
   },
   {
    "duration": 612,
    "start_time": "2022-05-29T09:48:06.995Z"
   },
   {
    "duration": 16,
    "start_time": "2022-05-29T09:48:57.410Z"
   },
   {
    "duration": 50,
    "start_time": "2022-05-29T09:49:13.090Z"
   },
   {
    "duration": 18,
    "start_time": "2022-05-29T09:49:29.663Z"
   },
   {
    "duration": 6,
    "start_time": "2022-05-29T09:49:41.062Z"
   },
   {
    "duration": 3,
    "start_time": "2022-05-29T09:51:01.290Z"
   },
   {
    "duration": 5,
    "start_time": "2022-05-29T09:51:02.272Z"
   },
   {
    "duration": 605,
    "start_time": "2022-05-29T09:51:03.680Z"
   },
   {
    "duration": 8,
    "start_time": "2022-05-29T09:51:05.219Z"
   },
   {
    "duration": 699,
    "start_time": "2022-05-29T09:51:06.394Z"
   },
   {
    "duration": 673,
    "start_time": "2022-05-29T09:51:08.233Z"
   },
   {
    "duration": 19,
    "start_time": "2022-05-29T09:51:10.222Z"
   },
   {
    "duration": 6,
    "start_time": "2022-05-29T09:51:12.269Z"
   },
   {
    "duration": 74,
    "start_time": "2022-05-30T07:02:58.971Z"
   },
   {
    "duration": 0,
    "start_time": "2022-05-30T07:02:59.049Z"
   },
   {
    "duration": 0,
    "start_time": "2022-05-30T07:02:59.050Z"
   },
   {
    "duration": 0,
    "start_time": "2022-05-30T07:02:59.052Z"
   },
   {
    "duration": 0,
    "start_time": "2022-05-30T07:02:59.053Z"
   },
   {
    "duration": 0,
    "start_time": "2022-05-30T07:02:59.054Z"
   },
   {
    "duration": 0,
    "start_time": "2022-05-30T07:02:59.056Z"
   },
   {
    "duration": 0,
    "start_time": "2022-05-30T07:02:59.057Z"
   },
   {
    "duration": 0,
    "start_time": "2022-05-30T07:02:59.058Z"
   },
   {
    "duration": 0,
    "start_time": "2022-05-30T07:02:59.060Z"
   },
   {
    "duration": 0,
    "start_time": "2022-05-30T07:02:59.062Z"
   },
   {
    "duration": 0,
    "start_time": "2022-05-30T07:02:59.063Z"
   },
   {
    "duration": 0,
    "start_time": "2022-05-30T07:02:59.064Z"
   },
   {
    "duration": 0,
    "start_time": "2022-05-30T07:02:59.066Z"
   },
   {
    "duration": 0,
    "start_time": "2022-05-30T07:02:59.067Z"
   },
   {
    "duration": 0,
    "start_time": "2022-05-30T07:02:59.068Z"
   },
   {
    "duration": 0,
    "start_time": "2022-05-30T07:02:59.069Z"
   },
   {
    "duration": 0,
    "start_time": "2022-05-30T07:02:59.071Z"
   },
   {
    "duration": 0,
    "start_time": "2022-05-30T07:02:59.073Z"
   },
   {
    "duration": 0,
    "start_time": "2022-05-30T07:02:59.076Z"
   },
   {
    "duration": 0,
    "start_time": "2022-05-30T07:02:59.078Z"
   },
   {
    "duration": 0,
    "start_time": "2022-05-30T07:02:59.080Z"
   },
   {
    "duration": 0,
    "start_time": "2022-05-30T07:02:59.082Z"
   },
   {
    "duration": 0,
    "start_time": "2022-05-30T07:02:59.085Z"
   },
   {
    "duration": 32,
    "start_time": "2022-05-30T07:05:25.886Z"
   },
   {
    "duration": 1871,
    "start_time": "2022-05-30T07:16:55.519Z"
   },
   {
    "duration": 4,
    "start_time": "2022-05-30T07:16:57.394Z"
   },
   {
    "duration": 10,
    "start_time": "2022-05-30T07:16:57.400Z"
   },
   {
    "duration": 443,
    "start_time": "2022-05-30T07:16:57.413Z"
   },
   {
    "duration": 251,
    "start_time": "2022-05-30T07:16:57.858Z"
   },
   {
    "duration": 248,
    "start_time": "2022-05-30T07:16:58.111Z"
   },
   {
    "duration": 22,
    "start_time": "2022-05-30T07:16:58.361Z"
   },
   {
    "duration": 42,
    "start_time": "2022-05-30T07:16:58.385Z"
   },
   {
    "duration": 87,
    "start_time": "2022-05-30T07:16:58.429Z"
   },
   {
    "duration": 119,
    "start_time": "2022-05-30T07:16:58.520Z"
   },
   {
    "duration": 29,
    "start_time": "2022-05-30T07:16:58.641Z"
   },
   {
    "duration": 23,
    "start_time": "2022-05-30T07:16:58.672Z"
   },
   {
    "duration": 22,
    "start_time": "2022-05-30T07:16:58.697Z"
   },
   {
    "duration": 26,
    "start_time": "2022-05-30T07:16:58.721Z"
   },
   {
    "duration": 32,
    "start_time": "2022-05-30T07:16:58.750Z"
   },
   {
    "duration": 23,
    "start_time": "2022-05-30T07:16:58.785Z"
   },
   {
    "duration": 56,
    "start_time": "2022-05-30T07:16:58.811Z"
   },
   {
    "duration": 23,
    "start_time": "2022-05-30T07:16:58.870Z"
   },
   {
    "duration": 37,
    "start_time": "2022-05-30T07:16:58.896Z"
   },
   {
    "duration": 18,
    "start_time": "2022-05-30T07:16:58.939Z"
   },
   {
    "duration": 67,
    "start_time": "2022-05-30T07:16:58.959Z"
   },
   {
    "duration": 8,
    "start_time": "2022-05-30T07:19:44.538Z"
   },
   {
    "duration": 123,
    "start_time": "2022-05-30T07:19:47.187Z"
   },
   {
    "duration": 4,
    "start_time": "2022-05-30T07:19:52.379Z"
   },
   {
    "duration": 8,
    "start_time": "2022-05-30T07:19:53.088Z"
   },
   {
    "duration": 47,
    "start_time": "2022-05-30T07:33:16.696Z"
   },
   {
    "duration": 10,
    "start_time": "2022-05-30T07:34:38.193Z"
   },
   {
    "duration": 32,
    "start_time": "2022-05-30T07:35:22.610Z"
   },
   {
    "duration": 11,
    "start_time": "2022-05-30T07:35:23.762Z"
   },
   {
    "duration": 444,
    "start_time": "2022-05-30T07:37:25.493Z"
   },
   {
    "duration": 29,
    "start_time": "2022-05-30T07:38:19.643Z"
   },
   {
    "duration": 29,
    "start_time": "2022-05-30T07:39:18.374Z"
   },
   {
    "duration": 34,
    "start_time": "2022-05-30T07:39:34.885Z"
   },
   {
    "duration": 26,
    "start_time": "2022-05-30T07:40:05.477Z"
   },
   {
    "duration": 8,
    "start_time": "2022-05-30T07:40:06.904Z"
   },
   {
    "duration": 23,
    "start_time": "2022-05-30T07:53:57.162Z"
   },
   {
    "duration": 15,
    "start_time": "2022-05-30T07:54:43.706Z"
   },
   {
    "duration": 5,
    "start_time": "2022-05-30T07:54:47.474Z"
   },
   {
    "duration": 2,
    "start_time": "2022-05-30T07:54:52.923Z"
   },
   {
    "duration": 482,
    "start_time": "2022-05-30T07:54:53.779Z"
   },
   {
    "duration": 16,
    "start_time": "2022-05-30T09:05:18.080Z"
   },
   {
    "duration": 16,
    "start_time": "2022-05-30T09:05:39.177Z"
   },
   {
    "duration": 478,
    "start_time": "2022-05-30T09:06:13.569Z"
   },
   {
    "duration": 104,
    "start_time": "2022-05-30T09:07:40.573Z"
   },
   {
    "duration": 5,
    "start_time": "2022-05-30T09:07:56.318Z"
   },
   {
    "duration": 10,
    "start_time": "2022-05-30T09:07:56.325Z"
   },
   {
    "duration": 7,
    "start_time": "2022-05-30T09:07:56.337Z"
   },
   {
    "duration": 175,
    "start_time": "2022-05-30T09:07:56.346Z"
   },
   {
    "duration": 153,
    "start_time": "2022-05-30T09:07:56.522Z"
   },
   {
    "duration": 151,
    "start_time": "2022-05-30T09:07:56.676Z"
   },
   {
    "duration": 10,
    "start_time": "2022-05-30T09:07:56.828Z"
   },
   {
    "duration": 59,
    "start_time": "2022-05-30T09:07:56.840Z"
   },
   {
    "duration": 45,
    "start_time": "2022-05-30T09:07:56.901Z"
   },
   {
    "duration": 81,
    "start_time": "2022-05-30T09:07:56.964Z"
   },
   {
    "duration": 29,
    "start_time": "2022-05-30T09:07:57.047Z"
   },
   {
    "duration": 20,
    "start_time": "2022-05-30T09:07:57.078Z"
   },
   {
    "duration": 4,
    "start_time": "2022-05-30T09:07:57.101Z"
   },
   {
    "duration": 26,
    "start_time": "2022-05-30T09:07:57.107Z"
   },
   {
    "duration": 43,
    "start_time": "2022-05-30T09:07:57.134Z"
   },
   {
    "duration": 15,
    "start_time": "2022-05-30T09:07:57.179Z"
   },
   {
    "duration": 11,
    "start_time": "2022-05-30T09:07:57.196Z"
   },
   {
    "duration": 20,
    "start_time": "2022-05-30T09:07:57.208Z"
   },
   {
    "duration": 16,
    "start_time": "2022-05-30T09:07:57.264Z"
   },
   {
    "duration": 11,
    "start_time": "2022-05-30T09:07:57.283Z"
   },
   {
    "duration": 38,
    "start_time": "2022-05-30T09:07:57.296Z"
   },
   {
    "duration": 2,
    "start_time": "2022-05-30T09:07:57.336Z"
   },
   {
    "duration": 30,
    "start_time": "2022-05-30T09:07:57.340Z"
   },
   {
    "duration": 16,
    "start_time": "2022-05-30T09:07:57.372Z"
   },
   {
    "duration": 15,
    "start_time": "2022-05-30T09:07:57.390Z"
   },
   {
    "duration": 9,
    "start_time": "2022-05-30T09:07:57.407Z"
   },
   {
    "duration": 16,
    "start_time": "2022-05-30T09:07:57.418Z"
   },
   {
    "duration": 33,
    "start_time": "2022-05-30T09:07:57.437Z"
   },
   {
    "duration": 9,
    "start_time": "2022-05-30T09:07:57.471Z"
   },
   {
    "duration": 7,
    "start_time": "2022-05-30T09:07:57.482Z"
   },
   {
    "duration": 32,
    "start_time": "2022-05-30T09:07:57.491Z"
   },
   {
    "duration": 0,
    "start_time": "2022-05-30T09:07:57.525Z"
   },
   {
    "duration": 6,
    "start_time": "2022-05-30T09:08:04.475Z"
   },
   {
    "duration": 8,
    "start_time": "2022-05-30T09:08:04.484Z"
   },
   {
    "duration": 16,
    "start_time": "2022-05-30T09:08:04.494Z"
   },
   {
    "duration": 184,
    "start_time": "2022-05-30T09:08:04.513Z"
   },
   {
    "duration": 143,
    "start_time": "2022-05-30T09:08:04.699Z"
   },
   {
    "duration": 149,
    "start_time": "2022-05-30T09:08:04.844Z"
   },
   {
    "duration": 10,
    "start_time": "2022-05-30T09:08:04.995Z"
   },
   {
    "duration": 59,
    "start_time": "2022-05-30T09:08:05.007Z"
   },
   {
    "duration": 47,
    "start_time": "2022-05-30T09:08:05.068Z"
   },
   {
    "duration": 99,
    "start_time": "2022-05-30T09:08:05.118Z"
   },
   {
    "duration": 13,
    "start_time": "2022-05-30T09:08:05.219Z"
   },
   {
    "duration": 13,
    "start_time": "2022-05-30T09:08:05.264Z"
   },
   {
    "duration": 7,
    "start_time": "2022-05-30T09:08:05.279Z"
   },
   {
    "duration": 22,
    "start_time": "2022-05-30T09:08:05.288Z"
   },
   {
    "duration": 16,
    "start_time": "2022-05-30T09:08:05.312Z"
   },
   {
    "duration": 50,
    "start_time": "2022-05-30T09:08:05.329Z"
   },
   {
    "duration": 13,
    "start_time": "2022-05-30T09:08:05.381Z"
   },
   {
    "duration": 20,
    "start_time": "2022-05-30T09:08:05.396Z"
   },
   {
    "duration": 50,
    "start_time": "2022-05-30T09:08:05.418Z"
   },
   {
    "duration": 19,
    "start_time": "2022-05-30T09:08:05.470Z"
   },
   {
    "duration": 40,
    "start_time": "2022-05-30T09:08:05.491Z"
   },
   {
    "duration": 3,
    "start_time": "2022-05-30T09:08:05.534Z"
   },
   {
    "duration": 10,
    "start_time": "2022-05-30T09:08:05.539Z"
   },
   {
    "duration": 17,
    "start_time": "2022-05-30T09:08:05.551Z"
   },
   {
    "duration": 12,
    "start_time": "2022-05-30T09:08:05.570Z"
   },
   {
    "duration": 16,
    "start_time": "2022-05-30T09:08:05.584Z"
   },
   {
    "duration": 21,
    "start_time": "2022-05-30T09:08:05.602Z"
   },
   {
    "duration": 32,
    "start_time": "2022-05-30T09:08:05.626Z"
   },
   {
    "duration": 6,
    "start_time": "2022-05-30T09:08:05.660Z"
   },
   {
    "duration": 17,
    "start_time": "2022-05-30T09:08:05.668Z"
   },
   {
    "duration": 3,
    "start_time": "2022-05-30T09:08:08.381Z"
   },
   {
    "duration": 3,
    "start_time": "2022-05-30T09:08:12.567Z"
   },
   {
    "duration": 21,
    "start_time": "2022-05-30T09:08:13.582Z"
   },
   {
    "duration": 3,
    "start_time": "2022-05-30T09:08:17.494Z"
   },
   {
    "duration": 14,
    "start_time": "2022-05-30T09:08:18.749Z"
   },
   {
    "duration": 18,
    "start_time": "2022-05-30T09:08:19.405Z"
   },
   {
    "duration": 4,
    "start_time": "2022-05-30T09:08:20.084Z"
   },
   {
    "duration": 4,
    "start_time": "2022-05-30T09:08:20.699Z"
   },
   {
    "duration": 23,
    "start_time": "2022-05-30T09:08:22.212Z"
   },
   {
    "duration": 31,
    "start_time": "2022-05-30T09:08:22.898Z"
   },
   {
    "duration": 31,
    "start_time": "2022-05-30T09:08:23.701Z"
   },
   {
    "duration": 19,
    "start_time": "2022-05-30T09:08:25.616Z"
   },
   {
    "duration": 18,
    "start_time": "2022-05-30T09:08:26.047Z"
   },
   {
    "duration": 15,
    "start_time": "2022-05-30T09:08:27.045Z"
   },
   {
    "duration": 15,
    "start_time": "2022-05-30T09:09:16.864Z"
   },
   {
    "duration": 16,
    "start_time": "2022-05-30T09:09:17.504Z"
   },
   {
    "duration": 19,
    "start_time": "2022-05-30T09:09:18.205Z"
   },
   {
    "duration": 14,
    "start_time": "2022-05-30T09:09:30.069Z"
   },
   {
    "duration": 2,
    "start_time": "2022-05-30T09:09:30.660Z"
   },
   {
    "duration": 16,
    "start_time": "2022-05-30T09:09:31.875Z"
   },
   {
    "duration": 20,
    "start_time": "2022-05-30T09:09:32.586Z"
   },
   {
    "duration": 4,
    "start_time": "2022-05-30T09:09:35.074Z"
   },
   {
    "duration": 3,
    "start_time": "2022-05-30T09:09:35.822Z"
   },
   {
    "duration": 3,
    "start_time": "2022-05-30T09:09:46.204Z"
   },
   {
    "duration": 3,
    "start_time": "2022-05-30T09:10:25.327Z"
   },
   {
    "duration": 3,
    "start_time": "2022-05-30T09:11:07.950Z"
   },
   {
    "duration": 10,
    "start_time": "2022-05-30T09:13:40.177Z"
   },
   {
    "duration": 12,
    "start_time": "2022-05-30T09:14:34.366Z"
   },
   {
    "duration": 4,
    "start_time": "2022-05-30T09:14:44.766Z"
   },
   {
    "duration": 4,
    "start_time": "2022-05-30T09:14:46.504Z"
   },
   {
    "duration": 11,
    "start_time": "2022-05-30T09:14:48.980Z"
   },
   {
    "duration": 10,
    "start_time": "2022-05-30T09:16:56.627Z"
   },
   {
    "duration": 10,
    "start_time": "2022-05-30T09:17:37.509Z"
   },
   {
    "duration": 1607,
    "start_time": "2022-05-31T07:51:39.810Z"
   },
   {
    "duration": 3,
    "start_time": "2022-05-31T07:51:41.419Z"
   },
   {
    "duration": 13,
    "start_time": "2022-05-31T07:51:41.423Z"
   },
   {
    "duration": 385,
    "start_time": "2022-05-31T07:51:41.438Z"
   },
   {
    "duration": 212,
    "start_time": "2022-05-31T07:51:41.824Z"
   },
   {
    "duration": 238,
    "start_time": "2022-05-31T07:51:42.037Z"
   },
   {
    "duration": 16,
    "start_time": "2022-05-31T07:51:42.277Z"
   },
   {
    "duration": 55,
    "start_time": "2022-05-31T07:51:42.295Z"
   },
   {
    "duration": 55,
    "start_time": "2022-05-31T07:51:42.352Z"
   },
   {
    "duration": 86,
    "start_time": "2022-05-31T07:51:42.410Z"
   },
   {
    "duration": 12,
    "start_time": "2022-05-31T07:51:42.498Z"
   },
   {
    "duration": 33,
    "start_time": "2022-05-31T07:51:42.512Z"
   },
   {
    "duration": 7,
    "start_time": "2022-05-31T07:51:42.547Z"
   },
   {
    "duration": 20,
    "start_time": "2022-05-31T07:51:42.556Z"
   },
   {
    "duration": 14,
    "start_time": "2022-05-31T07:51:42.578Z"
   },
   {
    "duration": 21,
    "start_time": "2022-05-31T07:51:42.594Z"
   },
   {
    "duration": 39,
    "start_time": "2022-05-31T07:51:42.617Z"
   },
   {
    "duration": 29,
    "start_time": "2022-05-31T07:51:42.658Z"
   },
   {
    "duration": 28,
    "start_time": "2022-05-31T07:51:42.689Z"
   },
   {
    "duration": 12,
    "start_time": "2022-05-31T07:51:42.719Z"
   },
   {
    "duration": 35,
    "start_time": "2022-05-31T07:51:42.733Z"
   },
   {
    "duration": 3,
    "start_time": "2022-05-31T07:51:42.770Z"
   },
   {
    "duration": 12,
    "start_time": "2022-05-31T07:51:42.775Z"
   },
   {
    "duration": 6,
    "start_time": "2022-05-31T07:51:42.790Z"
   },
   {
    "duration": 17,
    "start_time": "2022-05-31T07:51:42.798Z"
   },
   {
    "duration": 9,
    "start_time": "2022-05-31T07:51:42.816Z"
   },
   {
    "duration": 11,
    "start_time": "2022-05-31T07:51:42.827Z"
   },
   {
    "duration": 6,
    "start_time": "2022-05-31T07:51:42.845Z"
   },
   {
    "duration": 13,
    "start_time": "2022-05-31T07:51:42.853Z"
   },
   {
    "duration": 6,
    "start_time": "2022-05-31T07:51:42.868Z"
   },
   {
    "duration": 6,
    "start_time": "2022-05-31T07:51:42.876Z"
   },
   {
    "duration": 63,
    "start_time": "2022-05-31T07:51:42.883Z"
   },
   {
    "duration": 96,
    "start_time": "2022-05-31T07:51:42.949Z"
   },
   {
    "duration": 37,
    "start_time": "2022-05-31T07:51:43.047Z"
   },
   {
    "duration": 170,
    "start_time": "2022-05-31T07:51:43.086Z"
   },
   {
    "duration": 90,
    "start_time": "2022-05-31T07:51:43.258Z"
   },
   {
    "duration": 101,
    "start_time": "2022-05-31T07:51:43.350Z"
   },
   {
    "duration": 26,
    "start_time": "2022-05-31T07:51:43.452Z"
   },
   {
    "duration": 19,
    "start_time": "2022-05-31T07:51:43.479Z"
   },
   {
    "duration": 17,
    "start_time": "2022-05-31T07:51:43.500Z"
   },
   {
    "duration": 33,
    "start_time": "2022-05-31T07:51:43.519Z"
   },
   {
    "duration": 199,
    "start_time": "2022-05-31T07:51:43.558Z"
   },
   {
    "duration": 191,
    "start_time": "2022-05-31T07:51:43.759Z"
   },
   {
    "duration": 198,
    "start_time": "2022-05-31T07:51:43.952Z"
   },
   {
    "duration": 9,
    "start_time": "2022-05-31T07:51:44.151Z"
   },
   {
    "duration": 10,
    "start_time": "2022-05-31T07:51:44.162Z"
   },
   {
    "duration": 10,
    "start_time": "2022-05-31T07:51:44.174Z"
   },
   {
    "duration": 6,
    "start_time": "2022-05-31T07:51:44.185Z"
   },
   {
    "duration": 10,
    "start_time": "2022-05-31T07:51:44.192Z"
   },
   {
    "duration": 10,
    "start_time": "2022-05-31T07:51:44.204Z"
   },
   {
    "duration": 7,
    "start_time": "2022-05-31T07:51:44.215Z"
   },
   {
    "duration": 25,
    "start_time": "2022-05-31T07:51:44.223Z"
   },
   {
    "duration": 10,
    "start_time": "2022-05-31T07:51:44.250Z"
   },
   {
    "duration": 8,
    "start_time": "2022-05-31T07:51:53.595Z"
   },
   {
    "duration": 12,
    "start_time": "2022-05-31T08:02:16.164Z"
   },
   {
    "duration": 132,
    "start_time": "2022-05-31T08:06:29.747Z"
   },
   {
    "duration": 11,
    "start_time": "2022-05-31T08:06:53.874Z"
   },
   {
    "duration": 4,
    "start_time": "2022-05-31T08:11:34.091Z"
   },
   {
    "duration": 631,
    "start_time": "2022-05-31T08:22:37.439Z"
   },
   {
    "duration": 595,
    "start_time": "2022-05-31T08:22:52.521Z"
   },
   {
    "duration": 17,
    "start_time": "2022-05-31T08:23:30.070Z"
   },
   {
    "duration": 2788,
    "start_time": "2022-05-31T08:24:28.615Z"
   },
   {
    "duration": 1422,
    "start_time": "2022-06-05T09:37:05.772Z"
   },
   {
    "duration": 3,
    "start_time": "2022-06-05T09:37:07.196Z"
   },
   {
    "duration": 11,
    "start_time": "2022-06-05T09:37:07.200Z"
   },
   {
    "duration": 544,
    "start_time": "2022-06-05T09:37:07.212Z"
   },
   {
    "duration": 591,
    "start_time": "2022-06-05T09:37:07.758Z"
   },
   {
    "duration": 571,
    "start_time": "2022-06-05T09:37:08.350Z"
   },
   {
    "duration": 12,
    "start_time": "2022-06-05T09:37:08.923Z"
   },
   {
    "duration": 37,
    "start_time": "2022-06-05T09:37:08.936Z"
   },
   {
    "duration": 53,
    "start_time": "2022-06-05T09:37:08.975Z"
   },
   {
    "duration": 58,
    "start_time": "2022-06-05T09:37:09.030Z"
   },
   {
    "duration": 12,
    "start_time": "2022-06-05T09:37:09.090Z"
   },
   {
    "duration": 30,
    "start_time": "2022-06-05T09:37:09.103Z"
   },
   {
    "duration": 2,
    "start_time": "2022-06-05T09:37:09.135Z"
   },
   {
    "duration": 16,
    "start_time": "2022-06-05T09:37:09.140Z"
   },
   {
    "duration": 13,
    "start_time": "2022-06-05T09:37:09.158Z"
   },
   {
    "duration": 14,
    "start_time": "2022-06-05T09:37:09.172Z"
   },
   {
    "duration": 42,
    "start_time": "2022-06-05T09:37:09.187Z"
   },
   {
    "duration": 19,
    "start_time": "2022-06-05T09:37:09.231Z"
   },
   {
    "duration": 23,
    "start_time": "2022-06-05T09:37:09.251Z"
   },
   {
    "duration": 6,
    "start_time": "2022-06-05T09:37:09.275Z"
   },
   {
    "duration": 31,
    "start_time": "2022-06-05T09:37:09.282Z"
   },
   {
    "duration": 2,
    "start_time": "2022-06-05T09:37:09.314Z"
   },
   {
    "duration": 5,
    "start_time": "2022-06-05T09:37:09.329Z"
   },
   {
    "duration": 6,
    "start_time": "2022-06-05T09:37:09.335Z"
   },
   {
    "duration": 8,
    "start_time": "2022-06-05T09:37:09.342Z"
   },
   {
    "duration": 7,
    "start_time": "2022-06-05T09:37:09.352Z"
   },
   {
    "duration": 9,
    "start_time": "2022-06-05T09:37:09.360Z"
   },
   {
    "duration": 7,
    "start_time": "2022-06-05T09:37:09.370Z"
   },
   {
    "duration": 2,
    "start_time": "2022-06-05T09:37:09.378Z"
   },
   {
    "duration": 4,
    "start_time": "2022-06-05T09:37:09.382Z"
   },
   {
    "duration": 4,
    "start_time": "2022-06-05T09:37:09.388Z"
   },
   {
    "duration": 18,
    "start_time": "2022-06-05T09:37:09.429Z"
   },
   {
    "duration": 81,
    "start_time": "2022-06-05T09:37:09.449Z"
   },
   {
    "duration": 110,
    "start_time": "2022-06-05T09:37:09.532Z"
   },
   {
    "duration": 87,
    "start_time": "2022-06-05T09:37:09.644Z"
   },
   {
    "duration": 195,
    "start_time": "2022-06-05T09:37:09.733Z"
   },
   {
    "duration": 5,
    "start_time": "2022-06-05T09:37:09.930Z"
   },
   {
    "duration": 23,
    "start_time": "2022-06-05T09:37:09.937Z"
   },
   {
    "duration": 18,
    "start_time": "2022-06-05T09:37:09.961Z"
   },
   {
    "duration": 16,
    "start_time": "2022-06-05T09:37:09.981Z"
   },
   {
    "duration": 15,
    "start_time": "2022-06-05T09:37:10.028Z"
   },
   {
    "duration": 189,
    "start_time": "2022-06-05T09:37:10.045Z"
   },
   {
    "duration": 195,
    "start_time": "2022-06-05T09:37:10.237Z"
   },
   {
    "duration": 105,
    "start_time": "2022-06-05T09:37:10.434Z"
   },
   {
    "duration": 11,
    "start_time": "2022-06-05T09:37:10.541Z"
   },
   {
    "duration": 8,
    "start_time": "2022-06-05T09:37:10.629Z"
   },
   {
    "duration": 10,
    "start_time": "2022-06-05T09:37:10.638Z"
   },
   {
    "duration": 6,
    "start_time": "2022-06-05T09:37:10.649Z"
   },
   {
    "duration": 6,
    "start_time": "2022-06-05T09:37:10.656Z"
   },
   {
    "duration": 5,
    "start_time": "2022-06-05T09:37:10.663Z"
   },
   {
    "duration": 4,
    "start_time": "2022-06-05T09:37:10.669Z"
   },
   {
    "duration": 6,
    "start_time": "2022-06-05T09:37:10.675Z"
   },
   {
    "duration": 8,
    "start_time": "2022-06-05T09:37:10.682Z"
   },
   {
    "duration": 9,
    "start_time": "2022-06-05T09:37:10.728Z"
   },
   {
    "duration": 12,
    "start_time": "2022-06-05T09:37:10.739Z"
   },
   {
    "duration": 11,
    "start_time": "2022-06-05T09:37:10.752Z"
   },
   {
    "duration": 2,
    "start_time": "2022-06-05T09:37:10.764Z"
   },
   {
    "duration": 5,
    "start_time": "2022-06-05T09:37:10.768Z"
   },
   {
    "duration": 1008,
    "start_time": "2022-06-05T09:37:23.349Z"
   },
   {
    "duration": 934,
    "start_time": "2022-06-05T09:38:36.946Z"
   },
   {
    "duration": 872,
    "start_time": "2022-06-05T09:39:26.174Z"
   },
   {
    "duration": 2632,
    "start_time": "2022-06-05T09:39:56.787Z"
   },
   {
    "duration": 8,
    "start_time": "2022-06-05T09:40:48.247Z"
   },
   {
    "duration": 7,
    "start_time": "2022-06-05T09:41:08.974Z"
   },
   {
    "duration": 2941,
    "start_time": "2022-06-05T09:41:47.656Z"
   },
   {
    "duration": 2790,
    "start_time": "2022-06-05T09:42:21.358Z"
   },
   {
    "duration": 1132,
    "start_time": "2022-06-05T09:42:58.451Z"
   },
   {
    "duration": 2790,
    "start_time": "2022-06-05T09:43:25.847Z"
   },
   {
    "duration": 20,
    "start_time": "2022-06-05T09:48:57.797Z"
   },
   {
    "duration": 20,
    "start_time": "2022-06-05T09:51:10.777Z"
   },
   {
    "duration": 7,
    "start_time": "2022-06-05T09:56:46.190Z"
   },
   {
    "duration": 70,
    "start_time": "2022-06-05T09:56:46.200Z"
   },
   {
    "duration": 34,
    "start_time": "2022-06-05T09:56:46.272Z"
   },
   {
    "duration": 215,
    "start_time": "2022-06-05T09:56:46.309Z"
   },
   {
    "duration": 169,
    "start_time": "2022-06-05T09:56:46.529Z"
   },
   {
    "duration": 212,
    "start_time": "2022-06-05T09:56:46.700Z"
   },
   {
    "duration": 18,
    "start_time": "2022-06-05T09:56:46.914Z"
   },
   {
    "duration": 83,
    "start_time": "2022-06-05T09:56:46.936Z"
   },
   {
    "duration": 70,
    "start_time": "2022-06-05T09:56:47.022Z"
   },
   {
    "duration": 168,
    "start_time": "2022-06-05T09:56:47.095Z"
   },
   {
    "duration": 27,
    "start_time": "2022-06-05T09:56:47.267Z"
   },
   {
    "duration": 103,
    "start_time": "2022-06-05T09:56:47.298Z"
   },
   {
    "duration": 5,
    "start_time": "2022-06-05T09:56:47.403Z"
   },
   {
    "duration": 33,
    "start_time": "2022-06-05T09:56:47.410Z"
   },
   {
    "duration": 28,
    "start_time": "2022-06-05T09:56:47.447Z"
   },
   {
    "duration": 73,
    "start_time": "2022-06-05T09:56:47.477Z"
   },
   {
    "duration": 45,
    "start_time": "2022-06-05T09:56:47.554Z"
   },
   {
    "duration": 91,
    "start_time": "2022-06-05T09:56:47.601Z"
   },
   {
    "duration": 55,
    "start_time": "2022-06-05T09:56:47.695Z"
   },
   {
    "duration": 55,
    "start_time": "2022-06-05T09:56:47.752Z"
   },
   {
    "duration": 39,
    "start_time": "2022-06-05T09:56:47.809Z"
   },
   {
    "duration": 74,
    "start_time": "2022-06-05T09:56:47.852Z"
   },
   {
    "duration": 70,
    "start_time": "2022-06-05T09:56:47.933Z"
   },
   {
    "duration": 21,
    "start_time": "2022-06-05T09:56:48.005Z"
   },
   {
    "duration": 70,
    "start_time": "2022-06-05T09:56:48.027Z"
   },
   {
    "duration": 22,
    "start_time": "2022-06-05T09:56:48.099Z"
   },
   {
    "duration": 40,
    "start_time": "2022-06-05T09:56:48.123Z"
   },
   {
    "duration": 38,
    "start_time": "2022-06-05T09:56:48.164Z"
   },
   {
    "duration": 71,
    "start_time": "2022-06-05T09:56:48.207Z"
   },
   {
    "duration": 14,
    "start_time": "2022-06-05T09:56:48.279Z"
   },
   {
    "duration": 15,
    "start_time": "2022-06-05T09:56:48.295Z"
   },
   {
    "duration": 81,
    "start_time": "2022-06-05T09:56:48.313Z"
   },
   {
    "duration": 110,
    "start_time": "2022-06-05T09:56:48.431Z"
   },
   {
    "duration": 56,
    "start_time": "2022-06-05T09:56:48.542Z"
   },
   {
    "duration": 135,
    "start_time": "2022-06-05T09:56:48.601Z"
   },
   {
    "duration": 129,
    "start_time": "2022-06-05T09:56:48.738Z"
   },
   {
    "duration": 22,
    "start_time": "2022-06-05T09:56:48.870Z"
   },
   {
    "duration": 27,
    "start_time": "2022-06-05T09:56:48.894Z"
   },
   {
    "duration": 40,
    "start_time": "2022-06-05T09:56:48.923Z"
   },
   {
    "duration": 56,
    "start_time": "2022-06-05T09:56:48.965Z"
   },
   {
    "duration": 29,
    "start_time": "2022-06-05T09:56:49.023Z"
   },
   {
    "duration": 178,
    "start_time": "2022-06-05T09:56:49.055Z"
   },
   {
    "duration": 139,
    "start_time": "2022-06-05T09:56:49.235Z"
   },
   {
    "duration": 61,
    "start_time": "2022-06-05T09:56:49.376Z"
   },
   {
    "duration": 121,
    "start_time": "2022-06-05T09:56:49.441Z"
   },
   {
    "duration": 16,
    "start_time": "2022-06-05T09:56:49.566Z"
   },
   {
    "duration": 15,
    "start_time": "2022-06-05T09:56:49.584Z"
   },
   {
    "duration": 9,
    "start_time": "2022-06-05T09:56:49.600Z"
   },
   {
    "duration": 24,
    "start_time": "2022-06-05T09:56:49.611Z"
   },
   {
    "duration": 37,
    "start_time": "2022-06-05T09:56:49.639Z"
   },
   {
    "duration": 14,
    "start_time": "2022-06-05T09:56:49.678Z"
   },
   {
    "duration": 18,
    "start_time": "2022-06-05T09:56:49.694Z"
   },
   {
    "duration": 10,
    "start_time": "2022-06-05T09:56:49.715Z"
   },
   {
    "duration": 36,
    "start_time": "2022-06-05T09:56:49.727Z"
   },
   {
    "duration": 20,
    "start_time": "2022-06-05T09:56:49.768Z"
   },
   {
    "duration": 15,
    "start_time": "2022-06-05T09:56:49.790Z"
   },
   {
    "duration": 5,
    "start_time": "2022-06-05T09:56:49.808Z"
   },
   {
    "duration": 7,
    "start_time": "2022-06-05T09:56:49.815Z"
   },
   {
    "duration": 53,
    "start_time": "2022-06-05T09:56:49.825Z"
   },
   {
    "duration": 3069,
    "start_time": "2022-06-05T09:56:49.880Z"
   },
   {
    "duration": 783,
    "start_time": "2022-06-05T09:56:57.879Z"
   },
   {
    "duration": 650,
    "start_time": "2022-06-05T09:57:03.158Z"
   },
   {
    "duration": 603,
    "start_time": "2022-06-05T09:57:05.453Z"
   },
   {
    "duration": 4,
    "start_time": "2022-06-05T10:21:25.252Z"
   },
   {
    "duration": 9,
    "start_time": "2022-06-05T10:21:25.258Z"
   },
   {
    "duration": 5,
    "start_time": "2022-06-05T10:21:25.269Z"
   },
   {
    "duration": 139,
    "start_time": "2022-06-05T10:21:25.275Z"
   },
   {
    "duration": 125,
    "start_time": "2022-06-05T10:21:25.416Z"
   },
   {
    "duration": 132,
    "start_time": "2022-06-05T10:21:25.542Z"
   },
   {
    "duration": 8,
    "start_time": "2022-06-05T10:21:25.676Z"
   },
   {
    "duration": 45,
    "start_time": "2022-06-05T10:21:25.686Z"
   },
   {
    "duration": 38,
    "start_time": "2022-06-05T10:21:25.733Z"
   },
   {
    "duration": 76,
    "start_time": "2022-06-05T10:21:25.772Z"
   },
   {
    "duration": 12,
    "start_time": "2022-06-05T10:21:25.849Z"
   },
   {
    "duration": 14,
    "start_time": "2022-06-05T10:21:25.863Z"
   },
   {
    "duration": 6,
    "start_time": "2022-06-05T10:21:25.878Z"
   },
   {
    "duration": 20,
    "start_time": "2022-06-05T10:21:25.885Z"
   },
   {
    "duration": 32,
    "start_time": "2022-06-05T10:21:25.906Z"
   },
   {
    "duration": 13,
    "start_time": "2022-06-05T10:21:25.939Z"
   },
   {
    "duration": 11,
    "start_time": "2022-06-05T10:21:25.953Z"
   },
   {
    "duration": 14,
    "start_time": "2022-06-05T10:21:25.966Z"
   },
   {
    "duration": 11,
    "start_time": "2022-06-05T10:21:25.981Z"
   },
   {
    "duration": 6,
    "start_time": "2022-06-05T10:21:25.994Z"
   },
   {
    "duration": 23,
    "start_time": "2022-06-05T10:21:26.028Z"
   },
   {
    "duration": 3,
    "start_time": "2022-06-05T10:21:26.052Z"
   },
   {
    "duration": 18,
    "start_time": "2022-06-05T10:21:26.056Z"
   },
   {
    "duration": 6,
    "start_time": "2022-06-05T10:21:26.075Z"
   },
   {
    "duration": 5,
    "start_time": "2022-06-05T10:21:26.083Z"
   },
   {
    "duration": 8,
    "start_time": "2022-06-05T10:21:26.090Z"
   },
   {
    "duration": 14,
    "start_time": "2022-06-05T10:21:26.099Z"
   },
   {
    "duration": 18,
    "start_time": "2022-06-05T10:21:26.115Z"
   },
   {
    "duration": 3,
    "start_time": "2022-06-05T10:21:26.135Z"
   },
   {
    "duration": 4,
    "start_time": "2022-06-05T10:21:26.140Z"
   },
   {
    "duration": 5,
    "start_time": "2022-06-05T10:21:26.145Z"
   },
   {
    "duration": 80,
    "start_time": "2022-06-05T10:21:26.152Z"
   },
   {
    "duration": 91,
    "start_time": "2022-06-05T10:21:26.238Z"
   },
   {
    "duration": 16,
    "start_time": "2022-06-05T10:21:26.331Z"
   },
   {
    "duration": 185,
    "start_time": "2022-06-05T10:21:26.349Z"
   },
   {
    "duration": 104,
    "start_time": "2022-06-05T10:21:26.538Z"
   },
   {
    "duration": 86,
    "start_time": "2022-06-05T10:21:26.644Z"
   },
   {
    "duration": 22,
    "start_time": "2022-06-05T10:21:26.732Z"
   },
   {
    "duration": 20,
    "start_time": "2022-06-05T10:21:26.755Z"
   },
   {
    "duration": 17,
    "start_time": "2022-06-05T10:21:26.777Z"
   },
   {
    "duration": 46,
    "start_time": "2022-06-05T10:21:26.796Z"
   },
   {
    "duration": 103,
    "start_time": "2022-06-05T10:21:26.929Z"
   },
   {
    "duration": 206,
    "start_time": "2022-06-05T10:21:27.034Z"
   },
   {
    "duration": 93,
    "start_time": "2022-06-05T10:21:27.242Z"
   },
   {
    "duration": 8,
    "start_time": "2022-06-05T10:21:27.428Z"
   },
   {
    "duration": 9,
    "start_time": "2022-06-05T10:21:27.437Z"
   },
   {
    "duration": 13,
    "start_time": "2022-06-05T10:21:27.447Z"
   },
   {
    "duration": 6,
    "start_time": "2022-06-05T10:21:27.461Z"
   },
   {
    "duration": 8,
    "start_time": "2022-06-05T10:21:27.469Z"
   },
   {
    "duration": 7,
    "start_time": "2022-06-05T10:21:27.479Z"
   },
   {
    "duration": 5,
    "start_time": "2022-06-05T10:21:27.487Z"
   },
   {
    "duration": 5,
    "start_time": "2022-06-05T10:21:27.494Z"
   },
   {
    "duration": 30,
    "start_time": "2022-06-05T10:21:27.500Z"
   },
   {
    "duration": 7,
    "start_time": "2022-06-05T10:21:27.532Z"
   },
   {
    "duration": 16,
    "start_time": "2022-06-05T10:21:27.541Z"
   },
   {
    "duration": 10,
    "start_time": "2022-06-05T10:21:27.559Z"
   },
   {
    "duration": 2,
    "start_time": "2022-06-05T10:21:27.570Z"
   },
   {
    "duration": 6,
    "start_time": "2022-06-05T10:21:27.573Z"
   },
   {
    "duration": 13,
    "start_time": "2022-06-05T10:21:27.580Z"
   },
   {
    "duration": 2947,
    "start_time": "2022-06-05T10:21:27.594Z"
   },
   {
    "duration": 632,
    "start_time": "2022-06-05T10:21:30.543Z"
   },
   {
    "duration": 571,
    "start_time": "2022-06-05T10:21:31.176Z"
   },
   {
    "duration": 595,
    "start_time": "2022-06-05T10:21:31.749Z"
   },
   {
    "duration": 29,
    "start_time": "2022-06-05T10:21:32.345Z"
   },
   {
    "duration": 6,
    "start_time": "2022-06-05T10:21:32.377Z"
   },
   {
    "duration": 21,
    "start_time": "2022-06-05T10:21:35.456Z"
   },
   {
    "duration": 22,
    "start_time": "2022-06-05T10:21:36.371Z"
   },
   {
    "duration": 2192,
    "start_time": "2022-06-06T04:12:50.113Z"
   },
   {
    "duration": 2,
    "start_time": "2022-06-06T04:12:52.307Z"
   },
   {
    "duration": 13,
    "start_time": "2022-06-06T04:12:52.311Z"
   },
   {
    "duration": 395,
    "start_time": "2022-06-06T04:12:52.635Z"
   },
   {
    "duration": 197,
    "start_time": "2022-06-06T04:12:53.359Z"
   },
   {
    "duration": 210,
    "start_time": "2022-06-06T04:12:53.909Z"
   },
   {
    "duration": 12,
    "start_time": "2022-06-06T04:12:55.344Z"
   },
   {
    "duration": 34,
    "start_time": "2022-06-06T04:12:55.569Z"
   },
   {
    "duration": 37,
    "start_time": "2022-06-06T04:12:55.756Z"
   },
   {
    "duration": 87,
    "start_time": "2022-06-06T04:12:56.168Z"
   },
   {
    "duration": 12,
    "start_time": "2022-06-06T04:12:56.848Z"
   },
   {
    "duration": 11,
    "start_time": "2022-06-06T04:12:57.123Z"
   },
   {
    "duration": 3,
    "start_time": "2022-06-06T04:12:57.509Z"
   },
   {
    "duration": 15,
    "start_time": "2022-06-06T04:12:58.235Z"
   },
   {
    "duration": 13,
    "start_time": "2022-06-06T04:12:59.091Z"
   },
   {
    "duration": 14,
    "start_time": "2022-06-06T04:12:59.516Z"
   },
   {
    "duration": 13,
    "start_time": "2022-06-06T04:13:00.562Z"
   },
   {
    "duration": 18,
    "start_time": "2022-06-06T04:13:02.021Z"
   },
   {
    "duration": 18,
    "start_time": "2022-06-06T04:13:06.472Z"
   },
   {
    "duration": 5,
    "start_time": "2022-06-06T04:13:07.560Z"
   },
   {
    "duration": 32,
    "start_time": "2022-06-06T04:13:09.014Z"
   },
   {
    "duration": 2,
    "start_time": "2022-06-06T04:13:14.642Z"
   },
   {
    "duration": 4,
    "start_time": "2022-06-06T04:13:16.027Z"
   },
   {
    "duration": 3,
    "start_time": "2022-06-06T04:13:18.976Z"
   },
   {
    "duration": 3,
    "start_time": "2022-06-06T04:13:19.996Z"
   },
   {
    "duration": 3,
    "start_time": "2022-06-06T04:13:21.333Z"
   },
   {
    "duration": 5,
    "start_time": "2022-06-06T04:13:40.650Z"
   },
   {
    "duration": 6,
    "start_time": "2022-06-06T04:13:45.639Z"
   },
   {
    "duration": 6,
    "start_time": "2022-06-06T04:13:53.783Z"
   },
   {
    "duration": 2,
    "start_time": "2022-06-06T04:14:06.978Z"
   },
   {
    "duration": 3,
    "start_time": "2022-06-06T04:14:07.611Z"
   },
   {
    "duration": 3,
    "start_time": "2022-06-06T04:14:08.306Z"
   },
   {
    "duration": 17,
    "start_time": "2022-06-06T04:14:08.558Z"
   },
   {
    "duration": 2,
    "start_time": "2022-06-06T04:14:08.978Z"
   },
   {
    "duration": 30,
    "start_time": "2022-06-06T04:14:10.361Z"
   },
   {
    "duration": 15,
    "start_time": "2022-06-06T04:14:10.883Z"
   },
   {
    "duration": 5,
    "start_time": "2022-06-06T04:14:11.923Z"
   },
   {
    "duration": 2,
    "start_time": "2022-06-06T04:14:12.971Z"
   },
   {
    "duration": 18,
    "start_time": "2022-06-06T04:14:14.182Z"
   },
   {
    "duration": 19,
    "start_time": "2022-06-06T04:14:15.091Z"
   },
   {
    "duration": 18,
    "start_time": "2022-06-06T04:14:15.702Z"
   },
   {
    "duration": 17,
    "start_time": "2022-06-06T04:14:17.375Z"
   },
   {
    "duration": 14,
    "start_time": "2022-06-06T04:14:17.960Z"
   },
   {
    "duration": 14,
    "start_time": "2022-06-06T04:14:18.197Z"
   },
   {
    "duration": 4,
    "start_time": "2022-06-06T04:14:21.335Z"
   },
   {
    "duration": 4,
    "start_time": "2022-06-06T04:14:23.053Z"
   },
   {
    "duration": 7,
    "start_time": "2022-06-06T04:14:27.370Z"
   },
   {
    "duration": 9,
    "start_time": "2022-06-06T04:14:31.549Z"
   },
   {
    "duration": 638,
    "start_time": "2022-06-06T04:14:35.300Z"
   },
   {
    "duration": 4,
    "start_time": "2022-06-06T04:14:35.940Z"
   },
   {
    "duration": 7,
    "start_time": "2022-06-06T04:14:36.280Z"
   },
   {
    "duration": 2,
    "start_time": "2022-06-06T04:14:41.072Z"
   },
   {
    "duration": 4,
    "start_time": "2022-06-06T04:14:41.277Z"
   },
   {
    "duration": 4,
    "start_time": "2022-06-06T04:14:41.451Z"
   },
   {
    "duration": 3,
    "start_time": "2022-06-06T04:14:59.286Z"
   },
   {
    "duration": 112,
    "start_time": "2022-06-06T04:16:03.751Z"
   },
   {
    "duration": 5,
    "start_time": "2022-06-06T04:16:23.833Z"
   },
   {
    "duration": 1259,
    "start_time": "2022-06-06T04:16:29.036Z"
   },
   {
    "duration": 6,
    "start_time": "2022-06-06T04:16:35.805Z"
   },
   {
    "duration": 1284,
    "start_time": "2022-06-06T04:16:45.506Z"
   },
   {
    "duration": 1224,
    "start_time": "2022-06-06T04:16:52.351Z"
   }
  ],
  "kernelspec": {
   "display_name": "Python 3 (ipykernel)",
   "language": "python",
   "name": "python3"
  },
  "language_info": {
   "codemirror_mode": {
    "name": "ipython",
    "version": 3
   },
   "file_extension": ".py",
   "mimetype": "text/x-python",
   "name": "python",
   "nbconvert_exporter": "python",
   "pygments_lexer": "ipython3",
   "version": "3.9.5"
  },
  "toc": {
   "base_numbering": 1,
   "nav_menu": {},
   "number_sections": true,
   "sideBar": true,
   "skip_h1_title": true,
   "title_cell": "Table of Contents",
   "title_sidebar": "Contents",
   "toc_cell": false,
   "toc_position": {},
   "toc_section_display": true,
   "toc_window_display": false
  }
 },
 "nbformat": 4,
 "nbformat_minor": 2
}
