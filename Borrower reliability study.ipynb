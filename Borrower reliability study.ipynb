{
 "cells": [
  {
   "cell_type": "markdown",
   "metadata": {},
   "source": [
    "# Исследование надёжности заёмщиков\n",
    "\n",
    "Заказчик — кредитный отдел банка. Нужно разобраться, влияет ли семейное положение и количество детей клиента на факт погашения кредита в срок. Входные данные от банка — статистика о платёжеспособности клиентов.\n",
    "\n",
    "Результаты исследования будут учтены при построении модели **кредитного скоринга** — специальной системы, которая оценивает способность потенциального заёмщика вернуть кредит банку."
   ]
  },
  {
   "cell_type": "markdown",
   "metadata": {},
   "source": [
    "## Шаг 1. Откройте файл с данными и изучите общую информацию"
   ]
  },
  {
   "cell_type": "code",
   "execution_count": 8,
   "metadata": {},
   "outputs": [
    {
     "name": "stdout",
     "output_type": "stream",
     "text": [
      "   children  days_employed  dob_years education  education_id  \\\n",
      "0         1   -8437.673028         42    высшее             0   \n",
      "1         1   -4024.803754         36   среднее             1   \n",
      "2         0   -5623.422610         33   Среднее             1   \n",
      "3         3   -4124.747207         32   среднее             1   \n",
      "4         0  340266.072047         53   среднее             1   \n",
      "5         0    -926.185831         27    высшее             0   \n",
      "6         0   -2879.202052         43    высшее             0   \n",
      "7         0    -152.779569         50   СРЕДНЕЕ             1   \n",
      "8         2   -6929.865299         35    ВЫСШЕЕ             0   \n",
      "9         0   -2188.756445         41   среднее             1   \n",
      "\n",
      "      family_status  family_status_id gender income_type  debt   total_income  \\\n",
      "0   женат / замужем                 0      F   сотрудник     0  253875.639453   \n",
      "1   женат / замужем                 0      F   сотрудник     0  112080.014102   \n",
      "2   женат / замужем                 0      M   сотрудник     0  145885.952297   \n",
      "3   женат / замужем                 0      M   сотрудник     0  267628.550329   \n",
      "4  гражданский брак                 1      F   пенсионер     0  158616.077870   \n",
      "5  гражданский брак                 1      M   компаньон     0  255763.565419   \n",
      "6   женат / замужем                 0      F   компаньон     0  240525.971920   \n",
      "7   женат / замужем                 0      M   сотрудник     0  135823.934197   \n",
      "8  гражданский брак                 1      F   сотрудник     0   95856.832424   \n",
      "9   женат / замужем                 0      M   сотрудник     0  144425.938277   \n",
      "\n",
      "                      purpose  \n",
      "0               покупка жилья  \n",
      "1     приобретение автомобиля  \n",
      "2               покупка жилья  \n",
      "3  дополнительное образование  \n",
      "4             сыграть свадьбу  \n",
      "5               покупка жилья  \n",
      "6           операции с жильем  \n",
      "7                 образование  \n",
      "8       на проведение свадьбы  \n",
      "9     покупка жилья для семьи  \n",
      "<class 'pandas.core.frame.DataFrame'>\n",
      "RangeIndex: 21525 entries, 0 to 21524\n",
      "Data columns (total 12 columns):\n",
      "children            21525 non-null int64\n",
      "days_employed       19351 non-null float64\n",
      "dob_years           21525 non-null int64\n",
      "education           21525 non-null object\n",
      "education_id        21525 non-null int64\n",
      "family_status       21525 non-null object\n",
      "family_status_id    21525 non-null int64\n",
      "gender              21525 non-null object\n",
      "income_type         21525 non-null object\n",
      "debt                21525 non-null int64\n",
      "total_income        19351 non-null float64\n",
      "purpose             21525 non-null object\n",
      "dtypes: float64(2), int64(5), object(5)\n",
      "memory usage: 2.0+ MB\n"
     ]
    }
   ],
   "source": [
    "import pandas as pd\n",
    "data = pd.read_csv('/datasets/data.csv')\n",
    "print(data.head(10))\n",
    "data.info()"
   ]
  },
  {
   "cell_type": "markdown",
   "metadata": {},
   "source": [
    "**Выводы**\n",
    "* Таблица содержит пропуски в столбцах 'days_employed' - 19351 non-null float64 и total_income - 19351 non-null float64 против 21525 значений во всех остальных столбцах.\n",
    "* Данные в столбце 'days_employed' - 19351 non-null float64 являются вещественными числами, возможно, полученными арифметическими операциями. Для целей дальнейшей обработки необходимо изменить тип данных на целочисленный.\n",
    "* В столбце 'education' данные представлены строками в разных регистрах. \n",
    "* Столбцы 'education' и  'education_id',вероятно, являются дублирующими.\n",
    "* Столбцы'family_status' и  'family_status_id', вероятно, являются дублирующими.\n",
    "* Наименования столбцов имеют приемлемый вид(нет сочетания строчных и прописных букв, \"змеиный\" стиль, соотносятся с информацией в столбцах по смыслу).\n",
    "* Столбец 'purpose'  содержит текстовые многословные описания цели кредита, усложняющие работу и добавляющие возможность ошибки, необходимо создать справочник."
   ]
  },
  {
   "cell_type": "markdown",
   "metadata": {},
   "source": [
    "## Шаг 2. Предобработка данных"
   ]
  },
  {
   "cell_type": "markdown",
   "metadata": {},
   "source": [
    "### Обработка пропусков"
   ]
  },
  {
   "cell_type": "code",
   "execution_count": 9,
   "metadata": {},
   "outputs": [
    {
     "data": {
      "text/plain": [
       "children               0\n",
       "days_employed       2174\n",
       "dob_years              0\n",
       "education              0\n",
       "education_id           0\n",
       "family_status          0\n",
       "family_status_id       0\n",
       "gender                 0\n",
       "income_type            0\n",
       "debt                   0\n",
       "total_income        2174\n",
       "purpose                0\n",
       "dtype: int64"
      ]
     },
     "execution_count": 9,
     "metadata": {},
     "output_type": "execute_result"
    }
   ],
   "source": [
    "data.isna().sum()"
   ]
  },
  {
   "cell_type": "markdown",
   "metadata": {},
   "source": [
    "**Вывод**\n",
    "Одинаковое количество пропусков в 'days_employed' и 'total_income' может быть связано с расчетами показателей или их выгрузкой."
   ]
  },
  {
   "cell_type": "code",
   "execution_count": 10,
   "metadata": {},
   "outputs": [
    {
     "name": "stdout",
     "output_type": "stream",
     "text": [
      "    children  days_employed  dob_years education  education_id  \\\n",
      "12         0            NaN         65   среднее             1   \n",
      "26         0            NaN         41   среднее             1   \n",
      "29         0            NaN         63   среднее             1   \n",
      "41         0            NaN         50   среднее             1   \n",
      "55         0            NaN         54   среднее             1   \n",
      "65         0            NaN         21   среднее             1   \n",
      "67         0            NaN         52    высшее             0   \n",
      "72         1            NaN         32    высшее             0   \n",
      "82         2            NaN         50    высшее             0   \n",
      "83         0            NaN         52   среднее             1   \n",
      "\n",
      "            family_status  family_status_id gender  income_type  debt  \\\n",
      "12       гражданский брак                 1      M    пенсионер     0   \n",
      "26        женат / замужем                 0      M  госслужащий     0   \n",
      "29  Не женат / не замужем                 4      F    пенсионер     0   \n",
      "41        женат / замужем                 0      F  госслужащий     0   \n",
      "55       гражданский брак                 1      F    пенсионер     1   \n",
      "65  Не женат / не замужем                 4      M    компаньон     0   \n",
      "67        женат / замужем                 0      F    пенсионер     0   \n",
      "72        женат / замужем                 0      M  госслужащий     0   \n",
      "82        женат / замужем                 0      F    сотрудник     0   \n",
      "83        женат / замужем                 0      M    сотрудник     0   \n",
      "\n",
      "    total_income                                purpose  \n",
      "12           NaN                        сыграть свадьбу  \n",
      "26           NaN                            образование  \n",
      "29           NaN       строительство жилой недвижимости  \n",
      "41           NaN       сделка с подержанным автомобилем  \n",
      "55           NaN                        сыграть свадьбу  \n",
      "65           NaN  операции с коммерческой недвижимостью  \n",
      "67           NaN                покупка жилья для семьи  \n",
      "72           NaN  операции с коммерческой недвижимостью  \n",
      "82           NaN                                  жилье  \n",
      "83           NaN                                  жилье  \n"
     ]
    }
   ],
   "source": [
    "data_isna = data[data['days_employed'].isna() == True]\n",
    "print(data_isna.head(10))"
   ]
  },
  {
   "cell_type": "markdown",
   "metadata": {},
   "source": [
    "**Вывод**\n",
    "Гипотеза о взаимосвязи пропусков в 'days_employed' и 'total_income' пока подтверждается. Мы видим строки с одновременно пропущенными значениями в обоих столбцах. \n",
    "Пропусков данных больше 10%, это слишком большой процент пропусков, чтобы просто выбросить строки с пропусками без потери достоверности данных. \n",
    "Проверим, как соотносятся пропуски и типы занятости людей, может быть, мы имеем дело с иждивенцами."
   ]
  },
  {
   "cell_type": "code",
   "execution_count": 11,
   "metadata": {},
   "outputs": [
    {
     "data": {
      "text/plain": [
       "income_type\n",
       "сотрудник          1105\n",
       "компаньон           508\n",
       "пенсионер           413\n",
       "госслужащий         147\n",
       "предприниматель       1\n",
       "Name: income_type, dtype: int64"
      ]
     },
     "execution_count": 11,
     "metadata": {},
     "output_type": "execute_result"
    }
   ],
   "source": [
    "data_isna.groupby('income_type')['income_type'].count().sort_values(ascending = False)"
   ]
  },
  {
   "cell_type": "markdown",
   "metadata": {},
   "source": [
    "Сотрудники банка без дохода - явление невозможное. Нужно готовить подстановки значений. Заменим пропуски доходов и стажа медианными значениями по группе."
   ]
  },
  {
   "cell_type": "code",
   "execution_count": 12,
   "metadata": {},
   "outputs": [
    {
     "name": "stdout",
     "output_type": "stream",
     "text": [
      "<class 'pandas.core.frame.DataFrame'>\n",
      "RangeIndex: 21525 entries, 0 to 21524\n",
      "Data columns (total 12 columns):\n",
      "children            21525 non-null int64\n",
      "days_employed       21525 non-null float64\n",
      "dob_years           21525 non-null int64\n",
      "education           21525 non-null object\n",
      "education_id        21525 non-null int64\n",
      "family_status       21525 non-null object\n",
      "family_status_id    21525 non-null int64\n",
      "gender              21525 non-null object\n",
      "income_type         21525 non-null object\n",
      "debt                21525 non-null int64\n",
      "total_income        21525 non-null float64\n",
      "purpose             21525 non-null object\n",
      "dtypes: float64(2), int64(5), object(5)\n",
      "memory usage: 2.0+ MB\n"
     ]
    }
   ],
   "source": [
    "# вычислим медианный доход по группам:\n",
    "employe_income = data[data['income_type'] == 'сотрудник']['total_income'].median()\n",
    "employe_days = abs(data[data['income_type'] == 'сотрудник']['days_employed']).median() # значение берем по модулю, так как в столбце замечены и отрицательные и положительные значения. \n",
    "# отрицательные значения могли быть получены как разница с текущей датой или датой подачи заявки на кредит. Экстремальные значения отсекает применение медианы, а не среднего.\n",
    "\n",
    "companion_income = data[data['income_type'] == 'компаньон']['total_income'].median()\n",
    "companion_days = abs(data[data['income_type'] == 'компаньон']['days_employed']).median()\n",
    "\n",
    "retired_income = data[data['income_type'] == 'пенсионер']['total_income'].median()\n",
    "retired_days = abs(data[data['income_type'] == 'пенсионер']['days_employed']).median()\n",
    "\n",
    "state_income = data[data['income_type'] == 'госслужащий']['total_income'].median()\n",
    "state_days = abs(data[data['income_type'] == 'госслужащий']['days_employed']).median()\n",
    "\n",
    "entrepreneur_income = data[data['income_type'] == 'предприниматель']['total_income'].median()\n",
    "entrepreneur_days = abs(data[data['income_type'] == 'предприниматель']['days_employed']).median()\n",
    "\n",
    "#замена значений:\n",
    "\n",
    "data['total_income'] = data['total_income'].fillna(data.groupby('income_type')['total_income'].transform('median'))\n",
    "data['days_employed'] = abs(data['days_employed'])\n",
    "data['days_employed'] = data['days_employed'].fillna(data.groupby('income_type')['days_employed'].transform('median'))\n",
    "    \n",
    "# проверим, остались ли пропуски:\n",
    "data.info()\n"
   ]
  },
  {
   "cell_type": "markdown",
   "metadata": {},
   "source": [
    "<div class=\"alert alert-success\">\n",
    "<b>✔️ Комментарий ревьюера:</b> \n",
    "<br>То что нужно! Это отличный способ для замены пропусков в данном случае.\n",
    "</div>"
   ]
  },
  {
   "cell_type": "markdown",
   "metadata": {},
   "source": [
    "### Замена типа данных"
   ]
  },
  {
   "cell_type": "code",
   "execution_count": 13,
   "metadata": {},
   "outputs": [
    {
     "name": "stdout",
     "output_type": "stream",
     "text": [
      "<class 'pandas.core.frame.DataFrame'>\n",
      "RangeIndex: 21525 entries, 0 to 21524\n",
      "Data columns (total 12 columns):\n",
      "children            21525 non-null int64\n",
      "days_employed       21525 non-null int64\n",
      "dob_years           21525 non-null int64\n",
      "education           21525 non-null object\n",
      "education_id        21525 non-null int64\n",
      "family_status       21525 non-null object\n",
      "family_status_id    21525 non-null int64\n",
      "gender              21525 non-null object\n",
      "income_type         21525 non-null object\n",
      "debt                21525 non-null int64\n",
      "total_income        21525 non-null float64\n",
      "purpose             21525 non-null object\n",
      "dtypes: float64(1), int64(6), object(5)\n",
      "memory usage: 2.0+ MB\n",
      "   children  days_employed  dob_years education  education_id  \\\n",
      "0         1           8437         42    высшее             0   \n",
      "1         1           4024         36   среднее             1   \n",
      "2         0           5623         33   Среднее             1   \n",
      "3         3           4124         32   среднее             1   \n",
      "4         0         340266         53   среднее             1   \n",
      "5         0            926         27    высшее             0   \n",
      "6         0           2879         43    высшее             0   \n",
      "7         0            152         50   СРЕДНЕЕ             1   \n",
      "8         2           6929         35    ВЫСШЕЕ             0   \n",
      "9         0           2188         41   среднее             1   \n",
      "\n",
      "      family_status  family_status_id gender income_type  debt   total_income  \\\n",
      "0   женат / замужем                 0      F   сотрудник     0  253875.639453   \n",
      "1   женат / замужем                 0      F   сотрудник     0  112080.014102   \n",
      "2   женат / замужем                 0      M   сотрудник     0  145885.952297   \n",
      "3   женат / замужем                 0      M   сотрудник     0  267628.550329   \n",
      "4  гражданский брак                 1      F   пенсионер     0  158616.077870   \n",
      "5  гражданский брак                 1      M   компаньон     0  255763.565419   \n",
      "6   женат / замужем                 0      F   компаньон     0  240525.971920   \n",
      "7   женат / замужем                 0      M   сотрудник     0  135823.934197   \n",
      "8  гражданский брак                 1      F   сотрудник     0   95856.832424   \n",
      "9   женат / замужем                 0      M   сотрудник     0  144425.938277   \n",
      "\n",
      "                      purpose  \n",
      "0               покупка жилья  \n",
      "1     приобретение автомобиля  \n",
      "2               покупка жилья  \n",
      "3  дополнительное образование  \n",
      "4             сыграть свадьбу  \n",
      "5               покупка жилья  \n",
      "6           операции с жильем  \n",
      "7                 образование  \n",
      "8       на проведение свадьбы  \n",
      "9     покупка жилья для семьи  \n"
     ]
    }
   ],
   "source": [
    "#Изменим тип данных в столбце ['days_employed'] на integer.  Проверяем полученный результат, вызвав метод info()\n",
    "#Используем метод astype, так как у нас уже вещественные числа float, которые мы хотим превратить в натуральные - integer\n",
    "\n",
    "data['days_employed'] =abs(data['days_employed'].astype('int'))\n",
    "data.info()\n",
    "\n",
    "print(data.head(10))"
   ]
  },
  {
   "cell_type": "markdown",
   "metadata": {},
   "source": [
    "**Вывод**\n",
    "Метод изменил тип данных на integer, все значения положительные"
   ]
  },
  {
   "cell_type": "code",
   "execution_count": 14,
   "metadata": {},
   "outputs": [
    {
     "name": "stdout",
     "output_type": "stream",
     "text": [
      "<class 'pandas.core.frame.DataFrame'>\n",
      "RangeIndex: 21525 entries, 0 to 21524\n",
      "Data columns (total 12 columns):\n",
      "children            21525 non-null int64\n",
      "days_employed       21525 non-null int64\n",
      "dob_years           21525 non-null int64\n",
      "education           21525 non-null object\n",
      "education_id        21525 non-null int64\n",
      "family_status       21525 non-null object\n",
      "family_status_id    21525 non-null int64\n",
      "gender              21525 non-null object\n",
      "income_type         21525 non-null object\n",
      "debt                21525 non-null int64\n",
      "total_income        21525 non-null int64\n",
      "purpose             21525 non-null object\n",
      "dtypes: int64(7), object(5)\n",
      "memory usage: 2.0+ MB\n"
     ]
    }
   ],
   "source": [
    "data['total_income'] = data['total_income'].astype('int')\n",
    "data.info()\n"
   ]
  },
  {
   "cell_type": "markdown",
   "metadata": {},
   "source": [
    "**Вывод**\n",
    "Метод изменил тип данных на integer "
   ]
  },
  {
   "cell_type": "markdown",
   "metadata": {},
   "source": [
    "### Обработка дубликатов"
   ]
  },
  {
   "cell_type": "code",
   "execution_count": 15,
   "metadata": {},
   "outputs": [
    {
     "name": "stdout",
     "output_type": "stream",
     "text": [
      "54\n"
     ]
    }
   ],
   "source": [
    "# проверяем данные на наличие явных дубликатов\n",
    "print(data.duplicated().sum())"
   ]
  },
  {
   "cell_type": "markdown",
   "metadata": {},
   "source": [
    "**Вывод**\n",
    "В наличии явные дубликаты, \n",
    "удаляем методом drop_duplicates "
   ]
  },
  {
   "cell_type": "code",
   "execution_count": 16,
   "metadata": {},
   "outputs": [
    {
     "name": "stdout",
     "output_type": "stream",
     "text": [
      "0\n"
     ]
    }
   ],
   "source": [
    "data = data.drop_duplicates().reset_index(drop=True)\n",
    "# повторяем проверку данных на наличие явных дубликатов\n",
    "print(data.duplicated().sum())"
   ]
  },
  {
   "cell_type": "code",
   "execution_count": 17,
   "metadata": {},
   "outputs": [
    {
     "data": {
      "text/plain": [
       "21471"
      ]
     },
     "execution_count": 17,
     "metadata": {},
     "output_type": "execute_result"
    }
   ],
   "source": [
    "#традиционно оценим размер таблицы, теперь после удаления  дубликатов:\n",
    "data.shape[0]"
   ]
  },
  {
   "cell_type": "markdown",
   "metadata": {},
   "source": [
    "Таблица сократилась, число строк теперь 21471"
   ]
  },
  {
   "cell_type": "code",
   "execution_count": 18,
   "metadata": {},
   "outputs": [
    {
     "data": {
      "text/plain": [
       "среднее                13705\n",
       "высшее                  4710\n",
       "СРЕДНЕЕ                  772\n",
       "Среднее                  711\n",
       "неоконченное высшее      668\n",
       "ВЫСШЕЕ                   273\n",
       "Высшее                   268\n",
       "начальное                250\n",
       "Неоконченное высшее       47\n",
       "НЕОКОНЧЕННОЕ ВЫСШЕЕ       29\n",
       "НАЧАЛЬНОЕ                 17\n",
       "Начальное                 15\n",
       "ученая степень             4\n",
       "Ученая степень             1\n",
       "УЧЕНАЯ СТЕПЕНЬ             1\n",
       "Name: education, dtype: int64"
      ]
     },
     "metadata": {},
     "output_type": "display_data"
    }
   ],
   "source": [
    "display(data['education'].value_counts())"
   ]
  },
  {
   "cell_type": "markdown",
   "metadata": {},
   "source": [
    "В столбце 'education' были замечены неявные дубликаты, связанные с использованием заглавных букв. Такой тип дубликатов возникает при консолидации данных из разных источников без унификации, либо при ручном вводе данных (без использования \"выпадающего\" справочника). Устраняем методом str.lower():"
   ]
  },
  {
   "cell_type": "code",
   "execution_count": 19,
   "metadata": {},
   "outputs": [
    {
     "data": {
      "text/plain": [
       "среднее                15188\n",
       "высшее                  5251\n",
       "неоконченное высшее      744\n",
       "начальное                282\n",
       "ученая степень             6\n",
       "Name: education, dtype: int64"
      ]
     },
     "metadata": {},
     "output_type": "display_data"
    }
   ],
   "source": [
    "\n",
    "data['education'] = data['education'].str.lower()\n",
    "\n",
    "display(data['education'].value_counts())"
   ]
  },
  {
   "cell_type": "markdown",
   "metadata": {},
   "source": [
    "### Лемматизация"
   ]
  },
  {
   "cell_type": "markdown",
   "metadata": {},
   "source": [
    "Так как нам предстоит анализ возвращаемости кредита в зависимости от целей, на которые он получен, посмотрем перечень уникальных целей:\n",
    "    "
   ]
  },
  {
   "cell_type": "code",
   "execution_count": 20,
   "metadata": {},
   "outputs": [
    {
     "data": {
      "text/plain": [
       "свадьба                                   793\n",
       "на проведение свадьбы                     773\n",
       "сыграть свадьбу                           769\n",
       "операции с недвижимостью                  675\n",
       "покупка коммерческой недвижимости         662\n",
       "покупка жилья для сдачи                   652\n",
       "операции с жильем                         652\n",
       "операции с коммерческой недвижимостью     650\n",
       "покупка жилья                             646\n",
       "жилье                                     646\n",
       "покупка жилья для семьи                   638\n",
       "строительство собственной недвижимости    635\n",
       "недвижимость                              633\n",
       "операции со своей недвижимостью           627\n",
       "строительство жилой недвижимости          625\n",
       "покупка недвижимости                      621\n",
       "покупка своего жилья                      620\n",
       "строительство недвижимости                619\n",
       "ремонт жилью                              607\n",
       "покупка жилой недвижимости                606\n",
       "на покупку своего автомобиля              505\n",
       "заняться высшим образованием              496\n",
       "автомобиль                                494\n",
       "сделка с подержанным автомобилем          486\n",
       "свой автомобиль                           479\n",
       "на покупку подержанного автомобиля        478\n",
       "автомобили                                478\n",
       "на покупку автомобиля                     472\n",
       "приобретение автомобиля                   461\n",
       "дополнительное образование                460\n",
       "сделка с автомобилем                      455\n",
       "высшее образование                        452\n",
       "получение дополнительного образования     447\n",
       "образование                               447\n",
       "получение образования                     442\n",
       "профильное образование                    436\n",
       "получение высшего образования             426\n",
       "заняться образованием                     408\n",
       "Name: purpose, dtype: int64"
      ]
     },
     "metadata": {},
     "output_type": "display_data"
    }
   ],
   "source": [
    "display(data['purpose'].value_counts())"
   ]
  },
  {
   "cell_type": "markdown",
   "metadata": {},
   "source": [
    "**Вывод**\n",
    "Цели в столбце не унифицированы. Одна и та же цель, связанная с жильем может быть: \"покупка жилья\", \"жилье\", \"покупка жилья для семьи\"; или со свадьбой: \"свадьба\", \"на проведение свадьбы\", \"сыграть свадьбу\". Необходима лемматизация для дальнейшей категоризации данных.\n"
   ]
  },
  {
   "cell_type": "markdown",
   "metadata": {},
   "source": [
    "Лемматизацию, а не стемминг используем как более продвинутый процесс поиска слов, записанных в разных формах. Лемматизация возвращает слово в словарной форме (для существительных - в именительном падеже) и учитывает его значение, сохраняя смысл"
   ]
  },
  {
   "cell_type": "code",
   "execution_count": 21,
   "metadata": {},
   "outputs": [],
   "source": [
    "from pymystem3 import Mystem\n",
    "from collections import Counter\n",
    "m = Mystem()\n",
    "# purpose_lemmas = m.lemmatize(data['purpose'])\n",
    "\n",
    "def create_category_purpose(row):\n",
    "    lem_purpose = m.lemmatize(row['purpose'])\n",
    "    if 'автомобиль' in lem_purpose:\n",
    "        return 'автомобиль'\n",
    "    if (('жилье' in lem_purpose) or \n",
    "        ('недвижимость' in lem_purpose )):\n",
    "        return 'недвижимость'\n",
    "    if 'свадьба' in lem_purpose:\n",
    "        return 'свадьба'\n",
    "    if 'образование' in lem_purpose:\n",
    "        return 'образование'\n",
    "    return 'прочее' # на случай, если что-то пропустила\n",
    "\n",
    "data['categorized_purpose'] = data.apply(create_category_purpose, axis=1)\n",
    "\n",
    "\n"
   ]
  },
  {
   "cell_type": "markdown",
   "metadata": {},
   "source": [
    "### Категоризация данных"
   ]
  },
  {
   "cell_type": "markdown",
   "metadata": {},
   "source": [
    "Проверяем категории целей в столбце:"
   ]
  },
  {
   "cell_type": "code",
   "execution_count": 22,
   "metadata": {},
   "outputs": [
    {
     "name": "stdout",
     "output_type": "stream",
     "text": [
      "недвижимость    10814\n",
      "автомобиль       4308\n",
      "образование      4014\n",
      "свадьба          2335\n",
      "Name: categorized_purpose, dtype: int64\n",
      "21471\n"
     ]
    }
   ],
   "source": [
    "print(data['categorized_purpose'].value_counts())\n",
    "\n",
    "print(data['categorized_purpose'].value_counts().sum())\n"
   ]
  },
  {
   "cell_type": "markdown",
   "metadata": {},
   "source": [
    "**Вывод** \n",
    "\n",
    "Все четыре категории целей вошли в итоговый столбец, \"прочего\" не оказалось. Во всех 21471 строки, оставшиеся после удаления дубликатов есть категория цели. Можно приступать к анализу по категориям и проверкой гипотез."
   ]
  },
  {
   "cell_type": "markdown",
   "metadata": {},
   "source": [
    "Категорицацию по остальным сегментам пользователей, в зависимости от направления анализа проведем в соответствующих разделах ниже."
   ]
  },
  {
   "cell_type": "markdown",
   "metadata": {},
   "source": [
    "## Шаг 3. Ответьте на вопросы"
   ]
  },
  {
   "cell_type": "markdown",
   "metadata": {},
   "source": [
    "**- Есть ли зависимость между наличием детей и возвратом кредита в срок?**"
   ]
  },
  {
   "cell_type": "markdown",
   "metadata": {},
   "source": [
    "Чтобы ответить на этот вопрос, посмотрим, какие варианты \"детности\" представлены в таблице:"
   ]
  },
  {
   "cell_type": "code",
   "execution_count": 23,
   "metadata": {},
   "outputs": [
    {
     "name": "stdout",
     "output_type": "stream",
     "text": [
      " 0     14107\n",
      " 1      4809\n",
      " 2      2052\n",
      " 3       330\n",
      " 20       76\n",
      "-1        47\n",
      " 4        41\n",
      " 5         9\n",
      "Name: children, dtype: int64\n"
     ]
    }
   ],
   "source": [
    "print(data['children'].value_counts())"
   ]
  },
  {
   "cell_type": "markdown",
   "metadata": {},
   "source": [
    "Столбец содержит два аномальных значения: -1 и 20. Возможно, вызваны ошибками при вводе. -1 - это, очевидно, 1 ребенок. Исправим эту ошибку:"
   ]
  },
  {
   "cell_type": "code",
   "execution_count": 24,
   "metadata": {},
   "outputs": [
    {
     "name": "stdout",
     "output_type": "stream",
     "text": [
      "0     14107\n",
      "1      4856\n",
      "2      2052\n",
      "3       330\n",
      "20       76\n",
      "4        41\n",
      "5         9\n",
      "Name: children, dtype: int64\n"
     ]
    }
   ],
   "source": [
    "data['children'] = abs(data['children'])\n",
    "print(data['children'].value_counts())"
   ]
  },
  {
   "cell_type": "markdown",
   "metadata": {},
   "source": [
    "Значение вошло в состав семей с 1 ребенком. Но как расценить семьи с 20 детьми? С одной стороны, логично, что семьи с таким количеством детей обращаются за кредитом, без него справиться, наверное, трудно. Но, с другой стороны, настораживает, что по данным из открытых источников, всего семей , где более 11 детей в России в 2018 году меньше тысячи (https://www.virtualacademy.ru/news/statistika-kolichestva-detei-v-seme-v-rossii/)\n",
    "Данных о наличии 20 детей на просторах интернета не найдено. Настораживает, что при общем уменьшении числа заемщиков при увеличении числа детей - доля с 20 детьми больше, чем с 4 и 5. Делаем вывод, что это ошибка ввода, на самом деле детей 2 (в реальности можно сделать проверку, попросив кредитный отдел выборочно \"поднять\" данные заемщиков). Для замены применяем метод replace:"
   ]
  },
  {
   "cell_type": "code",
   "execution_count": 25,
   "metadata": {},
   "outputs": [
    {
     "name": "stdout",
     "output_type": "stream",
     "text": [
      "0    14107\n",
      "1     4856\n",
      "2     2128\n",
      "3      330\n",
      "4       41\n",
      "5        9\n",
      "Name: children, dtype: int64\n"
     ]
    }
   ],
   "source": [
    "data['children'] = data['children'].replace(20, 2 )\n",
    "print(data['children'].value_counts())\n"
   ]
  },
  {
   "cell_type": "markdown",
   "metadata": {},
   "source": [
    "Разобьем массив по категориям в зависимости от наличия детей:\n"
   ]
  },
  {
   "cell_type": "code",
   "execution_count": 26,
   "metadata": {},
   "outputs": [
    {
     "name": "stdout",
     "output_type": "stream",
     "text": [
      "нет детей    14107\n",
      "есть дети     7364\n",
      "Name: categorized_children, dtype: int64\n"
     ]
    }
   ],
   "source": [
    "def create_category_children(row):\n",
    "    if row['children'] == 0:\n",
    "        return 'нет детей'\n",
    "    return 'есть дети'\n",
    "\n",
    "data['categorized_children'] = data.apply(create_category_children, axis=1)\n",
    "\n",
    "print(data['categorized_children'].value_counts())"
   ]
  },
  {
   "cell_type": "markdown",
   "metadata": {},
   "source": [
    "Разобьем массив по категориям в зависимости от наличия долгов:"
   ]
  },
  {
   "cell_type": "code",
   "execution_count": 27,
   "metadata": {},
   "outputs": [
    {
     "name": "stdout",
     "output_type": "stream",
     "text": [
      "0    19730\n",
      "1     1741\n",
      "Name: debt, dtype: int64\n"
     ]
    }
   ],
   "source": [
    "print(data['debt'].value_counts())"
   ]
  },
  {
   "cell_type": "markdown",
   "metadata": {},
   "source": [
    "Очевидно, что 0  соответствует состоянию без долгов, а 1 - с долгами. Создадим категории:"
   ]
  },
  {
   "cell_type": "code",
   "execution_count": 28,
   "metadata": {},
   "outputs": [
    {
     "name": "stdout",
     "output_type": "stream",
     "text": [
      "нет долга    19730\n",
      "есть долг     1741\n",
      "Name: categorized_debt, dtype: int64\n"
     ]
    }
   ],
   "source": [
    "def create_category_debt(row):\n",
    "    if row['debt'] == 1:\n",
    "        return 'есть долг'\n",
    "    return 'нет долга'\n",
    "\n",
    "data['categorized_debt'] = data.apply(create_category_debt, axis=1)\n",
    "\n",
    "print(data['categorized_debt'].value_counts())"
   ]
  },
  {
   "cell_type": "markdown",
   "metadata": {},
   "source": [
    "Теперь можно взглянуть на их пересечение, используем сводную таблицу:"
   ]
  },
  {
   "cell_type": "code",
   "execution_count": 29,
   "metadata": {},
   "outputs": [
    {
     "data": {
      "text/html": [
       "<div>\n",
       "<style scoped>\n",
       "    .dataframe tbody tr th:only-of-type {\n",
       "        vertical-align: middle;\n",
       "    }\n",
       "\n",
       "    .dataframe tbody tr th {\n",
       "        vertical-align: top;\n",
       "    }\n",
       "\n",
       "    .dataframe thead th {\n",
       "        text-align: right;\n",
       "    }\n",
       "</style>\n",
       "<table border=\"1\" class=\"dataframe\">\n",
       "  <thead>\n",
       "    <tr style=\"text-align: right;\">\n",
       "      <th>categorized_children</th>\n",
       "      <th>есть дети</th>\n",
       "      <th>нет детей</th>\n",
       "      <th>All</th>\n",
       "    </tr>\n",
       "    <tr>\n",
       "      <th>categorized_debt</th>\n",
       "      <th></th>\n",
       "      <th></th>\n",
       "      <th></th>\n",
       "    </tr>\n",
       "  </thead>\n",
       "  <tbody>\n",
       "    <tr>\n",
       "      <td>нет долга</td>\n",
       "      <td>6686</td>\n",
       "      <td>13044</td>\n",
       "      <td>19730</td>\n",
       "    </tr>\n",
       "    <tr>\n",
       "      <td>есть долг</td>\n",
       "      <td>678</td>\n",
       "      <td>1063</td>\n",
       "      <td>1741</td>\n",
       "    </tr>\n",
       "    <tr>\n",
       "      <td>All</td>\n",
       "      <td>7364</td>\n",
       "      <td>14107</td>\n",
       "      <td>21471</td>\n",
       "    </tr>\n",
       "  </tbody>\n",
       "</table>\n",
       "</div>"
      ],
      "text/plain": [
       "categorized_children  есть дети  нет детей    All\n",
       "categorized_debt                                 \n",
       "нет долга                  6686      13044  19730\n",
       "есть долг                   678       1063   1741\n",
       "All                        7364      14107  21471"
      ]
     },
     "metadata": {},
     "output_type": "display_data"
    }
   ],
   "source": [
    "child_dependency = data.pivot_table(\n",
    "    index = 'categorized_debt',\n",
    "    columns = 'categorized_children',\n",
    "    values = 'debt',\n",
    "    aggfunc = 'count',\n",
    "    margins=True)\n",
    "display(child_dependency.sort_index(ascending = False))"
   ]
  },
  {
   "cell_type": "markdown",
   "metadata": {},
   "source": [
    "Вычислим долю должников в каждой категории, чтобы сравнить:"
   ]
  },
  {
   "cell_type": "code",
   "execution_count": 30,
   "metadata": {},
   "outputs": [
    {
     "data": {
      "text/html": [
       "<div>\n",
       "<style scoped>\n",
       "    .dataframe tbody tr th:only-of-type {\n",
       "        vertical-align: middle;\n",
       "    }\n",
       "\n",
       "    .dataframe tbody tr th {\n",
       "        vertical-align: top;\n",
       "    }\n",
       "\n",
       "    .dataframe thead th {\n",
       "        text-align: right;\n",
       "    }\n",
       "</style>\n",
       "<table border=\"1\" class=\"dataframe\">\n",
       "  <thead>\n",
       "    <tr style=\"text-align: right;\">\n",
       "      <th>categorized_debt</th>\n",
       "      <th>есть долг</th>\n",
       "      <th>нет долга</th>\n",
       "      <th>All</th>\n",
       "      <th>debt_share</th>\n",
       "    </tr>\n",
       "    <tr>\n",
       "      <th>categorized_children</th>\n",
       "      <th></th>\n",
       "      <th></th>\n",
       "      <th></th>\n",
       "      <th></th>\n",
       "    </tr>\n",
       "  </thead>\n",
       "  <tbody>\n",
       "    <tr>\n",
       "      <td>All</td>\n",
       "      <td>1741</td>\n",
       "      <td>19730</td>\n",
       "      <td>21471</td>\n",
       "      <td>8.11</td>\n",
       "    </tr>\n",
       "    <tr>\n",
       "      <td>есть дети</td>\n",
       "      <td>678</td>\n",
       "      <td>6686</td>\n",
       "      <td>7364</td>\n",
       "      <td>9.21</td>\n",
       "    </tr>\n",
       "    <tr>\n",
       "      <td>нет детей</td>\n",
       "      <td>1063</td>\n",
       "      <td>13044</td>\n",
       "      <td>14107</td>\n",
       "      <td>7.54</td>\n",
       "    </tr>\n",
       "  </tbody>\n",
       "</table>\n",
       "</div>"
      ],
      "text/plain": [
       "categorized_debt      есть долг  нет долга    All  debt_share\n",
       "categorized_children                                         \n",
       "All                        1741      19730  21471        8.11\n",
       "есть дети                   678       6686   7364        9.21\n",
       "нет детей                  1063      13044  14107        7.54"
      ]
     },
     "metadata": {},
     "output_type": "display_data"
    }
   ],
   "source": [
    "child_dependency = data.pivot_table(\n",
    "    index = 'categorized_children',\n",
    "    columns = 'categorized_debt',\n",
    "    values = 'debt',\n",
    "    aggfunc = 'count',\n",
    "    margins=True)\n",
    "\n",
    "child_dependency['debt_share'] = round(child_dependency['есть долг'] / child_dependency['All'] * 100, 2)\n",
    "\n",
    "display(child_dependency.sort_index())"
   ]
  },
  {
   "cell_type": "markdown",
   "metadata": {},
   "source": [
    "**Вывод**\n",
    "Процент заемщиков с наличием просроченной задолженности по кредитному продукту действительно растет с появлением детей. Причем есть зависимость и от количества детей: так, доля должников с появлением первого ребенка увеличивается с 7,54% до 9,16%, с появлением второго - увеличивается еще на ,33% и достигает 9,49%. Далее доля несколько снижается, до 8,16% (ответственность вырастает с бременем или же родители адаптируются). В людом случае доля имеющих просроченную задолженность среди должников, имеющих детей, выше, чем бездетных, что должно найти отражении в составлении профилей рисков и кредитных рейтингов для выдачи кредита. "
   ]
  },
  {
   "cell_type": "markdown",
   "metadata": {},
   "source": [
    "**- Есть ли зависимость между семейным положением и возвратом кредита в срок?**"
   ]
  },
  {
   "cell_type": "markdown",
   "metadata": {},
   "source": [
    "Добавим категории для холостых и семейных заемщиков:"
   ]
  },
  {
   "cell_type": "markdown",
   "metadata": {},
   "source": [
    "Проверим значения в столбце 'family_status':"
   ]
  },
  {
   "cell_type": "code",
   "execution_count": 23,
   "metadata": {},
   "outputs": [
    {
     "name": "stdout",
     "output_type": "stream",
     "text": [
      "женат / замужем          12344\n",
      "гражданский брак          4163\n",
      "Не женат / не замужем     2810\n",
      "в разводе                 1195\n",
      "вдовец / вдова             959\n",
      "Name: family_status, dtype: int64\n"
     ]
    }
   ],
   "source": [
    "print(data['family_status'].value_counts())"
   ]
  },
  {
   "cell_type": "markdown",
   "metadata": {},
   "source": [
    "У нас 5 категорий, указанных клиентами:\n",
    "женат / замужем          12344 - женат\n",
    "гражданский брак          4163 - женат (пусть и неофициально)\n",
    "Не женат / не замужем     2810 - неженат\n",
    "в разводе                 1195 - неженат\n",
    "вдовец / вдова             959 - неженат\n",
    "Так как нас интересует текущий статус и его влияние на изучаемые показатели, то, фактически, останется 2 категории."
   ]
  },
  {
   "cell_type": "code",
   "execution_count": 24,
   "metadata": {},
   "outputs": [
    {
     "name": "stdout",
     "output_type": "stream",
     "text": [
      "семейный      16507\n",
      "несемейный     4964\n",
      "Name: categorized_marriage, dtype: int64\n"
     ]
    }
   ],
   "source": [
    "def create_category_marriage(row):\n",
    "    if ((row['family_status'] == 'женат / замужем') or\n",
    "    (row['family_status'] == 'гражданский брак')):\n",
    "        return 'семейный'\n",
    "    return 'несемейный'\n",
    "data['categorized_marriage'] = data.apply(create_category_marriage, axis=1)\n",
    "\n",
    "print(data['categorized_marriage'].value_counts())"
   ]
  },
  {
   "cell_type": "markdown",
   "metadata": {},
   "source": [
    "Семейных клиентов значительно больше, проверим как обстоят дела с платежной дисциплиной:"
   ]
  },
  {
   "cell_type": "code",
   "execution_count": 31,
   "metadata": {},
   "outputs": [
    {
     "data": {
      "text/html": [
       "<div>\n",
       "<style scoped>\n",
       "    .dataframe tbody tr th:only-of-type {\n",
       "        vertical-align: middle;\n",
       "    }\n",
       "\n",
       "    .dataframe tbody tr th {\n",
       "        vertical-align: top;\n",
       "    }\n",
       "\n",
       "    .dataframe thead th {\n",
       "        text-align: right;\n",
       "    }\n",
       "</style>\n",
       "<table border=\"1\" class=\"dataframe\">\n",
       "  <thead>\n",
       "    <tr style=\"text-align: right;\">\n",
       "      <th>categorized_debt</th>\n",
       "      <th>есть долг</th>\n",
       "      <th>нет долга</th>\n",
       "      <th>All</th>\n",
       "      <th>debt_share</th>\n",
       "    </tr>\n",
       "    <tr>\n",
       "      <th>family_status</th>\n",
       "      <th></th>\n",
       "      <th></th>\n",
       "      <th></th>\n",
       "      <th></th>\n",
       "    </tr>\n",
       "  </thead>\n",
       "  <tbody>\n",
       "    <tr>\n",
       "      <td>женат / замужем</td>\n",
       "      <td>931</td>\n",
       "      <td>11413</td>\n",
       "      <td>12344</td>\n",
       "      <td>7.54</td>\n",
       "    </tr>\n",
       "    <tr>\n",
       "      <td>гражданский брак</td>\n",
       "      <td>388</td>\n",
       "      <td>3775</td>\n",
       "      <td>4163</td>\n",
       "      <td>9.32</td>\n",
       "    </tr>\n",
       "    <tr>\n",
       "      <td>вдовец / вдова</td>\n",
       "      <td>63</td>\n",
       "      <td>896</td>\n",
       "      <td>959</td>\n",
       "      <td>6.57</td>\n",
       "    </tr>\n",
       "    <tr>\n",
       "      <td>в разводе</td>\n",
       "      <td>85</td>\n",
       "      <td>1110</td>\n",
       "      <td>1195</td>\n",
       "      <td>7.11</td>\n",
       "    </tr>\n",
       "    <tr>\n",
       "      <td>Не женат / не замужем</td>\n",
       "      <td>274</td>\n",
       "      <td>2536</td>\n",
       "      <td>2810</td>\n",
       "      <td>9.75</td>\n",
       "    </tr>\n",
       "    <tr>\n",
       "      <td>All</td>\n",
       "      <td>1741</td>\n",
       "      <td>19730</td>\n",
       "      <td>21471</td>\n",
       "      <td>8.11</td>\n",
       "    </tr>\n",
       "  </tbody>\n",
       "</table>\n",
       "</div>"
      ],
      "text/plain": [
       "categorized_debt       есть долг  нет долга    All  debt_share\n",
       "family_status                                                 \n",
       "женат / замужем              931      11413  12344        7.54\n",
       "гражданский брак             388       3775   4163        9.32\n",
       "вдовец / вдова                63        896    959        6.57\n",
       "в разводе                     85       1110   1195        7.11\n",
       "Не женат / не замужем        274       2536   2810        9.75\n",
       "All                         1741      19730  21471        8.11"
      ]
     },
     "metadata": {},
     "output_type": "display_data"
    }
   ],
   "source": [
    "marriage_dependency = data.pivot_table(\n",
    "    index = 'family_status',\n",
    "    columns = 'categorized_debt',\n",
    "    values = 'debt',\n",
    "    aggfunc = 'count',\n",
    "    margins=True)\n",
    "\n",
    "marriage_dependency['debt_share'] = round(marriage_dependency['есть долг'] / marriage_dependency['All'] * 100, 2)\n",
    "\n",
    "display(marriage_dependency.sort_index(ascending = False))"
   ]
  },
  {
   "cell_type": "markdown",
   "metadata": {},
   "source": [
    "**Вывод**"
   ]
  },
  {
   "cell_type": "markdown",
   "metadata": {},
   "source": [
    "Семейные клиенты чаще берут кредиты и они более дисциплинированны в погашении платежей: 8,5% клиентов с просроченным долгом в группе клиентов, у которых отсутствует муж/жена в настоящее время - против 7,99% в категории семейных клиентов."
   ]
  },
  {
   "cell_type": "markdown",
   "metadata": {},
   "source": [
    "**- Есть ли зависимость между уровнем дохода и возвратом кредита в срок?**"
   ]
  },
  {
   "cell_type": "markdown",
   "metadata": {},
   "source": [
    "Разобьем наш массив данных по категориям, в зависимости от уровня дохода. Сначала выясним минимальный, максимальный, средний и медианный доход:"
   ]
  },
  {
   "cell_type": "code",
   "execution_count": 26,
   "metadata": {},
   "outputs": [
    {
     "name": "stdout",
     "output_type": "stream",
     "text": [
      "минимальный доход =  20667.26379327158\n",
      "средний доход =  165295.8877638656\n",
      "медианный доход =  142594.39684740017\n",
      "максимальный доход =  2265604.028722744\n"
     ]
    }
   ],
   "source": [
    "print('минимальный доход = ', data['total_income'].min())\n",
    "print('средний доход = ', data['total_income'].mean())\n",
    "print('медианный доход = ', data['total_income'].median())\n",
    "print('максимальный доход = ', data['total_income'].max())"
   ]
  },
  {
   "cell_type": "markdown",
   "metadata": {},
   "source": [
    "Если считать, что это доход в месяц, то суммы обнадеживающие, за чертой бедности нет ни одного клиента. Но так ли это? Наименование столбца с доходом - 'total_income', что предполагает, что доход аггрегирован за период. Здесь необходим запрос к составителю таблицы. Так как у нас такой возможности нет, ограничимся предположением. Банки собирают подтвержденный доход за предыдущий период. Этот период, исходя из обычаев делового оборота, может быть от 6 месяцев до двух лет. Мое предположение, что период равен 6 месяцам, так как даже в этом случае минимальное значение дохода за полгода (20667.26) угрожающе низко для выдачи положительного решения по кредиту. Ниже - ещё маловероятнее.\n",
    "Для разбивки на категории обратимся к статистическим данным:\n",
    "Прожиточный минимум (ПМ) на душу населения за 3 квартал 2021 года составляет 11 970 рубля в месяц.\n",
    "Нищие – душевой доход до 1 ПМ/чел. \n",
    "Бедные - душевой доход от 1 до 3 ПМ/чел.\n",
    "Выше бедности - доход от 3 до 7 ПМ/чел. \n",
    "Средний класс – доход от 7 до 11 ПМ/чел. \n",
    "Высший класс – доход более 11 ПМ/чел.\n",
    "Вычислим границы категорий для нашего анализа:\n"
   ]
  },
  {
   "cell_type": "code",
   "execution_count": 27,
   "metadata": {},
   "outputs": [
    {
     "name": "stdout",
     "output_type": "stream",
     "text": [
      "нищие - до  11970\n",
      "бедные - от 11970 до 35910\n",
      "средний - от 35910 до 83790\n",
      "выше среднего - от 83790 до 131670\n",
      "богатые - от 131670\n"
     ]
    }
   ],
   "source": [
    "print('нищие - до ', 11970) # звучит нетолерантно, но при проведении настоящего исследования были проверены официальные критерии нищеты ВОЗ\n",
    "print('бедные - от', 11970, 'до', 11970*3)\n",
    "print('средний - от', 11970*3, 'до', 11970*7)\n",
    "print('выше среднего - от', 11970*7, 'до', 11970*11)\n",
    "print('богатые - от', 11970*11)"
   ]
  },
  {
   "cell_type": "markdown",
   "metadata": {},
   "source": [
    "Так как у нас доход за полгода, то для получения среднемесячного дохода будем делить значение столбца 'total_income' на 6."
   ]
  },
  {
   "cell_type": "code",
   "execution_count": 28,
   "metadata": {},
   "outputs": [
    {
     "name": "stdout",
     "output_type": "stream",
     "text": [
      "1 бедный     15616\n",
      "2 средний     4019\n",
      "0 нищий       1615\n",
      "3 высокий      178\n",
      "4 богатый       43\n",
      "Name: categorized_income, dtype: int64\n"
     ]
    }
   ],
   "source": [
    "def create_category_income(row):\n",
    "    if row['total_income']/6 < 11970:\n",
    "            return '0 нищий'\n",
    "    if row['total_income']/6 < 35910:\n",
    "        return '1 бедный'\n",
    "    if row['total_income']/6 < 83790:\n",
    "        return '2 средний'\n",
    "    if row['total_income']/6 < 131670:\n",
    "        return '3 высокий'\n",
    "    return '4 богатый'\n",
    "data['categorized_income'] = data.apply(create_category_income, axis=1)\n",
    "\n",
    "print(data['categorized_income'].value_counts())"
   ]
  },
  {
   "cell_type": "markdown",
   "metadata": {},
   "source": [
    "Распределение похоже на нормальное. Проведем анализ:"
   ]
  },
  {
   "cell_type": "code",
   "execution_count": 29,
   "metadata": {},
   "outputs": [
    {
     "data": {
      "text/html": [
       "<div>\n",
       "<style scoped>\n",
       "    .dataframe tbody tr th:only-of-type {\n",
       "        vertical-align: middle;\n",
       "    }\n",
       "\n",
       "    .dataframe tbody tr th {\n",
       "        vertical-align: top;\n",
       "    }\n",
       "\n",
       "    .dataframe thead th {\n",
       "        text-align: right;\n",
       "    }\n",
       "</style>\n",
       "<table border=\"1\" class=\"dataframe\">\n",
       "  <thead>\n",
       "    <tr style=\"text-align: right;\">\n",
       "      <th>categorized_debt</th>\n",
       "      <th>есть долг</th>\n",
       "      <th>нет долга</th>\n",
       "      <th>All</th>\n",
       "      <th>debt_share</th>\n",
       "    </tr>\n",
       "    <tr>\n",
       "      <th>categorized_income</th>\n",
       "      <th></th>\n",
       "      <th></th>\n",
       "      <th></th>\n",
       "      <th></th>\n",
       "    </tr>\n",
       "  </thead>\n",
       "  <tbody>\n",
       "    <tr>\n",
       "      <td>0 нищий</td>\n",
       "      <td>110</td>\n",
       "      <td>1505</td>\n",
       "      <td>1615</td>\n",
       "      <td>6.81</td>\n",
       "    </tr>\n",
       "    <tr>\n",
       "      <td>1 бедный</td>\n",
       "      <td>1333</td>\n",
       "      <td>14283</td>\n",
       "      <td>15616</td>\n",
       "      <td>8.54</td>\n",
       "    </tr>\n",
       "    <tr>\n",
       "      <td>2 средний</td>\n",
       "      <td>284</td>\n",
       "      <td>3735</td>\n",
       "      <td>4019</td>\n",
       "      <td>7.07</td>\n",
       "    </tr>\n",
       "    <tr>\n",
       "      <td>3 высокий</td>\n",
       "      <td>10</td>\n",
       "      <td>168</td>\n",
       "      <td>178</td>\n",
       "      <td>5.62</td>\n",
       "    </tr>\n",
       "    <tr>\n",
       "      <td>4 богатый</td>\n",
       "      <td>4</td>\n",
       "      <td>39</td>\n",
       "      <td>43</td>\n",
       "      <td>9.30</td>\n",
       "    </tr>\n",
       "    <tr>\n",
       "      <td>All</td>\n",
       "      <td>1741</td>\n",
       "      <td>19730</td>\n",
       "      <td>21471</td>\n",
       "      <td>8.11</td>\n",
       "    </tr>\n",
       "  </tbody>\n",
       "</table>\n",
       "</div>"
      ],
      "text/plain": [
       "categorized_debt    есть долг  нет долга    All  debt_share\n",
       "categorized_income                                         \n",
       "0 нищий                   110       1505   1615        6.81\n",
       "1 бедный                 1333      14283  15616        8.54\n",
       "2 средний                 284       3735   4019        7.07\n",
       "3 высокий                  10        168    178        5.62\n",
       "4 богатый                   4         39     43        9.30\n",
       "All                      1741      19730  21471        8.11"
      ]
     },
     "metadata": {},
     "output_type": "display_data"
    }
   ],
   "source": [
    "income_dependency = data.pivot_table(\n",
    "    index = 'categorized_income',\n",
    "    columns = 'categorized_debt',\n",
    "    values = 'debt',\n",
    "    aggfunc = 'count',\n",
    "    margins=True)\n",
    "\n",
    "income_dependency['debt_share'] = round(income_dependency['есть долг'] / income_dependency['All'] * 100, 2)\n",
    "\n",
    "display(income_dependency.sort_index(ascending = True))"
   ]
  },
  {
   "cell_type": "markdown",
   "metadata": {},
   "source": [
    "**Вывод**"
   ]
  },
  {
   "cell_type": "markdown",
   "metadata": {},
   "source": [
    "Самые дисциплинированные плательщики - с высоким доходом (определения даются в соответствии с критериями разбиения настоящего исследования, см. текст выше), 5,62% недисциплинированных плательщиков от общего числа клиентов в категории. На втором месте - клиенты с доходом ниже прожиточного минимума, их показатель - 6,81% недисциплинированных плательщиков от общего числа клиентов в категории. На третьем месте - Клиенты со средним доходом - 7,07% недисциплинированных плательщиков от общего числа клиентов в категории. И с чувствительным отрывом идут 2 наиболее недисциплитнированных категории - бедные и богатые, 8,54% и 9,3% недисциплинированных плательщиков от общего числа клиентов в категории соответственно. Прослеживаются различия в группах Процент неплательщиков не зависит от увеличения дохода линейно,  прогрессивно или регрессивно. Однако, полученные данные помогут созданию рейтинга клиентов для одобрения выдачи кредита, с обязательным пересмотром по мере получения новых данных, но не реже, чем 1 раз в год."
   ]
  },
  {
   "cell_type": "markdown",
   "metadata": {},
   "source": [
    "**- Как разные цели кредита влияют на его возврат в срок? **"
   ]
  },
  {
   "cell_type": "markdown",
   "metadata": {},
   "source": [
    "Категоризации по целям кредита мы провели ранее, проведем анализ в рамках поставленного вопроса:"
   ]
  },
  {
   "cell_type": "code",
   "execution_count": 30,
   "metadata": {},
   "outputs": [
    {
     "data": {
      "text/html": [
       "<div>\n",
       "<style scoped>\n",
       "    .dataframe tbody tr th:only-of-type {\n",
       "        vertical-align: middle;\n",
       "    }\n",
       "\n",
       "    .dataframe tbody tr th {\n",
       "        vertical-align: top;\n",
       "    }\n",
       "\n",
       "    .dataframe thead th {\n",
       "        text-align: right;\n",
       "    }\n",
       "</style>\n",
       "<table border=\"1\" class=\"dataframe\">\n",
       "  <thead>\n",
       "    <tr style=\"text-align: right;\">\n",
       "      <th>categorized_debt</th>\n",
       "      <th>есть долг</th>\n",
       "      <th>нет долга</th>\n",
       "      <th>All</th>\n",
       "      <th>debt_share</th>\n",
       "    </tr>\n",
       "    <tr>\n",
       "      <th>categorized_purpose</th>\n",
       "      <th></th>\n",
       "      <th></th>\n",
       "      <th></th>\n",
       "      <th></th>\n",
       "    </tr>\n",
       "  </thead>\n",
       "  <tbody>\n",
       "    <tr>\n",
       "      <td>свадьба</td>\n",
       "      <td>186</td>\n",
       "      <td>2149</td>\n",
       "      <td>2335</td>\n",
       "      <td>7.97</td>\n",
       "    </tr>\n",
       "    <tr>\n",
       "      <td>образование</td>\n",
       "      <td>370</td>\n",
       "      <td>3644</td>\n",
       "      <td>4014</td>\n",
       "      <td>9.22</td>\n",
       "    </tr>\n",
       "    <tr>\n",
       "      <td>недвижимость</td>\n",
       "      <td>782</td>\n",
       "      <td>10032</td>\n",
       "      <td>10814</td>\n",
       "      <td>7.23</td>\n",
       "    </tr>\n",
       "    <tr>\n",
       "      <td>автомобиль</td>\n",
       "      <td>403</td>\n",
       "      <td>3905</td>\n",
       "      <td>4308</td>\n",
       "      <td>9.35</td>\n",
       "    </tr>\n",
       "    <tr>\n",
       "      <td>All</td>\n",
       "      <td>1741</td>\n",
       "      <td>19730</td>\n",
       "      <td>21471</td>\n",
       "      <td>8.11</td>\n",
       "    </tr>\n",
       "  </tbody>\n",
       "</table>\n",
       "</div>"
      ],
      "text/plain": [
       "categorized_debt     есть долг  нет долга    All  debt_share\n",
       "categorized_purpose                                         \n",
       "свадьба                    186       2149   2335        7.97\n",
       "образование                370       3644   4014        9.22\n",
       "недвижимость               782      10032  10814        7.23\n",
       "автомобиль                 403       3905   4308        9.35\n",
       "All                       1741      19730  21471        8.11"
      ]
     },
     "metadata": {},
     "output_type": "display_data"
    }
   ],
   "source": [
    "purpose_dependency = data.pivot_table(\n",
    "    index = 'categorized_purpose',\n",
    "    columns = 'categorized_debt',\n",
    "    values = 'debt',\n",
    "    aggfunc = 'count',\n",
    "    margins=True)\n",
    "\n",
    "purpose_dependency['debt_share'] = round(purpose_dependency['есть долг'] / purpose_dependency['All'] * 100, 2)\n",
    "\n",
    "display(purpose_dependency.sort_index(ascending = False))"
   ]
  },
  {
   "cell_type": "markdown",
   "metadata": {},
   "source": [
    "**Вывод**\n",
    "Мы видим зависимость доли неплательщиков от категории цели, на которую получен кредит. Самые дисциплинированные плательщики - те, кто взял кредит на недвижимость. 7,97% недисциплинированных плательщиков от общего числа клиентов в категории. Это объяснимо, поскольку недвижимость обычно выступает залогом, и мотивация для плательщика максимальная. На втором месте - свадьба, 7,97, что несколько неожиданно, исходная гипотеза предполагала следующим пунктом категорию взявших кредит на автомобиль. Между тем, и взявшие кредит на автомобиль, и взявшие кредит на образование - наименее дисциплинированы, 9,35% и  9,22% недисциплинированных плательщиков от общего числа клиентов в категории соответственно.\n"
   ]
  },
  {
   "cell_type": "markdown",
   "metadata": {},
   "source": [
    "## Шаг 4. Общий вывод"
   ]
  },
  {
   "cell_type": "markdown",
   "metadata": {},
   "source": [
    "Мы провели исследование для кредитного отдела банка  для определения корреляции возврата кредита в срок и следующих показателей:\n",
    "- наличия детей у заемщика;\n",
    "- семейного положения заемщика;\n",
    "- уровнем дохода заемщика;\n",
    "- цели кредита.\n",
    "\n",
    "**Зависимость между наличием детей и возвратом кредита в срок**\n",
    "Мы установили, что процент заемщиков с наличием просроченной задолженности по кредитному продукту действительно растет с появлением детей. Причем есть зависимость не только от наличия, но и от количества детей: так, доля должников с появлением первого ребенка увеличивается с 7,54% до 9,16%, с появлением второго - увеличивается еще на ,33% и достигает 9,49%. Далее доля несколько снижается, до 8,16% (ответственность вырастает с бременем или же родители адаптируются). В любом случае, доля имеющих просроченную задолженность среди должников, имеющих детей, выше, чем бездетных, что должно найти отражении в составлении профилей рисков и кредитных рейтингов для выдачи кредита.\n",
    "**Зависимость между семейным положением заемщика и возвратом кредита в срок**\n",
    "Семейные клиенты чаще берут кредиты, и они более дисциплинированны в погашении платежей: 8,5% клиентов с просроченным долгом в группе клиентов, у которых отсутствует муж/жена в настоящее время - против 7,99% в категории семейных клиентов. Рекомендуем отразить выявленную зависимость при составлении профилей рисков и кредитных рейтингов для выдачи кредита\n",
    "**зЗависимость между уровнем дохода и возвратом кредита в срок**\n",
    "Самые дисциплинированные плательщики - с высоким доходом (определения даются в соответствии с критериями разбиения настоящего исследования, см. текст выше), 5,62% недисциплинированных плательщиков от общего числа клиентов в категории. На втором месте - клиенты с доходом ниже прожиточного минимума, их показатель - 6,81% недисциплинированных плательщиков от общего числа клиентов в категории. На третьем месте - Клиенты со средним доходом - 7,07% недисциплинированных плательщиков от общего числа клиентов в категории. И с чувствительным отрывом идут 2 наиболее недисциплинированных категории - бедные и богатые, 8,54% и 9,3% недисциплинированных плательщиков от общего числа клиентов в категории соответственно. Прослеживаются выраженные различия в категориях, выделенных по уровню дохода заемщика. Процент неплательщиков не зависит от увеличения дохода линейно, прогрессивно или регрессивно. \n",
    "**Цели кредита влияют на его возврат в срок**\n",
    "Мы видим зависимость доли неплательщиков от категории цели, на которую получен кредит. Самые дисциплинированные плательщики - те, кто взял кредит на недвижимость. 7,97% недисциплинированных плательщиков от общего числа клиентов в категории. Это объяснимо, поскольку недвижимость обычно выступает залогом, и мотивация для плательщика максимальная. На втором месте - свадьба, 7,97%. Между тем, и взявшие кредит на автомобиль, и взявшие кредит на образование - наименее дисциплинированы, 9,35% и 9,22% недисциплинированных плательщиков от общего числа клиентов в категории соответственно.\n",
    "\n",
    "Мы рекомендуем учитывать каждый из проанализированных параметров при построении модели кредитного скоринга. Данные в систему скоринга, которая оценивает способность потенциального заёмщика вернуть кредит банку необходимо перевести через систему баллов, присуждаемых плательщику в зависимости от наличия детей, семейного положения, доходов и цели получения кредита.\n",
    "Полученные данные достаточны для созданию рейтинга клиентов в  целях одобрения выдачи кредита. Возможна дальнейшая детализация и параметрический анализ. Обязательным является пересмотр рейтинга по мере получения новых данных, но не реже, чем 1 раз в год.\n"
   ]
  },
  {
   "cell_type": "markdown",
   "metadata": {},
   "source": [
    "## Чек-лист готовности проекта\n",
    "\n",
    "Поставьте 'x' в выполненных пунктах. Далее нажмите Shift+Enter."
   ]
  },
  {
   "cell_type": "markdown",
   "metadata": {},
   "source": [
    "- [x]  открыт файл;\n",
    "- [x]  файл изучен;\n",
    "- [x]  определены пропущенные значения;\n",
    "- [x]  заполнены пропущенные значения;\n",
    "- [x]  есть пояснение, какие пропущенные значения обнаружены;\n",
    "- [x]  описаны возможные причины появления пропусков в данных;\n",
    "- [x]  объяснено, по какому принципу заполнены пропуски;\n",
    "- [x]  заменен вещественный тип данных на целочисленный;\n",
    "- [x]  есть пояснение, какой метод используется для изменения типа данных и почему;\n",
    "- [x]  удалены дубликаты;\n",
    "- [x]  есть пояснение, какой метод используется для поиска и удаления дубликатов;\n",
    "- [x]  описаны возможные причины появления дубликатов в данных;\n",
    "- [x]  выделены леммы в значениях столбца с целями получения кредита;\n",
    "- [x]  описан процесс лемматизации;\n",
    "- [x]  данные категоризированы;\n",
    "- [x]  есть объяснение принципа категоризации данных;\n",
    "- [x]  есть ответ на вопрос: \"Есть ли зависимость между наличием детей и возвратом кредита в срок?\";\n",
    "- [x]  есть ответ на вопрос: \"Есть ли зависимость между семейным положением и возвратом кредита в срок?\";\n",
    "- [x]  есть ответ на вопрос: \"Есть ли зависимость между уровнем дохода и возвратом кредита в срок?\";\n",
    "- [x]  есть ответ на вопрос: \"Как разные цели кредита влияют на его возврат в срок?\";\n",
    "- [x]  в каждом этапе есть выводы;\n",
    "- [x]  есть общий вывод."
   ]
  }
 ],
 "metadata": {
  "ExecuteTimeLog": [
   {
    "duration": 802,
    "start_time": "2022-01-08T13:23:35.770Z"
   },
   {
    "duration": 78,
    "start_time": "2022-01-08T13:24:56.215Z"
   },
   {
    "duration": 35,
    "start_time": "2022-01-08T13:43:16.822Z"
   },
   {
    "duration": 90,
    "start_time": "2022-01-08T13:55:05.042Z"
   },
   {
    "duration": 446,
    "start_time": "2022-01-08T13:55:23.802Z"
   },
   {
    "duration": 9030,
    "start_time": "2022-01-08T13:55:41.734Z"
   },
   {
    "duration": 116,
    "start_time": "2022-01-08T13:56:41.747Z"
   },
   {
    "duration": 15,
    "start_time": "2022-01-08T13:56:48.996Z"
   },
   {
    "duration": 302,
    "start_time": "2022-01-08T14:11:58.495Z"
   },
   {
    "duration": 15,
    "start_time": "2022-01-08T14:15:52.090Z"
   },
   {
    "duration": 275,
    "start_time": "2022-01-08T14:16:12.340Z"
   },
   {
    "duration": 11,
    "start_time": "2022-01-08T14:41:49.401Z"
   },
   {
    "duration": 11,
    "start_time": "2022-01-08T14:42:35.576Z"
   },
   {
    "duration": 11,
    "start_time": "2022-01-08T14:50:48.855Z"
   },
   {
    "duration": 14,
    "start_time": "2022-01-08T14:52:28.712Z"
   },
   {
    "duration": 19,
    "start_time": "2022-01-08T14:53:36.746Z"
   },
   {
    "duration": 44,
    "start_time": "2022-01-08T15:04:37.941Z"
   },
   {
    "duration": 54,
    "start_time": "2022-01-08T15:14:17.977Z"
   },
   {
    "duration": 86,
    "start_time": "2022-01-08T15:22:09.450Z"
   },
   {
    "duration": 89,
    "start_time": "2022-01-08T15:22:16.836Z"
   },
   {
    "duration": 96,
    "start_time": "2022-01-08T15:24:17.468Z"
   },
   {
    "duration": 103,
    "start_time": "2022-01-08T15:24:37.479Z"
   },
   {
    "duration": 91,
    "start_time": "2022-01-08T15:26:02.575Z"
   },
   {
    "duration": 296,
    "start_time": "2022-01-08T15:29:22.369Z"
   },
   {
    "duration": 1497,
    "start_time": "2022-01-08T15:34:15.716Z"
   },
   {
    "duration": 342,
    "start_time": "2022-01-08T15:34:40.904Z"
   },
   {
    "duration": 68,
    "start_time": "2022-01-08T15:34:54.756Z"
   },
   {
    "duration": 6,
    "start_time": "2022-01-08T15:35:26.213Z"
   },
   {
    "duration": 23,
    "start_time": "2022-01-08T15:36:03.233Z"
   },
   {
    "duration": 23,
    "start_time": "2022-01-08T15:36:37.315Z"
   },
   {
    "duration": 20,
    "start_time": "2022-01-08T15:39:25.313Z"
   },
   {
    "duration": 44,
    "start_time": "2022-01-08T15:41:25.757Z"
   },
   {
    "duration": 16,
    "start_time": "2022-01-08T15:45:22.239Z"
   },
   {
    "duration": 305,
    "start_time": "2022-01-08T15:46:18.176Z"
   },
   {
    "duration": 24,
    "start_time": "2022-01-08T15:46:32.978Z"
   },
   {
    "duration": 77,
    "start_time": "2022-01-08T15:59:06.561Z"
   },
   {
    "duration": 79,
    "start_time": "2022-01-08T16:01:09.782Z"
   },
   {
    "duration": 11,
    "start_time": "2022-01-08T16:01:09.864Z"
   },
   {
    "duration": 13,
    "start_time": "2022-01-08T16:01:09.878Z"
   },
   {
    "duration": 8,
    "start_time": "2022-01-08T16:01:09.894Z"
   },
   {
    "duration": 105,
    "start_time": "2022-01-08T16:01:09.904Z"
   },
   {
    "duration": 25,
    "start_time": "2022-01-08T16:01:10.011Z"
   },
   {
    "duration": 37,
    "start_time": "2022-01-08T16:01:10.038Z"
   },
   {
    "duration": 41,
    "start_time": "2022-01-08T16:01:10.078Z"
   },
   {
    "duration": 49,
    "start_time": "2022-01-08T16:01:10.121Z"
   },
   {
    "duration": 10,
    "start_time": "2022-01-08T16:05:33.413Z"
   },
   {
    "duration": 80,
    "start_time": "2022-01-08T16:05:43.889Z"
   },
   {
    "duration": 13,
    "start_time": "2022-01-08T16:05:43.972Z"
   },
   {
    "duration": 15,
    "start_time": "2022-01-08T16:05:43.988Z"
   },
   {
    "duration": 11,
    "start_time": "2022-01-08T16:05:44.007Z"
   },
   {
    "duration": 112,
    "start_time": "2022-01-08T16:05:44.021Z"
   },
   {
    "duration": 60,
    "start_time": "2022-01-08T16:05:44.135Z"
   },
   {
    "duration": 30,
    "start_time": "2022-01-08T16:05:44.199Z"
   },
   {
    "duration": 79,
    "start_time": "2022-01-08T16:05:44.232Z"
   },
   {
    "duration": 13,
    "start_time": "2022-01-08T16:05:44.316Z"
   },
   {
    "duration": 7381,
    "start_time": "2022-01-08T16:14:35.843Z"
   },
   {
    "duration": 11,
    "start_time": "2022-01-08T16:14:57.242Z"
   },
   {
    "duration": 411,
    "start_time": "2022-01-08T20:02:36.439Z"
   },
   {
    "duration": 866,
    "start_time": "2022-01-08T20:02:52.652Z"
   },
   {
    "duration": 23,
    "start_time": "2022-01-08T20:02:53.521Z"
   },
   {
    "duration": 30,
    "start_time": "2022-01-08T20:02:53.547Z"
   },
   {
    "duration": 9,
    "start_time": "2022-01-08T20:02:53.581Z"
   },
   {
    "duration": 103,
    "start_time": "2022-01-08T20:02:53.593Z"
   },
   {
    "duration": 26,
    "start_time": "2022-01-08T20:02:53.699Z"
   },
   {
    "duration": 47,
    "start_time": "2022-01-08T20:02:53.728Z"
   },
   {
    "duration": 46,
    "start_time": "2022-01-08T20:02:53.778Z"
   },
   {
    "duration": 38,
    "start_time": "2022-01-08T20:02:53.829Z"
   },
   {
    "duration": 26,
    "start_time": "2022-01-08T20:02:53.870Z"
   },
   {
    "duration": 10,
    "start_time": "2022-01-08T20:02:53.899Z"
   },
   {
    "duration": 375,
    "start_time": "2022-01-08T20:02:53.912Z"
   },
   {
    "duration": 453,
    "start_time": "2022-01-08T20:03:19.122Z"
   },
   {
    "duration": 5734,
    "start_time": "2022-01-08T20:19:21.385Z"
   },
   {
    "duration": 5796,
    "start_time": "2022-01-08T20:22:39.286Z"
   },
   {
    "duration": 5988,
    "start_time": "2022-01-08T20:23:27.545Z"
   },
   {
    "duration": 5,
    "start_time": "2022-01-08T20:28:02.282Z"
   },
   {
    "duration": 5731,
    "start_time": "2022-01-08T20:29:53.929Z"
   },
   {
    "duration": 6219,
    "start_time": "2022-01-08T20:30:11.593Z"
   },
   {
    "duration": 5780,
    "start_time": "2022-01-08T20:30:34.430Z"
   },
   {
    "duration": 84,
    "start_time": "2022-01-08T20:32:02.242Z"
   },
   {
    "duration": 13,
    "start_time": "2022-01-08T20:32:02.328Z"
   },
   {
    "duration": 34,
    "start_time": "2022-01-08T20:32:02.344Z"
   },
   {
    "duration": 9,
    "start_time": "2022-01-08T20:32:02.381Z"
   },
   {
    "duration": 99,
    "start_time": "2022-01-08T20:32:02.393Z"
   },
   {
    "duration": 25,
    "start_time": "2022-01-08T20:32:02.495Z"
   },
   {
    "duration": 45,
    "start_time": "2022-01-08T20:32:02.522Z"
   },
   {
    "duration": 42,
    "start_time": "2022-01-08T20:32:02.571Z"
   },
   {
    "duration": 5,
    "start_time": "2022-01-08T20:32:02.615Z"
   },
   {
    "duration": 45,
    "start_time": "2022-01-08T20:32:02.622Z"
   },
   {
    "duration": 23,
    "start_time": "2022-01-08T20:32:02.669Z"
   },
   {
    "duration": 12,
    "start_time": "2022-01-08T20:32:02.695Z"
   },
   {
    "duration": 5877,
    "start_time": "2022-01-08T20:32:02.709Z"
   },
   {
    "duration": 12,
    "start_time": "2022-01-08T20:34:40.498Z"
   },
   {
    "duration": 12,
    "start_time": "2022-01-08T20:34:53.995Z"
   },
   {
    "duration": 366,
    "start_time": "2022-01-08T20:45:01.348Z"
   },
   {
    "duration": 8,
    "start_time": "2022-01-08T20:46:04.726Z"
   },
   {
    "duration": 10,
    "start_time": "2022-01-08T20:50:45.781Z"
   },
   {
    "duration": 23,
    "start_time": "2022-01-08T21:00:44.011Z"
   },
   {
    "duration": 8,
    "start_time": "2022-01-08T21:00:57.063Z"
   },
   {
    "duration": 961,
    "start_time": "2022-01-08T21:11:02.969Z"
   },
   {
    "duration": 354,
    "start_time": "2022-01-08T21:11:17.432Z"
   },
   {
    "duration": 337,
    "start_time": "2022-01-08T21:12:08.670Z"
   },
   {
    "duration": 8,
    "start_time": "2022-01-08T21:15:47.401Z"
   },
   {
    "duration": 112,
    "start_time": "2022-01-08T21:19:54.702Z"
   },
   {
    "duration": 319,
    "start_time": "2022-01-08T21:20:13.337Z"
   },
   {
    "duration": 363,
    "start_time": "2022-01-08T21:20:58.705Z"
   },
   {
    "duration": 342,
    "start_time": "2022-01-08T21:21:23.668Z"
   },
   {
    "duration": 765,
    "start_time": "2022-01-08T21:25:30.363Z"
   },
   {
    "duration": 398,
    "start_time": "2022-01-08T21:32:40.746Z"
   },
   {
    "duration": 37,
    "start_time": "2022-01-08T21:33:18.285Z"
   },
   {
    "duration": 876,
    "start_time": "2022-01-09T06:49:44.763Z"
   },
   {
    "duration": 26,
    "start_time": "2022-01-09T06:49:45.642Z"
   },
   {
    "duration": 15,
    "start_time": "2022-01-09T06:49:45.671Z"
   },
   {
    "duration": 9,
    "start_time": "2022-01-09T06:49:45.689Z"
   },
   {
    "duration": 104,
    "start_time": "2022-01-09T06:49:45.700Z"
   },
   {
    "duration": 26,
    "start_time": "2022-01-09T06:49:45.806Z"
   },
   {
    "duration": 45,
    "start_time": "2022-01-09T06:49:45.834Z"
   },
   {
    "duration": 45,
    "start_time": "2022-01-09T06:49:45.884Z"
   },
   {
    "duration": 5,
    "start_time": "2022-01-09T06:49:45.931Z"
   },
   {
    "duration": 39,
    "start_time": "2022-01-09T06:49:45.939Z"
   },
   {
    "duration": 28,
    "start_time": "2022-01-09T06:49:45.980Z"
   },
   {
    "duration": 12,
    "start_time": "2022-01-09T06:49:46.011Z"
   },
   {
    "duration": 5670,
    "start_time": "2022-01-09T06:49:46.026Z"
   },
   {
    "duration": 16,
    "start_time": "2022-01-09T06:49:51.699Z"
   },
   {
    "duration": 10,
    "start_time": "2022-01-09T06:49:51.719Z"
   },
   {
    "duration": 35,
    "start_time": "2022-01-09T06:49:51.732Z"
   },
   {
    "duration": 12,
    "start_time": "2022-01-09T06:49:51.770Z"
   },
   {
    "duration": 717,
    "start_time": "2022-01-09T06:49:51.785Z"
   },
   {
    "duration": 8,
    "start_time": "2022-01-09T06:49:52.505Z"
   },
   {
    "duration": 414,
    "start_time": "2022-01-09T06:49:52.516Z"
   },
   {
    "duration": 46,
    "start_time": "2022-01-09T06:49:52.933Z"
   },
   {
    "duration": 437,
    "start_time": "2022-01-09T06:52:29.810Z"
   },
   {
    "duration": 369,
    "start_time": "2022-01-09T06:52:50.751Z"
   },
   {
    "duration": 70,
    "start_time": "2022-01-09T06:54:09.148Z"
   },
   {
    "duration": 674,
    "start_time": "2022-01-09T06:55:05.373Z"
   },
   {
    "duration": 8,
    "start_time": "2022-01-09T06:55:08.304Z"
   },
   {
    "duration": 374,
    "start_time": "2022-01-09T06:55:11.538Z"
   },
   {
    "duration": 66,
    "start_time": "2022-01-09T06:55:16.354Z"
   },
   {
    "duration": 62,
    "start_time": "2022-01-09T06:58:27.955Z"
   },
   {
    "duration": 64,
    "start_time": "2022-01-09T06:58:51.085Z"
   },
   {
    "duration": 366,
    "start_time": "2022-01-09T07:02:57.450Z"
   },
   {
    "duration": 66,
    "start_time": "2022-01-09T07:03:11.252Z"
   },
   {
    "duration": 66,
    "start_time": "2022-01-09T07:03:21.624Z"
   },
   {
    "duration": 393,
    "start_time": "2022-01-09T07:31:22.456Z"
   },
   {
    "duration": 405,
    "start_time": "2022-01-09T07:33:17.866Z"
   },
   {
    "duration": 414,
    "start_time": "2022-01-09T07:33:40.990Z"
   },
   {
    "duration": 102,
    "start_time": "2022-01-09T07:46:22.844Z"
   },
   {
    "duration": 9,
    "start_time": "2022-01-09T07:46:53.456Z"
   },
   {
    "duration": 101,
    "start_time": "2022-01-09T07:46:56.269Z"
   },
   {
    "duration": 490,
    "start_time": "2022-01-09T07:47:05.923Z"
   },
   {
    "duration": 65,
    "start_time": "2022-01-09T07:50:29.974Z"
   },
   {
    "duration": 9,
    "start_time": "2022-01-09T08:03:22.954Z"
   },
   {
    "duration": 7,
    "start_time": "2022-01-09T08:25:33.998Z"
   },
   {
    "duration": 105,
    "start_time": "2022-01-09T08:34:05.630Z"
   },
   {
    "duration": 624,
    "start_time": "2022-01-09T08:34:20.950Z"
   },
   {
    "duration": 78,
    "start_time": "2022-01-09T08:37:01.852Z"
   },
   {
    "duration": 65,
    "start_time": "2022-01-09T08:38:32.338Z"
   },
   {
    "duration": 69,
    "start_time": "2022-01-09T08:38:56.591Z"
   },
   {
    "duration": 68,
    "start_time": "2022-01-09T08:39:15.876Z"
   },
   {
    "duration": 61,
    "start_time": "2022-01-09T08:39:27.830Z"
   },
   {
    "duration": 629,
    "start_time": "2022-01-09T08:39:37.938Z"
   },
   {
    "duration": 66,
    "start_time": "2022-01-09T08:39:39.864Z"
   },
   {
    "duration": 65,
    "start_time": "2022-01-09T08:40:00.609Z"
   },
   {
    "duration": 109,
    "start_time": "2022-01-09T08:42:24.482Z"
   },
   {
    "duration": 65,
    "start_time": "2022-01-09T08:42:50.349Z"
   },
   {
    "duration": 70,
    "start_time": "2022-01-09T08:56:50.195Z"
   },
   {
    "duration": 85,
    "start_time": "2022-01-09T09:04:15.697Z"
   },
   {
    "duration": 14,
    "start_time": "2022-01-09T09:04:15.785Z"
   },
   {
    "duration": 16,
    "start_time": "2022-01-09T09:04:15.803Z"
   },
   {
    "duration": 50,
    "start_time": "2022-01-09T09:04:15.823Z"
   },
   {
    "duration": 101,
    "start_time": "2022-01-09T09:04:15.876Z"
   },
   {
    "duration": 24,
    "start_time": "2022-01-09T09:04:15.979Z"
   },
   {
    "duration": 22,
    "start_time": "2022-01-09T09:04:16.006Z"
   },
   {
    "duration": 76,
    "start_time": "2022-01-09T09:04:16.032Z"
   },
   {
    "duration": 5,
    "start_time": "2022-01-09T09:04:16.111Z"
   },
   {
    "duration": 18,
    "start_time": "2022-01-09T09:04:16.118Z"
   },
   {
    "duration": 48,
    "start_time": "2022-01-09T09:04:16.138Z"
   },
   {
    "duration": 9,
    "start_time": "2022-01-09T09:04:16.188Z"
   },
   {
    "duration": 5951,
    "start_time": "2022-01-09T09:04:16.200Z"
   },
   {
    "duration": 21,
    "start_time": "2022-01-09T09:04:22.154Z"
   },
   {
    "duration": 11,
    "start_time": "2022-01-09T09:04:22.177Z"
   },
   {
    "duration": 11,
    "start_time": "2022-01-09T09:04:22.191Z"
   },
   {
    "duration": 7,
    "start_time": "2022-01-09T09:04:22.205Z"
   },
   {
    "duration": 746,
    "start_time": "2022-01-09T09:04:22.215Z"
   },
   {
    "duration": 6,
    "start_time": "2022-01-09T09:04:22.968Z"
   },
   {
    "duration": 435,
    "start_time": "2022-01-09T09:04:22.976Z"
   },
   {
    "duration": 84,
    "start_time": "2022-01-09T09:04:23.413Z"
   },
   {
    "duration": 82,
    "start_time": "2022-01-09T09:04:23.500Z"
   },
   {
    "duration": 9,
    "start_time": "2022-01-09T09:04:23.589Z"
   },
   {
    "duration": 499,
    "start_time": "2022-01-09T09:04:23.602Z"
   },
   {
    "duration": 81,
    "start_time": "2022-01-09T09:04:24.104Z"
   },
   {
    "duration": 10,
    "start_time": "2022-01-09T09:04:24.187Z"
   },
   {
    "duration": 8,
    "start_time": "2022-01-09T09:04:24.199Z"
   },
   {
    "duration": 658,
    "start_time": "2022-01-09T09:04:24.209Z"
   },
   {
    "duration": 70,
    "start_time": "2022-01-09T09:04:24.869Z"
   },
   {
    "duration": 86,
    "start_time": "2022-01-09T09:04:24.941Z"
   },
   {
    "duration": 593,
    "start_time": "2022-01-10T09:50:10.550Z"
   },
   {
    "duration": 12,
    "start_time": "2022-01-10T09:50:11.145Z"
   },
   {
    "duration": 7,
    "start_time": "2022-01-10T09:50:11.159Z"
   },
   {
    "duration": 5,
    "start_time": "2022-01-10T09:50:11.168Z"
   },
   {
    "duration": 64,
    "start_time": "2022-01-10T09:50:11.174Z"
   },
   {
    "duration": 15,
    "start_time": "2022-01-10T09:50:11.240Z"
   },
   {
    "duration": 12,
    "start_time": "2022-01-10T09:50:11.257Z"
   },
   {
    "duration": 25,
    "start_time": "2022-01-10T09:50:11.271Z"
   },
   {
    "duration": 3,
    "start_time": "2022-01-10T09:50:11.297Z"
   },
   {
    "duration": 33,
    "start_time": "2022-01-10T09:50:11.301Z"
   },
   {
    "duration": 17,
    "start_time": "2022-01-10T09:50:11.335Z"
   },
   {
    "duration": 7,
    "start_time": "2022-01-10T09:50:11.354Z"
   },
   {
    "duration": 4300,
    "start_time": "2022-01-10T09:50:11.363Z"
   },
   {
    "duration": 8,
    "start_time": "2022-01-10T09:50:15.665Z"
   },
   {
    "duration": 8,
    "start_time": "2022-01-10T09:50:15.675Z"
   },
   {
    "duration": 8,
    "start_time": "2022-01-10T09:50:15.684Z"
   },
   {
    "duration": 5,
    "start_time": "2022-01-10T09:50:15.693Z"
   },
   {
    "duration": 397,
    "start_time": "2022-01-10T09:50:15.700Z"
   },
   {
    "duration": 4,
    "start_time": "2022-01-10T09:50:16.099Z"
   },
   {
    "duration": 222,
    "start_time": "2022-01-10T09:50:16.105Z"
   },
   {
    "duration": 43,
    "start_time": "2022-01-10T09:50:16.328Z"
   },
   {
    "duration": 56,
    "start_time": "2022-01-10T09:50:16.372Z"
   },
   {
    "duration": 5,
    "start_time": "2022-01-10T09:50:16.431Z"
   },
   {
    "duration": 269,
    "start_time": "2022-01-10T09:50:16.438Z"
   },
   {
    "duration": 50,
    "start_time": "2022-01-10T09:50:16.708Z"
   },
   {
    "duration": 6,
    "start_time": "2022-01-10T09:50:16.760Z"
   },
   {
    "duration": 7,
    "start_time": "2022-01-10T09:50:16.767Z"
   },
   {
    "duration": 368,
    "start_time": "2022-01-10T09:50:16.776Z"
   },
   {
    "duration": 39,
    "start_time": "2022-01-10T09:50:17.145Z"
   },
   {
    "duration": 49,
    "start_time": "2022-01-10T09:50:17.185Z"
   },
   {
    "duration": 1150,
    "start_time": "2022-01-10T16:10:13.189Z"
   },
   {
    "duration": 21,
    "start_time": "2022-01-10T16:10:14.342Z"
   },
   {
    "duration": 28,
    "start_time": "2022-01-10T16:10:14.366Z"
   },
   {
    "duration": 38,
    "start_time": "2022-01-10T16:10:14.397Z"
   },
   {
    "duration": 95,
    "start_time": "2022-01-10T16:10:14.437Z"
   },
   {
    "duration": 24,
    "start_time": "2022-01-10T16:10:14.534Z"
   },
   {
    "duration": 24,
    "start_time": "2022-01-10T16:10:21.921Z"
   },
   {
    "duration": 76,
    "start_time": "2022-01-10T16:18:21.962Z"
   },
   {
    "duration": 14,
    "start_time": "2022-01-10T16:18:22.040Z"
   },
   {
    "duration": 18,
    "start_time": "2022-01-10T16:18:22.058Z"
   },
   {
    "duration": 45,
    "start_time": "2022-01-10T16:18:22.080Z"
   },
   {
    "duration": 66,
    "start_time": "2022-01-10T16:18:22.127Z"
   },
   {
    "duration": 42,
    "start_time": "2022-01-10T16:18:22.195Z"
   },
   {
    "duration": 16,
    "start_time": "2022-01-10T16:18:22.239Z"
   },
   {
    "duration": 24,
    "start_time": "2022-01-10T16:18:22.259Z"
   },
   {
    "duration": 74,
    "start_time": "2022-01-10T16:18:22.287Z"
   },
   {
    "duration": 6,
    "start_time": "2022-01-10T16:18:22.364Z"
   },
   {
    "duration": 14,
    "start_time": "2022-01-10T16:18:22.373Z"
   },
   {
    "duration": 53,
    "start_time": "2022-01-10T16:18:22.390Z"
   },
   {
    "duration": 10,
    "start_time": "2022-01-10T16:18:22.446Z"
   },
   {
    "duration": 6592,
    "start_time": "2022-01-10T16:18:22.459Z"
   },
   {
    "duration": 19,
    "start_time": "2022-01-10T16:18:29.055Z"
   },
   {
    "duration": 11,
    "start_time": "2022-01-10T16:18:29.078Z"
   },
   {
    "duration": 33,
    "start_time": "2022-01-10T16:18:29.092Z"
   },
   {
    "duration": 10,
    "start_time": "2022-01-10T16:18:29.128Z"
   },
   {
    "duration": 602,
    "start_time": "2022-01-10T16:18:29.141Z"
   },
   {
    "duration": 7,
    "start_time": "2022-01-10T16:18:29.747Z"
   },
   {
    "duration": 442,
    "start_time": "2022-01-10T16:18:29.758Z"
   },
   {
    "duration": 83,
    "start_time": "2022-01-10T16:18:30.202Z"
   },
   {
    "duration": 89,
    "start_time": "2022-01-10T16:18:30.290Z"
   },
   {
    "duration": 61,
    "start_time": "2022-01-10T16:21:10.526Z"
   }
  ],
  "kernelspec": {
   "display_name": "Python 3",
   "language": "python",
   "name": "python3"
  },
  "language_info": {
   "codemirror_mode": {
    "name": "ipython",
    "version": 3
   },
   "file_extension": ".py",
   "mimetype": "text/x-python",
   "name": "python",
   "nbconvert_exporter": "python",
   "pygments_lexer": "ipython3",
   "version": "3.7.8"
  },
  "toc": {
   "base_numbering": 1,
   "nav_menu": {},
   "number_sections": true,
   "sideBar": true,
   "skip_h1_title": true,
   "title_cell": "Table of Contents",
   "title_sidebar": "Contents",
   "toc_cell": false,
   "toc_position": {},
   "toc_section_display": true,
   "toc_window_display": false
  }
 },
 "nbformat": 4,
 "nbformat_minor": 2
}
