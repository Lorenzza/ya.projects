{
 "cells": [
  {
   "cell_type": "markdown",
   "metadata": {
    "id": "E0vqbgi9ay0H"
   },
   "source": [
    "# Яндекс.Музыка"
   ]
  },
  {
   "cell_type": "markdown",
   "metadata": {
    "id": "VUC88oWjTJw2"
   },
   "source": [
    "Сравнение Москвы и Петербурга окружено мифами. Например:\n",
    " * Москва — мегаполис, подчинённый жёсткому ритму рабочей недели;\n",
    " * Петербург — культурная столица, со своими вкусами.\n",
    "\n",
    "На данных Яндекс.Музыки вы сравните поведение пользователей двух столиц.\n",
    "\n",
    "**Цель исследования** — проверьте три гипотезы:\n",
    "1. Активность пользователей зависит от дня недели. Причём в Москве и Петербурге это проявляется по-разному.\n",
    "2. В понедельник утром в Москве преобладают одни жанры, а в Петербурге — другие. Так же и вечером пятницы преобладают разные жанры — в зависимости от города. \n",
    "3. Москва и Петербург предпочитают разные жанры музыки. В Москве чаще слушают поп-музыку, в Петербурге — русский рэп.\n",
    "\n",
    "**Ход исследования**\n",
    "\n",
    "Данные о поведении пользователей вы получите из файла `yandex_music_project.csv`. О качестве данных ничего не известно. Поэтому перед проверкой гипотез понадобится обзор данных. \n",
    "\n",
    "Вы проверите данные на ошибки и оцените их влияние на исследование. Затем, на этапе предобработки вы поищете возможность исправить самые критичные ошибки данных.\n",
    " \n",
    "Таким образом, исследование пройдёт в три этапа:\n",
    " 1. Обзор данных.\n",
    " 2. Предобработка данных.\n",
    " 3. Проверка гипотез.\n",
    "\n"
   ]
  },
  {
   "cell_type": "markdown",
   "metadata": {
    "id": "Ml1hmfXC_Zcs"
   },
   "source": [
    "## Обзор данных\n",
    "\n",
    "Составьте первое представление о данных Яндекс.Музыки.\n",
    "\n",
    "\n"
   ]
  },
  {
   "cell_type": "markdown",
   "metadata": {
    "id": "57eAOGIz_Zcs"
   },
   "source": [
    "Основной инструмент аналитика — `pandas`. Импортируйте эту библиотеку."
   ]
  },
  {
   "cell_type": "code",
   "execution_count": 158,
   "metadata": {
    "id": "AXN7PHPN_Zcs"
   },
   "outputs": [],
   "source": [
    "import pandas as pd # импорт библиотеки pandas"
   ]
  },
  {
   "cell_type": "markdown",
   "metadata": {
    "id": "SG23P8tt_Zcs"
   },
   "source": [
    "Прочитайте файл `yandex_music_project.csv` из папки `/datasets` и сохраните его в переменной `df`:"
   ]
  },
  {
   "cell_type": "code",
   "execution_count": 159,
   "metadata": {
    "id": "fFVu7vqh_Zct"
   },
   "outputs": [],
   "source": [
    "df = pd.read_csv('/datasets/yandex_music_project.csv') # чтение файла с данными и сохранение в df"
   ]
  },
  {
   "cell_type": "markdown",
   "metadata": {
    "id": "rDoOMd3uTqnZ"
   },
   "source": [
    "Выведите на экран первые десять строк таблицы:"
   ]
  },
  {
   "cell_type": "code",
   "execution_count": 160,
   "metadata": {
    "id": "oWTVX3gW_Zct"
   },
   "outputs": [
    {
     "name": "stdout",
     "output_type": "stream",
     "text": [
      "     userID                        Track            artist   genre  \\\n",
      "0  FFB692EC            Kamigata To Boots  The Mass Missile    rock   \n",
      "1  55204538  Delayed Because of Accident  Andreas Rönnberg    rock   \n",
      "2    20EC38            Funiculì funiculà       Mario Lanza     pop   \n",
      "3  A3DD03C9        Dragons in the Sunset        Fire + Ice    folk   \n",
      "4  E2DC1FAE                  Soul People        Space Echo   dance   \n",
      "5  842029A1                    Преданная         IMPERVTOR  rusrap   \n",
      "6  4CB90AA5                         True      Roman Messer   dance   \n",
      "7  F03E1C1F             Feeling This Way   Polina Griffith   dance   \n",
      "8  8FA1D3BE     И вновь продолжается бой               NaN  ruspop   \n",
      "9  E772D5C0                    Pessimist               NaN   dance   \n",
      "\n",
      "             City        time        Day  \n",
      "0  Saint-Petersburg  20:28:33  Wednesday  \n",
      "1            Moscow  14:07:09     Friday  \n",
      "2  Saint-Petersburg  20:58:07  Wednesday  \n",
      "3  Saint-Petersburg  08:37:09     Monday  \n",
      "4            Moscow  08:34:34     Monday  \n",
      "5  Saint-Petersburg  13:09:41     Friday  \n",
      "6            Moscow  13:00:07  Wednesday  \n",
      "7            Moscow  20:47:49  Wednesday  \n",
      "8            Moscow  09:17:40     Friday  \n",
      "9  Saint-Petersburg  21:20:49  Wednesday  \n"
     ]
    }
   ],
   "source": [
    "print(df.head(10)) # получение первых 10 строк таблицы df"
   ]
  },
  {
   "cell_type": "markdown",
   "metadata": {
    "id": "EO73Kwic_Zct"
   },
   "source": [
    "Одной командой получить общую информацию о таблице:"
   ]
  },
  {
   "cell_type": "code",
   "execution_count": 161,
   "metadata": {
    "id": "DSf2kIb-_Zct"
   },
   "outputs": [
    {
     "name": "stdout",
     "output_type": "stream",
     "text": [
      "<class 'pandas.core.frame.DataFrame'>\n",
      "RangeIndex: 65079 entries, 0 to 65078\n",
      "Data columns (total 7 columns):\n",
      "  userID    65079 non-null object\n",
      "Track       63848 non-null object\n",
      "artist      57876 non-null object\n",
      "genre       63881 non-null object\n",
      "  City      65079 non-null object\n",
      "time        65079 non-null object\n",
      "Day         65079 non-null object\n",
      "dtypes: object(7)\n",
      "memory usage: 3.5+ MB\n"
     ]
    }
   ],
   "source": [
    "df.info() # получение общей информации о данных в таблице df"
   ]
  },
  {
   "cell_type": "code",
   "execution_count": 162,
   "metadata": {},
   "outputs": [
    {
     "data": {
      "text/plain": [
       "Index(['  userID', 'Track', 'artist', 'genre', '  City  ', 'time', 'Day'], dtype='object')"
      ]
     },
     "execution_count": 162,
     "metadata": {},
     "output_type": "execute_result"
    }
   ],
   "source": [
    "df.columns"
   ]
  },
  {
   "cell_type": "markdown",
   "metadata": {
    "id": "TaQ2Iwbr_Zct"
   },
   "source": [
    "Итак, в таблице семь столбцов. Тип данных во всех столбцах — `object`.\n",
    "\n",
    "Согласно документации к данным:\n",
    "* `userID` — идентификатор пользователя;\n",
    "* `Track` — название трека;  \n",
    "* `artist` — имя исполнителя;\n",
    "* `genre` — название жанра;\n",
    "* `City` — город пользователя;\n",
    "* `time` — время начала прослушивания;\n",
    "* `Day` — день недели.\n",
    "\n",
    "В названиях колонок видны три нарушения стиля:\n",
    "1. Строчные буквы сочетаются с прописными.\n",
    "2. Встречаются пробелы.\n",
    "3. Колонка 'time' названа непонятно для пользователя. \n",
    "\n",
    "\n",
    "\n",
    "Количество значений в столбцах различается. Значит, в данных есть пропущенные значения.\n"
   ]
  },
  {
   "cell_type": "markdown",
   "metadata": {
    "id": "MCB6-dXG_Zct"
   },
   "source": [
    "**Выводы**\n",
    "\n",
    "В каждой строке таблицы — данные о прослушанном треке. Часть колонок описывает саму композицию: название, исполнителя и жанр. Остальные данные рассказывают о пользователе: из какого он города, когда он слушал музыку. \n",
    "\n",
    "Предварительно можно утверждать, что, данных достаточно для проверки гипотез. Но встречаются пропуски в данных, а в названиях колонок — расхождения с хорошим стилем.\n",
    "\n",
    "Чтобы двигаться дальше, нужно устранить проблемы в данных."
   ]
  },
  {
   "cell_type": "markdown",
   "metadata": {
    "id": "SjYF6Ub9_Zct"
   },
   "source": [
    "## Предобработка данных\n",
    "Исправьте стиль в заголовках столбцов, исключите пропуски. Затем проверьте данные на дубликаты."
   ]
  },
  {
   "cell_type": "markdown",
   "metadata": {
    "id": "dIaKXr29_Zct"
   },
   "source": [
    "### Стиль заголовков\n",
    "Выведите на экран названия столбцов:"
   ]
  },
  {
   "cell_type": "code",
   "execution_count": 163,
   "metadata": {
    "id": "oKOTdF_Q_Zct"
   },
   "outputs": [
    {
     "name": "stdout",
     "output_type": "stream",
     "text": [
      "Index(['  userID', 'Track', 'artist', 'genre', '  City  ', 'time', 'Day'], dtype='object')\n"
     ]
    }
   ],
   "source": [
    "df.columns # перечень названий столбцов таблицы df"
   ]
  },
  {
   "cell_type": "markdown",
   "metadata": {
    "id": "zj5534cv_Zct"
   },
   "source": [
    "Приведите названия в соответствие с хорошим стилем:\n",
    "* несколько слов в названии запишите в «змеином_регистре»,\n",
    "* все символы сделайте строчными,\n",
    "* устраните пробелы.\n",
    "\n",
    "Для этого переименуйте колонки так:\n",
    "* `'  userID'` → `'user_id'`;\n",
    "* `'Track'` → `'track'`;\n",
    "* `'  City  '` → `'city'`;\n",
    "* `'Day'` → `'day'`."
   ]
  },
  {
   "cell_type": "code",
   "execution_count": 164,
   "metadata": {
    "id": "ISlFqs5y_Zct"
   },
   "outputs": [],
   "source": [
    "df = df.rename(columns={'  userID': 'user_id', 'Track': 'track', '  City  ': 'city', 'Day': 'day'}) # переименование столбцов"
   ]
  },
  {
   "cell_type": "markdown",
   "metadata": {
    "id": "1dqbh00J_Zct"
   },
   "source": [
    "Проверьте результат. Для этого ещё раз выведите на экран названия столбцов:"
   ]
  },
  {
   "cell_type": "code",
   "execution_count": 165,
   "metadata": {
    "id": "d4NOAmTW_Zct"
   },
   "outputs": [
    {
     "name": "stdout",
     "output_type": "stream",
     "text": [
      "Index(['user_id', 'track', 'artist', 'genre', 'city', 'time', 'day'], dtype='object')\n"
     ]
    }
   ],
   "source": [
    "print(df.columns) # проверка результатов - перечень названий столбцов"
   ]
  },
  {
   "cell_type": "markdown",
   "metadata": {
    "id": "5ISfbcfY_Zct"
   },
   "source": [
    "### Пропуски значений\n",
    "Сначала посчитайте, сколько в таблице пропущенных значений. Для этого достаточно двух методов `pandas`:"
   ]
  },
  {
   "cell_type": "code",
   "execution_count": 166,
   "metadata": {
    "id": "RskX29qr_Zct"
   },
   "outputs": [
    {
     "data": {
      "text/plain": [
       "user_id       0\n",
       "track      1231\n",
       "artist     7203\n",
       "genre      1198\n",
       "city          0\n",
       "time          0\n",
       "day           0\n",
       "dtype: int64"
      ]
     },
     "execution_count": 166,
     "metadata": {},
     "output_type": "execute_result"
    }
   ],
   "source": [
    "df.isna().sum() # подсчёт пропусков"
   ]
  },
  {
   "cell_type": "markdown",
   "metadata": {
    "id": "qubhgnlO_Zct"
   },
   "source": [
    "Не все пропущенные значения влияют на исследование. Так в `track` и `artist` пропуски не важны для вашей работы. Достаточно заменить их явными обозначениями.\n",
    "\n",
    "Но пропуски в `genre` могут помешать сравнению музыкальных вкусов в Москве и Санкт-Петербурге. На практике было бы правильно установить причину пропусков и восстановить данные. Такой возможности нет в учебном проекте. Придётся:\n",
    "* заполнить и эти пропуски явными обозначениями,\n",
    "* оценить, насколько они повредят расчётам. "
   ]
  },
  {
   "cell_type": "markdown",
   "metadata": {
    "id": "fSv2laPA_Zct"
   },
   "source": [
    "Замените пропущенные значения в столбцах `track`, `artist` и `genre` на строку `'unknown'`. Для этого создайте список `columns_to_replace`, переберите его элементы циклом `for` и для каждого столбца выполните замену пропущенных значений:"
   ]
  },
  {
   "cell_type": "code",
   "execution_count": 167,
   "metadata": {
    "id": "KplB5qWs_Zct"
   },
   "outputs": [],
   "source": [
    "columns_to_replace = ['track', 'artist', 'genre'] # перебор названий столбцов в цикле и замена пропущенных значений на 'unknown'\n",
    "for column in columns_to_replace:\n",
    "    df[column] = df[column].fillna('unknown')"
   ]
  },
  {
   "cell_type": "markdown",
   "metadata": {
    "id": "Ilsm-MZo_Zct"
   },
   "source": [
    "Убедитесь, что в таблице не осталось пропусков. Для этого ещё раз посчитайте пропущенные значения."
   ]
  },
  {
   "cell_type": "code",
   "execution_count": 168,
   "metadata": {
    "id": "Tq4nYRX4_Zct"
   },
   "outputs": [
    {
     "data": {
      "text/plain": [
       "user_id    0\n",
       "track      0\n",
       "artist     0\n",
       "genre      0\n",
       "city       0\n",
       "time       0\n",
       "day        0\n",
       "dtype: int64"
      ]
     },
     "execution_count": 168,
     "metadata": {},
     "output_type": "execute_result"
    }
   ],
   "source": [
    "df.isna().sum()  # подсчёт пропусков"
   ]
  },
  {
   "cell_type": "markdown",
   "metadata": {
    "id": "BWKRtBJ3_Zct"
   },
   "source": [
    "### Дубликаты\n",
    "Посчитайте явные дубликаты в таблице одной командой:"
   ]
  },
  {
   "cell_type": "code",
   "execution_count": 169,
   "metadata": {
    "id": "36eES_S0_Zct"
   },
   "outputs": [
    {
     "data": {
      "text/plain": [
       "3826"
      ]
     },
     "execution_count": 169,
     "metadata": {},
     "output_type": "execute_result"
    }
   ],
   "source": [
    "df.duplicated().sum() # подсчёт явных дубликатов"
   ]
  },
  {
   "cell_type": "markdown",
   "metadata": {
    "id": "Ot25h6XR_Zct"
   },
   "source": [
    "Вызовите специальный метод `pandas`, чтобы удалить явные дубликаты:"
   ]
  },
  {
   "cell_type": "code",
   "execution_count": 170,
   "metadata": {
    "id": "exFHq6tt_Zct"
   },
   "outputs": [],
   "source": [
    "df = df.drop_duplicates().reset_index(drop=True) # удаление явных дубликатов (с удалением старых индексов и формированием новых)"
   ]
  },
  {
   "cell_type": "markdown",
   "metadata": {
    "id": "Im2YwBEG_Zct"
   },
   "source": [
    "Ещё раз посчитайте явные дубликаты в таблице — убедитесь, что полностью от них избавились:"
   ]
  },
  {
   "cell_type": "code",
   "execution_count": 171,
   "metadata": {
    "id": "-8PuNWQ0_Zct"
   },
   "outputs": [
    {
     "data": {
      "text/plain": [
       "0"
      ]
     },
     "execution_count": 171,
     "metadata": {},
     "output_type": "execute_result"
    }
   ],
   "source": [
    "df.duplicated().sum() # проверка на отсутствие дубликатов"
   ]
  },
  {
   "cell_type": "markdown",
   "metadata": {
    "id": "QlFBsxAr_Zct"
   },
   "source": [
    "Теперь избавьтесь от неявных дубликатов в колонке `genre`. Например, название одного и того же жанра может быть записано немного по-разному. Такие ошибки тоже повлияют на результат исследования."
   ]
  },
  {
   "cell_type": "markdown",
   "metadata": {
    "id": "eSjWwsOh_Zct"
   },
   "source": [
    "Выведите на экран список уникальных названий жанров, отсортированный в алфавитном порядке. Для этого:\n",
    "* извлеките нужный столбец датафрейма, \n",
    "* примените к нему метод сортировки,\n",
    "* для отсортированного столбца вызовите метод, который вернёт уникальные значения из столбца."
   ]
  },
  {
   "cell_type": "code",
   "execution_count": 172,
   "metadata": {
    "id": "JIUcqzZN_Zct"
   },
   "outputs": [
    {
     "name": "stdout",
     "output_type": "stream",
     "text": [
      "['acid' 'acoustic' 'action' 'adult' 'africa' 'afrikaans' 'alternative'\n",
      " 'alternativepunk' 'ambient' 'americana' 'animated' 'anime' 'arabesk'\n",
      " 'arabic' 'arena' 'argentinetango' 'art' 'audiobook' 'author' 'avantgarde'\n",
      " 'axé' 'baile' 'balkan' 'beats' 'bigroom' 'black' 'bluegrass' 'blues'\n",
      " 'bollywood' 'bossa' 'brazilian' 'breakbeat' 'breaks' 'broadway'\n",
      " 'cantautori' 'cantopop' 'canzone' 'caribbean' 'caucasian' 'celtic'\n",
      " 'chamber' 'chanson' 'children' 'chill' 'chinese' 'choral' 'christian'\n",
      " 'christmas' 'classical' 'classicmetal' 'club' 'colombian' 'comedy'\n",
      " 'conjazz' 'contemporary' 'country' 'cuban' 'dance' 'dancehall' 'dancepop'\n",
      " 'dark' 'death' 'deep' 'deutschrock' 'deutschspr' 'dirty' 'disco' 'dnb'\n",
      " 'documentary' 'downbeat' 'downtempo' 'drum' 'dub' 'dubstep' 'eastern'\n",
      " 'easy' 'electronic' 'electropop' 'emo' 'entehno' 'epicmetal' 'estrada'\n",
      " 'ethnic' 'eurofolk' 'european' 'experimental' 'extrememetal' 'fado'\n",
      " 'fairytail' 'film' 'fitness' 'flamenco' 'folk' 'folklore' 'folkmetal'\n",
      " 'folkrock' 'folktronica' 'forró' 'frankreich' 'französisch' 'french'\n",
      " 'funk' 'future' 'gangsta' 'garage' 'german' 'ghazal' 'gitarre' 'glitch'\n",
      " 'gospel' 'gothic' 'grime' 'grunge' 'gypsy' 'handsup' \"hard'n'heavy\"\n",
      " 'hardcore' 'hardstyle' 'hardtechno' 'hip' 'hip-hop' 'hiphop' 'historisch'\n",
      " 'holiday' 'hop' 'horror' 'house' 'hymn' 'idm' 'independent' 'indian'\n",
      " 'indie' 'indipop' 'industrial' 'inspirational' 'instrumental'\n",
      " 'international' 'irish' 'jam' 'japanese' 'jazz' 'jewish' 'jpop' 'jungle'\n",
      " 'k-pop' 'karadeniz' 'karaoke' 'kayokyoku' 'korean' 'laiko' 'latin'\n",
      " 'latino' 'leftfield' 'local' 'lounge' 'loungeelectronic' 'lovers'\n",
      " 'malaysian' 'mandopop' 'marschmusik' 'meditative' 'mediterranean'\n",
      " 'melodic' 'metal' 'metalcore' 'mexican' 'middle' 'minimal'\n",
      " 'miscellaneous' 'modern' 'mood' 'mpb' 'muslim' 'native' 'neoklassik'\n",
      " 'neue' 'new' 'newage' 'newwave' 'nu' 'nujazz' 'numetal' 'oceania' 'old'\n",
      " 'opera' 'orchestral' 'other' 'piano' 'podcasts' 'pop' 'popdance'\n",
      " 'popelectronic' 'popeurodance' 'poprussian' 'post' 'posthardcore'\n",
      " 'postrock' 'power' 'progmetal' 'progressive' 'psychedelic' 'punjabi'\n",
      " 'punk' 'quebecois' 'ragga' 'ram' 'rancheras' 'rap' 'rave' 'reggae'\n",
      " 'reggaeton' 'regional' 'relax' 'religious' 'retro' 'rhythm' 'rnb' 'rnr'\n",
      " 'rock' 'rockabilly' 'rockalternative' 'rockindie' 'rockother' 'romance'\n",
      " 'roots' 'ruspop' 'rusrap' 'rusrock' 'russian' 'salsa' 'samba' 'scenic'\n",
      " 'schlager' 'self' 'sertanejo' 'shanson' 'shoegazing' 'showtunes' 'singer'\n",
      " 'ska' 'skarock' 'slow' 'smooth' 'soft' 'soul' 'soulful' 'sound'\n",
      " 'soundtrack' 'southern' 'specialty' 'speech' 'spiritual' 'sport'\n",
      " 'stonerrock' 'surf' 'swing' 'synthpop' 'synthrock' 'sängerportrait'\n",
      " 'tango' 'tanzorchester' 'taraftar' 'tatar' 'tech' 'techno' 'teen'\n",
      " 'thrash' 'top' 'traditional' 'tradjazz' 'trance' 'tribal' 'trip'\n",
      " 'triphop' 'tropical' 'türk' 'türkçe' 'ukrrock' 'unknown' 'urban' 'uzbek'\n",
      " 'variété' 'vi' 'videogame' 'vocal' 'western' 'world' 'worldbeat' 'ïîï'\n",
      " 'электроника']\n"
     ]
    }
   ],
   "source": [
    "print(df['genre'].sort_values().unique()) # Просмотр уникальных названий жанров"
   ]
  },
  {
   "cell_type": "markdown",
   "metadata": {
    "id": "qej-Qmuo_Zct"
   },
   "source": [
    "Просмотрите список и найдите неявные дубликаты названия `hiphop`. Это могут быть названия с ошибками или альтернативные названия того же жанра.\n",
    "\n",
    "Вы увидите следующие неявные дубликаты:\n",
    "* *hip*,\n",
    "* *hop*,\n",
    "* *hip-hop*.\n",
    "\n",
    "Чтобы очистить от них таблицу, напишите функцию `replace_wrong_genres()` с двумя параметрами: \n",
    "* `wrong_genres` — список дубликатов,\n",
    "* `correct_genre` — строка с правильным значением.\n",
    "\n",
    "Функция должна исправить колонку `genre` в таблице `df`: заменить каждое значение из списка `wrong_genres` на значение из `correct_genre`."
   ]
  },
  {
   "cell_type": "code",
   "execution_count": 173,
   "metadata": {
    "id": "ErNDkmns_Zct"
   },
   "outputs": [],
   "source": [
    "def replace_wrong_genres(wrong_genre, right_genre):\n",
    "    df['genre'] = df['genre'].replace(wrong_genre, right_genre) # Функция для замены неявных дубликатов\n",
    "    return df['genre']"
   ]
  },
  {
   "cell_type": "markdown",
   "metadata": {
    "id": "aDoBJxbA_Zct"
   },
   "source": [
    "Вызовите `replace_wrong_genres()` и передайте ей такие аргументы, чтобы она устранила неявные дубликаты: вместо `hip`, `hop` и `hip-hop` в таблице должно быть значение `hiphop`:"
   ]
  },
  {
   "cell_type": "code",
   "execution_count": 174,
   "metadata": {
    "id": "YN5i2hpmSo09"
   },
   "outputs": [
    {
     "data": {
      "text/plain": [
       "0              rock\n",
       "1              rock\n",
       "2               pop\n",
       "3              folk\n",
       "4             dance\n",
       "            ...    \n",
       "61248           rnb\n",
       "61249        hiphop\n",
       "61250    industrial\n",
       "61251          rock\n",
       "61252       country\n",
       "Name: genre, Length: 61253, dtype: object"
      ]
     },
     "execution_count": 174,
     "metadata": {},
     "output_type": "execute_result"
    }
   ],
   "source": [
    "wrong_genre_list = ['hip', 'hop', 'hip-hop']\n",
    "for genre in wrong_genre_list:\n",
    "    replace_wrong_genres(genre, 'hiphop') # Устранение неявных дубликатов 1\n",
    "replace_wrong_genres('latino', 'latin')\n",
    "replace_wrong_genres('электроника', 'electronic')\n",
    "replace_wrong_genres('ïîï', 'pop')"
   ]
  },
  {
   "cell_type": "markdown",
   "metadata": {
    "id": "zQKF16_RG15m"
   },
   "source": [
    "Проверьте, что заменили неправильные названия:\n",
    "\n",
    "*   hip\n",
    "*   hop\n",
    "*   hip-hop\n",
    "\n",
    "Выведите отсортированный список уникальных значений столбца `genre`:"
   ]
  },
  {
   "cell_type": "code",
   "execution_count": 175,
   "metadata": {
    "id": "wvixALnFG15m"
   },
   "outputs": [
    {
     "name": "stdout",
     "output_type": "stream",
     "text": [
      "['acid' 'acoustic' 'action' 'adult' 'africa' 'afrikaans' 'alternative'\n",
      " 'alternativepunk' 'ambient' 'americana' 'animated' 'anime' 'arabesk'\n",
      " 'arabic' 'arena' 'argentinetango' 'art' 'audiobook' 'author' 'avantgarde'\n",
      " 'axé' 'baile' 'balkan' 'beats' 'bigroom' 'black' 'bluegrass' 'blues'\n",
      " 'bollywood' 'bossa' 'brazilian' 'breakbeat' 'breaks' 'broadway'\n",
      " 'cantautori' 'cantopop' 'canzone' 'caribbean' 'caucasian' 'celtic'\n",
      " 'chamber' 'chanson' 'children' 'chill' 'chinese' 'choral' 'christian'\n",
      " 'christmas' 'classical' 'classicmetal' 'club' 'colombian' 'comedy'\n",
      " 'conjazz' 'contemporary' 'country' 'cuban' 'dance' 'dancehall' 'dancepop'\n",
      " 'dark' 'death' 'deep' 'deutschrock' 'deutschspr' 'dirty' 'disco' 'dnb'\n",
      " 'documentary' 'downbeat' 'downtempo' 'drum' 'dub' 'dubstep' 'eastern'\n",
      " 'easy' 'electronic' 'electropop' 'emo' 'entehno' 'epicmetal' 'estrada'\n",
      " 'ethnic' 'eurofolk' 'european' 'experimental' 'extrememetal' 'fado'\n",
      " 'fairytail' 'film' 'fitness' 'flamenco' 'folk' 'folklore' 'folkmetal'\n",
      " 'folkrock' 'folktronica' 'forró' 'frankreich' 'französisch' 'french'\n",
      " 'funk' 'future' 'gangsta' 'garage' 'german' 'ghazal' 'gitarre' 'glitch'\n",
      " 'gospel' 'gothic' 'grime' 'grunge' 'gypsy' 'handsup' \"hard'n'heavy\"\n",
      " 'hardcore' 'hardstyle' 'hardtechno' 'hiphop' 'historisch' 'holiday'\n",
      " 'horror' 'house' 'hymn' 'idm' 'independent' 'indian' 'indie' 'indipop'\n",
      " 'industrial' 'inspirational' 'instrumental' 'international' 'irish' 'jam'\n",
      " 'japanese' 'jazz' 'jewish' 'jpop' 'jungle' 'k-pop' 'karadeniz' 'karaoke'\n",
      " 'kayokyoku' 'korean' 'laiko' 'latin' 'leftfield' 'local' 'lounge'\n",
      " 'loungeelectronic' 'lovers' 'malaysian' 'mandopop' 'marschmusik'\n",
      " 'meditative' 'mediterranean' 'melodic' 'metal' 'metalcore' 'mexican'\n",
      " 'middle' 'minimal' 'miscellaneous' 'modern' 'mood' 'mpb' 'muslim'\n",
      " 'native' 'neoklassik' 'neue' 'new' 'newage' 'newwave' 'nu' 'nujazz'\n",
      " 'numetal' 'oceania' 'old' 'opera' 'orchestral' 'other' 'piano' 'podcasts'\n",
      " 'pop' 'popdance' 'popelectronic' 'popeurodance' 'poprussian' 'post'\n",
      " 'posthardcore' 'postrock' 'power' 'progmetal' 'progressive' 'psychedelic'\n",
      " 'punjabi' 'punk' 'quebecois' 'ragga' 'ram' 'rancheras' 'rap' 'rave'\n",
      " 'reggae' 'reggaeton' 'regional' 'relax' 'religious' 'retro' 'rhythm'\n",
      " 'rnb' 'rnr' 'rock' 'rockabilly' 'rockalternative' 'rockindie' 'rockother'\n",
      " 'romance' 'roots' 'ruspop' 'rusrap' 'rusrock' 'russian' 'salsa' 'samba'\n",
      " 'scenic' 'schlager' 'self' 'sertanejo' 'shanson' 'shoegazing' 'showtunes'\n",
      " 'singer' 'ska' 'skarock' 'slow' 'smooth' 'soft' 'soul' 'soulful' 'sound'\n",
      " 'soundtrack' 'southern' 'specialty' 'speech' 'spiritual' 'sport'\n",
      " 'stonerrock' 'surf' 'swing' 'synthpop' 'synthrock' 'sängerportrait'\n",
      " 'tango' 'tanzorchester' 'taraftar' 'tatar' 'tech' 'techno' 'teen'\n",
      " 'thrash' 'top' 'traditional' 'tradjazz' 'trance' 'tribal' 'trip'\n",
      " 'triphop' 'tropical' 'türk' 'türkçe' 'ukrrock' 'unknown' 'urban' 'uzbek'\n",
      " 'variété' 'vi' 'videogame' 'vocal' 'western' 'world' 'worldbeat']\n"
     ]
    }
   ],
   "source": [
    "print(df['genre'].sort_values().unique()) # Проверка на неявные дубликаты"
   ]
  },
  {
   "cell_type": "markdown",
   "metadata": {
    "id": "jz6a9-7HQUDd"
   },
   "source": [
    "**Выводы**\n",
    "\n",
    "Предобработка обнаружила три проблемы в данных:\n",
    "\n",
    "- нарушения в стиле заголовков,\n",
    "- пропущенные значения,\n",
    "- дубликаты — явные и неявные.\n",
    "\n",
    "Вы исправили заголовки, чтобы упростить работу с таблицей. Без дубликатов исследование станет более точным.\n",
    "\n",
    "Пропущенные значения вы заменили на `'unknown'`. Ещё предстоит увидеть, не повредят ли исследованию пропуски в колонке `genre`.\n",
    "\n",
    "Теперь можно перейти к проверке гипотез. "
   ]
  },
  {
   "cell_type": "markdown",
   "metadata": {
    "id": "WttZHXH0SqKk"
   },
   "source": [
    "## Проверка гипотез"
   ]
  },
  {
   "cell_type": "markdown",
   "metadata": {
    "id": "Im936VVi_Zcu"
   },
   "source": [
    "### Сравнение поведения пользователей двух столиц"
   ]
  },
  {
   "cell_type": "markdown",
   "metadata": {
    "id": "nwt_MuaL_Zcu"
   },
   "source": [
    "Первая гипотеза утверждает, что пользователи по-разному слушают музыку в Москве и Санкт-Петербурге. Проверьте это предположение по данным о трёх днях недели — понедельнике, среде и пятнице. Для этого:\n",
    "\n",
    "* Разделите пользователей Москвы и Санкт-Петербурга\n",
    "* Сравните, сколько треков послушала каждая группа пользователей в понедельник, среду и пятницу.\n"
   ]
  },
  {
   "cell_type": "markdown",
   "metadata": {
    "id": "8Dw_YMmT_Zcu"
   },
   "source": [
    "Для тренировки сначала выполните каждый из расчётов по отдельности. \n",
    "\n",
    "Оцените активность пользователей в каждом городе. Сгруппируйте данные по городу и посчитайте прослушивания в каждой группе.\n",
    "\n"
   ]
  },
  {
   "cell_type": "code",
   "execution_count": 176,
   "metadata": {
    "id": "0_Qs96oh_Zcu"
   },
   "outputs": [
    {
     "data": {
      "text/html": [
       "<div>\n",
       "<style scoped>\n",
       "    .dataframe tbody tr th:only-of-type {\n",
       "        vertical-align: middle;\n",
       "    }\n",
       "\n",
       "    .dataframe tbody tr th {\n",
       "        vertical-align: top;\n",
       "    }\n",
       "\n",
       "    .dataframe thead th {\n",
       "        text-align: right;\n",
       "    }\n",
       "</style>\n",
       "<table border=\"1\" class=\"dataframe\">\n",
       "  <thead>\n",
       "    <tr style=\"text-align: right;\">\n",
       "      <th></th>\n",
       "      <th>user_id</th>\n",
       "      <th>track</th>\n",
       "      <th>artist</th>\n",
       "      <th>genre</th>\n",
       "      <th>time</th>\n",
       "      <th>day</th>\n",
       "    </tr>\n",
       "    <tr>\n",
       "      <th>city</th>\n",
       "      <th></th>\n",
       "      <th></th>\n",
       "      <th></th>\n",
       "      <th></th>\n",
       "      <th></th>\n",
       "      <th></th>\n",
       "    </tr>\n",
       "  </thead>\n",
       "  <tbody>\n",
       "    <tr>\n",
       "      <td>Moscow</td>\n",
       "      <td>42741</td>\n",
       "      <td>42741</td>\n",
       "      <td>42741</td>\n",
       "      <td>42741</td>\n",
       "      <td>42741</td>\n",
       "      <td>42741</td>\n",
       "    </tr>\n",
       "    <tr>\n",
       "      <td>Saint-Petersburg</td>\n",
       "      <td>18512</td>\n",
       "      <td>18512</td>\n",
       "      <td>18512</td>\n",
       "      <td>18512</td>\n",
       "      <td>18512</td>\n",
       "      <td>18512</td>\n",
       "    </tr>\n",
       "  </tbody>\n",
       "</table>\n",
       "</div>"
      ],
      "text/plain": [
       "                  user_id  track  artist  genre   time    day\n",
       "city                                                         \n",
       "Moscow              42741  42741   42741  42741  42741  42741\n",
       "Saint-Petersburg    18512  18512   18512  18512  18512  18512"
      ]
     },
     "execution_count": 176,
     "metadata": {},
     "output_type": "execute_result"
    }
   ],
   "source": [
    "df.groupby(\"city\").count() # Подсчёт прослушиваний в каждом городе"
   ]
  },
  {
   "cell_type": "markdown",
   "metadata": {
    "id": "dzli3w8o_Zcu"
   },
   "source": [
    "В Москве прослушиваний больше, чем в Петербурге. Из этого не следует, что московские пользователи чаще слушают музыку. Просто самих пользователей в Москве больше.\n",
    "\n",
    "Теперь сгруппируйте данные по дню недели и подсчитайте прослушивания в понедельник, среду и пятницу. Учтите, что в данных есть информация только о прослушиваниях только за эти дни.\n"
   ]
  },
  {
   "cell_type": "code",
   "execution_count": 177,
   "metadata": {
    "id": "uZMKjiJz_Zcu"
   },
   "outputs": [
    {
     "data": {
      "text/html": [
       "<div>\n",
       "<style scoped>\n",
       "    .dataframe tbody tr th:only-of-type {\n",
       "        vertical-align: middle;\n",
       "    }\n",
       "\n",
       "    .dataframe tbody tr th {\n",
       "        vertical-align: top;\n",
       "    }\n",
       "\n",
       "    .dataframe thead th {\n",
       "        text-align: right;\n",
       "    }\n",
       "</style>\n",
       "<table border=\"1\" class=\"dataframe\">\n",
       "  <thead>\n",
       "    <tr style=\"text-align: right;\">\n",
       "      <th></th>\n",
       "      <th>user_id</th>\n",
       "      <th>track</th>\n",
       "      <th>artist</th>\n",
       "      <th>genre</th>\n",
       "      <th>city</th>\n",
       "      <th>time</th>\n",
       "    </tr>\n",
       "    <tr>\n",
       "      <th>day</th>\n",
       "      <th></th>\n",
       "      <th></th>\n",
       "      <th></th>\n",
       "      <th></th>\n",
       "      <th></th>\n",
       "      <th></th>\n",
       "    </tr>\n",
       "  </thead>\n",
       "  <tbody>\n",
       "    <tr>\n",
       "      <td>Friday</td>\n",
       "      <td>21840</td>\n",
       "      <td>21840</td>\n",
       "      <td>21840</td>\n",
       "      <td>21840</td>\n",
       "      <td>21840</td>\n",
       "      <td>21840</td>\n",
       "    </tr>\n",
       "    <tr>\n",
       "      <td>Monday</td>\n",
       "      <td>21354</td>\n",
       "      <td>21354</td>\n",
       "      <td>21354</td>\n",
       "      <td>21354</td>\n",
       "      <td>21354</td>\n",
       "      <td>21354</td>\n",
       "    </tr>\n",
       "    <tr>\n",
       "      <td>Wednesday</td>\n",
       "      <td>18059</td>\n",
       "      <td>18059</td>\n",
       "      <td>18059</td>\n",
       "      <td>18059</td>\n",
       "      <td>18059</td>\n",
       "      <td>18059</td>\n",
       "    </tr>\n",
       "  </tbody>\n",
       "</table>\n",
       "</div>"
      ],
      "text/plain": [
       "           user_id  track  artist  genre   city   time\n",
       "day                                                   \n",
       "Friday       21840  21840   21840  21840  21840  21840\n",
       "Monday       21354  21354   21354  21354  21354  21354\n",
       "Wednesday    18059  18059   18059  18059  18059  18059"
      ]
     },
     "execution_count": 177,
     "metadata": {},
     "output_type": "execute_result"
    }
   ],
   "source": [
    "df.groupby(\"day\").count() # Подсчёт прослушиваний в каждый из трёх дней"
   ]
  },
  {
   "cell_type": "markdown",
   "metadata": {
    "id": "cC2tNrlL_Zcu"
   },
   "source": [
    "В среднем пользователи из двух городов менее активны по средам. Но картина может измениться, если рассмотреть каждый город в отдельности."
   ]
  },
  {
   "cell_type": "markdown",
   "metadata": {
    "id": "POzs8bGa_Zcu"
   },
   "source": [
    "Вы видели, как работает группировка по городу и по дням недели. Теперь напишите функцию, которая объединит два эти расчёта.\n",
    "\n",
    "Создайте функцию `number_tracks()`, которая посчитает прослушивания для заданного дня и города. Ей понадобятся два параметра:\n",
    "* день недели,\n",
    "* название города.\n",
    "\n",
    "В функции сохраните в переменную строки исходной таблицы, у которых значение:\n",
    "  * в колонке `day` равно параметру `day`,\n",
    "  * в колонке `city` равно параметру `city`.\n",
    "\n",
    "Для этого примените последовательную фильтрацию с логической индексацией.\n",
    "\n",
    "Затем посчитайте значения в столбце `user_id` получившейся таблицы. Результат сохраните в новую переменную. Верните эту переменную из функции."
   ]
  },
  {
   "cell_type": "code",
   "execution_count": 178,
   "metadata": {
    "id": "Nz3GdQB1_Zcu"
   },
   "outputs": [],
   "source": [
    "def number_tracks( day, city ):\n",
    "    track_list = df[df['day'] == day]\n",
    "    track_list = track_list[track_list['city'] == city]\n",
    "    track_list_count = track_list['user_id'].count() # В переменной track_list_count сохраняется число значений столбца 'user_id',\n",
    "    return track_list_count # рассчитанное методом count() для таблицы track_list.\n"
   ]
  },
  {
   "cell_type": "markdown",
   "metadata": {
    "id": "ytf7xFrFJQ2r"
   },
   "source": [
    "Вызовите `number_tracks()` шесть раз, меняя значение параметров — так, чтобы получить данные для каждого города в каждый из трёх дней."
   ]
  },
  {
   "cell_type": "code",
   "execution_count": 179,
   "metadata": {
    "id": "rJcRATNQ_Zcu"
   },
   "outputs": [
    {
     "data": {
      "text/plain": [
       "15740"
      ]
     },
     "execution_count": 179,
     "metadata": {},
     "output_type": "execute_result"
    }
   ],
   "source": [
    "number_tracks('Monday','Moscow') # количество прослушиваний в Москве по понедельникам"
   ]
  },
  {
   "cell_type": "code",
   "execution_count": 180,
   "metadata": {
    "id": "hq_ncZ5T_Zcu"
   },
   "outputs": [
    {
     "data": {
      "text/plain": [
       "5614"
      ]
     },
     "execution_count": 180,
     "metadata": {},
     "output_type": "execute_result"
    }
   ],
   "source": [
    "number_tracks('Monday', 'Saint-Petersburg') # количество прослушиваний в Санкт-Петербурге по понедельникам"
   ]
  },
  {
   "cell_type": "code",
   "execution_count": 181,
   "metadata": {
    "id": "_NTy2VPU_Zcu"
   },
   "outputs": [
    {
     "data": {
      "text/plain": [
       "11056"
      ]
     },
     "execution_count": 181,
     "metadata": {},
     "output_type": "execute_result"
    }
   ],
   "source": [
    "number_tracks('Wednesday', 'Moscow') # количество прослушиваний в Москве по средам"
   ]
  },
  {
   "cell_type": "code",
   "execution_count": 182,
   "metadata": {
    "id": "j2y3TAwo_Zcu"
   },
   "outputs": [
    {
     "data": {
      "text/plain": [
       "7003"
      ]
     },
     "execution_count": 182,
     "metadata": {},
     "output_type": "execute_result"
    }
   ],
   "source": [
    "number_tracks('Wednesday', 'Saint-Petersburg') # количество прослушиваний в Санкт-Петербурге по средам"
   ]
  },
  {
   "cell_type": "code",
   "execution_count": 183,
   "metadata": {
    "id": "vYDw5u_K_Zcu"
   },
   "outputs": [
    {
     "data": {
      "text/plain": [
       "15945"
      ]
     },
     "execution_count": 183,
     "metadata": {},
     "output_type": "execute_result"
    }
   ],
   "source": [
    "number_tracks('Friday', 'Moscow' ) # количество прослушиваний в Москве по пятницам"
   ]
  },
  {
   "cell_type": "code",
   "execution_count": 184,
   "metadata": {
    "id": "8_yzFtW3_Zcu"
   },
   "outputs": [
    {
     "data": {
      "text/plain": [
       "5895"
      ]
     },
     "execution_count": 184,
     "metadata": {},
     "output_type": "execute_result"
    }
   ],
   "source": [
    "number_tracks('Friday', 'Saint-Petersburg' )# количество прослушиваний в Санкт-Петербурге по пятницам"
   ]
  },
  {
   "cell_type": "markdown",
   "metadata": {
    "id": "7QXffbO-_Zcu"
   },
   "source": [
    "Создайте c помощью конструктора `pd.DataFrame` таблицу, где\n",
    "* названия колонок — `['city', 'monday', 'wednesday', 'friday']`;\n",
    "* данные — результаты, которые вы получили с помощью `number_tracks`."
   ]
  },
  {
   "cell_type": "code",
   "execution_count": 185,
   "metadata": {
    "id": "APAcLpOr_Zcu"
   },
   "outputs": [
    {
     "name": "stdout",
     "output_type": "stream",
     "text": [
      "              city  monday  wednesday  friday\n",
      "0           Москва   15740      11056   15945\n",
      "1  Санкт-Петербург    5614       7003    5895\n"
     ]
    }
   ],
   "source": [
    "info = pd.DataFrame(data=[['Москва', 15740, 11056, 15945], ['Санкт-Петербург', 5614, 7003, 5895]], columns=['city', 'monday', 'wednesday', 'friday'])# Таблица с результатами\n",
    "print(info)"
   ]
  },
  {
   "cell_type": "markdown",
   "metadata": {
    "id": "-EgPIHYu_Zcu"
   },
   "source": [
    "**Выводы**\n",
    "\n",
    "Данные показывают разницу поведения пользователей:\n",
    "\n",
    "- В Москве пик прослушиваний приходится на понедельник и пятницу, а в среду заметен спад.\n",
    "- В Петербурге, наоборот, больше слушают музыку по средам. Активность в понедельник и пятницу здесь почти в равной мере уступает среде.\n",
    "\n",
    "Значит, данные говорят в пользу первой гипотезы."
   ]
  },
  {
   "cell_type": "markdown",
   "metadata": {
    "id": "atZAxtq4_Zcu"
   },
   "source": [
    "### Музыка в начале и в конце недели"
   ]
  },
  {
   "cell_type": "markdown",
   "metadata": {
    "id": "eXrQqXFH_Zcu"
   },
   "source": [
    "Согласно второй гипотезе, утром в понедельник в Москве преобладают одни жанры, а в Петербурге — другие. Так же и вечером пятницы преобладают разные жанры — в зависимости от города."
   ]
  },
  {
   "cell_type": "markdown",
   "metadata": {
    "id": "S8UcW6Hw_Zcu"
   },
   "source": [
    "Сохраните таблицы с данными в две переменные:\n",
    "* по Москве — в `moscow_general`;\n",
    "* по Санкт-Петербургу — в `spb_general`."
   ]
  },
  {
   "cell_type": "code",
   "execution_count": 186,
   "metadata": {
    "id": "qeaFfM_P_Zcu"
   },
   "outputs": [],
   "source": [
    "moscow_general = df[df['city'] == 'Moscow'] # получение таблицы moscow_general из тех строк таблицы df, \n",
    "# для которых значение в столбце 'city' равно 'Moscow'\n"
   ]
  },
  {
   "cell_type": "code",
   "execution_count": 187,
   "metadata": {
    "id": "ORaVRKto_Zcu"
   },
   "outputs": [],
   "source": [
    "spb_general = df[df['city'] == 'Saint-Petersburg'] #поние таблицы spb_general из тех строк таблицы df,\n",
    "# для которых значение в столбце 'city' равно 'Saint-Petersburg'\n"
   ]
  },
  {
   "cell_type": "markdown",
   "metadata": {
    "id": "MEJV-CX2_Zcu"
   },
   "source": [
    "Создайте функцию `genre_weekday()` с четырьмя параметрами:\n",
    "* таблица (датафрейм) с данными,\n",
    "* день недели,\n",
    "* начальная временная метка в формате 'hh:mm', \n",
    "* последняя временная метка в формате 'hh:mm'.\n",
    "\n",
    "Функция должна вернуть информацию о топ-10 жанров тех треков, которые прослушивали в указанный день, в промежутке между двумя отметками времени."
   ]
  },
  {
   "cell_type": "code",
   "execution_count": 188,
   "metadata": {
    "id": "laJT9BYl_Zcu"
   },
   "outputs": [],
   "source": [
    "def genre_weekday(table, day, time1, time2): # Объявление функции genre_weekday() с параметрами table, day, time1, time2,\n",
    "    genre_df = table[table['day'] == day]\n",
    "    genre_df = genre_df[genre_df['time'] > time1]\n",
    "    genre_df = genre_df[genre_df['time'] < time2]\n",
    "\n",
    "# 1) в переменную genre_df сохраняются те строки переданного датафрейма table, для\n",
    "#    которых одновременно:\n",
    "#    - значение в столбце day равно значению аргумента day\n",
    "#    - значение в столбце time больше значения аргумента time1\n",
    "#    - значение в столбце time меньше значения аргумента time2\n",
    "#    Используйте последовательную фильтрацию с помощью логической индексации.\n",
    "\n",
    "# 2) сгруппировать датафрейм genre_df по столбцу genre, взять один из его\n",
    "#    столбцов и посчитать методом count() количество записей для каждого из\n",
    "#    присутствующих жанров, получившийся Series записать в переменную\n",
    "#    genre_df_count\n",
    "    genre_df_count = genre_df.groupby('genre')['track'].count()\n",
    "# 3) отсортировать genre_df_count по убыванию встречаемости и сохранить\n",
    "#    в переменную genre_df_sorted\n",
    "    genre_df_sorted = genre_df_count.sort_values(ascending = False)\n",
    "# 4) вернуть Series из 10 первых значений genre_df_sorted, это будут топ-10\n",
    "#    популярных жанров (в указанный день, в заданное время)\n",
    "    return genre_df_sorted.head(10)"
   ]
  },
  {
   "cell_type": "markdown",
   "metadata": {
    "id": "la2s2_PF_Zcu"
   },
   "source": [
    "Cравните результаты функции `genre_weekday()` для Москвы и Санкт-Петербурга в понедельник утром (с 7:00 до 11:00) и в пятницу вечером (с 17:00 до 23:00):"
   ]
  },
  {
   "cell_type": "code",
   "execution_count": 189,
   "metadata": {
    "id": "yz7itPUQ_Zcu"
   },
   "outputs": [
    {
     "data": {
      "text/plain": [
       "genre\n",
       "pop            781\n",
       "dance          549\n",
       "electronic     480\n",
       "rock           474\n",
       "hiphop         286\n",
       "ruspop         186\n",
       "world          181\n",
       "rusrap         175\n",
       "alternative    164\n",
       "unknown        161\n",
       "Name: track, dtype: int64"
      ]
     },
     "execution_count": 189,
     "metadata": {},
     "output_type": "execute_result"
    }
   ],
   "source": [
    "genre_weekday(moscow_general, 'Monday', '07:00', '11:00') # вызов функции для утра понедельника в Москве (вместо df — таблица moscow_general)\n",
    "# объекты, хранящие время, являются строками и сравниваются как строки\n",
    "# пример вызова: genre_weekday(moscow_general, 'Monday', '07:00', '11:00')"
   ]
  },
  {
   "cell_type": "code",
   "execution_count": 190,
   "metadata": {
    "id": "kwUcHPdy_Zcu"
   },
   "outputs": [
    {
     "data": {
      "text/plain": [
       "genre\n",
       "pop            218\n",
       "dance          182\n",
       "rock           162\n",
       "electronic     147\n",
       "hiphop          80\n",
       "ruspop          64\n",
       "alternative     58\n",
       "rusrap          55\n",
       "jazz            44\n",
       "classical       40\n",
       "Name: track, dtype: int64"
      ]
     },
     "execution_count": 190,
     "metadata": {},
     "output_type": "execute_result"
    }
   ],
   "source": [
    "genre_weekday(spb_general, 'Monday', '07:00', '11:00') # вызов функции для утра понедельника в Петербурге (вместо df — таблица spb_general)"
   ]
  },
  {
   "cell_type": "code",
   "execution_count": 191,
   "metadata": {
    "id": "EzXVRE1o_Zcu"
   },
   "outputs": [
    {
     "data": {
      "text/plain": [
       "genre\n",
       "pop            713\n",
       "rock           517\n",
       "dance          495\n",
       "electronic     482\n",
       "hiphop         273\n",
       "world          208\n",
       "ruspop         170\n",
       "alternative    163\n",
       "classical      163\n",
       "rusrap         142\n",
       "Name: track, dtype: int64"
      ]
     },
     "execution_count": 191,
     "metadata": {},
     "output_type": "execute_result"
    }
   ],
   "source": [
    "genre_weekday(moscow_general, 'Friday', '17:00', '23:00') # вызов функции для вечера пятницы в Москве"
   ]
  },
  {
   "cell_type": "code",
   "execution_count": 192,
   "metadata": {
    "id": "JZaEKu5v_Zcu"
   },
   "outputs": [
    {
     "data": {
      "text/plain": [
       "genre\n",
       "pop            256\n",
       "rock           216\n",
       "electronic     216\n",
       "dance          210\n",
       "hiphop          97\n",
       "alternative     63\n",
       "jazz            61\n",
       "classical       60\n",
       "rusrap          59\n",
       "world           54\n",
       "Name: track, dtype: int64"
      ]
     },
     "execution_count": 192,
     "metadata": {},
     "output_type": "execute_result"
    }
   ],
   "source": [
    "genre_weekday(spb_general, 'Friday', '17:00', '23:00') # вызов функции для вечера пятницы в Петербурге"
   ]
  },
  {
   "cell_type": "markdown",
   "metadata": {
    "id": "wrCe4MNX_Zcu"
   },
   "source": [
    "**Выводы**\n",
    "\n",
    "Если сравнить топ-10 жанров в понедельник утром, можно сделать такие выводы:\n",
    "\n",
    "1. В Москве и Петербурге слушают похожую музыку. Единственное отличие — в московский рейтинг вошёл жанр “world”, а в петербургский — джаз и классика.\n",
    "\n",
    "2. В Москве пропущенных значений оказалось так много, что значение `'unknown'` заняло десятое место среди самых популярных жанров. Значит, пропущенные значения занимают существенную долю в данных и угрожают достоверности исследования.\n",
    "\n",
    "Вечер пятницы не меняет эту картину. Некоторые жанры поднимаются немного выше, другие спускаются, но в целом топ-10 остаётся тем же самым.\n",
    "\n",
    "Таким образом, вторая гипотеза подтвердилась лишь частично:\n",
    "* Пользователи слушают похожую музыку в начале недели и в конце.\n",
    "* Разница между Москвой и Петербургом не слишком выражена. В Москве чаще слушают русскую популярную музыку, в Петербурге — джаз.\n",
    "\n",
    "Однако пропуски в данных ставят под сомнение этот результат. В Москве их так много, что рейтинг топ-10 мог бы выглядеть иначе, если бы не утерянные  данные о жанрах."
   ]
  },
  {
   "cell_type": "markdown",
   "metadata": {
    "id": "JolODAqr_Zcu"
   },
   "source": [
    "### Жанровые предпочтения в Москве и Петербурге\n",
    "\n",
    "Гипотеза: Петербург — столица рэпа, музыку этого жанра там слушают чаще, чем в Москве.  А Москва — город контрастов, в котором, тем не менее, преобладает поп-музыка."
   ]
  },
  {
   "cell_type": "markdown",
   "metadata": {
    "id": "DlegSvaT_Zcu"
   },
   "source": [
    "Сгруппируйте таблицу `moscow_general` по жанру и посчитайте прослушивания треков каждого жанра методом `count()`. Затем отсортируйте результат в порядке убывания и сохраните его в таблице `moscow_genres`."
   ]
  },
  {
   "cell_type": "code",
   "execution_count": 193,
   "metadata": {
    "id": "r19lIPke_Zcu"
   },
   "outputs": [],
   "source": [
    "moscow_sorted = moscow_general.groupby('genre')['genre'].count() # одной строкой: группировка таблицы moscow_general по столбцу 'genre', \n",
    "# подсчёт числа значений 'genre' в этой группировке методом count(), \n",
    "\n",
    "moscow_genres = moscow_sorted.sort_values(ascending = False)  # сортировка получившегося Series в порядке убывания и сохранение в moscow_genres"
   ]
  },
  {
   "cell_type": "markdown",
   "metadata": {
    "id": "6kMuomxTiIr8"
   },
   "source": [
    "Выведите на экран первые десять строк `moscow_genres`:"
   ]
  },
  {
   "cell_type": "code",
   "execution_count": 194,
   "metadata": {
    "id": "WhCSooF8_Zcv"
   },
   "outputs": [
    {
     "data": {
      "text/plain": [
       "genre\n",
       "pop            5893\n",
       "dance          4435\n",
       "rock           3965\n",
       "electronic     3786\n",
       "hiphop         2096\n",
       "classical      1616\n",
       "world          1432\n",
       "alternative    1379\n",
       "ruspop         1372\n",
       "rusrap         1161\n",
       "Name: genre, dtype: int64"
      ]
     },
     "execution_count": 194,
     "metadata": {},
     "output_type": "execute_result"
    }
   ],
   "source": [
    "moscow_genres.head(10) # просмотр первых 10 строк moscow_genres"
   ]
  },
  {
   "cell_type": "markdown",
   "metadata": {
    "id": "cnPG2vnN_Zcv"
   },
   "source": [
    "Теперь повторите то же и для Петербурга.\n",
    "\n",
    "Сгруппируйте таблицу `spb_general` по жанру. Посчитайте прослушивания треков каждого жанра. Результат отсортируйте в порядке убывания и сохраните в таблице `spb_genres`:\n"
   ]
  },
  {
   "cell_type": "code",
   "execution_count": 195,
   "metadata": {
    "id": "gluLIpE7_Zcv"
   },
   "outputs": [],
   "source": [
    "spb_sorted = spb_general.groupby('genre')['genre'].count() # одной строкой: группировка таблицы spb_general по столбцу 'genre', \n",
    "# подсчёт числа значений 'genre' в этой группировке методом count(), \n",
    "spb_genres = spb_sorted.sort_values(ascending = False) # сортировка получившегося Series в порядке убывания и сохранение в spb_general"
   ]
  },
  {
   "cell_type": "markdown",
   "metadata": {
    "id": "5Doha_ODgyQ8"
   },
   "source": [
    "Выведите на экран первые десять строк `spb_genres`:"
   ]
  },
  {
   "cell_type": "code",
   "execution_count": 196,
   "metadata": {
    "id": "uaGJHjVU_Zcv"
   },
   "outputs": [
    {
     "data": {
      "text/plain": [
       "genre\n",
       "pop            2431\n",
       "dance          1932\n",
       "rock           1879\n",
       "electronic     1737\n",
       "hiphop          960\n",
       "alternative     649\n",
       "classical       646\n",
       "rusrap          564\n",
       "ruspop          538\n",
       "world           515\n",
       "Name: genre, dtype: int64"
      ]
     },
     "execution_count": 196,
     "metadata": {},
     "output_type": "execute_result"
    }
   ],
   "source": [
    "spb_genres.head(10) # просмотр первых 10 строк spb_genres"
   ]
  },
  {
   "cell_type": "markdown",
   "metadata": {
    "id": "RY51YJYu_Zcv"
   },
   "source": [
    "**Выводы**"
   ]
  },
  {
   "cell_type": "markdown",
   "metadata": {
    "id": "nVhnJEm__Zcv"
   },
   "source": [
    "Гипотеза частично подтвердилась:\n",
    "* Поп-музыка — самый популярный жанр в Москве, как и предполагала гипотеза. Более того, в топ-10 жанров встречается близкий жанр — русская популярная музыка.\n",
    "* Вопреки ожиданиям, рэп одинаково популярен в Москве и Петербурге. \n"
   ]
  },
  {
   "cell_type": "markdown",
   "metadata": {
    "id": "ykKQ0N65_Zcv"
   },
   "source": [
    "## Итоги исследования"
   ]
  },
  {
   "cell_type": "markdown",
   "metadata": {
    "id": "tjUwbHb3_Zcv"
   },
   "source": [
    "Вы проверили три гипотезы и установили:\n",
    "\n",
    "1. День недели по-разному влияет на активность пользователей в Москве и Петербурге. \n",
    "\n",
    "Первая гипотеза полностью подтвердилась.\n",
    "\n",
    "2. Музыкальные предпочтения не сильно меняются в течение недели — будь то Москва или Петербург. Небольшие различия заметны в начале недели, по понедельникам:\n",
    "* в Москве слушают музыку жанра “world”,\n",
    "* в Петербурге — джаз и классику.\n",
    "\n",
    "Таким образом, вторая гипотеза подтвердилась лишь отчасти. Этот результат мог оказаться иным, если бы не пропуски в данных.\n",
    "\n",
    "3. Во вкусах пользователей Москвы и Петербурга больше общего чем различий. Вопреки ожиданиям, предпочтения жанров в Петербурге напоминают московские.\n",
    "\n",
    "Третья гипотеза не подтвердилась. Если различия в предпочтениях и существуют, на основной массе пользователей они незаметны.\n",
    "\n",
    "**На практике исследования содержат проверки статистических гипотез.**\n",
    "Из данных одного сервиса не всегда можно сделать вывод о всех жителях города.\n",
    "Проверки статистических гипотез покажут, насколько они достоверны, исходя из имеющихся данных. \n",
    "С методами проверок гипотез вы ещё познакомитесь в следующих темах."
   ]
  },
  {
   "cell_type": "code",
   "execution_count": 1,
   "metadata": {},
   "outputs": [
    {
     "name": "stdout",
     "output_type": "stream",
     "text": [
      "~~~~~~~~~~~~~~~~~~!~~~~~~~~~~~~~~~~~~\n",
      "~~~~~~~~~~~~~~~~~~+~~~~~~~~~~~~~~~~~~\n",
      "~~~~~~~~~~~~~~~~~^ ^~~~~~~~~~~~~~~~~~\n",
      "~~~~~~~~~~~~~~~~* * *~~~~~~~~~~~~~~~~\n",
      "~~~~~~~~~~~~~~~^ ^ ^ ^~~~~~~~~~~~~~~~\n",
      "~~~~~~~~~~~~~~@ @ @ @ @~~~~~~~~~~~~~~\n",
      "~~~~~~~~~~~~~^ ^ ^ ^ ^ ^~~~~~~~~~~~~~\n",
      "~~~~~~~~~~~~^ ^ ^ ^ ^ ^ ^~~~~~~~~~~~~\n",
      "~~~~~~~~~~~^ ^ ^ ^ ^ ^ ^ ^~~~~~~~~~~~\n",
      "~~~~~~~~~~^ ^ ^ ^ ^ ^ ^ ^ ^~~~~~~~~~~\n",
      "~~~~~~~~~* * * * * * * * * *~~~~~~~~~\n",
      "~~~~~~~~@ @ @ @ @ @ @ @ @ @ @~~~~~~~~\n",
      "~~~~~~~* * * * * * * * * * * *~~~~~~~\n",
      "~~~~~~^ ^ ^ ^ ^ ^ ^ ^ ^ ^ ^ ^ ^~~~~~~\n",
      "~~~~~^ ^ ^ ^ ^ ^ ^ ^ ^ ^ ^ ^ ^ ^~~~~~\n",
      "~~~~^ ^ ^ ^ ^ ^ ^ ^ ^ ^ ^ ^ ^ ^ ^~~~~\n",
      "~~~* * * * * * * * * * * * * * * *~~~\n",
      "~~^ ^ ^ ^ ^ ^ ^ ^ ^ ^ ^ ^ ^ ^ ^ ^ ^~~\n",
      "~* * * * * * * * * * * * * * * * * *~\n",
      "@ @ @ @ @ @ @ @ @ @ @ @ @ @ @ @ @ @ @\n",
      "~~~~~~~~~~~~~~~~~~|~~~~~~~~~~~~~~~~~~\n",
      "~~~~~~~~~~~~~~~~~~|~~~~~~~~~~~~~~~~~~\n",
      "~~~~~~~~~~~~~~~~[___]~~~~~~~~~~~~~~~~\n"
     ]
    }
   ],
   "source": [
    "import random\n",
    "for v in ['!'] + [' '.join(random.choice(['*', '*', '^', '^', '@', '+']) * i) for i in range(1, 20, 1)] \\\n",
    "                                          + ['|', '|', '[___]']:\n",
    "  print('{:~^37}'.format(v))"
   ]
  }
 ],
 "metadata": {
  "ExecuteTimeLog": [
   {
    "duration": 964,
    "start_time": "2021-12-28T21:13:43.750Z"
   },
   {
    "duration": 474,
    "start_time": "2021-12-28T21:13:46.682Z"
   },
   {
    "duration": 372,
    "start_time": "2021-12-28T21:14:12.821Z"
   },
   {
    "duration": 3,
    "start_time": "2021-12-28T21:14:22.159Z"
   },
   {
    "duration": 1973,
    "start_time": "2021-12-28T21:14:24.712Z"
   },
   {
    "duration": 214,
    "start_time": "2021-12-28T21:15:02.884Z"
   },
   {
    "duration": 11,
    "start_time": "2021-12-28T21:15:10.281Z"
   },
   {
    "duration": 21,
    "start_time": "2021-12-28T21:15:47.303Z"
   },
   {
    "duration": 5,
    "start_time": "2021-12-28T21:17:20.111Z"
   },
   {
    "duration": 10,
    "start_time": "2021-12-28T21:17:42.799Z"
   },
   {
    "duration": 34,
    "start_time": "2021-12-28T21:19:28.274Z"
   },
   {
    "duration": 6,
    "start_time": "2021-12-28T21:23:44.022Z"
   },
   {
    "duration": 5,
    "start_time": "2021-12-28T21:37:50.291Z"
   },
   {
    "duration": 5,
    "start_time": "2021-12-28T21:37:53.113Z"
   },
   {
    "duration": 48,
    "start_time": "2021-12-28T21:38:00.845Z"
   },
   {
    "duration": 6,
    "start_time": "2021-12-28T21:38:20.074Z"
   },
   {
    "duration": 236,
    "start_time": "2021-12-28T21:39:42.874Z"
   },
   {
    "duration": 339,
    "start_time": "2021-12-28T21:40:03.964Z"
   },
   {
    "duration": 5,
    "start_time": "2021-12-28T21:41:17.348Z"
   },
   {
    "duration": 241,
    "start_time": "2021-12-28T21:41:21.902Z"
   },
   {
    "duration": 319,
    "start_time": "2021-12-28T21:42:40.161Z"
   },
   {
    "duration": 389,
    "start_time": "2021-12-29T22:36:19.490Z"
   },
   {
    "duration": 298,
    "start_time": "2021-12-29T22:36:28.455Z"
   },
   {
    "duration": 854,
    "start_time": "2021-12-29T22:37:12.107Z"
   },
   {
    "duration": 195,
    "start_time": "2021-12-29T22:37:12.964Z"
   },
   {
    "duration": 12,
    "start_time": "2021-12-29T22:37:13.162Z"
   },
   {
    "duration": 67,
    "start_time": "2021-12-29T22:37:13.177Z"
   },
   {
    "duration": 19,
    "start_time": "2021-12-29T22:37:13.247Z"
   },
   {
    "duration": 6,
    "start_time": "2021-12-29T22:37:13.269Z"
   },
   {
    "duration": 88,
    "start_time": "2021-12-29T22:37:13.278Z"
   },
   {
    "duration": 6,
    "start_time": "2021-12-29T22:37:13.368Z"
   },
   {
    "duration": 413,
    "start_time": "2021-12-29T22:37:13.380Z"
   },
   {
    "duration": -14,
    "start_time": "2021-12-29T22:37:13.811Z"
   },
   {
    "duration": -15,
    "start_time": "2021-12-29T22:37:13.813Z"
   },
   {
    "duration": -13,
    "start_time": "2021-12-29T22:37:13.814Z"
   },
   {
    "duration": -15,
    "start_time": "2021-12-29T22:37:13.817Z"
   },
   {
    "duration": -14,
    "start_time": "2021-12-29T22:37:13.818Z"
   },
   {
    "duration": -14,
    "start_time": "2021-12-29T22:37:13.819Z"
   },
   {
    "duration": -15,
    "start_time": "2021-12-29T22:37:13.822Z"
   },
   {
    "duration": -14,
    "start_time": "2021-12-29T22:37:13.823Z"
   },
   {
    "duration": -17,
    "start_time": "2021-12-29T22:37:13.828Z"
   },
   {
    "duration": -18,
    "start_time": "2021-12-29T22:37:13.830Z"
   },
   {
    "duration": -17,
    "start_time": "2021-12-29T22:37:13.831Z"
   },
   {
    "duration": -17,
    "start_time": "2021-12-29T22:37:13.832Z"
   },
   {
    "duration": -19,
    "start_time": "2021-12-29T22:37:13.835Z"
   },
   {
    "duration": -20,
    "start_time": "2021-12-29T22:37:13.837Z"
   },
   {
    "duration": -21,
    "start_time": "2021-12-29T22:37:13.840Z"
   },
   {
    "duration": -21,
    "start_time": "2021-12-29T22:37:13.841Z"
   },
   {
    "duration": -22,
    "start_time": "2021-12-29T22:37:13.843Z"
   },
   {
    "duration": -21,
    "start_time": "2021-12-29T22:37:13.844Z"
   },
   {
    "duration": -23,
    "start_time": "2021-12-29T22:37:13.847Z"
   },
   {
    "duration": -27,
    "start_time": "2021-12-29T22:37:13.852Z"
   },
   {
    "duration": -27,
    "start_time": "2021-12-29T22:37:13.853Z"
   },
   {
    "duration": -27,
    "start_time": "2021-12-29T22:37:13.854Z"
   },
   {
    "duration": -26,
    "start_time": "2021-12-29T22:37:13.855Z"
   },
   {
    "duration": -28,
    "start_time": "2021-12-29T22:37:13.858Z"
   },
   {
    "duration": -28,
    "start_time": "2021-12-29T22:37:13.859Z"
   },
   {
    "duration": -29,
    "start_time": "2021-12-29T22:37:13.861Z"
   },
   {
    "duration": -32,
    "start_time": "2021-12-29T22:37:13.865Z"
   },
   {
    "duration": -31,
    "start_time": "2021-12-29T22:37:13.866Z"
   },
   {
    "duration": -34,
    "start_time": "2021-12-29T22:37:13.870Z"
   },
   {
    "duration": -35,
    "start_time": "2021-12-29T22:37:13.872Z"
   },
   {
    "duration": 39,
    "start_time": "2021-12-29T22:38:10.675Z"
   },
   {
    "duration": 4,
    "start_time": "2021-12-29T22:38:22.863Z"
   },
   {
    "duration": 41,
    "start_time": "2021-12-29T22:38:36.787Z"
   },
   {
    "duration": 4,
    "start_time": "2021-12-29T22:39:29.699Z"
   },
   {
    "duration": 205,
    "start_time": "2021-12-29T22:39:29.706Z"
   },
   {
    "duration": 9,
    "start_time": "2021-12-29T22:39:29.917Z"
   },
   {
    "duration": 37,
    "start_time": "2021-12-29T22:39:29.930Z"
   },
   {
    "duration": 6,
    "start_time": "2021-12-29T22:39:29.970Z"
   },
   {
    "duration": 40,
    "start_time": "2021-12-29T22:39:29.979Z"
   },
   {
    "duration": 63,
    "start_time": "2021-12-29T22:39:30.022Z"
   },
   {
    "duration": 5,
    "start_time": "2021-12-29T22:39:30.087Z"
   },
   {
    "duration": 6,
    "start_time": "2021-12-29T22:39:38.482Z"
   },
   {
    "duration": 31,
    "start_time": "2021-12-29T22:54:20.981Z"
   },
   {
    "duration": 35,
    "start_time": "2021-12-29T22:57:57.134Z"
   },
   {
    "duration": 5,
    "start_time": "2021-12-29T22:58:01.365Z"
   },
   {
    "duration": 7928,
    "start_time": "2021-12-29T22:59:45.794Z"
   },
   {
    "duration": 48,
    "start_time": "2021-12-29T23:00:14.999Z"
   },
   {
    "duration": 4,
    "start_time": "2021-12-29T23:00:27.521Z"
   },
   {
    "duration": 201,
    "start_time": "2021-12-29T23:00:28.758Z"
   },
   {
    "duration": 11,
    "start_time": "2021-12-29T23:00:31.680Z"
   },
   {
    "duration": 32,
    "start_time": "2021-12-29T23:00:43.987Z"
   },
   {
    "duration": 6,
    "start_time": "2021-12-29T23:00:45.582Z"
   },
   {
    "duration": 5,
    "start_time": "2021-12-29T23:01:02.089Z"
   },
   {
    "duration": 43,
    "start_time": "2021-12-29T23:01:36.141Z"
   },
   {
    "duration": 5,
    "start_time": "2021-12-29T23:01:42.023Z"
   },
   {
    "duration": 4,
    "start_time": "2021-12-29T23:04:07.709Z"
   },
   {
    "duration": 218,
    "start_time": "2021-12-29T23:04:07.716Z"
   },
   {
    "duration": 10,
    "start_time": "2021-12-29T23:04:07.937Z"
   },
   {
    "duration": 34,
    "start_time": "2021-12-29T23:04:07.950Z"
   },
   {
    "duration": 6,
    "start_time": "2021-12-29T23:04:07.986Z"
   },
   {
    "duration": 5,
    "start_time": "2021-12-29T23:04:08.018Z"
   },
   {
    "duration": 35,
    "start_time": "2021-12-29T23:04:08.026Z"
   },
   {
    "duration": 5,
    "start_time": "2021-12-29T23:04:08.063Z"
   },
   {
    "duration": 64,
    "start_time": "2021-12-29T23:04:08.072Z"
   },
   {
    "duration": 8602,
    "start_time": "2021-12-29T23:04:08.139Z"
   },
   {
    "duration": 1,
    "start_time": "2021-12-29T23:04:16.744Z"
   },
   {
    "duration": -1,
    "start_time": "2021-12-29T23:04:16.747Z"
   },
   {
    "duration": 0,
    "start_time": "2021-12-29T23:04:16.748Z"
   },
   {
    "duration": 1,
    "start_time": "2021-12-29T23:04:16.749Z"
   },
   {
    "duration": 1,
    "start_time": "2021-12-29T23:04:16.750Z"
   },
   {
    "duration": 3,
    "start_time": "2021-12-29T23:04:16.751Z"
   },
   {
    "duration": 2,
    "start_time": "2021-12-29T23:04:16.754Z"
   },
   {
    "duration": 3,
    "start_time": "2021-12-29T23:04:16.755Z"
   },
   {
    "duration": 4,
    "start_time": "2021-12-29T23:04:16.756Z"
   },
   {
    "duration": 1,
    "start_time": "2021-12-29T23:04:16.761Z"
   },
   {
    "duration": 2,
    "start_time": "2021-12-29T23:04:16.762Z"
   },
   {
    "duration": 0,
    "start_time": "2021-12-29T23:04:16.766Z"
   },
   {
    "duration": -36,
    "start_time": "2021-12-29T23:04:16.804Z"
   },
   {
    "duration": -38,
    "start_time": "2021-12-29T23:04:16.807Z"
   },
   {
    "duration": -38,
    "start_time": "2021-12-29T23:04:16.809Z"
   },
   {
    "duration": -40,
    "start_time": "2021-12-29T23:04:16.813Z"
   },
   {
    "duration": -39,
    "start_time": "2021-12-29T23:04:16.814Z"
   },
   {
    "duration": -41,
    "start_time": "2021-12-29T23:04:16.819Z"
   },
   {
    "duration": -43,
    "start_time": "2021-12-29T23:04:16.823Z"
   },
   {
    "duration": -44,
    "start_time": "2021-12-29T23:04:16.826Z"
   },
   {
    "duration": -9,
    "start_time": "2021-12-29T23:04:16.827Z"
   },
   {
    "duration": -8,
    "start_time": "2021-12-29T23:04:16.829Z"
   },
   {
    "duration": -9,
    "start_time": "2021-12-29T23:04:16.832Z"
   },
   {
    "duration": -8,
    "start_time": "2021-12-29T23:04:16.833Z"
   },
   {
    "duration": -8,
    "start_time": "2021-12-29T23:04:16.835Z"
   },
   {
    "duration": -8,
    "start_time": "2021-12-29T23:04:16.838Z"
   },
   {
    "duration": -8,
    "start_time": "2021-12-29T23:04:16.840Z"
   },
   {
    "duration": -7,
    "start_time": "2021-12-29T23:04:16.841Z"
   },
   {
    "duration": -8,
    "start_time": "2021-12-29T23:04:16.844Z"
   },
   {
    "duration": 513,
    "start_time": "2021-12-30T11:40:48.237Z"
   },
   {
    "duration": 131,
    "start_time": "2021-12-30T11:40:48.752Z"
   },
   {
    "duration": 10,
    "start_time": "2021-12-30T11:40:48.885Z"
   },
   {
    "duration": 29,
    "start_time": "2021-12-30T11:40:48.897Z"
   },
   {
    "duration": 8,
    "start_time": "2021-12-30T11:40:48.928Z"
   },
   {
    "duration": 4,
    "start_time": "2021-12-30T11:40:48.938Z"
   },
   {
    "duration": 23,
    "start_time": "2021-12-30T11:40:53.491Z"
   },
   {
    "duration": 3,
    "start_time": "2021-12-30T11:40:56.993Z"
   },
   {
    "duration": 24,
    "start_time": "2021-12-30T11:41:01.749Z"
   },
   {
    "duration": 20,
    "start_time": "2021-12-30T11:41:15.254Z"
   },
   {
    "duration": 22,
    "start_time": "2021-12-30T11:41:18.659Z"
   },
   {
    "duration": 57,
    "start_time": "2021-12-30T11:45:44.474Z"
   },
   {
    "duration": 68,
    "start_time": "2021-12-30T11:46:03.332Z"
   },
   {
    "duration": 49,
    "start_time": "2021-12-30T11:46:15.644Z"
   },
   {
    "duration": 49,
    "start_time": "2021-12-30T11:48:30.813Z"
   },
   {
    "duration": 4437,
    "start_time": "2021-12-30T11:50:57.004Z"
   },
   {
    "duration": 38,
    "start_time": "2021-12-30T11:51:24.833Z"
   },
   {
    "duration": 3,
    "start_time": "2021-12-30T11:57:38.218Z"
   },
   {
    "duration": 127,
    "start_time": "2021-12-30T11:57:40.045Z"
   },
   {
    "duration": 160,
    "start_time": "2021-12-30T11:58:03.499Z"
   },
   {
    "duration": 143,
    "start_time": "2021-12-30T11:58:14.791Z"
   },
   {
    "duration": 3419,
    "start_time": "2021-12-30T11:58:46.345Z"
   },
   {
    "duration": 3,
    "start_time": "2021-12-30T11:59:22.732Z"
   },
   {
    "duration": 3255,
    "start_time": "2021-12-30T11:59:25.515Z"
   },
   {
    "duration": 3,
    "start_time": "2021-12-30T12:00:04.511Z"
   },
   {
    "duration": 9,
    "start_time": "2021-12-30T12:00:08.430Z"
   },
   {
    "duration": 39,
    "start_time": "2021-12-30T12:00:53.127Z"
   },
   {
    "duration": 49,
    "start_time": "2021-12-30T12:12:51.277Z"
   },
   {
    "duration": 20,
    "start_time": "2021-12-30T12:13:00.250Z"
   },
   {
    "duration": 45,
    "start_time": "2021-12-30T12:13:08.900Z"
   },
   {
    "duration": 3577,
    "start_time": "2021-12-30T12:22:00.378Z"
   },
   {
    "duration": 33,
    "start_time": "2021-12-30T12:25:11.907Z"
   },
   {
    "duration": 33,
    "start_time": "2021-12-30T12:26:37.955Z"
   },
   {
    "duration": 5,
    "start_time": "2021-12-30T12:34:43.593Z"
   },
   {
    "duration": 3680,
    "start_time": "2021-12-30T12:42:06.291Z"
   },
   {
    "duration": 3,
    "start_time": "2021-12-30T12:42:16.225Z"
   },
   {
    "duration": 4144,
    "start_time": "2021-12-30T12:42:22.438Z"
   },
   {
    "duration": 3,
    "start_time": "2021-12-30T12:42:53.569Z"
   },
   {
    "duration": 138,
    "start_time": "2021-12-30T12:42:53.574Z"
   },
   {
    "duration": 8,
    "start_time": "2021-12-30T12:42:53.715Z"
   },
   {
    "duration": 25,
    "start_time": "2021-12-30T12:42:53.725Z"
   },
   {
    "duration": 4,
    "start_time": "2021-12-30T12:42:53.752Z"
   },
   {
    "duration": 5,
    "start_time": "2021-12-30T12:42:53.757Z"
   },
   {
    "duration": 44,
    "start_time": "2021-12-30T12:42:53.763Z"
   },
   {
    "duration": 3,
    "start_time": "2021-12-30T12:42:53.808Z"
   },
   {
    "duration": 23,
    "start_time": "2021-12-30T12:42:53.814Z"
   },
   {
    "duration": 17,
    "start_time": "2021-12-30T12:42:53.839Z"
   },
   {
    "duration": 49,
    "start_time": "2021-12-30T12:42:53.857Z"
   },
   {
    "duration": 52,
    "start_time": "2021-12-30T12:42:53.909Z"
   },
   {
    "duration": 78,
    "start_time": "2021-12-30T12:42:53.963Z"
   },
   {
    "duration": 55,
    "start_time": "2021-12-30T12:42:54.043Z"
   },
   {
    "duration": 38,
    "start_time": "2021-12-30T12:42:54.100Z"
   },
   {
    "duration": 3,
    "start_time": "2021-12-30T12:42:54.140Z"
   },
   {
    "duration": 24,
    "start_time": "2021-12-30T12:42:54.144Z"
   },
   {
    "duration": 66,
    "start_time": "2021-12-30T12:42:54.170Z"
   },
   {
    "duration": 31,
    "start_time": "2021-12-30T12:42:54.238Z"
   },
   {
    "duration": 46,
    "start_time": "2021-12-30T12:42:54.271Z"
   },
   {
    "duration": 3,
    "start_time": "2021-12-30T12:42:54.319Z"
   },
   {
    "duration": 3527,
    "start_time": "2021-12-30T12:43:00.823Z"
   },
   {
    "duration": 44,
    "start_time": "2021-12-30T12:44:33.727Z"
   },
   {
    "duration": 3,
    "start_time": "2021-12-30T12:44:52.331Z"
   },
   {
    "duration": 3353,
    "start_time": "2021-12-30T12:44:56.048Z"
   },
   {
    "duration": 3,
    "start_time": "2021-12-30T12:45:40.377Z"
   },
   {
    "duration": 3573,
    "start_time": "2021-12-30T12:45:42.029Z"
   },
   {
    "duration": 212,
    "start_time": "2021-12-30T12:49:49.409Z"
   },
   {
    "duration": 3,
    "start_time": "2021-12-30T12:50:03.498Z"
   },
   {
    "duration": 4058,
    "start_time": "2021-12-30T12:50:07.232Z"
   },
   {
    "duration": 3546,
    "start_time": "2021-12-30T12:51:13.634Z"
   },
   {
    "duration": 4,
    "start_time": "2021-12-30T12:52:49.483Z"
   },
   {
    "duration": 3791,
    "start_time": "2021-12-30T12:53:14.987Z"
   },
   {
    "duration": 51,
    "start_time": "2021-12-30T15:31:52.321Z"
   },
   {
    "duration": 5,
    "start_time": "2021-12-30T15:32:06.064Z"
   },
   {
    "duration": 3581,
    "start_time": "2021-12-30T15:32:17.712Z"
   },
   {
    "duration": 3,
    "start_time": "2021-12-30T15:35:56.941Z"
   },
   {
    "duration": 3488,
    "start_time": "2021-12-30T15:36:00.826Z"
   },
   {
    "duration": 3567,
    "start_time": "2021-12-30T15:36:29.617Z"
   },
   {
    "duration": 4,
    "start_time": "2021-12-30T15:37:46.540Z"
   },
   {
    "duration": 3,
    "start_time": "2021-12-30T15:38:11.109Z"
   },
   {
    "duration": 22,
    "start_time": "2021-12-30T15:38:14.949Z"
   },
   {
    "duration": 9,
    "start_time": "2021-12-30T15:38:18.351Z"
   },
   {
    "duration": 18,
    "start_time": "2021-12-30T15:41:04.884Z"
   },
   {
    "duration": 17,
    "start_time": "2021-12-30T15:41:05.733Z"
   },
   {
    "duration": 14,
    "start_time": "2021-12-30T15:41:06.598Z"
   },
   {
    "duration": 14,
    "start_time": "2021-12-30T15:41:07.594Z"
   },
   {
    "duration": 3,
    "start_time": "2021-12-30T15:42:18.687Z"
   },
   {
    "duration": 390,
    "start_time": "2021-12-30T15:42:20.628Z"
   },
   {
    "duration": 3,
    "start_time": "2021-12-30T15:43:48.860Z"
   },
   {
    "duration": 357,
    "start_time": "2021-12-30T15:43:50.993Z"
   },
   {
    "duration": 55,
    "start_time": "2021-12-30T15:44:58.868Z"
   },
   {
    "duration": 51,
    "start_time": "2021-12-30T15:45:15.653Z"
   },
   {
    "duration": 3,
    "start_time": "2021-12-30T15:45:30.464Z"
   },
   {
    "duration": 17,
    "start_time": "2021-12-30T15:45:33.335Z"
   },
   {
    "duration": 16,
    "start_time": "2021-12-30T15:45:37.119Z"
   },
   {
    "duration": 16,
    "start_time": "2021-12-30T15:45:38.139Z"
   },
   {
    "duration": 16,
    "start_time": "2021-12-30T15:45:38.867Z"
   },
   {
    "duration": 18,
    "start_time": "2021-12-30T15:45:39.668Z"
   },
   {
    "duration": 16,
    "start_time": "2021-12-30T15:45:40.385Z"
   },
   {
    "duration": 3,
    "start_time": "2021-12-30T15:46:25.622Z"
   },
   {
    "duration": 6,
    "start_time": "2021-12-30T15:46:45.351Z"
   },
   {
    "duration": 3,
    "start_time": "2021-12-30T15:48:46.745Z"
   },
   {
    "duration": 18,
    "start_time": "2021-12-30T15:48:48.473Z"
   },
   {
    "duration": 23,
    "start_time": "2021-12-30T15:48:49.160Z"
   },
   {
    "duration": 23,
    "start_time": "2021-12-30T15:48:49.803Z"
   },
   {
    "duration": 22,
    "start_time": "2021-12-30T15:48:50.429Z"
   },
   {
    "duration": 26,
    "start_time": "2021-12-30T15:48:50.951Z"
   },
   {
    "duration": 23,
    "start_time": "2021-12-30T15:48:51.598Z"
   },
   {
    "duration": 11,
    "start_time": "2021-12-30T15:48:54.018Z"
   },
   {
    "duration": 57,
    "start_time": "2021-12-30T16:01:33.079Z"
   },
   {
    "duration": 4,
    "start_time": "2021-12-30T16:02:17.378Z"
   },
   {
    "duration": 240,
    "start_time": "2021-12-30T16:05:44.455Z"
   },
   {
    "duration": 2,
    "start_time": "2021-12-30T16:05:55.347Z"
   },
   {
    "duration": 159,
    "start_time": "2021-12-30T16:05:55.351Z"
   },
   {
    "duration": 7,
    "start_time": "2021-12-30T16:05:55.512Z"
   },
   {
    "duration": 29,
    "start_time": "2021-12-30T16:05:55.521Z"
   },
   {
    "duration": 4,
    "start_time": "2021-12-30T16:05:55.552Z"
   },
   {
    "duration": 33,
    "start_time": "2021-12-30T16:05:55.558Z"
   },
   {
    "duration": 29,
    "start_time": "2021-12-30T16:05:55.594Z"
   },
   {
    "duration": 4,
    "start_time": "2021-12-30T16:05:55.625Z"
   },
   {
    "duration": 38,
    "start_time": "2021-12-30T16:05:55.632Z"
   },
   {
    "duration": 31,
    "start_time": "2021-12-30T16:05:55.673Z"
   },
   {
    "duration": 26,
    "start_time": "2021-12-30T16:05:55.705Z"
   },
   {
    "duration": 97,
    "start_time": "2021-12-30T16:05:55.733Z"
   },
   {
    "duration": 91,
    "start_time": "2021-12-30T16:05:55.833Z"
   },
   {
    "duration": 55,
    "start_time": "2021-12-30T16:05:55.926Z"
   },
   {
    "duration": 48,
    "start_time": "2021-12-30T16:05:55.982Z"
   },
   {
    "duration": 3,
    "start_time": "2021-12-30T16:05:56.031Z"
   },
   {
    "duration": 25,
    "start_time": "2021-12-30T16:05:56.036Z"
   },
   {
    "duration": 54,
    "start_time": "2021-12-30T16:05:56.063Z"
   },
   {
    "duration": 60,
    "start_time": "2021-12-30T16:05:56.118Z"
   },
   {
    "duration": 31,
    "start_time": "2021-12-30T16:05:56.180Z"
   },
   {
    "duration": 5,
    "start_time": "2021-12-30T16:05:56.213Z"
   },
   {
    "duration": 28,
    "start_time": "2021-12-30T16:05:56.219Z"
   },
   {
    "duration": 15,
    "start_time": "2021-12-30T16:05:56.249Z"
   },
   {
    "duration": 30,
    "start_time": "2021-12-30T16:05:56.265Z"
   },
   {
    "duration": 23,
    "start_time": "2021-12-30T16:05:56.297Z"
   },
   {
    "duration": 19,
    "start_time": "2021-12-30T16:05:56.322Z"
   },
   {
    "duration": 29,
    "start_time": "2021-12-30T16:05:56.344Z"
   },
   {
    "duration": 29,
    "start_time": "2021-12-30T16:05:56.375Z"
   },
   {
    "duration": 319,
    "start_time": "2021-12-30T16:05:56.406Z"
   },
   {
    "duration": -203,
    "start_time": "2021-12-30T16:05:56.930Z"
   },
   {
    "duration": -212,
    "start_time": "2021-12-30T16:05:56.941Z"
   },
   {
    "duration": -213,
    "start_time": "2021-12-30T16:05:56.943Z"
   },
   {
    "duration": 11,
    "start_time": "2021-12-30T16:06:56.598Z"
   },
   {
    "duration": 49,
    "start_time": "2021-12-30T16:07:11.281Z"
   },
   {
    "duration": 10,
    "start_time": "2021-12-30T16:07:58.519Z"
   },
   {
    "duration": 5,
    "start_time": "2021-12-30T16:08:06.877Z"
   },
   {
    "duration": 271,
    "start_time": "2021-12-30T16:08:22.360Z"
   },
   {
    "duration": 62,
    "start_time": "2021-12-30T16:10:31.348Z"
   },
   {
    "duration": 49,
    "start_time": "2021-12-30T16:10:39.358Z"
   },
   {
    "duration": 4,
    "start_time": "2021-12-30T16:10:56.592Z"
   },
   {
    "duration": 19,
    "start_time": "2021-12-30T16:11:00.835Z"
   },
   {
    "duration": 14,
    "start_time": "2021-12-30T16:11:58.036Z"
   },
   {
    "duration": 19,
    "start_time": "2021-12-30T16:22:21.958Z"
   },
   {
    "duration": 13,
    "start_time": "2021-12-30T16:22:23.253Z"
   },
   {
    "duration": 9,
    "start_time": "2021-12-30T16:27:30.615Z"
   },
   {
    "duration": 6,
    "start_time": "2021-12-30T16:28:11.295Z"
   },
   {
    "duration": 132,
    "start_time": "2021-12-30T16:30:22.539Z"
   },
   {
    "duration": 8,
    "start_time": "2021-12-30T16:30:25.592Z"
   },
   {
    "duration": 193,
    "start_time": "2021-12-30T16:30:26.787Z"
   },
   {
    "duration": 142,
    "start_time": "2021-12-30T16:30:52.030Z"
   },
   {
    "duration": 3,
    "start_time": "2021-12-30T16:31:50.189Z"
   },
   {
    "duration": 151,
    "start_time": "2021-12-30T16:31:50.194Z"
   },
   {
    "duration": 7,
    "start_time": "2021-12-30T16:31:50.347Z"
   },
   {
    "duration": 37,
    "start_time": "2021-12-30T16:31:50.356Z"
   },
   {
    "duration": 4,
    "start_time": "2021-12-30T16:31:50.395Z"
   },
   {
    "duration": 5,
    "start_time": "2021-12-30T16:31:50.400Z"
   },
   {
    "duration": 25,
    "start_time": "2021-12-30T16:31:50.406Z"
   },
   {
    "duration": 3,
    "start_time": "2021-12-30T16:31:50.433Z"
   },
   {
    "duration": 24,
    "start_time": "2021-12-30T16:31:50.438Z"
   },
   {
    "duration": 44,
    "start_time": "2021-12-30T16:31:50.464Z"
   },
   {
    "duration": 21,
    "start_time": "2021-12-30T16:31:50.510Z"
   },
   {
    "duration": 75,
    "start_time": "2021-12-30T16:31:50.533Z"
   },
   {
    "duration": 64,
    "start_time": "2021-12-30T16:31:50.609Z"
   },
   {
    "duration": 79,
    "start_time": "2021-12-30T16:31:50.674Z"
   },
   {
    "duration": 44,
    "start_time": "2021-12-30T16:31:50.755Z"
   },
   {
    "duration": 3,
    "start_time": "2021-12-30T16:31:50.801Z"
   },
   {
    "duration": 23,
    "start_time": "2021-12-30T16:31:50.805Z"
   },
   {
    "duration": 62,
    "start_time": "2021-12-30T16:31:50.830Z"
   },
   {
    "duration": 30,
    "start_time": "2021-12-30T16:31:50.894Z"
   },
   {
    "duration": 31,
    "start_time": "2021-12-30T16:31:50.926Z"
   },
   {
    "duration": 3,
    "start_time": "2021-12-30T16:31:50.959Z"
   },
   {
    "duration": 43,
    "start_time": "2021-12-30T16:31:50.964Z"
   },
   {
    "duration": 14,
    "start_time": "2021-12-30T16:31:51.008Z"
   },
   {
    "duration": 15,
    "start_time": "2021-12-30T16:31:51.025Z"
   },
   {
    "duration": 13,
    "start_time": "2021-12-30T16:31:51.042Z"
   },
   {
    "duration": 47,
    "start_time": "2021-12-30T16:31:51.057Z"
   },
   {
    "duration": 15,
    "start_time": "2021-12-30T16:31:51.106Z"
   },
   {
    "duration": 6,
    "start_time": "2021-12-30T16:31:51.123Z"
   },
   {
    "duration": 16,
    "start_time": "2021-12-30T16:31:51.131Z"
   },
   {
    "duration": 11,
    "start_time": "2021-12-30T16:31:51.149Z"
   },
   {
    "duration": 29,
    "start_time": "2021-12-30T16:31:51.162Z"
   },
   {
    "duration": 20,
    "start_time": "2021-12-30T16:31:51.193Z"
   },
   {
    "duration": 12,
    "start_time": "2021-12-30T16:31:51.215Z"
   },
   {
    "duration": 17,
    "start_time": "2021-12-30T16:31:51.229Z"
   },
   {
    "duration": 44,
    "start_time": "2021-12-30T16:31:51.248Z"
   },
   {
    "duration": 8,
    "start_time": "2021-12-30T16:31:51.294Z"
   },
   {
    "duration": 8,
    "start_time": "2021-12-30T16:31:51.304Z"
   },
   {
    "duration": 11,
    "start_time": "2021-12-30T16:31:51.314Z"
   },
   {
    "duration": 5,
    "start_time": "2021-12-30T16:31:51.327Z"
   },
   {
    "duration": 10,
    "start_time": "2022-01-01T11:32:18.097Z"
   }
  ],
  "colab": {
   "collapsed_sections": [
    "E0vqbgi9ay0H",
    "VUC88oWjTJw2"
   ],
   "name": "yandex_music_project_2021.2.ipynb",
   "provenance": []
  },
  "kernelspec": {
   "display_name": "Python 3 (ipykernel)",
   "language": "python",
   "name": "python3"
  },
  "language_info": {
   "codemirror_mode": {
    "name": "ipython",
    "version": 3
   },
   "file_extension": ".py",
   "mimetype": "text/x-python",
   "name": "python",
   "nbconvert_exporter": "python",
   "pygments_lexer": "ipython3",
   "version": "3.9.5"
  },
  "toc": {
   "base_numbering": 1,
   "nav_menu": {},
   "number_sections": true,
   "sideBar": true,
   "skip_h1_title": true,
   "title_cell": "Table of Contents",
   "title_sidebar": "Contents",
   "toc_cell": false,
   "toc_position": {},
   "toc_section_display": true,
   "toc_window_display": true
  }
 },
 "nbformat": 4,
 "nbformat_minor": 1
}
