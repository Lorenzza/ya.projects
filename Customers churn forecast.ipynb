{
 "cells": [
  {
   "cell_type": "markdown",
   "metadata": {
    "toc": true
   },
   "source": [
    "<h1>Содержание<span class=\"tocSkip\"></span></h1>\n",
    "<div class=\"toc\"><ul class=\"toc-item\"><li><span><a href=\"#Подготовка-данных\" data-toc-modified-id=\"Подготовка-данных-1\"><span class=\"toc-item-num\">1&nbsp;&nbsp;</span>Подготовка данных</a></span><ul class=\"toc-item\"><li><span><a href=\"#Изучение-файла\" data-toc-modified-id=\"Изучение-файла-1.1\"><span class=\"toc-item-num\">1.1&nbsp;&nbsp;</span>Изучение файла</a></span></li><li><span><a href=\"#Предобработка-данных\" data-toc-modified-id=\"Предобработка-данных-1.2\"><span class=\"toc-item-num\">1.2&nbsp;&nbsp;</span>Предобработка данных</a></span></li></ul></li><li><span><a href=\"#Исследование-задачи\" data-toc-modified-id=\"Исследование-задачи-2\"><span class=\"toc-item-num\">2&nbsp;&nbsp;</span>Исследование задачи</a></span><ul class=\"toc-item\"><li><span><a href=\"#Проверка-моделей-на-несбалансированной-таблице\" data-toc-modified-id=\"Проверка-моделей-на-несбалансированной-таблице-2.1\"><span class=\"toc-item-num\">2.1&nbsp;&nbsp;</span>Проверка моделей на несбалансированной таблице</a></span><ul class=\"toc-item\"><li><span><a href=\"#Дерево-решений\" data-toc-modified-id=\"Дерево-решений-2.1.1\"><span class=\"toc-item-num\">2.1.1&nbsp;&nbsp;</span>Дерево решений</a></span></li><li><span><a href=\"#Случайный-лес\" data-toc-modified-id=\"Случайный-лес-2.1.2\"><span class=\"toc-item-num\">2.1.2&nbsp;&nbsp;</span>Случайный лес</a></span></li><li><span><a href=\"#Логистическая-регрессия\" data-toc-modified-id=\"Логистическая-регрессия-2.1.3\"><span class=\"toc-item-num\">2.1.3&nbsp;&nbsp;</span>Логистическая регрессия</a></span></li></ul></li><li><span><a href=\"#Проверка-модели-после-масштабирования-признаков\" data-toc-modified-id=\"Проверка-модели-после-масштабирования-признаков-2.2\"><span class=\"toc-item-num\">2.2&nbsp;&nbsp;</span>Проверка модели после масштабирования признаков</a></span><ul class=\"toc-item\"><li><span><a href=\"#Дерево-решений\" data-toc-modified-id=\"Дерево-решений-2.2.1\"><span class=\"toc-item-num\">2.2.1&nbsp;&nbsp;</span>Дерево решений</a></span></li><li><span><a href=\"#Случайный-лес\" data-toc-modified-id=\"Случайный-лес-2.2.2\"><span class=\"toc-item-num\">2.2.2&nbsp;&nbsp;</span>Случайный лес</a></span></li><li><span><a href=\"#Логистическая-регрессия\" data-toc-modified-id=\"Логистическая-регрессия-2.2.3\"><span class=\"toc-item-num\">2.2.3&nbsp;&nbsp;</span>Логистическая регрессия</a></span></li></ul></li></ul></li><li><span><a href=\"#Борьба-с-дисбалансом\" data-toc-modified-id=\"Борьба-с-дисбалансом-3\"><span class=\"toc-item-num\">3&nbsp;&nbsp;</span>Борьба с дисбалансом</a></span></li><li><span><a href=\"#Тестирование-модели\" data-toc-modified-id=\"Тестирование-модели-4\"><span class=\"toc-item-num\">4&nbsp;&nbsp;</span>Тестирование модели</a></span></li><li><span><a href=\"#Чек-лист-готовности-проекта\" data-toc-modified-id=\"Чек-лист-готовности-проекта-5\"><span class=\"toc-item-num\">5&nbsp;&nbsp;</span>Чек-лист готовности проекта</a></span></li></ul></div>"
   ]
  },
  {
   "cell_type": "markdown",
   "metadata": {},
   "source": [
    "# Отток клиентов"
   ]
  },
  {
   "cell_type": "markdown",
   "metadata": {},
   "source": [
    "Из «Бета-Банка» стали уходить клиенты. Каждый месяц. Немного, но заметно. Банковские маркетологи посчитали: сохранять текущих клиентов дешевле, чем привлекать новых.\n",
    "\n",
    "Нужно спрогнозировать, уйдёт клиент из банка в ближайшее время или нет. Вам предоставлены исторические данные о поведении клиентов и расторжении договоров с банком. \n",
    "\n",
    "Постройте модель с предельно большим значением *F1*-меры. Чтобы сдать проект успешно, нужно довести метрику до 0.59. Проверьте *F1*-меру на тестовой выборке самостоятельно.\n",
    "\n",
    "Дополнительно измеряйте *AUC-ROC*, сравнивайте её значение с *F1*-мерой.\n",
    "\n",
    "Источник данных: [https://www.kaggle.com/barelydedicated/bank-customer-churn-modeling](https://www.kaggle.com/barelydedicated/bank-customer-churn-modeling)"
   ]
  },
  {
   "cell_type": "code",
   "execution_count": 1,
   "metadata": {},
   "outputs": [
    {
     "name": "stdout",
     "output_type": "stream",
     "text": [
      "Requirement already satisfied: jupyterthemes in /opt/conda/lib/python3.9/site-packages (0.20.0)\n",
      "Requirement already satisfied: notebook>=5.6.0 in /opt/conda/lib/python3.9/site-packages (from jupyterthemes) (6.4.6)\n",
      "Requirement already satisfied: lesscpy>=0.11.2 in /opt/conda/lib/python3.9/site-packages (from jupyterthemes) (0.15.0)\n",
      "Requirement already satisfied: matplotlib>=1.4.3 in /opt/conda/lib/python3.9/site-packages (from jupyterthemes) (3.3.4)\n",
      "Requirement already satisfied: jupyter-core in /opt/conda/lib/python3.9/site-packages (from jupyterthemes) (4.9.1)\n",
      "Requirement already satisfied: ipython>=5.4.1 in /opt/conda/lib/python3.9/site-packages (from jupyterthemes) (7.29.0)\n",
      "Requirement already satisfied: prompt-toolkit!=3.0.0,!=3.0.1,<3.1.0,>=2.0.0 in /opt/conda/lib/python3.9/site-packages (from ipython>=5.4.1->jupyterthemes) (3.0.22)\n",
      "Requirement already satisfied: backcall in /opt/conda/lib/python3.9/site-packages (from ipython>=5.4.1->jupyterthemes) (0.2.0)\n",
      "Requirement already satisfied: pexpect>4.3 in /opt/conda/lib/python3.9/site-packages (from ipython>=5.4.1->jupyterthemes) (4.8.0)\n",
      "Requirement already satisfied: pickleshare in /opt/conda/lib/python3.9/site-packages (from ipython>=5.4.1->jupyterthemes) (0.7.5)\n",
      "Requirement already satisfied: setuptools>=18.5 in /opt/conda/lib/python3.9/site-packages (from ipython>=5.4.1->jupyterthemes) (59.2.0)\n",
      "Requirement already satisfied: decorator in /opt/conda/lib/python3.9/site-packages (from ipython>=5.4.1->jupyterthemes) (5.1.0)\n",
      "Requirement already satisfied: pygments in /opt/conda/lib/python3.9/site-packages (from ipython>=5.4.1->jupyterthemes) (2.10.0)\n",
      "Requirement already satisfied: jedi>=0.16 in /opt/conda/lib/python3.9/site-packages (from ipython>=5.4.1->jupyterthemes) (0.18.1)\n",
      "Requirement already satisfied: matplotlib-inline in /opt/conda/lib/python3.9/site-packages (from ipython>=5.4.1->jupyterthemes) (0.1.3)\n",
      "Requirement already satisfied: traitlets>=4.2 in /opt/conda/lib/python3.9/site-packages (from ipython>=5.4.1->jupyterthemes) (5.1.1)\n",
      "Requirement already satisfied: six in /opt/conda/lib/python3.9/site-packages (from lesscpy>=0.11.2->jupyterthemes) (1.16.0)\n",
      "Requirement already satisfied: ply in /opt/conda/lib/python3.9/site-packages (from lesscpy>=0.11.2->jupyterthemes) (3.11)\n",
      "Requirement already satisfied: pyparsing!=2.0.4,!=2.1.2,!=2.1.6,>=2.0.3 in /opt/conda/lib/python3.9/site-packages (from matplotlib>=1.4.3->jupyterthemes) (3.0.6)\n",
      "Requirement already satisfied: cycler>=0.10 in /opt/conda/lib/python3.9/site-packages (from matplotlib>=1.4.3->jupyterthemes) (0.11.0)\n",
      "Requirement already satisfied: python-dateutil>=2.1 in /opt/conda/lib/python3.9/site-packages (from matplotlib>=1.4.3->jupyterthemes) (2.8.2)\n",
      "Requirement already satisfied: kiwisolver>=1.0.1 in /opt/conda/lib/python3.9/site-packages (from matplotlib>=1.4.3->jupyterthemes) (1.4.2)\n",
      "Requirement already satisfied: numpy>=1.15 in /opt/conda/lib/python3.9/site-packages (from matplotlib>=1.4.3->jupyterthemes) (1.22.3)\n",
      "Requirement already satisfied: pillow>=6.2.0 in /opt/conda/lib/python3.9/site-packages (from matplotlib>=1.4.3->jupyterthemes) (8.4.0)\n",
      "Requirement already satisfied: ipython-genutils in /opt/conda/lib/python3.9/site-packages (from notebook>=5.6.0->jupyterthemes) (0.2.0)\n",
      "Requirement already satisfied: pyzmq>=17 in /opt/conda/lib/python3.9/site-packages (from notebook>=5.6.0->jupyterthemes) (22.3.0)\n",
      "Requirement already satisfied: jinja2 in /opt/conda/lib/python3.9/site-packages (from notebook>=5.6.0->jupyterthemes) (3.0.3)\n",
      "Requirement already satisfied: Send2Trash>=1.8.0 in /opt/conda/lib/python3.9/site-packages (from notebook>=5.6.0->jupyterthemes) (1.8.0)\n",
      "Requirement already satisfied: nbconvert in /opt/conda/lib/python3.9/site-packages (from notebook>=5.6.0->jupyterthemes) (6.3.0)\n",
      "Requirement already satisfied: terminado>=0.8.3 in /opt/conda/lib/python3.9/site-packages (from notebook>=5.6.0->jupyterthemes) (0.12.1)\n",
      "Requirement already satisfied: nest-asyncio>=1.5 in /opt/conda/lib/python3.9/site-packages (from notebook>=5.6.0->jupyterthemes) (1.5.1)\n",
      "Requirement already satisfied: argon2-cffi in /opt/conda/lib/python3.9/site-packages (from notebook>=5.6.0->jupyterthemes) (21.1.0)\n",
      "Requirement already satisfied: jupyter-client>=5.3.4 in /opt/conda/lib/python3.9/site-packages (from notebook>=5.6.0->jupyterthemes) (7.0.6)\n",
      "Requirement already satisfied: tornado>=6.1 in /opt/conda/lib/python3.9/site-packages (from notebook>=5.6.0->jupyterthemes) (6.1)\n",
      "Requirement already satisfied: prometheus-client in /opt/conda/lib/python3.9/site-packages (from notebook>=5.6.0->jupyterthemes) (0.12.0)\n",
      "Requirement already satisfied: nbformat in /opt/conda/lib/python3.9/site-packages (from notebook>=5.6.0->jupyterthemes) (5.1.3)\n",
      "Requirement already satisfied: ipykernel in /opt/conda/lib/python3.9/site-packages (from notebook>=5.6.0->jupyterthemes) (6.5.0)\n",
      "Requirement already satisfied: parso<0.9.0,>=0.8.0 in /opt/conda/lib/python3.9/site-packages (from jedi>=0.16->ipython>=5.4.1->jupyterthemes) (0.8.2)\n",
      "Requirement already satisfied: entrypoints in /opt/conda/lib/python3.9/site-packages (from jupyter-client>=5.3.4->notebook>=5.6.0->jupyterthemes) (0.3)\n",
      "Requirement already satisfied: ptyprocess>=0.5 in /opt/conda/lib/python3.9/site-packages (from pexpect>4.3->ipython>=5.4.1->jupyterthemes) (0.7.0)\n",
      "Requirement already satisfied: wcwidth in /opt/conda/lib/python3.9/site-packages (from prompt-toolkit!=3.0.0,!=3.0.1,<3.1.0,>=2.0.0->ipython>=5.4.1->jupyterthemes) (0.2.5)\n",
      "Requirement already satisfied: cffi>=1.0.0 in /opt/conda/lib/python3.9/site-packages (from argon2-cffi->notebook>=5.6.0->jupyterthemes) (1.15.0)\n",
      "Requirement already satisfied: debugpy<2.0,>=1.0.0 in /opt/conda/lib/python3.9/site-packages (from ipykernel->notebook>=5.6.0->jupyterthemes) (1.5.1)\n",
      "Requirement already satisfied: MarkupSafe>=2.0 in /opt/conda/lib/python3.9/site-packages (from jinja2->notebook>=5.6.0->jupyterthemes) (2.0.1)\n",
      "Requirement already satisfied: pandocfilters>=1.4.1 in /opt/conda/lib/python3.9/site-packages (from nbconvert->notebook>=5.6.0->jupyterthemes) (1.5.0)\n",
      "Requirement already satisfied: mistune<2,>=0.8.1 in /opt/conda/lib/python3.9/site-packages (from nbconvert->notebook>=5.6.0->jupyterthemes) (0.8.4)\n",
      "Requirement already satisfied: jupyterlab-pygments in /opt/conda/lib/python3.9/site-packages (from nbconvert->notebook>=5.6.0->jupyterthemes) (0.1.2)\n",
      "Requirement already satisfied: testpath in /opt/conda/lib/python3.9/site-packages (from nbconvert->notebook>=5.6.0->jupyterthemes) (0.5.0)\n",
      "Requirement already satisfied: bleach in /opt/conda/lib/python3.9/site-packages (from nbconvert->notebook>=5.6.0->jupyterthemes) (4.1.0)\n",
      "Requirement already satisfied: defusedxml in /opt/conda/lib/python3.9/site-packages (from nbconvert->notebook>=5.6.0->jupyterthemes) (0.7.1)\n",
      "Requirement already satisfied: nbclient<0.6.0,>=0.5.0 in /opt/conda/lib/python3.9/site-packages (from nbconvert->notebook>=5.6.0->jupyterthemes) (0.5.9)\n",
      "Requirement already satisfied: jsonschema!=2.5.0,>=2.4 in /opt/conda/lib/python3.9/site-packages (from nbformat->notebook>=5.6.0->jupyterthemes) (4.2.1)\n",
      "Requirement already satisfied: pycparser in /opt/conda/lib/python3.9/site-packages (from cffi>=1.0.0->argon2-cffi->notebook>=5.6.0->jupyterthemes) (2.21)\n",
      "Requirement already satisfied: attrs>=17.4.0 in /opt/conda/lib/python3.9/site-packages (from jsonschema!=2.5.0,>=2.4->nbformat->notebook>=5.6.0->jupyterthemes) (21.2.0)\n",
      "Requirement already satisfied: pyrsistent!=0.17.0,!=0.17.1,!=0.17.2,>=0.14.0 in /opt/conda/lib/python3.9/site-packages (from jsonschema!=2.5.0,>=2.4->nbformat->notebook>=5.6.0->jupyterthemes) (0.18.0)\n",
      "Requirement already satisfied: packaging in /opt/conda/lib/python3.9/site-packages (from bleach->nbconvert->notebook>=5.6.0->jupyterthemes) (21.3)\n",
      "Requirement already satisfied: webencodings in /opt/conda/lib/python3.9/site-packages (from bleach->nbconvert->notebook>=5.6.0->jupyterthemes) (0.5.1)\n",
      "Note: you may need to restart the kernel to use updated packages.\n"
     ]
    }
   ],
   "source": [
    "pip install jupyterthemes"
   ]
  },
  {
   "cell_type": "code",
   "execution_count": 2,
   "metadata": {
    "scrolled": true
   },
   "outputs": [
    {
     "name": "stdout",
     "output_type": "stream",
     "text": [
      "Available Themes: \r\n",
      "   chesterish\r\n",
      "   grade3\r\n",
      "   gruvboxd\r\n",
      "   gruvboxl\r\n",
      "   monokai\r\n",
      "   oceans16\r\n",
      "   onedork\r\n",
      "   solarizedd\r\n",
      "   solarizedl\r\n"
     ]
    }
   ],
   "source": [
    "!jt -l"
   ]
  },
  {
   "cell_type": "code",
   "execution_count": 3,
   "metadata": {},
   "outputs": [],
   "source": [
    "!jt -t solarizedl -T -N -kl"
   ]
  },
  {
   "cell_type": "markdown",
   "metadata": {},
   "source": [
    "## Подготовка данных"
   ]
  },
  {
   "cell_type": "markdown",
   "metadata": {},
   "source": [
    "### Изучение файла"
   ]
  },
  {
   "cell_type": "code",
   "execution_count": 4,
   "metadata": {},
   "outputs": [],
   "source": [
    "import pandas as pd\n",
    "import matplotlib.pyplot as plt\n",
    "import seaborn as sns\n",
    "import numpy as np\n",
    "from sklearn.model_selection import train_test_split\n",
    "#from sklearn.linear_model import LinearRegression\n",
    "#from sklearn.tree import DecisionTreeRegressor\n",
    "#from sklearn.ensemble import RandomForestRegressor\n",
    "from sklearn.preprocessing import OrdinalEncoder\n",
    "from sklearn.metrics import mean_squared_error \n",
    "from sklearn.metrics import mean_absolute_error\n",
    "from sklearn.ensemble import RandomForestClassifier\n",
    "from sklearn.tree import DecisionTreeClassifier\n",
    "from sklearn.linear_model import LogisticRegression\n",
    "from sklearn.model_selection import train_test_split\n",
    "from sklearn.dummy import DummyClassifier\n",
    "from sklearn.metrics import accuracy_score\n",
    "from sklearn.metrics import f1_score\n",
    "from sklearn.metrics import roc_curve\n",
    "from sklearn.metrics import roc_auc_score\n",
    "from sklearn.utils import shuffle\n",
    "from sklearn.preprocessing import StandardScaler\n"
   ]
  },
  {
   "cell_type": "code",
   "execution_count": 5,
   "metadata": {},
   "outputs": [],
   "source": [
    "pd.options.mode.chained_assignment = None"
   ]
  },
  {
   "cell_type": "markdown",
   "metadata": {},
   "source": [
    "<div class=\"alert alert-success\">\n",
    "<h2>Комментарий ревьюера<a class=\"tocSkip\"></a></h2>\n",
    "    \n",
    "**Отлично!** ✔️: все импорты в одном месте, удобно :)</div>"
   ]
  },
  {
   "cell_type": "code",
   "execution_count": 6,
   "metadata": {
    "scrolled": true
   },
   "outputs": [
    {
     "name": "stdout",
     "output_type": "stream",
     "text": [
      "<class 'pandas.core.frame.DataFrame'>\n",
      "RangeIndex: 10000 entries, 0 to 9999\n",
      "Data columns (total 14 columns):\n",
      " #   Column           Non-Null Count  Dtype  \n",
      "---  ------           --------------  -----  \n",
      " 0   RowNumber        10000 non-null  int64  \n",
      " 1   CustomerId       10000 non-null  int64  \n",
      " 2   Surname          10000 non-null  object \n",
      " 3   CreditScore      10000 non-null  int64  \n",
      " 4   Geography        10000 non-null  object \n",
      " 5   Gender           10000 non-null  object \n",
      " 6   Age              10000 non-null  int64  \n",
      " 7   Tenure           9091 non-null   float64\n",
      " 8   Balance          10000 non-null  float64\n",
      " 9   NumOfProducts    10000 non-null  int64  \n",
      " 10  HasCrCard        10000 non-null  int64  \n",
      " 11  IsActiveMember   10000 non-null  int64  \n",
      " 12  EstimatedSalary  10000 non-null  float64\n",
      " 13  Exited           10000 non-null  int64  \n",
      "dtypes: float64(3), int64(8), object(3)\n",
      "memory usage: 1.1+ MB\n"
     ]
    }
   ],
   "source": [
    "data = pd.read_csv('/datasets/Churn.csv')\n",
    "data.info()"
   ]
  },
  {
   "cell_type": "code",
   "execution_count": 7,
   "metadata": {},
   "outputs": [
    {
     "data": {
      "text/html": [
       "<div>\n",
       "<style scoped>\n",
       "    .dataframe tbody tr th:only-of-type {\n",
       "        vertical-align: middle;\n",
       "    }\n",
       "\n",
       "    .dataframe tbody tr th {\n",
       "        vertical-align: top;\n",
       "    }\n",
       "\n",
       "    .dataframe thead th {\n",
       "        text-align: right;\n",
       "    }\n",
       "</style>\n",
       "<table border=\"1\" class=\"dataframe\">\n",
       "  <thead>\n",
       "    <tr style=\"text-align: right;\">\n",
       "      <th></th>\n",
       "      <th>RowNumber</th>\n",
       "      <th>CustomerId</th>\n",
       "      <th>Surname</th>\n",
       "      <th>CreditScore</th>\n",
       "      <th>Geography</th>\n",
       "      <th>Gender</th>\n",
       "      <th>Age</th>\n",
       "      <th>Tenure</th>\n",
       "      <th>Balance</th>\n",
       "      <th>NumOfProducts</th>\n",
       "      <th>HasCrCard</th>\n",
       "      <th>IsActiveMember</th>\n",
       "      <th>EstimatedSalary</th>\n",
       "      <th>Exited</th>\n",
       "    </tr>\n",
       "  </thead>\n",
       "  <tbody>\n",
       "    <tr>\n",
       "      <th>0</th>\n",
       "      <td>1</td>\n",
       "      <td>15634602</td>\n",
       "      <td>Hargrave</td>\n",
       "      <td>619</td>\n",
       "      <td>France</td>\n",
       "      <td>Female</td>\n",
       "      <td>42</td>\n",
       "      <td>2.0</td>\n",
       "      <td>0.00</td>\n",
       "      <td>1</td>\n",
       "      <td>1</td>\n",
       "      <td>1</td>\n",
       "      <td>101348.88</td>\n",
       "      <td>1</td>\n",
       "    </tr>\n",
       "    <tr>\n",
       "      <th>1</th>\n",
       "      <td>2</td>\n",
       "      <td>15647311</td>\n",
       "      <td>Hill</td>\n",
       "      <td>608</td>\n",
       "      <td>Spain</td>\n",
       "      <td>Female</td>\n",
       "      <td>41</td>\n",
       "      <td>1.0</td>\n",
       "      <td>83807.86</td>\n",
       "      <td>1</td>\n",
       "      <td>0</td>\n",
       "      <td>1</td>\n",
       "      <td>112542.58</td>\n",
       "      <td>0</td>\n",
       "    </tr>\n",
       "    <tr>\n",
       "      <th>2</th>\n",
       "      <td>3</td>\n",
       "      <td>15619304</td>\n",
       "      <td>Onio</td>\n",
       "      <td>502</td>\n",
       "      <td>France</td>\n",
       "      <td>Female</td>\n",
       "      <td>42</td>\n",
       "      <td>8.0</td>\n",
       "      <td>159660.80</td>\n",
       "      <td>3</td>\n",
       "      <td>1</td>\n",
       "      <td>0</td>\n",
       "      <td>113931.57</td>\n",
       "      <td>1</td>\n",
       "    </tr>\n",
       "    <tr>\n",
       "      <th>3</th>\n",
       "      <td>4</td>\n",
       "      <td>15701354</td>\n",
       "      <td>Boni</td>\n",
       "      <td>699</td>\n",
       "      <td>France</td>\n",
       "      <td>Female</td>\n",
       "      <td>39</td>\n",
       "      <td>1.0</td>\n",
       "      <td>0.00</td>\n",
       "      <td>2</td>\n",
       "      <td>0</td>\n",
       "      <td>0</td>\n",
       "      <td>93826.63</td>\n",
       "      <td>0</td>\n",
       "    </tr>\n",
       "    <tr>\n",
       "      <th>4</th>\n",
       "      <td>5</td>\n",
       "      <td>15737888</td>\n",
       "      <td>Mitchell</td>\n",
       "      <td>850</td>\n",
       "      <td>Spain</td>\n",
       "      <td>Female</td>\n",
       "      <td>43</td>\n",
       "      <td>2.0</td>\n",
       "      <td>125510.82</td>\n",
       "      <td>1</td>\n",
       "      <td>1</td>\n",
       "      <td>1</td>\n",
       "      <td>79084.10</td>\n",
       "      <td>0</td>\n",
       "    </tr>\n",
       "    <tr>\n",
       "      <th>5</th>\n",
       "      <td>6</td>\n",
       "      <td>15574012</td>\n",
       "      <td>Chu</td>\n",
       "      <td>645</td>\n",
       "      <td>Spain</td>\n",
       "      <td>Male</td>\n",
       "      <td>44</td>\n",
       "      <td>8.0</td>\n",
       "      <td>113755.78</td>\n",
       "      <td>2</td>\n",
       "      <td>1</td>\n",
       "      <td>0</td>\n",
       "      <td>149756.71</td>\n",
       "      <td>1</td>\n",
       "    </tr>\n",
       "    <tr>\n",
       "      <th>6</th>\n",
       "      <td>7</td>\n",
       "      <td>15592531</td>\n",
       "      <td>Bartlett</td>\n",
       "      <td>822</td>\n",
       "      <td>France</td>\n",
       "      <td>Male</td>\n",
       "      <td>50</td>\n",
       "      <td>7.0</td>\n",
       "      <td>0.00</td>\n",
       "      <td>2</td>\n",
       "      <td>1</td>\n",
       "      <td>1</td>\n",
       "      <td>10062.80</td>\n",
       "      <td>0</td>\n",
       "    </tr>\n",
       "    <tr>\n",
       "      <th>7</th>\n",
       "      <td>8</td>\n",
       "      <td>15656148</td>\n",
       "      <td>Obinna</td>\n",
       "      <td>376</td>\n",
       "      <td>Germany</td>\n",
       "      <td>Female</td>\n",
       "      <td>29</td>\n",
       "      <td>4.0</td>\n",
       "      <td>115046.74</td>\n",
       "      <td>4</td>\n",
       "      <td>1</td>\n",
       "      <td>0</td>\n",
       "      <td>119346.88</td>\n",
       "      <td>1</td>\n",
       "    </tr>\n",
       "    <tr>\n",
       "      <th>8</th>\n",
       "      <td>9</td>\n",
       "      <td>15792365</td>\n",
       "      <td>He</td>\n",
       "      <td>501</td>\n",
       "      <td>France</td>\n",
       "      <td>Male</td>\n",
       "      <td>44</td>\n",
       "      <td>4.0</td>\n",
       "      <td>142051.07</td>\n",
       "      <td>2</td>\n",
       "      <td>0</td>\n",
       "      <td>1</td>\n",
       "      <td>74940.50</td>\n",
       "      <td>0</td>\n",
       "    </tr>\n",
       "    <tr>\n",
       "      <th>9</th>\n",
       "      <td>10</td>\n",
       "      <td>15592389</td>\n",
       "      <td>H?</td>\n",
       "      <td>684</td>\n",
       "      <td>France</td>\n",
       "      <td>Male</td>\n",
       "      <td>27</td>\n",
       "      <td>2.0</td>\n",
       "      <td>134603.88</td>\n",
       "      <td>1</td>\n",
       "      <td>1</td>\n",
       "      <td>1</td>\n",
       "      <td>71725.73</td>\n",
       "      <td>0</td>\n",
       "    </tr>\n",
       "  </tbody>\n",
       "</table>\n",
       "</div>"
      ],
      "text/plain": [
       "   RowNumber  CustomerId   Surname  CreditScore Geography  Gender  Age  \\\n",
       "0          1    15634602  Hargrave          619    France  Female   42   \n",
       "1          2    15647311      Hill          608     Spain  Female   41   \n",
       "2          3    15619304      Onio          502    France  Female   42   \n",
       "3          4    15701354      Boni          699    France  Female   39   \n",
       "4          5    15737888  Mitchell          850     Spain  Female   43   \n",
       "5          6    15574012       Chu          645     Spain    Male   44   \n",
       "6          7    15592531  Bartlett          822    France    Male   50   \n",
       "7          8    15656148    Obinna          376   Germany  Female   29   \n",
       "8          9    15792365        He          501    France    Male   44   \n",
       "9         10    15592389        H?          684    France    Male   27   \n",
       "\n",
       "   Tenure    Balance  NumOfProducts  HasCrCard  IsActiveMember  \\\n",
       "0     2.0       0.00              1          1               1   \n",
       "1     1.0   83807.86              1          0               1   \n",
       "2     8.0  159660.80              3          1               0   \n",
       "3     1.0       0.00              2          0               0   \n",
       "4     2.0  125510.82              1          1               1   \n",
       "5     8.0  113755.78              2          1               0   \n",
       "6     7.0       0.00              2          1               1   \n",
       "7     4.0  115046.74              4          1               0   \n",
       "8     4.0  142051.07              2          0               1   \n",
       "9     2.0  134603.88              1          1               1   \n",
       "\n",
       "   EstimatedSalary  Exited  \n",
       "0        101348.88       1  \n",
       "1        112542.58       0  \n",
       "2        113931.57       1  \n",
       "3         93826.63       0  \n",
       "4         79084.10       0  \n",
       "5        149756.71       1  \n",
       "6         10062.80       0  \n",
       "7        119346.88       1  \n",
       "8         74940.50       0  \n",
       "9         71725.73       0  "
      ]
     },
     "execution_count": 7,
     "metadata": {},
     "output_type": "execute_result"
    }
   ],
   "source": [
    "data.head(10)"
   ]
  },
  {
   "cell_type": "markdown",
   "metadata": {},
   "source": [
    "**Признаки**\n",
    "RowNumber — индекс строки в данных\n",
    "CustomerId — уникальный идентификатор клиента\n",
    "Surname — фамилия\n",
    "CreditScore — кредитный рейтинг\n",
    "Geography — страна проживания\n",
    "Gender — пол\n",
    "Age — возраст\n",
    "Tenure — сколько лет человек является клиентом банка\n",
    "Balance — баланс на счёте\n",
    "NumOfProducts — количество продуктов банка, используемых клиентом\n",
    "HasCrCard — наличие кредитной карты\n",
    "IsActiveMember — активность клиента\n",
    "EstimatedSalary — предполагаемая зарплата\n",
    "**Целевой признак**\n",
    "Exited — факт ухода клиента\n",
    "\n"
   ]
  },
  {
   "cell_type": "code",
   "execution_count": 8,
   "metadata": {},
   "outputs": [
    {
     "data": {
      "text/plain": [
       "0"
      ]
     },
     "execution_count": 8,
     "metadata": {},
     "output_type": "execute_result"
    }
   ],
   "source": [
    "data.duplicated().sum()"
   ]
  },
  {
   "cell_type": "code",
   "execution_count": 9,
   "metadata": {},
   "outputs": [
    {
     "name": "stdout",
     "output_type": "stream",
     "text": [
      "Таблица представляет собой массив из 14 столбцов и 10000 строк\n",
      "\n",
      "Таблица содержит пропуски в столбцах ['Tenure']. Пропуски в 1 столбцах из 14\n",
      "\n",
      "Полностью заполнены и не содержат пропусков столбцы ['RowNumber', 'CustomerId', 'Surname', 'CreditScore', 'Geography', 'Gender', 'Age', 'Balance', 'NumOfProducts', 'HasCrCard', 'IsActiveMember', 'EstimatedSalary', 'Exited'], всего 13 полностью заполненных столбцов\n"
     ]
    }
   ],
   "source": [
    "print(f'Таблица представляет собой массив из {data.shape[1]} столбцов и {data.shape[0]} строк')\n",
    "print(\"\")\n",
    "gap_columns = []\n",
    "for column in data.columns:\n",
    "    if data[column].count() < data.shape[0]:\n",
    "        gap_columns.append(column)\n",
    "        \n",
    "print(f'Таблица содержит пропуски в столбцах {gap_columns}. Пропуски в {len(gap_columns)} столбцах из {data.shape[1]}')\n",
    "\n",
    "full_columns = []\n",
    "for column in data.columns:\n",
    "    if data[column].count() == data.shape[0]:\n",
    "        full_columns.append(column)\n",
    "print(\"\")\n",
    "print(f'Полностью заполнены и не содержат пропусков столбцы {full_columns}, всего {len(full_columns)} полностью заполненных столбцов')"
   ]
  },
  {
   "cell_type": "code",
   "execution_count": 10,
   "metadata": {},
   "outputs": [
    {
     "name": "stdout",
     "output_type": "stream",
     "text": [
      "Таблица представляет собой массив из 14 столбцов и 10000 строк. Таблица содержит пропуски в столбцах ['Tenure']. Пропуски в 1 столбцах из 14. Полностью заполнены и не содержат пропусков столбцы ['RowNumber', 'CustomerId', 'Surname', 'CreditScore', 'Geography', 'Gender', 'Age', 'Balance', 'NumOfProducts', 'HasCrCard', 'IsActiveMember', 'EstimatedSalary', 'Exited'], всего 13 полностью заполненных столбцов.\n"
     ]
    }
   ],
   "source": [
    "def gaps(datafile):\n",
    "    gap_columns = []\n",
    "    for column in datafile.columns:\n",
    "        if datafile[column].count() < datafile.shape[0]:\n",
    "            gap_columns.append(column)\n",
    "    \n",
    "    full_columns = []\n",
    "    for column in datafile.columns:\n",
    "        if datafile[column].count() == datafile.shape[0]:\n",
    "            full_columns.append(column)\n",
    "    gaps_text = ('Таблица представляет собой массив из ' + str(datafile.shape[1]) \n",
    "                 + ' столбцов и '+ str(datafile.shape[0]) + ' строк. ' +\n",
    "                'Таблица содержит пропуски в столбцах ' + str(gap_columns) + '. Пропуски в ' + str(len(gap_columns)) + ' столбцах из ' + str(datafile.shape[1])\n",
    "                 +'. Полностью заполнены и не содержат пропусков столбцы ' + str(full_columns) \n",
    "                 + ', всего ' + str(len(full_columns)) + ' полностью заполненных столбцов.')\n",
    "    return gaps_text\n",
    "\n",
    "print(gaps(data))"
   ]
  },
  {
   "cell_type": "markdown",
   "metadata": {},
   "source": [
    "Таблица data содержит пропуски в столбце Tenure - число лет сотрудничества с банком.\n",
    "Явных дубликатов нет. \n",
    "Наименования столбцов имеют неприемлемый вид: сочетание строчных и прописных букв,не \"змеиный\" стиль,но хотя бы соотносятся с информацией в столбцах по смыслу.\n",
    "\n",
    "Данные в столбцах 'HasCrCard', 'IsActiveMember','Exited' - int64, на \n",
    "самом деле - это тип 'bool', но этот тип менять не будем, чтобы не перемудрить.\n"
   ]
  },
  {
   "cell_type": "markdown",
   "metadata": {},
   "source": [
    "Проверим столбец с географией для поиска скрытых дубликатов:"
   ]
  },
  {
   "cell_type": "code",
   "execution_count": 11,
   "metadata": {
    "scrolled": true
   },
   "outputs": [
    {
     "data": {
      "text/plain": [
       "France     5014\n",
       "Germany    2509\n",
       "Spain      2477\n",
       "Name: Geography, dtype: int64"
      ]
     },
     "execution_count": 11,
     "metadata": {},
     "output_type": "execute_result"
    }
   ],
   "source": [
    "data['Geography'].value_counts()"
   ]
  },
  {
   "cell_type": "markdown",
   "metadata": {},
   "source": [
    "Нет, здесь всё ок."
   ]
  },
  {
   "cell_type": "code",
   "execution_count": 12,
   "metadata": {
    "scrolled": false
   },
   "outputs": [
    {
     "data": {
      "text/plain": [
       "1.0     952\n",
       "2.0     950\n",
       "8.0     933\n",
       "3.0     928\n",
       "5.0     927\n",
       "7.0     925\n",
       "4.0     885\n",
       "9.0     882\n",
       "6.0     881\n",
       "10.0    446\n",
       "0.0     382\n",
       "Name: Tenure, dtype: int64"
      ]
     },
     "execution_count": 12,
     "metadata": {},
     "output_type": "execute_result"
    }
   ],
   "source": [
    "data['Tenure'].value_counts()"
   ]
  },
  {
   "cell_type": "code",
   "execution_count": 13,
   "metadata": {
    "scrolled": true
   },
   "outputs": [
    {
     "data": {
      "text/plain": [
       "<AxesSubplot:>"
      ]
     },
     "execution_count": 13,
     "metadata": {},
     "output_type": "execute_result"
    },
    {
     "data": {
      "image/png": "[encoded data removed]",
      "text/plain": [
       "<Figure size 432x288 with 1 Axes>"
      ]
     },
     "metadata": {
      "needs_background": "light"
     },
     "output_type": "display_data"
    }
   ],
   "source": [
    "data['Tenure'].hist(bins = 11)"
   ]
  },
  {
   "cell_type": "markdown",
   "metadata": {},
   "source": [
    "Оставим здесь график, чтобы сравнить с ситуацией после заполнения пропусков."
   ]
  },
  {
   "cell_type": "markdown",
   "metadata": {},
   "source": [
    "Данные в столбце 'Tenure' -non-null float64 являются на самом деле целыми, а не вещественными числами."
   ]
  },
  {
   "cell_type": "code",
   "execution_count": 14,
   "metadata": {
    "scrolled": true
   },
   "outputs": [],
   "source": [
    "#sns.pairplot(data, hue=\"Exited\")"
   ]
  },
  {
   "cell_type": "code",
   "execution_count": 15,
   "metadata": {
    "scrolled": true
   },
   "outputs": [
    {
     "data": {
      "text/html": [
       "<div>\n",
       "<style scoped>\n",
       "    .dataframe tbody tr th:only-of-type {\n",
       "        vertical-align: middle;\n",
       "    }\n",
       "\n",
       "    .dataframe tbody tr th {\n",
       "        vertical-align: top;\n",
       "    }\n",
       "\n",
       "    .dataframe thead th {\n",
       "        text-align: right;\n",
       "    }\n",
       "</style>\n",
       "<table border=\"1\" class=\"dataframe\">\n",
       "  <thead>\n",
       "    <tr style=\"text-align: right;\">\n",
       "      <th></th>\n",
       "      <th>RowNumber</th>\n",
       "      <th>CustomerId</th>\n",
       "      <th>CreditScore</th>\n",
       "      <th>Age</th>\n",
       "      <th>Tenure</th>\n",
       "      <th>Balance</th>\n",
       "      <th>NumOfProducts</th>\n",
       "      <th>HasCrCard</th>\n",
       "      <th>IsActiveMember</th>\n",
       "      <th>EstimatedSalary</th>\n",
       "      <th>Exited</th>\n",
       "    </tr>\n",
       "  </thead>\n",
       "  <tbody>\n",
       "    <tr>\n",
       "      <th>RowNumber</th>\n",
       "      <td>1.000000</td>\n",
       "      <td>0.004202</td>\n",
       "      <td>0.005840</td>\n",
       "      <td>0.000783</td>\n",
       "      <td>-0.007322</td>\n",
       "      <td>-0.009067</td>\n",
       "      <td>0.007246</td>\n",
       "      <td>0.000599</td>\n",
       "      <td>0.012044</td>\n",
       "      <td>-0.005988</td>\n",
       "      <td>-0.016571</td>\n",
       "    </tr>\n",
       "    <tr>\n",
       "      <th>CustomerId</th>\n",
       "      <td>0.004202</td>\n",
       "      <td>1.000000</td>\n",
       "      <td>0.005308</td>\n",
       "      <td>0.009497</td>\n",
       "      <td>-0.021418</td>\n",
       "      <td>-0.012419</td>\n",
       "      <td>0.016972</td>\n",
       "      <td>-0.014025</td>\n",
       "      <td>0.001665</td>\n",
       "      <td>0.015271</td>\n",
       "      <td>-0.006248</td>\n",
       "    </tr>\n",
       "    <tr>\n",
       "      <th>CreditScore</th>\n",
       "      <td>0.005840</td>\n",
       "      <td>0.005308</td>\n",
       "      <td>1.000000</td>\n",
       "      <td>-0.003965</td>\n",
       "      <td>-0.000062</td>\n",
       "      <td>0.006268</td>\n",
       "      <td>0.012238</td>\n",
       "      <td>-0.005458</td>\n",
       "      <td>0.025651</td>\n",
       "      <td>-0.001384</td>\n",
       "      <td>-0.027094</td>\n",
       "    </tr>\n",
       "    <tr>\n",
       "      <th>Age</th>\n",
       "      <td>0.000783</td>\n",
       "      <td>0.009497</td>\n",
       "      <td>-0.003965</td>\n",
       "      <td>1.000000</td>\n",
       "      <td>-0.013134</td>\n",
       "      <td>0.028308</td>\n",
       "      <td>-0.030680</td>\n",
       "      <td>-0.011721</td>\n",
       "      <td>0.085472</td>\n",
       "      <td>-0.007201</td>\n",
       "      <td>0.285323</td>\n",
       "    </tr>\n",
       "    <tr>\n",
       "      <th>Tenure</th>\n",
       "      <td>-0.007322</td>\n",
       "      <td>-0.021418</td>\n",
       "      <td>-0.000062</td>\n",
       "      <td>-0.013134</td>\n",
       "      <td>1.000000</td>\n",
       "      <td>-0.007911</td>\n",
       "      <td>0.011979</td>\n",
       "      <td>0.027232</td>\n",
       "      <td>-0.032178</td>\n",
       "      <td>0.010520</td>\n",
       "      <td>-0.016761</td>\n",
       "    </tr>\n",
       "    <tr>\n",
       "      <th>Balance</th>\n",
       "      <td>-0.009067</td>\n",
       "      <td>-0.012419</td>\n",
       "      <td>0.006268</td>\n",
       "      <td>0.028308</td>\n",
       "      <td>-0.007911</td>\n",
       "      <td>1.000000</td>\n",
       "      <td>-0.304180</td>\n",
       "      <td>-0.014858</td>\n",
       "      <td>-0.010084</td>\n",
       "      <td>0.012797</td>\n",
       "      <td>0.118533</td>\n",
       "    </tr>\n",
       "    <tr>\n",
       "      <th>NumOfProducts</th>\n",
       "      <td>0.007246</td>\n",
       "      <td>0.016972</td>\n",
       "      <td>0.012238</td>\n",
       "      <td>-0.030680</td>\n",
       "      <td>0.011979</td>\n",
       "      <td>-0.304180</td>\n",
       "      <td>1.000000</td>\n",
       "      <td>0.003183</td>\n",
       "      <td>0.009612</td>\n",
       "      <td>0.014204</td>\n",
       "      <td>-0.047820</td>\n",
       "    </tr>\n",
       "    <tr>\n",
       "      <th>HasCrCard</th>\n",
       "      <td>0.000599</td>\n",
       "      <td>-0.014025</td>\n",
       "      <td>-0.005458</td>\n",
       "      <td>-0.011721</td>\n",
       "      <td>0.027232</td>\n",
       "      <td>-0.014858</td>\n",
       "      <td>0.003183</td>\n",
       "      <td>1.000000</td>\n",
       "      <td>-0.011866</td>\n",
       "      <td>-0.009933</td>\n",
       "      <td>-0.007138</td>\n",
       "    </tr>\n",
       "    <tr>\n",
       "      <th>IsActiveMember</th>\n",
       "      <td>0.012044</td>\n",
       "      <td>0.001665</td>\n",
       "      <td>0.025651</td>\n",
       "      <td>0.085472</td>\n",
       "      <td>-0.032178</td>\n",
       "      <td>-0.010084</td>\n",
       "      <td>0.009612</td>\n",
       "      <td>-0.011866</td>\n",
       "      <td>1.000000</td>\n",
       "      <td>-0.011421</td>\n",
       "      <td>-0.156128</td>\n",
       "    </tr>\n",
       "    <tr>\n",
       "      <th>EstimatedSalary</th>\n",
       "      <td>-0.005988</td>\n",
       "      <td>0.015271</td>\n",
       "      <td>-0.001384</td>\n",
       "      <td>-0.007201</td>\n",
       "      <td>0.010520</td>\n",
       "      <td>0.012797</td>\n",
       "      <td>0.014204</td>\n",
       "      <td>-0.009933</td>\n",
       "      <td>-0.011421</td>\n",
       "      <td>1.000000</td>\n",
       "      <td>0.012097</td>\n",
       "    </tr>\n",
       "    <tr>\n",
       "      <th>Exited</th>\n",
       "      <td>-0.016571</td>\n",
       "      <td>-0.006248</td>\n",
       "      <td>-0.027094</td>\n",
       "      <td>0.285323</td>\n",
       "      <td>-0.016761</td>\n",
       "      <td>0.118533</td>\n",
       "      <td>-0.047820</td>\n",
       "      <td>-0.007138</td>\n",
       "      <td>-0.156128</td>\n",
       "      <td>0.012097</td>\n",
       "      <td>1.000000</td>\n",
       "    </tr>\n",
       "  </tbody>\n",
       "</table>\n",
       "</div>"
      ],
      "text/plain": [
       "                 RowNumber  CustomerId  CreditScore       Age    Tenure  \\\n",
       "RowNumber         1.000000    0.004202     0.005840  0.000783 -0.007322   \n",
       "CustomerId        0.004202    1.000000     0.005308  0.009497 -0.021418   \n",
       "CreditScore       0.005840    0.005308     1.000000 -0.003965 -0.000062   \n",
       "Age               0.000783    0.009497    -0.003965  1.000000 -0.013134   \n",
       "Tenure           -0.007322   -0.021418    -0.000062 -0.013134  1.000000   \n",
       "Balance          -0.009067   -0.012419     0.006268  0.028308 -0.007911   \n",
       "NumOfProducts     0.007246    0.016972     0.012238 -0.030680  0.011979   \n",
       "HasCrCard         0.000599   -0.014025    -0.005458 -0.011721  0.027232   \n",
       "IsActiveMember    0.012044    0.001665     0.025651  0.085472 -0.032178   \n",
       "EstimatedSalary  -0.005988    0.015271    -0.001384 -0.007201  0.010520   \n",
       "Exited           -0.016571   -0.006248    -0.027094  0.285323 -0.016761   \n",
       "\n",
       "                  Balance  NumOfProducts  HasCrCard  IsActiveMember  \\\n",
       "RowNumber       -0.009067       0.007246   0.000599        0.012044   \n",
       "CustomerId      -0.012419       0.016972  -0.014025        0.001665   \n",
       "CreditScore      0.006268       0.012238  -0.005458        0.025651   \n",
       "Age              0.028308      -0.030680  -0.011721        0.085472   \n",
       "Tenure          -0.007911       0.011979   0.027232       -0.032178   \n",
       "Balance          1.000000      -0.304180  -0.014858       -0.010084   \n",
       "NumOfProducts   -0.304180       1.000000   0.003183        0.009612   \n",
       "HasCrCard       -0.014858       0.003183   1.000000       -0.011866   \n",
       "IsActiveMember  -0.010084       0.009612  -0.011866        1.000000   \n",
       "EstimatedSalary  0.012797       0.014204  -0.009933       -0.011421   \n",
       "Exited           0.118533      -0.047820  -0.007138       -0.156128   \n",
       "\n",
       "                 EstimatedSalary    Exited  \n",
       "RowNumber              -0.005988 -0.016571  \n",
       "CustomerId              0.015271 -0.006248  \n",
       "CreditScore            -0.001384 -0.027094  \n",
       "Age                    -0.007201  0.285323  \n",
       "Tenure                  0.010520 -0.016761  \n",
       "Balance                 0.012797  0.118533  \n",
       "NumOfProducts           0.014204 -0.047820  \n",
       "HasCrCard              -0.009933 -0.007138  \n",
       "IsActiveMember         -0.011421 -0.156128  \n",
       "EstimatedSalary         1.000000  0.012097  \n",
       "Exited                  0.012097  1.000000  "
      ]
     },
     "execution_count": 15,
     "metadata": {},
     "output_type": "execute_result"
    }
   ],
   "source": [
    "data.corr()"
   ]
  },
  {
   "cell_type": "markdown",
   "metadata": {},
   "source": [
    "Признаков мультиколлинеарности не выявлено, показатели берем в полном объеме."
   ]
  },
  {
   "cell_type": "code",
   "execution_count": 16,
   "metadata": {
    "scrolled": true
   },
   "outputs": [
    {
     "data": {
      "text/html": [
       "<div>\n",
       "<style scoped>\n",
       "    .dataframe tbody tr th:only-of-type {\n",
       "        vertical-align: middle;\n",
       "    }\n",
       "\n",
       "    .dataframe tbody tr th {\n",
       "        vertical-align: top;\n",
       "    }\n",
       "\n",
       "    .dataframe thead th {\n",
       "        text-align: right;\n",
       "    }\n",
       "</style>\n",
       "<table border=\"1\" class=\"dataframe\">\n",
       "  <thead>\n",
       "    <tr style=\"text-align: right;\">\n",
       "      <th></th>\n",
       "      <th>RowNumber</th>\n",
       "      <th>CustomerId</th>\n",
       "      <th>CreditScore</th>\n",
       "      <th>Age</th>\n",
       "      <th>Tenure</th>\n",
       "      <th>Balance</th>\n",
       "      <th>NumOfProducts</th>\n",
       "      <th>HasCrCard</th>\n",
       "      <th>IsActiveMember</th>\n",
       "      <th>EstimatedSalary</th>\n",
       "      <th>Exited</th>\n",
       "    </tr>\n",
       "  </thead>\n",
       "  <tbody>\n",
       "    <tr>\n",
       "      <th>count</th>\n",
       "      <td>10000.00000</td>\n",
       "      <td>1.000000e+04</td>\n",
       "      <td>10000.000000</td>\n",
       "      <td>10000.000000</td>\n",
       "      <td>9091.000000</td>\n",
       "      <td>10000.000000</td>\n",
       "      <td>10000.000000</td>\n",
       "      <td>10000.00000</td>\n",
       "      <td>10000.000000</td>\n",
       "      <td>10000.000000</td>\n",
       "      <td>10000.000000</td>\n",
       "    </tr>\n",
       "    <tr>\n",
       "      <th>mean</th>\n",
       "      <td>5000.50000</td>\n",
       "      <td>1.569094e+07</td>\n",
       "      <td>650.528800</td>\n",
       "      <td>38.921800</td>\n",
       "      <td>4.997690</td>\n",
       "      <td>76485.889288</td>\n",
       "      <td>1.530200</td>\n",
       "      <td>0.70550</td>\n",
       "      <td>0.515100</td>\n",
       "      <td>100090.239881</td>\n",
       "      <td>0.203700</td>\n",
       "    </tr>\n",
       "    <tr>\n",
       "      <th>std</th>\n",
       "      <td>2886.89568</td>\n",
       "      <td>7.193619e+04</td>\n",
       "      <td>96.653299</td>\n",
       "      <td>10.487806</td>\n",
       "      <td>2.894723</td>\n",
       "      <td>62397.405202</td>\n",
       "      <td>0.581654</td>\n",
       "      <td>0.45584</td>\n",
       "      <td>0.499797</td>\n",
       "      <td>57510.492818</td>\n",
       "      <td>0.402769</td>\n",
       "    </tr>\n",
       "    <tr>\n",
       "      <th>min</th>\n",
       "      <td>1.00000</td>\n",
       "      <td>1.556570e+07</td>\n",
       "      <td>350.000000</td>\n",
       "      <td>18.000000</td>\n",
       "      <td>0.000000</td>\n",
       "      <td>0.000000</td>\n",
       "      <td>1.000000</td>\n",
       "      <td>0.00000</td>\n",
       "      <td>0.000000</td>\n",
       "      <td>11.580000</td>\n",
       "      <td>0.000000</td>\n",
       "    </tr>\n",
       "    <tr>\n",
       "      <th>25%</th>\n",
       "      <td>2500.75000</td>\n",
       "      <td>1.562853e+07</td>\n",
       "      <td>584.000000</td>\n",
       "      <td>32.000000</td>\n",
       "      <td>2.000000</td>\n",
       "      <td>0.000000</td>\n",
       "      <td>1.000000</td>\n",
       "      <td>0.00000</td>\n",
       "      <td>0.000000</td>\n",
       "      <td>51002.110000</td>\n",
       "      <td>0.000000</td>\n",
       "    </tr>\n",
       "    <tr>\n",
       "      <th>50%</th>\n",
       "      <td>5000.50000</td>\n",
       "      <td>1.569074e+07</td>\n",
       "      <td>652.000000</td>\n",
       "      <td>37.000000</td>\n",
       "      <td>5.000000</td>\n",
       "      <td>97198.540000</td>\n",
       "      <td>1.000000</td>\n",
       "      <td>1.00000</td>\n",
       "      <td>1.000000</td>\n",
       "      <td>100193.915000</td>\n",
       "      <td>0.000000</td>\n",
       "    </tr>\n",
       "    <tr>\n",
       "      <th>75%</th>\n",
       "      <td>7500.25000</td>\n",
       "      <td>1.575323e+07</td>\n",
       "      <td>718.000000</td>\n",
       "      <td>44.000000</td>\n",
       "      <td>7.000000</td>\n",
       "      <td>127644.240000</td>\n",
       "      <td>2.000000</td>\n",
       "      <td>1.00000</td>\n",
       "      <td>1.000000</td>\n",
       "      <td>149388.247500</td>\n",
       "      <td>0.000000</td>\n",
       "    </tr>\n",
       "    <tr>\n",
       "      <th>max</th>\n",
       "      <td>10000.00000</td>\n",
       "      <td>1.581569e+07</td>\n",
       "      <td>850.000000</td>\n",
       "      <td>92.000000</td>\n",
       "      <td>10.000000</td>\n",
       "      <td>250898.090000</td>\n",
       "      <td>4.000000</td>\n",
       "      <td>1.00000</td>\n",
       "      <td>1.000000</td>\n",
       "      <td>199992.480000</td>\n",
       "      <td>1.000000</td>\n",
       "    </tr>\n",
       "  </tbody>\n",
       "</table>\n",
       "</div>"
      ],
      "text/plain": [
       "         RowNumber    CustomerId   CreditScore           Age       Tenure  \\\n",
       "count  10000.00000  1.000000e+04  10000.000000  10000.000000  9091.000000   \n",
       "mean    5000.50000  1.569094e+07    650.528800     38.921800     4.997690   \n",
       "std     2886.89568  7.193619e+04     96.653299     10.487806     2.894723   \n",
       "min        1.00000  1.556570e+07    350.000000     18.000000     0.000000   \n",
       "25%     2500.75000  1.562853e+07    584.000000     32.000000     2.000000   \n",
       "50%     5000.50000  1.569074e+07    652.000000     37.000000     5.000000   \n",
       "75%     7500.25000  1.575323e+07    718.000000     44.000000     7.000000   \n",
       "max    10000.00000  1.581569e+07    850.000000     92.000000    10.000000   \n",
       "\n",
       "             Balance  NumOfProducts    HasCrCard  IsActiveMember  \\\n",
       "count   10000.000000   10000.000000  10000.00000    10000.000000   \n",
       "mean    76485.889288       1.530200      0.70550        0.515100   \n",
       "std     62397.405202       0.581654      0.45584        0.499797   \n",
       "min         0.000000       1.000000      0.00000        0.000000   \n",
       "25%         0.000000       1.000000      0.00000        0.000000   \n",
       "50%     97198.540000       1.000000      1.00000        1.000000   \n",
       "75%    127644.240000       2.000000      1.00000        1.000000   \n",
       "max    250898.090000       4.000000      1.00000        1.000000   \n",
       "\n",
       "       EstimatedSalary        Exited  \n",
       "count     10000.000000  10000.000000  \n",
       "mean     100090.239881      0.203700  \n",
       "std       57510.492818      0.402769  \n",
       "min          11.580000      0.000000  \n",
       "25%       51002.110000      0.000000  \n",
       "50%      100193.915000      0.000000  \n",
       "75%      149388.247500      0.000000  \n",
       "max      199992.480000      1.000000  "
      ]
     },
     "execution_count": 16,
     "metadata": {},
     "output_type": "execute_result"
    }
   ],
   "source": [
    "data.describe()"
   ]
  },
  {
   "cell_type": "markdown",
   "metadata": {},
   "source": [
    "Есть слабая обратная корреляция с числом продуктов, оно и понятно - чем больше яиц в корзине, тем сложнее переносить. Изучаем дальше."
   ]
  },
  {
   "cell_type": "markdown",
   "metadata": {},
   "source": [
    "**Вывод** Таблица data содержит пропуски в одном столбце Tenure - число лет сотрудничества с банком. Остальные 13 без пропусков.\n",
    "Явных дубликатов нет. \n",
    "Наименования столбцов имеют неприемлемый вид: сочетание строчных и прописных букв,не \"змеиный\" стиль,но соотносятся с информацией в столбцах по смыслу.\n",
    "Данные в столбцах 'HasCrCard', 'IsActiveMember','Exited' - int64, на \n",
    "самом деле - это тип 'bool'.\n",
    "Данные в столбце 'Tenure' -non-null float64 являются целыми числами."
   ]
  },
  {
   "cell_type": "markdown",
   "metadata": {},
   "source": [
    "### Предобработка данных"
   ]
  },
  {
   "cell_type": "markdown",
   "metadata": {},
   "source": [
    "Приведем наименования столбцов к приемлемому виду."
   ]
  },
  {
   "cell_type": "code",
   "execution_count": 17,
   "metadata": {},
   "outputs": [
    {
     "data": {
      "text/plain": [
       "Index(['RowNumber', 'CustomerId', 'Surname', 'CreditScore', 'Geography',\n",
       "       'Gender', 'Age', 'Tenure', 'Balance', 'NumOfProducts', 'HasCrCard',\n",
       "       'IsActiveMember', 'EstimatedSalary', 'Exited'],\n",
       "      dtype='object')"
      ]
     },
     "execution_count": 17,
     "metadata": {},
     "output_type": "execute_result"
    }
   ],
   "source": [
    "data.columns"
   ]
  },
  {
   "cell_type": "code",
   "execution_count": 19,
   "metadata": {},
   "outputs": [],
   "source": [
    "data = (data.rename(columns={'RowNumber': 'row_number', 'CustomerId': 'customer_id', \n",
    "        'Surname': 'surname', 'CreditScore': 'credit_score', 'Geography':'geography', \n",
    "        'Gender':'gender','Age':'age', 'Tenure':'tenure', 'Balance':'balance', \n",
    "        'NumOfProducts':'num_of_products', 'HasCrCard':'has_cr_card',\n",
    "        'IsActiveMember':'is_active_member', 'EstimatedSalary':'estimated_salary',\n",
    "        'Exited':'exited' }))"
   ]
  },
  {
   "cell_type": "markdown",
   "metadata": {},
   "source": [
    "Проверим результат"
   ]
  },
  {
   "cell_type": "code",
   "execution_count": 20,
   "metadata": {},
   "outputs": [
    {
     "name": "stdout",
     "output_type": "stream",
     "text": [
      "<class 'pandas.core.frame.DataFrame'>\n",
      "RangeIndex: 10000 entries, 0 to 9999\n",
      "Data columns (total 14 columns):\n",
      " #   Column            Non-Null Count  Dtype  \n",
      "---  ------            --------------  -----  \n",
      " 0   row_number        10000 non-null  int64  \n",
      " 1   customer_id       10000 non-null  int64  \n",
      " 2   surname           10000 non-null  object \n",
      " 3   credit_score      10000 non-null  int64  \n",
      " 4   geography         10000 non-null  object \n",
      " 5   gender            10000 non-null  object \n",
      " 6   age               10000 non-null  int64  \n",
      " 7   tenure            9091 non-null   float64\n",
      " 8   balance           10000 non-null  float64\n",
      " 9   num_of_products   10000 non-null  int64  \n",
      " 10  has_cr_card       10000 non-null  int64  \n",
      " 11  is_active_member  10000 non-null  int64  \n",
      " 12  estimated_salary  10000 non-null  float64\n",
      " 13  exited            10000 non-null  int64  \n",
      "dtypes: float64(3), int64(8), object(3)\n",
      "memory usage: 1.1+ MB\n"
     ]
    }
   ],
   "source": [
    "data.info()"
   ]
  },
  {
   "cell_type": "markdown",
   "metadata": {},
   "source": [
    "Получилось, теперь выбросим столбцы, которые нам не пригодятся при анализе. row_number — индекс строки (у нас есть собственная индексация), CustomerId — уникальный идентификатор клиента (вряд ли клиенты с четными номерами лояльнее, чем с нечетными, но на досуге можно проверить. Все, что касается имени - конечно, есть теории про имена, тогда и астрологию, и, глядишь, расовые различия нужно анализировать, а данные не предоставлены. В общем, ненаучную часть отбрасываем -  у нас data science."
   ]
  },
  {
   "cell_type": "code",
   "execution_count": 22,
   "metadata": {},
   "outputs": [],
   "source": [
    "data = data.drop(['row_number', 'customer_id', 'surname'], axis=1)"
   ]
  },
  {
   "cell_type": "markdown",
   "metadata": {},
   "source": [
    "приступаем к заполнению пропусков."
   ]
  },
  {
   "cell_type": "code",
   "execution_count": 23,
   "metadata": {
    "scrolled": true
   },
   "outputs": [
    {
     "data": {
      "text/plain": [
       "9091"
      ]
     },
     "execution_count": 23,
     "metadata": {},
     "output_type": "execute_result"
    }
   ],
   "source": [
    "data['tenure'].value_counts().sum()"
   ]
  },
  {
   "cell_type": "code",
   "execution_count": 24,
   "metadata": {},
   "outputs": [
    {
     "data": {
      "text/plain": [
       "909"
      ]
     },
     "execution_count": 24,
     "metadata": {},
     "output_type": "execute_result"
    }
   ],
   "source": [
    "data['tenure'].isna().sum()"
   ]
  },
  {
   "cell_type": "markdown",
   "metadata": {},
   "source": [
    "Девять процентов не заполнено, следовало бы обратиться к составителю таблицы и запросить исправленную версию, но у нас такой возможности нет."
   ]
  },
  {
   "cell_type": "markdown",
   "metadata": {},
   "source": [
    "Попробуем поискать корреляции:"
   ]
  },
  {
   "cell_type": "code",
   "execution_count": 25,
   "metadata": {},
   "outputs": [
    {
     "data": {
      "text/plain": [
       "-0.01313438493079654"
      ]
     },
     "execution_count": 25,
     "metadata": {},
     "output_type": "execute_result"
    }
   ],
   "source": [
    "data['tenure'].corr(data['age'])"
   ]
  },
  {
   "cell_type": "code",
   "execution_count": 26,
   "metadata": {},
   "outputs": [
    {
     "data": {
      "text/plain": [
       "-0.007910697992078478"
      ]
     },
     "execution_count": 26,
     "metadata": {},
     "output_type": "execute_result"
    }
   ],
   "source": [
    "data['tenure'].corr(data['balance'])"
   ]
  },
  {
   "cell_type": "code",
   "execution_count": 27,
   "metadata": {},
   "outputs": [
    {
     "data": {
      "text/plain": [
       "0.011978980549193175"
      ]
     },
     "execution_count": 27,
     "metadata": {},
     "output_type": "execute_result"
    }
   ],
   "source": [
    "data['tenure'].corr(data['num_of_products'])"
   ]
  },
  {
   "cell_type": "code",
   "execution_count": 28,
   "metadata": {},
   "outputs": [
    {
     "data": {
      "text/plain": [
       "-0.032178352177855286"
      ]
     },
     "execution_count": 28,
     "metadata": {},
     "output_type": "execute_result"
    }
   ],
   "source": [
    "data['tenure'].corr(data['is_active_member'])"
   ]
  },
  {
   "cell_type": "code",
   "execution_count": 29,
   "metadata": {},
   "outputs": [
    {
     "data": {
      "text/plain": [
       "-0.032178352177855286"
      ]
     },
     "execution_count": 29,
     "metadata": {},
     "output_type": "execute_result"
    }
   ],
   "source": [
    "data['tenure'].corr(data['is_active_member'])"
   ]
  },
  {
   "cell_type": "markdown",
   "metadata": {},
   "source": [
    "Да, среди однофакторных корреляций сильных связей нет. А что у нас с возрастом клиентов?"
   ]
  },
  {
   "cell_type": "code",
   "execution_count": 30,
   "metadata": {
    "scrolled": true
   },
   "outputs": [
    {
     "data": {
      "text/plain": [
       "count    10000.000000\n",
       "mean        38.921800\n",
       "std         10.487806\n",
       "min         18.000000\n",
       "25%         32.000000\n",
       "50%         37.000000\n",
       "75%         44.000000\n",
       "max         92.000000\n",
       "Name: age, dtype: float64"
      ]
     },
     "execution_count": 30,
     "metadata": {},
     "output_type": "execute_result"
    }
   ],
   "source": [
    "data['age'].describe()"
   ]
  },
  {
   "cell_type": "markdown",
   "metadata": {},
   "source": [
    "От 18 до 92, медианное значение - 37. Инересно, а в 18 лет клиент может иметь значение больше 1?"
   ]
  },
  {
   "cell_type": "code",
   "execution_count": 31,
   "metadata": {
    "scrolled": true
   },
   "outputs": [
    {
     "data": {
      "text/plain": [
       "2.0     4\n",
       "7.0     3\n",
       "8.0     2\n",
       "10.0    2\n",
       "3.0     2\n",
       "4.0     2\n",
       "1.0     2\n",
       "6.0     1\n",
       "5.0     1\n",
       "9.0     1\n",
       "Name: tenure, dtype: int64"
      ]
     },
     "execution_count": 31,
     "metadata": {},
     "output_type": "execute_result"
    }
   ],
   "source": [
    "data[data['age']==18]['tenure'].value_counts()"
   ]
  },
  {
   "cell_type": "code",
   "execution_count": 32,
   "metadata": {},
   "outputs": [
    {
     "data": {
      "text/plain": [
       "2.0"
      ]
     },
     "execution_count": 32,
     "metadata": {},
     "output_type": "execute_result"
    }
   ],
   "source": [
    "data[data['age']==18]['tenure'].value_counts().median()"
   ]
  },
  {
   "cell_type": "markdown",
   "metadata": {},
   "source": [
    "Моё предположение, что в 18 всё только начинается неверно, возможно, законодательные различия. Медианное значение - 2. Что же, тогда заполним пропуски медианой значений соответствующего возраста с разбивкой по странам."
   ]
  },
  {
   "cell_type": "code",
   "execution_count": 33,
   "metadata": {
    "scrolled": true
   },
   "outputs": [
    {
     "data": {
      "text/plain": [
       "France     5014\n",
       "Germany    2509\n",
       "Spain      2477\n",
       "Name: geography, dtype: int64"
      ]
     },
     "execution_count": 33,
     "metadata": {},
     "output_type": "execute_result"
    }
   ],
   "source": [
    "data['geography'].value_counts()"
   ]
  },
  {
   "cell_type": "code",
   "execution_count": 34,
   "metadata": {},
   "outputs": [
    {
     "data": {
      "text/plain": [
       "1    7055\n",
       "0    2945\n",
       "Name: has_cr_card, dtype: int64"
      ]
     },
     "execution_count": 34,
     "metadata": {},
     "output_type": "execute_result"
    }
   ],
   "source": [
    "data['has_cr_card'].value_counts()"
   ]
  },
  {
   "cell_type": "code",
   "execution_count": 35,
   "metadata": {
    "scrolled": false
   },
   "outputs": [
    {
     "data": {
      "text/plain": [
       "0"
      ]
     },
     "execution_count": 35,
     "metadata": {},
     "output_type": "execute_result"
    }
   ],
   "source": [
    "#data[data['geography'] == 'France' | data['has_cr_card'] == '0' ].fillna(data.groupby(['has_cr_card','age'])['tenure'].transform('median'))\n",
    "#data.loc[(data['geography'] == 'France')&(data['has_cr_card'] == 0), 'tenure'] = data.groupby(['has_cr_card'])['tenure'].transform('median')\n",
    "data['tenure'] = data['tenure'].fillna(data.groupby(['geography','age'])['tenure'].transform('median'))\n",
    "data['tenure'].isna().sum()"
   ]
  },
  {
   "cell_type": "code",
   "execution_count": 36,
   "metadata": {
    "scrolled": true
   },
   "outputs": [
    {
     "data": {
      "text/plain": [
       "<AxesSubplot:>"
      ]
     },
     "execution_count": 36,
     "metadata": {},
     "output_type": "execute_result"
    },
    {
     "data": {
      "image/png": "[encoded data removed]",
      "text/plain": [
       "<Figure size 432x288 with 1 Axes>"
      ]
     },
     "metadata": {
      "needs_background": "light"
     },
     "output_type": "display_data"
    }
   ],
   "source": [
    "data['tenure'].hist(bins = 11)"
   ]
  },
  {
   "cell_type": "code",
   "execution_count": 37,
   "metadata": {},
   "outputs": [
    {
     "name": "stdout",
     "output_type": "stream",
     "text": [
      "<class 'pandas.core.frame.DataFrame'>\n",
      "Int64Index: 10000 entries, 0 to 9999\n",
      "Data columns (total 11 columns):\n",
      " #   Column            Non-Null Count  Dtype  \n",
      "---  ------            --------------  -----  \n",
      " 0   credit_score      10000 non-null  int64  \n",
      " 1   geography         10000 non-null  object \n",
      " 2   gender            10000 non-null  object \n",
      " 3   age               10000 non-null  int64  \n",
      " 4   tenure            10000 non-null  float64\n",
      " 5   balance           10000 non-null  float64\n",
      " 6   num_of_products   10000 non-null  int64  \n",
      " 7   has_cr_card       10000 non-null  int64  \n",
      " 8   is_active_member  10000 non-null  int64  \n",
      " 9   estimated_salary  10000 non-null  float64\n",
      " 10  exited            10000 non-null  int64  \n",
      "dtypes: float64(3), int64(6), object(2)\n",
      "memory usage: 937.5+ KB\n"
     ]
    }
   ],
   "source": [
    "encoder = OrdinalEncoder()\n",
    "data_ordinal = data.dropna()\n",
    "data_ordinal.info()"
   ]
  },
  {
   "cell_type": "code",
   "execution_count": 38,
   "metadata": {},
   "outputs": [
    {
     "data": {
      "text/plain": [
       "France     5014\n",
       "Germany    2509\n",
       "Spain      2477\n",
       "Name: geography, dtype: int64"
      ]
     },
     "execution_count": 38,
     "metadata": {},
     "output_type": "execute_result"
    }
   ],
   "source": [
    "data_ordinal['geography'].value_counts()"
   ]
  },
  {
   "cell_type": "code",
   "execution_count": 39,
   "metadata": {
    "scrolled": true
   },
   "outputs": [],
   "source": [
    "\n",
    "data_ordinal = pd.DataFrame(encoder.fit_transform(data_ordinal), columns=data_ordinal.columns)\n"
   ]
  },
  {
   "cell_type": "code",
   "execution_count": 40,
   "metadata": {},
   "outputs": [
    {
     "data": {
      "text/plain": [
       "is_active_member\n",
       "0.0   -0.015673\n",
       "1.0   -0.017166\n",
       "Name: tenure, dtype: float64"
      ]
     },
     "execution_count": 40,
     "metadata": {},
     "output_type": "execute_result"
    }
   ],
   "source": [
    "data_ordinal.groupby('is_active_member')['tenure'].corr(data_ordinal['age'])"
   ]
  },
  {
   "cell_type": "code",
   "execution_count": 41,
   "metadata": {
    "scrolled": true
   },
   "outputs": [
    {
     "data": {
      "text/plain": [
       "has_cr_card\n",
       "0.0   -0.027598\n",
       "1.0   -0.014852\n",
       "Name: tenure, dtype: float64"
      ]
     },
     "execution_count": 41,
     "metadata": {},
     "output_type": "execute_result"
    }
   ],
   "source": [
    "data_ordinal.groupby('has_cr_card')['tenure'].corr(data_ordinal['age'])"
   ]
  },
  {
   "cell_type": "code",
   "execution_count": 42,
   "metadata": {},
   "outputs": [
    {
     "data": {
      "text/plain": [
       "has_cr_card\n",
       "0.0   -0.031748\n",
       "1.0   -0.000840\n",
       "Name: tenure, dtype: float64"
      ]
     },
     "execution_count": 42,
     "metadata": {},
     "output_type": "execute_result"
    }
   ],
   "source": [
    "data_ordinal[data_ordinal['geography'] == 0.0].groupby('has_cr_card')['tenure'].corr(data_ordinal['age'])"
   ]
  },
  {
   "cell_type": "code",
   "execution_count": 43,
   "metadata": {
    "scrolled": false
   },
   "outputs": [
    {
     "data": {
      "text/plain": [
       "geography\n",
       "0.0   -0.010422\n",
       "1.0    0.010147\n",
       "2.0   -0.064859\n",
       "Name: tenure, dtype: float64"
      ]
     },
     "execution_count": 43,
     "metadata": {},
     "output_type": "execute_result"
    }
   ],
   "source": [
    "data_ordinal.groupby('geography')['tenure'].corr(data_ordinal['age'])"
   ]
  },
  {
   "cell_type": "code",
   "execution_count": 44,
   "metadata": {},
   "outputs": [
    {
     "data": {
      "text/plain": [
       "0.0    5014\n",
       "1.0    2509\n",
       "2.0    2477\n",
       "Name: geography, dtype: int64"
      ]
     },
     "execution_count": 44,
     "metadata": {},
     "output_type": "execute_result"
    }
   ],
   "source": [
    "data_ordinal['geography'].value_counts()"
   ]
  },
  {
   "cell_type": "markdown",
   "metadata": {},
   "source": [
    "Так как у нас есть категориальные переменные, выраженные строковыми значениями - подготовим таблицу методом прямого кодирования (OHE), метод порядкового кодирования не используем, так как планируем применять модель логистической регрессии."
   ]
  },
  {
   "cell_type": "code",
   "execution_count": 45,
   "metadata": {},
   "outputs": [],
   "source": [
    "data_ohe = pd.get_dummies(data, drop_first=True)"
   ]
  },
  {
   "cell_type": "code",
   "execution_count": 46,
   "metadata": {},
   "outputs": [
    {
     "name": "stdout",
     "output_type": "stream",
     "text": [
      "<class 'pandas.core.frame.DataFrame'>\n",
      "RangeIndex: 10000 entries, 0 to 9999\n",
      "Data columns (total 12 columns):\n",
      " #   Column             Non-Null Count  Dtype  \n",
      "---  ------             --------------  -----  \n",
      " 0   credit_score       10000 non-null  int64  \n",
      " 1   age                10000 non-null  int64  \n",
      " 2   tenure             10000 non-null  float64\n",
      " 3   balance            10000 non-null  float64\n",
      " 4   num_of_products    10000 non-null  int64  \n",
      " 5   has_cr_card        10000 non-null  int64  \n",
      " 6   is_active_member   10000 non-null  int64  \n",
      " 7   estimated_salary   10000 non-null  float64\n",
      " 8   exited             10000 non-null  int64  \n",
      " 9   geography_Germany  10000 non-null  uint8  \n",
      " 10  geography_Spain    10000 non-null  uint8  \n",
      " 11  gender_Male        10000 non-null  uint8  \n",
      "dtypes: float64(3), int64(6), uint8(3)\n",
      "memory usage: 732.5 KB\n"
     ]
    }
   ],
   "source": [
    "data_ohe.info()"
   ]
  },
  {
   "cell_type": "markdown",
   "metadata": {},
   "source": [
    "Наша география превратилась в 3 столбца, а гендер - в один, мужской (надеюсь, нашу таблицу не увидят представители LGBTQIA+)"
   ]
  },
  {
   "cell_type": "markdown",
   "metadata": {},
   "source": [
    "**Вывод** Произведено переименование столбцов и заполнение пропусков в столбце tenure медианой по возрасту, в разбивке по странам. Применен метод прямого кодирования (OHE)"
   ]
  },
  {
   "cell_type": "code",
   "execution_count": 47,
   "metadata": {},
   "outputs": [
    {
     "name": "stdout",
     "output_type": "stream",
     "text": [
      "<class 'pandas.core.frame.DataFrame'>\n",
      "RangeIndex: 10000 entries, 0 to 9999\n",
      "Data columns (total 12 columns):\n",
      " #   Column             Non-Null Count  Dtype  \n",
      "---  ------             --------------  -----  \n",
      " 0   credit_score       10000 non-null  int64  \n",
      " 1   age                10000 non-null  int64  \n",
      " 2   tenure             10000 non-null  float64\n",
      " 3   balance            10000 non-null  float64\n",
      " 4   num_of_products    10000 non-null  int64  \n",
      " 5   has_cr_card        10000 non-null  int64  \n",
      " 6   is_active_member   10000 non-null  int64  \n",
      " 7   estimated_salary   10000 non-null  float64\n",
      " 8   exited             10000 non-null  int64  \n",
      " 9   geography_Germany  10000 non-null  Int64  \n",
      " 10  geography_Spain    10000 non-null  Int64  \n",
      " 11  gender_Male        10000 non-null  Int64  \n",
      "dtypes: Int64(3), float64(3), int64(6)\n",
      "memory usage: 966.9 KB\n"
     ]
    }
   ],
   "source": [
    "data_ohe['geography_Germany'] = data_ohe['geography_Germany'].astype('Int64')\n",
    "data_ohe['geography_Spain'] = data_ohe['geography_Spain'].astype('Int64')\n",
    "data_ohe['gender_Male'] = data_ohe['gender_Male'].astype('Int64')\n",
    "data_ohe.info()"
   ]
  },
  {
   "cell_type": "code",
   "execution_count": 48,
   "metadata": {},
   "outputs": [],
   "source": [
    "#data_ohe.corr()"
   ]
  },
  {
   "cell_type": "markdown",
   "metadata": {},
   "source": [
    "Заполнено, начинаем исследовательский анализ."
   ]
  },
  {
   "cell_type": "markdown",
   "metadata": {},
   "source": [
    "## Исследование задачи"
   ]
  },
  {
   "cell_type": "markdown",
   "metadata": {},
   "source": [
    "### Проверка моделей на несбалансированной таблице"
   ]
  },
  {
   "cell_type": "markdown",
   "metadata": {},
   "source": [
    "Разделим исходные данные на обучающую, валидационную и тестовую выборки. Так как мы применяем обучение с учителем, извлечем признаки и выделим целевой признак отдельно:"
   ]
  },
  {
   "cell_type": "code",
   "execution_count": 49,
   "metadata": {},
   "outputs": [],
   "source": [
    "RANDOM_ST = 12345"
   ]
  },
  {
   "cell_type": "code",
   "execution_count": 50,
   "metadata": {},
   "outputs": [],
   "source": [
    "features = data_ohe.drop(['exited'], axis=1) # извлекаем признаки "
   ]
  },
  {
   "cell_type": "code",
   "execution_count": 51,
   "metadata": {},
   "outputs": [],
   "source": [
    "target = data_ohe['exited'] # извлекаем целевой признак"
   ]
  },
  {
   "cell_type": "markdown",
   "metadata": {},
   "source": [
    "Хорошо бы взглянуть на предсказания по \"сырой\" таблице"
   ]
  },
  {
   "cell_type": "markdown",
   "metadata": {},
   "source": [
    "Разделим исходные данные. Так как у нас нет спрятанной тестовой выборки, данные разобьём на три части: обучающую, валидационную и тестовую в соотношении 3:1:1. Разделим за 2 шага, на первом выделим обучающую часть, отделим 40% \"на потом\":"
   ]
  },
  {
   "cell_type": "code",
   "execution_count": 52,
   "metadata": {},
   "outputs": [],
   "source": [
    "features_train, features_preliminary, target_train, target_preliminary = train_test_split(\n",
    "    features, target, test_size=0.4, random_state=RANDOM_ST, stratify=target)"
   ]
  },
  {
   "cell_type": "markdown",
   "metadata": {},
   "source": [
    "Делим 40% пополам:"
   ]
  },
  {
   "cell_type": "code",
   "execution_count": 53,
   "metadata": {},
   "outputs": [],
   "source": [
    "features_valid, features_test, target_valid, target_test = train_test_split(\n",
    "    features_preliminary, target_preliminary, test_size=0.5, random_state=RANDOM_ST, stratify=target_preliminary)"
   ]
  },
  {
   "cell_type": "markdown",
   "metadata": {},
   "source": [
    "features_train.info()"
   ]
  },
  {
   "cell_type": "code",
   "execution_count": 54,
   "metadata": {},
   "outputs": [
    {
     "data": {
      "text/plain": [
       "6000"
      ]
     },
     "execution_count": 54,
     "metadata": {},
     "output_type": "execute_result"
    }
   ],
   "source": [
    "features_train.shape[0]"
   ]
  },
  {
   "cell_type": "code",
   "execution_count": 55,
   "metadata": {},
   "outputs": [
    {
     "data": {
      "text/plain": [
       "0.6"
      ]
     },
     "execution_count": 55,
     "metadata": {},
     "output_type": "execute_result"
    }
   ],
   "source": [
    "features_train.shape[0]/(features_train.shape[0]+features_valid.shape[0]+features_test.shape[0])"
   ]
  },
  {
   "cell_type": "code",
   "execution_count": 56,
   "metadata": {},
   "outputs": [
    {
     "data": {
      "text/plain": [
       "2000"
      ]
     },
     "execution_count": 56,
     "metadata": {},
     "output_type": "execute_result"
    }
   ],
   "source": [
    "features_valid.shape[0]"
   ]
  },
  {
   "cell_type": "code",
   "execution_count": 57,
   "metadata": {},
   "outputs": [
    {
     "data": {
      "text/plain": [
       "0.2"
      ]
     },
     "execution_count": 57,
     "metadata": {},
     "output_type": "execute_result"
    }
   ],
   "source": [
    "features_valid.shape[0]/(features_train.shape[0]+features_valid.shape[0]+features_test.shape[0])"
   ]
  },
  {
   "cell_type": "code",
   "execution_count": 58,
   "metadata": {},
   "outputs": [
    {
     "data": {
      "text/plain": [
       "2000"
      ]
     },
     "execution_count": 58,
     "metadata": {},
     "output_type": "execute_result"
    }
   ],
   "source": [
    "features_test.shape[0]"
   ]
  },
  {
   "cell_type": "code",
   "execution_count": 59,
   "metadata": {},
   "outputs": [
    {
     "data": {
      "text/plain": [
       "0.2"
      ]
     },
     "execution_count": 59,
     "metadata": {},
     "output_type": "execute_result"
    }
   ],
   "source": [
    "features_test.shape[0]/(features_train.shape[0]+features_valid.shape[0]+features_test.shape[0])"
   ]
  },
  {
   "cell_type": "markdown",
   "metadata": {},
   "source": [
    "Идеальные проценты, метод справился."
   ]
  },
  {
   "cell_type": "markdown",
   "metadata": {},
   "source": [
    "**Вывод** Данные подготовлены к прогону в моделях."
   ]
  },
  {
   "cell_type": "markdown",
   "metadata": {},
   "source": [
    "#### Дерево решений"
   ]
  },
  {
   "cell_type": "code",
   "execution_count": 60,
   "metadata": {},
   "outputs": [
    {
     "name": "stdout",
     "output_type": "stream",
     "text": [
      "max_depth = 1 : 0.0\n",
      "max_depth = 2 : 0.5203488372093023\n",
      "max_depth = 3 : 0.5375722543352601\n",
      "max_depth = 4 : 0.5206349206349208\n",
      "max_depth = 5 : 0.5454545454545455\n",
      "\n",
      "Лучшая модель после шага 1: DecisionTreeClassifier(max_depth=5, random_state=12345) F1 наилучшей модели на валидационной выборке: 0.5454545454545455 Максимальная глубина: 5\n"
     ]
    }
   ],
   "source": [
    "model = DecisionTreeClassifier(random_state=RANDOM_ST)\n",
    "model.fit(features_train, target_train)\n",
    "\n",
    "best_model = None\n",
    "best_result = 0\n",
    "best_depth = 0\n",
    "for depth in range(1, 6): \n",
    "    model = DecisionTreeClassifier(random_state=RANDOM_ST, max_depth=depth ) # < создаем модель, указав max_depth=depth \n",
    "    model.fit(features_train, target_train)\n",
    "    predicted_valid = model.predict(features_valid) # < находим предсказания на валидационной выборке \n",
    "    print(\"max_depth =\", depth, \": \", end='')\n",
    "    print(f1_score(target_valid, predicted_valid))\n",
    "    result = f1_score(target_valid, predicted_valid) # считаем значение метрики F1 на валидационной выборке\n",
    "    if result > best_result:\n",
    "        best_model = model\n",
    "        best_result = result\n",
    "        best_depth = depth    \n",
    "print(\"\")\n",
    "print('Лучшая модель после шага 1:', best_model, \"F1 наилучшей модели на валидационной выборке:\", best_result, \"Максимальная глубина:\", best_depth)"
   ]
  },
  {
   "cell_type": "code",
   "execution_count": 61,
   "metadata": {},
   "outputs": [],
   "source": [
    "model = DecisionTreeClassifier(random_state=RANDOM_ST, max_depth=5 ) # < создаем модель, указав max_depth=depth \n",
    "model.fit(features_train, target_train)\n",
    "predicted_valid = model.predict(features_valid)"
   ]
  },
  {
   "cell_type": "code",
   "execution_count": 62,
   "metadata": {},
   "outputs": [
    {
     "name": "stdout",
     "output_type": "stream",
     "text": [
      "0.849793544930535\n"
     ]
    }
   ],
   "source": [
    "probabilities_valid = model.predict_proba(features_valid)\n",
    "probabilities_one_valid = probabilities_valid[:, 1]\n",
    "auc_roc = roc_auc_score(target_valid, probabilities_one_valid)\n",
    "print(auc_roc)\n",
    "fpr, tpr, thresholds = roc_curve(target_valid, probabilities_one_valid) \n"
   ]
  },
  {
   "cell_type": "code",
   "execution_count": 63,
   "metadata": {
    "scrolled": true
   },
   "outputs": [
    {
     "data": {
      "image/png": "[encoded data removed]",
      "text/plain": [
       "<Figure size 432x288 with 1 Axes>"
      ]
     },
     "metadata": {
      "needs_background": "light"
     },
     "output_type": "display_data"
    }
   ],
   "source": [
    "plt.figure()\n",
    "# ROC-кривая случайной модели (выглядит как прямая)\n",
    "plt.plot(fpr, tpr)\n",
    "plt.xlabel('False Positive Rate')\n",
    "plt.ylabel('True Positive Rate')\n",
    "x = np.array([0, 1])\n",
    "y = np.array([0, 1])\n",
    "plt.plot(x, y)\n",
    "plt.ylim([0.0, 1.0])\n",
    "plt.xlim([0.0, 1.0])\n",
    "plt.title('ROC-кривая')\n",
    "plt.show()"
   ]
  },
  {
   "cell_type": "markdown",
   "metadata": {},
   "source": [
    "#### Случайный лес"
   ]
  },
  {
   "cell_type": "markdown",
   "metadata": {},
   "source": [
    "Для быстроты проверки я сокращаю цикл, подбор параметров производился на большем диапазоне: est in range(10, 401, 10), depth in range (1, 15). Полученный результат F1 наилучшей модели на валидационной выборке: 0.6275659824046922 Количество деревьев: 200 Максимальная глубина: 18\n",
    "Возьмем близкий диапазон:"
   ]
  },
  {
   "cell_type": "code",
   "execution_count": 64,
   "metadata": {},
   "outputs": [
    {
     "name": "stdout",
     "output_type": "stream",
     "text": [
      "F1 наилучшей модели на валидационной выборке: 0.6275659824046922 Количество деревьев: 200 Максимальная глубина: 18\n"
     ]
    }
   ],
   "source": [
    "best_model_f = None\n",
    "best_result_f = 0\n",
    "best_est_f = 0\n",
    "best_depth_f = 0\n",
    "for est in range(180, 201, 10):\n",
    "    for depth in range (17, 19):\n",
    "        model = RandomForestClassifier(random_state=RANDOM_ST, n_estimators=est, max_depth=depth) \n",
    "        model.fit(features_train, target_train) \n",
    "        predicted_valid = model.predict(features_valid)\n",
    "        result_f = f1_score(target_valid, predicted_valid) # считаем значение метрики F1 на валидационной выборке\n",
    "        if result_f > best_result_f:\n",
    "            best_model_f = model\n",
    "            best_result_f = result_f\n",
    "            best_est_f = est\n",
    "            best_depth_f = depth\n",
    "\n",
    "print(\"F1 наилучшей модели на валидационной выборке:\", best_result_f, \"Количество деревьев:\", best_est_f, \"Максимальная глубина:\", best_depth_f)\n"
   ]
  },
  {
   "cell_type": "code",
   "execution_count": 65,
   "metadata": {},
   "outputs": [],
   "source": [
    "model = RandomForestClassifier(random_state=RANDOM_ST, n_estimators=200, max_depth=18) \n",
    "model.fit(features_train, target_train)\n",
    "predicted_valid = model.predict(features_valid)"
   ]
  },
  {
   "cell_type": "code",
   "execution_count": 66,
   "metadata": {},
   "outputs": [
    {
     "name": "stdout",
     "output_type": "stream",
     "text": [
      "0.8661698504778796\n"
     ]
    }
   ],
   "source": [
    "probabilities_valid = model.predict_proba(features_valid)\n",
    "probabilities_one_valid = probabilities_valid[:, 1]\n",
    "auc_roc = roc_auc_score(target_valid, probabilities_one_valid)\n",
    "print(auc_roc)\n",
    "fpr, tpr, thresholds = roc_curve(target_valid, probabilities_one_valid) "
   ]
  },
  {
   "cell_type": "code",
   "execution_count": 67,
   "metadata": {},
   "outputs": [
    {
     "data": {
      "image/png": "[encoded data removed]",
      "text/plain": [
       "<Figure size 432x288 with 1 Axes>"
      ]
     },
     "metadata": {
      "needs_background": "light"
     },
     "output_type": "display_data"
    }
   ],
   "source": [
    "plt.figure()\n",
    "# ROC-кривая случайной модели (выглядит как прямая)\n",
    "plt.plot(fpr, tpr)\n",
    "plt.xlabel('False Positive Rate')\n",
    "plt.ylabel('True Positive Rate')\n",
    "x = np.array([0, 1])\n",
    "y = np.array([0, 1])\n",
    "plt.plot(x, y)\n",
    "plt.ylim([0.0, 1.0])\n",
    "plt.xlim([0.0, 1.0])\n",
    "plt.title('ROC-кривая')\n",
    "plt.show()"
   ]
  },
  {
   "cell_type": "markdown",
   "metadata": {},
   "source": [
    "#### Логистическая регрессия"
   ]
  },
  {
   "cell_type": "code",
   "execution_count": 68,
   "metadata": {},
   "outputs": [
    {
     "data": {
      "text/plain": [
       "0.06263982102908278"
      ]
     },
     "execution_count": 68,
     "metadata": {},
     "output_type": "execute_result"
    }
   ],
   "source": [
    "model_lr = LogisticRegression(random_state=RANDOM_ST, solver='liblinear', max_iter=1000)\n",
    "model_lr.fit(features_train, target_train)\n",
    "predicted_valid = model_lr.predict(features_valid)\n",
    "f1_score(target_valid, predicted_valid)"
   ]
  },
  {
   "cell_type": "code",
   "execution_count": 69,
   "metadata": {},
   "outputs": [
    {
     "name": "stdout",
     "output_type": "stream",
     "text": [
      "0.6986294832003153\n"
     ]
    }
   ],
   "source": [
    "probabilities_valid = model_lr.predict_proba(features_valid)\n",
    "probabilities_one_valid = probabilities_valid[:, 1]\n",
    "auc_roc = roc_auc_score(target_valid, probabilities_one_valid)\n",
    "print(auc_roc)\n",
    "fpr, tpr, thresholds = roc_curve(target_valid, probabilities_one_valid) "
   ]
  },
  {
   "cell_type": "code",
   "execution_count": 70,
   "metadata": {},
   "outputs": [
    {
     "data": {
      "image/png": "[encoded data removed]",
      "text/plain": [
       "<Figure size 432x288 with 1 Axes>"
      ]
     },
     "metadata": {
      "needs_background": "light"
     },
     "output_type": "display_data"
    }
   ],
   "source": [
    "plt.figure()\n",
    "# ROC-кривая случайной модели (выглядит как прямая)\n",
    "plt.plot(fpr, tpr)\n",
    "plt.xlabel('False Positive Rate')\n",
    "plt.ylabel('True Positive Rate')\n",
    "x = np.array([0, 1])\n",
    "y = np.array([0, 1])\n",
    "plt.plot(x, y)\n",
    "plt.ylim([0.0, 1.0])\n",
    "plt.xlim([0.0, 1.0])\n",
    "plt.title('ROC-кривая')\n",
    "plt.show()"
   ]
  },
  {
   "cell_type": "code",
   "execution_count": 71,
   "metadata": {
    "scrolled": true
   },
   "outputs": [
    {
     "data": {
      "text/html": [
       "<div>\n",
       "<style scoped>\n",
       "    .dataframe tbody tr th:only-of-type {\n",
       "        vertical-align: middle;\n",
       "    }\n",
       "\n",
       "    .dataframe tbody tr th {\n",
       "        vertical-align: top;\n",
       "    }\n",
       "\n",
       "    .dataframe thead th {\n",
       "        text-align: right;\n",
       "    }\n",
       "</style>\n",
       "<table border=\"1\" class=\"dataframe\">\n",
       "  <thead>\n",
       "    <tr style=\"text-align: right;\">\n",
       "      <th></th>\n",
       "      <th>Дерево решений</th>\n",
       "      <th>Случайный лес</th>\n",
       "      <th>Логистическая регрессия</th>\n",
       "    </tr>\n",
       "  </thead>\n",
       "  <tbody>\n",
       "    <tr>\n",
       "      <th>F1 с дисбалансом</th>\n",
       "      <td>0.545</td>\n",
       "      <td>0.627</td>\n",
       "      <td>0.062</td>\n",
       "    </tr>\n",
       "  </tbody>\n",
       "</table>\n",
       "</div>"
      ],
      "text/plain": [
       "                  Дерево решений  Случайный лес  Логистическая регрессия\n",
       "F1 с дисбалансом           0.545          0.627                    0.062"
      ]
     },
     "execution_count": 71,
     "metadata": {},
     "output_type": "execute_result"
    }
   ],
   "source": [
    "f1 = {'Дерево решений':0.545, 'Случайный лес':0.627, 'Логистическая регрессия':0.062} \n",
    "# Табличца для удобства сравнения. \n",
    "f1_df = pd.DataFrame(f1, index =['F1 с дисбалансом']) \n",
    "f1_df.head()"
   ]
  },
  {
   "cell_type": "markdown",
   "metadata": {},
   "source": [
    "Результат f1 уже сейчас сопоставим с необходимым для успешной сдачи проекта. Но мы знаем, что у нас выраженная разница в масштабе классов признаков:"
   ]
  },
  {
   "cell_type": "code",
   "execution_count": 72,
   "metadata": {},
   "outputs": [
    {
     "data": {
      "text/html": [
       "<div>\n",
       "<style scoped>\n",
       "    .dataframe tbody tr th:only-of-type {\n",
       "        vertical-align: middle;\n",
       "    }\n",
       "\n",
       "    .dataframe tbody tr th {\n",
       "        vertical-align: top;\n",
       "    }\n",
       "\n",
       "    .dataframe thead th {\n",
       "        text-align: right;\n",
       "    }\n",
       "</style>\n",
       "<table border=\"1\" class=\"dataframe\">\n",
       "  <thead>\n",
       "    <tr style=\"text-align: right;\">\n",
       "      <th></th>\n",
       "      <th>credit_score</th>\n",
       "      <th>age</th>\n",
       "      <th>tenure</th>\n",
       "      <th>balance</th>\n",
       "      <th>num_of_products</th>\n",
       "      <th>has_cr_card</th>\n",
       "      <th>is_active_member</th>\n",
       "      <th>estimated_salary</th>\n",
       "      <th>exited</th>\n",
       "      <th>geography_Germany</th>\n",
       "      <th>geography_Spain</th>\n",
       "      <th>gender_Male</th>\n",
       "    </tr>\n",
       "  </thead>\n",
       "  <tbody>\n",
       "    <tr>\n",
       "      <th>count</th>\n",
       "      <td>10000.000000</td>\n",
       "      <td>10000.000000</td>\n",
       "      <td>10000.000000</td>\n",
       "      <td>10000.000000</td>\n",
       "      <td>10000.000000</td>\n",
       "      <td>10000.00000</td>\n",
       "      <td>10000.000000</td>\n",
       "      <td>10000.000000</td>\n",
       "      <td>10000.000000</td>\n",
       "      <td>10000.000000</td>\n",
       "      <td>10000.000000</td>\n",
       "      <td>10000.000000</td>\n",
       "    </tr>\n",
       "    <tr>\n",
       "      <th>mean</th>\n",
       "      <td>650.528800</td>\n",
       "      <td>38.921800</td>\n",
       "      <td>5.000400</td>\n",
       "      <td>76485.889288</td>\n",
       "      <td>1.530200</td>\n",
       "      <td>0.70550</td>\n",
       "      <td>0.515100</td>\n",
       "      <td>100090.239881</td>\n",
       "      <td>0.203700</td>\n",
       "      <td>0.250900</td>\n",
       "      <td>0.247700</td>\n",
       "      <td>0.545700</td>\n",
       "    </tr>\n",
       "    <tr>\n",
       "      <th>std</th>\n",
       "      <td>96.653299</td>\n",
       "      <td>10.487806</td>\n",
       "      <td>2.769588</td>\n",
       "      <td>62397.405202</td>\n",
       "      <td>0.581654</td>\n",
       "      <td>0.45584</td>\n",
       "      <td>0.499797</td>\n",
       "      <td>57510.492818</td>\n",
       "      <td>0.402769</td>\n",
       "      <td>0.433553</td>\n",
       "      <td>0.431698</td>\n",
       "      <td>0.497932</td>\n",
       "    </tr>\n",
       "    <tr>\n",
       "      <th>min</th>\n",
       "      <td>350.000000</td>\n",
       "      <td>18.000000</td>\n",
       "      <td>0.000000</td>\n",
       "      <td>0.000000</td>\n",
       "      <td>1.000000</td>\n",
       "      <td>0.00000</td>\n",
       "      <td>0.000000</td>\n",
       "      <td>11.580000</td>\n",
       "      <td>0.000000</td>\n",
       "      <td>0.000000</td>\n",
       "      <td>0.000000</td>\n",
       "      <td>0.000000</td>\n",
       "    </tr>\n",
       "    <tr>\n",
       "      <th>25%</th>\n",
       "      <td>584.000000</td>\n",
       "      <td>32.000000</td>\n",
       "      <td>3.000000</td>\n",
       "      <td>0.000000</td>\n",
       "      <td>1.000000</td>\n",
       "      <td>0.00000</td>\n",
       "      <td>0.000000</td>\n",
       "      <td>51002.110000</td>\n",
       "      <td>0.000000</td>\n",
       "      <td>0.000000</td>\n",
       "      <td>0.000000</td>\n",
       "      <td>0.000000</td>\n",
       "    </tr>\n",
       "    <tr>\n",
       "      <th>50%</th>\n",
       "      <td>652.000000</td>\n",
       "      <td>37.000000</td>\n",
       "      <td>5.000000</td>\n",
       "      <td>97198.540000</td>\n",
       "      <td>1.000000</td>\n",
       "      <td>1.00000</td>\n",
       "      <td>1.000000</td>\n",
       "      <td>100193.915000</td>\n",
       "      <td>0.000000</td>\n",
       "      <td>0.000000</td>\n",
       "      <td>0.000000</td>\n",
       "      <td>1.000000</td>\n",
       "    </tr>\n",
       "    <tr>\n",
       "      <th>75%</th>\n",
       "      <td>718.000000</td>\n",
       "      <td>44.000000</td>\n",
       "      <td>7.000000</td>\n",
       "      <td>127644.240000</td>\n",
       "      <td>2.000000</td>\n",
       "      <td>1.00000</td>\n",
       "      <td>1.000000</td>\n",
       "      <td>149388.247500</td>\n",
       "      <td>0.000000</td>\n",
       "      <td>1.000000</td>\n",
       "      <td>0.000000</td>\n",
       "      <td>1.000000</td>\n",
       "    </tr>\n",
       "    <tr>\n",
       "      <th>max</th>\n",
       "      <td>850.000000</td>\n",
       "      <td>92.000000</td>\n",
       "      <td>10.000000</td>\n",
       "      <td>250898.090000</td>\n",
       "      <td>4.000000</td>\n",
       "      <td>1.00000</td>\n",
       "      <td>1.000000</td>\n",
       "      <td>199992.480000</td>\n",
       "      <td>1.000000</td>\n",
       "      <td>1.000000</td>\n",
       "      <td>1.000000</td>\n",
       "      <td>1.000000</td>\n",
       "    </tr>\n",
       "  </tbody>\n",
       "</table>\n",
       "</div>"
      ],
      "text/plain": [
       "       credit_score           age        tenure        balance  \\\n",
       "count  10000.000000  10000.000000  10000.000000   10000.000000   \n",
       "mean     650.528800     38.921800      5.000400   76485.889288   \n",
       "std       96.653299     10.487806      2.769588   62397.405202   \n",
       "min      350.000000     18.000000      0.000000       0.000000   \n",
       "25%      584.000000     32.000000      3.000000       0.000000   \n",
       "50%      652.000000     37.000000      5.000000   97198.540000   \n",
       "75%      718.000000     44.000000      7.000000  127644.240000   \n",
       "max      850.000000     92.000000     10.000000  250898.090000   \n",
       "\n",
       "       num_of_products  has_cr_card  is_active_member  estimated_salary  \\\n",
       "count     10000.000000  10000.00000      10000.000000      10000.000000   \n",
       "mean          1.530200      0.70550          0.515100     100090.239881   \n",
       "std           0.581654      0.45584          0.499797      57510.492818   \n",
       "min           1.000000      0.00000          0.000000         11.580000   \n",
       "25%           1.000000      0.00000          0.000000      51002.110000   \n",
       "50%           1.000000      1.00000          1.000000     100193.915000   \n",
       "75%           2.000000      1.00000          1.000000     149388.247500   \n",
       "max           4.000000      1.00000          1.000000     199992.480000   \n",
       "\n",
       "             exited  geography_Germany  geography_Spain   gender_Male  \n",
       "count  10000.000000       10000.000000     10000.000000  10000.000000  \n",
       "mean       0.203700           0.250900         0.247700      0.545700  \n",
       "std        0.402769           0.433553         0.431698      0.497932  \n",
       "min        0.000000           0.000000         0.000000      0.000000  \n",
       "25%        0.000000           0.000000         0.000000      0.000000  \n",
       "50%        0.000000           0.000000         0.000000      1.000000  \n",
       "75%        0.000000           1.000000         0.000000      1.000000  \n",
       "max        1.000000           1.000000         1.000000      1.000000  "
      ]
     },
     "execution_count": 72,
     "metadata": {},
     "output_type": "execute_result"
    }
   ],
   "source": [
    "data_ohe.describe()"
   ]
  },
  {
   "cell_type": "markdown",
   "metadata": {},
   "source": [
    "Часть признаков имеет масштаб от 0 до 1, а разброс признаков credit_score, balance, estimated_salary - несопоставим, так estimated_salary от 11 до 199992. "
   ]
  },
  {
   "cell_type": "markdown",
   "metadata": {},
   "source": [
    "Помимо этого, есть дисбаланс и в частоте признаков, поэтому в дальнейшем попробуем их сбалансировать с использованием аргумента class_weight.\n"
   ]
  },
  {
   "cell_type": "markdown",
   "metadata": {},
   "source": [
    "### Проверка модели после масштабирования признаков"
   ]
  },
  {
   "cell_type": "markdown",
   "metadata": {},
   "source": [
    "У наших признаков разный масштаб и нужно стандартизировать их. В данных есть столбцы: age,tenure, balance, num_of_product и estimated_salary, в которых данные имеют несопоставимый разброс. Чтобы избежать этой ловушки, при которой одни признаки будут ставиться выше других,их приводят к одному масштабу. Применим стандартизацию данных."
   ]
  },
  {
   "cell_type": "code",
   "execution_count": 73,
   "metadata": {},
   "outputs": [
    {
     "name": "stdout",
     "output_type": "stream",
     "text": [
      "      credit_score       age    tenure   balance  num_of_products  \\\n",
      "2837     -1.040434  0.953312  0.358340  0.774657        -0.914708   \n",
      "9925      0.454006 -0.095244 -0.366128  1.910540        -0.914708   \n",
      "8746      0.103585 -0.476537  1.082807  0.481608         0.820981   \n",
      "660      -0.184996  0.190726 -0.366128  0.088439        -0.914708   \n",
      "3610     -0.720933  1.620574 -1.452829  0.879129        -0.914708   \n",
      "\n",
      "      has_cr_card  is_active_member  estimated_salary  geography_Germany  \\\n",
      "2837            0                 1         -0.119110                  1   \n",
      "9925            1                 1         -0.258658                  0   \n",
      "8746            0                 1          1.422836                  0   \n",
      "660             1                 1         -1.160427                  1   \n",
      "3610            1                 0          0.113236                  0   \n",
      "\n",
      "      geography_Spain  gender_Male  \n",
      "2837                0            0  \n",
      "9925                0            0  \n",
      "8746                0            1  \n",
      "660                 0            0  \n",
      "3610                0            0  \n"
     ]
    }
   ],
   "source": [
    "scaler = StandardScaler()\n",
    "numeric = ['age','credit_score', 'tenure', 'balance', 'num_of_products', 'estimated_salary']\n",
    "scaler.fit(features_train[numeric])\n",
    "features_train[numeric] = scaler.transform(features_train[numeric])\n",
    "features_valid[numeric] = scaler.transform(features_valid[numeric])\n",
    "features_test[numeric] = scaler.transform(features_test[numeric])\n",
    "\n",
    "print(features_train.head())"
   ]
  },
  {
   "cell_type": "markdown",
   "metadata": {},
   "source": [
    "Ок, а что стало с нашими предсказаниями?"
   ]
  },
  {
   "cell_type": "markdown",
   "metadata": {},
   "source": [
    "#### Дерево решений"
   ]
  },
  {
   "cell_type": "code",
   "execution_count": 74,
   "metadata": {},
   "outputs": [
    {
     "name": "stdout",
     "output_type": "stream",
     "text": [
      "max_depth = 1 : 0.0\n",
      "max_depth = 2 : 0.5203488372093023\n",
      "max_depth = 3 : 0.5375722543352601\n",
      "max_depth = 4 : 0.5206349206349208\n",
      "max_depth = 5 : 0.5454545454545455\n",
      "\n",
      "Лучшая модель после шага 1: DecisionTreeClassifier(max_depth=5, random_state=12345) F1 наилучшей модели на валидационной выборке: 0.5454545454545455 Максимальная глубина: 5\n"
     ]
    }
   ],
   "source": [
    "model = DecisionTreeClassifier(random_state=RANDOM_ST)\n",
    "model.fit(features_train, target_train)\n",
    "\n",
    "best_model = None\n",
    "best_result = 0\n",
    "best_depth = 0\n",
    "for depth in range(1, 6): \n",
    "    model = DecisionTreeClassifier(random_state=RANDOM_ST, max_depth=depth ) # < создаем модель, указав max_depth=depth \n",
    "    model.fit(features_train, target_train)\n",
    "    predicted_valid = model.predict(features_valid) # < находим предсказания на валидационной выборке \n",
    "    print(\"max_depth =\", depth, \": \", end='')\n",
    "    print(f1_score(target_valid, predicted_valid))\n",
    "    result = f1_score(target_valid, predicted_valid) # считаем значение метрики F1 на валидационной выборке\n",
    "    if result > best_result:\n",
    "        best_model = model\n",
    "        best_result = result\n",
    "        best_depth = depth    \n",
    "print(\"\")\n",
    "print('Лучшая модель после шага 1:', best_model, \"F1 наилучшей модели на валидационной выборке:\", best_result, \"Максимальная глубина:\", best_depth)"
   ]
  },
  {
   "cell_type": "markdown",
   "metadata": {},
   "source": [
    "Лучшая модель - и показатель F1 без изменений, а что покажет нам roc- кривая?"
   ]
  },
  {
   "cell_type": "code",
   "execution_count": 75,
   "metadata": {},
   "outputs": [],
   "source": [
    "model = DecisionTreeClassifier(random_state=RANDOM_ST, max_depth=5 ) # < создаем модель, указав max_depth=depth \n",
    "model.fit(features_train, target_train)\n",
    "predicted_valid = model.predict(features_valid)"
   ]
  },
  {
   "cell_type": "code",
   "execution_count": 76,
   "metadata": {},
   "outputs": [
    {
     "name": "stdout",
     "output_type": "stream",
     "text": [
      "0.849793544930535\n"
     ]
    }
   ],
   "source": [
    "probabilities_valid = model.predict_proba(features_valid)\n",
    "probabilities_one_valid = probabilities_valid[:, 1]\n",
    "auc_roc = roc_auc_score(target_valid, probabilities_one_valid)\n",
    "print(auc_roc)\n",
    "fpr, tpr, thresholds = roc_curve(target_valid, probabilities_one_valid) \n"
   ]
  },
  {
   "cell_type": "code",
   "execution_count": 77,
   "metadata": {},
   "outputs": [
    {
     "data": {
      "image/png": "[encoded data removed]",
      "text/plain": [
       "<Figure size 432x288 with 1 Axes>"
      ]
     },
     "metadata": {
      "needs_background": "light"
     },
     "output_type": "display_data"
    }
   ],
   "source": [
    "plt.figure()\n",
    "plt.plot(fpr, tpr)\n",
    "plt.xlabel('False Positive Rate')\n",
    "plt.ylabel('True Positive Rate')\n",
    "x = np.array([0, 1])\n",
    "y = np.array([0, 1])\n",
    "plt.plot(x, y)\n",
    "plt.ylim([0.0, 1.0])\n",
    "plt.xlim([0.0, 1.0])\n",
    "plt.title('ROC-кривая')\n",
    "plt.show()"
   ]
  },
  {
   "cell_type": "markdown",
   "metadata": {},
   "source": [
    "А вот roc-кривая говорит, что мы на верном пути! Плoщадь под кривой увеличилась с 0.819 до 0.849 "
   ]
  },
  {
   "cell_type": "markdown",
   "metadata": {},
   "source": [
    "#### Случайный лес"
   ]
  },
  {
   "cell_type": "markdown",
   "metadata": {},
   "source": [
    "Для быстроты проверки я сокращаю широту перебора цикла после предварительного подбора параметров. Подбор производился на большем диапазоне: est in range(50, 401, 10), depth in range (2, 20). "
   ]
  },
  {
   "cell_type": "markdown",
   "metadata": {},
   "source": [
    "У нас был  результат F1 наилучшей модели на валидационной выборке 0.5945121951219512 Количество деревьев: 130 Максимальная глубина: 12. Посмотрим, что получится сейчас:"
   ]
  },
  {
   "cell_type": "markdown",
   "metadata": {},
   "source": [
    "Посше стратификации лучшая модель из шага 2.1.2 была с F1 0.6275659824046922, Количество деревьев: 200 Максимальная глубина: 18 (в одном из циклов - с глубиной 80, но результат не повторялся). Посмотрим, что получится сейчас:"
   ]
  },
  {
   "cell_type": "code",
   "execution_count": 78,
   "metadata": {
    "scrolled": true
   },
   "outputs": [
    {
     "name": "stdout",
     "output_type": "stream",
     "text": [
      "F1 наилучшей модели на валидационной выборке: 0.6286549707602339 Количество деревьев: 170 Максимальная глубина: 18\n"
     ]
    }
   ],
   "source": [
    "best_model_f = None\n",
    "best_result_f = 0\n",
    "best_est_f = 0\n",
    "best_depth_f = 0\n",
    "for est in range(160, 201, 10):\n",
    "    for depth in range (12, 19):\n",
    "        model = RandomForestClassifier(random_state=RANDOM_ST, n_estimators=est, max_depth=depth) \n",
    "        model.fit(features_train, target_train) \n",
    "        predicted_valid = model.predict(features_valid)\n",
    "        result_f = f1_score(target_valid, predicted_valid) # считаем значение метрики F1 на валидационной выборке\n",
    "        if result_f > best_result_f:\n",
    "            best_model_f = model\n",
    "            best_result_f = result_f\n",
    "            best_est_f = est\n",
    "            best_depth_f = depth\n",
    "\n",
    "print(\"F1 наилучшей модели на валидационной выборке:\", best_result_f, \"Количество деревьев:\", best_est_f, \"Максимальная глубина:\", best_depth_f)\n"
   ]
  },
  {
   "cell_type": "code",
   "execution_count": 79,
   "metadata": {},
   "outputs": [],
   "source": [
    "model = RandomForestClassifier(random_state=RANDOM_ST, n_estimators=170, max_depth=18) \n",
    "model.fit(features_train, target_train)\n",
    "predicted_valid = model.predict(features_valid)"
   ]
  },
  {
   "cell_type": "code",
   "execution_count": 80,
   "metadata": {},
   "outputs": [
    {
     "name": "stdout",
     "output_type": "stream",
     "text": [
      "0.865701824071337\n"
     ]
    }
   ],
   "source": [
    "probabilities_valid = model.predict_proba(features_valid)\n",
    "probabilities_one_valid = probabilities_valid[:, 1]\n",
    "auc_roc = roc_auc_score(target_valid, probabilities_one_valid)\n",
    "print(auc_roc)\n",
    "fpr, tpr, thresholds = roc_curve(target_valid, probabilities_one_valid) "
   ]
  },
  {
   "cell_type": "markdown",
   "metadata": {},
   "source": [
    "Новые данные:\n",
    "F1 наилучшей модели на валидационной выборке: 0.6286549707602339 Количество деревьев: 170 Максимальная глубина: 18"
   ]
  },
  {
   "cell_type": "code",
   "execution_count": 81,
   "metadata": {},
   "outputs": [
    {
     "data": {
      "image/png": "[encoded data removed]",
      "text/plain": [
       "<Figure size 432x288 with 1 Axes>"
      ]
     },
     "metadata": {
      "needs_background": "light"
     },
     "output_type": "display_data"
    }
   ],
   "source": [
    "plt.figure()\n",
    "plt.plot(fpr, tpr)\n",
    "plt.xlabel('False Positive Rate')\n",
    "plt.ylabel('True Positive Rate')\n",
    "x = np.array([0, 1])\n",
    "y = np.array([0, 1])\n",
    "plt.plot(x, y)\n",
    "plt.ylim([0.0, 1.0])\n",
    "plt.xlim([0.0, 1.0])\n",
    "plt.title('ROC-кривая')\n",
    "plt.show()"
   ]
  },
  {
   "cell_type": "markdown",
   "metadata": {},
   "source": [
    "F1 наилучшей модели возросла с 0.627566 до 0.59549 , а вот площадь под кривой тоже увеличилась с 0.84778 до 0.86570. "
   ]
  },
  {
   "cell_type": "markdown",
   "metadata": {},
   "source": [
    "После стратификации результат лучше! Теперь F1 наилучшей модели на валидационной выборке: 0.6286, а площадь под кривой до 0.86657! Количество деревьев: 170 Максимальная глубина: 18\n"
   ]
  },
  {
   "cell_type": "markdown",
   "metadata": {},
   "source": [
    "Какой показатель важнее, F1 или auc-roc? И стоило ли вообще перевыбирать модель после масштабирования?. Ответа у меня пока нет. "
   ]
  },
  {
   "cell_type": "markdown",
   "metadata": {},
   "source": [
    "А как себя показажет предыдущая топ-модель на новых данных?"
   ]
  },
  {
   "cell_type": "code",
   "execution_count": 82,
   "metadata": {},
   "outputs": [
    {
     "data": {
      "text/plain": [
       "0.6048632218844985"
      ]
     },
     "execution_count": 82,
     "metadata": {},
     "output_type": "execute_result"
    }
   ],
   "source": [
    "model = RandomForestClassifier(random_state=RANDOM_ST, n_estimators=130, max_depth=12) \n",
    "model.fit(features_train, target_train)\n",
    "predicted_valid = model.predict(features_valid)\n",
    "f1_score(target_valid, predicted_valid)"
   ]
  },
  {
   "cell_type": "code",
   "execution_count": 83,
   "metadata": {},
   "outputs": [
    {
     "name": "stdout",
     "output_type": "stream",
     "text": [
      "0.8695391787368212\n"
     ]
    }
   ],
   "source": [
    "probabilities_valid = model.predict_proba(features_valid)\n",
    "probabilities_one_valid = probabilities_valid[:, 1]\n",
    "auc_roc = roc_auc_score(target_valid, probabilities_one_valid)\n",
    "print(auc_roc)\n",
    "fpr, tpr, thresholds = roc_curve(target_valid, probabilities_one_valid) "
   ]
  },
  {
   "cell_type": "markdown",
   "metadata": {},
   "source": [
    "А вот очень даже хорошо она выглядит по показателю площади под кривой. Но в нашем исследовании F1 - основной показатель, и я выбираю для дальнейшей оценки модель с F1 на валидационной выборке 0.6286, количество деревьев: 170 Максимальная глубина: 18"
   ]
  },
  {
   "cell_type": "markdown",
   "metadata": {},
   "source": [
    "#### Логистическая регрессия"
   ]
  },
  {
   "cell_type": "markdown",
   "metadata": {},
   "source": [
    "И у нас осталась для прогона логистическая регрессия. С её прошлыми показателями F1 0.08386 и auc-roc- 0.67279, не топ, но что теперь?"
   ]
  },
  {
   "cell_type": "code",
   "execution_count": 84,
   "metadata": {},
   "outputs": [
    {
     "data": {
      "text/plain": [
       "0.3076923076923077"
      ]
     },
     "execution_count": 84,
     "metadata": {},
     "output_type": "execute_result"
    }
   ],
   "source": [
    "model_lr = LogisticRegression(random_state=RANDOM_ST, solver='liblinear', max_iter=1000)\n",
    "model_lr.fit(features_train, target_train)\n",
    "predicted_valid = model_lr.predict(features_valid)\n",
    "f1_score(target_valid, predicted_valid)"
   ]
  },
  {
   "cell_type": "code",
   "execution_count": 85,
   "metadata": {},
   "outputs": [
    {
     "name": "stdout",
     "output_type": "stream",
     "text": [
      "0.7874882993398364\n"
     ]
    }
   ],
   "source": [
    "probabilities_valid = model_lr.predict_proba(features_valid)\n",
    "probabilities_one_valid = probabilities_valid[:, 1]\n",
    "auc_roc = roc_auc_score(target_valid, probabilities_one_valid)\n",
    "print(auc_roc)\n",
    "fpr, tpr, thresholds = roc_curve(target_valid, probabilities_one_valid) "
   ]
  },
  {
   "cell_type": "code",
   "execution_count": 86,
   "metadata": {
    "scrolled": true
   },
   "outputs": [
    {
     "data": {
      "image/png": "[encoded data removed]",
      "text/plain": [
       "<Figure size 432x288 with 1 Axes>"
      ]
     },
     "metadata": {
      "needs_background": "light"
     },
     "output_type": "display_data"
    }
   ],
   "source": [
    "plt.figure()\n",
    "# ROC-кривая случайной модели (выглядит как прямая)\n",
    "plt.plot(fpr, tpr)\n",
    "plt.xlabel('False Positive Rate')\n",
    "plt.ylabel('True Positive Rate')\n",
    "x = np.array([0, 1])\n",
    "y = np.array([0, 1])\n",
    "plt.plot(x, y)\n",
    "plt.ylim([0.0, 1.0])\n",
    "plt.xlim([0.0, 1.0])\n",
    "plt.title('ROC-кривая')\n",
    "plt.show()"
   ]
  },
  {
   "cell_type": "markdown",
   "metadata": {},
   "source": [
    "Ого, как выросли показатели, маленький шаг для человека, и огромный - для модели!!!"
   ]
  },
  {
   "cell_type": "code",
   "execution_count": 87,
   "metadata": {
    "scrolled": true
   },
   "outputs": [
    {
     "data": {
      "text/html": [
       "<div>\n",
       "<style scoped>\n",
       "    .dataframe tbody tr th:only-of-type {\n",
       "        vertical-align: middle;\n",
       "    }\n",
       "\n",
       "    .dataframe tbody tr th {\n",
       "        vertical-align: top;\n",
       "    }\n",
       "\n",
       "    .dataframe thead th {\n",
       "        text-align: right;\n",
       "    }\n",
       "</style>\n",
       "<table border=\"1\" class=\"dataframe\">\n",
       "  <thead>\n",
       "    <tr style=\"text-align: right;\">\n",
       "      <th></th>\n",
       "      <th>F1 \"сырая\"</th>\n",
       "      <th>F1 масштаб</th>\n",
       "    </tr>\n",
       "  </thead>\n",
       "  <tbody>\n",
       "    <tr>\n",
       "      <th>Дерево решений</th>\n",
       "      <td>0.545</td>\n",
       "      <td>0.545</td>\n",
       "    </tr>\n",
       "    <tr>\n",
       "      <th>Случайный лес</th>\n",
       "      <td>0.627</td>\n",
       "      <td>0.629</td>\n",
       "    </tr>\n",
       "    <tr>\n",
       "      <th>Логистическая регрессия</th>\n",
       "      <td>0.062</td>\n",
       "      <td>0.787</td>\n",
       "    </tr>\n",
       "  </tbody>\n",
       "</table>\n",
       "</div>"
      ],
      "text/plain": [
       "                         F1 \"сырая\"  F1 масштаб\n",
       "Дерево решений                0.545       0.545\n",
       "Случайный лес                 0.627       0.629\n",
       "Логистическая регрессия       0.062       0.787"
      ]
     },
     "execution_count": 87,
     "metadata": {},
     "output_type": "execute_result"
    }
   ],
   "source": [
    "f1 = {'F1 \"сырая\"':[0.545, 0.627, 0.062], \n",
    "      'F1 масштаб':[0.545, 0.629, 0.787]}\n",
    "# Таблица для удобства сравнения. \n",
    "f1_df = pd.DataFrame(f1, index =['Дерево решений', 'Случайный лес', 'Логистическая регрессия' ]) \n",
    "f1_df.head()"
   ]
  },
  {
   "cell_type": "markdown",
   "metadata": {},
   "source": [
    "Переходим к ликвидации дисбаланса."
   ]
  },
  {
   "cell_type": "markdown",
   "metadata": {},
   "source": [
    "**Вывод** Лучшей моделью для следующих шагов и тестирования признана модель случайный лес с гиперпараметрами: количество деревьев - 320 Максимальная глубина - 18."
   ]
  },
  {
   "cell_type": "markdown",
   "metadata": {},
   "source": [
    "## Борьба с дисбалансом"
   ]
  },
  {
   "cell_type": "markdown",
   "metadata": {},
   "source": [
    "Сначала проверим, как справится механизированный метод, что будет, если мы просто воспользуемся параметром class_weight='balanced'?"
   ]
  },
  {
   "cell_type": "code",
   "execution_count": 88,
   "metadata": {
    "scrolled": true
   },
   "outputs": [
    {
     "data": {
      "text/plain": [
       "0.5349922239502332"
      ]
     },
     "execution_count": 88,
     "metadata": {},
     "output_type": "execute_result"
    }
   ],
   "source": [
    "model = RandomForestClassifier(random_state=RANDOM_ST, n_estimators=170, max_depth=18, class_weight='balanced') \n",
    "model.fit(features_train, target_train)\n",
    "predicted_test = model.predict(features_test)\n",
    "f1_score(target_test, predicted_test)"
   ]
  },
  {
   "cell_type": "code",
   "execution_count": 89,
   "metadata": {},
   "outputs": [
    {
     "name": "stdout",
     "output_type": "stream",
     "text": [
      "0.8659827938713175\n"
     ]
    }
   ],
   "source": [
    "probabilities_valid = model.predict_proba(features_valid)\n",
    "probabilities_one_valid = probabilities_valid[:, 1]\n",
    "auc_roc = roc_auc_score(target_valid, probabilities_one_valid)\n",
    "print(auc_roc)"
   ]
  },
  {
   "cell_type": "markdown",
   "metadata": {},
   "source": [
    "F1 0.534. Достаточно для целей данной работы, но мы продолжим."
   ]
  },
  {
   "cell_type": "markdown",
   "metadata": {},
   "source": [
    "Посмотрим на дисбаланс целевого признака:"
   ]
  },
  {
   "cell_type": "code",
   "execution_count": 90,
   "metadata": {},
   "outputs": [
    {
     "data": {
      "text/plain": [
       "0    7963\n",
       "1    2037\n",
       "Name: exited, dtype: int64"
      ]
     },
     "execution_count": 90,
     "metadata": {},
     "output_type": "execute_result"
    }
   ],
   "source": [
    "target.value_counts()"
   ]
  },
  {
   "cell_type": "code",
   "execution_count": 91,
   "metadata": {},
   "outputs": [
    {
     "data": {
      "text/plain": [
       "0.2037"
      ]
     },
     "execution_count": 91,
     "metadata": {},
     "output_type": "execute_result"
    }
   ],
   "source": [
    "target.sum()/len(target)"
   ]
  },
  {
   "cell_type": "markdown",
   "metadata": {},
   "source": [
    "Целевой признак составляет 1/5 от общего числа признаков и меньше признака 0 примерно в 4 раза. Применим технику upsampling с коэффициентом repeat 4 для устранения дисбаланса"
   ]
  },
  {
   "cell_type": "code",
   "execution_count": 92,
   "metadata": {},
   "outputs": [],
   "source": [
    "def upsample(features, target, repeat):\n",
    "    features_zeros = features[target == 0]\n",
    "    features_ones = features[target == 1]\n",
    "    target_zeros = target[target == 0]\n",
    "    target_ones = target[target == 1]\n",
    "\n",
    "    features_upsampled = pd.concat([features_zeros] + [features_ones] * repeat)\n",
    "    target_upsampled = pd.concat([target_zeros] + [target_ones] * repeat)\n",
    "    features_upsampled, target_upsampled = shuffle(features_upsampled, target_upsampled, random_state=12345)\n",
    "    \n",
    "    return features_upsampled, target_upsampled\n"
   ]
  },
  {
   "cell_type": "code",
   "execution_count": 93,
   "metadata": {},
   "outputs": [],
   "source": [
    "features_up, target_up = upsample( features_train, target_train, 4)\n"
   ]
  },
  {
   "cell_type": "code",
   "execution_count": 94,
   "metadata": {},
   "outputs": [
    {
     "data": {
      "text/plain": [
       "1    4888\n",
       "0    4778\n",
       "Name: exited, dtype: int64"
      ]
     },
     "execution_count": 94,
     "metadata": {},
     "output_type": "execute_result"
    }
   ],
   "source": [
    "target_up.value_counts()"
   ]
  },
  {
   "cell_type": "markdown",
   "metadata": {},
   "source": [
    "Достигнут почти паритет. Что скажет наша модель, признанная лучшей по итогам шага 2?"
   ]
  },
  {
   "cell_type": "code",
   "execution_count": 95,
   "metadata": {},
   "outputs": [
    {
     "data": {
      "text/plain": [
       "0.6251621271076524"
      ]
     },
     "execution_count": 95,
     "metadata": {},
     "output_type": "execute_result"
    }
   ],
   "source": [
    "model = RandomForestClassifier(random_state=RANDOM_ST, n_estimators=170, max_depth=18) \n",
    "model.fit(features_up, target_up)\n",
    "predicted_valid = model.predict(features_valid)\n",
    "f1_score(target_valid, predicted_valid)"
   ]
  },
  {
   "cell_type": "code",
   "execution_count": 96,
   "metadata": {},
   "outputs": [
    {
     "name": "stdout",
     "output_type": "stream",
     "text": [
      "0.8655062998817618\n"
     ]
    }
   ],
   "source": [
    "probabilities_valid = model.predict_proba(features_valid)\n",
    "probabilities_one_valid = probabilities_valid[:, 1]\n",
    "auc_roc = roc_auc_score(target_valid, probabilities_one_valid)\n",
    "print(auc_roc)"
   ]
  },
  {
   "cell_type": "markdown",
   "metadata": {},
   "source": [
    "Отлично, рост обоих показателей, переходим к тестированию модели."
   ]
  },
  {
   "cell_type": "markdown",
   "metadata": {},
   "source": [
    "**Вывод** по результатам подбора методов для борьбы с дисбалансом мы остановились на варианте с данными, сбалансироваными техникой upsampling "
   ]
  },
  {
   "cell_type": "markdown",
   "metadata": {},
   "source": [
    "## Тестирование модели"
   ]
  },
  {
   "cell_type": "markdown",
   "metadata": {},
   "source": [
    "Начинаем тестирование лучшей модели, модель случайный лес с гиперпараметрами: количество деревьев - 170 Максимальная глубина - 18"
   ]
  },
  {
   "cell_type": "code",
   "execution_count": 97,
   "metadata": {},
   "outputs": [
    {
     "data": {
      "text/plain": [
       "0.5484848484848485"
      ]
     },
     "execution_count": 97,
     "metadata": {},
     "output_type": "execute_result"
    }
   ],
   "source": [
    "model = RandomForestClassifier(random_state=RANDOM_ST, n_estimators=170, max_depth=18)# class_weight='balanced') \n",
    "model.fit(features_train, target_train)\n",
    "predicted_test = model.predict(features_test)\n",
    "f1_score(target_test, predicted_test)"
   ]
  },
  {
   "cell_type": "code",
   "execution_count": 98,
   "metadata": {},
   "outputs": [
    {
     "name": "stdout",
     "output_type": "stream",
     "text": [
      "0.8505616556464014\n"
     ]
    }
   ],
   "source": [
    "probabilities_test = model.predict_proba(features_test)\n",
    "probabilities_one_test = probabilities_test[:, 1]\n",
    "auc_roc = roc_auc_score(target_test, probabilities_one_test)\n",
    "print(auc_roc)\n",
    "fpr, tpr, thresholds = roc_curve(target_test, probabilities_one_test) "
   ]
  },
  {
   "cell_type": "code",
   "execution_count": 99,
   "metadata": {
    "scrolled": true
   },
   "outputs": [
    {
     "data": {
      "image/png": "[encoded data removed]",
      "text/plain": [
       "<Figure size 432x288 with 1 Axes>"
      ]
     },
     "metadata": {
      "needs_background": "light"
     },
     "output_type": "display_data"
    }
   ],
   "source": [
    "plt.figure()\n",
    "plt.plot(fpr, tpr)\n",
    "plt.xlabel('False Positive Rate')\n",
    "plt.ylabel('True Positive Rate')\n",
    "x = np.array([0, 1])\n",
    "y = np.array([0, 1])\n",
    "plt.plot(x, y)\n",
    "plt.ylim([0.0, 1.0])\n",
    "plt.xlim([0.0, 1.0])\n",
    "plt.title('ROC-кривая')\n",
    "plt.show()"
   ]
  },
  {
   "cell_type": "markdown",
   "metadata": {},
   "source": [
    "Вот и результат нашего труда по подбору модели. f1 - 0.5484848484848485 , auc-roc - 0.8505616556464014 Но мы немного подсмотрим по другим вариантам, вдруг будет лучший результат на тестовой выборке"
   ]
  },
  {
   "cell_type": "code",
   "execution_count": 100,
   "metadata": {},
   "outputs": [
    {
     "data": {
      "text/plain": [
       "0.49087893864013277"
      ]
     },
     "execution_count": 100,
     "metadata": {},
     "output_type": "execute_result"
    }
   ],
   "source": [
    "model_t = DecisionTreeClassifier(random_state=RANDOM_ST, max_depth=5)\n",
    "model_t.fit(features_train, target_train)\n",
    "predicted_test = model_t.predict(features_test)\n",
    "f1_score(target_test, predicted_test)"
   ]
  },
  {
   "cell_type": "code",
   "execution_count": 101,
   "metadata": {},
   "outputs": [
    {
     "name": "stdout",
     "output_type": "stream",
     "text": [
      "0.8220007372549745\n"
     ]
    }
   ],
   "source": [
    "probabilities_test = model_t.predict_proba(features_test)\n",
    "probabilities_one_test = probabilities_test[:, 1]\n",
    "auc_roc = roc_auc_score(target_test, probabilities_one_test)\n",
    "print(auc_roc)\n",
    "fpr, tpr, thresholds = roc_curve(target_test, probabilities_one_test) "
   ]
  },
  {
   "cell_type": "markdown",
   "metadata": {},
   "source": [
    "Нет, она по-прежнему в отстающих. А, что если ещё проверить модель из далёкого прошлого, n_estimators=130, max_depth=12?"
   ]
  },
  {
   "cell_type": "code",
   "execution_count": 102,
   "metadata": {},
   "outputs": [
    {
     "data": {
      "text/plain": [
       "0.546875"
      ]
     },
     "execution_count": 102,
     "metadata": {},
     "output_type": "execute_result"
    }
   ],
   "source": [
    "model = RandomForestClassifier(random_state=RANDOM_ST, n_estimators=130, max_depth=12)#, class_weight='balanced') \n",
    "model.fit(features_train, target_train)\n",
    "predicted_test = model.predict(features_test)\n",
    "f1_score(target_test, predicted_test)"
   ]
  },
  {
   "cell_type": "code",
   "execution_count": 103,
   "metadata": {},
   "outputs": [
    {
     "name": "stdout",
     "output_type": "stream",
     "text": [
      "0.854316566180973\n"
     ]
    }
   ],
   "source": [
    "probabilities_test = model.predict_proba(features_test)\n",
    "probabilities_one_test = probabilities_test[:, 1]\n",
    "auc_roc = roc_auc_score(target_test, probabilities_one_test)\n",
    "print(auc_roc)\n",
    "fpr, tpr, thresholds = roc_curve(target_test, probabilities_one_test) "
   ]
  },
  {
   "cell_type": "markdown",
   "metadata": {},
   "source": [
    "Немного выше по auc-roc 0.8543.\n"
   ]
  },
  {
   "cell_type": "markdown",
   "metadata": {},
   "source": [
    "Ну и наша модель из шага 2.2 -Случайный лес с глубиной 19 и количеством деревьев 350 (отбракованная по подозрению в переобучении):"
   ]
  },
  {
   "cell_type": "code",
   "execution_count": 104,
   "metadata": {},
   "outputs": [
    {
     "data": {
      "text/plain": [
       "0.5474006116207951"
      ]
     },
     "execution_count": 104,
     "metadata": {},
     "output_type": "execute_result"
    }
   ],
   "source": [
    "model = RandomForestClassifier(random_state=RANDOM_ST, n_estimators=350, max_depth=19)# class_weight='balanced') \n",
    "model.fit(features_train, target_train)\n",
    "predicted_test = model.predict(features_test)\n",
    "f1_score(target_test, predicted_test)"
   ]
  },
  {
   "cell_type": "code",
   "execution_count": 105,
   "metadata": {
    "scrolled": true
   },
   "outputs": [
    {
     "name": "stdout",
     "output_type": "stream",
     "text": [
      "0.8505254098474437\n"
     ]
    }
   ],
   "source": [
    "probabilities_test = model.predict_proba(features_test)\n",
    "probabilities_one_test = probabilities_test[:, 1]\n",
    "auc_roc = roc_auc_score(target_test, probabilities_one_test)\n",
    "print(auc_roc)\n",
    "fpr, tpr, thresholds = roc_curve(target_test, probabilities_one_test) "
   ]
  },
  {
   "cell_type": "markdown",
   "metadata": {},
   "source": [
    "Оба показателя хуже, чем у нашего фаворита, по результатам перекрёстных проверок, лидером остаётся модель случайный лес с гиперпараметрами: количество деревьев - 170 Максимальная глубина - 18."
   ]
  },
  {
   "cell_type": "markdown",
   "metadata": {},
   "source": [
    "Проверим их на объединенной выборке train+valid, создадим особую базу для обучения, добавив валидационную часть обратно к тестовой. "
   ]
  },
  {
   "cell_type": "code",
   "execution_count": 106,
   "metadata": {},
   "outputs": [],
   "source": [
    "features_up_add, target_up_add = upsample(features_valid, target_valid, 4)\n",
    "features_train = pd.concat([features_up, features_up_add], ignore_index= True)\n",
    "target_train = pd.concat([target_up, target_up_add], ignore_index= True)\n",
    "features_train, target_train = shuffle(features_train, target_train, random_state=RANDOM_ST)\n"
   ]
  },
  {
   "cell_type": "code",
   "execution_count": 107,
   "metadata": {},
   "outputs": [
    {
     "data": {
      "text/plain": [
       "0.6021003500583432"
      ]
     },
     "execution_count": 107,
     "metadata": {},
     "output_type": "execute_result"
    }
   ],
   "source": [
    "model = RandomForestClassifier(random_state=RANDOM_ST, n_estimators=130, max_depth=12)#, class_weight='balanced') \n",
    "model.fit(features_train, target_train)\n",
    "predicted_test = model.predict(features_test)\n",
    "f1_score(target_test, predicted_test)"
   ]
  },
  {
   "cell_type": "code",
   "execution_count": 108,
   "metadata": {},
   "outputs": [
    {
     "name": "stdout",
     "output_type": "stream",
     "text": [
      "0.8544908544908545\n"
     ]
    }
   ],
   "source": [
    "probabilities_test = model.predict_proba(features_test)\n",
    "probabilities_one_test = probabilities_test[:, 1]\n",
    "auc_roc = roc_auc_score(target_test, probabilities_one_test)\n",
    "print(auc_roc)\n",
    "fpr, tpr, thresholds = roc_curve(target_test, probabilities_one_test) "
   ]
  },
  {
   "cell_type": "code",
   "execution_count": 109,
   "metadata": {},
   "outputs": [
    {
     "data": {
      "text/plain": [
       "0.5879194630872482"
      ]
     },
     "execution_count": 109,
     "metadata": {},
     "output_type": "execute_result"
    }
   ],
   "source": [
    "model = RandomForestClassifier(random_state=RANDOM_ST, n_estimators=170, max_depth=18)#, class_weight='balanced') \n",
    "model.fit(features_train, target_train)\n",
    "predicted_test = model.predict(features_test)\n",
    "f1_score(target_test, predicted_test)"
   ]
  },
  {
   "cell_type": "code",
   "execution_count": 110,
   "metadata": {},
   "outputs": [
    {
     "name": "stdout",
     "output_type": "stream",
     "text": [
      "0.8505261810346556\n"
     ]
    }
   ],
   "source": [
    "probabilities_test = model.predict_proba(features_test)\n",
    "probabilities_one_test = probabilities_test[:, 1]\n",
    "auc_roc = roc_auc_score(target_test, probabilities_one_test)\n",
    "print(auc_roc)\n",
    "fpr, tpr, thresholds = roc_curve(target_test, probabilities_one_test) "
   ]
  },
  {
   "cell_type": "code",
   "execution_count": 111,
   "metadata": {},
   "outputs": [
    {
     "data": {
      "text/plain": [
       "0.5798657718120804"
      ]
     },
     "execution_count": 111,
     "metadata": {},
     "output_type": "execute_result"
    }
   ],
   "source": [
    "model = RandomForestClassifier(random_state=RANDOM_ST, n_estimators=350, max_depth=19)#, class_weight='balanced') \n",
    "model.fit(features_train, target_train)\n",
    "predicted_test = model.predict(features_test)\n",
    "f1_score(target_test, predicted_test)"
   ]
  },
  {
   "cell_type": "code",
   "execution_count": 112,
   "metadata": {},
   "outputs": [
    {
     "name": "stdout",
     "output_type": "stream",
     "text": [
      "0.8505161556009013\n"
     ]
    }
   ],
   "source": [
    "probabilities_test = model.predict_proba(features_test)\n",
    "probabilities_one_test = probabilities_test[:, 1]\n",
    "auc_roc = roc_auc_score(target_test, probabilities_one_test)\n",
    "print(auc_roc)\n",
    "fpr, tpr, thresholds = roc_curve(target_test, probabilities_one_test) "
   ]
  },
  {
   "cell_type": "markdown",
   "metadata": {},
   "source": [
    "**Общий вывод**\n",
    "Произведена подготовка данных (переименование столбцов, заполнение пропусков в столбце tenure медианой по возрасту, в разбивке по странам). Применен метод прямого кодирования (OHE) для подготовки категориальных строчных признаков. Выполнено масштабирование признаков и выравнивание классов техникой upsampling. Произведен выбор лучшей модели из моделей Дерево решений, Случайный лес и Логистическая регрессия. По результатам валидации лучшей моделью **на объединенных данных** train+valid стала  модель случайный лес с гиперпараметрами: количество деревьев - 130 Максимальная глубина - 12. Она показала следующие характеристики качества  на тестовой выборке: f1 - 0.6021, и по auc-roc 0.8544909.\n",
    "**На необъединенных данных** лучшей моделью стала модель случайный лес с гиперпараметрами: количество деревьев - 170 Максимальная глубина - 18. Она показала следующие характеристики качества  на тестовой выборке: f1 - 0.5484, и по auc-roc 0.8506.\n"
   ]
  },
  {
   "cell_type": "markdown",
   "metadata": {},
   "source": [
    "## Чек-лист готовности проекта"
   ]
  },
  {
   "cell_type": "markdown",
   "metadata": {},
   "source": [
    "Поставьте 'x' в выполненных пунктах. Далее нажмите Shift+Enter."
   ]
  },
  {
   "cell_type": "markdown",
   "metadata": {},
   "source": [
    "- [x]  Jupyter Notebook открыт\n",
    "- [x]  Весь код выполняется без ошибок\n",
    "- [x]  Ячейки с кодом расположены в порядке исполнения\n",
    "- [x]  Выполнен шаг 1: данные подготовлены\n",
    "- [x]  Выполнен шаг 2: задача исследована\n",
    "    - [x]  Исследован баланс классов\n",
    "    - [x]  Изучены модели без учёта дисбаланса\n",
    "    - [x]  Написаны выводы по результатам исследования\n",
    "- [x]  Выполнен шаг 3: учтён дисбаланс\n",
    "    - [x]  Применено несколько способов борьбы с дисбалансом\n",
    "    - [x]  Написаны выводы по результатам исследования\n",
    "- [x]  Выполнен шаг 4: проведено тестирование\n",
    "- [x]  Удалось достичь *F1*-меры не менее 0.59\n",
    "- [x]  Исследована метрика *AUC-ROC*"
   ]
  },
  {
   "cell_type": "code",
   "execution_count": null,
   "metadata": {},
   "outputs": [],
   "source": []
  }
 ],
 "metadata": {
  "ExecuteTimeLog": [
   {
    "duration": 48,
    "start_time": "2022-05-12T07:27:58.717Z"
   },
   {
    "duration": 1133,
    "start_time": "2022-05-12T07:28:09.482Z"
   },
   {
    "duration": 37,
    "start_time": "2022-05-12T07:28:10.722Z"
   },
   {
    "duration": 21,
    "start_time": "2022-05-12T07:31:46.995Z"
   },
   {
    "duration": 62,
    "start_time": "2022-05-12T07:36:24.869Z"
   },
   {
    "duration": 13,
    "start_time": "2022-05-12T07:36:34.552Z"
   },
   {
    "duration": 7296,
    "start_time": "2022-05-12T07:45:41.433Z"
   },
   {
    "duration": 14,
    "start_time": "2022-05-12T07:46:11.386Z"
   },
   {
    "duration": 1029,
    "start_time": "2022-05-12T07:46:17.088Z"
   },
   {
    "duration": 14,
    "start_time": "2022-05-12T07:47:32.750Z"
   },
   {
    "duration": 678,
    "start_time": "2022-05-12T07:47:36.741Z"
   },
   {
    "duration": 1020,
    "start_time": "2022-05-12T07:48:32.627Z"
   },
   {
    "duration": 1500,
    "start_time": "2022-05-12T07:49:29.467Z"
   },
   {
    "duration": 8,
    "start_time": "2022-05-12T07:54:12.723Z"
   },
   {
    "duration": 486,
    "start_time": "2022-05-12T07:58:04.464Z"
   },
   {
    "duration": 26,
    "start_time": "2022-05-12T07:58:24.111Z"
   },
   {
    "duration": 53601,
    "start_time": "2022-05-12T07:58:32.363Z"
   },
   {
    "duration": 21,
    "start_time": "2022-05-12T07:59:55.071Z"
   },
   {
    "duration": 12,
    "start_time": "2022-05-12T08:05:25.122Z"
   },
   {
    "duration": 5,
    "start_time": "2022-05-12T08:05:30.692Z"
   },
   {
    "duration": 5,
    "start_time": "2022-05-12T08:07:38.682Z"
   },
   {
    "duration": 188,
    "start_time": "2022-05-12T08:08:35.090Z"
   },
   {
    "duration": 2325,
    "start_time": "2022-05-12T08:08:56.735Z"
   },
   {
    "duration": 981,
    "start_time": "2022-05-12T08:08:59.063Z"
   },
   {
    "duration": 1490,
    "start_time": "2022-05-12T08:09:00.046Z"
   },
   {
    "duration": 4,
    "start_time": "2022-05-12T08:09:01.539Z"
   },
   {
    "duration": 46,
    "start_time": "2022-05-12T08:09:01.546Z"
   },
   {
    "duration": 16,
    "start_time": "2022-05-12T08:09:01.595Z"
   },
   {
    "duration": 15,
    "start_time": "2022-05-12T08:09:01.613Z"
   },
   {
    "duration": 0,
    "start_time": "2022-05-12T08:09:01.630Z"
   },
   {
    "duration": 0,
    "start_time": "2022-05-12T08:09:01.631Z"
   },
   {
    "duration": 0,
    "start_time": "2022-05-12T08:09:01.632Z"
   },
   {
    "duration": 0,
    "start_time": "2022-05-12T08:09:01.633Z"
   },
   {
    "duration": 0,
    "start_time": "2022-05-12T08:09:01.634Z"
   },
   {
    "duration": 0,
    "start_time": "2022-05-12T08:09:01.635Z"
   },
   {
    "duration": 5,
    "start_time": "2022-05-12T08:09:05.182Z"
   },
   {
    "duration": 4,
    "start_time": "2022-05-12T08:09:08.888Z"
   },
   {
    "duration": 14,
    "start_time": "2022-05-12T08:09:11.048Z"
   },
   {
    "duration": 96,
    "start_time": "2022-05-12T08:11:37.082Z"
   },
   {
    "duration": 12,
    "start_time": "2022-05-12T08:12:20.967Z"
   },
   {
    "duration": 43,
    "start_time": "2022-05-12T08:12:40.410Z"
   },
   {
    "duration": 20,
    "start_time": "2022-05-12T08:13:40.682Z"
   },
   {
    "duration": 2428,
    "start_time": "2022-05-12T08:17:47.480Z"
   },
   {
    "duration": 1024,
    "start_time": "2022-05-12T08:17:49.911Z"
   },
   {
    "duration": 1521,
    "start_time": "2022-05-12T08:17:50.937Z"
   },
   {
    "duration": 4,
    "start_time": "2022-05-12T08:17:52.461Z"
   },
   {
    "duration": 39,
    "start_time": "2022-05-12T08:17:52.468Z"
   },
   {
    "duration": 16,
    "start_time": "2022-05-12T08:17:52.509Z"
   },
   {
    "duration": 14,
    "start_time": "2022-05-12T08:17:52.527Z"
   },
   {
    "duration": 11,
    "start_time": "2022-05-12T08:17:52.543Z"
   },
   {
    "duration": 6,
    "start_time": "2022-05-12T08:18:09.858Z"
   },
   {
    "duration": 44,
    "start_time": "2022-05-13T07:31:32.662Z"
   },
   {
    "duration": 6256,
    "start_time": "2022-05-13T07:31:36.861Z"
   },
   {
    "duration": 988,
    "start_time": "2022-05-13T07:31:43.119Z"
   },
   {
    "duration": 1507,
    "start_time": "2022-05-13T07:31:44.109Z"
   },
   {
    "duration": 1502,
    "start_time": "2022-05-13T07:31:45.619Z"
   },
   {
    "duration": 33,
    "start_time": "2022-05-13T07:31:47.124Z"
   },
   {
    "duration": 28,
    "start_time": "2022-05-13T07:31:47.158Z"
   },
   {
    "duration": 10,
    "start_time": "2022-05-13T07:31:47.188Z"
   },
   {
    "duration": 9,
    "start_time": "2022-05-13T07:31:47.199Z"
   },
   {
    "duration": 5,
    "start_time": "2022-05-13T07:31:47.210Z"
   },
   {
    "duration": 98,
    "start_time": "2022-05-13T07:31:47.216Z"
   },
   {
    "duration": 0,
    "start_time": "2022-05-13T07:31:47.316Z"
   },
   {
    "duration": 0,
    "start_time": "2022-05-13T07:31:47.317Z"
   },
   {
    "duration": 0,
    "start_time": "2022-05-13T07:31:47.318Z"
   },
   {
    "duration": 0,
    "start_time": "2022-05-13T07:31:47.319Z"
   },
   {
    "duration": 0,
    "start_time": "2022-05-13T07:31:47.320Z"
   },
   {
    "duration": 0,
    "start_time": "2022-05-13T07:31:47.321Z"
   },
   {
    "duration": 0,
    "start_time": "2022-05-13T07:31:47.322Z"
   },
   {
    "duration": 4,
    "start_time": "2022-05-13T07:34:41.158Z"
   },
   {
    "duration": 2229,
    "start_time": "2022-05-13T07:34:46.080Z"
   },
   {
    "duration": 914,
    "start_time": "2022-05-13T07:34:48.312Z"
   },
   {
    "duration": 1445,
    "start_time": "2022-05-13T07:34:49.228Z"
   },
   {
    "duration": 3,
    "start_time": "2022-05-13T07:34:50.675Z"
   },
   {
    "duration": 47,
    "start_time": "2022-05-13T07:34:50.680Z"
   },
   {
    "duration": 14,
    "start_time": "2022-05-13T07:34:50.729Z"
   },
   {
    "duration": 16,
    "start_time": "2022-05-13T07:34:50.745Z"
   },
   {
    "duration": 9,
    "start_time": "2022-05-13T07:34:50.763Z"
   },
   {
    "duration": 5,
    "start_time": "2022-05-13T07:34:50.774Z"
   },
   {
    "duration": 100,
    "start_time": "2022-05-13T07:34:50.781Z"
   },
   {
    "duration": 0,
    "start_time": "2022-05-13T07:34:50.883Z"
   },
   {
    "duration": 0,
    "start_time": "2022-05-13T07:34:50.884Z"
   },
   {
    "duration": 0,
    "start_time": "2022-05-13T07:34:50.885Z"
   },
   {
    "duration": 0,
    "start_time": "2022-05-13T07:34:50.886Z"
   },
   {
    "duration": 0,
    "start_time": "2022-05-13T07:34:50.887Z"
   },
   {
    "duration": 0,
    "start_time": "2022-05-13T07:34:50.888Z"
   },
   {
    "duration": 0,
    "start_time": "2022-05-13T07:34:50.890Z"
   },
   {
    "duration": 0,
    "start_time": "2022-05-13T07:34:50.891Z"
   },
   {
    "duration": 4,
    "start_time": "2022-05-13T07:35:06.641Z"
   },
   {
    "duration": 3,
    "start_time": "2022-05-13T07:35:16.177Z"
   },
   {
    "duration": 6,
    "start_time": "2022-05-13T07:35:26.641Z"
   },
   {
    "duration": 52059,
    "start_time": "2022-05-13T07:35:27.693Z"
   },
   {
    "duration": 25,
    "start_time": "2022-05-13T07:36:19.755Z"
   },
   {
    "duration": 102,
    "start_time": "2022-05-13T07:36:19.781Z"
   },
   {
    "duration": 4,
    "start_time": "2022-05-13T07:36:19.885Z"
   },
   {
    "duration": 3,
    "start_time": "2022-05-13T07:36:19.892Z"
   },
   {
    "duration": 13,
    "start_time": "2022-05-13T07:36:19.897Z"
   },
   {
    "duration": 1458,
    "start_time": "2022-05-13T07:36:19.912Z"
   },
   {
    "duration": 5,
    "start_time": "2022-05-13T07:36:41.160Z"
   },
   {
    "duration": 4,
    "start_time": "2022-05-13T07:37:09.889Z"
   },
   {
    "duration": 5,
    "start_time": "2022-05-13T07:37:22.346Z"
   },
   {
    "duration": 15,
    "start_time": "2022-05-13T07:48:35.885Z"
   },
   {
    "duration": 8,
    "start_time": "2022-05-13T07:48:57.042Z"
   },
   {
    "duration": 17,
    "start_time": "2022-05-13T07:49:18.019Z"
   },
   {
    "duration": 1481,
    "start_time": "2022-05-13T07:49:51.172Z"
   },
   {
    "duration": 4,
    "start_time": "2022-05-13T07:50:00.269Z"
   },
   {
    "duration": 5,
    "start_time": "2022-05-13T07:51:38.912Z"
   },
   {
    "duration": 5,
    "start_time": "2022-05-13T07:52:20.393Z"
   },
   {
    "duration": 5,
    "start_time": "2022-05-13T07:52:52.080Z"
   },
   {
    "duration": 287,
    "start_time": "2022-05-13T07:53:22.798Z"
   },
   {
    "duration": 5,
    "start_time": "2022-05-13T07:53:43.879Z"
   },
   {
    "duration": 6,
    "start_time": "2022-05-13T07:57:44.315Z"
   },
   {
    "duration": 10,
    "start_time": "2022-05-13T07:58:33.786Z"
   },
   {
    "duration": 6,
    "start_time": "2022-05-13T07:58:39.535Z"
   },
   {
    "duration": 6,
    "start_time": "2022-05-13T07:59:44.742Z"
   },
   {
    "duration": 6,
    "start_time": "2022-05-13T08:00:06.440Z"
   },
   {
    "duration": 8,
    "start_time": "2022-05-13T08:00:45.800Z"
   },
   {
    "duration": 15,
    "start_time": "2022-05-13T08:02:27.811Z"
   },
   {
    "duration": 6,
    "start_time": "2022-05-13T08:02:47.167Z"
   },
   {
    "duration": 6,
    "start_time": "2022-05-13T08:06:34.971Z"
   },
   {
    "duration": 11,
    "start_time": "2022-05-13T08:08:34.986Z"
   },
   {
    "duration": 12,
    "start_time": "2022-05-13T08:10:24.466Z"
   },
   {
    "duration": 9,
    "start_time": "2022-05-13T08:10:33.725Z"
   },
   {
    "duration": 10,
    "start_time": "2022-05-13T08:12:40.568Z"
   },
   {
    "duration": 88,
    "start_time": "2022-05-13T08:13:23.328Z"
   },
   {
    "duration": 114,
    "start_time": "2022-05-13T08:13:30.024Z"
   },
   {
    "duration": 90,
    "start_time": "2022-05-13T08:14:23.441Z"
   },
   {
    "duration": 89,
    "start_time": "2022-05-13T08:14:50.724Z"
   },
   {
    "duration": 7,
    "start_time": "2022-05-13T08:15:34.280Z"
   },
   {
    "duration": 5,
    "start_time": "2022-05-13T08:16:24.814Z"
   },
   {
    "duration": 7,
    "start_time": "2022-05-13T08:21:51.252Z"
   },
   {
    "duration": 2204,
    "start_time": "2022-05-13T08:22:42.063Z"
   },
   {
    "duration": 1038,
    "start_time": "2022-05-13T08:22:44.269Z"
   },
   {
    "duration": 1500,
    "start_time": "2022-05-13T08:22:45.309Z"
   },
   {
    "duration": 5,
    "start_time": "2022-05-13T08:22:46.811Z"
   },
   {
    "duration": 40,
    "start_time": "2022-05-13T08:22:46.817Z"
   },
   {
    "duration": 14,
    "start_time": "2022-05-13T08:22:46.858Z"
   },
   {
    "duration": 17,
    "start_time": "2022-05-13T08:22:46.873Z"
   },
   {
    "duration": 9,
    "start_time": "2022-05-13T08:22:46.891Z"
   },
   {
    "duration": 5,
    "start_time": "2022-05-13T08:22:46.902Z"
   },
   {
    "duration": 6,
    "start_time": "2022-05-13T08:22:46.909Z"
   },
   {
    "duration": 50685,
    "start_time": "2022-05-13T08:22:46.916Z"
   },
   {
    "duration": 17,
    "start_time": "2022-05-13T08:23:37.603Z"
   },
   {
    "duration": 72,
    "start_time": "2022-05-13T08:23:37.621Z"
   },
   {
    "duration": 4,
    "start_time": "2022-05-13T08:23:37.694Z"
   },
   {
    "duration": 7,
    "start_time": "2022-05-13T08:23:37.699Z"
   },
   {
    "duration": 15,
    "start_time": "2022-05-13T08:23:37.708Z"
   },
   {
    "duration": 4,
    "start_time": "2022-05-13T08:23:37.724Z"
   },
   {
    "duration": 121,
    "start_time": "2022-05-13T08:23:37.729Z"
   },
   {
    "duration": 0,
    "start_time": "2022-05-13T08:23:37.851Z"
   },
   {
    "duration": 0,
    "start_time": "2022-05-13T08:23:37.853Z"
   },
   {
    "duration": 0,
    "start_time": "2022-05-13T08:23:37.854Z"
   },
   {
    "duration": 0,
    "start_time": "2022-05-13T08:23:37.855Z"
   },
   {
    "duration": 0,
    "start_time": "2022-05-13T08:23:37.856Z"
   },
   {
    "duration": 0,
    "start_time": "2022-05-13T08:23:37.857Z"
   },
   {
    "duration": 0,
    "start_time": "2022-05-13T08:23:37.858Z"
   },
   {
    "duration": 0,
    "start_time": "2022-05-13T08:23:37.859Z"
   },
   {
    "duration": 0,
    "start_time": "2022-05-13T08:23:37.860Z"
   },
   {
    "duration": 0,
    "start_time": "2022-05-13T08:23:37.861Z"
   },
   {
    "duration": 88,
    "start_time": "2022-05-13T08:23:48.275Z"
   },
   {
    "duration": 7,
    "start_time": "2022-05-13T08:23:56.885Z"
   },
   {
    "duration": 5,
    "start_time": "2022-05-13T08:23:57.198Z"
   },
   {
    "duration": 6,
    "start_time": "2022-05-13T08:23:57.844Z"
   },
   {
    "duration": 5,
    "start_time": "2022-05-13T08:23:58.038Z"
   },
   {
    "duration": 5,
    "start_time": "2022-05-13T08:23:58.219Z"
   },
   {
    "duration": 5,
    "start_time": "2022-05-13T08:23:58.404Z"
   },
   {
    "duration": 5,
    "start_time": "2022-05-13T08:23:58.576Z"
   },
   {
    "duration": 7,
    "start_time": "2022-05-13T08:23:58.919Z"
   },
   {
    "duration": 6,
    "start_time": "2022-05-13T08:23:59.333Z"
   },
   {
    "duration": 5,
    "start_time": "2022-05-13T08:24:02.855Z"
   },
   {
    "duration": 10,
    "start_time": "2022-05-13T08:24:09.322Z"
   },
   {
    "duration": 5,
    "start_time": "2022-05-13T08:26:12.892Z"
   },
   {
    "duration": 49,
    "start_time": "2022-05-13T12:33:41.515Z"
   },
   {
    "duration": 5069,
    "start_time": "2022-05-13T12:33:45.295Z"
   },
   {
    "duration": 1158,
    "start_time": "2022-05-13T12:33:50.366Z"
   },
   {
    "duration": 1614,
    "start_time": "2022-05-13T12:33:51.526Z"
   },
   {
    "duration": 2070,
    "start_time": "2022-05-13T12:33:53.143Z"
   },
   {
    "duration": 50,
    "start_time": "2022-05-13T12:33:55.216Z"
   },
   {
    "duration": 28,
    "start_time": "2022-05-13T12:33:55.268Z"
   },
   {
    "duration": 38,
    "start_time": "2022-05-13T12:33:55.298Z"
   },
   {
    "duration": 14,
    "start_time": "2022-05-13T12:33:55.338Z"
   },
   {
    "duration": 8,
    "start_time": "2022-05-13T12:33:55.354Z"
   },
   {
    "duration": 8,
    "start_time": "2022-05-13T12:33:55.373Z"
   },
   {
    "duration": 57195,
    "start_time": "2022-05-13T12:33:55.383Z"
   },
   {
    "duration": 22,
    "start_time": "2022-05-13T12:34:52.580Z"
   },
   {
    "duration": 87,
    "start_time": "2022-05-13T12:34:52.603Z"
   },
   {
    "duration": 5,
    "start_time": "2022-05-13T12:34:52.693Z"
   },
   {
    "duration": 5,
    "start_time": "2022-05-13T12:34:52.699Z"
   },
   {
    "duration": 16,
    "start_time": "2022-05-13T12:34:52.706Z"
   },
   {
    "duration": 4,
    "start_time": "2022-05-13T12:34:52.724Z"
   },
   {
    "duration": 9,
    "start_time": "2022-05-13T12:34:52.730Z"
   },
   {
    "duration": 39,
    "start_time": "2022-05-13T12:34:52.741Z"
   },
   {
    "duration": 7,
    "start_time": "2022-05-13T12:34:52.785Z"
   },
   {
    "duration": 8,
    "start_time": "2022-05-13T12:34:52.793Z"
   },
   {
    "duration": 7,
    "start_time": "2022-05-13T12:34:52.802Z"
   },
   {
    "duration": 6,
    "start_time": "2022-05-13T12:34:52.811Z"
   },
   {
    "duration": 6,
    "start_time": "2022-05-13T12:34:52.818Z"
   },
   {
    "duration": 8,
    "start_time": "2022-05-13T12:34:52.826Z"
   },
   {
    "duration": 7,
    "start_time": "2022-05-13T12:35:00.792Z"
   },
   {
    "duration": 7,
    "start_time": "2022-05-13T12:35:43.202Z"
   },
   {
    "duration": 4721,
    "start_time": "2022-05-14T09:51:57.402Z"
   },
   {
    "duration": 1086,
    "start_time": "2022-05-14T09:52:02.125Z"
   },
   {
    "duration": 1700,
    "start_time": "2022-05-14T09:52:03.213Z"
   },
   {
    "duration": 1706,
    "start_time": "2022-05-14T09:52:04.916Z"
   },
   {
    "duration": 46,
    "start_time": "2022-05-14T09:52:06.626Z"
   },
   {
    "duration": 22,
    "start_time": "2022-05-14T09:52:06.674Z"
   },
   {
    "duration": 28,
    "start_time": "2022-05-14T09:52:06.698Z"
   },
   {
    "duration": 12,
    "start_time": "2022-05-14T09:52:06.728Z"
   },
   {
    "duration": 7,
    "start_time": "2022-05-14T09:52:06.742Z"
   },
   {
    "duration": 8,
    "start_time": "2022-05-14T09:52:06.751Z"
   },
   {
    "duration": 61442,
    "start_time": "2022-05-14T09:52:06.762Z"
   },
   {
    "duration": 33,
    "start_time": "2022-05-14T09:53:08.207Z"
   },
   {
    "duration": 102,
    "start_time": "2022-05-14T09:53:08.242Z"
   },
   {
    "duration": 4,
    "start_time": "2022-05-14T09:53:08.348Z"
   },
   {
    "duration": 58,
    "start_time": "2022-05-14T09:53:08.354Z"
   },
   {
    "duration": 17,
    "start_time": "2022-05-14T09:53:08.419Z"
   },
   {
    "duration": 5,
    "start_time": "2022-05-14T09:53:08.437Z"
   },
   {
    "duration": 8,
    "start_time": "2022-05-14T09:53:08.443Z"
   },
   {
    "duration": 4,
    "start_time": "2022-05-14T09:53:08.453Z"
   },
   {
    "duration": 6,
    "start_time": "2022-05-14T09:53:08.459Z"
   },
   {
    "duration": 16,
    "start_time": "2022-05-14T09:53:08.508Z"
   },
   {
    "duration": 6,
    "start_time": "2022-05-14T09:53:08.525Z"
   },
   {
    "duration": 5,
    "start_time": "2022-05-14T09:53:08.532Z"
   },
   {
    "duration": 6,
    "start_time": "2022-05-14T09:53:08.539Z"
   },
   {
    "duration": 11,
    "start_time": "2022-05-14T09:53:08.546Z"
   },
   {
    "duration": 52,
    "start_time": "2022-05-14T09:53:08.559Z"
   },
   {
    "duration": 7,
    "start_time": "2022-05-14T09:53:08.613Z"
   },
   {
    "duration": 7,
    "start_time": "2022-05-14T09:53:08.623Z"
   },
   {
    "duration": 10,
    "start_time": "2022-05-14T09:53:08.632Z"
   },
   {
    "duration": 4,
    "start_time": "2022-05-14T09:53:08.644Z"
   },
   {
    "duration": 5,
    "start_time": "2022-05-14T09:53:08.649Z"
   },
   {
    "duration": 59,
    "start_time": "2022-05-14T09:53:08.656Z"
   },
   {
    "duration": 6,
    "start_time": "2022-05-14T09:53:08.723Z"
   },
   {
    "duration": 5,
    "start_time": "2022-05-14T09:53:08.731Z"
   },
   {
    "duration": 6,
    "start_time": "2022-05-14T09:53:08.737Z"
   },
   {
    "duration": 5,
    "start_time": "2022-05-14T09:53:08.745Z"
   },
   {
    "duration": 5,
    "start_time": "2022-05-14T09:53:08.752Z"
   },
   {
    "duration": 55,
    "start_time": "2022-05-14T09:53:08.759Z"
   },
   {
    "duration": 5,
    "start_time": "2022-05-14T09:53:08.817Z"
   },
   {
    "duration": 117,
    "start_time": "2022-05-14T09:56:44.548Z"
   },
   {
    "duration": 4,
    "start_time": "2022-05-14T09:57:31.626Z"
   },
   {
    "duration": 23,
    "start_time": "2022-05-14T09:57:46.367Z"
   },
   {
    "duration": 11,
    "start_time": "2022-05-14T10:06:42.316Z"
   },
   {
    "duration": 12,
    "start_time": "2022-05-14T10:07:17.747Z"
   },
   {
    "duration": 2587,
    "start_time": "2022-05-14T10:14:23.143Z"
   },
   {
    "duration": 1119,
    "start_time": "2022-05-14T10:14:25.733Z"
   },
   {
    "duration": 1648,
    "start_time": "2022-05-14T10:14:26.854Z"
   },
   {
    "duration": 6,
    "start_time": "2022-05-14T10:14:28.504Z"
   },
   {
    "duration": 35,
    "start_time": "2022-05-14T10:14:28.512Z"
   },
   {
    "duration": 15,
    "start_time": "2022-05-14T10:14:28.549Z"
   },
   {
    "duration": 14,
    "start_time": "2022-05-14T10:14:28.566Z"
   },
   {
    "duration": 11,
    "start_time": "2022-05-14T10:14:28.582Z"
   },
   {
    "duration": 6,
    "start_time": "2022-05-14T10:14:28.595Z"
   },
   {
    "duration": 10,
    "start_time": "2022-05-14T10:14:28.603Z"
   },
   {
    "duration": 3,
    "start_time": "2022-05-14T10:14:28.615Z"
   },
   {
    "duration": 4,
    "start_time": "2022-05-14T10:14:28.620Z"
   },
   {
    "duration": 45,
    "start_time": "2022-05-14T10:14:28.626Z"
   },
   {
    "duration": 5,
    "start_time": "2022-05-14T10:14:28.674Z"
   },
   {
    "duration": 3,
    "start_time": "2022-05-14T10:14:28.681Z"
   },
   {
    "duration": 13,
    "start_time": "2022-05-14T10:14:28.686Z"
   },
   {
    "duration": 7,
    "start_time": "2022-05-14T10:14:28.701Z"
   },
   {
    "duration": 8,
    "start_time": "2022-05-14T10:14:28.709Z"
   },
   {
    "duration": 6,
    "start_time": "2022-05-14T10:14:28.719Z"
   },
   {
    "duration": 7,
    "start_time": "2022-05-14T10:14:28.726Z"
   },
   {
    "duration": 5,
    "start_time": "2022-05-14T10:14:28.735Z"
   },
   {
    "duration": 8,
    "start_time": "2022-05-14T10:14:28.742Z"
   },
   {
    "duration": 10,
    "start_time": "2022-05-14T10:14:28.751Z"
   },
   {
    "duration": 8,
    "start_time": "2022-05-14T10:14:28.762Z"
   },
   {
    "duration": 8,
    "start_time": "2022-05-14T10:14:28.772Z"
   },
   {
    "duration": 17,
    "start_time": "2022-05-14T10:14:28.782Z"
   },
   {
    "duration": 9,
    "start_time": "2022-05-14T10:14:28.800Z"
   },
   {
    "duration": 9,
    "start_time": "2022-05-14T10:14:28.811Z"
   },
   {
    "duration": 18,
    "start_time": "2022-05-14T10:14:28.821Z"
   },
   {
    "duration": 14,
    "start_time": "2022-05-14T10:14:28.841Z"
   },
   {
    "duration": 12,
    "start_time": "2022-05-14T10:14:28.857Z"
   },
   {
    "duration": 5,
    "start_time": "2022-05-14T10:14:28.871Z"
   },
   {
    "duration": 3,
    "start_time": "2022-05-14T10:14:28.878Z"
   },
   {
    "duration": 7,
    "start_time": "2022-05-14T10:14:28.883Z"
   },
   {
    "duration": 5,
    "start_time": "2022-05-14T10:14:28.892Z"
   },
   {
    "duration": 4,
    "start_time": "2022-05-14T10:14:28.898Z"
   },
   {
    "duration": 5,
    "start_time": "2022-05-14T10:14:28.904Z"
   },
   {
    "duration": 4,
    "start_time": "2022-05-14T10:14:28.911Z"
   },
   {
    "duration": 5,
    "start_time": "2022-05-14T10:14:28.917Z"
   },
   {
    "duration": 5,
    "start_time": "2022-05-14T10:14:28.923Z"
   },
   {
    "duration": 5,
    "start_time": "2022-05-14T10:14:28.931Z"
   },
   {
    "duration": 102,
    "start_time": "2022-05-14T10:14:37.301Z"
   },
   {
    "duration": 4,
    "start_time": "2022-05-14T10:19:37.294Z"
   },
   {
    "duration": 5,
    "start_time": "2022-05-14T10:54:40.327Z"
   },
   {
    "duration": 52,
    "start_time": "2022-05-14T10:54:47.784Z"
   },
   {
    "duration": 2525,
    "start_time": "2022-05-14T10:54:57.926Z"
   },
   {
    "duration": 1109,
    "start_time": "2022-05-14T10:55:00.454Z"
   },
   {
    "duration": 1676,
    "start_time": "2022-05-14T10:55:01.565Z"
   },
   {
    "duration": 5,
    "start_time": "2022-05-14T10:55:03.244Z"
   },
   {
    "duration": 43,
    "start_time": "2022-05-14T10:55:03.251Z"
   },
   {
    "duration": 16,
    "start_time": "2022-05-14T10:55:03.296Z"
   },
   {
    "duration": 16,
    "start_time": "2022-05-14T10:55:03.313Z"
   },
   {
    "duration": 13,
    "start_time": "2022-05-14T10:55:03.331Z"
   },
   {
    "duration": 7,
    "start_time": "2022-05-14T10:55:03.346Z"
   },
   {
    "duration": 8,
    "start_time": "2022-05-14T10:55:03.355Z"
   },
   {
    "duration": 7,
    "start_time": "2022-05-14T10:55:03.364Z"
   },
   {
    "duration": 5,
    "start_time": "2022-05-14T10:55:03.373Z"
   },
   {
    "duration": 68,
    "start_time": "2022-05-14T10:55:03.379Z"
   },
   {
    "duration": 4,
    "start_time": "2022-05-14T10:55:03.451Z"
   },
   {
    "duration": 4,
    "start_time": "2022-05-14T10:55:03.457Z"
   },
   {
    "duration": 14,
    "start_time": "2022-05-14T10:55:03.463Z"
   },
   {
    "duration": 30,
    "start_time": "2022-05-14T10:55:03.479Z"
   },
   {
    "duration": 7,
    "start_time": "2022-05-14T10:55:03.511Z"
   },
   {
    "duration": 6,
    "start_time": "2022-05-14T10:55:03.520Z"
   },
   {
    "duration": 12,
    "start_time": "2022-05-14T10:55:03.528Z"
   },
   {
    "duration": 6,
    "start_time": "2022-05-14T10:55:03.542Z"
   },
   {
    "duration": 6,
    "start_time": "2022-05-14T10:55:03.550Z"
   },
   {
    "duration": 13,
    "start_time": "2022-05-14T10:55:03.558Z"
   },
   {
    "duration": 39,
    "start_time": "2022-05-14T10:55:03.573Z"
   },
   {
    "duration": 13,
    "start_time": "2022-05-14T10:55:03.614Z"
   },
   {
    "duration": 10,
    "start_time": "2022-05-14T10:55:03.629Z"
   },
   {
    "duration": 6,
    "start_time": "2022-05-14T10:55:03.641Z"
   },
   {
    "duration": 8,
    "start_time": "2022-05-14T10:55:03.649Z"
   },
   {
    "duration": 12,
    "start_time": "2022-05-14T10:55:03.659Z"
   },
   {
    "duration": 10,
    "start_time": "2022-05-14T10:55:03.708Z"
   },
   {
    "duration": 12,
    "start_time": "2022-05-14T10:55:03.720Z"
   },
   {
    "duration": 5,
    "start_time": "2022-05-14T10:55:03.733Z"
   },
   {
    "duration": 4,
    "start_time": "2022-05-14T10:55:03.739Z"
   },
   {
    "duration": 8,
    "start_time": "2022-05-14T10:55:03.744Z"
   },
   {
    "duration": 5,
    "start_time": "2022-05-14T10:55:03.754Z"
   },
   {
    "duration": 8,
    "start_time": "2022-05-14T10:55:03.760Z"
   },
   {
    "duration": 41,
    "start_time": "2022-05-14T10:55:03.770Z"
   },
   {
    "duration": 7,
    "start_time": "2022-05-14T10:55:03.813Z"
   },
   {
    "duration": 5,
    "start_time": "2022-05-14T10:55:03.822Z"
   },
   {
    "duration": 4,
    "start_time": "2022-05-14T10:55:03.829Z"
   },
   {
    "duration": 4,
    "start_time": "2022-05-14T10:55:03.838Z"
   },
   {
    "duration": 112,
    "start_time": "2022-05-14T10:55:14.275Z"
   },
   {
    "duration": 3,
    "start_time": "2022-05-14T10:56:10.185Z"
   },
   {
    "duration": 102,
    "start_time": "2022-05-14T10:59:35.488Z"
   },
   {
    "duration": 45,
    "start_time": "2022-05-14T10:59:52.219Z"
   },
   {
    "duration": 266684,
    "start_time": "2022-05-14T11:11:36.130Z"
   },
   {
    "duration": 94,
    "start_time": "2022-05-14T11:16:02.815Z"
   },
   {
    "duration": 14,
    "start_time": "2022-05-14T11:21:26.417Z"
   },
   {
    "duration": 9,
    "start_time": "2022-05-14T11:21:52.067Z"
   },
   {
    "duration": 43,
    "start_time": "2022-05-14T11:27:47.266Z"
   },
   {
    "duration": 2529,
    "start_time": "2022-05-14T11:55:44.004Z"
   },
   {
    "duration": 1072,
    "start_time": "2022-05-14T11:55:46.536Z"
   },
   {
    "duration": 1577,
    "start_time": "2022-05-14T11:55:47.611Z"
   },
   {
    "duration": 4,
    "start_time": "2022-05-14T11:55:49.191Z"
   },
   {
    "duration": 40,
    "start_time": "2022-05-14T11:55:49.198Z"
   },
   {
    "duration": 14,
    "start_time": "2022-05-14T11:55:49.240Z"
   },
   {
    "duration": 12,
    "start_time": "2022-05-14T11:55:49.256Z"
   },
   {
    "duration": 11,
    "start_time": "2022-05-14T11:55:49.270Z"
   },
   {
    "duration": 26,
    "start_time": "2022-05-14T11:55:49.282Z"
   },
   {
    "duration": 6,
    "start_time": "2022-05-14T11:55:49.310Z"
   },
   {
    "duration": 4,
    "start_time": "2022-05-14T11:55:49.318Z"
   },
   {
    "duration": 5,
    "start_time": "2022-05-14T11:55:49.323Z"
   },
   {
    "duration": 43,
    "start_time": "2022-05-14T11:55:49.329Z"
   },
   {
    "duration": 5,
    "start_time": "2022-05-14T11:55:49.375Z"
   },
   {
    "duration": 28,
    "start_time": "2022-05-14T11:55:49.381Z"
   },
   {
    "duration": 14,
    "start_time": "2022-05-14T11:55:49.412Z"
   },
   {
    "duration": 4,
    "start_time": "2022-05-14T11:55:49.428Z"
   },
   {
    "duration": 9,
    "start_time": "2022-05-14T11:55:49.433Z"
   },
   {
    "duration": 6,
    "start_time": "2022-05-14T11:55:49.443Z"
   },
   {
    "duration": 7,
    "start_time": "2022-05-14T11:55:49.451Z"
   },
   {
    "duration": 7,
    "start_time": "2022-05-14T11:55:49.459Z"
   },
   {
    "duration": 41,
    "start_time": "2022-05-14T11:55:49.468Z"
   },
   {
    "duration": 5,
    "start_time": "2022-05-14T11:55:49.510Z"
   },
   {
    "duration": 4,
    "start_time": "2022-05-14T11:55:49.517Z"
   },
   {
    "duration": 7,
    "start_time": "2022-05-14T11:55:49.523Z"
   },
   {
    "duration": 7,
    "start_time": "2022-05-14T11:55:49.531Z"
   },
   {
    "duration": 6,
    "start_time": "2022-05-14T11:55:49.539Z"
   },
   {
    "duration": 6,
    "start_time": "2022-05-14T11:55:49.546Z"
   },
   {
    "duration": 54,
    "start_time": "2022-05-14T11:55:49.554Z"
   },
   {
    "duration": 10,
    "start_time": "2022-05-14T11:55:49.610Z"
   },
   {
    "duration": 11,
    "start_time": "2022-05-14T11:55:49.622Z"
   },
   {
    "duration": 4,
    "start_time": "2022-05-14T11:55:49.635Z"
   },
   {
    "duration": 3,
    "start_time": "2022-05-14T11:55:49.641Z"
   },
   {
    "duration": 7,
    "start_time": "2022-05-14T11:55:49.645Z"
   },
   {
    "duration": 5,
    "start_time": "2022-05-14T11:55:49.654Z"
   },
   {
    "duration": 9,
    "start_time": "2022-05-14T11:55:49.660Z"
   },
   {
    "duration": 38,
    "start_time": "2022-05-14T11:55:49.671Z"
   },
   {
    "duration": 5,
    "start_time": "2022-05-14T11:55:49.711Z"
   },
   {
    "duration": 5,
    "start_time": "2022-05-14T11:55:49.718Z"
   },
   {
    "duration": 5,
    "start_time": "2022-05-14T11:55:49.724Z"
   },
   {
    "duration": 5,
    "start_time": "2022-05-14T11:55:49.733Z"
   },
   {
    "duration": 145,
    "start_time": "2022-05-14T11:55:49.739Z"
   },
   {
    "duration": 85,
    "start_time": "2022-05-14T11:55:49.885Z"
   },
   {
    "duration": 0,
    "start_time": "2022-05-14T11:55:49.972Z"
   },
   {
    "duration": 17,
    "start_time": "2022-05-14T11:56:41.137Z"
   },
   {
    "duration": 15,
    "start_time": "2022-05-14T11:57:15.526Z"
   },
   {
    "duration": 17,
    "start_time": "2022-05-14T11:57:18.322Z"
   },
   {
    "duration": 13,
    "start_time": "2022-05-14T11:57:18.891Z"
   },
   {
    "duration": 5,
    "start_time": "2022-05-14T11:57:47.385Z"
   },
   {
    "duration": 10,
    "start_time": "2022-05-14T11:57:50.876Z"
   },
   {
    "duration": 4,
    "start_time": "2022-05-14T11:58:24.572Z"
   },
   {
    "duration": 125,
    "start_time": "2022-05-14T11:58:34.280Z"
   },
   {
    "duration": 7,
    "start_time": "2022-05-14T12:04:09.453Z"
   },
   {
    "duration": 8,
    "start_time": "2022-05-14T12:04:38.700Z"
   },
   {
    "duration": 835,
    "start_time": "2022-05-14T12:06:40.001Z"
   },
   {
    "duration": 4,
    "start_time": "2022-05-14T12:06:42.489Z"
   },
   {
    "duration": 125,
    "start_time": "2022-05-14T12:06:43.908Z"
   },
   {
    "duration": 71,
    "start_time": "2022-05-14T12:10:41.543Z"
   },
   {
    "duration": 66,
    "start_time": "2022-05-14T12:13:17.210Z"
   },
   {
    "duration": 121,
    "start_time": "2022-05-14T12:13:22.279Z"
   },
   {
    "duration": 821,
    "start_time": "2022-05-14T12:15:33.579Z"
   },
   {
    "duration": 66,
    "start_time": "2022-05-14T12:15:34.724Z"
   },
   {
    "duration": 120,
    "start_time": "2022-05-14T12:15:41.089Z"
   },
   {
    "duration": 84,
    "start_time": "2022-05-14T12:17:11.524Z"
   },
   {
    "duration": 122,
    "start_time": "2022-05-14T12:17:35.889Z"
   },
   {
    "duration": 9,
    "start_time": "2022-05-14T12:18:06.476Z"
   },
   {
    "duration": 7,
    "start_time": "2022-05-14T12:24:23.642Z"
   },
   {
    "duration": 8,
    "start_time": "2022-05-14T12:26:31.284Z"
   },
   {
    "duration": 4,
    "start_time": "2022-05-14T12:26:38.926Z"
   },
   {
    "duration": 5,
    "start_time": "2022-05-14T12:26:58.866Z"
   },
   {
    "duration": 5,
    "start_time": "2022-05-14T12:36:34.959Z"
   },
   {
    "duration": 4820,
    "start_time": "2022-05-14T15:15:27.996Z"
   },
   {
    "duration": 1155,
    "start_time": "2022-05-14T15:15:32.819Z"
   },
   {
    "duration": 1666,
    "start_time": "2022-05-14T15:15:33.977Z"
   },
   {
    "duration": 1771,
    "start_time": "2022-05-14T15:15:35.645Z"
   },
   {
    "duration": 54,
    "start_time": "2022-05-14T15:15:37.419Z"
   },
   {
    "duration": 20,
    "start_time": "2022-05-14T15:15:37.475Z"
   },
   {
    "duration": 16,
    "start_time": "2022-05-14T15:15:37.498Z"
   },
   {
    "duration": 14,
    "start_time": "2022-05-14T15:15:37.516Z"
   },
   {
    "duration": 8,
    "start_time": "2022-05-14T15:15:37.532Z"
   },
   {
    "duration": 14,
    "start_time": "2022-05-14T15:15:37.542Z"
   },
   {
    "duration": 6,
    "start_time": "2022-05-14T15:15:37.558Z"
   },
   {
    "duration": 4,
    "start_time": "2022-05-14T15:15:37.566Z"
   },
   {
    "duration": 92,
    "start_time": "2022-05-14T15:15:37.572Z"
   },
   {
    "duration": 5,
    "start_time": "2022-05-14T15:15:37.670Z"
   },
   {
    "duration": 5,
    "start_time": "2022-05-14T15:15:37.677Z"
   },
   {
    "duration": 39,
    "start_time": "2022-05-14T15:15:37.684Z"
   },
   {
    "duration": 4,
    "start_time": "2022-05-14T15:15:37.726Z"
   },
   {
    "duration": 12,
    "start_time": "2022-05-14T15:15:37.732Z"
   },
   {
    "duration": 16,
    "start_time": "2022-05-14T15:15:37.745Z"
   },
   {
    "duration": 7,
    "start_time": "2022-05-14T15:15:37.763Z"
   },
   {
    "duration": 6,
    "start_time": "2022-05-14T15:15:37.773Z"
   },
   {
    "duration": 6,
    "start_time": "2022-05-14T15:15:37.781Z"
   },
   {
    "duration": 37,
    "start_time": "2022-05-14T15:15:37.788Z"
   },
   {
    "duration": 5,
    "start_time": "2022-05-14T15:15:37.827Z"
   },
   {
    "duration": 9,
    "start_time": "2022-05-14T15:15:37.833Z"
   },
   {
    "duration": 10,
    "start_time": "2022-05-14T15:15:37.844Z"
   },
   {
    "duration": 6,
    "start_time": "2022-05-14T15:15:37.856Z"
   },
   {
    "duration": 10,
    "start_time": "2022-05-14T15:15:37.864Z"
   },
   {
    "duration": 49,
    "start_time": "2022-05-14T15:15:37.876Z"
   },
   {
    "duration": 12,
    "start_time": "2022-05-14T15:15:37.927Z"
   },
   {
    "duration": 11,
    "start_time": "2022-05-14T15:15:37.941Z"
   },
   {
    "duration": 5,
    "start_time": "2022-05-14T15:15:37.954Z"
   },
   {
    "duration": 4,
    "start_time": "2022-05-14T15:15:37.961Z"
   },
   {
    "duration": 13,
    "start_time": "2022-05-14T15:15:37.967Z"
   },
   {
    "duration": 7,
    "start_time": "2022-05-14T15:15:37.982Z"
   },
   {
    "duration": 34,
    "start_time": "2022-05-14T15:15:37.990Z"
   },
   {
    "duration": 6,
    "start_time": "2022-05-14T15:15:38.026Z"
   },
   {
    "duration": 6,
    "start_time": "2022-05-14T15:15:38.034Z"
   },
   {
    "duration": 11,
    "start_time": "2022-05-14T15:15:38.042Z"
   },
   {
    "duration": 13,
    "start_time": "2022-05-14T15:15:38.054Z"
   },
   {
    "duration": 5,
    "start_time": "2022-05-14T15:15:38.071Z"
   },
   {
    "duration": 145,
    "start_time": "2022-05-14T15:15:38.077Z"
   },
   {
    "duration": 18,
    "start_time": "2022-05-14T15:15:38.224Z"
   },
   {
    "duration": 10,
    "start_time": "2022-05-14T15:15:38.244Z"
   },
   {
    "duration": 150,
    "start_time": "2022-05-14T15:15:38.256Z"
   },
   {
    "duration": 14,
    "start_time": "2022-05-14T15:15:38.408Z"
   },
   {
    "duration": 7888,
    "start_time": "2022-05-14T15:15:38.425Z"
   },
   {
    "duration": 877,
    "start_time": "2022-05-14T15:15:46.323Z"
   },
   {
    "duration": 65,
    "start_time": "2022-05-14T15:15:47.202Z"
   },
   {
    "duration": 120,
    "start_time": "2022-05-14T15:15:47.269Z"
   },
   {
    "duration": 133,
    "start_time": "2022-05-14T15:15:47.391Z"
   },
   {
    "duration": 97,
    "start_time": "2022-05-14T15:15:47.527Z"
   },
   {
    "duration": 207,
    "start_time": "2022-05-14T15:15:47.632Z"
   },
   {
    "duration": 13,
    "start_time": "2022-05-14T15:15:47.842Z"
   },
   {
    "duration": 171,
    "start_time": "2022-05-14T15:15:47.858Z"
   },
   {
    "duration": 7,
    "start_time": "2022-05-14T15:15:48.031Z"
   },
   {
    "duration": 14,
    "start_time": "2022-05-14T15:15:48.039Z"
   },
   {
    "duration": 18,
    "start_time": "2022-05-14T15:15:48.055Z"
   },
   {
    "duration": 4,
    "start_time": "2022-05-14T15:17:51.482Z"
   },
   {
    "duration": 117,
    "start_time": "2022-05-14T15:17:52.691Z"
   },
   {
    "duration": 4,
    "start_time": "2022-05-14T15:19:05.822Z"
   },
   {
    "duration": 4,
    "start_time": "2022-05-14T15:19:12.137Z"
   },
   {
    "duration": 10,
    "start_time": "2022-05-14T15:19:12.831Z"
   },
   {
    "duration": 4,
    "start_time": "2022-05-14T15:20:31.315Z"
   },
   {
    "duration": 4,
    "start_time": "2022-05-14T15:21:44.334Z"
   },
   {
    "duration": 12,
    "start_time": "2022-05-14T15:35:31.259Z"
   },
   {
    "duration": 2718,
    "start_time": "2022-05-14T15:37:22.773Z"
   },
   {
    "duration": 1131,
    "start_time": "2022-05-14T15:37:25.494Z"
   },
   {
    "duration": 1640,
    "start_time": "2022-05-14T15:37:26.627Z"
   },
   {
    "duration": 5,
    "start_time": "2022-05-14T15:37:28.270Z"
   },
   {
    "duration": 48,
    "start_time": "2022-05-14T15:37:28.278Z"
   },
   {
    "duration": 15,
    "start_time": "2022-05-14T15:37:28.327Z"
   },
   {
    "duration": 14,
    "start_time": "2022-05-14T15:37:28.344Z"
   },
   {
    "duration": 12,
    "start_time": "2022-05-14T15:37:28.359Z"
   },
   {
    "duration": 8,
    "start_time": "2022-05-14T15:37:28.373Z"
   },
   {
    "duration": 7,
    "start_time": "2022-05-14T15:37:28.383Z"
   },
   {
    "duration": 31,
    "start_time": "2022-05-14T15:37:28.392Z"
   },
   {
    "duration": 4,
    "start_time": "2022-05-14T15:37:28.425Z"
   },
   {
    "duration": 44,
    "start_time": "2022-05-14T15:37:28.431Z"
   },
   {
    "duration": 4,
    "start_time": "2022-05-14T15:37:28.478Z"
   },
   {
    "duration": 5,
    "start_time": "2022-05-14T15:37:28.484Z"
   },
   {
    "duration": 37,
    "start_time": "2022-05-14T15:37:28.491Z"
   },
   {
    "duration": 5,
    "start_time": "2022-05-14T15:37:28.530Z"
   },
   {
    "duration": 10,
    "start_time": "2022-05-14T15:37:28.536Z"
   },
   {
    "duration": 10,
    "start_time": "2022-05-14T15:37:28.547Z"
   },
   {
    "duration": 10,
    "start_time": "2022-05-14T15:37:28.559Z"
   },
   {
    "duration": 7,
    "start_time": "2022-05-14T15:37:28.570Z"
   },
   {
    "duration": 8,
    "start_time": "2022-05-14T15:37:28.579Z"
   },
   {
    "duration": 35,
    "start_time": "2022-05-14T15:37:28.589Z"
   },
   {
    "duration": 6,
    "start_time": "2022-05-14T15:37:28.625Z"
   },
   {
    "duration": 8,
    "start_time": "2022-05-14T15:37:28.633Z"
   },
   {
    "duration": 10,
    "start_time": "2022-05-14T15:37:28.643Z"
   },
   {
    "duration": 13,
    "start_time": "2022-05-14T15:37:28.655Z"
   },
   {
    "duration": 12,
    "start_time": "2022-05-14T15:37:28.670Z"
   },
   {
    "duration": 13,
    "start_time": "2022-05-14T15:37:28.684Z"
   },
   {
    "duration": 12,
    "start_time": "2022-05-14T15:37:28.724Z"
   },
   {
    "duration": 12,
    "start_time": "2022-05-14T15:37:28.738Z"
   },
   {
    "duration": 41,
    "start_time": "2022-05-14T15:37:28.752Z"
   },
   {
    "duration": 4,
    "start_time": "2022-05-14T15:37:28.795Z"
   },
   {
    "duration": 12,
    "start_time": "2022-05-14T15:37:28.800Z"
   },
   {
    "duration": 12,
    "start_time": "2022-05-14T15:37:28.814Z"
   },
   {
    "duration": 7,
    "start_time": "2022-05-14T15:37:28.828Z"
   },
   {
    "duration": 7,
    "start_time": "2022-05-14T15:37:28.837Z"
   },
   {
    "duration": 9,
    "start_time": "2022-05-14T15:37:28.845Z"
   },
   {
    "duration": 9,
    "start_time": "2022-05-14T15:37:28.856Z"
   },
   {
    "duration": 10,
    "start_time": "2022-05-14T15:37:28.866Z"
   },
   {
    "duration": 6,
    "start_time": "2022-05-14T15:37:28.880Z"
   },
   {
    "duration": 125,
    "start_time": "2022-05-14T15:37:28.888Z"
   },
   {
    "duration": 24,
    "start_time": "2022-05-14T15:37:29.014Z"
   },
   {
    "duration": 9,
    "start_time": "2022-05-14T15:37:29.039Z"
   },
   {
    "duration": 136,
    "start_time": "2022-05-14T15:37:29.049Z"
   },
   {
    "duration": 8,
    "start_time": "2022-05-14T15:37:29.187Z"
   },
   {
    "duration": 7647,
    "start_time": "2022-05-14T15:37:29.197Z"
   },
   {
    "duration": 809,
    "start_time": "2022-05-14T15:37:36.845Z"
   },
   {
    "duration": 57,
    "start_time": "2022-05-14T15:37:37.655Z"
   },
   {
    "duration": 122,
    "start_time": "2022-05-14T15:37:37.723Z"
   },
   {
    "duration": 78,
    "start_time": "2022-05-14T15:37:37.847Z"
   },
   {
    "duration": 105,
    "start_time": "2022-05-14T15:37:37.927Z"
   },
   {
    "duration": 290,
    "start_time": "2022-05-14T15:37:38.034Z"
   },
   {
    "duration": 9,
    "start_time": "2022-05-14T15:37:38.326Z"
   },
   {
    "duration": 39,
    "start_time": "2022-05-14T15:37:38.337Z"
   },
   {
    "duration": 15,
    "start_time": "2022-05-14T15:37:48.416Z"
   },
   {
    "duration": 5,
    "start_time": "2022-05-14T15:38:12.180Z"
   },
   {
    "duration": 25,
    "start_time": "2022-05-14T15:38:46.322Z"
   },
   {
    "duration": 26,
    "start_time": "2022-05-14T15:39:31.916Z"
   },
   {
    "duration": 29,
    "start_time": "2022-05-14T15:40:49.980Z"
   },
   {
    "duration": 99,
    "start_time": "2022-05-14T15:43:48.199Z"
   },
   {
    "duration": 846,
    "start_time": "2022-05-14T15:47:40.972Z"
   },
   {
    "duration": 60,
    "start_time": "2022-05-14T15:47:53.987Z"
   },
   {
    "duration": 121,
    "start_time": "2022-05-14T15:48:21.466Z"
   },
   {
    "duration": 789050,
    "start_time": "2022-05-14T15:51:44.148Z"
   },
   {
    "duration": 184,
    "start_time": "2022-05-14T16:04:53.200Z"
   },
   {
    "duration": 9,
    "start_time": "2022-05-14T16:30:59.441Z"
   },
   {
    "duration": 1959,
    "start_time": "2022-05-15T20:10:58.822Z"
   },
   {
    "duration": 112,
    "start_time": "2022-05-15T20:11:20.105Z"
   },
   {
    "duration": 4783,
    "start_time": "2022-05-15T20:11:27.702Z"
   },
   {
    "duration": 1081,
    "start_time": "2022-05-15T20:11:32.487Z"
   },
   {
    "duration": 1554,
    "start_time": "2022-05-15T20:11:33.571Z"
   },
   {
    "duration": 5,
    "start_time": "2022-05-15T20:11:35.127Z"
   },
   {
    "duration": 73,
    "start_time": "2022-05-15T20:11:35.135Z"
   },
   {
    "duration": 17,
    "start_time": "2022-05-15T20:11:35.210Z"
   },
   {
    "duration": 14,
    "start_time": "2022-05-15T20:11:35.229Z"
   },
   {
    "duration": 9,
    "start_time": "2022-05-15T20:11:35.245Z"
   },
   {
    "duration": 17,
    "start_time": "2022-05-15T20:11:35.256Z"
   },
   {
    "duration": 12,
    "start_time": "2022-05-15T20:11:35.275Z"
   },
   {
    "duration": 6,
    "start_time": "2022-05-15T20:11:35.289Z"
   },
   {
    "duration": 5,
    "start_time": "2022-05-15T20:11:35.297Z"
   },
   {
    "duration": 39,
    "start_time": "2022-05-15T20:11:35.303Z"
   },
   {
    "duration": 4,
    "start_time": "2022-05-15T20:11:35.344Z"
   },
   {
    "duration": 3,
    "start_time": "2022-05-15T20:11:35.362Z"
   },
   {
    "duration": 29,
    "start_time": "2022-05-15T20:11:35.366Z"
   },
   {
    "duration": 4,
    "start_time": "2022-05-15T20:11:35.397Z"
   },
   {
    "duration": 9,
    "start_time": "2022-05-15T20:11:35.402Z"
   },
   {
    "duration": 6,
    "start_time": "2022-05-15T20:11:35.412Z"
   },
   {
    "duration": 7,
    "start_time": "2022-05-15T20:11:35.420Z"
   },
   {
    "duration": 6,
    "start_time": "2022-05-15T20:11:35.428Z"
   },
   {
    "duration": 8,
    "start_time": "2022-05-15T20:11:35.435Z"
   },
   {
    "duration": 9,
    "start_time": "2022-05-15T20:11:35.466Z"
   },
   {
    "duration": 12,
    "start_time": "2022-05-15T20:11:35.477Z"
   },
   {
    "duration": 8,
    "start_time": "2022-05-15T20:11:35.491Z"
   },
   {
    "duration": 11,
    "start_time": "2022-05-15T20:11:35.500Z"
   },
   {
    "duration": 6,
    "start_time": "2022-05-15T20:11:35.512Z"
   },
   {
    "duration": 10,
    "start_time": "2022-05-15T20:11:35.520Z"
   },
   {
    "duration": 39,
    "start_time": "2022-05-15T20:11:35.532Z"
   },
   {
    "duration": 14,
    "start_time": "2022-05-15T20:11:35.573Z"
   },
   {
    "duration": 10,
    "start_time": "2022-05-15T20:11:35.590Z"
   },
   {
    "duration": 4,
    "start_time": "2022-05-15T20:11:35.602Z"
   },
   {
    "duration": 5,
    "start_time": "2022-05-15T20:11:35.608Z"
   },
   {
    "duration": 9,
    "start_time": "2022-05-15T20:11:35.614Z"
   },
   {
    "duration": 9,
    "start_time": "2022-05-15T20:11:35.624Z"
   },
   {
    "duration": 11,
    "start_time": "2022-05-15T20:11:35.634Z"
   },
   {
    "duration": 4,
    "start_time": "2022-05-15T20:11:35.668Z"
   },
   {
    "duration": 12,
    "start_time": "2022-05-15T20:11:35.674Z"
   },
   {
    "duration": 6,
    "start_time": "2022-05-15T20:11:35.687Z"
   },
   {
    "duration": 8,
    "start_time": "2022-05-15T20:11:35.695Z"
   },
   {
    "duration": 8,
    "start_time": "2022-05-15T20:11:35.708Z"
   },
   {
    "duration": 152,
    "start_time": "2022-05-15T20:11:35.718Z"
   },
   {
    "duration": 19,
    "start_time": "2022-05-15T20:11:35.872Z"
   },
   {
    "duration": 9,
    "start_time": "2022-05-15T20:11:35.892Z"
   },
   {
    "duration": 138,
    "start_time": "2022-05-15T20:11:35.902Z"
   },
   {
    "duration": 6,
    "start_time": "2022-05-15T20:11:36.042Z"
   },
   {
    "duration": 7629,
    "start_time": "2022-05-15T20:11:36.050Z"
   },
   {
    "duration": 928,
    "start_time": "2022-05-15T20:11:43.681Z"
   },
   {
    "duration": 74,
    "start_time": "2022-05-15T20:11:44.610Z"
   },
   {
    "duration": 113,
    "start_time": "2022-05-15T20:11:44.686Z"
   },
   {
    "duration": 70,
    "start_time": "2022-05-15T20:11:44.800Z"
   },
   {
    "duration": 104,
    "start_time": "2022-05-15T20:11:44.875Z"
   },
   {
    "duration": 202,
    "start_time": "2022-05-15T20:11:44.981Z"
   },
   {
    "duration": 9,
    "start_time": "2022-05-15T20:11:45.185Z"
   },
   {
    "duration": 158,
    "start_time": "2022-05-15T20:11:45.195Z"
   },
   {
    "duration": 35,
    "start_time": "2022-05-15T20:11:45.355Z"
   },
   {
    "duration": 112,
    "start_time": "2022-05-15T20:11:45.391Z"
   },
   {
    "duration": 791,
    "start_time": "2022-05-15T20:11:45.505Z"
   },
   {
    "duration": 54,
    "start_time": "2022-05-15T20:11:46.298Z"
   },
   {
    "duration": 110,
    "start_time": "2022-05-15T20:11:46.362Z"
   },
   {
    "duration": 6332,
    "start_time": "2022-05-16T06:37:21.095Z"
   },
   {
    "duration": 1093,
    "start_time": "2022-05-16T06:37:27.429Z"
   },
   {
    "duration": 1601,
    "start_time": "2022-05-16T06:37:28.523Z"
   },
   {
    "duration": 1700,
    "start_time": "2022-05-16T06:37:30.126Z"
   },
   {
    "duration": 48,
    "start_time": "2022-05-16T06:37:31.829Z"
   },
   {
    "duration": 17,
    "start_time": "2022-05-16T06:37:31.878Z"
   },
   {
    "duration": 23,
    "start_time": "2022-05-16T06:37:31.896Z"
   },
   {
    "duration": 22,
    "start_time": "2022-05-16T06:37:31.921Z"
   },
   {
    "duration": 6,
    "start_time": "2022-05-16T06:37:31.945Z"
   },
   {
    "duration": 18,
    "start_time": "2022-05-16T06:37:31.952Z"
   },
   {
    "duration": 7,
    "start_time": "2022-05-16T06:37:31.971Z"
   },
   {
    "duration": 5,
    "start_time": "2022-05-16T06:37:31.979Z"
   },
   {
    "duration": 44,
    "start_time": "2022-05-16T06:37:31.985Z"
   },
   {
    "duration": 5,
    "start_time": "2022-05-16T06:37:32.032Z"
   },
   {
    "duration": 11,
    "start_time": "2022-05-16T06:37:32.038Z"
   },
   {
    "duration": 13,
    "start_time": "2022-05-16T06:37:32.051Z"
   },
   {
    "duration": 4,
    "start_time": "2022-05-16T06:37:32.065Z"
   },
   {
    "duration": 10,
    "start_time": "2022-05-16T06:37:32.070Z"
   },
   {
    "duration": 20,
    "start_time": "2022-05-16T06:37:32.081Z"
   },
   {
    "duration": 6,
    "start_time": "2022-05-16T06:37:32.103Z"
   },
   {
    "duration": 17,
    "start_time": "2022-05-16T06:37:32.111Z"
   },
   {
    "duration": 13,
    "start_time": "2022-05-16T06:37:32.129Z"
   },
   {
    "duration": 14,
    "start_time": "2022-05-16T06:37:32.144Z"
   },
   {
    "duration": 13,
    "start_time": "2022-05-16T06:37:32.159Z"
   },
   {
    "duration": 13,
    "start_time": "2022-05-16T06:37:32.173Z"
   },
   {
    "duration": 9,
    "start_time": "2022-05-16T06:37:32.187Z"
   },
   {
    "duration": 6,
    "start_time": "2022-05-16T06:37:32.198Z"
   },
   {
    "duration": 21,
    "start_time": "2022-05-16T06:37:32.205Z"
   },
   {
    "duration": 13,
    "start_time": "2022-05-16T06:37:32.228Z"
   },
   {
    "duration": 11,
    "start_time": "2022-05-16T06:37:32.243Z"
   },
   {
    "duration": 11,
    "start_time": "2022-05-16T06:37:32.255Z"
   },
   {
    "duration": 4,
    "start_time": "2022-05-16T06:37:32.268Z"
   },
   {
    "duration": 5,
    "start_time": "2022-05-16T06:37:32.274Z"
   },
   {
    "duration": 20,
    "start_time": "2022-05-16T06:37:32.280Z"
   },
   {
    "duration": 18,
    "start_time": "2022-05-16T06:37:32.302Z"
   },
   {
    "duration": 5,
    "start_time": "2022-05-16T06:37:32.322Z"
   },
   {
    "duration": 8,
    "start_time": "2022-05-16T06:37:32.328Z"
   },
   {
    "duration": 8,
    "start_time": "2022-05-16T06:37:32.337Z"
   },
   {
    "duration": 6,
    "start_time": "2022-05-16T06:37:32.346Z"
   },
   {
    "duration": 7,
    "start_time": "2022-05-16T06:37:32.353Z"
   },
   {
    "duration": 4,
    "start_time": "2022-05-16T06:37:32.365Z"
   },
   {
    "duration": 118,
    "start_time": "2022-05-16T06:37:32.370Z"
   },
   {
    "duration": 28,
    "start_time": "2022-05-16T06:37:32.490Z"
   },
   {
    "duration": 7,
    "start_time": "2022-05-16T06:37:32.520Z"
   },
   {
    "duration": 131,
    "start_time": "2022-05-16T06:37:32.529Z"
   },
   {
    "duration": 7,
    "start_time": "2022-05-16T06:37:32.661Z"
   },
   {
    "duration": 6960,
    "start_time": "2022-05-16T06:37:32.670Z"
   },
   {
    "duration": 805,
    "start_time": "2022-05-16T06:37:39.631Z"
   },
   {
    "duration": 49,
    "start_time": "2022-05-16T06:37:40.437Z"
   },
   {
    "duration": 115,
    "start_time": "2022-05-16T06:37:40.488Z"
   },
   {
    "duration": 36,
    "start_time": "2022-05-16T06:37:40.605Z"
   },
   {
    "duration": 17,
    "start_time": "2022-05-16T06:37:40.701Z"
   },
   {
    "duration": 211,
    "start_time": "2022-05-16T06:37:40.800Z"
   },
   {
    "duration": 9,
    "start_time": "2022-05-16T06:37:41.013Z"
   },
   {
    "duration": 116,
    "start_time": "2022-05-16T06:37:41.024Z"
   },
   {
    "duration": 24,
    "start_time": "2022-05-16T06:37:41.142Z"
   },
   {
    "duration": 113,
    "start_time": "2022-05-16T06:37:41.168Z"
   },
   {
    "duration": 776,
    "start_time": "2022-05-16T06:37:41.282Z"
   },
   {
    "duration": 62,
    "start_time": "2022-05-16T06:37:42.059Z"
   },
   {
    "duration": 111,
    "start_time": "2022-05-16T06:37:42.122Z"
   },
   {
    "duration": 45320,
    "start_time": "2022-05-16T06:37:42.235Z"
   },
   {
    "duration": 2226,
    "start_time": "2022-05-16T06:38:27.557Z"
   },
   {
    "duration": 149,
    "start_time": "2022-05-16T06:38:29.785Z"
   },
   {
    "duration": 748,
    "start_time": "2022-05-16T06:47:24.908Z"
   },
   {
    "duration": 50,
    "start_time": "2022-05-16T06:47:26.789Z"
   },
   {
    "duration": 5,
    "start_time": "2022-05-16T06:47:59.681Z"
   },
   {
    "duration": 717,
    "start_time": "2022-05-16T06:48:41.373Z"
   },
   {
    "duration": 52,
    "start_time": "2022-05-16T06:48:44.285Z"
   },
   {
    "duration": 54,
    "start_time": "2022-05-16T06:50:27.853Z"
   },
   {
    "duration": 23,
    "start_time": "2022-05-16T06:52:45.440Z"
   },
   {
    "duration": 9,
    "start_time": "2022-05-16T06:52:47.032Z"
   },
   {
    "duration": 155,
    "start_time": "2022-05-16T06:54:21.637Z"
   },
   {
    "duration": 8,
    "start_time": "2022-05-16T06:54:37.544Z"
   },
   {
    "duration": 4,
    "start_time": "2022-05-16T06:57:24.637Z"
   },
   {
    "duration": 5,
    "start_time": "2022-05-16T06:57:27.725Z"
   },
   {
    "duration": 4,
    "start_time": "2022-05-16T06:57:51.109Z"
   },
   {
    "duration": 10,
    "start_time": "2022-05-16T06:57:52.264Z"
   },
   {
    "duration": 6,
    "start_time": "2022-05-16T06:58:11.677Z"
   },
   {
    "duration": 980,
    "start_time": "2022-05-16T07:01:46.124Z"
   },
   {
    "duration": 52,
    "start_time": "2022-05-16T07:01:51.308Z"
   },
   {
    "duration": 2590,
    "start_time": "2022-05-16T07:14:14.282Z"
   },
   {
    "duration": 1076,
    "start_time": "2022-05-16T07:14:16.874Z"
   },
   {
    "duration": 1530,
    "start_time": "2022-05-16T07:14:17.952Z"
   },
   {
    "duration": 4,
    "start_time": "2022-05-16T07:14:19.484Z"
   },
   {
    "duration": 53,
    "start_time": "2022-05-16T07:14:19.491Z"
   },
   {
    "duration": 13,
    "start_time": "2022-05-16T07:14:19.546Z"
   },
   {
    "duration": 19,
    "start_time": "2022-05-16T07:14:19.561Z"
   },
   {
    "duration": 14,
    "start_time": "2022-05-16T07:14:19.582Z"
   },
   {
    "duration": 8,
    "start_time": "2022-05-16T07:14:19.598Z"
   },
   {
    "duration": 11,
    "start_time": "2022-05-16T07:14:19.608Z"
   },
   {
    "duration": 2,
    "start_time": "2022-05-16T07:14:19.621Z"
   },
   {
    "duration": 9,
    "start_time": "2022-05-16T07:14:19.625Z"
   },
   {
    "duration": 41,
    "start_time": "2022-05-16T07:14:19.636Z"
   },
   {
    "duration": 22,
    "start_time": "2022-05-16T07:14:19.679Z"
   },
   {
    "duration": 4,
    "start_time": "2022-05-16T07:14:19.703Z"
   },
   {
    "duration": 20,
    "start_time": "2022-05-16T07:14:19.709Z"
   },
   {
    "duration": 5,
    "start_time": "2022-05-16T07:14:19.731Z"
   },
   {
    "duration": 9,
    "start_time": "2022-05-16T07:14:19.737Z"
   },
   {
    "duration": 6,
    "start_time": "2022-05-16T07:14:19.747Z"
   },
   {
    "duration": 7,
    "start_time": "2022-05-16T07:14:19.754Z"
   },
   {
    "duration": 5,
    "start_time": "2022-05-16T07:14:19.763Z"
   },
   {
    "duration": 33,
    "start_time": "2022-05-16T07:14:19.770Z"
   },
   {
    "duration": 12,
    "start_time": "2022-05-16T07:14:19.805Z"
   },
   {
    "duration": 6,
    "start_time": "2022-05-16T07:14:19.818Z"
   },
   {
    "duration": 8,
    "start_time": "2022-05-16T07:14:19.825Z"
   },
   {
    "duration": 7,
    "start_time": "2022-05-16T07:14:19.834Z"
   },
   {
    "duration": 8,
    "start_time": "2022-05-16T07:14:19.843Z"
   },
   {
    "duration": 16,
    "start_time": "2022-05-16T07:14:19.852Z"
   },
   {
    "duration": 37,
    "start_time": "2022-05-16T07:14:19.869Z"
   },
   {
    "duration": 12,
    "start_time": "2022-05-16T07:14:19.907Z"
   },
   {
    "duration": 11,
    "start_time": "2022-05-16T07:14:19.920Z"
   },
   {
    "duration": 5,
    "start_time": "2022-05-16T07:14:19.933Z"
   },
   {
    "duration": 10,
    "start_time": "2022-05-16T07:14:19.940Z"
   },
   {
    "duration": 10,
    "start_time": "2022-05-16T07:14:19.951Z"
   },
   {
    "duration": 5,
    "start_time": "2022-05-16T07:14:19.962Z"
   },
   {
    "duration": 32,
    "start_time": "2022-05-16T07:14:19.969Z"
   },
   {
    "duration": 5,
    "start_time": "2022-05-16T07:14:20.002Z"
   },
   {
    "duration": 14,
    "start_time": "2022-05-16T07:14:20.009Z"
   },
   {
    "duration": 7,
    "start_time": "2022-05-16T07:14:20.025Z"
   },
   {
    "duration": 15,
    "start_time": "2022-05-16T07:14:20.034Z"
   },
   {
    "duration": 4,
    "start_time": "2022-05-16T07:14:20.055Z"
   },
   {
    "duration": 122,
    "start_time": "2022-05-16T07:14:20.061Z"
   },
   {
    "duration": 27,
    "start_time": "2022-05-16T07:14:20.185Z"
   },
   {
    "duration": 8,
    "start_time": "2022-05-16T07:14:20.213Z"
   },
   {
    "duration": 121,
    "start_time": "2022-05-16T07:14:20.223Z"
   },
   {
    "duration": 6,
    "start_time": "2022-05-16T07:14:20.346Z"
   },
   {
    "duration": 6936,
    "start_time": "2022-05-16T07:14:20.354Z"
   },
   {
    "duration": 796,
    "start_time": "2022-05-16T07:14:27.292Z"
   },
   {
    "duration": 75,
    "start_time": "2022-05-16T07:14:28.089Z"
   },
   {
    "duration": 134,
    "start_time": "2022-05-16T07:14:28.166Z"
   },
   {
    "duration": 100,
    "start_time": "2022-05-16T07:14:28.302Z"
   },
   {
    "duration": 97,
    "start_time": "2022-05-16T07:14:28.404Z"
   },
   {
    "duration": 208,
    "start_time": "2022-05-16T07:14:28.503Z"
   },
   {
    "duration": 9,
    "start_time": "2022-05-16T07:14:28.712Z"
   },
   {
    "duration": 38,
    "start_time": "2022-05-16T07:14:28.723Z"
   },
   {
    "duration": 43,
    "start_time": "2022-05-16T07:14:28.763Z"
   },
   {
    "duration": 109,
    "start_time": "2022-05-16T07:14:28.808Z"
   },
   {
    "duration": 874,
    "start_time": "2022-05-16T07:14:28.919Z"
   },
   {
    "duration": 54,
    "start_time": "2022-05-16T07:14:29.795Z"
   },
   {
    "duration": 114,
    "start_time": "2022-05-16T07:14:29.851Z"
   },
   {
    "duration": 42076,
    "start_time": "2022-05-16T07:14:29.967Z"
   },
   {
    "duration": 2195,
    "start_time": "2022-05-16T07:15:12.044Z"
   },
   {
    "duration": 149,
    "start_time": "2022-05-16T07:15:14.241Z"
   },
   {
    "duration": 111,
    "start_time": "2022-05-16T07:15:14.391Z"
   },
   {
    "duration": 886,
    "start_time": "2022-05-16T07:15:14.504Z"
   },
   {
    "duration": 142,
    "start_time": "2022-05-16T07:15:15.392Z"
   },
   {
    "duration": 69,
    "start_time": "2022-05-16T07:15:15.536Z"
   },
   {
    "duration": 96,
    "start_time": "2022-05-16T07:15:15.607Z"
   },
   {
    "duration": 199,
    "start_time": "2022-05-16T07:15:15.706Z"
   },
   {
    "duration": 8,
    "start_time": "2022-05-16T07:15:15.907Z"
   },
   {
    "duration": 10,
    "start_time": "2022-05-16T07:15:15.918Z"
   },
   {
    "duration": 6,
    "start_time": "2022-05-16T07:15:15.929Z"
   },
   {
    "duration": 7,
    "start_time": "2022-05-16T07:15:15.937Z"
   },
   {
    "duration": 12,
    "start_time": "2022-05-16T07:15:15.946Z"
   },
   {
    "duration": 4,
    "start_time": "2022-05-16T07:15:15.959Z"
   },
   {
    "duration": 1109,
    "start_time": "2022-05-16T07:15:15.964Z"
   },
   {
    "duration": 68,
    "start_time": "2022-05-16T07:15:17.074Z"
   },
   {
    "duration": 3,
    "start_time": "2022-05-16T07:15:17.144Z"
   },
   {
    "duration": 25,
    "start_time": "2022-05-16T07:15:17.148Z"
   },
   {
    "duration": 8,
    "start_time": "2022-05-16T07:15:33.303Z"
   },
   {
    "duration": 108,
    "start_time": "2022-05-16T07:15:34.068Z"
   },
   {
    "duration": 7,
    "start_time": "2022-05-16T07:15:50.659Z"
   },
   {
    "duration": 1295,
    "start_time": "2022-05-16T07:16:38.840Z"
   },
   {
    "duration": 10,
    "start_time": "2022-05-16T07:16:53.286Z"
   },
   {
    "duration": 1336,
    "start_time": "2022-05-16T07:17:02.091Z"
   },
   {
    "duration": 16,
    "start_time": "2022-05-16T07:18:55.917Z"
   },
   {
    "duration": 122,
    "start_time": "2022-05-16T07:19:05.722Z"
   },
   {
    "duration": 1406,
    "start_time": "2022-05-16T07:20:02.962Z"
   },
   {
    "duration": 1432,
    "start_time": "2022-05-16T07:20:24.184Z"
   },
   {
    "duration": 16,
    "start_time": "2022-05-16T07:20:39.713Z"
   },
   {
    "duration": 38,
    "start_time": "2022-05-16T07:21:22.710Z"
   },
   {
    "duration": 10,
    "start_time": "2022-05-16T07:21:24.153Z"
   },
   {
    "duration": 10,
    "start_time": "2022-05-16T07:22:33.389Z"
   },
   {
    "duration": 27,
    "start_time": "2022-05-16T07:22:50.250Z"
   },
   {
    "duration": 9,
    "start_time": "2022-05-16T07:22:51.193Z"
   },
   {
    "duration": 1450,
    "start_time": "2022-05-16T07:31:52.154Z"
   },
   {
    "duration": 58,
    "start_time": "2022-05-16T07:32:41.993Z"
   },
   {
    "duration": 11,
    "start_time": "2022-05-16T07:35:00.252Z"
   },
   {
    "duration": 56,
    "start_time": "2022-05-16T07:38:14.275Z"
   },
   {
    "duration": 1367,
    "start_time": "2022-05-16T07:38:16.810Z"
   },
   {
    "duration": 63,
    "start_time": "2022-05-16T07:38:19.850Z"
   },
   {
    "duration": 1382,
    "start_time": "2022-05-16T07:38:31.747Z"
   },
   {
    "duration": 1341,
    "start_time": "2022-05-16T07:55:07.798Z"
   },
   {
    "duration": 58,
    "start_time": "2022-05-16T07:55:10.098Z"
   },
   {
    "duration": 2348,
    "start_time": "2022-05-16T07:56:04.189Z"
   },
   {
    "duration": 1045,
    "start_time": "2022-05-16T07:56:06.539Z"
   },
   {
    "duration": 1471,
    "start_time": "2022-05-16T07:56:07.586Z"
   },
   {
    "duration": 5,
    "start_time": "2022-05-16T07:56:09.059Z"
   },
   {
    "duration": 51,
    "start_time": "2022-05-16T07:56:09.066Z"
   },
   {
    "duration": 13,
    "start_time": "2022-05-16T07:56:09.118Z"
   },
   {
    "duration": 27,
    "start_time": "2022-05-16T07:56:09.133Z"
   },
   {
    "duration": 9,
    "start_time": "2022-05-16T07:56:09.162Z"
   },
   {
    "duration": 5,
    "start_time": "2022-05-16T07:56:09.173Z"
   },
   {
    "duration": 21,
    "start_time": "2022-05-16T07:56:09.180Z"
   },
   {
    "duration": 2,
    "start_time": "2022-05-16T07:56:09.202Z"
   },
   {
    "duration": 7,
    "start_time": "2022-05-16T07:56:09.205Z"
   },
   {
    "duration": 38,
    "start_time": "2022-05-16T07:56:09.213Z"
   },
   {
    "duration": 3,
    "start_time": "2022-05-16T07:56:09.254Z"
   },
   {
    "duration": 5,
    "start_time": "2022-05-16T07:56:09.258Z"
   },
   {
    "duration": 14,
    "start_time": "2022-05-16T07:56:09.265Z"
   },
   {
    "duration": 21,
    "start_time": "2022-05-16T07:56:09.281Z"
   },
   {
    "duration": 11,
    "start_time": "2022-05-16T07:56:09.303Z"
   },
   {
    "duration": 6,
    "start_time": "2022-05-16T07:56:09.315Z"
   },
   {
    "duration": 5,
    "start_time": "2022-05-16T07:56:09.322Z"
   },
   {
    "duration": 5,
    "start_time": "2022-05-16T07:56:09.329Z"
   },
   {
    "duration": 6,
    "start_time": "2022-05-16T07:56:09.336Z"
   },
   {
    "duration": 6,
    "start_time": "2022-05-16T07:56:09.343Z"
   },
   {
    "duration": 5,
    "start_time": "2022-05-16T07:56:09.350Z"
   },
   {
    "duration": 8,
    "start_time": "2022-05-16T07:56:09.356Z"
   },
   {
    "duration": 37,
    "start_time": "2022-05-16T07:56:09.365Z"
   },
   {
    "duration": 33,
    "start_time": "2022-05-16T07:56:09.403Z"
   },
   {
    "duration": 10,
    "start_time": "2022-05-16T07:56:09.437Z"
   },
   {
    "duration": 10,
    "start_time": "2022-05-16T07:56:09.448Z"
   },
   {
    "duration": 12,
    "start_time": "2022-05-16T07:56:09.460Z"
   },
   {
    "duration": 11,
    "start_time": "2022-05-16T07:56:09.474Z"
   },
   {
    "duration": 5,
    "start_time": "2022-05-16T07:56:09.487Z"
   },
   {
    "duration": 7,
    "start_time": "2022-05-16T07:56:09.494Z"
   },
   {
    "duration": 7,
    "start_time": "2022-05-16T07:56:09.503Z"
   },
   {
    "duration": 5,
    "start_time": "2022-05-16T07:56:09.512Z"
   },
   {
    "duration": 6,
    "start_time": "2022-05-16T07:56:09.518Z"
   },
   {
    "duration": 7,
    "start_time": "2022-05-16T07:56:09.525Z"
   },
   {
    "duration": 5,
    "start_time": "2022-05-16T07:56:09.533Z"
   },
   {
    "duration": 6,
    "start_time": "2022-05-16T07:56:09.540Z"
   },
   {
    "duration": 6,
    "start_time": "2022-05-16T07:56:09.547Z"
   },
   {
    "duration": 4,
    "start_time": "2022-05-16T07:56:09.557Z"
   },
   {
    "duration": 142,
    "start_time": "2022-05-16T07:56:09.562Z"
   },
   {
    "duration": 16,
    "start_time": "2022-05-16T07:56:09.706Z"
   },
   {
    "duration": 8,
    "start_time": "2022-05-16T07:56:09.723Z"
   },
   {
    "duration": 128,
    "start_time": "2022-05-16T07:56:09.732Z"
   },
   {
    "duration": 8,
    "start_time": "2022-05-16T07:56:09.861Z"
   },
   {
    "duration": 6605,
    "start_time": "2022-05-16T07:56:09.870Z"
   },
   {
    "duration": 754,
    "start_time": "2022-05-16T07:56:16.476Z"
   },
   {
    "duration": 77,
    "start_time": "2022-05-16T07:56:17.232Z"
   },
   {
    "duration": 105,
    "start_time": "2022-05-16T07:56:17.310Z"
   },
   {
    "duration": 28,
    "start_time": "2022-05-16T07:56:17.416Z"
   },
   {
    "duration": 100,
    "start_time": "2022-05-16T07:56:17.501Z"
   },
   {
    "duration": 201,
    "start_time": "2022-05-16T07:56:17.604Z"
   },
   {
    "duration": 9,
    "start_time": "2022-05-16T07:56:17.807Z"
   },
   {
    "duration": 38,
    "start_time": "2022-05-16T07:56:17.817Z"
   },
   {
    "duration": 47,
    "start_time": "2022-05-16T07:56:17.857Z"
   },
   {
    "duration": 113,
    "start_time": "2022-05-16T07:56:17.906Z"
   },
   {
    "duration": 843,
    "start_time": "2022-05-16T07:56:18.021Z"
   },
   {
    "duration": 59,
    "start_time": "2022-05-16T07:56:18.865Z"
   },
   {
    "duration": 111,
    "start_time": "2022-05-16T07:56:18.926Z"
   },
   {
    "duration": 41456,
    "start_time": "2022-05-16T07:56:19.039Z"
   },
   {
    "duration": 2155,
    "start_time": "2022-05-16T07:57:00.500Z"
   },
   {
    "duration": 140,
    "start_time": "2022-05-16T07:57:02.657Z"
   },
   {
    "duration": 106,
    "start_time": "2022-05-16T07:57:02.799Z"
   },
   {
    "duration": 751,
    "start_time": "2022-05-16T07:57:02.907Z"
   },
   {
    "duration": 60,
    "start_time": "2022-05-16T07:57:03.660Z"
   },
   {
    "duration": 84,
    "start_time": "2022-05-16T07:57:03.721Z"
   },
   {
    "duration": 102,
    "start_time": "2022-05-16T07:57:03.807Z"
   },
   {
    "duration": 289,
    "start_time": "2022-05-16T07:57:03.911Z"
   },
   {
    "duration": 8,
    "start_time": "2022-05-16T07:57:04.202Z"
   },
   {
    "duration": 11,
    "start_time": "2022-05-16T07:57:04.211Z"
   },
   {
    "duration": 5,
    "start_time": "2022-05-16T07:57:04.223Z"
   },
   {
    "duration": 4,
    "start_time": "2022-05-16T07:57:04.229Z"
   },
   {
    "duration": 12,
    "start_time": "2022-05-16T07:57:04.234Z"
   },
   {
    "duration": 5,
    "start_time": "2022-05-16T07:57:04.247Z"
   },
   {
    "duration": 1239,
    "start_time": "2022-05-16T07:57:04.253Z"
   },
   {
    "duration": 58,
    "start_time": "2022-05-16T07:57:05.493Z"
   },
   {
    "duration": 8,
    "start_time": "2022-05-16T07:57:05.553Z"
   },
   {
    "duration": 7,
    "start_time": "2022-05-16T07:57:05.562Z"
   },
   {
    "duration": 1338,
    "start_time": "2022-05-16T07:57:05.571Z"
   },
   {
    "duration": 28,
    "start_time": "2022-05-16T07:58:20.413Z"
   },
   {
    "duration": 9,
    "start_time": "2022-05-16T07:58:26.380Z"
   },
   {
    "duration": 28,
    "start_time": "2022-05-16T07:59:24.150Z"
   },
   {
    "duration": 26,
    "start_time": "2022-05-16T07:59:36.856Z"
   },
   {
    "duration": 1323,
    "start_time": "2022-05-16T07:59:59.488Z"
   },
   {
    "duration": 1325,
    "start_time": "2022-05-16T08:00:25.876Z"
   },
   {
    "duration": 61,
    "start_time": "2022-05-16T08:00:27.202Z"
   },
   {
    "duration": 3983,
    "start_time": "2022-05-16T08:02:18.209Z"
   },
   {
    "duration": 161,
    "start_time": "2022-05-16T08:02:42.086Z"
   },
   {
    "duration": 2330,
    "start_time": "2022-05-16T08:13:53.727Z"
   },
   {
    "duration": 1038,
    "start_time": "2022-05-16T08:13:56.060Z"
   },
   {
    "duration": 1554,
    "start_time": "2022-05-16T08:13:57.100Z"
   },
   {
    "duration": 5,
    "start_time": "2022-05-16T08:13:58.657Z"
   },
   {
    "duration": 52,
    "start_time": "2022-05-16T08:13:58.663Z"
   },
   {
    "duration": 13,
    "start_time": "2022-05-16T08:13:58.716Z"
   },
   {
    "duration": 13,
    "start_time": "2022-05-16T08:13:58.730Z"
   },
   {
    "duration": 10,
    "start_time": "2022-05-16T08:13:58.744Z"
   },
   {
    "duration": 5,
    "start_time": "2022-05-16T08:13:58.755Z"
   },
   {
    "duration": 9,
    "start_time": "2022-05-16T08:13:58.763Z"
   },
   {
    "duration": 2,
    "start_time": "2022-05-16T08:13:58.773Z"
   },
   {
    "duration": 23,
    "start_time": "2022-05-16T08:13:58.777Z"
   },
   {
    "duration": 35,
    "start_time": "2022-05-16T08:13:58.802Z"
   },
   {
    "duration": 4,
    "start_time": "2022-05-16T08:13:58.838Z"
   },
   {
    "duration": 4,
    "start_time": "2022-05-16T08:13:58.844Z"
   },
   {
    "duration": 17,
    "start_time": "2022-05-16T08:13:58.850Z"
   },
   {
    "duration": 5,
    "start_time": "2022-05-16T08:13:58.868Z"
   },
   {
    "duration": 27,
    "start_time": "2022-05-16T08:13:58.874Z"
   },
   {
    "duration": 5,
    "start_time": "2022-05-16T08:13:58.903Z"
   },
   {
    "duration": 7,
    "start_time": "2022-05-16T08:13:58.909Z"
   },
   {
    "duration": 5,
    "start_time": "2022-05-16T08:13:58.918Z"
   },
   {
    "duration": 10,
    "start_time": "2022-05-16T08:13:58.924Z"
   },
   {
    "duration": 8,
    "start_time": "2022-05-16T08:13:58.935Z"
   },
   {
    "duration": 9,
    "start_time": "2022-05-16T08:13:58.944Z"
   },
   {
    "duration": 9,
    "start_time": "2022-05-16T08:13:58.954Z"
   },
   {
    "duration": 27,
    "start_time": "2022-05-16T08:13:58.964Z"
   },
   {
    "duration": 14,
    "start_time": "2022-05-16T08:13:59.000Z"
   },
   {
    "duration": 5,
    "start_time": "2022-05-16T08:13:59.018Z"
   },
   {
    "duration": 11,
    "start_time": "2022-05-16T08:13:59.025Z"
   },
   {
    "duration": 12,
    "start_time": "2022-05-16T08:13:59.037Z"
   },
   {
    "duration": 10,
    "start_time": "2022-05-16T08:13:59.050Z"
   },
   {
    "duration": 5,
    "start_time": "2022-05-16T08:13:59.061Z"
   },
   {
    "duration": 6,
    "start_time": "2022-05-16T08:13:59.067Z"
   },
   {
    "duration": 26,
    "start_time": "2022-05-16T08:13:59.074Z"
   },
   {
    "duration": 5,
    "start_time": "2022-05-16T08:13:59.102Z"
   },
   {
    "duration": 3,
    "start_time": "2022-05-16T08:13:59.109Z"
   },
   {
    "duration": 7,
    "start_time": "2022-05-16T08:13:59.113Z"
   },
   {
    "duration": 6,
    "start_time": "2022-05-16T08:13:59.121Z"
   },
   {
    "duration": 7,
    "start_time": "2022-05-16T08:13:59.129Z"
   },
   {
    "duration": 9,
    "start_time": "2022-05-16T08:13:59.137Z"
   },
   {
    "duration": 5,
    "start_time": "2022-05-16T08:13:59.147Z"
   },
   {
    "duration": 120,
    "start_time": "2022-05-16T08:13:59.153Z"
   },
   {
    "duration": 15,
    "start_time": "2022-05-16T08:13:59.274Z"
   },
   {
    "duration": 16,
    "start_time": "2022-05-16T08:13:59.290Z"
   },
   {
    "duration": 188,
    "start_time": "2022-05-16T08:13:59.307Z"
   },
   {
    "duration": 8,
    "start_time": "2022-05-16T08:13:59.501Z"
   },
   {
    "duration": 6725,
    "start_time": "2022-05-16T08:13:59.510Z"
   },
   {
    "duration": 738,
    "start_time": "2022-05-16T08:14:06.236Z"
   },
   {
    "duration": 60,
    "start_time": "2022-05-16T08:14:06.976Z"
   },
   {
    "duration": 106,
    "start_time": "2022-05-16T08:14:07.037Z"
   },
   {
    "duration": 57,
    "start_time": "2022-05-16T08:14:07.144Z"
   },
   {
    "duration": 97,
    "start_time": "2022-05-16T08:14:07.204Z"
   },
   {
    "duration": 196,
    "start_time": "2022-05-16T08:14:07.304Z"
   },
   {
    "duration": 8,
    "start_time": "2022-05-16T08:14:07.502Z"
   },
   {
    "duration": 37,
    "start_time": "2022-05-16T08:14:07.511Z"
   },
   {
    "duration": 27,
    "start_time": "2022-05-16T08:14:07.549Z"
   },
   {
    "duration": 103,
    "start_time": "2022-05-16T08:14:07.578Z"
   },
   {
    "duration": 762,
    "start_time": "2022-05-16T08:14:07.683Z"
   },
   {
    "duration": 55,
    "start_time": "2022-05-16T08:14:08.447Z"
   },
   {
    "duration": 111,
    "start_time": "2022-05-16T08:14:08.504Z"
   },
   {
    "duration": 41150,
    "start_time": "2022-05-16T08:14:08.617Z"
   },
   {
    "duration": 2073,
    "start_time": "2022-05-16T08:14:49.769Z"
   },
   {
    "duration": 139,
    "start_time": "2022-05-16T08:14:51.844Z"
   },
   {
    "duration": 105,
    "start_time": "2022-05-16T08:14:51.985Z"
   },
   {
    "duration": 735,
    "start_time": "2022-05-16T08:14:52.091Z"
   },
   {
    "duration": 57,
    "start_time": "2022-05-16T08:14:52.828Z"
   },
   {
    "duration": 35,
    "start_time": "2022-05-16T08:14:52.887Z"
   },
   {
    "duration": 102,
    "start_time": "2022-05-16T08:14:53.002Z"
   },
   {
    "duration": 199,
    "start_time": "2022-05-16T08:14:53.109Z"
   },
   {
    "duration": 9,
    "start_time": "2022-05-16T08:14:53.310Z"
   },
   {
    "duration": 9,
    "start_time": "2022-05-16T08:14:53.320Z"
   },
   {
    "duration": 10,
    "start_time": "2022-05-16T08:14:53.331Z"
   },
   {
    "duration": 7,
    "start_time": "2022-05-16T08:14:53.342Z"
   },
   {
    "duration": 16,
    "start_time": "2022-05-16T08:14:53.350Z"
   },
   {
    "duration": 4,
    "start_time": "2022-05-16T08:14:53.368Z"
   },
   {
    "duration": 1004,
    "start_time": "2022-05-16T08:14:53.373Z"
   },
   {
    "duration": 62,
    "start_time": "2022-05-16T08:14:54.379Z"
   },
   {
    "duration": 7,
    "start_time": "2022-05-16T08:14:54.443Z"
   },
   {
    "duration": 7,
    "start_time": "2022-05-16T08:14:54.452Z"
   },
   {
    "duration": 1313,
    "start_time": "2022-05-16T08:15:02.909Z"
   },
   {
    "duration": 56,
    "start_time": "2022-05-16T08:15:26.831Z"
   },
   {
    "duration": 2646,
    "start_time": "2022-05-16T08:18:24.438Z"
   },
   {
    "duration": 985,
    "start_time": "2022-05-16T08:18:27.086Z"
   },
   {
    "duration": 1483,
    "start_time": "2022-05-16T08:18:28.073Z"
   },
   {
    "duration": 5,
    "start_time": "2022-05-16T08:18:29.558Z"
   },
   {
    "duration": 48,
    "start_time": "2022-05-16T08:18:29.564Z"
   },
   {
    "duration": 14,
    "start_time": "2022-05-16T08:18:29.613Z"
   },
   {
    "duration": 14,
    "start_time": "2022-05-16T08:18:29.628Z"
   },
   {
    "duration": 9,
    "start_time": "2022-05-16T08:18:29.644Z"
   },
   {
    "duration": 6,
    "start_time": "2022-05-16T08:18:29.654Z"
   },
   {
    "duration": 7,
    "start_time": "2022-05-16T08:18:29.662Z"
   },
   {
    "duration": 30,
    "start_time": "2022-05-16T08:18:29.671Z"
   },
   {
    "duration": 18,
    "start_time": "2022-05-16T08:18:29.703Z"
   },
   {
    "duration": 47,
    "start_time": "2022-05-16T08:18:29.723Z"
   },
   {
    "duration": 4,
    "start_time": "2022-05-16T08:18:29.771Z"
   },
   {
    "duration": 10,
    "start_time": "2022-05-16T08:18:29.776Z"
   },
   {
    "duration": 31,
    "start_time": "2022-05-16T08:18:29.787Z"
   },
   {
    "duration": 4,
    "start_time": "2022-05-16T08:18:29.819Z"
   },
   {
    "duration": 21,
    "start_time": "2022-05-16T08:18:29.824Z"
   },
   {
    "duration": 19,
    "start_time": "2022-05-16T08:18:29.847Z"
   },
   {
    "duration": 23,
    "start_time": "2022-05-16T08:18:29.867Z"
   },
   {
    "duration": 16,
    "start_time": "2022-05-16T08:18:29.891Z"
   },
   {
    "duration": 29,
    "start_time": "2022-05-16T08:18:29.909Z"
   },
   {
    "duration": 13,
    "start_time": "2022-05-16T08:18:29.939Z"
   },
   {
    "duration": 13,
    "start_time": "2022-05-16T08:18:29.954Z"
   },
   {
    "duration": 9,
    "start_time": "2022-05-16T08:18:29.968Z"
   },
   {
    "duration": 9,
    "start_time": "2022-05-16T08:18:29.978Z"
   },
   {
    "duration": 33,
    "start_time": "2022-05-16T08:18:29.988Z"
   },
   {
    "duration": 26,
    "start_time": "2022-05-16T08:18:30.026Z"
   },
   {
    "duration": 24,
    "start_time": "2022-05-16T08:18:30.053Z"
   },
   {
    "duration": 21,
    "start_time": "2022-05-16T08:18:30.078Z"
   },
   {
    "duration": 21,
    "start_time": "2022-05-16T08:18:30.100Z"
   },
   {
    "duration": 5,
    "start_time": "2022-05-16T08:18:30.123Z"
   },
   {
    "duration": 6,
    "start_time": "2022-05-16T08:18:30.129Z"
   },
   {
    "duration": 9,
    "start_time": "2022-05-16T08:18:30.136Z"
   },
   {
    "duration": 5,
    "start_time": "2022-05-16T08:18:30.147Z"
   },
   {
    "duration": 6,
    "start_time": "2022-05-16T08:18:30.153Z"
   },
   {
    "duration": 6,
    "start_time": "2022-05-16T08:18:30.161Z"
   },
   {
    "duration": 10,
    "start_time": "2022-05-16T08:18:30.169Z"
   },
   {
    "duration": 7,
    "start_time": "2022-05-16T08:18:30.180Z"
   },
   {
    "duration": 19,
    "start_time": "2022-05-16T08:18:30.189Z"
   },
   {
    "duration": 8,
    "start_time": "2022-05-16T08:18:30.209Z"
   },
   {
    "duration": 103,
    "start_time": "2022-05-16T08:18:30.218Z"
   },
   {
    "duration": 16,
    "start_time": "2022-05-16T08:18:30.323Z"
   },
   {
    "duration": 8,
    "start_time": "2022-05-16T08:18:30.341Z"
   },
   {
    "duration": 121,
    "start_time": "2022-05-16T08:18:30.350Z"
   },
   {
    "duration": 8,
    "start_time": "2022-05-16T08:18:30.472Z"
   },
   {
    "duration": 6658,
    "start_time": "2022-05-16T08:18:30.481Z"
   },
   {
    "duration": 740,
    "start_time": "2022-05-16T08:18:37.140Z"
   },
   {
    "duration": 56,
    "start_time": "2022-05-16T08:18:37.882Z"
   },
   {
    "duration": 111,
    "start_time": "2022-05-16T08:18:37.940Z"
   },
   {
    "duration": 49,
    "start_time": "2022-05-16T08:18:38.052Z"
   },
   {
    "duration": 98,
    "start_time": "2022-05-16T08:18:38.104Z"
   },
   {
    "duration": 185,
    "start_time": "2022-05-16T08:18:38.204Z"
   },
   {
    "duration": 14,
    "start_time": "2022-05-16T08:18:38.391Z"
   },
   {
    "duration": 36,
    "start_time": "2022-05-16T08:18:38.406Z"
   },
   {
    "duration": 27,
    "start_time": "2022-05-16T08:18:38.444Z"
   },
   {
    "duration": 114,
    "start_time": "2022-05-16T08:18:38.473Z"
   },
   {
    "duration": 735,
    "start_time": "2022-05-16T08:18:38.588Z"
   },
   {
    "duration": 52,
    "start_time": "2022-05-16T08:18:39.324Z"
   },
   {
    "duration": 109,
    "start_time": "2022-05-16T08:18:39.378Z"
   },
   {
    "duration": 40896,
    "start_time": "2022-05-16T08:18:39.489Z"
   },
   {
    "duration": 2131,
    "start_time": "2022-05-16T08:19:20.386Z"
   },
   {
    "duration": 143,
    "start_time": "2022-05-16T08:19:22.519Z"
   },
   {
    "duration": 108,
    "start_time": "2022-05-16T08:19:22.664Z"
   },
   {
    "duration": 781,
    "start_time": "2022-05-16T08:19:22.774Z"
   },
   {
    "duration": 60,
    "start_time": "2022-05-16T08:19:23.557Z"
   },
   {
    "duration": 84,
    "start_time": "2022-05-16T08:19:23.618Z"
   },
   {
    "duration": 109,
    "start_time": "2022-05-16T08:19:23.704Z"
   },
   {
    "duration": 286,
    "start_time": "2022-05-16T08:19:23.814Z"
   },
   {
    "duration": 9,
    "start_time": "2022-05-16T08:19:24.102Z"
   },
   {
    "duration": 8,
    "start_time": "2022-05-16T08:19:24.113Z"
   },
   {
    "duration": 6,
    "start_time": "2022-05-16T08:19:24.123Z"
   },
   {
    "duration": 4,
    "start_time": "2022-05-16T08:19:24.131Z"
   },
   {
    "duration": 12,
    "start_time": "2022-05-16T08:19:24.136Z"
   },
   {
    "duration": 4,
    "start_time": "2022-05-16T08:19:24.149Z"
   },
   {
    "duration": 1030,
    "start_time": "2022-05-16T08:19:24.155Z"
   },
   {
    "duration": 58,
    "start_time": "2022-05-16T08:19:25.187Z"
   },
   {
    "duration": 9,
    "start_time": "2022-05-16T08:19:25.247Z"
   },
   {
    "duration": 8,
    "start_time": "2022-05-16T08:19:25.257Z"
   },
   {
    "duration": 1328,
    "start_time": "2022-05-16T08:19:25.266Z"
   },
   {
    "duration": 60,
    "start_time": "2022-05-16T08:19:26.596Z"
   },
   {
    "duration": 1293,
    "start_time": "2022-05-16T08:19:26.662Z"
   },
   {
    "duration": 64,
    "start_time": "2022-05-16T08:19:27.957Z"
   },
   {
    "duration": 112,
    "start_time": "2022-05-16T08:19:28.023Z"
   },
   {
    "duration": 27,
    "start_time": "2022-05-16T08:19:28.137Z"
   },
   {
    "duration": 9,
    "start_time": "2022-05-16T08:19:28.166Z"
   },
   {
    "duration": 1308,
    "start_time": "2022-05-16T08:19:28.177Z"
   },
   {
    "duration": 60,
    "start_time": "2022-05-16T08:19:29.487Z"
   },
   {
    "duration": 158,
    "start_time": "2022-05-16T08:19:29.549Z"
   },
   {
    "duration": 0,
    "start_time": "2022-05-16T08:19:29.709Z"
   },
   {
    "duration": 0,
    "start_time": "2022-05-16T08:19:29.710Z"
   },
   {
    "duration": 7561,
    "start_time": "2022-05-17T05:06:59.854Z"
   },
   {
    "duration": 1034,
    "start_time": "2022-05-17T05:07:07.417Z"
   },
   {
    "duration": 1632,
    "start_time": "2022-05-17T05:07:08.454Z"
   },
   {
    "duration": 1765,
    "start_time": "2022-05-17T05:07:10.088Z"
   },
   {
    "duration": 51,
    "start_time": "2022-05-17T05:07:11.855Z"
   },
   {
    "duration": 19,
    "start_time": "2022-05-17T05:07:11.908Z"
   },
   {
    "duration": 15,
    "start_time": "2022-05-17T05:07:11.929Z"
   },
   {
    "duration": 16,
    "start_time": "2022-05-17T05:07:11.946Z"
   },
   {
    "duration": 7,
    "start_time": "2022-05-17T05:07:11.964Z"
   },
   {
    "duration": 8,
    "start_time": "2022-05-17T05:07:11.973Z"
   },
   {
    "duration": 3,
    "start_time": "2022-05-17T05:07:11.983Z"
   },
   {
    "duration": 6,
    "start_time": "2022-05-17T05:07:11.988Z"
   },
   {
    "duration": 64,
    "start_time": "2022-05-17T05:07:11.996Z"
   },
   {
    "duration": 4,
    "start_time": "2022-05-17T05:07:12.064Z"
   },
   {
    "duration": 10,
    "start_time": "2022-05-17T05:07:12.070Z"
   },
   {
    "duration": 16,
    "start_time": "2022-05-17T05:07:12.081Z"
   },
   {
    "duration": 4,
    "start_time": "2022-05-17T05:07:12.099Z"
   },
   {
    "duration": 9,
    "start_time": "2022-05-17T05:07:12.105Z"
   },
   {
    "duration": 7,
    "start_time": "2022-05-17T05:07:12.116Z"
   },
   {
    "duration": 32,
    "start_time": "2022-05-17T05:07:12.124Z"
   },
   {
    "duration": 6,
    "start_time": "2022-05-17T05:07:12.158Z"
   },
   {
    "duration": 5,
    "start_time": "2022-05-17T05:07:12.166Z"
   },
   {
    "duration": 5,
    "start_time": "2022-05-17T05:07:12.173Z"
   },
   {
    "duration": 5,
    "start_time": "2022-05-17T05:07:12.180Z"
   },
   {
    "duration": 9,
    "start_time": "2022-05-17T05:07:12.187Z"
   },
   {
    "duration": 9,
    "start_time": "2022-05-17T05:07:12.198Z"
   },
   {
    "duration": 7,
    "start_time": "2022-05-17T05:07:12.208Z"
   },
   {
    "duration": 7,
    "start_time": "2022-05-17T05:07:12.257Z"
   },
   {
    "duration": 10,
    "start_time": "2022-05-17T05:07:12.266Z"
   },
   {
    "duration": 12,
    "start_time": "2022-05-17T05:07:12.278Z"
   },
   {
    "duration": 12,
    "start_time": "2022-05-17T05:07:12.292Z"
   },
   {
    "duration": 6,
    "start_time": "2022-05-17T05:07:12.305Z"
   },
   {
    "duration": 45,
    "start_time": "2022-05-17T05:07:12.312Z"
   },
   {
    "duration": 9,
    "start_time": "2022-05-17T05:07:12.359Z"
   },
   {
    "duration": 6,
    "start_time": "2022-05-17T05:07:12.369Z"
   },
   {
    "duration": 5,
    "start_time": "2022-05-17T05:07:12.376Z"
   },
   {
    "duration": 6,
    "start_time": "2022-05-17T05:07:12.383Z"
   },
   {
    "duration": 6,
    "start_time": "2022-05-17T05:07:12.390Z"
   },
   {
    "duration": 11,
    "start_time": "2022-05-17T05:07:12.397Z"
   },
   {
    "duration": 9,
    "start_time": "2022-05-17T05:07:12.409Z"
   },
   {
    "duration": 4,
    "start_time": "2022-05-17T05:07:12.423Z"
   },
   {
    "duration": 153,
    "start_time": "2022-05-17T05:07:12.429Z"
   },
   {
    "duration": 17,
    "start_time": "2022-05-17T05:07:12.583Z"
   },
   {
    "duration": 8,
    "start_time": "2022-05-17T05:07:12.602Z"
   },
   {
    "duration": 150,
    "start_time": "2022-05-17T05:07:12.612Z"
   },
   {
    "duration": 8,
    "start_time": "2022-05-17T05:07:12.763Z"
   },
   {
    "duration": 7485,
    "start_time": "2022-05-17T05:07:12.773Z"
   },
   {
    "duration": 836,
    "start_time": "2022-05-17T05:07:20.260Z"
   },
   {
    "duration": 79,
    "start_time": "2022-05-17T05:07:21.098Z"
   },
   {
    "duration": 129,
    "start_time": "2022-05-17T05:07:21.179Z"
   },
   {
    "duration": 149,
    "start_time": "2022-05-17T05:07:21.310Z"
   },
   {
    "duration": 106,
    "start_time": "2022-05-17T05:07:21.462Z"
   },
   {
    "duration": 217,
    "start_time": "2022-05-17T05:07:21.659Z"
   },
   {
    "duration": 9,
    "start_time": "2022-05-17T05:07:21.878Z"
   },
   {
    "duration": 130,
    "start_time": "2022-05-17T05:07:21.889Z"
   },
   {
    "duration": 50,
    "start_time": "2022-05-17T05:07:22.021Z"
   },
   {
    "duration": 125,
    "start_time": "2022-05-17T05:07:22.074Z"
   },
   {
    "duration": 843,
    "start_time": "2022-05-17T05:07:22.200Z"
   },
   {
    "duration": 72,
    "start_time": "2022-05-17T05:07:23.045Z"
   },
   {
    "duration": 138,
    "start_time": "2022-05-17T05:07:23.119Z"
   },
   {
    "duration": 47024,
    "start_time": "2022-05-17T05:07:23.258Z"
   },
   {
    "duration": 2359,
    "start_time": "2022-05-17T05:08:10.284Z"
   },
   {
    "duration": 207,
    "start_time": "2022-05-17T05:08:12.645Z"
   },
   {
    "duration": 128,
    "start_time": "2022-05-17T05:08:12.856Z"
   },
   {
    "duration": 824,
    "start_time": "2022-05-17T05:08:12.986Z"
   },
   {
    "duration": 78,
    "start_time": "2022-05-17T05:08:13.812Z"
   },
   {
    "duration": 66,
    "start_time": "2022-05-17T05:08:13.892Z"
   },
   {
    "duration": 106,
    "start_time": "2022-05-17T05:08:13.960Z"
   },
   {
    "duration": 158,
    "start_time": "2022-05-17T05:08:14.157Z"
   },
   {
    "duration": 8,
    "start_time": "2022-05-17T05:08:14.317Z"
   },
   {
    "duration": 9,
    "start_time": "2022-05-17T05:08:14.327Z"
   },
   {
    "duration": 19,
    "start_time": "2022-05-17T05:08:14.338Z"
   },
   {
    "duration": 4,
    "start_time": "2022-05-17T05:08:14.359Z"
   },
   {
    "duration": 14,
    "start_time": "2022-05-17T05:08:14.364Z"
   },
   {
    "duration": 5,
    "start_time": "2022-05-17T05:08:14.379Z"
   },
   {
    "duration": 1153,
    "start_time": "2022-05-17T05:08:14.385Z"
   },
   {
    "duration": 72,
    "start_time": "2022-05-17T05:08:15.540Z"
   },
   {
    "duration": 9,
    "start_time": "2022-05-17T05:08:15.614Z"
   },
   {
    "duration": 8,
    "start_time": "2022-05-17T05:08:15.625Z"
   },
   {
    "duration": 1483,
    "start_time": "2022-05-17T05:08:15.635Z"
   },
   {
    "duration": 76,
    "start_time": "2022-05-17T05:08:17.120Z"
   },
   {
    "duration": 1439,
    "start_time": "2022-05-17T05:08:17.198Z"
   },
   {
    "duration": 82,
    "start_time": "2022-05-17T05:08:18.639Z"
   },
   {
    "duration": 129,
    "start_time": "2022-05-17T05:08:18.723Z"
   },
   {
    "duration": 30,
    "start_time": "2022-05-17T05:08:18.856Z"
   },
   {
    "duration": 9,
    "start_time": "2022-05-17T05:08:18.888Z"
   },
   {
    "duration": 1486,
    "start_time": "2022-05-17T05:08:18.899Z"
   },
   {
    "duration": 85,
    "start_time": "2022-05-17T05:08:20.387Z"
   },
   {
    "duration": 4398,
    "start_time": "2022-05-17T05:08:20.473Z"
   },
   {
    "duration": 217,
    "start_time": "2022-05-17T05:08:24.873Z"
   },
   {
    "duration": 2723,
    "start_time": "2022-05-17T05:25:40.230Z"
   },
   {
    "duration": 1107,
    "start_time": "2022-05-17T05:25:42.956Z"
   },
   {
    "duration": 1669,
    "start_time": "2022-05-17T05:25:44.065Z"
   },
   {
    "duration": 1560,
    "start_time": "2022-05-17T05:25:45.736Z"
   },
   {
    "duration": 40,
    "start_time": "2022-05-17T05:25:47.298Z"
   },
   {
    "duration": 19,
    "start_time": "2022-05-17T05:25:47.339Z"
   },
   {
    "duration": 12,
    "start_time": "2022-05-17T05:25:47.360Z"
   },
   {
    "duration": 11,
    "start_time": "2022-05-17T05:25:47.373Z"
   },
   {
    "duration": 6,
    "start_time": "2022-05-17T05:25:47.386Z"
   },
   {
    "duration": 8,
    "start_time": "2022-05-17T05:25:47.393Z"
   },
   {
    "duration": 4,
    "start_time": "2022-05-17T05:25:47.403Z"
   },
   {
    "duration": 6,
    "start_time": "2022-05-17T05:25:47.409Z"
   },
   {
    "duration": 79,
    "start_time": "2022-05-17T05:25:47.416Z"
   },
   {
    "duration": 4,
    "start_time": "2022-05-17T05:25:47.500Z"
   },
   {
    "duration": 5,
    "start_time": "2022-05-17T05:25:47.507Z"
   },
   {
    "duration": 20,
    "start_time": "2022-05-17T05:25:47.513Z"
   },
   {
    "duration": 6,
    "start_time": "2022-05-17T05:25:47.556Z"
   },
   {
    "duration": 11,
    "start_time": "2022-05-17T05:25:47.564Z"
   },
   {
    "duration": 7,
    "start_time": "2022-05-17T05:25:47.577Z"
   },
   {
    "duration": 6,
    "start_time": "2022-05-17T05:25:47.586Z"
   },
   {
    "duration": 7,
    "start_time": "2022-05-17T05:25:47.594Z"
   },
   {
    "duration": 6,
    "start_time": "2022-05-17T05:25:47.603Z"
   },
   {
    "duration": 49,
    "start_time": "2022-05-17T05:25:47.611Z"
   },
   {
    "duration": 8,
    "start_time": "2022-05-17T05:25:47.662Z"
   },
   {
    "duration": 10,
    "start_time": "2022-05-17T05:25:47.671Z"
   },
   {
    "duration": 8,
    "start_time": "2022-05-17T05:25:47.683Z"
   },
   {
    "duration": 7,
    "start_time": "2022-05-17T05:25:47.693Z"
   },
   {
    "duration": 13,
    "start_time": "2022-05-17T05:25:47.701Z"
   },
   {
    "duration": 46,
    "start_time": "2022-05-17T05:25:47.716Z"
   },
   {
    "duration": 11,
    "start_time": "2022-05-17T05:25:47.764Z"
   },
   {
    "duration": 12,
    "start_time": "2022-05-17T05:25:47.776Z"
   },
   {
    "duration": 5,
    "start_time": "2022-05-17T05:25:47.789Z"
   },
   {
    "duration": 4,
    "start_time": "2022-05-17T05:25:47.796Z"
   },
   {
    "duration": 13,
    "start_time": "2022-05-17T05:25:47.802Z"
   },
   {
    "duration": 7,
    "start_time": "2022-05-17T05:25:47.816Z"
   },
   {
    "duration": 5,
    "start_time": "2022-05-17T05:25:47.824Z"
   },
   {
    "duration": 6,
    "start_time": "2022-05-17T05:25:47.857Z"
   },
   {
    "duration": 6,
    "start_time": "2022-05-17T05:25:47.865Z"
   },
   {
    "duration": 10,
    "start_time": "2022-05-17T05:25:47.873Z"
   },
   {
    "duration": 11,
    "start_time": "2022-05-17T05:25:47.886Z"
   },
   {
    "duration": 4,
    "start_time": "2022-05-17T05:25:47.904Z"
   },
   {
    "duration": 152,
    "start_time": "2022-05-17T05:25:47.910Z"
   },
   {
    "duration": 18,
    "start_time": "2022-05-17T05:25:48.064Z"
   },
   {
    "duration": 10,
    "start_time": "2022-05-17T05:25:48.084Z"
   },
   {
    "duration": 166,
    "start_time": "2022-05-17T05:25:48.096Z"
   },
   {
    "duration": 10,
    "start_time": "2022-05-17T05:25:48.264Z"
   },
   {
    "duration": 7843,
    "start_time": "2022-05-17T05:25:48.277Z"
   },
   {
    "duration": 901,
    "start_time": "2022-05-17T05:25:56.122Z"
   },
   {
    "duration": 75,
    "start_time": "2022-05-17T05:25:57.025Z"
   },
   {
    "duration": 139,
    "start_time": "2022-05-17T05:25:57.102Z"
   },
   {
    "duration": 114,
    "start_time": "2022-05-17T05:25:57.243Z"
   },
   {
    "duration": 98,
    "start_time": "2022-05-17T05:25:57.360Z"
   },
   {
    "duration": 224,
    "start_time": "2022-05-17T05:25:57.461Z"
   },
   {
    "duration": 11,
    "start_time": "2022-05-17T05:25:57.687Z"
   },
   {
    "duration": 137,
    "start_time": "2022-05-17T05:25:57.699Z"
   },
   {
    "duration": 41,
    "start_time": "2022-05-17T05:25:57.838Z"
   },
   {
    "duration": 126,
    "start_time": "2022-05-17T05:25:57.881Z"
   },
   {
    "duration": 906,
    "start_time": "2022-05-17T05:25:58.009Z"
   },
   {
    "duration": 91,
    "start_time": "2022-05-17T05:25:58.917Z"
   },
   {
    "duration": 135,
    "start_time": "2022-05-17T05:25:59.010Z"
   },
   {
    "duration": 48317,
    "start_time": "2022-05-17T05:25:59.146Z"
   },
   {
    "duration": 2476,
    "start_time": "2022-05-17T05:26:47.465Z"
   },
   {
    "duration": 199,
    "start_time": "2022-05-17T05:26:49.942Z"
   },
   {
    "duration": 132,
    "start_time": "2022-05-17T05:26:50.143Z"
   },
   {
    "duration": 865,
    "start_time": "2022-05-17T05:26:50.276Z"
   },
   {
    "duration": 70,
    "start_time": "2022-05-17T05:26:51.143Z"
   },
   {
    "duration": 50,
    "start_time": "2022-05-17T05:26:51.215Z"
   },
   {
    "duration": 103,
    "start_time": "2022-05-17T05:26:51.356Z"
   },
   {
    "duration": 224,
    "start_time": "2022-05-17T05:26:51.461Z"
   },
   {
    "duration": 9,
    "start_time": "2022-05-17T05:26:51.687Z"
   },
   {
    "duration": 7,
    "start_time": "2022-05-17T05:26:51.698Z"
   },
   {
    "duration": 6,
    "start_time": "2022-05-17T05:26:51.707Z"
   },
   {
    "duration": 5,
    "start_time": "2022-05-17T05:26:51.714Z"
   },
   {
    "duration": 36,
    "start_time": "2022-05-17T05:26:51.721Z"
   },
   {
    "duration": 6,
    "start_time": "2022-05-17T05:26:51.758Z"
   },
   {
    "duration": 1184,
    "start_time": "2022-05-17T05:26:51.765Z"
   },
   {
    "duration": 77,
    "start_time": "2022-05-17T05:26:52.951Z"
   },
   {
    "duration": 9,
    "start_time": "2022-05-17T05:26:53.030Z"
   },
   {
    "duration": 9,
    "start_time": "2022-05-17T05:26:53.056Z"
   },
   {
    "duration": 1541,
    "start_time": "2022-05-17T05:26:53.067Z"
   },
   {
    "duration": 86,
    "start_time": "2022-05-17T05:26:54.609Z"
   },
   {
    "duration": 1511,
    "start_time": "2022-05-17T05:26:54.697Z"
   },
   {
    "duration": 78,
    "start_time": "2022-05-17T05:26:56.210Z"
   },
   {
    "duration": 131,
    "start_time": "2022-05-17T05:26:56.290Z"
   },
   {
    "duration": 34,
    "start_time": "2022-05-17T05:26:56.423Z"
   },
   {
    "duration": 9,
    "start_time": "2022-05-17T05:26:56.459Z"
   },
   {
    "duration": 1551,
    "start_time": "2022-05-17T05:26:56.470Z"
   },
   {
    "duration": 84,
    "start_time": "2022-05-17T05:26:58.023Z"
   },
   {
    "duration": 4646,
    "start_time": "2022-05-17T05:26:58.109Z"
   },
   {
    "duration": 227,
    "start_time": "2022-05-17T05:27:02.757Z"
   },
   {
    "duration": 4070,
    "start_time": "2022-05-21T09:42:26.910Z"
   },
   {
    "duration": 1007,
    "start_time": "2022-05-21T09:42:30.983Z"
   },
   {
    "duration": 1590,
    "start_time": "2022-05-21T09:42:31.993Z"
   },
   {
    "duration": 1491,
    "start_time": "2022-05-21T09:42:33.586Z"
   },
   {
    "duration": 72,
    "start_time": "2022-05-21T09:42:35.079Z"
   },
   {
    "duration": 18,
    "start_time": "2022-05-21T09:42:35.152Z"
   },
   {
    "duration": 10,
    "start_time": "2022-05-21T09:42:35.172Z"
   },
   {
    "duration": 9,
    "start_time": "2022-05-21T09:42:35.184Z"
   },
   {
    "duration": 22,
    "start_time": "2022-05-21T09:53:14.240Z"
   },
   {
    "duration": 11,
    "start_time": "2022-05-21T09:53:20.269Z"
   },
   {
    "duration": 11,
    "start_time": "2022-05-21T09:53:39.976Z"
   },
   {
    "duration": 12,
    "start_time": "2022-05-21T09:54:01.066Z"
   },
   {
    "duration": 2,
    "start_time": "2022-05-21T10:10:23.087Z"
   },
   {
    "duration": 35,
    "start_time": "2022-05-21T10:10:24.540Z"
   },
   {
    "duration": 4,
    "start_time": "2022-05-21T10:10:32.242Z"
   },
   {
    "duration": 24,
    "start_time": "2022-05-21T10:10:44.315Z"
   },
   {
    "duration": 6,
    "start_time": "2022-05-21T10:11:02.110Z"
   },
   {
    "duration": 13,
    "start_time": "2022-05-21T10:11:08.008Z"
   },
   {
    "duration": 4,
    "start_time": "2022-05-21T10:14:47.275Z"
   },
   {
    "duration": 635,
    "start_time": "2022-05-21T10:20:29.495Z"
   },
   {
    "duration": 564,
    "start_time": "2022-05-21T10:20:58.143Z"
   },
   {
    "duration": 14,
    "start_time": "2022-05-21T10:22:43.074Z"
   },
   {
    "duration": 528,
    "start_time": "2022-05-21T10:23:00.684Z"
   },
   {
    "duration": 2735,
    "start_time": "2022-05-21T10:23:37.873Z"
   },
   {
    "duration": 1014,
    "start_time": "2022-05-21T10:23:40.610Z"
   },
   {
    "duration": 1725,
    "start_time": "2022-05-21T10:23:41.634Z"
   },
   {
    "duration": 7,
    "start_time": "2022-05-21T10:23:43.362Z"
   },
   {
    "duration": 59,
    "start_time": "2022-05-21T10:23:43.373Z"
   },
   {
    "duration": 24,
    "start_time": "2022-05-21T10:23:43.433Z"
   },
   {
    "duration": 13,
    "start_time": "2022-05-21T10:23:43.459Z"
   },
   {
    "duration": 11,
    "start_time": "2022-05-21T10:23:43.474Z"
   },
   {
    "duration": 10,
    "start_time": "2022-05-21T10:23:43.487Z"
   },
   {
    "duration": 10,
    "start_time": "2022-05-21T10:23:43.526Z"
   },
   {
    "duration": 26,
    "start_time": "2022-05-21T10:23:43.537Z"
   },
   {
    "duration": 4,
    "start_time": "2022-05-21T10:23:43.565Z"
   },
   {
    "duration": 7,
    "start_time": "2022-05-21T10:23:43.571Z"
   },
   {
    "duration": 48,
    "start_time": "2022-05-21T10:23:43.580Z"
   },
   {
    "duration": 8,
    "start_time": "2022-05-21T10:23:43.634Z"
   },
   {
    "duration": 10,
    "start_time": "2022-05-21T10:23:43.651Z"
   },
   {
    "duration": 6,
    "start_time": "2022-05-21T10:23:43.663Z"
   },
   {
    "duration": 20,
    "start_time": "2022-05-21T10:23:43.671Z"
   },
   {
    "duration": 3,
    "start_time": "2022-05-21T10:23:43.692Z"
   },
   {
    "duration": 17,
    "start_time": "2022-05-21T10:23:43.696Z"
   },
   {
    "duration": 9,
    "start_time": "2022-05-21T10:23:43.715Z"
   },
   {
    "duration": 27,
    "start_time": "2022-05-21T10:23:43.734Z"
   },
   {
    "duration": 6,
    "start_time": "2022-05-21T10:23:43.763Z"
   },
   {
    "duration": 5,
    "start_time": "2022-05-21T10:23:43.770Z"
   },
   {
    "duration": 8,
    "start_time": "2022-05-21T10:23:43.776Z"
   },
   {
    "duration": 6,
    "start_time": "2022-05-21T10:23:43.785Z"
   },
   {
    "duration": 5,
    "start_time": "2022-05-21T10:23:43.793Z"
   },
   {
    "duration": 7,
    "start_time": "2022-05-21T10:23:43.800Z"
   },
   {
    "duration": 16,
    "start_time": "2022-05-21T10:23:43.809Z"
   },
   {
    "duration": 17,
    "start_time": "2022-05-21T10:23:43.827Z"
   },
   {
    "duration": 17,
    "start_time": "2022-05-21T10:23:43.850Z"
   },
   {
    "duration": 5,
    "start_time": "2022-05-21T10:23:43.869Z"
   },
   {
    "duration": 18,
    "start_time": "2022-05-21T10:23:43.876Z"
   },
   {
    "duration": 15,
    "start_time": "2022-05-21T10:23:43.896Z"
   },
   {
    "duration": 17,
    "start_time": "2022-05-21T10:24:01.574Z"
   },
   {
    "duration": 12,
    "start_time": "2022-05-21T10:25:14.173Z"
   },
   {
    "duration": 601,
    "start_time": "2022-05-21T10:30:21.668Z"
   },
   {
    "duration": 2826,
    "start_time": "2022-05-21T10:31:10.615Z"
   },
   {
    "duration": 1069,
    "start_time": "2022-05-21T10:31:13.443Z"
   },
   {
    "duration": 1621,
    "start_time": "2022-05-21T10:31:14.515Z"
   },
   {
    "duration": 5,
    "start_time": "2022-05-21T10:31:16.140Z"
   },
   {
    "duration": 52,
    "start_time": "2022-05-21T10:31:16.147Z"
   },
   {
    "duration": 14,
    "start_time": "2022-05-21T10:31:16.200Z"
   },
   {
    "duration": 14,
    "start_time": "2022-05-21T10:31:16.216Z"
   },
   {
    "duration": 15,
    "start_time": "2022-05-21T10:31:16.233Z"
   },
   {
    "duration": 9,
    "start_time": "2022-05-21T10:31:16.250Z"
   },
   {
    "duration": 9,
    "start_time": "2022-05-21T10:31:16.261Z"
   },
   {
    "duration": 10,
    "start_time": "2022-05-21T10:31:16.271Z"
   },
   {
    "duration": 8,
    "start_time": "2022-05-21T10:31:16.283Z"
   },
   {
    "duration": 6,
    "start_time": "2022-05-21T10:31:16.292Z"
   },
   {
    "duration": 57,
    "start_time": "2022-05-21T10:31:16.300Z"
   },
   {
    "duration": 4,
    "start_time": "2022-05-21T10:31:16.359Z"
   },
   {
    "duration": 35,
    "start_time": "2022-05-21T10:31:16.364Z"
   },
   {
    "duration": 21,
    "start_time": "2022-05-21T10:31:16.401Z"
   },
   {
    "duration": 41,
    "start_time": "2022-05-21T10:31:16.434Z"
   },
   {
    "duration": 15,
    "start_time": "2022-05-21T10:31:16.477Z"
   },
   {
    "duration": 19,
    "start_time": "2022-05-21T10:31:16.493Z"
   },
   {
    "duration": 29,
    "start_time": "2022-05-21T10:31:16.513Z"
   },
   {
    "duration": 20,
    "start_time": "2022-05-21T10:31:16.544Z"
   },
   {
    "duration": 15,
    "start_time": "2022-05-21T10:31:16.565Z"
   },
   {
    "duration": 12,
    "start_time": "2022-05-21T10:31:16.581Z"
   },
   {
    "duration": 17,
    "start_time": "2022-05-21T10:31:16.595Z"
   },
   {
    "duration": 28,
    "start_time": "2022-05-21T10:31:16.614Z"
   },
   {
    "duration": 14,
    "start_time": "2022-05-21T10:31:16.644Z"
   },
   {
    "duration": 20,
    "start_time": "2022-05-21T10:31:16.660Z"
   },
   {
    "duration": 20,
    "start_time": "2022-05-21T10:31:16.682Z"
   },
   {
    "duration": 27,
    "start_time": "2022-05-21T10:31:16.703Z"
   },
   {
    "duration": 24,
    "start_time": "2022-05-21T10:31:16.731Z"
   },
   {
    "duration": 9,
    "start_time": "2022-05-21T10:31:16.756Z"
   },
   {
    "duration": 25,
    "start_time": "2022-05-21T10:31:16.767Z"
   },
   {
    "duration": 24,
    "start_time": "2022-05-21T10:31:16.794Z"
   },
   {
    "duration": 5,
    "start_time": "2022-05-21T10:31:34.103Z"
   },
   {
    "duration": 6,
    "start_time": "2022-05-21T10:32:07.686Z"
   },
   {
    "duration": 18,
    "start_time": "2022-05-21T10:32:16.889Z"
   },
   {
    "duration": 25,
    "start_time": "2022-05-21T10:32:33.327Z"
   },
   {
    "duration": 4464,
    "start_time": "2022-05-21T19:14:28.374Z"
   },
   {
    "duration": 984,
    "start_time": "2022-05-21T19:14:32.840Z"
   },
   {
    "duration": 1599,
    "start_time": "2022-05-21T19:14:33.826Z"
   },
   {
    "duration": 1487,
    "start_time": "2022-05-21T19:14:35.428Z"
   },
   {
    "duration": 176,
    "start_time": "2022-05-21T19:14:36.919Z"
   },
   {
    "duration": 24,
    "start_time": "2022-05-21T19:14:37.096Z"
   },
   {
    "duration": 21,
    "start_time": "2022-05-21T19:14:37.121Z"
   },
   {
    "duration": 10,
    "start_time": "2022-05-21T19:14:37.143Z"
   },
   {
    "duration": 11,
    "start_time": "2022-05-21T19:14:37.155Z"
   },
   {
    "duration": 7,
    "start_time": "2022-05-21T19:14:37.168Z"
   },
   {
    "duration": 30,
    "start_time": "2022-05-21T19:14:37.176Z"
   },
   {
    "duration": 16,
    "start_time": "2022-05-21T19:14:37.207Z"
   },
   {
    "duration": 5,
    "start_time": "2022-05-21T19:14:37.225Z"
   },
   {
    "duration": 46,
    "start_time": "2022-05-21T19:14:37.231Z"
   },
   {
    "duration": 5,
    "start_time": "2022-05-21T19:14:37.278Z"
   },
   {
    "duration": 7,
    "start_time": "2022-05-21T19:14:37.284Z"
   },
   {
    "duration": 14,
    "start_time": "2022-05-21T19:14:37.293Z"
   },
   {
    "duration": 15,
    "start_time": "2022-05-21T19:14:37.308Z"
   },
   {
    "duration": 3,
    "start_time": "2022-05-21T19:14:37.325Z"
   },
   {
    "duration": 10,
    "start_time": "2022-05-21T19:14:37.329Z"
   },
   {
    "duration": 8,
    "start_time": "2022-05-21T19:14:37.341Z"
   },
   {
    "duration": 6,
    "start_time": "2022-05-21T19:14:37.351Z"
   },
   {
    "duration": 10,
    "start_time": "2022-05-21T19:14:37.359Z"
   },
   {
    "duration": 6,
    "start_time": "2022-05-21T19:14:37.370Z"
   },
   {
    "duration": 8,
    "start_time": "2022-05-21T19:14:37.377Z"
   },
   {
    "duration": 9,
    "start_time": "2022-05-21T19:14:37.404Z"
   },
   {
    "duration": 16,
    "start_time": "2022-05-21T19:14:37.415Z"
   },
   {
    "duration": 9,
    "start_time": "2022-05-21T19:14:37.435Z"
   },
   {
    "duration": 9,
    "start_time": "2022-05-21T19:14:37.446Z"
   },
   {
    "duration": 10,
    "start_time": "2022-05-21T19:14:37.457Z"
   },
   {
    "duration": 20,
    "start_time": "2022-05-21T19:14:37.469Z"
   },
   {
    "duration": 4,
    "start_time": "2022-05-21T19:14:37.491Z"
   },
   {
    "duration": 29,
    "start_time": "2022-05-21T19:14:37.502Z"
   },
   {
    "duration": 11,
    "start_time": "2022-05-21T19:14:37.533Z"
   },
   {
    "duration": 16,
    "start_time": "2022-05-21T19:14:37.545Z"
   },
   {
    "duration": 30,
    "start_time": "2022-05-21T19:14:37.562Z"
   },
   {
    "duration": 12,
    "start_time": "2022-05-21T19:14:37.603Z"
   },
   {
    "duration": 26,
    "start_time": "2022-05-21T19:14:37.617Z"
   },
   {
    "duration": 21,
    "start_time": "2022-05-21T19:14:37.645Z"
   },
   {
    "duration": 9,
    "start_time": "2022-05-21T19:14:37.667Z"
   },
   {
    "duration": 12,
    "start_time": "2022-05-21T19:14:37.677Z"
   },
   {
    "duration": 11,
    "start_time": "2022-05-21T19:14:37.690Z"
   },
   {
    "duration": 21,
    "start_time": "2022-05-21T19:14:37.703Z"
   },
   {
    "duration": 22,
    "start_time": "2022-05-21T19:14:37.725Z"
   },
   {
    "duration": 18,
    "start_time": "2022-05-21T19:14:37.748Z"
   },
   {
    "duration": 21,
    "start_time": "2022-05-21T19:14:37.767Z"
   },
   {
    "duration": 166,
    "start_time": "2022-05-21T19:14:37.790Z"
   },
   {
    "duration": 0,
    "start_time": "2022-05-21T19:14:37.958Z"
   },
   {
    "duration": 0,
    "start_time": "2022-05-21T19:14:37.959Z"
   },
   {
    "duration": 12,
    "start_time": "2022-05-21T19:14:40.932Z"
   },
   {
    "duration": 11,
    "start_time": "2022-05-21T19:26:23.330Z"
   },
   {
    "duration": 6,
    "start_time": "2022-05-21T19:26:34.017Z"
   },
   {
    "duration": 50,
    "start_time": "2022-05-21T19:27:41.229Z"
   },
   {
    "duration": 37,
    "start_time": "2022-05-21T19:28:30.898Z"
   },
   {
    "duration": 25,
    "start_time": "2022-05-21T19:29:32.184Z"
   },
   {
    "duration": 36,
    "start_time": "2022-05-21T19:29:47.734Z"
   },
   {
    "duration": 57,
    "start_time": "2022-05-21T19:30:22.290Z"
   },
   {
    "duration": 35,
    "start_time": "2022-05-21T19:30:54.630Z"
   },
   {
    "duration": 25,
    "start_time": "2022-05-21T19:31:06.931Z"
   },
   {
    "duration": 23,
    "start_time": "2022-05-21T19:32:56.536Z"
   },
   {
    "duration": 23,
    "start_time": "2022-05-21T19:33:15.706Z"
   },
   {
    "duration": 33,
    "start_time": "2022-05-21T19:35:36.638Z"
   },
   {
    "duration": 45,
    "start_time": "2022-05-21T19:36:05.107Z"
   },
   {
    "duration": 45,
    "start_time": "2022-05-21T19:37:20.288Z"
   },
   {
    "duration": 79,
    "start_time": "2022-05-21T19:38:32.452Z"
   },
   {
    "duration": 60,
    "start_time": "2022-05-21T19:38:47.025Z"
   },
   {
    "duration": 10,
    "start_time": "2022-05-21T19:40:21.247Z"
   },
   {
    "duration": 8,
    "start_time": "2022-05-21T19:41:15.428Z"
   },
   {
    "duration": 42,
    "start_time": "2022-05-21T19:41:17.409Z"
   },
   {
    "duration": 8,
    "start_time": "2022-05-21T19:42:28.744Z"
   },
   {
    "duration": 56,
    "start_time": "2022-05-21T19:42:42.889Z"
   },
   {
    "duration": 6,
    "start_time": "2022-05-21T19:42:57.239Z"
   },
   {
    "duration": 2919,
    "start_time": "2022-05-21T19:43:05.433Z"
   },
   {
    "duration": 1027,
    "start_time": "2022-05-21T19:43:08.354Z"
   },
   {
    "duration": 1596,
    "start_time": "2022-05-21T19:43:09.383Z"
   },
   {
    "duration": 5,
    "start_time": "2022-05-21T19:43:10.981Z"
   },
   {
    "duration": 72,
    "start_time": "2022-05-21T19:43:10.989Z"
   },
   {
    "duration": 23,
    "start_time": "2022-05-21T19:43:11.064Z"
   },
   {
    "duration": 32,
    "start_time": "2022-05-21T19:43:11.090Z"
   },
   {
    "duration": 30,
    "start_time": "2022-05-21T19:43:11.123Z"
   },
   {
    "duration": 17,
    "start_time": "2022-05-21T19:43:11.155Z"
   },
   {
    "duration": 11,
    "start_time": "2022-05-21T19:43:11.174Z"
   },
   {
    "duration": 42,
    "start_time": "2022-05-21T19:43:11.187Z"
   },
   {
    "duration": 43,
    "start_time": "2022-05-21T19:43:11.230Z"
   },
   {
    "duration": 21,
    "start_time": "2022-05-21T19:43:11.276Z"
   },
   {
    "duration": 110,
    "start_time": "2022-05-21T19:43:11.301Z"
   },
   {
    "duration": 11,
    "start_time": "2022-05-21T19:43:11.413Z"
   },
   {
    "duration": 33,
    "start_time": "2022-05-21T19:43:11.428Z"
   },
   {
    "duration": 20,
    "start_time": "2022-05-21T19:43:11.463Z"
   },
   {
    "duration": 33,
    "start_time": "2022-05-21T19:43:11.486Z"
   },
   {
    "duration": 55,
    "start_time": "2022-05-21T19:43:11.522Z"
   },
   {
    "duration": 14,
    "start_time": "2022-05-21T19:43:11.580Z"
   },
   {
    "duration": 52,
    "start_time": "2022-05-21T19:43:11.596Z"
   },
   {
    "duration": 13,
    "start_time": "2022-05-21T19:43:11.650Z"
   },
   {
    "duration": 10,
    "start_time": "2022-05-21T19:43:11.665Z"
   },
   {
    "duration": 7,
    "start_time": "2022-05-21T19:43:11.677Z"
   },
   {
    "duration": 8,
    "start_time": "2022-05-21T19:43:11.686Z"
   },
   {
    "duration": 6,
    "start_time": "2022-05-21T19:43:11.695Z"
   },
   {
    "duration": 38,
    "start_time": "2022-05-21T19:43:11.707Z"
   },
   {
    "duration": 14,
    "start_time": "2022-05-21T19:43:11.747Z"
   },
   {
    "duration": 9,
    "start_time": "2022-05-21T19:43:11.763Z"
   },
   {
    "duration": 17,
    "start_time": "2022-05-21T19:43:11.773Z"
   },
   {
    "duration": 19,
    "start_time": "2022-05-21T19:43:11.792Z"
   },
   {
    "duration": 44,
    "start_time": "2022-05-21T19:43:11.814Z"
   },
   {
    "duration": 31,
    "start_time": "2022-05-21T19:43:11.860Z"
   },
   {
    "duration": 34,
    "start_time": "2022-05-21T19:43:16.836Z"
   },
   {
    "duration": 7,
    "start_time": "2022-05-21T19:43:23.247Z"
   },
   {
    "duration": 40,
    "start_time": "2022-05-21T19:43:24.737Z"
   },
   {
    "duration": 12,
    "start_time": "2022-05-21T19:43:30.771Z"
   },
   {
    "duration": 12,
    "start_time": "2022-05-21T19:43:32.202Z"
   },
   {
    "duration": 2548,
    "start_time": "2022-05-21T19:49:22.643Z"
   },
   {
    "duration": 944,
    "start_time": "2022-05-21T19:49:25.194Z"
   },
   {
    "duration": 1501,
    "start_time": "2022-05-21T19:49:26.139Z"
   },
   {
    "duration": 4,
    "start_time": "2022-05-21T19:49:27.642Z"
   },
   {
    "duration": 62,
    "start_time": "2022-05-21T19:49:27.649Z"
   },
   {
    "duration": 18,
    "start_time": "2022-05-21T19:49:27.713Z"
   },
   {
    "duration": 18,
    "start_time": "2022-05-21T19:49:27.733Z"
   },
   {
    "duration": 11,
    "start_time": "2022-05-21T19:49:27.752Z"
   },
   {
    "duration": 12,
    "start_time": "2022-05-21T19:49:27.765Z"
   },
   {
    "duration": 17,
    "start_time": "2022-05-21T19:49:27.786Z"
   },
   {
    "duration": 33,
    "start_time": "2022-05-21T19:49:27.816Z"
   },
   {
    "duration": 10,
    "start_time": "2022-05-21T19:49:27.851Z"
   },
   {
    "duration": 7,
    "start_time": "2022-05-21T19:49:27.862Z"
   },
   {
    "duration": 60,
    "start_time": "2022-05-21T19:49:27.872Z"
   },
   {
    "duration": 4,
    "start_time": "2022-05-21T19:49:27.936Z"
   },
   {
    "duration": 6,
    "start_time": "2022-05-21T19:49:27.942Z"
   },
   {
    "duration": 9,
    "start_time": "2022-05-21T19:49:27.950Z"
   },
   {
    "duration": 16,
    "start_time": "2022-05-21T19:49:27.961Z"
   },
   {
    "duration": 3,
    "start_time": "2022-05-21T19:49:27.979Z"
   },
   {
    "duration": 21,
    "start_time": "2022-05-21T19:49:27.984Z"
   },
   {
    "duration": 7,
    "start_time": "2022-05-21T19:49:28.006Z"
   },
   {
    "duration": 28,
    "start_time": "2022-05-21T19:49:28.015Z"
   },
   {
    "duration": 9,
    "start_time": "2022-05-21T19:49:28.045Z"
   },
   {
    "duration": 6,
    "start_time": "2022-05-21T19:49:28.055Z"
   },
   {
    "duration": 7,
    "start_time": "2022-05-21T19:49:28.063Z"
   },
   {
    "duration": 5,
    "start_time": "2022-05-21T19:49:28.071Z"
   },
   {
    "duration": 7,
    "start_time": "2022-05-21T19:49:28.077Z"
   },
   {
    "duration": 12,
    "start_time": "2022-05-21T19:49:28.086Z"
   },
   {
    "duration": 14,
    "start_time": "2022-05-21T19:49:28.100Z"
   },
   {
    "duration": 7,
    "start_time": "2022-05-21T19:49:28.117Z"
   },
   {
    "duration": 16,
    "start_time": "2022-05-21T19:49:28.125Z"
   },
   {
    "duration": 5,
    "start_time": "2022-05-21T19:49:29.691Z"
   },
   {
    "duration": 9,
    "start_time": "2022-05-21T19:49:30.432Z"
   },
   {
    "duration": 31,
    "start_time": "2022-05-21T19:49:32.920Z"
   },
   {
    "duration": 10,
    "start_time": "2022-05-21T19:49:33.595Z"
   },
   {
    "duration": 50,
    "start_time": "2022-05-21T19:49:34.284Z"
   },
   {
    "duration": 18,
    "start_time": "2022-05-21T19:49:34.999Z"
   },
   {
    "duration": 7,
    "start_time": "2022-05-21T19:49:35.733Z"
   },
   {
    "duration": 12,
    "start_time": "2022-05-21T19:55:22.735Z"
   },
   {
    "duration": 9,
    "start_time": "2022-05-21T19:55:52.232Z"
   },
   {
    "duration": 2538,
    "start_time": "2022-05-21T19:56:53.932Z"
   },
   {
    "duration": 970,
    "start_time": "2022-05-21T19:56:56.472Z"
   },
   {
    "duration": 1583,
    "start_time": "2022-05-21T19:56:57.444Z"
   },
   {
    "duration": 6,
    "start_time": "2022-05-21T19:56:59.029Z"
   },
   {
    "duration": 50,
    "start_time": "2022-05-21T19:56:59.037Z"
   },
   {
    "duration": 20,
    "start_time": "2022-05-21T19:56:59.089Z"
   },
   {
    "duration": 26,
    "start_time": "2022-05-21T19:56:59.111Z"
   },
   {
    "duration": 9,
    "start_time": "2022-05-21T19:56:59.139Z"
   },
   {
    "duration": 10,
    "start_time": "2022-05-21T19:56:59.150Z"
   },
   {
    "duration": 7,
    "start_time": "2022-05-21T19:56:59.161Z"
   },
   {
    "duration": 10,
    "start_time": "2022-05-21T19:56:59.170Z"
   },
   {
    "duration": 6,
    "start_time": "2022-05-21T19:56:59.181Z"
   },
   {
    "duration": 22,
    "start_time": "2022-05-21T19:56:59.189Z"
   },
   {
    "duration": 49,
    "start_time": "2022-05-21T19:56:59.214Z"
   },
   {
    "duration": 4,
    "start_time": "2022-05-21T19:56:59.265Z"
   },
   {
    "duration": 4,
    "start_time": "2022-05-21T19:56:59.270Z"
   },
   {
    "duration": 11,
    "start_time": "2022-05-21T19:56:59.276Z"
   },
   {
    "duration": 16,
    "start_time": "2022-05-21T19:56:59.288Z"
   },
   {
    "duration": 21,
    "start_time": "2022-05-21T19:56:59.308Z"
   },
   {
    "duration": 12,
    "start_time": "2022-05-21T19:56:59.330Z"
   },
   {
    "duration": 7,
    "start_time": "2022-05-21T19:56:59.343Z"
   },
   {
    "duration": 6,
    "start_time": "2022-05-21T19:56:59.352Z"
   },
   {
    "duration": 8,
    "start_time": "2022-05-21T19:56:59.360Z"
   },
   {
    "duration": 6,
    "start_time": "2022-05-21T19:56:59.370Z"
   },
   {
    "duration": 9,
    "start_time": "2022-05-21T19:56:59.377Z"
   },
   {
    "duration": 6,
    "start_time": "2022-05-21T19:56:59.388Z"
   },
   {
    "duration": 10,
    "start_time": "2022-05-21T19:56:59.395Z"
   },
   {
    "duration": 30,
    "start_time": "2022-05-21T19:56:59.406Z"
   },
   {
    "duration": 6,
    "start_time": "2022-05-21T19:56:59.438Z"
   },
   {
    "duration": 7,
    "start_time": "2022-05-21T19:56:59.446Z"
   },
   {
    "duration": 7,
    "start_time": "2022-05-21T19:56:59.455Z"
   },
   {
    "duration": 11,
    "start_time": "2022-05-21T19:57:01.023Z"
   },
   {
    "duration": 4,
    "start_time": "2022-05-21T19:57:03.230Z"
   },
   {
    "duration": 14,
    "start_time": "2022-05-21T19:57:05.072Z"
   },
   {
    "duration": 6,
    "start_time": "2022-05-21T19:57:07.539Z"
   },
   {
    "duration": 26,
    "start_time": "2022-05-21T19:57:09.918Z"
   },
   {
    "duration": 9,
    "start_time": "2022-05-21T19:57:16.028Z"
   },
   {
    "duration": 11,
    "start_time": "2022-05-21T19:57:22.926Z"
   },
   {
    "duration": 52,
    "start_time": "2022-05-21T19:59:36.284Z"
   },
   {
    "duration": 17,
    "start_time": "2022-05-21T19:59:41.432Z"
   },
   {
    "duration": 6,
    "start_time": "2022-05-21T20:05:00.678Z"
   },
   {
    "duration": 122,
    "start_time": "2022-05-21T20:06:20.882Z"
   },
   {
    "duration": 2610,
    "start_time": "2022-05-21T20:09:58.885Z"
   },
   {
    "duration": 978,
    "start_time": "2022-05-21T20:10:01.498Z"
   },
   {
    "duration": 1468,
    "start_time": "2022-05-21T20:10:02.478Z"
   },
   {
    "duration": 4,
    "start_time": "2022-05-21T20:10:03.949Z"
   },
   {
    "duration": 60,
    "start_time": "2022-05-21T20:10:03.955Z"
   },
   {
    "duration": 15,
    "start_time": "2022-05-21T20:10:04.017Z"
   },
   {
    "duration": 19,
    "start_time": "2022-05-21T20:10:04.033Z"
   },
   {
    "duration": 13,
    "start_time": "2022-05-21T20:10:04.054Z"
   },
   {
    "duration": 12,
    "start_time": "2022-05-21T20:10:04.069Z"
   },
   {
    "duration": 12,
    "start_time": "2022-05-21T20:10:04.105Z"
   },
   {
    "duration": 26,
    "start_time": "2022-05-21T20:10:04.119Z"
   },
   {
    "duration": 14,
    "start_time": "2022-05-21T20:10:04.147Z"
   },
   {
    "duration": 13,
    "start_time": "2022-05-21T20:10:04.163Z"
   },
   {
    "duration": 59,
    "start_time": "2022-05-21T20:10:04.177Z"
   },
   {
    "duration": 4,
    "start_time": "2022-05-21T20:10:04.237Z"
   },
   {
    "duration": 6,
    "start_time": "2022-05-21T20:10:04.243Z"
   },
   {
    "duration": 10,
    "start_time": "2022-05-21T20:10:04.250Z"
   },
   {
    "duration": 14,
    "start_time": "2022-05-21T20:10:04.261Z"
   },
   {
    "duration": 3,
    "start_time": "2022-05-21T20:10:04.276Z"
   },
   {
    "duration": 26,
    "start_time": "2022-05-21T20:10:04.280Z"
   },
   {
    "duration": 19,
    "start_time": "2022-05-21T20:10:04.307Z"
   },
   {
    "duration": 10,
    "start_time": "2022-05-21T20:10:04.327Z"
   },
   {
    "duration": 8,
    "start_time": "2022-05-21T20:10:04.338Z"
   },
   {
    "duration": 5,
    "start_time": "2022-05-21T20:10:04.347Z"
   },
   {
    "duration": 6,
    "start_time": "2022-05-21T20:10:04.353Z"
   },
   {
    "duration": 8,
    "start_time": "2022-05-21T20:10:04.361Z"
   },
   {
    "duration": 7,
    "start_time": "2022-05-21T20:10:04.370Z"
   },
   {
    "duration": 9,
    "start_time": "2022-05-21T20:10:04.380Z"
   },
   {
    "duration": 27,
    "start_time": "2022-05-21T20:10:04.390Z"
   },
   {
    "duration": 7,
    "start_time": "2022-05-21T20:10:04.419Z"
   },
   {
    "duration": 8,
    "start_time": "2022-05-21T20:10:04.427Z"
   },
   {
    "duration": 9,
    "start_time": "2022-05-21T20:10:04.437Z"
   },
   {
    "duration": 12,
    "start_time": "2022-05-21T20:10:04.448Z"
   },
   {
    "duration": 18,
    "start_time": "2022-05-21T20:10:04.462Z"
   },
   {
    "duration": 24,
    "start_time": "2022-05-21T20:10:04.481Z"
   },
   {
    "duration": 27,
    "start_time": "2022-05-21T20:10:04.512Z"
   },
   {
    "duration": 10,
    "start_time": "2022-05-21T20:10:04.540Z"
   },
   {
    "duration": 12,
    "start_time": "2022-05-21T20:10:04.552Z"
   },
   {
    "duration": 12,
    "start_time": "2022-05-21T20:10:04.565Z"
   },
   {
    "duration": 30,
    "start_time": "2022-05-21T20:10:04.578Z"
   },
   {
    "duration": 10,
    "start_time": "2022-05-21T20:10:04.610Z"
   },
   {
    "duration": 16,
    "start_time": "2022-05-21T20:10:04.621Z"
   },
   {
    "duration": 18,
    "start_time": "2022-05-21T20:10:04.638Z"
   },
   {
    "duration": 13,
    "start_time": "2022-05-21T20:10:04.658Z"
   },
   {
    "duration": 11,
    "start_time": "2022-05-21T20:10:04.673Z"
   },
   {
    "duration": 20,
    "start_time": "2022-05-21T20:10:04.685Z"
   },
   {
    "duration": 16,
    "start_time": "2022-05-21T20:10:04.709Z"
   },
   {
    "duration": 10,
    "start_time": "2022-05-21T20:10:04.726Z"
   },
   {
    "duration": 8,
    "start_time": "2022-05-21T20:10:04.738Z"
   },
   {
    "duration": 13,
    "start_time": "2022-05-21T20:10:04.747Z"
   },
   {
    "duration": 9,
    "start_time": "2022-05-21T20:10:04.762Z"
   },
   {
    "duration": 13,
    "start_time": "2022-05-21T20:10:04.773Z"
   },
   {
    "duration": 6,
    "start_time": "2022-05-21T20:10:04.788Z"
   },
   {
    "duration": 12,
    "start_time": "2022-05-21T20:10:04.796Z"
   },
   {
    "duration": 13,
    "start_time": "2022-05-21T20:17:44.113Z"
   },
   {
    "duration": 3,
    "start_time": "2022-05-21T20:17:49.732Z"
   },
   {
    "duration": 4,
    "start_time": "2022-05-21T20:17:52.426Z"
   },
   {
    "duration": 3,
    "start_time": "2022-05-21T20:17:53.217Z"
   },
   {
    "duration": 9,
    "start_time": "2022-05-21T20:17:55.484Z"
   },
   {
    "duration": 13,
    "start_time": "2022-05-21T20:18:11.487Z"
   },
   {
    "duration": 6,
    "start_time": "2022-05-21T20:18:29.627Z"
   },
   {
    "duration": 3,
    "start_time": "2022-05-21T20:18:33.622Z"
   },
   {
    "duration": 4,
    "start_time": "2022-05-21T20:18:34.245Z"
   },
   {
    "duration": 4,
    "start_time": "2022-05-21T20:18:34.837Z"
   },
   {
    "duration": 7,
    "start_time": "2022-05-21T20:18:35.390Z"
   },
   {
    "duration": 5,
    "start_time": "2022-05-21T20:18:36.013Z"
   },
   {
    "duration": 114,
    "start_time": "2022-05-21T20:21:12.693Z"
   },
   {
    "duration": 18,
    "start_time": "2022-05-21T20:21:36.135Z"
   },
   {
    "duration": 10,
    "start_time": "2022-05-21T20:21:41.675Z"
   },
   {
    "duration": 283,
    "start_time": "2022-05-21T20:21:51.489Z"
   },
   {
    "duration": 6,
    "start_time": "2022-05-21T20:22:54.621Z"
   },
   {
    "duration": 130,
    "start_time": "2022-05-21T20:23:09.419Z"
   },
   {
    "duration": 2,
    "start_time": "2022-05-21T20:25:44.381Z"
   },
   {
    "duration": 2620,
    "start_time": "2022-05-21T20:27:04.432Z"
   },
   {
    "duration": 983,
    "start_time": "2022-05-21T20:27:07.054Z"
   },
   {
    "duration": 1480,
    "start_time": "2022-05-21T20:27:08.039Z"
   },
   {
    "duration": 5,
    "start_time": "2022-05-21T20:27:09.521Z"
   },
   {
    "duration": 23,
    "start_time": "2022-05-21T20:27:09.529Z"
   },
   {
    "duration": 57,
    "start_time": "2022-05-21T20:27:09.554Z"
   },
   {
    "duration": 16,
    "start_time": "2022-05-21T20:27:09.614Z"
   },
   {
    "duration": 18,
    "start_time": "2022-05-21T20:27:09.631Z"
   },
   {
    "duration": 10,
    "start_time": "2022-05-21T20:27:09.650Z"
   },
   {
    "duration": 12,
    "start_time": "2022-05-21T20:27:09.661Z"
   },
   {
    "duration": 13,
    "start_time": "2022-05-21T20:27:09.674Z"
   },
   {
    "duration": 24,
    "start_time": "2022-05-21T20:27:09.688Z"
   },
   {
    "duration": 16,
    "start_time": "2022-05-21T20:27:09.714Z"
   },
   {
    "duration": 7,
    "start_time": "2022-05-21T20:27:09.733Z"
   },
   {
    "duration": 41,
    "start_time": "2022-05-21T20:27:09.742Z"
   },
   {
    "duration": 5,
    "start_time": "2022-05-21T20:27:09.785Z"
   },
   {
    "duration": 10,
    "start_time": "2022-05-21T20:27:09.791Z"
   },
   {
    "duration": 19,
    "start_time": "2022-05-21T20:27:09.806Z"
   },
   {
    "duration": 17,
    "start_time": "2022-05-21T20:27:09.827Z"
   },
   {
    "duration": 2,
    "start_time": "2022-05-21T20:27:09.846Z"
   },
   {
    "duration": 10,
    "start_time": "2022-05-21T20:27:09.849Z"
   },
   {
    "duration": 9,
    "start_time": "2022-05-21T20:27:09.861Z"
   },
   {
    "duration": 7,
    "start_time": "2022-05-21T20:27:09.871Z"
   },
   {
    "duration": 8,
    "start_time": "2022-05-21T20:27:09.880Z"
   },
   {
    "duration": 6,
    "start_time": "2022-05-21T20:27:09.889Z"
   },
   {
    "duration": 20,
    "start_time": "2022-05-21T20:27:09.897Z"
   },
   {
    "duration": 6,
    "start_time": "2022-05-21T20:27:09.919Z"
   },
   {
    "duration": 33,
    "start_time": "2022-05-21T20:27:09.926Z"
   },
   {
    "duration": 17,
    "start_time": "2022-05-21T20:27:09.961Z"
   },
   {
    "duration": 9,
    "start_time": "2022-05-21T20:27:09.979Z"
   },
   {
    "duration": 8,
    "start_time": "2022-05-21T20:27:09.989Z"
   },
   {
    "duration": 28,
    "start_time": "2022-05-21T20:27:09.999Z"
   },
   {
    "duration": 8,
    "start_time": "2022-05-21T20:27:10.028Z"
   },
   {
    "duration": 22,
    "start_time": "2022-05-21T20:27:10.037Z"
   },
   {
    "duration": 14,
    "start_time": "2022-05-21T20:27:10.060Z"
   },
   {
    "duration": 6,
    "start_time": "2022-05-21T20:27:10.075Z"
   },
   {
    "duration": 30,
    "start_time": "2022-05-21T20:27:10.082Z"
   },
   {
    "duration": 11,
    "start_time": "2022-05-21T20:27:10.114Z"
   },
   {
    "duration": 10,
    "start_time": "2022-05-21T20:27:10.127Z"
   },
   {
    "duration": 12,
    "start_time": "2022-05-21T20:27:10.139Z"
   },
   {
    "duration": 9,
    "start_time": "2022-05-21T20:27:10.155Z"
   },
   {
    "duration": 7,
    "start_time": "2022-05-21T20:27:10.165Z"
   },
   {
    "duration": 40,
    "start_time": "2022-05-21T20:27:10.174Z"
   },
   {
    "duration": 10,
    "start_time": "2022-05-21T20:27:10.216Z"
   },
   {
    "duration": 11,
    "start_time": "2022-05-21T20:27:10.228Z"
   },
   {
    "duration": 3,
    "start_time": "2022-05-21T20:27:10.240Z"
   },
   {
    "duration": 5,
    "start_time": "2022-05-21T20:27:10.244Z"
   },
   {
    "duration": 9,
    "start_time": "2022-05-21T20:27:10.250Z"
   },
   {
    "duration": 5,
    "start_time": "2022-05-21T20:27:10.260Z"
   },
   {
    "duration": 12,
    "start_time": "2022-05-21T20:27:10.266Z"
   },
   {
    "duration": 10,
    "start_time": "2022-05-21T20:27:10.301Z"
   },
   {
    "duration": 18,
    "start_time": "2022-05-21T20:27:10.313Z"
   },
   {
    "duration": 16,
    "start_time": "2022-05-21T20:27:10.333Z"
   },
   {
    "duration": 9,
    "start_time": "2022-05-21T20:27:10.350Z"
   },
   {
    "duration": 7,
    "start_time": "2022-05-21T20:27:10.360Z"
   },
   {
    "duration": 7,
    "start_time": "2022-05-21T20:27:10.368Z"
   },
   {
    "duration": 7,
    "start_time": "2022-05-21T20:27:10.377Z"
   },
   {
    "duration": 130,
    "start_time": "2022-05-21T20:27:10.386Z"
   },
   {
    "duration": 19,
    "start_time": "2022-05-21T20:27:10.518Z"
   },
   {
    "duration": 9,
    "start_time": "2022-05-21T20:27:10.538Z"
   },
   {
    "duration": 144,
    "start_time": "2022-05-21T20:27:10.549Z"
   },
   {
    "duration": 25,
    "start_time": "2022-05-21T20:27:10.695Z"
   },
   {
    "duration": 7365,
    "start_time": "2022-05-21T20:27:10.722Z"
   },
   {
    "duration": 854,
    "start_time": "2022-05-21T20:27:18.089Z"
   },
   {
    "duration": 72,
    "start_time": "2022-05-21T20:27:18.945Z"
   },
   {
    "duration": 142,
    "start_time": "2022-05-21T20:27:19.019Z"
   },
   {
    "duration": 51,
    "start_time": "2022-05-21T20:27:19.163Z"
   },
   {
    "duration": 96,
    "start_time": "2022-05-21T20:27:19.216Z"
   },
   {
    "duration": 217,
    "start_time": "2022-05-21T20:27:19.315Z"
   },
   {
    "duration": 9,
    "start_time": "2022-05-21T20:27:19.533Z"
   },
   {
    "duration": 59,
    "start_time": "2022-05-21T20:27:19.544Z"
   },
   {
    "duration": 33,
    "start_time": "2022-05-21T20:27:19.604Z"
   },
   {
    "duration": 46,
    "start_time": "2022-05-21T20:29:15.185Z"
   },
   {
    "duration": 121,
    "start_time": "2022-05-21T20:29:15.964Z"
   },
   {
    "duration": 115,
    "start_time": "2022-05-21T20:30:25.815Z"
   },
   {
    "duration": 19,
    "start_time": "2022-05-21T20:30:29.317Z"
   },
   {
    "duration": 10,
    "start_time": "2022-05-21T20:30:32.117Z"
   },
   {
    "duration": 122,
    "start_time": "2022-05-21T20:30:33.020Z"
   },
   {
    "duration": 46681,
    "start_time": "2022-05-21T20:30:59.913Z"
   },
   {
    "duration": 2387,
    "start_time": "2022-05-21T20:31:46.596Z"
   },
   {
    "duration": 178,
    "start_time": "2022-05-21T20:31:48.985Z"
   },
   {
    "duration": 128,
    "start_time": "2022-05-21T20:33:46.277Z"
   },
   {
    "duration": 892,
    "start_time": "2022-05-21T20:35:44.528Z"
   },
   {
    "duration": 69,
    "start_time": "2022-05-21T20:35:50.571Z"
   },
   {
    "duration": 27,
    "start_time": "2022-05-21T20:38:39.474Z"
   },
   {
    "duration": 18,
    "start_time": "2022-05-21T20:38:42.259Z"
   },
   {
    "duration": 125,
    "start_time": "2022-05-21T20:38:49.096Z"
   },
   {
    "duration": 9,
    "start_time": "2022-05-21T20:38:56.690Z"
   },
   {
    "duration": 2226,
    "start_time": "2022-05-21T20:40:44.349Z"
   },
   {
    "duration": 5,
    "start_time": "2022-05-21T20:41:55.547Z"
   },
   {
    "duration": 5,
    "start_time": "2022-05-21T20:41:59.760Z"
   },
   {
    "duration": 5,
    "start_time": "2022-05-21T20:42:01.647Z"
   },
   {
    "duration": 17,
    "start_time": "2022-05-21T20:42:02.296Z"
   },
   {
    "duration": 6,
    "start_time": "2022-05-21T20:42:04.572Z"
   },
   {
    "duration": 3457,
    "start_time": "2022-05-21T20:42:15.992Z"
   },
   {
    "duration": 227,
    "start_time": "2022-05-21T20:42:21.169Z"
   },
   {
    "duration": 192,
    "start_time": "2022-05-21T20:44:44.430Z"
   },
   {
    "duration": 198,
    "start_time": "2022-05-21T20:46:48.103Z"
   },
   {
    "duration": 2430,
    "start_time": "2022-05-21T20:46:51.221Z"
   },
   {
    "duration": 180,
    "start_time": "2022-05-21T20:46:53.952Z"
   },
   {
    "duration": 842,
    "start_time": "2022-05-21T20:50:05.002Z"
   },
   {
    "duration": 2490,
    "start_time": "2022-05-21T20:50:34.978Z"
   },
   {
    "duration": 170,
    "start_time": "2022-05-21T20:50:40.191Z"
   },
   {
    "duration": 130,
    "start_time": "2022-05-21T20:50:43.190Z"
   },
   {
    "duration": 23,
    "start_time": "2022-05-21T20:50:56.207Z"
   },
   {
    "duration": 10,
    "start_time": "2022-05-21T20:51:03.130Z"
   },
   {
    "duration": 904,
    "start_time": "2022-05-21T20:51:10.790Z"
   },
   {
    "duration": 75,
    "start_time": "2022-05-21T20:51:15.646Z"
   },
   {
    "duration": 2512,
    "start_time": "2022-05-21T20:51:40.457Z"
   },
   {
    "duration": 172,
    "start_time": "2022-05-21T20:51:53.241Z"
   },
   {
    "duration": 54,
    "start_time": "2022-05-22T06:39:51.040Z"
   },
   {
    "duration": 3474,
    "start_time": "2022-05-22T06:39:55.792Z"
   },
   {
    "duration": 751,
    "start_time": "2022-05-22T06:39:59.268Z"
   },
   {
    "duration": 1301,
    "start_time": "2022-05-22T06:40:00.021Z"
   },
   {
    "duration": 1470,
    "start_time": "2022-05-22T06:40:01.325Z"
   },
   {
    "duration": 3,
    "start_time": "2022-05-22T06:40:02.798Z"
   },
   {
    "duration": 134,
    "start_time": "2022-05-22T06:40:02.803Z"
   },
   {
    "duration": 17,
    "start_time": "2022-05-22T06:40:02.940Z"
   },
   {
    "duration": 40,
    "start_time": "2022-05-22T06:40:02.959Z"
   },
   {
    "duration": 30,
    "start_time": "2022-05-22T06:40:03.001Z"
   },
   {
    "duration": 38,
    "start_time": "2022-05-22T06:40:03.032Z"
   },
   {
    "duration": 48,
    "start_time": "2022-05-22T06:40:03.071Z"
   },
   {
    "duration": 33,
    "start_time": "2022-05-22T06:40:03.121Z"
   },
   {
    "duration": 7,
    "start_time": "2022-05-22T06:40:09.488Z"
   },
   {
    "duration": 149,
    "start_time": "2022-05-22T06:40:10.155Z"
   },
   {
    "duration": 456,
    "start_time": "2022-05-22T06:42:34.201Z"
   },
   {
    "duration": 124,
    "start_time": "2022-05-22T06:42:35.480Z"
   },
   {
    "duration": 132,
    "start_time": "2022-05-22T06:43:01.956Z"
   },
   {
    "duration": 111,
    "start_time": "2022-05-22T06:43:07.188Z"
   },
   {
    "duration": 2445,
    "start_time": "2022-05-22T06:43:30.860Z"
   },
   {
    "duration": 796,
    "start_time": "2022-05-22T06:43:33.309Z"
   },
   {
    "duration": 1371,
    "start_time": "2022-05-22T06:43:34.107Z"
   },
   {
    "duration": 5,
    "start_time": "2022-05-22T06:43:35.480Z"
   },
   {
    "duration": 55,
    "start_time": "2022-05-22T06:43:35.488Z"
   },
   {
    "duration": 77,
    "start_time": "2022-05-22T06:43:35.544Z"
   },
   {
    "duration": 17,
    "start_time": "2022-05-22T06:43:35.623Z"
   },
   {
    "duration": 81,
    "start_time": "2022-05-22T06:43:35.642Z"
   },
   {
    "duration": 71,
    "start_time": "2022-05-22T06:43:35.724Z"
   },
   {
    "duration": 70,
    "start_time": "2022-05-22T06:43:35.797Z"
   },
   {
    "duration": 44,
    "start_time": "2022-05-22T06:43:35.868Z"
   },
   {
    "duration": 63,
    "start_time": "2022-05-22T06:43:35.914Z"
   },
   {
    "duration": 153,
    "start_time": "2022-05-22T06:43:35.979Z"
   },
   {
    "duration": 7,
    "start_time": "2022-05-22T06:43:36.135Z"
   },
   {
    "duration": 0,
    "start_time": "2022-05-22T06:43:36.144Z"
   },
   {
    "duration": 0,
    "start_time": "2022-05-22T06:43:36.145Z"
   },
   {
    "duration": 0,
    "start_time": "2022-05-22T06:43:36.147Z"
   },
   {
    "duration": 0,
    "start_time": "2022-05-22T06:43:36.153Z"
   },
   {
    "duration": 0,
    "start_time": "2022-05-22T06:43:36.154Z"
   },
   {
    "duration": 0,
    "start_time": "2022-05-22T06:43:36.156Z"
   },
   {
    "duration": 0,
    "start_time": "2022-05-22T06:43:36.157Z"
   },
   {
    "duration": 0,
    "start_time": "2022-05-22T06:43:36.158Z"
   },
   {
    "duration": 0,
    "start_time": "2022-05-22T06:43:36.160Z"
   },
   {
    "duration": 0,
    "start_time": "2022-05-22T06:43:36.161Z"
   },
   {
    "duration": 0,
    "start_time": "2022-05-22T06:43:36.162Z"
   },
   {
    "duration": 1,
    "start_time": "2022-05-22T06:43:36.163Z"
   },
   {
    "duration": 0,
    "start_time": "2022-05-22T06:43:36.165Z"
   },
   {
    "duration": 0,
    "start_time": "2022-05-22T06:43:36.166Z"
   },
   {
    "duration": 0,
    "start_time": "2022-05-22T06:43:36.167Z"
   },
   {
    "duration": 0,
    "start_time": "2022-05-22T06:43:36.168Z"
   },
   {
    "duration": 0,
    "start_time": "2022-05-22T06:43:36.169Z"
   },
   {
    "duration": 0,
    "start_time": "2022-05-22T06:43:36.170Z"
   },
   {
    "duration": 0,
    "start_time": "2022-05-22T06:43:36.171Z"
   },
   {
    "duration": 0,
    "start_time": "2022-05-22T06:43:36.172Z"
   },
   {
    "duration": 0,
    "start_time": "2022-05-22T06:43:36.173Z"
   },
   {
    "duration": 0,
    "start_time": "2022-05-22T06:43:36.174Z"
   },
   {
    "duration": 348,
    "start_time": "2022-05-22T06:44:59.221Z"
   },
   {
    "duration": 2399,
    "start_time": "2022-05-22T06:45:26.845Z"
   },
   {
    "duration": 785,
    "start_time": "2022-05-22T06:45:29.246Z"
   },
   {
    "duration": 1318,
    "start_time": "2022-05-22T06:45:30.034Z"
   },
   {
    "duration": 6,
    "start_time": "2022-05-22T06:45:31.355Z"
   },
   {
    "duration": 199,
    "start_time": "2022-05-22T06:45:31.363Z"
   },
   {
    "duration": 99,
    "start_time": "2022-05-22T06:45:31.564Z"
   },
   {
    "duration": 76,
    "start_time": "2022-05-22T06:45:31.665Z"
   },
   {
    "duration": 41,
    "start_time": "2022-05-22T06:45:31.743Z"
   },
   {
    "duration": 42,
    "start_time": "2022-05-22T06:45:31.786Z"
   },
   {
    "duration": 122,
    "start_time": "2022-05-22T06:45:31.830Z"
   },
   {
    "duration": 57,
    "start_time": "2022-05-22T06:45:31.953Z"
   },
   {
    "duration": 32,
    "start_time": "2022-05-22T06:45:32.011Z"
   },
   {
    "duration": 187,
    "start_time": "2022-05-22T06:45:32.045Z"
   },
   {
    "duration": 4,
    "start_time": "2022-05-22T06:45:32.235Z"
   },
   {
    "duration": 0,
    "start_time": "2022-05-22T06:45:32.242Z"
   },
   {
    "duration": 0,
    "start_time": "2022-05-22T06:45:32.252Z"
   },
   {
    "duration": 0,
    "start_time": "2022-05-22T06:45:32.254Z"
   },
   {
    "duration": 0,
    "start_time": "2022-05-22T06:45:32.255Z"
   },
   {
    "duration": 0,
    "start_time": "2022-05-22T06:45:32.256Z"
   },
   {
    "duration": 0,
    "start_time": "2022-05-22T06:45:32.258Z"
   },
   {
    "duration": 0,
    "start_time": "2022-05-22T06:45:32.259Z"
   },
   {
    "duration": 0,
    "start_time": "2022-05-22T06:45:32.260Z"
   },
   {
    "duration": 0,
    "start_time": "2022-05-22T06:45:32.261Z"
   },
   {
    "duration": 0,
    "start_time": "2022-05-22T06:45:32.262Z"
   },
   {
    "duration": 0,
    "start_time": "2022-05-22T06:45:32.263Z"
   },
   {
    "duration": 0,
    "start_time": "2022-05-22T06:45:32.264Z"
   },
   {
    "duration": 0,
    "start_time": "2022-05-22T06:45:32.265Z"
   },
   {
    "duration": 0,
    "start_time": "2022-05-22T06:45:32.266Z"
   },
   {
    "duration": 0,
    "start_time": "2022-05-22T06:45:32.267Z"
   },
   {
    "duration": 0,
    "start_time": "2022-05-22T06:45:32.268Z"
   },
   {
    "duration": 1,
    "start_time": "2022-05-22T06:45:32.269Z"
   },
   {
    "duration": 0,
    "start_time": "2022-05-22T06:45:32.271Z"
   },
   {
    "duration": 0,
    "start_time": "2022-05-22T06:45:32.272Z"
   },
   {
    "duration": 0,
    "start_time": "2022-05-22T06:45:32.273Z"
   },
   {
    "duration": 0,
    "start_time": "2022-05-22T06:45:32.275Z"
   },
   {
    "duration": 0,
    "start_time": "2022-05-22T06:45:32.276Z"
   },
   {
    "duration": 0,
    "start_time": "2022-05-22T06:45:32.278Z"
   },
   {
    "duration": 0,
    "start_time": "2022-05-22T06:45:32.279Z"
   },
   {
    "duration": 0,
    "start_time": "2022-05-22T06:45:32.280Z"
   },
   {
    "duration": 0,
    "start_time": "2022-05-22T06:45:32.282Z"
   },
   {
    "duration": 0,
    "start_time": "2022-05-22T06:45:32.283Z"
   },
   {
    "duration": 0,
    "start_time": "2022-05-22T06:45:32.284Z"
   },
   {
    "duration": 0,
    "start_time": "2022-05-22T06:45:32.285Z"
   },
   {
    "duration": 0,
    "start_time": "2022-05-22T06:45:32.286Z"
   },
   {
    "duration": 0,
    "start_time": "2022-05-22T06:45:32.287Z"
   },
   {
    "duration": 0,
    "start_time": "2022-05-22T06:45:32.288Z"
   },
   {
    "duration": 0,
    "start_time": "2022-05-22T06:45:32.289Z"
   },
   {
    "duration": 0,
    "start_time": "2022-05-22T06:45:32.291Z"
   },
   {
    "duration": 0,
    "start_time": "2022-05-22T06:45:32.292Z"
   },
   {
    "duration": 0,
    "start_time": "2022-05-22T06:45:32.353Z"
   },
   {
    "duration": 0,
    "start_time": "2022-05-22T06:45:32.354Z"
   },
   {
    "duration": 0,
    "start_time": "2022-05-22T06:45:32.356Z"
   },
   {
    "duration": 0,
    "start_time": "2022-05-22T06:45:32.357Z"
   },
   {
    "duration": 0,
    "start_time": "2022-05-22T06:45:32.359Z"
   },
   {
    "duration": 0,
    "start_time": "2022-05-22T06:45:32.360Z"
   },
   {
    "duration": 0,
    "start_time": "2022-05-22T06:45:32.361Z"
   },
   {
    "duration": 0,
    "start_time": "2022-05-22T06:45:32.362Z"
   },
   {
    "duration": 0,
    "start_time": "2022-05-22T06:45:32.363Z"
   },
   {
    "duration": 0,
    "start_time": "2022-05-22T06:45:32.364Z"
   },
   {
    "duration": 0,
    "start_time": "2022-05-22T06:45:32.365Z"
   },
   {
    "duration": 0,
    "start_time": "2022-05-22T06:45:32.366Z"
   },
   {
    "duration": 0,
    "start_time": "2022-05-22T06:45:32.367Z"
   },
   {
    "duration": 0,
    "start_time": "2022-05-22T06:45:32.368Z"
   },
   {
    "duration": 0,
    "start_time": "2022-05-22T06:45:32.369Z"
   },
   {
    "duration": 0,
    "start_time": "2022-05-22T06:45:32.370Z"
   },
   {
    "duration": 0,
    "start_time": "2022-05-22T06:45:32.371Z"
   },
   {
    "duration": 0,
    "start_time": "2022-05-22T06:45:32.372Z"
   },
   {
    "duration": 0,
    "start_time": "2022-05-22T06:45:32.373Z"
   },
   {
    "duration": 0,
    "start_time": "2022-05-22T06:45:32.374Z"
   },
   {
    "duration": 0,
    "start_time": "2022-05-22T06:45:32.375Z"
   },
   {
    "duration": 0,
    "start_time": "2022-05-22T06:45:32.376Z"
   },
   {
    "duration": 0,
    "start_time": "2022-05-22T06:45:32.377Z"
   },
   {
    "duration": 0,
    "start_time": "2022-05-22T06:45:32.379Z"
   },
   {
    "duration": 0,
    "start_time": "2022-05-22T06:45:32.379Z"
   },
   {
    "duration": 0,
    "start_time": "2022-05-22T06:45:32.380Z"
   },
   {
    "duration": 0,
    "start_time": "2022-05-22T06:45:32.382Z"
   },
   {
    "duration": 0,
    "start_time": "2022-05-22T06:45:32.383Z"
   },
   {
    "duration": 0,
    "start_time": "2022-05-22T06:45:32.384Z"
   },
   {
    "duration": 0,
    "start_time": "2022-05-22T06:45:32.385Z"
   },
   {
    "duration": 0,
    "start_time": "2022-05-22T06:45:32.386Z"
   },
   {
    "duration": 0,
    "start_time": "2022-05-22T06:45:32.387Z"
   },
   {
    "duration": 0,
    "start_time": "2022-05-22T06:45:32.388Z"
   },
   {
    "duration": 0,
    "start_time": "2022-05-22T06:45:32.389Z"
   },
   {
    "duration": 0,
    "start_time": "2022-05-22T06:45:32.452Z"
   },
   {
    "duration": 0,
    "start_time": "2022-05-22T06:45:32.453Z"
   },
   {
    "duration": 0,
    "start_time": "2022-05-22T06:45:32.454Z"
   },
   {
    "duration": 0,
    "start_time": "2022-05-22T06:45:32.455Z"
   },
   {
    "duration": 0,
    "start_time": "2022-05-22T06:45:32.456Z"
   },
   {
    "duration": 0,
    "start_time": "2022-05-22T06:45:32.457Z"
   },
   {
    "duration": 1,
    "start_time": "2022-05-22T06:45:32.458Z"
   },
   {
    "duration": 1,
    "start_time": "2022-05-22T06:45:32.459Z"
   },
   {
    "duration": 0,
    "start_time": "2022-05-22T06:45:32.460Z"
   },
   {
    "duration": 0,
    "start_time": "2022-05-22T06:45:32.462Z"
   },
   {
    "duration": 0,
    "start_time": "2022-05-22T06:45:32.463Z"
   },
   {
    "duration": 0,
    "start_time": "2022-05-22T06:45:32.464Z"
   },
   {
    "duration": 0,
    "start_time": "2022-05-22T06:45:32.465Z"
   },
   {
    "duration": 0,
    "start_time": "2022-05-22T06:45:32.466Z"
   },
   {
    "duration": 0,
    "start_time": "2022-05-22T06:45:32.467Z"
   },
   {
    "duration": 0,
    "start_time": "2022-05-22T06:45:32.468Z"
   },
   {
    "duration": 0,
    "start_time": "2022-05-22T06:45:32.469Z"
   },
   {
    "duration": 0,
    "start_time": "2022-05-22T06:45:32.470Z"
   },
   {
    "duration": 0,
    "start_time": "2022-05-22T06:45:32.471Z"
   },
   {
    "duration": 0,
    "start_time": "2022-05-22T06:45:32.472Z"
   },
   {
    "duration": 1,
    "start_time": "2022-05-22T06:45:32.473Z"
   },
   {
    "duration": 0,
    "start_time": "2022-05-22T06:45:32.475Z"
   },
   {
    "duration": 0,
    "start_time": "2022-05-22T06:45:32.476Z"
   },
   {
    "duration": 0,
    "start_time": "2022-05-22T06:45:32.477Z"
   },
   {
    "duration": 0,
    "start_time": "2022-05-22T06:45:32.478Z"
   },
   {
    "duration": 0,
    "start_time": "2022-05-22T06:45:32.479Z"
   },
   {
    "duration": 2244,
    "start_time": "2022-05-22T06:46:16.553Z"
   },
   {
    "duration": 808,
    "start_time": "2022-05-22T06:46:18.799Z"
   },
   {
    "duration": 1302,
    "start_time": "2022-05-22T06:46:19.609Z"
   },
   {
    "duration": 5,
    "start_time": "2022-05-22T06:46:20.914Z"
   },
   {
    "duration": 9,
    "start_time": "2022-05-22T06:46:20.920Z"
   },
   {
    "duration": 45,
    "start_time": "2022-05-22T06:46:20.931Z"
   },
   {
    "duration": 15,
    "start_time": "2022-05-22T06:46:20.978Z"
   },
   {
    "duration": 33,
    "start_time": "2022-05-22T06:46:20.995Z"
   },
   {
    "duration": 39,
    "start_time": "2022-05-22T06:46:21.029Z"
   },
   {
    "duration": 57,
    "start_time": "2022-05-22T06:46:21.070Z"
   },
   {
    "duration": 29,
    "start_time": "2022-05-22T06:46:21.128Z"
   },
   {
    "duration": 34,
    "start_time": "2022-05-22T06:46:21.159Z"
   },
   {
    "duration": 151,
    "start_time": "2022-05-22T06:46:21.194Z"
   },
   {
    "duration": 60301,
    "start_time": "2022-05-22T06:46:21.347Z"
   },
   {
    "duration": 26,
    "start_time": "2022-05-22T06:47:21.651Z"
   },
   {
    "duration": 99,
    "start_time": "2022-05-22T06:47:21.679Z"
   },
   {
    "duration": 5,
    "start_time": "2022-05-22T06:47:21.779Z"
   },
   {
    "duration": 25,
    "start_time": "2022-05-22T06:47:21.785Z"
   },
   {
    "duration": 29,
    "start_time": "2022-05-22T06:47:21.812Z"
   },
   {
    "duration": 45,
    "start_time": "2022-05-22T06:47:21.843Z"
   },
   {
    "duration": 41,
    "start_time": "2022-05-22T06:47:21.890Z"
   },
   {
    "duration": 38,
    "start_time": "2022-05-22T06:47:21.933Z"
   },
   {
    "duration": 57,
    "start_time": "2022-05-22T06:47:21.972Z"
   },
   {
    "duration": 31,
    "start_time": "2022-05-22T06:47:22.030Z"
   },
   {
    "duration": 32,
    "start_time": "2022-05-22T06:47:22.062Z"
   },
   {
    "duration": 21,
    "start_time": "2022-05-22T06:47:22.095Z"
   },
   {
    "duration": 27,
    "start_time": "2022-05-22T06:47:22.118Z"
   },
   {
    "duration": 38,
    "start_time": "2022-05-22T06:47:22.150Z"
   },
   {
    "duration": 30,
    "start_time": "2022-05-22T06:47:22.190Z"
   },
   {
    "duration": 25,
    "start_time": "2022-05-22T06:47:22.222Z"
   },
   {
    "duration": 21,
    "start_time": "2022-05-22T06:47:22.249Z"
   },
   {
    "duration": 32,
    "start_time": "2022-05-22T06:47:22.272Z"
   },
   {
    "duration": 46,
    "start_time": "2022-05-22T06:47:22.306Z"
   },
   {
    "duration": 26,
    "start_time": "2022-05-22T06:47:22.354Z"
   },
   {
    "duration": 48,
    "start_time": "2022-05-22T06:47:22.382Z"
   },
   {
    "duration": 714,
    "start_time": "2022-05-22T06:47:22.432Z"
   },
   {
    "duration": 0,
    "start_time": "2022-05-22T06:47:23.148Z"
   },
   {
    "duration": 0,
    "start_time": "2022-05-22T06:47:23.150Z"
   },
   {
    "duration": 0,
    "start_time": "2022-05-22T06:47:23.151Z"
   },
   {
    "duration": 0,
    "start_time": "2022-05-22T06:47:23.153Z"
   },
   {
    "duration": 0,
    "start_time": "2022-05-22T06:47:23.154Z"
   },
   {
    "duration": 0,
    "start_time": "2022-05-22T06:47:23.155Z"
   },
   {
    "duration": 0,
    "start_time": "2022-05-22T06:47:23.156Z"
   },
   {
    "duration": 0,
    "start_time": "2022-05-22T06:47:23.158Z"
   },
   {
    "duration": 0,
    "start_time": "2022-05-22T06:47:23.159Z"
   },
   {
    "duration": 0,
    "start_time": "2022-05-22T06:47:23.160Z"
   },
   {
    "duration": 0,
    "start_time": "2022-05-22T06:47:23.161Z"
   },
   {
    "duration": 0,
    "start_time": "2022-05-22T06:47:23.162Z"
   },
   {
    "duration": 0,
    "start_time": "2022-05-22T06:47:23.164Z"
   },
   {
    "duration": 0,
    "start_time": "2022-05-22T06:47:23.165Z"
   },
   {
    "duration": 0,
    "start_time": "2022-05-22T06:47:23.166Z"
   },
   {
    "duration": 0,
    "start_time": "2022-05-22T06:47:23.168Z"
   },
   {
    "duration": 0,
    "start_time": "2022-05-22T06:47:23.169Z"
   },
   {
    "duration": 0,
    "start_time": "2022-05-22T06:47:23.170Z"
   },
   {
    "duration": 0,
    "start_time": "2022-05-22T06:47:23.171Z"
   },
   {
    "duration": 0,
    "start_time": "2022-05-22T06:47:23.173Z"
   },
   {
    "duration": 0,
    "start_time": "2022-05-22T06:47:23.174Z"
   },
   {
    "duration": 0,
    "start_time": "2022-05-22T06:47:23.175Z"
   },
   {
    "duration": 0,
    "start_time": "2022-05-22T06:47:23.176Z"
   },
   {
    "duration": 0,
    "start_time": "2022-05-22T06:47:23.178Z"
   },
   {
    "duration": 0,
    "start_time": "2022-05-22T06:47:23.179Z"
   },
   {
    "duration": 0,
    "start_time": "2022-05-22T06:47:23.180Z"
   },
   {
    "duration": 0,
    "start_time": "2022-05-22T06:47:23.181Z"
   },
   {
    "duration": 0,
    "start_time": "2022-05-22T06:47:23.182Z"
   },
   {
    "duration": 0,
    "start_time": "2022-05-22T06:47:23.183Z"
   },
   {
    "duration": 0,
    "start_time": "2022-05-22T06:47:23.185Z"
   },
   {
    "duration": 0,
    "start_time": "2022-05-22T06:47:23.186Z"
   },
   {
    "duration": 0,
    "start_time": "2022-05-22T06:47:23.187Z"
   },
   {
    "duration": 0,
    "start_time": "2022-05-22T06:47:23.188Z"
   },
   {
    "duration": 0,
    "start_time": "2022-05-22T06:47:23.189Z"
   },
   {
    "duration": 0,
    "start_time": "2022-05-22T06:47:23.190Z"
   },
   {
    "duration": 0,
    "start_time": "2022-05-22T06:47:23.252Z"
   },
   {
    "duration": 0,
    "start_time": "2022-05-22T06:47:23.254Z"
   },
   {
    "duration": 0,
    "start_time": "2022-05-22T06:47:23.255Z"
   },
   {
    "duration": 0,
    "start_time": "2022-05-22T06:47:23.256Z"
   },
   {
    "duration": 0,
    "start_time": "2022-05-22T06:47:23.257Z"
   },
   {
    "duration": 0,
    "start_time": "2022-05-22T06:47:23.259Z"
   },
   {
    "duration": 0,
    "start_time": "2022-05-22T06:47:23.260Z"
   },
   {
    "duration": 0,
    "start_time": "2022-05-22T06:47:23.261Z"
   },
   {
    "duration": 0,
    "start_time": "2022-05-22T06:47:23.262Z"
   },
   {
    "duration": 0,
    "start_time": "2022-05-22T06:47:23.263Z"
   },
   {
    "duration": 0,
    "start_time": "2022-05-22T06:47:23.264Z"
   },
   {
    "duration": 0,
    "start_time": "2022-05-22T06:47:23.265Z"
   },
   {
    "duration": 0,
    "start_time": "2022-05-22T06:47:23.267Z"
   },
   {
    "duration": 0,
    "start_time": "2022-05-22T06:47:23.268Z"
   },
   {
    "duration": 0,
    "start_time": "2022-05-22T06:47:23.270Z"
   },
   {
    "duration": 0,
    "start_time": "2022-05-22T06:47:23.271Z"
   },
   {
    "duration": 0,
    "start_time": "2022-05-22T06:47:23.272Z"
   },
   {
    "duration": 0,
    "start_time": "2022-05-22T06:47:23.273Z"
   },
   {
    "duration": 0,
    "start_time": "2022-05-22T06:47:23.274Z"
   },
   {
    "duration": 0,
    "start_time": "2022-05-22T06:47:23.276Z"
   },
   {
    "duration": 0,
    "start_time": "2022-05-22T06:47:23.277Z"
   },
   {
    "duration": 0,
    "start_time": "2022-05-22T06:47:23.280Z"
   },
   {
    "duration": 0,
    "start_time": "2022-05-22T06:47:23.281Z"
   },
   {
    "duration": 0,
    "start_time": "2022-05-22T06:47:23.282Z"
   },
   {
    "duration": 0,
    "start_time": "2022-05-22T06:47:23.284Z"
   },
   {
    "duration": 0,
    "start_time": "2022-05-22T06:47:23.285Z"
   },
   {
    "duration": 0,
    "start_time": "2022-05-22T06:47:23.286Z"
   },
   {
    "duration": 0,
    "start_time": "2022-05-22T06:47:23.287Z"
   },
   {
    "duration": 0,
    "start_time": "2022-05-22T06:47:23.352Z"
   },
   {
    "duration": 0,
    "start_time": "2022-05-22T06:47:23.354Z"
   },
   {
    "duration": 0,
    "start_time": "2022-05-22T06:47:23.355Z"
   },
   {
    "duration": 0,
    "start_time": "2022-05-22T06:47:23.356Z"
   },
   {
    "duration": 0,
    "start_time": "2022-05-22T06:47:23.357Z"
   },
   {
    "duration": 0,
    "start_time": "2022-05-22T06:47:23.358Z"
   },
   {
    "duration": 0,
    "start_time": "2022-05-22T06:47:23.359Z"
   },
   {
    "duration": 1,
    "start_time": "2022-05-22T06:47:23.360Z"
   },
   {
    "duration": 0,
    "start_time": "2022-05-22T06:47:23.362Z"
   },
   {
    "duration": 159,
    "start_time": "2022-05-22T06:48:46.719Z"
   },
   {
    "duration": 2375,
    "start_time": "2022-05-22T06:50:49.810Z"
   },
   {
    "duration": 817,
    "start_time": "2022-05-22T06:50:52.187Z"
   },
   {
    "duration": 1324,
    "start_time": "2022-05-22T06:50:53.005Z"
   },
   {
    "duration": 6,
    "start_time": "2022-05-22T06:50:54.331Z"
   },
   {
    "duration": 19,
    "start_time": "2022-05-22T06:50:54.339Z"
   },
   {
    "duration": 53,
    "start_time": "2022-05-22T06:50:54.360Z"
   },
   {
    "duration": 17,
    "start_time": "2022-05-22T06:50:54.416Z"
   },
   {
    "duration": 17,
    "start_time": "2022-05-22T06:50:54.435Z"
   },
   {
    "duration": 18,
    "start_time": "2022-05-22T06:50:54.454Z"
   },
   {
    "duration": 19,
    "start_time": "2022-05-22T06:50:54.475Z"
   },
   {
    "duration": 43,
    "start_time": "2022-05-22T06:50:54.496Z"
   },
   {
    "duration": 23,
    "start_time": "2022-05-22T06:50:54.540Z"
   },
   {
    "duration": 134,
    "start_time": "2022-05-22T06:50:54.565Z"
   },
   {
    "duration": 58829,
    "start_time": "2022-05-22T06:50:54.700Z"
   },
   {
    "duration": 28,
    "start_time": "2022-05-22T06:51:53.531Z"
   },
   {
    "duration": 42,
    "start_time": "2022-05-22T06:51:53.561Z"
   },
   {
    "duration": 50,
    "start_time": "2022-05-22T06:51:53.605Z"
   },
   {
    "duration": 30,
    "start_time": "2022-05-22T06:51:53.657Z"
   },
   {
    "duration": 26,
    "start_time": "2022-05-22T06:51:53.689Z"
   },
   {
    "duration": 34,
    "start_time": "2022-05-22T06:51:53.717Z"
   },
   {
    "duration": 21,
    "start_time": "2022-05-22T06:51:53.754Z"
   },
   {
    "duration": 21,
    "start_time": "2022-05-22T06:51:53.777Z"
   },
   {
    "duration": 26,
    "start_time": "2022-05-22T06:51:53.800Z"
   },
   {
    "duration": 12,
    "start_time": "2022-05-22T06:51:53.828Z"
   },
   {
    "duration": 16,
    "start_time": "2022-05-22T06:51:53.842Z"
   },
   {
    "duration": 13,
    "start_time": "2022-05-22T06:51:53.860Z"
   },
   {
    "duration": 29,
    "start_time": "2022-05-22T06:51:53.875Z"
   },
   {
    "duration": 18,
    "start_time": "2022-05-22T06:51:53.909Z"
   },
   {
    "duration": 16,
    "start_time": "2022-05-22T06:51:53.929Z"
   },
   {
    "duration": 25,
    "start_time": "2022-05-22T06:51:53.947Z"
   },
   {
    "duration": 14,
    "start_time": "2022-05-22T06:51:53.974Z"
   },
   {
    "duration": 39,
    "start_time": "2022-05-22T06:51:53.990Z"
   },
   {
    "duration": 20,
    "start_time": "2022-05-22T06:51:54.031Z"
   },
   {
    "duration": 14,
    "start_time": "2022-05-22T06:51:54.053Z"
   },
   {
    "duration": 28,
    "start_time": "2022-05-22T06:51:54.069Z"
   },
   {
    "duration": 161,
    "start_time": "2022-05-22T06:51:54.099Z"
   },
   {
    "duration": 14,
    "start_time": "2022-05-22T06:51:54.262Z"
   },
   {
    "duration": 12,
    "start_time": "2022-05-22T06:51:54.278Z"
   },
   {
    "duration": 39,
    "start_time": "2022-05-22T06:51:54.292Z"
   },
   {
    "duration": 10,
    "start_time": "2022-05-22T06:51:54.332Z"
   },
   {
    "duration": 26,
    "start_time": "2022-05-22T06:51:54.344Z"
   },
   {
    "duration": 23,
    "start_time": "2022-05-22T06:51:54.372Z"
   },
   {
    "duration": 16,
    "start_time": "2022-05-22T06:51:54.396Z"
   },
   {
    "duration": 18,
    "start_time": "2022-05-22T06:51:54.413Z"
   },
   {
    "duration": 20,
    "start_time": "2022-05-22T06:51:54.433Z"
   },
   {
    "duration": 21,
    "start_time": "2022-05-22T06:51:54.455Z"
   },
   {
    "duration": 21,
    "start_time": "2022-05-22T06:51:54.478Z"
   },
   {
    "duration": 15,
    "start_time": "2022-05-22T06:51:54.501Z"
   },
   {
    "duration": 42,
    "start_time": "2022-05-22T06:51:54.517Z"
   },
   {
    "duration": 16,
    "start_time": "2022-05-22T06:51:54.561Z"
   },
   {
    "duration": 9,
    "start_time": "2022-05-22T06:51:54.579Z"
   },
   {
    "duration": 26,
    "start_time": "2022-05-22T06:51:54.589Z"
   },
   {
    "duration": 19,
    "start_time": "2022-05-22T06:51:54.617Z"
   },
   {
    "duration": 29,
    "start_time": "2022-05-22T06:51:54.639Z"
   },
   {
    "duration": 19,
    "start_time": "2022-05-22T06:51:54.670Z"
   },
   {
    "duration": 23,
    "start_time": "2022-05-22T06:51:54.691Z"
   },
   {
    "duration": 18,
    "start_time": "2022-05-22T06:51:54.716Z"
   },
   {
    "duration": 24,
    "start_time": "2022-05-22T06:51:54.735Z"
   },
   {
    "duration": 19,
    "start_time": "2022-05-22T06:51:54.760Z"
   },
   {
    "duration": 116,
    "start_time": "2022-05-22T06:51:54.781Z"
   },
   {
    "duration": 16,
    "start_time": "2022-05-22T06:51:54.899Z"
   },
   {
    "duration": 10,
    "start_time": "2022-05-22T06:51:54.917Z"
   },
   {
    "duration": 137,
    "start_time": "2022-05-22T06:51:54.929Z"
   },
   {
    "duration": 8,
    "start_time": "2022-05-22T06:51:55.068Z"
   },
   {
    "duration": 7177,
    "start_time": "2022-05-22T06:51:55.077Z"
   },
   {
    "duration": 804,
    "start_time": "2022-05-22T06:52:02.256Z"
   },
   {
    "duration": 65,
    "start_time": "2022-05-22T06:52:03.062Z"
   },
   {
    "duration": 137,
    "start_time": "2022-05-22T06:52:03.128Z"
   },
   {
    "duration": 89,
    "start_time": "2022-05-22T06:52:03.267Z"
   },
   {
    "duration": 100,
    "start_time": "2022-05-22T06:52:03.358Z"
   },
   {
    "duration": 259,
    "start_time": "2022-05-22T06:52:03.460Z"
   },
   {
    "duration": 10,
    "start_time": "2022-05-22T06:52:03.720Z"
   },
   {
    "duration": 77,
    "start_time": "2022-05-22T06:52:03.731Z"
   },
   {
    "duration": 31,
    "start_time": "2022-05-22T06:52:03.810Z"
   },
   {
    "duration": 113,
    "start_time": "2022-05-22T06:52:03.843Z"
   },
   {
    "duration": 16,
    "start_time": "2022-05-22T06:52:03.958Z"
   },
   {
    "duration": 11,
    "start_time": "2022-05-22T06:52:03.975Z"
   },
   {
    "duration": 140,
    "start_time": "2022-05-22T06:52:03.987Z"
   },
   {
    "duration": 46373,
    "start_time": "2022-05-22T06:52:04.129Z"
   },
   {
    "duration": 2374,
    "start_time": "2022-05-22T06:52:50.504Z"
   },
   {
    "duration": 164,
    "start_time": "2022-05-22T06:52:52.880Z"
   },
   {
    "duration": 149,
    "start_time": "2022-05-22T06:52:53.051Z"
   },
   {
    "duration": 832,
    "start_time": "2022-05-22T06:52:53.201Z"
   },
   {
    "duration": 73,
    "start_time": "2022-05-22T06:52:54.035Z"
   },
   {
    "duration": 53,
    "start_time": "2022-05-22T06:52:54.109Z"
   },
   {
    "duration": 191,
    "start_time": "2022-05-22T06:52:54.164Z"
   },
   {
    "duration": 235,
    "start_time": "2022-05-22T06:52:54.360Z"
   },
   {
    "duration": 10,
    "start_time": "2022-05-22T06:52:54.596Z"
   },
   {
    "duration": 2203,
    "start_time": "2022-05-22T06:52:54.607Z"
   },
   {
    "duration": 166,
    "start_time": "2022-05-22T06:52:56.811Z"
   },
   {
    "duration": 5,
    "start_time": "2022-05-22T06:52:56.979Z"
   },
   {
    "duration": 38,
    "start_time": "2022-05-22T06:52:56.986Z"
   },
   {
    "duration": 23,
    "start_time": "2022-05-22T06:52:57.026Z"
   },
   {
    "duration": 39,
    "start_time": "2022-05-22T06:52:57.050Z"
   },
   {
    "duration": 5,
    "start_time": "2022-05-22T06:52:57.091Z"
   },
   {
    "duration": 3309,
    "start_time": "2022-05-22T06:52:57.098Z"
   },
   {
    "duration": 191,
    "start_time": "2022-05-22T06:53:00.409Z"
   },
   {
    "duration": 10,
    "start_time": "2022-05-22T06:53:00.602Z"
   },
   {
    "duration": 45,
    "start_time": "2022-05-22T06:53:00.613Z"
   },
   {
    "duration": 4312,
    "start_time": "2022-05-22T06:53:00.660Z"
   },
   {
    "duration": 209,
    "start_time": "2022-05-22T06:53:04.974Z"
   },
   {
    "duration": 174,
    "start_time": "2022-05-22T06:53:05.187Z"
   },
   {
    "duration": 29,
    "start_time": "2022-05-22T06:53:05.363Z"
   },
   {
    "duration": 9,
    "start_time": "2022-05-22T06:53:05.393Z"
   },
   {
    "duration": 1440,
    "start_time": "2022-05-22T06:53:05.404Z"
   },
   {
    "duration": 72,
    "start_time": "2022-05-22T06:53:06.846Z"
   },
   {
    "duration": 4370,
    "start_time": "2022-05-22T06:53:06.919Z"
   },
   {
    "duration": 200,
    "start_time": "2022-05-22T06:53:11.291Z"
   },
   {
    "duration": 15,
    "start_time": "2022-05-22T06:55:41.795Z"
   },
   {
    "duration": 2383,
    "start_time": "2022-05-22T06:56:17.482Z"
   },
   {
    "duration": 843,
    "start_time": "2022-05-22T06:56:19.867Z"
   },
   {
    "duration": 1345,
    "start_time": "2022-05-22T06:56:20.712Z"
   },
   {
    "duration": 6,
    "start_time": "2022-05-22T06:56:22.060Z"
   },
   {
    "duration": 32,
    "start_time": "2022-05-22T06:56:22.067Z"
   },
   {
    "duration": 68,
    "start_time": "2022-05-22T06:56:22.101Z"
   },
   {
    "duration": 17,
    "start_time": "2022-05-22T06:56:22.170Z"
   },
   {
    "duration": 32,
    "start_time": "2022-05-22T06:56:22.189Z"
   },
   {
    "duration": 11,
    "start_time": "2022-05-22T06:56:22.223Z"
   },
   {
    "duration": 23,
    "start_time": "2022-05-22T06:56:22.237Z"
   },
   {
    "duration": 23,
    "start_time": "2022-05-22T06:56:22.261Z"
   },
   {
    "duration": 17,
    "start_time": "2022-05-22T06:56:22.285Z"
   },
   {
    "duration": 153,
    "start_time": "2022-05-22T06:56:22.303Z"
   },
   {
    "duration": 3,
    "start_time": "2022-05-22T06:56:22.458Z"
   },
   {
    "duration": 20,
    "start_time": "2022-05-22T06:56:22.462Z"
   },
   {
    "duration": 84,
    "start_time": "2022-05-22T06:56:22.484Z"
   },
   {
    "duration": 9,
    "start_time": "2022-05-22T06:56:22.570Z"
   },
   {
    "duration": 22,
    "start_time": "2022-05-22T06:56:22.581Z"
   },
   {
    "duration": 24,
    "start_time": "2022-05-22T06:56:22.606Z"
   },
   {
    "duration": 24,
    "start_time": "2022-05-22T06:56:22.632Z"
   },
   {
    "duration": 5,
    "start_time": "2022-05-22T06:56:22.657Z"
   },
   {
    "duration": 11,
    "start_time": "2022-05-22T06:56:22.664Z"
   },
   {
    "duration": 22,
    "start_time": "2022-05-22T06:56:22.677Z"
   },
   {
    "duration": 14,
    "start_time": "2022-05-22T06:56:22.700Z"
   },
   {
    "duration": 17,
    "start_time": "2022-05-22T06:56:22.716Z"
   },
   {
    "duration": 18,
    "start_time": "2022-05-22T06:56:22.735Z"
   },
   {
    "duration": 15,
    "start_time": "2022-05-22T06:56:22.755Z"
   },
   {
    "duration": 16,
    "start_time": "2022-05-22T06:56:22.774Z"
   },
   {
    "duration": 11,
    "start_time": "2022-05-22T06:56:22.792Z"
   },
   {
    "duration": 15,
    "start_time": "2022-05-22T06:56:22.805Z"
   },
   {
    "duration": 18,
    "start_time": "2022-05-22T06:56:22.822Z"
   },
   {
    "duration": 21,
    "start_time": "2022-05-22T06:56:22.841Z"
   },
   {
    "duration": 23,
    "start_time": "2022-05-22T06:56:22.863Z"
   },
   {
    "duration": 14,
    "start_time": "2022-05-22T06:56:22.888Z"
   },
   {
    "duration": 13,
    "start_time": "2022-05-22T06:56:40.637Z"
   },
   {
    "duration": 138,
    "start_time": "2022-05-22T06:56:46.281Z"
   },
   {
    "duration": 2647,
    "start_time": "2022-05-22T07:01:49.376Z"
   },
   {
    "duration": 882,
    "start_time": "2022-05-22T07:01:52.026Z"
   },
   {
    "duration": 1520,
    "start_time": "2022-05-22T07:01:52.910Z"
   },
   {
    "duration": 5,
    "start_time": "2022-05-22T07:01:54.434Z"
   },
   {
    "duration": 19,
    "start_time": "2022-05-22T07:01:54.441Z"
   },
   {
    "duration": 56,
    "start_time": "2022-05-22T07:01:54.462Z"
   },
   {
    "duration": 16,
    "start_time": "2022-05-22T07:01:54.520Z"
   },
   {
    "duration": 29,
    "start_time": "2022-05-22T07:01:54.539Z"
   },
   {
    "duration": 11,
    "start_time": "2022-05-22T07:01:54.569Z"
   },
   {
    "duration": 11,
    "start_time": "2022-05-22T07:01:54.582Z"
   },
   {
    "duration": 18,
    "start_time": "2022-05-22T07:01:54.595Z"
   },
   {
    "duration": 17,
    "start_time": "2022-05-22T07:01:54.615Z"
   },
   {
    "duration": 148,
    "start_time": "2022-05-22T07:01:54.634Z"
   },
   {
    "duration": 2,
    "start_time": "2022-05-22T07:01:54.784Z"
   },
   {
    "duration": 20,
    "start_time": "2022-05-22T07:01:56.213Z"
   },
   {
    "duration": 2627,
    "start_time": "2022-05-22T07:03:29.761Z"
   },
   {
    "duration": 824,
    "start_time": "2022-05-22T07:03:32.390Z"
   },
   {
    "duration": 1336,
    "start_time": "2022-05-22T07:03:33.217Z"
   },
   {
    "duration": 6,
    "start_time": "2022-05-22T07:03:34.557Z"
   },
   {
    "duration": 57,
    "start_time": "2022-05-22T07:03:34.564Z"
   },
   {
    "duration": 71,
    "start_time": "2022-05-22T07:03:34.623Z"
   },
   {
    "duration": 46,
    "start_time": "2022-05-22T07:03:34.696Z"
   },
   {
    "duration": 46,
    "start_time": "2022-05-22T07:03:34.744Z"
   },
   {
    "duration": 45,
    "start_time": "2022-05-22T07:03:34.792Z"
   },
   {
    "duration": 39,
    "start_time": "2022-05-22T07:03:34.841Z"
   },
   {
    "duration": 66,
    "start_time": "2022-05-22T07:03:34.883Z"
   },
   {
    "duration": 48,
    "start_time": "2022-05-22T07:03:34.950Z"
   },
   {
    "duration": 192,
    "start_time": "2022-05-22T07:03:35.000Z"
   },
   {
    "duration": 4,
    "start_time": "2022-05-22T07:03:35.194Z"
   },
   {
    "duration": 78,
    "start_time": "2022-05-22T07:03:35.200Z"
   },
   {
    "duration": 81,
    "start_time": "2022-05-22T07:03:35.280Z"
   },
   {
    "duration": 24,
    "start_time": "2022-05-22T07:03:35.363Z"
   },
   {
    "duration": 50,
    "start_time": "2022-05-22T07:03:35.389Z"
   },
   {
    "duration": 37,
    "start_time": "2022-05-22T07:03:35.441Z"
   },
   {
    "duration": 116,
    "start_time": "2022-05-22T07:03:35.480Z"
   },
   {
    "duration": 64,
    "start_time": "2022-05-22T07:03:35.598Z"
   },
   {
    "duration": 110,
    "start_time": "2022-05-22T07:03:35.665Z"
   },
   {
    "duration": 79,
    "start_time": "2022-05-22T07:03:35.777Z"
   },
   {
    "duration": 64,
    "start_time": "2022-05-22T07:03:35.858Z"
   },
   {
    "duration": 61,
    "start_time": "2022-05-22T07:03:35.924Z"
   },
   {
    "duration": 31,
    "start_time": "2022-05-22T07:03:35.989Z"
   },
   {
    "duration": 54,
    "start_time": "2022-05-22T07:03:36.023Z"
   },
   {
    "duration": 50,
    "start_time": "2022-05-22T07:03:36.085Z"
   },
   {
    "duration": 30,
    "start_time": "2022-05-22T07:03:36.138Z"
   },
   {
    "duration": 25,
    "start_time": "2022-05-22T07:03:36.171Z"
   },
   {
    "duration": 27,
    "start_time": "2022-05-22T07:03:36.198Z"
   },
   {
    "duration": 25,
    "start_time": "2022-05-22T07:03:36.227Z"
   },
   {
    "duration": 38,
    "start_time": "2022-05-22T07:03:36.254Z"
   },
   {
    "duration": 47,
    "start_time": "2022-05-22T07:03:36.294Z"
   },
   {
    "duration": 25,
    "start_time": "2022-05-22T07:03:36.343Z"
   },
   {
    "duration": 178,
    "start_time": "2022-05-22T07:03:36.370Z"
   },
   {
    "duration": 19,
    "start_time": "2022-05-22T07:03:36.551Z"
   },
   {
    "duration": 29,
    "start_time": "2022-05-22T07:03:36.572Z"
   },
   {
    "duration": 58,
    "start_time": "2022-05-22T07:03:36.604Z"
   },
   {
    "duration": 32,
    "start_time": "2022-05-22T07:03:36.664Z"
   },
   {
    "duration": 36,
    "start_time": "2022-05-22T07:03:36.697Z"
   },
   {
    "duration": 51,
    "start_time": "2022-05-22T07:03:36.735Z"
   },
   {
    "duration": 17,
    "start_time": "2022-05-22T07:03:36.788Z"
   },
   {
    "duration": 52,
    "start_time": "2022-05-22T07:03:36.806Z"
   },
   {
    "duration": 43,
    "start_time": "2022-05-22T07:03:36.859Z"
   },
   {
    "duration": 47,
    "start_time": "2022-05-22T07:03:36.904Z"
   },
   {
    "duration": 52,
    "start_time": "2022-05-22T07:03:36.952Z"
   },
   {
    "duration": 57,
    "start_time": "2022-05-22T07:03:37.006Z"
   },
   {
    "duration": 29,
    "start_time": "2022-05-22T07:03:37.065Z"
   },
   {
    "duration": 31,
    "start_time": "2022-05-22T07:03:37.096Z"
   },
   {
    "duration": 35,
    "start_time": "2022-05-22T07:03:37.129Z"
   },
   {
    "duration": 44,
    "start_time": "2022-05-22T07:03:37.166Z"
   },
   {
    "duration": 26,
    "start_time": "2022-05-22T07:03:37.212Z"
   },
   {
    "duration": 24,
    "start_time": "2022-05-22T07:03:37.240Z"
   },
   {
    "duration": 35,
    "start_time": "2022-05-22T07:03:37.266Z"
   },
   {
    "duration": 31,
    "start_time": "2022-05-22T07:03:37.303Z"
   },
   {
    "duration": 27,
    "start_time": "2022-05-22T07:03:37.336Z"
   },
   {
    "duration": 35,
    "start_time": "2022-05-22T07:03:37.365Z"
   },
   {
    "duration": 37,
    "start_time": "2022-05-22T07:03:37.402Z"
   },
   {
    "duration": 140,
    "start_time": "2022-05-22T07:03:37.441Z"
   },
   {
    "duration": 25,
    "start_time": "2022-05-22T07:03:37.583Z"
   },
   {
    "duration": 26,
    "start_time": "2022-05-22T07:03:37.610Z"
   },
   {
    "duration": 164,
    "start_time": "2022-05-22T07:03:37.639Z"
   },
   {
    "duration": 10,
    "start_time": "2022-05-22T07:03:37.805Z"
   },
   {
    "duration": 7675,
    "start_time": "2022-05-22T07:03:37.816Z"
   },
   {
    "duration": 871,
    "start_time": "2022-05-22T07:03:45.493Z"
   },
   {
    "duration": 68,
    "start_time": "2022-05-22T07:03:46.365Z"
   },
   {
    "duration": 152,
    "start_time": "2022-05-22T07:03:46.434Z"
   },
   {
    "duration": 73,
    "start_time": "2022-05-22T07:03:46.587Z"
   },
   {
    "duration": 193,
    "start_time": "2022-05-22T07:03:46.662Z"
   },
   {
    "duration": 263,
    "start_time": "2022-05-22T07:03:46.860Z"
   },
   {
    "duration": 9,
    "start_time": "2022-05-22T07:03:47.125Z"
   },
   {
    "duration": 57,
    "start_time": "2022-05-22T07:03:47.136Z"
   },
   {
    "duration": 33,
    "start_time": "2022-05-22T07:03:47.195Z"
   },
   {
    "duration": 136,
    "start_time": "2022-05-22T07:03:47.230Z"
   },
   {
    "duration": 19,
    "start_time": "2022-05-22T07:03:47.368Z"
   },
   {
    "duration": 10,
    "start_time": "2022-05-22T07:03:47.389Z"
   },
   {
    "duration": 159,
    "start_time": "2022-05-22T07:03:47.401Z"
   },
   {
    "duration": 49483,
    "start_time": "2022-05-22T07:03:47.562Z"
   },
   {
    "duration": 2354,
    "start_time": "2022-05-22T07:04:37.047Z"
   },
   {
    "duration": 182,
    "start_time": "2022-05-22T07:04:39.404Z"
   },
   {
    "duration": 144,
    "start_time": "2022-05-22T07:04:39.592Z"
   },
   {
    "duration": 832,
    "start_time": "2022-05-22T07:04:39.738Z"
   },
   {
    "duration": 65,
    "start_time": "2022-05-22T07:04:40.572Z"
   },
   {
    "duration": 116,
    "start_time": "2022-05-22T07:04:40.639Z"
   },
   {
    "duration": 102,
    "start_time": "2022-05-22T07:04:40.757Z"
   },
   {
    "duration": 328,
    "start_time": "2022-05-22T07:04:40.861Z"
   },
   {
    "duration": 9,
    "start_time": "2022-05-22T07:04:41.191Z"
   },
   {
    "duration": 2187,
    "start_time": "2022-05-22T07:04:41.202Z"
   },
   {
    "duration": 173,
    "start_time": "2022-05-22T07:04:43.390Z"
   },
   {
    "duration": 8,
    "start_time": "2022-05-22T07:04:43.565Z"
   },
   {
    "duration": 13,
    "start_time": "2022-05-22T07:04:43.575Z"
   },
   {
    "duration": 15,
    "start_time": "2022-05-22T07:04:43.591Z"
   },
   {
    "duration": 35,
    "start_time": "2022-05-22T07:04:43.608Z"
   },
   {
    "duration": 5,
    "start_time": "2022-05-22T07:04:43.646Z"
   },
   {
    "duration": 3376,
    "start_time": "2022-05-22T07:04:43.652Z"
   },
   {
    "duration": 193,
    "start_time": "2022-05-22T07:04:47.030Z"
   },
   {
    "duration": 11,
    "start_time": "2022-05-22T07:04:47.225Z"
   },
   {
    "duration": 20,
    "start_time": "2022-05-22T07:04:47.238Z"
   },
   {
    "duration": 4572,
    "start_time": "2022-05-22T07:04:47.260Z"
   },
   {
    "duration": 210,
    "start_time": "2022-05-22T07:04:51.833Z"
   },
   {
    "duration": 149,
    "start_time": "2022-05-22T07:04:52.044Z"
   },
   {
    "duration": 33,
    "start_time": "2022-05-22T07:04:52.195Z"
   },
   {
    "duration": 30,
    "start_time": "2022-05-22T07:04:52.230Z"
   },
   {
    "duration": 1520,
    "start_time": "2022-05-22T07:04:52.262Z"
   },
   {
    "duration": 410,
    "start_time": "2022-05-22T07:04:53.783Z"
   },
   {
    "duration": 4580,
    "start_time": "2022-05-22T07:04:54.195Z"
   },
   {
    "duration": 205,
    "start_time": "2022-05-22T07:04:58.776Z"
   },
   {
    "duration": 30,
    "start_time": "2022-05-22T07:04:58.983Z"
   },
   {
    "duration": 17,
    "start_time": "2022-05-22T07:04:59.015Z"
   },
   {
    "duration": 1356845,
    "start_time": "2022-05-22T07:06:59.845Z"
   },
   {
    "duration": 1021,
    "start_time": "2022-05-22T07:51:32.418Z"
   },
   {
    "duration": 53,
    "start_time": "2022-05-22T07:51:33.457Z"
   },
   {
    "duration": 132,
    "start_time": "2022-05-22T07:51:46.157Z"
   },
   {
    "duration": 96,
    "start_time": "2022-05-22T07:51:59.358Z"
   },
   {
    "duration": 11,
    "start_time": "2022-05-22T07:52:00.880Z"
   },
   {
    "duration": 127,
    "start_time": "2022-05-22T07:52:32.301Z"
   },
   {
    "duration": 2450,
    "start_time": "2022-05-22T07:52:41.704Z"
   },
   {
    "duration": 854,
    "start_time": "2022-05-22T07:52:44.157Z"
   },
   {
    "duration": 1416,
    "start_time": "2022-05-22T07:52:45.014Z"
   },
   {
    "duration": 6,
    "start_time": "2022-05-22T07:52:46.433Z"
   },
   {
    "duration": 4,
    "start_time": "2022-05-22T07:52:46.441Z"
   },
   {
    "duration": 49,
    "start_time": "2022-05-22T07:52:46.447Z"
   },
   {
    "duration": 18,
    "start_time": "2022-05-22T07:52:46.498Z"
   },
   {
    "duration": 16,
    "start_time": "2022-05-22T07:52:46.518Z"
   },
   {
    "duration": 11,
    "start_time": "2022-05-22T07:52:46.536Z"
   },
   {
    "duration": 12,
    "start_time": "2022-05-22T07:52:46.553Z"
   },
   {
    "duration": 7,
    "start_time": "2022-05-22T07:52:46.567Z"
   },
   {
    "duration": 8,
    "start_time": "2022-05-22T07:52:46.576Z"
   },
   {
    "duration": 174,
    "start_time": "2022-05-22T07:52:46.586Z"
   },
   {
    "duration": 3,
    "start_time": "2022-05-22T07:52:46.762Z"
   },
   {
    "duration": 26,
    "start_time": "2022-05-22T07:52:46.766Z"
   },
   {
    "duration": 62,
    "start_time": "2022-05-22T07:52:46.794Z"
   },
   {
    "duration": 4,
    "start_time": "2022-05-22T07:52:46.858Z"
   },
   {
    "duration": 5,
    "start_time": "2022-05-22T07:52:46.864Z"
   },
   {
    "duration": 9,
    "start_time": "2022-05-22T07:52:46.870Z"
   },
   {
    "duration": 14,
    "start_time": "2022-05-22T07:52:46.880Z"
   },
   {
    "duration": 3,
    "start_time": "2022-05-22T07:52:46.896Z"
   },
   {
    "duration": 7,
    "start_time": "2022-05-22T07:52:46.901Z"
   },
   {
    "duration": 8,
    "start_time": "2022-05-22T07:52:46.911Z"
   },
   {
    "duration": 33,
    "start_time": "2022-05-22T07:52:46.920Z"
   },
   {
    "duration": 8,
    "start_time": "2022-05-22T07:52:46.955Z"
   },
   {
    "duration": 10,
    "start_time": "2022-05-22T07:52:46.965Z"
   },
   {
    "duration": 7,
    "start_time": "2022-05-22T07:52:46.977Z"
   },
   {
    "duration": 14,
    "start_time": "2022-05-22T07:52:46.988Z"
   },
   {
    "duration": 9,
    "start_time": "2022-05-22T07:52:47.003Z"
   },
   {
    "duration": 14,
    "start_time": "2022-05-22T07:52:47.013Z"
   },
   {
    "duration": 25,
    "start_time": "2022-05-22T07:52:47.028Z"
   },
   {
    "duration": 6,
    "start_time": "2022-05-22T07:52:47.055Z"
   },
   {
    "duration": 9,
    "start_time": "2022-05-22T07:52:47.063Z"
   },
   {
    "duration": 10,
    "start_time": "2022-05-22T07:52:47.073Z"
   },
   {
    "duration": 9,
    "start_time": "2022-05-22T07:52:47.085Z"
   },
   {
    "duration": 180,
    "start_time": "2022-05-22T07:52:47.096Z"
   },
   {
    "duration": 16,
    "start_time": "2022-05-22T07:52:47.277Z"
   },
   {
    "duration": 7,
    "start_time": "2022-05-22T07:52:47.295Z"
   },
   {
    "duration": 48,
    "start_time": "2022-05-22T07:52:47.304Z"
   },
   {
    "duration": 11,
    "start_time": "2022-05-22T07:52:47.354Z"
   },
   {
    "duration": 13,
    "start_time": "2022-05-22T07:52:47.375Z"
   },
   {
    "duration": 13,
    "start_time": "2022-05-22T07:52:47.390Z"
   },
   {
    "duration": 12,
    "start_time": "2022-05-22T07:52:47.405Z"
   },
   {
    "duration": 34,
    "start_time": "2022-05-22T07:52:47.419Z"
   },
   {
    "duration": 13,
    "start_time": "2022-05-22T07:52:47.455Z"
   },
   {
    "duration": 12,
    "start_time": "2022-05-22T07:52:47.470Z"
   },
   {
    "duration": 13,
    "start_time": "2022-05-22T07:52:47.483Z"
   },
   {
    "duration": 2,
    "start_time": "2022-05-22T07:52:47.498Z"
   },
   {
    "duration": 4,
    "start_time": "2022-05-22T07:52:47.502Z"
   },
   {
    "duration": 7,
    "start_time": "2022-05-22T07:52:47.508Z"
   },
   {
    "duration": 35,
    "start_time": "2022-05-22T07:52:47.517Z"
   },
   {
    "duration": 11,
    "start_time": "2022-05-22T07:52:47.554Z"
   },
   {
    "duration": 7,
    "start_time": "2022-05-22T07:52:47.567Z"
   },
   {
    "duration": 4,
    "start_time": "2022-05-22T07:52:47.575Z"
   },
   {
    "duration": 6,
    "start_time": "2022-05-22T07:52:47.581Z"
   },
   {
    "duration": 7,
    "start_time": "2022-05-22T07:52:47.588Z"
   },
   {
    "duration": 7,
    "start_time": "2022-05-22T07:52:47.596Z"
   },
   {
    "duration": 7,
    "start_time": "2022-05-22T07:52:47.605Z"
   },
   {
    "duration": 41,
    "start_time": "2022-05-22T07:52:47.613Z"
   },
   {
    "duration": 129,
    "start_time": "2022-05-22T07:52:47.655Z"
   },
   {
    "duration": 22,
    "start_time": "2022-05-22T07:52:47.785Z"
   },
   {
    "duration": 10,
    "start_time": "2022-05-22T07:52:47.809Z"
   },
   {
    "duration": 169,
    "start_time": "2022-05-22T07:52:47.821Z"
   },
   {
    "duration": 13207,
    "start_time": "2022-05-22T07:52:47.991Z"
   },
   {
    "duration": 584,
    "start_time": "2022-05-22T07:53:01.200Z"
   },
   {
    "duration": 50,
    "start_time": "2022-05-22T07:53:01.786Z"
   },
   {
    "duration": 162,
    "start_time": "2022-05-22T07:53:01.838Z"
   },
   {
    "duration": 63,
    "start_time": "2022-05-22T07:53:02.003Z"
   },
   {
    "duration": 92,
    "start_time": "2022-05-22T07:53:02.068Z"
   },
   {
    "duration": 321,
    "start_time": "2022-05-22T07:53:02.162Z"
   },
   {
    "duration": 2327,
    "start_time": "2022-05-22T07:53:45.915Z"
   },
   {
    "duration": 867,
    "start_time": "2022-05-22T07:53:48.245Z"
   },
   {
    "duration": 1353,
    "start_time": "2022-05-22T07:53:49.114Z"
   },
   {
    "duration": 5,
    "start_time": "2022-05-22T07:53:50.470Z"
   },
   {
    "duration": 8,
    "start_time": "2022-05-22T07:53:50.477Z"
   },
   {
    "duration": 44,
    "start_time": "2022-05-22T07:53:50.487Z"
   },
   {
    "duration": 17,
    "start_time": "2022-05-22T07:53:50.532Z"
   },
   {
    "duration": 11,
    "start_time": "2022-05-22T07:53:50.551Z"
   },
   {
    "duration": 13,
    "start_time": "2022-05-22T07:53:50.564Z"
   },
   {
    "duration": 10,
    "start_time": "2022-05-22T07:53:50.580Z"
   },
   {
    "duration": 6,
    "start_time": "2022-05-22T07:53:50.591Z"
   },
   {
    "duration": 7,
    "start_time": "2022-05-22T07:53:50.599Z"
   },
   {
    "duration": 175,
    "start_time": "2022-05-22T07:53:50.608Z"
   },
   {
    "duration": 3,
    "start_time": "2022-05-22T07:53:50.784Z"
   },
   {
    "duration": 23,
    "start_time": "2022-05-22T07:53:50.788Z"
   },
   {
    "duration": 54,
    "start_time": "2022-05-22T07:53:50.812Z"
   },
   {
    "duration": 5,
    "start_time": "2022-05-22T07:53:50.867Z"
   },
   {
    "duration": 5,
    "start_time": "2022-05-22T07:53:50.873Z"
   },
   {
    "duration": 5,
    "start_time": "2022-05-22T07:53:50.880Z"
   },
   {
    "duration": 13,
    "start_time": "2022-05-22T07:53:50.887Z"
   },
   {
    "duration": 2,
    "start_time": "2022-05-22T07:53:50.902Z"
   },
   {
    "duration": 6,
    "start_time": "2022-05-22T07:53:50.906Z"
   },
   {
    "duration": 42,
    "start_time": "2022-05-22T07:53:50.913Z"
   },
   {
    "duration": 6,
    "start_time": "2022-05-22T07:53:50.957Z"
   },
   {
    "duration": 7,
    "start_time": "2022-05-22T07:53:50.965Z"
   },
   {
    "duration": 6,
    "start_time": "2022-05-22T07:53:50.973Z"
   },
   {
    "duration": 5,
    "start_time": "2022-05-22T07:53:50.980Z"
   },
   {
    "duration": 5,
    "start_time": "2022-05-22T07:53:50.988Z"
   },
   {
    "duration": 5,
    "start_time": "2022-05-22T07:53:50.994Z"
   },
   {
    "duration": 8,
    "start_time": "2022-05-22T07:53:51.000Z"
   },
   {
    "duration": 50,
    "start_time": "2022-05-22T07:53:51.009Z"
   },
   {
    "duration": 8,
    "start_time": "2022-05-22T07:53:51.060Z"
   },
   {
    "duration": 10,
    "start_time": "2022-05-22T07:53:51.070Z"
   },
   {
    "duration": 8,
    "start_time": "2022-05-22T07:53:51.082Z"
   },
   {
    "duration": 13,
    "start_time": "2022-05-22T07:53:51.091Z"
   },
   {
    "duration": 166,
    "start_time": "2022-05-22T07:53:51.105Z"
   },
   {
    "duration": 14,
    "start_time": "2022-05-22T07:53:51.273Z"
   },
   {
    "duration": 6,
    "start_time": "2022-05-22T07:53:51.289Z"
   },
   {
    "duration": 27,
    "start_time": "2022-05-22T07:53:51.296Z"
   },
   {
    "duration": 28,
    "start_time": "2022-05-22T07:53:51.325Z"
   },
   {
    "duration": 11,
    "start_time": "2022-05-22T07:53:51.354Z"
   },
   {
    "duration": 11,
    "start_time": "2022-05-22T07:53:51.366Z"
   },
   {
    "duration": 10,
    "start_time": "2022-05-22T07:53:51.379Z"
   },
   {
    "duration": 7,
    "start_time": "2022-05-22T07:53:51.391Z"
   },
   {
    "duration": 12,
    "start_time": "2022-05-22T07:53:51.399Z"
   },
   {
    "duration": 48,
    "start_time": "2022-05-22T07:53:51.413Z"
   },
   {
    "duration": 13,
    "start_time": "2022-05-22T07:53:51.463Z"
   },
   {
    "duration": 3,
    "start_time": "2022-05-22T07:53:51.477Z"
   },
   {
    "duration": 6,
    "start_time": "2022-05-22T07:53:51.481Z"
   },
   {
    "duration": 8,
    "start_time": "2022-05-22T07:53:51.488Z"
   },
   {
    "duration": 5,
    "start_time": "2022-05-22T07:53:51.498Z"
   },
   {
    "duration": 13,
    "start_time": "2022-05-22T07:53:51.504Z"
   },
   {
    "duration": 7,
    "start_time": "2022-05-22T07:53:51.518Z"
   },
   {
    "duration": 4,
    "start_time": "2022-05-22T07:53:51.551Z"
   },
   {
    "duration": 6,
    "start_time": "2022-05-22T07:53:51.556Z"
   },
   {
    "duration": 8,
    "start_time": "2022-05-22T07:53:51.563Z"
   },
   {
    "duration": 6,
    "start_time": "2022-05-22T07:53:51.573Z"
   },
   {
    "duration": 6,
    "start_time": "2022-05-22T07:53:51.580Z"
   },
   {
    "duration": 5,
    "start_time": "2022-05-22T07:53:51.587Z"
   },
   {
    "duration": 140,
    "start_time": "2022-05-22T07:53:51.594Z"
   },
   {
    "duration": 27,
    "start_time": "2022-05-22T07:53:51.735Z"
   },
   {
    "duration": 9,
    "start_time": "2022-05-22T07:53:51.764Z"
   },
   {
    "duration": 146,
    "start_time": "2022-05-22T07:53:51.774Z"
   },
   {
    "duration": 167512,
    "start_time": "2022-05-22T07:53:59.932Z"
   },
   {
    "duration": 1383,
    "start_time": "2022-05-22T07:58:49.840Z"
   },
   {
    "duration": 109,
    "start_time": "2022-05-22T07:58:52.229Z"
   },
   {
    "duration": 44,
    "start_time": "2022-05-22T07:58:57.809Z"
   },
   {
    "duration": 15,
    "start_time": "2022-05-22T07:58:59.149Z"
   },
   {
    "duration": 127,
    "start_time": "2022-05-22T07:59:40.700Z"
   },
   {
    "duration": 10,
    "start_time": "2022-05-22T08:01:33.326Z"
   },
   {
    "duration": 52,
    "start_time": "2022-05-22T08:01:57.009Z"
   },
   {
    "duration": 42,
    "start_time": "2022-05-22T08:02:01.750Z"
   },
   {
    "duration": 113,
    "start_time": "2022-05-22T08:03:22.074Z"
   },
   {
    "duration": 19,
    "start_time": "2022-05-22T08:03:36.279Z"
   },
   {
    "duration": 10,
    "start_time": "2022-05-22T08:03:46.011Z"
   },
   {
    "duration": 134,
    "start_time": "2022-05-22T08:03:54.811Z"
   },
   {
    "duration": 21,
    "start_time": "2022-05-22T08:04:33.552Z"
   },
   {
    "duration": 10,
    "start_time": "2022-05-22T08:04:37.977Z"
   },
   {
    "duration": 287046,
    "start_time": "2022-05-22T08:06:15.463Z"
   },
   {
    "duration": 1182,
    "start_time": "2022-05-22T08:11:53.646Z"
   },
   {
    "duration": 99,
    "start_time": "2022-05-22T08:11:56.139Z"
   },
   {
    "duration": 874,
    "start_time": "2022-05-22T08:13:29.242Z"
   },
   {
    "duration": 70,
    "start_time": "2022-05-22T08:13:36.934Z"
   },
   {
    "duration": 28,
    "start_time": "2022-05-22T08:14:32.398Z"
   },
   {
    "duration": 12,
    "start_time": "2022-05-22T08:14:33.817Z"
   },
   {
    "duration": 12,
    "start_time": "2022-05-22T08:16:33.671Z"
   },
   {
    "duration": 2197,
    "start_time": "2022-05-22T08:16:50.324Z"
   },
   {
    "duration": 178,
    "start_time": "2022-05-22T08:16:55.341Z"
   },
   {
    "duration": 7,
    "start_time": "2022-05-22T08:17:05.393Z"
   },
   {
    "duration": 5,
    "start_time": "2022-05-22T08:17:06.016Z"
   },
   {
    "duration": 4,
    "start_time": "2022-05-22T08:17:07.574Z"
   },
   {
    "duration": 17,
    "start_time": "2022-05-22T08:17:08.193Z"
   },
   {
    "duration": 7,
    "start_time": "2022-05-22T08:17:08.901Z"
   },
   {
    "duration": 3383,
    "start_time": "2022-05-22T08:17:12.132Z"
   },
   {
    "duration": 199,
    "start_time": "2022-05-22T08:17:15.518Z"
   },
   {
    "duration": 10,
    "start_time": "2022-05-22T08:17:15.719Z"
   },
   {
    "duration": 9,
    "start_time": "2022-05-22T08:17:16.521Z"
   },
   {
    "duration": 1561,
    "start_time": "2022-05-22T08:18:13.197Z"
   },
   {
    "duration": 84,
    "start_time": "2022-05-22T08:18:26.497Z"
   },
   {
    "duration": 37,
    "start_time": "2022-05-22T08:18:55.279Z"
   },
   {
    "duration": 11,
    "start_time": "2022-05-22T08:18:56.884Z"
   },
   {
    "duration": 1454,
    "start_time": "2022-05-22T08:19:02.105Z"
   },
   {
    "duration": 71,
    "start_time": "2022-05-22T08:19:14.520Z"
   },
   {
    "duration": 4361,
    "start_time": "2022-05-22T08:19:40.064Z"
   },
   {
    "duration": 37,
    "start_time": "2022-05-22T08:20:00.753Z"
   },
   {
    "duration": 11,
    "start_time": "2022-05-22T08:20:08.968Z"
   },
   {
    "duration": 1003,
    "start_time": "2022-05-22T08:21:39.261Z"
   },
   {
    "duration": 1112,
    "start_time": "2022-05-22T08:22:00.863Z"
   },
   {
    "duration": 2041,
    "start_time": "2022-05-22T08:22:15.115Z"
   },
   {
    "duration": 1464,
    "start_time": "2022-05-22T08:23:00.357Z"
   },
   {
    "duration": 1721,
    "start_time": "2022-05-22T08:23:07.281Z"
   },
   {
    "duration": 1941,
    "start_time": "2022-05-22T08:23:20.509Z"
   },
   {
    "duration": 1401,
    "start_time": "2022-05-22T08:23:28.802Z"
   },
   {
    "duration": 1582,
    "start_time": "2022-05-22T08:23:35.178Z"
   },
   {
    "duration": 72,
    "start_time": "2022-05-22T08:23:43.717Z"
   },
   {
    "duration": 1640,
    "start_time": "2022-05-22T08:28:57.722Z"
   },
   {
    "duration": 1428,
    "start_time": "2022-05-22T08:29:07.279Z"
   },
   {
    "duration": 71,
    "start_time": "2022-05-22T08:29:11.476Z"
   },
   {
    "duration": 4455,
    "start_time": "2022-05-22T08:30:53.220Z"
   },
   {
    "duration": 206,
    "start_time": "2022-05-22T08:30:57.676Z"
   },
   {
    "duration": 2258,
    "start_time": "2022-05-22T08:41:55.096Z"
   },
   {
    "duration": 846,
    "start_time": "2022-05-22T08:41:57.356Z"
   },
   {
    "duration": 1299,
    "start_time": "2022-05-22T08:41:58.204Z"
   },
   {
    "duration": 4,
    "start_time": "2022-05-22T08:41:59.506Z"
   },
   {
    "duration": 9,
    "start_time": "2022-05-22T08:41:59.512Z"
   },
   {
    "duration": 41,
    "start_time": "2022-05-22T08:41:59.522Z"
   },
   {
    "duration": 15,
    "start_time": "2022-05-22T08:41:59.565Z"
   },
   {
    "duration": 12,
    "start_time": "2022-05-22T08:41:59.582Z"
   },
   {
    "duration": 10,
    "start_time": "2022-05-22T08:41:59.596Z"
   },
   {
    "duration": 9,
    "start_time": "2022-05-22T08:41:59.608Z"
   },
   {
    "duration": 10,
    "start_time": "2022-05-22T08:41:59.619Z"
   },
   {
    "duration": 25,
    "start_time": "2022-05-22T08:41:59.631Z"
   },
   {
    "duration": 148,
    "start_time": "2022-05-22T08:41:59.657Z"
   },
   {
    "duration": 2,
    "start_time": "2022-05-22T08:41:59.807Z"
   },
   {
    "duration": 24,
    "start_time": "2022-05-22T08:41:59.811Z"
   },
   {
    "duration": 52,
    "start_time": "2022-05-22T08:41:59.837Z"
   },
   {
    "duration": 5,
    "start_time": "2022-05-22T08:41:59.891Z"
   },
   {
    "duration": 5,
    "start_time": "2022-05-22T08:41:59.898Z"
   },
   {
    "duration": 8,
    "start_time": "2022-05-22T08:41:59.905Z"
   },
   {
    "duration": 15,
    "start_time": "2022-05-22T08:41:59.914Z"
   },
   {
    "duration": 2,
    "start_time": "2022-05-22T08:41:59.952Z"
   },
   {
    "duration": 13,
    "start_time": "2022-05-22T08:41:59.956Z"
   },
   {
    "duration": 8,
    "start_time": "2022-05-22T08:41:59.971Z"
   },
   {
    "duration": 10,
    "start_time": "2022-05-22T08:41:59.980Z"
   },
   {
    "duration": 10,
    "start_time": "2022-05-22T08:41:59.992Z"
   },
   {
    "duration": 17,
    "start_time": "2022-05-22T08:42:00.004Z"
   },
   {
    "duration": 13,
    "start_time": "2022-05-22T08:42:00.023Z"
   },
   {
    "duration": 6,
    "start_time": "2022-05-22T08:42:00.041Z"
   },
   {
    "duration": 6,
    "start_time": "2022-05-22T08:42:00.052Z"
   },
   {
    "duration": 16,
    "start_time": "2022-05-22T08:42:00.060Z"
   },
   {
    "duration": 14,
    "start_time": "2022-05-22T08:42:00.078Z"
   },
   {
    "duration": 12,
    "start_time": "2022-05-22T08:42:00.094Z"
   },
   {
    "duration": 19,
    "start_time": "2022-05-22T08:42:00.108Z"
   },
   {
    "duration": 19,
    "start_time": "2022-05-22T08:42:00.128Z"
   },
   {
    "duration": 17,
    "start_time": "2022-05-22T08:42:00.148Z"
   },
   {
    "duration": 189,
    "start_time": "2022-05-22T08:42:00.167Z"
   },
   {
    "duration": 15,
    "start_time": "2022-05-22T08:42:00.358Z"
   },
   {
    "duration": 14,
    "start_time": "2022-05-22T08:42:00.374Z"
   },
   {
    "duration": 29,
    "start_time": "2022-05-22T08:42:00.390Z"
   },
   {
    "duration": 10,
    "start_time": "2022-05-22T08:42:00.421Z"
   },
   {
    "duration": 27,
    "start_time": "2022-05-22T08:42:00.433Z"
   },
   {
    "duration": 28,
    "start_time": "2022-05-22T08:42:00.461Z"
   },
   {
    "duration": 11,
    "start_time": "2022-05-22T08:42:00.491Z"
   },
   {
    "duration": 21,
    "start_time": "2022-05-22T08:42:00.504Z"
   },
   {
    "duration": 41,
    "start_time": "2022-05-22T08:42:00.527Z"
   },
   {
    "duration": 20,
    "start_time": "2022-05-22T08:42:00.570Z"
   },
   {
    "duration": 34,
    "start_time": "2022-05-22T08:42:00.592Z"
   },
   {
    "duration": 8,
    "start_time": "2022-05-22T08:42:00.628Z"
   },
   {
    "duration": 26,
    "start_time": "2022-05-22T08:42:00.637Z"
   },
   {
    "duration": 24,
    "start_time": "2022-05-22T08:42:00.665Z"
   },
   {
    "duration": 31,
    "start_time": "2022-05-22T08:42:00.690Z"
   },
   {
    "duration": 25,
    "start_time": "2022-05-22T08:42:00.723Z"
   },
   {
    "duration": 11,
    "start_time": "2022-05-22T08:42:00.750Z"
   },
   {
    "duration": 19,
    "start_time": "2022-05-22T08:42:00.763Z"
   },
   {
    "duration": 18,
    "start_time": "2022-05-22T08:42:00.784Z"
   },
   {
    "duration": 27,
    "start_time": "2022-05-22T08:42:00.804Z"
   },
   {
    "duration": 22,
    "start_time": "2022-05-22T08:42:00.832Z"
   },
   {
    "duration": 8,
    "start_time": "2022-05-22T08:42:00.856Z"
   },
   {
    "duration": 24,
    "start_time": "2022-05-22T08:42:00.865Z"
   },
   {
    "duration": 127,
    "start_time": "2022-05-22T08:42:00.890Z"
   },
   {
    "duration": 21,
    "start_time": "2022-05-22T08:42:01.019Z"
   },
   {
    "duration": 10,
    "start_time": "2022-05-22T08:42:01.052Z"
   },
   {
    "duration": 154,
    "start_time": "2022-05-22T08:42:01.064Z"
   },
   {
    "duration": 7917,
    "start_time": "2022-05-22T08:42:01.220Z"
   },
   {
    "duration": 1370,
    "start_time": "2022-05-22T08:42:09.138Z"
   },
   {
    "duration": 115,
    "start_time": "2022-05-22T08:42:10.510Z"
   },
   {
    "duration": 132,
    "start_time": "2022-05-22T08:42:10.627Z"
   },
   {
    "duration": 35,
    "start_time": "2022-05-22T08:42:10.761Z"
   },
   {
    "duration": 97,
    "start_time": "2022-05-22T08:42:10.856Z"
   },
   {
    "duration": 227,
    "start_time": "2022-05-22T08:42:10.955Z"
   },
   {
    "duration": 9,
    "start_time": "2022-05-22T08:42:11.184Z"
   },
   {
    "duration": 64,
    "start_time": "2022-05-22T08:42:11.194Z"
   },
   {
    "duration": 33,
    "start_time": "2022-05-22T08:42:11.260Z"
   },
   {
    "duration": 129,
    "start_time": "2022-05-22T08:42:11.294Z"
   },
   {
    "duration": 28,
    "start_time": "2022-05-22T08:42:11.424Z"
   },
   {
    "duration": 10,
    "start_time": "2022-05-22T08:42:11.454Z"
   },
   {
    "duration": 171,
    "start_time": "2022-05-22T08:42:11.466Z"
   },
   {
    "duration": 2223,
    "start_time": "2022-05-22T09:01:06.896Z"
   },
   {
    "duration": 805,
    "start_time": "2022-05-22T09:01:09.122Z"
   },
   {
    "duration": 1399,
    "start_time": "2022-05-22T09:01:09.929Z"
   },
   {
    "duration": 1349,
    "start_time": "2022-05-22T09:01:11.331Z"
   },
   {
    "duration": 3,
    "start_time": "2022-05-22T09:01:12.682Z"
   },
   {
    "duration": 43,
    "start_time": "2022-05-22T09:01:12.686Z"
   },
   {
    "duration": 27,
    "start_time": "2022-05-22T09:01:12.731Z"
   },
   {
    "duration": 27,
    "start_time": "2022-05-22T09:01:12.760Z"
   },
   {
    "duration": 14,
    "start_time": "2022-05-22T09:01:12.789Z"
   },
   {
    "duration": 10,
    "start_time": "2022-05-22T09:01:12.806Z"
   },
   {
    "duration": 7,
    "start_time": "2022-05-22T09:01:12.817Z"
   },
   {
    "duration": 30,
    "start_time": "2022-05-22T09:01:12.826Z"
   },
   {
    "duration": 148,
    "start_time": "2022-05-22T09:01:12.858Z"
   },
   {
    "duration": 2,
    "start_time": "2022-05-22T09:01:13.008Z"
   },
   {
    "duration": 26,
    "start_time": "2022-05-22T09:01:13.012Z"
   },
   {
    "duration": 54,
    "start_time": "2022-05-22T09:01:13.039Z"
   },
   {
    "duration": 5,
    "start_time": "2022-05-22T09:01:13.095Z"
   },
   {
    "duration": 13,
    "start_time": "2022-05-22T09:01:13.102Z"
   },
   {
    "duration": 6,
    "start_time": "2022-05-22T09:01:13.117Z"
   },
   {
    "duration": 30,
    "start_time": "2022-05-22T09:01:13.125Z"
   },
   {
    "duration": 2,
    "start_time": "2022-05-22T09:01:13.157Z"
   },
   {
    "duration": 12,
    "start_time": "2022-05-22T09:01:13.161Z"
   },
   {
    "duration": 8,
    "start_time": "2022-05-22T09:01:13.174Z"
   },
   {
    "duration": 12,
    "start_time": "2022-05-22T09:01:13.185Z"
   },
   {
    "duration": 11,
    "start_time": "2022-05-22T09:01:13.199Z"
   },
   {
    "duration": 12,
    "start_time": "2022-05-22T09:01:13.212Z"
   },
   {
    "duration": 6,
    "start_time": "2022-05-22T09:01:13.226Z"
   },
   {
    "duration": 6,
    "start_time": "2022-05-22T09:01:13.256Z"
   },
   {
    "duration": 12,
    "start_time": "2022-05-22T09:01:13.264Z"
   },
   {
    "duration": 10,
    "start_time": "2022-05-22T09:01:13.278Z"
   },
   {
    "duration": 7,
    "start_time": "2022-05-22T09:01:13.289Z"
   },
   {
    "duration": 8,
    "start_time": "2022-05-22T09:01:13.298Z"
   },
   {
    "duration": 11,
    "start_time": "2022-05-22T09:01:13.307Z"
   },
   {
    "duration": 34,
    "start_time": "2022-05-22T09:01:13.319Z"
   },
   {
    "duration": 9,
    "start_time": "2022-05-22T09:01:13.354Z"
   },
   {
    "duration": 151,
    "start_time": "2022-05-22T09:01:13.365Z"
   },
   {
    "duration": 15,
    "start_time": "2022-05-22T09:01:13.518Z"
   },
   {
    "duration": 21,
    "start_time": "2022-05-22T09:01:13.535Z"
   },
   {
    "duration": 25,
    "start_time": "2022-05-22T09:01:13.557Z"
   },
   {
    "duration": 10,
    "start_time": "2022-05-22T09:01:13.584Z"
   },
   {
    "duration": 15,
    "start_time": "2022-05-22T09:01:13.596Z"
   },
   {
    "duration": 10,
    "start_time": "2022-05-22T09:01:13.613Z"
   },
   {
    "duration": 33,
    "start_time": "2022-05-22T09:01:13.624Z"
   },
   {
    "duration": 5,
    "start_time": "2022-05-22T09:01:13.659Z"
   },
   {
    "duration": 12,
    "start_time": "2022-05-22T09:01:13.666Z"
   },
   {
    "duration": 11,
    "start_time": "2022-05-22T09:01:13.680Z"
   },
   {
    "duration": 13,
    "start_time": "2022-05-22T09:01:13.693Z"
   },
   {
    "duration": 3,
    "start_time": "2022-05-22T09:01:13.708Z"
   },
   {
    "duration": 40,
    "start_time": "2022-05-22T09:01:13.713Z"
   },
   {
    "duration": 10,
    "start_time": "2022-05-22T09:01:13.755Z"
   },
   {
    "duration": 3,
    "start_time": "2022-05-22T09:01:13.767Z"
   },
   {
    "duration": 15,
    "start_time": "2022-05-22T09:01:13.772Z"
   },
   {
    "duration": 8,
    "start_time": "2022-05-22T09:01:13.789Z"
   },
   {
    "duration": 9,
    "start_time": "2022-05-22T09:01:13.799Z"
   },
   {
    "duration": 10,
    "start_time": "2022-05-22T09:01:13.810Z"
   },
   {
    "duration": 12,
    "start_time": "2022-05-22T09:01:13.822Z"
   },
   {
    "duration": 19,
    "start_time": "2022-05-22T09:01:13.835Z"
   },
   {
    "duration": 5,
    "start_time": "2022-05-22T09:01:13.856Z"
   },
   {
    "duration": 16,
    "start_time": "2022-05-22T09:01:13.863Z"
   },
   {
    "duration": 118,
    "start_time": "2022-05-22T09:01:13.881Z"
   },
   {
    "duration": 21,
    "start_time": "2022-05-22T09:01:14.001Z"
   },
   {
    "duration": 10,
    "start_time": "2022-05-22T09:01:14.023Z"
   },
   {
    "duration": 136,
    "start_time": "2022-05-22T09:01:14.051Z"
   },
   {
    "duration": 8195,
    "start_time": "2022-05-22T09:01:14.189Z"
   },
   {
    "duration": 1463,
    "start_time": "2022-05-22T09:01:22.385Z"
   },
   {
    "duration": 114,
    "start_time": "2022-05-22T09:01:23.850Z"
   },
   {
    "duration": 140,
    "start_time": "2022-05-22T09:01:23.965Z"
   },
   {
    "duration": 146,
    "start_time": "2022-05-22T09:01:24.107Z"
   },
   {
    "duration": 105,
    "start_time": "2022-05-22T09:01:24.255Z"
   },
   {
    "duration": 257,
    "start_time": "2022-05-22T09:01:24.364Z"
   },
   {
    "duration": 9,
    "start_time": "2022-05-22T09:01:24.623Z"
   },
   {
    "duration": 77,
    "start_time": "2022-05-22T09:01:24.634Z"
   },
   {
    "duration": 51,
    "start_time": "2022-05-22T09:01:24.712Z"
   },
   {
    "duration": 138,
    "start_time": "2022-05-22T09:01:24.765Z"
   },
   {
    "duration": 21,
    "start_time": "2022-05-22T09:01:24.905Z"
   },
   {
    "duration": 27,
    "start_time": "2022-05-22T09:01:24.928Z"
   },
   {
    "duration": 134,
    "start_time": "2022-05-22T09:01:24.956Z"
   },
   {
    "duration": 545808,
    "start_time": "2022-05-22T09:01:25.092Z"
   },
   {
    "duration": 1230,
    "start_time": "2022-05-22T09:10:30.901Z"
   },
   {
    "duration": 101,
    "start_time": "2022-05-22T09:10:32.133Z"
   },
   {
    "duration": 127,
    "start_time": "2022-05-22T09:10:32.236Z"
   },
   {
    "duration": 857,
    "start_time": "2022-05-22T09:10:32.369Z"
   },
   {
    "duration": 75,
    "start_time": "2022-05-22T09:10:33.228Z"
   },
   {
    "duration": 50,
    "start_time": "2022-05-22T09:10:33.305Z"
   },
   {
    "duration": 104,
    "start_time": "2022-05-22T09:10:33.357Z"
   },
   {
    "duration": 297,
    "start_time": "2022-05-22T09:10:33.464Z"
   },
   {
    "duration": 10,
    "start_time": "2022-05-22T09:10:33.762Z"
   },
   {
    "duration": 2293,
    "start_time": "2022-05-22T09:10:33.773Z"
   },
   {
    "duration": 189,
    "start_time": "2022-05-22T09:10:36.068Z"
   },
   {
    "duration": 5,
    "start_time": "2022-05-22T09:10:36.258Z"
   },
   {
    "duration": 8,
    "start_time": "2022-05-22T09:10:36.265Z"
   },
   {
    "duration": 5,
    "start_time": "2022-05-22T09:10:36.275Z"
   },
   {
    "duration": 18,
    "start_time": "2022-05-22T09:10:36.281Z"
   },
   {
    "duration": 6,
    "start_time": "2022-05-22T09:10:36.301Z"
   },
   {
    "duration": 3427,
    "start_time": "2022-05-22T09:10:36.309Z"
   },
   {
    "duration": 199,
    "start_time": "2022-05-22T09:10:39.738Z"
   },
   {
    "duration": 935,
    "start_time": "2022-05-22T09:10:39.939Z"
   },
   {
    "duration": 79,
    "start_time": "2022-05-22T09:10:40.876Z"
   },
   {
    "duration": 128,
    "start_time": "2022-05-22T09:10:40.956Z"
   },
   {
    "duration": 23,
    "start_time": "2022-05-22T09:10:41.087Z"
   },
   {
    "duration": 10,
    "start_time": "2022-05-22T09:10:41.112Z"
   },
   {
    "duration": 839,
    "start_time": "2022-05-22T09:10:41.124Z"
   },
   {
    "duration": 68,
    "start_time": "2022-05-22T09:10:41.965Z"
   },
   {
    "duration": 2455,
    "start_time": "2022-05-22T09:10:42.051Z"
   },
   {
    "duration": 198,
    "start_time": "2022-05-22T09:10:44.508Z"
   },
   {
    "duration": 18,
    "start_time": "2022-05-22T09:10:44.708Z"
   },
   {
    "duration": 1513,
    "start_time": "2022-05-22T09:10:44.728Z"
   },
   {
    "duration": 77,
    "start_time": "2022-05-22T09:10:46.243Z"
   },
   {
    "duration": 2092,
    "start_time": "2022-05-22T09:13:37.665Z"
   },
   {
    "duration": 103,
    "start_time": "2022-05-22T09:13:39.759Z"
   },
   {
    "duration": 120,
    "start_time": "2022-05-22T09:13:56.646Z"
   },
   {
    "duration": 76145,
    "start_time": "2022-05-22T09:14:25.915Z"
   },
   {
    "duration": 2090,
    "start_time": "2022-05-22T09:15:42.063Z"
   },
   {
    "duration": 105,
    "start_time": "2022-05-22T09:15:44.155Z"
   },
   {
    "duration": 126,
    "start_time": "2022-05-22T09:15:44.262Z"
   },
   {
    "duration": 2325,
    "start_time": "2022-05-22T09:16:08.800Z"
   },
   {
    "duration": 782,
    "start_time": "2022-05-22T09:16:11.128Z"
   },
   {
    "duration": 1344,
    "start_time": "2022-05-22T09:16:11.912Z"
   },
   {
    "duration": 8,
    "start_time": "2022-05-22T09:16:13.259Z"
   },
   {
    "duration": 9,
    "start_time": "2022-05-22T09:16:13.268Z"
   },
   {
    "duration": 45,
    "start_time": "2022-05-22T09:16:13.279Z"
   },
   {
    "duration": 18,
    "start_time": "2022-05-22T09:16:13.326Z"
   },
   {
    "duration": 17,
    "start_time": "2022-05-22T09:16:13.345Z"
   },
   {
    "duration": 12,
    "start_time": "2022-05-22T09:16:13.363Z"
   },
   {
    "duration": 13,
    "start_time": "2022-05-22T09:16:13.379Z"
   },
   {
    "duration": 8,
    "start_time": "2022-05-22T09:16:13.394Z"
   },
   {
    "duration": 23,
    "start_time": "2022-05-22T09:16:13.403Z"
   },
   {
    "duration": 169,
    "start_time": "2022-05-22T09:16:13.427Z"
   },
   {
    "duration": 3,
    "start_time": "2022-05-22T09:16:13.598Z"
   },
   {
    "duration": 33,
    "start_time": "2022-05-22T09:16:13.603Z"
   },
   {
    "duration": 61,
    "start_time": "2022-05-22T09:16:13.637Z"
   },
   {
    "duration": 3,
    "start_time": "2022-05-22T09:16:13.700Z"
   },
   {
    "duration": 6,
    "start_time": "2022-05-22T09:16:13.705Z"
   },
   {
    "duration": 5,
    "start_time": "2022-05-22T09:16:13.713Z"
   },
   {
    "duration": 13,
    "start_time": "2022-05-22T09:16:13.720Z"
   },
   {
    "duration": 4,
    "start_time": "2022-05-22T09:16:13.751Z"
   },
   {
    "duration": 5,
    "start_time": "2022-05-22T09:16:13.757Z"
   },
   {
    "duration": 12,
    "start_time": "2022-05-22T09:16:13.764Z"
   },
   {
    "duration": 6,
    "start_time": "2022-05-22T09:16:13.778Z"
   },
   {
    "duration": 6,
    "start_time": "2022-05-22T09:16:13.786Z"
   },
   {
    "duration": 7,
    "start_time": "2022-05-22T09:16:13.794Z"
   },
   {
    "duration": 8,
    "start_time": "2022-05-22T09:16:13.802Z"
   },
   {
    "duration": 40,
    "start_time": "2022-05-22T09:16:13.814Z"
   },
   {
    "duration": 6,
    "start_time": "2022-05-22T09:16:13.856Z"
   },
   {
    "duration": 11,
    "start_time": "2022-05-22T09:16:13.864Z"
   },
   {
    "duration": 10,
    "start_time": "2022-05-22T09:16:13.877Z"
   },
   {
    "duration": 7,
    "start_time": "2022-05-22T09:16:13.889Z"
   },
   {
    "duration": 8,
    "start_time": "2022-05-22T09:16:13.897Z"
   },
   {
    "duration": 6,
    "start_time": "2022-05-22T09:16:13.907Z"
   },
   {
    "duration": 45,
    "start_time": "2022-05-22T09:16:13.914Z"
   },
   {
    "duration": 157,
    "start_time": "2022-05-22T09:16:13.960Z"
   },
   {
    "duration": 33,
    "start_time": "2022-05-22T09:16:14.119Z"
   },
   {
    "duration": 9,
    "start_time": "2022-05-22T09:16:14.154Z"
   },
   {
    "duration": 30,
    "start_time": "2022-05-22T09:16:14.165Z"
   },
   {
    "duration": 10,
    "start_time": "2022-05-22T09:16:14.198Z"
   },
   {
    "duration": 10,
    "start_time": "2022-05-22T09:16:14.210Z"
   },
   {
    "duration": 38,
    "start_time": "2022-05-22T09:16:14.222Z"
   },
   {
    "duration": 10,
    "start_time": "2022-05-22T09:16:14.262Z"
   },
   {
    "duration": 6,
    "start_time": "2022-05-22T09:16:14.273Z"
   },
   {
    "duration": 13,
    "start_time": "2022-05-22T09:16:14.281Z"
   },
   {
    "duration": 11,
    "start_time": "2022-05-22T09:16:14.296Z"
   },
   {
    "duration": 43,
    "start_time": "2022-05-22T09:16:14.309Z"
   },
   {
    "duration": 2,
    "start_time": "2022-05-22T09:16:14.354Z"
   },
   {
    "duration": 6,
    "start_time": "2022-05-22T09:16:14.358Z"
   },
   {
    "duration": 8,
    "start_time": "2022-05-22T09:16:14.366Z"
   },
   {
    "duration": 4,
    "start_time": "2022-05-22T09:16:14.376Z"
   },
   {
    "duration": 12,
    "start_time": "2022-05-22T09:16:14.381Z"
   },
   {
    "duration": 7,
    "start_time": "2022-05-22T09:16:14.394Z"
   },
   {
    "duration": 5,
    "start_time": "2022-05-22T09:16:14.403Z"
   },
   {
    "duration": 8,
    "start_time": "2022-05-22T09:16:14.410Z"
   },
   {
    "duration": 36,
    "start_time": "2022-05-22T09:16:14.419Z"
   },
   {
    "duration": 8,
    "start_time": "2022-05-22T09:16:14.457Z"
   },
   {
    "duration": 7,
    "start_time": "2022-05-22T09:16:14.466Z"
   },
   {
    "duration": 6,
    "start_time": "2022-05-22T09:16:14.475Z"
   },
   {
    "duration": 127,
    "start_time": "2022-05-22T09:16:14.483Z"
   },
   {
    "duration": 20,
    "start_time": "2022-05-22T09:16:14.612Z"
   },
   {
    "duration": 26,
    "start_time": "2022-05-22T09:16:14.634Z"
   },
   {
    "duration": 133,
    "start_time": "2022-05-22T09:16:14.661Z"
   },
   {
    "duration": 8683,
    "start_time": "2022-05-22T09:16:14.796Z"
   },
   {
    "duration": 1724,
    "start_time": "2022-05-22T09:16:23.481Z"
   },
   {
    "duration": 131,
    "start_time": "2022-05-22T09:16:25.206Z"
   },
   {
    "duration": 184,
    "start_time": "2022-05-22T09:16:25.339Z"
   },
   {
    "duration": 128,
    "start_time": "2022-05-22T09:16:25.525Z"
   },
   {
    "duration": 102,
    "start_time": "2022-05-22T09:16:25.658Z"
   },
   {
    "duration": 126,
    "start_time": "2022-05-22T09:16:25.851Z"
   },
   {
    "duration": 9,
    "start_time": "2022-05-22T09:16:25.979Z"
   },
   {
    "duration": 170,
    "start_time": "2022-05-22T09:16:25.989Z"
   },
   {
    "duration": 36,
    "start_time": "2022-05-22T09:16:26.161Z"
   },
   {
    "duration": 133,
    "start_time": "2022-05-22T09:16:26.199Z"
   },
   {
    "duration": 29,
    "start_time": "2022-05-22T09:16:26.334Z"
   },
   {
    "duration": 10,
    "start_time": "2022-05-22T09:16:26.364Z"
   },
   {
    "duration": 135,
    "start_time": "2022-05-22T09:16:26.375Z"
   },
   {
    "duration": 43954,
    "start_time": "2022-05-22T09:17:11.939Z"
   },
   {
    "duration": 1214,
    "start_time": "2022-05-22T09:17:55.895Z"
   },
   {
    "duration": 97,
    "start_time": "2022-05-22T09:17:57.111Z"
   },
   {
    "duration": 136,
    "start_time": "2022-05-22T09:17:57.210Z"
   },
   {
    "duration": 832,
    "start_time": "2022-05-22T09:22:16.057Z"
   },
   {
    "duration": 67,
    "start_time": "2022-05-22T09:22:18.057Z"
   },
   {
    "duration": 24,
    "start_time": "2022-05-22T09:22:34.389Z"
   },
   {
    "duration": 11,
    "start_time": "2022-05-22T09:22:34.912Z"
   },
   {
    "duration": 123,
    "start_time": "2022-05-22T09:22:35.966Z"
   },
   {
    "duration": 11,
    "start_time": "2022-05-22T09:22:44.256Z"
   },
   {
    "duration": 2155,
    "start_time": "2022-05-22T09:23:06.157Z"
   },
   {
    "duration": 165,
    "start_time": "2022-05-22T09:23:09.195Z"
   },
   {
    "duration": 1188,
    "start_time": "2022-05-22T09:23:22.848Z"
   },
   {
    "duration": 91,
    "start_time": "2022-05-22T09:23:25.697Z"
   },
   {
    "duration": 6,
    "start_time": "2022-05-22T09:23:47.854Z"
   },
   {
    "duration": 4,
    "start_time": "2022-05-22T09:23:48.323Z"
   },
   {
    "duration": 4,
    "start_time": "2022-05-22T09:23:49.363Z"
   },
   {
    "duration": 12,
    "start_time": "2022-05-22T09:23:49.897Z"
   },
   {
    "duration": 6,
    "start_time": "2022-05-22T09:23:50.459Z"
   },
   {
    "duration": 3290,
    "start_time": "2022-05-22T09:23:51.646Z"
   },
   {
    "duration": 1588,
    "start_time": "2022-05-22T09:24:01.527Z"
   },
   {
    "duration": 94,
    "start_time": "2022-05-22T09:24:04.745Z"
   },
   {
    "duration": 1140,
    "start_time": "2022-05-22T09:24:18.658Z"
   },
   {
    "duration": 90,
    "start_time": "2022-05-22T09:24:26.216Z"
   },
   {
    "duration": 118,
    "start_time": "2022-05-22T09:24:28.780Z"
   },
   {
    "duration": 26,
    "start_time": "2022-05-22T09:25:05.322Z"
   },
   {
    "duration": 10,
    "start_time": "2022-05-22T09:25:06.388Z"
   },
   {
    "duration": 801,
    "start_time": "2022-05-22T09:25:17.202Z"
   },
   {
    "duration": 65,
    "start_time": "2022-05-22T09:25:38.552Z"
   },
   {
    "duration": 2371,
    "start_time": "2022-05-22T09:26:21.177Z"
   },
   {
    "duration": 193,
    "start_time": "2022-05-22T09:26:24.061Z"
   },
   {
    "duration": 15,
    "start_time": "2022-05-22T09:27:17.800Z"
   },
   {
    "duration": 1396,
    "start_time": "2022-05-22T09:27:22.385Z"
   },
   {
    "duration": 69,
    "start_time": "2022-05-22T09:27:24.812Z"
   },
   {
    "duration": 2005,
    "start_time": "2022-05-22T09:28:16.988Z"
   },
   {
    "duration": 101,
    "start_time": "2022-05-22T09:28:23.625Z"
   },
   {
    "duration": 4205,
    "start_time": "2022-05-22T09:29:02.761Z"
   },
   {
    "duration": 188,
    "start_time": "2022-05-22T09:29:09.187Z"
   },
   {
    "duration": 3527,
    "start_time": "2022-05-22T23:35:13.419Z"
   },
   {
    "duration": 939,
    "start_time": "2022-05-22T23:35:16.948Z"
   },
   {
    "duration": 1468,
    "start_time": "2022-05-22T23:35:17.889Z"
   },
   {
    "duration": 1465,
    "start_time": "2022-05-22T23:35:19.360Z"
   },
   {
    "duration": 3,
    "start_time": "2022-05-22T23:35:20.826Z"
   },
   {
    "duration": 72,
    "start_time": "2022-05-22T23:35:20.830Z"
   },
   {
    "duration": 16,
    "start_time": "2022-05-22T23:35:20.904Z"
   },
   {
    "duration": 10,
    "start_time": "2022-05-22T23:35:20.921Z"
   },
   {
    "duration": 10,
    "start_time": "2022-05-22T23:35:20.932Z"
   },
   {
    "duration": 9,
    "start_time": "2022-05-22T23:35:20.945Z"
   },
   {
    "duration": 10,
    "start_time": "2022-05-22T23:35:20.955Z"
   },
   {
    "duration": 15,
    "start_time": "2022-05-22T23:35:20.966Z"
   },
   {
    "duration": 135,
    "start_time": "2022-05-22T23:35:20.982Z"
   },
   {
    "duration": 10,
    "start_time": "2022-05-22T23:35:21.118Z"
   },
   {
    "duration": 25,
    "start_time": "2022-05-22T23:35:21.129Z"
   },
   {
    "duration": 39,
    "start_time": "2022-05-22T23:35:21.155Z"
   },
   {
    "duration": 3,
    "start_time": "2022-05-22T23:35:21.196Z"
   },
   {
    "duration": 27,
    "start_time": "2022-05-22T23:35:21.201Z"
   },
   {
    "duration": 6,
    "start_time": "2022-05-22T23:35:21.229Z"
   },
   {
    "duration": 12,
    "start_time": "2022-05-22T23:35:21.237Z"
   },
   {
    "duration": 2,
    "start_time": "2022-05-22T23:35:21.251Z"
   },
   {
    "duration": 14,
    "start_time": "2022-05-22T23:35:21.254Z"
   },
   {
    "duration": 9,
    "start_time": "2022-05-22T23:35:21.270Z"
   },
   {
    "duration": 6,
    "start_time": "2022-05-22T23:35:21.280Z"
   },
   {
    "duration": 10,
    "start_time": "2022-05-22T23:35:21.288Z"
   },
   {
    "duration": 29,
    "start_time": "2022-05-22T23:35:21.299Z"
   },
   {
    "duration": 5,
    "start_time": "2022-05-22T23:35:21.329Z"
   },
   {
    "duration": 5,
    "start_time": "2022-05-22T23:35:21.338Z"
   },
   {
    "duration": 4,
    "start_time": "2022-05-22T23:35:21.344Z"
   },
   {
    "duration": 9,
    "start_time": "2022-05-22T23:35:21.350Z"
   },
   {
    "duration": 9,
    "start_time": "2022-05-22T23:35:21.360Z"
   },
   {
    "duration": 6,
    "start_time": "2022-05-22T23:35:21.371Z"
   },
   {
    "duration": 11,
    "start_time": "2022-05-22T23:35:21.379Z"
   },
   {
    "duration": 37,
    "start_time": "2022-05-22T23:35:21.391Z"
   },
   {
    "duration": 5,
    "start_time": "2022-05-22T23:35:21.430Z"
   },
   {
    "duration": 133,
    "start_time": "2022-05-22T23:35:21.437Z"
   },
   {
    "duration": 15,
    "start_time": "2022-05-22T23:35:21.572Z"
   },
   {
    "duration": 6,
    "start_time": "2022-05-22T23:35:21.588Z"
   },
   {
    "duration": 46,
    "start_time": "2022-05-22T23:35:21.595Z"
   },
   {
    "duration": 10,
    "start_time": "2022-05-22T23:35:21.642Z"
   },
   {
    "duration": 9,
    "start_time": "2022-05-22T23:35:21.653Z"
   },
   {
    "duration": 9,
    "start_time": "2022-05-22T23:35:21.664Z"
   },
   {
    "duration": 12,
    "start_time": "2022-05-22T23:35:21.674Z"
   },
   {
    "duration": 5,
    "start_time": "2022-05-22T23:35:21.687Z"
   },
   {
    "duration": 37,
    "start_time": "2022-05-22T23:35:21.694Z"
   },
   {
    "duration": 11,
    "start_time": "2022-05-22T23:35:21.733Z"
   },
   {
    "duration": 13,
    "start_time": "2022-05-22T23:35:21.746Z"
   },
   {
    "duration": 3,
    "start_time": "2022-05-22T23:35:21.760Z"
   },
   {
    "duration": 4,
    "start_time": "2022-05-22T23:35:21.765Z"
   },
   {
    "duration": 8,
    "start_time": "2022-05-22T23:35:21.771Z"
   },
   {
    "duration": 6,
    "start_time": "2022-05-22T23:35:21.780Z"
   },
   {
    "duration": 45,
    "start_time": "2022-05-22T23:35:21.788Z"
   },
   {
    "duration": 6,
    "start_time": "2022-05-22T23:35:21.835Z"
   },
   {
    "duration": 8,
    "start_time": "2022-05-22T23:35:21.842Z"
   },
   {
    "duration": 6,
    "start_time": "2022-05-22T23:35:21.852Z"
   },
   {
    "duration": 4,
    "start_time": "2022-05-22T23:35:21.860Z"
   },
   {
    "duration": 5,
    "start_time": "2022-05-22T23:35:21.866Z"
   },
   {
    "duration": 7,
    "start_time": "2022-05-22T23:35:21.873Z"
   },
   {
    "duration": 5,
    "start_time": "2022-05-22T23:35:21.882Z"
   },
   {
    "duration": 149,
    "start_time": "2022-05-22T23:35:21.888Z"
   },
   {
    "duration": 0,
    "start_time": "2022-05-22T23:35:22.040Z"
   },
   {
    "duration": 0,
    "start_time": "2022-05-22T23:35:22.041Z"
   },
   {
    "duration": 0,
    "start_time": "2022-05-22T23:35:22.042Z"
   },
   {
    "duration": 0,
    "start_time": "2022-05-22T23:35:22.043Z"
   },
   {
    "duration": 0,
    "start_time": "2022-05-22T23:35:22.044Z"
   },
   {
    "duration": 0,
    "start_time": "2022-05-22T23:35:22.045Z"
   },
   {
    "duration": 0,
    "start_time": "2022-05-22T23:35:22.046Z"
   },
   {
    "duration": 0,
    "start_time": "2022-05-22T23:35:22.047Z"
   },
   {
    "duration": 0,
    "start_time": "2022-05-22T23:35:22.048Z"
   },
   {
    "duration": 0,
    "start_time": "2022-05-22T23:35:22.049Z"
   },
   {
    "duration": 0,
    "start_time": "2022-05-22T23:35:22.050Z"
   },
   {
    "duration": 0,
    "start_time": "2022-05-22T23:35:22.051Z"
   },
   {
    "duration": 0,
    "start_time": "2022-05-22T23:35:22.052Z"
   },
   {
    "duration": 0,
    "start_time": "2022-05-22T23:35:22.053Z"
   },
   {
    "duration": 0,
    "start_time": "2022-05-22T23:35:22.054Z"
   },
   {
    "duration": 0,
    "start_time": "2022-05-22T23:35:22.055Z"
   },
   {
    "duration": 0,
    "start_time": "2022-05-22T23:35:22.056Z"
   },
   {
    "duration": 0,
    "start_time": "2022-05-22T23:35:22.057Z"
   },
   {
    "duration": 0,
    "start_time": "2022-05-22T23:35:22.058Z"
   },
   {
    "duration": 0,
    "start_time": "2022-05-22T23:35:22.059Z"
   },
   {
    "duration": 0,
    "start_time": "2022-05-22T23:35:22.060Z"
   },
   {
    "duration": 0,
    "start_time": "2022-05-22T23:35:22.062Z"
   },
   {
    "duration": 0,
    "start_time": "2022-05-22T23:35:22.063Z"
   },
   {
    "duration": 0,
    "start_time": "2022-05-22T23:35:22.064Z"
   },
   {
    "duration": 0,
    "start_time": "2022-05-22T23:35:22.065Z"
   },
   {
    "duration": 0,
    "start_time": "2022-05-22T23:35:22.066Z"
   },
   {
    "duration": 0,
    "start_time": "2022-05-22T23:35:22.067Z"
   },
   {
    "duration": 0,
    "start_time": "2022-05-22T23:35:22.068Z"
   },
   {
    "duration": 0,
    "start_time": "2022-05-22T23:35:22.070Z"
   },
   {
    "duration": 0,
    "start_time": "2022-05-22T23:35:22.071Z"
   },
   {
    "duration": 0,
    "start_time": "2022-05-22T23:35:22.072Z"
   },
   {
    "duration": 0,
    "start_time": "2022-05-22T23:35:22.073Z"
   },
   {
    "duration": 0,
    "start_time": "2022-05-22T23:35:22.128Z"
   },
   {
    "duration": 0,
    "start_time": "2022-05-22T23:35:22.130Z"
   },
   {
    "duration": 0,
    "start_time": "2022-05-22T23:35:22.131Z"
   },
   {
    "duration": 0,
    "start_time": "2022-05-22T23:35:22.132Z"
   },
   {
    "duration": 0,
    "start_time": "2022-05-22T23:35:22.133Z"
   },
   {
    "duration": 0,
    "start_time": "2022-05-22T23:35:22.134Z"
   },
   {
    "duration": 0,
    "start_time": "2022-05-22T23:35:22.135Z"
   },
   {
    "duration": 0,
    "start_time": "2022-05-22T23:35:22.136Z"
   },
   {
    "duration": 0,
    "start_time": "2022-05-22T23:35:22.138Z"
   },
   {
    "duration": 0,
    "start_time": "2022-05-22T23:35:22.139Z"
   },
   {
    "duration": 0,
    "start_time": "2022-05-22T23:35:22.141Z"
   },
   {
    "duration": 0,
    "start_time": "2022-05-22T23:35:22.142Z"
   },
   {
    "duration": 0,
    "start_time": "2022-05-22T23:35:22.143Z"
   },
   {
    "duration": 0,
    "start_time": "2022-05-22T23:35:22.144Z"
   },
   {
    "duration": 0,
    "start_time": "2022-05-22T23:35:22.145Z"
   },
   {
    "duration": 0,
    "start_time": "2022-05-22T23:35:22.146Z"
   },
   {
    "duration": 0,
    "start_time": "2022-05-22T23:35:22.147Z"
   },
   {
    "duration": 0,
    "start_time": "2022-05-22T23:35:22.148Z"
   },
   {
    "duration": 0,
    "start_time": "2022-05-22T23:35:22.149Z"
   },
   {
    "duration": 0,
    "start_time": "2022-05-22T23:35:22.150Z"
   },
   {
    "duration": 2155,
    "start_time": "2022-05-22T23:36:31.588Z"
   },
   {
    "duration": 928,
    "start_time": "2022-05-22T23:36:33.745Z"
   },
   {
    "duration": 1457,
    "start_time": "2022-05-22T23:36:34.675Z"
   },
   {
    "duration": 1267,
    "start_time": "2022-05-22T23:36:36.134Z"
   },
   {
    "duration": 3,
    "start_time": "2022-05-22T23:36:37.403Z"
   },
   {
    "duration": 43,
    "start_time": "2022-05-22T23:36:37.407Z"
   },
   {
    "duration": 16,
    "start_time": "2022-05-22T23:36:37.451Z"
   },
   {
    "duration": 9,
    "start_time": "2022-05-22T23:36:37.469Z"
   },
   {
    "duration": 9,
    "start_time": "2022-05-22T23:36:37.480Z"
   },
   {
    "duration": 9,
    "start_time": "2022-05-22T23:36:37.491Z"
   },
   {
    "duration": 30,
    "start_time": "2022-05-22T23:36:37.501Z"
   },
   {
    "duration": 7,
    "start_time": "2022-05-22T23:36:37.532Z"
   },
   {
    "duration": 124,
    "start_time": "2022-05-22T23:36:37.541Z"
   },
   {
    "duration": 2,
    "start_time": "2022-05-22T23:36:37.667Z"
   },
   {
    "duration": 20,
    "start_time": "2022-05-22T23:36:37.671Z"
   },
   {
    "duration": 55,
    "start_time": "2022-05-22T23:36:37.693Z"
   },
   {
    "duration": 3,
    "start_time": "2022-05-22T23:36:37.750Z"
   },
   {
    "duration": 6,
    "start_time": "2022-05-22T23:36:37.755Z"
   },
   {
    "duration": 8,
    "start_time": "2022-05-22T23:36:37.762Z"
   },
   {
    "duration": 11,
    "start_time": "2022-05-22T23:36:37.771Z"
   },
   {
    "duration": 2,
    "start_time": "2022-05-22T23:36:37.784Z"
   },
   {
    "duration": 8,
    "start_time": "2022-05-22T23:36:37.787Z"
   },
   {
    "duration": 7,
    "start_time": "2022-05-22T23:36:37.797Z"
   },
   {
    "duration": 22,
    "start_time": "2022-05-22T23:36:37.806Z"
   },
   {
    "duration": 8,
    "start_time": "2022-05-22T23:36:37.829Z"
   },
   {
    "duration": 5,
    "start_time": "2022-05-22T23:36:37.839Z"
   },
   {
    "duration": 6,
    "start_time": "2022-05-22T23:36:37.845Z"
   },
   {
    "duration": 12,
    "start_time": "2022-05-22T23:36:37.855Z"
   },
   {
    "duration": 6,
    "start_time": "2022-05-22T23:36:37.868Z"
   },
   {
    "duration": 14,
    "start_time": "2022-05-22T23:36:37.875Z"
   },
   {
    "duration": 6,
    "start_time": "2022-05-22T23:36:37.891Z"
   },
   {
    "duration": 31,
    "start_time": "2022-05-22T23:36:37.899Z"
   },
   {
    "duration": 7,
    "start_time": "2022-05-22T23:36:37.931Z"
   },
   {
    "duration": 6,
    "start_time": "2022-05-22T23:36:37.940Z"
   },
   {
    "duration": 9,
    "start_time": "2022-05-22T23:36:37.948Z"
   },
   {
    "duration": 137,
    "start_time": "2022-05-22T23:36:37.959Z"
   },
   {
    "duration": 15,
    "start_time": "2022-05-22T23:36:38.097Z"
   },
   {
    "duration": 17,
    "start_time": "2022-05-22T23:36:38.113Z"
   },
   {
    "duration": 23,
    "start_time": "2022-05-22T23:36:38.131Z"
   },
   {
    "duration": 8,
    "start_time": "2022-05-22T23:36:38.155Z"
   },
   {
    "duration": 8,
    "start_time": "2022-05-22T23:36:38.165Z"
   },
   {
    "duration": 9,
    "start_time": "2022-05-22T23:36:38.174Z"
   },
   {
    "duration": 8,
    "start_time": "2022-05-22T23:36:38.184Z"
   },
   {
    "duration": 36,
    "start_time": "2022-05-22T23:36:38.194Z"
   },
   {
    "duration": 11,
    "start_time": "2022-05-22T23:36:38.232Z"
   },
   {
    "duration": 9,
    "start_time": "2022-05-22T23:36:38.245Z"
   },
   {
    "duration": 12,
    "start_time": "2022-05-22T23:36:38.255Z"
   },
   {
    "duration": 3,
    "start_time": "2022-05-22T23:36:38.268Z"
   },
   {
    "duration": 6,
    "start_time": "2022-05-22T23:36:38.272Z"
   },
   {
    "duration": 14,
    "start_time": "2022-05-22T23:36:38.280Z"
   },
   {
    "duration": 3,
    "start_time": "2022-05-22T23:36:38.296Z"
   },
   {
    "duration": 32,
    "start_time": "2022-05-22T23:36:38.300Z"
   },
   {
    "duration": 6,
    "start_time": "2022-05-22T23:36:38.334Z"
   },
   {
    "duration": 4,
    "start_time": "2022-05-22T23:36:38.341Z"
   },
   {
    "duration": 8,
    "start_time": "2022-05-22T23:36:38.346Z"
   },
   {
    "duration": 7,
    "start_time": "2022-05-22T23:36:38.356Z"
   },
   {
    "duration": 6,
    "start_time": "2022-05-22T23:36:38.365Z"
   },
   {
    "duration": 7,
    "start_time": "2022-05-22T23:36:38.373Z"
   },
   {
    "duration": 6,
    "start_time": "2022-05-22T23:36:38.381Z"
   },
   {
    "duration": 124,
    "start_time": "2022-05-22T23:36:38.388Z"
   },
   {
    "duration": 23,
    "start_time": "2022-05-22T23:36:38.513Z"
   },
   {
    "duration": 7,
    "start_time": "2022-05-22T23:36:38.538Z"
   },
   {
    "duration": 119,
    "start_time": "2022-05-22T23:36:38.547Z"
   },
   {
    "duration": 7120,
    "start_time": "2022-05-22T23:36:38.667Z"
   },
   {
    "duration": 1337,
    "start_time": "2022-05-22T23:36:45.788Z"
   },
   {
    "duration": 102,
    "start_time": "2022-05-22T23:36:47.127Z"
   },
   {
    "duration": 128,
    "start_time": "2022-05-22T23:36:47.231Z"
   },
   {
    "duration": 68,
    "start_time": "2022-05-22T23:36:47.361Z"
   },
   {
    "duration": 103,
    "start_time": "2022-05-22T23:36:47.431Z"
   },
   {
    "duration": 265,
    "start_time": "2022-05-22T23:36:47.536Z"
   },
   {
    "duration": 9,
    "start_time": "2022-05-22T23:36:47.803Z"
   },
   {
    "duration": 60,
    "start_time": "2022-05-22T23:36:47.813Z"
   },
   {
    "duration": 27,
    "start_time": "2022-05-22T23:36:47.875Z"
   },
   {
    "duration": 130,
    "start_time": "2022-05-22T23:36:47.904Z"
   },
   {
    "duration": 17,
    "start_time": "2022-05-22T23:36:48.036Z"
   },
   {
    "duration": 8,
    "start_time": "2022-05-22T23:36:48.055Z"
   },
   {
    "duration": 122,
    "start_time": "2022-05-22T23:36:48.065Z"
   },
   {
    "duration": 38293,
    "start_time": "2022-05-22T23:36:48.189Z"
   },
   {
    "duration": 1073,
    "start_time": "2022-05-22T23:37:26.484Z"
   },
   {
    "duration": 84,
    "start_time": "2022-05-22T23:37:27.559Z"
   },
   {
    "duration": 111,
    "start_time": "2022-05-22T23:37:27.645Z"
   },
   {
    "duration": 745,
    "start_time": "2022-05-22T23:37:27.762Z"
   },
   {
    "duration": 69,
    "start_time": "2022-05-22T23:37:28.509Z"
   },
   {
    "duration": 50,
    "start_time": "2022-05-22T23:37:28.579Z"
   },
   {
    "duration": 196,
    "start_time": "2022-05-22T23:37:28.631Z"
   },
   {
    "duration": 149,
    "start_time": "2022-05-22T23:37:28.830Z"
   },
   {
    "duration": 8,
    "start_time": "2022-05-22T23:37:28.981Z"
   },
   {
    "duration": 1117,
    "start_time": "2022-05-22T23:37:28.991Z"
   },
   {
    "duration": 84,
    "start_time": "2022-05-22T23:37:30.110Z"
   },
   {
    "duration": 5,
    "start_time": "2022-05-22T23:37:30.196Z"
   },
   {
    "duration": 16,
    "start_time": "2022-05-22T23:37:30.203Z"
   },
   {
    "duration": 18,
    "start_time": "2022-05-22T23:37:30.220Z"
   },
   {
    "duration": 31,
    "start_time": "2022-05-22T23:37:30.239Z"
   },
   {
    "duration": 9,
    "start_time": "2022-05-22T23:37:30.271Z"
   },
   {
    "duration": 1450,
    "start_time": "2022-05-22T23:37:30.281Z"
   },
   {
    "duration": 83,
    "start_time": "2022-05-22T23:37:31.732Z"
   },
   {
    "duration": 1083,
    "start_time": "2022-05-22T23:37:31.826Z"
   },
   {
    "duration": 88,
    "start_time": "2022-05-22T23:37:32.911Z"
   },
   {
    "duration": 117,
    "start_time": "2022-05-22T23:37:33.001Z"
   },
   {
    "duration": 21,
    "start_time": "2022-05-22T23:37:33.126Z"
   },
   {
    "duration": 9,
    "start_time": "2022-05-22T23:37:33.148Z"
   },
   {
    "duration": 774,
    "start_time": "2022-05-22T23:37:33.159Z"
   },
   {
    "duration": 57,
    "start_time": "2022-05-22T23:37:33.934Z"
   },
   {
    "duration": 2189,
    "start_time": "2022-05-22T23:37:33.993Z"
   },
   {
    "duration": 195,
    "start_time": "2022-05-22T23:37:36.184Z"
   },
   {
    "duration": 19,
    "start_time": "2022-05-22T23:37:36.382Z"
   },
   {
    "duration": 1302,
    "start_time": "2022-05-22T23:37:36.402Z"
   },
   {
    "duration": 65,
    "start_time": "2022-05-22T23:37:37.706Z"
   },
   {
    "duration": 1870,
    "start_time": "2022-05-22T23:37:37.772Z"
   },
   {
    "duration": 94,
    "start_time": "2022-05-22T23:37:39.644Z"
   },
   {
    "duration": 3964,
    "start_time": "2022-05-22T23:37:39.740Z"
   },
   {
    "duration": 219,
    "start_time": "2022-05-22T23:37:43.705Z"
   }
  ],
  "kernelspec": {
   "display_name": "Python 3 (ipykernel)",
   "language": "python",
   "name": "python3"
  },
  "language_info": {
   "codemirror_mode": {
    "name": "ipython",
    "version": 3
   },
   "file_extension": ".py",
   "mimetype": "text/x-python",
   "name": "python",
   "nbconvert_exporter": "python",
   "pygments_lexer": "ipython3",
   "version": "3.9.5"
  },
  "toc": {
   "base_numbering": 1,
   "nav_menu": {},
   "number_sections": true,
   "sideBar": true,
   "skip_h1_title": true,
   "title_cell": "Содержание",
   "title_sidebar": "Contents",
   "toc_cell": true,
   "toc_position": {
    "height": "calc(100% - 180px)",
    "left": "10px",
    "top": "150px",
    "width": "165px"
   },
   "toc_section_display": true,
   "toc_window_display": true
  }
 },
 "nbformat": 4,
 "nbformat_minor": 2
}
